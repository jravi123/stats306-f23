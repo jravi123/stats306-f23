{
 "cells": [
  {
   "cell_type": "code",
   "execution_count": null,
   "metadata": {
    "colab": {
     "base_uri": "https://localhost:8080/"
    },
    "deletable": false,
    "editable": false,
    "id": "S5VHbNdgGJiu",
    "nbgrader": {
     "grade": false,
     "grade_id": "cell-1be04a157d86c84b",
     "locked": true,
     "schema_version": 3,
     "solution": false
    },
    "outputId": "b85454f8-0ae1-44c0-ce11-4a1923762f17",
    "slideshow": {
     "slide_type": ""
    },
    "tags": []
   },
   "outputs": [
    {
     "name": "stderr",
     "output_type": "stream",
     "text": [
      "── \u001b[1mAttaching core tidyverse packages\u001b[22m ──────────────────────── tidyverse 2.0.0 ──\n",
      "\u001b[32m✔\u001b[39m \u001b[34mdplyr    \u001b[39m 1.1.3     \u001b[32m✔\u001b[39m \u001b[34mreadr    \u001b[39m 2.1.4\n",
      "\u001b[32m✔\u001b[39m \u001b[34mforcats  \u001b[39m 1.0.0     \u001b[32m✔\u001b[39m \u001b[34mstringr  \u001b[39m 1.5.0\n",
      "\u001b[32m✔\u001b[39m \u001b[34mggplot2  \u001b[39m 3.4.3     \u001b[32m✔\u001b[39m \u001b[34mtibble   \u001b[39m 3.2.1\n",
      "\u001b[32m✔\u001b[39m \u001b[34mlubridate\u001b[39m 1.9.2     \u001b[32m✔\u001b[39m \u001b[34mtidyr    \u001b[39m 1.3.0\n",
      "\u001b[32m✔\u001b[39m \u001b[34mpurrr    \u001b[39m 1.0.2     \n",
      "── \u001b[1mConflicts\u001b[22m ────────────────────────────────────────── tidyverse_conflicts() ──\n",
      "\u001b[31m✖\u001b[39m \u001b[34mdplyr\u001b[39m::\u001b[32mfilter()\u001b[39m masks \u001b[34mstats\u001b[39m::filter()\n",
      "\u001b[31m✖\u001b[39m \u001b[34mdplyr\u001b[39m::\u001b[32mlag()\u001b[39m    masks \u001b[34mstats\u001b[39m::lag()\n",
      "\u001b[36mℹ\u001b[39m Use the conflicted package (\u001b[3m\u001b[34m<http://conflicted.r-lib.org/>\u001b[39m\u001b[23m) to force all conflicts to become errors\n",
      "Installing package into ‘/usr/local/lib/R/site-library’\n",
      "(as ‘lib’ is unspecified)\n",
      "\n",
      "\n",
      "Attaching package: ‘maps’\n",
      "\n",
      "\n",
      "The following object is masked from ‘package:purrr’:\n",
      "\n",
      "    map\n",
      "\n",
      "\n"
     ]
    }
   ],
   "source": [
    "library(tidyverse)\n",
    "\n",
    "install.packages(\"maps\")\n",
    "library(maps)\n",
    "\n",
    "options(repr.plot.width=5, repr.plot.height=4)"
   ]
  },
  {
   "cell_type": "markdown",
   "metadata": {
    "deletable": false,
    "editable": false,
    "id": "hJ__z-FVGJiw",
    "nbgrader": {
     "grade": false,
     "grade_id": "cell-281caadd66986182",
     "locked": true,
     "schema_version": 3,
     "solution": false
    }
   },
   "source": [
    "# STATS 306\n",
    "## Homework 5: Exploratory Data Analysis, Relational Data and SQL\n",
    "\n",
    "For each problem, enter the R code in the cell marked \"YOUR SOLUTION HERE\". All of the problems in this problem set use the `nycflights13` data:\n",
    "\n",
    "This package provides the following data tables.\n",
    "\n",
    "* `?flights`: all flights that departed from NYC in 2013\n",
    "* `?weather`: hourly meterological data for each airport\n",
    "* `?planes`: construction information about each plane\n",
    "* `?airports`: airport names and locations\n",
    "* `?airlines`: translation between two letter carrier codes and names"
   ]
  },
  {
   "cell_type": "code",
   "execution_count": null,
   "metadata": {
    "colab": {
     "base_uri": "https://localhost:8080/"
    },
    "deletable": false,
    "editable": false,
    "id": "IpLd41O2GJix",
    "outputId": "cc8a9b0a-9842-4e82-c845-f79d935b9439"
   },
   "outputs": [
    {
     "name": "stderr",
     "output_type": "stream",
     "text": [
      "Installing package into ‘/usr/local/lib/R/site-library’\n",
      "(as ‘lib’ is unspecified)\n",
      "\n"
     ]
    }
   ],
   "source": [
    "install.packages(\"nycflights13\")\n",
    "library(nycflights13)"
   ]
  },
  {
   "cell_type": "markdown",
   "metadata": {
    "id": "sIQqmlnQIJuf"
   },
   "source": [
    "## Problem 1: Exploratory Data Analysis on the `Flights` Data (4.5 points)\n",
    "\n",
    "For this question, there can be multiple correct answers."
   ]
  },
  {
   "cell_type": "markdown",
   "metadata": {
    "id": "X7jqSZ-BOJwv"
   },
   "source": [
    "**(a)** Focus on the following airlines: American, Delta, JetBlue, US Airways and United, and consider only non-cancelled flights (i.e., `arr_delay` is not `NA`). For a given flight, its capacity is defined as the number of seats in the aircraft used for that flight. To make things simple, whenever a flight's capacity is unknown, we set it to 50.\n",
    "\n",
    "Your friend, Haerin, comes to you with a curious question: \"For each airline, do you know whether its total capacity in 2013 roughly uniformly distributed across all 12 months?\"\n",
    "\n",
    "As a STATS 306 student, please help Haerin by producing an appropriate plot. Make sure to use appropriate titles and axis labels. Explain why the plot you produced is appropriate. ***(1.5 points)***"
   ]
  },
  {
   "cell_type": "code",
   "execution_count": null,
   "metadata": {
    "id": "X7foR7K0IGUg"
   },
   "outputs": [],
   "source": [
    "# YOUR SOLUTION HERE"
   ]
  },
  {
   "cell_type": "markdown",
   "metadata": {
    "editable": true,
    "id": "1kAWAp8qX3Zr",
    "slideshow": {
     "slide_type": ""
    },
    "tags": []
   },
   "source": [
    "**(b)** Haerin is impressed with your data wrangling and visualization skills. Wasting no time, she comes up with another question:\n",
    "\n",
    "\"According to Wikipedia, there are more Boeing 737 as compared to Airbus A320 and its variants (Airbus A318, A319 and A321). If I were to guess, this means that there are more Boeing 737 flights than Airbus A318, A319, A320 and A321 flights combined for each origin airport. Could you check whether my guess is correct?\"\n",
    "\n",
    "Produce a plot which answers Haerin's question. Make sure to use appropriate titles and axis labels. Explain how the plot you produced can answer Haerin's question. ***(1.5 points)***\n",
    "\n",
    "*(Note: for this question, include both cancelled and non-cancelled flights.)*\n",
    "\n"
   ]
  },
  {
   "cell_type": "code",
   "execution_count": null,
   "metadata": {
    "id": "_WlwBg0lIGil"
   },
   "outputs": [],
   "source": [
    "# YOUR SOLUTION HERE"
   ]
  },
  {
   "cell_type": "markdown",
   "metadata": {
    "id": "bQRtavy9gYO8"
   },
   "source": [
    "**(c)** Haerin asks one last question.\n",
    "\n",
    "\"Considering that the three origin airports, JFK, EWR and LGA, are in close proximity to each other, I would imagine that the temperatures in these airports should approximately be the same. Could you please check whether there are times **in January** at which there exist two airports whose temperatures differ by more than 10 degrees? By *time*, I am referring to a (`year`, `month`, `day`, `hour`) tuple.\"\n",
    "\n",
    "Produce a table which answers Haerin's question. How many such times (if any) are there? ***(1.5 points)***\n",
    "\n",
    "*(Note: for simplicity, exclude times with NAs in temperature for at least one airport.)*"
   ]
  },
  {
   "cell_type": "code",
   "execution_count": null,
   "metadata": {
    "id": "6uJTcsf4IGr9"
   },
   "outputs": [],
   "source": [
    "# YOUR SOLUTION HERE"
   ]
  },
  {
   "cell_type": "markdown",
   "metadata": {
    "id": "ujGCSnJfqc_t"
   },
   "source": [
    "## Problem 2: Writing SQL Queries (1.5 points)\n",
    "The following code (which may take a while to run) loads `nycflights13` into a SQLite database:"
   ]
  },
  {
   "cell_type": "code",
   "execution_count": null,
   "metadata": {
    "colab": {
     "base_uri": "https://localhost:8080/"
    },
    "editable": true,
    "id": "ZZ4LP287qbc1",
    "outputId": "de3fb087-93db-4af6-acbb-e71e6d781b63",
    "slideshow": {
     "slide_type": ""
    },
    "tags": []
   },
   "outputs": [
    {
     "name": "stderr",
     "output_type": "stream",
     "text": [
      "Installing package into ‘/usr/local/lib/R/site-library’\n",
      "(as ‘lib’ is unspecified)\n",
      "\n",
      "also installing the dependency ‘plogr’\n",
      "\n",
      "\n"
     ]
    }
   ],
   "source": [
    "# SQLite database\n",
    "install.packages('RSQLite')\n",
    "\n",
    "library(DBI)\n",
    "library(RSQLite)\n",
    "\n",
    "con <- dbConnect(SQLite(), \":memory:\")\n",
    "copy_to(con, flights, \"flights\")\n",
    "copy_to(con, airports, \"airports\")\n",
    "copy_to(con, airlines, \"airlines\")"
   ]
  },
  {
   "cell_type": "markdown",
   "metadata": {
    "id": "M5WDsrKWqwCD"
   },
   "source": [
    "For each question below, write an appropriate SQL query that produces the answer. For example, if the question was \"How many flights departed each month\", an appropriate answer would be:"
   ]
  },
  {
   "cell_type": "code",
   "execution_count": null,
   "metadata": {
    "colab": {
     "base_uri": "https://localhost:8080/",
     "height": 474
    },
    "id": "VXy4BBWHqbhR",
    "outputId": "fac04193-e770-42ba-d0b0-4abc7fd8ad50"
   },
   "outputs": [
    {
     "data": {
      "text/html": [
       "<table class=\"dataframe\">\n",
       "<caption>A data.frame: 12 × 2</caption>\n",
       "<thead>\n",
       "\t<tr><th scope=col>month</th><th scope=col>COUNT(month)</th></tr>\n",
       "\t<tr><th scope=col>&lt;int&gt;</th><th scope=col>&lt;int&gt;</th></tr>\n",
       "</thead>\n",
       "<tbody>\n",
       "\t<tr><td> 1</td><td>27004</td></tr>\n",
       "\t<tr><td> 2</td><td>24951</td></tr>\n",
       "\t<tr><td> 3</td><td>28834</td></tr>\n",
       "\t<tr><td> 4</td><td>28330</td></tr>\n",
       "\t<tr><td> 5</td><td>28796</td></tr>\n",
       "\t<tr><td> 6</td><td>28243</td></tr>\n",
       "\t<tr><td> 7</td><td>29425</td></tr>\n",
       "\t<tr><td> 8</td><td>29327</td></tr>\n",
       "\t<tr><td> 9</td><td>27574</td></tr>\n",
       "\t<tr><td>10</td><td>28889</td></tr>\n",
       "\t<tr><td>11</td><td>27268</td></tr>\n",
       "\t<tr><td>12</td><td>28135</td></tr>\n",
       "</tbody>\n",
       "</table>\n"
      ],
      "text/latex": [
       "A data.frame: 12 × 2\n",
       "\\begin{tabular}{ll}\n",
       " month & COUNT(month)\\\\\n",
       " <int> & <int>\\\\\n",
       "\\hline\n",
       "\t  1 & 27004\\\\\n",
       "\t  2 & 24951\\\\\n",
       "\t  3 & 28834\\\\\n",
       "\t  4 & 28330\\\\\n",
       "\t  5 & 28796\\\\\n",
       "\t  6 & 28243\\\\\n",
       "\t  7 & 29425\\\\\n",
       "\t  8 & 29327\\\\\n",
       "\t  9 & 27574\\\\\n",
       "\t 10 & 28889\\\\\n",
       "\t 11 & 27268\\\\\n",
       "\t 12 & 28135\\\\\n",
       "\\end{tabular}\n"
      ],
      "text/markdown": [
       "\n",
       "A data.frame: 12 × 2\n",
       "\n",
       "| month &lt;int&gt; | COUNT(month) &lt;int&gt; |\n",
       "|---|---|\n",
       "|  1 | 27004 |\n",
       "|  2 | 24951 |\n",
       "|  3 | 28834 |\n",
       "|  4 | 28330 |\n",
       "|  5 | 28796 |\n",
       "|  6 | 28243 |\n",
       "|  7 | 29425 |\n",
       "|  8 | 29327 |\n",
       "|  9 | 27574 |\n",
       "| 10 | 28889 |\n",
       "| 11 | 27268 |\n",
       "| 12 | 28135 |\n",
       "\n"
      ],
      "text/plain": [
       "   month COUNT(month)\n",
       "1   1    27004       \n",
       "2   2    24951       \n",
       "3   3    28834       \n",
       "4   4    28330       \n",
       "5   5    28796       \n",
       "6   6    28243       \n",
       "7   7    29425       \n",
       "8   8    29327       \n",
       "9   9    27574       \n",
       "10 10    28889       \n",
       "11 11    27268       \n",
       "12 12    28135       "
      ]
     },
     "metadata": {},
     "output_type": "display_data"
    }
   ],
   "source": [
    "dbGetQuery(con,\n",
    "           \"SELECT month, COUNT(month)\n",
    "           FROM flights\n",
    "           GROUP BY month\")"
   ]
  },
  {
   "cell_type": "markdown",
   "metadata": {
    "id": "C2N195N4q3fr"
   },
   "source": [
    "**Your answers should only use SQL -- no dplyr allowed!** (However, it is fine to use dplyr to check your answers.)"
   ]
  },
  {
   "cell_type": "markdown",
   "metadata": {
    "id": "1DPO78EHrbis"
   },
   "source": [
    "**(a)** Display all United routes with an average air time of more than 6 hours.\n",
    "\n",
    "Your table should have 3 columns: `origin`, `dest`, `avg_air_time`. ***(0.5 points)***"
   ]
  },
  {
   "cell_type": "code",
   "execution_count": null,
   "metadata": {
    "id": "JzaACm4Gqbnx"
   },
   "outputs": [],
   "source": [
    "# YOUR SOLUTION HERE"
   ]
  },
  {
   "cell_type": "markdown",
   "metadata": {
    "id": "NT0smVt_s4X2"
   },
   "source": [
    "**(b)** Display the proportions of non-cancelled flights (i.e., `arr_delay` is not `NA`) for each airline, rounded to 2 decimal places.\n",
    "\n",
    "Your table should have 2 columns: `carrier`, `prop_non_cancel`. Also, the rows should be arranged in descending order of `prop_non_cancel`. ***(0.5 points)***"
   ]
  },
  {
   "cell_type": "code",
   "execution_count": null,
   "metadata": {
    "id": "DG5IgF2Jhw7h"
   },
   "outputs": [],
   "source": [
    "# YOUR SOLUTION HERE"
   ]
  },
  {
   "cell_type": "markdown",
   "metadata": {
    "id": "CzBCKI6ouguC"
   },
   "source": [
    "**(c)** Display 3 days with the lowest average air time from JFK to LAX.\n",
    "\n",
    "Your table should have 4 columns: `year`, `month`, `day`, `avg_air_time`.\n",
    "***(0.5 points)***"
   ]
  },
  {
   "cell_type": "code",
   "execution_count": null,
   "metadata": {
    "id": "nsSxDLs0ugJS"
   },
   "outputs": [],
   "source": [
    "# YOUR SOLUTION HERE"
   ]
  },
  {
   "cell_type": "markdown",
   "metadata": {
    "id": "6cBtYji-lHnL"
   },
   "source": [
    "## Problem 3: Joins (4 points)"
   ]
  },
  {
   "cell_type": "markdown",
   "metadata": {
    "editable": true,
    "id": "FRx3s88llZaO",
    "slideshow": {
     "slide_type": ""
    },
    "tags": []
   },
   "source": [
    "You can use dplyr package for this problem\n",
    "\n",
    "(a) Compute the number of flights for each destination in the continental U.S. and save the output to a variable called `n_flights_per_dest`. This table should contain 4 columns: `dest`, `lat`, `lon`, and `n` (one row for each destination). How many rows does this table contain? \n",
    "\n",
    "Then, visualize this table on a map, as shown below. ***(2.5 points)***"
   ]
  },
  {
   "cell_type": "code",
   "execution_count": null,
   "metadata": {
    "colab": {
     "base_uri": "https://localhost:8080/",
     "height": 257
    },
    "id": "9h3IrZCebjce",
    "outputId": "2d81122b-925b-4f81-808d-d64aa7720b87"
   },
   "outputs": [
    {
     "data": {
      "image/png": "[encoded data removed]",
      "text/plain": [
       "plot without title"
      ]
     },
     "metadata": {
      "image/png": {
       "height": 240,
       "width": 300
      }
     },
     "output_type": "display_data"
    }
   ],
   "source": [
    "# YOUR SOLUTION HERE"
   ]
  },
  {
   "cell_type": "markdown",
   "metadata": {
    "id": "ZBVniyVH6EL8"
   },
   "source": [
    "(b) Join the `weather` and `flights` tables by `year`, `month` and `day`, keeping only rows in `weather` which can be matched to a row in the `flights` table. Name the new table `weather_combined`. Use `weather_combined` to plot the distribution of humidity for each origin airport.\n",
    "\n",
    "Explain if there is any variations in the distributions across origin airports. ***(1.5 points)***"
   ]
  },
  {
   "cell_type": "code",
   "execution_count": null,
   "metadata": {
    "id": "zg9ggXvn0ASr"
   },
   "outputs": [],
   "source": [
    "# YOUR SOLUTION HERE"
   ]
  }
 ],
 "metadata": {
  "celltoolbar": "Create Assignment",
  "colab": {
   "provenance": []
  },
  "kernelspec": {
   "display_name": "R",
   "language": "R",
   "name": "ir"
  },
  "language_info": {
   "codemirror_mode": "r",
   "file_extension": ".r",
   "mimetype": "text/x-r-source",
   "name": "R",
   "pygments_lexer": "r",
   "version": "4.3.1"
  }
 },
 "nbformat": 4,
 "nbformat_minor": 4
}
