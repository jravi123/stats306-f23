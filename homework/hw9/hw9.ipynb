{
  "nbformat": 4,
  "nbformat_minor": 0,
  "metadata": {
    "colab": {
      "provenance": []
    },
    "kernelspec": {
      "name": "ir",
      "display_name": "R"
    },
    "language_info": {
      "name": "R"
    }
  },
  "cells": [
    {
      "cell_type": "markdown",
      "source": [
        "# STATS 306\n",
        "## Homework 9: Iterations and Functions"
      ],
      "metadata": {
        "id": "CYExXZrtqVlo"
      }
    },
    {
      "cell_type": "code",
      "source": [
        "library(tidyverse)\n",
        "library(lubridate)"
      ],
      "metadata": {
        "id": "JnSRBybYx6cx",
        "colab": {
          "base_uri": "https://localhost:8080/"
        },
        "outputId": "181f873c-dc5e-45f3-aa01-f3102af22b51"
      },
      "execution_count": 1,
      "outputs": [
        {
          "output_type": "stream",
          "name": "stderr",
          "text": [
            "── \u001b[1mAttaching core tidyverse packages\u001b[22m ──────────────────────── tidyverse 2.0.0 ──\n",
            "\u001b[32m✔\u001b[39m \u001b[34mdplyr    \u001b[39m 1.1.3     \u001b[32m✔\u001b[39m \u001b[34mreadr    \u001b[39m 2.1.4\n",
            "\u001b[32m✔\u001b[39m \u001b[34mforcats  \u001b[39m 1.0.0     \u001b[32m✔\u001b[39m \u001b[34mstringr  \u001b[39m 1.5.0\n",
            "\u001b[32m✔\u001b[39m \u001b[34mggplot2  \u001b[39m 3.4.4     \u001b[32m✔\u001b[39m \u001b[34mtibble   \u001b[39m 3.2.1\n",
            "\u001b[32m✔\u001b[39m \u001b[34mlubridate\u001b[39m 1.9.3     \u001b[32m✔\u001b[39m \u001b[34mtidyr    \u001b[39m 1.3.0\n",
            "\u001b[32m✔\u001b[39m \u001b[34mpurrr    \u001b[39m 1.0.2     \n",
            "── \u001b[1mConflicts\u001b[22m ────────────────────────────────────────── tidyverse_conflicts() ──\n",
            "\u001b[31m✖\u001b[39m \u001b[34mdplyr\u001b[39m::\u001b[32mfilter()\u001b[39m masks \u001b[34mstats\u001b[39m::filter()\n",
            "\u001b[31m✖\u001b[39m \u001b[34mdplyr\u001b[39m::\u001b[32mlag()\u001b[39m    masks \u001b[34mstats\u001b[39m::lag()\n",
            "\u001b[36mℹ\u001b[39m Use the conflicted package (\u001b[3m\u001b[34m<http://conflicted.r-lib.org/>\u001b[39m\u001b[23m) to force all conflicts to become errors\n"
          ]
        }
      ]
    },
    {
      "cell_type": "markdown",
      "source": [
        "## Problem 1: Boarding a Plane: Karen vs Drunk Passengers (4 points)\n",
        "\n",
        "*Note: We do not care about the time or space complexity of your code. As long as your code runs correctly, you will receive full credits.*\n",
        "\n",
        "There are $N$ airline passengers waiting to board a plane with $N$ seats. Each passenger holds a ticket corresponding to one of the $N$ seats on the flight. For simplicity, assume that the $n$-th passenger in line is assigned to seat number $n$, for each $n \\in \\{1,2,\\cdots,N\\}$.\n",
        "\n",
        "The first passenger in line is intoxicated and selects a seat randomly (i.e., with an equal chance for each seat). The rest of the passengers are sober and will take their assigned seats unless they find them occupied, in which case they will choose a vacant seat at random.\n",
        "\n",
        "Karen is the $N$-th (i.e., last) passenger in line. If she finds that her seat is already taken, she will get upset. Otherwise, she will not get upset.\n",
        "\n",
        "We are going to use simulation to determine the probability that Karen gets upset."
      ],
      "metadata": {
        "id": "8HKJV645qY8u"
      }
    },
    {
      "cell_type": "markdown",
      "source": [
        "(a) Following the problem scenario above, create a function `is_karen_upset(N)` that returns the *logical* `TRUE` if Karen gets upset, and the *logical* `FALSE` otherwise. *(1.5 points)*"
      ],
      "metadata": {
        "id": "QY5l0Ititbrg"
      }
    },
    {
      "cell_type": "code",
      "source": [
        "### YOUR ANSWER HERE\n"
      ],
      "metadata": {
        "id": "AS1oNqostfKT"
      },
      "execution_count": 2,
      "outputs": []
    },
    {
      "cell_type": "markdown",
      "source": [
        "(b) Set $N = 20$ and simulate the scenario in Part (a) for $5,000$ times. Print the number of times Karen gets upset. Then, print the estimated probability Karen gets upset when $N = 20$. For this part, DO NOT use any `for` loops. *(0.5 points)*"
      ],
      "metadata": {
        "id": "sHK87TwIwyFL"
      }
    },
    {
      "cell_type": "code",
      "source": [
        "### YOUR ANSWER HERE\n"
      ],
      "metadata": {
        "id": "i3QUo9p4vRQS"
      },
      "execution_count": 3,
      "outputs": []
    },
    {
      "cell_type": "markdown",
      "source": [
        "(c) Following Part (b), print the estimated probability Karen gets upset for each $N \\in \\{20, 40, 60, \\cdots, 200\\}$.\n",
        "\n",
        "Conclude whether the probability Karen gets upset varies with $N$. *(0.5 points)*"
      ],
      "metadata": {
        "id": "7Htm3TAYzXhk"
      }
    },
    {
      "cell_type": "code",
      "source": [
        "### YOUR ANSWER HERE\n"
      ],
      "metadata": {
        "id": "ePodWWsYvSug"
      },
      "execution_count": 4,
      "outputs": []
    },
    {
      "cell_type": "markdown",
      "source": [
        "(d) Now, consider a modified version of the problem as follows:\n",
        "\n",
        "There are $N$ airline passengers waiting to board a plane with $N$ seats. Each passenger holds a ticket corresponding to one of the $N$ seats on the flight. For simplicity, assume that the $n$-th passenger in line is assigned to seat number $n$, for each $n \\in \\{1,2,\\cdots,N\\}$.\n",
        "\n",
        "**Every odd passenger in line** **(i.e., the first, third, fifth, etc.)** is intoxicated and selects a seat randomly (i.e., with an equal chance for each vacant seat). The rest of the passengers are sober and will take their assigned seats unless they find them occupied, in which case they will choose a vacant seat at random.\n",
        "\n",
        "Karen is the $N$-th (i.e., last) passenger in line. If she finds that her seat is already taken, she will get upset. Otherwise, she will not get upset.\n",
        "\n",
        "Simulate this scenario $50,000$ times to estimate the probability that Karen gets upset when $N = 20$. Print the estimated probability.  *(1.5 points)*"
      ],
      "metadata": {
        "id": "VC2F1LuQ0wOo"
      }
    },
    {
      "cell_type": "code",
      "source": [
        "### YOUR ANSWER HERE\n"
      ],
      "metadata": {
        "id": "JNfMiwYh3Cm-"
      },
      "execution_count": 5,
      "outputs": []
    },
    {
      "cell_type": "markdown",
      "source": [
        "## Problem 2: Die-Rolling Experiment (4 points)\n",
        "In this problem, you will use iteration (`for`/`while` loops) to simulate a die-rolling experiment. The experiment goes as follows. Suppose you are given two fair six-sided dice and you do the following:\n",
        "\n",
        "1.  Roll both dice.\n",
        "2. If both dice show even numbers when rolled, award yourself one point; otherwise, award yourself no points.\n",
        "3.  Repeat steps one and two for 100 times. Let $X$ be your total score at the end of the experiment.\n",
        "\n",
        "By writing a loop that simulates this experiment, answer the following:\n",
        "\n",
        "*Hint*: Use a large number of simulations to better approximate the behavior of the population."
      ],
      "metadata": {
        "id": "9GJJM3nhqe0d"
      }
    },
    {
      "cell_type": "markdown",
      "source": [
        "(a) Estimate the expected value of $X$, i.e., $\\mathbb{E}(X)$. *(1 point)*"
      ],
      "metadata": {
        "id": "1-K-pdTvr0Fs"
      }
    },
    {
      "cell_type": "code",
      "source": [
        "### YOUR ANSWER HERE\n"
      ],
      "metadata": {
        "id": "Mb0_6SEKsUyX"
      },
      "execution_count": 6,
      "outputs": []
    },
    {
      "cell_type": "markdown",
      "source": [
        "(b) Estimate the variance of $X$, i.e., $\\textrm{Var}(X)$.  *(1 point)*\n",
        "\n",
        "*Hint*: $\\textrm{Var}(X) = \\mathbb{E}(X^2) - (\\mathbb{E}(X))^2$."
      ],
      "metadata": {
        "id": "BFl7-NF9tsqy"
      }
    },
    {
      "cell_type": "code",
      "source": [
        "### YOUR ANSWER HERE\n"
      ],
      "metadata": {
        "id": "ZyZ5Mbt913Za"
      },
      "execution_count": 7,
      "outputs": []
    },
    {
      "cell_type": "markdown",
      "source": [
        "**2(c)** Estimate the probability that $X$ is greater than 25? I.e., what is $\\mathbb{P}(X>25)$? *(1 point)*\n",
        "\n",
        "*Hint*: the probability that $X>25$ roughly equals the fraction of times that this event happens in a large number of simulations."
      ],
      "metadata": {
        "id": "mLMTvrsUviV9"
      }
    },
    {
      "cell_type": "code",
      "source": [
        "### YOUR ANSWER HERE\n"
      ],
      "metadata": {
        "id": "z3EWk3j9zOc9"
      },
      "execution_count": 8,
      "outputs": []
    },
    {
      "cell_type": "markdown",
      "source": [
        "**2(d)** Suppose you and your friend both play this game using separate two dice. Let your score be $X$ and let their score be $Y$. Whoever gets a higher score will win. If both of you get the same score, the game results in a draw.\n",
        "\n",
        "Estimate the probability that (i) you win (i.e., $X > Y$); (ii) your friend wins (i.e., $Y > X$); and (iii) the game results in a draw (i.e., $X = Y$)?\n",
        "\n",
        "Do you think this is a fair game based on your results? *(1 point)*"
      ],
      "metadata": {
        "id": "enBckCKKv9yc"
      }
    },
    {
      "cell_type": "code",
      "source": [
        "### YOUR ANSWER HERE\n"
      ],
      "metadata": {
        "id": "1I8dp00ZwEkn"
      },
      "execution_count": 9,
      "outputs": []
    },
    {
      "cell_type": "markdown",
      "source": [
        "# Challenge Problem: Writing a Function (2 points)\n",
        "\n",
        "We are interested in the date corresponding to the first Saturday given a year and a month. Write a function called `first_saturday(month, year)` which takes a month and a year and returns the date for the first Saturday of that month and year.\n",
        "\n",
        "Examples:\n",
        "\n",
        "    > first_saturday(11, 2023)\n",
        "    2023-11-04 UTC\n",
        "    > first_saturday(11, 2041)\n",
        "    2041-11-02 UTC"
      ],
      "metadata": {
        "id": "ZFvPeBCB5fTp"
      }
    },
    {
      "cell_type": "code",
      "source": [
        "### YOUR ANSWER HERE\n"
      ],
      "metadata": {
        "id": "vePm5iH079W6"
      },
      "execution_count": 10,
      "outputs": []
    },
    {
      "cell_type": "markdown",
      "source": [
        "Once you are done, **run the code chunk below** to check whether you get the right answers."
      ],
      "metadata": {
        "id": "nbcCaxeG59yO"
      }
    },
    {
      "cell_type": "code",
      "source": [
        "first_saturday(11, 2023)\n",
        "first_saturday(11, 2041)"
      ],
      "metadata": {
        "colab": {
          "base_uri": "https://localhost:8080/",
          "height": 106
        },
        "id": "8fyq_Hnw6Fbw",
        "outputId": "56a4bb22-353b-47a3-c23e-e50c4bb16575"
      },
      "execution_count": 11,
      "outputs": [
        {
          "output_type": "error",
          "ename": "ERROR",
          "evalue": "ignored",
          "traceback": [
            "Error in first_saturday(11, 2023): could not find function \"first_saturday\"\nTraceback:\n"
          ]
        }
      ]
    }
  ]
}