{
  "cells": [
    {
      "cell_type": "code",
      "execution_count": 1,
      "metadata": {
        "colab": {
          "base_uri": "https://localhost:8080/"
        },
        "id": "5f15XUAVcKuA",
        "outputId": "dcb35354-f995-4892-a646-6a6d66b6614a"
      },
      "outputs": [
        {
          "output_type": "stream",
          "name": "stderr",
          "text": [
            "── \u001b[1mAttaching core tidyverse packages\u001b[22m ──────────────────────── tidyverse 2.0.0 ──\n",
            "\u001b[32m✔\u001b[39m \u001b[34mdplyr    \u001b[39m 1.1.2     \u001b[32m✔\u001b[39m \u001b[34mreadr    \u001b[39m 2.1.4\n",
            "\u001b[32m✔\u001b[39m \u001b[34mforcats  \u001b[39m 1.0.0     \u001b[32m✔\u001b[39m \u001b[34mstringr  \u001b[39m 1.5.0\n",
            "\u001b[32m✔\u001b[39m \u001b[34mggplot2  \u001b[39m 3.4.3     \u001b[32m✔\u001b[39m \u001b[34mtibble   \u001b[39m 3.2.1\n",
            "\u001b[32m✔\u001b[39m \u001b[34mlubridate\u001b[39m 1.9.2     \u001b[32m✔\u001b[39m \u001b[34mtidyr    \u001b[39m 1.3.0\n",
            "\u001b[32m✔\u001b[39m \u001b[34mpurrr    \u001b[39m 1.0.2     \n",
            "── \u001b[1mConflicts\u001b[22m ────────────────────────────────────────── tidyverse_conflicts() ──\n",
            "\u001b[31m✖\u001b[39m \u001b[34mdplyr\u001b[39m::\u001b[32mfilter()\u001b[39m masks \u001b[34mstats\u001b[39m::filter()\n",
            "\u001b[31m✖\u001b[39m \u001b[34mdplyr\u001b[39m::\u001b[32mlag()\u001b[39m    masks \u001b[34mstats\u001b[39m::lag()\n",
            "\u001b[36mℹ\u001b[39m Use the conflicted package (\u001b[3m\u001b[34m<http://conflicted.r-lib.org/>\u001b[39m\u001b[23m) to force all conflicts to become errors\n"
          ]
        }
      ],
      "source": [
        "library(tidyverse)\n",
        "options(repr.plot.width=5, repr.plot.height=4)"
      ]
    },
    {
      "cell_type": "markdown",
      "metadata": {
        "id": "Blvd9lgDcL-M"
      },
      "source": [
        "# **STATS 306 Homework 2**"
      ]
    },
    {
      "cell_type": "markdown",
      "metadata": {
        "id": "dA6UZl4OcUgz"
      },
      "source": [
        "### Problem 1: Registered pets in Seattle, WA: Warm Up (1 point)\n",
        "\n",
        "In this problem, we will explore the *Seattle Pets* data set, which contains information about registered pets in Seattle, WA, between 2003 and 2018. The data set can be loaded by running the code below."
      ]
    },
    {
      "cell_type": "code",
      "execution_count": 2,
      "metadata": {
        "id": "p8QYXfLjLdyc"
      },
      "outputs": [],
      "source": [
        "data <- read.csv(\n",
        "    \"https://raw.githubusercontent.com/rfordatascience/tidytuesday/master/data/2019/2019-03-26/seattle_pets.csv\"\n",
        ")"
      ]
    },
    {
      "cell_type": "markdown",
      "metadata": {
        "id": "G5n3BXY-c_wA"
      },
      "source": [
        "**(a)** Print only the first 3 rows of the data set. *(0.25 points)*"
      ]
    },
    {
      "cell_type": "code",
      "execution_count": 3,
      "metadata": {
        "colab": {
          "base_uri": "https://localhost:8080/",
          "height": 192
        },
        "id": "vwfJ-uulH8Ib",
        "outputId": "3b3c3a2f-b8a7-4384-f803-4939000eae8b"
      },
      "outputs": [
        {
          "output_type": "display_data",
          "data": {
            "text/html": [
              "<table class=\"dataframe\">\n",
              "<caption>A data.frame: 3 × 7</caption>\n",
              "<thead>\n",
              "\t<tr><th></th><th scope=col>license_issue_date</th><th scope=col>license_number</th><th scope=col>animals_name</th><th scope=col>species</th><th scope=col>primary_breed</th><th scope=col>secondary_breed</th><th scope=col>zip_code</th></tr>\n",
              "\t<tr><th></th><th scope=col>&lt;chr&gt;</th><th scope=col>&lt;chr&gt;</th><th scope=col>&lt;chr&gt;</th><th scope=col>&lt;chr&gt;</th><th scope=col>&lt;chr&gt;</th><th scope=col>&lt;chr&gt;</th><th scope=col>&lt;chr&gt;</th></tr>\n",
              "</thead>\n",
              "<tbody>\n",
              "\t<tr><th scope=row>1</th><td>November 16 2018</td><td>8002756</td><td>Wall-E</td><td>Dog</td><td>Mixed Breed, Medium (up to 44 lbs fully grown)</td><td>Mix                            </td><td>98108</td></tr>\n",
              "\t<tr><th scope=row>2</th><td>November 11 2018</td><td>S124529</td><td>Andre </td><td>Dog</td><td>Terrier, Jack Russell                         </td><td>Dachshund, Standard Wire Haired</td><td>98117</td></tr>\n",
              "\t<tr><th scope=row>3</th><td>November 21 2018</td><td>903793 </td><td>Mac   </td><td>Dog</td><td>Retriever, Labrador                           </td><td>NA                             </td><td>98136</td></tr>\n",
              "</tbody>\n",
              "</table>\n"
            ],
            "text/markdown": "\nA data.frame: 3 × 7\n\n| <!--/--> | license_issue_date &lt;chr&gt; | license_number &lt;chr&gt; | animals_name &lt;chr&gt; | species &lt;chr&gt; | primary_breed &lt;chr&gt; | secondary_breed &lt;chr&gt; | zip_code &lt;chr&gt; |\n|---|---|---|---|---|---|---|---|\n| 1 | November 16 2018 | 8002756 | Wall-E | Dog | Mixed Breed, Medium (up to 44 lbs fully grown) | Mix                             | 98108 |\n| 2 | November 11 2018 | S124529 | Andre  | Dog | Terrier, Jack Russell                          | Dachshund, Standard Wire Haired | 98117 |\n| 3 | November 21 2018 | 903793  | Mac    | Dog | Retriever, Labrador                            | NA                              | 98136 |\n\n",
            "text/latex": "A data.frame: 3 × 7\n\\begin{tabular}{r|lllllll}\n  & license\\_issue\\_date & license\\_number & animals\\_name & species & primary\\_breed & secondary\\_breed & zip\\_code\\\\\n  & <chr> & <chr> & <chr> & <chr> & <chr> & <chr> & <chr>\\\\\n\\hline\n\t1 & November 16 2018 & 8002756 & Wall-E & Dog & Mixed Breed, Medium (up to 44 lbs fully grown) & Mix                             & 98108\\\\\n\t2 & November 11 2018 & S124529 & Andre  & Dog & Terrier, Jack Russell                          & Dachshund, Standard Wire Haired & 98117\\\\\n\t3 & November 21 2018 & 903793  & Mac    & Dog & Retriever, Labrador                            & NA                              & 98136\\\\\n\\end{tabular}\n",
            "text/plain": [
              "  license_issue_date license_number animals_name species\n",
              "1 November 16 2018   8002756        Wall-E       Dog    \n",
              "2 November 11 2018   S124529        Andre        Dog    \n",
              "3 November 21 2018   903793         Mac          Dog    \n",
              "  primary_breed                                 \n",
              "1 Mixed Breed, Medium (up to 44 lbs fully grown)\n",
              "2 Terrier, Jack Russell                         \n",
              "3 Retriever, Labrador                           \n",
              "  secondary_breed                 zip_code\n",
              "1 Mix                             98108   \n",
              "2 Dachshund, Standard Wire Haired 98117   \n",
              "3 NA                              98136   "
            ]
          },
          "metadata": {}
        }
      ],
      "source": [
        "# YOUR SOLUTION HERE\n"
      ]
    },
    {
      "cell_type": "markdown",
      "metadata": {
        "id": "7gEFjnPGeCL2"
      },
      "source": [
        "**(b)** Create a data set that contains all columns of the original data set except `secondary_breed`. Then, drop rows with any missing values. Assign the resulting data set to the variable `data_nona`. *(0.25 points)*"
      ]
    },
    {
      "cell_type": "code",
      "execution_count": 5,
      "metadata": {
        "id": "bAefCB1DKBvB",
        "scrolled": true
      },
      "outputs": [],
      "source": [
        "# YOUR SOLUTION HERE\n",
        "data_nona <- ..."
      ]
    },
    {
      "cell_type": "markdown",
      "metadata": {
        "id": "X8Of1-qafcr0"
      },
      "source": [
        "**(c)** Display the proportion of each species in `data_nona`. Make sure to round the numbers to 4 decimal places. *(0.25 points)*"
      ]
    },
    {
      "cell_type": "code",
      "execution_count": 6,
      "metadata": {
        "colab": {
          "base_uri": "https://localhost:8080/"
        },
        "id": "jzSa0piCMCg2",
        "outputId": "610784e2-7490-4f9c-e510-a152bc60cb14"
      },
      "outputs": [
        {
          "output_type": "stream",
          "name": "stdout",
          "text": [
            "  species   prop\n",
            "1     Dog 0.6745\n",
            "2     Cat 0.3247\n",
            "3    Goat 0.0007\n",
            "4     Pig 0.0001\n"
          ]
        }
      ],
      "source": [
        "# YOUR SOLUTION HERE\n"
      ]
    },
    {
      "cell_type": "markdown",
      "metadata": {
        "id": "aDJP4rIUgAZM"
      },
      "source": [
        "**(d)** What are the top 3 dog names in `data_nona`? *(0.25 points)*"
      ]
    },
    {
      "cell_type": "code",
      "execution_count": null,
      "metadata": {
        "id": "AYxvfRCKMO9I"
      },
      "outputs": [],
      "source": [
        "# YOUR SOLUTION HERE\n"
      ]
    },
    {
      "cell_type": "markdown",
      "metadata": {
        "id": "Q8r1YgvQhJna"
      },
      "source": [
        "### Problem 2: Registered pets in Seattle, WA: In-Depth Analysis (4 points)\n",
        "\n",
        "Before attempting this problem, you may want to read the following resources. If you prefer to learn from examples, feel free to jump straight into the examples for each function provided below.\n",
        "1. https://stringr.tidyverse.org/reference/str_length.html\n",
        "2. https://stringr.tidyverse.org/reference/str_detect.html\n",
        "3. https://stringr.tidyverse.org/reference/str_sub.html\n",
        "4. https://stringr.tidyverse.org/reference/word.html\n",
        "\n",
        "You will learn more about working with text data after your midterm exam."
      ]
    },
    {
      "cell_type": "code",
      "execution_count": 7,
      "metadata": {
        "colab": {
          "base_uri": "https://localhost:8080/",
          "height": 52
        },
        "id": "fWH5SwPQM8Gb",
        "outputId": "445f48f0-52bf-4a77-ce06-aeb4cf4feeb6"
      },
      "outputs": [
        {
          "output_type": "display_data",
          "data": {
            "text/html": [
              "10"
            ],
            "text/markdown": "10",
            "text/latex": "10",
            "text/plain": [
              "[1] 10"
            ]
          },
          "metadata": {}
        },
        {
          "output_type": "display_data",
          "data": {
            "text/html": [
              "1"
            ],
            "text/markdown": "1",
            "text/latex": "1",
            "text/plain": [
              "[1] 1"
            ]
          },
          "metadata": {}
        }
      ],
      "source": [
        "# str_length outputs the number of characters in a string\n",
        "\n",
        "str_length('I am a cat') # there are 10 characters in the string, including spaces\n",
        "str_length('R') # there is 1 character in the string"
      ]
    },
    {
      "cell_type": "code",
      "execution_count": 8,
      "metadata": {
        "colab": {
          "base_uri": "https://localhost:8080/",
          "height": 52
        },
        "id": "zVIr4hjdM9Cy",
        "outputId": "01860cb2-7a67-46a2-b071-a067e6ffc965"
      },
      "outputs": [
        {
          "output_type": "display_data",
          "data": {
            "text/html": [
              "TRUE"
            ],
            "text/markdown": "TRUE",
            "text/latex": "TRUE",
            "text/plain": [
              "[1] TRUE"
            ]
          },
          "metadata": {}
        },
        {
          "output_type": "display_data",
          "data": {
            "text/html": [
              "FALSE"
            ],
            "text/markdown": "FALSE",
            "text/latex": "FALSE",
            "text/plain": [
              "[1] FALSE"
            ]
          },
          "metadata": {}
        }
      ],
      "source": [
        "# str_detect outputs whether a substring is present in a string\n",
        "\n",
        "str_detect('I am a cat', 'cat') # substring 'cat' is present in the string\n",
        "str_detect('I am a cat', 'dog') # substring 'dog' is not present in the string"
      ]
    },
    {
      "cell_type": "code",
      "execution_count": 9,
      "metadata": {
        "colab": {
          "base_uri": "https://localhost:8080/",
          "height": 52
        },
        "id": "YINg2gpKM9E1",
        "outputId": "eff286b3-f25f-43e5-e389-88ee81fa37fd"
      },
      "outputs": [
        {
          "output_type": "display_data",
          "data": {
            "text/html": [
              "'cat'"
            ],
            "text/markdown": "'cat'",
            "text/latex": "'cat'",
            "text/plain": [
              "[1] \"cat\""
            ]
          },
          "metadata": {}
        },
        {
          "output_type": "display_data",
          "data": {
            "text/html": [
              "'am'"
            ],
            "text/markdown": "'am'",
            "text/latex": "'am'",
            "text/plain": [
              "[1] \"am\""
            ]
          },
          "metadata": {}
        }
      ],
      "source": [
        "# str_sub outputs a substring of a string given starting and ending positions\n",
        "\n",
        "str_sub('I am a cat', -3, -1) # obtains substring from position -3 (third from last) to -1 (last)\n",
        "str_sub('I am a cat', 3, 4) # obtains substring from position 3 to 4"
      ]
    },
    {
      "cell_type": "code",
      "execution_count": 10,
      "metadata": {
        "colab": {
          "base_uri": "https://localhost:8080/",
          "height": 52
        },
        "id": "QNsh21aPM9HM",
        "outputId": "cbfa6d62-c1a2-4059-9800-1ad77c34734a"
      },
      "outputs": [
        {
          "output_type": "display_data",
          "data": {
            "text/html": [
              "'am'"
            ],
            "text/markdown": "'am'",
            "text/latex": "'am'",
            "text/plain": [
              "[1] \"am\""
            ]
          },
          "metadata": {}
        },
        {
          "output_type": "display_data",
          "data": {
            "text/html": [
              "'cat'"
            ],
            "text/markdown": "'cat'",
            "text/latex": "'cat'",
            "text/plain": [
              "[1] \"cat\""
            ]
          },
          "metadata": {}
        }
      ],
      "source": [
        "# word outputs the n-th word in the string\n",
        "\n",
        "word('I am a cat', 2) # obtains the second word in the string\n",
        "word('I am a cat', -1) # obtains the last word in the string"
      ]
    },
    {
      "cell_type": "markdown",
      "metadata": {
        "id": "L8YqqfF_OQeo"
      },
      "source": [
        "Now, here are the questions."
      ]
    },
    {
      "cell_type": "markdown",
      "metadata": {
        "id": "pkxKJ63-hZP6"
      },
      "source": [
        "**(a)** Use `data_nona`. On average, are cat names longer or shorter or longer as compared to dog names? Use the `mean()` and `str_length()` functions in your answer. *(0.5 points)*"
      ]
    },
    {
      "cell_type": "code",
      "execution_count": null,
      "metadata": {
        "id": "U-V51JolMiyG"
      },
      "outputs": [],
      "source": [
        "# YOUR SOLUTION HERE\n"
      ]
    },
    {
      "cell_type": "markdown",
      "metadata": {
        "id": "c-qO5N9oDt9T"
      },
      "source": [
        "**(b)** In `data_nona`, what is the longest cat name? How many characters (including spaces) does the name contain? *(0.5 points)*"
      ]
    },
    {
      "cell_type": "code",
      "execution_count": null,
      "metadata": {
        "id": "IzDCLoZsEVrg"
      },
      "outputs": [],
      "source": [
        "# YOUR SOLUTION HERE\n"
      ]
    },
    {
      "cell_type": "markdown",
      "metadata": {
        "id": "SLE1YjZQkq9S"
      },
      "source": [
        "**(c)** Create a data set called `data_dog`, which consists of only dogs in `data_nona`. Then, add a column called `year` to `data_dog`. As the name suggests, this column extracts the year from the column `license_issue_date`. The function `str_sub()` or `word()` might be helpful here.\n",
        "\n",
        "In `data_dog`, which year saw the highest number of registered dogs? *(0.75 points)*"
      ]
    },
    {
      "cell_type": "code",
      "execution_count": null,
      "metadata": {
        "id": "BeCmhNF1ktqn"
      },
      "outputs": [],
      "source": [
        "# YOUR SOLUTION HERE\n"
      ]
    },
    {
      "cell_type": "markdown",
      "metadata": {
        "id": "5RYUn6ETm8kW"
      },
      "source": [
        "**(d)** A dog is a `Retriever` if its `primary_breed` contains the word `Retriever`. A dog is a `Terrier` if its `primary_breed` contains the word `Terrier`. A dog which is neither a `Retriever` nor a `Terrier` is an `Other`.\n",
        "\n",
        "Focus on years 2016, 2017 and 2018 in `data_dog`. *Without introducing any intermediate variables*, display the proportions of Retrievers, Terriers and Others *within each year*, rounded to 3 decimal places. The function `str_detect()` might be useful here.\n",
        "\n",
        "From these proportions, what can you say about the popularity of Terriers across the years? *(1.5 points)*\n",
        "\n"
      ]
    },
    {
      "cell_type": "code",
      "execution_count": null,
      "metadata": {
        "id": "JV8Sr5Cfm94P"
      },
      "outputs": [],
      "source": [
        "# YOUR SOLUTION HERE\n",
        "\n"
      ]
    },
    {
      "cell_type": "markdown",
      "metadata": {
        "id": "tWqax_R_FHz0"
      },
      "source": [
        "**(e)** In `data_nona`, which month sees the highest $\\frac{\\textrm{number of registered cats}}{\\textrm{number of registered dogs}}$? The function `word()` might be helpful here. *(0.75 points)*\n",
        "\n"
      ]
    },
    {
      "cell_type": "code",
      "execution_count": null,
      "metadata": {
        "id": "Lr2LF-DFGSOx"
      },
      "outputs": [],
      "source": [
        "# YOUR SOLUTION HERE\n"
      ]
    },
    {
      "cell_type": "markdown",
      "metadata": {
        "id": "sil6nbrE31cv"
      },
      "source": [
        "### Problem 3: Air Quality (2.5 points)\n",
        "\n",
        "In this problem, we will explore the *Air Quality* data set, which includes daily air quality measurements in New York from May to September 1973. It is a built-in data set in R, so we can directly load the data set. Use `help` or `?` to get a description of the data set."
      ]
    },
    {
      "cell_type": "code",
      "execution_count": 11,
      "metadata": {
        "colab": {
          "base_uri": "https://localhost:8080/",
          "height": 286
        },
        "id": "2ls1Rm8VUPTh",
        "outputId": "42f1be83-d43d-4e8c-8f57-a99bf66abba8"
      },
      "outputs": [
        {
          "output_type": "display_data",
          "data": {
            "text/html": [
              "<table class=\"dataframe\">\n",
              "<caption>A data.frame: 6 × 6</caption>\n",
              "<thead>\n",
              "\t<tr><th></th><th scope=col>Ozone</th><th scope=col>Solar.R</th><th scope=col>Wind</th><th scope=col>Temp</th><th scope=col>Month</th><th scope=col>Day</th></tr>\n",
              "\t<tr><th></th><th scope=col>&lt;int&gt;</th><th scope=col>&lt;int&gt;</th><th scope=col>&lt;dbl&gt;</th><th scope=col>&lt;int&gt;</th><th scope=col>&lt;int&gt;</th><th scope=col>&lt;int&gt;</th></tr>\n",
              "</thead>\n",
              "<tbody>\n",
              "\t<tr><th scope=row>1</th><td>41</td><td>190</td><td> 7.4</td><td>67</td><td>5</td><td>1</td></tr>\n",
              "\t<tr><th scope=row>2</th><td>36</td><td>118</td><td> 8.0</td><td>72</td><td>5</td><td>2</td></tr>\n",
              "\t<tr><th scope=row>3</th><td>12</td><td>149</td><td>12.6</td><td>74</td><td>5</td><td>3</td></tr>\n",
              "\t<tr><th scope=row>4</th><td>18</td><td>313</td><td>11.5</td><td>62</td><td>5</td><td>4</td></tr>\n",
              "\t<tr><th scope=row>5</th><td>NA</td><td> NA</td><td>14.3</td><td>56</td><td>5</td><td>5</td></tr>\n",
              "\t<tr><th scope=row>6</th><td>28</td><td> NA</td><td>14.9</td><td>66</td><td>5</td><td>6</td></tr>\n",
              "</tbody>\n",
              "</table>\n"
            ],
            "text/markdown": "\nA data.frame: 6 × 6\n\n| <!--/--> | Ozone &lt;int&gt; | Solar.R &lt;int&gt; | Wind &lt;dbl&gt; | Temp &lt;int&gt; | Month &lt;int&gt; | Day &lt;int&gt; |\n|---|---|---|---|---|---|---|\n| 1 | 41 | 190 |  7.4 | 67 | 5 | 1 |\n| 2 | 36 | 118 |  8.0 | 72 | 5 | 2 |\n| 3 | 12 | 149 | 12.6 | 74 | 5 | 3 |\n| 4 | 18 | 313 | 11.5 | 62 | 5 | 4 |\n| 5 | NA |  NA | 14.3 | 56 | 5 | 5 |\n| 6 | 28 |  NA | 14.9 | 66 | 5 | 6 |\n\n",
            "text/latex": "A data.frame: 6 × 6\n\\begin{tabular}{r|llllll}\n  & Ozone & Solar.R & Wind & Temp & Month & Day\\\\\n  & <int> & <int> & <dbl> & <int> & <int> & <int>\\\\\n\\hline\n\t1 & 41 & 190 &  7.4 & 67 & 5 & 1\\\\\n\t2 & 36 & 118 &  8.0 & 72 & 5 & 2\\\\\n\t3 & 12 & 149 & 12.6 & 74 & 5 & 3\\\\\n\t4 & 18 & 313 & 11.5 & 62 & 5 & 4\\\\\n\t5 & NA &  NA & 14.3 & 56 & 5 & 5\\\\\n\t6 & 28 &  NA & 14.9 & 66 & 5 & 6\\\\\n\\end{tabular}\n",
            "text/plain": [
              "  Ozone Solar.R Wind Temp Month Day\n",
              "1 41    190      7.4 67   5     1  \n",
              "2 36    118      8.0 72   5     2  \n",
              "3 12    149     12.6 74   5     3  \n",
              "4 18    313     11.5 62   5     4  \n",
              "5 NA     NA     14.3 56   5     5  \n",
              "6 28     NA     14.9 66   5     6  "
            ]
          },
          "metadata": {}
        }
      ],
      "source": [
        "# ?airquality\n",
        "airquality %>% head()"
      ]
    },
    {
      "cell_type": "markdown",
      "metadata": {
        "id": "h_8VlAk9MlFx"
      },
      "source": [
        "**(a)** What is the total number of missing values in the data set? How many columns have at least one missing value? How many days (observations) have missing values? Show your code to derive these answers to receive full credit. *(1 point)*"
      ]
    },
    {
      "cell_type": "code",
      "execution_count": null,
      "metadata": {
        "id": "fexETuOqMu6S"
      },
      "outputs": [],
      "source": [
        "#YOUR SOLUTION HERE\n"
      ]
    },
    {
      "cell_type": "markdown",
      "metadata": {
        "id": "Z7DjrY-GXZo-"
      },
      "source": [
        "**(b)** Generate a line plot with dots reflecting the mean monthly temperature and ozone level, as shown below. What can you learn from the plot? Provide a brief description of the relationship between temperature and ozone level. Make sure to add appropriate titles and labels to the plot. *(1.5 points)*"
      ]
    },
    {
      "cell_type": "code",
      "execution_count": 12,
      "metadata": {
        "colab": {
          "base_uri": "https://localhost:8080/",
          "height": 257
        },
        "id": "Z8d_Y3_iXUkl",
        "outputId": "819c810f-6aba-4617-cd49-38aa275c166e"
      },
      "outputs": [
        {
          "output_type": "display_data",
          "data": {
            "text/plain": [
              "plot without title"
            ],
            "image/png": "[encoded data removed]"
          },
          "metadata": {
            "image/png": {
              "width": 300,
              "height": 240
            }
          }
        }
      ],
      "source": [
        "# YOUR SOLUTION HERE"
      ]
    },
    {
      "cell_type": "markdown",
      "metadata": {
        "id": "hxZ61Rzwcc39"
      },
      "source": [
        "### Problem 4: Gapminder (2.5 points)\n",
        "In this problem, we will explore *Gapminder*, a data set on life expectancy, GDP per capita, and population by country. It is an excerpt from the [Gapminder](https://www.gapminder.org/data/) data."
      ]
    },
    {
      "cell_type": "code",
      "execution_count": 13,
      "metadata": {
        "colab": {
          "base_uri": "https://localhost:8080/",
          "height": 340
        },
        "id": "byzsQ7OQi3xm",
        "outputId": "adc67a42-e8e7-448e-f381-3f0dbdb4e86e"
      },
      "outputs": [
        {
          "output_type": "stream",
          "name": "stderr",
          "text": [
            "Installing package into ‘/usr/local/lib/R/site-library’\n",
            "(as ‘lib’ is unspecified)\n",
            "\n"
          ]
        },
        {
          "output_type": "display_data",
          "data": {
            "text/html": [
              "<table class=\"dataframe\">\n",
              "<caption>A tibble: 6 × 6</caption>\n",
              "<thead>\n",
              "\t<tr><th scope=col>country</th><th scope=col>continent</th><th scope=col>year</th><th scope=col>lifeExp</th><th scope=col>pop</th><th scope=col>gdpPercap</th></tr>\n",
              "\t<tr><th scope=col>&lt;fct&gt;</th><th scope=col>&lt;fct&gt;</th><th scope=col>&lt;int&gt;</th><th scope=col>&lt;dbl&gt;</th><th scope=col>&lt;int&gt;</th><th scope=col>&lt;dbl&gt;</th></tr>\n",
              "</thead>\n",
              "<tbody>\n",
              "\t<tr><td>Afghanistan</td><td>Asia</td><td>1952</td><td>28.801</td><td> 8425333</td><td>779.4453</td></tr>\n",
              "\t<tr><td>Afghanistan</td><td>Asia</td><td>1957</td><td>30.332</td><td> 9240934</td><td>820.8530</td></tr>\n",
              "\t<tr><td>Afghanistan</td><td>Asia</td><td>1962</td><td>31.997</td><td>10267083</td><td>853.1007</td></tr>\n",
              "\t<tr><td>Afghanistan</td><td>Asia</td><td>1967</td><td>34.020</td><td>11537966</td><td>836.1971</td></tr>\n",
              "\t<tr><td>Afghanistan</td><td>Asia</td><td>1972</td><td>36.088</td><td>13079460</td><td>739.9811</td></tr>\n",
              "\t<tr><td>Afghanistan</td><td>Asia</td><td>1977</td><td>38.438</td><td>14880372</td><td>786.1134</td></tr>\n",
              "</tbody>\n",
              "</table>\n"
            ],
            "text/markdown": "\nA tibble: 6 × 6\n\n| country &lt;fct&gt; | continent &lt;fct&gt; | year &lt;int&gt; | lifeExp &lt;dbl&gt; | pop &lt;int&gt; | gdpPercap &lt;dbl&gt; |\n|---|---|---|---|---|---|\n| Afghanistan | Asia | 1952 | 28.801 |  8425333 | 779.4453 |\n| Afghanistan | Asia | 1957 | 30.332 |  9240934 | 820.8530 |\n| Afghanistan | Asia | 1962 | 31.997 | 10267083 | 853.1007 |\n| Afghanistan | Asia | 1967 | 34.020 | 11537966 | 836.1971 |\n| Afghanistan | Asia | 1972 | 36.088 | 13079460 | 739.9811 |\n| Afghanistan | Asia | 1977 | 38.438 | 14880372 | 786.1134 |\n\n",
            "text/latex": "A tibble: 6 × 6\n\\begin{tabular}{llllll}\n country & continent & year & lifeExp & pop & gdpPercap\\\\\n <fct> & <fct> & <int> & <dbl> & <int> & <dbl>\\\\\n\\hline\n\t Afghanistan & Asia & 1952 & 28.801 &  8425333 & 779.4453\\\\\n\t Afghanistan & Asia & 1957 & 30.332 &  9240934 & 820.8530\\\\\n\t Afghanistan & Asia & 1962 & 31.997 & 10267083 & 853.1007\\\\\n\t Afghanistan & Asia & 1967 & 34.020 & 11537966 & 836.1971\\\\\n\t Afghanistan & Asia & 1972 & 36.088 & 13079460 & 739.9811\\\\\n\t Afghanistan & Asia & 1977 & 38.438 & 14880372 & 786.1134\\\\\n\\end{tabular}\n",
            "text/plain": [
              "  country     continent year lifeExp pop      gdpPercap\n",
              "1 Afghanistan Asia      1952 28.801   8425333 779.4453 \n",
              "2 Afghanistan Asia      1957 30.332   9240934 820.8530 \n",
              "3 Afghanistan Asia      1962 31.997  10267083 853.1007 \n",
              "4 Afghanistan Asia      1967 34.020  11537966 836.1971 \n",
              "5 Afghanistan Asia      1972 36.088  13079460 739.9811 \n",
              "6 Afghanistan Asia      1977 38.438  14880372 786.1134 "
            ]
          },
          "metadata": {}
        }
      ],
      "source": [
        "install.packages(\"gapminder\")\n",
        "library(gapminder)\n",
        "gapminder %>% head()"
      ]
    },
    {
      "cell_type": "markdown",
      "metadata": {
        "id": "JeiB_LoxxMt2"
      },
      "source": [
        "**(a)** Draw a bar plot (as shown below) to visualize the **proportion** of GDP by continent by year. We define GDP $:=$ GDP per Capita $\\times$ population. *(1.5 points)*"
      ]
    },
    {
      "cell_type": "code",
      "execution_count": 16,
      "metadata": {
        "colab": {
          "base_uri": "https://localhost:8080/",
          "height": 257
        },
        "id": "hibIQkbmtPXf",
        "outputId": "0f1f1a68-138e-45e1-bcc4-cf8452570688"
      },
      "outputs": [
        {
          "output_type": "display_data",
          "data": {
            "text/plain": [
              "plot without title"
            ],
            "image/png": "[encoded data removed]"
          },
          "metadata": {
            "image/png": {
              "width": 300,
              "height": 240
            }
          }
        }
      ],
      "source": [
        "# YOUR SOLUTION HERE\n"
      ]
    },
    {
      "cell_type": "markdown",
      "metadata": {
        "id": "1XHie74Myx_S"
      },
      "source": [
        "**(b)** Generate a scatter plot with smooth line fit of life expectancy (x-axis) and GDP per capita (y-axis) for all countries in Europe. What can you learn from this graph? *(1 point)*"
      ]
    },
    {
      "cell_type": "code",
      "execution_count": null,
      "metadata": {
        "id": "QOC3mFbcxRn5"
      },
      "outputs": [],
      "source": [
        "# YOUR SOLUTION HERE\n"
      ]
    }
  ],
  "metadata": {
    "colab": {
      "provenance": []
    },
    "kernelspec": {
      "display_name": "R",
      "language": "R",
      "name": "ir"
    },
    "language_info": {
      "codemirror_mode": "r",
      "file_extension": ".r",
      "mimetype": "text/x-r-source",
      "name": "R",
      "pygments_lexer": "r",
      "version": "4.3.1"
    }
  },
  "nbformat": 4,
  "nbformat_minor": 0
}