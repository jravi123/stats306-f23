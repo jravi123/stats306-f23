{
 "cells": [
  {
   "cell_type": "code",
   "execution_count": 2,
   "metadata": {
    "colab": {
     "base_uri": "https://localhost:8080/"
    },
    "executionInfo": {
     "elapsed": 1366,
     "status": "ok",
     "timestamp": 1696633603005,
     "user": {
      "displayName": "Zehua Wang",
      "userId": "04708119969912042844"
     },
     "user_tz": 240
    },
    "id": "B-U07Ub1Wejm",
    "nbgrader": {
     "grade": false,
     "grade_id": "cell-1be04a157d86c84b",
     "locked": true,
     "schema_version": 3,
     "solution": false
    },
    "outputId": "f8fd39e8-2e6e-4ecf-b2a1-8a9cc14294af"
   },
   "outputs": [
    {
     "name": "stderr",
     "output_type": "stream",
     "text": [
      "── \u001b[1mAttaching core tidyverse packages\u001b[22m ──────────────────────── tidyverse 2.0.0 ──\n",
      "\u001b[32m✔\u001b[39m \u001b[34mdplyr    \u001b[39m 1.1.2     \u001b[32m✔\u001b[39m \u001b[34mreadr    \u001b[39m 2.1.4\n",
      "\u001b[32m✔\u001b[39m \u001b[34mforcats  \u001b[39m 1.0.0     \u001b[32m✔\u001b[39m \u001b[34mstringr  \u001b[39m 1.5.0\n",
      "\u001b[32m✔\u001b[39m \u001b[34mggplot2  \u001b[39m 3.4.3     \u001b[32m✔\u001b[39m \u001b[34mtibble   \u001b[39m 3.2.1\n",
      "\u001b[32m✔\u001b[39m \u001b[34mlubridate\u001b[39m 1.9.2     \u001b[32m✔\u001b[39m \u001b[34mtidyr    \u001b[39m 1.3.0\n",
      "\u001b[32m✔\u001b[39m \u001b[34mpurrr    \u001b[39m 1.0.2     \n",
      "── \u001b[1mConflicts\u001b[22m ────────────────────────────────────────── tidyverse_conflicts() ──\n",
      "\u001b[31m✖\u001b[39m \u001b[34mdplyr\u001b[39m::\u001b[32mfilter()\u001b[39m masks \u001b[34mstats\u001b[39m::filter()\n",
      "\u001b[31m✖\u001b[39m \u001b[34mdplyr\u001b[39m::\u001b[32mlag()\u001b[39m    masks \u001b[34mstats\u001b[39m::lag()\n",
      "\u001b[36mℹ\u001b[39m Use the conflicted package (\u001b[3m\u001b[34m<http://conflicted.r-lib.org/>\u001b[39m\u001b[23m) to force all conflicts to become errors\n"
     ]
    }
   ],
   "source": [
    "library(tidyverse)\n",
    "library(readxl)\n",
    "options(repr.plot.width = 5, repr.plot.height = 5)"
   ]
  },
  {
   "cell_type": "markdown",
   "metadata": {
    "id": "VFPX3STQWejq",
    "nbgrader": {
     "grade": false,
     "grade_id": "cell-281caadd66986182",
     "locked": true,
     "schema_version": 3,
     "solution": false
    }
   },
   "source": [
    "# STATS 306\n",
    "\n",
    "## Homework 6: Importing data\n",
    "\n",
    "For each problem, enter the R code in the cell marked \"YOUR SOLUTION HERE\"."
   ]
  },
  {
   "cell_type": "markdown",
   "metadata": {
    "id": "WkwFQ7vlWejr",
    "nbgrader": {
     "grade": false,
     "grade_id": "cell-421557d86106e43b",
     "locked": true,
     "schema_version": 3,
     "solution": false
    }
   },
   "source": [
    "## Problem 1: Scraping with `rvest` (2.5 points)\n",
    "\n",
    "Use the `rvest` package to answer the following questions."
   ]
  },
  {
   "cell_type": "code",
   "execution_count": 3,
   "metadata": {
    "colab": {
     "base_uri": "https://localhost:8080/"
    },
    "executionInfo": {
     "elapsed": 290,
     "status": "ok",
     "timestamp": 1696632916261,
     "user": {
      "displayName": "Zehua Wang",
      "userId": "04708119969912042844"
     },
     "user_tz": 240
    },
    "id": "X-0smvISkHGY",
    "outputId": "256a97e0-aa90-43ba-a39e-ff5561b6e50c"
   },
   "outputs": [
    {
     "name": "stderr",
     "output_type": "stream",
     "text": [
      "\n",
      "Attaching package: ‘rvest’\n",
      "\n",
      "\n",
      "The following object is masked from ‘package:readr’:\n",
      "\n",
      "    guess_encoding\n",
      "\n",
      "\n"
     ]
    }
   ],
   "source": [
    "library(rvest)"
   ]
  },
  {
   "cell_type": "markdown",
   "metadata": {
    "id": "Vg_HWpCrkHGZ"
   },
   "source": [
    "**(a)** [This web page](https://datatables.net/examples/data_sources/dom.html) has a table that records the name, position, office, age, start date, and salary of every employee in a company. Scrape this table and remove the last row. Save the table as `df` and print the LAST 6 rows. *(1 point)*\n",
    "\n",
    "**HINT:** After reading in the above web page with `read_html()`, one way to scrape the table is to use `html_element(\"table\")` followed by `html_table()`. You can use `tail()` to print the last several rows."
   ]
  },
  {
   "cell_type": "code",
   "execution_count": null,
   "metadata": {
    "id": "Oo1rUJKhQzQ1"
   },
   "outputs": [],
   "source": [
    "#YOUR SOLUTION HERE"
   ]
  },
  {
   "cell_type": "markdown",
   "metadata": {
    "id": "iXjrUXtWSXyQ"
   },
   "source": [
    "**(b)** Create a scatterplot to check the relationship between `Age` and `Salary`. Note that these columns may have been stored as characters in `df`, as the original values contain special characters `$` and `,` etc. You need to remove `$` and `,` from `Salary` and then convert both `Age` and `Salary` to numeric. *(1.5 points)*\n",
    "\n",
    "**HINT:** You may use function `parse_number` to convert a character variable to numeric. You could also use the function `as.numeric` too. If you are using `as.numeric` you will first have to clean the non-number part of the data and then use the function.\n",
    "Some examples:"
   ]
  },
  {
   "cell_type": "code",
   "execution_count": 7,
   "metadata": {
    "colab": {
     "base_uri": "https://localhost:8080/",
     "height": 88
    },
    "executionInfo": {
     "elapsed": 173,
     "status": "ok",
     "timestamp": 1696632926130,
     "user": {
      "displayName": "Zehua Wang",
      "userId": "04708119969912042844"
     },
     "user_tz": 240
    },
    "id": "aPPKKbqXY1Xh",
    "outputId": "61ac542f-736e-4fc0-d4ec-3d547e99d71d"
   },
   "outputs": [
    {
     "name": "stdout",
     "output_type": "stream",
     "text": [
      "[1] \"-0.1\"  \" 2.7 \" \"$3\"   \n",
      "[1] -0.1  2.7  3.0\n",
      "[1] TRUE\n"
     ]
    },
    {
     "name": "stderr",
     "output_type": "stream",
     "text": [
      "Warning message in eval(expr, envir, enclos):\n",
      "“NAs introduced by coercion”\n"
     ]
    },
    {
     "name": "stdout",
     "output_type": "stream",
     "text": [
      "[1] -0.1  2.7   NA\n"
     ]
    },
    {
     "data": {
      "text/html": [
       "TRUE"
      ],
      "text/latex": [
       "TRUE"
      ],
      "text/markdown": [
       "TRUE"
      ],
      "text/plain": [
       "[1] TRUE"
      ]
     },
     "metadata": {},
     "output_type": "display_data"
    }
   ],
   "source": [
    "x <- c(\"-0.1\", \" 2.7 \", \"$3\")\n",
    "print(x)\n",
    "\n",
    "# example with parse number\n",
    "y1 <- parse_number(x)\n",
    "print(y1)\n",
    "print(is.numeric(y1))\n",
    "\n",
    "\n",
    "# example for as.numeric()\n",
    "y2 <- as.numeric(x)\n",
    "print(y2) # as.numeric introduced an NA! as it did not understand the $\n",
    "is.numeric(y2) \n"
   ]
  },
  {
   "cell_type": "markdown",
   "metadata": {},
   "source": [
    "`parse_number` saves you from removing the non-numeric parts like `$`, `,` etc. But if you want to use `as.numeric` you have to first extract the numeric part before you apply the function. "
   ]
  },
  {
   "cell_type": "code",
   "execution_count": null,
   "metadata": {
    "id": "xC7eg9jtWfeo"
   },
   "outputs": [],
   "source": [
    "#YOUR SOLUTION HERE"
   ]
  },
  {
   "cell_type": "markdown",
   "metadata": {
    "id": "MvB7XuPYL-qz"
   },
   "source": [
    "## Problem 2: Formula One Race Data (2.5 points)\n",
    "Formula One (more commonly known as Formula 1 or F1) is the highest class of international racing for open-wheel single-seater formula racing cars sanctioned by the Fédération Internationale de l'Automobile (FIA). The FIA Formula One World Championship has been one of the premier forms of racing around the world since its inaugural season in 1950.\n",
    "\n",
    "The dataset `F1_Race_Data.xlsx` contains data from 1950 all the way through the 2017 season. We will use three tables for this problem:\n",
    "\n",
    "*   `drivers`: Containing personal information of F1 driver, with primary key `driverId`\n",
    "*   `races`: Containing the location and time for each grand prix, with primary key `raceId`.\n",
    "*   `results`: Containing the results in each race, with primary key `resultId`, foreign keys are `driverId` (to drivers) and `raceId`(to races)"
   ]
  },
  {
   "cell_type": "markdown",
   "metadata": {
    "id": "m6hvg_5NMJV6"
   },
   "source": [
    "**(a)**\n",
    "Import the dataset into three Tibbles and name them `drivers`, `races`, and `results`, respectively. Load the **first 10 columns only** for the `results` table (Hint: use the `range` keyword argument in the read_excel function to define the columns needed). Print the column names of three tables. *(0.5 pt)*"
   ]
  },
  {
   "cell_type": "code",
   "execution_count": null,
   "metadata": {},
   "outputs": [],
   "source": [
    "# YOUR SOLUTION HERE"
   ]
  },
  {
   "cell_type": "markdown",
   "metadata": {
    "id": "bgecj10OMLzq"
   },
   "source": [
    "**(b)** Find drivers who won first place (earning 25 points) in 2016. The output table should include: `race_name`, `race_date`, `forename`, `surname`, and `start_position`. *(1 pt)*\n",
    "\n",
    "**Hint**: `grid` is the start position for the race. You can use `rename` to rename the column names"
   ]
  },
  {
   "cell_type": "code",
   "execution_count": null,
   "metadata": {},
   "outputs": [],
   "source": [
    "# YOUR SOLUTION HERE"
   ]
  },
  {
   "cell_type": "markdown",
   "metadata": {
    "id": "fXnx8gEIMVUd"
   },
   "source": [
    "**(c)** Generate a plot of the cumulative points across each round of the top 5 drivers in 2016. *(1 pt)*\n",
    "\n",
    "**Hint**: You may want to use `cumsum()` function."
   ]
  },
  {
   "cell_type": "code",
   "execution_count": null,
   "metadata": {},
   "outputs": [],
   "source": [
    "# YOUR SOLUTION HERE"
   ]
  }
 ],
 "metadata": {
  "celltoolbar": "Create Assignment",
  "colab": {
   "provenance": []
  },
  "kernelspec": {
   "display_name": "R",
   "language": "R",
   "name": "ir"
  },
  "language_info": {
   "codemirror_mode": "r",
   "file_extension": ".r",
   "mimetype": "text/x-r-source",
   "name": "R",
   "pygments_lexer": "r",
   "version": "4.3.1"
  }
 },
 "nbformat": 4,
 "nbformat_minor": 4
}
