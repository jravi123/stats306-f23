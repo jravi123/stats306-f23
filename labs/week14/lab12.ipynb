{
 "cells": [
  {
   "cell_type": "code",
   "execution_count": null,
   "metadata": {
    "colab": {
     "base_uri": "https://localhost:8080/"
    },
    "id": "qRqO9np1E7-4",
    "outputId": "bb4c62b7-4bc9-40da-c6e9-421e61525495"
   },
   "outputs": [
    {
     "name": "stderr",
     "output_type": "stream",
     "text": [
      "Installing package into ‘/usr/local/lib/R/site-library’\n",
      "(as ‘lib’ is unspecified)\n",
      "\n",
      "also installing the dependencies ‘iterators’, ‘foreach’, ‘shape’, ‘Rcpp’, ‘RcppEigen’\n",
      "\n",
      "\n",
      "Installing package into ‘/usr/local/lib/R/site-library’\n",
      "(as ‘lib’ is unspecified)\n",
      "\n",
      "also installing the dependencies ‘future.apply’, ‘numDeriv’, ‘progressr’, ‘SQUAREM’, ‘diagram’, ‘lava’, ‘listenv’, ‘parallelly’, ‘prodlim’, ‘future’, ‘warp’, ‘lhs’, ‘DiceDesign’, ‘patchwork’, ‘globals’, ‘clock’, ‘gower’, ‘ipred’, ‘timeDate’, ‘furrr’, ‘slider’, ‘GPfit’, ‘modelenv’, ‘dials’, ‘hardhat’, ‘infer’, ‘modeldata’, ‘parsnip’, ‘recipes’, ‘rsample’, ‘tune’, ‘workflows’, ‘workflowsets’, ‘yardstick’\n",
      "\n",
      "\n",
      "\n",
      "Attaching package: ‘lubridate’\n",
      "\n",
      "\n",
      "The following objects are masked from ‘package:base’:\n",
      "\n",
      "    date, intersect, setdiff, union\n",
      "\n",
      "\n",
      "── \u001b[1mAttaching packages\u001b[22m ────────────────────────────────────── tidymodels 1.1.1 ──\n",
      "\n",
      "\u001b[32m✔\u001b[39m \u001b[34mbroom       \u001b[39m 1.0.5     \u001b[32m✔\u001b[39m \u001b[34mrecipes     \u001b[39m 1.0.8\n",
      "\u001b[32m✔\u001b[39m \u001b[34mdials       \u001b[39m 1.2.0     \u001b[32m✔\u001b[39m \u001b[34mrsample     \u001b[39m 1.2.0\n",
      "\u001b[32m✔\u001b[39m \u001b[34mdplyr       \u001b[39m 1.1.3     \u001b[32m✔\u001b[39m \u001b[34mtibble      \u001b[39m 3.2.1\n",
      "\u001b[32m✔\u001b[39m \u001b[34mggplot2     \u001b[39m 3.4.4     \u001b[32m✔\u001b[39m \u001b[34mtidyr       \u001b[39m 1.3.0\n",
      "\u001b[32m✔\u001b[39m \u001b[34minfer       \u001b[39m 1.0.5     \u001b[32m✔\u001b[39m \u001b[34mtune        \u001b[39m 1.1.2\n",
      "\u001b[32m✔\u001b[39m \u001b[34mmodeldata   \u001b[39m 1.2.0     \u001b[32m✔\u001b[39m \u001b[34mworkflows   \u001b[39m 1.1.3\n",
      "\u001b[32m✔\u001b[39m \u001b[34mparsnip     \u001b[39m 1.1.1     \u001b[32m✔\u001b[39m \u001b[34mworkflowsets\u001b[39m 1.0.1\n",
      "\u001b[32m✔\u001b[39m \u001b[34mpurrr       \u001b[39m 1.0.2     \u001b[32m✔\u001b[39m \u001b[34myardstick   \u001b[39m 1.2.0\n",
      "\n",
      "── \u001b[1mConflicts\u001b[22m ───────────────────────────────────────── tidymodels_conflicts() ──\n",
      "\u001b[31m✖\u001b[39m \u001b[34mpurrr\u001b[39m::\u001b[32mdiscard()\u001b[39m masks \u001b[34mscales\u001b[39m::discard()\n",
      "\u001b[31m✖\u001b[39m \u001b[34mdplyr\u001b[39m::\u001b[32mfilter()\u001b[39m  masks \u001b[34mstats\u001b[39m::filter()\n",
      "\u001b[31m✖\u001b[39m \u001b[34mdplyr\u001b[39m::\u001b[32mlag()\u001b[39m     masks \u001b[34mstats\u001b[39m::lag()\n",
      "\u001b[31m✖\u001b[39m \u001b[34mrecipes\u001b[39m::\u001b[32mstep()\u001b[39m  masks \u001b[34mstats\u001b[39m::step()\n",
      "\u001b[34m•\u001b[39m Use \u001b[32mtidymodels_prefer()\u001b[39m to resolve common conflicts.\n",
      "\n",
      "── \u001b[1mAttaching core tidyverse packages\u001b[22m ──────────────────────── tidyverse 2.0.0 ──\n",
      "\u001b[32m✔\u001b[39m \u001b[34mforcats\u001b[39m 1.0.0     \u001b[32m✔\u001b[39m \u001b[34mstringr\u001b[39m 1.5.0\n",
      "\u001b[32m✔\u001b[39m \u001b[34mreadr  \u001b[39m 2.1.4     \n",
      "── \u001b[1mConflicts\u001b[22m ────────────────────────────────────────── tidyverse_conflicts() ──\n",
      "\u001b[31m✖\u001b[39m \u001b[34mreadr\u001b[39m::\u001b[32mcol_factor()\u001b[39m masks \u001b[34mscales\u001b[39m::col_factor()\n",
      "\u001b[31m✖\u001b[39m \u001b[34mpurrr\u001b[39m::\u001b[32mdiscard()\u001b[39m    masks \u001b[34mscales\u001b[39m::discard()\n",
      "\u001b[31m✖\u001b[39m \u001b[34mdplyr\u001b[39m::\u001b[32mfilter()\u001b[39m     masks \u001b[34mstats\u001b[39m::filter()\n",
      "\u001b[31m✖\u001b[39m \u001b[34mstringr\u001b[39m::\u001b[32mfixed()\u001b[39m    masks \u001b[34mrecipes\u001b[39m::fixed()\n",
      "\u001b[31m✖\u001b[39m \u001b[34mdplyr\u001b[39m::\u001b[32mlag()\u001b[39m        masks \u001b[34mstats\u001b[39m::lag()\n",
      "\u001b[31m✖\u001b[39m \u001b[34mreadr\u001b[39m::\u001b[32mspec()\u001b[39m       masks \u001b[34myardstick\u001b[39m::spec()\n",
      "\u001b[36mℹ\u001b[39m Use the conflicted package (\u001b[3m\u001b[34m<http://conflicted.r-lib.org/>\u001b[39m\u001b[23m) to force all conflicts to become errors\n"
     ]
    }
   ],
   "source": [
    "options(repr.plot.width= 8, repr.plot.height=6)\n",
    "install.packages('glmnet')\n",
    "install.packages('tidymodels')\n",
    "library(lubridate)\n",
    "library(tidymodels)\n",
    "library(tidyverse)"
   ]
  },
  {
   "cell_type": "markdown",
   "metadata": {
    "id": "e8hi4uJOFm0N"
   },
   "source": [
    "# Lab 12 : A predictive modeling case study\n",
    "\n",
    "**What is `tidymodels` ?**\n",
    "\n",
    "Much like `tidyverse` that consists of many core packages, such as `ggplot2` and `dplyr`, `tidymodels` also consists of several core packages, including\n",
    "\n",
    "* `rsample:` for sample splitting (e.g. train/test or cross-validation)\n",
    "* `recipes:` for pre-processing\n",
    "* `parsnip:` for specifying the model\n",
    "* `yardstick:` for evaluating the model\n",
    "\n",
    "In today's lab, we are going to build a predictive model from the beginning to the end using `tidymodels`. This material is based on Section 5 in this [article](https://www.tidymodels.org/start/case-study/).\n",
    "\n",
    "Let's use the hotel booking dataset from [Antonio, Almeida, and Nunes (2019)](https://www.sciencedirect.com/science/article/pii/S2352340918315191?via%3Dihub) to **predict** if customers would **spend the weekend at hotels** based on the other characteristics of the stays such as which hotel the guests stay at, how much they pay, whether they have children, etc. We are us a subset of the booking hotel data by removing rows for which the day of arrival is either Saturday or Sunday."
   ]
  },
  {
   "cell_type": "code",
   "execution_count": null,
   "metadata": {
    "colab": {
     "base_uri": "https://localhost:8080/"
    },
    "id": "_WRgRKBuJAui",
    "outputId": "5456f55c-bb48-4636-bf4c-a5f8d175e9a4"
   },
   "outputs": [
    {
     "name": "stderr",
     "output_type": "stream",
     "text": [
      "\u001b[1mRows: \u001b[22m\u001b[34m50000\u001b[39m \u001b[1mColumns: \u001b[22m\u001b[34m23\u001b[39m\n",
      "\u001b[36m──\u001b[39m \u001b[1mColumn specification\u001b[22m \u001b[36m────────────────────────────────────────────────────────\u001b[39m\n",
      "\u001b[1mDelimiter:\u001b[22m \",\"\n",
      "\u001b[31mchr\u001b[39m  (11): hotel, children, meal, country, market_segment, distribution_chan...\n",
      "\u001b[32mdbl\u001b[39m  (11): lead_time, stays_in_weekend_nights, stays_in_week_nights, adults,...\n",
      "\u001b[34mdate\u001b[39m  (1): arrival_date\n",
      "\n",
      "\u001b[36mℹ\u001b[39m Use `spec()` to retrieve the full column specification for this data.\n",
      "\u001b[36mℹ\u001b[39m Specify the column types or set `show_col_types = FALSE` to quiet this message.\n"
     ]
    },
    {
     "name": "stdout",
     "output_type": "stream",
     "text": [
      "Rows: 36,347\n",
      "Columns: 23\n",
      "$ hotel                          \u001b[3m\u001b[90m<fct>\u001b[39m\u001b[23m City_Hotel, City_Hotel, Resort_Hotel, R…\n",
      "$ lead_time                      \u001b[3m\u001b[90m<dbl>\u001b[39m\u001b[23m 217, 2, 143, 136, 47, 56, 80, 130, 27, …\n",
      "$ stays_in_week_nights           \u001b[3m\u001b[90m<dbl>\u001b[39m\u001b[23m 3, 1, 6, 4, 2, 3, 4, 2, 1, 2, 2, 2, 0, …\n",
      "$ adults                         \u001b[3m\u001b[90m<dbl>\u001b[39m\u001b[23m 2, 2, 2, 2, 2, 0, 2, 2, 1, 2, 2, 2, 1, …\n",
      "$ children                       \u001b[3m\u001b[90m<fct>\u001b[39m\u001b[23m none, none, none, none, children, child…\n",
      "$ meal                           \u001b[3m\u001b[90m<fct>\u001b[39m\u001b[23m BB, BB, HB, HB, BB, BB, BB, BB, BB, BB,…\n",
      "$ country                        \u001b[3m\u001b[90m<fct>\u001b[39m\u001b[23m DEU, PRT, ROU, PRT, ESP, ESP, FRA, FRA,…\n",
      "$ market_segment                 \u001b[3m\u001b[90m<fct>\u001b[39m\u001b[23m Offline_TA/TO, Direct, Online_TA, Direc…\n",
      "$ distribution_channel           \u001b[3m\u001b[90m<fct>\u001b[39m\u001b[23m TA/TO, Direct, TA/TO, Direct, Direct, T…\n",
      "$ is_repeated_guest              \u001b[3m\u001b[90m<dbl>\u001b[39m\u001b[23m 0, 0, 0, 0, 0, 0, 0, 0, 0, 0, 0, 0, 0, …\n",
      "$ previous_cancellations         \u001b[3m\u001b[90m<dbl>\u001b[39m\u001b[23m 0, 0, 0, 0, 0, 0, 0, 0, 0, 0, 0, 0, 0, …\n",
      "$ previous_bookings_not_canceled \u001b[3m\u001b[90m<dbl>\u001b[39m\u001b[23m 0, 0, 0, 0, 0, 0, 0, 0, 0, 0, 0, 0, 0, …\n",
      "$ reserved_room_type             \u001b[3m\u001b[90m<fct>\u001b[39m\u001b[23m A, D, A, F, C, B, D, A, D, A, D, D, E, …\n",
      "$ assigned_room_type             \u001b[3m\u001b[90m<fct>\u001b[39m\u001b[23m A, K, A, F, C, A, D, D, D, A, D, D, E, …\n",
      "$ booking_changes                \u001b[3m\u001b[90m<dbl>\u001b[39m\u001b[23m 0, 0, 0, 0, 0, 0, 0, 0, 0, 0, 0, 0, 0, …\n",
      "$ deposit_type                   \u001b[3m\u001b[90m<fct>\u001b[39m\u001b[23m No_Deposit, No_Deposit, No_Deposit, No_…\n",
      "$ days_in_waiting_list           \u001b[3m\u001b[90m<dbl>\u001b[39m\u001b[23m 0, 0, 0, 0, 0, 0, 0, 0, 0, 0, 0, 0, 0, …\n",
      "$ customer_type                  \u001b[3m\u001b[90m<fct>\u001b[39m\u001b[23m Transient-Party, Transient, Transient, …\n",
      "$ average_daily_rate             \u001b[3m\u001b[90m<dbl>\u001b[39m\u001b[23m 80.75, 170.00, 81.00, 157.60, 289.00, 8…\n",
      "$ required_car_parking_spaces    \u001b[3m\u001b[90m<fct>\u001b[39m\u001b[23m none, none, none, none, none, none, non…\n",
      "$ total_of_special_requests      \u001b[3m\u001b[90m<dbl>\u001b[39m\u001b[23m 1, 3, 1, 4, 1, 1, 1, 0, 1, 0, 0, 0, 0, …\n",
      "$ arrival_date                   \u001b[3m\u001b[90m<date>\u001b[39m\u001b[23m 2016-09-01, 2017-08-25, 2016-04-26, 20…\n",
      "$ spend_weekend                  \u001b[3m\u001b[90m<fct>\u001b[39m\u001b[23m TRUE, FALSE, TRUE, TRUE, FALSE, FALSE, …\n"
     ]
    }
   ],
   "source": [
    "# load hotel booking dataset\n",
    "hotels <-\n",
    "  read_csv('https://tidymodels.org/start/case-study/hotels.csv') %>%\n",
    "  mutate(across(where(is.character), as.factor))\n",
    "\n",
    "data <- hotels %>%  filter(!weekdays(arrival_date) %in% c('Saturday', 'Sunday')) %>%\n",
    "                   mutate(spend_weekend = if_else(stays_in_weekend_nights > 0, TRUE, FALSE)) %>%\n",
    "                   mutate(spend_weekend = factor(spend_weekend, levels = c(TRUE, FALSE))) %>%\n",
    "                   select(-stays_in_weekend_nights)\n",
    "\n",
    "# initial inspection of the data\n",
    "glimpse(data)"
   ]
  },
  {
   "cell_type": "markdown",
   "metadata": {
    "id": "qYNG3Nid1rjM"
   },
   "source": [
    "Exercise 1: The first step in any data analysis task is *data exploration*. Create a plot that shows the relationship between `spend_weekend` and `stays_in_week_nights` ?"
   ]
  },
  {
   "cell_type": "code",
   "execution_count": null,
   "metadata": {
    "id": "k6oicU-UARLR"
   },
   "outputs": [],
   "source": [
    "#### YOUR SOLUTION HERE\n"
   ]
  },
  {
   "cell_type": "markdown",
   "metadata": {
    "id": "e7FpGSBaLKEY"
   },
   "source": [
    "## Data Splitting and Resampling\n",
    "\n",
    "The purpose of splitting the data into different sets is to avoid overfitting. A simple yet effective strategy is to divide our data into training, validation and test set. For this case study, let us reserve 25% of the dataset as our test set. For the remaining dataset, let us create a single resample called the validation set. In `tidymodels`, a validation set is treated as a single iteration of resampling. This will be a split from the stays that was not used for testing, which we called `hotel_other`."
   ]
  },
  {
   "cell_type": "code",
   "execution_count": null,
   "metadata": {
    "id": "LiENqPocKhD5"
   },
   "outputs": [],
   "source": [
    "set.seed(123)\n",
    "\n",
    "# split data into training, validation and test set\n",
    "splits <- initial_split(data, strata = spend_weekend)\n",
    "\n",
    "hotel_other <- training(splits)\n",
    "hotel_test  <- testing(splits)\n",
    "val_set <- validation_split(hotel_other,\n",
    "                            strata = spend_weekend,\n",
    "                            prop = 0.80)"
   ]
  },
  {
   "cell_type": "markdown",
   "metadata": {
    "id": "45eYd4Zn1mfd"
   },
   "source": [
    "Exercise 2: Verify that the percentage of the test data is around 25%, and that the validation set consists of around 20% of the training data."
   ]
  },
  {
   "cell_type": "code",
   "execution_count": null,
   "metadata": {
    "id": "JyI_xgpsAPcG"
   },
   "outputs": [],
   "source": [
    "#### YOUR SOLUTION HERE\n"
   ]
  },
  {
   "cell_type": "markdown",
   "metadata": {
    "id": "5NsII9aOLY7z"
   },
   "source": [
    "## Building Predictive Models"
   ]
  },
  {
   "cell_type": "markdown",
   "metadata": {
    "id": "xrB_dsAUSoOD"
   },
   "source": [
    "### Step 1: Specify a predictive model\n",
    "\n",
    "In today's class, we will build a penalized logistic regression classifier. This can be defined in `tidymodels` using the function `logistic_reg()`. The argument penalty is specified with the `tune()` function for tuning purposes to be explained shortly."
   ]
  },
  {
   "cell_type": "code",
   "execution_count": null,
   "metadata": {
    "id": "Hyxxu0PaJVZ5"
   },
   "outputs": [],
   "source": [
    "lr_mod <- logistic_reg(penalty = tune(), mixture = 1) %>%\n",
    "  set_engine(\"glmnet\")"
   ]
  },
  {
   "cell_type": "markdown",
   "metadata": {
    "id": "uusYNreFSNhz"
   },
   "source": [
    "### Step 2: Create a recipe\n",
    "\n",
    "The `tidymodels` package called `recipes` is designed to help you preprocess your data before training your model. Recipes are built as a series of preprocessing steps, such as:\n",
    "\n",
    "* Converting qualitative predictors to indicator variables (also known as dummy variables),\n",
    "* Transforming data to be on a different scale (e.g., taking the logarithm of a variable),\n",
    "* Transforming whole groups of predictors together,\n",
    "* Extracting key features from raw variables (e.g., getting the day of the week out of a date variable),"
   ]
  },
  {
   "cell_type": "code",
   "execution_count": null,
   "metadata": {
    "id": "15Rjb0WPMYqU"
   },
   "outputs": [],
   "source": [
    "holidays <- c(\"AllSouls\", \"AshWednesday\", \"ChristmasEve\", \"Easter\",\n",
    "              \"ChristmasDay\", \"GoodFriday\", \"NewYearsDay\", \"PalmSunday\")\n",
    "\n",
    "lr_recipe <- recipe(spend_weekend ~ ., data = hotel_other) %>%\n",
    "  step_date(arrival_date) %>%\n",
    "  step_holiday(arrival_date, holidays = holidays) %>%\n",
    "  step_rm(arrival_date) %>%\n",
    "  step_dummy(all_nominal_predictors()) %>%\n",
    "  step_zv(all_predictors()) %>%\n",
    "  step_normalize(all_predictors())"
   ]
  },
  {
   "cell_type": "markdown",
   "metadata": {
    "id": "O4_QfINCO6zF"
   },
   "source": [
    "In the above receipe,\n",
    "\n",
    "* `step_date()` creates predictors for the year, month, and day of the week.\n",
    "* `step_holiday()` generates a set of indicator variables for specific holidays. Although we do not know where these two hotels are located, we do know that the countries for origin for most stays are based in Europe.\n",
    "* `step_rm()` removes variables; here we’ll use it to remove the original date variable since we no longer want it in the model.\n",
    "\n",
    "Additionally, all categorical predictors (e.g., distribution_channel, hotel, …) should be converted to dummy variables, and all numeric predictors need to be centered and scaled.\n",
    "\n",
    "* `step_dummy()` converts characters or factors (i.e., nominal variables) into one or more numeric binary model terms for the levels of the original data.\n",
    "* `step_zv()` removes indicator variables that only contain a single unique value (e.g. all zeros). This is important because, for penalized models, the predictors should be centered and scaled.\n",
    "* `step_normalize()` centers and scales numeric variables."
   ]
  },
  {
   "cell_type": "markdown",
   "metadata": {
    "id": "29MV8TqdTI-F"
   },
   "source": [
    "### Step 3: Create a workflow\n",
    "\n",
    "We will want to use our recipe across several steps as we train and test our model. We will:\n",
    "\n",
    "* Process the recipe using the training set\n",
    "\n",
    "This involves any estimation or calculations based on the training set. For our recipe, the training set will be used to determine which predictors should be converted to dummy variables and which predictors will have zero-variance in the training set, and should be slated for removal.\n",
    "\n",
    "* Apply the recipe to the training set\n",
    "\n",
    "We create the final predictor set on the training set.\n",
    "\n",
    "* Apply the recipe to the test set\n",
    "\n",
    "We create the final predictor set on the test set. Nothing is recomputed and no information from the test set is used here; the dummy variable and zero-variance results from the training set are applied to the test set.\n",
    "\n",
    "To simplify this process, we can use a model workflow, which pairs a model and recipe together."
   ]
  },
  {
   "cell_type": "code",
   "execution_count": null,
   "metadata": {
    "id": "moC3Xvg1NohF"
   },
   "outputs": [],
   "source": [
    "lr_workflow <- workflow() %>%\n",
    "  add_model(lr_mod) %>%\n",
    "  add_recipe(lr_recipe)"
   ]
  },
  {
   "cell_type": "markdown",
   "metadata": {
    "id": "5_PWv_jMTh6W"
   },
   "source": [
    "### Step 4: Tune the model and evaluate its performance metrics\n",
    "\n",
    "Recall in Step 1 that the penalty argument in `logistic_reg()` is specified with `tune()`. The penalty is a hyperparameter used by penalized logistic regression model. We tune the model hyperparameters to avoid overfitting, by first creating a grid of possible values."
   ]
  },
  {
   "cell_type": "code",
   "execution_count": null,
   "metadata": {
    "colab": {
     "base_uri": "https://localhost:8080/",
     "height": 528
    },
    "id": "FUpQkla0QZkf",
    "outputId": "ad0c5a73-8885-4863-e5b0-1e37d3eccbe7"
   },
   "outputs": [
    {
     "name": "stderr",
     "output_type": "stream",
     "text": [
      "\u001b[1m\u001b[22mSelecting by penalty\n"
     ]
    },
    {
     "data": {
      "text/html": [
       "<table class=\"dataframe\">\n",
       "<caption>A tibble: 5 × 1</caption>\n",
       "<thead>\n",
       "\t<tr><th scope=col>penalty</th></tr>\n",
       "\t<tr><th scope=col>&lt;dbl&gt;</th></tr>\n",
       "</thead>\n",
       "<tbody>\n",
       "\t<tr><td>0.0001000000</td></tr>\n",
       "\t<tr><td>0.0001268961</td></tr>\n",
       "\t<tr><td>0.0001610262</td></tr>\n",
       "\t<tr><td>0.0002043360</td></tr>\n",
       "\t<tr><td>0.0002592944</td></tr>\n",
       "</tbody>\n",
       "</table>\n"
      ],
      "text/latex": [
       "A tibble: 5 × 1\n",
       "\\begin{tabular}{l}\n",
       " penalty\\\\\n",
       " <dbl>\\\\\n",
       "\\hline\n",
       "\t 0.0001000000\\\\\n",
       "\t 0.0001268961\\\\\n",
       "\t 0.0001610262\\\\\n",
       "\t 0.0002043360\\\\\n",
       "\t 0.0002592944\\\\\n",
       "\\end{tabular}\n"
      ],
      "text/markdown": [
       "\n",
       "A tibble: 5 × 1\n",
       "\n",
       "| penalty &lt;dbl&gt; |\n",
       "|---|\n",
       "| 0.0001000000 |\n",
       "| 0.0001268961 |\n",
       "| 0.0001610262 |\n",
       "| 0.0002043360 |\n",
       "| 0.0002592944 |\n",
       "\n"
      ],
      "text/plain": [
       "  penalty     \n",
       "1 0.0001000000\n",
       "2 0.0001268961\n",
       "3 0.0001610262\n",
       "4 0.0002043360\n",
       "5 0.0002592944"
      ]
     },
     "metadata": {},
     "output_type": "display_data"
    },
    {
     "name": "stderr",
     "output_type": "stream",
     "text": [
      "\u001b[1m\u001b[22mSelecting by penalty\n"
     ]
    },
    {
     "data": {
      "text/html": [
       "<table class=\"dataframe\">\n",
       "<caption>A tibble: 5 × 1</caption>\n",
       "<thead>\n",
       "\t<tr><th scope=col>penalty</th></tr>\n",
       "\t<tr><th scope=col>&lt;dbl&gt;</th></tr>\n",
       "</thead>\n",
       "<tbody>\n",
       "\t<tr><td>0.03856620</td></tr>\n",
       "\t<tr><td>0.04893901</td></tr>\n",
       "\t<tr><td>0.06210169</td></tr>\n",
       "\t<tr><td>0.07880463</td></tr>\n",
       "\t<tr><td>0.10000000</td></tr>\n",
       "</tbody>\n",
       "</table>\n"
      ],
      "text/latex": [
       "A tibble: 5 × 1\n",
       "\\begin{tabular}{l}\n",
       " penalty\\\\\n",
       " <dbl>\\\\\n",
       "\\hline\n",
       "\t 0.03856620\\\\\n",
       "\t 0.04893901\\\\\n",
       "\t 0.06210169\\\\\n",
       "\t 0.07880463\\\\\n",
       "\t 0.10000000\\\\\n",
       "\\end{tabular}\n"
      ],
      "text/markdown": [
       "\n",
       "A tibble: 5 × 1\n",
       "\n",
       "| penalty &lt;dbl&gt; |\n",
       "|---|\n",
       "| 0.03856620 |\n",
       "| 0.04893901 |\n",
       "| 0.06210169 |\n",
       "| 0.07880463 |\n",
       "| 0.10000000 |\n",
       "\n"
      ],
      "text/plain": [
       "  penalty   \n",
       "1 0.03856620\n",
       "2 0.04893901\n",
       "3 0.06210169\n",
       "4 0.07880463\n",
       "5 0.10000000"
      ]
     },
     "metadata": {},
     "output_type": "display_data"
    }
   ],
   "source": [
    "lr_reg_grid <- tibble(penalty = 10 ^ seq(-4, -1, length.out = 30)) # create the grid of possible values to tune penalty hyperparameter\n",
    "\n",
    "lr_reg_grid %>% top_n(-5) # lowest penalty values\n",
    "\n",
    "lr_reg_grid %>% top_n(5) # highest penalty values"
   ]
  },
  {
   "cell_type": "markdown",
   "metadata": {
    "id": "yZnc-0Vl6gwl"
   },
   "source": [
    "Next, let us use `tune::tune_grid()` to train these 30 penalized logistic regression models. We will also save the validation set predictions (via the call to `control_grid()`) so that diagnostic information can be available after the model fit. The area under the ROC curve will be used to quantify how well the model performs across a continuum of event thresholds."
   ]
  },
  {
   "cell_type": "code",
   "execution_count": null,
   "metadata": {
    "id": "ScOLrgK1QekU"
   },
   "outputs": [],
   "source": [
    "lr_res <- lr_workflow %>%\n",
    "  tune_grid(val_set,\n",
    "            grid = lr_reg_grid,\n",
    "            control = control_grid(save_pred = TRUE),\n",
    "            metrics = metric_set(roc_auc))"
   ]
  },
  {
   "cell_type": "markdown",
   "metadata": {
    "id": "3v1ASd2b6mt-"
   },
   "source": [
    "It might be easier to visualize the validation set metrics by plotting the area under the ROC curve against the range of penalty values. The area under a receiver operating characteristic (ROC) curve, abbreviated as AUC, is a single scalar value that measures the overall performance of a binary classifier. The AUC value is within the range [0.5, 1.0], where the minimum value represents the performance of a random classifier and the maximum value would correspond to a perfect classifier (e.g., with a classification error rate equivalent to zero)."
   ]
  },
  {
   "cell_type": "code",
   "execution_count": null,
   "metadata": {
    "colab": {
     "base_uri": "https://localhost:8080/",
     "height": 377
    },
    "id": "fkolMmXmTqi4",
    "outputId": "59356225-da9c-4bdb-bc1a-d44d60c46823"
   },
   "outputs": [
    {
     "data": {
      "image/png": "[encoded data removed]",
      "text/plain": [
       "plot without title"
      ]
     },
     "metadata": {
      "image/png": {
       "height": 360,
       "width": 480
      }
     },
     "output_type": "display_data"
    }
   ],
   "source": [
    "lr_plot <- lr_res %>%\n",
    "  collect_metrics() %>%\n",
    "  ggplot(aes(x = penalty, y = mean)) +\n",
    "  geom_point() +\n",
    "  geom_line() +\n",
    "  ylab(\"Area under the ROC Curve\") +\n",
    "  scale_x_log10(labels = scales::label_number()) +\n",
    "  theme_bw()\n",
    "\n",
    "lr_plot"
   ]
  },
  {
   "cell_type": "code",
   "execution_count": null,
   "metadata": {
    "colab": {
     "base_uri": "https://localhost:8080/",
     "height": 568
    },
    "id": "HPAhx38rUDJE",
    "outputId": "5055741b-99ae-4c67-8ce5-5ab58d2ad831"
   },
   "outputs": [
    {
     "data": {
      "text/html": [
       "<table class=\"dataframe\">\n",
       "<caption>A tibble: 15 × 7</caption>\n",
       "<thead>\n",
       "\t<tr><th scope=col>penalty</th><th scope=col>.metric</th><th scope=col>.estimator</th><th scope=col>mean</th><th scope=col>n</th><th scope=col>std_err</th><th scope=col>.config</th></tr>\n",
       "\t<tr><th scope=col>&lt;dbl&gt;</th><th scope=col>&lt;chr&gt;</th><th scope=col>&lt;chr&gt;</th><th scope=col>&lt;dbl&gt;</th><th scope=col>&lt;int&gt;</th><th scope=col>&lt;dbl&gt;</th><th scope=col>&lt;chr&gt;</th></tr>\n",
       "</thead>\n",
       "<tbody>\n",
       "\t<tr><td>0.0001000000</td><td>roc_auc</td><td>binary</td><td>0.9654189</td><td>1</td><td>NA</td><td>Preprocessor1_Model01</td></tr>\n",
       "\t<tr><td>0.0001268961</td><td>roc_auc</td><td>binary</td><td>0.9654104</td><td>1</td><td>NA</td><td>Preprocessor1_Model02</td></tr>\n",
       "\t<tr><td>0.0001610262</td><td>roc_auc</td><td>binary</td><td>0.9654304</td><td>1</td><td>NA</td><td>Preprocessor1_Model03</td></tr>\n",
       "\t<tr><td>0.0002043360</td><td>roc_auc</td><td>binary</td><td>0.9654042</td><td>1</td><td>NA</td><td>Preprocessor1_Model04</td></tr>\n",
       "\t<tr><td>0.0002592944</td><td>roc_auc</td><td>binary</td><td>0.9653791</td><td>1</td><td>NA</td><td>Preprocessor1_Model05</td></tr>\n",
       "\t<tr><td>0.0003290345</td><td>roc_auc</td><td>binary</td><td>0.9653906</td><td>1</td><td>NA</td><td>Preprocessor1_Model06</td></tr>\n",
       "\t<tr><td>0.0004175319</td><td>roc_auc</td><td>binary</td><td>0.9654431</td><td>1</td><td>NA</td><td>Preprocessor1_Model07</td></tr>\n",
       "\t<tr><td>0.0005298317</td><td>roc_auc</td><td>binary</td><td>0.9654656</td><td>1</td><td>NA</td><td>Preprocessor1_Model08</td></tr>\n",
       "\t<tr><td>0.0006723358</td><td>roc_auc</td><td>binary</td><td>0.9654708</td><td>1</td><td>NA</td><td>Preprocessor1_Model09</td></tr>\n",
       "\t<tr><td>0.0008531679</td><td>roc_auc</td><td>binary</td><td>0.9654240</td><td>1</td><td>NA</td><td>Preprocessor1_Model10</td></tr>\n",
       "\t<tr><td>0.0010826367</td><td>roc_auc</td><td>binary</td><td>0.9652972</td><td>1</td><td>NA</td><td>Preprocessor1_Model11</td></tr>\n",
       "\t<tr><td>0.0013738238</td><td>roc_auc</td><td>binary</td><td>0.9650346</td><td>1</td><td>NA</td><td>Preprocessor1_Model12</td></tr>\n",
       "\t<tr><td>0.0017433288</td><td>roc_auc</td><td>binary</td><td>0.9646832</td><td>1</td><td>NA</td><td>Preprocessor1_Model13</td></tr>\n",
       "\t<tr><td>0.0022122163</td><td>roc_auc</td><td>binary</td><td>0.9641824</td><td>1</td><td>NA</td><td>Preprocessor1_Model14</td></tr>\n",
       "\t<tr><td>0.0028072162</td><td>roc_auc</td><td>binary</td><td>0.9637120</td><td>1</td><td>NA</td><td>Preprocessor1_Model15</td></tr>\n",
       "</tbody>\n",
       "</table>\n"
      ],
      "text/latex": [
       "A tibble: 15 × 7\n",
       "\\begin{tabular}{lllllll}\n",
       " penalty & .metric & .estimator & mean & n & std\\_err & .config\\\\\n",
       " <dbl> & <chr> & <chr> & <dbl> & <int> & <dbl> & <chr>\\\\\n",
       "\\hline\n",
       "\t 0.0001000000 & roc\\_auc & binary & 0.9654189 & 1 & NA & Preprocessor1\\_Model01\\\\\n",
       "\t 0.0001268961 & roc\\_auc & binary & 0.9654104 & 1 & NA & Preprocessor1\\_Model02\\\\\n",
       "\t 0.0001610262 & roc\\_auc & binary & 0.9654304 & 1 & NA & Preprocessor1\\_Model03\\\\\n",
       "\t 0.0002043360 & roc\\_auc & binary & 0.9654042 & 1 & NA & Preprocessor1\\_Model04\\\\\n",
       "\t 0.0002592944 & roc\\_auc & binary & 0.9653791 & 1 & NA & Preprocessor1\\_Model05\\\\\n",
       "\t 0.0003290345 & roc\\_auc & binary & 0.9653906 & 1 & NA & Preprocessor1\\_Model06\\\\\n",
       "\t 0.0004175319 & roc\\_auc & binary & 0.9654431 & 1 & NA & Preprocessor1\\_Model07\\\\\n",
       "\t 0.0005298317 & roc\\_auc & binary & 0.9654656 & 1 & NA & Preprocessor1\\_Model08\\\\\n",
       "\t 0.0006723358 & roc\\_auc & binary & 0.9654708 & 1 & NA & Preprocessor1\\_Model09\\\\\n",
       "\t 0.0008531679 & roc\\_auc & binary & 0.9654240 & 1 & NA & Preprocessor1\\_Model10\\\\\n",
       "\t 0.0010826367 & roc\\_auc & binary & 0.9652972 & 1 & NA & Preprocessor1\\_Model11\\\\\n",
       "\t 0.0013738238 & roc\\_auc & binary & 0.9650346 & 1 & NA & Preprocessor1\\_Model12\\\\\n",
       "\t 0.0017433288 & roc\\_auc & binary & 0.9646832 & 1 & NA & Preprocessor1\\_Model13\\\\\n",
       "\t 0.0022122163 & roc\\_auc & binary & 0.9641824 & 1 & NA & Preprocessor1\\_Model14\\\\\n",
       "\t 0.0028072162 & roc\\_auc & binary & 0.9637120 & 1 & NA & Preprocessor1\\_Model15\\\\\n",
       "\\end{tabular}\n"
      ],
      "text/markdown": [
       "\n",
       "A tibble: 15 × 7\n",
       "\n",
       "| penalty &lt;dbl&gt; | .metric &lt;chr&gt; | .estimator &lt;chr&gt; | mean &lt;dbl&gt; | n &lt;int&gt; | std_err &lt;dbl&gt; | .config &lt;chr&gt; |\n",
       "|---|---|---|---|---|---|---|\n",
       "| 0.0001000000 | roc_auc | binary | 0.9654189 | 1 | NA | Preprocessor1_Model01 |\n",
       "| 0.0001268961 | roc_auc | binary | 0.9654104 | 1 | NA | Preprocessor1_Model02 |\n",
       "| 0.0001610262 | roc_auc | binary | 0.9654304 | 1 | NA | Preprocessor1_Model03 |\n",
       "| 0.0002043360 | roc_auc | binary | 0.9654042 | 1 | NA | Preprocessor1_Model04 |\n",
       "| 0.0002592944 | roc_auc | binary | 0.9653791 | 1 | NA | Preprocessor1_Model05 |\n",
       "| 0.0003290345 | roc_auc | binary | 0.9653906 | 1 | NA | Preprocessor1_Model06 |\n",
       "| 0.0004175319 | roc_auc | binary | 0.9654431 | 1 | NA | Preprocessor1_Model07 |\n",
       "| 0.0005298317 | roc_auc | binary | 0.9654656 | 1 | NA | Preprocessor1_Model08 |\n",
       "| 0.0006723358 | roc_auc | binary | 0.9654708 | 1 | NA | Preprocessor1_Model09 |\n",
       "| 0.0008531679 | roc_auc | binary | 0.9654240 | 1 | NA | Preprocessor1_Model10 |\n",
       "| 0.0010826367 | roc_auc | binary | 0.9652972 | 1 | NA | Preprocessor1_Model11 |\n",
       "| 0.0013738238 | roc_auc | binary | 0.9650346 | 1 | NA | Preprocessor1_Model12 |\n",
       "| 0.0017433288 | roc_auc | binary | 0.9646832 | 1 | NA | Preprocessor1_Model13 |\n",
       "| 0.0022122163 | roc_auc | binary | 0.9641824 | 1 | NA | Preprocessor1_Model14 |\n",
       "| 0.0028072162 | roc_auc | binary | 0.9637120 | 1 | NA | Preprocessor1_Model15 |\n",
       "\n"
      ],
      "text/plain": [
       "   penalty      .metric .estimator mean      n std_err .config              \n",
       "1  0.0001000000 roc_auc binary     0.9654189 1 NA      Preprocessor1_Model01\n",
       "2  0.0001268961 roc_auc binary     0.9654104 1 NA      Preprocessor1_Model02\n",
       "3  0.0001610262 roc_auc binary     0.9654304 1 NA      Preprocessor1_Model03\n",
       "4  0.0002043360 roc_auc binary     0.9654042 1 NA      Preprocessor1_Model04\n",
       "5  0.0002592944 roc_auc binary     0.9653791 1 NA      Preprocessor1_Model05\n",
       "6  0.0003290345 roc_auc binary     0.9653906 1 NA      Preprocessor1_Model06\n",
       "7  0.0004175319 roc_auc binary     0.9654431 1 NA      Preprocessor1_Model07\n",
       "8  0.0005298317 roc_auc binary     0.9654656 1 NA      Preprocessor1_Model08\n",
       "9  0.0006723358 roc_auc binary     0.9654708 1 NA      Preprocessor1_Model09\n",
       "10 0.0008531679 roc_auc binary     0.9654240 1 NA      Preprocessor1_Model10\n",
       "11 0.0010826367 roc_auc binary     0.9652972 1 NA      Preprocessor1_Model11\n",
       "12 0.0013738238 roc_auc binary     0.9650346 1 NA      Preprocessor1_Model12\n",
       "13 0.0017433288 roc_auc binary     0.9646832 1 NA      Preprocessor1_Model13\n",
       "14 0.0022122163 roc_auc binary     0.9641824 1 NA      Preprocessor1_Model14\n",
       "15 0.0028072162 roc_auc binary     0.9637120 1 NA      Preprocessor1_Model15"
      ]
     },
     "metadata": {},
     "output_type": "display_data"
    }
   ],
   "source": [
    "top_models <- lr_res %>%\n",
    "  show_best(\"roc_auc\", n = 15) %>%\n",
    "  arrange(penalty)\n",
    "\n",
    "top_models"
   ]
  },
  {
   "cell_type": "markdown",
   "metadata": {
    "id": "jWinG_w-7Syx"
   },
   "source": [
    "This plots shows us that model performance is generally better at the smaller penalty values. This suggests that the majority of the predictors are important to the model. We use `select_best()` to pick the best penalty hyperparameter value and visualize the validation set ROC curve:"
   ]
  },
  {
   "cell_type": "code",
   "execution_count": null,
   "metadata": {
    "colab": {
     "base_uri": "https://localhost:8080/",
     "height": 129
    },
    "id": "CXoBNh6sURrv",
    "outputId": "58322c7b-2605-4e9e-ba7d-25aaf0ea1f34"
   },
   "outputs": [
    {
     "data": {
      "text/html": [
       "<table class=\"dataframe\">\n",
       "<caption>A tibble: 1 × 2</caption>\n",
       "<thead>\n",
       "\t<tr><th scope=col>penalty</th><th scope=col>.config</th></tr>\n",
       "\t<tr><th scope=col>&lt;dbl&gt;</th><th scope=col>&lt;chr&gt;</th></tr>\n",
       "</thead>\n",
       "<tbody>\n",
       "\t<tr><td>0.0006723358</td><td>Preprocessor1_Model09</td></tr>\n",
       "</tbody>\n",
       "</table>\n"
      ],
      "text/latex": [
       "A tibble: 1 × 2\n",
       "\\begin{tabular}{ll}\n",
       " penalty & .config\\\\\n",
       " <dbl> & <chr>\\\\\n",
       "\\hline\n",
       "\t 0.0006723358 & Preprocessor1\\_Model09\\\\\n",
       "\\end{tabular}\n"
      ],
      "text/markdown": [
       "\n",
       "A tibble: 1 × 2\n",
       "\n",
       "| penalty &lt;dbl&gt; | .config &lt;chr&gt; |\n",
       "|---|---|\n",
       "| 0.0006723358 | Preprocessor1_Model09 |\n",
       "\n"
      ],
      "text/plain": [
       "  penalty      .config              \n",
       "1 0.0006723358 Preprocessor1_Model09"
      ]
     },
     "metadata": {},
     "output_type": "display_data"
    }
   ],
   "source": [
    "lr_best <- lr_res %>%\n",
    "  select_best()\n",
    "\n",
    "lr_best"
   ]
  },
  {
   "cell_type": "code",
   "execution_count": null,
   "metadata": {
    "colab": {
     "base_uri": "https://localhost:8080/",
     "height": 377
    },
    "id": "DNqwg8TiVdJ0",
    "outputId": "61f9cffa-1cd3-4040-dee0-e7f28f73424e"
   },
   "outputs": [
    {
     "data": {
      "image/png": "[encoded data removed]",
      "text/plain": [
       "plot without title"
      ]
     },
     "metadata": {
      "image/png": {
       "height": 360,
       "width": 480
      }
     },
     "output_type": "display_data"
    }
   ],
   "source": [
    "lr_auc <- lr_res %>%\n",
    "  collect_predictions(parameters = lr_best) %>%\n",
    "  roc_curve(spend_weekend, .pred_TRUE) %>%\n",
    "  mutate(model = \"Logistic Regression\")\n",
    "\n",
    "autoplot(lr_auc)"
   ]
  },
  {
   "cell_type": "markdown",
   "metadata": {
    "id": "f7epqRmk7s9_"
   },
   "source": [
    "An ROC curve (receiver operating characteristic curve) is a graph showing the performance of a classification model at all classification thresholds. This curve plots two parameters: sensitivity and one minus specificity.\n",
    "\n",
    "* Sensitivity is the metric used for evaluating a model's ability to predict the true positives of each available category.\n",
    "* Specificity is the the model's ability to predict the true negatives of each category available.\n",
    "\n",
    "The ROC curve shows the trade-off between sensitivity and specificity. Better classifiers tend to have their curves closer to the top-left corner."
   ]
  },
  {
   "cell_type": "markdown",
   "metadata": {
    "id": "mm4sv1N8ccQQ"
   },
   "source": [
    "## The last fit"
   ]
  },
  {
   "cell_type": "markdown",
   "metadata": {
    "id": "iQuEyy9wdJRh"
   },
   "source": [
    "Now that we picked the best logic regression penalized value, the last step is to fit the final model on all rows of data not originally held out for testing (both the training and the validation sets combined), and then evaluate the model performance one last time with the held-out test set."
   ]
  },
  {
   "cell_type": "code",
   "execution_count": null,
   "metadata": {
    "id": "MC52NVbmchiE"
   },
   "outputs": [],
   "source": [
    "# the last model\n",
    "last_lr_mod <- logistic_reg(penalty = 0.00067, mixture = 1) %>%\n",
    "  set_engine(\"glmnet\")\n",
    "\n",
    "# the LR workflow\n",
    "last_lr_workflow <- lr_workflow %>%\n",
    "  update_model(last_lr_mod)\n",
    "\n",
    "# the last fit\n",
    "set.seed(345)\n",
    "\n",
    "last_lr_fit <- last_lr_workflow %>%\n",
    "  last_fit(splits)"
   ]
  },
  {
   "cell_type": "markdown",
   "metadata": {
    "id": "cbseA9oU3T-t"
   },
   "source": [
    "Exercise 3: create AUC-ROC plot for the last fitted model on the test set. How does it compare to performance over the validation set in the last section ?"
   ]
  },
  {
   "cell_type": "code",
   "execution_count": null,
   "metadata": {
    "id": "Xb09oAJR3u95"
   },
   "outputs": [],
   "source": [
    "#### YOUR SOLUTION HERE\n"
   ]
  },
  {
   "cell_type": "markdown",
   "metadata": {
    "id": "IgGQBNt_8uXe"
   },
   "source": [
    "Finally, we extract the estimated coefficients from the last fitted model and plot them out. As illustrated in the below, `stay_in_week_nights` and `arrival_date` are the two most siginifcant features in predicting if customers stay over weeekends."
   ]
  },
  {
   "cell_type": "code",
   "execution_count": null,
   "metadata": {
    "colab": {
     "base_uri": "https://localhost:8080/",
     "height": 1000
    },
    "id": "VMyfJgXCrQeA",
    "outputId": "b21a769c-3eaf-4645-df7a-e3d7f6a07430"
   },
   "outputs": [
    {
     "data": {
      "image/png": "[encoded data removed]",
      "text/plain": [
       "plot without title"
      ]
     },
     "metadata": {
      "image/png": {
       "height": 1800,
       "width": 360
      }
     },
     "output_type": "display_data"
    }
   ],
   "source": [
    "options(repr.plot.width= 6, repr.plot.height=30)\n",
    "\n",
    "last_lr_fit %>%\n",
    "  extract_fit_parsnip() %>%\n",
    "  tidy() %>%\n",
    "  ggplot() + geom_col(aes(y = term, x = estimate))"
   ]
  }
 ],
 "metadata": {
  "colab": {
   "provenance": []
  },
  "kernelspec": {
   "display_name": "R",
   "language": "R",
   "name": "ir"
  },
  "language_info": {
   "codemirror_mode": "r",
   "file_extension": ".r",
   "mimetype": "text/x-r-source",
   "name": "R",
   "pygments_lexer": "r",
   "version": "4.3.1"
  }
 },
 "nbformat": 4,
 "nbformat_minor": 4
}
