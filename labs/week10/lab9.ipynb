{
  "cells": [
    {
      "cell_type": "markdown",
      "id": "3eaede6b",
      "metadata": {
        "id": "3eaede6b"
      },
      "source": [
        "# Lab 9: Factors, dates and times\n",
        "\n",
        "\n"
      ]
    },
    {
      "cell_type": "code",
      "execution_count": null,
      "id": "9b236192",
      "metadata": {
        "id": "9b236192",
        "colab": {
          "base_uri": "https://localhost:8080/"
        },
        "outputId": "e2b3d527-be7d-4df5-cb13-5b25c1d5c103"
      },
      "outputs": [
        {
          "output_type": "stream",
          "name": "stderr",
          "text": [
            "Installing package into ‘/usr/local/lib/R/site-library’\n",
            "(as ‘lib’ is unspecified)\n",
            "\n",
            "── \u001b[1mAttaching core tidyverse packages\u001b[22m ──────────────────────── tidyverse 2.0.0 ──\n",
            "\u001b[32m✔\u001b[39m \u001b[34mdplyr    \u001b[39m 1.1.3     \u001b[32m✔\u001b[39m \u001b[34mreadr    \u001b[39m 2.1.4\n",
            "\u001b[32m✔\u001b[39m \u001b[34mforcats  \u001b[39m 1.0.0     \u001b[32m✔\u001b[39m \u001b[34mstringr  \u001b[39m 1.5.0\n",
            "\u001b[32m✔\u001b[39m \u001b[34mggplot2  \u001b[39m 3.4.4     \u001b[32m✔\u001b[39m \u001b[34mtibble   \u001b[39m 3.2.1\n",
            "\u001b[32m✔\u001b[39m \u001b[34mlubridate\u001b[39m 1.9.3     \u001b[32m✔\u001b[39m \u001b[34mtidyr    \u001b[39m 1.3.0\n",
            "\u001b[32m✔\u001b[39m \u001b[34mpurrr    \u001b[39m 1.0.2     \n",
            "── \u001b[1mConflicts\u001b[22m ────────────────────────────────────────── tidyverse_conflicts() ──\n",
            "\u001b[31m✖\u001b[39m \u001b[34mdplyr\u001b[39m::\u001b[32mfilter()\u001b[39m masks \u001b[34mstats\u001b[39m::filter()\n",
            "\u001b[31m✖\u001b[39m \u001b[34mdplyr\u001b[39m::\u001b[32mlag()\u001b[39m    masks \u001b[34mstats\u001b[39m::lag()\n",
            "\u001b[36mℹ\u001b[39m Use the conflicted package (\u001b[3m\u001b[34m<http://conflicted.r-lib.org/>\u001b[39m\u001b[23m) to force all conflicts to become errors\n"
          ]
        }
      ],
      "source": [
        "install.packages(\"nycflights13\")\n",
        "\n",
        "library(tidyverse)\n",
        "library(nycflights13)\n",
        "library(lubridate)"
      ]
    },
    {
      "cell_type": "markdown",
      "id": "bb5d119a",
      "metadata": {
        "id": "bb5d119a"
      },
      "source": [
        "## Factors basics"
      ]
    },
    {
      "cell_type": "markdown",
      "id": "21f79685",
      "metadata": {
        "id": "21f79685"
      },
      "source": [
        "Throughout this course we have encountered factor variables, but have yet to explore what a `factor` is in R. Factors are used to process cateogrical data in R. At a surface level, they look like character variables but have additional proporties that provide convenience when peforming data analysis.\n",
        "\n",
        "In this section of the lab we will cover how to construct and modify factors."
      ]
    },
    {
      "cell_type": "markdown",
      "id": "6d30a278",
      "metadata": {
        "id": "6d30a278"
      },
      "source": [
        "### Creating factors"
      ]
    },
    {
      "cell_type": "markdown",
      "id": "bfd82774",
      "metadata": {
        "id": "bfd82774"
      },
      "source": [
        "Imagine that we have the the following responses to a particular question in a student evaluation:"
      ]
    },
    {
      "cell_type": "code",
      "execution_count": null,
      "id": "fe6e44e8",
      "metadata": {
        "id": "fe6e44e8"
      },
      "outputs": [],
      "source": [
        "response = c(\"Agree\", \"Agree\", \"Strongly Agree\", \"Disagree\", \"Agree\")"
      ]
    },
    {
      "cell_type": "code",
      "execution_count": null,
      "id": "9dd0d3ec",
      "metadata": {
        "id": "9dd0d3ec",
        "colab": {
          "base_uri": "https://localhost:8080/",
          "height": 52
        },
        "outputId": "5b07cfcf-abb8-44f2-a961-69c9a312498e"
      },
      "outputs": [
        {
          "output_type": "display_data",
          "data": {
            "text/html": [
              "<style>\n",
              ".list-inline {list-style: none; margin:0; padding: 0}\n",
              ".list-inline>li {display: inline-block}\n",
              ".list-inline>li:not(:last-child)::after {content: \"\\00b7\"; padding: 0 .5ex}\n",
              "</style>\n",
              "<ol class=list-inline><li>'Agree'</li><li>'Agree'</li><li>'Strongly Agree'</li><li>'Disagree'</li><li>'Agree'</li></ol>\n"
            ],
            "text/markdown": "1. 'Agree'\n2. 'Agree'\n3. 'Strongly Agree'\n4. 'Disagree'\n5. 'Agree'\n\n\n",
            "text/latex": "\\begin{enumerate*}\n\\item 'Agree'\n\\item 'Agree'\n\\item 'Strongly Agree'\n\\item 'Disagree'\n\\item 'Agree'\n\\end{enumerate*}\n",
            "text/plain": [
              "[1] \"Agree\"          \"Agree\"          \"Strongly Agree\" \"Disagree\"      \n",
              "[5] \"Agree\"         "
            ]
          },
          "metadata": {}
        },
        {
          "output_type": "display_data",
          "data": {
            "text/html": [
              "'character'"
            ],
            "text/markdown": "'character'",
            "text/latex": "'character'",
            "text/plain": [
              "[1] \"character\""
            ]
          },
          "metadata": {}
        }
      ],
      "source": [
        "response\n",
        "class(response)"
      ]
    },
    {
      "cell_type": "markdown",
      "id": "2f92e96c",
      "metadata": {
        "id": "2f92e96c"
      },
      "source": [
        "Currently, `response` is a character vector. Certain operations in R may not interact with this object the way we would like given our interpretation of the values. For example, sorting the vector orders it alphabetically though we may want to sort it according to the degree the student agrees with the statment."
      ]
    },
    {
      "cell_type": "code",
      "execution_count": null,
      "id": "8af67ba6",
      "metadata": {
        "id": "8af67ba6",
        "colab": {
          "base_uri": "https://localhost:8080/",
          "height": 34
        },
        "outputId": "a2d9601f-5dfc-479c-c036-45b30ef39253"
      },
      "outputs": [
        {
          "output_type": "display_data",
          "data": {
            "text/html": [
              "<style>\n",
              ".list-inline {list-style: none; margin:0; padding: 0}\n",
              ".list-inline>li {display: inline-block}\n",
              ".list-inline>li:not(:last-child)::after {content: \"\\00b7\"; padding: 0 .5ex}\n",
              "</style>\n",
              "<ol class=list-inline><li>'Agree'</li><li>'Agree'</li><li>'Agree'</li><li>'Disagree'</li><li>'Strongly Agree'</li></ol>\n"
            ],
            "text/markdown": "1. 'Agree'\n2. 'Agree'\n3. 'Agree'\n4. 'Disagree'\n5. 'Strongly Agree'\n\n\n",
            "text/latex": "\\begin{enumerate*}\n\\item 'Agree'\n\\item 'Agree'\n\\item 'Agree'\n\\item 'Disagree'\n\\item 'Strongly Agree'\n\\end{enumerate*}\n",
            "text/plain": [
              "[1] \"Agree\"          \"Agree\"          \"Agree\"          \"Disagree\"      \n",
              "[5] \"Strongly Agree\""
            ]
          },
          "metadata": {}
        }
      ],
      "source": [
        "sort(response)"
      ]
    },
    {
      "cell_type": "markdown",
      "id": "ddd657ff",
      "metadata": {
        "id": "ddd657ff"
      },
      "source": [
        "Using `factor`, we can add additional structure to the object that better matches our understanding of the variable's values."
      ]
    },
    {
      "cell_type": "code",
      "execution_count": null,
      "id": "22a32034",
      "metadata": {
        "id": "22a32034"
      },
      "outputs": [],
      "source": [
        "response_levels  <- c(\"Strongly Disagree\", \"Disagree\", \"Neutral\", \"Agree\", \"Strongly Agree\")\n",
        "response_fct  <- factor(response, levels = response_levels)"
      ]
    },
    {
      "cell_type": "markdown",
      "id": "b08b74ee",
      "metadata": {
        "id": "b08b74ee"
      },
      "source": [
        "Now, when we sort `response_fct`, it is according to the strength of the statement."
      ]
    },
    {
      "cell_type": "code",
      "execution_count": null,
      "id": "cb6b063c",
      "metadata": {
        "id": "cb6b063c",
        "colab": {
          "base_uri": "https://localhost:8080/",
          "height": 52
        },
        "outputId": "ce639062-8b21-4a83-c202-938cfbe70429"
      },
      "outputs": [
        {
          "output_type": "display_data",
          "data": {
            "text/html": [
              "<style>\n",
              ".list-inline {list-style: none; margin:0; padding: 0}\n",
              ".list-inline>li {display: inline-block}\n",
              ".list-inline>li:not(:last-child)::after {content: \"\\00b7\"; padding: 0 .5ex}\n",
              "</style>\n",
              "<ol class=list-inline><li>Disagree</li><li>Agree</li><li>Agree</li><li>Agree</li><li>Strongly Agree</li></ol>\n",
              "\n",
              "<details>\n",
              "\t<summary style=display:list-item;cursor:pointer>\n",
              "\t\t<strong>Levels</strong>:\n",
              "\t</summary>\n",
              "\t<style>\n",
              "\t.list-inline {list-style: none; margin:0; padding: 0}\n",
              "\t.list-inline>li {display: inline-block}\n",
              "\t.list-inline>li:not(:last-child)::after {content: \"\\00b7\"; padding: 0 .5ex}\n",
              "\t</style>\n",
              "\t<ol class=list-inline><li>'Strongly Disagree'</li><li>'Disagree'</li><li>'Neutral'</li><li>'Agree'</li><li>'Strongly Agree'</li></ol>\n",
              "</details>"
            ],
            "text/markdown": "1. Disagree\n2. Agree\n3. Agree\n4. Agree\n5. Strongly Agree\n\n\n\n**Levels**: 1. 'Strongly Disagree'\n2. 'Disagree'\n3. 'Neutral'\n4. 'Agree'\n5. 'Strongly Agree'\n\n\n",
            "text/latex": "\\begin{enumerate*}\n\\item Disagree\n\\item Agree\n\\item Agree\n\\item Agree\n\\item Strongly Agree\n\\end{enumerate*}\n\n\\emph{Levels}: \\begin{enumerate*}\n\\item 'Strongly Disagree'\n\\item 'Disagree'\n\\item 'Neutral'\n\\item 'Agree'\n\\item 'Strongly Agree'\n\\end{enumerate*}\n",
            "text/plain": [
              "[1] Disagree       Agree          Agree          Agree          Strongly Agree\n",
              "Levels: Strongly Disagree Disagree Neutral Agree Strongly Agree"
            ]
          },
          "metadata": {}
        }
      ],
      "source": [
        "sort(response_fct)"
      ]
    },
    {
      "cell_type": "markdown",
      "id": "8053c3d1",
      "metadata": {
        "id": "8053c3d1"
      },
      "source": [
        "Note that how that values are sorted depends on the order of how the levels appear when inputed to `factor`."
      ]
    },
    {
      "cell_type": "code",
      "execution_count": null,
      "id": "3d1f52d9",
      "metadata": {
        "id": "3d1f52d9",
        "colab": {
          "base_uri": "https://localhost:8080/",
          "height": 52
        },
        "outputId": "528bca58-deea-43a2-b6cf-f606ca208289"
      },
      "outputs": [
        {
          "output_type": "display_data",
          "data": {
            "text/html": [
              "<style>\n",
              ".list-inline {list-style: none; margin:0; padding: 0}\n",
              ".list-inline>li {display: inline-block}\n",
              ".list-inline>li:not(:last-child)::after {content: \"\\00b7\"; padding: 0 .5ex}\n",
              "</style>\n",
              "<ol class=list-inline><li>Strongly Agree</li><li>Disagree</li><li>Agree</li><li>Agree</li><li>Agree</li></ol>\n",
              "\n",
              "<details>\n",
              "\t<summary style=display:list-item;cursor:pointer>\n",
              "\t\t<strong>Levels</strong>:\n",
              "\t</summary>\n",
              "\t<style>\n",
              "\t.list-inline {list-style: none; margin:0; padding: 0}\n",
              "\t.list-inline>li {display: inline-block}\n",
              "\t.list-inline>li:not(:last-child)::after {content: \"\\00b7\"; padding: 0 .5ex}\n",
              "\t</style>\n",
              "\t<ol class=list-inline><li>'Strongly Agree'</li><li>'Disagree'</li><li>'Neutral'</li><li>'Agree'</li><li>'Strongly Disagree'</li></ol>\n",
              "</details>"
            ],
            "text/markdown": "1. Strongly Agree\n2. Disagree\n3. Agree\n4. Agree\n5. Agree\n\n\n\n**Levels**: 1. 'Strongly Agree'\n2. 'Disagree'\n3. 'Neutral'\n4. 'Agree'\n5. 'Strongly Disagree'\n\n\n",
            "text/latex": "\\begin{enumerate*}\n\\item Strongly Agree\n\\item Disagree\n\\item Agree\n\\item Agree\n\\item Agree\n\\end{enumerate*}\n\n\\emph{Levels}: \\begin{enumerate*}\n\\item 'Strongly Agree'\n\\item 'Disagree'\n\\item 'Neutral'\n\\item 'Agree'\n\\item 'Strongly Disagree'\n\\end{enumerate*}\n",
            "text/plain": [
              "[1] Strongly Agree Disagree       Agree          Agree          Agree         \n",
              "Levels: Strongly Agree Disagree Neutral Agree Strongly Disagree"
            ]
          },
          "metadata": {}
        }
      ],
      "source": [
        "response_levels  <- c(\"Strongly Agree\", \"Disagree\", \"Neutral\", \"Agree\", \"Strongly Disagree\")\n",
        "response_fct  <- factor(response, levels = response_levels)\n",
        "sort(response_fct)"
      ]
    },
    {
      "cell_type": "markdown",
      "id": "1fc97174",
      "metadata": {
        "id": "1fc97174"
      },
      "source": [
        "This added structure will be useful when analyzing and visualizing categorical data that matches our intuition for the data."
      ]
    },
    {
      "cell_type": "markdown",
      "id": "f1131b6f",
      "metadata": {
        "id": "f1131b6f"
      },
      "source": [
        "### A deeper look at factors"
      ]
    },
    {
      "cell_type": "markdown",
      "id": "a8d3cb8f",
      "metadata": {
        "id": "a8d3cb8f"
      },
      "source": [
        "Below, we create a variable that represents the decades 1980-2010."
      ]
    },
    {
      "cell_type": "code",
      "execution_count": null,
      "id": "bdadb2cc",
      "metadata": {
        "id": "bdadb2cc",
        "colab": {
          "base_uri": "https://localhost:8080/",
          "height": 34
        },
        "outputId": "ad9fb6b7-3c3e-4a06-d38c-93434bd0eeac"
      },
      "outputs": [
        {
          "output_type": "display_data",
          "data": {
            "text/html": [
              "'numeric'"
            ],
            "text/markdown": "'numeric'",
            "text/latex": "'numeric'",
            "text/plain": [
              "[1] \"numeric\""
            ]
          },
          "metadata": {}
        }
      ],
      "source": [
        "decades   <- c(1980, 1990, 2000, 2010)\n",
        "class(decades)"
      ]
    },
    {
      "cell_type": "markdown",
      "id": "87f0e863",
      "metadata": {
        "id": "87f0e863"
      },
      "source": [
        "We now create a new factor variable based on the numeric `decades` variable and then observe what happens when we\n",
        "try to convert it back to a numeric variable."
      ]
    },
    {
      "cell_type": "code",
      "execution_count": null,
      "id": "e8f783d9",
      "metadata": {
        "id": "e8f783d9",
        "colab": {
          "base_uri": "https://localhost:8080/",
          "height": 86
        },
        "outputId": "c40a1002-fa14-4aa8-dddb-431248469f02"
      },
      "outputs": [
        {
          "output_type": "display_data",
          "data": {
            "text/html": [
              "<style>\n",
              ".list-inline {list-style: none; margin:0; padding: 0}\n",
              ".list-inline>li {display: inline-block}\n",
              ".list-inline>li:not(:last-child)::after {content: \"\\00b7\"; padding: 0 .5ex}\n",
              "</style>\n",
              "<ol class=list-inline><li>1980</li><li>1990</li><li>2000</li><li>2010</li></ol>\n"
            ],
            "text/markdown": "1. 1980\n2. 1990\n3. 2000\n4. 2010\n\n\n",
            "text/latex": "\\begin{enumerate*}\n\\item 1980\n\\item 1990\n\\item 2000\n\\item 2010\n\\end{enumerate*}\n",
            "text/plain": [
              "[1] 1980 1990 2000 2010"
            ]
          },
          "metadata": {}
        },
        {
          "output_type": "display_data",
          "data": {
            "text/html": [
              "<style>\n",
              ".list-inline {list-style: none; margin:0; padding: 0}\n",
              ".list-inline>li {display: inline-block}\n",
              ".list-inline>li:not(:last-child)::after {content: \"\\00b7\"; padding: 0 .5ex}\n",
              "</style>\n",
              "<ol class=list-inline><li>1980</li><li>1990</li><li>2000</li><li>2010</li></ol>\n",
              "\n",
              "<details>\n",
              "\t<summary style=display:list-item;cursor:pointer>\n",
              "\t\t<strong>Levels</strong>:\n",
              "\t</summary>\n",
              "\t<style>\n",
              "\t.list-inline {list-style: none; margin:0; padding: 0}\n",
              "\t.list-inline>li {display: inline-block}\n",
              "\t.list-inline>li:not(:last-child)::after {content: \"\\00b7\"; padding: 0 .5ex}\n",
              "\t</style>\n",
              "\t<ol class=list-inline><li>'1980'</li><li>'1990'</li><li>'2000'</li><li>'2010'</li></ol>\n",
              "</details>"
            ],
            "text/markdown": "1. 1980\n2. 1990\n3. 2000\n4. 2010\n\n\n\n**Levels**: 1. '1980'\n2. '1990'\n3. '2000'\n4. '2010'\n\n\n",
            "text/latex": "\\begin{enumerate*}\n\\item 1980\n\\item 1990\n\\item 2000\n\\item 2010\n\\end{enumerate*}\n\n\\emph{Levels}: \\begin{enumerate*}\n\\item '1980'\n\\item '1990'\n\\item '2000'\n\\item '2010'\n\\end{enumerate*}\n",
            "text/plain": [
              "[1] 1980 1990 2000 2010\n",
              "Levels: 1980 1990 2000 2010"
            ]
          },
          "metadata": {}
        },
        {
          "output_type": "display_data",
          "data": {
            "text/html": [
              "<style>\n",
              ".list-inline {list-style: none; margin:0; padding: 0}\n",
              ".list-inline>li {display: inline-block}\n",
              ".list-inline>li:not(:last-child)::after {content: \"\\00b7\"; padding: 0 .5ex}\n",
              "</style>\n",
              "<ol class=list-inline><li>1</li><li>2</li><li>3</li><li>4</li></ol>\n"
            ],
            "text/markdown": "1. 1\n2. 2\n3. 3\n4. 4\n\n\n",
            "text/latex": "\\begin{enumerate*}\n\\item 1\n\\item 2\n\\item 3\n\\item 4\n\\end{enumerate*}\n",
            "text/plain": [
              "[1] 1 2 3 4"
            ]
          },
          "metadata": {}
        }
      ],
      "source": [
        "decades_fct <- factor(decades)\n",
        "decades_2  <- as.numeric(decades_fct)\n",
        "\n",
        "\n",
        "decades\n",
        "decades_fct\n",
        "decades_2"
      ]
    },
    {
      "cell_type": "markdown",
      "id": "64f6687a",
      "metadata": {
        "id": "64f6687a"
      },
      "source": [
        "Using `as.numeric` does not return the original numeric data. Rather, we see that 1980 is mapped to 1, 1990 is mapped to 2, and so on. Then 1, 2, 3, and 4 are each associated with the `levels`  '1980', '1990', '2000', and '2010'.\n",
        "\n",
        "Using the function `levels`, we can access the levels of a factor variable. Note that this returns a character variable."
      ]
    },
    {
      "cell_type": "code",
      "execution_count": null,
      "id": "27180c7f",
      "metadata": {
        "id": "27180c7f",
        "colab": {
          "base_uri": "https://localhost:8080/",
          "height": 52
        },
        "outputId": "865811fc-9e41-4de0-df38-7a453258fe83"
      },
      "outputs": [
        {
          "output_type": "display_data",
          "data": {
            "text/html": [
              "<style>\n",
              ".list-inline {list-style: none; margin:0; padding: 0}\n",
              ".list-inline>li {display: inline-block}\n",
              ".list-inline>li:not(:last-child)::after {content: \"\\00b7\"; padding: 0 .5ex}\n",
              "</style>\n",
              "<ol class=list-inline><li>'1980'</li><li>'1990'</li><li>'2000'</li><li>'2010'</li></ol>\n"
            ],
            "text/markdown": "1. '1980'\n2. '1990'\n3. '2000'\n4. '2010'\n\n\n",
            "text/latex": "\\begin{enumerate*}\n\\item '1980'\n\\item '1990'\n\\item '2000'\n\\item '2010'\n\\end{enumerate*}\n",
            "text/plain": [
              "[1] \"1980\" \"1990\" \"2000\" \"2010\""
            ]
          },
          "metadata": {}
        },
        {
          "output_type": "display_data",
          "data": {
            "text/html": [
              "'character'"
            ],
            "text/markdown": "'character'",
            "text/latex": "'character'",
            "text/plain": [
              "[1] \"character\""
            ]
          },
          "metadata": {}
        }
      ],
      "source": [
        "levels(decades_fct)\n",
        "class(levels(decades_fct))"
      ]
    },
    {
      "cell_type": "markdown",
      "id": "5a0eb4e1",
      "metadata": {
        "id": "5a0eb4e1"
      },
      "source": [
        "##  Factor Basics Exercises"
      ]
    },
    {
      "cell_type": "markdown",
      "id": "cc0dc224",
      "metadata": {
        "id": "cc0dc224"
      },
      "source": [
        "1. If `x = c(1, 2, 3, 3, 5, 3, 2, 4, NA)`, what are the levels of `factor(x)`?\n",
        "\n",
        "\n",
        "2. If `z <- factor(c(\"p\", \"q\", \"p\", \"r\", \"q\"))` and levels of z are \"p\", \"q\" ,\"r\", write an R expression that will change the level \"p\" to \"w\" so that z is equal to: \"w\", \"q\" , \"w\", \"r\" , \"q\".\n",
        "\n",
        "3. Let `df <- data.frame(q=c(2, 4, 6), p=c(\"a\", \"b\", \"c\"))`. Write an R statement that replaces levels \"a\", \"b\", \"c\" with labels \"fertiliser1\", \"fertliser2\", \"fertiliser3\".  \n",
        "\n",
        "_Hint_ : There is an additional argument to `factor` that lets you modify the labels of a factor variable."
      ]
    },
    {
      "cell_type": "code",
      "execution_count": null,
      "id": "5595ff65",
      "metadata": {
        "id": "5595ff65"
      },
      "outputs": [],
      "source": [
        "### YOUR CODE HERE (Question 1)\n",
        "\n",
        "x = c(1, 2, 3, 3, 5, 3, 2, 4, NA)"
      ]
    },
    {
      "cell_type": "code",
      "execution_count": null,
      "id": "1f1ede5e",
      "metadata": {
        "id": "1f1ede5e",
        "colab": {
          "base_uri": "https://localhost:8080/",
          "height": 34
        },
        "outputId": "4fdb35a8-0674-4fa3-b859-f4dd9e62b095"
      },
      "outputs": [
        {
          "output_type": "display_data",
          "data": {
            "text/html": [
              "<style>\n",
              ".list-inline {list-style: none; margin:0; padding: 0}\n",
              ".list-inline>li {display: inline-block}\n",
              ".list-inline>li:not(:last-child)::after {content: \"\\00b7\"; padding: 0 .5ex}\n",
              "</style>\n",
              "<ol class=list-inline><li>'p'</li><li>'q'</li><li>'r'</li></ol>\n"
            ],
            "text/markdown": "1. 'p'\n2. 'q'\n3. 'r'\n\n\n",
            "text/latex": "\\begin{enumerate*}\n\\item 'p'\n\\item 'q'\n\\item 'r'\n\\end{enumerate*}\n",
            "text/plain": [
              "[1] \"p\" \"q\" \"r\""
            ]
          },
          "metadata": {}
        }
      ],
      "source": [
        "### YOUR CODE HERE (Question 2)\n",
        "\n",
        "z <- factor(c(\"p\", \"q\", \"p\", \"r\", \"q\"))\n",
        "levels(z)"
      ]
    },
    {
      "cell_type": "code",
      "execution_count": null,
      "id": "a73f3f2d",
      "metadata": {
        "id": "a73f3f2d"
      },
      "outputs": [],
      "source": [
        "### YOUR CODE HERE (Question 3)\n",
        "\n",
        "df <- data.frame(q = c(2, 4, 6), p = c(\"a\", \"b\", \"c\"))"
      ]
    },
    {
      "cell_type": "markdown",
      "id": "94240634",
      "metadata": {
        "id": "94240634"
      },
      "source": [
        "In exercise 1 we saw that `NA` was treated as a level. This might not be that behavior that we want. Using `fct` from `forcats` we can catch this behavior. Notice how `fct` will treat the `NA` as an error rather than another level of the factor variable."
      ]
    },
    {
      "cell_type": "code",
      "execution_count": null,
      "id": "d5d54077",
      "metadata": {
        "id": "d5d54077",
        "colab": {
          "base_uri": "https://localhost:8080/",
          "height": 246
        },
        "outputId": "f8af951c-e42a-4233-e349-73878a1ba025"
      },
      "outputs": [
        {
          "output_type": "error",
          "ename": "ERROR",
          "evalue": "ignored",
          "traceback": [
            "\u001b[1m\u001b[33mError\u001b[39m in `fct()`:\u001b[22m\n\u001b[33m!\u001b[39m `x` must be a character vector, not a double vector.\nTraceback:\n",
            "1. fct(x)",
            "2. check_character(x)",
            "3. stop_input_type(x, \"a character vector\", ..., allow_null = allow_null, \n .     arg = arg, call = call)",
            "4. abort(message, ..., call = call, arg = arg)",
            "5. signal_abort(cnd, .file)"
          ]
        }
      ],
      "source": [
        "fct(x)"
      ]
    },
    {
      "cell_type": "markdown",
      "id": "6516f47b",
      "metadata": {
        "id": "6516f47b"
      },
      "source": [
        "Similary, if a character variable has values not in the specificied levels, `factor` will convert it to `NA`. Again, if we want to catch this we can use `fct`."
      ]
    },
    {
      "cell_type": "code",
      "execution_count": null,
      "id": "fc162e99",
      "metadata": {
        "id": "fc162e99",
        "colab": {
          "base_uri": "https://localhost:8080/",
          "height": 298
        },
        "outputId": "dc37db8c-4581-4474-c862-b52bee72266c"
      },
      "outputs": [
        {
          "output_type": "display_data",
          "data": {
            "text/html": [
              "<style>\n",
              ".list-inline {list-style: none; margin:0; padding: 0}\n",
              ".list-inline>li {display: inline-block}\n",
              ".list-inline>li:not(:last-child)::after {content: \"\\00b7\"; padding: 0 .5ex}\n",
              "</style>\n",
              "<ol class=list-inline><li>Agree</li><li>Agree</li><li>Strongly Agree</li><li>&lt;NA&gt;</li><li>Agree</li></ol>\n",
              "\n",
              "<details>\n",
              "\t<summary style=display:list-item;cursor:pointer>\n",
              "\t\t<strong>Levels</strong>:\n",
              "\t</summary>\n",
              "\t<style>\n",
              "\t.list-inline {list-style: none; margin:0; padding: 0}\n",
              "\t.list-inline>li {display: inline-block}\n",
              "\t.list-inline>li:not(:last-child)::after {content: \"\\00b7\"; padding: 0 .5ex}\n",
              "\t</style>\n",
              "\t<ol class=list-inline><li>'Strongly Agree'</li><li>'Disagree'</li><li>'Neutral'</li><li>'Agree'</li><li>'Strongly Disagree'</li></ol>\n",
              "</details>"
            ],
            "text/markdown": "1. Agree\n2. Agree\n3. Strongly Agree\n4. &lt;NA&gt;\n5. Agree\n\n\n\n**Levels**: 1. 'Strongly Agree'\n2. 'Disagree'\n3. 'Neutral'\n4. 'Agree'\n5. 'Strongly Disagree'\n\n\n",
            "text/latex": "\\begin{enumerate*}\n\\item Agree\n\\item Agree\n\\item Strongly Agree\n\\item <NA>\n\\item Agree\n\\end{enumerate*}\n\n\\emph{Levels}: \\begin{enumerate*}\n\\item 'Strongly Agree'\n\\item 'Disagree'\n\\item 'Neutral'\n\\item 'Agree'\n\\item 'Strongly Disagree'\n\\end{enumerate*}\n",
            "text/plain": [
              "[1] Agree          Agree          Strongly Agree <NA>           Agree         \n",
              "Levels: Strongly Agree Disagree Neutral Agree Strongly Disagree"
            ]
          },
          "metadata": {}
        },
        {
          "output_type": "error",
          "ename": "ERROR",
          "evalue": "ignored",
          "traceback": [
            "\u001b[1m\u001b[33mError\u001b[39m in `fct()`:\u001b[22m\n\u001b[1m\u001b[22m\u001b[33m!\u001b[39m All values of `x` must appear in `levels` or `na`\n\u001b[36mℹ\u001b[39m Missing level: \"Disagre\"\nTraceback:\n",
            "1. fct(response, levels = response_levels)",
            "2. cli::cli_abort(c(\"All values of {.arg x} must appear in {.arg levels} or {.arg na}\", \n .     i = \"Missing level{?s}: {.str {invalid}}\"))",
            "3. rlang::abort(message, ..., call = call, use_cli_format = TRUE, \n .     .frame = .frame)",
            "4. signal_abort(cnd, .file)"
          ]
        }
      ],
      "source": [
        "response = c(\"Agree\", \"Agree\", \"Strongly Agree\", \"Disagre\", \"Agree\")\n",
        "factor(response, levels = response_levels)\n",
        "fct(response, levels = response_levels)"
      ]
    },
    {
      "cell_type": "markdown",
      "id": "073e15f1",
      "metadata": {
        "id": "073e15f1"
      },
      "source": [
        "`forcats` (an anagram of factor) is a tidyverse package that provides a wide range of functions for working with factors. The rest of this section will explore using these functions to handle factor variables."
      ]
    },
    {
      "cell_type": "markdown",
      "id": "cfffd4d1",
      "metadata": {
        "id": "cfffd4d1"
      },
      "source": [
        "### Modifying factor order"
      ]
    },
    {
      "cell_type": "markdown",
      "id": "ee0f1e3b",
      "metadata": {
        "id": "ee0f1e3b"
      },
      "source": [
        "Going forward we will use `forcats::gss_cat`, a sample of data from the General Social Survey, a long-running US survey conducted by the independent research organization NORC at the University of Chicago."
      ]
    },
    {
      "cell_type": "code",
      "execution_count": null,
      "id": "ffec892a",
      "metadata": {
        "id": "ffec892a",
        "colab": {
          "base_uri": "https://localhost:8080/",
          "height": 286
        },
        "outputId": "165b626e-a231-4edd-e35c-4a039664de80"
      },
      "outputs": [
        {
          "output_type": "display_data",
          "data": {
            "text/html": [
              "<table class=\"dataframe\">\n",
              "<caption>A tibble: 6 × 9</caption>\n",
              "<thead>\n",
              "\t<tr><th scope=col>year</th><th scope=col>marital</th><th scope=col>age</th><th scope=col>race</th><th scope=col>rincome</th><th scope=col>partyid</th><th scope=col>relig</th><th scope=col>denom</th><th scope=col>tvhours</th></tr>\n",
              "\t<tr><th scope=col>&lt;int&gt;</th><th scope=col>&lt;fct&gt;</th><th scope=col>&lt;int&gt;</th><th scope=col>&lt;fct&gt;</th><th scope=col>&lt;fct&gt;</th><th scope=col>&lt;fct&gt;</th><th scope=col>&lt;fct&gt;</th><th scope=col>&lt;fct&gt;</th><th scope=col>&lt;int&gt;</th></tr>\n",
              "</thead>\n",
              "<tbody>\n",
              "\t<tr><td>2000</td><td>Never married</td><td>26</td><td>White</td><td>$8000 to 9999 </td><td>Ind,near rep      </td><td>Protestant        </td><td>Southern baptist</td><td>12</td></tr>\n",
              "\t<tr><td>2000</td><td>Divorced     </td><td>48</td><td>White</td><td>$8000 to 9999 </td><td>Not str republican</td><td>Protestant        </td><td>Baptist-dk which</td><td>NA</td></tr>\n",
              "\t<tr><td>2000</td><td>Widowed      </td><td>67</td><td>White</td><td>Not applicable</td><td>Independent       </td><td>Protestant        </td><td>No denomination </td><td> 2</td></tr>\n",
              "\t<tr><td>2000</td><td>Never married</td><td>39</td><td>White</td><td>Not applicable</td><td>Ind,near rep      </td><td>Orthodox-christian</td><td>Not applicable  </td><td> 4</td></tr>\n",
              "\t<tr><td>2000</td><td>Divorced     </td><td>25</td><td>White</td><td>Not applicable</td><td>Not str democrat  </td><td>None              </td><td>Not applicable  </td><td> 1</td></tr>\n",
              "\t<tr><td>2000</td><td>Married      </td><td>25</td><td>White</td><td>$20000 - 24999</td><td>Strong democrat   </td><td>Protestant        </td><td>Southern baptist</td><td>NA</td></tr>\n",
              "</tbody>\n",
              "</table>\n"
            ],
            "text/markdown": "\nA tibble: 6 × 9\n\n| year &lt;int&gt; | marital &lt;fct&gt; | age &lt;int&gt; | race &lt;fct&gt; | rincome &lt;fct&gt; | partyid &lt;fct&gt; | relig &lt;fct&gt; | denom &lt;fct&gt; | tvhours &lt;int&gt; |\n|---|---|---|---|---|---|---|---|---|\n| 2000 | Never married | 26 | White | $8000 to 9999  | Ind,near rep       | Protestant         | Southern baptist | 12 |\n| 2000 | Divorced      | 48 | White | $8000 to 9999  | Not str republican | Protestant         | Baptist-dk which | NA |\n| 2000 | Widowed       | 67 | White | Not applicable | Independent        | Protestant         | No denomination  |  2 |\n| 2000 | Never married | 39 | White | Not applicable | Ind,near rep       | Orthodox-christian | Not applicable   |  4 |\n| 2000 | Divorced      | 25 | White | Not applicable | Not str democrat   | None               | Not applicable   |  1 |\n| 2000 | Married       | 25 | White | $20000 - 24999 | Strong democrat    | Protestant         | Southern baptist | NA |\n\n",
            "text/latex": "A tibble: 6 × 9\n\\begin{tabular}{lllllllll}\n year & marital & age & race & rincome & partyid & relig & denom & tvhours\\\\\n <int> & <fct> & <int> & <fct> & <fct> & <fct> & <fct> & <fct> & <int>\\\\\n\\hline\n\t 2000 & Never married & 26 & White & \\$8000 to 9999  & Ind,near rep       & Protestant         & Southern baptist & 12\\\\\n\t 2000 & Divorced      & 48 & White & \\$8000 to 9999  & Not str republican & Protestant         & Baptist-dk which & NA\\\\\n\t 2000 & Widowed       & 67 & White & Not applicable & Independent        & Protestant         & No denomination  &  2\\\\\n\t 2000 & Never married & 39 & White & Not applicable & Ind,near rep       & Orthodox-christian & Not applicable   &  4\\\\\n\t 2000 & Divorced      & 25 & White & Not applicable & Not str democrat   & None               & Not applicable   &  1\\\\\n\t 2000 & Married       & 25 & White & \\$20000 - 24999 & Strong democrat    & Protestant         & Southern baptist & NA\\\\\n\\end{tabular}\n",
            "text/plain": [
              "  year marital       age race  rincome        partyid           \n",
              "1 2000 Never married 26  White $8000 to 9999  Ind,near rep      \n",
              "2 2000 Divorced      48  White $8000 to 9999  Not str republican\n",
              "3 2000 Widowed       67  White Not applicable Independent       \n",
              "4 2000 Never married 39  White Not applicable Ind,near rep      \n",
              "5 2000 Divorced      25  White Not applicable Not str democrat  \n",
              "6 2000 Married       25  White $20000 - 24999 Strong democrat   \n",
              "  relig              denom            tvhours\n",
              "1 Protestant         Southern baptist 12     \n",
              "2 Protestant         Baptist-dk which NA     \n",
              "3 Protestant         No denomination   2     \n",
              "4 Orthodox-christian Not applicable    4     \n",
              "5 None               Not applicable    1     \n",
              "6 Protestant         Southern baptist NA     "
            ]
          },
          "metadata": {}
        }
      ],
      "source": [
        "head(gss_cat)"
      ]
    },
    {
      "cell_type": "markdown",
      "id": "8bd1a466",
      "metadata": {
        "id": "8bd1a466"
      },
      "source": [
        "As we have seen in previous homeworks and labs, we often need to adjust the order of our categorical variable to clearly demonstrate a trend in the plot.\n",
        "\n",
        "Below we look at the average age for each religion:"
      ]
    },
    {
      "cell_type": "code",
      "execution_count": null,
      "id": "722f43ac",
      "metadata": {
        "id": "722f43ac",
        "colab": {
          "base_uri": "https://localhost:8080/",
          "height": 437
        },
        "outputId": "ce35e52d-0960-4f96-c22c-6caff44eddf2"
      },
      "outputs": [
        {
          "output_type": "display_data",
          "data": {
            "text/plain": [
              "plot without title"
            ],
            "image/png": "[encoded data removed]"
          },
          "metadata": {
            "image/png": {
              "width": 420,
              "height": 420
            }
          }
        }
      ],
      "source": [
        "gss_cat %>%\n",
        "    group_by(relig) %>%\n",
        "    summarise(age  = mean(age, na.rm = T)) %>%\n",
        "    ggplot(aes(x = relig, y = age)) +\n",
        "    geom_bar(stat = \"identity\") + coord_flip()"
      ]
    },
    {
      "cell_type": "markdown",
      "id": "b33254da",
      "metadata": {
        "id": "b33254da"
      },
      "source": [
        "For visualization purposes it is nicer to have the bars in our plot ordered by their height. The function `fct_reoder` allows us to do this. `fct_reorder()` takes three arguments:\n",
        "\n",
        "- `f`, the factor whose levels you want to modify.\n",
        "- `x`, a numeric vector that you want to use to reorder the levels.\n",
        "- Optionally, `fun`, a function that’s used if there are multiple values of `x` for each value of `f`."
      ]
    },
    {
      "cell_type": "code",
      "execution_count": null,
      "id": "3123bd0d",
      "metadata": {
        "id": "3123bd0d",
        "colab": {
          "base_uri": "https://localhost:8080/",
          "height": 437
        },
        "outputId": "0eacb9b5-f562-4920-919f-90f6bc25f8e1"
      },
      "outputs": [
        {
          "output_type": "display_data",
          "data": {
            "text/plain": [
              "plot without title"
            ],
            "image/png": "[encoded data removed]"
          },
          "metadata": {
            "image/png": {
              "width": 420,
              "height": 420
            }
          }
        }
      ],
      "source": [
        "gss_cat %>%\n",
        "    group_by(relig) %>%\n",
        "    summarise(age  = mean(age, na.rm = T)) %>%\n",
        "    ggplot(aes(x = fct_reorder(relig, age), y = age)) +\n",
        "    geom_bar(stat = \"identity\") + coord_flip()"
      ]
    },
    {
      "cell_type": "code",
      "execution_count": null,
      "id": "b0cf2b48",
      "metadata": {
        "id": "b0cf2b48",
        "colab": {
          "base_uri": "https://localhost:8080/",
          "height": 611
        },
        "outputId": "52153e57-c39c-42cb-9452-25f52c785139"
      },
      "outputs": [
        {
          "output_type": "stream",
          "name": "stderr",
          "text": [
            "Warning message:\n",
            "“\u001b[1m\u001b[22m`fct_reorder()` removing 76 missing values.\n",
            "\u001b[36mℹ\u001b[39m Use `.na_rm = TRUE` to silence this message.\n",
            "\u001b[36mℹ\u001b[39m Use `.na_rm = FALSE` to preserve NAs.”\n",
            "Warning message:\n",
            "“\u001b[1m\u001b[22m`fct_reorder()` removing 76 missing values.\n",
            "\u001b[36mℹ\u001b[39m Use `.na_rm = TRUE` to silence this message.\n",
            "\u001b[36mℹ\u001b[39m Use `.na_rm = FALSE` to preserve NAs.”\n",
            "Warning message:\n",
            "“\u001b[1m\u001b[22mRemoved 76 rows containing non-finite values (`stat_boxplot()`).”\n"
          ]
        },
        {
          "output_type": "display_data",
          "data": {
            "text/plain": [
              "plot without title"
            ],
            "image/png": "[encoded data removed]"
          },
          "metadata": {
            "image/png": {
              "width": 420,
              "height": 420
            }
          }
        }
      ],
      "source": [
        "gss_cat %>%\n",
        "    ggplot(aes(x = fct_reorder(relig, age, mean, na.rm = T), y = age)) +\n",
        "    geom_boxplot() + coord_flip()"
      ]
    },
    {
      "cell_type": "markdown",
      "id": "fbfe95a7",
      "metadata": {
        "id": "fbfe95a7"
      },
      "source": [
        "Note that the default function used in `fct_reorder` is median."
      ]
    },
    {
      "cell_type": "code",
      "execution_count": null,
      "id": "1604b62d",
      "metadata": {
        "id": "1604b62d",
        "colab": {
          "base_uri": "https://localhost:8080/",
          "height": 437
        },
        "outputId": "545fdbc8-f6d8-4deb-e143-b84ae8acd087"
      },
      "outputs": [
        {
          "output_type": "display_data",
          "data": {
            "text/plain": [
              "plot without title"
            ],
            "image/png": "[encoded data removed]"
          },
          "metadata": {
            "image/png": {
              "width": 420,
              "height": 420
            }
          }
        }
      ],
      "source": [
        "gss_cat %>%\n",
        "    filter(!is.na(age)) %>% # we need to filter out NAs for fct_reorder to work as intended\n",
        "    ggplot(aes(x = fct_reorder(relig, age), y = age)) +\n",
        "    geom_boxplot() + coord_flip()"
      ]
    },
    {
      "cell_type": "markdown",
      "id": "dee2db90",
      "metadata": {
        "id": "dee2db90"
      },
      "source": [
        "### Modifying factor levels"
      ]
    },
    {
      "cell_type": "markdown",
      "id": "1e53cf22",
      "metadata": {
        "id": "1e53cf22"
      },
      "source": [
        "Often when working categorical data, the levels are not initially in a clean and presentable form. The most common way to alter factor levels is using `fct_recode`, which allows us to change the value of each level to our liking."
      ]
    },
    {
      "cell_type": "code",
      "execution_count": null,
      "id": "dc25928e",
      "metadata": {
        "id": "dc25928e",
        "colab": {
          "base_uri": "https://localhost:8080/",
          "height": 411
        },
        "outputId": "d63cc438-c479-4fdb-a767-0124cf2ab0f6"
      },
      "outputs": [
        {
          "output_type": "display_data",
          "data": {
            "text/html": [
              "<table class=\"dataframe\">\n",
              "<caption>A tibble: 10 × 2</caption>\n",
              "<thead>\n",
              "\t<tr><th scope=col>partyid</th><th scope=col>n</th></tr>\n",
              "\t<tr><th scope=col>&lt;fct&gt;</th><th scope=col>&lt;int&gt;</th></tr>\n",
              "</thead>\n",
              "<tbody>\n",
              "\t<tr><td>No answer            </td><td> 154</td></tr>\n",
              "\t<tr><td>Don't know           </td><td>   1</td></tr>\n",
              "\t<tr><td>Other party          </td><td> 393</td></tr>\n",
              "\t<tr><td>Republican, strong   </td><td>2314</td></tr>\n",
              "\t<tr><td>Republican, weak     </td><td>3032</td></tr>\n",
              "\t<tr><td>Independent, near rep</td><td>1791</td></tr>\n",
              "\t<tr><td>Independent          </td><td>4119</td></tr>\n",
              "\t<tr><td>Independent, near dem</td><td>2499</td></tr>\n",
              "\t<tr><td>Democrat, weak       </td><td>3690</td></tr>\n",
              "\t<tr><td>Democrat, strong     </td><td>3490</td></tr>\n",
              "</tbody>\n",
              "</table>\n"
            ],
            "text/markdown": "\nA tibble: 10 × 2\n\n| partyid &lt;fct&gt; | n &lt;int&gt; |\n|---|---|\n| No answer             |  154 |\n| Don't know            |    1 |\n| Other party           |  393 |\n| Republican, strong    | 2314 |\n| Republican, weak      | 3032 |\n| Independent, near rep | 1791 |\n| Independent           | 4119 |\n| Independent, near dem | 2499 |\n| Democrat, weak        | 3690 |\n| Democrat, strong      | 3490 |\n\n",
            "text/latex": "A tibble: 10 × 2\n\\begin{tabular}{ll}\n partyid & n\\\\\n <fct> & <int>\\\\\n\\hline\n\t No answer             &  154\\\\\n\t Don't know            &    1\\\\\n\t Other party           &  393\\\\\n\t Republican, strong    & 2314\\\\\n\t Republican, weak      & 3032\\\\\n\t Independent, near rep & 1791\\\\\n\t Independent           & 4119\\\\\n\t Independent, near dem & 2499\\\\\n\t Democrat, weak        & 3690\\\\\n\t Democrat, strong      & 3490\\\\\n\\end{tabular}\n",
            "text/plain": [
              "   partyid               n   \n",
              "1  No answer              154\n",
              "2  Don't know               1\n",
              "3  Other party            393\n",
              "4  Republican, strong    2314\n",
              "5  Republican, weak      3032\n",
              "6  Independent, near rep 1791\n",
              "7  Independent           4119\n",
              "8  Independent, near dem 2499\n",
              "9  Democrat, weak        3690\n",
              "10 Democrat, strong      3490"
            ]
          },
          "metadata": {}
        }
      ],
      "source": [
        "gss_cat %>%\n",
        "  mutate(\n",
        "    partyid = fct_recode(partyid,\n",
        "      \"Republican, strong\"    = \"Strong republican\",\n",
        "      \"Republican, weak\"      = \"Not str republican\",\n",
        "      \"Independent, near rep\" = \"Ind,near rep\",\n",
        "      \"Independent, near dem\" = \"Ind,near dem\",\n",
        "      \"Democrat, weak\"        = \"Not str democrat\",\n",
        "      \"Democrat, strong\"      = \"Strong democrat\"\n",
        "    )\n",
        "  ) %>%\n",
        "  count(partyid)"
      ]
    },
    {
      "cell_type": "markdown",
      "id": "21ff3031",
      "metadata": {
        "id": "21ff3031"
      },
      "source": [
        "We can use `fct_collapse` to aggergate levels of a factor variable into broader categories."
      ]
    },
    {
      "cell_type": "code",
      "execution_count": null,
      "id": "c86c5baa",
      "metadata": {
        "id": "c86c5baa",
        "colab": {
          "base_uri": "https://localhost:8080/",
          "height": 223
        },
        "outputId": "028393c3-4289-4fab-9e13-1be54654e2d5"
      },
      "outputs": [
        {
          "output_type": "display_data",
          "data": {
            "text/html": [
              "<table class=\"dataframe\">\n",
              "<caption>A tibble: 4 × 2</caption>\n",
              "<thead>\n",
              "\t<tr><th scope=col>partyid</th><th scope=col>n</th></tr>\n",
              "\t<tr><th scope=col>&lt;fct&gt;</th><th scope=col>&lt;int&gt;</th></tr>\n",
              "</thead>\n",
              "<tbody>\n",
              "\t<tr><td>other</td><td> 548</td></tr>\n",
              "\t<tr><td>rep  </td><td>5346</td></tr>\n",
              "\t<tr><td>ind  </td><td>8409</td></tr>\n",
              "\t<tr><td>dem  </td><td>7180</td></tr>\n",
              "</tbody>\n",
              "</table>\n"
            ],
            "text/markdown": "\nA tibble: 4 × 2\n\n| partyid &lt;fct&gt; | n &lt;int&gt; |\n|---|---|\n| other |  548 |\n| rep   | 5346 |\n| ind   | 8409 |\n| dem   | 7180 |\n\n",
            "text/latex": "A tibble: 4 × 2\n\\begin{tabular}{ll}\n partyid & n\\\\\n <fct> & <int>\\\\\n\\hline\n\t other &  548\\\\\n\t rep   & 5346\\\\\n\t ind   & 8409\\\\\n\t dem   & 7180\\\\\n\\end{tabular}\n",
            "text/plain": [
              "  partyid n   \n",
              "1 other    548\n",
              "2 rep     5346\n",
              "3 ind     8409\n",
              "4 dem     7180"
            ]
          },
          "metadata": {}
        }
      ],
      "source": [
        "gss_cat %>%\n",
        "  mutate(\n",
        "    partyid = fct_collapse(partyid,\n",
        "      \"other\" = c(\"No answer\", \"Don't know\", \"Other party\"),\n",
        "      \"rep\" = c(\"Strong republican\", \"Not str republican\"),\n",
        "      \"ind\" = c(\"Ind,near rep\", \"Independent\", \"Ind,near dem\"),\n",
        "      \"dem\" = c(\"Not str democrat\", \"Strong democrat\")\n",
        "    )\n",
        "  ) %>%\n",
        "  count(partyid)"
      ]
    },
    {
      "cell_type": "markdown",
      "id": "023bba8c",
      "metadata": {
        "id": "023bba8c"
      },
      "source": [
        "The `fct_lump_*()` functions allow us to keep the most frequent categories and aggregate the smaller categories into \"Other\"."
      ]
    },
    {
      "cell_type": "code",
      "execution_count": null,
      "id": "e9bc9035",
      "metadata": {
        "id": "e9bc9035",
        "colab": {
          "base_uri": "https://localhost:8080/",
          "height": 160
        },
        "outputId": "eb6929d6-2ef3-40aa-8c97-84c6221d770f"
      },
      "outputs": [
        {
          "output_type": "display_data",
          "data": {
            "text/html": [
              "<table class=\"dataframe\">\n",
              "<caption>A tibble: 2 × 2</caption>\n",
              "<thead>\n",
              "\t<tr><th scope=col>relig</th><th scope=col>n</th></tr>\n",
              "\t<tr><th scope=col>&lt;fct&gt;</th><th scope=col>&lt;int&gt;</th></tr>\n",
              "</thead>\n",
              "<tbody>\n",
              "\t<tr><td>Protestant</td><td>10846</td></tr>\n",
              "\t<tr><td>Other     </td><td>10637</td></tr>\n",
              "</tbody>\n",
              "</table>\n"
            ],
            "text/markdown": "\nA tibble: 2 × 2\n\n| relig &lt;fct&gt; | n &lt;int&gt; |\n|---|---|\n| Protestant | 10846 |\n| Other      | 10637 |\n\n",
            "text/latex": "A tibble: 2 × 2\n\\begin{tabular}{ll}\n relig & n\\\\\n <fct> & <int>\\\\\n\\hline\n\t Protestant & 10846\\\\\n\t Other      & 10637\\\\\n\\end{tabular}\n",
            "text/plain": [
              "  relig      n    \n",
              "1 Protestant 10846\n",
              "2 Other      10637"
            ]
          },
          "metadata": {}
        }
      ],
      "source": [
        "gss_cat %>%\n",
        "  mutate(relig = fct_lump_lowfreq(relig)) %>%\n",
        "  count(relig)"
      ]
    },
    {
      "cell_type": "code",
      "execution_count": null,
      "id": "0c134dfa",
      "metadata": {
        "id": "0c134dfa",
        "colab": {
          "base_uri": "https://localhost:8080/",
          "height": 286
        },
        "outputId": "775b2921-3bc3-4ba4-b636-50e8e0f799e4"
      },
      "outputs": [
        {
          "output_type": "display_data",
          "data": {
            "text/html": [
              "<table class=\"dataframe\">\n",
              "<caption>A tibble: 6 × 2</caption>\n",
              "<thead>\n",
              "\t<tr><th scope=col>relig</th><th scope=col>n</th></tr>\n",
              "\t<tr><th scope=col>&lt;fct&gt;</th><th scope=col>&lt;int&gt;</th></tr>\n",
              "</thead>\n",
              "<tbody>\n",
              "\t<tr><td>Protestant</td><td>10846</td></tr>\n",
              "\t<tr><td>Catholic  </td><td> 5124</td></tr>\n",
              "\t<tr><td>None      </td><td> 3523</td></tr>\n",
              "\t<tr><td>Other     </td><td>  913</td></tr>\n",
              "\t<tr><td>Christian </td><td>  689</td></tr>\n",
              "\t<tr><td>Jewish    </td><td>  388</td></tr>\n",
              "</tbody>\n",
              "</table>\n"
            ],
            "text/markdown": "\nA tibble: 6 × 2\n\n| relig &lt;fct&gt; | n &lt;int&gt; |\n|---|---|\n| Protestant | 10846 |\n| Catholic   |  5124 |\n| None       |  3523 |\n| Other      |   913 |\n| Christian  |   689 |\n| Jewish     |   388 |\n\n",
            "text/latex": "A tibble: 6 × 2\n\\begin{tabular}{ll}\n relig & n\\\\\n <fct> & <int>\\\\\n\\hline\n\t Protestant & 10846\\\\\n\t Catholic   &  5124\\\\\n\t None       &  3523\\\\\n\t Other      &   913\\\\\n\t Christian  &   689\\\\\n\t Jewish     &   388\\\\\n\\end{tabular}\n",
            "text/plain": [
              "  relig      n    \n",
              "1 Protestant 10846\n",
              "2 Catholic    5124\n",
              "3 None        3523\n",
              "4 Other        913\n",
              "5 Christian    689\n",
              "6 Jewish       388"
            ]
          },
          "metadata": {}
        }
      ],
      "source": [
        "gss_cat %>%\n",
        "  mutate(relig = fct_lump_n(relig, n = 5)) %>%\n",
        "  count(relig, sort = TRUE)"
      ]
    },
    {
      "cell_type": "markdown",
      "id": "4cfcafb8",
      "metadata": {
        "id": "4cfcafb8"
      },
      "source": [
        "## Factor Exercises"
      ]
    },
    {
      "cell_type": "markdown",
      "id": "409c93db",
      "metadata": {
        "id": "409c93db"
      },
      "source": [
        "1.) Create a categorical variable of the following age brackets: 18-30, 30-40, 40-50, 50-65, 65 + and make a bar plot of the mean `tvhours` across age groups in increasing order."
      ]
    },
    {
      "cell_type": "code",
      "source": [
        "### YOUR CODE HERE\n",
        "\n",
        "gss_cat %>% filter(!is.na(age)) %>% summarize(max(age))"
      ],
      "metadata": {
        "colab": {
          "base_uri": "https://localhost:8080/",
          "height": 146
        },
        "id": "R5Qj8vyx086R",
        "outputId": "b86465a0-c76a-45fd-9e89-338f3634ddf1"
      },
      "id": "R5Qj8vyx086R",
      "execution_count": null,
      "outputs": [
        {
          "output_type": "display_data",
          "data": {
            "text/html": [
              "<table class=\"dataframe\">\n",
              "<caption>A tibble: 1 × 1</caption>\n",
              "<thead>\n",
              "\t<tr><th scope=col>max(age)</th></tr>\n",
              "\t<tr><th scope=col>&lt;int&gt;</th></tr>\n",
              "</thead>\n",
              "<tbody>\n",
              "\t<tr><td>89</td></tr>\n",
              "</tbody>\n",
              "</table>\n"
            ],
            "text/markdown": "\nA tibble: 1 × 1\n\n| max(age) &lt;int&gt; |\n|---|\n| 89 |\n\n",
            "text/latex": "A tibble: 1 × 1\n\\begin{tabular}{l}\n max(age)\\\\\n <int>\\\\\n\\hline\n\t 89\\\\\n\\end{tabular}\n",
            "text/plain": [
              "  max(age)\n",
              "1 89      "
            ]
          },
          "metadata": {}
        }
      ]
    },
    {
      "cell_type": "code",
      "execution_count": null,
      "id": "402a583f",
      "metadata": {
        "id": "402a583f",
        "colab": {
          "base_uri": "https://localhost:8080/",
          "height": 437
        },
        "outputId": "05d72c3a-caa1-4021-dc9e-00007dcb2f98"
      },
      "outputs": [
        {
          "output_type": "display_data",
          "data": {
            "text/plain": [
              "plot without title"
            ],
            "image/png": "[encoded data removed]"
          },
          "metadata": {
            "image/png": {
              "width": 420,
              "height": 420
            }
          }
        }
      ],
      "source": [
        "### YOUR ANSWER SHOULD LOOK LIKE THIS"
      ]
    },
    {
      "cell_type": "markdown",
      "id": "ec0b060a",
      "metadata": {
        "id": "ec0b060a"
      },
      "source": [
        "2.) Change `rincome` to only have the levels \"\\$20000 or more\", \"\\$10000 - 19999\", \"\\$5000 to 9999\", \"0 to 4999\", and \"Unknown\". Print the number of observations for each `rincome` level."
      ]
    },
    {
      "cell_type": "code",
      "execution_count": null,
      "id": "7e9f5844",
      "metadata": {
        "id": "7e9f5844"
      },
      "outputs": [],
      "source": [
        "### YOUR CODE HERE\n"
      ]
    },
    {
      "cell_type": "code",
      "source": [
        "### YOUR ANSWER SHOULD LOOK LIKE THIS"
      ],
      "metadata": {
        "colab": {
          "base_uri": "https://localhost:8080/",
          "height": 254
        },
        "id": "mjie9AE01KsB",
        "outputId": "cdc13274-d345-4555-cbbc-6c8f644df652"
      },
      "id": "mjie9AE01KsB",
      "execution_count": null,
      "outputs": [
        {
          "output_type": "display_data",
          "data": {
            "text/html": [
              "<table class=\"dataframe\">\n",
              "<caption>A tibble: 5 × 2</caption>\n",
              "<thead>\n",
              "\t<tr><th scope=col>rincome</th><th scope=col>n</th></tr>\n",
              "\t<tr><th scope=col>&lt;fct&gt;</th><th scope=col>&lt;int&gt;</th></tr>\n",
              "</thead>\n",
              "<tbody>\n",
              "\t<tr><td>Unknown       </td><td>8468</td></tr>\n",
              "\t<tr><td>$20000 or more</td><td>8646</td></tr>\n",
              "\t<tr><td>$10000 - 19999</td><td>2216</td></tr>\n",
              "\t<tr><td>$5000 to 9999 </td><td> 970</td></tr>\n",
              "\t<tr><td>0 to 4999     </td><td>1183</td></tr>\n",
              "</tbody>\n",
              "</table>\n"
            ],
            "text/markdown": "\nA tibble: 5 × 2\n\n| rincome &lt;fct&gt; | n &lt;int&gt; |\n|---|---|\n| Unknown        | 8468 |\n| $20000 or more | 8646 |\n| $10000 - 19999 | 2216 |\n| $5000 to 9999  |  970 |\n| 0 to 4999      | 1183 |\n\n",
            "text/latex": "A tibble: 5 × 2\n\\begin{tabular}{ll}\n rincome & n\\\\\n <fct> & <int>\\\\\n\\hline\n\t Unknown        & 8468\\\\\n\t \\$20000 or more & 8646\\\\\n\t \\$10000 - 19999 & 2216\\\\\n\t \\$5000 to 9999  &  970\\\\\n\t 0 to 4999      & 1183\\\\\n\\end{tabular}\n",
            "text/plain": [
              "  rincome        n   \n",
              "1 Unknown        8468\n",
              "2 $20000 or more 8646\n",
              "3 $10000 - 19999 2216\n",
              "4 $5000 to 9999   970\n",
              "5 0 to 4999      1183"
            ]
          },
          "metadata": {}
        }
      ]
    },
    {
      "cell_type": "markdown",
      "id": "a6d9436e",
      "metadata": {
        "id": "a6d9436e"
      },
      "source": [
        "## Dates and times\n",
        "\n",
        "\n",
        "Now, we turn our attention to working with dates and times in R. For this portion of the lab we will focus on the `lubridate` package."
      ]
    },
    {
      "cell_type": "markdown",
      "id": "6950a759",
      "metadata": {
        "id": "6950a759"
      },
      "source": [
        "### Creating date/times\n",
        "\n",
        "There are three types of date/time data that refer to an instance in time:\n",
        "\n",
        "- A **date**. Tibbles print this as `<date>`.\n",
        "- A **time**. Tibbles print this as `<time>`.\n",
        "- A **date-time** is a date plus a time: it uniquely identifies an instant in time (typically to the nearest second). Tibbles print this as `<dttm>`. Base R calls these POSIXct.\n",
        "\n",
        "We will focus on dates and date-times.\n",
        "\n",
        "\n",
        "The first thing to know about working with date-times in R (and other langauges) are date-time formats. These are standard across many programming languages and decribe a date component using a `%` followed by a single character.\n",
        "\n",
        "While there are many date-time format components there are only a few that are truly necessary to know as described in this table:\n",
        "\n",
        "| Type   | Code |Meaning         |Example|\n",
        "|------  |------|-----           |-----|\n",
        "|   Year | %Y   |4 digit year    |2021|\n",
        "|        | %y   |2 digit year    |21|\n",
        "|   Month | %m   |number    |2|\n",
        "|    | %b   |Abbreviated name     |Feb|\n",
        "|    | %B   |Full name     |Februrary|\n",
        "| Day   | %d  |Two digits   |02|\n",
        "|    | %e  |One or two digits   |2|\n",
        "|  Time  | %H  | 24-hour hour  |13|\n",
        "|    | %M | Minutes  |35|\n",
        "|    | %S | Seconds |45|\n",
        "\n",
        "\n",
        "\n",
        "\n",
        "For example, %Y-%m-%d specifies a date that’s a year, -, month (as number) -, day such as `2023-02-13`.\n",
        "\n",
        "`lubridate` provides functions that automatically detect these formats so we typically do not need to specify them directly. One scenario where you might need to manually specify the date-time format is when reading data into R,\n",
        "as shown in the toy exmaple below.\n"
      ]
    },
    {
      "cell_type": "code",
      "execution_count": null,
      "id": "dabe3e2d",
      "metadata": {
        "id": "dabe3e2d",
        "colab": {
          "base_uri": "https://localhost:8080/",
          "height": 164
        },
        "outputId": "d7425804-1aef-48dc-cc79-4ec471db9af7"
      },
      "outputs": [
        {
          "output_type": "display_data",
          "data": {
            "text/html": [
              "<table class=\"dataframe\">\n",
              "<caption>A spec_tbl_df: 1 × 1</caption>\n",
              "<thead>\n",
              "\t<tr><th scope=col>date</th></tr>\n",
              "\t<tr><th scope=col>&lt;date&gt;</th></tr>\n",
              "</thead>\n",
              "<tbody>\n",
              "\t<tr><td>2015-01-02</td></tr>\n",
              "</tbody>\n",
              "</table>\n"
            ],
            "text/markdown": "\nA spec_tbl_df: 1 × 1\n\n| date &lt;date&gt; |\n|---|\n| 2015-01-02 |\n\n",
            "text/latex": "A spec\\_tbl\\_df: 1 × 1\n\\begin{tabular}{l}\n date\\\\\n <date>\\\\\n\\hline\n\t 2015-01-02\\\\\n\\end{tabular}\n",
            "text/plain": [
              "  date      \n",
              "1 2015-01-02"
            ]
          },
          "metadata": {}
        }
      ],
      "source": [
        "csv <- \"\n",
        "  date\n",
        "  01/02/15\n",
        "\"\n",
        "\n",
        "read_csv(csv, col_types = cols(date = col_date(\"%m/%d/%y\")))"
      ]
    },
    {
      "cell_type": "markdown",
      "id": "dc358b9e",
      "metadata": {
        "id": "dc358b9e"
      },
      "source": [
        "We must be careful as there are multiple ways we could interpret this date value depending on how we specify the format:"
      ]
    },
    {
      "cell_type": "code",
      "execution_count": null,
      "id": "5e9ddc4a",
      "metadata": {
        "id": "5e9ddc4a",
        "colab": {
          "base_uri": "https://localhost:8080/",
          "height": 311
        },
        "outputId": "4f61f8d1-743a-4bd4-bd94-f22a38c54d2a"
      },
      "outputs": [
        {
          "output_type": "display_data",
          "data": {
            "text/html": [
              "<table class=\"dataframe\">\n",
              "<caption>A spec_tbl_df: 1 × 1</caption>\n",
              "<thead>\n",
              "\t<tr><th scope=col>date</th></tr>\n",
              "\t<tr><th scope=col>&lt;date&gt;</th></tr>\n",
              "</thead>\n",
              "<tbody>\n",
              "\t<tr><td>2015-02-01</td></tr>\n",
              "</tbody>\n",
              "</table>\n"
            ],
            "text/markdown": "\nA spec_tbl_df: 1 × 1\n\n| date &lt;date&gt; |\n|---|\n| 2015-02-01 |\n\n",
            "text/latex": "A spec\\_tbl\\_df: 1 × 1\n\\begin{tabular}{l}\n date\\\\\n <date>\\\\\n\\hline\n\t 2015-02-01\\\\\n\\end{tabular}\n",
            "text/plain": [
              "  date      \n",
              "1 2015-02-01"
            ]
          },
          "metadata": {}
        },
        {
          "output_type": "display_data",
          "data": {
            "text/html": [
              "<table class=\"dataframe\">\n",
              "<caption>A spec_tbl_df: 1 × 1</caption>\n",
              "<thead>\n",
              "\t<tr><th scope=col>date</th></tr>\n",
              "\t<tr><th scope=col>&lt;date&gt;</th></tr>\n",
              "</thead>\n",
              "<tbody>\n",
              "\t<tr><td>2001-02-15</td></tr>\n",
              "</tbody>\n",
              "</table>\n"
            ],
            "text/markdown": "\nA spec_tbl_df: 1 × 1\n\n| date &lt;date&gt; |\n|---|\n| 2001-02-15 |\n\n",
            "text/latex": "A spec\\_tbl\\_df: 1 × 1\n\\begin{tabular}{l}\n date\\\\\n <date>\\\\\n\\hline\n\t 2001-02-15\\\\\n\\end{tabular}\n",
            "text/plain": [
              "  date      \n",
              "1 2001-02-15"
            ]
          },
          "metadata": {}
        }
      ],
      "source": [
        "read_csv(csv, col_types = cols(date = col_date(\"%d/%m/%y\")))\n",
        "read_csv(csv, col_types = cols(date = col_date(\"%y/%m/%d\")))"
      ]
    },
    {
      "cell_type": "markdown",
      "id": "495ba564",
      "metadata": {
        "id": "495ba564"
      },
      "source": [
        "We typically generate date-time variables from strings. The package `lubridate` provides a convenient set of functions that automatically determine the date-time formats. To use the lubridate functions identify the date the order at which year, month, and day appear in the date and then arrange \"y\", \"m\", and \"d\" in the same order. The sequence of \"y\", \"m\", and \"d\" gives the name of the function.\n",
        "\n",
        "See the example below. Note that the specific format is not important as long as we know the date components come in the order year, month, day."
      ]
    },
    {
      "cell_type": "code",
      "execution_count": null,
      "id": "13e67f9e",
      "metadata": {
        "id": "13e67f9e",
        "colab": {
          "base_uri": "https://localhost:8080/",
          "height": 69
        },
        "outputId": "00ce9ce9-1c31-4597-a12e-f54111a8e2ea"
      },
      "outputs": [
        {
          "output_type": "display_data",
          "data": {
            "text/html": [
              "<time datetime=\"2020-01-31\">2020-01-31</time>"
            ],
            "text/markdown": "2020-01-31",
            "text/latex": "2020-01-31",
            "text/plain": [
              "[1] \"2020-01-31\""
            ]
          },
          "metadata": {}
        },
        {
          "output_type": "display_data",
          "data": {
            "text/html": [
              "<time datetime=\"2020-01-31\">2020-01-31</time>"
            ],
            "text/markdown": "2020-01-31",
            "text/latex": "2020-01-31",
            "text/plain": [
              "[1] \"2020-01-31\""
            ]
          },
          "metadata": {}
        },
        {
          "output_type": "display_data",
          "data": {
            "text/html": [
              "<time datetime=\"2020-01-31\">2020-01-31</time>"
            ],
            "text/markdown": "2020-01-31",
            "text/latex": "2020-01-31",
            "text/plain": [
              "[1] \"2020-01-31\""
            ]
          },
          "metadata": {}
        }
      ],
      "source": [
        "ymd(\"2020-01-31\")\n",
        "ymd(\"2020/01/31\")\n",
        "ymd(\"20200131\")"
      ]
    },
    {
      "cell_type": "markdown",
      "id": "eba6bc27",
      "metadata": {
        "id": "eba6bc27"
      },
      "source": [
        "Below we see some examples with different orders of the date components and different date formats."
      ]
    },
    {
      "cell_type": "code",
      "execution_count": null,
      "id": "d63dac17",
      "metadata": {
        "id": "d63dac17",
        "colab": {
          "base_uri": "https://localhost:8080/",
          "height": 52
        },
        "outputId": "dc83646e-2628-4c86-8c71-824993279159"
      },
      "outputs": [
        {
          "output_type": "display_data",
          "data": {
            "text/html": [
              "<time datetime=\"2017-01-31\">2017-01-31</time>"
            ],
            "text/markdown": "2017-01-31",
            "text/latex": "2017-01-31",
            "text/plain": [
              "[1] \"2017-01-31\""
            ]
          },
          "metadata": {}
        },
        {
          "output_type": "display_data",
          "data": {
            "text/html": [
              "<time datetime=\"2017-01-31\">2017-01-31</time>"
            ],
            "text/markdown": "2017-01-31",
            "text/latex": "2017-01-31",
            "text/plain": [
              "[1] \"2017-01-31\""
            ]
          },
          "metadata": {}
        }
      ],
      "source": [
        "mdy(\"January 31st, 2017\")\n",
        "dmy(\"31-Jan-2017\")"
      ]
    },
    {
      "cell_type": "markdown",
      "id": "a82a9583",
      "metadata": {
        "id": "a82a9583"
      },
      "source": [
        "To work with date-time variables we simply add an underscore to the above functions with one or more of \"h\", \"m\", \"s\" depending on whether hours, minutes, or seconds appear in the date."
      ]
    },
    {
      "cell_type": "code",
      "execution_count": null,
      "id": "c395e035",
      "metadata": {
        "id": "c395e035",
        "colab": {
          "base_uri": "https://localhost:8080/",
          "height": 34
        },
        "outputId": "6e7952d3-d670-45b0-a931-6be372260363"
      },
      "outputs": [
        {
          "output_type": "display_data",
          "data": {
            "text/plain": [
              "[1] \"2017-01-31 20:11:59 UTC\""
            ]
          },
          "metadata": {}
        }
      ],
      "source": [
        "ymd_hms(\"2017-01-31 20:11:59\")"
      ]
    },
    {
      "cell_type": "markdown",
      "id": "5ac79960",
      "metadata": {
        "id": "5ac79960"
      },
      "source": [
        "`lubridate` also provides functions for \"rounding\" dates."
      ]
    },
    {
      "cell_type": "code",
      "execution_count": null,
      "id": "8af01eaa",
      "metadata": {
        "id": "8af01eaa",
        "colab": {
          "base_uri": "https://localhost:8080/",
          "height": 104
        },
        "outputId": "cfd3976a-9728-44c6-c59f-3c4017379c56"
      },
      "outputs": [
        {
          "output_type": "display_data",
          "data": {
            "text/plain": [
              "[1] \"2017-01-31 20:11:00 UTC\""
            ]
          },
          "metadata": {}
        },
        {
          "output_type": "display_data",
          "data": {
            "text/plain": [
              "[1] \"2017-01-31 20:00:00 UTC\""
            ]
          },
          "metadata": {}
        },
        {
          "output_type": "display_data",
          "data": {
            "text/plain": [
              "[1] \"2017-01-31 UTC\""
            ]
          },
          "metadata": {}
        },
        {
          "output_type": "display_data",
          "data": {
            "text/plain": [
              "[1] \"2017-01-01 UTC\""
            ]
          },
          "metadata": {}
        },
        {
          "output_type": "display_data",
          "data": {
            "text/plain": [
              "[1] \"2017-01-01 UTC\""
            ]
          },
          "metadata": {}
        }
      ],
      "source": [
        "floor_date(ymd_hms(\"2017-01-31 20:11:59\"), \"minute\")\n",
        "floor_date(ymd_hms(\"2017-01-31 20:11:59\"), \"hour\")\n",
        "floor_date(ymd_hms(\"2017-01-31 20:11:59\"), \"day\")\n",
        "floor_date(ymd_hms(\"2017-01-31 20:11:59\"), \"month\")\n",
        "floor_date(ymd_hms(\"2017-01-31 20:11:59\"), \"year\")"
      ]
    },
    {
      "cell_type": "markdown",
      "id": "cb4652a5",
      "metadata": {
        "id": "cb4652a5"
      },
      "source": [
        "We can also build date variables from inidividual date components."
      ]
    },
    {
      "cell_type": "code",
      "execution_count": null,
      "id": "f1283481",
      "metadata": {
        "id": "f1283481",
        "colab": {
          "base_uri": "https://localhost:8080/",
          "height": 34
        },
        "outputId": "efcdeaee-cfc7-485b-eef3-9ecaf3c27717"
      },
      "outputs": [
        {
          "output_type": "display_data",
          "data": {
            "text/plain": [
              "[1] \"2013-03-13 10:30:00 UTC\""
            ]
          },
          "metadata": {}
        }
      ],
      "source": [
        "make_datetime(2013, 3, 13, 10, 30)"
      ]
    },
    {
      "cell_type": "markdown",
      "id": "7665f304",
      "metadata": {
        "id": "7665f304"
      },
      "source": [
        "If need we can specify the timezone (this goes for other `lubridate` functions that build date-time variables)."
      ]
    },
    {
      "cell_type": "code",
      "execution_count": null,
      "id": "cf04ebfb",
      "metadata": {
        "id": "cf04ebfb",
        "colab": {
          "base_uri": "https://localhost:8080/",
          "height": 34
        },
        "outputId": "57df5d78-d304-4c07-edb3-237296c8ef71"
      },
      "outputs": [
        {
          "output_type": "display_data",
          "data": {
            "text/plain": [
              "[1] \"2013-03-13 10:30:00 EST\""
            ]
          },
          "metadata": {}
        }
      ],
      "source": [
        "make_datetime(2013, 3, 13, 10, 30, tz = \"EST\")"
      ]
    },
    {
      "cell_type": "markdown",
      "id": "7f639103",
      "metadata": {
        "id": "7f639103"
      },
      "source": [
        "Let's look at an example fo creating date-time variables using the flights dataset from `nycflights13`.\n",
        "\n",
        "Here we have numeric variables that represent the year, month, day, hour, and minute of the flight."
      ]
    },
    {
      "cell_type": "code",
      "execution_count": null,
      "id": "db23e965",
      "metadata": {
        "id": "db23e965",
        "colab": {
          "base_uri": "https://localhost:8080/",
          "height": 286
        },
        "outputId": "aee1423d-a23d-4e46-ffcc-eee7d87955d4"
      },
      "outputs": [
        {
          "output_type": "display_data",
          "data": {
            "text/html": [
              "<table class=\"dataframe\">\n",
              "<caption>A tibble: 6 × 6</caption>\n",
              "<thead>\n",
              "\t<tr><th scope=col>year</th><th scope=col>month</th><th scope=col>day</th><th scope=col>hour</th><th scope=col>minute</th><th scope=col>sched_dep_time</th></tr>\n",
              "\t<tr><th scope=col>&lt;int&gt;</th><th scope=col>&lt;int&gt;</th><th scope=col>&lt;int&gt;</th><th scope=col>&lt;dbl&gt;</th><th scope=col>&lt;dbl&gt;</th><th scope=col>&lt;int&gt;</th></tr>\n",
              "</thead>\n",
              "<tbody>\n",
              "\t<tr><td>2013</td><td>1</td><td>1</td><td>5</td><td>15</td><td>515</td></tr>\n",
              "\t<tr><td>2013</td><td>1</td><td>1</td><td>5</td><td>29</td><td>529</td></tr>\n",
              "\t<tr><td>2013</td><td>1</td><td>1</td><td>5</td><td>40</td><td>540</td></tr>\n",
              "\t<tr><td>2013</td><td>1</td><td>1</td><td>5</td><td>45</td><td>545</td></tr>\n",
              "\t<tr><td>2013</td><td>1</td><td>1</td><td>6</td><td> 0</td><td>600</td></tr>\n",
              "\t<tr><td>2013</td><td>1</td><td>1</td><td>5</td><td>58</td><td>558</td></tr>\n",
              "</tbody>\n",
              "</table>\n"
            ],
            "text/markdown": "\nA tibble: 6 × 6\n\n| year &lt;int&gt; | month &lt;int&gt; | day &lt;int&gt; | hour &lt;dbl&gt; | minute &lt;dbl&gt; | sched_dep_time &lt;int&gt; |\n|---|---|---|---|---|---|\n| 2013 | 1 | 1 | 5 | 15 | 515 |\n| 2013 | 1 | 1 | 5 | 29 | 529 |\n| 2013 | 1 | 1 | 5 | 40 | 540 |\n| 2013 | 1 | 1 | 5 | 45 | 545 |\n| 2013 | 1 | 1 | 6 |  0 | 600 |\n| 2013 | 1 | 1 | 5 | 58 | 558 |\n\n",
            "text/latex": "A tibble: 6 × 6\n\\begin{tabular}{llllll}\n year & month & day & hour & minute & sched\\_dep\\_time\\\\\n <int> & <int> & <int> & <dbl> & <dbl> & <int>\\\\\n\\hline\n\t 2013 & 1 & 1 & 5 & 15 & 515\\\\\n\t 2013 & 1 & 1 & 5 & 29 & 529\\\\\n\t 2013 & 1 & 1 & 5 & 40 & 540\\\\\n\t 2013 & 1 & 1 & 5 & 45 & 545\\\\\n\t 2013 & 1 & 1 & 6 &  0 & 600\\\\\n\t 2013 & 1 & 1 & 5 & 58 & 558\\\\\n\\end{tabular}\n",
            "text/plain": [
              "  year month day hour minute sched_dep_time\n",
              "1 2013 1     1   5    15     515           \n",
              "2 2013 1     1   5    29     529           \n",
              "3 2013 1     1   5    40     540           \n",
              "4 2013 1     1   5    45     545           \n",
              "5 2013 1     1   6     0     600           \n",
              "6 2013 1     1   5    58     558           "
            ]
          },
          "metadata": {}
        }
      ],
      "source": [
        "flights %>% select(year, month, day, hour, minute, sched_dep_time) %>% head()"
      ]
    },
    {
      "cell_type": "code",
      "execution_count": null,
      "id": "53fe3144",
      "metadata": {
        "id": "53fe3144",
        "colab": {
          "base_uri": "https://localhost:8080/",
          "height": 286
        },
        "outputId": "1b98b48e-8489-4a02-9299-2a02e9d4a06f"
      },
      "outputs": [
        {
          "output_type": "display_data",
          "data": {
            "text/html": [
              "<table class=\"dataframe\">\n",
              "<caption>A tibble: 6 × 7</caption>\n",
              "<thead>\n",
              "\t<tr><th scope=col>year</th><th scope=col>month</th><th scope=col>day</th><th scope=col>hour</th><th scope=col>minute</th><th scope=col>time_hour</th><th scope=col>departure</th></tr>\n",
              "\t<tr><th scope=col>&lt;int&gt;</th><th scope=col>&lt;int&gt;</th><th scope=col>&lt;int&gt;</th><th scope=col>&lt;dbl&gt;</th><th scope=col>&lt;dbl&gt;</th><th scope=col>&lt;dttm&gt;</th><th scope=col>&lt;dttm&gt;</th></tr>\n",
              "</thead>\n",
              "<tbody>\n",
              "\t<tr><td>2013</td><td>1</td><td>1</td><td>5</td><td>15</td><td>2013-01-01 05:00:00</td><td>2013-01-01 05:15:00</td></tr>\n",
              "\t<tr><td>2013</td><td>1</td><td>1</td><td>5</td><td>29</td><td>2013-01-01 05:00:00</td><td>2013-01-01 05:29:00</td></tr>\n",
              "\t<tr><td>2013</td><td>1</td><td>1</td><td>5</td><td>40</td><td>2013-01-01 05:00:00</td><td>2013-01-01 05:40:00</td></tr>\n",
              "\t<tr><td>2013</td><td>1</td><td>1</td><td>5</td><td>45</td><td>2013-01-01 05:00:00</td><td>2013-01-01 05:45:00</td></tr>\n",
              "\t<tr><td>2013</td><td>1</td><td>1</td><td>6</td><td> 0</td><td>2013-01-01 06:00:00</td><td>2013-01-01 06:00:00</td></tr>\n",
              "\t<tr><td>2013</td><td>1</td><td>1</td><td>5</td><td>58</td><td>2013-01-01 05:00:00</td><td>2013-01-01 05:58:00</td></tr>\n",
              "</tbody>\n",
              "</table>\n"
            ],
            "text/markdown": "\nA tibble: 6 × 7\n\n| year &lt;int&gt; | month &lt;int&gt; | day &lt;int&gt; | hour &lt;dbl&gt; | minute &lt;dbl&gt; | time_hour &lt;dttm&gt; | departure &lt;dttm&gt; |\n|---|---|---|---|---|---|---|\n| 2013 | 1 | 1 | 5 | 15 | 2013-01-01 05:00:00 | 2013-01-01 05:15:00 |\n| 2013 | 1 | 1 | 5 | 29 | 2013-01-01 05:00:00 | 2013-01-01 05:29:00 |\n| 2013 | 1 | 1 | 5 | 40 | 2013-01-01 05:00:00 | 2013-01-01 05:40:00 |\n| 2013 | 1 | 1 | 5 | 45 | 2013-01-01 05:00:00 | 2013-01-01 05:45:00 |\n| 2013 | 1 | 1 | 6 |  0 | 2013-01-01 06:00:00 | 2013-01-01 06:00:00 |\n| 2013 | 1 | 1 | 5 | 58 | 2013-01-01 05:00:00 | 2013-01-01 05:58:00 |\n\n",
            "text/latex": "A tibble: 6 × 7\n\\begin{tabular}{lllllll}\n year & month & day & hour & minute & time\\_hour & departure\\\\\n <int> & <int> & <int> & <dbl> & <dbl> & <dttm> & <dttm>\\\\\n\\hline\n\t 2013 & 1 & 1 & 5 & 15 & 2013-01-01 05:00:00 & 2013-01-01 05:15:00\\\\\n\t 2013 & 1 & 1 & 5 & 29 & 2013-01-01 05:00:00 & 2013-01-01 05:29:00\\\\\n\t 2013 & 1 & 1 & 5 & 40 & 2013-01-01 05:00:00 & 2013-01-01 05:40:00\\\\\n\t 2013 & 1 & 1 & 5 & 45 & 2013-01-01 05:00:00 & 2013-01-01 05:45:00\\\\\n\t 2013 & 1 & 1 & 6 &  0 & 2013-01-01 06:00:00 & 2013-01-01 06:00:00\\\\\n\t 2013 & 1 & 1 & 5 & 58 & 2013-01-01 05:00:00 & 2013-01-01 05:58:00\\\\\n\\end{tabular}\n",
            "text/plain": [
              "  year month day hour minute time_hour           departure          \n",
              "1 2013 1     1   5    15     2013-01-01 05:00:00 2013-01-01 05:15:00\n",
              "2 2013 1     1   5    29     2013-01-01 05:00:00 2013-01-01 05:29:00\n",
              "3 2013 1     1   5    40     2013-01-01 05:00:00 2013-01-01 05:40:00\n",
              "4 2013 1     1   5    45     2013-01-01 05:00:00 2013-01-01 05:45:00\n",
              "5 2013 1     1   6     0     2013-01-01 06:00:00 2013-01-01 06:00:00\n",
              "6 2013 1     1   5    58     2013-01-01 05:00:00 2013-01-01 05:58:00"
            ]
          },
          "metadata": {}
        }
      ],
      "source": [
        "flights %>%\n",
        "    select(year, month, day, hour, minute, time_hour) %>%\n",
        "    mutate(departure = make_datetime(year, month, day, hour, minute)) %>% head()"
      ]
    },
    {
      "cell_type": "markdown",
      "id": "5c3b3c8e",
      "metadata": {
        "id": "5c3b3c8e"
      },
      "source": [
        "We can also easily plot date-times with `ggplot`. Note for histograms the unit for binwidth is seconds so in following plot a bindwith of 600 represents 10 minutes."
      ]
    },
    {
      "cell_type": "code",
      "execution_count": null,
      "id": "0e008695",
      "metadata": {
        "id": "0e008695",
        "colab": {
          "base_uri": "https://localhost:8080/",
          "height": 437
        },
        "outputId": "ab93b282-65b7-4afb-e585-7fa32627a888"
      },
      "outputs": [
        {
          "output_type": "display_data",
          "data": {
            "text/plain": [
              "plot without title"
            ],
            "image/png": "[encoded data removed]"
          },
          "metadata": {
            "image/png": {
              "width": 420,
              "height": 420
            }
          }
        }
      ],
      "source": [
        "flights %>%\n",
        "    select(year, month, day, hour, minute, time_hour) %>%\n",
        "    mutate(departure = make_datetime(year, month, day, hour, minute)) %>%\n",
        "    filter(day == 2, month == 1) %>%\n",
        "    ggplot(aes(x = departure)) +\n",
        "    geom_histogram(binwidth = 600) # 600 s = 10 minutes"
      ]
    },
    {
      "cell_type": "markdown",
      "id": "738f7141",
      "metadata": {
        "id": "738f7141"
      },
      "source": [
        "### UnixEpoch"
      ]
    },
    {
      "cell_type": "markdown",
      "id": "c0b3f0e6",
      "metadata": {
        "id": "c0b3f0e6"
      },
      "source": [
        "Sometimes dates/times are reperesented as numeric increments from the \"UnixEpoch\" 1970-01-01. This means that numeric values are interpreted either as seconds or days since 1970-01-01. If we interpret the numeric value as days we can use `as_date` to get a date variable, otherwise use `as_datetime` to get a date-time variable."
      ]
    },
    {
      "cell_type": "code",
      "execution_count": null,
      "id": "81f9fa8b",
      "metadata": {
        "id": "81f9fa8b",
        "colab": {
          "base_uri": "https://localhost:8080/",
          "height": 34
        },
        "outputId": "e2b68906-84cc-44a3-8c46-8263a2e0e23c"
      },
      "outputs": [
        {
          "output_type": "display_data",
          "data": {
            "text/html": [
              "<time datetime=\"1971-01-01\">1971-01-01</time>"
            ],
            "text/markdown": "1971-01-01",
            "text/latex": "1971-01-01",
            "text/plain": [
              "[1] \"1971-01-01\""
            ]
          },
          "metadata": {}
        }
      ],
      "source": [
        "as_date(365)"
      ]
    },
    {
      "cell_type": "code",
      "execution_count": null,
      "id": "1a8b792a",
      "metadata": {
        "id": "1a8b792a",
        "colab": {
          "base_uri": "https://localhost:8080/",
          "height": 34
        },
        "outputId": "2e0b5c1c-93c3-4d01-a781-75415f429011"
      },
      "outputs": [
        {
          "output_type": "display_data",
          "data": {
            "text/plain": [
              "[1] \"1970-01-01 00:01:00 UTC\""
            ]
          },
          "metadata": {}
        }
      ],
      "source": [
        "as_datetime(60)"
      ]
    },
    {
      "cell_type": "markdown",
      "id": "3b9f5e60",
      "metadata": {
        "id": "3b9f5e60"
      },
      "source": [
        "### Getting components"
      ]
    },
    {
      "cell_type": "markdown",
      "id": "ee8e17b4",
      "metadata": {
        "id": "ee8e17b4"
      },
      "source": [
        "Sometimes we start with a date-time variable and want to work with specific date-time components. `lubridate` also provides packages for obtaining these components."
      ]
    },
    {
      "cell_type": "code",
      "execution_count": null,
      "id": "d886a243",
      "metadata": {
        "id": "d886a243",
        "colab": {
          "base_uri": "https://localhost:8080/",
          "height": 104
        },
        "outputId": "14ab22e2-da0a-4bec-ec9e-44c0efa19871"
      },
      "outputs": [
        {
          "output_type": "display_data",
          "data": {
            "text/html": [
              "2026"
            ],
            "text/markdown": "2026",
            "text/latex": "2026",
            "text/plain": [
              "[1] 2026"
            ]
          },
          "metadata": {}
        },
        {
          "output_type": "display_data",
          "data": {
            "text/html": [
              "7"
            ],
            "text/markdown": "7",
            "text/latex": "7",
            "text/plain": [
              "[1] 7"
            ]
          },
          "metadata": {}
        },
        {
          "output_type": "display_data",
          "data": {
            "text/html": [
              "8"
            ],
            "text/markdown": "8",
            "text/latex": "8",
            "text/plain": [
              "[1] 8"
            ]
          },
          "metadata": {}
        },
        {
          "output_type": "display_data",
          "data": {
            "text/html": [
              "189"
            ],
            "text/markdown": "189",
            "text/latex": "189",
            "text/plain": [
              "[1] 189"
            ]
          },
          "metadata": {}
        },
        {
          "output_type": "display_data",
          "data": {
            "text/html": [
              "4"
            ],
            "text/markdown": "4",
            "text/latex": "4",
            "text/plain": [
              "[1] 4"
            ]
          },
          "metadata": {}
        }
      ],
      "source": [
        "datetime <- ymd_hms(\"2026-07-08 12:34:56\")\n",
        "\n",
        "\n",
        "year(datetime)\n",
        "month(datetime)\n",
        "mday(datetime)\n",
        "yday(datetime)\n",
        "wday(datetime)"
      ]
    },
    {
      "cell_type": "markdown",
      "id": "0c97b0bb",
      "metadata": {
        "id": "0c97b0bb"
      },
      "source": [
        "We have the option of extracting date components as a `factor` variable."
      ]
    },
    {
      "cell_type": "code",
      "execution_count": null,
      "id": "de8c5b33",
      "metadata": {
        "id": "de8c5b33",
        "colab": {
          "base_uri": "https://localhost:8080/",
          "height": 86
        },
        "outputId": "e6d66b0e-07b6-4500-90ae-a23856c237c4"
      },
      "outputs": [
        {
          "output_type": "display_data",
          "data": {
            "text/html": [
              "Jul\n",
              "<details>\n",
              "\t<summary style=display:list-item;cursor:pointer>\n",
              "\t\t<strong>Levels</strong>:\n",
              "\t</summary>\n",
              "\t<style>\n",
              "\t.list-inline {list-style: none; margin:0; padding: 0}\n",
              "\t.list-inline>li {display: inline-block}\n",
              "\t.list-inline>li:not(:last-child)::after {content: \"\\00b7\"; padding: 0 .5ex}\n",
              "\t</style>\n",
              "\t<ol class=list-inline><li>'Jan'</li><li>'Feb'</li><li>'Mar'</li><li>'Apr'</li><li>'May'</li><li>'Jun'</li><li>'Jul'</li><li>'Aug'</li><li>'Sep'</li><li>'Oct'</li><li>'Nov'</li><li>'Dec'</li></ol>\n",
              "</details>"
            ],
            "text/markdown": "Jul\n**Levels**: 1. 'Jan'\n2. 'Feb'\n3. 'Mar'\n4. 'Apr'\n5. 'May'\n6. 'Jun'\n7. 'Jul'\n8. 'Aug'\n9. 'Sep'\n10. 'Oct'\n11. 'Nov'\n12. 'Dec'\n\n\n",
            "text/latex": "Jul\n\\emph{Levels}: \\begin{enumerate*}\n\\item 'Jan'\n\\item 'Feb'\n\\item 'Mar'\n\\item 'Apr'\n\\item 'May'\n\\item 'Jun'\n\\item 'Jul'\n\\item 'Aug'\n\\item 'Sep'\n\\item 'Oct'\n\\item 'Nov'\n\\item 'Dec'\n\\end{enumerate*}\n",
            "text/plain": [
              "[1] Jul\n",
              "12 Levels: Jan < Feb < Mar < Apr < May < Jun < Jul < Aug < Sep < ... < Dec"
            ]
          },
          "metadata": {}
        },
        {
          "output_type": "display_data",
          "data": {
            "text/html": [
              "Wednesday\n",
              "<details>\n",
              "\t<summary style=display:list-item;cursor:pointer>\n",
              "\t\t<strong>Levels</strong>:\n",
              "\t</summary>\n",
              "\t<style>\n",
              "\t.list-inline {list-style: none; margin:0; padding: 0}\n",
              "\t.list-inline>li {display: inline-block}\n",
              "\t.list-inline>li:not(:last-child)::after {content: \"\\00b7\"; padding: 0 .5ex}\n",
              "\t</style>\n",
              "\t<ol class=list-inline><li>'Sunday'</li><li>'Monday'</li><li>'Tuesday'</li><li>'Wednesday'</li><li>'Thursday'</li><li>'Friday'</li><li>'Saturday'</li></ol>\n",
              "</details>"
            ],
            "text/markdown": "Wednesday\n**Levels**: 1. 'Sunday'\n2. 'Monday'\n3. 'Tuesday'\n4. 'Wednesday'\n5. 'Thursday'\n6. 'Friday'\n7. 'Saturday'\n\n\n",
            "text/latex": "Wednesday\n\\emph{Levels}: \\begin{enumerate*}\n\\item 'Sunday'\n\\item 'Monday'\n\\item 'Tuesday'\n\\item 'Wednesday'\n\\item 'Thursday'\n\\item 'Friday'\n\\item 'Saturday'\n\\end{enumerate*}\n",
            "text/plain": [
              "[1] Wednesday\n",
              "7 Levels: Sunday < Monday < Tuesday < Wednesday < Thursday < ... < Saturday"
            ]
          },
          "metadata": {}
        }
      ],
      "source": [
        "month(datetime, label = TRUE)\n",
        "wday(datetime, label = TRUE, abbr = FALSE)"
      ]
    },
    {
      "cell_type": "markdown",
      "id": "3776f031",
      "metadata": {
        "id": "3776f031"
      },
      "source": [
        "Using these functions we can also modify datetimes in the following manner:"
      ]
    },
    {
      "cell_type": "code",
      "execution_count": null,
      "id": "db4c5bb3",
      "metadata": {
        "id": "db4c5bb3",
        "colab": {
          "base_uri": "https://localhost:8080/",
          "height": 52
        },
        "outputId": "9b45c85c-9a1a-4d56-dbd9-8cf314a48828"
      },
      "outputs": [
        {
          "output_type": "display_data",
          "data": {
            "text/plain": [
              "[1] \"2026-07-08 12:34:56 UTC\""
            ]
          },
          "metadata": {}
        },
        {
          "output_type": "display_data",
          "data": {
            "text/plain": [
              "[1] \"2030-01-08 13:34:56 UTC\""
            ]
          },
          "metadata": {}
        }
      ],
      "source": [
        "datetime\n",
        "\n",
        "year(datetime) <- 2030\n",
        "month(datetime) <- 01\n",
        "\n",
        "\n",
        "hour(datetime) <- hour(datetime) + 1\n",
        "\n",
        "datetime"
      ]
    },
    {
      "cell_type": "markdown",
      "id": "a866c83b",
      "metadata": {
        "id": "a866c83b"
      },
      "source": [
        "###  Time Spans"
      ]
    },
    {
      "cell_type": "markdown",
      "id": "90312cce",
      "metadata": {
        "id": "90312cce"
      },
      "source": [
        "We may also want to do arithmetic with date-time variables. This results in three classes of time spans:\n",
        "\n",
        "- **Durations**, which represent an exact number of seconds.\n",
        "- **Periods**, which represent human units like weeks and months.\n",
        "- **Intervals**, which represent a starting and ending point."
      ]
    },
    {
      "cell_type": "markdown",
      "id": "b596f539",
      "metadata": {
        "id": "b596f539"
      },
      "source": [
        "Subtracting two date-times yields a difftime class object which records a time span of seconds, minutes, hours, days, or weeks."
      ]
    },
    {
      "cell_type": "code",
      "execution_count": null,
      "id": "051ad37d",
      "metadata": {
        "id": "051ad37d",
        "colab": {
          "base_uri": "https://localhost:8080/",
          "height": 34
        },
        "outputId": "cba56058-c446-499a-ba2b-4ea6dd6fddde"
      },
      "outputs": [
        {
          "output_type": "display_data",
          "data": {
            "text/plain": [
              "Time difference of 295 days"
            ]
          },
          "metadata": {}
        }
      ],
      "source": [
        "days_in_23 = today() - ymd(\"2023-01-01\")\n",
        "days_in_23"
      ]
    },
    {
      "cell_type": "markdown",
      "id": "9f1d2cf0",
      "metadata": {
        "id": "9f1d2cf0"
      },
      "source": [
        "`lubridate` uses **duration** which always uses seconds to maintain consistency."
      ]
    },
    {
      "cell_type": "code",
      "execution_count": null,
      "id": "0bf76600",
      "metadata": {
        "id": "0bf76600",
        "colab": {
          "base_uri": "https://localhost:8080/",
          "height": 34
        },
        "outputId": "1855efb8-e967-4372-9984-7e649a04e453"
      },
      "outputs": [
        {
          "output_type": "display_data",
          "data": {
            "text/html": [
              "25488000s (~42.14 weeks)"
            ],
            "text/markdown": "25488000s (~42.14 weeks)",
            "text/latex": "25488000s (\\textasciitilde{}42.14 weeks)",
            "text/plain": [
              "[1] \"25488000s (~42.14 weeks)\""
            ]
          },
          "metadata": {}
        }
      ],
      "source": [
        "as.duration(days_in_23)"
      ]
    },
    {
      "cell_type": "markdown",
      "id": "d6b82614",
      "metadata": {
        "id": "d6b82614"
      },
      "source": [
        "The are a number of functions that help us work with durations:"
      ]
    },
    {
      "cell_type": "code",
      "execution_count": null,
      "id": "228a4499",
      "metadata": {
        "id": "228a4499",
        "colab": {
          "base_uri": "https://localhost:8080/",
          "height": 69
        },
        "outputId": "b9b91786-efc9-43fd-a7c6-46b9ef82de10"
      },
      "outputs": [
        {
          "output_type": "display_data",
          "data": {
            "text/html": [
              "60s (~1 minutes)"
            ],
            "text/markdown": "60s (~1 minutes)",
            "text/latex": "60s (\\textasciitilde{}1 minutes)",
            "text/plain": [
              "[1] \"60s (~1 minutes)\""
            ]
          },
          "metadata": {}
        },
        {
          "output_type": "display_data",
          "data": {
            "text/html": [
              "<style>\n",
              ".list-inline {list-style: none; margin:0; padding: 0}\n",
              ".list-inline>li {display: inline-block}\n",
              ".list-inline>li:not(:last-child)::after {content: \"\\00b7\"; padding: 0 .5ex}\n",
              "</style>\n",
              "<ol class=list-inline><li>0s</li><li>86400s (~1 days)</li><li>172800s (~2 days)</li><li>259200s (~3 days)</li><li>345600s (~4 days)</li><li>432000s (~5 days)</li></ol>\n"
            ],
            "text/markdown": "1. 0s\n2. 86400s (~1 days)\n3. 172800s (~2 days)\n4. 259200s (~3 days)\n5. 345600s (~4 days)\n6. 432000s (~5 days)\n\n\n",
            "text/latex": "\\begin{enumerate*}\n\\item 0s\n\\item 86400s (\\textasciitilde{}1 days)\n\\item 172800s (\\textasciitilde{}2 days)\n\\item 259200s (\\textasciitilde{}3 days)\n\\item 345600s (\\textasciitilde{}4 days)\n\\item 432000s (\\textasciitilde{}5 days)\n\\end{enumerate*}\n",
            "text/plain": [
              "[1] \"0s\"                \"86400s (~1 days)\"  \"172800s (~2 days)\"\n",
              "[4] \"259200s (~3 days)\" \"345600s (~4 days)\" \"432000s (~5 days)\""
            ]
          },
          "metadata": {}
        },
        {
          "output_type": "display_data",
          "data": {
            "text/html": [
              "<style>\n",
              ".list-inline {list-style: none; margin:0; padding: 0}\n",
              ".list-inline>li {display: inline-block}\n",
              ".list-inline>li:not(:last-child)::after {content: \"\\00b7\"; padding: 0 .5ex}\n",
              "</style>\n",
              "<ol class=list-inline><li>122400s (~1.42 days)</li><li>208800s (~2.42 days)</li><li>295200s (~3.42 days)</li></ol>\n"
            ],
            "text/markdown": "1. 122400s (~1.42 days)\n2. 208800s (~2.42 days)\n3. 295200s (~3.42 days)\n\n\n",
            "text/latex": "\\begin{enumerate*}\n\\item 122400s (\\textasciitilde{}1.42 days)\n\\item 208800s (\\textasciitilde{}2.42 days)\n\\item 295200s (\\textasciitilde{}3.42 days)\n\\end{enumerate*}\n",
            "text/plain": [
              "[1] \"122400s (~1.42 days)\" \"208800s (~2.42 days)\" \"295200s (~3.42 days)\""
            ]
          },
          "metadata": {}
        }
      ],
      "source": [
        "dminutes(1)\n",
        "ddays(0:5)\n",
        "\n",
        "dhours(10) + ddays(1:3)"
      ]
    },
    {
      "cell_type": "markdown",
      "id": "30613b84",
      "metadata": {
        "id": "30613b84"
      },
      "source": [
        "These functions allow us to conveniently do arithmetic with date-times"
      ]
    },
    {
      "cell_type": "code",
      "execution_count": null,
      "id": "462a5108",
      "metadata": {
        "id": "462a5108",
        "colab": {
          "base_uri": "https://localhost:8080/",
          "height": 86
        },
        "outputId": "0f10b11b-24bd-43d0-b3dc-d933623e1208"
      },
      "outputs": [
        {
          "output_type": "display_data",
          "data": {
            "text/plain": [
              "[1] \"2026-07-08 14:34:56 UTC\""
            ]
          },
          "metadata": {}
        },
        {
          "output_type": "display_data",
          "data": {
            "text/plain": [
              "[1] \"2026-06-24 12:34:56 UTC\""
            ]
          },
          "metadata": {}
        },
        {
          "output_type": "display_data",
          "data": {
            "text/plain": [
              "[1] \"2026-07-07 12:34:56 UTC\" \"2026-07-06 12:34:56 UTC\"\n",
              "[3] \"2026-07-05 12:34:56 UTC\""
            ]
          },
          "metadata": {}
        }
      ],
      "source": [
        "ymd_hms(\"2026-07-08 12:34:56\") + dhours(2)\n",
        "\n",
        "ymd_hms(\"2026-07-08 12:34:56\") - dweeks(2)\n",
        "\n",
        "ymd_hms(\"2026-07-08 12:34:56\") - ddays(1:3)"
      ]
    },
    {
      "cell_type": "markdown",
      "id": "8e32b36a",
      "metadata": {
        "id": "8e32b36a"
      },
      "source": [
        "**Periods** are time spans that work with human units such as days and months. Similar to **durations** `lubridate` contains functions that allow us to use arithmetic to build periods."
      ]
    },
    {
      "cell_type": "code",
      "execution_count": null,
      "id": "64d2589e",
      "metadata": {
        "id": "64d2589e",
        "colab": {
          "base_uri": "https://localhost:8080/",
          "height": 52
        },
        "outputId": "628d4432-a399-4460-c99f-c809b0f1085d"
      },
      "outputs": [
        {
          "output_type": "display_data",
          "data": {
            "text/html": [
              "<style>\n",
              ".list-inline {list-style: none; margin:0; padding: 0}\n",
              ".list-inline>li {display: inline-block}\n",
              ".list-inline>li:not(:last-child)::after {content: \"\\00b7\"; padding: 0 .5ex}\n",
              "</style>\n",
              "<ol class=list-inline><li>12H 0M 0S</li><li>24H 0M 0S</li></ol>\n"
            ],
            "text/markdown": "1. 12H 0M 0S\n2. 24H 0M 0S\n\n\n",
            "text/latex": "\\begin{enumerate*}\n\\item 12H 0M 0S\n\\item 24H 0M 0S\n\\end{enumerate*}\n",
            "text/plain": [
              "[1] \"12H 0M 0S\" \"24H 0M 0S\""
            ]
          },
          "metadata": {}
        },
        {
          "output_type": "display_data",
          "data": {
            "text/html": [
              "<style>\n",
              ".list-inline {list-style: none; margin:0; padding: 0}\n",
              ".list-inline>li {display: inline-block}\n",
              ".list-inline>li:not(:last-child)::after {content: \"\\00b7\"; padding: 0 .5ex}\n",
              "</style>\n",
              "<ol class=list-inline><li>1m 0d 0H 0M 0S</li><li>2m 0d 0H 0M 0S</li><li>3m 0d 0H 0M 0S</li><li>4m 0d 0H 0M 0S</li></ol>\n"
            ],
            "text/markdown": "1. 1m 0d 0H 0M 0S\n2. 2m 0d 0H 0M 0S\n3. 3m 0d 0H 0M 0S\n4. 4m 0d 0H 0M 0S\n\n\n",
            "text/latex": "\\begin{enumerate*}\n\\item 1m 0d 0H 0M 0S\n\\item 2m 0d 0H 0M 0S\n\\item 3m 0d 0H 0M 0S\n\\item 4m 0d 0H 0M 0S\n\\end{enumerate*}\n",
            "text/plain": [
              "[1] \"1m 0d 0H 0M 0S\" \"2m 0d 0H 0M 0S\" \"3m 0d 0H 0M 0S\" \"4m 0d 0H 0M 0S\""
            ]
          },
          "metadata": {}
        }
      ],
      "source": [
        "hours(c(12, 24))\n",
        "months(1:4)"
      ]
    },
    {
      "cell_type": "code",
      "execution_count": null,
      "id": "b94773b8",
      "metadata": {
        "id": "b94773b8",
        "colab": {
          "base_uri": "https://localhost:8080/",
          "height": 52
        },
        "outputId": "00497dd8-5ec9-4a2a-f8ad-f011d4c6ec0b"
      },
      "outputs": [
        {
          "output_type": "display_data",
          "data": {
            "text/html": [
              "1y 6m 0d 0H 0M 0S"
            ],
            "text/markdown": "1y 6m 0d 0H 0M 0S",
            "text/latex": "1y 6m 0d 0H 0M 0S",
            "text/plain": [
              "[1] \"1y 6m 0d 0H 0M 0S\""
            ]
          },
          "metadata": {}
        },
        {
          "output_type": "display_data",
          "data": {
            "text/html": [
              "1y 4m 0d 0H 0M 0S"
            ],
            "text/markdown": "1y 4m 0d 0H 0M 0S",
            "text/latex": "1y 4m 0d 0H 0M 0S",
            "text/plain": [
              "[1] \"1y 4m 0d 0H 0M 0S\""
            ]
          },
          "metadata": {}
        }
      ],
      "source": [
        "years(1) + months(6)\n",
        "\n",
        "years(1) + months(4)"
      ]
    },
    {
      "cell_type": "markdown",
      "id": "d8353454",
      "metadata": {
        "id": "d8353454"
      },
      "source": [
        "As with **durations** we can use **periods** to modify date-time variables"
      ]
    },
    {
      "cell_type": "code",
      "execution_count": null,
      "id": "ff3b131a",
      "metadata": {
        "id": "ff3b131a",
        "colab": {
          "base_uri": "https://localhost:8080/",
          "height": 34
        },
        "outputId": "34d6094d-cda4-44bd-c40c-477839f0d93f"
      },
      "outputs": [
        {
          "output_type": "display_data",
          "data": {
            "text/html": [
              "<time datetime=\"2024-04-23\">2024-04-23</time>"
            ],
            "text/markdown": "2024-04-23",
            "text/latex": "2024-04-23",
            "text/plain": [
              "[1] \"2024-04-23\""
            ]
          },
          "metadata": {}
        }
      ],
      "source": [
        "today() + months(6)"
      ]
    },
    {
      "cell_type": "markdown",
      "id": "6925efbc",
      "metadata": {
        "id": "6925efbc"
      },
      "source": [
        "Using **periods** are beneficial for processing date-time variables when considering changes in date-times as a result of day light savings or leap year.\n",
        "\n",
        "We can see below that since **durations** are in terms of seconds we don't account for daylight savings."
      ]
    },
    {
      "cell_type": "code",
      "execution_count": null,
      "id": "1468bd04",
      "metadata": {
        "id": "1468bd04",
        "colab": {
          "base_uri": "https://localhost:8080/",
          "height": 52
        },
        "outputId": "fe82f9b5-212a-441d-837e-d430c283723c"
      },
      "outputs": [
        {
          "output_type": "display_data",
          "data": {
            "text/plain": [
              "[1] \"2023-03-12 04:00:00 EDT\""
            ]
          },
          "metadata": {}
        },
        {
          "output_type": "display_data",
          "data": {
            "text/plain": [
              "[1] \"2023-03-12 03:00:00 EDT\""
            ]
          },
          "metadata": {}
        }
      ],
      "source": [
        " ymd_hms(\"2023-03-11 03:00:00\", tz = \"America/New_York\") + ddays(1)\n",
        "\n",
        " ymd_hms(\"2023-03-11 03:00:00\", tz = \"America/New_York\") + days(1)"
      ]
    },
    {
      "cell_type": "markdown",
      "id": "7b3ef4b7",
      "metadata": {
        "id": "7b3ef4b7"
      },
      "source": [
        "The lengths of years and days will vary depending on the specific date. Some years have 365 days while other have 366. The length of a day differs depending on whether it is daylight savings time. As a result **durations** are defined as the number of seconds per average year or day. We can see this below."
      ]
    },
    {
      "cell_type": "code",
      "execution_count": null,
      "id": "140d6e71",
      "metadata": {
        "id": "140d6e71",
        "colab": {
          "base_uri": "https://localhost:8080/",
          "height": 52
        },
        "outputId": "94919e0c-2e32-491e-ece0-d78ba4686ee4"
      },
      "outputs": [
        {
          "output_type": "display_data",
          "data": {
            "text/html": [
              "1.00068493150685"
            ],
            "text/markdown": "1.00068493150685",
            "text/latex": "1.00068493150685",
            "text/plain": [
              "[1] 1.000685"
            ]
          },
          "metadata": {}
        },
        {
          "output_type": "display_data",
          "data": {
            "text/html": [
              "365.25"
            ],
            "text/markdown": "365.25",
            "text/latex": "365.25",
            "text/plain": [
              "[1] 365.25"
            ]
          },
          "metadata": {}
        }
      ],
      "source": [
        "dyears(1) / ddays(365)\n",
        "years(1) / days(1)"
      ]
    },
    {
      "cell_type": "markdown",
      "id": "519b6b23",
      "metadata": {
        "id": "519b6b23"
      },
      "source": [
        "**Duraitons** and **periods** do not give precise measurements. For that we can use **intervals**, to evaluate the precise time span for a particular interval of time.\n",
        "You can create an interval by writing start `%--%` end:"
      ]
    },
    {
      "cell_type": "code",
      "execution_count": null,
      "id": "99336b7a",
      "metadata": {
        "id": "99336b7a",
        "colab": {
          "base_uri": "https://localhost:8080/",
          "height": 34
        },
        "outputId": "b20b30ef-6ec8-46cf-c2a2-e638083568ff"
      },
      "outputs": [
        {
          "output_type": "display_data",
          "data": {
            "text/html": [
              "2023-01-01 UTC--2024-01-01 UTC"
            ],
            "text/markdown": "2023-01-01 UTC--2024-01-01 UTC",
            "text/latex": "2023-01-01 UTC--2024-01-01 UTC",
            "text/plain": [
              "[1] 2023-01-01 UTC--2024-01-01 UTC"
            ]
          },
          "metadata": {}
        }
      ],
      "source": [
        "y2023 <- ymd(\"2023-01-01\") %--% ymd(\"2024-01-01\")\n",
        "y2023"
      ]
    },
    {
      "cell_type": "code",
      "execution_count": null,
      "id": "3b1031f2",
      "metadata": {
        "id": "3b1031f2",
        "colab": {
          "base_uri": "https://localhost:8080/",
          "height": 34
        },
        "outputId": "41ca406e-6e59-4e1e-dfd3-9c94142a04bb"
      },
      "outputs": [
        {
          "output_type": "display_data",
          "data": {
            "text/html": [
              "365"
            ],
            "text/markdown": "365",
            "text/latex": "365",
            "text/plain": [
              "[1] 365"
            ]
          },
          "metadata": {}
        }
      ],
      "source": [
        "y2023 / days(1)"
      ]
    },
    {
      "cell_type": "markdown",
      "id": "99a95eed",
      "metadata": {
        "id": "99a95eed"
      },
      "source": [
        "## Dates and Times Exercises"
      ]
    },
    {
      "cell_type": "markdown",
      "id": "660b5cbe",
      "metadata": {
        "id": "660b5cbe"
      },
      "source": [
        "1.) Plot the average depature delay per hour for each day of the week."
      ]
    },
    {
      "cell_type": "code",
      "execution_count": null,
      "id": "6f27375b",
      "metadata": {
        "id": "6f27375b"
      },
      "outputs": [],
      "source": [
        "### YOUR CODE HERE\n"
      ]
    },
    {
      "cell_type": "code",
      "source": [
        "### YOUR ANSWER SHOULD LOOK LIKE THIS"
      ],
      "metadata": {
        "colab": {
          "base_uri": "https://localhost:8080/",
          "height": 472
        },
        "id": "RrZCirro1UnL",
        "outputId": "92d5c680-52a7-4966-e0e0-77db82e3cc66"
      },
      "id": "RrZCirro1UnL",
      "execution_count": null,
      "outputs": [
        {
          "output_type": "stream",
          "name": "stderr",
          "text": [
            "Warning message:\n",
            "“\u001b[1m\u001b[22mRemoved 1 rows containing missing values (`position_stack()`).”\n"
          ]
        },
        {
          "output_type": "display_data",
          "data": {
            "text/plain": [
              "plot without title"
            ],
            "image/png": "[encoded data removed]"
          },
          "metadata": {
            "image/png": {
              "width": 420,
              "height": 420
            }
          }
        }
      ]
    },
    {
      "cell_type": "markdown",
      "source": [
        "2.) Convert `arr_time` and `dep_time` to date-time variables. Calculate their difference and\n",
        "compare the result to air_time. Compare this to taking the difference of `arr_time` and `dep_time`  directly. For simplicity, assume all flights are not overnight flights.\n",
        "\n",
        "_Hint_ 1: You'll probably need to consider the different time zones between destination and origin. How can we incorporate the airports dataset to account for this?   \n",
        "\n",
        "_Hint_ 2: Note that `dep_time` and `arr_time` are in HHMM format (e.g 513 is 5 hours and 13 minutes).  \n",
        "\n",
        "_Hint_ 3:The function  `%/%` is integer division and `%%` returns the remainder from divison so `513 %/% 100` returns 5 and `513 %% 100` returns 13. Use these function with your knowledge of `dep_time` and `arr_time` to construct a date time variable.\n",
        "\n",
        "_Hint_ 4: This might be helpful: https://stackoverflow.com/questions/49105472/how-to-convert-whole-column-of-dates-times-from-one-time-zone-to-another-in-r"
      ],
      "metadata": {
        "id": "9Xrzoxoo1rp5"
      },
      "id": "9Xrzoxoo1rp5"
    },
    {
      "cell_type": "code",
      "execution_count": null,
      "id": "0902dda8",
      "metadata": {
        "id": "0902dda8"
      },
      "outputs": [],
      "source": [
        "### YOUR CODE HERE\n"
      ]
    },
    {
      "cell_type": "code",
      "source": [
        "### YOUR ANSWER SHOULD LOOK LIKE THIS"
      ],
      "metadata": {
        "colab": {
          "base_uri": "https://localhost:8080/",
          "height": 725
        },
        "id": "fGnpemZD1b1q",
        "outputId": "780b8db0-eac7-457b-dfb3-3e708c19bbef"
      },
      "id": "fGnpemZD1b1q",
      "execution_count": null,
      "outputs": [
        {
          "output_type": "display_data",
          "data": {
            "text/html": [
              "<table class=\"dataframe\">\n",
              "<caption>A tibble: 20 × 10</caption>\n",
              "<thead>\n",
              "\t<tr><th scope=col>flight_duration</th><th scope=col>air_time</th><th scope=col>departure_utc</th><th scope=col>arrival_utc</th><th scope=col>dep_time</th><th scope=col>arr_time</th><th scope=col>origin</th><th scope=col>dest</th><th scope=col>origin_tz</th><th scope=col>dest_tz</th></tr>\n",
              "\t<tr><th scope=col>&lt;drtn&gt;</th><th scope=col>&lt;dbl&gt;</th><th scope=col>&lt;dttm&gt;</th><th scope=col>&lt;dttm&gt;</th><th scope=col>&lt;int&gt;</th><th scope=col>&lt;int&gt;</th><th scope=col>&lt;chr&gt;</th><th scope=col>&lt;chr&gt;</th><th scope=col>&lt;chr&gt;</th><th scope=col>&lt;chr&gt;</th></tr>\n",
              "</thead>\n",
              "<tbody>\n",
              "\t<tr><td>253 mins</td><td>3.7833333</td><td>2013-01-01 10:17:00</td><td>2013-01-01 14:30:00</td><td>517</td><td>830</td><td>EWR</td><td>IAH</td><td>America/New_York</td><td>America/Chicago    </td></tr>\n",
              "\t<tr><td>257 mins</td><td>3.7833333</td><td>2013-01-01 10:33:00</td><td>2013-01-01 14:50:00</td><td>533</td><td>850</td><td>LGA</td><td>IAH</td><td>America/New_York</td><td>America/Chicago    </td></tr>\n",
              "\t<tr><td>221 mins</td><td>2.6666667</td><td>2013-01-01 10:42:00</td><td>2013-01-01 14:23:00</td><td>542</td><td>923</td><td>JFK</td><td>MIA</td><td>America/New_York</td><td>America/New_York   </td></tr>\n",
              "\t<tr><td>138 mins</td><td>1.9333333</td><td>2013-01-01 10:54:00</td><td>2013-01-01 13:12:00</td><td>554</td><td>812</td><td>LGA</td><td>ATL</td><td>America/New_York</td><td>America/New_York   </td></tr>\n",
              "\t<tr><td>166 mins</td><td>2.5000000</td><td>2013-01-01 10:54:00</td><td>2013-01-01 13:40:00</td><td>554</td><td>740</td><td>EWR</td><td>ORD</td><td>America/New_York</td><td>America/Chicago    </td></tr>\n",
              "\t<tr><td>198 mins</td><td>2.6333333</td><td>2013-01-01 10:55:00</td><td>2013-01-01 14:13:00</td><td>555</td><td>913</td><td>EWR</td><td>FLL</td><td>America/New_York</td><td>America/New_York   </td></tr>\n",
              "\t<tr><td> 72 mins</td><td>0.8833333</td><td>2013-01-01 10:57:00</td><td>2013-01-01 12:09:00</td><td>557</td><td>709</td><td>LGA</td><td>IAD</td><td>America/New_York</td><td>America/New_York   </td></tr>\n",
              "\t<tr><td>161 mins</td><td>2.3333333</td><td>2013-01-01 10:57:00</td><td>2013-01-01 13:38:00</td><td>557</td><td>838</td><td>JFK</td><td>MCO</td><td>America/New_York</td><td>America/New_York   </td></tr>\n",
              "\t<tr><td>175 mins</td><td>2.3000000</td><td>2013-01-01 10:58:00</td><td>2013-01-01 13:53:00</td><td>558</td><td>753</td><td>LGA</td><td>ORD</td><td>America/New_York</td><td>America/Chicago    </td></tr>\n",
              "\t<tr><td>171 mins</td><td>2.4833333</td><td>2013-01-01 10:58:00</td><td>2013-01-01 13:49:00</td><td>558</td><td>849</td><td>JFK</td><td>PBI</td><td>America/New_York</td><td>America/New_York   </td></tr>\n",
              "\t<tr><td>175 mins</td><td>2.6333333</td><td>2013-01-01 10:58:00</td><td>2013-01-01 13:53:00</td><td>558</td><td>853</td><td>JFK</td><td>TPA</td><td>America/New_York</td><td>America/New_York   </td></tr>\n",
              "\t<tr><td>386 mins</td><td>5.7500000</td><td>2013-01-01 10:58:00</td><td>2013-01-01 17:24:00</td><td>558</td><td>924</td><td>JFK</td><td>LAX</td><td>America/New_York</td><td>America/Los_Angeles</td></tr>\n",
              "\t<tr><td>385 mins</td><td>6.0166667</td><td>2013-01-01 10:58:00</td><td>2013-01-01 17:23:00</td><td>558</td><td>923</td><td>EWR</td><td>SFO</td><td>America/New_York</td><td>America/Los_Angeles</td></tr>\n",
              "\t<tr><td>282 mins</td><td>4.2833333</td><td>2013-01-01 10:59:00</td><td>2013-01-01 15:41:00</td><td>559</td><td>941</td><td>LGA</td><td>DFW</td><td>America/New_York</td><td>America/Chicago    </td></tr>\n",
              "\t<tr><td> 63 mins</td><td>0.7333333</td><td>2013-01-01 10:59:00</td><td>2013-01-01 12:02:00</td><td>559</td><td>702</td><td>JFK</td><td>BOS</td><td>America/New_York</td><td>America/New_York   </td></tr>\n",
              "\t<tr><td>355 mins</td><td>5.6166667</td><td>2013-01-01 10:59:00</td><td>2013-01-01 16:54:00</td><td>559</td><td>854</td><td>EWR</td><td>LAS</td><td>America/New_York</td><td>America/Los_Angeles</td></tr>\n",
              "\t<tr><td>171 mins</td><td>2.5333333</td><td>2013-01-01 11:00:00</td><td>2013-01-01 13:51:00</td><td>600</td><td>851</td><td>LGA</td><td>FLL</td><td>America/New_York</td><td>America/New_York   </td></tr>\n",
              "\t<tr><td>157 mins</td><td>2.2333333</td><td>2013-01-01 11:00:00</td><td>2013-01-01 13:37:00</td><td>600</td><td>837</td><td>LGA</td><td>ATL</td><td>America/New_York</td><td>America/New_York   </td></tr>\n",
              "\t<tr><td>163 mins</td><td>2.4500000</td><td>2013-01-01 11:01:00</td><td>2013-01-01 13:44:00</td><td>601</td><td>844</td><td>EWR</td><td>PBI</td><td>America/New_York</td><td>America/New_York   </td></tr>\n",
              "\t<tr><td>190 mins</td><td>2.8333333</td><td>2013-01-01 11:02:00</td><td>2013-01-01 14:12:00</td><td>602</td><td>812</td><td>LGA</td><td>MSP</td><td>America/New_York</td><td>America/Chicago    </td></tr>\n",
              "</tbody>\n",
              "</table>\n"
            ],
            "text/markdown": "\nA tibble: 20 × 10\n\n| flight_duration &lt;drtn&gt; | air_time &lt;dbl&gt; | departure_utc &lt;dttm&gt; | arrival_utc &lt;dttm&gt; | dep_time &lt;int&gt; | arr_time &lt;int&gt; | origin &lt;chr&gt; | dest &lt;chr&gt; | origin_tz &lt;chr&gt; | dest_tz &lt;chr&gt; |\n|---|---|---|---|---|---|---|---|---|---|\n| 253 mins | 3.7833333 | 2013-01-01 10:17:00 | 2013-01-01 14:30:00 | 517 | 830 | EWR | IAH | America/New_York | America/Chicago     |\n| 257 mins | 3.7833333 | 2013-01-01 10:33:00 | 2013-01-01 14:50:00 | 533 | 850 | LGA | IAH | America/New_York | America/Chicago     |\n| 221 mins | 2.6666667 | 2013-01-01 10:42:00 | 2013-01-01 14:23:00 | 542 | 923 | JFK | MIA | America/New_York | America/New_York    |\n| 138 mins | 1.9333333 | 2013-01-01 10:54:00 | 2013-01-01 13:12:00 | 554 | 812 | LGA | ATL | America/New_York | America/New_York    |\n| 166 mins | 2.5000000 | 2013-01-01 10:54:00 | 2013-01-01 13:40:00 | 554 | 740 | EWR | ORD | America/New_York | America/Chicago     |\n| 198 mins | 2.6333333 | 2013-01-01 10:55:00 | 2013-01-01 14:13:00 | 555 | 913 | EWR | FLL | America/New_York | America/New_York    |\n|  72 mins | 0.8833333 | 2013-01-01 10:57:00 | 2013-01-01 12:09:00 | 557 | 709 | LGA | IAD | America/New_York | America/New_York    |\n| 161 mins | 2.3333333 | 2013-01-01 10:57:00 | 2013-01-01 13:38:00 | 557 | 838 | JFK | MCO | America/New_York | America/New_York    |\n| 175 mins | 2.3000000 | 2013-01-01 10:58:00 | 2013-01-01 13:53:00 | 558 | 753 | LGA | ORD | America/New_York | America/Chicago     |\n| 171 mins | 2.4833333 | 2013-01-01 10:58:00 | 2013-01-01 13:49:00 | 558 | 849 | JFK | PBI | America/New_York | America/New_York    |\n| 175 mins | 2.6333333 | 2013-01-01 10:58:00 | 2013-01-01 13:53:00 | 558 | 853 | JFK | TPA | America/New_York | America/New_York    |\n| 386 mins | 5.7500000 | 2013-01-01 10:58:00 | 2013-01-01 17:24:00 | 558 | 924 | JFK | LAX | America/New_York | America/Los_Angeles |\n| 385 mins | 6.0166667 | 2013-01-01 10:58:00 | 2013-01-01 17:23:00 | 558 | 923 | EWR | SFO | America/New_York | America/Los_Angeles |\n| 282 mins | 4.2833333 | 2013-01-01 10:59:00 | 2013-01-01 15:41:00 | 559 | 941 | LGA | DFW | America/New_York | America/Chicago     |\n|  63 mins | 0.7333333 | 2013-01-01 10:59:00 | 2013-01-01 12:02:00 | 559 | 702 | JFK | BOS | America/New_York | America/New_York    |\n| 355 mins | 5.6166667 | 2013-01-01 10:59:00 | 2013-01-01 16:54:00 | 559 | 854 | EWR | LAS | America/New_York | America/Los_Angeles |\n| 171 mins | 2.5333333 | 2013-01-01 11:00:00 | 2013-01-01 13:51:00 | 600 | 851 | LGA | FLL | America/New_York | America/New_York    |\n| 157 mins | 2.2333333 | 2013-01-01 11:00:00 | 2013-01-01 13:37:00 | 600 | 837 | LGA | ATL | America/New_York | America/New_York    |\n| 163 mins | 2.4500000 | 2013-01-01 11:01:00 | 2013-01-01 13:44:00 | 601 | 844 | EWR | PBI | America/New_York | America/New_York    |\n| 190 mins | 2.8333333 | 2013-01-01 11:02:00 | 2013-01-01 14:12:00 | 602 | 812 | LGA | MSP | America/New_York | America/Chicago     |\n\n",
            "text/latex": "A tibble: 20 × 10\n\\begin{tabular}{llllllllll}\n flight\\_duration & air\\_time & departure\\_utc & arrival\\_utc & dep\\_time & arr\\_time & origin & dest & origin\\_tz & dest\\_tz\\\\\n <drtn> & <dbl> & <dttm> & <dttm> & <int> & <int> & <chr> & <chr> & <chr> & <chr>\\\\\n\\hline\n\t 253 mins & 3.7833333 & 2013-01-01 10:17:00 & 2013-01-01 14:30:00 & 517 & 830 & EWR & IAH & America/New\\_York & America/Chicago    \\\\\n\t 257 mins & 3.7833333 & 2013-01-01 10:33:00 & 2013-01-01 14:50:00 & 533 & 850 & LGA & IAH & America/New\\_York & America/Chicago    \\\\\n\t 221 mins & 2.6666667 & 2013-01-01 10:42:00 & 2013-01-01 14:23:00 & 542 & 923 & JFK & MIA & America/New\\_York & America/New\\_York   \\\\\n\t 138 mins & 1.9333333 & 2013-01-01 10:54:00 & 2013-01-01 13:12:00 & 554 & 812 & LGA & ATL & America/New\\_York & America/New\\_York   \\\\\n\t 166 mins & 2.5000000 & 2013-01-01 10:54:00 & 2013-01-01 13:40:00 & 554 & 740 & EWR & ORD & America/New\\_York & America/Chicago    \\\\\n\t 198 mins & 2.6333333 & 2013-01-01 10:55:00 & 2013-01-01 14:13:00 & 555 & 913 & EWR & FLL & America/New\\_York & America/New\\_York   \\\\\n\t  72 mins & 0.8833333 & 2013-01-01 10:57:00 & 2013-01-01 12:09:00 & 557 & 709 & LGA & IAD & America/New\\_York & America/New\\_York   \\\\\n\t 161 mins & 2.3333333 & 2013-01-01 10:57:00 & 2013-01-01 13:38:00 & 557 & 838 & JFK & MCO & America/New\\_York & America/New\\_York   \\\\\n\t 175 mins & 2.3000000 & 2013-01-01 10:58:00 & 2013-01-01 13:53:00 & 558 & 753 & LGA & ORD & America/New\\_York & America/Chicago    \\\\\n\t 171 mins & 2.4833333 & 2013-01-01 10:58:00 & 2013-01-01 13:49:00 & 558 & 849 & JFK & PBI & America/New\\_York & America/New\\_York   \\\\\n\t 175 mins & 2.6333333 & 2013-01-01 10:58:00 & 2013-01-01 13:53:00 & 558 & 853 & JFK & TPA & America/New\\_York & America/New\\_York   \\\\\n\t 386 mins & 5.7500000 & 2013-01-01 10:58:00 & 2013-01-01 17:24:00 & 558 & 924 & JFK & LAX & America/New\\_York & America/Los\\_Angeles\\\\\n\t 385 mins & 6.0166667 & 2013-01-01 10:58:00 & 2013-01-01 17:23:00 & 558 & 923 & EWR & SFO & America/New\\_York & America/Los\\_Angeles\\\\\n\t 282 mins & 4.2833333 & 2013-01-01 10:59:00 & 2013-01-01 15:41:00 & 559 & 941 & LGA & DFW & America/New\\_York & America/Chicago    \\\\\n\t  63 mins & 0.7333333 & 2013-01-01 10:59:00 & 2013-01-01 12:02:00 & 559 & 702 & JFK & BOS & America/New\\_York & America/New\\_York   \\\\\n\t 355 mins & 5.6166667 & 2013-01-01 10:59:00 & 2013-01-01 16:54:00 & 559 & 854 & EWR & LAS & America/New\\_York & America/Los\\_Angeles\\\\\n\t 171 mins & 2.5333333 & 2013-01-01 11:00:00 & 2013-01-01 13:51:00 & 600 & 851 & LGA & FLL & America/New\\_York & America/New\\_York   \\\\\n\t 157 mins & 2.2333333 & 2013-01-01 11:00:00 & 2013-01-01 13:37:00 & 600 & 837 & LGA & ATL & America/New\\_York & America/New\\_York   \\\\\n\t 163 mins & 2.4500000 & 2013-01-01 11:01:00 & 2013-01-01 13:44:00 & 601 & 844 & EWR & PBI & America/New\\_York & America/New\\_York   \\\\\n\t 190 mins & 2.8333333 & 2013-01-01 11:02:00 & 2013-01-01 14:12:00 & 602 & 812 & LGA & MSP & America/New\\_York & America/Chicago    \\\\\n\\end{tabular}\n",
            "text/plain": [
              "   flight_duration air_time  departure_utc       arrival_utc         dep_time\n",
              "1  253 mins        3.7833333 2013-01-01 10:17:00 2013-01-01 14:30:00 517     \n",
              "2  257 mins        3.7833333 2013-01-01 10:33:00 2013-01-01 14:50:00 533     \n",
              "3  221 mins        2.6666667 2013-01-01 10:42:00 2013-01-01 14:23:00 542     \n",
              "4  138 mins        1.9333333 2013-01-01 10:54:00 2013-01-01 13:12:00 554     \n",
              "5  166 mins        2.5000000 2013-01-01 10:54:00 2013-01-01 13:40:00 554     \n",
              "6  198 mins        2.6333333 2013-01-01 10:55:00 2013-01-01 14:13:00 555     \n",
              "7   72 mins        0.8833333 2013-01-01 10:57:00 2013-01-01 12:09:00 557     \n",
              "8  161 mins        2.3333333 2013-01-01 10:57:00 2013-01-01 13:38:00 557     \n",
              "9  175 mins        2.3000000 2013-01-01 10:58:00 2013-01-01 13:53:00 558     \n",
              "10 171 mins        2.4833333 2013-01-01 10:58:00 2013-01-01 13:49:00 558     \n",
              "11 175 mins        2.6333333 2013-01-01 10:58:00 2013-01-01 13:53:00 558     \n",
              "12 386 mins        5.7500000 2013-01-01 10:58:00 2013-01-01 17:24:00 558     \n",
              "13 385 mins        6.0166667 2013-01-01 10:58:00 2013-01-01 17:23:00 558     \n",
              "14 282 mins        4.2833333 2013-01-01 10:59:00 2013-01-01 15:41:00 559     \n",
              "15  63 mins        0.7333333 2013-01-01 10:59:00 2013-01-01 12:02:00 559     \n",
              "16 355 mins        5.6166667 2013-01-01 10:59:00 2013-01-01 16:54:00 559     \n",
              "17 171 mins        2.5333333 2013-01-01 11:00:00 2013-01-01 13:51:00 600     \n",
              "18 157 mins        2.2333333 2013-01-01 11:00:00 2013-01-01 13:37:00 600     \n",
              "19 163 mins        2.4500000 2013-01-01 11:01:00 2013-01-01 13:44:00 601     \n",
              "20 190 mins        2.8333333 2013-01-01 11:02:00 2013-01-01 14:12:00 602     \n",
              "   arr_time origin dest origin_tz        dest_tz            \n",
              "1  830      EWR    IAH  America/New_York America/Chicago    \n",
              "2  850      LGA    IAH  America/New_York America/Chicago    \n",
              "3  923      JFK    MIA  America/New_York America/New_York   \n",
              "4  812      LGA    ATL  America/New_York America/New_York   \n",
              "5  740      EWR    ORD  America/New_York America/Chicago    \n",
              "6  913      EWR    FLL  America/New_York America/New_York   \n",
              "7  709      LGA    IAD  America/New_York America/New_York   \n",
              "8  838      JFK    MCO  America/New_York America/New_York   \n",
              "9  753      LGA    ORD  America/New_York America/Chicago    \n",
              "10 849      JFK    PBI  America/New_York America/New_York   \n",
              "11 853      JFK    TPA  America/New_York America/New_York   \n",
              "12 924      JFK    LAX  America/New_York America/Los_Angeles\n",
              "13 923      EWR    SFO  America/New_York America/Los_Angeles\n",
              "14 941      LGA    DFW  America/New_York America/Chicago    \n",
              "15 702      JFK    BOS  America/New_York America/New_York   \n",
              "16 854      EWR    LAS  America/New_York America/Los_Angeles\n",
              "17 851      LGA    FLL  America/New_York America/New_York   \n",
              "18 837      LGA    ATL  America/New_York America/New_York   \n",
              "19 844      EWR    PBI  America/New_York America/New_York   \n",
              "20 812      LGA    MSP  America/New_York America/Chicago    "
            ]
          },
          "metadata": {}
        }
      ]
    },
    {
      "cell_type": "code",
      "source": [],
      "metadata": {
        "id": "rrGP9_Y41dij"
      },
      "id": "rrGP9_Y41dij",
      "execution_count": null,
      "outputs": []
    }
  ],
  "metadata": {
    "kernelspec": {
      "display_name": "R",
      "language": "R",
      "name": "ir"
    },
    "language_info": {
      "codemirror_mode": "r",
      "file_extension": ".r",
      "mimetype": "text/x-r-source",
      "name": "R",
      "pygments_lexer": "r",
      "version": "4.2.2"
    },
    "colab": {
      "provenance": []
    }
  },
  "nbformat": 4,
  "nbformat_minor": 5
}