{
 "cells": [
  {
   "cell_type": "markdown",
   "metadata": {
    "id": "mXlIBIZPgI53"
   },
   "source": [
    "# Lab 4: Reshaping Data\n",
    "\n",
    "\n"
   ]
  },
  {
   "cell_type": "code",
   "execution_count": null,
   "metadata": {
    "colab": {
     "base_uri": "https://localhost:8080/"
    },
    "id": "-G1xJlHhhJr6",
    "outputId": "b8be570f-d796-4385-efd2-b416480064e6"
   },
   "outputs": [
    {
     "name": "stderr",
     "output_type": "stream",
     "text": [
      "Installing package into ‘/usr/local/lib/R/site-library’\n",
      "(as ‘lib’ is unspecified)\n",
      "\n",
      "Installing package into ‘/usr/local/lib/R/site-library’\n",
      "(as ‘lib’ is unspecified)\n",
      "\n"
     ]
    }
   ],
   "source": [
    "install.packages(\"babynames\")\n",
    "install.packages('nycflights13')"
   ]
  },
  {
   "cell_type": "code",
   "execution_count": null,
   "metadata": {
    "id": "u4eZv0Ihu1kd"
   },
   "outputs": [],
   "source": [
    "library(tidyverse)\n",
    "library(babynames)\n",
    "library(nycflights13)"
   ]
  },
  {
   "cell_type": "markdown",
   "metadata": {
    "id": "VaMcfSihejS8"
   },
   "source": [
    "## Reshaping Data\n",
    "\n",
    "\n",
    "Today, we'll focus on two functions used to reshape data, `pivot_wider` and `pivot_longer`. As their names suggest, `pivot_wider` reshapes data to be in a wider format (reduces rows and adds columns) and `pivot_longer` reshapes data to be in a longer format (reduces columns and adds rows).\n",
    "\n",
    " ### Pivoting to Longer Data\n",
    "`pivot_longer` has three key arguments:\n",
    "1. `cols`\n",
    "2. `names_to`\n",
    "3. `values_to`\n",
    "\n",
    "`cols` should be set of columns in the original dataframe. The names of these columns will become values in a column in the new dataframe. The name of this new column is set with the `names_to` parameter. The values of the columns set in the `cols` parameter become the values in a new column, which will have the name set in the `values_to` parameter.\n",
    "\n",
    "Confused? Here's an example! Let's say we have 3 students: A, B, and C. For each student, we have their age, their score on the first exam, and their score on the second exam."
   ]
  },
  {
   "cell_type": "code",
   "execution_count": null,
   "metadata": {
    "colab": {
     "base_uri": "https://localhost:8080/",
     "height": 192
    },
    "id": "rmiq-_-ljZT0",
    "outputId": "231e2037-3e3c-4e89-94fd-0cc5e6b674c4"
   },
   "outputs": [
    {
     "data": {
      "text/html": [
       "<table class=\"dataframe\">\n",
       "<caption>A data.frame: 3 × 4</caption>\n",
       "<thead>\n",
       "\t<tr><th scope=col>student</th><th scope=col>age</th><th scope=col>test_1</th><th scope=col>test_2</th></tr>\n",
       "\t<tr><th scope=col>&lt;chr&gt;</th><th scope=col>&lt;dbl&gt;</th><th scope=col>&lt;dbl&gt;</th><th scope=col>&lt;dbl&gt;</th></tr>\n",
       "</thead>\n",
       "<tbody>\n",
       "\t<tr><td>A</td><td>10</td><td>99</td><td>89</td></tr>\n",
       "\t<tr><td>B</td><td>11</td><td>90</td><td>97</td></tr>\n",
       "\t<tr><td>C</td><td>10</td><td>93</td><td>92</td></tr>\n",
       "</tbody>\n",
       "</table>\n"
      ],
      "text/latex": [
       "A data.frame: 3 × 4\n",
       "\\begin{tabular}{llll}\n",
       " student & age & test\\_1 & test\\_2\\\\\n",
       " <chr> & <dbl> & <dbl> & <dbl>\\\\\n",
       "\\hline\n",
       "\t A & 10 & 99 & 89\\\\\n",
       "\t B & 11 & 90 & 97\\\\\n",
       "\t C & 10 & 93 & 92\\\\\n",
       "\\end{tabular}\n"
      ],
      "text/markdown": [
       "\n",
       "A data.frame: 3 × 4\n",
       "\n",
       "| student &lt;chr&gt; | age &lt;dbl&gt; | test_1 &lt;dbl&gt; | test_2 &lt;dbl&gt; |\n",
       "|---|---|---|---|\n",
       "| A | 10 | 99 | 89 |\n",
       "| B | 11 | 90 | 97 |\n",
       "| C | 10 | 93 | 92 |\n",
       "\n"
      ],
      "text/plain": [
       "  student age test_1 test_2\n",
       "1 A       10  99     89    \n",
       "2 B       11  90     97    \n",
       "3 C       10  93     92    "
      ]
     },
     "metadata": {},
     "output_type": "display_data"
    }
   ],
   "source": [
    "df <- tibble(student = c(\"A\", \"B\", \"C\"),\n",
    "                 age = c(10, 11, 10),\n",
    "                 test_1 = c(99, 90, 93),\n",
    "                 test_2 = c(89, 97, 92))\n",
    "\n",
    "df"
   ]
  },
  {
   "cell_type": "markdown",
   "metadata": {
    "id": "QLlC8FBikSQ4"
   },
   "source": [
    "Let's say we would like to plot test scores against age, where the points are colored by test number. In order to do this, it is more convenient to have a table with a column for test number. We can do this with `pivot_longer`:"
   ]
  },
  {
   "cell_type": "code",
   "execution_count": null,
   "metadata": {
    "colab": {
     "base_uri": "https://localhost:8080/",
     "height": 286
    },
    "id": "f7jYWV0Wk-ie",
    "outputId": "1e2aaaba-0542-4d19-e8c0-39f6ef0e923a"
   },
   "outputs": [
    {
     "data": {
      "text/html": [
       "<table class=\"dataframe\">\n",
       "<caption>A tibble: 6 × 4</caption>\n",
       "<thead>\n",
       "\t<tr><th scope=col>student</th><th scope=col>age</th><th scope=col>test</th><th scope=col>score</th></tr>\n",
       "\t<tr><th scope=col>&lt;chr&gt;</th><th scope=col>&lt;dbl&gt;</th><th scope=col>&lt;chr&gt;</th><th scope=col>&lt;dbl&gt;</th></tr>\n",
       "</thead>\n",
       "<tbody>\n",
       "\t<tr><td>A</td><td>10</td><td>test_1</td><td>99</td></tr>\n",
       "\t<tr><td>A</td><td>10</td><td>test_2</td><td>89</td></tr>\n",
       "\t<tr><td>B</td><td>11</td><td>test_1</td><td>90</td></tr>\n",
       "\t<tr><td>B</td><td>11</td><td>test_2</td><td>97</td></tr>\n",
       "\t<tr><td>C</td><td>10</td><td>test_1</td><td>93</td></tr>\n",
       "\t<tr><td>C</td><td>10</td><td>test_2</td><td>92</td></tr>\n",
       "</tbody>\n",
       "</table>\n"
      ],
      "text/latex": [
       "A tibble: 6 × 4\n",
       "\\begin{tabular}{llll}\n",
       " student & age & test & score\\\\\n",
       " <chr> & <dbl> & <chr> & <dbl>\\\\\n",
       "\\hline\n",
       "\t A & 10 & test\\_1 & 99\\\\\n",
       "\t A & 10 & test\\_2 & 89\\\\\n",
       "\t B & 11 & test\\_1 & 90\\\\\n",
       "\t B & 11 & test\\_2 & 97\\\\\n",
       "\t C & 10 & test\\_1 & 93\\\\\n",
       "\t C & 10 & test\\_2 & 92\\\\\n",
       "\\end{tabular}\n"
      ],
      "text/markdown": [
       "\n",
       "A tibble: 6 × 4\n",
       "\n",
       "| student &lt;chr&gt; | age &lt;dbl&gt; | test &lt;chr&gt; | score &lt;dbl&gt; |\n",
       "|---|---|---|---|\n",
       "| A | 10 | test_1 | 99 |\n",
       "| A | 10 | test_2 | 89 |\n",
       "| B | 11 | test_1 | 90 |\n",
       "| B | 11 | test_2 | 97 |\n",
       "| C | 10 | test_1 | 93 |\n",
       "| C | 10 | test_2 | 92 |\n",
       "\n"
      ],
      "text/plain": [
       "  student age test   score\n",
       "1 A       10  test_1 99   \n",
       "2 A       10  test_2 89   \n",
       "3 B       11  test_1 90   \n",
       "4 B       11  test_2 97   \n",
       "5 C       10  test_1 93   \n",
       "6 C       10  test_2 92   "
      ]
     },
     "metadata": {},
     "output_type": "display_data"
    }
   ],
   "source": [
    "df %>%\n",
    "  pivot_longer(cols = c(test_1, test_2),\n",
    "              names_to = \"test\",\n",
    "              values_to = \"score\")"
   ]
  },
  {
   "cell_type": "markdown",
   "metadata": {
    "id": "Mhp4SkGwlYvT"
   },
   "source": [
    "Note that we set `names_to` and `values_to` to two columns that don't exist in our original data frame! These set the names of the new columns in our new dataframe. The `cols` argument determines what values go in those new columns.\n",
    "\n",
    "Notice that the values in our `test` column are `test_1` and `test_2`, since those were the names of our original columns. This is a bit annoying!\n",
    "\n",
    "In this example, we probably would want just a 1 or 2. We can use the `names_prefix` argument to deal with this:"
   ]
  },
  {
   "cell_type": "code",
   "execution_count": null,
   "metadata": {
    "colab": {
     "base_uri": "https://localhost:8080/",
     "height": 286
    },
    "id": "0ifbdddnmRov",
    "outputId": "36143a91-d292-461b-8ef2-8cb71547e0f9"
   },
   "outputs": [
    {
     "data": {
      "text/html": [
       "<table class=\"dataframe\">\n",
       "<caption>A tibble: 6 × 4</caption>\n",
       "<thead>\n",
       "\t<tr><th scope=col>student</th><th scope=col>age</th><th scope=col>test</th><th scope=col>score</th></tr>\n",
       "\t<tr><th scope=col>&lt;chr&gt;</th><th scope=col>&lt;dbl&gt;</th><th scope=col>&lt;chr&gt;</th><th scope=col>&lt;dbl&gt;</th></tr>\n",
       "</thead>\n",
       "<tbody>\n",
       "\t<tr><td>A</td><td>10</td><td>1</td><td>99</td></tr>\n",
       "\t<tr><td>A</td><td>10</td><td>2</td><td>89</td></tr>\n",
       "\t<tr><td>B</td><td>11</td><td>1</td><td>90</td></tr>\n",
       "\t<tr><td>B</td><td>11</td><td>2</td><td>97</td></tr>\n",
       "\t<tr><td>C</td><td>10</td><td>1</td><td>93</td></tr>\n",
       "\t<tr><td>C</td><td>10</td><td>2</td><td>92</td></tr>\n",
       "</tbody>\n",
       "</table>\n"
      ],
      "text/latex": [
       "A tibble: 6 × 4\n",
       "\\begin{tabular}{llll}\n",
       " student & age & test & score\\\\\n",
       " <chr> & <dbl> & <chr> & <dbl>\\\\\n",
       "\\hline\n",
       "\t A & 10 & 1 & 99\\\\\n",
       "\t A & 10 & 2 & 89\\\\\n",
       "\t B & 11 & 1 & 90\\\\\n",
       "\t B & 11 & 2 & 97\\\\\n",
       "\t C & 10 & 1 & 93\\\\\n",
       "\t C & 10 & 2 & 92\\\\\n",
       "\\end{tabular}\n"
      ],
      "text/markdown": [
       "\n",
       "A tibble: 6 × 4\n",
       "\n",
       "| student &lt;chr&gt; | age &lt;dbl&gt; | test &lt;chr&gt; | score &lt;dbl&gt; |\n",
       "|---|---|---|---|\n",
       "| A | 10 | 1 | 99 |\n",
       "| A | 10 | 2 | 89 |\n",
       "| B | 11 | 1 | 90 |\n",
       "| B | 11 | 2 | 97 |\n",
       "| C | 10 | 1 | 93 |\n",
       "| C | 10 | 2 | 92 |\n",
       "\n"
      ],
      "text/plain": [
       "  student age test score\n",
       "1 A       10  1    99   \n",
       "2 A       10  2    89   \n",
       "3 B       11  1    90   \n",
       "4 B       11  2    97   \n",
       "5 C       10  1    93   \n",
       "6 C       10  2    92   "
      ]
     },
     "metadata": {},
     "output_type": "display_data"
    }
   ],
   "source": [
    "df %>%\n",
    "  pivot_longer(cols = c(test_1, test_2),\n",
    "              names_to = \"test\",\n",
    "              values_to = \"score\",\n",
    "              names_prefix = \"test_\")"
   ]
  },
  {
   "cell_type": "markdown",
   "metadata": {
    "id": "Dk2GVNjqGw6T"
   },
   "source": [
    "What if the column names contain information that should be pivoted into multiple columns, instead of just one?\n",
    "\n",
    "Let's look at another made up dataset of student test scores. Here, each row represents a year, and the columns store the average test score for each gender and grade, separated by an underscore.\n",
    "\n",
    "For example, the `f_6` column contains the average test score for girls in 6th grade.  To deal with this, we have to set the `names_sep = \"_\"` argument since underscores separate the different pieces of information in the column names."
   ]
  },
  {
   "cell_type": "code",
   "execution_count": null,
   "metadata": {
    "colab": {
     "base_uri": "https://localhost:8080/",
     "height": 223
    },
    "id": "2Ev70ac5H5gI",
    "outputId": "fd5f6617-9a76-4295-d2ba-78e3dfb4a87a"
   },
   "outputs": [
    {
     "data": {
      "text/html": [
       "<table class=\"dataframe\">\n",
       "<caption>A data.frame: 4 × 7</caption>\n",
       "<thead>\n",
       "\t<tr><th scope=col>year</th><th scope=col>f_6</th><th scope=col>f_7</th><th scope=col>f_8</th><th scope=col>m_6</th><th scope=col>m_7</th><th scope=col>m_8</th></tr>\n",
       "\t<tr><th scope=col>&lt;chr&gt;</th><th scope=col>&lt;dbl&gt;</th><th scope=col>&lt;dbl&gt;</th><th scope=col>&lt;dbl&gt;</th><th scope=col>&lt;dbl&gt;</th><th scope=col>&lt;dbl&gt;</th><th scope=col>&lt;dbl&gt;</th></tr>\n",
       "</thead>\n",
       "<tbody>\n",
       "\t<tr><td>2021</td><td>89</td><td>88</td><td>90</td><td>89</td><td>88</td><td>91</td></tr>\n",
       "\t<tr><td>2020</td><td>85</td><td>86</td><td>84</td><td>86</td><td>87</td><td>84</td></tr>\n",
       "\t<tr><td>2019</td><td>90</td><td>91</td><td>92</td><td>90</td><td>92</td><td>92</td></tr>\n",
       "\t<tr><td>2018</td><td>91</td><td>93</td><td>92</td><td>90</td><td>89</td><td>91</td></tr>\n",
       "</tbody>\n",
       "</table>\n"
      ],
      "text/latex": [
       "A data.frame: 4 × 7\n",
       "\\begin{tabular}{lllllll}\n",
       " year & f\\_6 & f\\_7 & f\\_8 & m\\_6 & m\\_7 & m\\_8\\\\\n",
       " <chr> & <dbl> & <dbl> & <dbl> & <dbl> & <dbl> & <dbl>\\\\\n",
       "\\hline\n",
       "\t 2021 & 89 & 88 & 90 & 89 & 88 & 91\\\\\n",
       "\t 2020 & 85 & 86 & 84 & 86 & 87 & 84\\\\\n",
       "\t 2019 & 90 & 91 & 92 & 90 & 92 & 92\\\\\n",
       "\t 2018 & 91 & 93 & 92 & 90 & 89 & 91\\\\\n",
       "\\end{tabular}\n"
      ],
      "text/markdown": [
       "\n",
       "A data.frame: 4 × 7\n",
       "\n",
       "| year &lt;chr&gt; | f_6 &lt;dbl&gt; | f_7 &lt;dbl&gt; | f_8 &lt;dbl&gt; | m_6 &lt;dbl&gt; | m_7 &lt;dbl&gt; | m_8 &lt;dbl&gt; |\n",
       "|---|---|---|---|---|---|---|\n",
       "| 2021 | 89 | 88 | 90 | 89 | 88 | 91 |\n",
       "| 2020 | 85 | 86 | 84 | 86 | 87 | 84 |\n",
       "| 2019 | 90 | 91 | 92 | 90 | 92 | 92 |\n",
       "| 2018 | 91 | 93 | 92 | 90 | 89 | 91 |\n",
       "\n"
      ],
      "text/plain": [
       "  year f_6 f_7 f_8 m_6 m_7 m_8\n",
       "1 2021 89  88  90  89  88  91 \n",
       "2 2020 85  86  84  86  87  84 \n",
       "3 2019 90  91  92  90  92  92 \n",
       "4 2018 91  93  92  90  89  91 "
      ]
     },
     "metadata": {},
     "output_type": "display_data"
    }
   ],
   "source": [
    "df2 <- tibble(year = c(\"2021\", \"2020\", \"2019\", \"2018\"),\n",
    "                  f_6 = c(89, 85, 90, 91),\n",
    "                  f_7 = c(88, 86, 91, 93),\n",
    "                  f_8 = c(90, 84, 92, 92),\n",
    "                  m_6 = c(89, 86, 90, 90),\n",
    "                  m_7 = c(88, 87, 92, 89),\n",
    "                  m_8 = c(91, 84, 92, 91))\n",
    "\n",
    "df2"
   ]
  },
  {
   "cell_type": "code",
   "execution_count": null,
   "metadata": {
    "colab": {
     "base_uri": "https://localhost:8080/",
     "height": 850
    },
    "id": "YRgRe0koGnvQ",
    "outputId": "da9761f4-e80f-45db-b3cd-bd054b5487cc"
   },
   "outputs": [
    {
     "data": {
      "text/html": [
       "<table class=\"dataframe\">\n",
       "<caption>A tibble: 24 × 4</caption>\n",
       "<thead>\n",
       "\t<tr><th scope=col>year</th><th scope=col>sex</th><th scope=col>grade</th><th scope=col>score</th></tr>\n",
       "\t<tr><th scope=col>&lt;chr&gt;</th><th scope=col>&lt;chr&gt;</th><th scope=col>&lt;chr&gt;</th><th scope=col>&lt;dbl&gt;</th></tr>\n",
       "</thead>\n",
       "<tbody>\n",
       "\t<tr><td>2021</td><td>f</td><td>6</td><td>89</td></tr>\n",
       "\t<tr><td>2021</td><td>f</td><td>7</td><td>88</td></tr>\n",
       "\t<tr><td>2021</td><td>f</td><td>8</td><td>90</td></tr>\n",
       "\t<tr><td>2021</td><td>m</td><td>6</td><td>89</td></tr>\n",
       "\t<tr><td>2021</td><td>m</td><td>7</td><td>88</td></tr>\n",
       "\t<tr><td>2021</td><td>m</td><td>8</td><td>91</td></tr>\n",
       "\t<tr><td>2020</td><td>f</td><td>6</td><td>85</td></tr>\n",
       "\t<tr><td>2020</td><td>f</td><td>7</td><td>86</td></tr>\n",
       "\t<tr><td>2020</td><td>f</td><td>8</td><td>84</td></tr>\n",
       "\t<tr><td>2020</td><td>m</td><td>6</td><td>86</td></tr>\n",
       "\t<tr><td>2020</td><td>m</td><td>7</td><td>87</td></tr>\n",
       "\t<tr><td>2020</td><td>m</td><td>8</td><td>84</td></tr>\n",
       "\t<tr><td>2019</td><td>f</td><td>6</td><td>90</td></tr>\n",
       "\t<tr><td>2019</td><td>f</td><td>7</td><td>91</td></tr>\n",
       "\t<tr><td>2019</td><td>f</td><td>8</td><td>92</td></tr>\n",
       "\t<tr><td>2019</td><td>m</td><td>6</td><td>90</td></tr>\n",
       "\t<tr><td>2019</td><td>m</td><td>7</td><td>92</td></tr>\n",
       "\t<tr><td>2019</td><td>m</td><td>8</td><td>92</td></tr>\n",
       "\t<tr><td>2018</td><td>f</td><td>6</td><td>91</td></tr>\n",
       "\t<tr><td>2018</td><td>f</td><td>7</td><td>93</td></tr>\n",
       "\t<tr><td>2018</td><td>f</td><td>8</td><td>92</td></tr>\n",
       "\t<tr><td>2018</td><td>m</td><td>6</td><td>90</td></tr>\n",
       "\t<tr><td>2018</td><td>m</td><td>7</td><td>89</td></tr>\n",
       "\t<tr><td>2018</td><td>m</td><td>8</td><td>91</td></tr>\n",
       "</tbody>\n",
       "</table>\n"
      ],
      "text/latex": [
       "A tibble: 24 × 4\n",
       "\\begin{tabular}{llll}\n",
       " year & sex & grade & score\\\\\n",
       " <chr> & <chr> & <chr> & <dbl>\\\\\n",
       "\\hline\n",
       "\t 2021 & f & 6 & 89\\\\\n",
       "\t 2021 & f & 7 & 88\\\\\n",
       "\t 2021 & f & 8 & 90\\\\\n",
       "\t 2021 & m & 6 & 89\\\\\n",
       "\t 2021 & m & 7 & 88\\\\\n",
       "\t 2021 & m & 8 & 91\\\\\n",
       "\t 2020 & f & 6 & 85\\\\\n",
       "\t 2020 & f & 7 & 86\\\\\n",
       "\t 2020 & f & 8 & 84\\\\\n",
       "\t 2020 & m & 6 & 86\\\\\n",
       "\t 2020 & m & 7 & 87\\\\\n",
       "\t 2020 & m & 8 & 84\\\\\n",
       "\t 2019 & f & 6 & 90\\\\\n",
       "\t 2019 & f & 7 & 91\\\\\n",
       "\t 2019 & f & 8 & 92\\\\\n",
       "\t 2019 & m & 6 & 90\\\\\n",
       "\t 2019 & m & 7 & 92\\\\\n",
       "\t 2019 & m & 8 & 92\\\\\n",
       "\t 2018 & f & 6 & 91\\\\\n",
       "\t 2018 & f & 7 & 93\\\\\n",
       "\t 2018 & f & 8 & 92\\\\\n",
       "\t 2018 & m & 6 & 90\\\\\n",
       "\t 2018 & m & 7 & 89\\\\\n",
       "\t 2018 & m & 8 & 91\\\\\n",
       "\\end{tabular}\n"
      ],
      "text/markdown": [
       "\n",
       "A tibble: 24 × 4\n",
       "\n",
       "| year &lt;chr&gt; | sex &lt;chr&gt; | grade &lt;chr&gt; | score &lt;dbl&gt; |\n",
       "|---|---|---|---|\n",
       "| 2021 | f | 6 | 89 |\n",
       "| 2021 | f | 7 | 88 |\n",
       "| 2021 | f | 8 | 90 |\n",
       "| 2021 | m | 6 | 89 |\n",
       "| 2021 | m | 7 | 88 |\n",
       "| 2021 | m | 8 | 91 |\n",
       "| 2020 | f | 6 | 85 |\n",
       "| 2020 | f | 7 | 86 |\n",
       "| 2020 | f | 8 | 84 |\n",
       "| 2020 | m | 6 | 86 |\n",
       "| 2020 | m | 7 | 87 |\n",
       "| 2020 | m | 8 | 84 |\n",
       "| 2019 | f | 6 | 90 |\n",
       "| 2019 | f | 7 | 91 |\n",
       "| 2019 | f | 8 | 92 |\n",
       "| 2019 | m | 6 | 90 |\n",
       "| 2019 | m | 7 | 92 |\n",
       "| 2019 | m | 8 | 92 |\n",
       "| 2018 | f | 6 | 91 |\n",
       "| 2018 | f | 7 | 93 |\n",
       "| 2018 | f | 8 | 92 |\n",
       "| 2018 | m | 6 | 90 |\n",
       "| 2018 | m | 7 | 89 |\n",
       "| 2018 | m | 8 | 91 |\n",
       "\n"
      ],
      "text/plain": [
       "   year sex grade score\n",
       "1  2021 f   6     89   \n",
       "2  2021 f   7     88   \n",
       "3  2021 f   8     90   \n",
       "4  2021 m   6     89   \n",
       "5  2021 m   7     88   \n",
       "6  2021 m   8     91   \n",
       "7  2020 f   6     85   \n",
       "8  2020 f   7     86   \n",
       "9  2020 f   8     84   \n",
       "10 2020 m   6     86   \n",
       "11 2020 m   7     87   \n",
       "12 2020 m   8     84   \n",
       "13 2019 f   6     90   \n",
       "14 2019 f   7     91   \n",
       "15 2019 f   8     92   \n",
       "16 2019 m   6     90   \n",
       "17 2019 m   7     92   \n",
       "18 2019 m   8     92   \n",
       "19 2018 f   6     91   \n",
       "20 2018 f   7     93   \n",
       "21 2018 f   8     92   \n",
       "22 2018 m   6     90   \n",
       "23 2018 m   7     89   \n",
       "24 2018 m   8     91   "
      ]
     },
     "metadata": {},
     "output_type": "display_data"
    }
   ],
   "source": [
    "df2 %>%\n",
    "  pivot_longer(cols = !year,\n",
    "               names_to = c(\"sex\", \"grade\"),\n",
    "               names_sep = \"_\",\n",
    "               values_to = \"score\")"
   ]
  },
  {
   "cell_type": "markdown",
   "metadata": {
    "id": "GesTZ4R1sl1J"
   },
   "source": [
    "Instead of `names_sep`, we can use a related `pivot_longer()` argument, `names_pattern`. `names_pattern` is more flexible than `names_sep` because it allows regular expression groups, a powerful tool to manupulate text strings, matching each group with a variable from `names_to`. The future lectures will discuss regular expressions."
   ]
  },
  {
   "cell_type": "code",
   "execution_count": null,
   "metadata": {
    "colab": {
     "base_uri": "https://localhost:8080/",
     "height": 850
    },
    "id": "6u5rp_bWuUv_",
    "outputId": "c9fd96de-8247-4381-8f6d-f12ea9725cff"
   },
   "outputs": [
    {
     "data": {
      "text/html": [
       "<table class=\"dataframe\">\n",
       "<caption>A tibble: 24 × 4</caption>\n",
       "<thead>\n",
       "\t<tr><th scope=col>year</th><th scope=col>sex</th><th scope=col>grade</th><th scope=col>score</th></tr>\n",
       "\t<tr><th scope=col>&lt;chr&gt;</th><th scope=col>&lt;chr&gt;</th><th scope=col>&lt;chr&gt;</th><th scope=col>&lt;dbl&gt;</th></tr>\n",
       "</thead>\n",
       "<tbody>\n",
       "\t<tr><td>2021</td><td>f</td><td>6</td><td>89</td></tr>\n",
       "\t<tr><td>2021</td><td>f</td><td>7</td><td>88</td></tr>\n",
       "\t<tr><td>2021</td><td>f</td><td>8</td><td>90</td></tr>\n",
       "\t<tr><td>2021</td><td>m</td><td>6</td><td>89</td></tr>\n",
       "\t<tr><td>2021</td><td>m</td><td>7</td><td>88</td></tr>\n",
       "\t<tr><td>2021</td><td>m</td><td>8</td><td>91</td></tr>\n",
       "\t<tr><td>2020</td><td>f</td><td>6</td><td>85</td></tr>\n",
       "\t<tr><td>2020</td><td>f</td><td>7</td><td>86</td></tr>\n",
       "\t<tr><td>2020</td><td>f</td><td>8</td><td>84</td></tr>\n",
       "\t<tr><td>2020</td><td>m</td><td>6</td><td>86</td></tr>\n",
       "\t<tr><td>2020</td><td>m</td><td>7</td><td>87</td></tr>\n",
       "\t<tr><td>2020</td><td>m</td><td>8</td><td>84</td></tr>\n",
       "\t<tr><td>2019</td><td>f</td><td>6</td><td>90</td></tr>\n",
       "\t<tr><td>2019</td><td>f</td><td>7</td><td>91</td></tr>\n",
       "\t<tr><td>2019</td><td>f</td><td>8</td><td>92</td></tr>\n",
       "\t<tr><td>2019</td><td>m</td><td>6</td><td>90</td></tr>\n",
       "\t<tr><td>2019</td><td>m</td><td>7</td><td>92</td></tr>\n",
       "\t<tr><td>2019</td><td>m</td><td>8</td><td>92</td></tr>\n",
       "\t<tr><td>2018</td><td>f</td><td>6</td><td>91</td></tr>\n",
       "\t<tr><td>2018</td><td>f</td><td>7</td><td>93</td></tr>\n",
       "\t<tr><td>2018</td><td>f</td><td>8</td><td>92</td></tr>\n",
       "\t<tr><td>2018</td><td>m</td><td>6</td><td>90</td></tr>\n",
       "\t<tr><td>2018</td><td>m</td><td>7</td><td>89</td></tr>\n",
       "\t<tr><td>2018</td><td>m</td><td>8</td><td>91</td></tr>\n",
       "</tbody>\n",
       "</table>\n"
      ],
      "text/latex": [
       "A tibble: 24 × 4\n",
       "\\begin{tabular}{llll}\n",
       " year & sex & grade & score\\\\\n",
       " <chr> & <chr> & <chr> & <dbl>\\\\\n",
       "\\hline\n",
       "\t 2021 & f & 6 & 89\\\\\n",
       "\t 2021 & f & 7 & 88\\\\\n",
       "\t 2021 & f & 8 & 90\\\\\n",
       "\t 2021 & m & 6 & 89\\\\\n",
       "\t 2021 & m & 7 & 88\\\\\n",
       "\t 2021 & m & 8 & 91\\\\\n",
       "\t 2020 & f & 6 & 85\\\\\n",
       "\t 2020 & f & 7 & 86\\\\\n",
       "\t 2020 & f & 8 & 84\\\\\n",
       "\t 2020 & m & 6 & 86\\\\\n",
       "\t 2020 & m & 7 & 87\\\\\n",
       "\t 2020 & m & 8 & 84\\\\\n",
       "\t 2019 & f & 6 & 90\\\\\n",
       "\t 2019 & f & 7 & 91\\\\\n",
       "\t 2019 & f & 8 & 92\\\\\n",
       "\t 2019 & m & 6 & 90\\\\\n",
       "\t 2019 & m & 7 & 92\\\\\n",
       "\t 2019 & m & 8 & 92\\\\\n",
       "\t 2018 & f & 6 & 91\\\\\n",
       "\t 2018 & f & 7 & 93\\\\\n",
       "\t 2018 & f & 8 & 92\\\\\n",
       "\t 2018 & m & 6 & 90\\\\\n",
       "\t 2018 & m & 7 & 89\\\\\n",
       "\t 2018 & m & 8 & 91\\\\\n",
       "\\end{tabular}\n"
      ],
      "text/markdown": [
       "\n",
       "A tibble: 24 × 4\n",
       "\n",
       "| year &lt;chr&gt; | sex &lt;chr&gt; | grade &lt;chr&gt; | score &lt;dbl&gt; |\n",
       "|---|---|---|---|\n",
       "| 2021 | f | 6 | 89 |\n",
       "| 2021 | f | 7 | 88 |\n",
       "| 2021 | f | 8 | 90 |\n",
       "| 2021 | m | 6 | 89 |\n",
       "| 2021 | m | 7 | 88 |\n",
       "| 2021 | m | 8 | 91 |\n",
       "| 2020 | f | 6 | 85 |\n",
       "| 2020 | f | 7 | 86 |\n",
       "| 2020 | f | 8 | 84 |\n",
       "| 2020 | m | 6 | 86 |\n",
       "| 2020 | m | 7 | 87 |\n",
       "| 2020 | m | 8 | 84 |\n",
       "| 2019 | f | 6 | 90 |\n",
       "| 2019 | f | 7 | 91 |\n",
       "| 2019 | f | 8 | 92 |\n",
       "| 2019 | m | 6 | 90 |\n",
       "| 2019 | m | 7 | 92 |\n",
       "| 2019 | m | 8 | 92 |\n",
       "| 2018 | f | 6 | 91 |\n",
       "| 2018 | f | 7 | 93 |\n",
       "| 2018 | f | 8 | 92 |\n",
       "| 2018 | m | 6 | 90 |\n",
       "| 2018 | m | 7 | 89 |\n",
       "| 2018 | m | 8 | 91 |\n",
       "\n"
      ],
      "text/plain": [
       "   year sex grade score\n",
       "1  2021 f   6     89   \n",
       "2  2021 f   7     88   \n",
       "3  2021 f   8     90   \n",
       "4  2021 m   6     89   \n",
       "5  2021 m   7     88   \n",
       "6  2021 m   8     91   \n",
       "7  2020 f   6     85   \n",
       "8  2020 f   7     86   \n",
       "9  2020 f   8     84   \n",
       "10 2020 m   6     86   \n",
       "11 2020 m   7     87   \n",
       "12 2020 m   8     84   \n",
       "13 2019 f   6     90   \n",
       "14 2019 f   7     91   \n",
       "15 2019 f   8     92   \n",
       "16 2019 m   6     90   \n",
       "17 2019 m   7     92   \n",
       "18 2019 m   8     92   \n",
       "19 2018 f   6     91   \n",
       "20 2018 f   7     93   \n",
       "21 2018 f   8     92   \n",
       "22 2018 m   6     90   \n",
       "23 2018 m   7     89   \n",
       "24 2018 m   8     91   "
      ]
     },
     "metadata": {},
     "output_type": "display_data"
    }
   ],
   "source": [
    "df2 %>%\n",
    "  pivot_longer(cols = !year,\n",
    "               names_to = c(\"sex\", \"grade\"),\n",
    "               names_pattern = \"(f|m)_(\\\\d+)\",\n",
    "               values_to = \"score\")"
   ]
  },
  {
   "cell_type": "markdown",
   "metadata": {
    "id": "g37j8WOQvXdt"
   },
   "source": [
    "Since the column names start with either `f` or `m` then `-` and numeric numbers after that, the regular expression for this text pattern is `(f|m)_(\\\\d+)`. Each '()' specifics a group to match with an element in `names_to` vectors. Here there are two `()` for `c(\"sex\", \"grade\")`."
   ]
  },
  {
   "cell_type": "markdown",
   "metadata": {
    "id": "jZeNT7QejT-K"
   },
   "source": [
    "### Pivoting to Wider Data\n",
    "\n",
    "`pivot_wider` has two main arguments: `names_from` and `values_from`. Both of these parameters should be the names of columns in the original data frame. `names_from` should be the columns to get the names of the new columns from, and `values_from` should be the columns holding the values of those new columns.\n",
    "\n",
    "As an example, we can take our pivoted dataframe from earlier and turn it back into the original:"
   ]
  },
  {
   "cell_type": "code",
   "execution_count": null,
   "metadata": {
    "colab": {
     "base_uri": "https://localhost:8080/",
     "height": 286
    },
    "id": "aj0UsKt5vJCM",
    "outputId": "3eb46e8a-4e43-4159-dcf7-612a5047b323"
   },
   "outputs": [
    {
     "data": {
      "text/html": [
       "<table class=\"dataframe\">\n",
       "<caption>A data.frame: 6 × 4</caption>\n",
       "<thead>\n",
       "\t<tr><th scope=col>student</th><th scope=col>age</th><th scope=col>test</th><th scope=col>score</th></tr>\n",
       "\t<tr><th scope=col>&lt;chr&gt;</th><th scope=col>&lt;dbl&gt;</th><th scope=col>&lt;dbl&gt;</th><th scope=col>&lt;dbl&gt;</th></tr>\n",
       "</thead>\n",
       "<tbody>\n",
       "\t<tr><td>A</td><td>10</td><td>1</td><td>99</td></tr>\n",
       "\t<tr><td>A</td><td>10</td><td>2</td><td>89</td></tr>\n",
       "\t<tr><td>B</td><td>11</td><td>1</td><td>90</td></tr>\n",
       "\t<tr><td>B</td><td>11</td><td>2</td><td>97</td></tr>\n",
       "\t<tr><td>C</td><td>10</td><td>1</td><td>93</td></tr>\n",
       "\t<tr><td>C</td><td>10</td><td>2</td><td>92</td></tr>\n",
       "</tbody>\n",
       "</table>\n"
      ],
      "text/latex": [
       "A data.frame: 6 × 4\n",
       "\\begin{tabular}{llll}\n",
       " student & age & test & score\\\\\n",
       " <chr> & <dbl> & <dbl> & <dbl>\\\\\n",
       "\\hline\n",
       "\t A & 10 & 1 & 99\\\\\n",
       "\t A & 10 & 2 & 89\\\\\n",
       "\t B & 11 & 1 & 90\\\\\n",
       "\t B & 11 & 2 & 97\\\\\n",
       "\t C & 10 & 1 & 93\\\\\n",
       "\t C & 10 & 2 & 92\\\\\n",
       "\\end{tabular}\n"
      ],
      "text/markdown": [
       "\n",
       "A data.frame: 6 × 4\n",
       "\n",
       "| student &lt;chr&gt; | age &lt;dbl&gt; | test &lt;dbl&gt; | score &lt;dbl&gt; |\n",
       "|---|---|---|---|\n",
       "| A | 10 | 1 | 99 |\n",
       "| A | 10 | 2 | 89 |\n",
       "| B | 11 | 1 | 90 |\n",
       "| B | 11 | 2 | 97 |\n",
       "| C | 10 | 1 | 93 |\n",
       "| C | 10 | 2 | 92 |\n",
       "\n"
      ],
      "text/plain": [
       "  student age test score\n",
       "1 A       10  1    99   \n",
       "2 A       10  2    89   \n",
       "3 B       11  1    90   \n",
       "4 B       11  2    97   \n",
       "5 C       10  1    93   \n",
       "6 C       10  2    92   "
      ]
     },
     "metadata": {},
     "output_type": "display_data"
    }
   ],
   "source": [
    "df3 <- tibble(student = c(\"A\", \"A\", \"B\", \"B\", \"C\", \"C\"),\n",
    "                  age = c(10, 10, 11, 11, 10, 10),\n",
    "                  test = c(1, 2, 1, 2, 1, 2),\n",
    "                  score = c(99, 89, 90, 97, 93, 92))\n",
    "\n",
    "df3"
   ]
  },
  {
   "cell_type": "code",
   "execution_count": null,
   "metadata": {
    "colab": {
     "base_uri": "https://localhost:8080/",
     "height": 192
    },
    "id": "Wg1HxGvKrrNo",
    "outputId": "5dc52246-5bfe-460c-e61f-d19cc5b6440b"
   },
   "outputs": [
    {
     "data": {
      "text/html": [
       "<table class=\"dataframe\">\n",
       "<caption>A tibble: 3 × 4</caption>\n",
       "<thead>\n",
       "\t<tr><th scope=col>student</th><th scope=col>age</th><th scope=col>test_1</th><th scope=col>test_2</th></tr>\n",
       "\t<tr><th scope=col>&lt;chr&gt;</th><th scope=col>&lt;dbl&gt;</th><th scope=col>&lt;dbl&gt;</th><th scope=col>&lt;dbl&gt;</th></tr>\n",
       "</thead>\n",
       "<tbody>\n",
       "\t<tr><td>A</td><td>10</td><td>99</td><td>89</td></tr>\n",
       "\t<tr><td>B</td><td>11</td><td>90</td><td>97</td></tr>\n",
       "\t<tr><td>C</td><td>10</td><td>93</td><td>92</td></tr>\n",
       "</tbody>\n",
       "</table>\n"
      ],
      "text/latex": [
       "A tibble: 3 × 4\n",
       "\\begin{tabular}{llll}\n",
       " student & age & test\\_1 & test\\_2\\\\\n",
       " <chr> & <dbl> & <dbl> & <dbl>\\\\\n",
       "\\hline\n",
       "\t A & 10 & 99 & 89\\\\\n",
       "\t B & 11 & 90 & 97\\\\\n",
       "\t C & 10 & 93 & 92\\\\\n",
       "\\end{tabular}\n"
      ],
      "text/markdown": [
       "\n",
       "A tibble: 3 × 4\n",
       "\n",
       "| student &lt;chr&gt; | age &lt;dbl&gt; | test_1 &lt;dbl&gt; | test_2 &lt;dbl&gt; |\n",
       "|---|---|---|---|\n",
       "| A | 10 | 99 | 89 |\n",
       "| B | 11 | 90 | 97 |\n",
       "| C | 10 | 93 | 92 |\n",
       "\n"
      ],
      "text/plain": [
       "  student age test_1 test_2\n",
       "1 A       10  99     89    \n",
       "2 B       11  90     97    \n",
       "3 C       10  93     92    "
      ]
     },
     "metadata": {},
     "output_type": "display_data"
    }
   ],
   "source": [
    "df3 %>%\n",
    "  pivot_wider(names_from = test,\n",
    "              values_from = score,\n",
    "              names_prefix = \"test_\")"
   ]
  },
  {
   "cell_type": "markdown",
   "metadata": {
    "id": "MCHrAVrSr67I"
   },
   "source": [
    "We wanted our new column names to be \"test_1\" and \"test_2\". This information was stored in the \"test\" column, so we set `names_from = test` and `names_prefix = \"test_\"` so that the names of the columns are \"test_1\" and \"test_2\" and not \"1\" and \"2\". The values in the score column are the values we want in our new \"test_1\" and \"test_2\" columns, so we set `values_from = score`.\n",
    "\n",
    "Note by default all the other columns (`student`, `age`) are included after `pivot_wider()`. You can exclude some of them out by using `id_cols` argument."
   ]
  },
  {
   "cell_type": "code",
   "execution_count": null,
   "metadata": {
    "colab": {
     "base_uri": "https://localhost:8080/",
     "height": 192
    },
    "id": "9rY98ZYm0pYo",
    "outputId": "1a450c2b-1c2d-4e29-b883-7151cecf80d7"
   },
   "outputs": [
    {
     "data": {
      "text/html": [
       "<table class=\"dataframe\">\n",
       "<caption>A tibble: 3 × 3</caption>\n",
       "<thead>\n",
       "\t<tr><th scope=col>student</th><th scope=col>test_1</th><th scope=col>test_2</th></tr>\n",
       "\t<tr><th scope=col>&lt;chr&gt;</th><th scope=col>&lt;dbl&gt;</th><th scope=col>&lt;dbl&gt;</th></tr>\n",
       "</thead>\n",
       "<tbody>\n",
       "\t<tr><td>A</td><td>99</td><td>89</td></tr>\n",
       "\t<tr><td>B</td><td>90</td><td>97</td></tr>\n",
       "\t<tr><td>C</td><td>93</td><td>92</td></tr>\n",
       "</tbody>\n",
       "</table>\n"
      ],
      "text/latex": [
       "A tibble: 3 × 3\n",
       "\\begin{tabular}{lll}\n",
       " student & test\\_1 & test\\_2\\\\\n",
       " <chr> & <dbl> & <dbl>\\\\\n",
       "\\hline\n",
       "\t A & 99 & 89\\\\\n",
       "\t B & 90 & 97\\\\\n",
       "\t C & 93 & 92\\\\\n",
       "\\end{tabular}\n"
      ],
      "text/markdown": [
       "\n",
       "A tibble: 3 × 3\n",
       "\n",
       "| student &lt;chr&gt; | test_1 &lt;dbl&gt; | test_2 &lt;dbl&gt; |\n",
       "|---|---|---|\n",
       "| A | 99 | 89 |\n",
       "| B | 90 | 97 |\n",
       "| C | 93 | 92 |\n",
       "\n"
      ],
      "text/plain": [
       "  student test_1 test_2\n",
       "1 A       99     89    \n",
       "2 B       90     97    \n",
       "3 C       93     92    "
      ]
     },
     "metadata": {},
     "output_type": "display_data"
    }
   ],
   "source": [
    "df3 %>%\n",
    "  pivot_wider(id_cols = !age,\n",
    "              names_from = test,\n",
    "              values_from = score,\n",
    "              names_prefix = \"test_\")"
   ]
  },
  {
   "cell_type": "markdown",
   "metadata": {
    "id": "YDcbX9VM1l_g"
   },
   "source": [
    "Next, we can also use pivot_wider() to create column names that combine values from multiple columns. Take the following dataset as an example."
   ]
  },
  {
   "cell_type": "code",
   "execution_count": null,
   "metadata": {
    "colab": {
     "base_uri": "https://localhost:8080/",
     "height": 286
    },
    "id": "oYz68SvuyWVD",
    "outputId": "fefaa5f4-c408-4ea0-f2e7-094482516d42"
   },
   "outputs": [
    {
     "data": {
      "text/html": [
       "<table class=\"dataframe\">\n",
       "<caption>A data.frame: 6 × 3</caption>\n",
       "<thead>\n",
       "\t<tr><th scope=col>student</th><th scope=col>sex</th><th scope=col>final_grade</th></tr>\n",
       "\t<tr><th scope=col>&lt;chr&gt;</th><th scope=col>&lt;chr&gt;</th><th scope=col>&lt;dbl&gt;</th></tr>\n",
       "</thead>\n",
       "<tbody>\n",
       "\t<tr><td>Logan </td><td>M</td><td>99</td></tr>\n",
       "\t<tr><td>Logan </td><td>F</td><td>89</td></tr>\n",
       "\t<tr><td>Ryan  </td><td>M</td><td>90</td></tr>\n",
       "\t<tr><td>Ryan  </td><td>F</td><td>97</td></tr>\n",
       "\t<tr><td>Jordan</td><td>M</td><td>93</td></tr>\n",
       "\t<tr><td>Jordan</td><td>F</td><td>92</td></tr>\n",
       "</tbody>\n",
       "</table>\n"
      ],
      "text/latex": [
       "A data.frame: 6 × 3\n",
       "\\begin{tabular}{lll}\n",
       " student & sex & final\\_grade\\\\\n",
       " <chr> & <chr> & <dbl>\\\\\n",
       "\\hline\n",
       "\t Logan  & M & 99\\\\\n",
       "\t Logan  & F & 89\\\\\n",
       "\t Ryan   & M & 90\\\\\n",
       "\t Ryan   & F & 97\\\\\n",
       "\t Jordan & M & 93\\\\\n",
       "\t Jordan & F & 92\\\\\n",
       "\\end{tabular}\n"
      ],
      "text/markdown": [
       "\n",
       "A data.frame: 6 × 3\n",
       "\n",
       "| student &lt;chr&gt; | sex &lt;chr&gt; | final_grade &lt;dbl&gt; |\n",
       "|---|---|---|\n",
       "| Logan  | M | 99 |\n",
       "| Logan  | F | 89 |\n",
       "| Ryan   | M | 90 |\n",
       "| Ryan   | F | 97 |\n",
       "| Jordan | M | 93 |\n",
       "| Jordan | F | 92 |\n",
       "\n"
      ],
      "text/plain": [
       "  student sex final_grade\n",
       "1 Logan   M   99         \n",
       "2 Logan   F   89         \n",
       "3 Ryan    M   90         \n",
       "4 Ryan    F   97         \n",
       "5 Jordan  M   93         \n",
       "6 Jordan  F   92         "
      ]
     },
     "metadata": {},
     "output_type": "display_data"
    }
   ],
   "source": [
    "df4 <- tibble(student = c(\"Logan\", \"Logan\", \"Ryan\", \"Ryan\", \"Jordan\", \"Jordan\"),\n",
    "                  sex = c(\"M\", \"F\", \"M\", \"F\", \"M\", \"F\"),\n",
    "                  final_grade = c(99, 89, 90, 97, 93, 92))\n",
    "\n",
    "df4"
   ]
  },
  {
   "cell_type": "code",
   "execution_count": null,
   "metadata": {
    "colab": {
     "base_uri": "https://localhost:8080/",
     "height": 129
    },
    "id": "PbLhDoJrzRDg",
    "outputId": "300868b7-3759-4168-817e-0159da4a129b"
   },
   "outputs": [
    {
     "data": {
      "text/html": [
       "<table class=\"dataframe\">\n",
       "<caption>A tibble: 1 × 6</caption>\n",
       "<thead>\n",
       "\t<tr><th scope=col>Logan_M</th><th scope=col>Logan_F</th><th scope=col>Ryan_M</th><th scope=col>Ryan_F</th><th scope=col>Jordan_M</th><th scope=col>Jordan_F</th></tr>\n",
       "\t<tr><th scope=col>&lt;dbl&gt;</th><th scope=col>&lt;dbl&gt;</th><th scope=col>&lt;dbl&gt;</th><th scope=col>&lt;dbl&gt;</th><th scope=col>&lt;dbl&gt;</th><th scope=col>&lt;dbl&gt;</th></tr>\n",
       "</thead>\n",
       "<tbody>\n",
       "\t<tr><td>99</td><td>89</td><td>90</td><td>97</td><td>93</td><td>92</td></tr>\n",
       "</tbody>\n",
       "</table>\n"
      ],
      "text/latex": [
       "A tibble: 1 × 6\n",
       "\\begin{tabular}{llllll}\n",
       " Logan\\_M & Logan\\_F & Ryan\\_M & Ryan\\_F & Jordan\\_M & Jordan\\_F\\\\\n",
       " <dbl> & <dbl> & <dbl> & <dbl> & <dbl> & <dbl>\\\\\n",
       "\\hline\n",
       "\t 99 & 89 & 90 & 97 & 93 & 92\\\\\n",
       "\\end{tabular}\n"
      ],
      "text/markdown": [
       "\n",
       "A tibble: 1 × 6\n",
       "\n",
       "| Logan_M &lt;dbl&gt; | Logan_F &lt;dbl&gt; | Ryan_M &lt;dbl&gt; | Ryan_F &lt;dbl&gt; | Jordan_M &lt;dbl&gt; | Jordan_F &lt;dbl&gt; |\n",
       "|---|---|---|---|---|---|\n",
       "| 99 | 89 | 90 | 97 | 93 | 92 |\n",
       "\n"
      ],
      "text/plain": [
       "  Logan_M Logan_F Ryan_M Ryan_F Jordan_M Jordan_F\n",
       "1 99      89      90     97     93       92      "
      ]
     },
     "metadata": {},
     "output_type": "display_data"
    }
   ],
   "source": [
    "df4 %>%\n",
    "  pivot_wider(names_from = c(student, sex),\n",
    "              values_from = final_grade)"
   ]
  },
  {
   "cell_type": "markdown",
   "metadata": {
    "id": "5cetIzSRnWAU"
   },
   "source": [
    "### Exercises for `pivot_longer`\n",
    "\n",
    "1. For the 5 carriers with the most flights in the `flights` dataset, create a scatterplot of number of flights by mean delay, colored by delay type (*arrival* or *departure*). To do this, you'll have to reshape the data so that delay type is a column."
   ]
  },
  {
   "cell_type": "code",
   "execution_count": null,
   "metadata": {
    "id": "WPU1WBvguNgM"
   },
   "outputs": [],
   "source": [
    "### YOUR ANSWER HERE\n"
   ]
  },
  {
   "cell_type": "code",
   "execution_count": null,
   "metadata": {
    "colab": {
     "base_uri": "https://localhost:8080/",
     "height": 437
    },
    "id": "0Ha7zLFHuVM3",
    "outputId": "56d7c9ce-87ae-43fd-d0c8-f3d5aa7521c7"
   },
   "outputs": [
    {
     "data": {
      "image/png": "[encoded data removed]",
      "text/plain": [
       "plot without title"
      ]
     },
     "metadata": {
      "image/png": {
       "height": 420,
       "width": 420
      }
     },
     "output_type": "display_data"
    }
   ],
   "source": [
    "### REFERENCE PLOT"
   ]
  },
  {
   "cell_type": "markdown",
   "metadata": {
    "id": "cFYRO44Dsq6e"
   },
   "source": [
    "2. Take a look at the `iris` dataset (you shouldn't need to load anything new). This dataset contains measurements of different flowers belonging to three species. The dataset has five columns: Species, Sepal.Length, Sepal.Width, Petal.Length, and Petal.Width. Reshape this dataset so each row contains the following information: the species, the location of the measurement (sepal or petal), the type of measurement (length or width), and then the corresponding average measurement for flowers in that species.\n",
    "\n",
    "Note: To separate columns names by the `.` character, you'll have to use `\\\\.` instead of `.` This is because `.` is a special character in R - you'll learn more about these when we cover regular expressions!"
   ]
  },
  {
   "cell_type": "code",
   "execution_count": null,
   "metadata": {
    "id": "UQ8TFEeOuSjT"
   },
   "outputs": [],
   "source": [
    "### YOUR ANSWER HERE\n"
   ]
  },
  {
   "cell_type": "code",
   "execution_count": null,
   "metadata": {
    "colab": {
     "base_uri": "https://localhost:8080/",
     "height": 474
    },
    "id": "qHw0pMfZstKQ",
    "outputId": "cd2f1a98-c6dc-4154-cdb7-e1a5a662ce64"
   },
   "outputs": [
    {
     "data": {
      "text/html": [
       "<table class=\"dataframe\">\n",
       "<caption>A tibble: 12 × 4</caption>\n",
       "<thead>\n",
       "\t<tr><th scope=col>Species</th><th scope=col>location</th><th scope=col>measurement_type</th><th scope=col>measurement</th></tr>\n",
       "\t<tr><th scope=col>&lt;fct&gt;</th><th scope=col>&lt;chr&gt;</th><th scope=col>&lt;chr&gt;</th><th scope=col>&lt;dbl&gt;</th></tr>\n",
       "</thead>\n",
       "<tbody>\n",
       "\t<tr><td>setosa    </td><td>Sepal</td><td>Length</td><td>5.006</td></tr>\n",
       "\t<tr><td>setosa    </td><td>Sepal</td><td>Width </td><td>3.428</td></tr>\n",
       "\t<tr><td>setosa    </td><td>Petal</td><td>Length</td><td>1.462</td></tr>\n",
       "\t<tr><td>setosa    </td><td>Petal</td><td>Width </td><td>0.246</td></tr>\n",
       "\t<tr><td>versicolor</td><td>Sepal</td><td>Length</td><td>5.936</td></tr>\n",
       "\t<tr><td>versicolor</td><td>Sepal</td><td>Width </td><td>2.770</td></tr>\n",
       "\t<tr><td>versicolor</td><td>Petal</td><td>Length</td><td>4.260</td></tr>\n",
       "\t<tr><td>versicolor</td><td>Petal</td><td>Width </td><td>1.326</td></tr>\n",
       "\t<tr><td>virginica </td><td>Sepal</td><td>Length</td><td>6.588</td></tr>\n",
       "\t<tr><td>virginica </td><td>Sepal</td><td>Width </td><td>2.974</td></tr>\n",
       "\t<tr><td>virginica </td><td>Petal</td><td>Length</td><td>5.552</td></tr>\n",
       "\t<tr><td>virginica </td><td>Petal</td><td>Width </td><td>2.026</td></tr>\n",
       "</tbody>\n",
       "</table>\n"
      ],
      "text/latex": [
       "A tibble: 12 × 4\n",
       "\\begin{tabular}{llll}\n",
       " Species & location & measurement\\_type & measurement\\\\\n",
       " <fct> & <chr> & <chr> & <dbl>\\\\\n",
       "\\hline\n",
       "\t setosa     & Sepal & Length & 5.006\\\\\n",
       "\t setosa     & Sepal & Width  & 3.428\\\\\n",
       "\t setosa     & Petal & Length & 1.462\\\\\n",
       "\t setosa     & Petal & Width  & 0.246\\\\\n",
       "\t versicolor & Sepal & Length & 5.936\\\\\n",
       "\t versicolor & Sepal & Width  & 2.770\\\\\n",
       "\t versicolor & Petal & Length & 4.260\\\\\n",
       "\t versicolor & Petal & Width  & 1.326\\\\\n",
       "\t virginica  & Sepal & Length & 6.588\\\\\n",
       "\t virginica  & Sepal & Width  & 2.974\\\\\n",
       "\t virginica  & Petal & Length & 5.552\\\\\n",
       "\t virginica  & Petal & Width  & 2.026\\\\\n",
       "\\end{tabular}\n"
      ],
      "text/markdown": [
       "\n",
       "A tibble: 12 × 4\n",
       "\n",
       "| Species &lt;fct&gt; | location &lt;chr&gt; | measurement_type &lt;chr&gt; | measurement &lt;dbl&gt; |\n",
       "|---|---|---|---|\n",
       "| setosa     | Sepal | Length | 5.006 |\n",
       "| setosa     | Sepal | Width  | 3.428 |\n",
       "| setosa     | Petal | Length | 1.462 |\n",
       "| setosa     | Petal | Width  | 0.246 |\n",
       "| versicolor | Sepal | Length | 5.936 |\n",
       "| versicolor | Sepal | Width  | 2.770 |\n",
       "| versicolor | Petal | Length | 4.260 |\n",
       "| versicolor | Petal | Width  | 1.326 |\n",
       "| virginica  | Sepal | Length | 6.588 |\n",
       "| virginica  | Sepal | Width  | 2.974 |\n",
       "| virginica  | Petal | Length | 5.552 |\n",
       "| virginica  | Petal | Width  | 2.026 |\n",
       "\n"
      ],
      "text/plain": [
       "   Species    location measurement_type measurement\n",
       "1  setosa     Sepal    Length           5.006      \n",
       "2  setosa     Sepal    Width            3.428      \n",
       "3  setosa     Petal    Length           1.462      \n",
       "4  setosa     Petal    Width            0.246      \n",
       "5  versicolor Sepal    Length           5.936      \n",
       "6  versicolor Sepal    Width            2.770      \n",
       "7  versicolor Petal    Length           4.260      \n",
       "8  versicolor Petal    Width            1.326      \n",
       "9  virginica  Sepal    Length           6.588      \n",
       "10 virginica  Sepal    Width            2.974      \n",
       "11 virginica  Petal    Length           5.552      \n",
       "12 virginica  Petal    Width            2.026      "
      ]
     },
     "metadata": {},
     "output_type": "display_data"
    }
   ],
   "source": [
    "### REFERENCE TABLE"
   ]
  },
  {
   "cell_type": "markdown",
   "metadata": {
    "id": "52l8KzGbjKHf"
   },
   "source": [
    "###Exercises for `pivot_wider`\n",
    "\n",
    "3. How many popular gender neutral names are there in 2015? Reshape the `babynames` dataset so that each name is a row, and use that dataframe to find out how many names were given to at least 1,000 babies of each sex in 2015."
   ]
  },
  {
   "cell_type": "code",
   "execution_count": null,
   "metadata": {
    "id": "PlcILk6QuThD"
   },
   "outputs": [],
   "source": [
    "### YOUR ANSWER HERE\n"
   ]
  },
  {
   "cell_type": "code",
   "execution_count": null,
   "metadata": {
    "colab": {
     "base_uri": "https://localhost:8080/",
     "height": 443
    },
    "id": "fZ_w3lgBtKsV",
    "outputId": "7249f9f7-25f5-44e3-f7f8-b746e36346bb"
   },
   "outputs": [
    {
     "data": {
      "text/html": [
       "<table class=\"dataframe\">\n",
       "<caption>A tibble: 11 × 4</caption>\n",
       "<thead>\n",
       "\t<tr><th scope=col>year</th><th scope=col>name</th><th scope=col>count_F</th><th scope=col>count_M</th></tr>\n",
       "\t<tr><th scope=col>&lt;dbl&gt;</th><th scope=col>&lt;chr&gt;</th><th scope=col>&lt;int&gt;</th><th scope=col>&lt;int&gt;</th></tr>\n",
       "</thead>\n",
       "<tbody>\n",
       "\t<tr><td>2015</td><td>Avery  </td><td>9339</td><td>2210</td></tr>\n",
       "\t<tr><td>2015</td><td>Riley  </td><td>5726</td><td>2086</td></tr>\n",
       "\t<tr><td>2015</td><td>Peyton </td><td>3901</td><td>1377</td></tr>\n",
       "\t<tr><td>2015</td><td>Emerson</td><td>1791</td><td>1201</td></tr>\n",
       "\t<tr><td>2015</td><td>Hayden </td><td>1710</td><td>2732</td></tr>\n",
       "\t<tr><td>2015</td><td>Finley </td><td>1601</td><td>1058</td></tr>\n",
       "\t<tr><td>2015</td><td>Charlie</td><td>1557</td><td>1666</td></tr>\n",
       "\t<tr><td>2015</td><td>Parker </td><td>1442</td><td>5404</td></tr>\n",
       "\t<tr><td>2015</td><td>Sawyer </td><td>1219</td><td>4266</td></tr>\n",
       "\t<tr><td>2015</td><td>Jordan </td><td>1215</td><td>6287</td></tr>\n",
       "\t<tr><td>2015</td><td>Angel  </td><td>1115</td><td>6092</td></tr>\n",
       "</tbody>\n",
       "</table>\n"
      ],
      "text/latex": [
       "A tibble: 11 × 4\n",
       "\\begin{tabular}{llll}\n",
       " year & name & count\\_F & count\\_M\\\\\n",
       " <dbl> & <chr> & <int> & <int>\\\\\n",
       "\\hline\n",
       "\t 2015 & Avery   & 9339 & 2210\\\\\n",
       "\t 2015 & Riley   & 5726 & 2086\\\\\n",
       "\t 2015 & Peyton  & 3901 & 1377\\\\\n",
       "\t 2015 & Emerson & 1791 & 1201\\\\\n",
       "\t 2015 & Hayden  & 1710 & 2732\\\\\n",
       "\t 2015 & Finley  & 1601 & 1058\\\\\n",
       "\t 2015 & Charlie & 1557 & 1666\\\\\n",
       "\t 2015 & Parker  & 1442 & 5404\\\\\n",
       "\t 2015 & Sawyer  & 1219 & 4266\\\\\n",
       "\t 2015 & Jordan  & 1215 & 6287\\\\\n",
       "\t 2015 & Angel   & 1115 & 6092\\\\\n",
       "\\end{tabular}\n"
      ],
      "text/markdown": [
       "\n",
       "A tibble: 11 × 4\n",
       "\n",
       "| year &lt;dbl&gt; | name &lt;chr&gt; | count_F &lt;int&gt; | count_M &lt;int&gt; |\n",
       "|---|---|---|---|\n",
       "| 2015 | Avery   | 9339 | 2210 |\n",
       "| 2015 | Riley   | 5726 | 2086 |\n",
       "| 2015 | Peyton  | 3901 | 1377 |\n",
       "| 2015 | Emerson | 1791 | 1201 |\n",
       "| 2015 | Hayden  | 1710 | 2732 |\n",
       "| 2015 | Finley  | 1601 | 1058 |\n",
       "| 2015 | Charlie | 1557 | 1666 |\n",
       "| 2015 | Parker  | 1442 | 5404 |\n",
       "| 2015 | Sawyer  | 1219 | 4266 |\n",
       "| 2015 | Jordan  | 1215 | 6287 |\n",
       "| 2015 | Angel   | 1115 | 6092 |\n",
       "\n"
      ],
      "text/plain": [
       "   year name    count_F count_M\n",
       "1  2015 Avery   9339    2210   \n",
       "2  2015 Riley   5726    2086   \n",
       "3  2015 Peyton  3901    1377   \n",
       "4  2015 Emerson 1791    1201   \n",
       "5  2015 Hayden  1710    2732   \n",
       "6  2015 Finley  1601    1058   \n",
       "7  2015 Charlie 1557    1666   \n",
       "8  2015 Parker  1442    5404   \n",
       "9  2015 Sawyer  1219    4266   \n",
       "10 2015 Jordan  1215    6287   \n",
       "11 2015 Angel   1115    6092   "
      ]
     },
     "metadata": {},
     "output_type": "display_data"
    }
   ],
   "source": [
    "### REFERENCE TABLE"
   ]
  },
  {
   "cell_type": "markdown",
   "metadata": {
    "id": "jokBu98stHPQ"
   },
   "source": [
    "4. How does the number of Delta (DL) flights compare to the number of United (UA) flights on each day? Reshape the `flights` dataset so that each row has five columns (year, month, day, the number of Delta flights on that day, and the number of United flights on that day)."
   ]
  },
  {
   "cell_type": "code",
   "execution_count": null,
   "metadata": {
    "id": "AF18URhIuXBi"
   },
   "outputs": [],
   "source": [
    "### YOUR ANSWER HERE\n"
   ]
  },
  {
   "cell_type": "code",
   "execution_count": null,
   "metadata": {
    "colab": {
     "base_uri": "https://localhost:8080/",
     "height": 322
    },
    "id": "CdBFDuTNtrH4",
    "outputId": "18e1f7be-e6b1-42ed-9db9-6ef5194597c7"
   },
   "outputs": [
    {
     "name": "stderr",
     "output_type": "stream",
     "text": [
      "\u001b[1m\u001b[22m`summarise()` has grouped output by 'year', 'month', 'day'. You can override\n",
      "using the `.groups` argument.\n"
     ]
    },
    {
     "data": {
      "text/html": [
       "<table class=\"dataframe\">\n",
       "<caption>A grouped_df: 6 × 5</caption>\n",
       "<thead>\n",
       "\t<tr><th scope=col>year</th><th scope=col>month</th><th scope=col>day</th><th scope=col>num_flights_DL</th><th scope=col>num_flights_UA</th></tr>\n",
       "\t<tr><th scope=col>&lt;int&gt;</th><th scope=col>&lt;int&gt;</th><th scope=col>&lt;int&gt;</th><th scope=col>&lt;int&gt;</th><th scope=col>&lt;int&gt;</th></tr>\n",
       "</thead>\n",
       "<tbody>\n",
       "\t<tr><td>2013</td><td>1</td><td>1</td><td>112</td><td>165</td></tr>\n",
       "\t<tr><td>2013</td><td>1</td><td>2</td><td>152</td><td>170</td></tr>\n",
       "\t<tr><td>2013</td><td>1</td><td>3</td><td>128</td><td>159</td></tr>\n",
       "\t<tr><td>2013</td><td>1</td><td>4</td><td>125</td><td>161</td></tr>\n",
       "\t<tr><td>2013</td><td>1</td><td>5</td><td>101</td><td>117</td></tr>\n",
       "\t<tr><td>2013</td><td>1</td><td>6</td><td>114</td><td>137</td></tr>\n",
       "</tbody>\n",
       "</table>\n"
      ],
      "text/latex": [
       "A grouped\\_df: 6 × 5\n",
       "\\begin{tabular}{lllll}\n",
       " year & month & day & num\\_flights\\_DL & num\\_flights\\_UA\\\\\n",
       " <int> & <int> & <int> & <int> & <int>\\\\\n",
       "\\hline\n",
       "\t 2013 & 1 & 1 & 112 & 165\\\\\n",
       "\t 2013 & 1 & 2 & 152 & 170\\\\\n",
       "\t 2013 & 1 & 3 & 128 & 159\\\\\n",
       "\t 2013 & 1 & 4 & 125 & 161\\\\\n",
       "\t 2013 & 1 & 5 & 101 & 117\\\\\n",
       "\t 2013 & 1 & 6 & 114 & 137\\\\\n",
       "\\end{tabular}\n"
      ],
      "text/markdown": [
       "\n",
       "A grouped_df: 6 × 5\n",
       "\n",
       "| year &lt;int&gt; | month &lt;int&gt; | day &lt;int&gt; | num_flights_DL &lt;int&gt; | num_flights_UA &lt;int&gt; |\n",
       "|---|---|---|---|---|\n",
       "| 2013 | 1 | 1 | 112 | 165 |\n",
       "| 2013 | 1 | 2 | 152 | 170 |\n",
       "| 2013 | 1 | 3 | 128 | 159 |\n",
       "| 2013 | 1 | 4 | 125 | 161 |\n",
       "| 2013 | 1 | 5 | 101 | 117 |\n",
       "| 2013 | 1 | 6 | 114 | 137 |\n",
       "\n"
      ],
      "text/plain": [
       "  year month day num_flights_DL num_flights_UA\n",
       "1 2013 1     1   112            165           \n",
       "2 2013 1     2   152            170           \n",
       "3 2013 1     3   128            159           \n",
       "4 2013 1     4   125            161           \n",
       "5 2013 1     5   101            117           \n",
       "6 2013 1     6   114            137           "
      ]
     },
     "metadata": {},
     "output_type": "display_data"
    }
   ],
   "source": [
    "### REFERENCE TABLE (FIRST 6 ROWS)"
   ]
  }
 ],
 "metadata": {
  "colab": {
   "provenance": []
  },
  "kernelspec": {
   "display_name": "R",
   "language": "R",
   "name": "ir"
  },
  "language_info": {
   "codemirror_mode": "r",
   "file_extension": ".r",
   "mimetype": "text/x-r-source",
   "name": "R",
   "pygments_lexer": "r",
   "version": "4.3.1"
  }
 },
 "nbformat": 4,
 "nbformat_minor": 4
}
