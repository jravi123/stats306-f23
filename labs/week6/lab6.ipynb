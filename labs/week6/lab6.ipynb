{
  "cells": [
    {
      "cell_type": "markdown",
      "id": "f9f8ab3d",
      "metadata": {
        "id": "f9f8ab3d"
      },
      "source": [
        "# Lab 6"
      ]
    },
    {
      "cell_type": "code",
      "execution_count": null,
      "id": "340ef22e",
      "metadata": {
        "id": "340ef22e",
        "colab": {
          "base_uri": "https://localhost:8080/"
        },
        "outputId": "20070b46-c4df-4427-e6da-cb9eda09c07a"
      },
      "outputs": [
        {
          "output_type": "stream",
          "name": "stderr",
          "text": [
            "Installing package into ‘/usr/local/lib/R/site-library’\n",
            "(as ‘lib’ is unspecified)\n",
            "\n",
            "Installing package into ‘/usr/local/lib/R/site-library’\n",
            "(as ‘lib’ is unspecified)\n",
            "\n",
            "Installing package into ‘/usr/local/lib/R/site-library’\n",
            "(as ‘lib’ is unspecified)\n",
            "\n",
            "Installing package into ‘/usr/local/lib/R/site-library’\n",
            "(as ‘lib’ is unspecified)\n",
            "\n"
          ]
        }
      ],
      "source": [
        "install.packages(\"DBI\")\n",
        "install.packages(\"dbplyr\")\n",
        "install.packages(\"RSQLite\")  # This package can take several minutes to install!\n",
        "install.packages(\"nycflights13\")"
      ]
    },
    {
      "cell_type": "code",
      "execution_count": null,
      "id": "3ee1e2aa",
      "metadata": {
        "id": "3ee1e2aa"
      },
      "outputs": [],
      "source": [
        "library(tidyverse)"
      ]
    },
    {
      "cell_type": "markdown",
      "id": "589adfb8",
      "metadata": {
        "id": "589adfb8"
      },
      "source": [
        "# Joins"
      ]
    },
    {
      "cell_type": "markdown",
      "id": "c020fed5",
      "metadata": {
        "id": "c020fed5"
      },
      "source": [
        "This section of this lab is about **joins**, covered in [Chapter 20 of R4DS](https://r4ds.hadley.nz/joins.html)."
      ]
    },
    {
      "cell_type": "markdown",
      "id": "7c3d7db7",
      "metadata": {
        "id": "7c3d7db7"
      },
      "source": [
        "### Overview\n",
        "\n",
        "In data science, we often find that related information is spread across multiple data tables. A good example of this is the data from the `nycflights13` package. As you've seen in lecture, there are actually five related tables in `nycflights13`: (1) `flights`, (2) `weather`, (3) `planes`, (4) `airlines`, and (5) `airports`.\n",
        "\n",
        "We may want to analyze data from two, three, four, or even all five of these data frames at the same time, as this would allow us to uncover patterns and relationships that we could not observe in each one individually. For example, how are flights affected by weather? Do different airports and airlines react differently to bad weather conditions?\n",
        "\n",
        "Fortunately, there are certain variables (i.e., **keys**) that appear in more than one of the `nycflights13` data tables and uniquely identify observations in at least one of them. We can use these variables to **join** the tables together. There are a few different types of joins — here's a hierarchy of all of them:\n",
        "\n",
        "- Mutating joins\n",
        "    - Inner joins\n",
        "        - `inner_join()`\n",
        "    - Outer joins\n",
        "        - `full_join()`\n",
        "        - `left_join()`\n",
        "        - `right_join()`\n",
        "- Filtering joins\n",
        "    - Semi-joins\n",
        "        - `semi_join()`\n",
        "    - Anti-joins\n",
        "        - `anti_join()`"
      ]
    },
    {
      "cell_type": "markdown",
      "id": "f5f03657",
      "metadata": {
        "id": "f5f03657"
      },
      "source": [
        "### Load in the data"
      ]
    },
    {
      "cell_type": "markdown",
      "id": "12fe5a41",
      "metadata": {
        "id": "12fe5a41"
      },
      "source": [
        "We're going to take a break from `nycflights13` in this lab. Instead, we'll work with some of the baseball data frames from the `Lahman` package:"
      ]
    },
    {
      "cell_type": "code",
      "execution_count": null,
      "id": "d9e9618b",
      "metadata": {
        "id": "d9e9618b",
        "colab": {
          "base_uri": "https://localhost:8080/"
        },
        "outputId": "76eb9bdb-3a6a-4b08-9de1-d7bc53aebc36"
      },
      "outputs": [
        {
          "output_type": "stream",
          "name": "stderr",
          "text": [
            "Installing package into ‘/usr/local/lib/R/site-library’\n",
            "(as ‘lib’ is unspecified)\n",
            "\n"
          ]
        }
      ],
      "source": [
        "install.packages(\"Lahman\")\n",
        "library(Lahman)"
      ]
    },
    {
      "cell_type": "markdown",
      "id": "3b3f0db4",
      "metadata": {
        "id": "3b3f0db4"
      },
      "source": [
        "We'll mostly be working with the `People`, `Batting`, and `Salaries` data frames. The documentation for the Lahman database is [here](https://cran.r-project.org/web/packages/Lahman/Lahman.pdf)."
      ]
    },
    {
      "cell_type": "markdown",
      "id": "2ceac9a9",
      "metadata": {
        "id": "2ceac9a9"
      },
      "source": [
        "### Keys"
      ]
    },
    {
      "cell_type": "markdown",
      "id": "44fe1fcd",
      "metadata": {
        "id": "44fe1fcd"
      },
      "source": [
        "A key is a variable that connects a pair of data frames and allows us to join them together. More specifically,\n",
        "\n",
        "- A **primary key** is a variable (or set of variables) that uniquely identifies each observation.\n",
        "    - There is at most one row in the table that corresponds to a particular value of the primary key.\n",
        "    - Sometimes the observations in a table are uniquely identified by more than one variable — in this case, the set of uniquely identifying variables is called a **compound key**.\n",
        "- A **foreign key** is a variable (or set of variables) that corresponds to a primary key in another table.\n",
        "    - In a well-designed database, primary keys and their corresponding foreign keys have the same names.\n",
        "\n",
        "Let's look at some examples."
      ]
    },
    {
      "cell_type": "markdown",
      "id": "adc80ce8",
      "metadata": {
        "id": "adc80ce8"
      },
      "source": [
        "In the `People` data frame, each row is uniquely identified by `playerID`, so `playerID` is a **primary key** for `People`. One way to check this is to count the number of rows in the table for each `playerID` and then filter to rows where $n > 1$. If we've correctly identified the primary key, then we will find no `playerID`s for which $n > 1$:"
      ]
    },
    {
      "cell_type": "code",
      "source": [
        "People %>%\n",
        "  head(5)"
      ],
      "metadata": {
        "colab": {
          "base_uri": "https://localhost:8080/",
          "height": 362
        },
        "id": "rKgYYVxtTNrN",
        "outputId": "44703380-25ba-4121-f564-654673b8f4ff"
      },
      "id": "rKgYYVxtTNrN",
      "execution_count": null,
      "outputs": [
        {
          "output_type": "display_data",
          "data": {
            "text/html": [
              "<table class=\"dataframe\">\n",
              "<caption>A data.frame: 5 × 26</caption>\n",
              "<thead>\n",
              "\t<tr><th></th><th scope=col>playerID</th><th scope=col>birthYear</th><th scope=col>birthMonth</th><th scope=col>birthDay</th><th scope=col>birthCountry</th><th scope=col>birthState</th><th scope=col>birthCity</th><th scope=col>deathYear</th><th scope=col>deathMonth</th><th scope=col>deathDay</th><th scope=col>⋯</th><th scope=col>weight</th><th scope=col>height</th><th scope=col>bats</th><th scope=col>throws</th><th scope=col>debut</th><th scope=col>finalGame</th><th scope=col>retroID</th><th scope=col>bbrefID</th><th scope=col>deathDate</th><th scope=col>birthDate</th></tr>\n",
              "\t<tr><th></th><th scope=col>&lt;chr&gt;</th><th scope=col>&lt;int&gt;</th><th scope=col>&lt;int&gt;</th><th scope=col>&lt;int&gt;</th><th scope=col>&lt;chr&gt;</th><th scope=col>&lt;chr&gt;</th><th scope=col>&lt;chr&gt;</th><th scope=col>&lt;int&gt;</th><th scope=col>&lt;int&gt;</th><th scope=col>&lt;int&gt;</th><th scope=col>⋯</th><th scope=col>&lt;int&gt;</th><th scope=col>&lt;int&gt;</th><th scope=col>&lt;fct&gt;</th><th scope=col>&lt;fct&gt;</th><th scope=col>&lt;chr&gt;</th><th scope=col>&lt;chr&gt;</th><th scope=col>&lt;chr&gt;</th><th scope=col>&lt;chr&gt;</th><th scope=col>&lt;date&gt;</th><th scope=col>&lt;date&gt;</th></tr>\n",
              "</thead>\n",
              "<tbody>\n",
              "\t<tr><th scope=row>1</th><td>aardsda01</td><td>1981</td><td>12</td><td>27</td><td>USA</td><td>CO</td><td>Denver    </td><td>  NA</td><td>NA</td><td>NA</td><td>⋯</td><td>215</td><td>75</td><td>R</td><td>R</td><td>2004-04-06</td><td>2015-08-23</td><td>aardd001</td><td>aardsda01</td><td>NA</td><td>1981-12-27</td></tr>\n",
              "\t<tr><th scope=row>2</th><td>aaronha01</td><td>1934</td><td> 2</td><td> 5</td><td>USA</td><td>AL</td><td>Mobile    </td><td>2021</td><td> 1</td><td>22</td><td>⋯</td><td>180</td><td>72</td><td>R</td><td>R</td><td>1954-04-13</td><td>1976-10-03</td><td>aaroh101</td><td>aaronha01</td><td>2021-01-22</td><td>1934-02-05</td></tr>\n",
              "\t<tr><th scope=row>3</th><td>aaronto01</td><td>1939</td><td> 8</td><td> 5</td><td>USA</td><td>AL</td><td>Mobile    </td><td>1984</td><td> 8</td><td>16</td><td>⋯</td><td>190</td><td>75</td><td>R</td><td>R</td><td>1962-04-10</td><td>1971-09-26</td><td>aarot101</td><td>aaronto01</td><td>1984-08-16</td><td>1939-08-05</td></tr>\n",
              "\t<tr><th scope=row>4</th><td>aasedo01 </td><td>1954</td><td> 9</td><td> 8</td><td>USA</td><td>CA</td><td>Orange    </td><td>  NA</td><td>NA</td><td>NA</td><td>⋯</td><td>190</td><td>75</td><td>R</td><td>R</td><td>1977-07-26</td><td>1990-10-03</td><td>aased001</td><td>aasedo01 </td><td>NA</td><td>1954-09-08</td></tr>\n",
              "\t<tr><th scope=row>5</th><td>abadan01 </td><td>1972</td><td> 8</td><td>25</td><td>USA</td><td>FL</td><td>Palm Beach</td><td>  NA</td><td>NA</td><td>NA</td><td>⋯</td><td>184</td><td>73</td><td>L</td><td>L</td><td>2001-09-10</td><td>2006-04-13</td><td>abada001</td><td>abadan01 </td><td>NA</td><td>1972-08-25</td></tr>\n",
              "</tbody>\n",
              "</table>\n"
            ],
            "text/markdown": "\nA data.frame: 5 × 26\n\n| <!--/--> | playerID &lt;chr&gt; | birthYear &lt;int&gt; | birthMonth &lt;int&gt; | birthDay &lt;int&gt; | birthCountry &lt;chr&gt; | birthState &lt;chr&gt; | birthCity &lt;chr&gt; | deathYear &lt;int&gt; | deathMonth &lt;int&gt; | deathDay &lt;int&gt; | ⋯ ⋯ | weight &lt;int&gt; | height &lt;int&gt; | bats &lt;fct&gt; | throws &lt;fct&gt; | debut &lt;chr&gt; | finalGame &lt;chr&gt; | retroID &lt;chr&gt; | bbrefID &lt;chr&gt; | deathDate &lt;date&gt; | birthDate &lt;date&gt; |\n|---|---|---|---|---|---|---|---|---|---|---|---|---|---|---|---|---|---|---|---|---|---|\n| 1 | aardsda01 | 1981 | 12 | 27 | USA | CO | Denver     |   NA | NA | NA | ⋯ | 215 | 75 | R | R | 2004-04-06 | 2015-08-23 | aardd001 | aardsda01 | NA | 1981-12-27 |\n| 2 | aaronha01 | 1934 |  2 |  5 | USA | AL | Mobile     | 2021 |  1 | 22 | ⋯ | 180 | 72 | R | R | 1954-04-13 | 1976-10-03 | aaroh101 | aaronha01 | 2021-01-22 | 1934-02-05 |\n| 3 | aaronto01 | 1939 |  8 |  5 | USA | AL | Mobile     | 1984 |  8 | 16 | ⋯ | 190 | 75 | R | R | 1962-04-10 | 1971-09-26 | aarot101 | aaronto01 | 1984-08-16 | 1939-08-05 |\n| 4 | aasedo01  | 1954 |  9 |  8 | USA | CA | Orange     |   NA | NA | NA | ⋯ | 190 | 75 | R | R | 1977-07-26 | 1990-10-03 | aased001 | aasedo01  | NA | 1954-09-08 |\n| 5 | abadan01  | 1972 |  8 | 25 | USA | FL | Palm Beach |   NA | NA | NA | ⋯ | 184 | 73 | L | L | 2001-09-10 | 2006-04-13 | abada001 | abadan01  | NA | 1972-08-25 |\n\n",
            "text/latex": "A data.frame: 5 × 26\n\\begin{tabular}{r|lllllllllllllllllllll}\n  & playerID & birthYear & birthMonth & birthDay & birthCountry & birthState & birthCity & deathYear & deathMonth & deathDay & ⋯ & weight & height & bats & throws & debut & finalGame & retroID & bbrefID & deathDate & birthDate\\\\\n  & <chr> & <int> & <int> & <int> & <chr> & <chr> & <chr> & <int> & <int> & <int> & ⋯ & <int> & <int> & <fct> & <fct> & <chr> & <chr> & <chr> & <chr> & <date> & <date>\\\\\n\\hline\n\t1 & aardsda01 & 1981 & 12 & 27 & USA & CO & Denver     &   NA & NA & NA & ⋯ & 215 & 75 & R & R & 2004-04-06 & 2015-08-23 & aardd001 & aardsda01 & NA & 1981-12-27\\\\\n\t2 & aaronha01 & 1934 &  2 &  5 & USA & AL & Mobile     & 2021 &  1 & 22 & ⋯ & 180 & 72 & R & R & 1954-04-13 & 1976-10-03 & aaroh101 & aaronha01 & 2021-01-22 & 1934-02-05\\\\\n\t3 & aaronto01 & 1939 &  8 &  5 & USA & AL & Mobile     & 1984 &  8 & 16 & ⋯ & 190 & 75 & R & R & 1962-04-10 & 1971-09-26 & aarot101 & aaronto01 & 1984-08-16 & 1939-08-05\\\\\n\t4 & aasedo01  & 1954 &  9 &  8 & USA & CA & Orange     &   NA & NA & NA & ⋯ & 190 & 75 & R & R & 1977-07-26 & 1990-10-03 & aased001 & aasedo01  & NA & 1954-09-08\\\\\n\t5 & abadan01  & 1972 &  8 & 25 & USA & FL & Palm Beach &   NA & NA & NA & ⋯ & 184 & 73 & L & L & 2001-09-10 & 2006-04-13 & abada001 & abadan01  & NA & 1972-08-25\\\\\n\\end{tabular}\n",
            "text/plain": [
              "  playerID  birthYear birthMonth birthDay birthCountry birthState birthCity \n",
              "1 aardsda01 1981      12         27       USA          CO         Denver    \n",
              "2 aaronha01 1934       2          5       USA          AL         Mobile    \n",
              "3 aaronto01 1939       8          5       USA          AL         Mobile    \n",
              "4 aasedo01  1954       9          8       USA          CA         Orange    \n",
              "5 abadan01  1972       8         25       USA          FL         Palm Beach\n",
              "  deathYear deathMonth deathDay ⋯ weight height bats throws debut     \n",
              "1   NA      NA         NA       ⋯ 215    75     R    R      2004-04-06\n",
              "2 2021       1         22       ⋯ 180    72     R    R      1954-04-13\n",
              "3 1984       8         16       ⋯ 190    75     R    R      1962-04-10\n",
              "4   NA      NA         NA       ⋯ 190    75     R    R      1977-07-26\n",
              "5   NA      NA         NA       ⋯ 184    73     L    L      2001-09-10\n",
              "  finalGame  retroID  bbrefID   deathDate  birthDate \n",
              "1 2015-08-23 aardd001 aardsda01 <NA>       1981-12-27\n",
              "2 1976-10-03 aaroh101 aaronha01 2021-01-22 1934-02-05\n",
              "3 1971-09-26 aarot101 aaronto01 1984-08-16 1939-08-05\n",
              "4 1990-10-03 aased001 aasedo01  <NA>       1954-09-08\n",
              "5 2006-04-13 abada001 abadan01  <NA>       1972-08-25"
            ]
          },
          "metadata": {}
        }
      ]
    },
    {
      "cell_type": "code",
      "execution_count": null,
      "id": "4b6065ee",
      "metadata": {
        "id": "4b6065ee",
        "outputId": "2421acf7-407d-45d1-e7b1-d943fc50cfd1",
        "colab": {
          "base_uri": "https://localhost:8080/",
          "height": 98
        }
      },
      "outputs": [
        {
          "output_type": "display_data",
          "data": {
            "text/html": [
              "<table class=\"dataframe\">\n",
              "<caption>A data.frame: 0 × 2</caption>\n",
              "<thead>\n",
              "\t<tr><th scope=col>playerID</th><th scope=col>n</th></tr>\n",
              "\t<tr><th scope=col>&lt;chr&gt;</th><th scope=col>&lt;int&gt;</th></tr>\n",
              "</thead>\n",
              "<tbody>\n",
              "</tbody>\n",
              "</table>\n"
            ],
            "text/markdown": "\nA data.frame: 0 × 2\n\n| playerID &lt;chr&gt; | n &lt;int&gt; |\n|---|---|\n\n",
            "text/latex": "A data.frame: 0 × 2\n\\begin{tabular}{ll}\n playerID & n\\\\\n <chr> & <int>\\\\\n\\hline\n\\end{tabular}\n",
            "text/plain": [
              "     playerID n"
            ]
          },
          "metadata": {}
        }
      ],
      "source": [
        "People %>%\n",
        "    count(playerID) %>%\n",
        "    filter(n > 1)"
      ]
    },
    {
      "cell_type": "markdown",
      "id": "de9b6a98",
      "metadata": {
        "id": "de9b6a98"
      },
      "source": [
        "There's also a `playerID` column in the `Batting` table. We say that `Batting$playerID` is a **foreign key** for `People$playerID` since each `playerID` in `Batting` corresponds to one `playerID` in `People`."
      ]
    },
    {
      "cell_type": "markdown",
      "id": "ac5ff9a0",
      "metadata": {
        "id": "ac5ff9a0"
      },
      "source": [
        "However, `playerID` is *not* a primary key for `Batting`. For some `playerID`s, there are multiple rows in `Batting`:"
      ]
    },
    {
      "cell_type": "code",
      "source": [
        "Batting %>%\n",
        "  head(5)"
      ],
      "metadata": {
        "colab": {
          "base_uri": "https://localhost:8080/",
          "height": 255
        },
        "id": "GtNVK6DBTfBG",
        "outputId": "749d4b96-2454-40f6-89cd-81659afe25dc"
      },
      "id": "GtNVK6DBTfBG",
      "execution_count": null,
      "outputs": [
        {
          "output_type": "display_data",
          "data": {
            "text/html": [
              "<table class=\"dataframe\">\n",
              "<caption>A data.frame: 5 × 22</caption>\n",
              "<thead>\n",
              "\t<tr><th></th><th scope=col>playerID</th><th scope=col>yearID</th><th scope=col>stint</th><th scope=col>teamID</th><th scope=col>lgID</th><th scope=col>G</th><th scope=col>AB</th><th scope=col>R</th><th scope=col>H</th><th scope=col>X2B</th><th scope=col>⋯</th><th scope=col>RBI</th><th scope=col>SB</th><th scope=col>CS</th><th scope=col>BB</th><th scope=col>SO</th><th scope=col>IBB</th><th scope=col>HBP</th><th scope=col>SH</th><th scope=col>SF</th><th scope=col>GIDP</th></tr>\n",
              "\t<tr><th></th><th scope=col>&lt;chr&gt;</th><th scope=col>&lt;int&gt;</th><th scope=col>&lt;int&gt;</th><th scope=col>&lt;fct&gt;</th><th scope=col>&lt;fct&gt;</th><th scope=col>&lt;int&gt;</th><th scope=col>&lt;int&gt;</th><th scope=col>&lt;int&gt;</th><th scope=col>&lt;int&gt;</th><th scope=col>&lt;int&gt;</th><th scope=col>⋯</th><th scope=col>&lt;int&gt;</th><th scope=col>&lt;int&gt;</th><th scope=col>&lt;int&gt;</th><th scope=col>&lt;int&gt;</th><th scope=col>&lt;int&gt;</th><th scope=col>&lt;int&gt;</th><th scope=col>&lt;int&gt;</th><th scope=col>&lt;int&gt;</th><th scope=col>&lt;int&gt;</th><th scope=col>&lt;int&gt;</th></tr>\n",
              "</thead>\n",
              "<tbody>\n",
              "\t<tr><th scope=row>1</th><td>abercda01</td><td>1871</td><td>1</td><td>TRO</td><td>NA</td><td> 1</td><td>  4</td><td> 0</td><td> 0</td><td> 0</td><td>⋯</td><td> 0</td><td>0</td><td>0</td><td>0</td><td>0</td><td>NA</td><td>NA</td><td>NA</td><td>NA</td><td>0</td></tr>\n",
              "\t<tr><th scope=row>2</th><td>addybo01 </td><td>1871</td><td>1</td><td>RC1</td><td>NA</td><td>25</td><td>118</td><td>30</td><td>32</td><td> 6</td><td>⋯</td><td>13</td><td>8</td><td>1</td><td>4</td><td>0</td><td>NA</td><td>NA</td><td>NA</td><td>NA</td><td>0</td></tr>\n",
              "\t<tr><th scope=row>3</th><td>allisar01</td><td>1871</td><td>1</td><td>CL1</td><td>NA</td><td>29</td><td>137</td><td>28</td><td>40</td><td> 4</td><td>⋯</td><td>19</td><td>3</td><td>1</td><td>2</td><td>5</td><td>NA</td><td>NA</td><td>NA</td><td>NA</td><td>1</td></tr>\n",
              "\t<tr><th scope=row>4</th><td>allisdo01</td><td>1871</td><td>1</td><td>WS3</td><td>NA</td><td>27</td><td>133</td><td>28</td><td>44</td><td>10</td><td>⋯</td><td>27</td><td>1</td><td>1</td><td>0</td><td>2</td><td>NA</td><td>NA</td><td>NA</td><td>NA</td><td>0</td></tr>\n",
              "\t<tr><th scope=row>5</th><td>ansonca01</td><td>1871</td><td>1</td><td>RC1</td><td>NA</td><td>25</td><td>120</td><td>29</td><td>39</td><td>11</td><td>⋯</td><td>16</td><td>6</td><td>2</td><td>2</td><td>1</td><td>NA</td><td>NA</td><td>NA</td><td>NA</td><td>0</td></tr>\n",
              "</tbody>\n",
              "</table>\n"
            ],
            "text/markdown": "\nA data.frame: 5 × 22\n\n| <!--/--> | playerID &lt;chr&gt; | yearID &lt;int&gt; | stint &lt;int&gt; | teamID &lt;fct&gt; | lgID &lt;fct&gt; | G &lt;int&gt; | AB &lt;int&gt; | R &lt;int&gt; | H &lt;int&gt; | X2B &lt;int&gt; | ⋯ ⋯ | RBI &lt;int&gt; | SB &lt;int&gt; | CS &lt;int&gt; | BB &lt;int&gt; | SO &lt;int&gt; | IBB &lt;int&gt; | HBP &lt;int&gt; | SH &lt;int&gt; | SF &lt;int&gt; | GIDP &lt;int&gt; |\n|---|---|---|---|---|---|---|---|---|---|---|---|---|---|---|---|---|---|---|---|---|---|\n| 1 | abercda01 | 1871 | 1 | TRO | NA |  1 |   4 |  0 |  0 |  0 | ⋯ |  0 | 0 | 0 | 0 | 0 | NA | NA | NA | NA | 0 |\n| 2 | addybo01  | 1871 | 1 | RC1 | NA | 25 | 118 | 30 | 32 |  6 | ⋯ | 13 | 8 | 1 | 4 | 0 | NA | NA | NA | NA | 0 |\n| 3 | allisar01 | 1871 | 1 | CL1 | NA | 29 | 137 | 28 | 40 |  4 | ⋯ | 19 | 3 | 1 | 2 | 5 | NA | NA | NA | NA | 1 |\n| 4 | allisdo01 | 1871 | 1 | WS3 | NA | 27 | 133 | 28 | 44 | 10 | ⋯ | 27 | 1 | 1 | 0 | 2 | NA | NA | NA | NA | 0 |\n| 5 | ansonca01 | 1871 | 1 | RC1 | NA | 25 | 120 | 29 | 39 | 11 | ⋯ | 16 | 6 | 2 | 2 | 1 | NA | NA | NA | NA | 0 |\n\n",
            "text/latex": "A data.frame: 5 × 22\n\\begin{tabular}{r|lllllllllllllllllllll}\n  & playerID & yearID & stint & teamID & lgID & G & AB & R & H & X2B & ⋯ & RBI & SB & CS & BB & SO & IBB & HBP & SH & SF & GIDP\\\\\n  & <chr> & <int> & <int> & <fct> & <fct> & <int> & <int> & <int> & <int> & <int> & ⋯ & <int> & <int> & <int> & <int> & <int> & <int> & <int> & <int> & <int> & <int>\\\\\n\\hline\n\t1 & abercda01 & 1871 & 1 & TRO & NA &  1 &   4 &  0 &  0 &  0 & ⋯ &  0 & 0 & 0 & 0 & 0 & NA & NA & NA & NA & 0\\\\\n\t2 & addybo01  & 1871 & 1 & RC1 & NA & 25 & 118 & 30 & 32 &  6 & ⋯ & 13 & 8 & 1 & 4 & 0 & NA & NA & NA & NA & 0\\\\\n\t3 & allisar01 & 1871 & 1 & CL1 & NA & 29 & 137 & 28 & 40 &  4 & ⋯ & 19 & 3 & 1 & 2 & 5 & NA & NA & NA & NA & 1\\\\\n\t4 & allisdo01 & 1871 & 1 & WS3 & NA & 27 & 133 & 28 & 44 & 10 & ⋯ & 27 & 1 & 1 & 0 & 2 & NA & NA & NA & NA & 0\\\\\n\t5 & ansonca01 & 1871 & 1 & RC1 & NA & 25 & 120 & 29 & 39 & 11 & ⋯ & 16 & 6 & 2 & 2 & 1 & NA & NA & NA & NA & 0\\\\\n\\end{tabular}\n",
            "text/plain": [
              "  playerID  yearID stint teamID lgID G  AB  R  H  X2B ⋯ RBI SB CS BB SO IBB HBP\n",
              "1 abercda01 1871   1     TRO    NA    1   4  0  0  0  ⋯  0  0  0  0  0  NA  NA \n",
              "2 addybo01  1871   1     RC1    NA   25 118 30 32  6  ⋯ 13  8  1  4  0  NA  NA \n",
              "3 allisar01 1871   1     CL1    NA   29 137 28 40  4  ⋯ 19  3  1  2  5  NA  NA \n",
              "4 allisdo01 1871   1     WS3    NA   27 133 28 44 10  ⋯ 27  1  1  0  2  NA  NA \n",
              "5 ansonca01 1871   1     RC1    NA   25 120 29 39 11  ⋯ 16  6  2  2  1  NA  NA \n",
              "  SH SF GIDP\n",
              "1 NA NA 0   \n",
              "2 NA NA 0   \n",
              "3 NA NA 1   \n",
              "4 NA NA 0   \n",
              "5 NA NA 0   "
            ]
          },
          "metadata": {}
        }
      ]
    },
    {
      "cell_type": "code",
      "execution_count": null,
      "id": "57660d5f",
      "metadata": {
        "id": "57660d5f",
        "outputId": "8e0c0d3a-9782-4de4-e028-dcc0bb252d5d",
        "colab": {
          "base_uri": "https://localhost:8080/",
          "height": 255
        }
      },
      "outputs": [
        {
          "output_type": "display_data",
          "data": {
            "text/html": [
              "<table class=\"dataframe\">\n",
              "<caption>A data.frame: 5 × 2</caption>\n",
              "<thead>\n",
              "\t<tr><th></th><th scope=col>playerID</th><th scope=col>n</th></tr>\n",
              "\t<tr><th></th><th scope=col>&lt;chr&gt;</th><th scope=col>&lt;int&gt;</th></tr>\n",
              "</thead>\n",
              "<tbody>\n",
              "\t<tr><th scope=row>1</th><td>aardsda01</td><td> 9</td></tr>\n",
              "\t<tr><th scope=row>2</th><td>aaronha01</td><td>23</td></tr>\n",
              "\t<tr><th scope=row>3</th><td>aaronto01</td><td> 7</td></tr>\n",
              "\t<tr><th scope=row>4</th><td>aasedo01 </td><td>13</td></tr>\n",
              "\t<tr><th scope=row>5</th><td>abadan01 </td><td> 3</td></tr>\n",
              "</tbody>\n",
              "</table>\n"
            ],
            "text/markdown": "\nA data.frame: 5 × 2\n\n| <!--/--> | playerID &lt;chr&gt; | n &lt;int&gt; |\n|---|---|---|\n| 1 | aardsda01 |  9 |\n| 2 | aaronha01 | 23 |\n| 3 | aaronto01 |  7 |\n| 4 | aasedo01  | 13 |\n| 5 | abadan01  |  3 |\n\n",
            "text/latex": "A data.frame: 5 × 2\n\\begin{tabular}{r|ll}\n  & playerID & n\\\\\n  & <chr> & <int>\\\\\n\\hline\n\t1 & aardsda01 &  9\\\\\n\t2 & aaronha01 & 23\\\\\n\t3 & aaronto01 &  7\\\\\n\t4 & aasedo01  & 13\\\\\n\t5 & abadan01  &  3\\\\\n\\end{tabular}\n",
            "text/plain": [
              "  playerID  n \n",
              "1 aardsda01  9\n",
              "2 aaronha01 23\n",
              "3 aaronto01  7\n",
              "4 aasedo01  13\n",
              "5 abadan01   3"
            ]
          },
          "metadata": {}
        }
      ],
      "source": [
        "Batting %>%\n",
        "    count(playerID) %>%\n",
        "    head(5)"
      ]
    },
    {
      "cell_type": "markdown",
      "id": "44525be8",
      "metadata": {
        "id": "44525be8"
      },
      "source": [
        "This makes sense because each row in `Batting` contains the statistics for one player in one season, and most players' careers last longer than just one season."
      ]
    },
    {
      "cell_type": "markdown",
      "id": "c9fe5d36",
      "metadata": {
        "id": "c9fe5d36"
      },
      "source": [
        "So what is the primary key for `Batting`? After reading through the [Lahman documentation](https://cran.r-project.org/web/packages/Lahman/Lahman.pdf), we can infer that each row in `Batting` is uniquely identified by the combination of `playerID`, `yearID`, and `stint`. These three variables form a **compound key**, and this compound key is a primary key for `Batting`:"
      ]
    },
    {
      "cell_type": "code",
      "execution_count": null,
      "id": "57fda24d",
      "metadata": {
        "id": "57fda24d",
        "outputId": "22574873-fb2e-43aa-fd17-0bcfcd1170fd",
        "colab": {
          "base_uri": "https://localhost:8080/",
          "height": 98
        }
      },
      "outputs": [
        {
          "output_type": "display_data",
          "data": {
            "text/html": [
              "<table class=\"dataframe\">\n",
              "<caption>A data.frame: 0 × 4</caption>\n",
              "<thead>\n",
              "\t<tr><th scope=col>playerID</th><th scope=col>yearID</th><th scope=col>stint</th><th scope=col>n</th></tr>\n",
              "\t<tr><th scope=col>&lt;chr&gt;</th><th scope=col>&lt;int&gt;</th><th scope=col>&lt;int&gt;</th><th scope=col>&lt;int&gt;</th></tr>\n",
              "</thead>\n",
              "<tbody>\n",
              "</tbody>\n",
              "</table>\n"
            ],
            "text/markdown": "\nA data.frame: 0 × 4\n\n| playerID &lt;chr&gt; | yearID &lt;int&gt; | stint &lt;int&gt; | n &lt;int&gt; |\n|---|---|---|---|\n\n",
            "text/latex": "A data.frame: 0 × 4\n\\begin{tabular}{llll}\n playerID & yearID & stint & n\\\\\n <chr> & <int> & <int> & <int>\\\\\n\\hline\n\\end{tabular}\n",
            "text/plain": [
              "     playerID yearID stint n"
            ]
          },
          "metadata": {}
        }
      ],
      "source": [
        "Batting %>%\n",
        "    count(playerID, yearID, stint) %>%\n",
        "    filter(n > 1)"
      ]
    },
    {
      "cell_type": "markdown",
      "id": "b2ca5cbd",
      "metadata": {
        "id": "b2ca5cbd"
      },
      "source": [
        "### Mutating joins"
      ]
    },
    {
      "cell_type": "markdown",
      "id": "25483a59",
      "metadata": {
        "id": "25483a59"
      },
      "source": [
        "Now that we've seen how the tables in the `Lahman` database are connected by keys, we can practice using joins to actually connect them.\n",
        "\n",
        "The first category of joins you should know about are **mutating joins**, which match observations between two data frames and then $\\underline{\\text{add variables}}$ from one data frame to the other. There are four types of mutating joins: (1) inner, (2) left, (3) right, and (4) full. The latter three are often called outer joins."
      ]
    },
    {
      "cell_type": "markdown",
      "id": "e2197511",
      "metadata": {
        "id": "e2197511"
      },
      "source": [
        "<img src=\"https://r4ds.hadley.nz/diagrams/join/venn.png\" width=\"500\" />"
      ]
    },
    {
      "cell_type": "markdown",
      "id": "8ba45eba",
      "metadata": {
        "id": "8ba45eba"
      },
      "source": [
        "#### Mutating join #1: `inner_join()`"
      ]
    },
    {
      "cell_type": "markdown",
      "id": "cbed3c2f",
      "metadata": {
        "id": "cbed3c2f"
      },
      "source": [
        "Suppose we have two data frames **x** and **y**.\n",
        "\n",
        "**`inner_join(x, y)`** preserves all rows in **x** that have a matching key in **y**, and it adds the columns of **y** to **x**."
      ]
    },
    {
      "cell_type": "markdown",
      "id": "1d723f4f",
      "metadata": {
        "id": "1d723f4f"
      },
      "source": [
        "Let's test this out with the `Batting` and `Salaries` data frames. Note that `Batting` has 112,184 rows and 22 columns, while `Salaries` has 26,428 rows and 5 columns:"
      ]
    },
    {
      "cell_type": "code",
      "execution_count": null,
      "id": "1895f43d",
      "metadata": {
        "id": "1895f43d",
        "outputId": "2f1a4933-620f-4951-96d0-c19542d369cd",
        "colab": {
          "base_uri": "https://localhost:8080/"
        }
      },
      "outputs": [
        {
          "output_type": "stream",
          "name": "stdout",
          "text": [
            "Rows: 112,184\n",
            "Columns: 22\n",
            "$ playerID \u001b[3m\u001b[90m<chr>\u001b[39m\u001b[23m \"abercda01\", \"addybo01\", \"allisar01\", \"allisdo01\", \"ansonca01…\n",
            "$ yearID   \u001b[3m\u001b[90m<int>\u001b[39m\u001b[23m 1871, 1871, 1871, 1871, 1871, 1871, 1871, 1871, 1871, 1871, 1…\n",
            "$ stint    \u001b[3m\u001b[90m<int>\u001b[39m\u001b[23m 1, 1, 1, 1, 1, 1, 1, 1, 1, 1, 1, 1, 1, 1, 1, 1, 1, 1, 1, 1, 1…\n",
            "$ teamID   \u001b[3m\u001b[90m<fct>\u001b[39m\u001b[23m TRO, RC1, CL1, WS3, RC1, FW1, RC1, BS1, FW1, BS1, CL1, CL1, W…\n",
            "$ lgID     \u001b[3m\u001b[90m<fct>\u001b[39m\u001b[23m NA, NA, NA, NA, NA, NA, NA, NA, NA, NA, NA, NA, NA, NA, NA, N…\n",
            "$ G        \u001b[3m\u001b[90m<int>\u001b[39m\u001b[23m 1, 25, 29, 27, 25, 12, 1, 31, 1, 18, 22, 1, 10, 3, 20, 29, 1,…\n",
            "$ AB       \u001b[3m\u001b[90m<int>\u001b[39m\u001b[23m 4, 118, 137, 133, 120, 49, 4, 157, 5, 86, 89, 3, 36, 15, 94, …\n",
            "$ R        \u001b[3m\u001b[90m<int>\u001b[39m\u001b[23m 0, 30, 28, 28, 29, 9, 0, 66, 1, 13, 18, 0, 6, 7, 24, 26, 0, 0…\n",
            "$ H        \u001b[3m\u001b[90m<int>\u001b[39m\u001b[23m 0, 32, 40, 44, 39, 11, 1, 63, 1, 13, 27, 0, 7, 6, 33, 32, 0, …\n",
            "$ X2B      \u001b[3m\u001b[90m<int>\u001b[39m\u001b[23m 0, 6, 4, 10, 11, 2, 0, 10, 1, 2, 1, 0, 0, 0, 9, 3, 0, 0, 1, 0…\n",
            "$ X3B      \u001b[3m\u001b[90m<int>\u001b[39m\u001b[23m 0, 0, 5, 2, 3, 1, 0, 9, 0, 1, 10, 0, 0, 0, 1, 3, 0, 0, 1, 0, …\n",
            "$ HR       \u001b[3m\u001b[90m<int>\u001b[39m\u001b[23m 0, 0, 0, 2, 0, 0, 0, 0, 0, 0, 3, 0, 0, 0, 1, 0, 0, 0, 0, 0, 0…\n",
            "$ RBI      \u001b[3m\u001b[90m<int>\u001b[39m\u001b[23m 0, 13, 19, 27, 16, 5, 2, 34, 1, 11, 18, 0, 1, 5, 21, 23, 0, 0…\n",
            "$ SB       \u001b[3m\u001b[90m<int>\u001b[39m\u001b[23m 0, 8, 3, 1, 6, 0, 0, 11, 0, 1, 0, 0, 2, 2, 4, 4, 0, 0, 3, 0, …\n",
            "$ CS       \u001b[3m\u001b[90m<int>\u001b[39m\u001b[23m 0, 1, 1, 1, 2, 1, 0, 6, 0, 0, 1, 0, 0, 0, 0, 4, 0, 0, 1, 0, 0…\n",
            "$ BB       \u001b[3m\u001b[90m<int>\u001b[39m\u001b[23m 0, 4, 2, 0, 2, 0, 1, 13, 0, 0, 3, 1, 2, 0, 2, 9, 0, 0, 4, 1, …\n",
            "$ SO       \u001b[3m\u001b[90m<int>\u001b[39m\u001b[23m 0, 0, 5, 2, 1, 1, 0, 1, 0, 0, 4, 0, 0, 0, 2, 2, 3, 0, 2, 0, 2…\n",
            "$ IBB      \u001b[3m\u001b[90m<int>\u001b[39m\u001b[23m NA, NA, NA, NA, NA, NA, NA, NA, NA, NA, NA, NA, NA, NA, NA, N…\n",
            "$ HBP      \u001b[3m\u001b[90m<int>\u001b[39m\u001b[23m NA, NA, NA, NA, NA, NA, NA, NA, NA, NA, NA, NA, NA, NA, NA, N…\n",
            "$ SH       \u001b[3m\u001b[90m<int>\u001b[39m\u001b[23m NA, NA, NA, NA, NA, NA, NA, NA, NA, NA, NA, NA, NA, NA, NA, N…\n",
            "$ SF       \u001b[3m\u001b[90m<int>\u001b[39m\u001b[23m NA, NA, NA, NA, NA, NA, NA, NA, NA, NA, NA, NA, NA, NA, NA, N…\n",
            "$ GIDP     \u001b[3m\u001b[90m<int>\u001b[39m\u001b[23m 0, 0, 1, 0, 0, 0, 0, 1, 0, 0, 0, 0, 2, 0, 1, 2, 0, 0, 0, 0, 3…\n",
            "Rows: 26,428\n",
            "Columns: 5\n",
            "$ yearID   \u001b[3m\u001b[90m<int>\u001b[39m\u001b[23m 1985, 1985, 1985, 1985, 1985, 1985, 1985, 1985, 1985, 1985, 1…\n",
            "$ teamID   \u001b[3m\u001b[90m<fct>\u001b[39m\u001b[23m ATL, ATL, ATL, ATL, ATL, ATL, ATL, ATL, ATL, ATL, ATL, ATL, A…\n",
            "$ lgID     \u001b[3m\u001b[90m<fct>\u001b[39m\u001b[23m NL, NL, NL, NL, NL, NL, NL, NL, NL, NL, NL, NL, NL, NL, NL, N…\n",
            "$ playerID \u001b[3m\u001b[90m<chr>\u001b[39m\u001b[23m \"barkele01\", \"bedrost01\", \"benedbr01\", \"campri01\", \"ceronri01…\n",
            "$ salary   \u001b[3m\u001b[90m<int>\u001b[39m\u001b[23m 870000, 550000, 545000, 633333, 625000, 800000, 150000, 48333…\n"
          ]
        }
      ],
      "source": [
        "glimpse(Batting)\n",
        "glimpse(Salaries)"
      ]
    },
    {
      "cell_type": "markdown",
      "id": "d597d1a6",
      "metadata": {
        "id": "d597d1a6"
      },
      "source": [
        "Note also that there are four overlapping columns between these two data frames: `yearID`, `teamID`, `lgID`, and `playerID`."
      ]
    },
    {
      "cell_type": "code",
      "execution_count": null,
      "id": "54ee06eb",
      "metadata": {
        "id": "54ee06eb",
        "outputId": "5cbd25df-4c70-4521-d6d4-883600b548da",
        "colab": {
          "base_uri": "https://localhost:8080/",
          "height": 1000
        }
      },
      "outputs": [
        {
          "output_type": "stream",
          "name": "stderr",
          "text": [
            "\u001b[1m\u001b[22mJoining with `by = join_by(playerID, yearID, teamID, lgID)`\n"
          ]
        },
        {
          "output_type": "display_data",
          "data": {
            "text/html": [
              "<table class=\"dataframe\">\n",
              "<caption>A data.frame: 25441 × 23</caption>\n",
              "<thead>\n",
              "\t<tr><th scope=col>playerID</th><th scope=col>yearID</th><th scope=col>stint</th><th scope=col>teamID</th><th scope=col>lgID</th><th scope=col>G</th><th scope=col>AB</th><th scope=col>R</th><th scope=col>H</th><th scope=col>X2B</th><th scope=col>⋯</th><th scope=col>SB</th><th scope=col>CS</th><th scope=col>BB</th><th scope=col>SO</th><th scope=col>IBB</th><th scope=col>HBP</th><th scope=col>SH</th><th scope=col>SF</th><th scope=col>GIDP</th><th scope=col>salary</th></tr>\n",
              "\t<tr><th scope=col>&lt;chr&gt;</th><th scope=col>&lt;int&gt;</th><th scope=col>&lt;int&gt;</th><th scope=col>&lt;fct&gt;</th><th scope=col>&lt;fct&gt;</th><th scope=col>&lt;int&gt;</th><th scope=col>&lt;int&gt;</th><th scope=col>&lt;int&gt;</th><th scope=col>&lt;int&gt;</th><th scope=col>&lt;int&gt;</th><th scope=col>⋯</th><th scope=col>&lt;int&gt;</th><th scope=col>&lt;int&gt;</th><th scope=col>&lt;int&gt;</th><th scope=col>&lt;int&gt;</th><th scope=col>&lt;int&gt;</th><th scope=col>&lt;int&gt;</th><th scope=col>&lt;int&gt;</th><th scope=col>&lt;int&gt;</th><th scope=col>&lt;int&gt;</th><th scope=col>&lt;int&gt;</th></tr>\n",
              "</thead>\n",
              "<tbody>\n",
              "\t<tr><td>ackerji01</td><td>1985</td><td>1</td><td>TOR</td><td>AL</td><td> 61</td><td>  0</td><td> 0</td><td>  0</td><td> 0</td><td>⋯</td><td> 0</td><td> 0</td><td> 0</td><td>  0</td><td>0</td><td> 0</td><td> 0</td><td> 0</td><td> 0</td><td> 170000</td></tr>\n",
              "\t<tr><td>agostju01</td><td>1985</td><td>1</td><td>CHA</td><td>AL</td><td> 54</td><td>  0</td><td> 0</td><td>  0</td><td> 0</td><td>⋯</td><td> 0</td><td> 0</td><td> 0</td><td>  0</td><td>0</td><td> 0</td><td> 0</td><td> 0</td><td> 0</td><td> 147500</td></tr>\n",
              "\t<tr><td>aguaylu01</td><td>1985</td><td>1</td><td>PHI</td><td>NL</td><td> 91</td><td>165</td><td>27</td><td> 46</td><td> 7</td><td>⋯</td><td> 1</td><td> 0</td><td>22</td><td> 26</td><td>5</td><td> 6</td><td> 4</td><td> 3</td><td> 7</td><td> 237000</td></tr>\n",
              "\t<tr><td>alexado01</td><td>1985</td><td>1</td><td>TOR</td><td>AL</td><td> 36</td><td>  0</td><td> 0</td><td>  0</td><td> 0</td><td>⋯</td><td> 0</td><td> 0</td><td> 0</td><td>  0</td><td>0</td><td> 0</td><td> 0</td><td> 0</td><td> 0</td><td> 875000</td></tr>\n",
              "\t<tr><td>allenne01</td><td>1985</td><td>1</td><td>SLN</td><td>NL</td><td> 23</td><td>  2</td><td> 0</td><td>  0</td><td> 0</td><td>⋯</td><td> 0</td><td> 0</td><td> 0</td><td>  2</td><td>0</td><td> 0</td><td> 0</td><td> 0</td><td> 0</td><td> 750000</td></tr>\n",
              "\t<tr><td>almonbi01</td><td>1985</td><td>1</td><td>PIT</td><td>NL</td><td> 88</td><td>244</td><td>33</td><td> 66</td><td>17</td><td>⋯</td><td>10</td><td> 7</td><td>22</td><td> 61</td><td>0</td><td> 1</td><td> 4</td><td> 3</td><td> 6</td><td> 255000</td></tr>\n",
              "\t<tr><td>anderla02</td><td>1985</td><td>1</td><td>PHI</td><td>NL</td><td> 57</td><td>  4</td><td> 1</td><td>  0</td><td> 0</td><td>⋯</td><td> 0</td><td> 0</td><td> 0</td><td>  0</td><td>0</td><td> 0</td><td> 1</td><td> 0</td><td> 0</td><td> 250500</td></tr>\n",
              "\t<tr><td>andujjo01</td><td>1985</td><td>1</td><td>SLN</td><td>NL</td><td> 38</td><td> 94</td><td> 2</td><td> 10</td><td> 2</td><td>⋯</td><td> 3</td><td> 1</td><td> 5</td><td> 50</td><td>0</td><td> 0</td><td> 7</td><td> 0</td><td> 2</td><td>1030000</td></tr>\n",
              "\t<tr><td>armasto01</td><td>1985</td><td>1</td><td>BOS</td><td>AL</td><td>103</td><td>385</td><td>50</td><td>102</td><td>17</td><td>⋯</td><td> 0</td><td> 0</td><td>18</td><td> 90</td><td>4</td><td> 2</td><td> 0</td><td> 5</td><td>14</td><td> 915000</td></tr>\n",
              "\t<tr><td>ashbyal01</td><td>1985</td><td>1</td><td>HOU</td><td>NL</td><td> 65</td><td>189</td><td>20</td><td> 53</td><td> 8</td><td>⋯</td><td> 0</td><td> 0</td><td>24</td><td> 27</td><td>2</td><td> 1</td><td> 1</td><td> 1</td><td> 9</td><td> 416667</td></tr>\n",
              "\t<tr><td>atherke01</td><td>1985</td><td>1</td><td>OAK</td><td>AL</td><td> 56</td><td>  0</td><td> 0</td><td>  0</td><td> 0</td><td>⋯</td><td> 0</td><td> 0</td><td> 0</td><td>  0</td><td>0</td><td> 0</td><td> 0</td><td> 0</td><td> 0</td><td> 107333</td></tr>\n",
              "\t<tr><td>ayalabe01</td><td>1985</td><td>1</td><td>CLE</td><td>AL</td><td> 46</td><td> 76</td><td>10</td><td> 19</td><td> 7</td><td>⋯</td><td> 0</td><td> 0</td><td> 4</td><td> 17</td><td>1</td><td> 0</td><td> 0</td><td> 1</td><td> 2</td><td> 303333</td></tr>\n",
              "\t<tr><td>backmwa01</td><td>1985</td><td>1</td><td>NYN</td><td>NL</td><td>145</td><td>520</td><td>77</td><td>142</td><td>24</td><td>⋯</td><td>30</td><td>12</td><td>36</td><td> 72</td><td>1</td><td> 1</td><td>14</td><td> 3</td><td> 3</td><td> 200000</td></tr>\n",
              "\t<tr><td>bailobo01</td><td>1985</td><td>1</td><td>LAN</td><td>NL</td><td> 74</td><td>118</td><td> 8</td><td> 29</td><td> 3</td><td>⋯</td><td> 1</td><td> 0</td><td> 3</td><td>  5</td><td>0</td><td> 1</td><td> 8</td><td> 0</td><td> 3</td><td> 330000</td></tr>\n",
              "\t<tr><td>baineha01</td><td>1985</td><td>1</td><td>CHA</td><td>AL</td><td>160</td><td>640</td><td>86</td><td>198</td><td>29</td><td>⋯</td><td> 1</td><td> 1</td><td>42</td><td> 89</td><td>8</td><td> 1</td><td> 0</td><td>10</td><td>23</td><td> 675000</td></tr>\n",
              "\t<tr><td>bakerdu01</td><td>1985</td><td>1</td><td>OAK</td><td>AL</td><td>111</td><td>343</td><td>48</td><td> 92</td><td>15</td><td>⋯</td><td> 2</td><td> 1</td><td>50</td><td> 47</td><td>0</td><td> 0</td><td> 0</td><td> 3</td><td>12</td><td> 575000</td></tr>\n",
              "\t<tr><td>balbost01</td><td>1985</td><td>1</td><td>KCA</td><td>AL</td><td>160</td><td>600</td><td>74</td><td>146</td><td>28</td><td>⋯</td><td> 1</td><td> 1</td><td>52</td><td>166</td><td>4</td><td> 5</td><td> 0</td><td> 5</td><td>14</td><td> 205000</td></tr>\n",
              "\t<tr><td>bandoch01</td><td>1985</td><td>1</td><td>CLE</td><td>AL</td><td> 73</td><td>173</td><td>11</td><td> 24</td><td> 4</td><td>⋯</td><td> 0</td><td> 1</td><td>22</td><td> 21</td><td>0</td><td> 0</td><td> 2</td><td> 2</td><td> 6</td><td> 225000</td></tr>\n",
              "\t<tr><td>bannial01</td><td>1985</td><td>1</td><td>TEX</td><td>AL</td><td> 57</td><td>122</td><td>17</td><td> 32</td><td> 4</td><td>⋯</td><td> 8</td><td> 2</td><td>14</td><td> 17</td><td>0</td><td> 0</td><td> 1</td><td> 0</td><td> 1</td><td> 350000</td></tr>\n",
              "\t<tr><td>bannifl01</td><td>1985</td><td>1</td><td>CHA</td><td>AL</td><td> 34</td><td>  0</td><td> 0</td><td>  0</td><td> 0</td><td>⋯</td><td> 0</td><td> 0</td><td> 0</td><td>  0</td><td>0</td><td> 0</td><td> 0</td><td> 0</td><td> 0</td><td> 811250</td></tr>\n",
              "\t<tr><td>barfije01</td><td>1985</td><td>1</td><td>TOR</td><td>AL</td><td>155</td><td>539</td><td>94</td><td>156</td><td>34</td><td>⋯</td><td>22</td><td> 8</td><td>66</td><td>143</td><td>5</td><td> 4</td><td> 0</td><td> 3</td><td>14</td><td> 325000</td></tr>\n",
              "\t<tr><td>barkele01</td><td>1985</td><td>1</td><td>ATL</td><td>NL</td><td> 20</td><td> 17</td><td> 0</td><td>  0</td><td> 0</td><td>⋯</td><td> 0</td><td> 1</td><td> 0</td><td>  7</td><td>0</td><td> 0</td><td> 0</td><td> 0</td><td> 0</td><td> 870000</td></tr>\n",
              "\t<tr><td>barrema02</td><td>1985</td><td>1</td><td>BOS</td><td>AL</td><td>156</td><td>534</td><td>59</td><td>142</td><td>26</td><td>⋯</td><td> 7</td><td> 5</td><td>56</td><td> 50</td><td>3</td><td> 2</td><td>12</td><td> 4</td><td>14</td><td> 272500</td></tr>\n",
              "\t<tr><td>basske01 </td><td>1985</td><td>1</td><td>HOU</td><td>NL</td><td>150</td><td>539</td><td>72</td><td>145</td><td>27</td><td>⋯</td><td>19</td><td> 8</td><td>31</td><td> 63</td><td>1</td><td> 6</td><td> 4</td><td> 2</td><td>10</td><td> 155000</td></tr>\n",
              "\t<tr><td>baylodo01</td><td>1985</td><td>1</td><td>NYA</td><td>AL</td><td>142</td><td>477</td><td>70</td><td>110</td><td>24</td><td>⋯</td><td> 0</td><td> 4</td><td>52</td><td> 90</td><td>6</td><td>24</td><td> 1</td><td>10</td><td>10</td><td> 810000</td></tr>\n",
              "\t<tr><td>beattji01</td><td>1985</td><td>1</td><td>SEA</td><td>AL</td><td> 18</td><td>  0</td><td> 0</td><td>  0</td><td> 0</td><td>⋯</td><td> 0</td><td> 0</td><td> 0</td><td>  0</td><td>0</td><td> 0</td><td> 0</td><td> 0</td><td> 0</td><td> 470000</td></tr>\n",
              "\t<tr><td>beckwjo01</td><td>1985</td><td>1</td><td>KCA</td><td>AL</td><td> 49</td><td>  0</td><td> 0</td><td>  0</td><td> 0</td><td>⋯</td><td> 0</td><td> 0</td><td> 0</td><td>  0</td><td>0</td><td> 0</td><td> 0</td><td> 0</td><td> 0</td><td> 358000</td></tr>\n",
              "\t<tr><td>bedrost01</td><td>1985</td><td>1</td><td>ATL</td><td>NL</td><td> 37</td><td> 64</td><td> 3</td><td>  5</td><td> 0</td><td>⋯</td><td> 0</td><td> 0</td><td> 1</td><td> 22</td><td>0</td><td> 0</td><td> 6</td><td> 0</td><td> 0</td><td> 550000</td></tr>\n",
              "\t<tr><td>bellbu01 </td><td>1985</td><td>2</td><td>CIN</td><td>NL</td><td> 67</td><td>247</td><td>28</td><td> 54</td><td>15</td><td>⋯</td><td> 0</td><td> 1</td><td>34</td><td> 27</td><td>2</td><td> 0</td><td> 1</td><td> 2</td><td>10</td><td> 751297</td></tr>\n",
              "\t<tr><td>bellge02 </td><td>1985</td><td>1</td><td>TOR</td><td>AL</td><td>157</td><td>607</td><td>87</td><td>167</td><td>28</td><td>⋯</td><td>21</td><td> 6</td><td>43</td><td> 90</td><td>6</td><td> 8</td><td> 0</td><td> 8</td><td> 8</td><td> 335000</td></tr>\n",
              "\t<tr><td>⋮</td><td>⋮</td><td>⋮</td><td>⋮</td><td>⋮</td><td>⋮</td><td>⋮</td><td>⋮</td><td>⋮</td><td>⋮</td><td>⋱</td><td>⋮</td><td>⋮</td><td>⋮</td><td>⋮</td><td>⋮</td><td>⋮</td><td>⋮</td><td>⋮</td><td>⋮</td><td>⋮</td></tr>\n",
              "\t<tr><td>weeksri01</td><td>2016</td><td>1</td><td>ARI</td><td>NL</td><td>108</td><td>180</td><td>29</td><td> 43</td><td> 9</td><td>⋯</td><td>5</td><td>0</td><td>20</td><td> 54</td><td>0</td><td>4</td><td>0</td><td>1</td><td> 8</td><td> 1500000</td></tr>\n",
              "\t<tr><td>werthja01</td><td>2016</td><td>1</td><td>WAS</td><td>NL</td><td>143</td><td>525</td><td>84</td><td>128</td><td>28</td><td>⋯</td><td>5</td><td>1</td><td>71</td><td>139</td><td>0</td><td>4</td><td>0</td><td>6</td><td>17</td><td>21733615</td></tr>\n",
              "\t<tr><td>whitety01</td><td>2016</td><td>1</td><td>HOU</td><td>AL</td><td> 86</td><td>249</td><td>24</td><td> 54</td><td>16</td><td>⋯</td><td>1</td><td>0</td><td>23</td><td> 65</td><td>1</td><td>2</td><td>0</td><td>2</td><td> 6</td><td>  507500</td></tr>\n",
              "\t<tr><td>whitlch01</td><td>2016</td><td>1</td><td>TBA</td><td>AL</td><td>  5</td><td>  0</td><td> 0</td><td>  0</td><td> 0</td><td>⋯</td><td>0</td><td>0</td><td> 0</td><td>  0</td><td>0</td><td>0</td><td>0</td><td>0</td><td> 0</td><td>  524525</td></tr>\n",
              "\t<tr><td>wietema01</td><td>2016</td><td>1</td><td>BAL</td><td>AL</td><td>124</td><td>423</td><td>48</td><td>103</td><td>17</td><td>⋯</td><td>1</td><td>0</td><td>32</td><td> 85</td><td>1</td><td>5</td><td>1</td><td>3</td><td>10</td><td>15800000</td></tr>\n",
              "\t<tr><td>wilheto01</td><td>2016</td><td>1</td><td>TEX</td><td>AL</td><td> 21</td><td>  0</td><td> 0</td><td>  0</td><td> 0</td><td>⋯</td><td>0</td><td>0</td><td> 0</td><td>  0</td><td>0</td><td>0</td><td>0</td><td>0</td><td> 0</td><td> 3100000</td></tr>\n",
              "\t<tr><td>willima07</td><td>2016</td><td>1</td><td>NYA</td><td>AL</td><td> 12</td><td> 27</td><td> 4</td><td>  8</td><td> 1</td><td>⋯</td><td>0</td><td>0</td><td> 1</td><td> 12</td><td>0</td><td>0</td><td>1</td><td>0</td><td> 0</td><td>  509700</td></tr>\n",
              "\t<tr><td>wilsoal01</td><td>2016</td><td>1</td><td>DET</td><td>AL</td><td> 62</td><td>  0</td><td> 0</td><td>  0</td><td> 0</td><td>⋯</td><td>0</td><td>0</td><td> 0</td><td>  0</td><td>0</td><td>0</td><td>0</td><td>0</td><td> 0</td><td>  522500</td></tr>\n",
              "\t<tr><td>wilsoju10</td><td>2016</td><td>1</td><td>DET</td><td>AL</td><td> 66</td><td>  0</td><td> 0</td><td>  0</td><td> 0</td><td>⋯</td><td>0</td><td>0</td><td> 0</td><td>  0</td><td>0</td><td>0</td><td>0</td><td>0</td><td> 0</td><td> 1525000</td></tr>\n",
              "\t<tr><td>wilsoty01</td><td>2016</td><td>1</td><td>BAL</td><td>AL</td><td> 24</td><td>  0</td><td> 0</td><td>  0</td><td> 0</td><td>⋯</td><td>0</td><td>0</td><td> 0</td><td>  0</td><td>0</td><td>0</td><td>0</td><td>0</td><td> 0</td><td>  511500</td></tr>\n",
              "\t<tr><td>winklda01</td><td>2016</td><td>1</td><td>ATL</td><td>NL</td><td>  3</td><td>  0</td><td> 0</td><td>  0</td><td> 0</td><td>⋯</td><td>0</td><td>0</td><td> 0</td><td>  0</td><td>0</td><td>0</td><td>0</td><td>0</td><td> 0</td><td>  508500</td></tr>\n",
              "\t<tr><td>wislema01</td><td>2016</td><td>1</td><td>ATL</td><td>NL</td><td> 29</td><td> 46</td><td> 2</td><td>  7</td><td> 0</td><td>⋯</td><td>0</td><td>0</td><td> 1</td><td> 21</td><td>0</td><td>0</td><td>5</td><td>1</td><td> 2</td><td>  507500</td></tr>\n",
              "\t<tr><td>wolteto01</td><td>2016</td><td>1</td><td>COL</td><td>NL</td><td> 71</td><td>205</td><td>27</td><td> 53</td><td>15</td><td>⋯</td><td>4</td><td>1</td><td>21</td><td> 53</td><td>2</td><td>0</td><td>4</td><td>0</td><td> 1</td><td>  507500</td></tr>\n",
              "\t<tr><td>wongko01 </td><td>2016</td><td>1</td><td>SLN</td><td>NL</td><td>121</td><td>313</td><td>39</td><td> 75</td><td> 7</td><td>⋯</td><td>7</td><td>0</td><td>34</td><td> 52</td><td>2</td><td>9</td><td>0</td><td>5</td><td> 3</td><td> 1250000</td></tr>\n",
              "\t<tr><td>woodal02 </td><td>2016</td><td>1</td><td>LAN</td><td>NL</td><td> 15</td><td> 16</td><td> 2</td><td>  4</td><td> 0</td><td>⋯</td><td>0</td><td>0</td><td> 1</td><td>  9</td><td>0</td><td>0</td><td>2</td><td>0</td><td> 0</td><td>  530000</td></tr>\n",
              "\t<tr><td>woodbl01 </td><td>2016</td><td>1</td><td>CIN</td><td>NL</td><td> 70</td><td>  2</td><td> 0</td><td>  0</td><td> 0</td><td>⋯</td><td>0</td><td>0</td><td> 0</td><td>  2</td><td>0</td><td>0</td><td>0</td><td>0</td><td> 0</td><td>  600000</td></tr>\n",
              "\t<tr><td>woodtr01 </td><td>2016</td><td>1</td><td>CHN</td><td>NL</td><td> 81</td><td> 11</td><td> 0</td><td>  2</td><td> 0</td><td>⋯</td><td>0</td><td>0</td><td> 1</td><td>  5</td><td>0</td><td>0</td><td>0</td><td>0</td><td> 0</td><td> 6170000</td></tr>\n",
              "\t<tr><td>worleva01</td><td>2016</td><td>1</td><td>BAL</td><td>AL</td><td> 35</td><td>  0</td><td> 0</td><td>  0</td><td> 0</td><td>⋯</td><td>0</td><td>0</td><td> 0</td><td>  0</td><td>0</td><td>0</td><td>0</td><td>0</td><td> 0</td><td> 2600000</td></tr>\n",
              "\t<tr><td>wrighda03</td><td>2016</td><td>1</td><td>NYN</td><td>NL</td><td> 37</td><td>137</td><td>18</td><td> 31</td><td> 8</td><td>⋯</td><td>3</td><td>2</td><td>26</td><td> 55</td><td>0</td><td>0</td><td>0</td><td>0</td><td> 0</td><td>19364801</td></tr>\n",
              "\t<tr><td>wrighmi01</td><td>2016</td><td>1</td><td>BAL</td><td>AL</td><td> 18</td><td>  0</td><td> 0</td><td>  0</td><td> 0</td><td>⋯</td><td>0</td><td>0</td><td> 0</td><td>  0</td><td>0</td><td>0</td><td>0</td><td>0</td><td> 0</td><td>  510500</td></tr>\n",
              "\t<tr><td>wrighst01</td><td>2016</td><td>1</td><td>BOS</td><td>AL</td><td> 25</td><td>  4</td><td> 0</td><td>  0</td><td> 0</td><td>⋯</td><td>0</td><td>0</td><td> 0</td><td>  3</td><td>0</td><td>0</td><td>0</td><td>0</td><td> 0</td><td>  514500</td></tr>\n",
              "\t<tr><td>yateski01</td><td>2016</td><td>1</td><td>NYA</td><td>AL</td><td> 41</td><td>  0</td><td> 0</td><td>  0</td><td> 0</td><td>⋯</td><td>0</td><td>0</td><td> 0</td><td>  0</td><td>0</td><td>0</td><td>0</td><td>0</td><td> 0</td><td>  511900</td></tr>\n",
              "\t<tr><td>yelicch01</td><td>2016</td><td>1</td><td>MIA</td><td>NL</td><td>155</td><td>578</td><td>78</td><td>172</td><td>38</td><td>⋯</td><td>9</td><td>4</td><td>72</td><td>138</td><td>4</td><td>4</td><td>0</td><td>5</td><td>20</td><td> 1000000</td></tr>\n",
              "\t<tr><td>youngch03</td><td>2016</td><td>1</td><td>KCA</td><td>AL</td><td> 34</td><td>  1</td><td> 0</td><td>  0</td><td> 0</td><td>⋯</td><td>0</td><td>0</td><td> 0</td><td>  0</td><td>0</td><td>0</td><td>0</td><td>0</td><td> 0</td><td> 4250000</td></tr>\n",
              "\t<tr><td>youngch04</td><td>2016</td><td>1</td><td>BOS</td><td>AL</td><td> 76</td><td>203</td><td>29</td><td> 56</td><td>18</td><td>⋯</td><td>4</td><td>2</td><td>21</td><td> 50</td><td>0</td><td>3</td><td>0</td><td>0</td><td> 4</td><td> 6500000</td></tr>\n",
              "\t<tr><td>zieglbr01</td><td>2016</td><td>1</td><td>ARI</td><td>NL</td><td> 36</td><td>  0</td><td> 0</td><td>  0</td><td> 0</td><td>⋯</td><td>0</td><td>0</td><td> 0</td><td>  0</td><td>0</td><td>0</td><td>0</td><td>0</td><td> 0</td><td> 5500000</td></tr>\n",
              "\t<tr><td>zimmejo02</td><td>2016</td><td>1</td><td>DET</td><td>AL</td><td> 19</td><td>  4</td><td> 0</td><td>  1</td><td> 0</td><td>⋯</td><td>0</td><td>0</td><td> 0</td><td>  2</td><td>0</td><td>0</td><td>1</td><td>0</td><td> 0</td><td>18000000</td></tr>\n",
              "\t<tr><td>zimmery01</td><td>2016</td><td>1</td><td>WAS</td><td>NL</td><td>115</td><td>427</td><td>60</td><td> 93</td><td>18</td><td>⋯</td><td>4</td><td>1</td><td>29</td><td>104</td><td>1</td><td>5</td><td>0</td><td>6</td><td>12</td><td>14000000</td></tr>\n",
              "\t<tr><td>zobribe01</td><td>2016</td><td>1</td><td>CHN</td><td>NL</td><td>147</td><td>523</td><td>94</td><td>142</td><td>31</td><td>⋯</td><td>6</td><td>4</td><td>96</td><td> 82</td><td>6</td><td>4</td><td>4</td><td>4</td><td>17</td><td>10500000</td></tr>\n",
              "\t<tr><td>zychto01 </td><td>2016</td><td>1</td><td>SEA</td><td>AL</td><td> 12</td><td>  0</td><td> 0</td><td>  0</td><td> 0</td><td>⋯</td><td>0</td><td>0</td><td> 0</td><td>  0</td><td>0</td><td>0</td><td>0</td><td>0</td><td> 0</td><td>  511000</td></tr>\n",
              "</tbody>\n",
              "</table>\n"
            ],
            "text/markdown": "\nA data.frame: 25441 × 23\n\n| playerID &lt;chr&gt; | yearID &lt;int&gt; | stint &lt;int&gt; | teamID &lt;fct&gt; | lgID &lt;fct&gt; | G &lt;int&gt; | AB &lt;int&gt; | R &lt;int&gt; | H &lt;int&gt; | X2B &lt;int&gt; | ⋯ ⋯ | SB &lt;int&gt; | CS &lt;int&gt; | BB &lt;int&gt; | SO &lt;int&gt; | IBB &lt;int&gt; | HBP &lt;int&gt; | SH &lt;int&gt; | SF &lt;int&gt; | GIDP &lt;int&gt; | salary &lt;int&gt; |\n|---|---|---|---|---|---|---|---|---|---|---|---|---|---|---|---|---|---|---|---|---|\n| ackerji01 | 1985 | 1 | TOR | AL |  61 |   0 |  0 |   0 |  0 | ⋯ |  0 |  0 |  0 |   0 | 0 |  0 |  0 |  0 |  0 |  170000 |\n| agostju01 | 1985 | 1 | CHA | AL |  54 |   0 |  0 |   0 |  0 | ⋯ |  0 |  0 |  0 |   0 | 0 |  0 |  0 |  0 |  0 |  147500 |\n| aguaylu01 | 1985 | 1 | PHI | NL |  91 | 165 | 27 |  46 |  7 | ⋯ |  1 |  0 | 22 |  26 | 5 |  6 |  4 |  3 |  7 |  237000 |\n| alexado01 | 1985 | 1 | TOR | AL |  36 |   0 |  0 |   0 |  0 | ⋯ |  0 |  0 |  0 |   0 | 0 |  0 |  0 |  0 |  0 |  875000 |\n| allenne01 | 1985 | 1 | SLN | NL |  23 |   2 |  0 |   0 |  0 | ⋯ |  0 |  0 |  0 |   2 | 0 |  0 |  0 |  0 |  0 |  750000 |\n| almonbi01 | 1985 | 1 | PIT | NL |  88 | 244 | 33 |  66 | 17 | ⋯ | 10 |  7 | 22 |  61 | 0 |  1 |  4 |  3 |  6 |  255000 |\n| anderla02 | 1985 | 1 | PHI | NL |  57 |   4 |  1 |   0 |  0 | ⋯ |  0 |  0 |  0 |   0 | 0 |  0 |  1 |  0 |  0 |  250500 |\n| andujjo01 | 1985 | 1 | SLN | NL |  38 |  94 |  2 |  10 |  2 | ⋯ |  3 |  1 |  5 |  50 | 0 |  0 |  7 |  0 |  2 | 1030000 |\n| armasto01 | 1985 | 1 | BOS | AL | 103 | 385 | 50 | 102 | 17 | ⋯ |  0 |  0 | 18 |  90 | 4 |  2 |  0 |  5 | 14 |  915000 |\n| ashbyal01 | 1985 | 1 | HOU | NL |  65 | 189 | 20 |  53 |  8 | ⋯ |  0 |  0 | 24 |  27 | 2 |  1 |  1 |  1 |  9 |  416667 |\n| atherke01 | 1985 | 1 | OAK | AL |  56 |   0 |  0 |   0 |  0 | ⋯ |  0 |  0 |  0 |   0 | 0 |  0 |  0 |  0 |  0 |  107333 |\n| ayalabe01 | 1985 | 1 | CLE | AL |  46 |  76 | 10 |  19 |  7 | ⋯ |  0 |  0 |  4 |  17 | 1 |  0 |  0 |  1 |  2 |  303333 |\n| backmwa01 | 1985 | 1 | NYN | NL | 145 | 520 | 77 | 142 | 24 | ⋯ | 30 | 12 | 36 |  72 | 1 |  1 | 14 |  3 |  3 |  200000 |\n| bailobo01 | 1985 | 1 | LAN | NL |  74 | 118 |  8 |  29 |  3 | ⋯ |  1 |  0 |  3 |   5 | 0 |  1 |  8 |  0 |  3 |  330000 |\n| baineha01 | 1985 | 1 | CHA | AL | 160 | 640 | 86 | 198 | 29 | ⋯ |  1 |  1 | 42 |  89 | 8 |  1 |  0 | 10 | 23 |  675000 |\n| bakerdu01 | 1985 | 1 | OAK | AL | 111 | 343 | 48 |  92 | 15 | ⋯ |  2 |  1 | 50 |  47 | 0 |  0 |  0 |  3 | 12 |  575000 |\n| balbost01 | 1985 | 1 | KCA | AL | 160 | 600 | 74 | 146 | 28 | ⋯ |  1 |  1 | 52 | 166 | 4 |  5 |  0 |  5 | 14 |  205000 |\n| bandoch01 | 1985 | 1 | CLE | AL |  73 | 173 | 11 |  24 |  4 | ⋯ |  0 |  1 | 22 |  21 | 0 |  0 |  2 |  2 |  6 |  225000 |\n| bannial01 | 1985 | 1 | TEX | AL |  57 | 122 | 17 |  32 |  4 | ⋯ |  8 |  2 | 14 |  17 | 0 |  0 |  1 |  0 |  1 |  350000 |\n| bannifl01 | 1985 | 1 | CHA | AL |  34 |   0 |  0 |   0 |  0 | ⋯ |  0 |  0 |  0 |   0 | 0 |  0 |  0 |  0 |  0 |  811250 |\n| barfije01 | 1985 | 1 | TOR | AL | 155 | 539 | 94 | 156 | 34 | ⋯ | 22 |  8 | 66 | 143 | 5 |  4 |  0 |  3 | 14 |  325000 |\n| barkele01 | 1985 | 1 | ATL | NL |  20 |  17 |  0 |   0 |  0 | ⋯ |  0 |  1 |  0 |   7 | 0 |  0 |  0 |  0 |  0 |  870000 |\n| barrema02 | 1985 | 1 | BOS | AL | 156 | 534 | 59 | 142 | 26 | ⋯ |  7 |  5 | 56 |  50 | 3 |  2 | 12 |  4 | 14 |  272500 |\n| basske01  | 1985 | 1 | HOU | NL | 150 | 539 | 72 | 145 | 27 | ⋯ | 19 |  8 | 31 |  63 | 1 |  6 |  4 |  2 | 10 |  155000 |\n| baylodo01 | 1985 | 1 | NYA | AL | 142 | 477 | 70 | 110 | 24 | ⋯ |  0 |  4 | 52 |  90 | 6 | 24 |  1 | 10 | 10 |  810000 |\n| beattji01 | 1985 | 1 | SEA | AL |  18 |   0 |  0 |   0 |  0 | ⋯ |  0 |  0 |  0 |   0 | 0 |  0 |  0 |  0 |  0 |  470000 |\n| beckwjo01 | 1985 | 1 | KCA | AL |  49 |   0 |  0 |   0 |  0 | ⋯ |  0 |  0 |  0 |   0 | 0 |  0 |  0 |  0 |  0 |  358000 |\n| bedrost01 | 1985 | 1 | ATL | NL |  37 |  64 |  3 |   5 |  0 | ⋯ |  0 |  0 |  1 |  22 | 0 |  0 |  6 |  0 |  0 |  550000 |\n| bellbu01  | 1985 | 2 | CIN | NL |  67 | 247 | 28 |  54 | 15 | ⋯ |  0 |  1 | 34 |  27 | 2 |  0 |  1 |  2 | 10 |  751297 |\n| bellge02  | 1985 | 1 | TOR | AL | 157 | 607 | 87 | 167 | 28 | ⋯ | 21 |  6 | 43 |  90 | 6 |  8 |  0 |  8 |  8 |  335000 |\n| ⋮ | ⋮ | ⋮ | ⋮ | ⋮ | ⋮ | ⋮ | ⋮ | ⋮ | ⋮ | ⋱ | ⋮ | ⋮ | ⋮ | ⋮ | ⋮ | ⋮ | ⋮ | ⋮ | ⋮ | ⋮ |\n| weeksri01 | 2016 | 1 | ARI | NL | 108 | 180 | 29 |  43 |  9 | ⋯ | 5 | 0 | 20 |  54 | 0 | 4 | 0 | 1 |  8 |  1500000 |\n| werthja01 | 2016 | 1 | WAS | NL | 143 | 525 | 84 | 128 | 28 | ⋯ | 5 | 1 | 71 | 139 | 0 | 4 | 0 | 6 | 17 | 21733615 |\n| whitety01 | 2016 | 1 | HOU | AL |  86 | 249 | 24 |  54 | 16 | ⋯ | 1 | 0 | 23 |  65 | 1 | 2 | 0 | 2 |  6 |   507500 |\n| whitlch01 | 2016 | 1 | TBA | AL |   5 |   0 |  0 |   0 |  0 | ⋯ | 0 | 0 |  0 |   0 | 0 | 0 | 0 | 0 |  0 |   524525 |\n| wietema01 | 2016 | 1 | BAL | AL | 124 | 423 | 48 | 103 | 17 | ⋯ | 1 | 0 | 32 |  85 | 1 | 5 | 1 | 3 | 10 | 15800000 |\n| wilheto01 | 2016 | 1 | TEX | AL |  21 |   0 |  0 |   0 |  0 | ⋯ | 0 | 0 |  0 |   0 | 0 | 0 | 0 | 0 |  0 |  3100000 |\n| willima07 | 2016 | 1 | NYA | AL |  12 |  27 |  4 |   8 |  1 | ⋯ | 0 | 0 |  1 |  12 | 0 | 0 | 1 | 0 |  0 |   509700 |\n| wilsoal01 | 2016 | 1 | DET | AL |  62 |   0 |  0 |   0 |  0 | ⋯ | 0 | 0 |  0 |   0 | 0 | 0 | 0 | 0 |  0 |   522500 |\n| wilsoju10 | 2016 | 1 | DET | AL |  66 |   0 |  0 |   0 |  0 | ⋯ | 0 | 0 |  0 |   0 | 0 | 0 | 0 | 0 |  0 |  1525000 |\n| wilsoty01 | 2016 | 1 | BAL | AL |  24 |   0 |  0 |   0 |  0 | ⋯ | 0 | 0 |  0 |   0 | 0 | 0 | 0 | 0 |  0 |   511500 |\n| winklda01 | 2016 | 1 | ATL | NL |   3 |   0 |  0 |   0 |  0 | ⋯ | 0 | 0 |  0 |   0 | 0 | 0 | 0 | 0 |  0 |   508500 |\n| wislema01 | 2016 | 1 | ATL | NL |  29 |  46 |  2 |   7 |  0 | ⋯ | 0 | 0 |  1 |  21 | 0 | 0 | 5 | 1 |  2 |   507500 |\n| wolteto01 | 2016 | 1 | COL | NL |  71 | 205 | 27 |  53 | 15 | ⋯ | 4 | 1 | 21 |  53 | 2 | 0 | 4 | 0 |  1 |   507500 |\n| wongko01  | 2016 | 1 | SLN | NL | 121 | 313 | 39 |  75 |  7 | ⋯ | 7 | 0 | 34 |  52 | 2 | 9 | 0 | 5 |  3 |  1250000 |\n| woodal02  | 2016 | 1 | LAN | NL |  15 |  16 |  2 |   4 |  0 | ⋯ | 0 | 0 |  1 |   9 | 0 | 0 | 2 | 0 |  0 |   530000 |\n| woodbl01  | 2016 | 1 | CIN | NL |  70 |   2 |  0 |   0 |  0 | ⋯ | 0 | 0 |  0 |   2 | 0 | 0 | 0 | 0 |  0 |   600000 |\n| woodtr01  | 2016 | 1 | CHN | NL |  81 |  11 |  0 |   2 |  0 | ⋯ | 0 | 0 |  1 |   5 | 0 | 0 | 0 | 0 |  0 |  6170000 |\n| worleva01 | 2016 | 1 | BAL | AL |  35 |   0 |  0 |   0 |  0 | ⋯ | 0 | 0 |  0 |   0 | 0 | 0 | 0 | 0 |  0 |  2600000 |\n| wrighda03 | 2016 | 1 | NYN | NL |  37 | 137 | 18 |  31 |  8 | ⋯ | 3 | 2 | 26 |  55 | 0 | 0 | 0 | 0 |  0 | 19364801 |\n| wrighmi01 | 2016 | 1 | BAL | AL |  18 |   0 |  0 |   0 |  0 | ⋯ | 0 | 0 |  0 |   0 | 0 | 0 | 0 | 0 |  0 |   510500 |\n| wrighst01 | 2016 | 1 | BOS | AL |  25 |   4 |  0 |   0 |  0 | ⋯ | 0 | 0 |  0 |   3 | 0 | 0 | 0 | 0 |  0 |   514500 |\n| yateski01 | 2016 | 1 | NYA | AL |  41 |   0 |  0 |   0 |  0 | ⋯ | 0 | 0 |  0 |   0 | 0 | 0 | 0 | 0 |  0 |   511900 |\n| yelicch01 | 2016 | 1 | MIA | NL | 155 | 578 | 78 | 172 | 38 | ⋯ | 9 | 4 | 72 | 138 | 4 | 4 | 0 | 5 | 20 |  1000000 |\n| youngch03 | 2016 | 1 | KCA | AL |  34 |   1 |  0 |   0 |  0 | ⋯ | 0 | 0 |  0 |   0 | 0 | 0 | 0 | 0 |  0 |  4250000 |\n| youngch04 | 2016 | 1 | BOS | AL |  76 | 203 | 29 |  56 | 18 | ⋯ | 4 | 2 | 21 |  50 | 0 | 3 | 0 | 0 |  4 |  6500000 |\n| zieglbr01 | 2016 | 1 | ARI | NL |  36 |   0 |  0 |   0 |  0 | ⋯ | 0 | 0 |  0 |   0 | 0 | 0 | 0 | 0 |  0 |  5500000 |\n| zimmejo02 | 2016 | 1 | DET | AL |  19 |   4 |  0 |   1 |  0 | ⋯ | 0 | 0 |  0 |   2 | 0 | 0 | 1 | 0 |  0 | 18000000 |\n| zimmery01 | 2016 | 1 | WAS | NL | 115 | 427 | 60 |  93 | 18 | ⋯ | 4 | 1 | 29 | 104 | 1 | 5 | 0 | 6 | 12 | 14000000 |\n| zobribe01 | 2016 | 1 | CHN | NL | 147 | 523 | 94 | 142 | 31 | ⋯ | 6 | 4 | 96 |  82 | 6 | 4 | 4 | 4 | 17 | 10500000 |\n| zychto01  | 2016 | 1 | SEA | AL |  12 |   0 |  0 |   0 |  0 | ⋯ | 0 | 0 |  0 |   0 | 0 | 0 | 0 | 0 |  0 |   511000 |\n\n",
            "text/latex": "A data.frame: 25441 × 23\n\\begin{tabular}{lllllllllllllllllllll}\n playerID & yearID & stint & teamID & lgID & G & AB & R & H & X2B & ⋯ & SB & CS & BB & SO & IBB & HBP & SH & SF & GIDP & salary\\\\\n <chr> & <int> & <int> & <fct> & <fct> & <int> & <int> & <int> & <int> & <int> & ⋯ & <int> & <int> & <int> & <int> & <int> & <int> & <int> & <int> & <int> & <int>\\\\\n\\hline\n\t ackerji01 & 1985 & 1 & TOR & AL &  61 &   0 &  0 &   0 &  0 & ⋯ &  0 &  0 &  0 &   0 & 0 &  0 &  0 &  0 &  0 &  170000\\\\\n\t agostju01 & 1985 & 1 & CHA & AL &  54 &   0 &  0 &   0 &  0 & ⋯ &  0 &  0 &  0 &   0 & 0 &  0 &  0 &  0 &  0 &  147500\\\\\n\t aguaylu01 & 1985 & 1 & PHI & NL &  91 & 165 & 27 &  46 &  7 & ⋯ &  1 &  0 & 22 &  26 & 5 &  6 &  4 &  3 &  7 &  237000\\\\\n\t alexado01 & 1985 & 1 & TOR & AL &  36 &   0 &  0 &   0 &  0 & ⋯ &  0 &  0 &  0 &   0 & 0 &  0 &  0 &  0 &  0 &  875000\\\\\n\t allenne01 & 1985 & 1 & SLN & NL &  23 &   2 &  0 &   0 &  0 & ⋯ &  0 &  0 &  0 &   2 & 0 &  0 &  0 &  0 &  0 &  750000\\\\\n\t almonbi01 & 1985 & 1 & PIT & NL &  88 & 244 & 33 &  66 & 17 & ⋯ & 10 &  7 & 22 &  61 & 0 &  1 &  4 &  3 &  6 &  255000\\\\\n\t anderla02 & 1985 & 1 & PHI & NL &  57 &   4 &  1 &   0 &  0 & ⋯ &  0 &  0 &  0 &   0 & 0 &  0 &  1 &  0 &  0 &  250500\\\\\n\t andujjo01 & 1985 & 1 & SLN & NL &  38 &  94 &  2 &  10 &  2 & ⋯ &  3 &  1 &  5 &  50 & 0 &  0 &  7 &  0 &  2 & 1030000\\\\\n\t armasto01 & 1985 & 1 & BOS & AL & 103 & 385 & 50 & 102 & 17 & ⋯ &  0 &  0 & 18 &  90 & 4 &  2 &  0 &  5 & 14 &  915000\\\\\n\t ashbyal01 & 1985 & 1 & HOU & NL &  65 & 189 & 20 &  53 &  8 & ⋯ &  0 &  0 & 24 &  27 & 2 &  1 &  1 &  1 &  9 &  416667\\\\\n\t atherke01 & 1985 & 1 & OAK & AL &  56 &   0 &  0 &   0 &  0 & ⋯ &  0 &  0 &  0 &   0 & 0 &  0 &  0 &  0 &  0 &  107333\\\\\n\t ayalabe01 & 1985 & 1 & CLE & AL &  46 &  76 & 10 &  19 &  7 & ⋯ &  0 &  0 &  4 &  17 & 1 &  0 &  0 &  1 &  2 &  303333\\\\\n\t backmwa01 & 1985 & 1 & NYN & NL & 145 & 520 & 77 & 142 & 24 & ⋯ & 30 & 12 & 36 &  72 & 1 &  1 & 14 &  3 &  3 &  200000\\\\\n\t bailobo01 & 1985 & 1 & LAN & NL &  74 & 118 &  8 &  29 &  3 & ⋯ &  1 &  0 &  3 &   5 & 0 &  1 &  8 &  0 &  3 &  330000\\\\\n\t baineha01 & 1985 & 1 & CHA & AL & 160 & 640 & 86 & 198 & 29 & ⋯ &  1 &  1 & 42 &  89 & 8 &  1 &  0 & 10 & 23 &  675000\\\\\n\t bakerdu01 & 1985 & 1 & OAK & AL & 111 & 343 & 48 &  92 & 15 & ⋯ &  2 &  1 & 50 &  47 & 0 &  0 &  0 &  3 & 12 &  575000\\\\\n\t balbost01 & 1985 & 1 & KCA & AL & 160 & 600 & 74 & 146 & 28 & ⋯ &  1 &  1 & 52 & 166 & 4 &  5 &  0 &  5 & 14 &  205000\\\\\n\t bandoch01 & 1985 & 1 & CLE & AL &  73 & 173 & 11 &  24 &  4 & ⋯ &  0 &  1 & 22 &  21 & 0 &  0 &  2 &  2 &  6 &  225000\\\\\n\t bannial01 & 1985 & 1 & TEX & AL &  57 & 122 & 17 &  32 &  4 & ⋯ &  8 &  2 & 14 &  17 & 0 &  0 &  1 &  0 &  1 &  350000\\\\\n\t bannifl01 & 1985 & 1 & CHA & AL &  34 &   0 &  0 &   0 &  0 & ⋯ &  0 &  0 &  0 &   0 & 0 &  0 &  0 &  0 &  0 &  811250\\\\\n\t barfije01 & 1985 & 1 & TOR & AL & 155 & 539 & 94 & 156 & 34 & ⋯ & 22 &  8 & 66 & 143 & 5 &  4 &  0 &  3 & 14 &  325000\\\\\n\t barkele01 & 1985 & 1 & ATL & NL &  20 &  17 &  0 &   0 &  0 & ⋯ &  0 &  1 &  0 &   7 & 0 &  0 &  0 &  0 &  0 &  870000\\\\\n\t barrema02 & 1985 & 1 & BOS & AL & 156 & 534 & 59 & 142 & 26 & ⋯ &  7 &  5 & 56 &  50 & 3 &  2 & 12 &  4 & 14 &  272500\\\\\n\t basske01  & 1985 & 1 & HOU & NL & 150 & 539 & 72 & 145 & 27 & ⋯ & 19 &  8 & 31 &  63 & 1 &  6 &  4 &  2 & 10 &  155000\\\\\n\t baylodo01 & 1985 & 1 & NYA & AL & 142 & 477 & 70 & 110 & 24 & ⋯ &  0 &  4 & 52 &  90 & 6 & 24 &  1 & 10 & 10 &  810000\\\\\n\t beattji01 & 1985 & 1 & SEA & AL &  18 &   0 &  0 &   0 &  0 & ⋯ &  0 &  0 &  0 &   0 & 0 &  0 &  0 &  0 &  0 &  470000\\\\\n\t beckwjo01 & 1985 & 1 & KCA & AL &  49 &   0 &  0 &   0 &  0 & ⋯ &  0 &  0 &  0 &   0 & 0 &  0 &  0 &  0 &  0 &  358000\\\\\n\t bedrost01 & 1985 & 1 & ATL & NL &  37 &  64 &  3 &   5 &  0 & ⋯ &  0 &  0 &  1 &  22 & 0 &  0 &  6 &  0 &  0 &  550000\\\\\n\t bellbu01  & 1985 & 2 & CIN & NL &  67 & 247 & 28 &  54 & 15 & ⋯ &  0 &  1 & 34 &  27 & 2 &  0 &  1 &  2 & 10 &  751297\\\\\n\t bellge02  & 1985 & 1 & TOR & AL & 157 & 607 & 87 & 167 & 28 & ⋯ & 21 &  6 & 43 &  90 & 6 &  8 &  0 &  8 &  8 &  335000\\\\\n\t ⋮ & ⋮ & ⋮ & ⋮ & ⋮ & ⋮ & ⋮ & ⋮ & ⋮ & ⋮ & ⋱ & ⋮ & ⋮ & ⋮ & ⋮ & ⋮ & ⋮ & ⋮ & ⋮ & ⋮ & ⋮\\\\\n\t weeksri01 & 2016 & 1 & ARI & NL & 108 & 180 & 29 &  43 &  9 & ⋯ & 5 & 0 & 20 &  54 & 0 & 4 & 0 & 1 &  8 &  1500000\\\\\n\t werthja01 & 2016 & 1 & WAS & NL & 143 & 525 & 84 & 128 & 28 & ⋯ & 5 & 1 & 71 & 139 & 0 & 4 & 0 & 6 & 17 & 21733615\\\\\n\t whitety01 & 2016 & 1 & HOU & AL &  86 & 249 & 24 &  54 & 16 & ⋯ & 1 & 0 & 23 &  65 & 1 & 2 & 0 & 2 &  6 &   507500\\\\\n\t whitlch01 & 2016 & 1 & TBA & AL &   5 &   0 &  0 &   0 &  0 & ⋯ & 0 & 0 &  0 &   0 & 0 & 0 & 0 & 0 &  0 &   524525\\\\\n\t wietema01 & 2016 & 1 & BAL & AL & 124 & 423 & 48 & 103 & 17 & ⋯ & 1 & 0 & 32 &  85 & 1 & 5 & 1 & 3 & 10 & 15800000\\\\\n\t wilheto01 & 2016 & 1 & TEX & AL &  21 &   0 &  0 &   0 &  0 & ⋯ & 0 & 0 &  0 &   0 & 0 & 0 & 0 & 0 &  0 &  3100000\\\\\n\t willima07 & 2016 & 1 & NYA & AL &  12 &  27 &  4 &   8 &  1 & ⋯ & 0 & 0 &  1 &  12 & 0 & 0 & 1 & 0 &  0 &   509700\\\\\n\t wilsoal01 & 2016 & 1 & DET & AL &  62 &   0 &  0 &   0 &  0 & ⋯ & 0 & 0 &  0 &   0 & 0 & 0 & 0 & 0 &  0 &   522500\\\\\n\t wilsoju10 & 2016 & 1 & DET & AL &  66 &   0 &  0 &   0 &  0 & ⋯ & 0 & 0 &  0 &   0 & 0 & 0 & 0 & 0 &  0 &  1525000\\\\\n\t wilsoty01 & 2016 & 1 & BAL & AL &  24 &   0 &  0 &   0 &  0 & ⋯ & 0 & 0 &  0 &   0 & 0 & 0 & 0 & 0 &  0 &   511500\\\\\n\t winklda01 & 2016 & 1 & ATL & NL &   3 &   0 &  0 &   0 &  0 & ⋯ & 0 & 0 &  0 &   0 & 0 & 0 & 0 & 0 &  0 &   508500\\\\\n\t wislema01 & 2016 & 1 & ATL & NL &  29 &  46 &  2 &   7 &  0 & ⋯ & 0 & 0 &  1 &  21 & 0 & 0 & 5 & 1 &  2 &   507500\\\\\n\t wolteto01 & 2016 & 1 & COL & NL &  71 & 205 & 27 &  53 & 15 & ⋯ & 4 & 1 & 21 &  53 & 2 & 0 & 4 & 0 &  1 &   507500\\\\\n\t wongko01  & 2016 & 1 & SLN & NL & 121 & 313 & 39 &  75 &  7 & ⋯ & 7 & 0 & 34 &  52 & 2 & 9 & 0 & 5 &  3 &  1250000\\\\\n\t woodal02  & 2016 & 1 & LAN & NL &  15 &  16 &  2 &   4 &  0 & ⋯ & 0 & 0 &  1 &   9 & 0 & 0 & 2 & 0 &  0 &   530000\\\\\n\t woodbl01  & 2016 & 1 & CIN & NL &  70 &   2 &  0 &   0 &  0 & ⋯ & 0 & 0 &  0 &   2 & 0 & 0 & 0 & 0 &  0 &   600000\\\\\n\t woodtr01  & 2016 & 1 & CHN & NL &  81 &  11 &  0 &   2 &  0 & ⋯ & 0 & 0 &  1 &   5 & 0 & 0 & 0 & 0 &  0 &  6170000\\\\\n\t worleva01 & 2016 & 1 & BAL & AL &  35 &   0 &  0 &   0 &  0 & ⋯ & 0 & 0 &  0 &   0 & 0 & 0 & 0 & 0 &  0 &  2600000\\\\\n\t wrighda03 & 2016 & 1 & NYN & NL &  37 & 137 & 18 &  31 &  8 & ⋯ & 3 & 2 & 26 &  55 & 0 & 0 & 0 & 0 &  0 & 19364801\\\\\n\t wrighmi01 & 2016 & 1 & BAL & AL &  18 &   0 &  0 &   0 &  0 & ⋯ & 0 & 0 &  0 &   0 & 0 & 0 & 0 & 0 &  0 &   510500\\\\\n\t wrighst01 & 2016 & 1 & BOS & AL &  25 &   4 &  0 &   0 &  0 & ⋯ & 0 & 0 &  0 &   3 & 0 & 0 & 0 & 0 &  0 &   514500\\\\\n\t yateski01 & 2016 & 1 & NYA & AL &  41 &   0 &  0 &   0 &  0 & ⋯ & 0 & 0 &  0 &   0 & 0 & 0 & 0 & 0 &  0 &   511900\\\\\n\t yelicch01 & 2016 & 1 & MIA & NL & 155 & 578 & 78 & 172 & 38 & ⋯ & 9 & 4 & 72 & 138 & 4 & 4 & 0 & 5 & 20 &  1000000\\\\\n\t youngch03 & 2016 & 1 & KCA & AL &  34 &   1 &  0 &   0 &  0 & ⋯ & 0 & 0 &  0 &   0 & 0 & 0 & 0 & 0 &  0 &  4250000\\\\\n\t youngch04 & 2016 & 1 & BOS & AL &  76 & 203 & 29 &  56 & 18 & ⋯ & 4 & 2 & 21 &  50 & 0 & 3 & 0 & 0 &  4 &  6500000\\\\\n\t zieglbr01 & 2016 & 1 & ARI & NL &  36 &   0 &  0 &   0 &  0 & ⋯ & 0 & 0 &  0 &   0 & 0 & 0 & 0 & 0 &  0 &  5500000\\\\\n\t zimmejo02 & 2016 & 1 & DET & AL &  19 &   4 &  0 &   1 &  0 & ⋯ & 0 & 0 &  0 &   2 & 0 & 0 & 1 & 0 &  0 & 18000000\\\\\n\t zimmery01 & 2016 & 1 & WAS & NL & 115 & 427 & 60 &  93 & 18 & ⋯ & 4 & 1 & 29 & 104 & 1 & 5 & 0 & 6 & 12 & 14000000\\\\\n\t zobribe01 & 2016 & 1 & CHN & NL & 147 & 523 & 94 & 142 & 31 & ⋯ & 6 & 4 & 96 &  82 & 6 & 4 & 4 & 4 & 17 & 10500000\\\\\n\t zychto01  & 2016 & 1 & SEA & AL &  12 &   0 &  0 &   0 &  0 & ⋯ & 0 & 0 &  0 &   0 & 0 & 0 & 0 & 0 &  0 &   511000\\\\\n\\end{tabular}\n",
            "text/plain": [
              "      playerID  yearID stint teamID lgID G   AB  R  H   X2B ⋯ SB CS BB SO  IBB\n",
              "1     ackerji01 1985   1     TOR    AL    61   0  0   0  0  ⋯  0  0  0   0 0  \n",
              "2     agostju01 1985   1     CHA    AL    54   0  0   0  0  ⋯  0  0  0   0 0  \n",
              "3     aguaylu01 1985   1     PHI    NL    91 165 27  46  7  ⋯  1  0 22  26 5  \n",
              "4     alexado01 1985   1     TOR    AL    36   0  0   0  0  ⋯  0  0  0   0 0  \n",
              "5     allenne01 1985   1     SLN    NL    23   2  0   0  0  ⋯  0  0  0   2 0  \n",
              "6     almonbi01 1985   1     PIT    NL    88 244 33  66 17  ⋯ 10  7 22  61 0  \n",
              "7     anderla02 1985   1     PHI    NL    57   4  1   0  0  ⋯  0  0  0   0 0  \n",
              "8     andujjo01 1985   1     SLN    NL    38  94  2  10  2  ⋯  3  1  5  50 0  \n",
              "9     armasto01 1985   1     BOS    AL   103 385 50 102 17  ⋯  0  0 18  90 4  \n",
              "10    ashbyal01 1985   1     HOU    NL    65 189 20  53  8  ⋯  0  0 24  27 2  \n",
              "11    atherke01 1985   1     OAK    AL    56   0  0   0  0  ⋯  0  0  0   0 0  \n",
              "12    ayalabe01 1985   1     CLE    AL    46  76 10  19  7  ⋯  0  0  4  17 1  \n",
              "13    backmwa01 1985   1     NYN    NL   145 520 77 142 24  ⋯ 30 12 36  72 1  \n",
              "14    bailobo01 1985   1     LAN    NL    74 118  8  29  3  ⋯  1  0  3   5 0  \n",
              "15    baineha01 1985   1     CHA    AL   160 640 86 198 29  ⋯  1  1 42  89 8  \n",
              "16    bakerdu01 1985   1     OAK    AL   111 343 48  92 15  ⋯  2  1 50  47 0  \n",
              "17    balbost01 1985   1     KCA    AL   160 600 74 146 28  ⋯  1  1 52 166 4  \n",
              "18    bandoch01 1985   1     CLE    AL    73 173 11  24  4  ⋯  0  1 22  21 0  \n",
              "19    bannial01 1985   1     TEX    AL    57 122 17  32  4  ⋯  8  2 14  17 0  \n",
              "20    bannifl01 1985   1     CHA    AL    34   0  0   0  0  ⋯  0  0  0   0 0  \n",
              "21    barfije01 1985   1     TOR    AL   155 539 94 156 34  ⋯ 22  8 66 143 5  \n",
              "22    barkele01 1985   1     ATL    NL    20  17  0   0  0  ⋯  0  1  0   7 0  \n",
              "23    barrema02 1985   1     BOS    AL   156 534 59 142 26  ⋯  7  5 56  50 3  \n",
              "24    basske01  1985   1     HOU    NL   150 539 72 145 27  ⋯ 19  8 31  63 1  \n",
              "25    baylodo01 1985   1     NYA    AL   142 477 70 110 24  ⋯  0  4 52  90 6  \n",
              "26    beattji01 1985   1     SEA    AL    18   0  0   0  0  ⋯  0  0  0   0 0  \n",
              "27    beckwjo01 1985   1     KCA    AL    49   0  0   0  0  ⋯  0  0  0   0 0  \n",
              "28    bedrost01 1985   1     ATL    NL    37  64  3   5  0  ⋯  0  0  1  22 0  \n",
              "29    bellbu01  1985   2     CIN    NL    67 247 28  54 15  ⋯  0  1 34  27 2  \n",
              "30    bellge02  1985   1     TOR    AL   157 607 87 167 28  ⋯ 21  6 43  90 6  \n",
              "⋮     ⋮         ⋮      ⋮     ⋮      ⋮    ⋮   ⋮   ⋮  ⋮   ⋮   ⋱ ⋮  ⋮  ⋮  ⋮   ⋮  \n",
              "25412 weeksri01 2016   1     ARI    NL   108 180 29  43  9  ⋯ 5  0  20  54 0  \n",
              "25413 werthja01 2016   1     WAS    NL   143 525 84 128 28  ⋯ 5  1  71 139 0  \n",
              "25414 whitety01 2016   1     HOU    AL    86 249 24  54 16  ⋯ 1  0  23  65 1  \n",
              "25415 whitlch01 2016   1     TBA    AL     5   0  0   0  0  ⋯ 0  0   0   0 0  \n",
              "25416 wietema01 2016   1     BAL    AL   124 423 48 103 17  ⋯ 1  0  32  85 1  \n",
              "25417 wilheto01 2016   1     TEX    AL    21   0  0   0  0  ⋯ 0  0   0   0 0  \n",
              "25418 willima07 2016   1     NYA    AL    12  27  4   8  1  ⋯ 0  0   1  12 0  \n",
              "25419 wilsoal01 2016   1     DET    AL    62   0  0   0  0  ⋯ 0  0   0   0 0  \n",
              "25420 wilsoju10 2016   1     DET    AL    66   0  0   0  0  ⋯ 0  0   0   0 0  \n",
              "25421 wilsoty01 2016   1     BAL    AL    24   0  0   0  0  ⋯ 0  0   0   0 0  \n",
              "25422 winklda01 2016   1     ATL    NL     3   0  0   0  0  ⋯ 0  0   0   0 0  \n",
              "25423 wislema01 2016   1     ATL    NL    29  46  2   7  0  ⋯ 0  0   1  21 0  \n",
              "25424 wolteto01 2016   1     COL    NL    71 205 27  53 15  ⋯ 4  1  21  53 2  \n",
              "25425 wongko01  2016   1     SLN    NL   121 313 39  75  7  ⋯ 7  0  34  52 2  \n",
              "25426 woodal02  2016   1     LAN    NL    15  16  2   4  0  ⋯ 0  0   1   9 0  \n",
              "25427 woodbl01  2016   1     CIN    NL    70   2  0   0  0  ⋯ 0  0   0   2 0  \n",
              "25428 woodtr01  2016   1     CHN    NL    81  11  0   2  0  ⋯ 0  0   1   5 0  \n",
              "25429 worleva01 2016   1     BAL    AL    35   0  0   0  0  ⋯ 0  0   0   0 0  \n",
              "25430 wrighda03 2016   1     NYN    NL    37 137 18  31  8  ⋯ 3  2  26  55 0  \n",
              "25431 wrighmi01 2016   1     BAL    AL    18   0  0   0  0  ⋯ 0  0   0   0 0  \n",
              "25432 wrighst01 2016   1     BOS    AL    25   4  0   0  0  ⋯ 0  0   0   3 0  \n",
              "25433 yateski01 2016   1     NYA    AL    41   0  0   0  0  ⋯ 0  0   0   0 0  \n",
              "25434 yelicch01 2016   1     MIA    NL   155 578 78 172 38  ⋯ 9  4  72 138 4  \n",
              "25435 youngch03 2016   1     KCA    AL    34   1  0   0  0  ⋯ 0  0   0   0 0  \n",
              "25436 youngch04 2016   1     BOS    AL    76 203 29  56 18  ⋯ 4  2  21  50 0  \n",
              "25437 zieglbr01 2016   1     ARI    NL    36   0  0   0  0  ⋯ 0  0   0   0 0  \n",
              "25438 zimmejo02 2016   1     DET    AL    19   4  0   1  0  ⋯ 0  0   0   2 0  \n",
              "25439 zimmery01 2016   1     WAS    NL   115 427 60  93 18  ⋯ 4  1  29 104 1  \n",
              "25440 zobribe01 2016   1     CHN    NL   147 523 94 142 31  ⋯ 6  4  96  82 6  \n",
              "25441 zychto01  2016   1     SEA    AL    12   0  0   0  0  ⋯ 0  0   0   0 0  \n",
              "      HBP SH SF GIDP salary  \n",
              "1      0   0  0  0    170000 \n",
              "2      0   0  0  0    147500 \n",
              "3      6   4  3  7    237000 \n",
              "4      0   0  0  0    875000 \n",
              "5      0   0  0  0    750000 \n",
              "6      1   4  3  6    255000 \n",
              "7      0   1  0  0    250500 \n",
              "8      0   7  0  2   1030000 \n",
              "9      2   0  5 14    915000 \n",
              "10     1   1  1  9    416667 \n",
              "11     0   0  0  0    107333 \n",
              "12     0   0  1  2    303333 \n",
              "13     1  14  3  3    200000 \n",
              "14     1   8  0  3    330000 \n",
              "15     1   0 10 23    675000 \n",
              "16     0   0  3 12    575000 \n",
              "17     5   0  5 14    205000 \n",
              "18     0   2  2  6    225000 \n",
              "19     0   1  0  1    350000 \n",
              "20     0   0  0  0    811250 \n",
              "21     4   0  3 14    325000 \n",
              "22     0   0  0  0    870000 \n",
              "23     2  12  4 14    272500 \n",
              "24     6   4  2 10    155000 \n",
              "25    24   1 10 10    810000 \n",
              "26     0   0  0  0    470000 \n",
              "27     0   0  0  0    358000 \n",
              "28     0   6  0  0    550000 \n",
              "29     0   1  2 10    751297 \n",
              "30     8   0  8  8    335000 \n",
              "⋮     ⋮   ⋮  ⋮  ⋮    ⋮       \n",
              "25412 4   0  1   8    1500000\n",
              "25413 4   0  6  17   21733615\n",
              "25414 2   0  2   6     507500\n",
              "25415 0   0  0   0     524525\n",
              "25416 5   1  3  10   15800000\n",
              "25417 0   0  0   0    3100000\n",
              "25418 0   1  0   0     509700\n",
              "25419 0   0  0   0     522500\n",
              "25420 0   0  0   0    1525000\n",
              "25421 0   0  0   0     511500\n",
              "25422 0   0  0   0     508500\n",
              "25423 0   5  1   2     507500\n",
              "25424 0   4  0   1     507500\n",
              "25425 9   0  5   3    1250000\n",
              "25426 0   2  0   0     530000\n",
              "25427 0   0  0   0     600000\n",
              "25428 0   0  0   0    6170000\n",
              "25429 0   0  0   0    2600000\n",
              "25430 0   0  0   0   19364801\n",
              "25431 0   0  0   0     510500\n",
              "25432 0   0  0   0     514500\n",
              "25433 0   0  0   0     511900\n",
              "25434 4   0  5  20    1000000\n",
              "25435 0   0  0   0    4250000\n",
              "25436 3   0  0   4    6500000\n",
              "25437 0   0  0   0    5500000\n",
              "25438 0   1  0   0   18000000\n",
              "25439 5   0  6  12   14000000\n",
              "25440 4   4  4  17   10500000\n",
              "25441 0   0  0   0     511000"
            ]
          },
          "metadata": {}
        }
      ],
      "source": [
        "Batting %>%\n",
        "    inner_join(Salaries)\n",
        "\n",
        "# Equivalently:\n",
        "# inner_join(Batting, Salaries)"
      ]
    },
    {
      "cell_type": "markdown",
      "id": "ea9fffdd",
      "metadata": {
        "id": "ea9fffdd"
      },
      "source": [
        "The resulting table has 25,441 rows (note that this is less than the number of rows in each of the original data frames). It has 23 columns — the 22 columns in `Batting` plus the one column in `Salaries` that does not also appear in `Batting`.\n",
        "\n",
        "Notice that the function automatically joined the two data frames by the overlapping columns listed above — this is called a **natural join**. The four overlapping columns form a compound key.\n",
        "\n",
        "Natural joins usually give us what we want, but they don't work well if\n",
        "\n",
        "1. A column in **x** has the same name as a column in **y** but the two columns measure something different or\n",
        "2. A column in **x** measures the same thing as a column in **y** but the two columns have different names. There's an example of case (1) in [Section 20.3.2](https://r4ds.hadley.nz/joins.html#specifying-join-keys) of this week's reading, and you saw an example of case (2) in Monday's lecture.\n",
        "\n",
        "In this case, the natural join works well. To manually set the key (which is not necessary in this example), we can use the `by` argument:"
      ]
    },
    {
      "cell_type": "code",
      "execution_count": null,
      "id": "6a565370",
      "metadata": {
        "id": "6a565370",
        "outputId": "a60d3a0d-a894-4076-d02d-a4861cc5a488",
        "colab": {
          "base_uri": "https://localhost:8080/",
          "height": 1000
        }
      },
      "outputs": [
        {
          "output_type": "display_data",
          "data": {
            "text/html": [
              "<table class=\"dataframe\">\n",
              "<caption>A data.frame: 25441 × 23</caption>\n",
              "<thead>\n",
              "\t<tr><th scope=col>playerID</th><th scope=col>yearID</th><th scope=col>stint</th><th scope=col>teamID</th><th scope=col>lgID</th><th scope=col>G</th><th scope=col>AB</th><th scope=col>R</th><th scope=col>H</th><th scope=col>X2B</th><th scope=col>⋯</th><th scope=col>SB</th><th scope=col>CS</th><th scope=col>BB</th><th scope=col>SO</th><th scope=col>IBB</th><th scope=col>HBP</th><th scope=col>SH</th><th scope=col>SF</th><th scope=col>GIDP</th><th scope=col>salary</th></tr>\n",
              "\t<tr><th scope=col>&lt;chr&gt;</th><th scope=col>&lt;int&gt;</th><th scope=col>&lt;int&gt;</th><th scope=col>&lt;fct&gt;</th><th scope=col>&lt;fct&gt;</th><th scope=col>&lt;int&gt;</th><th scope=col>&lt;int&gt;</th><th scope=col>&lt;int&gt;</th><th scope=col>&lt;int&gt;</th><th scope=col>&lt;int&gt;</th><th scope=col>⋯</th><th scope=col>&lt;int&gt;</th><th scope=col>&lt;int&gt;</th><th scope=col>&lt;int&gt;</th><th scope=col>&lt;int&gt;</th><th scope=col>&lt;int&gt;</th><th scope=col>&lt;int&gt;</th><th scope=col>&lt;int&gt;</th><th scope=col>&lt;int&gt;</th><th scope=col>&lt;int&gt;</th><th scope=col>&lt;int&gt;</th></tr>\n",
              "</thead>\n",
              "<tbody>\n",
              "\t<tr><td>ackerji01</td><td>1985</td><td>1</td><td>TOR</td><td>AL</td><td> 61</td><td>  0</td><td> 0</td><td>  0</td><td> 0</td><td>⋯</td><td> 0</td><td> 0</td><td> 0</td><td>  0</td><td>0</td><td> 0</td><td> 0</td><td> 0</td><td> 0</td><td> 170000</td></tr>\n",
              "\t<tr><td>agostju01</td><td>1985</td><td>1</td><td>CHA</td><td>AL</td><td> 54</td><td>  0</td><td> 0</td><td>  0</td><td> 0</td><td>⋯</td><td> 0</td><td> 0</td><td> 0</td><td>  0</td><td>0</td><td> 0</td><td> 0</td><td> 0</td><td> 0</td><td> 147500</td></tr>\n",
              "\t<tr><td>aguaylu01</td><td>1985</td><td>1</td><td>PHI</td><td>NL</td><td> 91</td><td>165</td><td>27</td><td> 46</td><td> 7</td><td>⋯</td><td> 1</td><td> 0</td><td>22</td><td> 26</td><td>5</td><td> 6</td><td> 4</td><td> 3</td><td> 7</td><td> 237000</td></tr>\n",
              "\t<tr><td>alexado01</td><td>1985</td><td>1</td><td>TOR</td><td>AL</td><td> 36</td><td>  0</td><td> 0</td><td>  0</td><td> 0</td><td>⋯</td><td> 0</td><td> 0</td><td> 0</td><td>  0</td><td>0</td><td> 0</td><td> 0</td><td> 0</td><td> 0</td><td> 875000</td></tr>\n",
              "\t<tr><td>allenne01</td><td>1985</td><td>1</td><td>SLN</td><td>NL</td><td> 23</td><td>  2</td><td> 0</td><td>  0</td><td> 0</td><td>⋯</td><td> 0</td><td> 0</td><td> 0</td><td>  2</td><td>0</td><td> 0</td><td> 0</td><td> 0</td><td> 0</td><td> 750000</td></tr>\n",
              "\t<tr><td>almonbi01</td><td>1985</td><td>1</td><td>PIT</td><td>NL</td><td> 88</td><td>244</td><td>33</td><td> 66</td><td>17</td><td>⋯</td><td>10</td><td> 7</td><td>22</td><td> 61</td><td>0</td><td> 1</td><td> 4</td><td> 3</td><td> 6</td><td> 255000</td></tr>\n",
              "\t<tr><td>anderla02</td><td>1985</td><td>1</td><td>PHI</td><td>NL</td><td> 57</td><td>  4</td><td> 1</td><td>  0</td><td> 0</td><td>⋯</td><td> 0</td><td> 0</td><td> 0</td><td>  0</td><td>0</td><td> 0</td><td> 1</td><td> 0</td><td> 0</td><td> 250500</td></tr>\n",
              "\t<tr><td>andujjo01</td><td>1985</td><td>1</td><td>SLN</td><td>NL</td><td> 38</td><td> 94</td><td> 2</td><td> 10</td><td> 2</td><td>⋯</td><td> 3</td><td> 1</td><td> 5</td><td> 50</td><td>0</td><td> 0</td><td> 7</td><td> 0</td><td> 2</td><td>1030000</td></tr>\n",
              "\t<tr><td>armasto01</td><td>1985</td><td>1</td><td>BOS</td><td>AL</td><td>103</td><td>385</td><td>50</td><td>102</td><td>17</td><td>⋯</td><td> 0</td><td> 0</td><td>18</td><td> 90</td><td>4</td><td> 2</td><td> 0</td><td> 5</td><td>14</td><td> 915000</td></tr>\n",
              "\t<tr><td>ashbyal01</td><td>1985</td><td>1</td><td>HOU</td><td>NL</td><td> 65</td><td>189</td><td>20</td><td> 53</td><td> 8</td><td>⋯</td><td> 0</td><td> 0</td><td>24</td><td> 27</td><td>2</td><td> 1</td><td> 1</td><td> 1</td><td> 9</td><td> 416667</td></tr>\n",
              "\t<tr><td>atherke01</td><td>1985</td><td>1</td><td>OAK</td><td>AL</td><td> 56</td><td>  0</td><td> 0</td><td>  0</td><td> 0</td><td>⋯</td><td> 0</td><td> 0</td><td> 0</td><td>  0</td><td>0</td><td> 0</td><td> 0</td><td> 0</td><td> 0</td><td> 107333</td></tr>\n",
              "\t<tr><td>ayalabe01</td><td>1985</td><td>1</td><td>CLE</td><td>AL</td><td> 46</td><td> 76</td><td>10</td><td> 19</td><td> 7</td><td>⋯</td><td> 0</td><td> 0</td><td> 4</td><td> 17</td><td>1</td><td> 0</td><td> 0</td><td> 1</td><td> 2</td><td> 303333</td></tr>\n",
              "\t<tr><td>backmwa01</td><td>1985</td><td>1</td><td>NYN</td><td>NL</td><td>145</td><td>520</td><td>77</td><td>142</td><td>24</td><td>⋯</td><td>30</td><td>12</td><td>36</td><td> 72</td><td>1</td><td> 1</td><td>14</td><td> 3</td><td> 3</td><td> 200000</td></tr>\n",
              "\t<tr><td>bailobo01</td><td>1985</td><td>1</td><td>LAN</td><td>NL</td><td> 74</td><td>118</td><td> 8</td><td> 29</td><td> 3</td><td>⋯</td><td> 1</td><td> 0</td><td> 3</td><td>  5</td><td>0</td><td> 1</td><td> 8</td><td> 0</td><td> 3</td><td> 330000</td></tr>\n",
              "\t<tr><td>baineha01</td><td>1985</td><td>1</td><td>CHA</td><td>AL</td><td>160</td><td>640</td><td>86</td><td>198</td><td>29</td><td>⋯</td><td> 1</td><td> 1</td><td>42</td><td> 89</td><td>8</td><td> 1</td><td> 0</td><td>10</td><td>23</td><td> 675000</td></tr>\n",
              "\t<tr><td>bakerdu01</td><td>1985</td><td>1</td><td>OAK</td><td>AL</td><td>111</td><td>343</td><td>48</td><td> 92</td><td>15</td><td>⋯</td><td> 2</td><td> 1</td><td>50</td><td> 47</td><td>0</td><td> 0</td><td> 0</td><td> 3</td><td>12</td><td> 575000</td></tr>\n",
              "\t<tr><td>balbost01</td><td>1985</td><td>1</td><td>KCA</td><td>AL</td><td>160</td><td>600</td><td>74</td><td>146</td><td>28</td><td>⋯</td><td> 1</td><td> 1</td><td>52</td><td>166</td><td>4</td><td> 5</td><td> 0</td><td> 5</td><td>14</td><td> 205000</td></tr>\n",
              "\t<tr><td>bandoch01</td><td>1985</td><td>1</td><td>CLE</td><td>AL</td><td> 73</td><td>173</td><td>11</td><td> 24</td><td> 4</td><td>⋯</td><td> 0</td><td> 1</td><td>22</td><td> 21</td><td>0</td><td> 0</td><td> 2</td><td> 2</td><td> 6</td><td> 225000</td></tr>\n",
              "\t<tr><td>bannial01</td><td>1985</td><td>1</td><td>TEX</td><td>AL</td><td> 57</td><td>122</td><td>17</td><td> 32</td><td> 4</td><td>⋯</td><td> 8</td><td> 2</td><td>14</td><td> 17</td><td>0</td><td> 0</td><td> 1</td><td> 0</td><td> 1</td><td> 350000</td></tr>\n",
              "\t<tr><td>bannifl01</td><td>1985</td><td>1</td><td>CHA</td><td>AL</td><td> 34</td><td>  0</td><td> 0</td><td>  0</td><td> 0</td><td>⋯</td><td> 0</td><td> 0</td><td> 0</td><td>  0</td><td>0</td><td> 0</td><td> 0</td><td> 0</td><td> 0</td><td> 811250</td></tr>\n",
              "\t<tr><td>barfije01</td><td>1985</td><td>1</td><td>TOR</td><td>AL</td><td>155</td><td>539</td><td>94</td><td>156</td><td>34</td><td>⋯</td><td>22</td><td> 8</td><td>66</td><td>143</td><td>5</td><td> 4</td><td> 0</td><td> 3</td><td>14</td><td> 325000</td></tr>\n",
              "\t<tr><td>barkele01</td><td>1985</td><td>1</td><td>ATL</td><td>NL</td><td> 20</td><td> 17</td><td> 0</td><td>  0</td><td> 0</td><td>⋯</td><td> 0</td><td> 1</td><td> 0</td><td>  7</td><td>0</td><td> 0</td><td> 0</td><td> 0</td><td> 0</td><td> 870000</td></tr>\n",
              "\t<tr><td>barrema02</td><td>1985</td><td>1</td><td>BOS</td><td>AL</td><td>156</td><td>534</td><td>59</td><td>142</td><td>26</td><td>⋯</td><td> 7</td><td> 5</td><td>56</td><td> 50</td><td>3</td><td> 2</td><td>12</td><td> 4</td><td>14</td><td> 272500</td></tr>\n",
              "\t<tr><td>basske01 </td><td>1985</td><td>1</td><td>HOU</td><td>NL</td><td>150</td><td>539</td><td>72</td><td>145</td><td>27</td><td>⋯</td><td>19</td><td> 8</td><td>31</td><td> 63</td><td>1</td><td> 6</td><td> 4</td><td> 2</td><td>10</td><td> 155000</td></tr>\n",
              "\t<tr><td>baylodo01</td><td>1985</td><td>1</td><td>NYA</td><td>AL</td><td>142</td><td>477</td><td>70</td><td>110</td><td>24</td><td>⋯</td><td> 0</td><td> 4</td><td>52</td><td> 90</td><td>6</td><td>24</td><td> 1</td><td>10</td><td>10</td><td> 810000</td></tr>\n",
              "\t<tr><td>beattji01</td><td>1985</td><td>1</td><td>SEA</td><td>AL</td><td> 18</td><td>  0</td><td> 0</td><td>  0</td><td> 0</td><td>⋯</td><td> 0</td><td> 0</td><td> 0</td><td>  0</td><td>0</td><td> 0</td><td> 0</td><td> 0</td><td> 0</td><td> 470000</td></tr>\n",
              "\t<tr><td>beckwjo01</td><td>1985</td><td>1</td><td>KCA</td><td>AL</td><td> 49</td><td>  0</td><td> 0</td><td>  0</td><td> 0</td><td>⋯</td><td> 0</td><td> 0</td><td> 0</td><td>  0</td><td>0</td><td> 0</td><td> 0</td><td> 0</td><td> 0</td><td> 358000</td></tr>\n",
              "\t<tr><td>bedrost01</td><td>1985</td><td>1</td><td>ATL</td><td>NL</td><td> 37</td><td> 64</td><td> 3</td><td>  5</td><td> 0</td><td>⋯</td><td> 0</td><td> 0</td><td> 1</td><td> 22</td><td>0</td><td> 0</td><td> 6</td><td> 0</td><td> 0</td><td> 550000</td></tr>\n",
              "\t<tr><td>bellbu01 </td><td>1985</td><td>2</td><td>CIN</td><td>NL</td><td> 67</td><td>247</td><td>28</td><td> 54</td><td>15</td><td>⋯</td><td> 0</td><td> 1</td><td>34</td><td> 27</td><td>2</td><td> 0</td><td> 1</td><td> 2</td><td>10</td><td> 751297</td></tr>\n",
              "\t<tr><td>bellge02 </td><td>1985</td><td>1</td><td>TOR</td><td>AL</td><td>157</td><td>607</td><td>87</td><td>167</td><td>28</td><td>⋯</td><td>21</td><td> 6</td><td>43</td><td> 90</td><td>6</td><td> 8</td><td> 0</td><td> 8</td><td> 8</td><td> 335000</td></tr>\n",
              "\t<tr><td>⋮</td><td>⋮</td><td>⋮</td><td>⋮</td><td>⋮</td><td>⋮</td><td>⋮</td><td>⋮</td><td>⋮</td><td>⋮</td><td>⋱</td><td>⋮</td><td>⋮</td><td>⋮</td><td>⋮</td><td>⋮</td><td>⋮</td><td>⋮</td><td>⋮</td><td>⋮</td><td>⋮</td></tr>\n",
              "\t<tr><td>weeksri01</td><td>2016</td><td>1</td><td>ARI</td><td>NL</td><td>108</td><td>180</td><td>29</td><td> 43</td><td> 9</td><td>⋯</td><td>5</td><td>0</td><td>20</td><td> 54</td><td>0</td><td>4</td><td>0</td><td>1</td><td> 8</td><td> 1500000</td></tr>\n",
              "\t<tr><td>werthja01</td><td>2016</td><td>1</td><td>WAS</td><td>NL</td><td>143</td><td>525</td><td>84</td><td>128</td><td>28</td><td>⋯</td><td>5</td><td>1</td><td>71</td><td>139</td><td>0</td><td>4</td><td>0</td><td>6</td><td>17</td><td>21733615</td></tr>\n",
              "\t<tr><td>whitety01</td><td>2016</td><td>1</td><td>HOU</td><td>AL</td><td> 86</td><td>249</td><td>24</td><td> 54</td><td>16</td><td>⋯</td><td>1</td><td>0</td><td>23</td><td> 65</td><td>1</td><td>2</td><td>0</td><td>2</td><td> 6</td><td>  507500</td></tr>\n",
              "\t<tr><td>whitlch01</td><td>2016</td><td>1</td><td>TBA</td><td>AL</td><td>  5</td><td>  0</td><td> 0</td><td>  0</td><td> 0</td><td>⋯</td><td>0</td><td>0</td><td> 0</td><td>  0</td><td>0</td><td>0</td><td>0</td><td>0</td><td> 0</td><td>  524525</td></tr>\n",
              "\t<tr><td>wietema01</td><td>2016</td><td>1</td><td>BAL</td><td>AL</td><td>124</td><td>423</td><td>48</td><td>103</td><td>17</td><td>⋯</td><td>1</td><td>0</td><td>32</td><td> 85</td><td>1</td><td>5</td><td>1</td><td>3</td><td>10</td><td>15800000</td></tr>\n",
              "\t<tr><td>wilheto01</td><td>2016</td><td>1</td><td>TEX</td><td>AL</td><td> 21</td><td>  0</td><td> 0</td><td>  0</td><td> 0</td><td>⋯</td><td>0</td><td>0</td><td> 0</td><td>  0</td><td>0</td><td>0</td><td>0</td><td>0</td><td> 0</td><td> 3100000</td></tr>\n",
              "\t<tr><td>willima07</td><td>2016</td><td>1</td><td>NYA</td><td>AL</td><td> 12</td><td> 27</td><td> 4</td><td>  8</td><td> 1</td><td>⋯</td><td>0</td><td>0</td><td> 1</td><td> 12</td><td>0</td><td>0</td><td>1</td><td>0</td><td> 0</td><td>  509700</td></tr>\n",
              "\t<tr><td>wilsoal01</td><td>2016</td><td>1</td><td>DET</td><td>AL</td><td> 62</td><td>  0</td><td> 0</td><td>  0</td><td> 0</td><td>⋯</td><td>0</td><td>0</td><td> 0</td><td>  0</td><td>0</td><td>0</td><td>0</td><td>0</td><td> 0</td><td>  522500</td></tr>\n",
              "\t<tr><td>wilsoju10</td><td>2016</td><td>1</td><td>DET</td><td>AL</td><td> 66</td><td>  0</td><td> 0</td><td>  0</td><td> 0</td><td>⋯</td><td>0</td><td>0</td><td> 0</td><td>  0</td><td>0</td><td>0</td><td>0</td><td>0</td><td> 0</td><td> 1525000</td></tr>\n",
              "\t<tr><td>wilsoty01</td><td>2016</td><td>1</td><td>BAL</td><td>AL</td><td> 24</td><td>  0</td><td> 0</td><td>  0</td><td> 0</td><td>⋯</td><td>0</td><td>0</td><td> 0</td><td>  0</td><td>0</td><td>0</td><td>0</td><td>0</td><td> 0</td><td>  511500</td></tr>\n",
              "\t<tr><td>winklda01</td><td>2016</td><td>1</td><td>ATL</td><td>NL</td><td>  3</td><td>  0</td><td> 0</td><td>  0</td><td> 0</td><td>⋯</td><td>0</td><td>0</td><td> 0</td><td>  0</td><td>0</td><td>0</td><td>0</td><td>0</td><td> 0</td><td>  508500</td></tr>\n",
              "\t<tr><td>wislema01</td><td>2016</td><td>1</td><td>ATL</td><td>NL</td><td> 29</td><td> 46</td><td> 2</td><td>  7</td><td> 0</td><td>⋯</td><td>0</td><td>0</td><td> 1</td><td> 21</td><td>0</td><td>0</td><td>5</td><td>1</td><td> 2</td><td>  507500</td></tr>\n",
              "\t<tr><td>wolteto01</td><td>2016</td><td>1</td><td>COL</td><td>NL</td><td> 71</td><td>205</td><td>27</td><td> 53</td><td>15</td><td>⋯</td><td>4</td><td>1</td><td>21</td><td> 53</td><td>2</td><td>0</td><td>4</td><td>0</td><td> 1</td><td>  507500</td></tr>\n",
              "\t<tr><td>wongko01 </td><td>2016</td><td>1</td><td>SLN</td><td>NL</td><td>121</td><td>313</td><td>39</td><td> 75</td><td> 7</td><td>⋯</td><td>7</td><td>0</td><td>34</td><td> 52</td><td>2</td><td>9</td><td>0</td><td>5</td><td> 3</td><td> 1250000</td></tr>\n",
              "\t<tr><td>woodal02 </td><td>2016</td><td>1</td><td>LAN</td><td>NL</td><td> 15</td><td> 16</td><td> 2</td><td>  4</td><td> 0</td><td>⋯</td><td>0</td><td>0</td><td> 1</td><td>  9</td><td>0</td><td>0</td><td>2</td><td>0</td><td> 0</td><td>  530000</td></tr>\n",
              "\t<tr><td>woodbl01 </td><td>2016</td><td>1</td><td>CIN</td><td>NL</td><td> 70</td><td>  2</td><td> 0</td><td>  0</td><td> 0</td><td>⋯</td><td>0</td><td>0</td><td> 0</td><td>  2</td><td>0</td><td>0</td><td>0</td><td>0</td><td> 0</td><td>  600000</td></tr>\n",
              "\t<tr><td>woodtr01 </td><td>2016</td><td>1</td><td>CHN</td><td>NL</td><td> 81</td><td> 11</td><td> 0</td><td>  2</td><td> 0</td><td>⋯</td><td>0</td><td>0</td><td> 1</td><td>  5</td><td>0</td><td>0</td><td>0</td><td>0</td><td> 0</td><td> 6170000</td></tr>\n",
              "\t<tr><td>worleva01</td><td>2016</td><td>1</td><td>BAL</td><td>AL</td><td> 35</td><td>  0</td><td> 0</td><td>  0</td><td> 0</td><td>⋯</td><td>0</td><td>0</td><td> 0</td><td>  0</td><td>0</td><td>0</td><td>0</td><td>0</td><td> 0</td><td> 2600000</td></tr>\n",
              "\t<tr><td>wrighda03</td><td>2016</td><td>1</td><td>NYN</td><td>NL</td><td> 37</td><td>137</td><td>18</td><td> 31</td><td> 8</td><td>⋯</td><td>3</td><td>2</td><td>26</td><td> 55</td><td>0</td><td>0</td><td>0</td><td>0</td><td> 0</td><td>19364801</td></tr>\n",
              "\t<tr><td>wrighmi01</td><td>2016</td><td>1</td><td>BAL</td><td>AL</td><td> 18</td><td>  0</td><td> 0</td><td>  0</td><td> 0</td><td>⋯</td><td>0</td><td>0</td><td> 0</td><td>  0</td><td>0</td><td>0</td><td>0</td><td>0</td><td> 0</td><td>  510500</td></tr>\n",
              "\t<tr><td>wrighst01</td><td>2016</td><td>1</td><td>BOS</td><td>AL</td><td> 25</td><td>  4</td><td> 0</td><td>  0</td><td> 0</td><td>⋯</td><td>0</td><td>0</td><td> 0</td><td>  3</td><td>0</td><td>0</td><td>0</td><td>0</td><td> 0</td><td>  514500</td></tr>\n",
              "\t<tr><td>yateski01</td><td>2016</td><td>1</td><td>NYA</td><td>AL</td><td> 41</td><td>  0</td><td> 0</td><td>  0</td><td> 0</td><td>⋯</td><td>0</td><td>0</td><td> 0</td><td>  0</td><td>0</td><td>0</td><td>0</td><td>0</td><td> 0</td><td>  511900</td></tr>\n",
              "\t<tr><td>yelicch01</td><td>2016</td><td>1</td><td>MIA</td><td>NL</td><td>155</td><td>578</td><td>78</td><td>172</td><td>38</td><td>⋯</td><td>9</td><td>4</td><td>72</td><td>138</td><td>4</td><td>4</td><td>0</td><td>5</td><td>20</td><td> 1000000</td></tr>\n",
              "\t<tr><td>youngch03</td><td>2016</td><td>1</td><td>KCA</td><td>AL</td><td> 34</td><td>  1</td><td> 0</td><td>  0</td><td> 0</td><td>⋯</td><td>0</td><td>0</td><td> 0</td><td>  0</td><td>0</td><td>0</td><td>0</td><td>0</td><td> 0</td><td> 4250000</td></tr>\n",
              "\t<tr><td>youngch04</td><td>2016</td><td>1</td><td>BOS</td><td>AL</td><td> 76</td><td>203</td><td>29</td><td> 56</td><td>18</td><td>⋯</td><td>4</td><td>2</td><td>21</td><td> 50</td><td>0</td><td>3</td><td>0</td><td>0</td><td> 4</td><td> 6500000</td></tr>\n",
              "\t<tr><td>zieglbr01</td><td>2016</td><td>1</td><td>ARI</td><td>NL</td><td> 36</td><td>  0</td><td> 0</td><td>  0</td><td> 0</td><td>⋯</td><td>0</td><td>0</td><td> 0</td><td>  0</td><td>0</td><td>0</td><td>0</td><td>0</td><td> 0</td><td> 5500000</td></tr>\n",
              "\t<tr><td>zimmejo02</td><td>2016</td><td>1</td><td>DET</td><td>AL</td><td> 19</td><td>  4</td><td> 0</td><td>  1</td><td> 0</td><td>⋯</td><td>0</td><td>0</td><td> 0</td><td>  2</td><td>0</td><td>0</td><td>1</td><td>0</td><td> 0</td><td>18000000</td></tr>\n",
              "\t<tr><td>zimmery01</td><td>2016</td><td>1</td><td>WAS</td><td>NL</td><td>115</td><td>427</td><td>60</td><td> 93</td><td>18</td><td>⋯</td><td>4</td><td>1</td><td>29</td><td>104</td><td>1</td><td>5</td><td>0</td><td>6</td><td>12</td><td>14000000</td></tr>\n",
              "\t<tr><td>zobribe01</td><td>2016</td><td>1</td><td>CHN</td><td>NL</td><td>147</td><td>523</td><td>94</td><td>142</td><td>31</td><td>⋯</td><td>6</td><td>4</td><td>96</td><td> 82</td><td>6</td><td>4</td><td>4</td><td>4</td><td>17</td><td>10500000</td></tr>\n",
              "\t<tr><td>zychto01 </td><td>2016</td><td>1</td><td>SEA</td><td>AL</td><td> 12</td><td>  0</td><td> 0</td><td>  0</td><td> 0</td><td>⋯</td><td>0</td><td>0</td><td> 0</td><td>  0</td><td>0</td><td>0</td><td>0</td><td>0</td><td> 0</td><td>  511000</td></tr>\n",
              "</tbody>\n",
              "</table>\n"
            ],
            "text/markdown": "\nA data.frame: 25441 × 23\n\n| playerID &lt;chr&gt; | yearID &lt;int&gt; | stint &lt;int&gt; | teamID &lt;fct&gt; | lgID &lt;fct&gt; | G &lt;int&gt; | AB &lt;int&gt; | R &lt;int&gt; | H &lt;int&gt; | X2B &lt;int&gt; | ⋯ ⋯ | SB &lt;int&gt; | CS &lt;int&gt; | BB &lt;int&gt; | SO &lt;int&gt; | IBB &lt;int&gt; | HBP &lt;int&gt; | SH &lt;int&gt; | SF &lt;int&gt; | GIDP &lt;int&gt; | salary &lt;int&gt; |\n|---|---|---|---|---|---|---|---|---|---|---|---|---|---|---|---|---|---|---|---|---|\n| ackerji01 | 1985 | 1 | TOR | AL |  61 |   0 |  0 |   0 |  0 | ⋯ |  0 |  0 |  0 |   0 | 0 |  0 |  0 |  0 |  0 |  170000 |\n| agostju01 | 1985 | 1 | CHA | AL |  54 |   0 |  0 |   0 |  0 | ⋯ |  0 |  0 |  0 |   0 | 0 |  0 |  0 |  0 |  0 |  147500 |\n| aguaylu01 | 1985 | 1 | PHI | NL |  91 | 165 | 27 |  46 |  7 | ⋯ |  1 |  0 | 22 |  26 | 5 |  6 |  4 |  3 |  7 |  237000 |\n| alexado01 | 1985 | 1 | TOR | AL |  36 |   0 |  0 |   0 |  0 | ⋯ |  0 |  0 |  0 |   0 | 0 |  0 |  0 |  0 |  0 |  875000 |\n| allenne01 | 1985 | 1 | SLN | NL |  23 |   2 |  0 |   0 |  0 | ⋯ |  0 |  0 |  0 |   2 | 0 |  0 |  0 |  0 |  0 |  750000 |\n| almonbi01 | 1985 | 1 | PIT | NL |  88 | 244 | 33 |  66 | 17 | ⋯ | 10 |  7 | 22 |  61 | 0 |  1 |  4 |  3 |  6 |  255000 |\n| anderla02 | 1985 | 1 | PHI | NL |  57 |   4 |  1 |   0 |  0 | ⋯ |  0 |  0 |  0 |   0 | 0 |  0 |  1 |  0 |  0 |  250500 |\n| andujjo01 | 1985 | 1 | SLN | NL |  38 |  94 |  2 |  10 |  2 | ⋯ |  3 |  1 |  5 |  50 | 0 |  0 |  7 |  0 |  2 | 1030000 |\n| armasto01 | 1985 | 1 | BOS | AL | 103 | 385 | 50 | 102 | 17 | ⋯ |  0 |  0 | 18 |  90 | 4 |  2 |  0 |  5 | 14 |  915000 |\n| ashbyal01 | 1985 | 1 | HOU | NL |  65 | 189 | 20 |  53 |  8 | ⋯ |  0 |  0 | 24 |  27 | 2 |  1 |  1 |  1 |  9 |  416667 |\n| atherke01 | 1985 | 1 | OAK | AL |  56 |   0 |  0 |   0 |  0 | ⋯ |  0 |  0 |  0 |   0 | 0 |  0 |  0 |  0 |  0 |  107333 |\n| ayalabe01 | 1985 | 1 | CLE | AL |  46 |  76 | 10 |  19 |  7 | ⋯ |  0 |  0 |  4 |  17 | 1 |  0 |  0 |  1 |  2 |  303333 |\n| backmwa01 | 1985 | 1 | NYN | NL | 145 | 520 | 77 | 142 | 24 | ⋯ | 30 | 12 | 36 |  72 | 1 |  1 | 14 |  3 |  3 |  200000 |\n| bailobo01 | 1985 | 1 | LAN | NL |  74 | 118 |  8 |  29 |  3 | ⋯ |  1 |  0 |  3 |   5 | 0 |  1 |  8 |  0 |  3 |  330000 |\n| baineha01 | 1985 | 1 | CHA | AL | 160 | 640 | 86 | 198 | 29 | ⋯ |  1 |  1 | 42 |  89 | 8 |  1 |  0 | 10 | 23 |  675000 |\n| bakerdu01 | 1985 | 1 | OAK | AL | 111 | 343 | 48 |  92 | 15 | ⋯ |  2 |  1 | 50 |  47 | 0 |  0 |  0 |  3 | 12 |  575000 |\n| balbost01 | 1985 | 1 | KCA | AL | 160 | 600 | 74 | 146 | 28 | ⋯ |  1 |  1 | 52 | 166 | 4 |  5 |  0 |  5 | 14 |  205000 |\n| bandoch01 | 1985 | 1 | CLE | AL |  73 | 173 | 11 |  24 |  4 | ⋯ |  0 |  1 | 22 |  21 | 0 |  0 |  2 |  2 |  6 |  225000 |\n| bannial01 | 1985 | 1 | TEX | AL |  57 | 122 | 17 |  32 |  4 | ⋯ |  8 |  2 | 14 |  17 | 0 |  0 |  1 |  0 |  1 |  350000 |\n| bannifl01 | 1985 | 1 | CHA | AL |  34 |   0 |  0 |   0 |  0 | ⋯ |  0 |  0 |  0 |   0 | 0 |  0 |  0 |  0 |  0 |  811250 |\n| barfije01 | 1985 | 1 | TOR | AL | 155 | 539 | 94 | 156 | 34 | ⋯ | 22 |  8 | 66 | 143 | 5 |  4 |  0 |  3 | 14 |  325000 |\n| barkele01 | 1985 | 1 | ATL | NL |  20 |  17 |  0 |   0 |  0 | ⋯ |  0 |  1 |  0 |   7 | 0 |  0 |  0 |  0 |  0 |  870000 |\n| barrema02 | 1985 | 1 | BOS | AL | 156 | 534 | 59 | 142 | 26 | ⋯ |  7 |  5 | 56 |  50 | 3 |  2 | 12 |  4 | 14 |  272500 |\n| basske01  | 1985 | 1 | HOU | NL | 150 | 539 | 72 | 145 | 27 | ⋯ | 19 |  8 | 31 |  63 | 1 |  6 |  4 |  2 | 10 |  155000 |\n| baylodo01 | 1985 | 1 | NYA | AL | 142 | 477 | 70 | 110 | 24 | ⋯ |  0 |  4 | 52 |  90 | 6 | 24 |  1 | 10 | 10 |  810000 |\n| beattji01 | 1985 | 1 | SEA | AL |  18 |   0 |  0 |   0 |  0 | ⋯ |  0 |  0 |  0 |   0 | 0 |  0 |  0 |  0 |  0 |  470000 |\n| beckwjo01 | 1985 | 1 | KCA | AL |  49 |   0 |  0 |   0 |  0 | ⋯ |  0 |  0 |  0 |   0 | 0 |  0 |  0 |  0 |  0 |  358000 |\n| bedrost01 | 1985 | 1 | ATL | NL |  37 |  64 |  3 |   5 |  0 | ⋯ |  0 |  0 |  1 |  22 | 0 |  0 |  6 |  0 |  0 |  550000 |\n| bellbu01  | 1985 | 2 | CIN | NL |  67 | 247 | 28 |  54 | 15 | ⋯ |  0 |  1 | 34 |  27 | 2 |  0 |  1 |  2 | 10 |  751297 |\n| bellge02  | 1985 | 1 | TOR | AL | 157 | 607 | 87 | 167 | 28 | ⋯ | 21 |  6 | 43 |  90 | 6 |  8 |  0 |  8 |  8 |  335000 |\n| ⋮ | ⋮ | ⋮ | ⋮ | ⋮ | ⋮ | ⋮ | ⋮ | ⋮ | ⋮ | ⋱ | ⋮ | ⋮ | ⋮ | ⋮ | ⋮ | ⋮ | ⋮ | ⋮ | ⋮ | ⋮ |\n| weeksri01 | 2016 | 1 | ARI | NL | 108 | 180 | 29 |  43 |  9 | ⋯ | 5 | 0 | 20 |  54 | 0 | 4 | 0 | 1 |  8 |  1500000 |\n| werthja01 | 2016 | 1 | WAS | NL | 143 | 525 | 84 | 128 | 28 | ⋯ | 5 | 1 | 71 | 139 | 0 | 4 | 0 | 6 | 17 | 21733615 |\n| whitety01 | 2016 | 1 | HOU | AL |  86 | 249 | 24 |  54 | 16 | ⋯ | 1 | 0 | 23 |  65 | 1 | 2 | 0 | 2 |  6 |   507500 |\n| whitlch01 | 2016 | 1 | TBA | AL |   5 |   0 |  0 |   0 |  0 | ⋯ | 0 | 0 |  0 |   0 | 0 | 0 | 0 | 0 |  0 |   524525 |\n| wietema01 | 2016 | 1 | BAL | AL | 124 | 423 | 48 | 103 | 17 | ⋯ | 1 | 0 | 32 |  85 | 1 | 5 | 1 | 3 | 10 | 15800000 |\n| wilheto01 | 2016 | 1 | TEX | AL |  21 |   0 |  0 |   0 |  0 | ⋯ | 0 | 0 |  0 |   0 | 0 | 0 | 0 | 0 |  0 |  3100000 |\n| willima07 | 2016 | 1 | NYA | AL |  12 |  27 |  4 |   8 |  1 | ⋯ | 0 | 0 |  1 |  12 | 0 | 0 | 1 | 0 |  0 |   509700 |\n| wilsoal01 | 2016 | 1 | DET | AL |  62 |   0 |  0 |   0 |  0 | ⋯ | 0 | 0 |  0 |   0 | 0 | 0 | 0 | 0 |  0 |   522500 |\n| wilsoju10 | 2016 | 1 | DET | AL |  66 |   0 |  0 |   0 |  0 | ⋯ | 0 | 0 |  0 |   0 | 0 | 0 | 0 | 0 |  0 |  1525000 |\n| wilsoty01 | 2016 | 1 | BAL | AL |  24 |   0 |  0 |   0 |  0 | ⋯ | 0 | 0 |  0 |   0 | 0 | 0 | 0 | 0 |  0 |   511500 |\n| winklda01 | 2016 | 1 | ATL | NL |   3 |   0 |  0 |   0 |  0 | ⋯ | 0 | 0 |  0 |   0 | 0 | 0 | 0 | 0 |  0 |   508500 |\n| wislema01 | 2016 | 1 | ATL | NL |  29 |  46 |  2 |   7 |  0 | ⋯ | 0 | 0 |  1 |  21 | 0 | 0 | 5 | 1 |  2 |   507500 |\n| wolteto01 | 2016 | 1 | COL | NL |  71 | 205 | 27 |  53 | 15 | ⋯ | 4 | 1 | 21 |  53 | 2 | 0 | 4 | 0 |  1 |   507500 |\n| wongko01  | 2016 | 1 | SLN | NL | 121 | 313 | 39 |  75 |  7 | ⋯ | 7 | 0 | 34 |  52 | 2 | 9 | 0 | 5 |  3 |  1250000 |\n| woodal02  | 2016 | 1 | LAN | NL |  15 |  16 |  2 |   4 |  0 | ⋯ | 0 | 0 |  1 |   9 | 0 | 0 | 2 | 0 |  0 |   530000 |\n| woodbl01  | 2016 | 1 | CIN | NL |  70 |   2 |  0 |   0 |  0 | ⋯ | 0 | 0 |  0 |   2 | 0 | 0 | 0 | 0 |  0 |   600000 |\n| woodtr01  | 2016 | 1 | CHN | NL |  81 |  11 |  0 |   2 |  0 | ⋯ | 0 | 0 |  1 |   5 | 0 | 0 | 0 | 0 |  0 |  6170000 |\n| worleva01 | 2016 | 1 | BAL | AL |  35 |   0 |  0 |   0 |  0 | ⋯ | 0 | 0 |  0 |   0 | 0 | 0 | 0 | 0 |  0 |  2600000 |\n| wrighda03 | 2016 | 1 | NYN | NL |  37 | 137 | 18 |  31 |  8 | ⋯ | 3 | 2 | 26 |  55 | 0 | 0 | 0 | 0 |  0 | 19364801 |\n| wrighmi01 | 2016 | 1 | BAL | AL |  18 |   0 |  0 |   0 |  0 | ⋯ | 0 | 0 |  0 |   0 | 0 | 0 | 0 | 0 |  0 |   510500 |\n| wrighst01 | 2016 | 1 | BOS | AL |  25 |   4 |  0 |   0 |  0 | ⋯ | 0 | 0 |  0 |   3 | 0 | 0 | 0 | 0 |  0 |   514500 |\n| yateski01 | 2016 | 1 | NYA | AL |  41 |   0 |  0 |   0 |  0 | ⋯ | 0 | 0 |  0 |   0 | 0 | 0 | 0 | 0 |  0 |   511900 |\n| yelicch01 | 2016 | 1 | MIA | NL | 155 | 578 | 78 | 172 | 38 | ⋯ | 9 | 4 | 72 | 138 | 4 | 4 | 0 | 5 | 20 |  1000000 |\n| youngch03 | 2016 | 1 | KCA | AL |  34 |   1 |  0 |   0 |  0 | ⋯ | 0 | 0 |  0 |   0 | 0 | 0 | 0 | 0 |  0 |  4250000 |\n| youngch04 | 2016 | 1 | BOS | AL |  76 | 203 | 29 |  56 | 18 | ⋯ | 4 | 2 | 21 |  50 | 0 | 3 | 0 | 0 |  4 |  6500000 |\n| zieglbr01 | 2016 | 1 | ARI | NL |  36 |   0 |  0 |   0 |  0 | ⋯ | 0 | 0 |  0 |   0 | 0 | 0 | 0 | 0 |  0 |  5500000 |\n| zimmejo02 | 2016 | 1 | DET | AL |  19 |   4 |  0 |   1 |  0 | ⋯ | 0 | 0 |  0 |   2 | 0 | 0 | 1 | 0 |  0 | 18000000 |\n| zimmery01 | 2016 | 1 | WAS | NL | 115 | 427 | 60 |  93 | 18 | ⋯ | 4 | 1 | 29 | 104 | 1 | 5 | 0 | 6 | 12 | 14000000 |\n| zobribe01 | 2016 | 1 | CHN | NL | 147 | 523 | 94 | 142 | 31 | ⋯ | 6 | 4 | 96 |  82 | 6 | 4 | 4 | 4 | 17 | 10500000 |\n| zychto01  | 2016 | 1 | SEA | AL |  12 |   0 |  0 |   0 |  0 | ⋯ | 0 | 0 |  0 |   0 | 0 | 0 | 0 | 0 |  0 |   511000 |\n\n",
            "text/latex": "A data.frame: 25441 × 23\n\\begin{tabular}{lllllllllllllllllllll}\n playerID & yearID & stint & teamID & lgID & G & AB & R & H & X2B & ⋯ & SB & CS & BB & SO & IBB & HBP & SH & SF & GIDP & salary\\\\\n <chr> & <int> & <int> & <fct> & <fct> & <int> & <int> & <int> & <int> & <int> & ⋯ & <int> & <int> & <int> & <int> & <int> & <int> & <int> & <int> & <int> & <int>\\\\\n\\hline\n\t ackerji01 & 1985 & 1 & TOR & AL &  61 &   0 &  0 &   0 &  0 & ⋯ &  0 &  0 &  0 &   0 & 0 &  0 &  0 &  0 &  0 &  170000\\\\\n\t agostju01 & 1985 & 1 & CHA & AL &  54 &   0 &  0 &   0 &  0 & ⋯ &  0 &  0 &  0 &   0 & 0 &  0 &  0 &  0 &  0 &  147500\\\\\n\t aguaylu01 & 1985 & 1 & PHI & NL &  91 & 165 & 27 &  46 &  7 & ⋯ &  1 &  0 & 22 &  26 & 5 &  6 &  4 &  3 &  7 &  237000\\\\\n\t alexado01 & 1985 & 1 & TOR & AL &  36 &   0 &  0 &   0 &  0 & ⋯ &  0 &  0 &  0 &   0 & 0 &  0 &  0 &  0 &  0 &  875000\\\\\n\t allenne01 & 1985 & 1 & SLN & NL &  23 &   2 &  0 &   0 &  0 & ⋯ &  0 &  0 &  0 &   2 & 0 &  0 &  0 &  0 &  0 &  750000\\\\\n\t almonbi01 & 1985 & 1 & PIT & NL &  88 & 244 & 33 &  66 & 17 & ⋯ & 10 &  7 & 22 &  61 & 0 &  1 &  4 &  3 &  6 &  255000\\\\\n\t anderla02 & 1985 & 1 & PHI & NL &  57 &   4 &  1 &   0 &  0 & ⋯ &  0 &  0 &  0 &   0 & 0 &  0 &  1 &  0 &  0 &  250500\\\\\n\t andujjo01 & 1985 & 1 & SLN & NL &  38 &  94 &  2 &  10 &  2 & ⋯ &  3 &  1 &  5 &  50 & 0 &  0 &  7 &  0 &  2 & 1030000\\\\\n\t armasto01 & 1985 & 1 & BOS & AL & 103 & 385 & 50 & 102 & 17 & ⋯ &  0 &  0 & 18 &  90 & 4 &  2 &  0 &  5 & 14 &  915000\\\\\n\t ashbyal01 & 1985 & 1 & HOU & NL &  65 & 189 & 20 &  53 &  8 & ⋯ &  0 &  0 & 24 &  27 & 2 &  1 &  1 &  1 &  9 &  416667\\\\\n\t atherke01 & 1985 & 1 & OAK & AL &  56 &   0 &  0 &   0 &  0 & ⋯ &  0 &  0 &  0 &   0 & 0 &  0 &  0 &  0 &  0 &  107333\\\\\n\t ayalabe01 & 1985 & 1 & CLE & AL &  46 &  76 & 10 &  19 &  7 & ⋯ &  0 &  0 &  4 &  17 & 1 &  0 &  0 &  1 &  2 &  303333\\\\\n\t backmwa01 & 1985 & 1 & NYN & NL & 145 & 520 & 77 & 142 & 24 & ⋯ & 30 & 12 & 36 &  72 & 1 &  1 & 14 &  3 &  3 &  200000\\\\\n\t bailobo01 & 1985 & 1 & LAN & NL &  74 & 118 &  8 &  29 &  3 & ⋯ &  1 &  0 &  3 &   5 & 0 &  1 &  8 &  0 &  3 &  330000\\\\\n\t baineha01 & 1985 & 1 & CHA & AL & 160 & 640 & 86 & 198 & 29 & ⋯ &  1 &  1 & 42 &  89 & 8 &  1 &  0 & 10 & 23 &  675000\\\\\n\t bakerdu01 & 1985 & 1 & OAK & AL & 111 & 343 & 48 &  92 & 15 & ⋯ &  2 &  1 & 50 &  47 & 0 &  0 &  0 &  3 & 12 &  575000\\\\\n\t balbost01 & 1985 & 1 & KCA & AL & 160 & 600 & 74 & 146 & 28 & ⋯ &  1 &  1 & 52 & 166 & 4 &  5 &  0 &  5 & 14 &  205000\\\\\n\t bandoch01 & 1985 & 1 & CLE & AL &  73 & 173 & 11 &  24 &  4 & ⋯ &  0 &  1 & 22 &  21 & 0 &  0 &  2 &  2 &  6 &  225000\\\\\n\t bannial01 & 1985 & 1 & TEX & AL &  57 & 122 & 17 &  32 &  4 & ⋯ &  8 &  2 & 14 &  17 & 0 &  0 &  1 &  0 &  1 &  350000\\\\\n\t bannifl01 & 1985 & 1 & CHA & AL &  34 &   0 &  0 &   0 &  0 & ⋯ &  0 &  0 &  0 &   0 & 0 &  0 &  0 &  0 &  0 &  811250\\\\\n\t barfije01 & 1985 & 1 & TOR & AL & 155 & 539 & 94 & 156 & 34 & ⋯ & 22 &  8 & 66 & 143 & 5 &  4 &  0 &  3 & 14 &  325000\\\\\n\t barkele01 & 1985 & 1 & ATL & NL &  20 &  17 &  0 &   0 &  0 & ⋯ &  0 &  1 &  0 &   7 & 0 &  0 &  0 &  0 &  0 &  870000\\\\\n\t barrema02 & 1985 & 1 & BOS & AL & 156 & 534 & 59 & 142 & 26 & ⋯ &  7 &  5 & 56 &  50 & 3 &  2 & 12 &  4 & 14 &  272500\\\\\n\t basske01  & 1985 & 1 & HOU & NL & 150 & 539 & 72 & 145 & 27 & ⋯ & 19 &  8 & 31 &  63 & 1 &  6 &  4 &  2 & 10 &  155000\\\\\n\t baylodo01 & 1985 & 1 & NYA & AL & 142 & 477 & 70 & 110 & 24 & ⋯ &  0 &  4 & 52 &  90 & 6 & 24 &  1 & 10 & 10 &  810000\\\\\n\t beattji01 & 1985 & 1 & SEA & AL &  18 &   0 &  0 &   0 &  0 & ⋯ &  0 &  0 &  0 &   0 & 0 &  0 &  0 &  0 &  0 &  470000\\\\\n\t beckwjo01 & 1985 & 1 & KCA & AL &  49 &   0 &  0 &   0 &  0 & ⋯ &  0 &  0 &  0 &   0 & 0 &  0 &  0 &  0 &  0 &  358000\\\\\n\t bedrost01 & 1985 & 1 & ATL & NL &  37 &  64 &  3 &   5 &  0 & ⋯ &  0 &  0 &  1 &  22 & 0 &  0 &  6 &  0 &  0 &  550000\\\\\n\t bellbu01  & 1985 & 2 & CIN & NL &  67 & 247 & 28 &  54 & 15 & ⋯ &  0 &  1 & 34 &  27 & 2 &  0 &  1 &  2 & 10 &  751297\\\\\n\t bellge02  & 1985 & 1 & TOR & AL & 157 & 607 & 87 & 167 & 28 & ⋯ & 21 &  6 & 43 &  90 & 6 &  8 &  0 &  8 &  8 &  335000\\\\\n\t ⋮ & ⋮ & ⋮ & ⋮ & ⋮ & ⋮ & ⋮ & ⋮ & ⋮ & ⋮ & ⋱ & ⋮ & ⋮ & ⋮ & ⋮ & ⋮ & ⋮ & ⋮ & ⋮ & ⋮ & ⋮\\\\\n\t weeksri01 & 2016 & 1 & ARI & NL & 108 & 180 & 29 &  43 &  9 & ⋯ & 5 & 0 & 20 &  54 & 0 & 4 & 0 & 1 &  8 &  1500000\\\\\n\t werthja01 & 2016 & 1 & WAS & NL & 143 & 525 & 84 & 128 & 28 & ⋯ & 5 & 1 & 71 & 139 & 0 & 4 & 0 & 6 & 17 & 21733615\\\\\n\t whitety01 & 2016 & 1 & HOU & AL &  86 & 249 & 24 &  54 & 16 & ⋯ & 1 & 0 & 23 &  65 & 1 & 2 & 0 & 2 &  6 &   507500\\\\\n\t whitlch01 & 2016 & 1 & TBA & AL &   5 &   0 &  0 &   0 &  0 & ⋯ & 0 & 0 &  0 &   0 & 0 & 0 & 0 & 0 &  0 &   524525\\\\\n\t wietema01 & 2016 & 1 & BAL & AL & 124 & 423 & 48 & 103 & 17 & ⋯ & 1 & 0 & 32 &  85 & 1 & 5 & 1 & 3 & 10 & 15800000\\\\\n\t wilheto01 & 2016 & 1 & TEX & AL &  21 &   0 &  0 &   0 &  0 & ⋯ & 0 & 0 &  0 &   0 & 0 & 0 & 0 & 0 &  0 &  3100000\\\\\n\t willima07 & 2016 & 1 & NYA & AL &  12 &  27 &  4 &   8 &  1 & ⋯ & 0 & 0 &  1 &  12 & 0 & 0 & 1 & 0 &  0 &   509700\\\\\n\t wilsoal01 & 2016 & 1 & DET & AL &  62 &   0 &  0 &   0 &  0 & ⋯ & 0 & 0 &  0 &   0 & 0 & 0 & 0 & 0 &  0 &   522500\\\\\n\t wilsoju10 & 2016 & 1 & DET & AL &  66 &   0 &  0 &   0 &  0 & ⋯ & 0 & 0 &  0 &   0 & 0 & 0 & 0 & 0 &  0 &  1525000\\\\\n\t wilsoty01 & 2016 & 1 & BAL & AL &  24 &   0 &  0 &   0 &  0 & ⋯ & 0 & 0 &  0 &   0 & 0 & 0 & 0 & 0 &  0 &   511500\\\\\n\t winklda01 & 2016 & 1 & ATL & NL &   3 &   0 &  0 &   0 &  0 & ⋯ & 0 & 0 &  0 &   0 & 0 & 0 & 0 & 0 &  0 &   508500\\\\\n\t wislema01 & 2016 & 1 & ATL & NL &  29 &  46 &  2 &   7 &  0 & ⋯ & 0 & 0 &  1 &  21 & 0 & 0 & 5 & 1 &  2 &   507500\\\\\n\t wolteto01 & 2016 & 1 & COL & NL &  71 & 205 & 27 &  53 & 15 & ⋯ & 4 & 1 & 21 &  53 & 2 & 0 & 4 & 0 &  1 &   507500\\\\\n\t wongko01  & 2016 & 1 & SLN & NL & 121 & 313 & 39 &  75 &  7 & ⋯ & 7 & 0 & 34 &  52 & 2 & 9 & 0 & 5 &  3 &  1250000\\\\\n\t woodal02  & 2016 & 1 & LAN & NL &  15 &  16 &  2 &   4 &  0 & ⋯ & 0 & 0 &  1 &   9 & 0 & 0 & 2 & 0 &  0 &   530000\\\\\n\t woodbl01  & 2016 & 1 & CIN & NL &  70 &   2 &  0 &   0 &  0 & ⋯ & 0 & 0 &  0 &   2 & 0 & 0 & 0 & 0 &  0 &   600000\\\\\n\t woodtr01  & 2016 & 1 & CHN & NL &  81 &  11 &  0 &   2 &  0 & ⋯ & 0 & 0 &  1 &   5 & 0 & 0 & 0 & 0 &  0 &  6170000\\\\\n\t worleva01 & 2016 & 1 & BAL & AL &  35 &   0 &  0 &   0 &  0 & ⋯ & 0 & 0 &  0 &   0 & 0 & 0 & 0 & 0 &  0 &  2600000\\\\\n\t wrighda03 & 2016 & 1 & NYN & NL &  37 & 137 & 18 &  31 &  8 & ⋯ & 3 & 2 & 26 &  55 & 0 & 0 & 0 & 0 &  0 & 19364801\\\\\n\t wrighmi01 & 2016 & 1 & BAL & AL &  18 &   0 &  0 &   0 &  0 & ⋯ & 0 & 0 &  0 &   0 & 0 & 0 & 0 & 0 &  0 &   510500\\\\\n\t wrighst01 & 2016 & 1 & BOS & AL &  25 &   4 &  0 &   0 &  0 & ⋯ & 0 & 0 &  0 &   3 & 0 & 0 & 0 & 0 &  0 &   514500\\\\\n\t yateski01 & 2016 & 1 & NYA & AL &  41 &   0 &  0 &   0 &  0 & ⋯ & 0 & 0 &  0 &   0 & 0 & 0 & 0 & 0 &  0 &   511900\\\\\n\t yelicch01 & 2016 & 1 & MIA & NL & 155 & 578 & 78 & 172 & 38 & ⋯ & 9 & 4 & 72 & 138 & 4 & 4 & 0 & 5 & 20 &  1000000\\\\\n\t youngch03 & 2016 & 1 & KCA & AL &  34 &   1 &  0 &   0 &  0 & ⋯ & 0 & 0 &  0 &   0 & 0 & 0 & 0 & 0 &  0 &  4250000\\\\\n\t youngch04 & 2016 & 1 & BOS & AL &  76 & 203 & 29 &  56 & 18 & ⋯ & 4 & 2 & 21 &  50 & 0 & 3 & 0 & 0 &  4 &  6500000\\\\\n\t zieglbr01 & 2016 & 1 & ARI & NL &  36 &   0 &  0 &   0 &  0 & ⋯ & 0 & 0 &  0 &   0 & 0 & 0 & 0 & 0 &  0 &  5500000\\\\\n\t zimmejo02 & 2016 & 1 & DET & AL &  19 &   4 &  0 &   1 &  0 & ⋯ & 0 & 0 &  0 &   2 & 0 & 0 & 1 & 0 &  0 & 18000000\\\\\n\t zimmery01 & 2016 & 1 & WAS & NL & 115 & 427 & 60 &  93 & 18 & ⋯ & 4 & 1 & 29 & 104 & 1 & 5 & 0 & 6 & 12 & 14000000\\\\\n\t zobribe01 & 2016 & 1 & CHN & NL & 147 & 523 & 94 & 142 & 31 & ⋯ & 6 & 4 & 96 &  82 & 6 & 4 & 4 & 4 & 17 & 10500000\\\\\n\t zychto01  & 2016 & 1 & SEA & AL &  12 &   0 &  0 &   0 &  0 & ⋯ & 0 & 0 &  0 &   0 & 0 & 0 & 0 & 0 &  0 &   511000\\\\\n\\end{tabular}\n",
            "text/plain": [
              "      playerID  yearID stint teamID lgID G   AB  R  H   X2B ⋯ SB CS BB SO  IBB\n",
              "1     ackerji01 1985   1     TOR    AL    61   0  0   0  0  ⋯  0  0  0   0 0  \n",
              "2     agostju01 1985   1     CHA    AL    54   0  0   0  0  ⋯  0  0  0   0 0  \n",
              "3     aguaylu01 1985   1     PHI    NL    91 165 27  46  7  ⋯  1  0 22  26 5  \n",
              "4     alexado01 1985   1     TOR    AL    36   0  0   0  0  ⋯  0  0  0   0 0  \n",
              "5     allenne01 1985   1     SLN    NL    23   2  0   0  0  ⋯  0  0  0   2 0  \n",
              "6     almonbi01 1985   1     PIT    NL    88 244 33  66 17  ⋯ 10  7 22  61 0  \n",
              "7     anderla02 1985   1     PHI    NL    57   4  1   0  0  ⋯  0  0  0   0 0  \n",
              "8     andujjo01 1985   1     SLN    NL    38  94  2  10  2  ⋯  3  1  5  50 0  \n",
              "9     armasto01 1985   1     BOS    AL   103 385 50 102 17  ⋯  0  0 18  90 4  \n",
              "10    ashbyal01 1985   1     HOU    NL    65 189 20  53  8  ⋯  0  0 24  27 2  \n",
              "11    atherke01 1985   1     OAK    AL    56   0  0   0  0  ⋯  0  0  0   0 0  \n",
              "12    ayalabe01 1985   1     CLE    AL    46  76 10  19  7  ⋯  0  0  4  17 1  \n",
              "13    backmwa01 1985   1     NYN    NL   145 520 77 142 24  ⋯ 30 12 36  72 1  \n",
              "14    bailobo01 1985   1     LAN    NL    74 118  8  29  3  ⋯  1  0  3   5 0  \n",
              "15    baineha01 1985   1     CHA    AL   160 640 86 198 29  ⋯  1  1 42  89 8  \n",
              "16    bakerdu01 1985   1     OAK    AL   111 343 48  92 15  ⋯  2  1 50  47 0  \n",
              "17    balbost01 1985   1     KCA    AL   160 600 74 146 28  ⋯  1  1 52 166 4  \n",
              "18    bandoch01 1985   1     CLE    AL    73 173 11  24  4  ⋯  0  1 22  21 0  \n",
              "19    bannial01 1985   1     TEX    AL    57 122 17  32  4  ⋯  8  2 14  17 0  \n",
              "20    bannifl01 1985   1     CHA    AL    34   0  0   0  0  ⋯  0  0  0   0 0  \n",
              "21    barfije01 1985   1     TOR    AL   155 539 94 156 34  ⋯ 22  8 66 143 5  \n",
              "22    barkele01 1985   1     ATL    NL    20  17  0   0  0  ⋯  0  1  0   7 0  \n",
              "23    barrema02 1985   1     BOS    AL   156 534 59 142 26  ⋯  7  5 56  50 3  \n",
              "24    basske01  1985   1     HOU    NL   150 539 72 145 27  ⋯ 19  8 31  63 1  \n",
              "25    baylodo01 1985   1     NYA    AL   142 477 70 110 24  ⋯  0  4 52  90 6  \n",
              "26    beattji01 1985   1     SEA    AL    18   0  0   0  0  ⋯  0  0  0   0 0  \n",
              "27    beckwjo01 1985   1     KCA    AL    49   0  0   0  0  ⋯  0  0  0   0 0  \n",
              "28    bedrost01 1985   1     ATL    NL    37  64  3   5  0  ⋯  0  0  1  22 0  \n",
              "29    bellbu01  1985   2     CIN    NL    67 247 28  54 15  ⋯  0  1 34  27 2  \n",
              "30    bellge02  1985   1     TOR    AL   157 607 87 167 28  ⋯ 21  6 43  90 6  \n",
              "⋮     ⋮         ⋮      ⋮     ⋮      ⋮    ⋮   ⋮   ⋮  ⋮   ⋮   ⋱ ⋮  ⋮  ⋮  ⋮   ⋮  \n",
              "25412 weeksri01 2016   1     ARI    NL   108 180 29  43  9  ⋯ 5  0  20  54 0  \n",
              "25413 werthja01 2016   1     WAS    NL   143 525 84 128 28  ⋯ 5  1  71 139 0  \n",
              "25414 whitety01 2016   1     HOU    AL    86 249 24  54 16  ⋯ 1  0  23  65 1  \n",
              "25415 whitlch01 2016   1     TBA    AL     5   0  0   0  0  ⋯ 0  0   0   0 0  \n",
              "25416 wietema01 2016   1     BAL    AL   124 423 48 103 17  ⋯ 1  0  32  85 1  \n",
              "25417 wilheto01 2016   1     TEX    AL    21   0  0   0  0  ⋯ 0  0   0   0 0  \n",
              "25418 willima07 2016   1     NYA    AL    12  27  4   8  1  ⋯ 0  0   1  12 0  \n",
              "25419 wilsoal01 2016   1     DET    AL    62   0  0   0  0  ⋯ 0  0   0   0 0  \n",
              "25420 wilsoju10 2016   1     DET    AL    66   0  0   0  0  ⋯ 0  0   0   0 0  \n",
              "25421 wilsoty01 2016   1     BAL    AL    24   0  0   0  0  ⋯ 0  0   0   0 0  \n",
              "25422 winklda01 2016   1     ATL    NL     3   0  0   0  0  ⋯ 0  0   0   0 0  \n",
              "25423 wislema01 2016   1     ATL    NL    29  46  2   7  0  ⋯ 0  0   1  21 0  \n",
              "25424 wolteto01 2016   1     COL    NL    71 205 27  53 15  ⋯ 4  1  21  53 2  \n",
              "25425 wongko01  2016   1     SLN    NL   121 313 39  75  7  ⋯ 7  0  34  52 2  \n",
              "25426 woodal02  2016   1     LAN    NL    15  16  2   4  0  ⋯ 0  0   1   9 0  \n",
              "25427 woodbl01  2016   1     CIN    NL    70   2  0   0  0  ⋯ 0  0   0   2 0  \n",
              "25428 woodtr01  2016   1     CHN    NL    81  11  0   2  0  ⋯ 0  0   1   5 0  \n",
              "25429 worleva01 2016   1     BAL    AL    35   0  0   0  0  ⋯ 0  0   0   0 0  \n",
              "25430 wrighda03 2016   1     NYN    NL    37 137 18  31  8  ⋯ 3  2  26  55 0  \n",
              "25431 wrighmi01 2016   1     BAL    AL    18   0  0   0  0  ⋯ 0  0   0   0 0  \n",
              "25432 wrighst01 2016   1     BOS    AL    25   4  0   0  0  ⋯ 0  0   0   3 0  \n",
              "25433 yateski01 2016   1     NYA    AL    41   0  0   0  0  ⋯ 0  0   0   0 0  \n",
              "25434 yelicch01 2016   1     MIA    NL   155 578 78 172 38  ⋯ 9  4  72 138 4  \n",
              "25435 youngch03 2016   1     KCA    AL    34   1  0   0  0  ⋯ 0  0   0   0 0  \n",
              "25436 youngch04 2016   1     BOS    AL    76 203 29  56 18  ⋯ 4  2  21  50 0  \n",
              "25437 zieglbr01 2016   1     ARI    NL    36   0  0   0  0  ⋯ 0  0   0   0 0  \n",
              "25438 zimmejo02 2016   1     DET    AL    19   4  0   1  0  ⋯ 0  0   0   2 0  \n",
              "25439 zimmery01 2016   1     WAS    NL   115 427 60  93 18  ⋯ 4  1  29 104 1  \n",
              "25440 zobribe01 2016   1     CHN    NL   147 523 94 142 31  ⋯ 6  4  96  82 6  \n",
              "25441 zychto01  2016   1     SEA    AL    12   0  0   0  0  ⋯ 0  0   0   0 0  \n",
              "      HBP SH SF GIDP salary  \n",
              "1      0   0  0  0    170000 \n",
              "2      0   0  0  0    147500 \n",
              "3      6   4  3  7    237000 \n",
              "4      0   0  0  0    875000 \n",
              "5      0   0  0  0    750000 \n",
              "6      1   4  3  6    255000 \n",
              "7      0   1  0  0    250500 \n",
              "8      0   7  0  2   1030000 \n",
              "9      2   0  5 14    915000 \n",
              "10     1   1  1  9    416667 \n",
              "11     0   0  0  0    107333 \n",
              "12     0   0  1  2    303333 \n",
              "13     1  14  3  3    200000 \n",
              "14     1   8  0  3    330000 \n",
              "15     1   0 10 23    675000 \n",
              "16     0   0  3 12    575000 \n",
              "17     5   0  5 14    205000 \n",
              "18     0   2  2  6    225000 \n",
              "19     0   1  0  1    350000 \n",
              "20     0   0  0  0    811250 \n",
              "21     4   0  3 14    325000 \n",
              "22     0   0  0  0    870000 \n",
              "23     2  12  4 14    272500 \n",
              "24     6   4  2 10    155000 \n",
              "25    24   1 10 10    810000 \n",
              "26     0   0  0  0    470000 \n",
              "27     0   0  0  0    358000 \n",
              "28     0   6  0  0    550000 \n",
              "29     0   1  2 10    751297 \n",
              "30     8   0  8  8    335000 \n",
              "⋮     ⋮   ⋮  ⋮  ⋮    ⋮       \n",
              "25412 4   0  1   8    1500000\n",
              "25413 4   0  6  17   21733615\n",
              "25414 2   0  2   6     507500\n",
              "25415 0   0  0   0     524525\n",
              "25416 5   1  3  10   15800000\n",
              "25417 0   0  0   0    3100000\n",
              "25418 0   1  0   0     509700\n",
              "25419 0   0  0   0     522500\n",
              "25420 0   0  0   0    1525000\n",
              "25421 0   0  0   0     511500\n",
              "25422 0   0  0   0     508500\n",
              "25423 0   5  1   2     507500\n",
              "25424 0   4  0   1     507500\n",
              "25425 9   0  5   3    1250000\n",
              "25426 0   2  0   0     530000\n",
              "25427 0   0  0   0     600000\n",
              "25428 0   0  0   0    6170000\n",
              "25429 0   0  0   0    2600000\n",
              "25430 0   0  0   0   19364801\n",
              "25431 0   0  0   0     510500\n",
              "25432 0   0  0   0     514500\n",
              "25433 0   0  0   0     511900\n",
              "25434 4   0  5  20    1000000\n",
              "25435 0   0  0   0    4250000\n",
              "25436 3   0  0   4    6500000\n",
              "25437 0   0  0   0    5500000\n",
              "25438 0   1  0   0   18000000\n",
              "25439 5   0  6  12   14000000\n",
              "25440 4   4  4  17   10500000\n",
              "25441 0   0  0   0     511000"
            ]
          },
          "metadata": {}
        }
      ],
      "source": [
        "Batting %>%\n",
        "    inner_join(Salaries, by = c(\"playerID\", \"yearID\", \"teamID\", \"lgID\"))"
      ]
    },
    {
      "cell_type": "markdown",
      "id": "b33db70f",
      "metadata": {
        "id": "b33db70f"
      },
      "source": [
        "#### Mutating join #2: `left_join()`"
      ]
    },
    {
      "cell_type": "markdown",
      "id": "78422217",
      "metadata": {
        "id": "78422217"
      },
      "source": [
        "**``left_join(x, y)``** preserves all rows in **x**, and it adds the columns of **y** to **x**.\n",
        "\n",
        "If we do a left join of `Baseball` and `Salaries`, we get the following:"
      ]
    },
    {
      "cell_type": "code",
      "execution_count": null,
      "id": "76aebf3f",
      "metadata": {
        "id": "76aebf3f",
        "outputId": "bf983f7e-9bea-4dcb-f625-5111f1430559",
        "colab": {
          "base_uri": "https://localhost:8080/",
          "height": 1000
        }
      },
      "outputs": [
        {
          "output_type": "stream",
          "name": "stderr",
          "text": [
            "\u001b[1m\u001b[22mJoining with `by = join_by(playerID, yearID, teamID, lgID)`\n"
          ]
        },
        {
          "output_type": "display_data",
          "data": {
            "text/html": [
              "<table class=\"dataframe\">\n",
              "<caption>A data.frame: 112184 × 23</caption>\n",
              "<thead>\n",
              "\t<tr><th scope=col>playerID</th><th scope=col>yearID</th><th scope=col>stint</th><th scope=col>teamID</th><th scope=col>lgID</th><th scope=col>G</th><th scope=col>AB</th><th scope=col>R</th><th scope=col>H</th><th scope=col>X2B</th><th scope=col>⋯</th><th scope=col>SB</th><th scope=col>CS</th><th scope=col>BB</th><th scope=col>SO</th><th scope=col>IBB</th><th scope=col>HBP</th><th scope=col>SH</th><th scope=col>SF</th><th scope=col>GIDP</th><th scope=col>salary</th></tr>\n",
              "\t<tr><th scope=col>&lt;chr&gt;</th><th scope=col>&lt;int&gt;</th><th scope=col>&lt;int&gt;</th><th scope=col>&lt;fct&gt;</th><th scope=col>&lt;fct&gt;</th><th scope=col>&lt;int&gt;</th><th scope=col>&lt;int&gt;</th><th scope=col>&lt;int&gt;</th><th scope=col>&lt;int&gt;</th><th scope=col>&lt;int&gt;</th><th scope=col>⋯</th><th scope=col>&lt;int&gt;</th><th scope=col>&lt;int&gt;</th><th scope=col>&lt;int&gt;</th><th scope=col>&lt;int&gt;</th><th scope=col>&lt;int&gt;</th><th scope=col>&lt;int&gt;</th><th scope=col>&lt;int&gt;</th><th scope=col>&lt;int&gt;</th><th scope=col>&lt;int&gt;</th><th scope=col>&lt;int&gt;</th></tr>\n",
              "</thead>\n",
              "<tbody>\n",
              "\t<tr><td>abercda01</td><td>1871</td><td>1</td><td>TRO</td><td>NA</td><td> 1</td><td>  4</td><td> 0</td><td> 0</td><td> 0</td><td>⋯</td><td> 0</td><td>0</td><td> 0</td><td>0</td><td>NA</td><td>NA</td><td>NA</td><td>NA</td><td>0</td><td>NA</td></tr>\n",
              "\t<tr><td>addybo01 </td><td>1871</td><td>1</td><td>RC1</td><td>NA</td><td>25</td><td>118</td><td>30</td><td>32</td><td> 6</td><td>⋯</td><td> 8</td><td>1</td><td> 4</td><td>0</td><td>NA</td><td>NA</td><td>NA</td><td>NA</td><td>0</td><td>NA</td></tr>\n",
              "\t<tr><td>allisar01</td><td>1871</td><td>1</td><td>CL1</td><td>NA</td><td>29</td><td>137</td><td>28</td><td>40</td><td> 4</td><td>⋯</td><td> 3</td><td>1</td><td> 2</td><td>5</td><td>NA</td><td>NA</td><td>NA</td><td>NA</td><td>1</td><td>NA</td></tr>\n",
              "\t<tr><td>allisdo01</td><td>1871</td><td>1</td><td>WS3</td><td>NA</td><td>27</td><td>133</td><td>28</td><td>44</td><td>10</td><td>⋯</td><td> 1</td><td>1</td><td> 0</td><td>2</td><td>NA</td><td>NA</td><td>NA</td><td>NA</td><td>0</td><td>NA</td></tr>\n",
              "\t<tr><td>ansonca01</td><td>1871</td><td>1</td><td>RC1</td><td>NA</td><td>25</td><td>120</td><td>29</td><td>39</td><td>11</td><td>⋯</td><td> 6</td><td>2</td><td> 2</td><td>1</td><td>NA</td><td>NA</td><td>NA</td><td>NA</td><td>0</td><td>NA</td></tr>\n",
              "\t<tr><td>armstbo01</td><td>1871</td><td>1</td><td>FW1</td><td>NA</td><td>12</td><td> 49</td><td> 9</td><td>11</td><td> 2</td><td>⋯</td><td> 0</td><td>1</td><td> 0</td><td>1</td><td>NA</td><td>NA</td><td>NA</td><td>NA</td><td>0</td><td>NA</td></tr>\n",
              "\t<tr><td>barkeal01</td><td>1871</td><td>1</td><td>RC1</td><td>NA</td><td> 1</td><td>  4</td><td> 0</td><td> 1</td><td> 0</td><td>⋯</td><td> 0</td><td>0</td><td> 1</td><td>0</td><td>NA</td><td>NA</td><td>NA</td><td>NA</td><td>0</td><td>NA</td></tr>\n",
              "\t<tr><td>barnero01</td><td>1871</td><td>1</td><td>BS1</td><td>NA</td><td>31</td><td>157</td><td>66</td><td>63</td><td>10</td><td>⋯</td><td>11</td><td>6</td><td>13</td><td>1</td><td>NA</td><td>NA</td><td>NA</td><td>NA</td><td>1</td><td>NA</td></tr>\n",
              "\t<tr><td>barrebi01</td><td>1871</td><td>1</td><td>FW1</td><td>NA</td><td> 1</td><td>  5</td><td> 1</td><td> 1</td><td> 1</td><td>⋯</td><td> 0</td><td>0</td><td> 0</td><td>0</td><td>NA</td><td>NA</td><td>NA</td><td>NA</td><td>0</td><td>NA</td></tr>\n",
              "\t<tr><td>barrofr01</td><td>1871</td><td>1</td><td>BS1</td><td>NA</td><td>18</td><td> 86</td><td>13</td><td>13</td><td> 2</td><td>⋯</td><td> 1</td><td>0</td><td> 0</td><td>0</td><td>NA</td><td>NA</td><td>NA</td><td>NA</td><td>0</td><td>NA</td></tr>\n",
              "\t<tr><td>bassjo01 </td><td>1871</td><td>1</td><td>CL1</td><td>NA</td><td>22</td><td> 89</td><td>18</td><td>27</td><td> 1</td><td>⋯</td><td> 0</td><td>1</td><td> 3</td><td>4</td><td>NA</td><td>NA</td><td>NA</td><td>NA</td><td>0</td><td>NA</td></tr>\n",
              "\t<tr><td>battijo01</td><td>1871</td><td>1</td><td>CL1</td><td>NA</td><td> 1</td><td>  3</td><td> 0</td><td> 0</td><td> 0</td><td>⋯</td><td> 0</td><td>0</td><td> 1</td><td>0</td><td>NA</td><td>NA</td><td>NA</td><td>NA</td><td>0</td><td>NA</td></tr>\n",
              "\t<tr><td>bealsto01</td><td>1871</td><td>1</td><td>WS3</td><td>NA</td><td>10</td><td> 36</td><td> 6</td><td> 7</td><td> 0</td><td>⋯</td><td> 2</td><td>0</td><td> 2</td><td>0</td><td>NA</td><td>NA</td><td>NA</td><td>NA</td><td>2</td><td>NA</td></tr>\n",
              "\t<tr><td>beaveed01</td><td>1871</td><td>1</td><td>TRO</td><td>NA</td><td> 3</td><td> 15</td><td> 7</td><td> 6</td><td> 0</td><td>⋯</td><td> 2</td><td>0</td><td> 0</td><td>0</td><td>NA</td><td>NA</td><td>NA</td><td>NA</td><td>0</td><td>NA</td></tr>\n",
              "\t<tr><td>bechtge01</td><td>1871</td><td>1</td><td>PH1</td><td>NA</td><td>20</td><td> 94</td><td>24</td><td>33</td><td> 9</td><td>⋯</td><td> 4</td><td>0</td><td> 2</td><td>2</td><td>NA</td><td>NA</td><td>NA</td><td>NA</td><td>1</td><td>NA</td></tr>\n",
              "\t<tr><td>bellast01</td><td>1871</td><td>1</td><td>TRO</td><td>NA</td><td>29</td><td>128</td><td>26</td><td>32</td><td> 3</td><td>⋯</td><td> 4</td><td>4</td><td> 9</td><td>2</td><td>NA</td><td>NA</td><td>NA</td><td>NA</td><td>2</td><td>NA</td></tr>\n",
              "\t<tr><td>berkena01</td><td>1871</td><td>1</td><td>PH1</td><td>NA</td><td> 1</td><td>  4</td><td> 0</td><td> 0</td><td> 0</td><td>⋯</td><td> 0</td><td>0</td><td> 0</td><td>3</td><td>NA</td><td>NA</td><td>NA</td><td>NA</td><td>0</td><td>NA</td></tr>\n",
              "\t<tr><td>berryto01</td><td>1871</td><td>1</td><td>PH1</td><td>NA</td><td> 1</td><td>  4</td><td> 0</td><td> 1</td><td> 0</td><td>⋯</td><td> 0</td><td>0</td><td> 0</td><td>0</td><td>NA</td><td>NA</td><td>NA</td><td>NA</td><td>0</td><td>NA</td></tr>\n",
              "\t<tr><td>berthha01</td><td>1871</td><td>1</td><td>WS3</td><td>NA</td><td>17</td><td> 73</td><td>17</td><td>17</td><td> 1</td><td>⋯</td><td> 3</td><td>1</td><td> 4</td><td>2</td><td>NA</td><td>NA</td><td>NA</td><td>NA</td><td>0</td><td>NA</td></tr>\n",
              "\t<tr><td>biermch01</td><td>1871</td><td>1</td><td>FW1</td><td>NA</td><td> 1</td><td>  2</td><td> 0</td><td> 0</td><td> 0</td><td>⋯</td><td> 0</td><td>0</td><td> 1</td><td>0</td><td>NA</td><td>NA</td><td>NA</td><td>NA</td><td>0</td><td>NA</td></tr>\n",
              "\t<tr><td>birdge01 </td><td>1871</td><td>1</td><td>RC1</td><td>NA</td><td>25</td><td>106</td><td>19</td><td>28</td><td> 2</td><td>⋯</td><td> 1</td><td>0</td><td> 3</td><td>2</td><td>NA</td><td>NA</td><td>NA</td><td>NA</td><td>3</td><td>NA</td></tr>\n",
              "\t<tr><td>birdsda01</td><td>1871</td><td>1</td><td>BS1</td><td>NA</td><td>29</td><td>152</td><td>51</td><td>46</td><td> 3</td><td>⋯</td><td> 6</td><td>0</td><td> 4</td><td>4</td><td>NA</td><td>NA</td><td>NA</td><td>NA</td><td>1</td><td>NA</td></tr>\n",
              "\t<tr><td>brainas01</td><td>1871</td><td>1</td><td>WS3</td><td>NA</td><td>30</td><td>134</td><td>24</td><td>30</td><td> 4</td><td>⋯</td><td> 4</td><td>0</td><td> 7</td><td>2</td><td>NA</td><td>NA</td><td>NA</td><td>NA</td><td>1</td><td>NA</td></tr>\n",
              "\t<tr><td>brannmi01</td><td>1871</td><td>1</td><td>CH1</td><td>NA</td><td> 3</td><td> 14</td><td> 2</td><td> 1</td><td> 0</td><td>⋯</td><td> 0</td><td>0</td><td> 0</td><td>0</td><td>NA</td><td>NA</td><td>NA</td><td>NA</td><td>0</td><td>NA</td></tr>\n",
              "\t<tr><td>burrohe01</td><td>1871</td><td>1</td><td>WS3</td><td>NA</td><td>12</td><td> 63</td><td>11</td><td>15</td><td> 2</td><td>⋯</td><td> 0</td><td>0</td><td> 1</td><td>1</td><td>NA</td><td>NA</td><td>NA</td><td>NA</td><td>0</td><td>NA</td></tr>\n",
              "\t<tr><td>careyto01</td><td>1871</td><td>1</td><td>FW1</td><td>NA</td><td>19</td><td> 87</td><td>16</td><td>20</td><td> 2</td><td>⋯</td><td> 5</td><td>0</td><td> 2</td><td>1</td><td>NA</td><td>NA</td><td>NA</td><td>NA</td><td>0</td><td>NA</td></tr>\n",
              "\t<tr><td>carleji01</td><td>1871</td><td>1</td><td>CL1</td><td>NA</td><td>29</td><td>127</td><td>31</td><td>32</td><td> 8</td><td>⋯</td><td> 2</td><td>1</td><td> 8</td><td>3</td><td>NA</td><td>NA</td><td>NA</td><td>NA</td><td>3</td><td>NA</td></tr>\n",
              "\t<tr><td>conefr01 </td><td>1871</td><td>1</td><td>BS1</td><td>NA</td><td>19</td><td> 77</td><td>17</td><td>20</td><td> 3</td><td>⋯</td><td>12</td><td>1</td><td> 8</td><td>2</td><td>NA</td><td>NA</td><td>NA</td><td>NA</td><td>1</td><td>NA</td></tr>\n",
              "\t<tr><td>connone01</td><td>1871</td><td>1</td><td>TRO</td><td>NA</td><td> 7</td><td> 33</td><td> 6</td><td> 7</td><td> 0</td><td>⋯</td><td> 0</td><td>0</td><td> 0</td><td>0</td><td>NA</td><td>NA</td><td>NA</td><td>NA</td><td>0</td><td>NA</td></tr>\n",
              "\t<tr><td>cravebi01</td><td>1871</td><td>1</td><td>TRO</td><td>NA</td><td>27</td><td>118</td><td>26</td><td>38</td><td> 8</td><td>⋯</td><td> 6</td><td>3</td><td> 3</td><td>0</td><td>NA</td><td>NA</td><td>NA</td><td>NA</td><td>3</td><td>NA</td></tr>\n",
              "\t<tr><td>⋮</td><td>⋮</td><td>⋮</td><td>⋮</td><td>⋮</td><td>⋮</td><td>⋮</td><td>⋮</td><td>⋮</td><td>⋮</td><td>⋱</td><td>⋮</td><td>⋮</td><td>⋮</td><td>⋮</td><td>⋮</td><td>⋮</td><td>⋮</td><td>⋮</td><td>⋮</td><td>⋮</td></tr>\n",
              "\t<tr><td>woodrbr01</td><td>2022</td><td>1</td><td>MIL</td><td>NL</td><td> 27</td><td>  0</td><td> 0</td><td>  0</td><td> 0</td><td>⋯</td><td> 0</td><td>0</td><td> 0</td><td>  0</td><td>0</td><td>0</td><td>0</td><td>0</td><td>0</td><td>NA</td></tr>\n",
              "\t<tr><td>woodssi01</td><td>2022</td><td>1</td><td>MIN</td><td>AL</td><td>  1</td><td>  0</td><td> 0</td><td>  0</td><td> 0</td><td>⋯</td><td> 0</td><td>0</td><td> 0</td><td>  0</td><td>0</td><td>0</td><td>0</td><td>0</td><td>0</td><td>NA</td></tr>\n",
              "\t<tr><td>woodswi01</td><td>2022</td><td>1</td><td>ATL</td><td>NL</td><td>  2</td><td>  0</td><td> 0</td><td>  0</td><td> 0</td><td>⋯</td><td> 0</td><td>0</td><td> 0</td><td>  0</td><td>0</td><td>0</td><td>0</td><td>0</td><td>0</td><td>NA</td></tr>\n",
              "\t<tr><td>wrighky01</td><td>2022</td><td>1</td><td>ATL</td><td>NL</td><td> 30</td><td>  0</td><td> 0</td><td>  0</td><td> 0</td><td>⋯</td><td> 0</td><td>0</td><td> 0</td><td>  0</td><td>0</td><td>0</td><td>0</td><td>0</td><td>0</td><td>NA</td></tr>\n",
              "\t<tr><td>wynnsau01</td><td>2022</td><td>1</td><td>SFN</td><td>NL</td><td> 66</td><td>162</td><td>14</td><td> 42</td><td> 7</td><td>⋯</td><td> 0</td><td>0</td><td>10</td><td> 38</td><td>0</td><td>3</td><td>1</td><td>1</td><td>9</td><td>NA</td></tr>\n",
              "\t<tr><td>yacabji01</td><td>2022</td><td>1</td><td>MIA</td><td>NL</td><td>  9</td><td>  0</td><td> 0</td><td>  0</td><td> 0</td><td>⋯</td><td> 0</td><td>0</td><td> 0</td><td>  0</td><td>0</td><td>0</td><td>0</td><td>0</td><td>0</td><td>NA</td></tr>\n",
              "\t<tr><td>yacabji01</td><td>2022</td><td>2</td><td>TBA</td><td>AL</td><td>  5</td><td>  0</td><td> 0</td><td>  0</td><td> 0</td><td>⋯</td><td> 0</td><td>0</td><td> 0</td><td>  0</td><td>0</td><td>0</td><td>0</td><td>0</td><td>0</td><td>NA</td></tr>\n",
              "\t<tr><td>yajurmi01</td><td>2022</td><td>1</td><td>PIT</td><td>NL</td><td> 12</td><td>  0</td><td> 0</td><td>  0</td><td> 0</td><td>⋯</td><td> 0</td><td>0</td><td> 0</td><td>  0</td><td>0</td><td>0</td><td>0</td><td>0</td><td>0</td><td>NA</td></tr>\n",
              "\t<tr><td>yarbrry01</td><td>2022</td><td>1</td><td>TBA</td><td>AL</td><td> 20</td><td>  0</td><td> 0</td><td>  0</td><td> 0</td><td>⋯</td><td> 0</td><td>0</td><td> 0</td><td>  0</td><td>0</td><td>0</td><td>0</td><td>0</td><td>0</td><td>NA</td></tr>\n",
              "\t<tr><td>yastrmi01</td><td>2022</td><td>1</td><td>SFN</td><td>NL</td><td>148</td><td>485</td><td>73</td><td>104</td><td>31</td><td>⋯</td><td> 5</td><td>1</td><td>61</td><td>141</td><td>0</td><td>5</td><td>1</td><td>6</td><td>3</td><td>NA</td></tr>\n",
              "\t<tr><td>yateski01</td><td>2022</td><td>1</td><td>ATL</td><td>NL</td><td>  9</td><td>  0</td><td> 0</td><td>  0</td><td> 0</td><td>⋯</td><td> 0</td><td>0</td><td> 0</td><td>  0</td><td>0</td><td>0</td><td>0</td><td>0</td><td>0</td><td>NA</td></tr>\n",
              "\t<tr><td>yelicch01</td><td>2022</td><td>1</td><td>MIL</td><td>NL</td><td>154</td><td>575</td><td>99</td><td>145</td><td>25</td><td>⋯</td><td>19</td><td>3</td><td>88</td><td>162</td><td>5</td><td>5</td><td>1</td><td>2</td><td>9</td><td>NA</td></tr>\n",
              "\t<tr><td>yepezju01</td><td>2022</td><td>1</td><td>SLN</td><td>NL</td><td> 76</td><td>253</td><td>27</td><td> 64</td><td>13</td><td>⋯</td><td> 0</td><td>0</td><td>16</td><td> 61</td><td>0</td><td>1</td><td>0</td><td>4</td><td>6</td><td>NA</td></tr>\n",
              "\t<tr><td>ynoahu01 </td><td>2022</td><td>1</td><td>ATL</td><td>NL</td><td>  2</td><td>  0</td><td> 0</td><td>  0</td><td> 0</td><td>⋯</td><td> 0</td><td>0</td><td> 0</td><td>  0</td><td>0</td><td>0</td><td>0</td><td>0</td><td>0</td><td>NA</td></tr>\n",
              "\t<tr><td>youngal01</td><td>2022</td><td>1</td><td>CLE</td><td>AL</td><td>  1</td><td>  0</td><td> 0</td><td>  0</td><td> 0</td><td>⋯</td><td> 0</td><td>0</td><td> 0</td><td>  0</td><td>0</td><td>0</td><td>0</td><td>0</td><td>0</td><td>NA</td></tr>\n",
              "\t<tr><td>youngal01</td><td>2022</td><td>2</td><td>SFN</td><td>NL</td><td> 24</td><td>  0</td><td> 0</td><td>  0</td><td> 0</td><td>⋯</td><td> 0</td><td>0</td><td> 0</td><td>  0</td><td>0</td><td>0</td><td>0</td><td>0</td><td>0</td><td>NA</td></tr>\n",
              "\t<tr><td>youngda02</td><td>2022</td><td>1</td><td>SEA</td><td>AL</td><td>  2</td><td>  0</td><td> 0</td><td>  0</td><td> 0</td><td>⋯</td><td> 0</td><td>0</td><td> 0</td><td>  0</td><td>0</td><td>0</td><td>0</td><td>0</td><td>0</td><td>NA</td></tr>\n",
              "\t<tr><td>youngda02</td><td>2022</td><td>2</td><td>ATL</td><td>NL</td><td>  1</td><td>  0</td><td> 0</td><td>  0</td><td> 0</td><td>⋯</td><td> 0</td><td>0</td><td> 0</td><td>  0</td><td>0</td><td>0</td><td>0</td><td>0</td><td>0</td><td>NA</td></tr>\n",
              "\t<tr><td>youngja02</td><td>2022</td><td>1</td><td>CHN</td><td>NL</td><td>  6</td><td> 19</td><td> 2</td><td>  5</td><td> 2</td><td>⋯</td><td> 1</td><td>0</td><td> 3</td><td>  7</td><td>0</td><td>0</td><td>0</td><td>0</td><td>0</td><td>NA</td></tr>\n",
              "\t<tr><td>zabalan01</td><td>2022</td><td>1</td><td>MIA</td><td>NL</td><td>  2</td><td>  0</td><td> 0</td><td>  0</td><td> 0</td><td>⋯</td><td> 0</td><td>0</td><td> 0</td><td>  0</td><td>0</td><td>0</td><td>0</td><td>0</td><td>0</td><td>NA</td></tr>\n",
              "\t<tr><td>zastrro01</td><td>2022</td><td>1</td><td>NYN</td><td>NL</td><td>  1</td><td>  0</td><td> 0</td><td>  0</td><td> 0</td><td>⋯</td><td> 0</td><td>0</td><td> 0</td><td>  0</td><td>0</td><td>0</td><td>0</td><td>0</td><td>0</td><td>NA</td></tr>\n",
              "\t<tr><td>zastrro01</td><td>2022</td><td>2</td><td>LAA</td><td>AL</td><td>  5</td><td>  0</td><td> 0</td><td>  0</td><td> 0</td><td>⋯</td><td> 0</td><td>0</td><td> 0</td><td>  0</td><td>0</td><td>0</td><td>0</td><td>0</td><td>0</td><td>NA</td></tr>\n",
              "\t<tr><td>zavalse01</td><td>2022</td><td>1</td><td>CHA</td><td>AL</td><td> 61</td><td>178</td><td>22</td><td> 48</td><td>14</td><td>⋯</td><td> 0</td><td>0</td><td>19</td><td> 64</td><td>0</td><td>3</td><td>3</td><td>2</td><td>1</td><td>NA</td></tr>\n",
              "\t<tr><td>zerpaan01</td><td>2022</td><td>1</td><td>KCA</td><td>AL</td><td>  3</td><td>  0</td><td> 0</td><td>  0</td><td> 0</td><td>⋯</td><td> 0</td><td>0</td><td> 0</td><td>  0</td><td>0</td><td>0</td><td>0</td><td>0</td><td>0</td><td>NA</td></tr>\n",
              "\t<tr><td>zeuchtj01</td><td>2022</td><td>1</td><td>CIN</td><td>NL</td><td>  3</td><td>  0</td><td> 0</td><td>  0</td><td> 0</td><td>⋯</td><td> 0</td><td>0</td><td> 0</td><td>  0</td><td>0</td><td>0</td><td>0</td><td>0</td><td>0</td><td>NA</td></tr>\n",
              "\t<tr><td>zimmebr01</td><td>2022</td><td>1</td><td>TOR</td><td>AL</td><td> 77</td><td> 76</td><td>11</td><td>  8</td><td> 4</td><td>⋯</td><td> 2</td><td>1</td><td> 5</td><td> 33</td><td>0</td><td>5</td><td>1</td><td>0</td><td>0</td><td>NA</td></tr>\n",
              "\t<tr><td>zimmebr01</td><td>2022</td><td>2</td><td>PHI</td><td>NL</td><td>  9</td><td> 16</td><td> 4</td><td>  4</td><td> 1</td><td>⋯</td><td> 0</td><td>0</td><td> 0</td><td>  4</td><td>0</td><td>0</td><td>0</td><td>0</td><td>0</td><td>NA</td></tr>\n",
              "\t<tr><td>zimmebr01</td><td>2022</td><td>3</td><td>TOR</td><td>AL</td><td> 23</td><td> 13</td><td> 3</td><td>  1</td><td> 0</td><td>⋯</td><td> 1</td><td>1</td><td> 0</td><td>  8</td><td>0</td><td>1</td><td>0</td><td>0</td><td>0</td><td>NA</td></tr>\n",
              "\t<tr><td>zimmebr02</td><td>2022</td><td>1</td><td>BAL</td><td>AL</td><td> 15</td><td>  0</td><td> 0</td><td>  0</td><td> 0</td><td>⋯</td><td> 0</td><td>0</td><td> 0</td><td>  0</td><td>0</td><td>0</td><td>0</td><td>0</td><td>0</td><td>NA</td></tr>\n",
              "\t<tr><td>zuninmi01</td><td>2022</td><td>1</td><td>TBA</td><td>AL</td><td> 36</td><td>115</td><td> 7</td><td> 17</td><td> 3</td><td>⋯</td><td> 0</td><td>0</td><td> 6</td><td> 46</td><td>0</td><td>1</td><td>0</td><td>1</td><td>2</td><td>NA</td></tr>\n",
              "</tbody>\n",
              "</table>\n"
            ],
            "text/markdown": "\nA data.frame: 112184 × 23\n\n| playerID &lt;chr&gt; | yearID &lt;int&gt; | stint &lt;int&gt; | teamID &lt;fct&gt; | lgID &lt;fct&gt; | G &lt;int&gt; | AB &lt;int&gt; | R &lt;int&gt; | H &lt;int&gt; | X2B &lt;int&gt; | ⋯ ⋯ | SB &lt;int&gt; | CS &lt;int&gt; | BB &lt;int&gt; | SO &lt;int&gt; | IBB &lt;int&gt; | HBP &lt;int&gt; | SH &lt;int&gt; | SF &lt;int&gt; | GIDP &lt;int&gt; | salary &lt;int&gt; |\n|---|---|---|---|---|---|---|---|---|---|---|---|---|---|---|---|---|---|---|---|---|\n| abercda01 | 1871 | 1 | TRO | NA |  1 |   4 |  0 |  0 |  0 | ⋯ |  0 | 0 |  0 | 0 | NA | NA | NA | NA | 0 | NA |\n| addybo01  | 1871 | 1 | RC1 | NA | 25 | 118 | 30 | 32 |  6 | ⋯ |  8 | 1 |  4 | 0 | NA | NA | NA | NA | 0 | NA |\n| allisar01 | 1871 | 1 | CL1 | NA | 29 | 137 | 28 | 40 |  4 | ⋯ |  3 | 1 |  2 | 5 | NA | NA | NA | NA | 1 | NA |\n| allisdo01 | 1871 | 1 | WS3 | NA | 27 | 133 | 28 | 44 | 10 | ⋯ |  1 | 1 |  0 | 2 | NA | NA | NA | NA | 0 | NA |\n| ansonca01 | 1871 | 1 | RC1 | NA | 25 | 120 | 29 | 39 | 11 | ⋯ |  6 | 2 |  2 | 1 | NA | NA | NA | NA | 0 | NA |\n| armstbo01 | 1871 | 1 | FW1 | NA | 12 |  49 |  9 | 11 |  2 | ⋯ |  0 | 1 |  0 | 1 | NA | NA | NA | NA | 0 | NA |\n| barkeal01 | 1871 | 1 | RC1 | NA |  1 |   4 |  0 |  1 |  0 | ⋯ |  0 | 0 |  1 | 0 | NA | NA | NA | NA | 0 | NA |\n| barnero01 | 1871 | 1 | BS1 | NA | 31 | 157 | 66 | 63 | 10 | ⋯ | 11 | 6 | 13 | 1 | NA | NA | NA | NA | 1 | NA |\n| barrebi01 | 1871 | 1 | FW1 | NA |  1 |   5 |  1 |  1 |  1 | ⋯ |  0 | 0 |  0 | 0 | NA | NA | NA | NA | 0 | NA |\n| barrofr01 | 1871 | 1 | BS1 | NA | 18 |  86 | 13 | 13 |  2 | ⋯ |  1 | 0 |  0 | 0 | NA | NA | NA | NA | 0 | NA |\n| bassjo01  | 1871 | 1 | CL1 | NA | 22 |  89 | 18 | 27 |  1 | ⋯ |  0 | 1 |  3 | 4 | NA | NA | NA | NA | 0 | NA |\n| battijo01 | 1871 | 1 | CL1 | NA |  1 |   3 |  0 |  0 |  0 | ⋯ |  0 | 0 |  1 | 0 | NA | NA | NA | NA | 0 | NA |\n| bealsto01 | 1871 | 1 | WS3 | NA | 10 |  36 |  6 |  7 |  0 | ⋯ |  2 | 0 |  2 | 0 | NA | NA | NA | NA | 2 | NA |\n| beaveed01 | 1871 | 1 | TRO | NA |  3 |  15 |  7 |  6 |  0 | ⋯ |  2 | 0 |  0 | 0 | NA | NA | NA | NA | 0 | NA |\n| bechtge01 | 1871 | 1 | PH1 | NA | 20 |  94 | 24 | 33 |  9 | ⋯ |  4 | 0 |  2 | 2 | NA | NA | NA | NA | 1 | NA |\n| bellast01 | 1871 | 1 | TRO | NA | 29 | 128 | 26 | 32 |  3 | ⋯ |  4 | 4 |  9 | 2 | NA | NA | NA | NA | 2 | NA |\n| berkena01 | 1871 | 1 | PH1 | NA |  1 |   4 |  0 |  0 |  0 | ⋯ |  0 | 0 |  0 | 3 | NA | NA | NA | NA | 0 | NA |\n| berryto01 | 1871 | 1 | PH1 | NA |  1 |   4 |  0 |  1 |  0 | ⋯ |  0 | 0 |  0 | 0 | NA | NA | NA | NA | 0 | NA |\n| berthha01 | 1871 | 1 | WS3 | NA | 17 |  73 | 17 | 17 |  1 | ⋯ |  3 | 1 |  4 | 2 | NA | NA | NA | NA | 0 | NA |\n| biermch01 | 1871 | 1 | FW1 | NA |  1 |   2 |  0 |  0 |  0 | ⋯ |  0 | 0 |  1 | 0 | NA | NA | NA | NA | 0 | NA |\n| birdge01  | 1871 | 1 | RC1 | NA | 25 | 106 | 19 | 28 |  2 | ⋯ |  1 | 0 |  3 | 2 | NA | NA | NA | NA | 3 | NA |\n| birdsda01 | 1871 | 1 | BS1 | NA | 29 | 152 | 51 | 46 |  3 | ⋯ |  6 | 0 |  4 | 4 | NA | NA | NA | NA | 1 | NA |\n| brainas01 | 1871 | 1 | WS3 | NA | 30 | 134 | 24 | 30 |  4 | ⋯ |  4 | 0 |  7 | 2 | NA | NA | NA | NA | 1 | NA |\n| brannmi01 | 1871 | 1 | CH1 | NA |  3 |  14 |  2 |  1 |  0 | ⋯ |  0 | 0 |  0 | 0 | NA | NA | NA | NA | 0 | NA |\n| burrohe01 | 1871 | 1 | WS3 | NA | 12 |  63 | 11 | 15 |  2 | ⋯ |  0 | 0 |  1 | 1 | NA | NA | NA | NA | 0 | NA |\n| careyto01 | 1871 | 1 | FW1 | NA | 19 |  87 | 16 | 20 |  2 | ⋯ |  5 | 0 |  2 | 1 | NA | NA | NA | NA | 0 | NA |\n| carleji01 | 1871 | 1 | CL1 | NA | 29 | 127 | 31 | 32 |  8 | ⋯ |  2 | 1 |  8 | 3 | NA | NA | NA | NA | 3 | NA |\n| conefr01  | 1871 | 1 | BS1 | NA | 19 |  77 | 17 | 20 |  3 | ⋯ | 12 | 1 |  8 | 2 | NA | NA | NA | NA | 1 | NA |\n| connone01 | 1871 | 1 | TRO | NA |  7 |  33 |  6 |  7 |  0 | ⋯ |  0 | 0 |  0 | 0 | NA | NA | NA | NA | 0 | NA |\n| cravebi01 | 1871 | 1 | TRO | NA | 27 | 118 | 26 | 38 |  8 | ⋯ |  6 | 3 |  3 | 0 | NA | NA | NA | NA | 3 | NA |\n| ⋮ | ⋮ | ⋮ | ⋮ | ⋮ | ⋮ | ⋮ | ⋮ | ⋮ | ⋮ | ⋱ | ⋮ | ⋮ | ⋮ | ⋮ | ⋮ | ⋮ | ⋮ | ⋮ | ⋮ | ⋮ |\n| woodrbr01 | 2022 | 1 | MIL | NL |  27 |   0 |  0 |   0 |  0 | ⋯ |  0 | 0 |  0 |   0 | 0 | 0 | 0 | 0 | 0 | NA |\n| woodssi01 | 2022 | 1 | MIN | AL |   1 |   0 |  0 |   0 |  0 | ⋯ |  0 | 0 |  0 |   0 | 0 | 0 | 0 | 0 | 0 | NA |\n| woodswi01 | 2022 | 1 | ATL | NL |   2 |   0 |  0 |   0 |  0 | ⋯ |  0 | 0 |  0 |   0 | 0 | 0 | 0 | 0 | 0 | NA |\n| wrighky01 | 2022 | 1 | ATL | NL |  30 |   0 |  0 |   0 |  0 | ⋯ |  0 | 0 |  0 |   0 | 0 | 0 | 0 | 0 | 0 | NA |\n| wynnsau01 | 2022 | 1 | SFN | NL |  66 | 162 | 14 |  42 |  7 | ⋯ |  0 | 0 | 10 |  38 | 0 | 3 | 1 | 1 | 9 | NA |\n| yacabji01 | 2022 | 1 | MIA | NL |   9 |   0 |  0 |   0 |  0 | ⋯ |  0 | 0 |  0 |   0 | 0 | 0 | 0 | 0 | 0 | NA |\n| yacabji01 | 2022 | 2 | TBA | AL |   5 |   0 |  0 |   0 |  0 | ⋯ |  0 | 0 |  0 |   0 | 0 | 0 | 0 | 0 | 0 | NA |\n| yajurmi01 | 2022 | 1 | PIT | NL |  12 |   0 |  0 |   0 |  0 | ⋯ |  0 | 0 |  0 |   0 | 0 | 0 | 0 | 0 | 0 | NA |\n| yarbrry01 | 2022 | 1 | TBA | AL |  20 |   0 |  0 |   0 |  0 | ⋯ |  0 | 0 |  0 |   0 | 0 | 0 | 0 | 0 | 0 | NA |\n| yastrmi01 | 2022 | 1 | SFN | NL | 148 | 485 | 73 | 104 | 31 | ⋯ |  5 | 1 | 61 | 141 | 0 | 5 | 1 | 6 | 3 | NA |\n| yateski01 | 2022 | 1 | ATL | NL |   9 |   0 |  0 |   0 |  0 | ⋯ |  0 | 0 |  0 |   0 | 0 | 0 | 0 | 0 | 0 | NA |\n| yelicch01 | 2022 | 1 | MIL | NL | 154 | 575 | 99 | 145 | 25 | ⋯ | 19 | 3 | 88 | 162 | 5 | 5 | 1 | 2 | 9 | NA |\n| yepezju01 | 2022 | 1 | SLN | NL |  76 | 253 | 27 |  64 | 13 | ⋯ |  0 | 0 | 16 |  61 | 0 | 1 | 0 | 4 | 6 | NA |\n| ynoahu01  | 2022 | 1 | ATL | NL |   2 |   0 |  0 |   0 |  0 | ⋯ |  0 | 0 |  0 |   0 | 0 | 0 | 0 | 0 | 0 | NA |\n| youngal01 | 2022 | 1 | CLE | AL |   1 |   0 |  0 |   0 |  0 | ⋯ |  0 | 0 |  0 |   0 | 0 | 0 | 0 | 0 | 0 | NA |\n| youngal01 | 2022 | 2 | SFN | NL |  24 |   0 |  0 |   0 |  0 | ⋯ |  0 | 0 |  0 |   0 | 0 | 0 | 0 | 0 | 0 | NA |\n| youngda02 | 2022 | 1 | SEA | AL |   2 |   0 |  0 |   0 |  0 | ⋯ |  0 | 0 |  0 |   0 | 0 | 0 | 0 | 0 | 0 | NA |\n| youngda02 | 2022 | 2 | ATL | NL |   1 |   0 |  0 |   0 |  0 | ⋯ |  0 | 0 |  0 |   0 | 0 | 0 | 0 | 0 | 0 | NA |\n| youngja02 | 2022 | 1 | CHN | NL |   6 |  19 |  2 |   5 |  2 | ⋯ |  1 | 0 |  3 |   7 | 0 | 0 | 0 | 0 | 0 | NA |\n| zabalan01 | 2022 | 1 | MIA | NL |   2 |   0 |  0 |   0 |  0 | ⋯ |  0 | 0 |  0 |   0 | 0 | 0 | 0 | 0 | 0 | NA |\n| zastrro01 | 2022 | 1 | NYN | NL |   1 |   0 |  0 |   0 |  0 | ⋯ |  0 | 0 |  0 |   0 | 0 | 0 | 0 | 0 | 0 | NA |\n| zastrro01 | 2022 | 2 | LAA | AL |   5 |   0 |  0 |   0 |  0 | ⋯ |  0 | 0 |  0 |   0 | 0 | 0 | 0 | 0 | 0 | NA |\n| zavalse01 | 2022 | 1 | CHA | AL |  61 | 178 | 22 |  48 | 14 | ⋯ |  0 | 0 | 19 |  64 | 0 | 3 | 3 | 2 | 1 | NA |\n| zerpaan01 | 2022 | 1 | KCA | AL |   3 |   0 |  0 |   0 |  0 | ⋯ |  0 | 0 |  0 |   0 | 0 | 0 | 0 | 0 | 0 | NA |\n| zeuchtj01 | 2022 | 1 | CIN | NL |   3 |   0 |  0 |   0 |  0 | ⋯ |  0 | 0 |  0 |   0 | 0 | 0 | 0 | 0 | 0 | NA |\n| zimmebr01 | 2022 | 1 | TOR | AL |  77 |  76 | 11 |   8 |  4 | ⋯ |  2 | 1 |  5 |  33 | 0 | 5 | 1 | 0 | 0 | NA |\n| zimmebr01 | 2022 | 2 | PHI | NL |   9 |  16 |  4 |   4 |  1 | ⋯ |  0 | 0 |  0 |   4 | 0 | 0 | 0 | 0 | 0 | NA |\n| zimmebr01 | 2022 | 3 | TOR | AL |  23 |  13 |  3 |   1 |  0 | ⋯ |  1 | 1 |  0 |   8 | 0 | 1 | 0 | 0 | 0 | NA |\n| zimmebr02 | 2022 | 1 | BAL | AL |  15 |   0 |  0 |   0 |  0 | ⋯ |  0 | 0 |  0 |   0 | 0 | 0 | 0 | 0 | 0 | NA |\n| zuninmi01 | 2022 | 1 | TBA | AL |  36 | 115 |  7 |  17 |  3 | ⋯ |  0 | 0 |  6 |  46 | 0 | 1 | 0 | 1 | 2 | NA |\n\n",
            "text/latex": "A data.frame: 112184 × 23\n\\begin{tabular}{lllllllllllllllllllll}\n playerID & yearID & stint & teamID & lgID & G & AB & R & H & X2B & ⋯ & SB & CS & BB & SO & IBB & HBP & SH & SF & GIDP & salary\\\\\n <chr> & <int> & <int> & <fct> & <fct> & <int> & <int> & <int> & <int> & <int> & ⋯ & <int> & <int> & <int> & <int> & <int> & <int> & <int> & <int> & <int> & <int>\\\\\n\\hline\n\t abercda01 & 1871 & 1 & TRO & NA &  1 &   4 &  0 &  0 &  0 & ⋯ &  0 & 0 &  0 & 0 & NA & NA & NA & NA & 0 & NA\\\\\n\t addybo01  & 1871 & 1 & RC1 & NA & 25 & 118 & 30 & 32 &  6 & ⋯ &  8 & 1 &  4 & 0 & NA & NA & NA & NA & 0 & NA\\\\\n\t allisar01 & 1871 & 1 & CL1 & NA & 29 & 137 & 28 & 40 &  4 & ⋯ &  3 & 1 &  2 & 5 & NA & NA & NA & NA & 1 & NA\\\\\n\t allisdo01 & 1871 & 1 & WS3 & NA & 27 & 133 & 28 & 44 & 10 & ⋯ &  1 & 1 &  0 & 2 & NA & NA & NA & NA & 0 & NA\\\\\n\t ansonca01 & 1871 & 1 & RC1 & NA & 25 & 120 & 29 & 39 & 11 & ⋯ &  6 & 2 &  2 & 1 & NA & NA & NA & NA & 0 & NA\\\\\n\t armstbo01 & 1871 & 1 & FW1 & NA & 12 &  49 &  9 & 11 &  2 & ⋯ &  0 & 1 &  0 & 1 & NA & NA & NA & NA & 0 & NA\\\\\n\t barkeal01 & 1871 & 1 & RC1 & NA &  1 &   4 &  0 &  1 &  0 & ⋯ &  0 & 0 &  1 & 0 & NA & NA & NA & NA & 0 & NA\\\\\n\t barnero01 & 1871 & 1 & BS1 & NA & 31 & 157 & 66 & 63 & 10 & ⋯ & 11 & 6 & 13 & 1 & NA & NA & NA & NA & 1 & NA\\\\\n\t barrebi01 & 1871 & 1 & FW1 & NA &  1 &   5 &  1 &  1 &  1 & ⋯ &  0 & 0 &  0 & 0 & NA & NA & NA & NA & 0 & NA\\\\\n\t barrofr01 & 1871 & 1 & BS1 & NA & 18 &  86 & 13 & 13 &  2 & ⋯ &  1 & 0 &  0 & 0 & NA & NA & NA & NA & 0 & NA\\\\\n\t bassjo01  & 1871 & 1 & CL1 & NA & 22 &  89 & 18 & 27 &  1 & ⋯ &  0 & 1 &  3 & 4 & NA & NA & NA & NA & 0 & NA\\\\\n\t battijo01 & 1871 & 1 & CL1 & NA &  1 &   3 &  0 &  0 &  0 & ⋯ &  0 & 0 &  1 & 0 & NA & NA & NA & NA & 0 & NA\\\\\n\t bealsto01 & 1871 & 1 & WS3 & NA & 10 &  36 &  6 &  7 &  0 & ⋯ &  2 & 0 &  2 & 0 & NA & NA & NA & NA & 2 & NA\\\\\n\t beaveed01 & 1871 & 1 & TRO & NA &  3 &  15 &  7 &  6 &  0 & ⋯ &  2 & 0 &  0 & 0 & NA & NA & NA & NA & 0 & NA\\\\\n\t bechtge01 & 1871 & 1 & PH1 & NA & 20 &  94 & 24 & 33 &  9 & ⋯ &  4 & 0 &  2 & 2 & NA & NA & NA & NA & 1 & NA\\\\\n\t bellast01 & 1871 & 1 & TRO & NA & 29 & 128 & 26 & 32 &  3 & ⋯ &  4 & 4 &  9 & 2 & NA & NA & NA & NA & 2 & NA\\\\\n\t berkena01 & 1871 & 1 & PH1 & NA &  1 &   4 &  0 &  0 &  0 & ⋯ &  0 & 0 &  0 & 3 & NA & NA & NA & NA & 0 & NA\\\\\n\t berryto01 & 1871 & 1 & PH1 & NA &  1 &   4 &  0 &  1 &  0 & ⋯ &  0 & 0 &  0 & 0 & NA & NA & NA & NA & 0 & NA\\\\\n\t berthha01 & 1871 & 1 & WS3 & NA & 17 &  73 & 17 & 17 &  1 & ⋯ &  3 & 1 &  4 & 2 & NA & NA & NA & NA & 0 & NA\\\\\n\t biermch01 & 1871 & 1 & FW1 & NA &  1 &   2 &  0 &  0 &  0 & ⋯ &  0 & 0 &  1 & 0 & NA & NA & NA & NA & 0 & NA\\\\\n\t birdge01  & 1871 & 1 & RC1 & NA & 25 & 106 & 19 & 28 &  2 & ⋯ &  1 & 0 &  3 & 2 & NA & NA & NA & NA & 3 & NA\\\\\n\t birdsda01 & 1871 & 1 & BS1 & NA & 29 & 152 & 51 & 46 &  3 & ⋯ &  6 & 0 &  4 & 4 & NA & NA & NA & NA & 1 & NA\\\\\n\t brainas01 & 1871 & 1 & WS3 & NA & 30 & 134 & 24 & 30 &  4 & ⋯ &  4 & 0 &  7 & 2 & NA & NA & NA & NA & 1 & NA\\\\\n\t brannmi01 & 1871 & 1 & CH1 & NA &  3 &  14 &  2 &  1 &  0 & ⋯ &  0 & 0 &  0 & 0 & NA & NA & NA & NA & 0 & NA\\\\\n\t burrohe01 & 1871 & 1 & WS3 & NA & 12 &  63 & 11 & 15 &  2 & ⋯ &  0 & 0 &  1 & 1 & NA & NA & NA & NA & 0 & NA\\\\\n\t careyto01 & 1871 & 1 & FW1 & NA & 19 &  87 & 16 & 20 &  2 & ⋯ &  5 & 0 &  2 & 1 & NA & NA & NA & NA & 0 & NA\\\\\n\t carleji01 & 1871 & 1 & CL1 & NA & 29 & 127 & 31 & 32 &  8 & ⋯ &  2 & 1 &  8 & 3 & NA & NA & NA & NA & 3 & NA\\\\\n\t conefr01  & 1871 & 1 & BS1 & NA & 19 &  77 & 17 & 20 &  3 & ⋯ & 12 & 1 &  8 & 2 & NA & NA & NA & NA & 1 & NA\\\\\n\t connone01 & 1871 & 1 & TRO & NA &  7 &  33 &  6 &  7 &  0 & ⋯ &  0 & 0 &  0 & 0 & NA & NA & NA & NA & 0 & NA\\\\\n\t cravebi01 & 1871 & 1 & TRO & NA & 27 & 118 & 26 & 38 &  8 & ⋯ &  6 & 3 &  3 & 0 & NA & NA & NA & NA & 3 & NA\\\\\n\t ⋮ & ⋮ & ⋮ & ⋮ & ⋮ & ⋮ & ⋮ & ⋮ & ⋮ & ⋮ & ⋱ & ⋮ & ⋮ & ⋮ & ⋮ & ⋮ & ⋮ & ⋮ & ⋮ & ⋮ & ⋮\\\\\n\t woodrbr01 & 2022 & 1 & MIL & NL &  27 &   0 &  0 &   0 &  0 & ⋯ &  0 & 0 &  0 &   0 & 0 & 0 & 0 & 0 & 0 & NA\\\\\n\t woodssi01 & 2022 & 1 & MIN & AL &   1 &   0 &  0 &   0 &  0 & ⋯ &  0 & 0 &  0 &   0 & 0 & 0 & 0 & 0 & 0 & NA\\\\\n\t woodswi01 & 2022 & 1 & ATL & NL &   2 &   0 &  0 &   0 &  0 & ⋯ &  0 & 0 &  0 &   0 & 0 & 0 & 0 & 0 & 0 & NA\\\\\n\t wrighky01 & 2022 & 1 & ATL & NL &  30 &   0 &  0 &   0 &  0 & ⋯ &  0 & 0 &  0 &   0 & 0 & 0 & 0 & 0 & 0 & NA\\\\\n\t wynnsau01 & 2022 & 1 & SFN & NL &  66 & 162 & 14 &  42 &  7 & ⋯ &  0 & 0 & 10 &  38 & 0 & 3 & 1 & 1 & 9 & NA\\\\\n\t yacabji01 & 2022 & 1 & MIA & NL &   9 &   0 &  0 &   0 &  0 & ⋯ &  0 & 0 &  0 &   0 & 0 & 0 & 0 & 0 & 0 & NA\\\\\n\t yacabji01 & 2022 & 2 & TBA & AL &   5 &   0 &  0 &   0 &  0 & ⋯ &  0 & 0 &  0 &   0 & 0 & 0 & 0 & 0 & 0 & NA\\\\\n\t yajurmi01 & 2022 & 1 & PIT & NL &  12 &   0 &  0 &   0 &  0 & ⋯ &  0 & 0 &  0 &   0 & 0 & 0 & 0 & 0 & 0 & NA\\\\\n\t yarbrry01 & 2022 & 1 & TBA & AL &  20 &   0 &  0 &   0 &  0 & ⋯ &  0 & 0 &  0 &   0 & 0 & 0 & 0 & 0 & 0 & NA\\\\\n\t yastrmi01 & 2022 & 1 & SFN & NL & 148 & 485 & 73 & 104 & 31 & ⋯ &  5 & 1 & 61 & 141 & 0 & 5 & 1 & 6 & 3 & NA\\\\\n\t yateski01 & 2022 & 1 & ATL & NL &   9 &   0 &  0 &   0 &  0 & ⋯ &  0 & 0 &  0 &   0 & 0 & 0 & 0 & 0 & 0 & NA\\\\\n\t yelicch01 & 2022 & 1 & MIL & NL & 154 & 575 & 99 & 145 & 25 & ⋯ & 19 & 3 & 88 & 162 & 5 & 5 & 1 & 2 & 9 & NA\\\\\n\t yepezju01 & 2022 & 1 & SLN & NL &  76 & 253 & 27 &  64 & 13 & ⋯ &  0 & 0 & 16 &  61 & 0 & 1 & 0 & 4 & 6 & NA\\\\\n\t ynoahu01  & 2022 & 1 & ATL & NL &   2 &   0 &  0 &   0 &  0 & ⋯ &  0 & 0 &  0 &   0 & 0 & 0 & 0 & 0 & 0 & NA\\\\\n\t youngal01 & 2022 & 1 & CLE & AL &   1 &   0 &  0 &   0 &  0 & ⋯ &  0 & 0 &  0 &   0 & 0 & 0 & 0 & 0 & 0 & NA\\\\\n\t youngal01 & 2022 & 2 & SFN & NL &  24 &   0 &  0 &   0 &  0 & ⋯ &  0 & 0 &  0 &   0 & 0 & 0 & 0 & 0 & 0 & NA\\\\\n\t youngda02 & 2022 & 1 & SEA & AL &   2 &   0 &  0 &   0 &  0 & ⋯ &  0 & 0 &  0 &   0 & 0 & 0 & 0 & 0 & 0 & NA\\\\\n\t youngda02 & 2022 & 2 & ATL & NL &   1 &   0 &  0 &   0 &  0 & ⋯ &  0 & 0 &  0 &   0 & 0 & 0 & 0 & 0 & 0 & NA\\\\\n\t youngja02 & 2022 & 1 & CHN & NL &   6 &  19 &  2 &   5 &  2 & ⋯ &  1 & 0 &  3 &   7 & 0 & 0 & 0 & 0 & 0 & NA\\\\\n\t zabalan01 & 2022 & 1 & MIA & NL &   2 &   0 &  0 &   0 &  0 & ⋯ &  0 & 0 &  0 &   0 & 0 & 0 & 0 & 0 & 0 & NA\\\\\n\t zastrro01 & 2022 & 1 & NYN & NL &   1 &   0 &  0 &   0 &  0 & ⋯ &  0 & 0 &  0 &   0 & 0 & 0 & 0 & 0 & 0 & NA\\\\\n\t zastrro01 & 2022 & 2 & LAA & AL &   5 &   0 &  0 &   0 &  0 & ⋯ &  0 & 0 &  0 &   0 & 0 & 0 & 0 & 0 & 0 & NA\\\\\n\t zavalse01 & 2022 & 1 & CHA & AL &  61 & 178 & 22 &  48 & 14 & ⋯ &  0 & 0 & 19 &  64 & 0 & 3 & 3 & 2 & 1 & NA\\\\\n\t zerpaan01 & 2022 & 1 & KCA & AL &   3 &   0 &  0 &   0 &  0 & ⋯ &  0 & 0 &  0 &   0 & 0 & 0 & 0 & 0 & 0 & NA\\\\\n\t zeuchtj01 & 2022 & 1 & CIN & NL &   3 &   0 &  0 &   0 &  0 & ⋯ &  0 & 0 &  0 &   0 & 0 & 0 & 0 & 0 & 0 & NA\\\\\n\t zimmebr01 & 2022 & 1 & TOR & AL &  77 &  76 & 11 &   8 &  4 & ⋯ &  2 & 1 &  5 &  33 & 0 & 5 & 1 & 0 & 0 & NA\\\\\n\t zimmebr01 & 2022 & 2 & PHI & NL &   9 &  16 &  4 &   4 &  1 & ⋯ &  0 & 0 &  0 &   4 & 0 & 0 & 0 & 0 & 0 & NA\\\\\n\t zimmebr01 & 2022 & 3 & TOR & AL &  23 &  13 &  3 &   1 &  0 & ⋯ &  1 & 1 &  0 &   8 & 0 & 1 & 0 & 0 & 0 & NA\\\\\n\t zimmebr02 & 2022 & 1 & BAL & AL &  15 &   0 &  0 &   0 &  0 & ⋯ &  0 & 0 &  0 &   0 & 0 & 0 & 0 & 0 & 0 & NA\\\\\n\t zuninmi01 & 2022 & 1 & TBA & AL &  36 & 115 &  7 &  17 &  3 & ⋯ &  0 & 0 &  6 &  46 & 0 & 1 & 0 & 1 & 2 & NA\\\\\n\\end{tabular}\n",
            "text/plain": [
              "       playerID  yearID stint teamID lgID G   AB  R  H   X2B ⋯ SB CS BB SO  IBB\n",
              "1      abercda01 1871   1     TRO    NA    1    4  0  0   0  ⋯  0 0   0 0   NA \n",
              "2      addybo01  1871   1     RC1    NA   25  118 30 32   6  ⋯  8 1   4 0   NA \n",
              "3      allisar01 1871   1     CL1    NA   29  137 28 40   4  ⋯  3 1   2 5   NA \n",
              "4      allisdo01 1871   1     WS3    NA   27  133 28 44  10  ⋯  1 1   0 2   NA \n",
              "5      ansonca01 1871   1     RC1    NA   25  120 29 39  11  ⋯  6 2   2 1   NA \n",
              "6      armstbo01 1871   1     FW1    NA   12   49  9 11   2  ⋯  0 1   0 1   NA \n",
              "7      barkeal01 1871   1     RC1    NA    1    4  0  1   0  ⋯  0 0   1 0   NA \n",
              "8      barnero01 1871   1     BS1    NA   31  157 66 63  10  ⋯ 11 6  13 1   NA \n",
              "9      barrebi01 1871   1     FW1    NA    1    5  1  1   1  ⋯  0 0   0 0   NA \n",
              "10     barrofr01 1871   1     BS1    NA   18   86 13 13   2  ⋯  1 0   0 0   NA \n",
              "11     bassjo01  1871   1     CL1    NA   22   89 18 27   1  ⋯  0 1   3 4   NA \n",
              "12     battijo01 1871   1     CL1    NA    1    3  0  0   0  ⋯  0 0   1 0   NA \n",
              "13     bealsto01 1871   1     WS3    NA   10   36  6  7   0  ⋯  2 0   2 0   NA \n",
              "14     beaveed01 1871   1     TRO    NA    3   15  7  6   0  ⋯  2 0   0 0   NA \n",
              "15     bechtge01 1871   1     PH1    NA   20   94 24 33   9  ⋯  4 0   2 2   NA \n",
              "16     bellast01 1871   1     TRO    NA   29  128 26 32   3  ⋯  4 4   9 2   NA \n",
              "17     berkena01 1871   1     PH1    NA    1    4  0  0   0  ⋯  0 0   0 3   NA \n",
              "18     berryto01 1871   1     PH1    NA    1    4  0  1   0  ⋯  0 0   0 0   NA \n",
              "19     berthha01 1871   1     WS3    NA   17   73 17 17   1  ⋯  3 1   4 2   NA \n",
              "20     biermch01 1871   1     FW1    NA    1    2  0  0   0  ⋯  0 0   1 0   NA \n",
              "21     birdge01  1871   1     RC1    NA   25  106 19 28   2  ⋯  1 0   3 2   NA \n",
              "22     birdsda01 1871   1     BS1    NA   29  152 51 46   3  ⋯  6 0   4 4   NA \n",
              "23     brainas01 1871   1     WS3    NA   30  134 24 30   4  ⋯  4 0   7 2   NA \n",
              "24     brannmi01 1871   1     CH1    NA    3   14  2  1   0  ⋯  0 0   0 0   NA \n",
              "25     burrohe01 1871   1     WS3    NA   12   63 11 15   2  ⋯  0 0   1 1   NA \n",
              "26     careyto01 1871   1     FW1    NA   19   87 16 20   2  ⋯  5 0   2 1   NA \n",
              "27     carleji01 1871   1     CL1    NA   29  127 31 32   8  ⋯  2 1   8 3   NA \n",
              "28     conefr01  1871   1     BS1    NA   19   77 17 20   3  ⋯ 12 1   8 2   NA \n",
              "29     connone01 1871   1     TRO    NA    7   33  6  7   0  ⋯  0 0   0 0   NA \n",
              "30     cravebi01 1871   1     TRO    NA   27  118 26 38   8  ⋯  6 3   3 0   NA \n",
              "⋮      ⋮         ⋮      ⋮     ⋮      ⋮    ⋮   ⋮   ⋮  ⋮   ⋮   ⋱ ⋮  ⋮  ⋮  ⋮   ⋮  \n",
              "112155 woodrbr01 2022   1     MIL    NL    27   0  0   0  0  ⋯  0 0   0   0 0  \n",
              "112156 woodssi01 2022   1     MIN    AL     1   0  0   0  0  ⋯  0 0   0   0 0  \n",
              "112157 woodswi01 2022   1     ATL    NL     2   0  0   0  0  ⋯  0 0   0   0 0  \n",
              "112158 wrighky01 2022   1     ATL    NL    30   0  0   0  0  ⋯  0 0   0   0 0  \n",
              "112159 wynnsau01 2022   1     SFN    NL    66 162 14  42  7  ⋯  0 0  10  38 0  \n",
              "112160 yacabji01 2022   1     MIA    NL     9   0  0   0  0  ⋯  0 0   0   0 0  \n",
              "112161 yacabji01 2022   2     TBA    AL     5   0  0   0  0  ⋯  0 0   0   0 0  \n",
              "112162 yajurmi01 2022   1     PIT    NL    12   0  0   0  0  ⋯  0 0   0   0 0  \n",
              "112163 yarbrry01 2022   1     TBA    AL    20   0  0   0  0  ⋯  0 0   0   0 0  \n",
              "112164 yastrmi01 2022   1     SFN    NL   148 485 73 104 31  ⋯  5 1  61 141 0  \n",
              "112165 yateski01 2022   1     ATL    NL     9   0  0   0  0  ⋯  0 0   0   0 0  \n",
              "112166 yelicch01 2022   1     MIL    NL   154 575 99 145 25  ⋯ 19 3  88 162 5  \n",
              "112167 yepezju01 2022   1     SLN    NL    76 253 27  64 13  ⋯  0 0  16  61 0  \n",
              "112168 ynoahu01  2022   1     ATL    NL     2   0  0   0  0  ⋯  0 0   0   0 0  \n",
              "112169 youngal01 2022   1     CLE    AL     1   0  0   0  0  ⋯  0 0   0   0 0  \n",
              "112170 youngal01 2022   2     SFN    NL    24   0  0   0  0  ⋯  0 0   0   0 0  \n",
              "112171 youngda02 2022   1     SEA    AL     2   0  0   0  0  ⋯  0 0   0   0 0  \n",
              "112172 youngda02 2022   2     ATL    NL     1   0  0   0  0  ⋯  0 0   0   0 0  \n",
              "112173 youngja02 2022   1     CHN    NL     6  19  2   5  2  ⋯  1 0   3   7 0  \n",
              "112174 zabalan01 2022   1     MIA    NL     2   0  0   0  0  ⋯  0 0   0   0 0  \n",
              "112175 zastrro01 2022   1     NYN    NL     1   0  0   0  0  ⋯  0 0   0   0 0  \n",
              "112176 zastrro01 2022   2     LAA    AL     5   0  0   0  0  ⋯  0 0   0   0 0  \n",
              "112177 zavalse01 2022   1     CHA    AL    61 178 22  48 14  ⋯  0 0  19  64 0  \n",
              "112178 zerpaan01 2022   1     KCA    AL     3   0  0   0  0  ⋯  0 0   0   0 0  \n",
              "112179 zeuchtj01 2022   1     CIN    NL     3   0  0   0  0  ⋯  0 0   0   0 0  \n",
              "112180 zimmebr01 2022   1     TOR    AL    77  76 11   8  4  ⋯  2 1   5  33 0  \n",
              "112181 zimmebr01 2022   2     PHI    NL     9  16  4   4  1  ⋯  0 0   0   4 0  \n",
              "112182 zimmebr01 2022   3     TOR    AL    23  13  3   1  0  ⋯  1 1   0   8 0  \n",
              "112183 zimmebr02 2022   1     BAL    AL    15   0  0   0  0  ⋯  0 0   0   0 0  \n",
              "112184 zuninmi01 2022   1     TBA    AL    36 115  7  17  3  ⋯  0 0   6  46 0  \n",
              "       HBP SH SF GIDP salary\n",
              "1      NA  NA NA 0    NA    \n",
              "2      NA  NA NA 0    NA    \n",
              "3      NA  NA NA 1    NA    \n",
              "4      NA  NA NA 0    NA    \n",
              "5      NA  NA NA 0    NA    \n",
              "6      NA  NA NA 0    NA    \n",
              "7      NA  NA NA 0    NA    \n",
              "8      NA  NA NA 1    NA    \n",
              "9      NA  NA NA 0    NA    \n",
              "10     NA  NA NA 0    NA    \n",
              "11     NA  NA NA 0    NA    \n",
              "12     NA  NA NA 0    NA    \n",
              "13     NA  NA NA 2    NA    \n",
              "14     NA  NA NA 0    NA    \n",
              "15     NA  NA NA 1    NA    \n",
              "16     NA  NA NA 2    NA    \n",
              "17     NA  NA NA 0    NA    \n",
              "18     NA  NA NA 0    NA    \n",
              "19     NA  NA NA 0    NA    \n",
              "20     NA  NA NA 0    NA    \n",
              "21     NA  NA NA 3    NA    \n",
              "22     NA  NA NA 1    NA    \n",
              "23     NA  NA NA 1    NA    \n",
              "24     NA  NA NA 0    NA    \n",
              "25     NA  NA NA 0    NA    \n",
              "26     NA  NA NA 0    NA    \n",
              "27     NA  NA NA 3    NA    \n",
              "28     NA  NA NA 1    NA    \n",
              "29     NA  NA NA 0    NA    \n",
              "30     NA  NA NA 3    NA    \n",
              "⋮      ⋮   ⋮  ⋮  ⋮    ⋮     \n",
              "112155 0   0  0  0    NA    \n",
              "112156 0   0  0  0    NA    \n",
              "112157 0   0  0  0    NA    \n",
              "112158 0   0  0  0    NA    \n",
              "112159 3   1  1  9    NA    \n",
              "112160 0   0  0  0    NA    \n",
              "112161 0   0  0  0    NA    \n",
              "112162 0   0  0  0    NA    \n",
              "112163 0   0  0  0    NA    \n",
              "112164 5   1  6  3    NA    \n",
              "112165 0   0  0  0    NA    \n",
              "112166 5   1  2  9    NA    \n",
              "112167 1   0  4  6    NA    \n",
              "112168 0   0  0  0    NA    \n",
              "112169 0   0  0  0    NA    \n",
              "112170 0   0  0  0    NA    \n",
              "112171 0   0  0  0    NA    \n",
              "112172 0   0  0  0    NA    \n",
              "112173 0   0  0  0    NA    \n",
              "112174 0   0  0  0    NA    \n",
              "112175 0   0  0  0    NA    \n",
              "112176 0   0  0  0    NA    \n",
              "112177 3   3  2  1    NA    \n",
              "112178 0   0  0  0    NA    \n",
              "112179 0   0  0  0    NA    \n",
              "112180 5   1  0  0    NA    \n",
              "112181 0   0  0  0    NA    \n",
              "112182 1   0  0  0    NA    \n",
              "112183 0   0  0  0    NA    \n",
              "112184 1   0  1  2    NA    "
            ]
          },
          "metadata": {}
        }
      ],
      "source": [
        "Batting %>%\n",
        "    left_join(Salaries)\n",
        "\n",
        "# Equivalently:\n",
        "# left_join(Batting, Salaries)"
      ]
    },
    {
      "cell_type": "markdown",
      "id": "53b5c9cc",
      "metadata": {
        "id": "53b5c9cc"
      },
      "source": [
        "The resulting table has 112,184 rows, which is the same number of rows as `Batting`. This makes sense, as left joins preserve all the rows in the left-hand data frame.\n",
        "\n",
        "It also has 23 columns, just like the `inner_join()` table above. This also makes sense — we should get the same number of columns for all of these mutating joins since we are just adding the (unique) columns of `Salaries` to `Batting`.\n",
        "\n",
        "Notice that there are a lot of `NA`s in the salary column. This is because the `Batting` table records data from 1871-2022, but according to the [Lahman documentation](https://cran.r-project.org/web/packages/Lahman/Lahman.pdf), `Salaries` only records data from 1985-2016:"
      ]
    },
    {
      "cell_type": "code",
      "source": [
        "Batting %>%\n",
        "  distinct(yearID) %>%\n",
        "  pull(yearID)"
      ],
      "metadata": {
        "colab": {
          "base_uri": "https://localhost:8080/",
          "height": 104
        },
        "id": "WdMNQVMhUb4_",
        "outputId": "d37ef767-baa1-45a3-e04c-28dee108dcf8"
      },
      "id": "WdMNQVMhUb4_",
      "execution_count": null,
      "outputs": [
        {
          "output_type": "display_data",
          "data": {
            "text/html": [
              "<style>\n",
              ".list-inline {list-style: none; margin:0; padding: 0}\n",
              ".list-inline>li {display: inline-block}\n",
              ".list-inline>li:not(:last-child)::after {content: \"\\00b7\"; padding: 0 .5ex}\n",
              "</style>\n",
              "<ol class=list-inline><li>1871</li><li>1872</li><li>1873</li><li>1874</li><li>1875</li><li>1876</li><li>1877</li><li>1878</li><li>1879</li><li>1880</li><li>1881</li><li>1882</li><li>1883</li><li>1884</li><li>1885</li><li>1886</li><li>1887</li><li>1888</li><li>1889</li><li>1890</li><li>1891</li><li>1892</li><li>1893</li><li>1894</li><li>1895</li><li>1896</li><li>1897</li><li>1898</li><li>1899</li><li>1900</li><li>1901</li><li>1902</li><li>1903</li><li>1904</li><li>1905</li><li>1906</li><li>1907</li><li>1908</li><li>1909</li><li>1910</li><li>1911</li><li>1912</li><li>1913</li><li>1914</li><li>1915</li><li>1916</li><li>1917</li><li>1918</li><li>1919</li><li>1920</li><li>1921</li><li>1922</li><li>1923</li><li>1924</li><li>1925</li><li>1926</li><li>1927</li><li>1928</li><li>1929</li><li>1930</li><li>1931</li><li>1932</li><li>1933</li><li>1934</li><li>1935</li><li>1936</li><li>1937</li><li>1938</li><li>1939</li><li>1940</li><li>1941</li><li>1942</li><li>1943</li><li>1944</li><li>1945</li><li>1946</li><li>1947</li><li>1948</li><li>1949</li><li>1950</li><li>1951</li><li>1952</li><li>1953</li><li>1954</li><li>1955</li><li>1956</li><li>1957</li><li>1958</li><li>1959</li><li>1960</li><li>1961</li><li>1962</li><li>1963</li><li>1964</li><li>1965</li><li>1966</li><li>1967</li><li>1968</li><li>1969</li><li>1970</li><li>1971</li><li>1972</li><li>1973</li><li>1974</li><li>1975</li><li>1976</li><li>1977</li><li>1978</li><li>1979</li><li>1980</li><li>1981</li><li>1982</li><li>1983</li><li>1984</li><li>1985</li><li>1986</li><li>1987</li><li>1988</li><li>1989</li><li>1990</li><li>1991</li><li>1992</li><li>1993</li><li>1994</li><li>1995</li><li>1996</li><li>1997</li><li>1998</li><li>1999</li><li>2000</li><li>2001</li><li>2002</li><li>2003</li><li>2004</li><li>2005</li><li>2006</li><li>2007</li><li>2008</li><li>2009</li><li>2010</li><li>2011</li><li>2012</li><li>2013</li><li>2014</li><li>2015</li><li>2016</li><li>2017</li><li>2018</li><li>2019</li><li>2020</li><li>2021</li><li>2022</li></ol>\n"
            ],
            "text/markdown": "1. 1871\n2. 1872\n3. 1873\n4. 1874\n5. 1875\n6. 1876\n7. 1877\n8. 1878\n9. 1879\n10. 1880\n11. 1881\n12. 1882\n13. 1883\n14. 1884\n15. 1885\n16. 1886\n17. 1887\n18. 1888\n19. 1889\n20. 1890\n21. 1891\n22. 1892\n23. 1893\n24. 1894\n25. 1895\n26. 1896\n27. 1897\n28. 1898\n29. 1899\n30. 1900\n31. 1901\n32. 1902\n33. 1903\n34. 1904\n35. 1905\n36. 1906\n37. 1907\n38. 1908\n39. 1909\n40. 1910\n41. 1911\n42. 1912\n43. 1913\n44. 1914\n45. 1915\n46. 1916\n47. 1917\n48. 1918\n49. 1919\n50. 1920\n51. 1921\n52. 1922\n53. 1923\n54. 1924\n55. 1925\n56. 1926\n57. 1927\n58. 1928\n59. 1929\n60. 1930\n61. 1931\n62. 1932\n63. 1933\n64. 1934\n65. 1935\n66. 1936\n67. 1937\n68. 1938\n69. 1939\n70. 1940\n71. 1941\n72. 1942\n73. 1943\n74. 1944\n75. 1945\n76. 1946\n77. 1947\n78. 1948\n79. 1949\n80. 1950\n81. 1951\n82. 1952\n83. 1953\n84. 1954\n85. 1955\n86. 1956\n87. 1957\n88. 1958\n89. 1959\n90. 1960\n91. 1961\n92. 1962\n93. 1963\n94. 1964\n95. 1965\n96. 1966\n97. 1967\n98. 1968\n99. 1969\n100. 1970\n101. 1971\n102. 1972\n103. 1973\n104. 1974\n105. 1975\n106. 1976\n107. 1977\n108. 1978\n109. 1979\n110. 1980\n111. 1981\n112. 1982\n113. 1983\n114. 1984\n115. 1985\n116. 1986\n117. 1987\n118. 1988\n119. 1989\n120. 1990\n121. 1991\n122. 1992\n123. 1993\n124. 1994\n125. 1995\n126. 1996\n127. 1997\n128. 1998\n129. 1999\n130. 2000\n131. 2001\n132. 2002\n133. 2003\n134. 2004\n135. 2005\n136. 2006\n137. 2007\n138. 2008\n139. 2009\n140. 2010\n141. 2011\n142. 2012\n143. 2013\n144. 2014\n145. 2015\n146. 2016\n147. 2017\n148. 2018\n149. 2019\n150. 2020\n151. 2021\n152. 2022\n\n\n",
            "text/latex": "\\begin{enumerate*}\n\\item 1871\n\\item 1872\n\\item 1873\n\\item 1874\n\\item 1875\n\\item 1876\n\\item 1877\n\\item 1878\n\\item 1879\n\\item 1880\n\\item 1881\n\\item 1882\n\\item 1883\n\\item 1884\n\\item 1885\n\\item 1886\n\\item 1887\n\\item 1888\n\\item 1889\n\\item 1890\n\\item 1891\n\\item 1892\n\\item 1893\n\\item 1894\n\\item 1895\n\\item 1896\n\\item 1897\n\\item 1898\n\\item 1899\n\\item 1900\n\\item 1901\n\\item 1902\n\\item 1903\n\\item 1904\n\\item 1905\n\\item 1906\n\\item 1907\n\\item 1908\n\\item 1909\n\\item 1910\n\\item 1911\n\\item 1912\n\\item 1913\n\\item 1914\n\\item 1915\n\\item 1916\n\\item 1917\n\\item 1918\n\\item 1919\n\\item 1920\n\\item 1921\n\\item 1922\n\\item 1923\n\\item 1924\n\\item 1925\n\\item 1926\n\\item 1927\n\\item 1928\n\\item 1929\n\\item 1930\n\\item 1931\n\\item 1932\n\\item 1933\n\\item 1934\n\\item 1935\n\\item 1936\n\\item 1937\n\\item 1938\n\\item 1939\n\\item 1940\n\\item 1941\n\\item 1942\n\\item 1943\n\\item 1944\n\\item 1945\n\\item 1946\n\\item 1947\n\\item 1948\n\\item 1949\n\\item 1950\n\\item 1951\n\\item 1952\n\\item 1953\n\\item 1954\n\\item 1955\n\\item 1956\n\\item 1957\n\\item 1958\n\\item 1959\n\\item 1960\n\\item 1961\n\\item 1962\n\\item 1963\n\\item 1964\n\\item 1965\n\\item 1966\n\\item 1967\n\\item 1968\n\\item 1969\n\\item 1970\n\\item 1971\n\\item 1972\n\\item 1973\n\\item 1974\n\\item 1975\n\\item 1976\n\\item 1977\n\\item 1978\n\\item 1979\n\\item 1980\n\\item 1981\n\\item 1982\n\\item 1983\n\\item 1984\n\\item 1985\n\\item 1986\n\\item 1987\n\\item 1988\n\\item 1989\n\\item 1990\n\\item 1991\n\\item 1992\n\\item 1993\n\\item 1994\n\\item 1995\n\\item 1996\n\\item 1997\n\\item 1998\n\\item 1999\n\\item 2000\n\\item 2001\n\\item 2002\n\\item 2003\n\\item 2004\n\\item 2005\n\\item 2006\n\\item 2007\n\\item 2008\n\\item 2009\n\\item 2010\n\\item 2011\n\\item 2012\n\\item 2013\n\\item 2014\n\\item 2015\n\\item 2016\n\\item 2017\n\\item 2018\n\\item 2019\n\\item 2020\n\\item 2021\n\\item 2022\n\\end{enumerate*}\n",
            "text/plain": [
              "  [1] 1871 1872 1873 1874 1875 1876 1877 1878 1879 1880 1881 1882 1883 1884 1885\n",
              " [16] 1886 1887 1888 1889 1890 1891 1892 1893 1894 1895 1896 1897 1898 1899 1900\n",
              " [31] 1901 1902 1903 1904 1905 1906 1907 1908 1909 1910 1911 1912 1913 1914 1915\n",
              " [46] 1916 1917 1918 1919 1920 1921 1922 1923 1924 1925 1926 1927 1928 1929 1930\n",
              " [61] 1931 1932 1933 1934 1935 1936 1937 1938 1939 1940 1941 1942 1943 1944 1945\n",
              " [76] 1946 1947 1948 1949 1950 1951 1952 1953 1954 1955 1956 1957 1958 1959 1960\n",
              " [91] 1961 1962 1963 1964 1965 1966 1967 1968 1969 1970 1971 1972 1973 1974 1975\n",
              "[106] 1976 1977 1978 1979 1980 1981 1982 1983 1984 1985 1986 1987 1988 1989 1990\n",
              "[121] 1991 1992 1993 1994 1995 1996 1997 1998 1999 2000 2001 2002 2003 2004 2005\n",
              "[136] 2006 2007 2008 2009 2010 2011 2012 2013 2014 2015 2016 2017 2018 2019 2020\n",
              "[151] 2021 2022"
            ]
          },
          "metadata": {}
        }
      ]
    },
    {
      "cell_type": "code",
      "source": [
        "Salaries %>%\n",
        "  distinct(yearID) %>%\n",
        "  pull(yearID)"
      ],
      "metadata": {
        "colab": {
          "base_uri": "https://localhost:8080/",
          "height": 52
        },
        "id": "42lncwj0UqMG",
        "outputId": "46889c59-c845-46b1-95ea-e26f36066e46"
      },
      "id": "42lncwj0UqMG",
      "execution_count": null,
      "outputs": [
        {
          "output_type": "display_data",
          "data": {
            "text/html": [
              "<style>\n",
              ".list-inline {list-style: none; margin:0; padding: 0}\n",
              ".list-inline>li {display: inline-block}\n",
              ".list-inline>li:not(:last-child)::after {content: \"\\00b7\"; padding: 0 .5ex}\n",
              "</style>\n",
              "<ol class=list-inline><li>1985</li><li>1986</li><li>1987</li><li>1988</li><li>1989</li><li>1990</li><li>1991</li><li>1992</li><li>1993</li><li>1994</li><li>1995</li><li>1996</li><li>1997</li><li>1998</li><li>1999</li><li>2000</li><li>2001</li><li>2002</li><li>2003</li><li>2004</li><li>2005</li><li>2006</li><li>2007</li><li>2008</li><li>2009</li><li>2010</li><li>2011</li><li>2012</li><li>2013</li><li>2014</li><li>2015</li><li>2016</li></ol>\n"
            ],
            "text/markdown": "1. 1985\n2. 1986\n3. 1987\n4. 1988\n5. 1989\n6. 1990\n7. 1991\n8. 1992\n9. 1993\n10. 1994\n11. 1995\n12. 1996\n13. 1997\n14. 1998\n15. 1999\n16. 2000\n17. 2001\n18. 2002\n19. 2003\n20. 2004\n21. 2005\n22. 2006\n23. 2007\n24. 2008\n25. 2009\n26. 2010\n27. 2011\n28. 2012\n29. 2013\n30. 2014\n31. 2015\n32. 2016\n\n\n",
            "text/latex": "\\begin{enumerate*}\n\\item 1985\n\\item 1986\n\\item 1987\n\\item 1988\n\\item 1989\n\\item 1990\n\\item 1991\n\\item 1992\n\\item 1993\n\\item 1994\n\\item 1995\n\\item 1996\n\\item 1997\n\\item 1998\n\\item 1999\n\\item 2000\n\\item 2001\n\\item 2002\n\\item 2003\n\\item 2004\n\\item 2005\n\\item 2006\n\\item 2007\n\\item 2008\n\\item 2009\n\\item 2010\n\\item 2011\n\\item 2012\n\\item 2013\n\\item 2014\n\\item 2015\n\\item 2016\n\\end{enumerate*}\n",
            "text/plain": [
              " [1] 1985 1986 1987 1988 1989 1990 1991 1992 1993 1994 1995 1996 1997 1998 1999\n",
              "[16] 2000 2001 2002 2003 2004 2005 2006 2007 2008 2009 2010 2011 2012 2013 2014\n",
              "[31] 2015 2016"
            ]
          },
          "metadata": {}
        }
      ]
    },
    {
      "cell_type": "code",
      "execution_count": null,
      "id": "6b3be57b",
      "metadata": {
        "id": "6b3be57b",
        "outputId": "370495c5-1bf0-4e69-88fe-e12aec62e54d",
        "colab": {
          "base_uri": "https://localhost:8080/",
          "height": 70
        }
      },
      "outputs": [
        {
          "output_type": "stream",
          "name": "stderr",
          "text": [
            "\u001b[1m\u001b[22mJoining with `by = join_by(playerID, yearID, teamID, lgID)`\n"
          ]
        },
        {
          "output_type": "display_data",
          "data": {
            "text/html": [
              "<style>\n",
              ".list-inline {list-style: none; margin:0; padding: 0}\n",
              ".list-inline>li {display: inline-block}\n",
              ".list-inline>li:not(:last-child)::after {content: \"\\00b7\"; padding: 0 .5ex}\n",
              "</style>\n",
              "<ol class=list-inline><li>1985</li><li>1986</li><li>1987</li><li>1988</li><li>1989</li><li>1990</li><li>1991</li><li>1992</li><li>1993</li><li>1994</li><li>1995</li><li>1996</li><li>1997</li><li>1998</li><li>1999</li><li>2000</li><li>2001</li><li>2002</li><li>2003</li><li>2004</li><li>2005</li><li>2006</li><li>2007</li><li>2008</li><li>2009</li><li>2010</li><li>2011</li><li>2012</li><li>2013</li><li>2014</li><li>2015</li><li>2016</li></ol>\n"
            ],
            "text/markdown": "1. 1985\n2. 1986\n3. 1987\n4. 1988\n5. 1989\n6. 1990\n7. 1991\n8. 1992\n9. 1993\n10. 1994\n11. 1995\n12. 1996\n13. 1997\n14. 1998\n15. 1999\n16. 2000\n17. 2001\n18. 2002\n19. 2003\n20. 2004\n21. 2005\n22. 2006\n23. 2007\n24. 2008\n25. 2009\n26. 2010\n27. 2011\n28. 2012\n29. 2013\n30. 2014\n31. 2015\n32. 2016\n\n\n",
            "text/latex": "\\begin{enumerate*}\n\\item 1985\n\\item 1986\n\\item 1987\n\\item 1988\n\\item 1989\n\\item 1990\n\\item 1991\n\\item 1992\n\\item 1993\n\\item 1994\n\\item 1995\n\\item 1996\n\\item 1997\n\\item 1998\n\\item 1999\n\\item 2000\n\\item 2001\n\\item 2002\n\\item 2003\n\\item 2004\n\\item 2005\n\\item 2006\n\\item 2007\n\\item 2008\n\\item 2009\n\\item 2010\n\\item 2011\n\\item 2012\n\\item 2013\n\\item 2014\n\\item 2015\n\\item 2016\n\\end{enumerate*}\n",
            "text/plain": [
              " [1] 1985 1986 1987 1988 1989 1990 1991 1992 1993 1994 1995 1996 1997 1998 1999\n",
              "[16] 2000 2001 2002 2003 2004 2005 2006 2007 2008 2009 2010 2011 2012 2013 2014\n",
              "[31] 2015 2016"
            ]
          },
          "metadata": {}
        }
      ],
      "source": [
        "Batting %>%\n",
        "    left_join(Salaries) %>%\n",
        "    group_by(yearID) %>%\n",
        "    summarize(prop_NA = mean(is.na(salary))) %>%\n",
        "    filter(prop_NA < 1) %>%\n",
        "    pull(yearID) # List of years where at least some salaries were recorded"
      ]
    },
    {
      "cell_type": "markdown",
      "id": "485f930d",
      "metadata": {
        "id": "485f930d"
      },
      "source": [
        "#### Mutating join #3: `right_join()`"
      ]
    },
    {
      "cell_type": "markdown",
      "id": "548c3dc2",
      "metadata": {
        "id": "548c3dc2"
      },
      "source": [
        "**``right_join(x, y)``** preserves all rows in **y**, and it adds the columns of **y** to **x**.\n",
        "\n",
        "Here's what a right join looks like for `Batting` and `Salaries`:"
      ]
    },
    {
      "cell_type": "code",
      "execution_count": null,
      "id": "65901cec",
      "metadata": {
        "id": "65901cec",
        "outputId": "936ff611-abbe-4dea-d632-dc29d06663e2",
        "colab": {
          "base_uri": "https://localhost:8080/",
          "height": 1000
        }
      },
      "outputs": [
        {
          "output_type": "stream",
          "name": "stderr",
          "text": [
            "\u001b[1m\u001b[22mJoining with `by = join_by(playerID, yearID, teamID, lgID)`\n"
          ]
        },
        {
          "output_type": "display_data",
          "data": {
            "text/html": [
              "<table class=\"dataframe\">\n",
              "<caption>A data.frame: 26437 × 23</caption>\n",
              "<thead>\n",
              "\t<tr><th scope=col>playerID</th><th scope=col>yearID</th><th scope=col>stint</th><th scope=col>teamID</th><th scope=col>lgID</th><th scope=col>G</th><th scope=col>AB</th><th scope=col>R</th><th scope=col>H</th><th scope=col>X2B</th><th scope=col>⋯</th><th scope=col>SB</th><th scope=col>CS</th><th scope=col>BB</th><th scope=col>SO</th><th scope=col>IBB</th><th scope=col>HBP</th><th scope=col>SH</th><th scope=col>SF</th><th scope=col>GIDP</th><th scope=col>salary</th></tr>\n",
              "\t<tr><th scope=col>&lt;chr&gt;</th><th scope=col>&lt;int&gt;</th><th scope=col>&lt;int&gt;</th><th scope=col>&lt;fct&gt;</th><th scope=col>&lt;fct&gt;</th><th scope=col>&lt;int&gt;</th><th scope=col>&lt;int&gt;</th><th scope=col>&lt;int&gt;</th><th scope=col>&lt;int&gt;</th><th scope=col>&lt;int&gt;</th><th scope=col>⋯</th><th scope=col>&lt;int&gt;</th><th scope=col>&lt;int&gt;</th><th scope=col>&lt;int&gt;</th><th scope=col>&lt;int&gt;</th><th scope=col>&lt;int&gt;</th><th scope=col>&lt;int&gt;</th><th scope=col>&lt;int&gt;</th><th scope=col>&lt;int&gt;</th><th scope=col>&lt;int&gt;</th><th scope=col>&lt;int&gt;</th></tr>\n",
              "</thead>\n",
              "<tbody>\n",
              "\t<tr><td>ackerji01</td><td>1985</td><td>1</td><td>TOR</td><td>AL</td><td> 61</td><td>  0</td><td> 0</td><td>  0</td><td> 0</td><td>⋯</td><td> 0</td><td> 0</td><td> 0</td><td>  0</td><td>0</td><td> 0</td><td> 0</td><td> 0</td><td> 0</td><td> 170000</td></tr>\n",
              "\t<tr><td>agostju01</td><td>1985</td><td>1</td><td>CHA</td><td>AL</td><td> 54</td><td>  0</td><td> 0</td><td>  0</td><td> 0</td><td>⋯</td><td> 0</td><td> 0</td><td> 0</td><td>  0</td><td>0</td><td> 0</td><td> 0</td><td> 0</td><td> 0</td><td> 147500</td></tr>\n",
              "\t<tr><td>aguaylu01</td><td>1985</td><td>1</td><td>PHI</td><td>NL</td><td> 91</td><td>165</td><td>27</td><td> 46</td><td> 7</td><td>⋯</td><td> 1</td><td> 0</td><td>22</td><td> 26</td><td>5</td><td> 6</td><td> 4</td><td> 3</td><td> 7</td><td> 237000</td></tr>\n",
              "\t<tr><td>alexado01</td><td>1985</td><td>1</td><td>TOR</td><td>AL</td><td> 36</td><td>  0</td><td> 0</td><td>  0</td><td> 0</td><td>⋯</td><td> 0</td><td> 0</td><td> 0</td><td>  0</td><td>0</td><td> 0</td><td> 0</td><td> 0</td><td> 0</td><td> 875000</td></tr>\n",
              "\t<tr><td>allenne01</td><td>1985</td><td>1</td><td>SLN</td><td>NL</td><td> 23</td><td>  2</td><td> 0</td><td>  0</td><td> 0</td><td>⋯</td><td> 0</td><td> 0</td><td> 0</td><td>  2</td><td>0</td><td> 0</td><td> 0</td><td> 0</td><td> 0</td><td> 750000</td></tr>\n",
              "\t<tr><td>almonbi01</td><td>1985</td><td>1</td><td>PIT</td><td>NL</td><td> 88</td><td>244</td><td>33</td><td> 66</td><td>17</td><td>⋯</td><td>10</td><td> 7</td><td>22</td><td> 61</td><td>0</td><td> 1</td><td> 4</td><td> 3</td><td> 6</td><td> 255000</td></tr>\n",
              "\t<tr><td>anderla02</td><td>1985</td><td>1</td><td>PHI</td><td>NL</td><td> 57</td><td>  4</td><td> 1</td><td>  0</td><td> 0</td><td>⋯</td><td> 0</td><td> 0</td><td> 0</td><td>  0</td><td>0</td><td> 0</td><td> 1</td><td> 0</td><td> 0</td><td> 250500</td></tr>\n",
              "\t<tr><td>andujjo01</td><td>1985</td><td>1</td><td>SLN</td><td>NL</td><td> 38</td><td> 94</td><td> 2</td><td> 10</td><td> 2</td><td>⋯</td><td> 3</td><td> 1</td><td> 5</td><td> 50</td><td>0</td><td> 0</td><td> 7</td><td> 0</td><td> 2</td><td>1030000</td></tr>\n",
              "\t<tr><td>armasto01</td><td>1985</td><td>1</td><td>BOS</td><td>AL</td><td>103</td><td>385</td><td>50</td><td>102</td><td>17</td><td>⋯</td><td> 0</td><td> 0</td><td>18</td><td> 90</td><td>4</td><td> 2</td><td> 0</td><td> 5</td><td>14</td><td> 915000</td></tr>\n",
              "\t<tr><td>ashbyal01</td><td>1985</td><td>1</td><td>HOU</td><td>NL</td><td> 65</td><td>189</td><td>20</td><td> 53</td><td> 8</td><td>⋯</td><td> 0</td><td> 0</td><td>24</td><td> 27</td><td>2</td><td> 1</td><td> 1</td><td> 1</td><td> 9</td><td> 416667</td></tr>\n",
              "\t<tr><td>atherke01</td><td>1985</td><td>1</td><td>OAK</td><td>AL</td><td> 56</td><td>  0</td><td> 0</td><td>  0</td><td> 0</td><td>⋯</td><td> 0</td><td> 0</td><td> 0</td><td>  0</td><td>0</td><td> 0</td><td> 0</td><td> 0</td><td> 0</td><td> 107333</td></tr>\n",
              "\t<tr><td>ayalabe01</td><td>1985</td><td>1</td><td>CLE</td><td>AL</td><td> 46</td><td> 76</td><td>10</td><td> 19</td><td> 7</td><td>⋯</td><td> 0</td><td> 0</td><td> 4</td><td> 17</td><td>1</td><td> 0</td><td> 0</td><td> 1</td><td> 2</td><td> 303333</td></tr>\n",
              "\t<tr><td>backmwa01</td><td>1985</td><td>1</td><td>NYN</td><td>NL</td><td>145</td><td>520</td><td>77</td><td>142</td><td>24</td><td>⋯</td><td>30</td><td>12</td><td>36</td><td> 72</td><td>1</td><td> 1</td><td>14</td><td> 3</td><td> 3</td><td> 200000</td></tr>\n",
              "\t<tr><td>bailobo01</td><td>1985</td><td>1</td><td>LAN</td><td>NL</td><td> 74</td><td>118</td><td> 8</td><td> 29</td><td> 3</td><td>⋯</td><td> 1</td><td> 0</td><td> 3</td><td>  5</td><td>0</td><td> 1</td><td> 8</td><td> 0</td><td> 3</td><td> 330000</td></tr>\n",
              "\t<tr><td>baineha01</td><td>1985</td><td>1</td><td>CHA</td><td>AL</td><td>160</td><td>640</td><td>86</td><td>198</td><td>29</td><td>⋯</td><td> 1</td><td> 1</td><td>42</td><td> 89</td><td>8</td><td> 1</td><td> 0</td><td>10</td><td>23</td><td> 675000</td></tr>\n",
              "\t<tr><td>bakerdu01</td><td>1985</td><td>1</td><td>OAK</td><td>AL</td><td>111</td><td>343</td><td>48</td><td> 92</td><td>15</td><td>⋯</td><td> 2</td><td> 1</td><td>50</td><td> 47</td><td>0</td><td> 0</td><td> 0</td><td> 3</td><td>12</td><td> 575000</td></tr>\n",
              "\t<tr><td>balbost01</td><td>1985</td><td>1</td><td>KCA</td><td>AL</td><td>160</td><td>600</td><td>74</td><td>146</td><td>28</td><td>⋯</td><td> 1</td><td> 1</td><td>52</td><td>166</td><td>4</td><td> 5</td><td> 0</td><td> 5</td><td>14</td><td> 205000</td></tr>\n",
              "\t<tr><td>bandoch01</td><td>1985</td><td>1</td><td>CLE</td><td>AL</td><td> 73</td><td>173</td><td>11</td><td> 24</td><td> 4</td><td>⋯</td><td> 0</td><td> 1</td><td>22</td><td> 21</td><td>0</td><td> 0</td><td> 2</td><td> 2</td><td> 6</td><td> 225000</td></tr>\n",
              "\t<tr><td>bannial01</td><td>1985</td><td>1</td><td>TEX</td><td>AL</td><td> 57</td><td>122</td><td>17</td><td> 32</td><td> 4</td><td>⋯</td><td> 8</td><td> 2</td><td>14</td><td> 17</td><td>0</td><td> 0</td><td> 1</td><td> 0</td><td> 1</td><td> 350000</td></tr>\n",
              "\t<tr><td>bannifl01</td><td>1985</td><td>1</td><td>CHA</td><td>AL</td><td> 34</td><td>  0</td><td> 0</td><td>  0</td><td> 0</td><td>⋯</td><td> 0</td><td> 0</td><td> 0</td><td>  0</td><td>0</td><td> 0</td><td> 0</td><td> 0</td><td> 0</td><td> 811250</td></tr>\n",
              "\t<tr><td>barfije01</td><td>1985</td><td>1</td><td>TOR</td><td>AL</td><td>155</td><td>539</td><td>94</td><td>156</td><td>34</td><td>⋯</td><td>22</td><td> 8</td><td>66</td><td>143</td><td>5</td><td> 4</td><td> 0</td><td> 3</td><td>14</td><td> 325000</td></tr>\n",
              "\t<tr><td>barkele01</td><td>1985</td><td>1</td><td>ATL</td><td>NL</td><td> 20</td><td> 17</td><td> 0</td><td>  0</td><td> 0</td><td>⋯</td><td> 0</td><td> 1</td><td> 0</td><td>  7</td><td>0</td><td> 0</td><td> 0</td><td> 0</td><td> 0</td><td> 870000</td></tr>\n",
              "\t<tr><td>barrema02</td><td>1985</td><td>1</td><td>BOS</td><td>AL</td><td>156</td><td>534</td><td>59</td><td>142</td><td>26</td><td>⋯</td><td> 7</td><td> 5</td><td>56</td><td> 50</td><td>3</td><td> 2</td><td>12</td><td> 4</td><td>14</td><td> 272500</td></tr>\n",
              "\t<tr><td>basske01 </td><td>1985</td><td>1</td><td>HOU</td><td>NL</td><td>150</td><td>539</td><td>72</td><td>145</td><td>27</td><td>⋯</td><td>19</td><td> 8</td><td>31</td><td> 63</td><td>1</td><td> 6</td><td> 4</td><td> 2</td><td>10</td><td> 155000</td></tr>\n",
              "\t<tr><td>baylodo01</td><td>1985</td><td>1</td><td>NYA</td><td>AL</td><td>142</td><td>477</td><td>70</td><td>110</td><td>24</td><td>⋯</td><td> 0</td><td> 4</td><td>52</td><td> 90</td><td>6</td><td>24</td><td> 1</td><td>10</td><td>10</td><td> 810000</td></tr>\n",
              "\t<tr><td>beattji01</td><td>1985</td><td>1</td><td>SEA</td><td>AL</td><td> 18</td><td>  0</td><td> 0</td><td>  0</td><td> 0</td><td>⋯</td><td> 0</td><td> 0</td><td> 0</td><td>  0</td><td>0</td><td> 0</td><td> 0</td><td> 0</td><td> 0</td><td> 470000</td></tr>\n",
              "\t<tr><td>beckwjo01</td><td>1985</td><td>1</td><td>KCA</td><td>AL</td><td> 49</td><td>  0</td><td> 0</td><td>  0</td><td> 0</td><td>⋯</td><td> 0</td><td> 0</td><td> 0</td><td>  0</td><td>0</td><td> 0</td><td> 0</td><td> 0</td><td> 0</td><td> 358000</td></tr>\n",
              "\t<tr><td>bedrost01</td><td>1985</td><td>1</td><td>ATL</td><td>NL</td><td> 37</td><td> 64</td><td> 3</td><td>  5</td><td> 0</td><td>⋯</td><td> 0</td><td> 0</td><td> 1</td><td> 22</td><td>0</td><td> 0</td><td> 6</td><td> 0</td><td> 0</td><td> 550000</td></tr>\n",
              "\t<tr><td>bellbu01 </td><td>1985</td><td>2</td><td>CIN</td><td>NL</td><td> 67</td><td>247</td><td>28</td><td> 54</td><td>15</td><td>⋯</td><td> 0</td><td> 1</td><td>34</td><td> 27</td><td>2</td><td> 0</td><td> 1</td><td> 2</td><td>10</td><td> 751297</td></tr>\n",
              "\t<tr><td>bellge02 </td><td>1985</td><td>1</td><td>TOR</td><td>AL</td><td>157</td><td>607</td><td>87</td><td>167</td><td>28</td><td>⋯</td><td>21</td><td> 6</td><td>43</td><td> 90</td><td>6</td><td> 8</td><td> 0</td><td> 8</td><td> 8</td><td> 335000</td></tr>\n",
              "\t<tr><td>⋮</td><td>⋮</td><td>⋮</td><td>⋮</td><td>⋮</td><td>⋮</td><td>⋮</td><td>⋮</td><td>⋮</td><td>⋮</td><td>⋱</td><td>⋮</td><td>⋮</td><td>⋮</td><td>⋮</td><td>⋮</td><td>⋮</td><td>⋮</td><td>⋮</td><td>⋮</td><td>⋮</td></tr>\n",
              "\t<tr><td>wilsocj01</td><td>2016</td><td>NA</td><td>LAA</td><td>AL</td><td>NA</td><td>NA</td><td>NA</td><td>NA</td><td>NA</td><td>⋯</td><td>NA</td><td>NA</td><td>NA</td><td>NA</td><td>NA</td><td>NA</td><td>NA</td><td>NA</td><td>NA</td><td>20500000</td></tr>\n",
              "\t<tr><td>guerral01</td><td>2016</td><td>NA</td><td>LAN</td><td>NL</td><td>NA</td><td>NA</td><td>NA</td><td>NA</td><td>NA</td><td>⋯</td><td>NA</td><td>NA</td><td>NA</td><td>NA</td><td>NA</td><td>NA</td><td>NA</td><td>NA</td><td>NA</td><td> 7500000</td></tr>\n",
              "\t<tr><td>montafr01</td><td>2016</td><td>NA</td><td>LAN</td><td>NL</td><td>NA</td><td>NA</td><td>NA</td><td>NA</td><td>NA</td><td>⋯</td><td>NA</td><td>NA</td><td>NA</td><td>NA</td><td>NA</td><td>NA</td><td>NA</td><td>NA</td><td>NA</td><td>  510000</td></tr>\n",
              "\t<tr><td>cappsca01</td><td>2016</td><td>NA</td><td>MIA</td><td>NL</td><td>NA</td><td>NA</td><td>NA</td><td>NA</td><td>NA</td><td>⋯</td><td>NA</td><td>NA</td><td>NA</td><td>NA</td><td>NA</td><td>NA</td><td>NA</td><td>NA</td><td>NA</td><td>  987500</td></tr>\n",
              "\t<tr><td>lazora01 </td><td>2016</td><td>NA</td><td>MIA</td><td>NL</td><td>NA</td><td>NA</td><td>NA</td><td>NA</td><td>NA</td><td>⋯</td><td>NA</td><td>NA</td><td>NA</td><td>NA</td><td>NA</td><td>NA</td><td>NA</td><td>NA</td><td>NA</td><td>  508500</td></tr>\n",
              "\t<tr><td>barriyh01</td><td>2016</td><td>NA</td><td>MIL</td><td>NL</td><td>NA</td><td>NA</td><td>NA</td><td>NA</td><td>NA</td><td>⋯</td><td>NA</td><td>NA</td><td>NA</td><td>NA</td><td>NA</td><td>NA</td><td>NA</td><td>NA</td><td>NA</td><td>  509200</td></tr>\n",
              "\t<tr><td>liriary01</td><td>2016</td><td>NA</td><td>MIL</td><td>NL</td><td>NA</td><td>NA</td><td>NA</td><td>NA</td><td>NA</td><td>⋯</td><td>NA</td><td>NA</td><td>NA</td><td>NA</td><td>NA</td><td>NA</td><td>NA</td><td>NA</td><td>NA</td><td>  508500</td></tr>\n",
              "\t<tr><td>nolinse01</td><td>2016</td><td>NA</td><td>MIL</td><td>NL</td><td>NA</td><td>NA</td><td>NA</td><td>NA</td><td>NA</td><td>⋯</td><td>NA</td><td>NA</td><td>NA</td><td>NA</td><td>NA</td><td>NA</td><td>NA</td><td>NA</td><td>NA</td><td>  509700</td></tr>\n",
              "\t<tr><td>matzety01</td><td>2016</td><td>NA</td><td>MIN</td><td>AL</td><td>NA</td><td>NA</td><td>NA</td><td>NA</td><td>NA</td><td>⋯</td><td>NA</td><td>NA</td><td>NA</td><td>NA</td><td>NA</td><td>NA</td><td>NA</td><td>NA</td><td>NA</td><td>  545000</td></tr>\n",
              "\t<tr><td>wheelza01</td><td>2016</td><td>NA</td><td>NYN</td><td>NL</td><td>NA</td><td>NA</td><td>NA</td><td>NA</td><td>NA</td><td>⋯</td><td>NA</td><td>NA</td><td>NA</td><td>NA</td><td>NA</td><td>NA</td><td>NA</td><td>NA</td><td>NA</td><td>  546250</td></tr>\n",
              "\t<tr><td>birdgr01 </td><td>2016</td><td>NA</td><td>NYA</td><td>AL</td><td>NA</td><td>NA</td><td>NA</td><td>NA</td><td>NA</td><td>⋯</td><td>NA</td><td>NA</td><td>NA</td><td>NA</td><td>NA</td><td>NA</td><td>NA</td><td>NA</td><td>NA</td><td>  525300</td></tr>\n",
              "\t<tr><td>alvarhe01</td><td>2016</td><td>NA</td><td>OAK</td><td>AL</td><td>NA</td><td>NA</td><td>NA</td><td>NA</td><td>NA</td><td>⋯</td><td>NA</td><td>NA</td><td>NA</td><td>NA</td><td>NA</td><td>NA</td><td>NA</td><td>NA</td><td>NA</td><td> 4250000</td></tr>\n",
              "\t<tr><td>alvarrj01</td><td>2016</td><td>NA</td><td>OAK</td><td>AL</td><td>NA</td><td>NA</td><td>NA</td><td>NA</td><td>NA</td><td>⋯</td><td>NA</td><td>NA</td><td>NA</td><td>NA</td><td>NA</td><td>NA</td><td>NA</td><td>NA</td><td>NA</td><td>  510000</td></tr>\n",
              "\t<tr><td>doubrfe01</td><td>2016</td><td>NA</td><td>OAK</td><td>AL</td><td>NA</td><td>NA</td><td>NA</td><td>NA</td><td>NA</td><td>⋯</td><td>NA</td><td>NA</td><td>NA</td><td>NA</td><td>NA</td><td>NA</td><td>NA</td><td>NA</td><td>NA</td><td> 2000000</td></tr>\n",
              "\t<tr><td>fuldsa01 </td><td>2016</td><td>NA</td><td>OAK</td><td>AL</td><td>NA</td><td>NA</td><td>NA</td><td>NA</td><td>NA</td><td>⋯</td><td>NA</td><td>NA</td><td>NA</td><td>NA</td><td>NA</td><td>NA</td><td>NA</td><td>NA</td><td>NA</td><td> 1925000</td></tr>\n",
              "\t<tr><td>parkeja02</td><td>2016</td><td>NA</td><td>OAK</td><td>AL</td><td>NA</td><td>NA</td><td>NA</td><td>NA</td><td>NA</td><td>⋯</td><td>NA</td><td>NA</td><td>NA</td><td>NA</td><td>NA</td><td>NA</td><td>NA</td><td>NA</td><td>NA</td><td>  850000</td></tr>\n",
              "\t<tr><td>sogarer01</td><td>2016</td><td>NA</td><td>OAK</td><td>AL</td><td>NA</td><td>NA</td><td>NA</td><td>NA</td><td>NA</td><td>⋯</td><td>NA</td><td>NA</td><td>NA</td><td>NA</td><td>NA</td><td>NA</td><td>NA</td><td>NA</td><td>NA</td><td> 1500000</td></tr>\n",
              "\t<tr><td>harrima01</td><td>2016</td><td>NA</td><td>PHI</td><td>NL</td><td>NA</td><td>NA</td><td>NA</td><td>NA</td><td>NA</td><td>⋯</td><td>NA</td><td>NA</td><td>NA</td><td>NA</td><td>NA</td><td>NA</td><td>NA</td><td>NA</td><td>NA</td><td>13000000</td></tr>\n",
              "\t<tr><td>hollama01</td><td>2016</td><td>NA</td><td>PHI</td><td>NL</td><td>NA</td><td>NA</td><td>NA</td><td>NA</td><td>NA</td><td>⋯</td><td>NA</td><td>NA</td><td>NA</td><td>NA</td><td>NA</td><td>NA</td><td>NA</td><td>NA</td><td>NA</td><td>  512500</td></tr>\n",
              "\t<tr><td>margoma01</td><td>2016</td><td>NA</td><td>PHI</td><td>NL</td><td>NA</td><td>NA</td><td>NA</td><td>NA</td><td>NA</td><td>⋯</td><td>NA</td><td>NA</td><td>NA</td><td>NA</td><td>NA</td><td>NA</td><td>NA</td><td>NA</td><td>NA</td><td>  512500</td></tr>\n",
              "\t<tr><td>edwarjo02</td><td>2016</td><td>NA</td><td>SDN</td><td>NL</td><td>NA</td><td>NA</td><td>NA</td><td>NA</td><td>NA</td><td>⋯</td><td>NA</td><td>NA</td><td>NA</td><td>NA</td><td>NA</td><td>NA</td><td>NA</td><td>NA</td><td>NA</td><td>  509600</td></tr>\n",
              "\t<tr><td>cookry01 </td><td>2016</td><td>NA</td><td>SEA</td><td>AL</td><td>NA</td><td>NA</td><td>NA</td><td>NA</td><td>NA</td><td>⋯</td><td>NA</td><td>NA</td><td>NA</td><td>NA</td><td>NA</td><td>NA</td><td>NA</td><td>NA</td><td>NA</td><td> 1100000</td></tr>\n",
              "\t<tr><td>furbuch01</td><td>2016</td><td>NA</td><td>SEA</td><td>AL</td><td>NA</td><td>NA</td><td>NA</td><td>NA</td><td>NA</td><td>⋯</td><td>NA</td><td>NA</td><td>NA</td><td>NA</td><td>NA</td><td>NA</td><td>NA</td><td>NA</td><td>NA</td><td> 1600000</td></tr>\n",
              "\t<tr><td>duffyma02</td><td>2016</td><td>NA</td><td>SFN</td><td>NL</td><td>NA</td><td>NA</td><td>NA</td><td>NA</td><td>NA</td><td>⋯</td><td>NA</td><td>NA</td><td>NA</td><td>NA</td><td>NA</td><td>NA</td><td>NA</td><td>NA</td><td>NA</td><td>  537500</td></tr>\n",
              "\t<tr><td>harrimi03</td><td>2016</td><td>NA</td><td>SLN</td><td>NL</td><td>NA</td><td>NA</td><td>NA</td><td>NA</td><td>NA</td><td>⋯</td><td>NA</td><td>NA</td><td>NA</td><td>NA</td><td>NA</td><td>NA</td><td>NA</td><td>NA</td><td>NA</td><td>  509000</td></tr>\n",
              "\t<tr><td>lynnla01 </td><td>2016</td><td>NA</td><td>SLN</td><td>NL</td><td>NA</td><td>NA</td><td>NA</td><td>NA</td><td>NA</td><td>⋯</td><td>NA</td><td>NA</td><td>NA</td><td>NA</td><td>NA</td><td>NA</td><td>NA</td><td>NA</td><td>NA</td><td> 7500000</td></tr>\n",
              "\t<tr><td>waldejo01</td><td>2016</td><td>NA</td><td>SLN</td><td>NL</td><td>NA</td><td>NA</td><td>NA</td><td>NA</td><td>NA</td><td>⋯</td><td>NA</td><td>NA</td><td>NA</td><td>NA</td><td>NA</td><td>NA</td><td>NA</td><td>NA</td><td>NA</td><td> 3675000</td></tr>\n",
              "\t<tr><td>gimench01</td><td>2016</td><td>NA</td><td>TEX</td><td>AL</td><td>NA</td><td>NA</td><td>NA</td><td>NA</td><td>NA</td><td>⋯</td><td>NA</td><td>NA</td><td>NA</td><td>NA</td><td>NA</td><td>NA</td><td>NA</td><td>NA</td><td>NA</td><td>  975000</td></tr>\n",
              "\t<tr><td>hamiljo03</td><td>2016</td><td>NA</td><td>TEX</td><td>AL</td><td>NA</td><td>NA</td><td>NA</td><td>NA</td><td>NA</td><td>⋯</td><td>NA</td><td>NA</td><td>NA</td><td>NA</td><td>NA</td><td>NA</td><td>NA</td><td>NA</td><td>NA</td><td>24000000</td></tr>\n",
              "\t<tr><td>barreaa01</td><td>2016</td><td>NA</td><td>WAS</td><td>NL</td><td>NA</td><td>NA</td><td>NA</td><td>NA</td><td>NA</td><td>⋯</td><td>NA</td><td>NA</td><td>NA</td><td>NA</td><td>NA</td><td>NA</td><td>NA</td><td>NA</td><td>NA</td><td>  519400</td></tr>\n",
              "</tbody>\n",
              "</table>\n"
            ],
            "text/markdown": "\nA data.frame: 26437 × 23\n\n| playerID &lt;chr&gt; | yearID &lt;int&gt; | stint &lt;int&gt; | teamID &lt;fct&gt; | lgID &lt;fct&gt; | G &lt;int&gt; | AB &lt;int&gt; | R &lt;int&gt; | H &lt;int&gt; | X2B &lt;int&gt; | ⋯ ⋯ | SB &lt;int&gt; | CS &lt;int&gt; | BB &lt;int&gt; | SO &lt;int&gt; | IBB &lt;int&gt; | HBP &lt;int&gt; | SH &lt;int&gt; | SF &lt;int&gt; | GIDP &lt;int&gt; | salary &lt;int&gt; |\n|---|---|---|---|---|---|---|---|---|---|---|---|---|---|---|---|---|---|---|---|---|\n| ackerji01 | 1985 | 1 | TOR | AL |  61 |   0 |  0 |   0 |  0 | ⋯ |  0 |  0 |  0 |   0 | 0 |  0 |  0 |  0 |  0 |  170000 |\n| agostju01 | 1985 | 1 | CHA | AL |  54 |   0 |  0 |   0 |  0 | ⋯ |  0 |  0 |  0 |   0 | 0 |  0 |  0 |  0 |  0 |  147500 |\n| aguaylu01 | 1985 | 1 | PHI | NL |  91 | 165 | 27 |  46 |  7 | ⋯ |  1 |  0 | 22 |  26 | 5 |  6 |  4 |  3 |  7 |  237000 |\n| alexado01 | 1985 | 1 | TOR | AL |  36 |   0 |  0 |   0 |  0 | ⋯ |  0 |  0 |  0 |   0 | 0 |  0 |  0 |  0 |  0 |  875000 |\n| allenne01 | 1985 | 1 | SLN | NL |  23 |   2 |  0 |   0 |  0 | ⋯ |  0 |  0 |  0 |   2 | 0 |  0 |  0 |  0 |  0 |  750000 |\n| almonbi01 | 1985 | 1 | PIT | NL |  88 | 244 | 33 |  66 | 17 | ⋯ | 10 |  7 | 22 |  61 | 0 |  1 |  4 |  3 |  6 |  255000 |\n| anderla02 | 1985 | 1 | PHI | NL |  57 |   4 |  1 |   0 |  0 | ⋯ |  0 |  0 |  0 |   0 | 0 |  0 |  1 |  0 |  0 |  250500 |\n| andujjo01 | 1985 | 1 | SLN | NL |  38 |  94 |  2 |  10 |  2 | ⋯ |  3 |  1 |  5 |  50 | 0 |  0 |  7 |  0 |  2 | 1030000 |\n| armasto01 | 1985 | 1 | BOS | AL | 103 | 385 | 50 | 102 | 17 | ⋯ |  0 |  0 | 18 |  90 | 4 |  2 |  0 |  5 | 14 |  915000 |\n| ashbyal01 | 1985 | 1 | HOU | NL |  65 | 189 | 20 |  53 |  8 | ⋯ |  0 |  0 | 24 |  27 | 2 |  1 |  1 |  1 |  9 |  416667 |\n| atherke01 | 1985 | 1 | OAK | AL |  56 |   0 |  0 |   0 |  0 | ⋯ |  0 |  0 |  0 |   0 | 0 |  0 |  0 |  0 |  0 |  107333 |\n| ayalabe01 | 1985 | 1 | CLE | AL |  46 |  76 | 10 |  19 |  7 | ⋯ |  0 |  0 |  4 |  17 | 1 |  0 |  0 |  1 |  2 |  303333 |\n| backmwa01 | 1985 | 1 | NYN | NL | 145 | 520 | 77 | 142 | 24 | ⋯ | 30 | 12 | 36 |  72 | 1 |  1 | 14 |  3 |  3 |  200000 |\n| bailobo01 | 1985 | 1 | LAN | NL |  74 | 118 |  8 |  29 |  3 | ⋯ |  1 |  0 |  3 |   5 | 0 |  1 |  8 |  0 |  3 |  330000 |\n| baineha01 | 1985 | 1 | CHA | AL | 160 | 640 | 86 | 198 | 29 | ⋯ |  1 |  1 | 42 |  89 | 8 |  1 |  0 | 10 | 23 |  675000 |\n| bakerdu01 | 1985 | 1 | OAK | AL | 111 | 343 | 48 |  92 | 15 | ⋯ |  2 |  1 | 50 |  47 | 0 |  0 |  0 |  3 | 12 |  575000 |\n| balbost01 | 1985 | 1 | KCA | AL | 160 | 600 | 74 | 146 | 28 | ⋯ |  1 |  1 | 52 | 166 | 4 |  5 |  0 |  5 | 14 |  205000 |\n| bandoch01 | 1985 | 1 | CLE | AL |  73 | 173 | 11 |  24 |  4 | ⋯ |  0 |  1 | 22 |  21 | 0 |  0 |  2 |  2 |  6 |  225000 |\n| bannial01 | 1985 | 1 | TEX | AL |  57 | 122 | 17 |  32 |  4 | ⋯ |  8 |  2 | 14 |  17 | 0 |  0 |  1 |  0 |  1 |  350000 |\n| bannifl01 | 1985 | 1 | CHA | AL |  34 |   0 |  0 |   0 |  0 | ⋯ |  0 |  0 |  0 |   0 | 0 |  0 |  0 |  0 |  0 |  811250 |\n| barfije01 | 1985 | 1 | TOR | AL | 155 | 539 | 94 | 156 | 34 | ⋯ | 22 |  8 | 66 | 143 | 5 |  4 |  0 |  3 | 14 |  325000 |\n| barkele01 | 1985 | 1 | ATL | NL |  20 |  17 |  0 |   0 |  0 | ⋯ |  0 |  1 |  0 |   7 | 0 |  0 |  0 |  0 |  0 |  870000 |\n| barrema02 | 1985 | 1 | BOS | AL | 156 | 534 | 59 | 142 | 26 | ⋯ |  7 |  5 | 56 |  50 | 3 |  2 | 12 |  4 | 14 |  272500 |\n| basske01  | 1985 | 1 | HOU | NL | 150 | 539 | 72 | 145 | 27 | ⋯ | 19 |  8 | 31 |  63 | 1 |  6 |  4 |  2 | 10 |  155000 |\n| baylodo01 | 1985 | 1 | NYA | AL | 142 | 477 | 70 | 110 | 24 | ⋯ |  0 |  4 | 52 |  90 | 6 | 24 |  1 | 10 | 10 |  810000 |\n| beattji01 | 1985 | 1 | SEA | AL |  18 |   0 |  0 |   0 |  0 | ⋯ |  0 |  0 |  0 |   0 | 0 |  0 |  0 |  0 |  0 |  470000 |\n| beckwjo01 | 1985 | 1 | KCA | AL |  49 |   0 |  0 |   0 |  0 | ⋯ |  0 |  0 |  0 |   0 | 0 |  0 |  0 |  0 |  0 |  358000 |\n| bedrost01 | 1985 | 1 | ATL | NL |  37 |  64 |  3 |   5 |  0 | ⋯ |  0 |  0 |  1 |  22 | 0 |  0 |  6 |  0 |  0 |  550000 |\n| bellbu01  | 1985 | 2 | CIN | NL |  67 | 247 | 28 |  54 | 15 | ⋯ |  0 |  1 | 34 |  27 | 2 |  0 |  1 |  2 | 10 |  751297 |\n| bellge02  | 1985 | 1 | TOR | AL | 157 | 607 | 87 | 167 | 28 | ⋯ | 21 |  6 | 43 |  90 | 6 |  8 |  0 |  8 |  8 |  335000 |\n| ⋮ | ⋮ | ⋮ | ⋮ | ⋮ | ⋮ | ⋮ | ⋮ | ⋮ | ⋮ | ⋱ | ⋮ | ⋮ | ⋮ | ⋮ | ⋮ | ⋮ | ⋮ | ⋮ | ⋮ | ⋮ |\n| wilsocj01 | 2016 | NA | LAA | AL | NA | NA | NA | NA | NA | ⋯ | NA | NA | NA | NA | NA | NA | NA | NA | NA | 20500000 |\n| guerral01 | 2016 | NA | LAN | NL | NA | NA | NA | NA | NA | ⋯ | NA | NA | NA | NA | NA | NA | NA | NA | NA |  7500000 |\n| montafr01 | 2016 | NA | LAN | NL | NA | NA | NA | NA | NA | ⋯ | NA | NA | NA | NA | NA | NA | NA | NA | NA |   510000 |\n| cappsca01 | 2016 | NA | MIA | NL | NA | NA | NA | NA | NA | ⋯ | NA | NA | NA | NA | NA | NA | NA | NA | NA |   987500 |\n| lazora01  | 2016 | NA | MIA | NL | NA | NA | NA | NA | NA | ⋯ | NA | NA | NA | NA | NA | NA | NA | NA | NA |   508500 |\n| barriyh01 | 2016 | NA | MIL | NL | NA | NA | NA | NA | NA | ⋯ | NA | NA | NA | NA | NA | NA | NA | NA | NA |   509200 |\n| liriary01 | 2016 | NA | MIL | NL | NA | NA | NA | NA | NA | ⋯ | NA | NA | NA | NA | NA | NA | NA | NA | NA |   508500 |\n| nolinse01 | 2016 | NA | MIL | NL | NA | NA | NA | NA | NA | ⋯ | NA | NA | NA | NA | NA | NA | NA | NA | NA |   509700 |\n| matzety01 | 2016 | NA | MIN | AL | NA | NA | NA | NA | NA | ⋯ | NA | NA | NA | NA | NA | NA | NA | NA | NA |   545000 |\n| wheelza01 | 2016 | NA | NYN | NL | NA | NA | NA | NA | NA | ⋯ | NA | NA | NA | NA | NA | NA | NA | NA | NA |   546250 |\n| birdgr01  | 2016 | NA | NYA | AL | NA | NA | NA | NA | NA | ⋯ | NA | NA | NA | NA | NA | NA | NA | NA | NA |   525300 |\n| alvarhe01 | 2016 | NA | OAK | AL | NA | NA | NA | NA | NA | ⋯ | NA | NA | NA | NA | NA | NA | NA | NA | NA |  4250000 |\n| alvarrj01 | 2016 | NA | OAK | AL | NA | NA | NA | NA | NA | ⋯ | NA | NA | NA | NA | NA | NA | NA | NA | NA |   510000 |\n| doubrfe01 | 2016 | NA | OAK | AL | NA | NA | NA | NA | NA | ⋯ | NA | NA | NA | NA | NA | NA | NA | NA | NA |  2000000 |\n| fuldsa01  | 2016 | NA | OAK | AL | NA | NA | NA | NA | NA | ⋯ | NA | NA | NA | NA | NA | NA | NA | NA | NA |  1925000 |\n| parkeja02 | 2016 | NA | OAK | AL | NA | NA | NA | NA | NA | ⋯ | NA | NA | NA | NA | NA | NA | NA | NA | NA |   850000 |\n| sogarer01 | 2016 | NA | OAK | AL | NA | NA | NA | NA | NA | ⋯ | NA | NA | NA | NA | NA | NA | NA | NA | NA |  1500000 |\n| harrima01 | 2016 | NA | PHI | NL | NA | NA | NA | NA | NA | ⋯ | NA | NA | NA | NA | NA | NA | NA | NA | NA | 13000000 |\n| hollama01 | 2016 | NA | PHI | NL | NA | NA | NA | NA | NA | ⋯ | NA | NA | NA | NA | NA | NA | NA | NA | NA |   512500 |\n| margoma01 | 2016 | NA | PHI | NL | NA | NA | NA | NA | NA | ⋯ | NA | NA | NA | NA | NA | NA | NA | NA | NA |   512500 |\n| edwarjo02 | 2016 | NA | SDN | NL | NA | NA | NA | NA | NA | ⋯ | NA | NA | NA | NA | NA | NA | NA | NA | NA |   509600 |\n| cookry01  | 2016 | NA | SEA | AL | NA | NA | NA | NA | NA | ⋯ | NA | NA | NA | NA | NA | NA | NA | NA | NA |  1100000 |\n| furbuch01 | 2016 | NA | SEA | AL | NA | NA | NA | NA | NA | ⋯ | NA | NA | NA | NA | NA | NA | NA | NA | NA |  1600000 |\n| duffyma02 | 2016 | NA | SFN | NL | NA | NA | NA | NA | NA | ⋯ | NA | NA | NA | NA | NA | NA | NA | NA | NA |   537500 |\n| harrimi03 | 2016 | NA | SLN | NL | NA | NA | NA | NA | NA | ⋯ | NA | NA | NA | NA | NA | NA | NA | NA | NA |   509000 |\n| lynnla01  | 2016 | NA | SLN | NL | NA | NA | NA | NA | NA | ⋯ | NA | NA | NA | NA | NA | NA | NA | NA | NA |  7500000 |\n| waldejo01 | 2016 | NA | SLN | NL | NA | NA | NA | NA | NA | ⋯ | NA | NA | NA | NA | NA | NA | NA | NA | NA |  3675000 |\n| gimench01 | 2016 | NA | TEX | AL | NA | NA | NA | NA | NA | ⋯ | NA | NA | NA | NA | NA | NA | NA | NA | NA |   975000 |\n| hamiljo03 | 2016 | NA | TEX | AL | NA | NA | NA | NA | NA | ⋯ | NA | NA | NA | NA | NA | NA | NA | NA | NA | 24000000 |\n| barreaa01 | 2016 | NA | WAS | NL | NA | NA | NA | NA | NA | ⋯ | NA | NA | NA | NA | NA | NA | NA | NA | NA |   519400 |\n\n",
            "text/latex": "A data.frame: 26437 × 23\n\\begin{tabular}{lllllllllllllllllllll}\n playerID & yearID & stint & teamID & lgID & G & AB & R & H & X2B & ⋯ & SB & CS & BB & SO & IBB & HBP & SH & SF & GIDP & salary\\\\\n <chr> & <int> & <int> & <fct> & <fct> & <int> & <int> & <int> & <int> & <int> & ⋯ & <int> & <int> & <int> & <int> & <int> & <int> & <int> & <int> & <int> & <int>\\\\\n\\hline\n\t ackerji01 & 1985 & 1 & TOR & AL &  61 &   0 &  0 &   0 &  0 & ⋯ &  0 &  0 &  0 &   0 & 0 &  0 &  0 &  0 &  0 &  170000\\\\\n\t agostju01 & 1985 & 1 & CHA & AL &  54 &   0 &  0 &   0 &  0 & ⋯ &  0 &  0 &  0 &   0 & 0 &  0 &  0 &  0 &  0 &  147500\\\\\n\t aguaylu01 & 1985 & 1 & PHI & NL &  91 & 165 & 27 &  46 &  7 & ⋯ &  1 &  0 & 22 &  26 & 5 &  6 &  4 &  3 &  7 &  237000\\\\\n\t alexado01 & 1985 & 1 & TOR & AL &  36 &   0 &  0 &   0 &  0 & ⋯ &  0 &  0 &  0 &   0 & 0 &  0 &  0 &  0 &  0 &  875000\\\\\n\t allenne01 & 1985 & 1 & SLN & NL &  23 &   2 &  0 &   0 &  0 & ⋯ &  0 &  0 &  0 &   2 & 0 &  0 &  0 &  0 &  0 &  750000\\\\\n\t almonbi01 & 1985 & 1 & PIT & NL &  88 & 244 & 33 &  66 & 17 & ⋯ & 10 &  7 & 22 &  61 & 0 &  1 &  4 &  3 &  6 &  255000\\\\\n\t anderla02 & 1985 & 1 & PHI & NL &  57 &   4 &  1 &   0 &  0 & ⋯ &  0 &  0 &  0 &   0 & 0 &  0 &  1 &  0 &  0 &  250500\\\\\n\t andujjo01 & 1985 & 1 & SLN & NL &  38 &  94 &  2 &  10 &  2 & ⋯ &  3 &  1 &  5 &  50 & 0 &  0 &  7 &  0 &  2 & 1030000\\\\\n\t armasto01 & 1985 & 1 & BOS & AL & 103 & 385 & 50 & 102 & 17 & ⋯ &  0 &  0 & 18 &  90 & 4 &  2 &  0 &  5 & 14 &  915000\\\\\n\t ashbyal01 & 1985 & 1 & HOU & NL &  65 & 189 & 20 &  53 &  8 & ⋯ &  0 &  0 & 24 &  27 & 2 &  1 &  1 &  1 &  9 &  416667\\\\\n\t atherke01 & 1985 & 1 & OAK & AL &  56 &   0 &  0 &   0 &  0 & ⋯ &  0 &  0 &  0 &   0 & 0 &  0 &  0 &  0 &  0 &  107333\\\\\n\t ayalabe01 & 1985 & 1 & CLE & AL &  46 &  76 & 10 &  19 &  7 & ⋯ &  0 &  0 &  4 &  17 & 1 &  0 &  0 &  1 &  2 &  303333\\\\\n\t backmwa01 & 1985 & 1 & NYN & NL & 145 & 520 & 77 & 142 & 24 & ⋯ & 30 & 12 & 36 &  72 & 1 &  1 & 14 &  3 &  3 &  200000\\\\\n\t bailobo01 & 1985 & 1 & LAN & NL &  74 & 118 &  8 &  29 &  3 & ⋯ &  1 &  0 &  3 &   5 & 0 &  1 &  8 &  0 &  3 &  330000\\\\\n\t baineha01 & 1985 & 1 & CHA & AL & 160 & 640 & 86 & 198 & 29 & ⋯ &  1 &  1 & 42 &  89 & 8 &  1 &  0 & 10 & 23 &  675000\\\\\n\t bakerdu01 & 1985 & 1 & OAK & AL & 111 & 343 & 48 &  92 & 15 & ⋯ &  2 &  1 & 50 &  47 & 0 &  0 &  0 &  3 & 12 &  575000\\\\\n\t balbost01 & 1985 & 1 & KCA & AL & 160 & 600 & 74 & 146 & 28 & ⋯ &  1 &  1 & 52 & 166 & 4 &  5 &  0 &  5 & 14 &  205000\\\\\n\t bandoch01 & 1985 & 1 & CLE & AL &  73 & 173 & 11 &  24 &  4 & ⋯ &  0 &  1 & 22 &  21 & 0 &  0 &  2 &  2 &  6 &  225000\\\\\n\t bannial01 & 1985 & 1 & TEX & AL &  57 & 122 & 17 &  32 &  4 & ⋯ &  8 &  2 & 14 &  17 & 0 &  0 &  1 &  0 &  1 &  350000\\\\\n\t bannifl01 & 1985 & 1 & CHA & AL &  34 &   0 &  0 &   0 &  0 & ⋯ &  0 &  0 &  0 &   0 & 0 &  0 &  0 &  0 &  0 &  811250\\\\\n\t barfije01 & 1985 & 1 & TOR & AL & 155 & 539 & 94 & 156 & 34 & ⋯ & 22 &  8 & 66 & 143 & 5 &  4 &  0 &  3 & 14 &  325000\\\\\n\t barkele01 & 1985 & 1 & ATL & NL &  20 &  17 &  0 &   0 &  0 & ⋯ &  0 &  1 &  0 &   7 & 0 &  0 &  0 &  0 &  0 &  870000\\\\\n\t barrema02 & 1985 & 1 & BOS & AL & 156 & 534 & 59 & 142 & 26 & ⋯ &  7 &  5 & 56 &  50 & 3 &  2 & 12 &  4 & 14 &  272500\\\\\n\t basske01  & 1985 & 1 & HOU & NL & 150 & 539 & 72 & 145 & 27 & ⋯ & 19 &  8 & 31 &  63 & 1 &  6 &  4 &  2 & 10 &  155000\\\\\n\t baylodo01 & 1985 & 1 & NYA & AL & 142 & 477 & 70 & 110 & 24 & ⋯ &  0 &  4 & 52 &  90 & 6 & 24 &  1 & 10 & 10 &  810000\\\\\n\t beattji01 & 1985 & 1 & SEA & AL &  18 &   0 &  0 &   0 &  0 & ⋯ &  0 &  0 &  0 &   0 & 0 &  0 &  0 &  0 &  0 &  470000\\\\\n\t beckwjo01 & 1985 & 1 & KCA & AL &  49 &   0 &  0 &   0 &  0 & ⋯ &  0 &  0 &  0 &   0 & 0 &  0 &  0 &  0 &  0 &  358000\\\\\n\t bedrost01 & 1985 & 1 & ATL & NL &  37 &  64 &  3 &   5 &  0 & ⋯ &  0 &  0 &  1 &  22 & 0 &  0 &  6 &  0 &  0 &  550000\\\\\n\t bellbu01  & 1985 & 2 & CIN & NL &  67 & 247 & 28 &  54 & 15 & ⋯ &  0 &  1 & 34 &  27 & 2 &  0 &  1 &  2 & 10 &  751297\\\\\n\t bellge02  & 1985 & 1 & TOR & AL & 157 & 607 & 87 & 167 & 28 & ⋯ & 21 &  6 & 43 &  90 & 6 &  8 &  0 &  8 &  8 &  335000\\\\\n\t ⋮ & ⋮ & ⋮ & ⋮ & ⋮ & ⋮ & ⋮ & ⋮ & ⋮ & ⋮ & ⋱ & ⋮ & ⋮ & ⋮ & ⋮ & ⋮ & ⋮ & ⋮ & ⋮ & ⋮ & ⋮\\\\\n\t wilsocj01 & 2016 & NA & LAA & AL & NA & NA & NA & NA & NA & ⋯ & NA & NA & NA & NA & NA & NA & NA & NA & NA & 20500000\\\\\n\t guerral01 & 2016 & NA & LAN & NL & NA & NA & NA & NA & NA & ⋯ & NA & NA & NA & NA & NA & NA & NA & NA & NA &  7500000\\\\\n\t montafr01 & 2016 & NA & LAN & NL & NA & NA & NA & NA & NA & ⋯ & NA & NA & NA & NA & NA & NA & NA & NA & NA &   510000\\\\\n\t cappsca01 & 2016 & NA & MIA & NL & NA & NA & NA & NA & NA & ⋯ & NA & NA & NA & NA & NA & NA & NA & NA & NA &   987500\\\\\n\t lazora01  & 2016 & NA & MIA & NL & NA & NA & NA & NA & NA & ⋯ & NA & NA & NA & NA & NA & NA & NA & NA & NA &   508500\\\\\n\t barriyh01 & 2016 & NA & MIL & NL & NA & NA & NA & NA & NA & ⋯ & NA & NA & NA & NA & NA & NA & NA & NA & NA &   509200\\\\\n\t liriary01 & 2016 & NA & MIL & NL & NA & NA & NA & NA & NA & ⋯ & NA & NA & NA & NA & NA & NA & NA & NA & NA &   508500\\\\\n\t nolinse01 & 2016 & NA & MIL & NL & NA & NA & NA & NA & NA & ⋯ & NA & NA & NA & NA & NA & NA & NA & NA & NA &   509700\\\\\n\t matzety01 & 2016 & NA & MIN & AL & NA & NA & NA & NA & NA & ⋯ & NA & NA & NA & NA & NA & NA & NA & NA & NA &   545000\\\\\n\t wheelza01 & 2016 & NA & NYN & NL & NA & NA & NA & NA & NA & ⋯ & NA & NA & NA & NA & NA & NA & NA & NA & NA &   546250\\\\\n\t birdgr01  & 2016 & NA & NYA & AL & NA & NA & NA & NA & NA & ⋯ & NA & NA & NA & NA & NA & NA & NA & NA & NA &   525300\\\\\n\t alvarhe01 & 2016 & NA & OAK & AL & NA & NA & NA & NA & NA & ⋯ & NA & NA & NA & NA & NA & NA & NA & NA & NA &  4250000\\\\\n\t alvarrj01 & 2016 & NA & OAK & AL & NA & NA & NA & NA & NA & ⋯ & NA & NA & NA & NA & NA & NA & NA & NA & NA &   510000\\\\\n\t doubrfe01 & 2016 & NA & OAK & AL & NA & NA & NA & NA & NA & ⋯ & NA & NA & NA & NA & NA & NA & NA & NA & NA &  2000000\\\\\n\t fuldsa01  & 2016 & NA & OAK & AL & NA & NA & NA & NA & NA & ⋯ & NA & NA & NA & NA & NA & NA & NA & NA & NA &  1925000\\\\\n\t parkeja02 & 2016 & NA & OAK & AL & NA & NA & NA & NA & NA & ⋯ & NA & NA & NA & NA & NA & NA & NA & NA & NA &   850000\\\\\n\t sogarer01 & 2016 & NA & OAK & AL & NA & NA & NA & NA & NA & ⋯ & NA & NA & NA & NA & NA & NA & NA & NA & NA &  1500000\\\\\n\t harrima01 & 2016 & NA & PHI & NL & NA & NA & NA & NA & NA & ⋯ & NA & NA & NA & NA & NA & NA & NA & NA & NA & 13000000\\\\\n\t hollama01 & 2016 & NA & PHI & NL & NA & NA & NA & NA & NA & ⋯ & NA & NA & NA & NA & NA & NA & NA & NA & NA &   512500\\\\\n\t margoma01 & 2016 & NA & PHI & NL & NA & NA & NA & NA & NA & ⋯ & NA & NA & NA & NA & NA & NA & NA & NA & NA &   512500\\\\\n\t edwarjo02 & 2016 & NA & SDN & NL & NA & NA & NA & NA & NA & ⋯ & NA & NA & NA & NA & NA & NA & NA & NA & NA &   509600\\\\\n\t cookry01  & 2016 & NA & SEA & AL & NA & NA & NA & NA & NA & ⋯ & NA & NA & NA & NA & NA & NA & NA & NA & NA &  1100000\\\\\n\t furbuch01 & 2016 & NA & SEA & AL & NA & NA & NA & NA & NA & ⋯ & NA & NA & NA & NA & NA & NA & NA & NA & NA &  1600000\\\\\n\t duffyma02 & 2016 & NA & SFN & NL & NA & NA & NA & NA & NA & ⋯ & NA & NA & NA & NA & NA & NA & NA & NA & NA &   537500\\\\\n\t harrimi03 & 2016 & NA & SLN & NL & NA & NA & NA & NA & NA & ⋯ & NA & NA & NA & NA & NA & NA & NA & NA & NA &   509000\\\\\n\t lynnla01  & 2016 & NA & SLN & NL & NA & NA & NA & NA & NA & ⋯ & NA & NA & NA & NA & NA & NA & NA & NA & NA &  7500000\\\\\n\t waldejo01 & 2016 & NA & SLN & NL & NA & NA & NA & NA & NA & ⋯ & NA & NA & NA & NA & NA & NA & NA & NA & NA &  3675000\\\\\n\t gimench01 & 2016 & NA & TEX & AL & NA & NA & NA & NA & NA & ⋯ & NA & NA & NA & NA & NA & NA & NA & NA & NA &   975000\\\\\n\t hamiljo03 & 2016 & NA & TEX & AL & NA & NA & NA & NA & NA & ⋯ & NA & NA & NA & NA & NA & NA & NA & NA & NA & 24000000\\\\\n\t barreaa01 & 2016 & NA & WAS & NL & NA & NA & NA & NA & NA & ⋯ & NA & NA & NA & NA & NA & NA & NA & NA & NA &   519400\\\\\n\\end{tabular}\n",
            "text/plain": [
              "      playerID  yearID stint teamID lgID G   AB  R  H   X2B ⋯ SB CS BB SO  IBB\n",
              "1     ackerji01 1985   1     TOR    AL    61   0  0   0  0  ⋯  0  0  0   0 0  \n",
              "2     agostju01 1985   1     CHA    AL    54   0  0   0  0  ⋯  0  0  0   0 0  \n",
              "3     aguaylu01 1985   1     PHI    NL    91 165 27  46  7  ⋯  1  0 22  26 5  \n",
              "4     alexado01 1985   1     TOR    AL    36   0  0   0  0  ⋯  0  0  0   0 0  \n",
              "5     allenne01 1985   1     SLN    NL    23   2  0   0  0  ⋯  0  0  0   2 0  \n",
              "6     almonbi01 1985   1     PIT    NL    88 244 33  66 17  ⋯ 10  7 22  61 0  \n",
              "7     anderla02 1985   1     PHI    NL    57   4  1   0  0  ⋯  0  0  0   0 0  \n",
              "8     andujjo01 1985   1     SLN    NL    38  94  2  10  2  ⋯  3  1  5  50 0  \n",
              "9     armasto01 1985   1     BOS    AL   103 385 50 102 17  ⋯  0  0 18  90 4  \n",
              "10    ashbyal01 1985   1     HOU    NL    65 189 20  53  8  ⋯  0  0 24  27 2  \n",
              "11    atherke01 1985   1     OAK    AL    56   0  0   0  0  ⋯  0  0  0   0 0  \n",
              "12    ayalabe01 1985   1     CLE    AL    46  76 10  19  7  ⋯  0  0  4  17 1  \n",
              "13    backmwa01 1985   1     NYN    NL   145 520 77 142 24  ⋯ 30 12 36  72 1  \n",
              "14    bailobo01 1985   1     LAN    NL    74 118  8  29  3  ⋯  1  0  3   5 0  \n",
              "15    baineha01 1985   1     CHA    AL   160 640 86 198 29  ⋯  1  1 42  89 8  \n",
              "16    bakerdu01 1985   1     OAK    AL   111 343 48  92 15  ⋯  2  1 50  47 0  \n",
              "17    balbost01 1985   1     KCA    AL   160 600 74 146 28  ⋯  1  1 52 166 4  \n",
              "18    bandoch01 1985   1     CLE    AL    73 173 11  24  4  ⋯  0  1 22  21 0  \n",
              "19    bannial01 1985   1     TEX    AL    57 122 17  32  4  ⋯  8  2 14  17 0  \n",
              "20    bannifl01 1985   1     CHA    AL    34   0  0   0  0  ⋯  0  0  0   0 0  \n",
              "21    barfije01 1985   1     TOR    AL   155 539 94 156 34  ⋯ 22  8 66 143 5  \n",
              "22    barkele01 1985   1     ATL    NL    20  17  0   0  0  ⋯  0  1  0   7 0  \n",
              "23    barrema02 1985   1     BOS    AL   156 534 59 142 26  ⋯  7  5 56  50 3  \n",
              "24    basske01  1985   1     HOU    NL   150 539 72 145 27  ⋯ 19  8 31  63 1  \n",
              "25    baylodo01 1985   1     NYA    AL   142 477 70 110 24  ⋯  0  4 52  90 6  \n",
              "26    beattji01 1985   1     SEA    AL    18   0  0   0  0  ⋯  0  0  0   0 0  \n",
              "27    beckwjo01 1985   1     KCA    AL    49   0  0   0  0  ⋯  0  0  0   0 0  \n",
              "28    bedrost01 1985   1     ATL    NL    37  64  3   5  0  ⋯  0  0  1  22 0  \n",
              "29    bellbu01  1985   2     CIN    NL    67 247 28  54 15  ⋯  0  1 34  27 2  \n",
              "30    bellge02  1985   1     TOR    AL   157 607 87 167 28  ⋯ 21  6 43  90 6  \n",
              "⋮     ⋮         ⋮      ⋮     ⋮      ⋮    ⋮   ⋮   ⋮  ⋮   ⋮   ⋱ ⋮  ⋮  ⋮  ⋮   ⋮  \n",
              "26408 wilsocj01 2016   NA    LAA    AL   NA  NA  NA NA  NA  ⋯ NA NA NA NA  NA \n",
              "26409 guerral01 2016   NA    LAN    NL   NA  NA  NA NA  NA  ⋯ NA NA NA NA  NA \n",
              "26410 montafr01 2016   NA    LAN    NL   NA  NA  NA NA  NA  ⋯ NA NA NA NA  NA \n",
              "26411 cappsca01 2016   NA    MIA    NL   NA  NA  NA NA  NA  ⋯ NA NA NA NA  NA \n",
              "26412 lazora01  2016   NA    MIA    NL   NA  NA  NA NA  NA  ⋯ NA NA NA NA  NA \n",
              "26413 barriyh01 2016   NA    MIL    NL   NA  NA  NA NA  NA  ⋯ NA NA NA NA  NA \n",
              "26414 liriary01 2016   NA    MIL    NL   NA  NA  NA NA  NA  ⋯ NA NA NA NA  NA \n",
              "26415 nolinse01 2016   NA    MIL    NL   NA  NA  NA NA  NA  ⋯ NA NA NA NA  NA \n",
              "26416 matzety01 2016   NA    MIN    AL   NA  NA  NA NA  NA  ⋯ NA NA NA NA  NA \n",
              "26417 wheelza01 2016   NA    NYN    NL   NA  NA  NA NA  NA  ⋯ NA NA NA NA  NA \n",
              "26418 birdgr01  2016   NA    NYA    AL   NA  NA  NA NA  NA  ⋯ NA NA NA NA  NA \n",
              "26419 alvarhe01 2016   NA    OAK    AL   NA  NA  NA NA  NA  ⋯ NA NA NA NA  NA \n",
              "26420 alvarrj01 2016   NA    OAK    AL   NA  NA  NA NA  NA  ⋯ NA NA NA NA  NA \n",
              "26421 doubrfe01 2016   NA    OAK    AL   NA  NA  NA NA  NA  ⋯ NA NA NA NA  NA \n",
              "26422 fuldsa01  2016   NA    OAK    AL   NA  NA  NA NA  NA  ⋯ NA NA NA NA  NA \n",
              "26423 parkeja02 2016   NA    OAK    AL   NA  NA  NA NA  NA  ⋯ NA NA NA NA  NA \n",
              "26424 sogarer01 2016   NA    OAK    AL   NA  NA  NA NA  NA  ⋯ NA NA NA NA  NA \n",
              "26425 harrima01 2016   NA    PHI    NL   NA  NA  NA NA  NA  ⋯ NA NA NA NA  NA \n",
              "26426 hollama01 2016   NA    PHI    NL   NA  NA  NA NA  NA  ⋯ NA NA NA NA  NA \n",
              "26427 margoma01 2016   NA    PHI    NL   NA  NA  NA NA  NA  ⋯ NA NA NA NA  NA \n",
              "26428 edwarjo02 2016   NA    SDN    NL   NA  NA  NA NA  NA  ⋯ NA NA NA NA  NA \n",
              "26429 cookry01  2016   NA    SEA    AL   NA  NA  NA NA  NA  ⋯ NA NA NA NA  NA \n",
              "26430 furbuch01 2016   NA    SEA    AL   NA  NA  NA NA  NA  ⋯ NA NA NA NA  NA \n",
              "26431 duffyma02 2016   NA    SFN    NL   NA  NA  NA NA  NA  ⋯ NA NA NA NA  NA \n",
              "26432 harrimi03 2016   NA    SLN    NL   NA  NA  NA NA  NA  ⋯ NA NA NA NA  NA \n",
              "26433 lynnla01  2016   NA    SLN    NL   NA  NA  NA NA  NA  ⋯ NA NA NA NA  NA \n",
              "26434 waldejo01 2016   NA    SLN    NL   NA  NA  NA NA  NA  ⋯ NA NA NA NA  NA \n",
              "26435 gimench01 2016   NA    TEX    AL   NA  NA  NA NA  NA  ⋯ NA NA NA NA  NA \n",
              "26436 hamiljo03 2016   NA    TEX    AL   NA  NA  NA NA  NA  ⋯ NA NA NA NA  NA \n",
              "26437 barreaa01 2016   NA    WAS    NL   NA  NA  NA NA  NA  ⋯ NA NA NA NA  NA \n",
              "      HBP SH SF GIDP salary  \n",
              "1      0   0  0  0    170000 \n",
              "2      0   0  0  0    147500 \n",
              "3      6   4  3  7    237000 \n",
              "4      0   0  0  0    875000 \n",
              "5      0   0  0  0    750000 \n",
              "6      1   4  3  6    255000 \n",
              "7      0   1  0  0    250500 \n",
              "8      0   7  0  2   1030000 \n",
              "9      2   0  5 14    915000 \n",
              "10     1   1  1  9    416667 \n",
              "11     0   0  0  0    107333 \n",
              "12     0   0  1  2    303333 \n",
              "13     1  14  3  3    200000 \n",
              "14     1   8  0  3    330000 \n",
              "15     1   0 10 23    675000 \n",
              "16     0   0  3 12    575000 \n",
              "17     5   0  5 14    205000 \n",
              "18     0   2  2  6    225000 \n",
              "19     0   1  0  1    350000 \n",
              "20     0   0  0  0    811250 \n",
              "21     4   0  3 14    325000 \n",
              "22     0   0  0  0    870000 \n",
              "23     2  12  4 14    272500 \n",
              "24     6   4  2 10    155000 \n",
              "25    24   1 10 10    810000 \n",
              "26     0   0  0  0    470000 \n",
              "27     0   0  0  0    358000 \n",
              "28     0   6  0  0    550000 \n",
              "29     0   1  2 10    751297 \n",
              "30     8   0  8  8    335000 \n",
              "⋮     ⋮   ⋮  ⋮  ⋮    ⋮       \n",
              "26408 NA  NA NA NA   20500000\n",
              "26409 NA  NA NA NA    7500000\n",
              "26410 NA  NA NA NA     510000\n",
              "26411 NA  NA NA NA     987500\n",
              "26412 NA  NA NA NA     508500\n",
              "26413 NA  NA NA NA     509200\n",
              "26414 NA  NA NA NA     508500\n",
              "26415 NA  NA NA NA     509700\n",
              "26416 NA  NA NA NA     545000\n",
              "26417 NA  NA NA NA     546250\n",
              "26418 NA  NA NA NA     525300\n",
              "26419 NA  NA NA NA    4250000\n",
              "26420 NA  NA NA NA     510000\n",
              "26421 NA  NA NA NA    2000000\n",
              "26422 NA  NA NA NA    1925000\n",
              "26423 NA  NA NA NA     850000\n",
              "26424 NA  NA NA NA    1500000\n",
              "26425 NA  NA NA NA   13000000\n",
              "26426 NA  NA NA NA     512500\n",
              "26427 NA  NA NA NA     512500\n",
              "26428 NA  NA NA NA     509600\n",
              "26429 NA  NA NA NA    1100000\n",
              "26430 NA  NA NA NA    1600000\n",
              "26431 NA  NA NA NA     537500\n",
              "26432 NA  NA NA NA     509000\n",
              "26433 NA  NA NA NA    7500000\n",
              "26434 NA  NA NA NA    3675000\n",
              "26435 NA  NA NA NA     975000\n",
              "26436 NA  NA NA NA   24000000\n",
              "26437 NA  NA NA NA     519400"
            ]
          },
          "metadata": {}
        }
      ],
      "source": [
        "Batting %>%\n",
        "    right_join(Salaries)\n",
        "\n",
        "# Equivalently:\n",
        "# right_join(Batting, Salaries)\n",
        "\n",
        "# # Also equivalent:\n",
        "# left_join(Salaries, Batting)"
      ]
    },
    {
      "cell_type": "code",
      "source": [
        "Batting %>%\n",
        "    right_join(Salaries) %>%\n",
        "    count(playerID, yearID, teamID, lgID, sort = TRUE) %>%\n",
        "    head(5)"
      ],
      "metadata": {
        "colab": {
          "base_uri": "https://localhost:8080/",
          "height": 273
        },
        "id": "yfw8OM2dVEHh",
        "outputId": "d53cd1c9-79f6-40c6-a303-26868ac40d39"
      },
      "id": "yfw8OM2dVEHh",
      "execution_count": null,
      "outputs": [
        {
          "output_type": "stream",
          "name": "stderr",
          "text": [
            "\u001b[1m\u001b[22mJoining with `by = join_by(playerID, yearID, teamID, lgID)`\n"
          ]
        },
        {
          "output_type": "display_data",
          "data": {
            "text/html": [
              "<table class=\"dataframe\">\n",
              "<caption>A data.frame: 5 × 5</caption>\n",
              "<thead>\n",
              "\t<tr><th></th><th scope=col>playerID</th><th scope=col>yearID</th><th scope=col>teamID</th><th scope=col>lgID</th><th scope=col>n</th></tr>\n",
              "\t<tr><th></th><th scope=col>&lt;chr&gt;</th><th scope=col>&lt;int&gt;</th><th scope=col>&lt;fct&gt;</th><th scope=col>&lt;fct&gt;</th><th scope=col>&lt;int&gt;</th></tr>\n",
              "</thead>\n",
              "<tbody>\n",
              "\t<tr><th scope=row>1</th><td>clarkje02</td><td>2003</td><td>TEX</td><td>AL</td><td>2</td></tr>\n",
              "\t<tr><th scope=row>2</th><td>duceyro01</td><td>2000</td><td>PHI</td><td>NL</td><td>2</td></tr>\n",
              "\t<tr><th scope=row>3</th><td>holmeda01</td><td>2000</td><td>ARI</td><td>NL</td><td>2</td></tr>\n",
              "\t<tr><th scope=row>4</th><td>lukema01 </td><td>1998</td><td>LAN</td><td>NL</td><td>2</td></tr>\n",
              "\t<tr><th scope=row>5</th><td>mantoje01</td><td>1996</td><td>BOS</td><td>AL</td><td>2</td></tr>\n",
              "</tbody>\n",
              "</table>\n"
            ],
            "text/markdown": "\nA data.frame: 5 × 5\n\n| <!--/--> | playerID &lt;chr&gt; | yearID &lt;int&gt; | teamID &lt;fct&gt; | lgID &lt;fct&gt; | n &lt;int&gt; |\n|---|---|---|---|---|---|\n| 1 | clarkje02 | 2003 | TEX | AL | 2 |\n| 2 | duceyro01 | 2000 | PHI | NL | 2 |\n| 3 | holmeda01 | 2000 | ARI | NL | 2 |\n| 4 | lukema01  | 1998 | LAN | NL | 2 |\n| 5 | mantoje01 | 1996 | BOS | AL | 2 |\n\n",
            "text/latex": "A data.frame: 5 × 5\n\\begin{tabular}{r|lllll}\n  & playerID & yearID & teamID & lgID & n\\\\\n  & <chr> & <int> & <fct> & <fct> & <int>\\\\\n\\hline\n\t1 & clarkje02 & 2003 & TEX & AL & 2\\\\\n\t2 & duceyro01 & 2000 & PHI & NL & 2\\\\\n\t3 & holmeda01 & 2000 & ARI & NL & 2\\\\\n\t4 & lukema01  & 1998 & LAN & NL & 2\\\\\n\t5 & mantoje01 & 1996 & BOS & AL & 2\\\\\n\\end{tabular}\n",
            "text/plain": [
              "  playerID  yearID teamID lgID n\n",
              "1 clarkje02 2003   TEX    AL   2\n",
              "2 duceyro01 2000   PHI    NL   2\n",
              "3 holmeda01 2000   ARI    NL   2\n",
              "4 lukema01  1998   LAN    NL   2\n",
              "5 mantoje01 1996   BOS    AL   2"
            ]
          },
          "metadata": {}
        }
      ]
    },
    {
      "cell_type": "markdown",
      "id": "04a8623d",
      "metadata": {
        "id": "04a8623d"
      },
      "source": [
        "The resulting data frame has 26,437 rows, which is almost the same number of rows as `Salaries`. And once again, it has 23 columns.\n",
        "\n",
        "This time, we see a lot of missing batting statistics toward the bottom of the table. This is because `Salaries` records data for both batters and pitchers, but `Batting` only records data for batters."
      ]
    },
    {
      "cell_type": "markdown",
      "id": "5bfe3a07",
      "metadata": {
        "id": "5bfe3a07"
      },
      "source": [
        "#### Mutating join #4: `full_join()`"
      ]
    },
    {
      "cell_type": "markdown",
      "id": "e9269762",
      "metadata": {
        "id": "e9269762"
      },
      "source": [
        "**``full_join(x, y)``** preserves all rows in **x** and **y**, and it adds the columns of **y** to **x**."
      ]
    },
    {
      "cell_type": "code",
      "execution_count": null,
      "id": "c6fbded5",
      "metadata": {
        "scrolled": false,
        "id": "c6fbded5",
        "outputId": "5981df5c-2ce2-4d7a-f316-b66321c55b11",
        "colab": {
          "base_uri": "https://localhost:8080/",
          "height": 1000
        }
      },
      "outputs": [
        {
          "output_type": "stream",
          "name": "stderr",
          "text": [
            "\u001b[1m\u001b[22mJoining with `by = join_by(playerID, yearID, teamID, lgID)`\n"
          ]
        },
        {
          "output_type": "display_data",
          "data": {
            "text/html": [
              "<table class=\"dataframe\">\n",
              "<caption>A data.frame: 113180 × 23</caption>\n",
              "<thead>\n",
              "\t<tr><th scope=col>playerID</th><th scope=col>yearID</th><th scope=col>stint</th><th scope=col>teamID</th><th scope=col>lgID</th><th scope=col>G</th><th scope=col>AB</th><th scope=col>R</th><th scope=col>H</th><th scope=col>X2B</th><th scope=col>⋯</th><th scope=col>SB</th><th scope=col>CS</th><th scope=col>BB</th><th scope=col>SO</th><th scope=col>IBB</th><th scope=col>HBP</th><th scope=col>SH</th><th scope=col>SF</th><th scope=col>GIDP</th><th scope=col>salary</th></tr>\n",
              "\t<tr><th scope=col>&lt;chr&gt;</th><th scope=col>&lt;int&gt;</th><th scope=col>&lt;int&gt;</th><th scope=col>&lt;fct&gt;</th><th scope=col>&lt;fct&gt;</th><th scope=col>&lt;int&gt;</th><th scope=col>&lt;int&gt;</th><th scope=col>&lt;int&gt;</th><th scope=col>&lt;int&gt;</th><th scope=col>&lt;int&gt;</th><th scope=col>⋯</th><th scope=col>&lt;int&gt;</th><th scope=col>&lt;int&gt;</th><th scope=col>&lt;int&gt;</th><th scope=col>&lt;int&gt;</th><th scope=col>&lt;int&gt;</th><th scope=col>&lt;int&gt;</th><th scope=col>&lt;int&gt;</th><th scope=col>&lt;int&gt;</th><th scope=col>&lt;int&gt;</th><th scope=col>&lt;int&gt;</th></tr>\n",
              "</thead>\n",
              "<tbody>\n",
              "\t<tr><td>abercda01</td><td>1871</td><td>1</td><td>TRO</td><td>NA</td><td> 1</td><td>  4</td><td> 0</td><td> 0</td><td> 0</td><td>⋯</td><td> 0</td><td>0</td><td> 0</td><td>0</td><td>NA</td><td>NA</td><td>NA</td><td>NA</td><td>0</td><td>NA</td></tr>\n",
              "\t<tr><td>addybo01 </td><td>1871</td><td>1</td><td>RC1</td><td>NA</td><td>25</td><td>118</td><td>30</td><td>32</td><td> 6</td><td>⋯</td><td> 8</td><td>1</td><td> 4</td><td>0</td><td>NA</td><td>NA</td><td>NA</td><td>NA</td><td>0</td><td>NA</td></tr>\n",
              "\t<tr><td>allisar01</td><td>1871</td><td>1</td><td>CL1</td><td>NA</td><td>29</td><td>137</td><td>28</td><td>40</td><td> 4</td><td>⋯</td><td> 3</td><td>1</td><td> 2</td><td>5</td><td>NA</td><td>NA</td><td>NA</td><td>NA</td><td>1</td><td>NA</td></tr>\n",
              "\t<tr><td>allisdo01</td><td>1871</td><td>1</td><td>WS3</td><td>NA</td><td>27</td><td>133</td><td>28</td><td>44</td><td>10</td><td>⋯</td><td> 1</td><td>1</td><td> 0</td><td>2</td><td>NA</td><td>NA</td><td>NA</td><td>NA</td><td>0</td><td>NA</td></tr>\n",
              "\t<tr><td>ansonca01</td><td>1871</td><td>1</td><td>RC1</td><td>NA</td><td>25</td><td>120</td><td>29</td><td>39</td><td>11</td><td>⋯</td><td> 6</td><td>2</td><td> 2</td><td>1</td><td>NA</td><td>NA</td><td>NA</td><td>NA</td><td>0</td><td>NA</td></tr>\n",
              "\t<tr><td>armstbo01</td><td>1871</td><td>1</td><td>FW1</td><td>NA</td><td>12</td><td> 49</td><td> 9</td><td>11</td><td> 2</td><td>⋯</td><td> 0</td><td>1</td><td> 0</td><td>1</td><td>NA</td><td>NA</td><td>NA</td><td>NA</td><td>0</td><td>NA</td></tr>\n",
              "\t<tr><td>barkeal01</td><td>1871</td><td>1</td><td>RC1</td><td>NA</td><td> 1</td><td>  4</td><td> 0</td><td> 1</td><td> 0</td><td>⋯</td><td> 0</td><td>0</td><td> 1</td><td>0</td><td>NA</td><td>NA</td><td>NA</td><td>NA</td><td>0</td><td>NA</td></tr>\n",
              "\t<tr><td>barnero01</td><td>1871</td><td>1</td><td>BS1</td><td>NA</td><td>31</td><td>157</td><td>66</td><td>63</td><td>10</td><td>⋯</td><td>11</td><td>6</td><td>13</td><td>1</td><td>NA</td><td>NA</td><td>NA</td><td>NA</td><td>1</td><td>NA</td></tr>\n",
              "\t<tr><td>barrebi01</td><td>1871</td><td>1</td><td>FW1</td><td>NA</td><td> 1</td><td>  5</td><td> 1</td><td> 1</td><td> 1</td><td>⋯</td><td> 0</td><td>0</td><td> 0</td><td>0</td><td>NA</td><td>NA</td><td>NA</td><td>NA</td><td>0</td><td>NA</td></tr>\n",
              "\t<tr><td>barrofr01</td><td>1871</td><td>1</td><td>BS1</td><td>NA</td><td>18</td><td> 86</td><td>13</td><td>13</td><td> 2</td><td>⋯</td><td> 1</td><td>0</td><td> 0</td><td>0</td><td>NA</td><td>NA</td><td>NA</td><td>NA</td><td>0</td><td>NA</td></tr>\n",
              "\t<tr><td>bassjo01 </td><td>1871</td><td>1</td><td>CL1</td><td>NA</td><td>22</td><td> 89</td><td>18</td><td>27</td><td> 1</td><td>⋯</td><td> 0</td><td>1</td><td> 3</td><td>4</td><td>NA</td><td>NA</td><td>NA</td><td>NA</td><td>0</td><td>NA</td></tr>\n",
              "\t<tr><td>battijo01</td><td>1871</td><td>1</td><td>CL1</td><td>NA</td><td> 1</td><td>  3</td><td> 0</td><td> 0</td><td> 0</td><td>⋯</td><td> 0</td><td>0</td><td> 1</td><td>0</td><td>NA</td><td>NA</td><td>NA</td><td>NA</td><td>0</td><td>NA</td></tr>\n",
              "\t<tr><td>bealsto01</td><td>1871</td><td>1</td><td>WS3</td><td>NA</td><td>10</td><td> 36</td><td> 6</td><td> 7</td><td> 0</td><td>⋯</td><td> 2</td><td>0</td><td> 2</td><td>0</td><td>NA</td><td>NA</td><td>NA</td><td>NA</td><td>2</td><td>NA</td></tr>\n",
              "\t<tr><td>beaveed01</td><td>1871</td><td>1</td><td>TRO</td><td>NA</td><td> 3</td><td> 15</td><td> 7</td><td> 6</td><td> 0</td><td>⋯</td><td> 2</td><td>0</td><td> 0</td><td>0</td><td>NA</td><td>NA</td><td>NA</td><td>NA</td><td>0</td><td>NA</td></tr>\n",
              "\t<tr><td>bechtge01</td><td>1871</td><td>1</td><td>PH1</td><td>NA</td><td>20</td><td> 94</td><td>24</td><td>33</td><td> 9</td><td>⋯</td><td> 4</td><td>0</td><td> 2</td><td>2</td><td>NA</td><td>NA</td><td>NA</td><td>NA</td><td>1</td><td>NA</td></tr>\n",
              "\t<tr><td>bellast01</td><td>1871</td><td>1</td><td>TRO</td><td>NA</td><td>29</td><td>128</td><td>26</td><td>32</td><td> 3</td><td>⋯</td><td> 4</td><td>4</td><td> 9</td><td>2</td><td>NA</td><td>NA</td><td>NA</td><td>NA</td><td>2</td><td>NA</td></tr>\n",
              "\t<tr><td>berkena01</td><td>1871</td><td>1</td><td>PH1</td><td>NA</td><td> 1</td><td>  4</td><td> 0</td><td> 0</td><td> 0</td><td>⋯</td><td> 0</td><td>0</td><td> 0</td><td>3</td><td>NA</td><td>NA</td><td>NA</td><td>NA</td><td>0</td><td>NA</td></tr>\n",
              "\t<tr><td>berryto01</td><td>1871</td><td>1</td><td>PH1</td><td>NA</td><td> 1</td><td>  4</td><td> 0</td><td> 1</td><td> 0</td><td>⋯</td><td> 0</td><td>0</td><td> 0</td><td>0</td><td>NA</td><td>NA</td><td>NA</td><td>NA</td><td>0</td><td>NA</td></tr>\n",
              "\t<tr><td>berthha01</td><td>1871</td><td>1</td><td>WS3</td><td>NA</td><td>17</td><td> 73</td><td>17</td><td>17</td><td> 1</td><td>⋯</td><td> 3</td><td>1</td><td> 4</td><td>2</td><td>NA</td><td>NA</td><td>NA</td><td>NA</td><td>0</td><td>NA</td></tr>\n",
              "\t<tr><td>biermch01</td><td>1871</td><td>1</td><td>FW1</td><td>NA</td><td> 1</td><td>  2</td><td> 0</td><td> 0</td><td> 0</td><td>⋯</td><td> 0</td><td>0</td><td> 1</td><td>0</td><td>NA</td><td>NA</td><td>NA</td><td>NA</td><td>0</td><td>NA</td></tr>\n",
              "\t<tr><td>birdge01 </td><td>1871</td><td>1</td><td>RC1</td><td>NA</td><td>25</td><td>106</td><td>19</td><td>28</td><td> 2</td><td>⋯</td><td> 1</td><td>0</td><td> 3</td><td>2</td><td>NA</td><td>NA</td><td>NA</td><td>NA</td><td>3</td><td>NA</td></tr>\n",
              "\t<tr><td>birdsda01</td><td>1871</td><td>1</td><td>BS1</td><td>NA</td><td>29</td><td>152</td><td>51</td><td>46</td><td> 3</td><td>⋯</td><td> 6</td><td>0</td><td> 4</td><td>4</td><td>NA</td><td>NA</td><td>NA</td><td>NA</td><td>1</td><td>NA</td></tr>\n",
              "\t<tr><td>brainas01</td><td>1871</td><td>1</td><td>WS3</td><td>NA</td><td>30</td><td>134</td><td>24</td><td>30</td><td> 4</td><td>⋯</td><td> 4</td><td>0</td><td> 7</td><td>2</td><td>NA</td><td>NA</td><td>NA</td><td>NA</td><td>1</td><td>NA</td></tr>\n",
              "\t<tr><td>brannmi01</td><td>1871</td><td>1</td><td>CH1</td><td>NA</td><td> 3</td><td> 14</td><td> 2</td><td> 1</td><td> 0</td><td>⋯</td><td> 0</td><td>0</td><td> 0</td><td>0</td><td>NA</td><td>NA</td><td>NA</td><td>NA</td><td>0</td><td>NA</td></tr>\n",
              "\t<tr><td>burrohe01</td><td>1871</td><td>1</td><td>WS3</td><td>NA</td><td>12</td><td> 63</td><td>11</td><td>15</td><td> 2</td><td>⋯</td><td> 0</td><td>0</td><td> 1</td><td>1</td><td>NA</td><td>NA</td><td>NA</td><td>NA</td><td>0</td><td>NA</td></tr>\n",
              "\t<tr><td>careyto01</td><td>1871</td><td>1</td><td>FW1</td><td>NA</td><td>19</td><td> 87</td><td>16</td><td>20</td><td> 2</td><td>⋯</td><td> 5</td><td>0</td><td> 2</td><td>1</td><td>NA</td><td>NA</td><td>NA</td><td>NA</td><td>0</td><td>NA</td></tr>\n",
              "\t<tr><td>carleji01</td><td>1871</td><td>1</td><td>CL1</td><td>NA</td><td>29</td><td>127</td><td>31</td><td>32</td><td> 8</td><td>⋯</td><td> 2</td><td>1</td><td> 8</td><td>3</td><td>NA</td><td>NA</td><td>NA</td><td>NA</td><td>3</td><td>NA</td></tr>\n",
              "\t<tr><td>conefr01 </td><td>1871</td><td>1</td><td>BS1</td><td>NA</td><td>19</td><td> 77</td><td>17</td><td>20</td><td> 3</td><td>⋯</td><td>12</td><td>1</td><td> 8</td><td>2</td><td>NA</td><td>NA</td><td>NA</td><td>NA</td><td>1</td><td>NA</td></tr>\n",
              "\t<tr><td>connone01</td><td>1871</td><td>1</td><td>TRO</td><td>NA</td><td> 7</td><td> 33</td><td> 6</td><td> 7</td><td> 0</td><td>⋯</td><td> 0</td><td>0</td><td> 0</td><td>0</td><td>NA</td><td>NA</td><td>NA</td><td>NA</td><td>0</td><td>NA</td></tr>\n",
              "\t<tr><td>cravebi01</td><td>1871</td><td>1</td><td>TRO</td><td>NA</td><td>27</td><td>118</td><td>26</td><td>38</td><td> 8</td><td>⋯</td><td> 6</td><td>3</td><td> 3</td><td>0</td><td>NA</td><td>NA</td><td>NA</td><td>NA</td><td>3</td><td>NA</td></tr>\n",
              "\t<tr><td>⋮</td><td>⋮</td><td>⋮</td><td>⋮</td><td>⋮</td><td>⋮</td><td>⋮</td><td>⋮</td><td>⋮</td><td>⋮</td><td>⋱</td><td>⋮</td><td>⋮</td><td>⋮</td><td>⋮</td><td>⋮</td><td>⋮</td><td>⋮</td><td>⋮</td><td>⋮</td><td>⋮</td></tr>\n",
              "\t<tr><td>wilsocj01</td><td>2016</td><td>NA</td><td>LAA</td><td>AL</td><td>NA</td><td>NA</td><td>NA</td><td>NA</td><td>NA</td><td>⋯</td><td>NA</td><td>NA</td><td>NA</td><td>NA</td><td>NA</td><td>NA</td><td>NA</td><td>NA</td><td>NA</td><td>20500000</td></tr>\n",
              "\t<tr><td>guerral01</td><td>2016</td><td>NA</td><td>LAN</td><td>NL</td><td>NA</td><td>NA</td><td>NA</td><td>NA</td><td>NA</td><td>⋯</td><td>NA</td><td>NA</td><td>NA</td><td>NA</td><td>NA</td><td>NA</td><td>NA</td><td>NA</td><td>NA</td><td> 7500000</td></tr>\n",
              "\t<tr><td>montafr01</td><td>2016</td><td>NA</td><td>LAN</td><td>NL</td><td>NA</td><td>NA</td><td>NA</td><td>NA</td><td>NA</td><td>⋯</td><td>NA</td><td>NA</td><td>NA</td><td>NA</td><td>NA</td><td>NA</td><td>NA</td><td>NA</td><td>NA</td><td>  510000</td></tr>\n",
              "\t<tr><td>cappsca01</td><td>2016</td><td>NA</td><td>MIA</td><td>NL</td><td>NA</td><td>NA</td><td>NA</td><td>NA</td><td>NA</td><td>⋯</td><td>NA</td><td>NA</td><td>NA</td><td>NA</td><td>NA</td><td>NA</td><td>NA</td><td>NA</td><td>NA</td><td>  987500</td></tr>\n",
              "\t<tr><td>lazora01 </td><td>2016</td><td>NA</td><td>MIA</td><td>NL</td><td>NA</td><td>NA</td><td>NA</td><td>NA</td><td>NA</td><td>⋯</td><td>NA</td><td>NA</td><td>NA</td><td>NA</td><td>NA</td><td>NA</td><td>NA</td><td>NA</td><td>NA</td><td>  508500</td></tr>\n",
              "\t<tr><td>barriyh01</td><td>2016</td><td>NA</td><td>MIL</td><td>NL</td><td>NA</td><td>NA</td><td>NA</td><td>NA</td><td>NA</td><td>⋯</td><td>NA</td><td>NA</td><td>NA</td><td>NA</td><td>NA</td><td>NA</td><td>NA</td><td>NA</td><td>NA</td><td>  509200</td></tr>\n",
              "\t<tr><td>liriary01</td><td>2016</td><td>NA</td><td>MIL</td><td>NL</td><td>NA</td><td>NA</td><td>NA</td><td>NA</td><td>NA</td><td>⋯</td><td>NA</td><td>NA</td><td>NA</td><td>NA</td><td>NA</td><td>NA</td><td>NA</td><td>NA</td><td>NA</td><td>  508500</td></tr>\n",
              "\t<tr><td>nolinse01</td><td>2016</td><td>NA</td><td>MIL</td><td>NL</td><td>NA</td><td>NA</td><td>NA</td><td>NA</td><td>NA</td><td>⋯</td><td>NA</td><td>NA</td><td>NA</td><td>NA</td><td>NA</td><td>NA</td><td>NA</td><td>NA</td><td>NA</td><td>  509700</td></tr>\n",
              "\t<tr><td>matzety01</td><td>2016</td><td>NA</td><td>MIN</td><td>AL</td><td>NA</td><td>NA</td><td>NA</td><td>NA</td><td>NA</td><td>⋯</td><td>NA</td><td>NA</td><td>NA</td><td>NA</td><td>NA</td><td>NA</td><td>NA</td><td>NA</td><td>NA</td><td>  545000</td></tr>\n",
              "\t<tr><td>wheelza01</td><td>2016</td><td>NA</td><td>NYN</td><td>NL</td><td>NA</td><td>NA</td><td>NA</td><td>NA</td><td>NA</td><td>⋯</td><td>NA</td><td>NA</td><td>NA</td><td>NA</td><td>NA</td><td>NA</td><td>NA</td><td>NA</td><td>NA</td><td>  546250</td></tr>\n",
              "\t<tr><td>birdgr01 </td><td>2016</td><td>NA</td><td>NYA</td><td>AL</td><td>NA</td><td>NA</td><td>NA</td><td>NA</td><td>NA</td><td>⋯</td><td>NA</td><td>NA</td><td>NA</td><td>NA</td><td>NA</td><td>NA</td><td>NA</td><td>NA</td><td>NA</td><td>  525300</td></tr>\n",
              "\t<tr><td>alvarhe01</td><td>2016</td><td>NA</td><td>OAK</td><td>AL</td><td>NA</td><td>NA</td><td>NA</td><td>NA</td><td>NA</td><td>⋯</td><td>NA</td><td>NA</td><td>NA</td><td>NA</td><td>NA</td><td>NA</td><td>NA</td><td>NA</td><td>NA</td><td> 4250000</td></tr>\n",
              "\t<tr><td>alvarrj01</td><td>2016</td><td>NA</td><td>OAK</td><td>AL</td><td>NA</td><td>NA</td><td>NA</td><td>NA</td><td>NA</td><td>⋯</td><td>NA</td><td>NA</td><td>NA</td><td>NA</td><td>NA</td><td>NA</td><td>NA</td><td>NA</td><td>NA</td><td>  510000</td></tr>\n",
              "\t<tr><td>doubrfe01</td><td>2016</td><td>NA</td><td>OAK</td><td>AL</td><td>NA</td><td>NA</td><td>NA</td><td>NA</td><td>NA</td><td>⋯</td><td>NA</td><td>NA</td><td>NA</td><td>NA</td><td>NA</td><td>NA</td><td>NA</td><td>NA</td><td>NA</td><td> 2000000</td></tr>\n",
              "\t<tr><td>fuldsa01 </td><td>2016</td><td>NA</td><td>OAK</td><td>AL</td><td>NA</td><td>NA</td><td>NA</td><td>NA</td><td>NA</td><td>⋯</td><td>NA</td><td>NA</td><td>NA</td><td>NA</td><td>NA</td><td>NA</td><td>NA</td><td>NA</td><td>NA</td><td> 1925000</td></tr>\n",
              "\t<tr><td>parkeja02</td><td>2016</td><td>NA</td><td>OAK</td><td>AL</td><td>NA</td><td>NA</td><td>NA</td><td>NA</td><td>NA</td><td>⋯</td><td>NA</td><td>NA</td><td>NA</td><td>NA</td><td>NA</td><td>NA</td><td>NA</td><td>NA</td><td>NA</td><td>  850000</td></tr>\n",
              "\t<tr><td>sogarer01</td><td>2016</td><td>NA</td><td>OAK</td><td>AL</td><td>NA</td><td>NA</td><td>NA</td><td>NA</td><td>NA</td><td>⋯</td><td>NA</td><td>NA</td><td>NA</td><td>NA</td><td>NA</td><td>NA</td><td>NA</td><td>NA</td><td>NA</td><td> 1500000</td></tr>\n",
              "\t<tr><td>harrima01</td><td>2016</td><td>NA</td><td>PHI</td><td>NL</td><td>NA</td><td>NA</td><td>NA</td><td>NA</td><td>NA</td><td>⋯</td><td>NA</td><td>NA</td><td>NA</td><td>NA</td><td>NA</td><td>NA</td><td>NA</td><td>NA</td><td>NA</td><td>13000000</td></tr>\n",
              "\t<tr><td>hollama01</td><td>2016</td><td>NA</td><td>PHI</td><td>NL</td><td>NA</td><td>NA</td><td>NA</td><td>NA</td><td>NA</td><td>⋯</td><td>NA</td><td>NA</td><td>NA</td><td>NA</td><td>NA</td><td>NA</td><td>NA</td><td>NA</td><td>NA</td><td>  512500</td></tr>\n",
              "\t<tr><td>margoma01</td><td>2016</td><td>NA</td><td>PHI</td><td>NL</td><td>NA</td><td>NA</td><td>NA</td><td>NA</td><td>NA</td><td>⋯</td><td>NA</td><td>NA</td><td>NA</td><td>NA</td><td>NA</td><td>NA</td><td>NA</td><td>NA</td><td>NA</td><td>  512500</td></tr>\n",
              "\t<tr><td>edwarjo02</td><td>2016</td><td>NA</td><td>SDN</td><td>NL</td><td>NA</td><td>NA</td><td>NA</td><td>NA</td><td>NA</td><td>⋯</td><td>NA</td><td>NA</td><td>NA</td><td>NA</td><td>NA</td><td>NA</td><td>NA</td><td>NA</td><td>NA</td><td>  509600</td></tr>\n",
              "\t<tr><td>cookry01 </td><td>2016</td><td>NA</td><td>SEA</td><td>AL</td><td>NA</td><td>NA</td><td>NA</td><td>NA</td><td>NA</td><td>⋯</td><td>NA</td><td>NA</td><td>NA</td><td>NA</td><td>NA</td><td>NA</td><td>NA</td><td>NA</td><td>NA</td><td> 1100000</td></tr>\n",
              "\t<tr><td>furbuch01</td><td>2016</td><td>NA</td><td>SEA</td><td>AL</td><td>NA</td><td>NA</td><td>NA</td><td>NA</td><td>NA</td><td>⋯</td><td>NA</td><td>NA</td><td>NA</td><td>NA</td><td>NA</td><td>NA</td><td>NA</td><td>NA</td><td>NA</td><td> 1600000</td></tr>\n",
              "\t<tr><td>duffyma02</td><td>2016</td><td>NA</td><td>SFN</td><td>NL</td><td>NA</td><td>NA</td><td>NA</td><td>NA</td><td>NA</td><td>⋯</td><td>NA</td><td>NA</td><td>NA</td><td>NA</td><td>NA</td><td>NA</td><td>NA</td><td>NA</td><td>NA</td><td>  537500</td></tr>\n",
              "\t<tr><td>harrimi03</td><td>2016</td><td>NA</td><td>SLN</td><td>NL</td><td>NA</td><td>NA</td><td>NA</td><td>NA</td><td>NA</td><td>⋯</td><td>NA</td><td>NA</td><td>NA</td><td>NA</td><td>NA</td><td>NA</td><td>NA</td><td>NA</td><td>NA</td><td>  509000</td></tr>\n",
              "\t<tr><td>lynnla01 </td><td>2016</td><td>NA</td><td>SLN</td><td>NL</td><td>NA</td><td>NA</td><td>NA</td><td>NA</td><td>NA</td><td>⋯</td><td>NA</td><td>NA</td><td>NA</td><td>NA</td><td>NA</td><td>NA</td><td>NA</td><td>NA</td><td>NA</td><td> 7500000</td></tr>\n",
              "\t<tr><td>waldejo01</td><td>2016</td><td>NA</td><td>SLN</td><td>NL</td><td>NA</td><td>NA</td><td>NA</td><td>NA</td><td>NA</td><td>⋯</td><td>NA</td><td>NA</td><td>NA</td><td>NA</td><td>NA</td><td>NA</td><td>NA</td><td>NA</td><td>NA</td><td> 3675000</td></tr>\n",
              "\t<tr><td>gimench01</td><td>2016</td><td>NA</td><td>TEX</td><td>AL</td><td>NA</td><td>NA</td><td>NA</td><td>NA</td><td>NA</td><td>⋯</td><td>NA</td><td>NA</td><td>NA</td><td>NA</td><td>NA</td><td>NA</td><td>NA</td><td>NA</td><td>NA</td><td>  975000</td></tr>\n",
              "\t<tr><td>hamiljo03</td><td>2016</td><td>NA</td><td>TEX</td><td>AL</td><td>NA</td><td>NA</td><td>NA</td><td>NA</td><td>NA</td><td>⋯</td><td>NA</td><td>NA</td><td>NA</td><td>NA</td><td>NA</td><td>NA</td><td>NA</td><td>NA</td><td>NA</td><td>24000000</td></tr>\n",
              "\t<tr><td>barreaa01</td><td>2016</td><td>NA</td><td>WAS</td><td>NL</td><td>NA</td><td>NA</td><td>NA</td><td>NA</td><td>NA</td><td>⋯</td><td>NA</td><td>NA</td><td>NA</td><td>NA</td><td>NA</td><td>NA</td><td>NA</td><td>NA</td><td>NA</td><td>  519400</td></tr>\n",
              "</tbody>\n",
              "</table>\n"
            ],
            "text/markdown": "\nA data.frame: 113180 × 23\n\n| playerID &lt;chr&gt; | yearID &lt;int&gt; | stint &lt;int&gt; | teamID &lt;fct&gt; | lgID &lt;fct&gt; | G &lt;int&gt; | AB &lt;int&gt; | R &lt;int&gt; | H &lt;int&gt; | X2B &lt;int&gt; | ⋯ ⋯ | SB &lt;int&gt; | CS &lt;int&gt; | BB &lt;int&gt; | SO &lt;int&gt; | IBB &lt;int&gt; | HBP &lt;int&gt; | SH &lt;int&gt; | SF &lt;int&gt; | GIDP &lt;int&gt; | salary &lt;int&gt; |\n|---|---|---|---|---|---|---|---|---|---|---|---|---|---|---|---|---|---|---|---|---|\n| abercda01 | 1871 | 1 | TRO | NA |  1 |   4 |  0 |  0 |  0 | ⋯ |  0 | 0 |  0 | 0 | NA | NA | NA | NA | 0 | NA |\n| addybo01  | 1871 | 1 | RC1 | NA | 25 | 118 | 30 | 32 |  6 | ⋯ |  8 | 1 |  4 | 0 | NA | NA | NA | NA | 0 | NA |\n| allisar01 | 1871 | 1 | CL1 | NA | 29 | 137 | 28 | 40 |  4 | ⋯ |  3 | 1 |  2 | 5 | NA | NA | NA | NA | 1 | NA |\n| allisdo01 | 1871 | 1 | WS3 | NA | 27 | 133 | 28 | 44 | 10 | ⋯ |  1 | 1 |  0 | 2 | NA | NA | NA | NA | 0 | NA |\n| ansonca01 | 1871 | 1 | RC1 | NA | 25 | 120 | 29 | 39 | 11 | ⋯ |  6 | 2 |  2 | 1 | NA | NA | NA | NA | 0 | NA |\n| armstbo01 | 1871 | 1 | FW1 | NA | 12 |  49 |  9 | 11 |  2 | ⋯ |  0 | 1 |  0 | 1 | NA | NA | NA | NA | 0 | NA |\n| barkeal01 | 1871 | 1 | RC1 | NA |  1 |   4 |  0 |  1 |  0 | ⋯ |  0 | 0 |  1 | 0 | NA | NA | NA | NA | 0 | NA |\n| barnero01 | 1871 | 1 | BS1 | NA | 31 | 157 | 66 | 63 | 10 | ⋯ | 11 | 6 | 13 | 1 | NA | NA | NA | NA | 1 | NA |\n| barrebi01 | 1871 | 1 | FW1 | NA |  1 |   5 |  1 |  1 |  1 | ⋯ |  0 | 0 |  0 | 0 | NA | NA | NA | NA | 0 | NA |\n| barrofr01 | 1871 | 1 | BS1 | NA | 18 |  86 | 13 | 13 |  2 | ⋯ |  1 | 0 |  0 | 0 | NA | NA | NA | NA | 0 | NA |\n| bassjo01  | 1871 | 1 | CL1 | NA | 22 |  89 | 18 | 27 |  1 | ⋯ |  0 | 1 |  3 | 4 | NA | NA | NA | NA | 0 | NA |\n| battijo01 | 1871 | 1 | CL1 | NA |  1 |   3 |  0 |  0 |  0 | ⋯ |  0 | 0 |  1 | 0 | NA | NA | NA | NA | 0 | NA |\n| bealsto01 | 1871 | 1 | WS3 | NA | 10 |  36 |  6 |  7 |  0 | ⋯ |  2 | 0 |  2 | 0 | NA | NA | NA | NA | 2 | NA |\n| beaveed01 | 1871 | 1 | TRO | NA |  3 |  15 |  7 |  6 |  0 | ⋯ |  2 | 0 |  0 | 0 | NA | NA | NA | NA | 0 | NA |\n| bechtge01 | 1871 | 1 | PH1 | NA | 20 |  94 | 24 | 33 |  9 | ⋯ |  4 | 0 |  2 | 2 | NA | NA | NA | NA | 1 | NA |\n| bellast01 | 1871 | 1 | TRO | NA | 29 | 128 | 26 | 32 |  3 | ⋯ |  4 | 4 |  9 | 2 | NA | NA | NA | NA | 2 | NA |\n| berkena01 | 1871 | 1 | PH1 | NA |  1 |   4 |  0 |  0 |  0 | ⋯ |  0 | 0 |  0 | 3 | NA | NA | NA | NA | 0 | NA |\n| berryto01 | 1871 | 1 | PH1 | NA |  1 |   4 |  0 |  1 |  0 | ⋯ |  0 | 0 |  0 | 0 | NA | NA | NA | NA | 0 | NA |\n| berthha01 | 1871 | 1 | WS3 | NA | 17 |  73 | 17 | 17 |  1 | ⋯ |  3 | 1 |  4 | 2 | NA | NA | NA | NA | 0 | NA |\n| biermch01 | 1871 | 1 | FW1 | NA |  1 |   2 |  0 |  0 |  0 | ⋯ |  0 | 0 |  1 | 0 | NA | NA | NA | NA | 0 | NA |\n| birdge01  | 1871 | 1 | RC1 | NA | 25 | 106 | 19 | 28 |  2 | ⋯ |  1 | 0 |  3 | 2 | NA | NA | NA | NA | 3 | NA |\n| birdsda01 | 1871 | 1 | BS1 | NA | 29 | 152 | 51 | 46 |  3 | ⋯ |  6 | 0 |  4 | 4 | NA | NA | NA | NA | 1 | NA |\n| brainas01 | 1871 | 1 | WS3 | NA | 30 | 134 | 24 | 30 |  4 | ⋯ |  4 | 0 |  7 | 2 | NA | NA | NA | NA | 1 | NA |\n| brannmi01 | 1871 | 1 | CH1 | NA |  3 |  14 |  2 |  1 |  0 | ⋯ |  0 | 0 |  0 | 0 | NA | NA | NA | NA | 0 | NA |\n| burrohe01 | 1871 | 1 | WS3 | NA | 12 |  63 | 11 | 15 |  2 | ⋯ |  0 | 0 |  1 | 1 | NA | NA | NA | NA | 0 | NA |\n| careyto01 | 1871 | 1 | FW1 | NA | 19 |  87 | 16 | 20 |  2 | ⋯ |  5 | 0 |  2 | 1 | NA | NA | NA | NA | 0 | NA |\n| carleji01 | 1871 | 1 | CL1 | NA | 29 | 127 | 31 | 32 |  8 | ⋯ |  2 | 1 |  8 | 3 | NA | NA | NA | NA | 3 | NA |\n| conefr01  | 1871 | 1 | BS1 | NA | 19 |  77 | 17 | 20 |  3 | ⋯ | 12 | 1 |  8 | 2 | NA | NA | NA | NA | 1 | NA |\n| connone01 | 1871 | 1 | TRO | NA |  7 |  33 |  6 |  7 |  0 | ⋯ |  0 | 0 |  0 | 0 | NA | NA | NA | NA | 0 | NA |\n| cravebi01 | 1871 | 1 | TRO | NA | 27 | 118 | 26 | 38 |  8 | ⋯ |  6 | 3 |  3 | 0 | NA | NA | NA | NA | 3 | NA |\n| ⋮ | ⋮ | ⋮ | ⋮ | ⋮ | ⋮ | ⋮ | ⋮ | ⋮ | ⋮ | ⋱ | ⋮ | ⋮ | ⋮ | ⋮ | ⋮ | ⋮ | ⋮ | ⋮ | ⋮ | ⋮ |\n| wilsocj01 | 2016 | NA | LAA | AL | NA | NA | NA | NA | NA | ⋯ | NA | NA | NA | NA | NA | NA | NA | NA | NA | 20500000 |\n| guerral01 | 2016 | NA | LAN | NL | NA | NA | NA | NA | NA | ⋯ | NA | NA | NA | NA | NA | NA | NA | NA | NA |  7500000 |\n| montafr01 | 2016 | NA | LAN | NL | NA | NA | NA | NA | NA | ⋯ | NA | NA | NA | NA | NA | NA | NA | NA | NA |   510000 |\n| cappsca01 | 2016 | NA | MIA | NL | NA | NA | NA | NA | NA | ⋯ | NA | NA | NA | NA | NA | NA | NA | NA | NA |   987500 |\n| lazora01  | 2016 | NA | MIA | NL | NA | NA | NA | NA | NA | ⋯ | NA | NA | NA | NA | NA | NA | NA | NA | NA |   508500 |\n| barriyh01 | 2016 | NA | MIL | NL | NA | NA | NA | NA | NA | ⋯ | NA | NA | NA | NA | NA | NA | NA | NA | NA |   509200 |\n| liriary01 | 2016 | NA | MIL | NL | NA | NA | NA | NA | NA | ⋯ | NA | NA | NA | NA | NA | NA | NA | NA | NA |   508500 |\n| nolinse01 | 2016 | NA | MIL | NL | NA | NA | NA | NA | NA | ⋯ | NA | NA | NA | NA | NA | NA | NA | NA | NA |   509700 |\n| matzety01 | 2016 | NA | MIN | AL | NA | NA | NA | NA | NA | ⋯ | NA | NA | NA | NA | NA | NA | NA | NA | NA |   545000 |\n| wheelza01 | 2016 | NA | NYN | NL | NA | NA | NA | NA | NA | ⋯ | NA | NA | NA | NA | NA | NA | NA | NA | NA |   546250 |\n| birdgr01  | 2016 | NA | NYA | AL | NA | NA | NA | NA | NA | ⋯ | NA | NA | NA | NA | NA | NA | NA | NA | NA |   525300 |\n| alvarhe01 | 2016 | NA | OAK | AL | NA | NA | NA | NA | NA | ⋯ | NA | NA | NA | NA | NA | NA | NA | NA | NA |  4250000 |\n| alvarrj01 | 2016 | NA | OAK | AL | NA | NA | NA | NA | NA | ⋯ | NA | NA | NA | NA | NA | NA | NA | NA | NA |   510000 |\n| doubrfe01 | 2016 | NA | OAK | AL | NA | NA | NA | NA | NA | ⋯ | NA | NA | NA | NA | NA | NA | NA | NA | NA |  2000000 |\n| fuldsa01  | 2016 | NA | OAK | AL | NA | NA | NA | NA | NA | ⋯ | NA | NA | NA | NA | NA | NA | NA | NA | NA |  1925000 |\n| parkeja02 | 2016 | NA | OAK | AL | NA | NA | NA | NA | NA | ⋯ | NA | NA | NA | NA | NA | NA | NA | NA | NA |   850000 |\n| sogarer01 | 2016 | NA | OAK | AL | NA | NA | NA | NA | NA | ⋯ | NA | NA | NA | NA | NA | NA | NA | NA | NA |  1500000 |\n| harrima01 | 2016 | NA | PHI | NL | NA | NA | NA | NA | NA | ⋯ | NA | NA | NA | NA | NA | NA | NA | NA | NA | 13000000 |\n| hollama01 | 2016 | NA | PHI | NL | NA | NA | NA | NA | NA | ⋯ | NA | NA | NA | NA | NA | NA | NA | NA | NA |   512500 |\n| margoma01 | 2016 | NA | PHI | NL | NA | NA | NA | NA | NA | ⋯ | NA | NA | NA | NA | NA | NA | NA | NA | NA |   512500 |\n| edwarjo02 | 2016 | NA | SDN | NL | NA | NA | NA | NA | NA | ⋯ | NA | NA | NA | NA | NA | NA | NA | NA | NA |   509600 |\n| cookry01  | 2016 | NA | SEA | AL | NA | NA | NA | NA | NA | ⋯ | NA | NA | NA | NA | NA | NA | NA | NA | NA |  1100000 |\n| furbuch01 | 2016 | NA | SEA | AL | NA | NA | NA | NA | NA | ⋯ | NA | NA | NA | NA | NA | NA | NA | NA | NA |  1600000 |\n| duffyma02 | 2016 | NA | SFN | NL | NA | NA | NA | NA | NA | ⋯ | NA | NA | NA | NA | NA | NA | NA | NA | NA |   537500 |\n| harrimi03 | 2016 | NA | SLN | NL | NA | NA | NA | NA | NA | ⋯ | NA | NA | NA | NA | NA | NA | NA | NA | NA |   509000 |\n| lynnla01  | 2016 | NA | SLN | NL | NA | NA | NA | NA | NA | ⋯ | NA | NA | NA | NA | NA | NA | NA | NA | NA |  7500000 |\n| waldejo01 | 2016 | NA | SLN | NL | NA | NA | NA | NA | NA | ⋯ | NA | NA | NA | NA | NA | NA | NA | NA | NA |  3675000 |\n| gimench01 | 2016 | NA | TEX | AL | NA | NA | NA | NA | NA | ⋯ | NA | NA | NA | NA | NA | NA | NA | NA | NA |   975000 |\n| hamiljo03 | 2016 | NA | TEX | AL | NA | NA | NA | NA | NA | ⋯ | NA | NA | NA | NA | NA | NA | NA | NA | NA | 24000000 |\n| barreaa01 | 2016 | NA | WAS | NL | NA | NA | NA | NA | NA | ⋯ | NA | NA | NA | NA | NA | NA | NA | NA | NA |   519400 |\n\n",
            "text/latex": "A data.frame: 113180 × 23\n\\begin{tabular}{lllllllllllllllllllll}\n playerID & yearID & stint & teamID & lgID & G & AB & R & H & X2B & ⋯ & SB & CS & BB & SO & IBB & HBP & SH & SF & GIDP & salary\\\\\n <chr> & <int> & <int> & <fct> & <fct> & <int> & <int> & <int> & <int> & <int> & ⋯ & <int> & <int> & <int> & <int> & <int> & <int> & <int> & <int> & <int> & <int>\\\\\n\\hline\n\t abercda01 & 1871 & 1 & TRO & NA &  1 &   4 &  0 &  0 &  0 & ⋯ &  0 & 0 &  0 & 0 & NA & NA & NA & NA & 0 & NA\\\\\n\t addybo01  & 1871 & 1 & RC1 & NA & 25 & 118 & 30 & 32 &  6 & ⋯ &  8 & 1 &  4 & 0 & NA & NA & NA & NA & 0 & NA\\\\\n\t allisar01 & 1871 & 1 & CL1 & NA & 29 & 137 & 28 & 40 &  4 & ⋯ &  3 & 1 &  2 & 5 & NA & NA & NA & NA & 1 & NA\\\\\n\t allisdo01 & 1871 & 1 & WS3 & NA & 27 & 133 & 28 & 44 & 10 & ⋯ &  1 & 1 &  0 & 2 & NA & NA & NA & NA & 0 & NA\\\\\n\t ansonca01 & 1871 & 1 & RC1 & NA & 25 & 120 & 29 & 39 & 11 & ⋯ &  6 & 2 &  2 & 1 & NA & NA & NA & NA & 0 & NA\\\\\n\t armstbo01 & 1871 & 1 & FW1 & NA & 12 &  49 &  9 & 11 &  2 & ⋯ &  0 & 1 &  0 & 1 & NA & NA & NA & NA & 0 & NA\\\\\n\t barkeal01 & 1871 & 1 & RC1 & NA &  1 &   4 &  0 &  1 &  0 & ⋯ &  0 & 0 &  1 & 0 & NA & NA & NA & NA & 0 & NA\\\\\n\t barnero01 & 1871 & 1 & BS1 & NA & 31 & 157 & 66 & 63 & 10 & ⋯ & 11 & 6 & 13 & 1 & NA & NA & NA & NA & 1 & NA\\\\\n\t barrebi01 & 1871 & 1 & FW1 & NA &  1 &   5 &  1 &  1 &  1 & ⋯ &  0 & 0 &  0 & 0 & NA & NA & NA & NA & 0 & NA\\\\\n\t barrofr01 & 1871 & 1 & BS1 & NA & 18 &  86 & 13 & 13 &  2 & ⋯ &  1 & 0 &  0 & 0 & NA & NA & NA & NA & 0 & NA\\\\\n\t bassjo01  & 1871 & 1 & CL1 & NA & 22 &  89 & 18 & 27 &  1 & ⋯ &  0 & 1 &  3 & 4 & NA & NA & NA & NA & 0 & NA\\\\\n\t battijo01 & 1871 & 1 & CL1 & NA &  1 &   3 &  0 &  0 &  0 & ⋯ &  0 & 0 &  1 & 0 & NA & NA & NA & NA & 0 & NA\\\\\n\t bealsto01 & 1871 & 1 & WS3 & NA & 10 &  36 &  6 &  7 &  0 & ⋯ &  2 & 0 &  2 & 0 & NA & NA & NA & NA & 2 & NA\\\\\n\t beaveed01 & 1871 & 1 & TRO & NA &  3 &  15 &  7 &  6 &  0 & ⋯ &  2 & 0 &  0 & 0 & NA & NA & NA & NA & 0 & NA\\\\\n\t bechtge01 & 1871 & 1 & PH1 & NA & 20 &  94 & 24 & 33 &  9 & ⋯ &  4 & 0 &  2 & 2 & NA & NA & NA & NA & 1 & NA\\\\\n\t bellast01 & 1871 & 1 & TRO & NA & 29 & 128 & 26 & 32 &  3 & ⋯ &  4 & 4 &  9 & 2 & NA & NA & NA & NA & 2 & NA\\\\\n\t berkena01 & 1871 & 1 & PH1 & NA &  1 &   4 &  0 &  0 &  0 & ⋯ &  0 & 0 &  0 & 3 & NA & NA & NA & NA & 0 & NA\\\\\n\t berryto01 & 1871 & 1 & PH1 & NA &  1 &   4 &  0 &  1 &  0 & ⋯ &  0 & 0 &  0 & 0 & NA & NA & NA & NA & 0 & NA\\\\\n\t berthha01 & 1871 & 1 & WS3 & NA & 17 &  73 & 17 & 17 &  1 & ⋯ &  3 & 1 &  4 & 2 & NA & NA & NA & NA & 0 & NA\\\\\n\t biermch01 & 1871 & 1 & FW1 & NA &  1 &   2 &  0 &  0 &  0 & ⋯ &  0 & 0 &  1 & 0 & NA & NA & NA & NA & 0 & NA\\\\\n\t birdge01  & 1871 & 1 & RC1 & NA & 25 & 106 & 19 & 28 &  2 & ⋯ &  1 & 0 &  3 & 2 & NA & NA & NA & NA & 3 & NA\\\\\n\t birdsda01 & 1871 & 1 & BS1 & NA & 29 & 152 & 51 & 46 &  3 & ⋯ &  6 & 0 &  4 & 4 & NA & NA & NA & NA & 1 & NA\\\\\n\t brainas01 & 1871 & 1 & WS3 & NA & 30 & 134 & 24 & 30 &  4 & ⋯ &  4 & 0 &  7 & 2 & NA & NA & NA & NA & 1 & NA\\\\\n\t brannmi01 & 1871 & 1 & CH1 & NA &  3 &  14 &  2 &  1 &  0 & ⋯ &  0 & 0 &  0 & 0 & NA & NA & NA & NA & 0 & NA\\\\\n\t burrohe01 & 1871 & 1 & WS3 & NA & 12 &  63 & 11 & 15 &  2 & ⋯ &  0 & 0 &  1 & 1 & NA & NA & NA & NA & 0 & NA\\\\\n\t careyto01 & 1871 & 1 & FW1 & NA & 19 &  87 & 16 & 20 &  2 & ⋯ &  5 & 0 &  2 & 1 & NA & NA & NA & NA & 0 & NA\\\\\n\t carleji01 & 1871 & 1 & CL1 & NA & 29 & 127 & 31 & 32 &  8 & ⋯ &  2 & 1 &  8 & 3 & NA & NA & NA & NA & 3 & NA\\\\\n\t conefr01  & 1871 & 1 & BS1 & NA & 19 &  77 & 17 & 20 &  3 & ⋯ & 12 & 1 &  8 & 2 & NA & NA & NA & NA & 1 & NA\\\\\n\t connone01 & 1871 & 1 & TRO & NA &  7 &  33 &  6 &  7 &  0 & ⋯ &  0 & 0 &  0 & 0 & NA & NA & NA & NA & 0 & NA\\\\\n\t cravebi01 & 1871 & 1 & TRO & NA & 27 & 118 & 26 & 38 &  8 & ⋯ &  6 & 3 &  3 & 0 & NA & NA & NA & NA & 3 & NA\\\\\n\t ⋮ & ⋮ & ⋮ & ⋮ & ⋮ & ⋮ & ⋮ & ⋮ & ⋮ & ⋮ & ⋱ & ⋮ & ⋮ & ⋮ & ⋮ & ⋮ & ⋮ & ⋮ & ⋮ & ⋮ & ⋮\\\\\n\t wilsocj01 & 2016 & NA & LAA & AL & NA & NA & NA & NA & NA & ⋯ & NA & NA & NA & NA & NA & NA & NA & NA & NA & 20500000\\\\\n\t guerral01 & 2016 & NA & LAN & NL & NA & NA & NA & NA & NA & ⋯ & NA & NA & NA & NA & NA & NA & NA & NA & NA &  7500000\\\\\n\t montafr01 & 2016 & NA & LAN & NL & NA & NA & NA & NA & NA & ⋯ & NA & NA & NA & NA & NA & NA & NA & NA & NA &   510000\\\\\n\t cappsca01 & 2016 & NA & MIA & NL & NA & NA & NA & NA & NA & ⋯ & NA & NA & NA & NA & NA & NA & NA & NA & NA &   987500\\\\\n\t lazora01  & 2016 & NA & MIA & NL & NA & NA & NA & NA & NA & ⋯ & NA & NA & NA & NA & NA & NA & NA & NA & NA &   508500\\\\\n\t barriyh01 & 2016 & NA & MIL & NL & NA & NA & NA & NA & NA & ⋯ & NA & NA & NA & NA & NA & NA & NA & NA & NA &   509200\\\\\n\t liriary01 & 2016 & NA & MIL & NL & NA & NA & NA & NA & NA & ⋯ & NA & NA & NA & NA & NA & NA & NA & NA & NA &   508500\\\\\n\t nolinse01 & 2016 & NA & MIL & NL & NA & NA & NA & NA & NA & ⋯ & NA & NA & NA & NA & NA & NA & NA & NA & NA &   509700\\\\\n\t matzety01 & 2016 & NA & MIN & AL & NA & NA & NA & NA & NA & ⋯ & NA & NA & NA & NA & NA & NA & NA & NA & NA &   545000\\\\\n\t wheelza01 & 2016 & NA & NYN & NL & NA & NA & NA & NA & NA & ⋯ & NA & NA & NA & NA & NA & NA & NA & NA & NA &   546250\\\\\n\t birdgr01  & 2016 & NA & NYA & AL & NA & NA & NA & NA & NA & ⋯ & NA & NA & NA & NA & NA & NA & NA & NA & NA &   525300\\\\\n\t alvarhe01 & 2016 & NA & OAK & AL & NA & NA & NA & NA & NA & ⋯ & NA & NA & NA & NA & NA & NA & NA & NA & NA &  4250000\\\\\n\t alvarrj01 & 2016 & NA & OAK & AL & NA & NA & NA & NA & NA & ⋯ & NA & NA & NA & NA & NA & NA & NA & NA & NA &   510000\\\\\n\t doubrfe01 & 2016 & NA & OAK & AL & NA & NA & NA & NA & NA & ⋯ & NA & NA & NA & NA & NA & NA & NA & NA & NA &  2000000\\\\\n\t fuldsa01  & 2016 & NA & OAK & AL & NA & NA & NA & NA & NA & ⋯ & NA & NA & NA & NA & NA & NA & NA & NA & NA &  1925000\\\\\n\t parkeja02 & 2016 & NA & OAK & AL & NA & NA & NA & NA & NA & ⋯ & NA & NA & NA & NA & NA & NA & NA & NA & NA &   850000\\\\\n\t sogarer01 & 2016 & NA & OAK & AL & NA & NA & NA & NA & NA & ⋯ & NA & NA & NA & NA & NA & NA & NA & NA & NA &  1500000\\\\\n\t harrima01 & 2016 & NA & PHI & NL & NA & NA & NA & NA & NA & ⋯ & NA & NA & NA & NA & NA & NA & NA & NA & NA & 13000000\\\\\n\t hollama01 & 2016 & NA & PHI & NL & NA & NA & NA & NA & NA & ⋯ & NA & NA & NA & NA & NA & NA & NA & NA & NA &   512500\\\\\n\t margoma01 & 2016 & NA & PHI & NL & NA & NA & NA & NA & NA & ⋯ & NA & NA & NA & NA & NA & NA & NA & NA & NA &   512500\\\\\n\t edwarjo02 & 2016 & NA & SDN & NL & NA & NA & NA & NA & NA & ⋯ & NA & NA & NA & NA & NA & NA & NA & NA & NA &   509600\\\\\n\t cookry01  & 2016 & NA & SEA & AL & NA & NA & NA & NA & NA & ⋯ & NA & NA & NA & NA & NA & NA & NA & NA & NA &  1100000\\\\\n\t furbuch01 & 2016 & NA & SEA & AL & NA & NA & NA & NA & NA & ⋯ & NA & NA & NA & NA & NA & NA & NA & NA & NA &  1600000\\\\\n\t duffyma02 & 2016 & NA & SFN & NL & NA & NA & NA & NA & NA & ⋯ & NA & NA & NA & NA & NA & NA & NA & NA & NA &   537500\\\\\n\t harrimi03 & 2016 & NA & SLN & NL & NA & NA & NA & NA & NA & ⋯ & NA & NA & NA & NA & NA & NA & NA & NA & NA &   509000\\\\\n\t lynnla01  & 2016 & NA & SLN & NL & NA & NA & NA & NA & NA & ⋯ & NA & NA & NA & NA & NA & NA & NA & NA & NA &  7500000\\\\\n\t waldejo01 & 2016 & NA & SLN & NL & NA & NA & NA & NA & NA & ⋯ & NA & NA & NA & NA & NA & NA & NA & NA & NA &  3675000\\\\\n\t gimench01 & 2016 & NA & TEX & AL & NA & NA & NA & NA & NA & ⋯ & NA & NA & NA & NA & NA & NA & NA & NA & NA &   975000\\\\\n\t hamiljo03 & 2016 & NA & TEX & AL & NA & NA & NA & NA & NA & ⋯ & NA & NA & NA & NA & NA & NA & NA & NA & NA & 24000000\\\\\n\t barreaa01 & 2016 & NA & WAS & NL & NA & NA & NA & NA & NA & ⋯ & NA & NA & NA & NA & NA & NA & NA & NA & NA &   519400\\\\\n\\end{tabular}\n",
            "text/plain": [
              "       playerID  yearID stint teamID lgID G  AB  R  H  X2B ⋯ SB CS BB SO IBB\n",
              "1      abercda01 1871   1     TRO    NA    1   4  0  0  0  ⋯  0 0   0 0  NA \n",
              "2      addybo01  1871   1     RC1    NA   25 118 30 32  6  ⋯  8 1   4 0  NA \n",
              "3      allisar01 1871   1     CL1    NA   29 137 28 40  4  ⋯  3 1   2 5  NA \n",
              "4      allisdo01 1871   1     WS3    NA   27 133 28 44 10  ⋯  1 1   0 2  NA \n",
              "5      ansonca01 1871   1     RC1    NA   25 120 29 39 11  ⋯  6 2   2 1  NA \n",
              "6      armstbo01 1871   1     FW1    NA   12  49  9 11  2  ⋯  0 1   0 1  NA \n",
              "7      barkeal01 1871   1     RC1    NA    1   4  0  1  0  ⋯  0 0   1 0  NA \n",
              "8      barnero01 1871   1     BS1    NA   31 157 66 63 10  ⋯ 11 6  13 1  NA \n",
              "9      barrebi01 1871   1     FW1    NA    1   5  1  1  1  ⋯  0 0   0 0  NA \n",
              "10     barrofr01 1871   1     BS1    NA   18  86 13 13  2  ⋯  1 0   0 0  NA \n",
              "11     bassjo01  1871   1     CL1    NA   22  89 18 27  1  ⋯  0 1   3 4  NA \n",
              "12     battijo01 1871   1     CL1    NA    1   3  0  0  0  ⋯  0 0   1 0  NA \n",
              "13     bealsto01 1871   1     WS3    NA   10  36  6  7  0  ⋯  2 0   2 0  NA \n",
              "14     beaveed01 1871   1     TRO    NA    3  15  7  6  0  ⋯  2 0   0 0  NA \n",
              "15     bechtge01 1871   1     PH1    NA   20  94 24 33  9  ⋯  4 0   2 2  NA \n",
              "16     bellast01 1871   1     TRO    NA   29 128 26 32  3  ⋯  4 4   9 2  NA \n",
              "17     berkena01 1871   1     PH1    NA    1   4  0  0  0  ⋯  0 0   0 3  NA \n",
              "18     berryto01 1871   1     PH1    NA    1   4  0  1  0  ⋯  0 0   0 0  NA \n",
              "19     berthha01 1871   1     WS3    NA   17  73 17 17  1  ⋯  3 1   4 2  NA \n",
              "20     biermch01 1871   1     FW1    NA    1   2  0  0  0  ⋯  0 0   1 0  NA \n",
              "21     birdge01  1871   1     RC1    NA   25 106 19 28  2  ⋯  1 0   3 2  NA \n",
              "22     birdsda01 1871   1     BS1    NA   29 152 51 46  3  ⋯  6 0   4 4  NA \n",
              "23     brainas01 1871   1     WS3    NA   30 134 24 30  4  ⋯  4 0   7 2  NA \n",
              "24     brannmi01 1871   1     CH1    NA    3  14  2  1  0  ⋯  0 0   0 0  NA \n",
              "25     burrohe01 1871   1     WS3    NA   12  63 11 15  2  ⋯  0 0   1 1  NA \n",
              "26     careyto01 1871   1     FW1    NA   19  87 16 20  2  ⋯  5 0   2 1  NA \n",
              "27     carleji01 1871   1     CL1    NA   29 127 31 32  8  ⋯  2 1   8 3  NA \n",
              "28     conefr01  1871   1     BS1    NA   19  77 17 20  3  ⋯ 12 1   8 2  NA \n",
              "29     connone01 1871   1     TRO    NA    7  33  6  7  0  ⋯  0 0   0 0  NA \n",
              "30     cravebi01 1871   1     TRO    NA   27 118 26 38  8  ⋯  6 3   3 0  NA \n",
              "⋮      ⋮         ⋮      ⋮     ⋮      ⋮    ⋮  ⋮   ⋮  ⋮  ⋮   ⋱ ⋮  ⋮  ⋮  ⋮  ⋮  \n",
              "113151 wilsocj01 2016   NA    LAA    AL   NA NA  NA NA NA  ⋯ NA NA NA NA NA \n",
              "113152 guerral01 2016   NA    LAN    NL   NA NA  NA NA NA  ⋯ NA NA NA NA NA \n",
              "113153 montafr01 2016   NA    LAN    NL   NA NA  NA NA NA  ⋯ NA NA NA NA NA \n",
              "113154 cappsca01 2016   NA    MIA    NL   NA NA  NA NA NA  ⋯ NA NA NA NA NA \n",
              "113155 lazora01  2016   NA    MIA    NL   NA NA  NA NA NA  ⋯ NA NA NA NA NA \n",
              "113156 barriyh01 2016   NA    MIL    NL   NA NA  NA NA NA  ⋯ NA NA NA NA NA \n",
              "113157 liriary01 2016   NA    MIL    NL   NA NA  NA NA NA  ⋯ NA NA NA NA NA \n",
              "113158 nolinse01 2016   NA    MIL    NL   NA NA  NA NA NA  ⋯ NA NA NA NA NA \n",
              "113159 matzety01 2016   NA    MIN    AL   NA NA  NA NA NA  ⋯ NA NA NA NA NA \n",
              "113160 wheelza01 2016   NA    NYN    NL   NA NA  NA NA NA  ⋯ NA NA NA NA NA \n",
              "113161 birdgr01  2016   NA    NYA    AL   NA NA  NA NA NA  ⋯ NA NA NA NA NA \n",
              "113162 alvarhe01 2016   NA    OAK    AL   NA NA  NA NA NA  ⋯ NA NA NA NA NA \n",
              "113163 alvarrj01 2016   NA    OAK    AL   NA NA  NA NA NA  ⋯ NA NA NA NA NA \n",
              "113164 doubrfe01 2016   NA    OAK    AL   NA NA  NA NA NA  ⋯ NA NA NA NA NA \n",
              "113165 fuldsa01  2016   NA    OAK    AL   NA NA  NA NA NA  ⋯ NA NA NA NA NA \n",
              "113166 parkeja02 2016   NA    OAK    AL   NA NA  NA NA NA  ⋯ NA NA NA NA NA \n",
              "113167 sogarer01 2016   NA    OAK    AL   NA NA  NA NA NA  ⋯ NA NA NA NA NA \n",
              "113168 harrima01 2016   NA    PHI    NL   NA NA  NA NA NA  ⋯ NA NA NA NA NA \n",
              "113169 hollama01 2016   NA    PHI    NL   NA NA  NA NA NA  ⋯ NA NA NA NA NA \n",
              "113170 margoma01 2016   NA    PHI    NL   NA NA  NA NA NA  ⋯ NA NA NA NA NA \n",
              "113171 edwarjo02 2016   NA    SDN    NL   NA NA  NA NA NA  ⋯ NA NA NA NA NA \n",
              "113172 cookry01  2016   NA    SEA    AL   NA NA  NA NA NA  ⋯ NA NA NA NA NA \n",
              "113173 furbuch01 2016   NA    SEA    AL   NA NA  NA NA NA  ⋯ NA NA NA NA NA \n",
              "113174 duffyma02 2016   NA    SFN    NL   NA NA  NA NA NA  ⋯ NA NA NA NA NA \n",
              "113175 harrimi03 2016   NA    SLN    NL   NA NA  NA NA NA  ⋯ NA NA NA NA NA \n",
              "113176 lynnla01  2016   NA    SLN    NL   NA NA  NA NA NA  ⋯ NA NA NA NA NA \n",
              "113177 waldejo01 2016   NA    SLN    NL   NA NA  NA NA NA  ⋯ NA NA NA NA NA \n",
              "113178 gimench01 2016   NA    TEX    AL   NA NA  NA NA NA  ⋯ NA NA NA NA NA \n",
              "113179 hamiljo03 2016   NA    TEX    AL   NA NA  NA NA NA  ⋯ NA NA NA NA NA \n",
              "113180 barreaa01 2016   NA    WAS    NL   NA NA  NA NA NA  ⋯ NA NA NA NA NA \n",
              "       HBP SH SF GIDP salary  \n",
              "1      NA  NA NA 0    NA      \n",
              "2      NA  NA NA 0    NA      \n",
              "3      NA  NA NA 1    NA      \n",
              "4      NA  NA NA 0    NA      \n",
              "5      NA  NA NA 0    NA      \n",
              "6      NA  NA NA 0    NA      \n",
              "7      NA  NA NA 0    NA      \n",
              "8      NA  NA NA 1    NA      \n",
              "9      NA  NA NA 0    NA      \n",
              "10     NA  NA NA 0    NA      \n",
              "11     NA  NA NA 0    NA      \n",
              "12     NA  NA NA 0    NA      \n",
              "13     NA  NA NA 2    NA      \n",
              "14     NA  NA NA 0    NA      \n",
              "15     NA  NA NA 1    NA      \n",
              "16     NA  NA NA 2    NA      \n",
              "17     NA  NA NA 0    NA      \n",
              "18     NA  NA NA 0    NA      \n",
              "19     NA  NA NA 0    NA      \n",
              "20     NA  NA NA 0    NA      \n",
              "21     NA  NA NA 3    NA      \n",
              "22     NA  NA NA 1    NA      \n",
              "23     NA  NA NA 1    NA      \n",
              "24     NA  NA NA 0    NA      \n",
              "25     NA  NA NA 0    NA      \n",
              "26     NA  NA NA 0    NA      \n",
              "27     NA  NA NA 3    NA      \n",
              "28     NA  NA NA 1    NA      \n",
              "29     NA  NA NA 0    NA      \n",
              "30     NA  NA NA 3    NA      \n",
              "⋮      ⋮   ⋮  ⋮  ⋮    ⋮       \n",
              "113151 NA  NA NA NA   20500000\n",
              "113152 NA  NA NA NA    7500000\n",
              "113153 NA  NA NA NA     510000\n",
              "113154 NA  NA NA NA     987500\n",
              "113155 NA  NA NA NA     508500\n",
              "113156 NA  NA NA NA     509200\n",
              "113157 NA  NA NA NA     508500\n",
              "113158 NA  NA NA NA     509700\n",
              "113159 NA  NA NA NA     545000\n",
              "113160 NA  NA NA NA     546250\n",
              "113161 NA  NA NA NA     525300\n",
              "113162 NA  NA NA NA    4250000\n",
              "113163 NA  NA NA NA     510000\n",
              "113164 NA  NA NA NA    2000000\n",
              "113165 NA  NA NA NA    1925000\n",
              "113166 NA  NA NA NA     850000\n",
              "113167 NA  NA NA NA    1500000\n",
              "113168 NA  NA NA NA   13000000\n",
              "113169 NA  NA NA NA     512500\n",
              "113170 NA  NA NA NA     512500\n",
              "113171 NA  NA NA NA     509600\n",
              "113172 NA  NA NA NA    1100000\n",
              "113173 NA  NA NA NA    1600000\n",
              "113174 NA  NA NA NA     537500\n",
              "113175 NA  NA NA NA     509000\n",
              "113176 NA  NA NA NA    7500000\n",
              "113177 NA  NA NA NA    3675000\n",
              "113178 NA  NA NA NA     975000\n",
              "113179 NA  NA NA NA   24000000\n",
              "113180 NA  NA NA NA     519400"
            ]
          },
          "metadata": {}
        }
      ],
      "source": [
        "Batting %>%\n",
        "    full_join(Salaries)\n",
        "\n",
        "# Equivalently:\n",
        "# full_join(Batting, Salaries)"
      ]
    },
    {
      "cell_type": "markdown",
      "id": "7228af8f",
      "metadata": {
        "id": "7228af8f"
      },
      "source": [
        "The resulting table has 23 columns and 113,180 rows, which is more than the number of rows in either of the original data frames. More specifically, 113,180 is equal to the following:"
      ]
    },
    {
      "cell_type": "code",
      "execution_count": null,
      "id": "99e23f78",
      "metadata": {
        "id": "99e23f78",
        "outputId": "ed83a020-d646-4ae8-cb76-0153b8a8c172",
        "colab": {
          "base_uri": "https://localhost:8080/",
          "height": 34
        }
      },
      "outputs": [
        {
          "output_type": "display_data",
          "data": {
            "text/html": [
              "113180"
            ],
            "text/markdown": "113180",
            "text/latex": "113180",
            "text/plain": [
              "[1] 113180"
            ]
          },
          "metadata": {}
        }
      ],
      "source": [
        "26437 +       # Number of rows in right_join\n",
        "  112184 -  # Number of rows in left_join\n",
        "  25441     # Number of rows in inner_join"
      ]
    },
    {
      "cell_type": "markdown",
      "id": "9ed4ca27",
      "metadata": {
        "id": "9ed4ca27"
      },
      "source": [
        "### Filtering joins"
      ]
    },
    {
      "cell_type": "markdown",
      "id": "7e3b359a",
      "metadata": {
        "id": "7e3b359a"
      },
      "source": [
        "The second category of joins are **filtering joins**, which $\\underline{\\text{filter rows}}$ in one data frame based on whether or not they match a row in another data frame. There are two types of filtering joins: (1) semi and (2) anti."
      ]
    },
    {
      "cell_type": "markdown",
      "id": "a1e7c1f9",
      "metadata": {
        "id": "a1e7c1f9"
      },
      "source": [
        "#### Filtering join #1: `semi_join()`"
      ]
    },
    {
      "cell_type": "markdown",
      "id": "32420fe8",
      "metadata": {
        "id": "32420fe8"
      },
      "source": [
        "**``semi_join(x, y)``** preserves all rows in **x** that have a matching key in **y**. It's kind of like an inner join except it doesn't add any of the columns from **y**."
      ]
    },
    {
      "cell_type": "markdown",
      "id": "48292965",
      "metadata": {
        "id": "48292965"
      },
      "source": [
        "For example, here's a semi-join for `Batting` and `Salaries`:"
      ]
    },
    {
      "cell_type": "code",
      "execution_count": null,
      "id": "9d2647e6",
      "metadata": {
        "id": "9d2647e6",
        "outputId": "f23de29c-dae8-40d3-89e0-9db627203c71",
        "colab": {
          "base_uri": "https://localhost:8080/",
          "height": 1000
        }
      },
      "outputs": [
        {
          "output_type": "stream",
          "name": "stderr",
          "text": [
            "\u001b[1m\u001b[22mJoining with `by = join_by(playerID, yearID, teamID, lgID)`\n"
          ]
        },
        {
          "output_type": "display_data",
          "data": {
            "text/html": [
              "<table class=\"dataframe\">\n",
              "<caption>A data.frame: 25441 × 22</caption>\n",
              "<thead>\n",
              "\t<tr><th scope=col>playerID</th><th scope=col>yearID</th><th scope=col>stint</th><th scope=col>teamID</th><th scope=col>lgID</th><th scope=col>G</th><th scope=col>AB</th><th scope=col>R</th><th scope=col>H</th><th scope=col>X2B</th><th scope=col>⋯</th><th scope=col>RBI</th><th scope=col>SB</th><th scope=col>CS</th><th scope=col>BB</th><th scope=col>SO</th><th scope=col>IBB</th><th scope=col>HBP</th><th scope=col>SH</th><th scope=col>SF</th><th scope=col>GIDP</th></tr>\n",
              "\t<tr><th scope=col>&lt;chr&gt;</th><th scope=col>&lt;int&gt;</th><th scope=col>&lt;int&gt;</th><th scope=col>&lt;fct&gt;</th><th scope=col>&lt;fct&gt;</th><th scope=col>&lt;int&gt;</th><th scope=col>&lt;int&gt;</th><th scope=col>&lt;int&gt;</th><th scope=col>&lt;int&gt;</th><th scope=col>&lt;int&gt;</th><th scope=col>⋯</th><th scope=col>&lt;int&gt;</th><th scope=col>&lt;int&gt;</th><th scope=col>&lt;int&gt;</th><th scope=col>&lt;int&gt;</th><th scope=col>&lt;int&gt;</th><th scope=col>&lt;int&gt;</th><th scope=col>&lt;int&gt;</th><th scope=col>&lt;int&gt;</th><th scope=col>&lt;int&gt;</th><th scope=col>&lt;int&gt;</th></tr>\n",
              "</thead>\n",
              "<tbody>\n",
              "\t<tr><td>ackerji01</td><td>1985</td><td>1</td><td>TOR</td><td>AL</td><td> 61</td><td>  0</td><td> 0</td><td>  0</td><td> 0</td><td>⋯</td><td>  0</td><td> 0</td><td> 0</td><td> 0</td><td>  0</td><td>0</td><td> 0</td><td> 0</td><td> 0</td><td> 0</td></tr>\n",
              "\t<tr><td>agostju01</td><td>1985</td><td>1</td><td>CHA</td><td>AL</td><td> 54</td><td>  0</td><td> 0</td><td>  0</td><td> 0</td><td>⋯</td><td>  0</td><td> 0</td><td> 0</td><td> 0</td><td>  0</td><td>0</td><td> 0</td><td> 0</td><td> 0</td><td> 0</td></tr>\n",
              "\t<tr><td>aguaylu01</td><td>1985</td><td>1</td><td>PHI</td><td>NL</td><td> 91</td><td>165</td><td>27</td><td> 46</td><td> 7</td><td>⋯</td><td> 21</td><td> 1</td><td> 0</td><td>22</td><td> 26</td><td>5</td><td> 6</td><td> 4</td><td> 3</td><td> 7</td></tr>\n",
              "\t<tr><td>alexado01</td><td>1985</td><td>1</td><td>TOR</td><td>AL</td><td> 36</td><td>  0</td><td> 0</td><td>  0</td><td> 0</td><td>⋯</td><td>  0</td><td> 0</td><td> 0</td><td> 0</td><td>  0</td><td>0</td><td> 0</td><td> 0</td><td> 0</td><td> 0</td></tr>\n",
              "\t<tr><td>allenne01</td><td>1985</td><td>1</td><td>SLN</td><td>NL</td><td> 23</td><td>  2</td><td> 0</td><td>  0</td><td> 0</td><td>⋯</td><td>  0</td><td> 0</td><td> 0</td><td> 0</td><td>  2</td><td>0</td><td> 0</td><td> 0</td><td> 0</td><td> 0</td></tr>\n",
              "\t<tr><td>almonbi01</td><td>1985</td><td>1</td><td>PIT</td><td>NL</td><td> 88</td><td>244</td><td>33</td><td> 66</td><td>17</td><td>⋯</td><td> 29</td><td>10</td><td> 7</td><td>22</td><td> 61</td><td>0</td><td> 1</td><td> 4</td><td> 3</td><td> 6</td></tr>\n",
              "\t<tr><td>anderla02</td><td>1985</td><td>1</td><td>PHI</td><td>NL</td><td> 57</td><td>  4</td><td> 1</td><td>  0</td><td> 0</td><td>⋯</td><td>  0</td><td> 0</td><td> 0</td><td> 0</td><td>  0</td><td>0</td><td> 0</td><td> 1</td><td> 0</td><td> 0</td></tr>\n",
              "\t<tr><td>andujjo01</td><td>1985</td><td>1</td><td>SLN</td><td>NL</td><td> 38</td><td> 94</td><td> 2</td><td> 10</td><td> 2</td><td>⋯</td><td>  8</td><td> 3</td><td> 1</td><td> 5</td><td> 50</td><td>0</td><td> 0</td><td> 7</td><td> 0</td><td> 2</td></tr>\n",
              "\t<tr><td>armasto01</td><td>1985</td><td>1</td><td>BOS</td><td>AL</td><td>103</td><td>385</td><td>50</td><td>102</td><td>17</td><td>⋯</td><td> 64</td><td> 0</td><td> 0</td><td>18</td><td> 90</td><td>4</td><td> 2</td><td> 0</td><td> 5</td><td>14</td></tr>\n",
              "\t<tr><td>ashbyal01</td><td>1985</td><td>1</td><td>HOU</td><td>NL</td><td> 65</td><td>189</td><td>20</td><td> 53</td><td> 8</td><td>⋯</td><td> 25</td><td> 0</td><td> 0</td><td>24</td><td> 27</td><td>2</td><td> 1</td><td> 1</td><td> 1</td><td> 9</td></tr>\n",
              "\t<tr><td>atherke01</td><td>1985</td><td>1</td><td>OAK</td><td>AL</td><td> 56</td><td>  0</td><td> 0</td><td>  0</td><td> 0</td><td>⋯</td><td>  0</td><td> 0</td><td> 0</td><td> 0</td><td>  0</td><td>0</td><td> 0</td><td> 0</td><td> 0</td><td> 0</td></tr>\n",
              "\t<tr><td>ayalabe01</td><td>1985</td><td>1</td><td>CLE</td><td>AL</td><td> 46</td><td> 76</td><td>10</td><td> 19</td><td> 7</td><td>⋯</td><td> 15</td><td> 0</td><td> 0</td><td> 4</td><td> 17</td><td>1</td><td> 0</td><td> 0</td><td> 1</td><td> 2</td></tr>\n",
              "\t<tr><td>backmwa01</td><td>1985</td><td>1</td><td>NYN</td><td>NL</td><td>145</td><td>520</td><td>77</td><td>142</td><td>24</td><td>⋯</td><td> 38</td><td>30</td><td>12</td><td>36</td><td> 72</td><td>1</td><td> 1</td><td>14</td><td> 3</td><td> 3</td></tr>\n",
              "\t<tr><td>bailobo01</td><td>1985</td><td>1</td><td>LAN</td><td>NL</td><td> 74</td><td>118</td><td> 8</td><td> 29</td><td> 3</td><td>⋯</td><td>  7</td><td> 1</td><td> 0</td><td> 3</td><td>  5</td><td>0</td><td> 1</td><td> 8</td><td> 0</td><td> 3</td></tr>\n",
              "\t<tr><td>baineha01</td><td>1985</td><td>1</td><td>CHA</td><td>AL</td><td>160</td><td>640</td><td>86</td><td>198</td><td>29</td><td>⋯</td><td>113</td><td> 1</td><td> 1</td><td>42</td><td> 89</td><td>8</td><td> 1</td><td> 0</td><td>10</td><td>23</td></tr>\n",
              "\t<tr><td>bakerdu01</td><td>1985</td><td>1</td><td>OAK</td><td>AL</td><td>111</td><td>343</td><td>48</td><td> 92</td><td>15</td><td>⋯</td><td> 52</td><td> 2</td><td> 1</td><td>50</td><td> 47</td><td>0</td><td> 0</td><td> 0</td><td> 3</td><td>12</td></tr>\n",
              "\t<tr><td>balbost01</td><td>1985</td><td>1</td><td>KCA</td><td>AL</td><td>160</td><td>600</td><td>74</td><td>146</td><td>28</td><td>⋯</td><td> 88</td><td> 1</td><td> 1</td><td>52</td><td>166</td><td>4</td><td> 5</td><td> 0</td><td> 5</td><td>14</td></tr>\n",
              "\t<tr><td>bandoch01</td><td>1985</td><td>1</td><td>CLE</td><td>AL</td><td> 73</td><td>173</td><td>11</td><td> 24</td><td> 4</td><td>⋯</td><td> 13</td><td> 0</td><td> 1</td><td>22</td><td> 21</td><td>0</td><td> 0</td><td> 2</td><td> 2</td><td> 6</td></tr>\n",
              "\t<tr><td>bannial01</td><td>1985</td><td>1</td><td>TEX</td><td>AL</td><td> 57</td><td>122</td><td>17</td><td> 32</td><td> 4</td><td>⋯</td><td>  6</td><td> 8</td><td> 2</td><td>14</td><td> 17</td><td>0</td><td> 0</td><td> 1</td><td> 0</td><td> 1</td></tr>\n",
              "\t<tr><td>bannifl01</td><td>1985</td><td>1</td><td>CHA</td><td>AL</td><td> 34</td><td>  0</td><td> 0</td><td>  0</td><td> 0</td><td>⋯</td><td>  0</td><td> 0</td><td> 0</td><td> 0</td><td>  0</td><td>0</td><td> 0</td><td> 0</td><td> 0</td><td> 0</td></tr>\n",
              "\t<tr><td>barfije01</td><td>1985</td><td>1</td><td>TOR</td><td>AL</td><td>155</td><td>539</td><td>94</td><td>156</td><td>34</td><td>⋯</td><td> 84</td><td>22</td><td> 8</td><td>66</td><td>143</td><td>5</td><td> 4</td><td> 0</td><td> 3</td><td>14</td></tr>\n",
              "\t<tr><td>barkele01</td><td>1985</td><td>1</td><td>ATL</td><td>NL</td><td> 20</td><td> 17</td><td> 0</td><td>  0</td><td> 0</td><td>⋯</td><td>  0</td><td> 0</td><td> 1</td><td> 0</td><td>  7</td><td>0</td><td> 0</td><td> 0</td><td> 0</td><td> 0</td></tr>\n",
              "\t<tr><td>barrema02</td><td>1985</td><td>1</td><td>BOS</td><td>AL</td><td>156</td><td>534</td><td>59</td><td>142</td><td>26</td><td>⋯</td><td> 56</td><td> 7</td><td> 5</td><td>56</td><td> 50</td><td>3</td><td> 2</td><td>12</td><td> 4</td><td>14</td></tr>\n",
              "\t<tr><td>basske01 </td><td>1985</td><td>1</td><td>HOU</td><td>NL</td><td>150</td><td>539</td><td>72</td><td>145</td><td>27</td><td>⋯</td><td> 68</td><td>19</td><td> 8</td><td>31</td><td> 63</td><td>1</td><td> 6</td><td> 4</td><td> 2</td><td>10</td></tr>\n",
              "\t<tr><td>baylodo01</td><td>1985</td><td>1</td><td>NYA</td><td>AL</td><td>142</td><td>477</td><td>70</td><td>110</td><td>24</td><td>⋯</td><td> 91</td><td> 0</td><td> 4</td><td>52</td><td> 90</td><td>6</td><td>24</td><td> 1</td><td>10</td><td>10</td></tr>\n",
              "\t<tr><td>beattji01</td><td>1985</td><td>1</td><td>SEA</td><td>AL</td><td> 18</td><td>  0</td><td> 0</td><td>  0</td><td> 0</td><td>⋯</td><td>  0</td><td> 0</td><td> 0</td><td> 0</td><td>  0</td><td>0</td><td> 0</td><td> 0</td><td> 0</td><td> 0</td></tr>\n",
              "\t<tr><td>beckwjo01</td><td>1985</td><td>1</td><td>KCA</td><td>AL</td><td> 49</td><td>  0</td><td> 0</td><td>  0</td><td> 0</td><td>⋯</td><td>  0</td><td> 0</td><td> 0</td><td> 0</td><td>  0</td><td>0</td><td> 0</td><td> 0</td><td> 0</td><td> 0</td></tr>\n",
              "\t<tr><td>bedrost01</td><td>1985</td><td>1</td><td>ATL</td><td>NL</td><td> 37</td><td> 64</td><td> 3</td><td>  5</td><td> 0</td><td>⋯</td><td>  1</td><td> 0</td><td> 0</td><td> 1</td><td> 22</td><td>0</td><td> 0</td><td> 6</td><td> 0</td><td> 0</td></tr>\n",
              "\t<tr><td>bellbu01 </td><td>1985</td><td>2</td><td>CIN</td><td>NL</td><td> 67</td><td>247</td><td>28</td><td> 54</td><td>15</td><td>⋯</td><td> 36</td><td> 0</td><td> 1</td><td>34</td><td> 27</td><td>2</td><td> 0</td><td> 1</td><td> 2</td><td>10</td></tr>\n",
              "\t<tr><td>bellge02 </td><td>1985</td><td>1</td><td>TOR</td><td>AL</td><td>157</td><td>607</td><td>87</td><td>167</td><td>28</td><td>⋯</td><td> 95</td><td>21</td><td> 6</td><td>43</td><td> 90</td><td>6</td><td> 8</td><td> 0</td><td> 8</td><td> 8</td></tr>\n",
              "\t<tr><td>⋮</td><td>⋮</td><td>⋮</td><td>⋮</td><td>⋮</td><td>⋮</td><td>⋮</td><td>⋮</td><td>⋮</td><td>⋮</td><td>⋱</td><td>⋮</td><td>⋮</td><td>⋮</td><td>⋮</td><td>⋮</td><td>⋮</td><td>⋮</td><td>⋮</td><td>⋮</td><td>⋮</td></tr>\n",
              "\t<tr><td>weeksri01</td><td>2016</td><td>1</td><td>ARI</td><td>NL</td><td>108</td><td>180</td><td>29</td><td> 43</td><td> 9</td><td>⋯</td><td>27</td><td>5</td><td>0</td><td>20</td><td> 54</td><td>0</td><td>4</td><td>0</td><td>1</td><td> 8</td></tr>\n",
              "\t<tr><td>werthja01</td><td>2016</td><td>1</td><td>WAS</td><td>NL</td><td>143</td><td>525</td><td>84</td><td>128</td><td>28</td><td>⋯</td><td>69</td><td>5</td><td>1</td><td>71</td><td>139</td><td>0</td><td>4</td><td>0</td><td>6</td><td>17</td></tr>\n",
              "\t<tr><td>whitety01</td><td>2016</td><td>1</td><td>HOU</td><td>AL</td><td> 86</td><td>249</td><td>24</td><td> 54</td><td>16</td><td>⋯</td><td>28</td><td>1</td><td>0</td><td>23</td><td> 65</td><td>1</td><td>2</td><td>0</td><td>2</td><td> 6</td></tr>\n",
              "\t<tr><td>whitlch01</td><td>2016</td><td>1</td><td>TBA</td><td>AL</td><td>  5</td><td>  0</td><td> 0</td><td>  0</td><td> 0</td><td>⋯</td><td> 0</td><td>0</td><td>0</td><td> 0</td><td>  0</td><td>0</td><td>0</td><td>0</td><td>0</td><td> 0</td></tr>\n",
              "\t<tr><td>wietema01</td><td>2016</td><td>1</td><td>BAL</td><td>AL</td><td>124</td><td>423</td><td>48</td><td>103</td><td>17</td><td>⋯</td><td>66</td><td>1</td><td>0</td><td>32</td><td> 85</td><td>1</td><td>5</td><td>1</td><td>3</td><td>10</td></tr>\n",
              "\t<tr><td>wilheto01</td><td>2016</td><td>1</td><td>TEX</td><td>AL</td><td> 21</td><td>  0</td><td> 0</td><td>  0</td><td> 0</td><td>⋯</td><td> 0</td><td>0</td><td>0</td><td> 0</td><td>  0</td><td>0</td><td>0</td><td>0</td><td>0</td><td> 0</td></tr>\n",
              "\t<tr><td>willima07</td><td>2016</td><td>1</td><td>NYA</td><td>AL</td><td> 12</td><td> 27</td><td> 4</td><td>  8</td><td> 1</td><td>⋯</td><td> 2</td><td>0</td><td>0</td><td> 1</td><td> 12</td><td>0</td><td>0</td><td>1</td><td>0</td><td> 0</td></tr>\n",
              "\t<tr><td>wilsoal01</td><td>2016</td><td>1</td><td>DET</td><td>AL</td><td> 62</td><td>  0</td><td> 0</td><td>  0</td><td> 0</td><td>⋯</td><td> 0</td><td>0</td><td>0</td><td> 0</td><td>  0</td><td>0</td><td>0</td><td>0</td><td>0</td><td> 0</td></tr>\n",
              "\t<tr><td>wilsoju10</td><td>2016</td><td>1</td><td>DET</td><td>AL</td><td> 66</td><td>  0</td><td> 0</td><td>  0</td><td> 0</td><td>⋯</td><td> 0</td><td>0</td><td>0</td><td> 0</td><td>  0</td><td>0</td><td>0</td><td>0</td><td>0</td><td> 0</td></tr>\n",
              "\t<tr><td>wilsoty01</td><td>2016</td><td>1</td><td>BAL</td><td>AL</td><td> 24</td><td>  0</td><td> 0</td><td>  0</td><td> 0</td><td>⋯</td><td> 0</td><td>0</td><td>0</td><td> 0</td><td>  0</td><td>0</td><td>0</td><td>0</td><td>0</td><td> 0</td></tr>\n",
              "\t<tr><td>winklda01</td><td>2016</td><td>1</td><td>ATL</td><td>NL</td><td>  3</td><td>  0</td><td> 0</td><td>  0</td><td> 0</td><td>⋯</td><td> 0</td><td>0</td><td>0</td><td> 0</td><td>  0</td><td>0</td><td>0</td><td>0</td><td>0</td><td> 0</td></tr>\n",
              "\t<tr><td>wislema01</td><td>2016</td><td>1</td><td>ATL</td><td>NL</td><td> 29</td><td> 46</td><td> 2</td><td>  7</td><td> 0</td><td>⋯</td><td> 2</td><td>0</td><td>0</td><td> 1</td><td> 21</td><td>0</td><td>0</td><td>5</td><td>1</td><td> 2</td></tr>\n",
              "\t<tr><td>wolteto01</td><td>2016</td><td>1</td><td>COL</td><td>NL</td><td> 71</td><td>205</td><td>27</td><td> 53</td><td>15</td><td>⋯</td><td>30</td><td>4</td><td>1</td><td>21</td><td> 53</td><td>2</td><td>0</td><td>4</td><td>0</td><td> 1</td></tr>\n",
              "\t<tr><td>wongko01 </td><td>2016</td><td>1</td><td>SLN</td><td>NL</td><td>121</td><td>313</td><td>39</td><td> 75</td><td> 7</td><td>⋯</td><td>23</td><td>7</td><td>0</td><td>34</td><td> 52</td><td>2</td><td>9</td><td>0</td><td>5</td><td> 3</td></tr>\n",
              "\t<tr><td>woodal02 </td><td>2016</td><td>1</td><td>LAN</td><td>NL</td><td> 15</td><td> 16</td><td> 2</td><td>  4</td><td> 0</td><td>⋯</td><td> 2</td><td>0</td><td>0</td><td> 1</td><td>  9</td><td>0</td><td>0</td><td>2</td><td>0</td><td> 0</td></tr>\n",
              "\t<tr><td>woodbl01 </td><td>2016</td><td>1</td><td>CIN</td><td>NL</td><td> 70</td><td>  2</td><td> 0</td><td>  0</td><td> 0</td><td>⋯</td><td> 0</td><td>0</td><td>0</td><td> 0</td><td>  2</td><td>0</td><td>0</td><td>0</td><td>0</td><td> 0</td></tr>\n",
              "\t<tr><td>woodtr01 </td><td>2016</td><td>1</td><td>CHN</td><td>NL</td><td> 81</td><td> 11</td><td> 0</td><td>  2</td><td> 0</td><td>⋯</td><td> 1</td><td>0</td><td>0</td><td> 1</td><td>  5</td><td>0</td><td>0</td><td>0</td><td>0</td><td> 0</td></tr>\n",
              "\t<tr><td>worleva01</td><td>2016</td><td>1</td><td>BAL</td><td>AL</td><td> 35</td><td>  0</td><td> 0</td><td>  0</td><td> 0</td><td>⋯</td><td> 0</td><td>0</td><td>0</td><td> 0</td><td>  0</td><td>0</td><td>0</td><td>0</td><td>0</td><td> 0</td></tr>\n",
              "\t<tr><td>wrighda03</td><td>2016</td><td>1</td><td>NYN</td><td>NL</td><td> 37</td><td>137</td><td>18</td><td> 31</td><td> 8</td><td>⋯</td><td>14</td><td>3</td><td>2</td><td>26</td><td> 55</td><td>0</td><td>0</td><td>0</td><td>0</td><td> 0</td></tr>\n",
              "\t<tr><td>wrighmi01</td><td>2016</td><td>1</td><td>BAL</td><td>AL</td><td> 18</td><td>  0</td><td> 0</td><td>  0</td><td> 0</td><td>⋯</td><td> 0</td><td>0</td><td>0</td><td> 0</td><td>  0</td><td>0</td><td>0</td><td>0</td><td>0</td><td> 0</td></tr>\n",
              "\t<tr><td>wrighst01</td><td>2016</td><td>1</td><td>BOS</td><td>AL</td><td> 25</td><td>  4</td><td> 0</td><td>  0</td><td> 0</td><td>⋯</td><td> 0</td><td>0</td><td>0</td><td> 0</td><td>  3</td><td>0</td><td>0</td><td>0</td><td>0</td><td> 0</td></tr>\n",
              "\t<tr><td>yateski01</td><td>2016</td><td>1</td><td>NYA</td><td>AL</td><td> 41</td><td>  0</td><td> 0</td><td>  0</td><td> 0</td><td>⋯</td><td> 0</td><td>0</td><td>0</td><td> 0</td><td>  0</td><td>0</td><td>0</td><td>0</td><td>0</td><td> 0</td></tr>\n",
              "\t<tr><td>yelicch01</td><td>2016</td><td>1</td><td>MIA</td><td>NL</td><td>155</td><td>578</td><td>78</td><td>172</td><td>38</td><td>⋯</td><td>98</td><td>9</td><td>4</td><td>72</td><td>138</td><td>4</td><td>4</td><td>0</td><td>5</td><td>20</td></tr>\n",
              "\t<tr><td>youngch03</td><td>2016</td><td>1</td><td>KCA</td><td>AL</td><td> 34</td><td>  1</td><td> 0</td><td>  0</td><td> 0</td><td>⋯</td><td> 0</td><td>0</td><td>0</td><td> 0</td><td>  0</td><td>0</td><td>0</td><td>0</td><td>0</td><td> 0</td></tr>\n",
              "\t<tr><td>youngch04</td><td>2016</td><td>1</td><td>BOS</td><td>AL</td><td> 76</td><td>203</td><td>29</td><td> 56</td><td>18</td><td>⋯</td><td>24</td><td>4</td><td>2</td><td>21</td><td> 50</td><td>0</td><td>3</td><td>0</td><td>0</td><td> 4</td></tr>\n",
              "\t<tr><td>zieglbr01</td><td>2016</td><td>1</td><td>ARI</td><td>NL</td><td> 36</td><td>  0</td><td> 0</td><td>  0</td><td> 0</td><td>⋯</td><td> 0</td><td>0</td><td>0</td><td> 0</td><td>  0</td><td>0</td><td>0</td><td>0</td><td>0</td><td> 0</td></tr>\n",
              "\t<tr><td>zimmejo02</td><td>2016</td><td>1</td><td>DET</td><td>AL</td><td> 19</td><td>  4</td><td> 0</td><td>  1</td><td> 0</td><td>⋯</td><td> 0</td><td>0</td><td>0</td><td> 0</td><td>  2</td><td>0</td><td>0</td><td>1</td><td>0</td><td> 0</td></tr>\n",
              "\t<tr><td>zimmery01</td><td>2016</td><td>1</td><td>WAS</td><td>NL</td><td>115</td><td>427</td><td>60</td><td> 93</td><td>18</td><td>⋯</td><td>46</td><td>4</td><td>1</td><td>29</td><td>104</td><td>1</td><td>5</td><td>0</td><td>6</td><td>12</td></tr>\n",
              "\t<tr><td>zobribe01</td><td>2016</td><td>1</td><td>CHN</td><td>NL</td><td>147</td><td>523</td><td>94</td><td>142</td><td>31</td><td>⋯</td><td>76</td><td>6</td><td>4</td><td>96</td><td> 82</td><td>6</td><td>4</td><td>4</td><td>4</td><td>17</td></tr>\n",
              "\t<tr><td>zychto01 </td><td>2016</td><td>1</td><td>SEA</td><td>AL</td><td> 12</td><td>  0</td><td> 0</td><td>  0</td><td> 0</td><td>⋯</td><td> 0</td><td>0</td><td>0</td><td> 0</td><td>  0</td><td>0</td><td>0</td><td>0</td><td>0</td><td> 0</td></tr>\n",
              "</tbody>\n",
              "</table>\n"
            ],
            "text/markdown": "\nA data.frame: 25441 × 22\n\n| playerID &lt;chr&gt; | yearID &lt;int&gt; | stint &lt;int&gt; | teamID &lt;fct&gt; | lgID &lt;fct&gt; | G &lt;int&gt; | AB &lt;int&gt; | R &lt;int&gt; | H &lt;int&gt; | X2B &lt;int&gt; | ⋯ ⋯ | RBI &lt;int&gt; | SB &lt;int&gt; | CS &lt;int&gt; | BB &lt;int&gt; | SO &lt;int&gt; | IBB &lt;int&gt; | HBP &lt;int&gt; | SH &lt;int&gt; | SF &lt;int&gt; | GIDP &lt;int&gt; |\n|---|---|---|---|---|---|---|---|---|---|---|---|---|---|---|---|---|---|---|---|---|\n| ackerji01 | 1985 | 1 | TOR | AL |  61 |   0 |  0 |   0 |  0 | ⋯ |   0 |  0 |  0 |  0 |   0 | 0 |  0 |  0 |  0 |  0 |\n| agostju01 | 1985 | 1 | CHA | AL |  54 |   0 |  0 |   0 |  0 | ⋯ |   0 |  0 |  0 |  0 |   0 | 0 |  0 |  0 |  0 |  0 |\n| aguaylu01 | 1985 | 1 | PHI | NL |  91 | 165 | 27 |  46 |  7 | ⋯ |  21 |  1 |  0 | 22 |  26 | 5 |  6 |  4 |  3 |  7 |\n| alexado01 | 1985 | 1 | TOR | AL |  36 |   0 |  0 |   0 |  0 | ⋯ |   0 |  0 |  0 |  0 |   0 | 0 |  0 |  0 |  0 |  0 |\n| allenne01 | 1985 | 1 | SLN | NL |  23 |   2 |  0 |   0 |  0 | ⋯ |   0 |  0 |  0 |  0 |   2 | 0 |  0 |  0 |  0 |  0 |\n| almonbi01 | 1985 | 1 | PIT | NL |  88 | 244 | 33 |  66 | 17 | ⋯ |  29 | 10 |  7 | 22 |  61 | 0 |  1 |  4 |  3 |  6 |\n| anderla02 | 1985 | 1 | PHI | NL |  57 |   4 |  1 |   0 |  0 | ⋯ |   0 |  0 |  0 |  0 |   0 | 0 |  0 |  1 |  0 |  0 |\n| andujjo01 | 1985 | 1 | SLN | NL |  38 |  94 |  2 |  10 |  2 | ⋯ |   8 |  3 |  1 |  5 |  50 | 0 |  0 |  7 |  0 |  2 |\n| armasto01 | 1985 | 1 | BOS | AL | 103 | 385 | 50 | 102 | 17 | ⋯ |  64 |  0 |  0 | 18 |  90 | 4 |  2 |  0 |  5 | 14 |\n| ashbyal01 | 1985 | 1 | HOU | NL |  65 | 189 | 20 |  53 |  8 | ⋯ |  25 |  0 |  0 | 24 |  27 | 2 |  1 |  1 |  1 |  9 |\n| atherke01 | 1985 | 1 | OAK | AL |  56 |   0 |  0 |   0 |  0 | ⋯ |   0 |  0 |  0 |  0 |   0 | 0 |  0 |  0 |  0 |  0 |\n| ayalabe01 | 1985 | 1 | CLE | AL |  46 |  76 | 10 |  19 |  7 | ⋯ |  15 |  0 |  0 |  4 |  17 | 1 |  0 |  0 |  1 |  2 |\n| backmwa01 | 1985 | 1 | NYN | NL | 145 | 520 | 77 | 142 | 24 | ⋯ |  38 | 30 | 12 | 36 |  72 | 1 |  1 | 14 |  3 |  3 |\n| bailobo01 | 1985 | 1 | LAN | NL |  74 | 118 |  8 |  29 |  3 | ⋯ |   7 |  1 |  0 |  3 |   5 | 0 |  1 |  8 |  0 |  3 |\n| baineha01 | 1985 | 1 | CHA | AL | 160 | 640 | 86 | 198 | 29 | ⋯ | 113 |  1 |  1 | 42 |  89 | 8 |  1 |  0 | 10 | 23 |\n| bakerdu01 | 1985 | 1 | OAK | AL | 111 | 343 | 48 |  92 | 15 | ⋯ |  52 |  2 |  1 | 50 |  47 | 0 |  0 |  0 |  3 | 12 |\n| balbost01 | 1985 | 1 | KCA | AL | 160 | 600 | 74 | 146 | 28 | ⋯ |  88 |  1 |  1 | 52 | 166 | 4 |  5 |  0 |  5 | 14 |\n| bandoch01 | 1985 | 1 | CLE | AL |  73 | 173 | 11 |  24 |  4 | ⋯ |  13 |  0 |  1 | 22 |  21 | 0 |  0 |  2 |  2 |  6 |\n| bannial01 | 1985 | 1 | TEX | AL |  57 | 122 | 17 |  32 |  4 | ⋯ |   6 |  8 |  2 | 14 |  17 | 0 |  0 |  1 |  0 |  1 |\n| bannifl01 | 1985 | 1 | CHA | AL |  34 |   0 |  0 |   0 |  0 | ⋯ |   0 |  0 |  0 |  0 |   0 | 0 |  0 |  0 |  0 |  0 |\n| barfije01 | 1985 | 1 | TOR | AL | 155 | 539 | 94 | 156 | 34 | ⋯ |  84 | 22 |  8 | 66 | 143 | 5 |  4 |  0 |  3 | 14 |\n| barkele01 | 1985 | 1 | ATL | NL |  20 |  17 |  0 |   0 |  0 | ⋯ |   0 |  0 |  1 |  0 |   7 | 0 |  0 |  0 |  0 |  0 |\n| barrema02 | 1985 | 1 | BOS | AL | 156 | 534 | 59 | 142 | 26 | ⋯ |  56 |  7 |  5 | 56 |  50 | 3 |  2 | 12 |  4 | 14 |\n| basske01  | 1985 | 1 | HOU | NL | 150 | 539 | 72 | 145 | 27 | ⋯ |  68 | 19 |  8 | 31 |  63 | 1 |  6 |  4 |  2 | 10 |\n| baylodo01 | 1985 | 1 | NYA | AL | 142 | 477 | 70 | 110 | 24 | ⋯ |  91 |  0 |  4 | 52 |  90 | 6 | 24 |  1 | 10 | 10 |\n| beattji01 | 1985 | 1 | SEA | AL |  18 |   0 |  0 |   0 |  0 | ⋯ |   0 |  0 |  0 |  0 |   0 | 0 |  0 |  0 |  0 |  0 |\n| beckwjo01 | 1985 | 1 | KCA | AL |  49 |   0 |  0 |   0 |  0 | ⋯ |   0 |  0 |  0 |  0 |   0 | 0 |  0 |  0 |  0 |  0 |\n| bedrost01 | 1985 | 1 | ATL | NL |  37 |  64 |  3 |   5 |  0 | ⋯ |   1 |  0 |  0 |  1 |  22 | 0 |  0 |  6 |  0 |  0 |\n| bellbu01  | 1985 | 2 | CIN | NL |  67 | 247 | 28 |  54 | 15 | ⋯ |  36 |  0 |  1 | 34 |  27 | 2 |  0 |  1 |  2 | 10 |\n| bellge02  | 1985 | 1 | TOR | AL | 157 | 607 | 87 | 167 | 28 | ⋯ |  95 | 21 |  6 | 43 |  90 | 6 |  8 |  0 |  8 |  8 |\n| ⋮ | ⋮ | ⋮ | ⋮ | ⋮ | ⋮ | ⋮ | ⋮ | ⋮ | ⋮ | ⋱ | ⋮ | ⋮ | ⋮ | ⋮ | ⋮ | ⋮ | ⋮ | ⋮ | ⋮ | ⋮ |\n| weeksri01 | 2016 | 1 | ARI | NL | 108 | 180 | 29 |  43 |  9 | ⋯ | 27 | 5 | 0 | 20 |  54 | 0 | 4 | 0 | 1 |  8 |\n| werthja01 | 2016 | 1 | WAS | NL | 143 | 525 | 84 | 128 | 28 | ⋯ | 69 | 5 | 1 | 71 | 139 | 0 | 4 | 0 | 6 | 17 |\n| whitety01 | 2016 | 1 | HOU | AL |  86 | 249 | 24 |  54 | 16 | ⋯ | 28 | 1 | 0 | 23 |  65 | 1 | 2 | 0 | 2 |  6 |\n| whitlch01 | 2016 | 1 | TBA | AL |   5 |   0 |  0 |   0 |  0 | ⋯ |  0 | 0 | 0 |  0 |   0 | 0 | 0 | 0 | 0 |  0 |\n| wietema01 | 2016 | 1 | BAL | AL | 124 | 423 | 48 | 103 | 17 | ⋯ | 66 | 1 | 0 | 32 |  85 | 1 | 5 | 1 | 3 | 10 |\n| wilheto01 | 2016 | 1 | TEX | AL |  21 |   0 |  0 |   0 |  0 | ⋯ |  0 | 0 | 0 |  0 |   0 | 0 | 0 | 0 | 0 |  0 |\n| willima07 | 2016 | 1 | NYA | AL |  12 |  27 |  4 |   8 |  1 | ⋯ |  2 | 0 | 0 |  1 |  12 | 0 | 0 | 1 | 0 |  0 |\n| wilsoal01 | 2016 | 1 | DET | AL |  62 |   0 |  0 |   0 |  0 | ⋯ |  0 | 0 | 0 |  0 |   0 | 0 | 0 | 0 | 0 |  0 |\n| wilsoju10 | 2016 | 1 | DET | AL |  66 |   0 |  0 |   0 |  0 | ⋯ |  0 | 0 | 0 |  0 |   0 | 0 | 0 | 0 | 0 |  0 |\n| wilsoty01 | 2016 | 1 | BAL | AL |  24 |   0 |  0 |   0 |  0 | ⋯ |  0 | 0 | 0 |  0 |   0 | 0 | 0 | 0 | 0 |  0 |\n| winklda01 | 2016 | 1 | ATL | NL |   3 |   0 |  0 |   0 |  0 | ⋯ |  0 | 0 | 0 |  0 |   0 | 0 | 0 | 0 | 0 |  0 |\n| wislema01 | 2016 | 1 | ATL | NL |  29 |  46 |  2 |   7 |  0 | ⋯ |  2 | 0 | 0 |  1 |  21 | 0 | 0 | 5 | 1 |  2 |\n| wolteto01 | 2016 | 1 | COL | NL |  71 | 205 | 27 |  53 | 15 | ⋯ | 30 | 4 | 1 | 21 |  53 | 2 | 0 | 4 | 0 |  1 |\n| wongko01  | 2016 | 1 | SLN | NL | 121 | 313 | 39 |  75 |  7 | ⋯ | 23 | 7 | 0 | 34 |  52 | 2 | 9 | 0 | 5 |  3 |\n| woodal02  | 2016 | 1 | LAN | NL |  15 |  16 |  2 |   4 |  0 | ⋯ |  2 | 0 | 0 |  1 |   9 | 0 | 0 | 2 | 0 |  0 |\n| woodbl01  | 2016 | 1 | CIN | NL |  70 |   2 |  0 |   0 |  0 | ⋯ |  0 | 0 | 0 |  0 |   2 | 0 | 0 | 0 | 0 |  0 |\n| woodtr01  | 2016 | 1 | CHN | NL |  81 |  11 |  0 |   2 |  0 | ⋯ |  1 | 0 | 0 |  1 |   5 | 0 | 0 | 0 | 0 |  0 |\n| worleva01 | 2016 | 1 | BAL | AL |  35 |   0 |  0 |   0 |  0 | ⋯ |  0 | 0 | 0 |  0 |   0 | 0 | 0 | 0 | 0 |  0 |\n| wrighda03 | 2016 | 1 | NYN | NL |  37 | 137 | 18 |  31 |  8 | ⋯ | 14 | 3 | 2 | 26 |  55 | 0 | 0 | 0 | 0 |  0 |\n| wrighmi01 | 2016 | 1 | BAL | AL |  18 |   0 |  0 |   0 |  0 | ⋯ |  0 | 0 | 0 |  0 |   0 | 0 | 0 | 0 | 0 |  0 |\n| wrighst01 | 2016 | 1 | BOS | AL |  25 |   4 |  0 |   0 |  0 | ⋯ |  0 | 0 | 0 |  0 |   3 | 0 | 0 | 0 | 0 |  0 |\n| yateski01 | 2016 | 1 | NYA | AL |  41 |   0 |  0 |   0 |  0 | ⋯ |  0 | 0 | 0 |  0 |   0 | 0 | 0 | 0 | 0 |  0 |\n| yelicch01 | 2016 | 1 | MIA | NL | 155 | 578 | 78 | 172 | 38 | ⋯ | 98 | 9 | 4 | 72 | 138 | 4 | 4 | 0 | 5 | 20 |\n| youngch03 | 2016 | 1 | KCA | AL |  34 |   1 |  0 |   0 |  0 | ⋯ |  0 | 0 | 0 |  0 |   0 | 0 | 0 | 0 | 0 |  0 |\n| youngch04 | 2016 | 1 | BOS | AL |  76 | 203 | 29 |  56 | 18 | ⋯ | 24 | 4 | 2 | 21 |  50 | 0 | 3 | 0 | 0 |  4 |\n| zieglbr01 | 2016 | 1 | ARI | NL |  36 |   0 |  0 |   0 |  0 | ⋯ |  0 | 0 | 0 |  0 |   0 | 0 | 0 | 0 | 0 |  0 |\n| zimmejo02 | 2016 | 1 | DET | AL |  19 |   4 |  0 |   1 |  0 | ⋯ |  0 | 0 | 0 |  0 |   2 | 0 | 0 | 1 | 0 |  0 |\n| zimmery01 | 2016 | 1 | WAS | NL | 115 | 427 | 60 |  93 | 18 | ⋯ | 46 | 4 | 1 | 29 | 104 | 1 | 5 | 0 | 6 | 12 |\n| zobribe01 | 2016 | 1 | CHN | NL | 147 | 523 | 94 | 142 | 31 | ⋯ | 76 | 6 | 4 | 96 |  82 | 6 | 4 | 4 | 4 | 17 |\n| zychto01  | 2016 | 1 | SEA | AL |  12 |   0 |  0 |   0 |  0 | ⋯ |  0 | 0 | 0 |  0 |   0 | 0 | 0 | 0 | 0 |  0 |\n\n",
            "text/latex": "A data.frame: 25441 × 22\n\\begin{tabular}{lllllllllllllllllllll}\n playerID & yearID & stint & teamID & lgID & G & AB & R & H & X2B & ⋯ & RBI & SB & CS & BB & SO & IBB & HBP & SH & SF & GIDP\\\\\n <chr> & <int> & <int> & <fct> & <fct> & <int> & <int> & <int> & <int> & <int> & ⋯ & <int> & <int> & <int> & <int> & <int> & <int> & <int> & <int> & <int> & <int>\\\\\n\\hline\n\t ackerji01 & 1985 & 1 & TOR & AL &  61 &   0 &  0 &   0 &  0 & ⋯ &   0 &  0 &  0 &  0 &   0 & 0 &  0 &  0 &  0 &  0\\\\\n\t agostju01 & 1985 & 1 & CHA & AL &  54 &   0 &  0 &   0 &  0 & ⋯ &   0 &  0 &  0 &  0 &   0 & 0 &  0 &  0 &  0 &  0\\\\\n\t aguaylu01 & 1985 & 1 & PHI & NL &  91 & 165 & 27 &  46 &  7 & ⋯ &  21 &  1 &  0 & 22 &  26 & 5 &  6 &  4 &  3 &  7\\\\\n\t alexado01 & 1985 & 1 & TOR & AL &  36 &   0 &  0 &   0 &  0 & ⋯ &   0 &  0 &  0 &  0 &   0 & 0 &  0 &  0 &  0 &  0\\\\\n\t allenne01 & 1985 & 1 & SLN & NL &  23 &   2 &  0 &   0 &  0 & ⋯ &   0 &  0 &  0 &  0 &   2 & 0 &  0 &  0 &  0 &  0\\\\\n\t almonbi01 & 1985 & 1 & PIT & NL &  88 & 244 & 33 &  66 & 17 & ⋯ &  29 & 10 &  7 & 22 &  61 & 0 &  1 &  4 &  3 &  6\\\\\n\t anderla02 & 1985 & 1 & PHI & NL &  57 &   4 &  1 &   0 &  0 & ⋯ &   0 &  0 &  0 &  0 &   0 & 0 &  0 &  1 &  0 &  0\\\\\n\t andujjo01 & 1985 & 1 & SLN & NL &  38 &  94 &  2 &  10 &  2 & ⋯ &   8 &  3 &  1 &  5 &  50 & 0 &  0 &  7 &  0 &  2\\\\\n\t armasto01 & 1985 & 1 & BOS & AL & 103 & 385 & 50 & 102 & 17 & ⋯ &  64 &  0 &  0 & 18 &  90 & 4 &  2 &  0 &  5 & 14\\\\\n\t ashbyal01 & 1985 & 1 & HOU & NL &  65 & 189 & 20 &  53 &  8 & ⋯ &  25 &  0 &  0 & 24 &  27 & 2 &  1 &  1 &  1 &  9\\\\\n\t atherke01 & 1985 & 1 & OAK & AL &  56 &   0 &  0 &   0 &  0 & ⋯ &   0 &  0 &  0 &  0 &   0 & 0 &  0 &  0 &  0 &  0\\\\\n\t ayalabe01 & 1985 & 1 & CLE & AL &  46 &  76 & 10 &  19 &  7 & ⋯ &  15 &  0 &  0 &  4 &  17 & 1 &  0 &  0 &  1 &  2\\\\\n\t backmwa01 & 1985 & 1 & NYN & NL & 145 & 520 & 77 & 142 & 24 & ⋯ &  38 & 30 & 12 & 36 &  72 & 1 &  1 & 14 &  3 &  3\\\\\n\t bailobo01 & 1985 & 1 & LAN & NL &  74 & 118 &  8 &  29 &  3 & ⋯ &   7 &  1 &  0 &  3 &   5 & 0 &  1 &  8 &  0 &  3\\\\\n\t baineha01 & 1985 & 1 & CHA & AL & 160 & 640 & 86 & 198 & 29 & ⋯ & 113 &  1 &  1 & 42 &  89 & 8 &  1 &  0 & 10 & 23\\\\\n\t bakerdu01 & 1985 & 1 & OAK & AL & 111 & 343 & 48 &  92 & 15 & ⋯ &  52 &  2 &  1 & 50 &  47 & 0 &  0 &  0 &  3 & 12\\\\\n\t balbost01 & 1985 & 1 & KCA & AL & 160 & 600 & 74 & 146 & 28 & ⋯ &  88 &  1 &  1 & 52 & 166 & 4 &  5 &  0 &  5 & 14\\\\\n\t bandoch01 & 1985 & 1 & CLE & AL &  73 & 173 & 11 &  24 &  4 & ⋯ &  13 &  0 &  1 & 22 &  21 & 0 &  0 &  2 &  2 &  6\\\\\n\t bannial01 & 1985 & 1 & TEX & AL &  57 & 122 & 17 &  32 &  4 & ⋯ &   6 &  8 &  2 & 14 &  17 & 0 &  0 &  1 &  0 &  1\\\\\n\t bannifl01 & 1985 & 1 & CHA & AL &  34 &   0 &  0 &   0 &  0 & ⋯ &   0 &  0 &  0 &  0 &   0 & 0 &  0 &  0 &  0 &  0\\\\\n\t barfije01 & 1985 & 1 & TOR & AL & 155 & 539 & 94 & 156 & 34 & ⋯ &  84 & 22 &  8 & 66 & 143 & 5 &  4 &  0 &  3 & 14\\\\\n\t barkele01 & 1985 & 1 & ATL & NL &  20 &  17 &  0 &   0 &  0 & ⋯ &   0 &  0 &  1 &  0 &   7 & 0 &  0 &  0 &  0 &  0\\\\\n\t barrema02 & 1985 & 1 & BOS & AL & 156 & 534 & 59 & 142 & 26 & ⋯ &  56 &  7 &  5 & 56 &  50 & 3 &  2 & 12 &  4 & 14\\\\\n\t basske01  & 1985 & 1 & HOU & NL & 150 & 539 & 72 & 145 & 27 & ⋯ &  68 & 19 &  8 & 31 &  63 & 1 &  6 &  4 &  2 & 10\\\\\n\t baylodo01 & 1985 & 1 & NYA & AL & 142 & 477 & 70 & 110 & 24 & ⋯ &  91 &  0 &  4 & 52 &  90 & 6 & 24 &  1 & 10 & 10\\\\\n\t beattji01 & 1985 & 1 & SEA & AL &  18 &   0 &  0 &   0 &  0 & ⋯ &   0 &  0 &  0 &  0 &   0 & 0 &  0 &  0 &  0 &  0\\\\\n\t beckwjo01 & 1985 & 1 & KCA & AL &  49 &   0 &  0 &   0 &  0 & ⋯ &   0 &  0 &  0 &  0 &   0 & 0 &  0 &  0 &  0 &  0\\\\\n\t bedrost01 & 1985 & 1 & ATL & NL &  37 &  64 &  3 &   5 &  0 & ⋯ &   1 &  0 &  0 &  1 &  22 & 0 &  0 &  6 &  0 &  0\\\\\n\t bellbu01  & 1985 & 2 & CIN & NL &  67 & 247 & 28 &  54 & 15 & ⋯ &  36 &  0 &  1 & 34 &  27 & 2 &  0 &  1 &  2 & 10\\\\\n\t bellge02  & 1985 & 1 & TOR & AL & 157 & 607 & 87 & 167 & 28 & ⋯ &  95 & 21 &  6 & 43 &  90 & 6 &  8 &  0 &  8 &  8\\\\\n\t ⋮ & ⋮ & ⋮ & ⋮ & ⋮ & ⋮ & ⋮ & ⋮ & ⋮ & ⋮ & ⋱ & ⋮ & ⋮ & ⋮ & ⋮ & ⋮ & ⋮ & ⋮ & ⋮ & ⋮ & ⋮\\\\\n\t weeksri01 & 2016 & 1 & ARI & NL & 108 & 180 & 29 &  43 &  9 & ⋯ & 27 & 5 & 0 & 20 &  54 & 0 & 4 & 0 & 1 &  8\\\\\n\t werthja01 & 2016 & 1 & WAS & NL & 143 & 525 & 84 & 128 & 28 & ⋯ & 69 & 5 & 1 & 71 & 139 & 0 & 4 & 0 & 6 & 17\\\\\n\t whitety01 & 2016 & 1 & HOU & AL &  86 & 249 & 24 &  54 & 16 & ⋯ & 28 & 1 & 0 & 23 &  65 & 1 & 2 & 0 & 2 &  6\\\\\n\t whitlch01 & 2016 & 1 & TBA & AL &   5 &   0 &  0 &   0 &  0 & ⋯ &  0 & 0 & 0 &  0 &   0 & 0 & 0 & 0 & 0 &  0\\\\\n\t wietema01 & 2016 & 1 & BAL & AL & 124 & 423 & 48 & 103 & 17 & ⋯ & 66 & 1 & 0 & 32 &  85 & 1 & 5 & 1 & 3 & 10\\\\\n\t wilheto01 & 2016 & 1 & TEX & AL &  21 &   0 &  0 &   0 &  0 & ⋯ &  0 & 0 & 0 &  0 &   0 & 0 & 0 & 0 & 0 &  0\\\\\n\t willima07 & 2016 & 1 & NYA & AL &  12 &  27 &  4 &   8 &  1 & ⋯ &  2 & 0 & 0 &  1 &  12 & 0 & 0 & 1 & 0 &  0\\\\\n\t wilsoal01 & 2016 & 1 & DET & AL &  62 &   0 &  0 &   0 &  0 & ⋯ &  0 & 0 & 0 &  0 &   0 & 0 & 0 & 0 & 0 &  0\\\\\n\t wilsoju10 & 2016 & 1 & DET & AL &  66 &   0 &  0 &   0 &  0 & ⋯ &  0 & 0 & 0 &  0 &   0 & 0 & 0 & 0 & 0 &  0\\\\\n\t wilsoty01 & 2016 & 1 & BAL & AL &  24 &   0 &  0 &   0 &  0 & ⋯ &  0 & 0 & 0 &  0 &   0 & 0 & 0 & 0 & 0 &  0\\\\\n\t winklda01 & 2016 & 1 & ATL & NL &   3 &   0 &  0 &   0 &  0 & ⋯ &  0 & 0 & 0 &  0 &   0 & 0 & 0 & 0 & 0 &  0\\\\\n\t wislema01 & 2016 & 1 & ATL & NL &  29 &  46 &  2 &   7 &  0 & ⋯ &  2 & 0 & 0 &  1 &  21 & 0 & 0 & 5 & 1 &  2\\\\\n\t wolteto01 & 2016 & 1 & COL & NL &  71 & 205 & 27 &  53 & 15 & ⋯ & 30 & 4 & 1 & 21 &  53 & 2 & 0 & 4 & 0 &  1\\\\\n\t wongko01  & 2016 & 1 & SLN & NL & 121 & 313 & 39 &  75 &  7 & ⋯ & 23 & 7 & 0 & 34 &  52 & 2 & 9 & 0 & 5 &  3\\\\\n\t woodal02  & 2016 & 1 & LAN & NL &  15 &  16 &  2 &   4 &  0 & ⋯ &  2 & 0 & 0 &  1 &   9 & 0 & 0 & 2 & 0 &  0\\\\\n\t woodbl01  & 2016 & 1 & CIN & NL &  70 &   2 &  0 &   0 &  0 & ⋯ &  0 & 0 & 0 &  0 &   2 & 0 & 0 & 0 & 0 &  0\\\\\n\t woodtr01  & 2016 & 1 & CHN & NL &  81 &  11 &  0 &   2 &  0 & ⋯ &  1 & 0 & 0 &  1 &   5 & 0 & 0 & 0 & 0 &  0\\\\\n\t worleva01 & 2016 & 1 & BAL & AL &  35 &   0 &  0 &   0 &  0 & ⋯ &  0 & 0 & 0 &  0 &   0 & 0 & 0 & 0 & 0 &  0\\\\\n\t wrighda03 & 2016 & 1 & NYN & NL &  37 & 137 & 18 &  31 &  8 & ⋯ & 14 & 3 & 2 & 26 &  55 & 0 & 0 & 0 & 0 &  0\\\\\n\t wrighmi01 & 2016 & 1 & BAL & AL &  18 &   0 &  0 &   0 &  0 & ⋯ &  0 & 0 & 0 &  0 &   0 & 0 & 0 & 0 & 0 &  0\\\\\n\t wrighst01 & 2016 & 1 & BOS & AL &  25 &   4 &  0 &   0 &  0 & ⋯ &  0 & 0 & 0 &  0 &   3 & 0 & 0 & 0 & 0 &  0\\\\\n\t yateski01 & 2016 & 1 & NYA & AL &  41 &   0 &  0 &   0 &  0 & ⋯ &  0 & 0 & 0 &  0 &   0 & 0 & 0 & 0 & 0 &  0\\\\\n\t yelicch01 & 2016 & 1 & MIA & NL & 155 & 578 & 78 & 172 & 38 & ⋯ & 98 & 9 & 4 & 72 & 138 & 4 & 4 & 0 & 5 & 20\\\\\n\t youngch03 & 2016 & 1 & KCA & AL &  34 &   1 &  0 &   0 &  0 & ⋯ &  0 & 0 & 0 &  0 &   0 & 0 & 0 & 0 & 0 &  0\\\\\n\t youngch04 & 2016 & 1 & BOS & AL &  76 & 203 & 29 &  56 & 18 & ⋯ & 24 & 4 & 2 & 21 &  50 & 0 & 3 & 0 & 0 &  4\\\\\n\t zieglbr01 & 2016 & 1 & ARI & NL &  36 &   0 &  0 &   0 &  0 & ⋯ &  0 & 0 & 0 &  0 &   0 & 0 & 0 & 0 & 0 &  0\\\\\n\t zimmejo02 & 2016 & 1 & DET & AL &  19 &   4 &  0 &   1 &  0 & ⋯ &  0 & 0 & 0 &  0 &   2 & 0 & 0 & 1 & 0 &  0\\\\\n\t zimmery01 & 2016 & 1 & WAS & NL & 115 & 427 & 60 &  93 & 18 & ⋯ & 46 & 4 & 1 & 29 & 104 & 1 & 5 & 0 & 6 & 12\\\\\n\t zobribe01 & 2016 & 1 & CHN & NL & 147 & 523 & 94 & 142 & 31 & ⋯ & 76 & 6 & 4 & 96 &  82 & 6 & 4 & 4 & 4 & 17\\\\\n\t zychto01  & 2016 & 1 & SEA & AL &  12 &   0 &  0 &   0 &  0 & ⋯ &  0 & 0 & 0 &  0 &   0 & 0 & 0 & 0 & 0 &  0\\\\\n\\end{tabular}\n",
            "text/plain": [
              "      playerID  yearID stint teamID lgID G   AB  R  H   X2B ⋯ RBI SB CS BB SO \n",
              "1     ackerji01 1985   1     TOR    AL    61   0  0   0  0  ⋯   0  0  0  0   0\n",
              "2     agostju01 1985   1     CHA    AL    54   0  0   0  0  ⋯   0  0  0  0   0\n",
              "3     aguaylu01 1985   1     PHI    NL    91 165 27  46  7  ⋯  21  1  0 22  26\n",
              "4     alexado01 1985   1     TOR    AL    36   0  0   0  0  ⋯   0  0  0  0   0\n",
              "5     allenne01 1985   1     SLN    NL    23   2  0   0  0  ⋯   0  0  0  0   2\n",
              "6     almonbi01 1985   1     PIT    NL    88 244 33  66 17  ⋯  29 10  7 22  61\n",
              "7     anderla02 1985   1     PHI    NL    57   4  1   0  0  ⋯   0  0  0  0   0\n",
              "8     andujjo01 1985   1     SLN    NL    38  94  2  10  2  ⋯   8  3  1  5  50\n",
              "9     armasto01 1985   1     BOS    AL   103 385 50 102 17  ⋯  64  0  0 18  90\n",
              "10    ashbyal01 1985   1     HOU    NL    65 189 20  53  8  ⋯  25  0  0 24  27\n",
              "11    atherke01 1985   1     OAK    AL    56   0  0   0  0  ⋯   0  0  0  0   0\n",
              "12    ayalabe01 1985   1     CLE    AL    46  76 10  19  7  ⋯  15  0  0  4  17\n",
              "13    backmwa01 1985   1     NYN    NL   145 520 77 142 24  ⋯  38 30 12 36  72\n",
              "14    bailobo01 1985   1     LAN    NL    74 118  8  29  3  ⋯   7  1  0  3   5\n",
              "15    baineha01 1985   1     CHA    AL   160 640 86 198 29  ⋯ 113  1  1 42  89\n",
              "16    bakerdu01 1985   1     OAK    AL   111 343 48  92 15  ⋯  52  2  1 50  47\n",
              "17    balbost01 1985   1     KCA    AL   160 600 74 146 28  ⋯  88  1  1 52 166\n",
              "18    bandoch01 1985   1     CLE    AL    73 173 11  24  4  ⋯  13  0  1 22  21\n",
              "19    bannial01 1985   1     TEX    AL    57 122 17  32  4  ⋯   6  8  2 14  17\n",
              "20    bannifl01 1985   1     CHA    AL    34   0  0   0  0  ⋯   0  0  0  0   0\n",
              "21    barfije01 1985   1     TOR    AL   155 539 94 156 34  ⋯  84 22  8 66 143\n",
              "22    barkele01 1985   1     ATL    NL    20  17  0   0  0  ⋯   0  0  1  0   7\n",
              "23    barrema02 1985   1     BOS    AL   156 534 59 142 26  ⋯  56  7  5 56  50\n",
              "24    basske01  1985   1     HOU    NL   150 539 72 145 27  ⋯  68 19  8 31  63\n",
              "25    baylodo01 1985   1     NYA    AL   142 477 70 110 24  ⋯  91  0  4 52  90\n",
              "26    beattji01 1985   1     SEA    AL    18   0  0   0  0  ⋯   0  0  0  0   0\n",
              "27    beckwjo01 1985   1     KCA    AL    49   0  0   0  0  ⋯   0  0  0  0   0\n",
              "28    bedrost01 1985   1     ATL    NL    37  64  3   5  0  ⋯   1  0  0  1  22\n",
              "29    bellbu01  1985   2     CIN    NL    67 247 28  54 15  ⋯  36  0  1 34  27\n",
              "30    bellge02  1985   1     TOR    AL   157 607 87 167 28  ⋯  95 21  6 43  90\n",
              "⋮     ⋮         ⋮      ⋮     ⋮      ⋮    ⋮   ⋮   ⋮  ⋮   ⋮   ⋱ ⋮   ⋮  ⋮  ⋮  ⋮  \n",
              "25412 weeksri01 2016   1     ARI    NL   108 180 29  43  9  ⋯ 27  5  0  20  54\n",
              "25413 werthja01 2016   1     WAS    NL   143 525 84 128 28  ⋯ 69  5  1  71 139\n",
              "25414 whitety01 2016   1     HOU    AL    86 249 24  54 16  ⋯ 28  1  0  23  65\n",
              "25415 whitlch01 2016   1     TBA    AL     5   0  0   0  0  ⋯  0  0  0   0   0\n",
              "25416 wietema01 2016   1     BAL    AL   124 423 48 103 17  ⋯ 66  1  0  32  85\n",
              "25417 wilheto01 2016   1     TEX    AL    21   0  0   0  0  ⋯  0  0  0   0   0\n",
              "25418 willima07 2016   1     NYA    AL    12  27  4   8  1  ⋯  2  0  0   1  12\n",
              "25419 wilsoal01 2016   1     DET    AL    62   0  0   0  0  ⋯  0  0  0   0   0\n",
              "25420 wilsoju10 2016   1     DET    AL    66   0  0   0  0  ⋯  0  0  0   0   0\n",
              "25421 wilsoty01 2016   1     BAL    AL    24   0  0   0  0  ⋯  0  0  0   0   0\n",
              "25422 winklda01 2016   1     ATL    NL     3   0  0   0  0  ⋯  0  0  0   0   0\n",
              "25423 wislema01 2016   1     ATL    NL    29  46  2   7  0  ⋯  2  0  0   1  21\n",
              "25424 wolteto01 2016   1     COL    NL    71 205 27  53 15  ⋯ 30  4  1  21  53\n",
              "25425 wongko01  2016   1     SLN    NL   121 313 39  75  7  ⋯ 23  7  0  34  52\n",
              "25426 woodal02  2016   1     LAN    NL    15  16  2   4  0  ⋯  2  0  0   1   9\n",
              "25427 woodbl01  2016   1     CIN    NL    70   2  0   0  0  ⋯  0  0  0   0   2\n",
              "25428 woodtr01  2016   1     CHN    NL    81  11  0   2  0  ⋯  1  0  0   1   5\n",
              "25429 worleva01 2016   1     BAL    AL    35   0  0   0  0  ⋯  0  0  0   0   0\n",
              "25430 wrighda03 2016   1     NYN    NL    37 137 18  31  8  ⋯ 14  3  2  26  55\n",
              "25431 wrighmi01 2016   1     BAL    AL    18   0  0   0  0  ⋯  0  0  0   0   0\n",
              "25432 wrighst01 2016   1     BOS    AL    25   4  0   0  0  ⋯  0  0  0   0   3\n",
              "25433 yateski01 2016   1     NYA    AL    41   0  0   0  0  ⋯  0  0  0   0   0\n",
              "25434 yelicch01 2016   1     MIA    NL   155 578 78 172 38  ⋯ 98  9  4  72 138\n",
              "25435 youngch03 2016   1     KCA    AL    34   1  0   0  0  ⋯  0  0  0   0   0\n",
              "25436 youngch04 2016   1     BOS    AL    76 203 29  56 18  ⋯ 24  4  2  21  50\n",
              "25437 zieglbr01 2016   1     ARI    NL    36   0  0   0  0  ⋯  0  0  0   0   0\n",
              "25438 zimmejo02 2016   1     DET    AL    19   4  0   1  0  ⋯  0  0  0   0   2\n",
              "25439 zimmery01 2016   1     WAS    NL   115 427 60  93 18  ⋯ 46  4  1  29 104\n",
              "25440 zobribe01 2016   1     CHN    NL   147 523 94 142 31  ⋯ 76  6  4  96  82\n",
              "25441 zychto01  2016   1     SEA    AL    12   0  0   0  0  ⋯  0  0  0   0   0\n",
              "      IBB HBP SH SF GIDP\n",
              "1     0    0   0  0  0  \n",
              "2     0    0   0  0  0  \n",
              "3     5    6   4  3  7  \n",
              "4     0    0   0  0  0  \n",
              "5     0    0   0  0  0  \n",
              "6     0    1   4  3  6  \n",
              "7     0    0   1  0  0  \n",
              "8     0    0   7  0  2  \n",
              "9     4    2   0  5 14  \n",
              "10    2    1   1  1  9  \n",
              "11    0    0   0  0  0  \n",
              "12    1    0   0  1  2  \n",
              "13    1    1  14  3  3  \n",
              "14    0    1   8  0  3  \n",
              "15    8    1   0 10 23  \n",
              "16    0    0   0  3 12  \n",
              "17    4    5   0  5 14  \n",
              "18    0    0   2  2  6  \n",
              "19    0    0   1  0  1  \n",
              "20    0    0   0  0  0  \n",
              "21    5    4   0  3 14  \n",
              "22    0    0   0  0  0  \n",
              "23    3    2  12  4 14  \n",
              "24    1    6   4  2 10  \n",
              "25    6   24   1 10 10  \n",
              "26    0    0   0  0  0  \n",
              "27    0    0   0  0  0  \n",
              "28    0    0   6  0  0  \n",
              "29    2    0   1  2 10  \n",
              "30    6    8   0  8  8  \n",
              "⋮     ⋮   ⋮   ⋮  ⋮  ⋮   \n",
              "25412 0   4   0  1   8  \n",
              "25413 0   4   0  6  17  \n",
              "25414 1   2   0  2   6  \n",
              "25415 0   0   0  0   0  \n",
              "25416 1   5   1  3  10  \n",
              "25417 0   0   0  0   0  \n",
              "25418 0   0   1  0   0  \n",
              "25419 0   0   0  0   0  \n",
              "25420 0   0   0  0   0  \n",
              "25421 0   0   0  0   0  \n",
              "25422 0   0   0  0   0  \n",
              "25423 0   0   5  1   2  \n",
              "25424 2   0   4  0   1  \n",
              "25425 2   9   0  5   3  \n",
              "25426 0   0   2  0   0  \n",
              "25427 0   0   0  0   0  \n",
              "25428 0   0   0  0   0  \n",
              "25429 0   0   0  0   0  \n",
              "25430 0   0   0  0   0  \n",
              "25431 0   0   0  0   0  \n",
              "25432 0   0   0  0   0  \n",
              "25433 0   0   0  0   0  \n",
              "25434 4   4   0  5  20  \n",
              "25435 0   0   0  0   0  \n",
              "25436 0   3   0  0   4  \n",
              "25437 0   0   0  0   0  \n",
              "25438 0   0   1  0   0  \n",
              "25439 1   5   0  6  12  \n",
              "25440 6   4   4  4  17  \n",
              "25441 0   0   0  0   0  "
            ]
          },
          "metadata": {}
        }
      ],
      "source": [
        "Batting %>%\n",
        "    semi_join(Salaries)\n",
        "\n",
        "# Equivalently:\n",
        "# semi_join(Batting, Salaries)"
      ]
    },
    {
      "cell_type": "markdown",
      "id": "e1f56673",
      "metadata": {
        "id": "e1f56673"
      },
      "source": [
        "This gives us a data frame with the same 22 columns as `Batting`, but only 25,441 rows (as opposed to the 112,184 rows in `Batting`)."
      ]
    },
    {
      "cell_type": "markdown",
      "id": "aeb6b5bd",
      "metadata": {
        "id": "aeb6b5bd"
      },
      "source": [
        "#### Filtering join #2: `anti_join()`"
      ]
    },
    {
      "cell_type": "markdown",
      "id": "1c19dd45",
      "metadata": {
        "id": "1c19dd45"
      },
      "source": [
        "**`anti_join(x, y)`** preserves all rows in **x** that do not have a matching key in **y**. It does not add any of the columns from **y**.\n",
        "\n",
        "Let's try an anti-join with `Batting` and `Salaries`:"
      ]
    },
    {
      "cell_type": "code",
      "execution_count": null,
      "id": "0f0c0367",
      "metadata": {
        "id": "0f0c0367",
        "outputId": "3f7cbcc3-0e13-448b-b6b2-3b758ab8e6bc",
        "colab": {
          "base_uri": "https://localhost:8080/",
          "height": 1000
        }
      },
      "outputs": [
        {
          "output_type": "stream",
          "name": "stderr",
          "text": [
            "\u001b[1m\u001b[22mJoining with `by = join_by(playerID, yearID, teamID, lgID)`\n"
          ]
        },
        {
          "output_type": "display_data",
          "data": {
            "text/html": [
              "<table class=\"dataframe\">\n",
              "<caption>A data.frame: 86743 × 22</caption>\n",
              "<thead>\n",
              "\t<tr><th scope=col>playerID</th><th scope=col>yearID</th><th scope=col>stint</th><th scope=col>teamID</th><th scope=col>lgID</th><th scope=col>G</th><th scope=col>AB</th><th scope=col>R</th><th scope=col>H</th><th scope=col>X2B</th><th scope=col>⋯</th><th scope=col>RBI</th><th scope=col>SB</th><th scope=col>CS</th><th scope=col>BB</th><th scope=col>SO</th><th scope=col>IBB</th><th scope=col>HBP</th><th scope=col>SH</th><th scope=col>SF</th><th scope=col>GIDP</th></tr>\n",
              "\t<tr><th scope=col>&lt;chr&gt;</th><th scope=col>&lt;int&gt;</th><th scope=col>&lt;int&gt;</th><th scope=col>&lt;fct&gt;</th><th scope=col>&lt;fct&gt;</th><th scope=col>&lt;int&gt;</th><th scope=col>&lt;int&gt;</th><th scope=col>&lt;int&gt;</th><th scope=col>&lt;int&gt;</th><th scope=col>&lt;int&gt;</th><th scope=col>⋯</th><th scope=col>&lt;int&gt;</th><th scope=col>&lt;int&gt;</th><th scope=col>&lt;int&gt;</th><th scope=col>&lt;int&gt;</th><th scope=col>&lt;int&gt;</th><th scope=col>&lt;int&gt;</th><th scope=col>&lt;int&gt;</th><th scope=col>&lt;int&gt;</th><th scope=col>&lt;int&gt;</th><th scope=col>&lt;int&gt;</th></tr>\n",
              "</thead>\n",
              "<tbody>\n",
              "\t<tr><td>abercda01</td><td>1871</td><td>1</td><td>TRO</td><td>NA</td><td> 1</td><td>  4</td><td> 0</td><td> 0</td><td> 0</td><td>⋯</td><td> 0</td><td> 0</td><td>0</td><td> 0</td><td>0</td><td>NA</td><td>NA</td><td>NA</td><td>NA</td><td>0</td></tr>\n",
              "\t<tr><td>addybo01 </td><td>1871</td><td>1</td><td>RC1</td><td>NA</td><td>25</td><td>118</td><td>30</td><td>32</td><td> 6</td><td>⋯</td><td>13</td><td> 8</td><td>1</td><td> 4</td><td>0</td><td>NA</td><td>NA</td><td>NA</td><td>NA</td><td>0</td></tr>\n",
              "\t<tr><td>allisar01</td><td>1871</td><td>1</td><td>CL1</td><td>NA</td><td>29</td><td>137</td><td>28</td><td>40</td><td> 4</td><td>⋯</td><td>19</td><td> 3</td><td>1</td><td> 2</td><td>5</td><td>NA</td><td>NA</td><td>NA</td><td>NA</td><td>1</td></tr>\n",
              "\t<tr><td>allisdo01</td><td>1871</td><td>1</td><td>WS3</td><td>NA</td><td>27</td><td>133</td><td>28</td><td>44</td><td>10</td><td>⋯</td><td>27</td><td> 1</td><td>1</td><td> 0</td><td>2</td><td>NA</td><td>NA</td><td>NA</td><td>NA</td><td>0</td></tr>\n",
              "\t<tr><td>ansonca01</td><td>1871</td><td>1</td><td>RC1</td><td>NA</td><td>25</td><td>120</td><td>29</td><td>39</td><td>11</td><td>⋯</td><td>16</td><td> 6</td><td>2</td><td> 2</td><td>1</td><td>NA</td><td>NA</td><td>NA</td><td>NA</td><td>0</td></tr>\n",
              "\t<tr><td>armstbo01</td><td>1871</td><td>1</td><td>FW1</td><td>NA</td><td>12</td><td> 49</td><td> 9</td><td>11</td><td> 2</td><td>⋯</td><td> 5</td><td> 0</td><td>1</td><td> 0</td><td>1</td><td>NA</td><td>NA</td><td>NA</td><td>NA</td><td>0</td></tr>\n",
              "\t<tr><td>barkeal01</td><td>1871</td><td>1</td><td>RC1</td><td>NA</td><td> 1</td><td>  4</td><td> 0</td><td> 1</td><td> 0</td><td>⋯</td><td> 2</td><td> 0</td><td>0</td><td> 1</td><td>0</td><td>NA</td><td>NA</td><td>NA</td><td>NA</td><td>0</td></tr>\n",
              "\t<tr><td>barnero01</td><td>1871</td><td>1</td><td>BS1</td><td>NA</td><td>31</td><td>157</td><td>66</td><td>63</td><td>10</td><td>⋯</td><td>34</td><td>11</td><td>6</td><td>13</td><td>1</td><td>NA</td><td>NA</td><td>NA</td><td>NA</td><td>1</td></tr>\n",
              "\t<tr><td>barrebi01</td><td>1871</td><td>1</td><td>FW1</td><td>NA</td><td> 1</td><td>  5</td><td> 1</td><td> 1</td><td> 1</td><td>⋯</td><td> 1</td><td> 0</td><td>0</td><td> 0</td><td>0</td><td>NA</td><td>NA</td><td>NA</td><td>NA</td><td>0</td></tr>\n",
              "\t<tr><td>barrofr01</td><td>1871</td><td>1</td><td>BS1</td><td>NA</td><td>18</td><td> 86</td><td>13</td><td>13</td><td> 2</td><td>⋯</td><td>11</td><td> 1</td><td>0</td><td> 0</td><td>0</td><td>NA</td><td>NA</td><td>NA</td><td>NA</td><td>0</td></tr>\n",
              "\t<tr><td>bassjo01 </td><td>1871</td><td>1</td><td>CL1</td><td>NA</td><td>22</td><td> 89</td><td>18</td><td>27</td><td> 1</td><td>⋯</td><td>18</td><td> 0</td><td>1</td><td> 3</td><td>4</td><td>NA</td><td>NA</td><td>NA</td><td>NA</td><td>0</td></tr>\n",
              "\t<tr><td>battijo01</td><td>1871</td><td>1</td><td>CL1</td><td>NA</td><td> 1</td><td>  3</td><td> 0</td><td> 0</td><td> 0</td><td>⋯</td><td> 0</td><td> 0</td><td>0</td><td> 1</td><td>0</td><td>NA</td><td>NA</td><td>NA</td><td>NA</td><td>0</td></tr>\n",
              "\t<tr><td>bealsto01</td><td>1871</td><td>1</td><td>WS3</td><td>NA</td><td>10</td><td> 36</td><td> 6</td><td> 7</td><td> 0</td><td>⋯</td><td> 1</td><td> 2</td><td>0</td><td> 2</td><td>0</td><td>NA</td><td>NA</td><td>NA</td><td>NA</td><td>2</td></tr>\n",
              "\t<tr><td>beaveed01</td><td>1871</td><td>1</td><td>TRO</td><td>NA</td><td> 3</td><td> 15</td><td> 7</td><td> 6</td><td> 0</td><td>⋯</td><td> 5</td><td> 2</td><td>0</td><td> 0</td><td>0</td><td>NA</td><td>NA</td><td>NA</td><td>NA</td><td>0</td></tr>\n",
              "\t<tr><td>bechtge01</td><td>1871</td><td>1</td><td>PH1</td><td>NA</td><td>20</td><td> 94</td><td>24</td><td>33</td><td> 9</td><td>⋯</td><td>21</td><td> 4</td><td>0</td><td> 2</td><td>2</td><td>NA</td><td>NA</td><td>NA</td><td>NA</td><td>1</td></tr>\n",
              "\t<tr><td>bellast01</td><td>1871</td><td>1</td><td>TRO</td><td>NA</td><td>29</td><td>128</td><td>26</td><td>32</td><td> 3</td><td>⋯</td><td>23</td><td> 4</td><td>4</td><td> 9</td><td>2</td><td>NA</td><td>NA</td><td>NA</td><td>NA</td><td>2</td></tr>\n",
              "\t<tr><td>berkena01</td><td>1871</td><td>1</td><td>PH1</td><td>NA</td><td> 1</td><td>  4</td><td> 0</td><td> 0</td><td> 0</td><td>⋯</td><td> 0</td><td> 0</td><td>0</td><td> 0</td><td>3</td><td>NA</td><td>NA</td><td>NA</td><td>NA</td><td>0</td></tr>\n",
              "\t<tr><td>berryto01</td><td>1871</td><td>1</td><td>PH1</td><td>NA</td><td> 1</td><td>  4</td><td> 0</td><td> 1</td><td> 0</td><td>⋯</td><td> 0</td><td> 0</td><td>0</td><td> 0</td><td>0</td><td>NA</td><td>NA</td><td>NA</td><td>NA</td><td>0</td></tr>\n",
              "\t<tr><td>berthha01</td><td>1871</td><td>1</td><td>WS3</td><td>NA</td><td>17</td><td> 73</td><td>17</td><td>17</td><td> 1</td><td>⋯</td><td> 8</td><td> 3</td><td>1</td><td> 4</td><td>2</td><td>NA</td><td>NA</td><td>NA</td><td>NA</td><td>0</td></tr>\n",
              "\t<tr><td>biermch01</td><td>1871</td><td>1</td><td>FW1</td><td>NA</td><td> 1</td><td>  2</td><td> 0</td><td> 0</td><td> 0</td><td>⋯</td><td> 0</td><td> 0</td><td>0</td><td> 1</td><td>0</td><td>NA</td><td>NA</td><td>NA</td><td>NA</td><td>0</td></tr>\n",
              "\t<tr><td>birdge01 </td><td>1871</td><td>1</td><td>RC1</td><td>NA</td><td>25</td><td>106</td><td>19</td><td>28</td><td> 2</td><td>⋯</td><td>13</td><td> 1</td><td>0</td><td> 3</td><td>2</td><td>NA</td><td>NA</td><td>NA</td><td>NA</td><td>3</td></tr>\n",
              "\t<tr><td>birdsda01</td><td>1871</td><td>1</td><td>BS1</td><td>NA</td><td>29</td><td>152</td><td>51</td><td>46</td><td> 3</td><td>⋯</td><td>24</td><td> 6</td><td>0</td><td> 4</td><td>4</td><td>NA</td><td>NA</td><td>NA</td><td>NA</td><td>1</td></tr>\n",
              "\t<tr><td>brainas01</td><td>1871</td><td>1</td><td>WS3</td><td>NA</td><td>30</td><td>134</td><td>24</td><td>30</td><td> 4</td><td>⋯</td><td>21</td><td> 4</td><td>0</td><td> 7</td><td>2</td><td>NA</td><td>NA</td><td>NA</td><td>NA</td><td>1</td></tr>\n",
              "\t<tr><td>brannmi01</td><td>1871</td><td>1</td><td>CH1</td><td>NA</td><td> 3</td><td> 14</td><td> 2</td><td> 1</td><td> 0</td><td>⋯</td><td> 0</td><td> 0</td><td>0</td><td> 0</td><td>0</td><td>NA</td><td>NA</td><td>NA</td><td>NA</td><td>0</td></tr>\n",
              "\t<tr><td>burrohe01</td><td>1871</td><td>1</td><td>WS3</td><td>NA</td><td>12</td><td> 63</td><td>11</td><td>15</td><td> 2</td><td>⋯</td><td>14</td><td> 0</td><td>0</td><td> 1</td><td>1</td><td>NA</td><td>NA</td><td>NA</td><td>NA</td><td>0</td></tr>\n",
              "\t<tr><td>careyto01</td><td>1871</td><td>1</td><td>FW1</td><td>NA</td><td>19</td><td> 87</td><td>16</td><td>20</td><td> 2</td><td>⋯</td><td>10</td><td> 5</td><td>0</td><td> 2</td><td>1</td><td>NA</td><td>NA</td><td>NA</td><td>NA</td><td>0</td></tr>\n",
              "\t<tr><td>carleji01</td><td>1871</td><td>1</td><td>CL1</td><td>NA</td><td>29</td><td>127</td><td>31</td><td>32</td><td> 8</td><td>⋯</td><td>18</td><td> 2</td><td>1</td><td> 8</td><td>3</td><td>NA</td><td>NA</td><td>NA</td><td>NA</td><td>3</td></tr>\n",
              "\t<tr><td>conefr01 </td><td>1871</td><td>1</td><td>BS1</td><td>NA</td><td>19</td><td> 77</td><td>17</td><td>20</td><td> 3</td><td>⋯</td><td>16</td><td>12</td><td>1</td><td> 8</td><td>2</td><td>NA</td><td>NA</td><td>NA</td><td>NA</td><td>1</td></tr>\n",
              "\t<tr><td>connone01</td><td>1871</td><td>1</td><td>TRO</td><td>NA</td><td> 7</td><td> 33</td><td> 6</td><td> 7</td><td> 0</td><td>⋯</td><td> 2</td><td> 0</td><td>0</td><td> 0</td><td>0</td><td>NA</td><td>NA</td><td>NA</td><td>NA</td><td>0</td></tr>\n",
              "\t<tr><td>cravebi01</td><td>1871</td><td>1</td><td>TRO</td><td>NA</td><td>27</td><td>118</td><td>26</td><td>38</td><td> 8</td><td>⋯</td><td>26</td><td> 6</td><td>3</td><td> 3</td><td>0</td><td>NA</td><td>NA</td><td>NA</td><td>NA</td><td>3</td></tr>\n",
              "\t<tr><td>⋮</td><td>⋮</td><td>⋮</td><td>⋮</td><td>⋮</td><td>⋮</td><td>⋮</td><td>⋮</td><td>⋮</td><td>⋮</td><td>⋱</td><td>⋮</td><td>⋮</td><td>⋮</td><td>⋮</td><td>⋮</td><td>⋮</td><td>⋮</td><td>⋮</td><td>⋮</td><td>⋮</td></tr>\n",
              "\t<tr><td>woodrbr01</td><td>2022</td><td>1</td><td>MIL</td><td>NL</td><td> 27</td><td>  0</td><td> 0</td><td>  0</td><td> 0</td><td>⋯</td><td> 0</td><td> 0</td><td>0</td><td> 0</td><td>  0</td><td>0</td><td>0</td><td>0</td><td>0</td><td>0</td></tr>\n",
              "\t<tr><td>woodssi01</td><td>2022</td><td>1</td><td>MIN</td><td>AL</td><td>  1</td><td>  0</td><td> 0</td><td>  0</td><td> 0</td><td>⋯</td><td> 0</td><td> 0</td><td>0</td><td> 0</td><td>  0</td><td>0</td><td>0</td><td>0</td><td>0</td><td>0</td></tr>\n",
              "\t<tr><td>woodswi01</td><td>2022</td><td>1</td><td>ATL</td><td>NL</td><td>  2</td><td>  0</td><td> 0</td><td>  0</td><td> 0</td><td>⋯</td><td> 0</td><td> 0</td><td>0</td><td> 0</td><td>  0</td><td>0</td><td>0</td><td>0</td><td>0</td><td>0</td></tr>\n",
              "\t<tr><td>wrighky01</td><td>2022</td><td>1</td><td>ATL</td><td>NL</td><td> 30</td><td>  0</td><td> 0</td><td>  0</td><td> 0</td><td>⋯</td><td> 0</td><td> 0</td><td>0</td><td> 0</td><td>  0</td><td>0</td><td>0</td><td>0</td><td>0</td><td>0</td></tr>\n",
              "\t<tr><td>wynnsau01</td><td>2022</td><td>1</td><td>SFN</td><td>NL</td><td> 66</td><td>162</td><td>14</td><td> 42</td><td> 7</td><td>⋯</td><td>21</td><td> 0</td><td>0</td><td>10</td><td> 38</td><td>0</td><td>3</td><td>1</td><td>1</td><td>9</td></tr>\n",
              "\t<tr><td>yacabji01</td><td>2022</td><td>1</td><td>MIA</td><td>NL</td><td>  9</td><td>  0</td><td> 0</td><td>  0</td><td> 0</td><td>⋯</td><td> 0</td><td> 0</td><td>0</td><td> 0</td><td>  0</td><td>0</td><td>0</td><td>0</td><td>0</td><td>0</td></tr>\n",
              "\t<tr><td>yacabji01</td><td>2022</td><td>2</td><td>TBA</td><td>AL</td><td>  5</td><td>  0</td><td> 0</td><td>  0</td><td> 0</td><td>⋯</td><td> 0</td><td> 0</td><td>0</td><td> 0</td><td>  0</td><td>0</td><td>0</td><td>0</td><td>0</td><td>0</td></tr>\n",
              "\t<tr><td>yajurmi01</td><td>2022</td><td>1</td><td>PIT</td><td>NL</td><td> 12</td><td>  0</td><td> 0</td><td>  0</td><td> 0</td><td>⋯</td><td> 0</td><td> 0</td><td>0</td><td> 0</td><td>  0</td><td>0</td><td>0</td><td>0</td><td>0</td><td>0</td></tr>\n",
              "\t<tr><td>yarbrry01</td><td>2022</td><td>1</td><td>TBA</td><td>AL</td><td> 20</td><td>  0</td><td> 0</td><td>  0</td><td> 0</td><td>⋯</td><td> 0</td><td> 0</td><td>0</td><td> 0</td><td>  0</td><td>0</td><td>0</td><td>0</td><td>0</td><td>0</td></tr>\n",
              "\t<tr><td>yastrmi01</td><td>2022</td><td>1</td><td>SFN</td><td>NL</td><td>148</td><td>485</td><td>73</td><td>104</td><td>31</td><td>⋯</td><td>57</td><td> 5</td><td>1</td><td>61</td><td>141</td><td>0</td><td>5</td><td>1</td><td>6</td><td>3</td></tr>\n",
              "\t<tr><td>yateski01</td><td>2022</td><td>1</td><td>ATL</td><td>NL</td><td>  9</td><td>  0</td><td> 0</td><td>  0</td><td> 0</td><td>⋯</td><td> 0</td><td> 0</td><td>0</td><td> 0</td><td>  0</td><td>0</td><td>0</td><td>0</td><td>0</td><td>0</td></tr>\n",
              "\t<tr><td>yelicch01</td><td>2022</td><td>1</td><td>MIL</td><td>NL</td><td>154</td><td>575</td><td>99</td><td>145</td><td>25</td><td>⋯</td><td>57</td><td>19</td><td>3</td><td>88</td><td>162</td><td>5</td><td>5</td><td>1</td><td>2</td><td>9</td></tr>\n",
              "\t<tr><td>yepezju01</td><td>2022</td><td>1</td><td>SLN</td><td>NL</td><td> 76</td><td>253</td><td>27</td><td> 64</td><td>13</td><td>⋯</td><td>30</td><td> 0</td><td>0</td><td>16</td><td> 61</td><td>0</td><td>1</td><td>0</td><td>4</td><td>6</td></tr>\n",
              "\t<tr><td>ynoahu01 </td><td>2022</td><td>1</td><td>ATL</td><td>NL</td><td>  2</td><td>  0</td><td> 0</td><td>  0</td><td> 0</td><td>⋯</td><td> 0</td><td> 0</td><td>0</td><td> 0</td><td>  0</td><td>0</td><td>0</td><td>0</td><td>0</td><td>0</td></tr>\n",
              "\t<tr><td>youngal01</td><td>2022</td><td>1</td><td>CLE</td><td>AL</td><td>  1</td><td>  0</td><td> 0</td><td>  0</td><td> 0</td><td>⋯</td><td> 0</td><td> 0</td><td>0</td><td> 0</td><td>  0</td><td>0</td><td>0</td><td>0</td><td>0</td><td>0</td></tr>\n",
              "\t<tr><td>youngal01</td><td>2022</td><td>2</td><td>SFN</td><td>NL</td><td> 24</td><td>  0</td><td> 0</td><td>  0</td><td> 0</td><td>⋯</td><td> 0</td><td> 0</td><td>0</td><td> 0</td><td>  0</td><td>0</td><td>0</td><td>0</td><td>0</td><td>0</td></tr>\n",
              "\t<tr><td>youngda02</td><td>2022</td><td>1</td><td>SEA</td><td>AL</td><td>  2</td><td>  0</td><td> 0</td><td>  0</td><td> 0</td><td>⋯</td><td> 0</td><td> 0</td><td>0</td><td> 0</td><td>  0</td><td>0</td><td>0</td><td>0</td><td>0</td><td>0</td></tr>\n",
              "\t<tr><td>youngda02</td><td>2022</td><td>2</td><td>ATL</td><td>NL</td><td>  1</td><td>  0</td><td> 0</td><td>  0</td><td> 0</td><td>⋯</td><td> 0</td><td> 0</td><td>0</td><td> 0</td><td>  0</td><td>0</td><td>0</td><td>0</td><td>0</td><td>0</td></tr>\n",
              "\t<tr><td>youngja02</td><td>2022</td><td>1</td><td>CHN</td><td>NL</td><td>  6</td><td> 19</td><td> 2</td><td>  5</td><td> 2</td><td>⋯</td><td> 0</td><td> 1</td><td>0</td><td> 3</td><td>  7</td><td>0</td><td>0</td><td>0</td><td>0</td><td>0</td></tr>\n",
              "\t<tr><td>zabalan01</td><td>2022</td><td>1</td><td>MIA</td><td>NL</td><td>  2</td><td>  0</td><td> 0</td><td>  0</td><td> 0</td><td>⋯</td><td> 0</td><td> 0</td><td>0</td><td> 0</td><td>  0</td><td>0</td><td>0</td><td>0</td><td>0</td><td>0</td></tr>\n",
              "\t<tr><td>zastrro01</td><td>2022</td><td>1</td><td>NYN</td><td>NL</td><td>  1</td><td>  0</td><td> 0</td><td>  0</td><td> 0</td><td>⋯</td><td> 0</td><td> 0</td><td>0</td><td> 0</td><td>  0</td><td>0</td><td>0</td><td>0</td><td>0</td><td>0</td></tr>\n",
              "\t<tr><td>zastrro01</td><td>2022</td><td>2</td><td>LAA</td><td>AL</td><td>  5</td><td>  0</td><td> 0</td><td>  0</td><td> 0</td><td>⋯</td><td> 0</td><td> 0</td><td>0</td><td> 0</td><td>  0</td><td>0</td><td>0</td><td>0</td><td>0</td><td>0</td></tr>\n",
              "\t<tr><td>zavalse01</td><td>2022</td><td>1</td><td>CHA</td><td>AL</td><td> 61</td><td>178</td><td>22</td><td> 48</td><td>14</td><td>⋯</td><td>21</td><td> 0</td><td>0</td><td>19</td><td> 64</td><td>0</td><td>3</td><td>3</td><td>2</td><td>1</td></tr>\n",
              "\t<tr><td>zerpaan01</td><td>2022</td><td>1</td><td>KCA</td><td>AL</td><td>  3</td><td>  0</td><td> 0</td><td>  0</td><td> 0</td><td>⋯</td><td> 0</td><td> 0</td><td>0</td><td> 0</td><td>  0</td><td>0</td><td>0</td><td>0</td><td>0</td><td>0</td></tr>\n",
              "\t<tr><td>zeuchtj01</td><td>2022</td><td>1</td><td>CIN</td><td>NL</td><td>  3</td><td>  0</td><td> 0</td><td>  0</td><td> 0</td><td>⋯</td><td> 0</td><td> 0</td><td>0</td><td> 0</td><td>  0</td><td>0</td><td>0</td><td>0</td><td>0</td><td>0</td></tr>\n",
              "\t<tr><td>zimmebr01</td><td>2022</td><td>1</td><td>TOR</td><td>AL</td><td> 77</td><td> 76</td><td>11</td><td>  8</td><td> 4</td><td>⋯</td><td> 3</td><td> 2</td><td>1</td><td> 5</td><td> 33</td><td>0</td><td>5</td><td>1</td><td>0</td><td>0</td></tr>\n",
              "\t<tr><td>zimmebr01</td><td>2022</td><td>2</td><td>PHI</td><td>NL</td><td>  9</td><td> 16</td><td> 4</td><td>  4</td><td> 1</td><td>⋯</td><td> 0</td><td> 0</td><td>0</td><td> 0</td><td>  4</td><td>0</td><td>0</td><td>0</td><td>0</td><td>0</td></tr>\n",
              "\t<tr><td>zimmebr01</td><td>2022</td><td>3</td><td>TOR</td><td>AL</td><td> 23</td><td> 13</td><td> 3</td><td>  1</td><td> 0</td><td>⋯</td><td> 2</td><td> 1</td><td>1</td><td> 0</td><td>  8</td><td>0</td><td>1</td><td>0</td><td>0</td><td>0</td></tr>\n",
              "\t<tr><td>zimmebr02</td><td>2022</td><td>1</td><td>BAL</td><td>AL</td><td> 15</td><td>  0</td><td> 0</td><td>  0</td><td> 0</td><td>⋯</td><td> 0</td><td> 0</td><td>0</td><td> 0</td><td>  0</td><td>0</td><td>0</td><td>0</td><td>0</td><td>0</td></tr>\n",
              "\t<tr><td>zuninmi01</td><td>2022</td><td>1</td><td>TBA</td><td>AL</td><td> 36</td><td>115</td><td> 7</td><td> 17</td><td> 3</td><td>⋯</td><td>16</td><td> 0</td><td>0</td><td> 6</td><td> 46</td><td>0</td><td>1</td><td>0</td><td>1</td><td>2</td></tr>\n",
              "</tbody>\n",
              "</table>\n"
            ],
            "text/markdown": "\nA data.frame: 86743 × 22\n\n| playerID &lt;chr&gt; | yearID &lt;int&gt; | stint &lt;int&gt; | teamID &lt;fct&gt; | lgID &lt;fct&gt; | G &lt;int&gt; | AB &lt;int&gt; | R &lt;int&gt; | H &lt;int&gt; | X2B &lt;int&gt; | ⋯ ⋯ | RBI &lt;int&gt; | SB &lt;int&gt; | CS &lt;int&gt; | BB &lt;int&gt; | SO &lt;int&gt; | IBB &lt;int&gt; | HBP &lt;int&gt; | SH &lt;int&gt; | SF &lt;int&gt; | GIDP &lt;int&gt; |\n|---|---|---|---|---|---|---|---|---|---|---|---|---|---|---|---|---|---|---|---|---|\n| abercda01 | 1871 | 1 | TRO | NA |  1 |   4 |  0 |  0 |  0 | ⋯ |  0 |  0 | 0 |  0 | 0 | NA | NA | NA | NA | 0 |\n| addybo01  | 1871 | 1 | RC1 | NA | 25 | 118 | 30 | 32 |  6 | ⋯ | 13 |  8 | 1 |  4 | 0 | NA | NA | NA | NA | 0 |\n| allisar01 | 1871 | 1 | CL1 | NA | 29 | 137 | 28 | 40 |  4 | ⋯ | 19 |  3 | 1 |  2 | 5 | NA | NA | NA | NA | 1 |\n| allisdo01 | 1871 | 1 | WS3 | NA | 27 | 133 | 28 | 44 | 10 | ⋯ | 27 |  1 | 1 |  0 | 2 | NA | NA | NA | NA | 0 |\n| ansonca01 | 1871 | 1 | RC1 | NA | 25 | 120 | 29 | 39 | 11 | ⋯ | 16 |  6 | 2 |  2 | 1 | NA | NA | NA | NA | 0 |\n| armstbo01 | 1871 | 1 | FW1 | NA | 12 |  49 |  9 | 11 |  2 | ⋯ |  5 |  0 | 1 |  0 | 1 | NA | NA | NA | NA | 0 |\n| barkeal01 | 1871 | 1 | RC1 | NA |  1 |   4 |  0 |  1 |  0 | ⋯ |  2 |  0 | 0 |  1 | 0 | NA | NA | NA | NA | 0 |\n| barnero01 | 1871 | 1 | BS1 | NA | 31 | 157 | 66 | 63 | 10 | ⋯ | 34 | 11 | 6 | 13 | 1 | NA | NA | NA | NA | 1 |\n| barrebi01 | 1871 | 1 | FW1 | NA |  1 |   5 |  1 |  1 |  1 | ⋯ |  1 |  0 | 0 |  0 | 0 | NA | NA | NA | NA | 0 |\n| barrofr01 | 1871 | 1 | BS1 | NA | 18 |  86 | 13 | 13 |  2 | ⋯ | 11 |  1 | 0 |  0 | 0 | NA | NA | NA | NA | 0 |\n| bassjo01  | 1871 | 1 | CL1 | NA | 22 |  89 | 18 | 27 |  1 | ⋯ | 18 |  0 | 1 |  3 | 4 | NA | NA | NA | NA | 0 |\n| battijo01 | 1871 | 1 | CL1 | NA |  1 |   3 |  0 |  0 |  0 | ⋯ |  0 |  0 | 0 |  1 | 0 | NA | NA | NA | NA | 0 |\n| bealsto01 | 1871 | 1 | WS3 | NA | 10 |  36 |  6 |  7 |  0 | ⋯ |  1 |  2 | 0 |  2 | 0 | NA | NA | NA | NA | 2 |\n| beaveed01 | 1871 | 1 | TRO | NA |  3 |  15 |  7 |  6 |  0 | ⋯ |  5 |  2 | 0 |  0 | 0 | NA | NA | NA | NA | 0 |\n| bechtge01 | 1871 | 1 | PH1 | NA | 20 |  94 | 24 | 33 |  9 | ⋯ | 21 |  4 | 0 |  2 | 2 | NA | NA | NA | NA | 1 |\n| bellast01 | 1871 | 1 | TRO | NA | 29 | 128 | 26 | 32 |  3 | ⋯ | 23 |  4 | 4 |  9 | 2 | NA | NA | NA | NA | 2 |\n| berkena01 | 1871 | 1 | PH1 | NA |  1 |   4 |  0 |  0 |  0 | ⋯ |  0 |  0 | 0 |  0 | 3 | NA | NA | NA | NA | 0 |\n| berryto01 | 1871 | 1 | PH1 | NA |  1 |   4 |  0 |  1 |  0 | ⋯ |  0 |  0 | 0 |  0 | 0 | NA | NA | NA | NA | 0 |\n| berthha01 | 1871 | 1 | WS3 | NA | 17 |  73 | 17 | 17 |  1 | ⋯ |  8 |  3 | 1 |  4 | 2 | NA | NA | NA | NA | 0 |\n| biermch01 | 1871 | 1 | FW1 | NA |  1 |   2 |  0 |  0 |  0 | ⋯ |  0 |  0 | 0 |  1 | 0 | NA | NA | NA | NA | 0 |\n| birdge01  | 1871 | 1 | RC1 | NA | 25 | 106 | 19 | 28 |  2 | ⋯ | 13 |  1 | 0 |  3 | 2 | NA | NA | NA | NA | 3 |\n| birdsda01 | 1871 | 1 | BS1 | NA | 29 | 152 | 51 | 46 |  3 | ⋯ | 24 |  6 | 0 |  4 | 4 | NA | NA | NA | NA | 1 |\n| brainas01 | 1871 | 1 | WS3 | NA | 30 | 134 | 24 | 30 |  4 | ⋯ | 21 |  4 | 0 |  7 | 2 | NA | NA | NA | NA | 1 |\n| brannmi01 | 1871 | 1 | CH1 | NA |  3 |  14 |  2 |  1 |  0 | ⋯ |  0 |  0 | 0 |  0 | 0 | NA | NA | NA | NA | 0 |\n| burrohe01 | 1871 | 1 | WS3 | NA | 12 |  63 | 11 | 15 |  2 | ⋯ | 14 |  0 | 0 |  1 | 1 | NA | NA | NA | NA | 0 |\n| careyto01 | 1871 | 1 | FW1 | NA | 19 |  87 | 16 | 20 |  2 | ⋯ | 10 |  5 | 0 |  2 | 1 | NA | NA | NA | NA | 0 |\n| carleji01 | 1871 | 1 | CL1 | NA | 29 | 127 | 31 | 32 |  8 | ⋯ | 18 |  2 | 1 |  8 | 3 | NA | NA | NA | NA | 3 |\n| conefr01  | 1871 | 1 | BS1 | NA | 19 |  77 | 17 | 20 |  3 | ⋯ | 16 | 12 | 1 |  8 | 2 | NA | NA | NA | NA | 1 |\n| connone01 | 1871 | 1 | TRO | NA |  7 |  33 |  6 |  7 |  0 | ⋯ |  2 |  0 | 0 |  0 | 0 | NA | NA | NA | NA | 0 |\n| cravebi01 | 1871 | 1 | TRO | NA | 27 | 118 | 26 | 38 |  8 | ⋯ | 26 |  6 | 3 |  3 | 0 | NA | NA | NA | NA | 3 |\n| ⋮ | ⋮ | ⋮ | ⋮ | ⋮ | ⋮ | ⋮ | ⋮ | ⋮ | ⋮ | ⋱ | ⋮ | ⋮ | ⋮ | ⋮ | ⋮ | ⋮ | ⋮ | ⋮ | ⋮ | ⋮ |\n| woodrbr01 | 2022 | 1 | MIL | NL |  27 |   0 |  0 |   0 |  0 | ⋯ |  0 |  0 | 0 |  0 |   0 | 0 | 0 | 0 | 0 | 0 |\n| woodssi01 | 2022 | 1 | MIN | AL |   1 |   0 |  0 |   0 |  0 | ⋯ |  0 |  0 | 0 |  0 |   0 | 0 | 0 | 0 | 0 | 0 |\n| woodswi01 | 2022 | 1 | ATL | NL |   2 |   0 |  0 |   0 |  0 | ⋯ |  0 |  0 | 0 |  0 |   0 | 0 | 0 | 0 | 0 | 0 |\n| wrighky01 | 2022 | 1 | ATL | NL |  30 |   0 |  0 |   0 |  0 | ⋯ |  0 |  0 | 0 |  0 |   0 | 0 | 0 | 0 | 0 | 0 |\n| wynnsau01 | 2022 | 1 | SFN | NL |  66 | 162 | 14 |  42 |  7 | ⋯ | 21 |  0 | 0 | 10 |  38 | 0 | 3 | 1 | 1 | 9 |\n| yacabji01 | 2022 | 1 | MIA | NL |   9 |   0 |  0 |   0 |  0 | ⋯ |  0 |  0 | 0 |  0 |   0 | 0 | 0 | 0 | 0 | 0 |\n| yacabji01 | 2022 | 2 | TBA | AL |   5 |   0 |  0 |   0 |  0 | ⋯ |  0 |  0 | 0 |  0 |   0 | 0 | 0 | 0 | 0 | 0 |\n| yajurmi01 | 2022 | 1 | PIT | NL |  12 |   0 |  0 |   0 |  0 | ⋯ |  0 |  0 | 0 |  0 |   0 | 0 | 0 | 0 | 0 | 0 |\n| yarbrry01 | 2022 | 1 | TBA | AL |  20 |   0 |  0 |   0 |  0 | ⋯ |  0 |  0 | 0 |  0 |   0 | 0 | 0 | 0 | 0 | 0 |\n| yastrmi01 | 2022 | 1 | SFN | NL | 148 | 485 | 73 | 104 | 31 | ⋯ | 57 |  5 | 1 | 61 | 141 | 0 | 5 | 1 | 6 | 3 |\n| yateski01 | 2022 | 1 | ATL | NL |   9 |   0 |  0 |   0 |  0 | ⋯ |  0 |  0 | 0 |  0 |   0 | 0 | 0 | 0 | 0 | 0 |\n| yelicch01 | 2022 | 1 | MIL | NL | 154 | 575 | 99 | 145 | 25 | ⋯ | 57 | 19 | 3 | 88 | 162 | 5 | 5 | 1 | 2 | 9 |\n| yepezju01 | 2022 | 1 | SLN | NL |  76 | 253 | 27 |  64 | 13 | ⋯ | 30 |  0 | 0 | 16 |  61 | 0 | 1 | 0 | 4 | 6 |\n| ynoahu01  | 2022 | 1 | ATL | NL |   2 |   0 |  0 |   0 |  0 | ⋯ |  0 |  0 | 0 |  0 |   0 | 0 | 0 | 0 | 0 | 0 |\n| youngal01 | 2022 | 1 | CLE | AL |   1 |   0 |  0 |   0 |  0 | ⋯ |  0 |  0 | 0 |  0 |   0 | 0 | 0 | 0 | 0 | 0 |\n| youngal01 | 2022 | 2 | SFN | NL |  24 |   0 |  0 |   0 |  0 | ⋯ |  0 |  0 | 0 |  0 |   0 | 0 | 0 | 0 | 0 | 0 |\n| youngda02 | 2022 | 1 | SEA | AL |   2 |   0 |  0 |   0 |  0 | ⋯ |  0 |  0 | 0 |  0 |   0 | 0 | 0 | 0 | 0 | 0 |\n| youngda02 | 2022 | 2 | ATL | NL |   1 |   0 |  0 |   0 |  0 | ⋯ |  0 |  0 | 0 |  0 |   0 | 0 | 0 | 0 | 0 | 0 |\n| youngja02 | 2022 | 1 | CHN | NL |   6 |  19 |  2 |   5 |  2 | ⋯ |  0 |  1 | 0 |  3 |   7 | 0 | 0 | 0 | 0 | 0 |\n| zabalan01 | 2022 | 1 | MIA | NL |   2 |   0 |  0 |   0 |  0 | ⋯ |  0 |  0 | 0 |  0 |   0 | 0 | 0 | 0 | 0 | 0 |\n| zastrro01 | 2022 | 1 | NYN | NL |   1 |   0 |  0 |   0 |  0 | ⋯ |  0 |  0 | 0 |  0 |   0 | 0 | 0 | 0 | 0 | 0 |\n| zastrro01 | 2022 | 2 | LAA | AL |   5 |   0 |  0 |   0 |  0 | ⋯ |  0 |  0 | 0 |  0 |   0 | 0 | 0 | 0 | 0 | 0 |\n| zavalse01 | 2022 | 1 | CHA | AL |  61 | 178 | 22 |  48 | 14 | ⋯ | 21 |  0 | 0 | 19 |  64 | 0 | 3 | 3 | 2 | 1 |\n| zerpaan01 | 2022 | 1 | KCA | AL |   3 |   0 |  0 |   0 |  0 | ⋯ |  0 |  0 | 0 |  0 |   0 | 0 | 0 | 0 | 0 | 0 |\n| zeuchtj01 | 2022 | 1 | CIN | NL |   3 |   0 |  0 |   0 |  0 | ⋯ |  0 |  0 | 0 |  0 |   0 | 0 | 0 | 0 | 0 | 0 |\n| zimmebr01 | 2022 | 1 | TOR | AL |  77 |  76 | 11 |   8 |  4 | ⋯ |  3 |  2 | 1 |  5 |  33 | 0 | 5 | 1 | 0 | 0 |\n| zimmebr01 | 2022 | 2 | PHI | NL |   9 |  16 |  4 |   4 |  1 | ⋯ |  0 |  0 | 0 |  0 |   4 | 0 | 0 | 0 | 0 | 0 |\n| zimmebr01 | 2022 | 3 | TOR | AL |  23 |  13 |  3 |   1 |  0 | ⋯ |  2 |  1 | 1 |  0 |   8 | 0 | 1 | 0 | 0 | 0 |\n| zimmebr02 | 2022 | 1 | BAL | AL |  15 |   0 |  0 |   0 |  0 | ⋯ |  0 |  0 | 0 |  0 |   0 | 0 | 0 | 0 | 0 | 0 |\n| zuninmi01 | 2022 | 1 | TBA | AL |  36 | 115 |  7 |  17 |  3 | ⋯ | 16 |  0 | 0 |  6 |  46 | 0 | 1 | 0 | 1 | 2 |\n\n",
            "text/latex": "A data.frame: 86743 × 22\n\\begin{tabular}{lllllllllllllllllllll}\n playerID & yearID & stint & teamID & lgID & G & AB & R & H & X2B & ⋯ & RBI & SB & CS & BB & SO & IBB & HBP & SH & SF & GIDP\\\\\n <chr> & <int> & <int> & <fct> & <fct> & <int> & <int> & <int> & <int> & <int> & ⋯ & <int> & <int> & <int> & <int> & <int> & <int> & <int> & <int> & <int> & <int>\\\\\n\\hline\n\t abercda01 & 1871 & 1 & TRO & NA &  1 &   4 &  0 &  0 &  0 & ⋯ &  0 &  0 & 0 &  0 & 0 & NA & NA & NA & NA & 0\\\\\n\t addybo01  & 1871 & 1 & RC1 & NA & 25 & 118 & 30 & 32 &  6 & ⋯ & 13 &  8 & 1 &  4 & 0 & NA & NA & NA & NA & 0\\\\\n\t allisar01 & 1871 & 1 & CL1 & NA & 29 & 137 & 28 & 40 &  4 & ⋯ & 19 &  3 & 1 &  2 & 5 & NA & NA & NA & NA & 1\\\\\n\t allisdo01 & 1871 & 1 & WS3 & NA & 27 & 133 & 28 & 44 & 10 & ⋯ & 27 &  1 & 1 &  0 & 2 & NA & NA & NA & NA & 0\\\\\n\t ansonca01 & 1871 & 1 & RC1 & NA & 25 & 120 & 29 & 39 & 11 & ⋯ & 16 &  6 & 2 &  2 & 1 & NA & NA & NA & NA & 0\\\\\n\t armstbo01 & 1871 & 1 & FW1 & NA & 12 &  49 &  9 & 11 &  2 & ⋯ &  5 &  0 & 1 &  0 & 1 & NA & NA & NA & NA & 0\\\\\n\t barkeal01 & 1871 & 1 & RC1 & NA &  1 &   4 &  0 &  1 &  0 & ⋯ &  2 &  0 & 0 &  1 & 0 & NA & NA & NA & NA & 0\\\\\n\t barnero01 & 1871 & 1 & BS1 & NA & 31 & 157 & 66 & 63 & 10 & ⋯ & 34 & 11 & 6 & 13 & 1 & NA & NA & NA & NA & 1\\\\\n\t barrebi01 & 1871 & 1 & FW1 & NA &  1 &   5 &  1 &  1 &  1 & ⋯ &  1 &  0 & 0 &  0 & 0 & NA & NA & NA & NA & 0\\\\\n\t barrofr01 & 1871 & 1 & BS1 & NA & 18 &  86 & 13 & 13 &  2 & ⋯ & 11 &  1 & 0 &  0 & 0 & NA & NA & NA & NA & 0\\\\\n\t bassjo01  & 1871 & 1 & CL1 & NA & 22 &  89 & 18 & 27 &  1 & ⋯ & 18 &  0 & 1 &  3 & 4 & NA & NA & NA & NA & 0\\\\\n\t battijo01 & 1871 & 1 & CL1 & NA &  1 &   3 &  0 &  0 &  0 & ⋯ &  0 &  0 & 0 &  1 & 0 & NA & NA & NA & NA & 0\\\\\n\t bealsto01 & 1871 & 1 & WS3 & NA & 10 &  36 &  6 &  7 &  0 & ⋯ &  1 &  2 & 0 &  2 & 0 & NA & NA & NA & NA & 2\\\\\n\t beaveed01 & 1871 & 1 & TRO & NA &  3 &  15 &  7 &  6 &  0 & ⋯ &  5 &  2 & 0 &  0 & 0 & NA & NA & NA & NA & 0\\\\\n\t bechtge01 & 1871 & 1 & PH1 & NA & 20 &  94 & 24 & 33 &  9 & ⋯ & 21 &  4 & 0 &  2 & 2 & NA & NA & NA & NA & 1\\\\\n\t bellast01 & 1871 & 1 & TRO & NA & 29 & 128 & 26 & 32 &  3 & ⋯ & 23 &  4 & 4 &  9 & 2 & NA & NA & NA & NA & 2\\\\\n\t berkena01 & 1871 & 1 & PH1 & NA &  1 &   4 &  0 &  0 &  0 & ⋯ &  0 &  0 & 0 &  0 & 3 & NA & NA & NA & NA & 0\\\\\n\t berryto01 & 1871 & 1 & PH1 & NA &  1 &   4 &  0 &  1 &  0 & ⋯ &  0 &  0 & 0 &  0 & 0 & NA & NA & NA & NA & 0\\\\\n\t berthha01 & 1871 & 1 & WS3 & NA & 17 &  73 & 17 & 17 &  1 & ⋯ &  8 &  3 & 1 &  4 & 2 & NA & NA & NA & NA & 0\\\\\n\t biermch01 & 1871 & 1 & FW1 & NA &  1 &   2 &  0 &  0 &  0 & ⋯ &  0 &  0 & 0 &  1 & 0 & NA & NA & NA & NA & 0\\\\\n\t birdge01  & 1871 & 1 & RC1 & NA & 25 & 106 & 19 & 28 &  2 & ⋯ & 13 &  1 & 0 &  3 & 2 & NA & NA & NA & NA & 3\\\\\n\t birdsda01 & 1871 & 1 & BS1 & NA & 29 & 152 & 51 & 46 &  3 & ⋯ & 24 &  6 & 0 &  4 & 4 & NA & NA & NA & NA & 1\\\\\n\t brainas01 & 1871 & 1 & WS3 & NA & 30 & 134 & 24 & 30 &  4 & ⋯ & 21 &  4 & 0 &  7 & 2 & NA & NA & NA & NA & 1\\\\\n\t brannmi01 & 1871 & 1 & CH1 & NA &  3 &  14 &  2 &  1 &  0 & ⋯ &  0 &  0 & 0 &  0 & 0 & NA & NA & NA & NA & 0\\\\\n\t burrohe01 & 1871 & 1 & WS3 & NA & 12 &  63 & 11 & 15 &  2 & ⋯ & 14 &  0 & 0 &  1 & 1 & NA & NA & NA & NA & 0\\\\\n\t careyto01 & 1871 & 1 & FW1 & NA & 19 &  87 & 16 & 20 &  2 & ⋯ & 10 &  5 & 0 &  2 & 1 & NA & NA & NA & NA & 0\\\\\n\t carleji01 & 1871 & 1 & CL1 & NA & 29 & 127 & 31 & 32 &  8 & ⋯ & 18 &  2 & 1 &  8 & 3 & NA & NA & NA & NA & 3\\\\\n\t conefr01  & 1871 & 1 & BS1 & NA & 19 &  77 & 17 & 20 &  3 & ⋯ & 16 & 12 & 1 &  8 & 2 & NA & NA & NA & NA & 1\\\\\n\t connone01 & 1871 & 1 & TRO & NA &  7 &  33 &  6 &  7 &  0 & ⋯ &  2 &  0 & 0 &  0 & 0 & NA & NA & NA & NA & 0\\\\\n\t cravebi01 & 1871 & 1 & TRO & NA & 27 & 118 & 26 & 38 &  8 & ⋯ & 26 &  6 & 3 &  3 & 0 & NA & NA & NA & NA & 3\\\\\n\t ⋮ & ⋮ & ⋮ & ⋮ & ⋮ & ⋮ & ⋮ & ⋮ & ⋮ & ⋮ & ⋱ & ⋮ & ⋮ & ⋮ & ⋮ & ⋮ & ⋮ & ⋮ & ⋮ & ⋮ & ⋮\\\\\n\t woodrbr01 & 2022 & 1 & MIL & NL &  27 &   0 &  0 &   0 &  0 & ⋯ &  0 &  0 & 0 &  0 &   0 & 0 & 0 & 0 & 0 & 0\\\\\n\t woodssi01 & 2022 & 1 & MIN & AL &   1 &   0 &  0 &   0 &  0 & ⋯ &  0 &  0 & 0 &  0 &   0 & 0 & 0 & 0 & 0 & 0\\\\\n\t woodswi01 & 2022 & 1 & ATL & NL &   2 &   0 &  0 &   0 &  0 & ⋯ &  0 &  0 & 0 &  0 &   0 & 0 & 0 & 0 & 0 & 0\\\\\n\t wrighky01 & 2022 & 1 & ATL & NL &  30 &   0 &  0 &   0 &  0 & ⋯ &  0 &  0 & 0 &  0 &   0 & 0 & 0 & 0 & 0 & 0\\\\\n\t wynnsau01 & 2022 & 1 & SFN & NL &  66 & 162 & 14 &  42 &  7 & ⋯ & 21 &  0 & 0 & 10 &  38 & 0 & 3 & 1 & 1 & 9\\\\\n\t yacabji01 & 2022 & 1 & MIA & NL &   9 &   0 &  0 &   0 &  0 & ⋯ &  0 &  0 & 0 &  0 &   0 & 0 & 0 & 0 & 0 & 0\\\\\n\t yacabji01 & 2022 & 2 & TBA & AL &   5 &   0 &  0 &   0 &  0 & ⋯ &  0 &  0 & 0 &  0 &   0 & 0 & 0 & 0 & 0 & 0\\\\\n\t yajurmi01 & 2022 & 1 & PIT & NL &  12 &   0 &  0 &   0 &  0 & ⋯ &  0 &  0 & 0 &  0 &   0 & 0 & 0 & 0 & 0 & 0\\\\\n\t yarbrry01 & 2022 & 1 & TBA & AL &  20 &   0 &  0 &   0 &  0 & ⋯ &  0 &  0 & 0 &  0 &   0 & 0 & 0 & 0 & 0 & 0\\\\\n\t yastrmi01 & 2022 & 1 & SFN & NL & 148 & 485 & 73 & 104 & 31 & ⋯ & 57 &  5 & 1 & 61 & 141 & 0 & 5 & 1 & 6 & 3\\\\\n\t yateski01 & 2022 & 1 & ATL & NL &   9 &   0 &  0 &   0 &  0 & ⋯ &  0 &  0 & 0 &  0 &   0 & 0 & 0 & 0 & 0 & 0\\\\\n\t yelicch01 & 2022 & 1 & MIL & NL & 154 & 575 & 99 & 145 & 25 & ⋯ & 57 & 19 & 3 & 88 & 162 & 5 & 5 & 1 & 2 & 9\\\\\n\t yepezju01 & 2022 & 1 & SLN & NL &  76 & 253 & 27 &  64 & 13 & ⋯ & 30 &  0 & 0 & 16 &  61 & 0 & 1 & 0 & 4 & 6\\\\\n\t ynoahu01  & 2022 & 1 & ATL & NL &   2 &   0 &  0 &   0 &  0 & ⋯ &  0 &  0 & 0 &  0 &   0 & 0 & 0 & 0 & 0 & 0\\\\\n\t youngal01 & 2022 & 1 & CLE & AL &   1 &   0 &  0 &   0 &  0 & ⋯ &  0 &  0 & 0 &  0 &   0 & 0 & 0 & 0 & 0 & 0\\\\\n\t youngal01 & 2022 & 2 & SFN & NL &  24 &   0 &  0 &   0 &  0 & ⋯ &  0 &  0 & 0 &  0 &   0 & 0 & 0 & 0 & 0 & 0\\\\\n\t youngda02 & 2022 & 1 & SEA & AL &   2 &   0 &  0 &   0 &  0 & ⋯ &  0 &  0 & 0 &  0 &   0 & 0 & 0 & 0 & 0 & 0\\\\\n\t youngda02 & 2022 & 2 & ATL & NL &   1 &   0 &  0 &   0 &  0 & ⋯ &  0 &  0 & 0 &  0 &   0 & 0 & 0 & 0 & 0 & 0\\\\\n\t youngja02 & 2022 & 1 & CHN & NL &   6 &  19 &  2 &   5 &  2 & ⋯ &  0 &  1 & 0 &  3 &   7 & 0 & 0 & 0 & 0 & 0\\\\\n\t zabalan01 & 2022 & 1 & MIA & NL &   2 &   0 &  0 &   0 &  0 & ⋯ &  0 &  0 & 0 &  0 &   0 & 0 & 0 & 0 & 0 & 0\\\\\n\t zastrro01 & 2022 & 1 & NYN & NL &   1 &   0 &  0 &   0 &  0 & ⋯ &  0 &  0 & 0 &  0 &   0 & 0 & 0 & 0 & 0 & 0\\\\\n\t zastrro01 & 2022 & 2 & LAA & AL &   5 &   0 &  0 &   0 &  0 & ⋯ &  0 &  0 & 0 &  0 &   0 & 0 & 0 & 0 & 0 & 0\\\\\n\t zavalse01 & 2022 & 1 & CHA & AL &  61 & 178 & 22 &  48 & 14 & ⋯ & 21 &  0 & 0 & 19 &  64 & 0 & 3 & 3 & 2 & 1\\\\\n\t zerpaan01 & 2022 & 1 & KCA & AL &   3 &   0 &  0 &   0 &  0 & ⋯ &  0 &  0 & 0 &  0 &   0 & 0 & 0 & 0 & 0 & 0\\\\\n\t zeuchtj01 & 2022 & 1 & CIN & NL &   3 &   0 &  0 &   0 &  0 & ⋯ &  0 &  0 & 0 &  0 &   0 & 0 & 0 & 0 & 0 & 0\\\\\n\t zimmebr01 & 2022 & 1 & TOR & AL &  77 &  76 & 11 &   8 &  4 & ⋯ &  3 &  2 & 1 &  5 &  33 & 0 & 5 & 1 & 0 & 0\\\\\n\t zimmebr01 & 2022 & 2 & PHI & NL &   9 &  16 &  4 &   4 &  1 & ⋯ &  0 &  0 & 0 &  0 &   4 & 0 & 0 & 0 & 0 & 0\\\\\n\t zimmebr01 & 2022 & 3 & TOR & AL &  23 &  13 &  3 &   1 &  0 & ⋯ &  2 &  1 & 1 &  0 &   8 & 0 & 1 & 0 & 0 & 0\\\\\n\t zimmebr02 & 2022 & 1 & BAL & AL &  15 &   0 &  0 &   0 &  0 & ⋯ &  0 &  0 & 0 &  0 &   0 & 0 & 0 & 0 & 0 & 0\\\\\n\t zuninmi01 & 2022 & 1 & TBA & AL &  36 & 115 &  7 &  17 &  3 & ⋯ & 16 &  0 & 0 &  6 &  46 & 0 & 1 & 0 & 1 & 2\\\\\n\\end{tabular}\n",
            "text/plain": [
              "      playerID  yearID stint teamID lgID G   AB  R  H   X2B ⋯ RBI SB CS BB SO \n",
              "1     abercda01 1871   1     TRO    NA    1    4  0  0   0  ⋯  0   0 0   0 0  \n",
              "2     addybo01  1871   1     RC1    NA   25  118 30 32   6  ⋯ 13   8 1   4 0  \n",
              "3     allisar01 1871   1     CL1    NA   29  137 28 40   4  ⋯ 19   3 1   2 5  \n",
              "4     allisdo01 1871   1     WS3    NA   27  133 28 44  10  ⋯ 27   1 1   0 2  \n",
              "5     ansonca01 1871   1     RC1    NA   25  120 29 39  11  ⋯ 16   6 2   2 1  \n",
              "6     armstbo01 1871   1     FW1    NA   12   49  9 11   2  ⋯  5   0 1   0 1  \n",
              "7     barkeal01 1871   1     RC1    NA    1    4  0  1   0  ⋯  2   0 0   1 0  \n",
              "8     barnero01 1871   1     BS1    NA   31  157 66 63  10  ⋯ 34  11 6  13 1  \n",
              "9     barrebi01 1871   1     FW1    NA    1    5  1  1   1  ⋯  1   0 0   0 0  \n",
              "10    barrofr01 1871   1     BS1    NA   18   86 13 13   2  ⋯ 11   1 0   0 0  \n",
              "11    bassjo01  1871   1     CL1    NA   22   89 18 27   1  ⋯ 18   0 1   3 4  \n",
              "12    battijo01 1871   1     CL1    NA    1    3  0  0   0  ⋯  0   0 0   1 0  \n",
              "13    bealsto01 1871   1     WS3    NA   10   36  6  7   0  ⋯  1   2 0   2 0  \n",
              "14    beaveed01 1871   1     TRO    NA    3   15  7  6   0  ⋯  5   2 0   0 0  \n",
              "15    bechtge01 1871   1     PH1    NA   20   94 24 33   9  ⋯ 21   4 0   2 2  \n",
              "16    bellast01 1871   1     TRO    NA   29  128 26 32   3  ⋯ 23   4 4   9 2  \n",
              "17    berkena01 1871   1     PH1    NA    1    4  0  0   0  ⋯  0   0 0   0 3  \n",
              "18    berryto01 1871   1     PH1    NA    1    4  0  1   0  ⋯  0   0 0   0 0  \n",
              "19    berthha01 1871   1     WS3    NA   17   73 17 17   1  ⋯  8   3 1   4 2  \n",
              "20    biermch01 1871   1     FW1    NA    1    2  0  0   0  ⋯  0   0 0   1 0  \n",
              "21    birdge01  1871   1     RC1    NA   25  106 19 28   2  ⋯ 13   1 0   3 2  \n",
              "22    birdsda01 1871   1     BS1    NA   29  152 51 46   3  ⋯ 24   6 0   4 4  \n",
              "23    brainas01 1871   1     WS3    NA   30  134 24 30   4  ⋯ 21   4 0   7 2  \n",
              "24    brannmi01 1871   1     CH1    NA    3   14  2  1   0  ⋯  0   0 0   0 0  \n",
              "25    burrohe01 1871   1     WS3    NA   12   63 11 15   2  ⋯ 14   0 0   1 1  \n",
              "26    careyto01 1871   1     FW1    NA   19   87 16 20   2  ⋯ 10   5 0   2 1  \n",
              "27    carleji01 1871   1     CL1    NA   29  127 31 32   8  ⋯ 18   2 1   8 3  \n",
              "28    conefr01  1871   1     BS1    NA   19   77 17 20   3  ⋯ 16  12 1   8 2  \n",
              "29    connone01 1871   1     TRO    NA    7   33  6  7   0  ⋯  2   0 0   0 0  \n",
              "30    cravebi01 1871   1     TRO    NA   27  118 26 38   8  ⋯ 26   6 3   3 0  \n",
              "⋮     ⋮         ⋮      ⋮     ⋮      ⋮    ⋮   ⋮   ⋮  ⋮   ⋮   ⋱ ⋮   ⋮  ⋮  ⋮  ⋮  \n",
              "86714 woodrbr01 2022   1     MIL    NL    27   0  0   0  0  ⋯  0   0 0   0   0\n",
              "86715 woodssi01 2022   1     MIN    AL     1   0  0   0  0  ⋯  0   0 0   0   0\n",
              "86716 woodswi01 2022   1     ATL    NL     2   0  0   0  0  ⋯  0   0 0   0   0\n",
              "86717 wrighky01 2022   1     ATL    NL    30   0  0   0  0  ⋯  0   0 0   0   0\n",
              "86718 wynnsau01 2022   1     SFN    NL    66 162 14  42  7  ⋯ 21   0 0  10  38\n",
              "86719 yacabji01 2022   1     MIA    NL     9   0  0   0  0  ⋯  0   0 0   0   0\n",
              "86720 yacabji01 2022   2     TBA    AL     5   0  0   0  0  ⋯  0   0 0   0   0\n",
              "86721 yajurmi01 2022   1     PIT    NL    12   0  0   0  0  ⋯  0   0 0   0   0\n",
              "86722 yarbrry01 2022   1     TBA    AL    20   0  0   0  0  ⋯  0   0 0   0   0\n",
              "86723 yastrmi01 2022   1     SFN    NL   148 485 73 104 31  ⋯ 57   5 1  61 141\n",
              "86724 yateski01 2022   1     ATL    NL     9   0  0   0  0  ⋯  0   0 0   0   0\n",
              "86725 yelicch01 2022   1     MIL    NL   154 575 99 145 25  ⋯ 57  19 3  88 162\n",
              "86726 yepezju01 2022   1     SLN    NL    76 253 27  64 13  ⋯ 30   0 0  16  61\n",
              "86727 ynoahu01  2022   1     ATL    NL     2   0  0   0  0  ⋯  0   0 0   0   0\n",
              "86728 youngal01 2022   1     CLE    AL     1   0  0   0  0  ⋯  0   0 0   0   0\n",
              "86729 youngal01 2022   2     SFN    NL    24   0  0   0  0  ⋯  0   0 0   0   0\n",
              "86730 youngda02 2022   1     SEA    AL     2   0  0   0  0  ⋯  0   0 0   0   0\n",
              "86731 youngda02 2022   2     ATL    NL     1   0  0   0  0  ⋯  0   0 0   0   0\n",
              "86732 youngja02 2022   1     CHN    NL     6  19  2   5  2  ⋯  0   1 0   3   7\n",
              "86733 zabalan01 2022   1     MIA    NL     2   0  0   0  0  ⋯  0   0 0   0   0\n",
              "86734 zastrro01 2022   1     NYN    NL     1   0  0   0  0  ⋯  0   0 0   0   0\n",
              "86735 zastrro01 2022   2     LAA    AL     5   0  0   0  0  ⋯  0   0 0   0   0\n",
              "86736 zavalse01 2022   1     CHA    AL    61 178 22  48 14  ⋯ 21   0 0  19  64\n",
              "86737 zerpaan01 2022   1     KCA    AL     3   0  0   0  0  ⋯  0   0 0   0   0\n",
              "86738 zeuchtj01 2022   1     CIN    NL     3   0  0   0  0  ⋯  0   0 0   0   0\n",
              "86739 zimmebr01 2022   1     TOR    AL    77  76 11   8  4  ⋯  3   2 1   5  33\n",
              "86740 zimmebr01 2022   2     PHI    NL     9  16  4   4  1  ⋯  0   0 0   0   4\n",
              "86741 zimmebr01 2022   3     TOR    AL    23  13  3   1  0  ⋯  2   1 1   0   8\n",
              "86742 zimmebr02 2022   1     BAL    AL    15   0  0   0  0  ⋯  0   0 0   0   0\n",
              "86743 zuninmi01 2022   1     TBA    AL    36 115  7  17  3  ⋯ 16   0 0   6  46\n",
              "      IBB HBP SH SF GIDP\n",
              "1     NA  NA  NA NA 0   \n",
              "2     NA  NA  NA NA 0   \n",
              "3     NA  NA  NA NA 1   \n",
              "4     NA  NA  NA NA 0   \n",
              "5     NA  NA  NA NA 0   \n",
              "6     NA  NA  NA NA 0   \n",
              "7     NA  NA  NA NA 0   \n",
              "8     NA  NA  NA NA 1   \n",
              "9     NA  NA  NA NA 0   \n",
              "10    NA  NA  NA NA 0   \n",
              "11    NA  NA  NA NA 0   \n",
              "12    NA  NA  NA NA 0   \n",
              "13    NA  NA  NA NA 2   \n",
              "14    NA  NA  NA NA 0   \n",
              "15    NA  NA  NA NA 1   \n",
              "16    NA  NA  NA NA 2   \n",
              "17    NA  NA  NA NA 0   \n",
              "18    NA  NA  NA NA 0   \n",
              "19    NA  NA  NA NA 0   \n",
              "20    NA  NA  NA NA 0   \n",
              "21    NA  NA  NA NA 3   \n",
              "22    NA  NA  NA NA 1   \n",
              "23    NA  NA  NA NA 1   \n",
              "24    NA  NA  NA NA 0   \n",
              "25    NA  NA  NA NA 0   \n",
              "26    NA  NA  NA NA 0   \n",
              "27    NA  NA  NA NA 3   \n",
              "28    NA  NA  NA NA 1   \n",
              "29    NA  NA  NA NA 0   \n",
              "30    NA  NA  NA NA 3   \n",
              "⋮     ⋮   ⋮   ⋮  ⋮  ⋮   \n",
              "86714 0   0   0  0  0   \n",
              "86715 0   0   0  0  0   \n",
              "86716 0   0   0  0  0   \n",
              "86717 0   0   0  0  0   \n",
              "86718 0   3   1  1  9   \n",
              "86719 0   0   0  0  0   \n",
              "86720 0   0   0  0  0   \n",
              "86721 0   0   0  0  0   \n",
              "86722 0   0   0  0  0   \n",
              "86723 0   5   1  6  3   \n",
              "86724 0   0   0  0  0   \n",
              "86725 5   5   1  2  9   \n",
              "86726 0   1   0  4  6   \n",
              "86727 0   0   0  0  0   \n",
              "86728 0   0   0  0  0   \n",
              "86729 0   0   0  0  0   \n",
              "86730 0   0   0  0  0   \n",
              "86731 0   0   0  0  0   \n",
              "86732 0   0   0  0  0   \n",
              "86733 0   0   0  0  0   \n",
              "86734 0   0   0  0  0   \n",
              "86735 0   0   0  0  0   \n",
              "86736 0   3   3  2  1   \n",
              "86737 0   0   0  0  0   \n",
              "86738 0   0   0  0  0   \n",
              "86739 0   5   1  0  0   \n",
              "86740 0   0   0  0  0   \n",
              "86741 0   1   0  0  0   \n",
              "86742 0   0   0  0  0   \n",
              "86743 0   1   0  1  2   "
            ]
          },
          "metadata": {}
        }
      ],
      "source": [
        "Batting %>%\n",
        "    anti_join(Salaries)\n",
        "\n",
        "# Equivalently:\n",
        "# anti_join(Batting, Salaries)"
      ]
    },
    {
      "cell_type": "markdown",
      "id": "9a4cc2bb",
      "metadata": {
        "id": "9a4cc2bb"
      },
      "source": [
        "Similar to the semi-join from above, we get a data frame with the same 22 columns as `Batting`. However, the anti-join table has 86,743 rows. This means that 86,743 rows in `Batting` have no matching key in `Salaries`, and the remaining 25,441 rows in `Batting` have at least one matching key in `Salaries`."
      ]
    },
    {
      "cell_type": "markdown",
      "id": "35586de6",
      "metadata": {
        "id": "35586de6"
      },
      "source": [
        "### Exercise 1\n",
        "\n",
        "**`Batting` contains single-season batting statistics for individual batters. `Salaries` contains single-season salary information for individual players. `People` contains demographic information about individual players, including their name and where they are from.**\n",
        "\n",
        "**Using the information in these three data frames, create a scatterplot where the x-axis is `salary` and the y-axis is `HR` (home runs). Include only data from the 1998 season for batters who played at least 100 games (`G >= 100`) and who were born in either the United States (USA) or the Dominican Republic (D.R.).**\n",
        "\n",
        "**BONUS: There are only four players in this scatterplot who hit at least 40 home runs and made at least \\$7,500,000 in 1998. Can you find their first and last names?**"
      ]
    },
    {
      "cell_type": "code",
      "source": [
        "### YOUR SOLUTION HERE\n"
      ],
      "metadata": {
        "id": "_nul7EO98lDc"
      },
      "id": "_nul7EO98lDc",
      "execution_count": null,
      "outputs": []
    },
    {
      "cell_type": "markdown",
      "id": "7df8ce7f",
      "metadata": {
        "id": "7df8ce7f"
      },
      "source": [
        "### Exercise 2\n",
        "\n",
        "**At the end of every baseball season, Gold Glove awards are handed out to the best defensive players at each position. This information, along with other awards data, is stored in the `AwardsPlayers` data frame. The following code creates a tibble of the `playerID`s of players who have won a Gold Glove since 1950:**"
      ]
    },
    {
      "cell_type": "code",
      "execution_count": null,
      "id": "32349135",
      "metadata": {
        "id": "32349135"
      },
      "outputs": [],
      "source": [
        "gold_gloves <- AwardsPlayers %>%\n",
        "                filter(awardID == \"Gold Glove\", yearID >= 1950) %>%\n",
        "                select(playerID)"
      ]
    },
    {
      "cell_type": "markdown",
      "id": "24580056",
      "metadata": {
        "id": "24580056"
      },
      "source": [
        "**The `People` data frame contains demographic information about individual players, including their birth months. Filter `People` to only players who have won a Gold Glove award. What is the most common birth month of these Gold Glove winners? The least common?**\n",
        "\n",
        "**BONUS: Filter `People` to only players who have *not* won a Gold Glove award. What is the most common birth month of these non-Gold Glove winners? The least common?**"
      ]
    },
    {
      "cell_type": "code",
      "source": [
        "### YOUR SOLUTION HERE\n"
      ],
      "metadata": {
        "id": "vhaBWNQa8wxK"
      },
      "id": "vhaBWNQa8wxK",
      "execution_count": null,
      "outputs": []
    },
    {
      "cell_type": "markdown",
      "id": "8f479db8",
      "metadata": {
        "id": "8f479db8"
      },
      "source": [
        "# Databases\n",
        "\n",
        "This section of the lab is largely based on [Chapter 22 of R4DS](https://r4ds.hadley.nz/databases.html). This chapter is a great resource if you would like to learn more about Databases!"
      ]
    },
    {
      "cell_type": "markdown",
      "id": "da29220d",
      "metadata": {
        "id": "da29220d"
      },
      "source": [
        "#### What is a Database?\n",
        "\n",
        "- A *Database* contains a collection of data frames (called *tables* in database terminology).\n",
        "- Much more memory efficient than a CSV file, and are used for large ammounts of data.\n",
        "- Databases are saved on hard disk rather than RAM.\n",
        "\n",
        "#### Why should we care?\n",
        "\n",
        "- Most companies store data in databases because its cheaper and more memory efficient than alternatives."
      ]
    },
    {
      "cell_type": "markdown",
      "id": "f42716c9",
      "metadata": {
        "id": "f42716c9"
      },
      "source": [
        "#### Types of Databases\n",
        "\n",
        "- There are several types of databases including, and several different ways that one may interact with a database.\n",
        "- Popular Data Base Managing Systems (DBMS) include **PostgreSQL**, **SQL Server** and **SQLite**.\n",
        "- Most DBMS use aa variation of SQL (Structured Query Language).\n",
        "\n",
        "\n"
      ]
    },
    {
      "cell_type": "markdown",
      "id": "8253d1f5",
      "metadata": {
        "id": "8253d1f5"
      },
      "source": [
        "For this lab, we will be using the DBMS called **RSQLite**, because this won't require any additional installations (other than `R` packages)."
      ]
    },
    {
      "cell_type": "markdown",
      "id": "bc9c6ca5",
      "metadata": {
        "id": "bc9c6ca5"
      },
      "source": [
        "#### Packages to install, if needed"
      ]
    },
    {
      "cell_type": "code",
      "execution_count": null,
      "id": "b6750735",
      "metadata": {
        "id": "b6750735",
        "outputId": "6d585a18-f508-40fc-91f3-27111a5b62c1",
        "colab": {
          "base_uri": "https://localhost:8080/"
        }
      },
      "outputs": [
        {
          "output_type": "stream",
          "name": "stderr",
          "text": [
            "\n",
            "Attaching package: ‘dbplyr’\n",
            "\n",
            "\n",
            "The following objects are masked from ‘package:dplyr’:\n",
            "\n",
            "    ident, sql\n",
            "\n",
            "\n"
          ]
        }
      ],
      "source": [
        "library(DBI)  # To connect to a DB\n",
        "library(dbplyr)  # To perform dplyr like operations on a DB."
      ]
    },
    {
      "cell_type": "markdown",
      "id": "dc20608d",
      "metadata": {
        "id": "dc20608d"
      },
      "source": [
        "### Connecting to a database\n",
        "\n",
        "A database will often exist on your local computer or on a server that you have access to. In order to do anything with this data, we first have to **connect** with the database.\n",
        "\n",
        "The code below demonstrates how you might create a connection to a database using some popular DBMS:\n",
        "\n",
        "```\n",
        "con <- DBI::dbConnect(\n",
        "  RMariaDB::MariaDB(),\n",
        "  username = \"foo\"\n",
        ")\n",
        "con <- DBI::dbConnect(\n",
        "  RPostgres::Postgres(),\n",
        "  hostname = \"databases.mycompany.com\",\n",
        "  port = 1234\n",
        ")\n",
        "```\n",
        "\n",
        "The first argument is the DBMS that will be used, the following arguments are important features that you might need in order to connect to the database (i.e., username, password, location, etc.).\n",
        "\n",
        "**Note:** The details on how to establish a connection will change a lot from DBMS to DBMS, so you may need to do some research on how to connect to a database with your specific DBMS.\n",
        "\n",
        "\n",
        "\n",
        "**For this lab**, we are going to create a database using `RSQLite`."
      ]
    },
    {
      "cell_type": "code",
      "execution_count": null,
      "id": "9afac3c7",
      "metadata": {
        "id": "9afac3c7",
        "outputId": "66271d20-e730-495f-be14-9f9a4ae4000f",
        "colab": {
          "base_uri": "https://localhost:8080/"
        }
      },
      "outputs": [
        {
          "output_type": "stream",
          "name": "stderr",
          "text": [
            "Creating table: airlines\n",
            "\n",
            "Creating table: airports\n",
            "\n",
            "Creating table: flights\n",
            "\n",
            "Creating table: planes\n",
            "\n",
            "Creating table: weather\n",
            "\n"
          ]
        }
      ],
      "source": [
        "con <- DBI::dbConnect(RSQLite::SQLite())  # Connect to a new, temporary db using RSQLite\n",
        "# con <- DBI::dbConnect(RSQLite::SQLite(), \"my_db.sqlite\")  # this version would create a new DB that isn't temporary\n",
        "\n",
        "dbplyr::copy_nycflights13(con)  # Copy all of the nycflights data into our temporary data base\n",
        "dbWriteTable(con, \"iris\", iris)  # Copy iris dataset into database\n",
        "dbWriteTable(con, \"diamonds\", ggplot2::diamonds)  # Copy diamonds dataset into the database"
      ]
    },
    {
      "cell_type": "markdown",
      "id": "e2639379",
      "metadata": {
        "id": "e2639379"
      },
      "source": [
        "Once we have created our database, we can check what tables are present in the database:"
      ]
    },
    {
      "cell_type": "code",
      "execution_count": null,
      "id": "2f1e2f6d",
      "metadata": {
        "id": "2f1e2f6d",
        "outputId": "7fc0319e-5e50-41ca-cf9a-70f9688aab38",
        "colab": {
          "base_uri": "https://localhost:8080/",
          "height": 34
        }
      },
      "outputs": [
        {
          "output_type": "display_data",
          "data": {
            "text/html": [
              "<style>\n",
              ".list-inline {list-style: none; margin:0; padding: 0}\n",
              ".list-inline>li {display: inline-block}\n",
              ".list-inline>li:not(:last-child)::after {content: \"\\00b7\"; padding: 0 .5ex}\n",
              "</style>\n",
              "<ol class=list-inline><li>'airlines'</li><li>'airports'</li><li>'diamonds'</li><li>'flights'</li><li>'iris'</li><li>'planes'</li><li>'sqlite_stat1'</li><li>'sqlite_stat4'</li><li>'weather'</li></ol>\n"
            ],
            "text/markdown": "1. 'airlines'\n2. 'airports'\n3. 'diamonds'\n4. 'flights'\n5. 'iris'\n6. 'planes'\n7. 'sqlite_stat1'\n8. 'sqlite_stat4'\n9. 'weather'\n\n\n",
            "text/latex": "\\begin{enumerate*}\n\\item 'airlines'\n\\item 'airports'\n\\item 'diamonds'\n\\item 'flights'\n\\item 'iris'\n\\item 'planes'\n\\item 'sqlite\\_stat1'\n\\item 'sqlite\\_stat4'\n\\item 'weather'\n\\end{enumerate*}\n",
            "text/plain": [
              "[1] \"airlines\"     \"airports\"     \"diamonds\"     \"flights\"      \"iris\"        \n",
              "[6] \"planes\"       \"sqlite_stat1\" \"sqlite_stat4\" \"weather\"     "
            ]
          },
          "metadata": {}
        }
      ],
      "source": [
        "dbListTables(con)"
      ]
    },
    {
      "cell_type": "markdown",
      "id": "2b341306",
      "metadata": {
        "id": "2b341306"
      },
      "source": [
        "While `RSQLite` enables us to do several operations on a data base, we as data scientists and statisticians are particularly interested in retrieving information from the database. This is done by using a `SELECT` statement in the SQL language, and is referred to as a **query**."
      ]
    },
    {
      "cell_type": "code",
      "execution_count": null,
      "id": "1413d0e1",
      "metadata": {
        "id": "1413d0e1",
        "outputId": "de043a11-af73-4a2d-eee3-87a6d580aa6e",
        "colab": {
          "base_uri": "https://localhost:8080/",
          "height": 286
        }
      },
      "outputs": [
        {
          "output_type": "display_data",
          "data": {
            "text/html": [
              "<table class=\"dataframe\">\n",
              "<caption>A data.frame: 6 × 3</caption>\n",
              "<thead>\n",
              "\t<tr><th></th><th scope=col>Species</th><th scope=col>Sepal.Length</th><th scope=col>Sepal.Width</th></tr>\n",
              "\t<tr><th></th><th scope=col>&lt;chr&gt;</th><th scope=col>&lt;dbl&gt;</th><th scope=col>&lt;dbl&gt;</th></tr>\n",
              "</thead>\n",
              "<tbody>\n",
              "\t<tr><th scope=row>1</th><td>versicolor</td><td>7.0</td><td>3.2</td></tr>\n",
              "\t<tr><th scope=row>2</th><td>versicolor</td><td>6.4</td><td>3.2</td></tr>\n",
              "\t<tr><th scope=row>3</th><td>versicolor</td><td>6.3</td><td>3.3</td></tr>\n",
              "\t<tr><th scope=row>4</th><td>versicolor</td><td>5.9</td><td>3.2</td></tr>\n",
              "\t<tr><th scope=row>5</th><td>versicolor</td><td>6.0</td><td>3.4</td></tr>\n",
              "\t<tr><th scope=row>6</th><td>virginica </td><td>6.3</td><td>3.3</td></tr>\n",
              "</tbody>\n",
              "</table>\n"
            ],
            "text/markdown": "\nA data.frame: 6 × 3\n\n| <!--/--> | Species &lt;chr&gt; | Sepal.Length &lt;dbl&gt; | Sepal.Width &lt;dbl&gt; |\n|---|---|---|---|\n| 1 | versicolor | 7.0 | 3.2 |\n| 2 | versicolor | 6.4 | 3.2 |\n| 3 | versicolor | 6.3 | 3.3 |\n| 4 | versicolor | 5.9 | 3.2 |\n| 5 | versicolor | 6.0 | 3.4 |\n| 6 | virginica  | 6.3 | 3.3 |\n\n",
            "text/latex": "A data.frame: 6 × 3\n\\begin{tabular}{r|lll}\n  & Species & Sepal.Length & Sepal.Width\\\\\n  & <chr> & <dbl> & <dbl>\\\\\n\\hline\n\t1 & versicolor & 7.0 & 3.2\\\\\n\t2 & versicolor & 6.4 & 3.2\\\\\n\t3 & versicolor & 6.3 & 3.3\\\\\n\t4 & versicolor & 5.9 & 3.2\\\\\n\t5 & versicolor & 6.0 & 3.4\\\\\n\t6 & virginica  & 6.3 & 3.3\\\\\n\\end{tabular}\n",
            "text/plain": [
              "  Species    Sepal.Length Sepal.Width\n",
              "1 versicolor 7.0          3.2        \n",
              "2 versicolor 6.4          3.2        \n",
              "3 versicolor 6.3          3.3        \n",
              "4 versicolor 5.9          3.2        \n",
              "5 versicolor 6.0          3.4        \n",
              "6 virginica  6.3          3.3        "
            ]
          },
          "metadata": {}
        }
      ],
      "source": [
        "SQL_query <- '\n",
        "    SELECT Species, \"Sepal.Length\", \"Sepal.Width\"\n",
        "    FROM iris\n",
        "    WHERE \"Petal.Width\" > 0.8 AND \"Sepal.Width\" > 3.1\n",
        "'\n",
        "\n",
        "query_result <- dbGetQuery(con, SQL_query)\n",
        "head(query_result)"
      ]
    },
    {
      "cell_type": "markdown",
      "id": "975ed6f9",
      "metadata": {
        "id": "975ed6f9"
      },
      "source": [
        "**An SQL query has 3 main components:**\n",
        "- SELECT: the columns from the data.frame (or table) we want to include\n",
        "- FROM: The table we want to query data from\n",
        "- WHERE: any conditions we want to specify\n",
        "\n",
        "Other key words / operations include:\n",
        "- GROUP BY\n",
        "- ORDER BY\n",
        "\n",
        "\n",
        "**Note:** In most DBMS, the keywords are **not** case sensitive, so `select`, `fRoM`, and `WHerE` would all work. It is just standard practice to capatalize all key words to distinguish them from table names or columns. Similarly, sometimes semicolons are used, and are required by some DBMS.\n",
        "\n",
        "Another example:"
      ]
    },
    {
      "cell_type": "code",
      "execution_count": null,
      "id": "9de0d46e",
      "metadata": {
        "id": "9de0d46e",
        "outputId": "83ec2da1-be30-4169-f326-3d7c4abd3bba",
        "colab": {
          "base_uri": "https://localhost:8080/",
          "height": 286
        }
      },
      "outputs": [
        {
          "output_type": "display_data",
          "data": {
            "text/html": [
              "<table class=\"dataframe\">\n",
              "<caption>A data.frame: 6 × 2</caption>\n",
              "<thead>\n",
              "\t<tr><th></th><th scope=col>Species</th><th scope=col>Sepal_Area</th></tr>\n",
              "\t<tr><th></th><th scope=col>&lt;chr&gt;</th><th scope=col>&lt;dbl&gt;</th></tr>\n",
              "</thead>\n",
              "<tbody>\n",
              "\t<tr><th scope=row>1</th><td>versicolor</td><td>22.40</td></tr>\n",
              "\t<tr><th scope=row>2</th><td>versicolor</td><td>20.48</td></tr>\n",
              "\t<tr><th scope=row>3</th><td>versicolor</td><td>20.79</td></tr>\n",
              "\t<tr><th scope=row>4</th><td>versicolor</td><td>18.88</td></tr>\n",
              "\t<tr><th scope=row>5</th><td>versicolor</td><td>20.40</td></tr>\n",
              "\t<tr><th scope=row>6</th><td>virginica </td><td>20.79</td></tr>\n",
              "</tbody>\n",
              "</table>\n"
            ],
            "text/markdown": "\nA data.frame: 6 × 2\n\n| <!--/--> | Species &lt;chr&gt; | Sepal_Area &lt;dbl&gt; |\n|---|---|---|\n| 1 | versicolor | 22.40 |\n| 2 | versicolor | 20.48 |\n| 3 | versicolor | 20.79 |\n| 4 | versicolor | 18.88 |\n| 5 | versicolor | 20.40 |\n| 6 | virginica  | 20.79 |\n\n",
            "text/latex": "A data.frame: 6 × 2\n\\begin{tabular}{r|ll}\n  & Species & Sepal\\_Area\\\\\n  & <chr> & <dbl>\\\\\n\\hline\n\t1 & versicolor & 22.40\\\\\n\t2 & versicolor & 20.48\\\\\n\t3 & versicolor & 20.79\\\\\n\t4 & versicolor & 18.88\\\\\n\t5 & versicolor & 20.40\\\\\n\t6 & virginica  & 20.79\\\\\n\\end{tabular}\n",
            "text/plain": [
              "  Species    Sepal_Area\n",
              "1 versicolor 22.40     \n",
              "2 versicolor 20.48     \n",
              "3 versicolor 20.79     \n",
              "4 versicolor 18.88     \n",
              "5 versicolor 20.40     \n",
              "6 virginica  20.79     "
            ]
          },
          "metadata": {}
        }
      ],
      "source": [
        "SQL_query <- '\n",
        "    SELECT Species, \"Sepal.Length\" * \"Sepal.Width\" AS Sepal_Area\n",
        "    FROM iris\n",
        "    WHERE \"Petal.Width\" > 0.8 AND \"Sepal.Width\" > 3.1\n",
        "'\n",
        "\n",
        "query_result <- dbGetQuery(con, SQL_query)\n",
        "head(query_result)"
      ]
    },
    {
      "cell_type": "markdown",
      "id": "e8fbe3d1",
      "metadata": {
        "id": "e8fbe3d1"
      },
      "source": [
        "In the example above, we see that we can modify column names and columns in the select statement. SQL is a complex language!\n",
        "\n",
        "**Don't panic! You don't need to learn another entire programming language for this course**. Knowing a bit of SQL can be helpful, but the `dbplyr` package will translate and perform standard `dplyr` operations like `select`, `mutate`, and `summarize` for us!\n"
      ]
    },
    {
      "cell_type": "code",
      "execution_count": null,
      "id": "112e89b1",
      "metadata": {
        "id": "112e89b1",
        "outputId": "e371306e-1789-460a-8053-9fcd7f9da1e0",
        "colab": {
          "base_uri": "https://localhost:8080/",
          "height": 196
        }
      },
      "outputs": [
        {
          "output_type": "display_data",
          "data": {
            "text/plain": [
              "\u001b[90m# Source:   SQL [6 x 2]\u001b[39m\n",
              "\u001b[90m# Database: sqlite 3.41.2 []\u001b[39m\n",
              "  color mean_price\n",
              "  \u001b[3m\u001b[90m<chr>\u001b[39m\u001b[23m      \u001b[3m\u001b[90m<dbl>\u001b[39m\u001b[23m\n",
              "\u001b[90m1\u001b[39m D         \u001b[4m1\u001b[24m\u001b[4m6\u001b[24m684.\n",
              "\u001b[90m2\u001b[39m E         \u001b[4m1\u001b[24m\u001b[4m6\u001b[24m715.\n",
              "\u001b[90m3\u001b[39m F         \u001b[4m1\u001b[24m\u001b[4m6\u001b[24m937.\n",
              "\u001b[90m4\u001b[39m G         \u001b[4m1\u001b[24m\u001b[4m6\u001b[24m779.\n",
              "\u001b[90m5\u001b[39m H         \u001b[4m1\u001b[24m\u001b[4m6\u001b[24m990.\n",
              "\u001b[90m6\u001b[39m I         \u001b[4m1\u001b[24m\u001b[4m6\u001b[24m606."
            ]
          },
          "metadata": {}
        }
      ],
      "source": [
        "large_diamonds <- tbl(con, \"diamonds\") %>%\n",
        "   filter(price > 15000) %>%\n",
        "   select(carat:clarity, price) %>%\n",
        "   group_by(color) %>%\n",
        "   summarize(mean_price = mean(price, na.rm = TRUE))\n",
        "\n",
        "head(large_diamonds)"
      ]
    },
    {
      "cell_type": "markdown",
      "id": "b055b315",
      "metadata": {
        "id": "b055b315"
      },
      "source": [
        "While this executes the query for us, we can also see what query was used by running the `show_query()` function:"
      ]
    },
    {
      "cell_type": "code",
      "execution_count": null,
      "id": "6977f05f",
      "metadata": {
        "id": "6977f05f",
        "outputId": "63200635-3358-4562-84ce-85d2dca6e7ad",
        "colab": {
          "base_uri": "https://localhost:8080/"
        }
      },
      "outputs": [
        {
          "output_type": "stream",
          "name": "stdout",
          "text": [
            "<SQL>\n",
            "\u001b[34mSELECT\u001b[39m `color`, AVG(`price`)\u001b[34m AS \u001b[39m`mean_price`\n",
            "\u001b[34mFROM\u001b[39m (\n",
            "  \u001b[34mSELECT\u001b[39m `carat`, `cut`, `color`, `clarity`, `price`\n",
            "  \u001b[34mFROM\u001b[39m `diamonds`\n",
            "  \u001b[34mWHERE\u001b[39m (`price` > 15000.0)\n",
            ")\n",
            "\u001b[34mGROUP BY\u001b[39m `color`\n"
          ]
        }
      ],
      "source": [
        "large_diamonds %>% show_query()"
      ]
    },
    {
      "cell_type": "markdown",
      "id": "24c70d9d",
      "metadata": {
        "id": "24c70d9d"
      },
      "source": [
        "In the resulting SQL query, we are using what is called a *sub query*. That is, we are selecting columns `color` and `AVG(price)` from the result of another SQL query!"
      ]
    },
    {
      "cell_type": "markdown",
      "id": "f198caf6",
      "metadata": {
        "id": "f198caf6"
      },
      "source": [
        "Let's check the class of the `large_diamonds` object:"
      ]
    },
    {
      "cell_type": "code",
      "execution_count": null,
      "id": "cea97ae4",
      "metadata": {
        "id": "cea97ae4",
        "outputId": "da5cbf85-f692-4a5f-f5fc-869ba22bd6ec",
        "colab": {
          "base_uri": "https://localhost:8080/",
          "height": 34
        }
      },
      "outputs": [
        {
          "output_type": "display_data",
          "data": {
            "text/html": [
              "<style>\n",
              ".list-inline {list-style: none; margin:0; padding: 0}\n",
              ".list-inline>li {display: inline-block}\n",
              ".list-inline>li:not(:last-child)::after {content: \"\\00b7\"; padding: 0 .5ex}\n",
              "</style>\n",
              "<ol class=list-inline><li>'tbl_SQLiteConnection'</li><li>'tbl_dbi'</li><li>'tbl_sql'</li><li>'tbl_lazy'</li><li>'tbl'</li></ol>\n"
            ],
            "text/markdown": "1. 'tbl_SQLiteConnection'\n2. 'tbl_dbi'\n3. 'tbl_sql'\n4. 'tbl_lazy'\n5. 'tbl'\n\n\n",
            "text/latex": "\\begin{enumerate*}\n\\item 'tbl\\_SQLiteConnection'\n\\item 'tbl\\_dbi'\n\\item 'tbl\\_sql'\n\\item 'tbl\\_lazy'\n\\item 'tbl'\n\\end{enumerate*}\n",
            "text/plain": [
              "[1] \"tbl_SQLiteConnection\" \"tbl_dbi\"              \"tbl_sql\"             \n",
              "[4] \"tbl_lazy\"             \"tbl\"                 "
            ]
          },
          "metadata": {}
        }
      ],
      "source": [
        "class(large_diamonds)"
      ]
    },
    {
      "cell_type": "markdown",
      "id": "934b1906",
      "metadata": {
        "id": "934b1906"
      },
      "source": [
        "Notice that this object is still an SQL connection, not just a `data.frame` or `tbl`. Therefore if this is the data we want to work with, we should use the `collect()` function to convert it into just a `tbl`:"
      ]
    },
    {
      "cell_type": "code",
      "execution_count": null,
      "id": "29df1e8a",
      "metadata": {
        "id": "29df1e8a",
        "outputId": "1305b67d-5f9e-4470-ddd4-88f53f976239",
        "colab": {
          "base_uri": "https://localhost:8080/",
          "height": 318
        }
      },
      "outputs": [
        {
          "output_type": "display_data",
          "data": {
            "text/html": [
              "<table class=\"dataframe\">\n",
              "<caption>A tibble: 7 × 2</caption>\n",
              "<thead>\n",
              "\t<tr><th scope=col>color</th><th scope=col>mean_price</th></tr>\n",
              "\t<tr><th scope=col>&lt;chr&gt;</th><th scope=col>&lt;dbl&gt;</th></tr>\n",
              "</thead>\n",
              "<tbody>\n",
              "\t<tr><td>D</td><td>16683.58</td></tr>\n",
              "\t<tr><td>E</td><td>16715.44</td></tr>\n",
              "\t<tr><td>F</td><td>16937.06</td></tr>\n",
              "\t<tr><td>G</td><td>16779.08</td></tr>\n",
              "\t<tr><td>H</td><td>16989.91</td></tr>\n",
              "\t<tr><td>I</td><td>16606.42</td></tr>\n",
              "\t<tr><td>J</td><td>16692.74</td></tr>\n",
              "</tbody>\n",
              "</table>\n"
            ],
            "text/markdown": "\nA tibble: 7 × 2\n\n| color &lt;chr&gt; | mean_price &lt;dbl&gt; |\n|---|---|\n| D | 16683.58 |\n| E | 16715.44 |\n| F | 16937.06 |\n| G | 16779.08 |\n| H | 16989.91 |\n| I | 16606.42 |\n| J | 16692.74 |\n\n",
            "text/latex": "A tibble: 7 × 2\n\\begin{tabular}{ll}\n color & mean\\_price\\\\\n <chr> & <dbl>\\\\\n\\hline\n\t D & 16683.58\\\\\n\t E & 16715.44\\\\\n\t F & 16937.06\\\\\n\t G & 16779.08\\\\\n\t H & 16989.91\\\\\n\t I & 16606.42\\\\\n\t J & 16692.74\\\\\n\\end{tabular}\n",
            "text/plain": [
              "  color mean_price\n",
              "1 D     16683.58  \n",
              "2 E     16715.44  \n",
              "3 F     16937.06  \n",
              "4 G     16779.08  \n",
              "5 H     16989.91  \n",
              "6 I     16606.42  \n",
              "7 J     16692.74  "
            ]
          },
          "metadata": {}
        }
      ],
      "source": [
        "large_diamonds %>% collect()"
      ]
    },
    {
      "cell_type": "markdown",
      "id": "3a3b60f8",
      "metadata": {
        "id": "3a3b60f8"
      },
      "source": [
        "### Exercise 3\n",
        "\n",
        "**Using an SQL query, return a dataset containing all columns from the `flights` dataset and keep only flights from the `JFK` airport that occured in December.**\n",
        "\n",
        "**Hint: Like other programing languages, we can use `*` as a *wild card* selector to get all columns from a dataset.**\n",
        "\n",
        "\n",
        "**BONUS: Try using the ORDER BY key word to arrange the results by descending `day`**"
      ]
    },
    {
      "cell_type": "code",
      "source": [
        "### YOUR SOLUTION HERE\n"
      ],
      "metadata": {
        "id": "n2aPuYhj8zyY"
      },
      "id": "n2aPuYhj8zyY",
      "execution_count": null,
      "outputs": []
    },
    {
      "cell_type": "markdown",
      "id": "74eb3ccb",
      "metadata": {
        "id": "74eb3ccb"
      },
      "source": [
        "### Exercise 4\n",
        "\n",
        "**Use an SQL query (or `dbplyr`) to find the total number of flights and the average delay on Christmas eve or Christmas day for each airline. Display the results in order of mean delay, and then if there is a tie sort by the number of flights; only display the information for airlines that had at least 50 flights.**"
      ]
    },
    {
      "cell_type": "code",
      "source": [
        "### YOUR SOLUTION HERE\n"
      ],
      "metadata": {
        "id": "fNnNrc7Y804t"
      },
      "id": "fNnNrc7Y804t",
      "execution_count": null,
      "outputs": []
    },
    {
      "cell_type": "markdown",
      "id": "bc63a111",
      "metadata": {
        "id": "bc63a111"
      },
      "source": [
        "### IMPORTANT! Always close your connection to the DB!"
      ]
    },
    {
      "cell_type": "code",
      "execution_count": null,
      "id": "bed497ac",
      "metadata": {
        "id": "bed497ac"
      },
      "outputs": [],
      "source": [
        "dbDisconnect(con)"
      ]
    }
  ],
  "metadata": {
    "kernelspec": {
      "display_name": "R",
      "language": "R",
      "name": "ir"
    },
    "language_info": {
      "codemirror_mode": "r",
      "file_extension": ".r",
      "mimetype": "text/x-r-source",
      "name": "R",
      "pygments_lexer": "r",
      "version": "4.2.2"
    },
    "colab": {
      "provenance": []
    }
  },
  "nbformat": 4,
  "nbformat_minor": 5
}