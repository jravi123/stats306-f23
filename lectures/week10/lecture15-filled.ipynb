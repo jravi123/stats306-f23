{
  "cells": [
    {
      "cell_type": "code",
      "execution_count": 2,
      "metadata": {
        "id": "bnsaavwTaqDK",
        "outputId": "7861c680-6f3c-4bec-c8f0-7d41601a63e4",
        "colab": {
          "base_uri": "https://localhost:8080/"
        }
      },
      "outputs": [
        {
          "output_type": "stream",
          "name": "stderr",
          "text": [
            "── \u001b[1mAttaching core tidyverse packages\u001b[22m ──────────────────────── tidyverse 2.0.0 ──\n",
            "\u001b[32m✔\u001b[39m \u001b[34mdplyr    \u001b[39m 1.1.3     \u001b[32m✔\u001b[39m \u001b[34mreadr    \u001b[39m 2.1.4\n",
            "\u001b[32m✔\u001b[39m \u001b[34mforcats  \u001b[39m 1.0.0     \u001b[32m✔\u001b[39m \u001b[34mstringr  \u001b[39m 1.5.0\n",
            "\u001b[32m✔\u001b[39m \u001b[34mggplot2  \u001b[39m 3.4.4     \u001b[32m✔\u001b[39m \u001b[34mtibble   \u001b[39m 3.2.1\n",
            "\u001b[32m✔\u001b[39m \u001b[34mlubridate\u001b[39m 1.9.3     \u001b[32m✔\u001b[39m \u001b[34mtidyr    \u001b[39m 1.3.0\n",
            "\u001b[32m✔\u001b[39m \u001b[34mpurrr    \u001b[39m 1.0.2     \n",
            "── \u001b[1mConflicts\u001b[22m ────────────────────────────────────────── tidyverse_conflicts() ──\n",
            "\u001b[31m✖\u001b[39m \u001b[34mdplyr\u001b[39m::\u001b[32mfilter()\u001b[39m masks \u001b[34mstats\u001b[39m::filter()\n",
            "\u001b[31m✖\u001b[39m \u001b[34mdplyr\u001b[39m::\u001b[32mlag()\u001b[39m    masks \u001b[34mstats\u001b[39m::lag()\n",
            "\u001b[36mℹ\u001b[39m Use the conflicted package (\u001b[3m\u001b[34m<http://conflicted.r-lib.org/>\u001b[39m\u001b[23m) to force all conflicts to become errors\n"
          ]
        }
      ],
      "source": [
        "library(tidyverse)\n",
        "library(lubridate)"
      ]
    },
    {
      "cell_type": "markdown",
      "metadata": {
        "id": "LiyVI7BaaqDR"
      },
      "source": [
        "# Lecture 15: Factors"
      ]
    },
    {
      "cell_type": "markdown",
      "metadata": {
        "id": "-C6gItwXaqDV"
      },
      "source": [
        "In this lecture we will use the [General Social Survey](https://gss.norc.org) to study various social indicators in the U.S. The book covers an example extract of this dataset called `gss_cat`. However, it is not up to date; in particular it does not include any data from people who were born after the year 2000 (i.e. almost everyone in this room except the instructor). So to make it more relevant, we are going to load a more recent version of the data."
      ]
    },
    {
      "cell_type": "code",
      "execution_count": 3,
      "metadata": {
        "id": "yQQR7HlbaqDV"
      },
      "outputs": [],
      "source": [
        "load(url('https://datasets.stats306.org/gss18.RData'))"
      ]
    },
    {
      "cell_type": "markdown",
      "metadata": {
        "id": "zyoWwHK6aqDW"
      },
      "source": [
        "This command has loaded two tables into your workspace: `gss18.raw` contains the raw data, and `gss18.doc` contains\n",
        "information about what each column in `gss18.raw` represents:"
      ]
    },
    {
      "cell_type": "code",
      "execution_count": null,
      "metadata": {
        "id": "vskjw6pwaqDW",
        "outputId": "c0bbbd71-de8b-4509-95b1-aad1f2d4c097"
      },
      "outputs": [
        {
          "name": "stdout",
          "output_type": "stream",
          "text": [
            "\u001b[90m# A tibble: 2,348 × 14\u001b[39m\n",
            "     age  race   sex relig relpast sexbirth sexnow yearsusa unhappy  educ income\n",
            "   \u001b[3m\u001b[90m<int>\u001b[39m\u001b[23m \u001b[3m\u001b[90m<int>\u001b[39m\u001b[23m \u001b[3m\u001b[90m<int>\u001b[39m\u001b[23m \u001b[3m\u001b[90m<int>\u001b[39m\u001b[23m   \u001b[3m\u001b[90m<int>\u001b[39m\u001b[23m    \u001b[3m\u001b[90m<int>\u001b[39m\u001b[23m  \u001b[3m\u001b[90m<int>\u001b[39m\u001b[23m    \u001b[3m\u001b[90m<int>\u001b[39m\u001b[23m   \u001b[3m\u001b[90m<int>\u001b[39m\u001b[23m \u001b[3m\u001b[90m<int>\u001b[39m\u001b[23m  \u001b[3m\u001b[90m<int>\u001b[39m\u001b[23m\n",
            "\u001b[90m 1\u001b[39m    43     1     1    11       5       \u001b[31mNA\u001b[39m     \u001b[31mNA\u001b[39m       \u001b[31mNA\u001b[39m      \u001b[31mNA\u001b[39m    14     \u001b[31mNA\u001b[39m\n",
            "\u001b[90m 2\u001b[39m    74     1     2     2      \u001b[31mNA\u001b[39m        1      1       \u001b[31mNA\u001b[39m       1    10     12\n",
            "\u001b[90m 3\u001b[39m    42     1     1     4       3        2      2       \u001b[31mNA\u001b[39m      \u001b[31mNA\u001b[39m    16     12\n",
            "\u001b[90m 4\u001b[39m    63     1     2     1      \u001b[31mNA\u001b[39m        1      1       \u001b[31mNA\u001b[39m       2    16     \u001b[31mNA\u001b[39m\n",
            "\u001b[90m 5\u001b[39m    71     2     1     2      \u001b[31mNA\u001b[39m        2      2       \u001b[31mNA\u001b[39m       1    18     \u001b[31mNA\u001b[39m\n",
            "\u001b[90m 6\u001b[39m    67     1     2     2       4       \u001b[31mNA\u001b[39m     \u001b[31mNA\u001b[39m       \u001b[31mNA\u001b[39m      \u001b[31mNA\u001b[39m    16     \u001b[31mNA\u001b[39m\n",
            "\u001b[90m 7\u001b[39m    59     2     2     1      \u001b[31mNA\u001b[39m       \u001b[31mNA\u001b[39m     \u001b[31mNA\u001b[39m       \u001b[31mNA\u001b[39m       2    13     10\n",
            "\u001b[90m 8\u001b[39m    43     1     1     2      \u001b[31mNA\u001b[39m        2      2       \u001b[31mNA\u001b[39m       2    12     12\n",
            "\u001b[90m 9\u001b[39m    62     1     2     4       4        1      1       \u001b[31mNA\u001b[39m      \u001b[31mNA\u001b[39m     8      5\n",
            "\u001b[90m10\u001b[39m    55     1     1     1      \u001b[31mNA\u001b[39m        2      2       \u001b[31mNA\u001b[39m       4    12     12\n",
            "   phone tvhours partyid\n",
            "   \u001b[3m\u001b[90m<int>\u001b[39m\u001b[23m   \u001b[3m\u001b[90m<int>\u001b[39m\u001b[23m   \u001b[3m\u001b[90m<int>\u001b[39m\u001b[23m\n",
            "\u001b[90m 1\u001b[39m     6       3       5\n",
            "\u001b[90m 2\u001b[39m     3      \u001b[31mNA\u001b[39m       2\n",
            "\u001b[90m 3\u001b[39m     3       1       4\n",
            "\u001b[90m 4\u001b[39m     3       1       2\n",
            "\u001b[90m 5\u001b[39m     3      \u001b[31mNA\u001b[39m       6\n",
            "\u001b[90m 6\u001b[39m     3      10       2\n",
            "\u001b[90m 7\u001b[39m     6      \u001b[31mNA\u001b[39m       0\n",
            "\u001b[90m 8\u001b[39m     6      \u001b[31mNA\u001b[39m       5\n",
            "\u001b[90m 9\u001b[39m     6       4       3\n",
            "\u001b[90m10\u001b[39m     3       2       1\n",
            "\u001b[90m# ℹ 2,338 more rows\u001b[39m\n"
          ]
        }
      ],
      "source": [
        "gss18.raw %>% print(width = Inf)"
      ]
    },
    {
      "cell_type": "code",
      "execution_count": null,
      "metadata": {
        "id": "hXm0wZczQS0b",
        "outputId": "9ff22900-f5f0-4b85-a376-8946849d7846"
      },
      "outputs": [
        {
          "name": "stdout",
          "output_type": "stream",
          "text": [
            "\u001b[90m# A tibble: 14 × 5\u001b[39m\n",
            "   id       description                               properties marginals text \n",
            "   \u001b[3m\u001b[90m<chr>\u001b[39m\u001b[23m    \u001b[3m\u001b[90m<chr>\u001b[39m\u001b[23m                                     \u001b[3m\u001b[90m<list>\u001b[39m\u001b[23m     \u001b[3m\u001b[90m<list>\u001b[39m\u001b[23m    \u001b[3m\u001b[90m<chr>\u001b[39m\u001b[23m\n",
            "\u001b[90m 1\u001b[39m age      Age of respondent                         \u001b[90m<tibble>\u001b[39m   \u001b[90m<tibble>\u001b[39m  13. …\n",
            "\u001b[90m 2\u001b[39m sex      Respondents sex                           \u001b[90m<tibble>\u001b[39m   \u001b[90m<tibble>\u001b[39m  23. …\n",
            "\u001b[90m 3\u001b[39m race     Race of respondent                        \u001b[90m<tibble>\u001b[39m   \u001b[90m<tibble>\u001b[39m  24. …\n",
            "\u001b[90m 4\u001b[39m educ     Highest year of school completed          \u001b[90m<tibble>\u001b[39m   \u001b[90m<tibble>\u001b[39m  15. …\n",
            "\u001b[90m 5\u001b[39m income   Total family income                       \u001b[90m<tibble>\u001b[39m   \u001b[90m<tibble>\u001b[39m  37. …\n",
            "\u001b[90m 6\u001b[39m partyid  Political party affiliation               \u001b[90m<tibble>\u001b[39m   \u001b[90m<tibble>\u001b[39m  56. …\n",
            "\u001b[90m 7\u001b[39m relig    R's religious preference                  \u001b[90m<tibble>\u001b[39m   \u001b[90m<tibble>\u001b[39m  104.…\n",
            "\u001b[90m 8\u001b[39m tvhours  Hours per day watching TV                 \u001b[90m<tibble>\u001b[39m   \u001b[90m<tibble>\u001b[39m  242.…\n",
            "\u001b[90m 9\u001b[39m phone    Does R have telephone                     \u001b[90m<tibble>\u001b[39m   \u001b[90m<tibble>\u001b[39m  243.…\n",
            "\u001b[90m10\u001b[39m unhappy  How often R was unhappy or depressed in … \u001b[90m<tibble>\u001b[39m   \u001b[90m<tibble>\u001b[39m  None \n",
            "\u001b[90m11\u001b[39m relpast  In America, religion represents the past… \u001b[90m<tibble>\u001b[39m   \u001b[90m<tibble>\u001b[39m  None \n",
            "\u001b[90m12\u001b[39m sexbirth What sex were you assigned at birth?  (F… \u001b[90m<tibble>\u001b[39m   \u001b[90m<tibble>\u001b[39m  None \n",
            "\u001b[90m13\u001b[39m sexnow   What is your current gender?              \u001b[90m<tibble>\u001b[39m   \u001b[90m<tibble>\u001b[39m  None \n",
            "\u001b[90m14\u001b[39m yearsusa LIVED IN U.S., YEARS:                     \u001b[90m<tibble>\u001b[39m   \u001b[90m<tibble>\u001b[39m  None \n"
          ]
        }
      ],
      "source": [
        "gss18.doc %>% print"
      ]
    },
    {
      "cell_type": "markdown",
      "metadata": {
        "id": "8lloROf4aqDX"
      },
      "source": [
        "## Factors\n",
        "Except for `age` and `tvhours`, each of the columns in `gss18.raw` is a categorical random variable. (Recall that a random variable is *categorical* if it takes on one of a (small) number of discrete values.) In R we represent categorical variables using *factors*."
      ]
    },
    {
      "cell_type": "markdown",
      "metadata": {
        "id": "zd-TAd3RaqDY"
      },
      "source": [
        "To learn the basics, we'll start with a simple example, before returning to the `gss` data:"
      ]
    },
    {
      "cell_type": "code",
      "execution_count": 3,
      "metadata": {
        "id": "6c3nTW5xaqDZ"
      },
      "outputs": [],
      "source": [
        "birth_months = c(\"Jan\", \"Feb\", \"Sep\", \"Sep\", \"Dec\", \"Jan\", \"Jul\", \"Aug\")  # categorical variable"
      ]
    },
    {
      "cell_type": "markdown",
      "metadata": {
        "id": "QLJ1XXFdaqDa"
      },
      "source": [
        "The *possible* values of a categorical variable are called the *levels*. The levels of `birth_months` are `Jan`, `Feb`, ..., `Dec`. The *actual* values of `birth_months` are just called the values."
      ]
    },
    {
      "cell_type": "markdown",
      "metadata": {
        "id": "88EIc2gdaqDc"
      },
      "source": [
        "*Factors* are the traditional way to represent categorical data in R. To create a factor, we must specify the levels and the values:"
      ]
    },
    {
      "cell_type": "code",
      "execution_count": null,
      "metadata": {
        "id": "VTRJjN-nQS0d",
        "outputId": "c7e125cc-8ba9-44e1-a297-a9ce62a21bd1"
      },
      "outputs": [
        {
          "data": {
            "text/html": [
              "<style>\n",
              ".list-inline {list-style: none; margin:0; padding: 0}\n",
              ".list-inline>li {display: inline-block}\n",
              ".list-inline>li:not(:last-child)::after {content: \"\\00b7\"; padding: 0 .5ex}\n",
              "</style>\n",
              "<ol class=list-inline><li>'Jan'</li><li>'Feb'</li><li>'Mar'</li><li>'Apr'</li><li>'May'</li><li>'Jun'</li><li>'Jul'</li><li>'Aug'</li><li>'Sep'</li><li>'Oct'</li><li>'Nov'</li><li>'Dec'</li></ol>\n"
            ],
            "text/latex": [
              "\\begin{enumerate*}\n",
              "\\item 'Jan'\n",
              "\\item 'Feb'\n",
              "\\item 'Mar'\n",
              "\\item 'Apr'\n",
              "\\item 'May'\n",
              "\\item 'Jun'\n",
              "\\item 'Jul'\n",
              "\\item 'Aug'\n",
              "\\item 'Sep'\n",
              "\\item 'Oct'\n",
              "\\item 'Nov'\n",
              "\\item 'Dec'\n",
              "\\end{enumerate*}\n"
            ],
            "text/markdown": [
              "1. 'Jan'\n",
              "2. 'Feb'\n",
              "3. 'Mar'\n",
              "4. 'Apr'\n",
              "5. 'May'\n",
              "6. 'Jun'\n",
              "7. 'Jul'\n",
              "8. 'Aug'\n",
              "9. 'Sep'\n",
              "10. 'Oct'\n",
              "11. 'Nov'\n",
              "12. 'Dec'\n",
              "\n",
              "\n"
            ],
            "text/plain": [
              " [1] \"Jan\" \"Feb\" \"Mar\" \"Apr\" \"May\" \"Jun\" \"Jul\" \"Aug\" \"Sep\" \"Oct\" \"Nov\" \"Dec\""
            ]
          },
          "metadata": {},
          "output_type": "display_data"
        }
      ],
      "source": [
        "month.abb"
      ]
    },
    {
      "cell_type": "code",
      "execution_count": 4,
      "metadata": {
        "id": "OrTGwc-saqDd",
        "outputId": "857e8f48-5ef0-4377-8f62-cb6072eec6ab",
        "colab": {
          "base_uri": "https://localhost:8080/"
        }
      },
      "outputs": [
        {
          "output_type": "stream",
          "name": "stdout",
          "text": [
            "[1] Jan Feb Sep Sep Dec Jan Jul Aug\n",
            "Levels: Jan Feb Mar Apr May Jun Jul Aug Sep Oct Nov Dec\n"
          ]
        }
      ],
      "source": [
        "birth_months_fac = factor(birth_months, levels=month.abb) %>% print"
      ]
    },
    {
      "cell_type": "markdown",
      "metadata": {
        "id": "bZGOOAAMaqDe"
      },
      "source": [
        "**What if levels is not provided?**\n",
        "\n",
        "If you don't specify the levels, R will infer them based on all the observed values of the variable:"
      ]
    },
    {
      "cell_type": "code",
      "execution_count": 5,
      "metadata": {
        "id": "H64ANgXjaqDe",
        "outputId": "4f5e97e3-9547-4873-8aaa-8bd372b5968c",
        "colab": {
          "base_uri": "https://localhost:8080/"
        }
      },
      "outputs": [
        {
          "output_type": "stream",
          "name": "stdout",
          "text": [
            " Factor w/ 6 levels \"Aug\",\"Dec\",\"Feb\",..: 4 3 6 6 2 4 5 1\n"
          ]
        }
      ],
      "source": [
        "factor(birth_months) %>% str"
      ]
    },
    {
      "cell_type": "markdown",
      "metadata": {
        "id": "WYPWu6UeaqDf"
      },
      "source": [
        "**Best practice**\n",
        "\n",
        "It's best to be explicit about the factor levels. This way, if you there are typos or data entry errors, you will catch them more easily:"
      ]
    },
    {
      "cell_type": "code",
      "execution_count": null,
      "metadata": {
        "id": "fpkImcdcaqDg",
        "outputId": "3cd2512f-871e-4ddb-d7c3-7fbe7831d424"
      },
      "outputs": [
        {
          "data": {
            "text/html": [
              "<style>\n",
              ".list-inline {list-style: none; margin:0; padding: 0}\n",
              ".list-inline>li {display: inline-block}\n",
              ".list-inline>li:not(:last-child)::after {content: \"\\00b7\"; padding: 0 .5ex}\n",
              "</style>\n",
              "<ol class=list-inline><li>Jan</li><li>Feb</li><li>Sep</li><li>&lt;NA&gt;</li><li>Dec</li><li>Jan</li><li>Jul</li><li>Aug</li></ol>\n",
              "\n",
              "<details>\n",
              "\t<summary style=display:list-item;cursor:pointer>\n",
              "\t\t<strong>Levels</strong>:\n",
              "\t</summary>\n",
              "\t<style>\n",
              "\t.list-inline {list-style: none; margin:0; padding: 0}\n",
              "\t.list-inline>li {display: inline-block}\n",
              "\t.list-inline>li:not(:last-child)::after {content: \"\\00b7\"; padding: 0 .5ex}\n",
              "\t</style>\n",
              "\t<ol class=list-inline><li>'Jan'</li><li>'Feb'</li><li>'Mar'</li><li>'Apr'</li><li>'May'</li><li>'Jun'</li><li>'Jul'</li><li>'Aug'</li><li>'Sep'</li><li>'Oct'</li><li>'Nov'</li><li>'Dec'</li></ol>\n",
              "</details>"
            ],
            "text/latex": [
              "\\begin{enumerate*}\n",
              "\\item Jan\n",
              "\\item Feb\n",
              "\\item Sep\n",
              "\\item <NA>\n",
              "\\item Dec\n",
              "\\item Jan\n",
              "\\item Jul\n",
              "\\item Aug\n",
              "\\end{enumerate*}\n",
              "\n",
              "\\emph{Levels}: \\begin{enumerate*}\n",
              "\\item 'Jan'\n",
              "\\item 'Feb'\n",
              "\\item 'Mar'\n",
              "\\item 'Apr'\n",
              "\\item 'May'\n",
              "\\item 'Jun'\n",
              "\\item 'Jul'\n",
              "\\item 'Aug'\n",
              "\\item 'Sep'\n",
              "\\item 'Oct'\n",
              "\\item 'Nov'\n",
              "\\item 'Dec'\n",
              "\\end{enumerate*}\n"
            ],
            "text/markdown": [
              "1. Jan\n",
              "2. Feb\n",
              "3. Sep\n",
              "4. &lt;NA&gt;\n",
              "5. Dec\n",
              "6. Jan\n",
              "7. Jul\n",
              "8. Aug\n",
              "\n",
              "\n",
              "\n",
              "**Levels**: 1. 'Jan'\n",
              "2. 'Feb'\n",
              "3. 'Mar'\n",
              "4. 'Apr'\n",
              "5. 'May'\n",
              "6. 'Jun'\n",
              "7. 'Jul'\n",
              "8. 'Aug'\n",
              "9. 'Sep'\n",
              "10. 'Oct'\n",
              "11. 'Nov'\n",
              "12. 'Dec'\n",
              "\n",
              "\n"
            ],
            "text/plain": [
              "[1] Jan  Feb  Sep  <NA> Dec  Jan  Jul  Aug \n",
              "Levels: Jan Feb Mar Apr May Jun Jul Aug Sep Oct Nov Dec"
            ]
          },
          "metadata": {},
          "output_type": "display_data"
        }
      ],
      "source": [
        "bad = c(\"Jan\", \"Feb\", \"Sep\", \"Ser\", \"Dec\", \"Jan\", \"Jul\", \"Aug\")\n",
        "#                               ^ note typo\n",
        "# factor(bad)\n",
        "factor(bad, levels=month.abb)"
      ]
    },
    {
      "cell_type": "markdown",
      "metadata": {
        "id": "bHIAWh0RaqDg"
      },
      "source": [
        "### Order\n",
        "One advantage of factors is that they can be ordered. This enables them to sort and plot in the way you would expect. Compare:"
      ]
    },
    {
      "cell_type": "code",
      "execution_count": 6,
      "metadata": {
        "id": "6gtAPzAAaqDj",
        "outputId": "1e8e0d78-a2bb-4bbe-e3a5-7c4f76d3bc04",
        "colab": {
          "base_uri": "https://localhost:8080/",
          "height": 34
        }
      },
      "outputs": [
        {
          "output_type": "display_data",
          "data": {
            "text/html": [
              "<style>\n",
              ".list-inline {list-style: none; margin:0; padding: 0}\n",
              ".list-inline>li {display: inline-block}\n",
              ".list-inline>li:not(:last-child)::after {content: \"\\00b7\"; padding: 0 .5ex}\n",
              "</style>\n",
              "<ol class=list-inline><li>'Aug'</li><li>'Dec'</li><li>'Feb'</li><li>'Jan'</li><li>'Jan'</li><li>'Jul'</li><li>'Sep'</li><li>'Sep'</li></ol>\n"
            ],
            "text/markdown": "1. 'Aug'\n2. 'Dec'\n3. 'Feb'\n4. 'Jan'\n5. 'Jan'\n6. 'Jul'\n7. 'Sep'\n8. 'Sep'\n\n\n",
            "text/latex": "\\begin{enumerate*}\n\\item 'Aug'\n\\item 'Dec'\n\\item 'Feb'\n\\item 'Jan'\n\\item 'Jan'\n\\item 'Jul'\n\\item 'Sep'\n\\item 'Sep'\n\\end{enumerate*}\n",
            "text/plain": [
              "[1] \"Aug\" \"Dec\" \"Feb\" \"Jan\" \"Jan\" \"Jul\" \"Sep\" \"Sep\""
            ]
          },
          "metadata": {}
        }
      ],
      "source": [
        "sort(birth_months)"
      ]
    },
    {
      "cell_type": "code",
      "execution_count": 7,
      "metadata": {
        "id": "mU9h0ZtdaqDk",
        "outputId": "f38861ce-a833-4b04-a17f-b18609164037",
        "scrolled": true,
        "colab": {
          "base_uri": "https://localhost:8080/",
          "height": 69
        }
      },
      "outputs": [
        {
          "output_type": "display_data",
          "data": {
            "text/html": [
              "<style>\n",
              ".list-inline {list-style: none; margin:0; padding: 0}\n",
              ".list-inline>li {display: inline-block}\n",
              ".list-inline>li:not(:last-child)::after {content: \"\\00b7\"; padding: 0 .5ex}\n",
              "</style>\n",
              "<ol class=list-inline><li>Jan</li><li>Jan</li><li>Feb</li><li>Jul</li><li>Aug</li><li>Sep</li><li>Sep</li><li>Dec</li></ol>\n",
              "\n",
              "<details>\n",
              "\t<summary style=display:list-item;cursor:pointer>\n",
              "\t\t<strong>Levels</strong>:\n",
              "\t</summary>\n",
              "\t<style>\n",
              "\t.list-inline {list-style: none; margin:0; padding: 0}\n",
              "\t.list-inline>li {display: inline-block}\n",
              "\t.list-inline>li:not(:last-child)::after {content: \"\\00b7\"; padding: 0 .5ex}\n",
              "\t</style>\n",
              "\t<ol class=list-inline><li>'Jan'</li><li>'Feb'</li><li>'Mar'</li><li>'Apr'</li><li>'May'</li><li>'Jun'</li><li>'Jul'</li><li>'Aug'</li><li>'Sep'</li><li>'Oct'</li><li>'Nov'</li><li>'Dec'</li></ol>\n",
              "</details>"
            ],
            "text/markdown": "1. Jan\n2. Jan\n3. Feb\n4. Jul\n5. Aug\n6. Sep\n7. Sep\n8. Dec\n\n\n\n**Levels**: 1. 'Jan'\n2. 'Feb'\n3. 'Mar'\n4. 'Apr'\n5. 'May'\n6. 'Jun'\n7. 'Jul'\n8. 'Aug'\n9. 'Sep'\n10. 'Oct'\n11. 'Nov'\n12. 'Dec'\n\n\n",
            "text/latex": "\\begin{enumerate*}\n\\item Jan\n\\item Jan\n\\item Feb\n\\item Jul\n\\item Aug\n\\item Sep\n\\item Sep\n\\item Dec\n\\end{enumerate*}\n\n\\emph{Levels}: \\begin{enumerate*}\n\\item 'Jan'\n\\item 'Feb'\n\\item 'Mar'\n\\item 'Apr'\n\\item 'May'\n\\item 'Jun'\n\\item 'Jul'\n\\item 'Aug'\n\\item 'Sep'\n\\item 'Oct'\n\\item 'Nov'\n\\item 'Dec'\n\\end{enumerate*}\n",
            "text/plain": [
              "[1] Jan Jan Feb Jul Aug Sep Sep Dec\n",
              "Levels: Jan Feb Mar Apr May Jun Jul Aug Sep Oct Nov Dec"
            ]
          },
          "metadata": {}
        }
      ],
      "source": [
        "sort(birth_months_fac)"
      ]
    },
    {
      "cell_type": "markdown",
      "metadata": {
        "id": "gf6Bp9YgaqDk"
      },
      "source": [
        "If you specify the factor levels using the `levels=` option, then that will specify the default order. If you do *not* specify the levels, then they will be sorted alphabetically by default.\n",
        "\n",
        "**levels**\n",
        "\n",
        "You can just get the levels of a factor using the levels function"
      ]
    },
    {
      "cell_type": "code",
      "execution_count": 8,
      "metadata": {
        "id": "b59ht6njaqDl",
        "outputId": "f7b352e9-7716-4c84-c3ad-c75d4154d6b7",
        "colab": {
          "base_uri": "https://localhost:8080/",
          "height": 34
        }
      },
      "outputs": [
        {
          "output_type": "display_data",
          "data": {
            "text/html": [
              "<style>\n",
              ".list-inline {list-style: none; margin:0; padding: 0}\n",
              ".list-inline>li {display: inline-block}\n",
              ".list-inline>li:not(:last-child)::after {content: \"\\00b7\"; padding: 0 .5ex}\n",
              "</style>\n",
              "<ol class=list-inline><li>'Jan'</li><li>'Feb'</li><li>'Mar'</li><li>'Apr'</li><li>'May'</li><li>'Jun'</li><li>'Jul'</li><li>'Aug'</li><li>'Sep'</li><li>'Oct'</li><li>'Nov'</li><li>'Dec'</li></ol>\n"
            ],
            "text/markdown": "1. 'Jan'\n2. 'Feb'\n3. 'Mar'\n4. 'Apr'\n5. 'May'\n6. 'Jun'\n7. 'Jul'\n8. 'Aug'\n9. 'Sep'\n10. 'Oct'\n11. 'Nov'\n12. 'Dec'\n\n\n",
            "text/latex": "\\begin{enumerate*}\n\\item 'Jan'\n\\item 'Feb'\n\\item 'Mar'\n\\item 'Apr'\n\\item 'May'\n\\item 'Jun'\n\\item 'Jul'\n\\item 'Aug'\n\\item 'Sep'\n\\item 'Oct'\n\\item 'Nov'\n\\item 'Dec'\n\\end{enumerate*}\n",
            "text/plain": [
              " [1] \"Jan\" \"Feb\" \"Mar\" \"Apr\" \"May\" \"Jun\" \"Jul\" \"Aug\" \"Sep\" \"Oct\" \"Nov\" \"Dec\""
            ]
          },
          "metadata": {}
        }
      ],
      "source": [
        "levels(birth_months_fac)"
      ]
    },
    {
      "cell_type": "code",
      "execution_count": null,
      "metadata": {
        "id": "6CToA653aqDl",
        "outputId": "f4d775cb-cfd5-4d93-ac77-299726ffc750"
      },
      "outputs": [
        {
          "data": {
            "text/html": [
              "<style>\n",
              ".list-inline {list-style: none; margin:0; padding: 0}\n",
              ".list-inline>li {display: inline-block}\n",
              ".list-inline>li:not(:last-child)::after {content: \"\\00b7\"; padding: 0 .5ex}\n",
              "</style>\n",
              "<ol class=list-inline><li>'Aug'</li><li>'Dec'</li><li>'Feb'</li><li>'Jan'</li><li>'Jul'</li><li>'Sep'</li></ol>\n"
            ],
            "text/latex": [
              "\\begin{enumerate*}\n",
              "\\item 'Aug'\n",
              "\\item 'Dec'\n",
              "\\item 'Feb'\n",
              "\\item 'Jan'\n",
              "\\item 'Jul'\n",
              "\\item 'Sep'\n",
              "\\end{enumerate*}\n"
            ],
            "text/markdown": [
              "1. 'Aug'\n",
              "2. 'Dec'\n",
              "3. 'Feb'\n",
              "4. 'Jan'\n",
              "5. 'Jul'\n",
              "6. 'Sep'\n",
              "\n",
              "\n"
            ],
            "text/plain": [
              "[1] \"Aug\" \"Dec\" \"Feb\" \"Jan\" \"Jul\" \"Sep\""
            ]
          },
          "metadata": {},
          "output_type": "display_data"
        }
      ],
      "source": [
        "levels(factor(birth_months))"
      ]
    },
    {
      "cell_type": "markdown",
      "metadata": {
        "id": "cQfQE0gOaqDm"
      },
      "source": [
        "Now, back to `gss18`. Let's focus on the [`race`](https://gssdataexplorer.norc.org/variables/82/vshow) column:"
      ]
    },
    {
      "cell_type": "code",
      "execution_count": null,
      "metadata": {
        "id": "oaU5_pftaqDm",
        "outputId": "bada423c-e745-4c60-c7cb-d5f634c2fb2f"
      },
      "outputs": [
        {
          "name": "stdout",
          "output_type": "stream",
          "text": [
            "\u001b[90m# A tibble: 2,348 × 1\u001b[39m\n",
            "    race\n",
            "   \u001b[3m\u001b[90m<int>\u001b[39m\u001b[23m\n",
            "\u001b[90m 1\u001b[39m     1\n",
            "\u001b[90m 2\u001b[39m     1\n",
            "\u001b[90m 3\u001b[39m     1\n",
            "\u001b[90m 4\u001b[39m     1\n",
            "\u001b[90m 5\u001b[39m     2\n",
            "\u001b[90m 6\u001b[39m     1\n",
            "\u001b[90m 7\u001b[39m     2\n",
            "\u001b[90m 8\u001b[39m     1\n",
            "\u001b[90m 9\u001b[39m     1\n",
            "\u001b[90m10\u001b[39m     1\n",
            "\u001b[90m# … with 2,338 more rows\u001b[39m\n"
          ]
        }
      ],
      "source": [
        "gss18.raw %>% select(race) %>% print"
      ]
    },
    {
      "cell_type": "markdown",
      "metadata": {
        "id": "A4HSwxnEaqDm"
      },
      "source": [
        "These data have been encoded for us into numbers. To get the coding scheme, we can consult the accompanying `gss18.doc` table:"
      ]
    },
    {
      "cell_type": "code",
      "execution_count": null,
      "metadata": {
        "id": "ndh2OBXpQS0i",
        "outputId": "62521b10-30f1-44ca-91d3-7439dc858d8e"
      },
      "outputs": [
        {
          "data": {
            "text/html": [
              "<table class=\"dataframe\">\n",
              "<caption>A tibble: 3 × 5</caption>\n",
              "<thead>\n",
              "\t<tr><th scope=col>id</th><th scope=col>description</th><th scope=col>properties</th><th scope=col>marginals</th><th scope=col>text</th></tr>\n",
              "\t<tr><th scope=col>&lt;chr&gt;</th><th scope=col>&lt;chr&gt;</th><th scope=col>&lt;list&gt;</th><th scope=col>&lt;list&gt;</th><th scope=col>&lt;chr&gt;</th></tr>\n",
              "</thead>\n",
              "<tbody>\n",
              "\t<tr><td>age </td><td>Age of respondent </td><td>Data type         , Missing-data codes, Record/columns    , numeric           , 0,98,99           , 1/233-234         , AGE               , AGE               , AGE               </td><td>Total Cases:                        , 64,814 (Range of valid codes: 18-89), AGE                                 </td><td>13. Respondent's age                   </td></tr>\n",
              "\t<tr><td>sex </td><td>Respondents sex   </td><td>Data type        , Missing-data code, Record/column    , numeric          , 0                , 1/297            , SEX              , SEX              , SEX              </td><td>44.1  , 55.9  , 100   , 28,614, 36,200, 64,814, 1     , 2     , NA    , MALE  , FEMALE, Total , SEX   , SEX   , SEX   </td><td>23. Code respondent's sex              </td></tr>\n",
              "\t<tr><td>race</td><td>Race of respondent</td><td>Data type        , Missing-data code, Record/column    , numeric          , 0                , 1/298            , RACE             , RACE             , RACE             </td><td>80.3  , 14.2  , 5.5   , 100   , 52,033, 9,187 , 3,594 , 64,814, 1     , 2     , 3     , NA    , WHITE , BLACK , OTHER , Total , RACE  , RACE  , RACE  , RACE  </td><td>24. What race do you consider yourself?</td></tr>\n",
              "</tbody>\n",
              "</table>\n"
            ],
            "text/latex": [
              "A tibble: 3 × 5\n",
              "\\begin{tabular}{lllll}\n",
              " id & description & properties & marginals & text\\\\\n",
              " <chr> & <chr> & <list> & <list> & <chr>\\\\\n",
              "\\hline\n",
              "\t age  & Age of respondent  & Data type         , Missing-data codes, Record/columns    , numeric           , 0,98,99           , 1/233-234         , AGE               , AGE               , AGE                & Total Cases:                        , 64,814 (Range of valid codes: 18-89), AGE                                  & 13. Respondent's age                   \\\\\n",
              "\t sex  & Respondents sex    & Data type        , Missing-data code, Record/column    , numeric          , 0                , 1/297            , SEX              , SEX              , SEX               & 44.1  , 55.9  , 100   , 28,614, 36,200, 64,814, 1     , 2     , NA    , MALE  , FEMALE, Total , SEX   , SEX   , SEX    & 23. Code respondent's sex              \\\\\n",
              "\t race & Race of respondent & Data type        , Missing-data code, Record/column    , numeric          , 0                , 1/298            , RACE             , RACE             , RACE              & 80.3  , 14.2  , 5.5   , 100   , 52,033, 9,187 , 3,594 , 64,814, 1     , 2     , 3     , NA    , WHITE , BLACK , OTHER , Total , RACE  , RACE  , RACE  , RACE   & 24. What race do you consider yourself?\\\\\n",
              "\\end{tabular}\n"
            ],
            "text/markdown": [
              "\n",
              "A tibble: 3 × 5\n",
              "\n",
              "| id &lt;chr&gt; | description &lt;chr&gt; | properties &lt;list&gt; | marginals &lt;list&gt; | text &lt;chr&gt; |\n",
              "|---|---|---|---|---|\n",
              "| age  | Age of respondent  | Data type         , Missing-data codes, Record/columns    , numeric           , 0,98,99           , 1/233-234         , AGE               , AGE               , AGE                | Total Cases:                        , 64,814 (Range of valid codes: 18-89), AGE                                  | 13. Respondent's age                    |\n",
              "| sex  | Respondents sex    | Data type        , Missing-data code, Record/column    , numeric          , 0                , 1/297            , SEX              , SEX              , SEX               | 44.1  , 55.9  , 100   , 28,614, 36,200, 64,814, 1     , 2     , NA    , MALE  , FEMALE, Total , SEX   , SEX   , SEX    | 23. Code respondent's sex               |\n",
              "| race | Race of respondent | Data type        , Missing-data code, Record/column    , numeric          , 0                , 1/298            , RACE             , RACE             , RACE              | 80.3  , 14.2  , 5.5   , 100   , 52,033, 9,187 , 3,594 , 64,814, 1     , 2     , 3     , NA    , WHITE , BLACK , OTHER , Total , RACE  , RACE  , RACE  , RACE   | 24. What race do you consider yourself? |\n",
              "\n"
            ],
            "text/plain": [
              "  id   description       \n",
              "1 age  Age of respondent \n",
              "2 sex  Respondents sex   \n",
              "3 race Race of respondent\n",
              "  properties                                                                                                                                                                        \n",
              "1 Data type         , Missing-data codes, Record/columns    , numeric           , 0,98,99           , 1/233-234         , AGE               , AGE               , AGE               \n",
              "2 Data type        , Missing-data code, Record/column    , numeric          , 0                , 1/297            , SEX              , SEX              , SEX                       \n",
              "3 Data type        , Missing-data code, Record/column    , numeric          , 0                , 1/298            , RACE             , RACE             , RACE                      \n",
              "  marginals                                                                                                                                                     \n",
              "1 Total Cases:                        , 64,814 (Range of valid codes: 18-89), AGE                                                                               \n",
              "2 44.1  , 55.9  , 100   , 28,614, 36,200, 64,814, 1     , 2     , NA    , MALE  , FEMALE, Total , SEX   , SEX   , SEX                                           \n",
              "3 80.3  , 14.2  , 5.5   , 100   , 52,033, 9,187 , 3,594 , 64,814, 1     , 2     , 3     , NA    , WHITE , BLACK , OTHER , Total , RACE  , RACE  , RACE  , RACE  \n",
              "  text                                   \n",
              "1 13. Respondent's age                   \n",
              "2 23. Code respondent's sex              \n",
              "3 24. What race do you consider yourself?"
            ]
          },
          "metadata": {},
          "output_type": "display_data"
        }
      ],
      "source": [
        "gss18.doc %>% head(3)"
      ]
    },
    {
      "cell_type": "code",
      "execution_count": null,
      "metadata": {
        "id": "R3gN8Hg5QS0j",
        "outputId": "49a298bb-242b-4c3b-db9f-5f4ccbe22b68"
      },
      "outputs": [
        {
          "data": {
            "text/html": [
              "<table class=\"dataframe\">\n",
              "<caption>A tibble: 1 × 1</caption>\n",
              "<thead>\n",
              "\t<tr><th scope=col>marginals</th></tr>\n",
              "\t<tr><th scope=col>&lt;list&gt;</th></tr>\n",
              "</thead>\n",
              "<tbody>\n",
              "\t<tr><td>80.3  , 14.2  , 5.5   , 100   , 52,033, 9,187 , 3,594 , 64,814, 1     , 2     , 3     , NA    , WHITE , BLACK , OTHER , Total , RACE  , RACE  , RACE  , RACE  </td></tr>\n",
              "</tbody>\n",
              "</table>\n"
            ],
            "text/latex": [
              "A tibble: 1 × 1\n",
              "\\begin{tabular}{l}\n",
              " marginals\\\\\n",
              " <list>\\\\\n",
              "\\hline\n",
              "\t 80.3  , 14.2  , 5.5   , 100   , 52,033, 9,187 , 3,594 , 64,814, 1     , 2     , 3     , NA    , WHITE , BLACK , OTHER , Total , RACE  , RACE  , RACE  , RACE  \\\\\n",
              "\\end{tabular}\n"
            ],
            "text/markdown": [
              "\n",
              "A tibble: 1 × 1\n",
              "\n",
              "| marginals &lt;list&gt; |\n",
              "|---|\n",
              "| 80.3  , 14.2  , 5.5   , 100   , 52,033, 9,187 , 3,594 , 64,814, 1     , 2     , 3     , NA    , WHITE , BLACK , OTHER , Total , RACE  , RACE  , RACE  , RACE   |\n",
              "\n"
            ],
            "text/plain": [
              "  marginals                                                                                                                                                     \n",
              "1 80.3  , 14.2  , 5.5   , 100   , 52,033, 9,187 , 3,594 , 64,814, 1     , 2     , 3     , NA    , WHITE , BLACK , OTHER , Total , RACE  , RACE  , RACE  , RACE  "
            ]
          },
          "metadata": {},
          "output_type": "display_data"
        }
      ],
      "source": [
        "gss18.doc %>% filter(id == \"race\") %>%\n",
        "  select(marginals)"
      ]
    },
    {
      "cell_type": "code",
      "execution_count": 9,
      "metadata": {
        "id": "V2BnKN0cQS0j",
        "outputId": "108b96f4-95b2-4e0c-bb2a-082f9726a1c0",
        "colab": {
          "base_uri": "https://localhost:8080/",
          "height": 269
        }
      },
      "outputs": [
        {
          "output_type": "display_data",
          "data": {
            "text/html": [
              "<strong>$marginals</strong> = <ol>\n",
              "\t<li><table class=\"dataframe\">\n",
              "<caption>A tibble: 4 × 5</caption>\n",
              "<thead>\n",
              "\t<tr><th scope=col>percent</th><th scope=col>n</th><th scope=col>value</th><th scope=col>label</th><th scope=col>id</th></tr>\n",
              "\t<tr><th scope=col>&lt;dbl&gt;</th><th scope=col>&lt;chr&gt;</th><th scope=col>&lt;chr&gt;</th><th scope=col>&lt;chr&gt;</th><th scope=col>&lt;chr&gt;</th></tr>\n",
              "</thead>\n",
              "<tbody>\n",
              "\t<tr><td> 80.3</td><td>52,033</td><td>1 </td><td>WHITE</td><td>RACE</td></tr>\n",
              "\t<tr><td> 14.2</td><td>9,187 </td><td>2 </td><td>BLACK</td><td>RACE</td></tr>\n",
              "\t<tr><td>  5.5</td><td>3,594 </td><td>3 </td><td>OTHER</td><td>RACE</td></tr>\n",
              "\t<tr><td>100.0</td><td>64,814</td><td>NA</td><td>Total</td><td>RACE</td></tr>\n",
              "</tbody>\n",
              "</table>\n",
              "</li>\n",
              "</ol>\n"
            ],
            "text/markdown": "**$marginals** = 1. \nA tibble: 4 × 5\n\n| percent &lt;dbl&gt; | n &lt;chr&gt; | value &lt;chr&gt; | label &lt;chr&gt; | id &lt;chr&gt; |\n|---|---|---|---|---|\n|  80.3 | 52,033 | 1  | WHITE | RACE |\n|  14.2 | 9,187  | 2  | BLACK | RACE |\n|   5.5 | 3,594  | 3  | OTHER | RACE |\n| 100.0 | 64,814 | NA | Total | RACE |\n\n\n\n\n",
            "text/latex": "\\textbf{\\$marginals} = \\begin{enumerate}\n\\item A tibble: 4 × 5\n\\begin{tabular}{lllll}\n percent & n & value & label & id\\\\\n <dbl> & <chr> & <chr> & <chr> & <chr>\\\\\n\\hline\n\t  80.3 & 52,033 & 1  & WHITE & RACE\\\\\n\t  14.2 & 9,187  & 2  & BLACK & RACE\\\\\n\t   5.5 & 3,594  & 3  & OTHER & RACE\\\\\n\t 100.0 & 64,814 & NA & Total & RACE\\\\\n\\end{tabular}\n\n\\end{enumerate}\n",
            "text/plain": [
              "$marginals\n",
              "$marginals[[1]]\n",
              "\u001b[90m# A tibble: 4 × 5\u001b[39m\n",
              "  percent n      value label id   \n",
              "    \u001b[3m\u001b[90m<dbl>\u001b[39m\u001b[23m \u001b[3m\u001b[90m<chr>\u001b[39m\u001b[23m  \u001b[3m\u001b[90m<chr>\u001b[39m\u001b[23m \u001b[3m\u001b[90m<chr>\u001b[39m\u001b[23m \u001b[3m\u001b[90m<chr>\u001b[39m\u001b[23m\n",
              "\u001b[90m1\u001b[39m    80.3 52,033 1     WHITE RACE \n",
              "\u001b[90m2\u001b[39m    14.2 9,187  2     BLACK RACE \n",
              "\u001b[90m3\u001b[39m     5.5 3,594  3     OTHER RACE \n",
              "\u001b[90m4\u001b[39m   100   64,814 \u001b[31mNA\u001b[39m    Total RACE \n",
              "\n"
            ]
          },
          "metadata": {}
        }
      ],
      "source": [
        "gss18.doc %>% filter(id == \"race\") %>%\n",
        "  select(marginals) %>% c"
      ]
    },
    {
      "cell_type": "markdown",
      "metadata": {
        "id": "eijp4AoDaqDn"
      },
      "source": [
        "Let's convert race in `gss18.raw` from an integer into a factor:"
      ]
    },
    {
      "cell_type": "code",
      "execution_count": null,
      "metadata": {
        "id": "GnZuBxbBaqDn",
        "outputId": "2d012b74-2002-41e3-bab3-02356fe1f3b4"
      },
      "outputs": [
        {
          "name": "stdout",
          "output_type": "stream",
          "text": [
            "\u001b[90m# A tibble: 2,348 × 11\u001b[39m\n",
            "     age race    sex relig relpast sexbirth sexnow yearsusa unhappy  educ income\n",
            "   \u001b[3m\u001b[90m<int>\u001b[39m\u001b[23m \u001b[3m\u001b[90m<fct>\u001b[39m\u001b[23m \u001b[3m\u001b[90m<int>\u001b[39m\u001b[23m \u001b[3m\u001b[90m<int>\u001b[39m\u001b[23m   \u001b[3m\u001b[90m<int>\u001b[39m\u001b[23m    \u001b[3m\u001b[90m<int>\u001b[39m\u001b[23m  \u001b[3m\u001b[90m<int>\u001b[39m\u001b[23m    \u001b[3m\u001b[90m<int>\u001b[39m\u001b[23m   \u001b[3m\u001b[90m<int>\u001b[39m\u001b[23m \u001b[3m\u001b[90m<int>\u001b[39m\u001b[23m  \u001b[3m\u001b[90m<int>\u001b[39m\u001b[23m\n",
            "\u001b[90m 1\u001b[39m    43 white     1    11       5       \u001b[31mNA\u001b[39m     \u001b[31mNA\u001b[39m       \u001b[31mNA\u001b[39m      \u001b[31mNA\u001b[39m    14     \u001b[31mNA\u001b[39m\n",
            "\u001b[90m 2\u001b[39m    74 white     2     2      \u001b[31mNA\u001b[39m        1      1       \u001b[31mNA\u001b[39m       1    10     12\n",
            "\u001b[90m 3\u001b[39m    42 white     1     4       3        2      2       \u001b[31mNA\u001b[39m      \u001b[31mNA\u001b[39m    16     12\n",
            "\u001b[90m 4\u001b[39m    63 white     2     1      \u001b[31mNA\u001b[39m        1      1       \u001b[31mNA\u001b[39m       2    16     \u001b[31mNA\u001b[39m\n",
            "\u001b[90m 5\u001b[39m    71 black     1     2      \u001b[31mNA\u001b[39m        2      2       \u001b[31mNA\u001b[39m       1    18     \u001b[31mNA\u001b[39m\n",
            "\u001b[90m 6\u001b[39m    67 white     2     2       4       \u001b[31mNA\u001b[39m     \u001b[31mNA\u001b[39m       \u001b[31mNA\u001b[39m      \u001b[31mNA\u001b[39m    16     \u001b[31mNA\u001b[39m\n",
            "\u001b[90m 7\u001b[39m    59 black     2     1      \u001b[31mNA\u001b[39m       \u001b[31mNA\u001b[39m     \u001b[31mNA\u001b[39m       \u001b[31mNA\u001b[39m       2    13     10\n",
            "\u001b[90m 8\u001b[39m    43 white     1     2      \u001b[31mNA\u001b[39m        2      2       \u001b[31mNA\u001b[39m       2    12     12\n",
            "\u001b[90m 9\u001b[39m    62 white     2     4       4        1      1       \u001b[31mNA\u001b[39m      \u001b[31mNA\u001b[39m     8      5\n",
            "\u001b[90m10\u001b[39m    55 white     1     1      \u001b[31mNA\u001b[39m        2      2       \u001b[31mNA\u001b[39m       4    12     12\n",
            "\u001b[90m# … with 2,338 more rows\u001b[39m\n"
          ]
        }
      ],
      "source": [
        "# convert race to factor\n",
        "\n",
        "gss18.raw %>% mutate(race = factor(race, labels = c('white', 'black', 'other')))"
      ]
    },
    {
      "cell_type": "code",
      "source": [
        "gss18.raw %>% mutate(race = factor(race, labels = c('white', 'black', 'other'))) %>% print"
      ],
      "metadata": {
        "id": "Qt1PwnbTUCoo",
        "outputId": "007de5d0-f284-496c-9a1e-4f11448dd786",
        "colab": {
          "base_uri": "https://localhost:8080/"
        }
      },
      "execution_count": 11,
      "outputs": [
        {
          "output_type": "stream",
          "name": "stdout",
          "text": [
            "\u001b[90m# A tibble: 2,348 × 14\u001b[39m\n",
            "     age race    sex relig relpast sexbirth sexnow yearsusa unhappy  educ income\n",
            "   \u001b[3m\u001b[90m<int>\u001b[39m\u001b[23m \u001b[3m\u001b[90m<fct>\u001b[39m\u001b[23m \u001b[3m\u001b[90m<int>\u001b[39m\u001b[23m \u001b[3m\u001b[90m<int>\u001b[39m\u001b[23m   \u001b[3m\u001b[90m<int>\u001b[39m\u001b[23m    \u001b[3m\u001b[90m<int>\u001b[39m\u001b[23m  \u001b[3m\u001b[90m<int>\u001b[39m\u001b[23m    \u001b[3m\u001b[90m<int>\u001b[39m\u001b[23m   \u001b[3m\u001b[90m<int>\u001b[39m\u001b[23m \u001b[3m\u001b[90m<int>\u001b[39m\u001b[23m  \u001b[3m\u001b[90m<int>\u001b[39m\u001b[23m\n",
            "\u001b[90m 1\u001b[39m    43 white     1    11       5       \u001b[31mNA\u001b[39m     \u001b[31mNA\u001b[39m       \u001b[31mNA\u001b[39m      \u001b[31mNA\u001b[39m    14     \u001b[31mNA\u001b[39m\n",
            "\u001b[90m 2\u001b[39m    74 white     2     2      \u001b[31mNA\u001b[39m        1      1       \u001b[31mNA\u001b[39m       1    10     12\n",
            "\u001b[90m 3\u001b[39m    42 white     1     4       3        2      2       \u001b[31mNA\u001b[39m      \u001b[31mNA\u001b[39m    16     12\n",
            "\u001b[90m 4\u001b[39m    63 white     2     1      \u001b[31mNA\u001b[39m        1      1       \u001b[31mNA\u001b[39m       2    16     \u001b[31mNA\u001b[39m\n",
            "\u001b[90m 5\u001b[39m    71 black     1     2      \u001b[31mNA\u001b[39m        2      2       \u001b[31mNA\u001b[39m       1    18     \u001b[31mNA\u001b[39m\n",
            "\u001b[90m 6\u001b[39m    67 white     2     2       4       \u001b[31mNA\u001b[39m     \u001b[31mNA\u001b[39m       \u001b[31mNA\u001b[39m      \u001b[31mNA\u001b[39m    16     \u001b[31mNA\u001b[39m\n",
            "\u001b[90m 7\u001b[39m    59 black     2     1      \u001b[31mNA\u001b[39m       \u001b[31mNA\u001b[39m     \u001b[31mNA\u001b[39m       \u001b[31mNA\u001b[39m       2    13     10\n",
            "\u001b[90m 8\u001b[39m    43 white     1     2      \u001b[31mNA\u001b[39m        2      2       \u001b[31mNA\u001b[39m       2    12     12\n",
            "\u001b[90m 9\u001b[39m    62 white     2     4       4        1      1       \u001b[31mNA\u001b[39m      \u001b[31mNA\u001b[39m     8      5\n",
            "\u001b[90m10\u001b[39m    55 white     1     1      \u001b[31mNA\u001b[39m        2      2       \u001b[31mNA\u001b[39m       4    12     12\n",
            "\u001b[90m# ℹ 2,338 more rows\u001b[39m\n",
            "\u001b[90m# ℹ 3 more variables: phone <int>, tvhours <int>, partyid <int>\u001b[39m\n"
          ]
        }
      ]
    },
    {
      "cell_type": "markdown",
      "metadata": {
        "id": "uNFv6dv1aqDo"
      },
      "source": [
        "Notice that the order mattered -- R matched `white` with `1`, `black` with `2`, etc. If we had\n",
        "specified `labels=c(\"black\", \"white\", \"other\")` it would have given us an incorrect factor."
      ]
    },
    {
      "cell_type": "markdown",
      "metadata": {
        "id": "XTyr4r6OaqDo"
      },
      "source": [
        "## 🤔 Quiz\n",
        "\n",
        "What percent of people in `gss18` identified as 'black' when asked about their race?\n",
        "\n",
        "<ol style=\"list-style-type: upper-alpha;\">\n",
        "    <li>0-10%</li>\n",
        "    <li>10-20%</li>\n",
        "    <li>20-30%</li>\n",
        "    <li>More than 30%</li>\n",
        "</ol>\n"
      ]
    },
    {
      "cell_type": "code",
      "execution_count": 13,
      "metadata": {
        "id": "sUuueF8waqDo",
        "outputId": "4cc23281-356f-498a-d472-ec5a2c8a4722",
        "colab": {
          "base_uri": "https://localhost:8080/",
          "height": 192
        }
      },
      "outputs": [
        {
          "output_type": "display_data",
          "data": {
            "text/html": [
              "<table class=\"dataframe\">\n",
              "<caption>A tibble: 3 × 3</caption>\n",
              "<thead>\n",
              "\t<tr><th scope=col>race</th><th scope=col>n</th><th scope=col>percent</th></tr>\n",
              "\t<tr><th scope=col>&lt;int&gt;</th><th scope=col>&lt;int&gt;</th><th scope=col>&lt;dbl&gt;</th></tr>\n",
              "</thead>\n",
              "<tbody>\n",
              "\t<tr><td>1</td><td>1693</td><td>0.7210392</td></tr>\n",
              "\t<tr><td>2</td><td> 385</td><td>0.1639693</td></tr>\n",
              "\t<tr><td>3</td><td> 270</td><td>0.1149915</td></tr>\n",
              "</tbody>\n",
              "</table>\n"
            ],
            "text/markdown": "\nA tibble: 3 × 3\n\n| race &lt;int&gt; | n &lt;int&gt; | percent &lt;dbl&gt; |\n|---|---|---|\n| 1 | 1693 | 0.7210392 |\n| 2 |  385 | 0.1639693 |\n| 3 |  270 | 0.1149915 |\n\n",
            "text/latex": "A tibble: 3 × 3\n\\begin{tabular}{lll}\n race & n & percent\\\\\n <int> & <int> & <dbl>\\\\\n\\hline\n\t 1 & 1693 & 0.7210392\\\\\n\t 2 &  385 & 0.1639693\\\\\n\t 3 &  270 & 0.1149915\\\\\n\\end{tabular}\n",
            "text/plain": [
              "  race n    percent  \n",
              "1 1    1693 0.7210392\n",
              "2 2     385 0.1639693\n",
              "3 3     270 0.1149915"
            ]
          },
          "metadata": {}
        }
      ],
      "source": [
        "# black\n",
        "\n",
        "gss18.raw %>% count(race) %>% mutate(percent = n/sum(n))"
      ]
    },
    {
      "cell_type": "markdown",
      "metadata": {
        "id": "GZUN7Qs2aqDp"
      },
      "source": [
        "Now let's do this for all the other categorical variables in `gss18.raw`..."
      ]
    },
    {
      "cell_type": "markdown",
      "metadata": {
        "id": "A2s8jLvQaqDp"
      },
      "source": [
        "Just kidding! This work is already done for you, and stored it in the table `gss18`:"
      ]
    },
    {
      "cell_type": "code",
      "execution_count": 14,
      "metadata": {
        "id": "eTihqB6BaqDp",
        "outputId": "b485b614-3849-46bb-fffa-2f8599186898",
        "colab": {
          "base_uri": "https://localhost:8080/"
        }
      },
      "outputs": [
        {
          "output_type": "stream",
          "name": "stdout",
          "text": [
            "\u001b[90m# A tibble: 2,348 × 14\u001b[39m\n",
            "     age race  sex   relig relpast sexbirth sexnow yearsusa unhappy educ  income\n",
            "   \u001b[3m\u001b[90m<int>\u001b[39m\u001b[23m \u001b[3m\u001b[90m<fct>\u001b[39m\u001b[23m \u001b[3m\u001b[90m<fct>\u001b[39m\u001b[23m \u001b[3m\u001b[90m<fct>\u001b[39m\u001b[23m \u001b[3m\u001b[90m<fct>\u001b[39m\u001b[23m   \u001b[3m\u001b[90m<fct>\u001b[39m\u001b[23m    \u001b[3m\u001b[90m<fct>\u001b[39m\u001b[23m  \u001b[3m\u001b[90m<fct>\u001b[39m\u001b[23m    \u001b[3m\u001b[90m<fct>\u001b[39m\u001b[23m   \u001b[3m\u001b[90m<fct>\u001b[39m\u001b[23m \u001b[3m\u001b[90m<fct>\u001b[39m\u001b[23m \n",
            "\u001b[90m 1\u001b[39m    43 white male  chri… strong… \u001b[31mNA\u001b[39m       \u001b[31mNA\u001b[39m     \u001b[31mNA\u001b[39m       \u001b[31mNA\u001b[39m      14    \u001b[31mNA\u001b[39m    \n",
            "\u001b[90m 2\u001b[39m    74 white fema… cath… \u001b[31mNA\u001b[39m      female   women  \u001b[31mNA\u001b[39m       never   10    $2500…\n",
            "\u001b[90m 3\u001b[39m    42 white male  none  neithe… male     man    \u001b[31mNA\u001b[39m       \u001b[31mNA\u001b[39m      16    $2500…\n",
            "\u001b[90m 4\u001b[39m    63 white fema… prot… \u001b[31mNA\u001b[39m      female   women  \u001b[31mNA\u001b[39m       rarely  16    \u001b[31mNA\u001b[39m    \n",
            "\u001b[90m 5\u001b[39m    71 black male  cath… \u001b[31mNA\u001b[39m      male     man    \u001b[31mNA\u001b[39m       never   18    \u001b[31mNA\u001b[39m    \n",
            "\u001b[90m 6\u001b[39m    67 white fema… cath… disagr… \u001b[31mNA\u001b[39m       \u001b[31mNA\u001b[39m     \u001b[31mNA\u001b[39m       \u001b[31mNA\u001b[39m      16    \u001b[31mNA\u001b[39m    \n",
            "\u001b[90m 7\u001b[39m    59 black fema… prot… \u001b[31mNA\u001b[39m      \u001b[31mNA\u001b[39m       \u001b[31mNA\u001b[39m     \u001b[31mNA\u001b[39m       rarely  13    $1500…\n",
            "\u001b[90m 8\u001b[39m    43 white male  cath… \u001b[31mNA\u001b[39m      male     man    \u001b[31mNA\u001b[39m       rarely  12    $2500…\n",
            "\u001b[90m 9\u001b[39m    62 white fema… none  disagr… female   women  \u001b[31mNA\u001b[39m       \u001b[31mNA\u001b[39m      8     $5000…\n",
            "\u001b[90m10\u001b[39m    55 white male  prot… \u001b[31mNA\u001b[39m      male     man    \u001b[31mNA\u001b[39m       often   12    $2500…\n",
            "\u001b[90m# ℹ 2,338 more rows\u001b[39m\n",
            "\u001b[90m# ℹ 3 more variables: phone <fct>, tvhours <int>, partyid <fct>\u001b[39m\n"
          ]
        }
      ],
      "source": [
        "print(gss18)"
      ]
    },
    {
      "cell_type": "markdown",
      "metadata": {
        "id": "f3ka2owYQS0m"
      },
      "source": [
        "**finding mean**\n",
        "\n",
        "I tried to find the mean on a income column and is this correct?"
      ]
    },
    {
      "cell_type": "code",
      "execution_count": null,
      "metadata": {
        "id": "7dyEAKCQQS0z",
        "outputId": "1aeebf5b-4e78-4380-96e1-b81c40b7cbad"
      },
      "outputs": [
        {
          "data": {
            "text/html": [
              "10.9495713565305"
            ],
            "text/latex": [
              "10.9495713565305"
            ],
            "text/markdown": [
              "10.9495713565305"
            ],
            "text/plain": [
              "[1] 10.94957"
            ]
          },
          "metadata": {},
          "output_type": "display_data"
        }
      ],
      "source": [
        "## finding mean\n",
        "mean(as.numeric(gss18$income), na.rm = T)"
      ]
    },
    {
      "cell_type": "markdown",
      "metadata": {
        "id": "cDX1WYiGQS00"
      },
      "source": [
        "What exactly happened here? The underlying numeric representation of the factor levels is returned. Each level in the factor is assigned a numeric value based on its position in the levels attribute of the factor"
      ]
    },
    {
      "cell_type": "code",
      "execution_count": 15,
      "metadata": {
        "id": "YSatTsQXQS00",
        "outputId": "ca81e127-a0fb-438d-aec9-a4cd72190e58",
        "colab": {
          "base_uri": "https://localhost:8080/",
          "height": 505
        }
      },
      "outputs": [
        {
          "output_type": "display_data",
          "data": {
            "text/html": [
              "<table class=\"dataframe\">\n",
              "<caption>A tibble: 13 × 2</caption>\n",
              "<thead>\n",
              "\t<tr><th scope=col>income</th><th scope=col>n</th></tr>\n",
              "\t<tr><th scope=col>&lt;fct&gt;</th><th scope=col>&lt;int&gt;</th></tr>\n",
              "</thead>\n",
              "<tbody>\n",
              "\t<tr><td>lt $1000      </td><td>  37</td></tr>\n",
              "\t<tr><td>$1000 to 2999 </td><td>  28</td></tr>\n",
              "\t<tr><td>$3000 to 3999 </td><td>  19</td></tr>\n",
              "\t<tr><td>$4000 to 4999 </td><td>  14</td></tr>\n",
              "\t<tr><td>$5000 to 5999 </td><td>  14</td></tr>\n",
              "\t<tr><td>$6000 to 6999 </td><td>   9</td></tr>\n",
              "\t<tr><td>$7000 to 7999 </td><td>  13</td></tr>\n",
              "\t<tr><td>$8000 to 9999 </td><td>  42</td></tr>\n",
              "\t<tr><td>$10000 - 14999</td><td> 142</td></tr>\n",
              "\t<tr><td>$15000 - 19999</td><td>  81</td></tr>\n",
              "\t<tr><td>$20000 - 24999</td><td> 140</td></tr>\n",
              "\t<tr><td>$25000 or more</td><td>1444</td></tr>\n",
              "\t<tr><td>NA            </td><td> 365</td></tr>\n",
              "</tbody>\n",
              "</table>\n"
            ],
            "text/markdown": "\nA tibble: 13 × 2\n\n| income &lt;fct&gt; | n &lt;int&gt; |\n|---|---|\n| lt $1000       |   37 |\n| $1000 to 2999  |   28 |\n| $3000 to 3999  |   19 |\n| $4000 to 4999  |   14 |\n| $5000 to 5999  |   14 |\n| $6000 to 6999  |    9 |\n| $7000 to 7999  |   13 |\n| $8000 to 9999  |   42 |\n| $10000 - 14999 |  142 |\n| $15000 - 19999 |   81 |\n| $20000 - 24999 |  140 |\n| $25000 or more | 1444 |\n| NA             |  365 |\n\n",
            "text/latex": "A tibble: 13 × 2\n\\begin{tabular}{ll}\n income & n\\\\\n <fct> & <int>\\\\\n\\hline\n\t lt \\$1000       &   37\\\\\n\t \\$1000 to 2999  &   28\\\\\n\t \\$3000 to 3999  &   19\\\\\n\t \\$4000 to 4999  &   14\\\\\n\t \\$5000 to 5999  &   14\\\\\n\t \\$6000 to 6999  &    9\\\\\n\t \\$7000 to 7999  &   13\\\\\n\t \\$8000 to 9999  &   42\\\\\n\t \\$10000 - 14999 &  142\\\\\n\t \\$15000 - 19999 &   81\\\\\n\t \\$20000 - 24999 &  140\\\\\n\t \\$25000 or more & 1444\\\\\n\t NA             &  365\\\\\n\\end{tabular}\n",
            "text/plain": [
              "   income         n   \n",
              "1  lt $1000         37\n",
              "2  $1000 to 2999    28\n",
              "3  $3000 to 3999    19\n",
              "4  $4000 to 4999    14\n",
              "5  $5000 to 5999    14\n",
              "6  $6000 to 6999     9\n",
              "7  $7000 to 7999    13\n",
              "8  $8000 to 9999    42\n",
              "9  $10000 - 14999  142\n",
              "10 $15000 - 19999   81\n",
              "11 $20000 - 24999  140\n",
              "12 $25000 or more 1444\n",
              "13 NA              365"
            ]
          },
          "metadata": {}
        }
      ],
      "source": [
        "gss18 %>% count(income) %>% mutate(line = row_number(), line_total = n * line) %>%\n",
        "        filter(!is.na(income)) %>% summarize(mean = sum(line_total)/sum(n))"
      ]
    },
    {
      "cell_type": "markdown",
      "metadata": {
        "id": "K7NTLzFaQS00"
      },
      "source": [
        "## Exercise\n",
        "\n",
        "Apply the mean function to all numeric variables using `sapply`"
      ]
    },
    {
      "cell_type": "code",
      "execution_count": 16,
      "metadata": {
        "id": "Uv_nytQsQS02",
        "outputId": "bb34578c-1b73-47bf-8da9-fd68d6823079",
        "colab": {
          "base_uri": "https://localhost:8080/",
          "height": 34
        }
      },
      "outputs": [
        {
          "output_type": "display_data",
          "data": {
            "text/html": [
              "<style>\n",
              ".dl-inline {width: auto; margin:0; padding: 0}\n",
              ".dl-inline>dt, .dl-inline>dd {float: none; width: auto; display: inline-block}\n",
              ".dl-inline>dt::after {content: \":\\0020\"; padding-right: .5ex}\n",
              ".dl-inline>dt:not(:first-of-type) {padding-left: .5ex}\n",
              "</style><dl class=dl-inline><dt>age</dt><dd>48.9713797522426</dd><dt>tvhours</dt><dd>2.93826366559486</dd></dl>\n"
            ],
            "text/markdown": "age\n:   48.9713797522426tvhours\n:   2.93826366559486\n\n",
            "text/latex": "\\begin{description*}\n\\item[age] 48.9713797522426\n\\item[tvhours] 2.93826366559486\n\\end{description*}\n",
            "text/plain": [
              "      age   tvhours \n",
              "48.971380  2.938264 "
            ]
          },
          "metadata": {}
        }
      ],
      "source": [
        "gss18 %>% select(where(is.numeric)) %>% sapply(mean, na.rm = T)"
      ]
    },
    {
      "cell_type": "markdown",
      "metadata": {
        "id": "KloNYYqpaqDq"
      },
      "source": [
        "### The `forcats` package\n",
        "`tidyverse` contains a package that has some tools for working with factors. Sometimes it is not automatically loaded by the `tidyverse` metapackage, in which case you must load it manually:"
      ]
    },
    {
      "cell_type": "code",
      "execution_count": null,
      "metadata": {
        "id": "yOnogLr_aqDq"
      },
      "outputs": [],
      "source": [
        "library(forcats)"
      ]
    },
    {
      "cell_type": "markdown",
      "metadata": {
        "id": "BOqq4yP4aqDr"
      },
      "source": [
        "`forcats` commands are prefixed by `fct_` (compare `stringr`)."
      ]
    },
    {
      "cell_type": "markdown",
      "metadata": {
        "id": "doN4G_PAaqDr"
      },
      "source": [
        "## Generations\n",
        "Here are the ages of everybody in the dataset:"
      ]
    },
    {
      "cell_type": "code",
      "execution_count": 17,
      "metadata": {
        "id": "cmfObZG7aqDs",
        "outputId": "944a74b9-2409-4767-f932-71e68909c740",
        "colab": {
          "base_uri": "https://localhost:8080/",
          "height": 489
        }
      },
      "outputs": [
        {
          "output_type": "stream",
          "name": "stderr",
          "text": [
            "\u001b[1m\u001b[22m`stat_bin()` using `bins = 30`. Pick better value with `binwidth`.\n",
            "Warning message:\n",
            "“\u001b[1m\u001b[22mRemoved 7 rows containing non-finite values (`stat_bin()`).”\n"
          ]
        },
        {
          "output_type": "display_data",
          "data": {
            "text/plain": [
              "plot without title"
            ],
            "image/png": "[encoded data removed]"
          },
          "metadata": {
            "image/png": {
              "width": 420,
              "height": 420
            }
          }
        }
      ],
      "source": [
        "ggplot(gss18) + geom_histogram(aes(x = age))"
      ]
    },
    {
      "cell_type": "markdown",
      "metadata": {
        "id": "C_p42TzOaqDs"
      },
      "source": [
        "## 🤔 Quiz\n",
        "\n",
        "In what year was the oldest person in this dataset born?\n",
        "\n",
        "<ol style=\"list-style-type: upper-alpha;\">\n",
        "    <li>1910-1919</li>\n",
        "    <li>1920-1929</li>\n",
        "    <li>1930-1939</li>\n",
        "    <li>1940-1949</li>\n",
        "</ol>\n"
      ]
    },
    {
      "cell_type": "code",
      "execution_count": 22,
      "metadata": {
        "id": "bYrNaH1caqDs",
        "outputId": "bbfd885f-cc8d-4f3d-9efa-9e1b62b7eb31",
        "colab": {
          "base_uri": "https://localhost:8080/",
          "height": 34
        }
      },
      "outputs": [
        {
          "output_type": "display_data",
          "data": {
            "text/html": [
              "1929"
            ],
            "text/markdown": "1929",
            "text/latex": "1929",
            "text/plain": [
              "[1] 1929"
            ]
          },
          "metadata": {}
        }
      ],
      "source": [
        "# oldest person was born in which year?\n",
        "\n",
        "2018 - gss18 %>% slice_max(age, n = 1) %>% head(1) %>% .$age\n"
      ]
    },
    {
      "cell_type": "markdown",
      "metadata": {
        "id": "QzappyS1aqD2"
      },
      "source": [
        "Let's define the following generations\n",
        "- [Silent generation](https://en.wikipedia.org/wiki/Silent_Generation): 1929&mdash;1945\n",
        "- [Baby boomers](https://en.wikipedia.org/wiki/Baby_boomers): 1946&mdash;1964\n",
        "- [Gen X](https://en.wikipedia.org/wiki/Generation_X): 1964&mdash;1981\n",
        "- [Gen Y/Millennial](https://en.wikipedia.org/wiki/Millennials): 1982&mdash;1996\n",
        "- [Gen Z](https://en.wikipedia.org/wiki/Generation_Z): 1997&mdash;20teens"
      ]
    },
    {
      "cell_type": "code",
      "execution_count": 4,
      "metadata": {
        "id": "xx6N-ATnaqD3"
      },
      "outputs": [],
      "source": [
        "# create a generations column in gss18\n",
        "gss18 <- mutate(gss18, birth_year = 2018 - age,\n",
        "                generation = cut(birth_year, breaks = c(1929, 1946, 1964, 1982, 1997, 2020),\n",
        "                                 labels=c('silent', 'boomer', 'x', 'millennial', 'z')))"
      ]
    },
    {
      "cell_type": "code",
      "execution_count": null,
      "metadata": {
        "id": "4_wIOJ6yaqD3",
        "outputId": "3bbd9b04-2448-4002-d43c-90785108902f"
      },
      "outputs": [
        {
          "data": {
            "image/png": "[encoded data removed]",
            "text/plain": [
              "plot without title"
            ]
          },
          "metadata": {
            "image/png": {
              "height": 300,
              "width": 480
            }
          },
          "output_type": "display_data"
        }
      ],
      "source": [
        "ggplot(gss18) + geom_bar(aes(x = generation, fill = generation))"
      ]
    },
    {
      "cell_type": "markdown",
      "metadata": {
        "id": "POI_iZ6daqD3"
      },
      "source": [
        "## Attitudes about religion\n",
        "Here is the overall distribution of religious affiliation in the data:"
      ]
    },
    {
      "cell_type": "code",
      "execution_count": 24,
      "metadata": {
        "id": "IIxaNxqnaqD4",
        "outputId": "82cf626a-b6bf-4e2e-ed2a-daaecc629767",
        "colab": {
          "base_uri": "https://localhost:8080/",
          "height": 437
        }
      },
      "outputs": [
        {
          "output_type": "display_data",
          "data": {
            "text/plain": [
              "plot without title"
            ],
            "image/png": "[encoded data removed]"
          },
          "metadata": {
            "image/png": {
              "width": 420,
              "height": 420
            }
          }
        }
      ],
      "source": [
        "# distribution of religion\n",
        "gss18 %>% ggplot(aes(x = relig, fill = relig)) +\n",
        "  geom_bar()"
      ]
    },
    {
      "cell_type": "markdown",
      "metadata": {
        "id": "BSCfuGdhaqD4"
      },
      "source": [
        "Let's think of ways to improve this jumbled plot. First, we can turn it sideways for better readability:"
      ]
    },
    {
      "cell_type": "code",
      "execution_count": 25,
      "metadata": {
        "id": "CwmSFNMCaqD4",
        "outputId": "842917bb-f308-46e6-e2f6-bb565dab23b4",
        "colab": {
          "base_uri": "https://localhost:8080/",
          "height": 437
        }
      },
      "outputs": [
        {
          "output_type": "display_data",
          "data": {
            "text/plain": [
              "plot without title"
            ],
            "image/png": "[encoded data removed]"
          },
          "metadata": {
            "image/png": {
              "width": 420,
              "height": 420
            }
          }
        }
      ],
      "source": [
        "# distribution of religion\n",
        "gss18 %>% ggplot(aes(y = relig, fill = relig)) +\n",
        "  geom_bar()\n"
      ]
    },
    {
      "cell_type": "markdown",
      "metadata": {
        "id": "7VokMOiUaqD4"
      },
      "source": [
        "By default, the order of the labels shown by R corresponds to the order of the factor levels:"
      ]
    },
    {
      "cell_type": "code",
      "execution_count": 26,
      "metadata": {
        "id": "1lEY5S-qaqD4",
        "outputId": "1a7dad60-3505-4321-ec04-f1c9e579f0e8",
        "colab": {
          "base_uri": "https://localhost:8080/",
          "height": 52
        }
      },
      "outputs": [
        {
          "output_type": "display_data",
          "data": {
            "text/html": [
              "<style>\n",
              ".list-inline {list-style: none; margin:0; padding: 0}\n",
              ".list-inline>li {display: inline-block}\n",
              ".list-inline>li:not(:last-child)::after {content: \"\\00b7\"; padding: 0 .5ex}\n",
              "</style>\n",
              "<ol class=list-inline><li>'protestant'</li><li>'catholic'</li><li>'jewish'</li><li>'none'</li><li>'other'</li><li>'buddhism'</li><li>'hinduism'</li><li>'other eastern'</li><li>'moslem/islam'</li><li>'orthodox-christian'</li><li>'christian'</li><li>'native american'</li><li>'inter-nondenominational'</li></ol>\n"
            ],
            "text/markdown": "1. 'protestant'\n2. 'catholic'\n3. 'jewish'\n4. 'none'\n5. 'other'\n6. 'buddhism'\n7. 'hinduism'\n8. 'other eastern'\n9. 'moslem/islam'\n10. 'orthodox-christian'\n11. 'christian'\n12. 'native american'\n13. 'inter-nondenominational'\n\n\n",
            "text/latex": "\\begin{enumerate*}\n\\item 'protestant'\n\\item 'catholic'\n\\item 'jewish'\n\\item 'none'\n\\item 'other'\n\\item 'buddhism'\n\\item 'hinduism'\n\\item 'other eastern'\n\\item 'moslem/islam'\n\\item 'orthodox-christian'\n\\item 'christian'\n\\item 'native american'\n\\item 'inter-nondenominational'\n\\end{enumerate*}\n",
            "text/plain": [
              " [1] \"protestant\"              \"catholic\"               \n",
              " [3] \"jewish\"                  \"none\"                   \n",
              " [5] \"other\"                   \"buddhism\"               \n",
              " [7] \"hinduism\"                \"other eastern\"          \n",
              " [9] \"moslem/islam\"            \"orthodox-christian\"     \n",
              "[11] \"christian\"               \"native american\"        \n",
              "[13] \"inter-nondenominational\""
            ]
          },
          "metadata": {}
        }
      ],
      "source": [
        "# levels of gss18$relig\n",
        "levels(gss18$relig)"
      ]
    },
    {
      "cell_type": "markdown",
      "metadata": {
        "id": "iwwQryfRaqD5"
      },
      "source": [
        "To improve the appearance of the plot, we can use `fct_infreq` to reorder the levels such in increasing order of frequency:"
      ]
    },
    {
      "cell_type": "code",
      "execution_count": 27,
      "metadata": {
        "id": "Om30a7RXaqD5",
        "outputId": "b55e95e0-34ac-40fe-cd0f-0e8f7969886c",
        "colab": {
          "base_uri": "https://localhost:8080/",
          "height": 437
        }
      },
      "outputs": [
        {
          "output_type": "display_data",
          "data": {
            "text/plain": [
              "plot without title"
            ],
            "image/png": "[encoded data removed]"
          },
          "metadata": {
            "image/png": {
              "width": 420,
              "height": 420
            }
          }
        }
      ],
      "source": [
        "# sort the levels by their frequency\n",
        "\n",
        "gss18 %>% ggplot(aes(y = fct_infreq(relig), fill = relig)) +\n",
        "  geom_bar()"
      ]
    },
    {
      "cell_type": "code",
      "execution_count": null,
      "metadata": {
        "id": "4c4cUpPhaqD5",
        "outputId": "dd30adda-beda-49bf-f193-bfbbccc5a3dc"
      },
      "outputs": [
        {
          "data": {
            "image/png": "[encoded data removed]",
            "text/plain": [
              "plot without title"
            ]
          },
          "metadata": {
            "image/png": {
              "height": 300,
              "width": 480
            }
          },
          "output_type": "display_data"
        }
      ],
      "source": [
        "# plot levels sorted by frequency"
      ]
    },
    {
      "cell_type": "markdown",
      "metadata": {
        "id": "NR50fBYVaqD5"
      },
      "source": [
        "We may also want to simplify the plot by grouping some factors together. The `fct_lump` command will combine uncommon factor levels into a new level, \"other\":"
      ]
    },
    {
      "cell_type": "code",
      "execution_count": 5,
      "metadata": {
        "id": "Rf73ircVaqD5",
        "outputId": "3a86e168-f9da-478a-f997-c00521aaee31",
        "colab": {
          "base_uri": "https://localhost:8080/",
          "height": 437
        }
      },
      "outputs": [
        {
          "output_type": "display_data",
          "data": {
            "text/plain": [
              "plot without title"
            ],
            "image/png": "[encoded data removed]"
          },
          "metadata": {
            "image/png": {
              "width": 420,
              "height": 420
            }
          }
        }
      ],
      "source": [
        "# lump uncommon factors together\n",
        "\n",
        "gss18 %>% ggplot(aes(x = fct_lump(relig), fill = fct_lump(relig))) +\n",
        "  geom_bar()"
      ]
    },
    {
      "cell_type": "markdown",
      "metadata": {
        "id": "cYERRCM-aqD6"
      },
      "source": [
        "Be careful with this. Not everybody enjoys being lumped into the \"Other\" category. A good compromise in this case could be to use one bar for \"Other\", but still break everyone out in the legend:"
      ]
    },
    {
      "cell_type": "code",
      "execution_count": 6,
      "metadata": {
        "id": "Z-pFuktHaqD6",
        "outputId": "3fdaa4c0-a30f-472a-a373-6661c07d7517",
        "colab": {
          "base_uri": "https://localhost:8080/",
          "height": 437
        }
      },
      "outputs": [
        {
          "output_type": "display_data",
          "data": {
            "text/plain": [
              "plot without title"
            ],
            "image/png": "[encoded data removed]"
          },
          "metadata": {
            "image/png": {
              "width": 420,
              "height": 420
            }
          }
        }
      ],
      "source": [
        "# lumped levels, but still showing the variation\n",
        "gss18 %>% ggplot(aes(x = fct_lump(relig), fill = relig)) +\n",
        "  geom_bar()"
      ]
    },
    {
      "cell_type": "markdown",
      "metadata": {
        "id": "YUaSMsQTaqD7"
      },
      "source": [
        "## Religious affiliation by generation\n",
        "How does religious affiliation vary from one generation to the next? To study this, we will first use a simple table. The `table` command will take a dataframe containing two categorical columns and create a 2-way table of counts from them:"
      ]
    },
    {
      "cell_type": "code",
      "execution_count": 31,
      "metadata": {
        "id": "aC_wiTHlaqD7",
        "outputId": "2c21984d-786d-4dc5-a8fb-1c2ab6700ce0",
        "colab": {
          "base_uri": "https://localhost:8080/"
        }
      },
      "outputs": [
        {
          "output_type": "stream",
          "name": "stdout",
          "text": [
            "\u001b[90m# A tibble: 2,348 × 2\u001b[39m\n",
            "   relig      fct_lump_relig\n",
            "   \u001b[3m\u001b[90m<fct>\u001b[39m\u001b[23m      \u001b[3m\u001b[90m<fct>\u001b[39m\u001b[23m         \n",
            "\u001b[90m 1\u001b[39m christian  Other         \n",
            "\u001b[90m 2\u001b[39m catholic   catholic      \n",
            "\u001b[90m 3\u001b[39m none       none          \n",
            "\u001b[90m 4\u001b[39m protestant protestant    \n",
            "\u001b[90m 5\u001b[39m catholic   catholic      \n",
            "\u001b[90m 6\u001b[39m catholic   catholic      \n",
            "\u001b[90m 7\u001b[39m protestant protestant    \n",
            "\u001b[90m 8\u001b[39m catholic   catholic      \n",
            "\u001b[90m 9\u001b[39m none       none          \n",
            "\u001b[90m10\u001b[39m protestant protestant    \n",
            "\u001b[90m# ℹ 2,338 more rows\u001b[39m\n"
          ]
        }
      ],
      "source": [
        "# religious by generation\n",
        "gss18 <- gss18 %>% mutate(fct_lump_relig = fct_lump(relig))\n",
        "gss18 %>% select(relig, fct_lump_relig) %>% print"
      ]
    },
    {
      "cell_type": "code",
      "execution_count": 32,
      "metadata": {
        "id": "GqCeYYXbQS08",
        "outputId": "9447db40-386a-4646-bfce-cb716993196a",
        "colab": {
          "base_uri": "https://localhost:8080/",
          "height": 138
        }
      },
      "outputs": [
        {
          "output_type": "display_data",
          "data": {
            "text/plain": [
              "            fct_lump_relig\n",
              "generation   protestant catholic none Other\n",
              "  silent            162       51   26    11\n",
              "  boomer            371      159  114    42\n",
              "  x                 332      155  157    45\n",
              "  millennial        235      101  221    48\n",
              "  z                  16       20   21     6"
            ]
          },
          "metadata": {}
        }
      ],
      "source": [
        "gss18 %>% select(generation, fct_lump_relig) %>% table"
      ]
    },
    {
      "cell_type": "markdown",
      "metadata": {
        "id": "kFqVJV4ZaqD8"
      },
      "source": [
        "We probably want to normalize this table so that the data are expressed as percentages, with the rows summing to one:"
      ]
    },
    {
      "cell_type": "code",
      "execution_count": 35,
      "metadata": {
        "id": "mltcgbByaqD8",
        "outputId": "265bae3c-5c74-4a5a-ead0-e0926d0def57",
        "colab": {
          "base_uri": "https://localhost:8080/",
          "height": 138
        }
      },
      "outputs": [
        {
          "output_type": "display_data",
          "data": {
            "text/plain": [
              "            fct_lump_relig\n",
              "generation    protestant    catholic        none       Other\n",
              "  silent     0.070649804 0.022241605 0.011338857 0.004797209\n",
              "  boomer     0.161796773 0.069341474 0.049716529 0.018316616\n",
              "  x          0.144788487 0.067597034 0.068469254 0.019624945\n",
              "  millennial 0.102485826 0.044047100 0.096380288 0.020933275\n",
              "  z          0.006977758 0.008722198 0.009158308 0.002616659"
            ]
          },
          "metadata": {}
        }
      ],
      "source": [
        "# normalize the table\n",
        "\n",
        "gss18 %>% select(generation, fct_lump_relig) %>% table %>% prop.table"
      ]
    },
    {
      "cell_type": "markdown",
      "metadata": {
        "id": "LK4dTwwhaqD8"
      },
      "source": [
        "Note that by normalizing the rows or columns, we are now studying the conditional distribution of religion given generational status (or vice versa)"
      ]
    },
    {
      "cell_type": "code",
      "execution_count": 38,
      "metadata": {
        "id": "b5BzrXlOQS09",
        "outputId": "6e853624-3069-43a3-e311-11aba9a0f904",
        "colab": {
          "base_uri": "https://localhost:8080/",
          "height": 138
        }
      },
      "outputs": [
        {
          "output_type": "display_data",
          "data": {
            "text/plain": [
              "            fct_lump_relig\n",
              "generation   protestant   catholic       none      Other\n",
              "  silent     0.64800000 0.20400000 0.10400000 0.04400000\n",
              "  boomer     0.54081633 0.23177843 0.16618076 0.06122449\n",
              "  x          0.48185776 0.22496372 0.22786647 0.06531205\n",
              "  millennial 0.38842975 0.16694215 0.36528926 0.07933884\n",
              "  z          0.25396825 0.31746032 0.33333333 0.09523810"
            ]
          },
          "metadata": {}
        }
      ],
      "source": [
        "# normalize the row\n",
        "\n",
        "gss18 %>% select(generation, fct_lump_relig) %>% table %>% prop.table(1)\n"
      ]
    },
    {
      "cell_type": "markdown",
      "metadata": {
        "id": "2IAmcbSzQS09"
      },
      "source": [
        "Next we will do conditional distribution of generation; given a religion\n"
      ]
    },
    {
      "cell_type": "code",
      "execution_count": 39,
      "metadata": {
        "id": "cjqBaEhRQS09",
        "outputId": "446902c6-2270-47aa-f1a9-a8231a0e4e9b",
        "colab": {
          "base_uri": "https://localhost:8080/",
          "height": 138
        }
      },
      "outputs": [
        {
          "output_type": "display_data",
          "data": {
            "text/plain": [
              "            fct_lump_relig\n",
              "generation   protestant   catholic       none      Other\n",
              "  silent     0.14516129 0.10493827 0.04823748 0.07236842\n",
              "  boomer     0.33243728 0.32716049 0.21150278 0.27631579\n",
              "  x          0.29749104 0.31893004 0.29128015 0.29605263\n",
              "  millennial 0.21057348 0.20781893 0.41001855 0.31578947\n",
              "  z          0.01433692 0.04115226 0.03896104 0.03947368"
            ]
          },
          "metadata": {}
        }
      ],
      "source": [
        "# normalize the column\n",
        "\n",
        "gss18 %>% select(generation, fct_lump_relig) %>% table %>% prop.table(2)"
      ]
    },
    {
      "cell_type": "markdown",
      "metadata": {
        "id": "56VIDWTMaqD8"
      },
      "source": [
        "Next, let's test whether religious affiliation and generational status are statistically independent. To do this, we'll perform a chi-squared test of independence, using `chisq.test()`:"
      ]
    },
    {
      "cell_type": "code",
      "execution_count": 41,
      "metadata": {
        "id": "g3hjBHLNaqD8",
        "outputId": "f399f495-1b8e-4e37-86a7-85bf965345d0",
        "colab": {
          "base_uri": "https://localhost:8080/",
          "height": 138
        }
      },
      "outputs": [
        {
          "output_type": "stream",
          "name": "stderr",
          "text": [
            "Warning message in chisq.test(.):\n",
            "“Chi-squared approximation may be incorrect”\n"
          ]
        },
        {
          "output_type": "display_data",
          "data": {
            "text/plain": [
              "\n",
              "\tPearson's Chi-squared test\n",
              "\n",
              "data:  .\n",
              "X-squared = 130.53, df = 12, p-value < 2.2e-16\n"
            ]
          },
          "metadata": {}
        }
      ],
      "source": [
        "# chi-squared test of independence\n",
        "gss18 %>% select(generation, fct_lump_relig) %>% table %>% chisq.test()\n"
      ]
    },
    {
      "cell_type": "markdown",
      "metadata": {
        "id": "W5tzKFDlaqD9"
      },
      "source": [
        "## Hours of TV watched\n",
        "How does TV watching vary from generation to generation?"
      ]
    },
    {
      "cell_type": "code",
      "execution_count": 42,
      "metadata": {
        "id": "OEwsz-hBaqD9",
        "outputId": "77dff189-a647-418f-a855-1dc8d7358cc7",
        "colab": {
          "base_uri": "https://localhost:8080/",
          "height": 472
        }
      },
      "outputs": [
        {
          "output_type": "stream",
          "name": "stderr",
          "text": [
            "Warning message:\n",
            "“\u001b[1m\u001b[22mRemoved 793 rows containing non-finite values (`stat_boxplot()`).”\n"
          ]
        },
        {
          "output_type": "display_data",
          "data": {
            "text/plain": [
              "plot without title"
            ],
            "image/png": "[encoded data removed]"
          },
          "metadata": {
            "image/png": {
              "width": 420,
              "height": 420
            }
          }
        }
      ],
      "source": [
        "# hours of TV\n",
        "gss18 %>% ggplot(aes(x = generation, y = tvhours)) + geom_boxplot()"
      ]
    },
    {
      "cell_type": "markdown",
      "metadata": {
        "id": "JYFupHADaqD9"
      },
      "source": [
        "This plot could maybe be improved by ordering the boxes so that the medians are in ascending order:"
      ]
    },
    {
      "cell_type": "code",
      "execution_count": 43,
      "metadata": {
        "id": "NtJroB8GaqD9",
        "scrolled": true,
        "outputId": "17a90a9a-37c4-43ee-b0be-03b4463697d9",
        "colab": {
          "base_uri": "https://localhost:8080/",
          "height": 611
        }
      },
      "outputs": [
        {
          "output_type": "stream",
          "name": "stderr",
          "text": [
            "Warning message:\n",
            "“\u001b[1m\u001b[22m`fct_reorder()` removing 793 missing values.\n",
            "\u001b[36mℹ\u001b[39m Use `.na_rm = TRUE` to silence this message.\n",
            "\u001b[36mℹ\u001b[39m Use `.na_rm = FALSE` to preserve NAs.”\n",
            "Warning message:\n",
            "“\u001b[1m\u001b[22m`fct_reorder()` removing 793 missing values.\n",
            "\u001b[36mℹ\u001b[39m Use `.na_rm = TRUE` to silence this message.\n",
            "\u001b[36mℹ\u001b[39m Use `.na_rm = FALSE` to preserve NAs.”\n",
            "Warning message:\n",
            "“\u001b[1m\u001b[22mRemoved 793 rows containing non-finite values (`stat_boxplot()`).”\n"
          ]
        },
        {
          "output_type": "display_data",
          "data": {
            "text/plain": [
              "plot without title"
            ],
            "image/png": "[encoded data removed]"
          },
          "metadata": {
            "image/png": {
              "width": 420,
              "height": 420
            }
          }
        }
      ],
      "source": [
        "# reorder the factor in ascending order of median\n",
        "gss18 %>% ggplot(aes(x=fct_reorder(generation, tvhours), y=tvhours)) + geom_boxplot()"
      ]
    },
    {
      "cell_type": "markdown",
      "metadata": {
        "id": "PsOBFfQbaqD-"
      },
      "source": [
        "## Phone usage\n",
        "How many people in each generation use a {land line, cell phone}?"
      ]
    },
    {
      "cell_type": "code",
      "execution_count": 44,
      "metadata": {
        "id": "1iC0CE6saqD-",
        "outputId": "3fcdc337-81ba-411f-9549-34ab5a69cfd1",
        "colab": {
          "base_uri": "https://localhost:8080/",
          "height": 260
        }
      },
      "outputs": [
        {
          "output_type": "display_data",
          "data": {
            "text/plain": [
              "            phone\n",
              "generation      no phone     refused phone in home phone elsewhere\n",
              "  silent     0.028000000 0.028000000   0.676000000     0.016000000\n",
              "  boomer     0.004322767 0.050432277   0.423631124     0.024495677\n",
              "  x          0.004310345 0.041666667   0.231321839     0.014367816\n",
              "  millennial 0.003284072 0.016420361   0.090311987     0.003284072\n",
              "  z          0.000000000 0.047619048   0.174603175     0.031746032\n",
              "            phone\n",
              "generation   phone,dk where   cellphone\n",
              "  silent        0.000000000 0.252000000\n",
              "  boomer        0.000000000 0.497118156\n",
              "  x             0.000000000 0.708333333\n",
              "  millennial    0.000000000 0.886699507\n",
              "  z             0.000000000 0.746031746"
            ]
          },
          "metadata": {}
        }
      ],
      "source": [
        "gss18 %>% select(generation, phone) %>% table %>% prop.table(1)"
      ]
    },
    {
      "cell_type": "markdown",
      "metadata": {
        "id": "fS1zQeauaqD-"
      },
      "source": [
        "## Political orientation"
      ]
    },
    {
      "cell_type": "code",
      "execution_count": null,
      "metadata": {
        "id": "WNMIPUx_aqD-",
        "outputId": "dff7ba8e-a5e4-4279-c49f-d26fe1807803"
      },
      "outputs": [
        {
          "data": {
            "text/plain": [
              "            partyid\n",
              "generation   strong democrat not str democrat ind,near dem independent\n",
              "  silent          0.21285141       0.10843373   0.14056225  0.12449799\n",
              "  boomer          0.19202363       0.14327917   0.11225997  0.12703102\n",
              "  x               0.16204380       0.15474453   0.14160584  0.17518248\n",
              "  millennial      0.11570248       0.17024793   0.15206612  0.25950413\n",
              "  z               0.07936508       0.22222222   0.07936508  0.20634921\n",
              "            partyid\n",
              "generation   ind,near rep not str republican strong republican other party\n",
              "  silent       0.09638554         0.10843373        0.18875502  0.02008032\n",
              "  boomer       0.11078287         0.12407681        0.16100443  0.02954210\n",
              "  x            0.10656934         0.13430657        0.09635036  0.02919708\n",
              "  millennial   0.12231405         0.09256198        0.04297521  0.04462810\n",
              "  z            0.15873016         0.14285714        0.06349206  0.04761905"
            ]
          },
          "metadata": {},
          "output_type": "display_data"
        }
      ],
      "source": [
        "select(gss18, generation, partyid) %>% table %>% prop.table(1)"
      ]
    },
    {
      "cell_type": "markdown",
      "metadata": {
        "id": "k4F_tDObaqD-"
      },
      "source": [
        "We can visualize these proportions, but it gets a bit messy because of all the levels."
      ]
    },
    {
      "cell_type": "markdown",
      "metadata": {
        "id": "HY_0hZvpaqD_"
      },
      "source": [
        "### Recoding factors\n",
        "Sometimes we want to recode factors to make their labels more interpretable/plottable/whatever. We can use `fct_recode` to this. The syntax is\n",
        "\n",
        "    fct_recode(<factor>, \"new_level1\" = \"old level1\", \"new level2\" = \"old level2\", ...)\n",
        "    \n",
        "A useful feature of `fct_recode` is for combining multiple factors into one:"
      ]
    },
    {
      "cell_type": "code",
      "execution_count": 47,
      "metadata": {
        "id": "_O0m_TcaaqD_",
        "outputId": "cb845676-d882-4e45-962a-aee8ec8633cd",
        "colab": {
          "base_uri": "https://localhost:8080/"
        }
      },
      "outputs": [
        {
          "output_type": "stream",
          "name": "stdout",
          "text": [
            "\u001b[90m# A tibble: 2,348 × 17\u001b[39m\n",
            "     age race  sex   relig relpast sexbirth sexnow yearsusa unhappy educ  income\n",
            "   \u001b[3m\u001b[90m<int>\u001b[39m\u001b[23m \u001b[3m\u001b[90m<fct>\u001b[39m\u001b[23m \u001b[3m\u001b[90m<fct>\u001b[39m\u001b[23m \u001b[3m\u001b[90m<fct>\u001b[39m\u001b[23m \u001b[3m\u001b[90m<fct>\u001b[39m\u001b[23m   \u001b[3m\u001b[90m<fct>\u001b[39m\u001b[23m    \u001b[3m\u001b[90m<fct>\u001b[39m\u001b[23m  \u001b[3m\u001b[90m<fct>\u001b[39m\u001b[23m    \u001b[3m\u001b[90m<fct>\u001b[39m\u001b[23m   \u001b[3m\u001b[90m<fct>\u001b[39m\u001b[23m \u001b[3m\u001b[90m<fct>\u001b[39m\u001b[23m \n",
            "\u001b[90m 1\u001b[39m    43 white male  chri… strong… \u001b[31mNA\u001b[39m       \u001b[31mNA\u001b[39m     \u001b[31mNA\u001b[39m       \u001b[31mNA\u001b[39m      14    \u001b[31mNA\u001b[39m    \n",
            "\u001b[90m 2\u001b[39m    74 white fema… cath… \u001b[31mNA\u001b[39m      female   women  \u001b[31mNA\u001b[39m       never   10    $2500…\n",
            "\u001b[90m 3\u001b[39m    42 white male  none  neithe… male     man    \u001b[31mNA\u001b[39m       \u001b[31mNA\u001b[39m      16    $2500…\n",
            "\u001b[90m 4\u001b[39m    63 white fema… prot… \u001b[31mNA\u001b[39m      female   women  \u001b[31mNA\u001b[39m       rarely  16    \u001b[31mNA\u001b[39m    \n",
            "\u001b[90m 5\u001b[39m    71 black male  cath… \u001b[31mNA\u001b[39m      male     man    \u001b[31mNA\u001b[39m       never   18    \u001b[31mNA\u001b[39m    \n",
            "\u001b[90m 6\u001b[39m    67 white fema… cath… disagr… \u001b[31mNA\u001b[39m       \u001b[31mNA\u001b[39m     \u001b[31mNA\u001b[39m       \u001b[31mNA\u001b[39m      16    \u001b[31mNA\u001b[39m    \n",
            "\u001b[90m 7\u001b[39m    59 black fema… prot… \u001b[31mNA\u001b[39m      \u001b[31mNA\u001b[39m       \u001b[31mNA\u001b[39m     \u001b[31mNA\u001b[39m       rarely  13    $1500…\n",
            "\u001b[90m 8\u001b[39m    43 white male  cath… \u001b[31mNA\u001b[39m      male     man    \u001b[31mNA\u001b[39m       rarely  12    $2500…\n",
            "\u001b[90m 9\u001b[39m    62 white fema… none  disagr… female   women  \u001b[31mNA\u001b[39m       \u001b[31mNA\u001b[39m      8     $5000…\n",
            "\u001b[90m10\u001b[39m    55 white male  prot… \u001b[31mNA\u001b[39m      male     man    \u001b[31mNA\u001b[39m       often   12    $2500…\n",
            "\u001b[90m# ℹ 2,338 more rows\u001b[39m\n",
            "\u001b[90m# ℹ 6 more variables: phone <fct>, tvhours <int>, partyid <fct>,\u001b[39m\n",
            "\u001b[90m#   birth_year <dbl>, generation <fct>, fct_lump_relig <fct>\u001b[39m\n"
          ]
        }
      ],
      "source": [
        "# lump everyone into Democrat, Independent, Republican, or Other\n",
        "\n",
        "gss18 %>%\n",
        "  mutate(partyid = fct_recode(partyid,\n",
        "    \"Republican, strong\"    = \"strong republican\",\n",
        "    \"Republican, weak\"      = \"not str republican\",\n",
        "    \"Independent, near republican\" = \"ind,near rep\",\n",
        "    \"Independent, near democrat\" = \"ind,near dem\",\n",
        "    \"Democrat, weak\"        = \"not str democrat\",\n",
        "    \"Democrat, strong\"      = \"strong democrat\"\n",
        "  )) %>% print"
      ]
    },
    {
      "cell_type": "markdown",
      "metadata": {
        "id": "iaG-hWpEaqD_"
      },
      "source": [
        "If there are many levels this gets repetitious, so we have an additional command called `fct_collapse` which is specifically designed to handle this case:"
      ]
    },
    {
      "cell_type": "code",
      "execution_count": 48,
      "metadata": {
        "id": "g_nxNZ29aqD_",
        "outputId": "8f05cb71-80de-4084-9eda-9bd1376236ab",
        "colab": {
          "base_uri": "https://localhost:8080/",
          "height": 341
        }
      },
      "outputs": [
        {
          "output_type": "stream",
          "name": "stderr",
          "text": [
            "Warning message:\n",
            "“\u001b[1m\u001b[22mThere was 1 warning in `mutate()`.\n",
            "\u001b[1m\u001b[22m\u001b[36mℹ\u001b[39m In argument: `partyid = fct_collapse(...)`.\n",
            "Caused by warning:\n",
            "\u001b[33m!\u001b[39m Unknown levels in `f`: no answer, don't know”\n"
          ]
        },
        {
          "output_type": "display_data",
          "data": {
            "text/html": [
              "<table class=\"dataframe\">\n",
              "<caption>A tibble: 5 × 2</caption>\n",
              "<thead>\n",
              "\t<tr><th scope=col>partyid</th><th scope=col>n</th></tr>\n",
              "\t<tr><th scope=col>&lt;fct&gt;</th><th scope=col>&lt;int&gt;</th></tr>\n",
              "</thead>\n",
              "<tbody>\n",
              "\t<tr><td>Democrat   </td><td>731</td></tr>\n",
              "\t<tr><td>Independent</td><td>980</td></tr>\n",
              "\t<tr><td>Republican </td><td>527</td></tr>\n",
              "\t<tr><td>Other      </td><td> 77</td></tr>\n",
              "\t<tr><td>NA         </td><td> 33</td></tr>\n",
              "</tbody>\n",
              "</table>\n"
            ],
            "text/markdown": "\nA tibble: 5 × 2\n\n| partyid &lt;fct&gt; | n &lt;int&gt; |\n|---|---|\n| Democrat    | 731 |\n| Independent | 980 |\n| Republican  | 527 |\n| Other       |  77 |\n| NA          |  33 |\n\n",
            "text/latex": "A tibble: 5 × 2\n\\begin{tabular}{ll}\n partyid & n\\\\\n <fct> & <int>\\\\\n\\hline\n\t Democrat    & 731\\\\\n\t Independent & 980\\\\\n\t Republican  & 527\\\\\n\t Other       &  77\\\\\n\t NA          &  33\\\\\n\\end{tabular}\n",
            "text/plain": [
              "  partyid     n  \n",
              "1 Democrat    731\n",
              "2 Independent 980\n",
              "3 Republican  527\n",
              "4 Other        77\n",
              "5 NA           33"
            ]
          },
          "metadata": {}
        }
      ],
      "source": [
        "gss18 %>%\n",
        "  mutate(partyid = fct_collapse(partyid,\n",
        "    Other = c(\"no answer\", \"don't know\", \"other party\"),\n",
        "    Republican = c(\"strong republican\", \"not str republican\"),\n",
        "    Independent = c(\"ind,near rep\", \"independent\", \"ind,near dem\"),\n",
        "    Democrat = c(\"not str democrat\", \"strong democrat\")\n",
        "  )) %>%\n",
        "  count(partyid)"
      ]
    },
    {
      "cell_type": "code",
      "source": [],
      "metadata": {
        "id": "06btUohBctWo"
      },
      "execution_count": null,
      "outputs": []
    }
  ],
  "metadata": {
    "celltoolbar": "Slideshow",
    "colab": {
      "provenance": []
    },
    "kernelspec": {
      "display_name": "R",
      "language": "R",
      "name": "ir"
    },
    "language_info": {
      "codemirror_mode": "r",
      "file_extension": ".r",
      "mimetype": "text/x-r-source",
      "name": "R",
      "pygments_lexer": "r",
      "version": "4.3.1"
    },
    "toc": {
      "nav_menu": {},
      "number_sections": true,
      "sideBar": true,
      "skip_h1_title": true,
      "toc_cell": false,
      "toc_position": {},
      "toc_section_display": "block",
      "toc_window_display": true
    }
  },
  "nbformat": 4,
  "nbformat_minor": 0
}