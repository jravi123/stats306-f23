{
  "cells": [
    {
      "cell_type": "code",
      "execution_count": 1,
      "metadata": {
        "colab": {
          "base_uri": "https://localhost:8080/"
        },
        "id": "JKOHZrFOQv8K",
        "outputId": "ca27c99a-40d1-45da-e3ef-88f98bdaebe6"
      },
      "outputs": [
        {
          "output_type": "stream",
          "name": "stderr",
          "text": [
            "Installing package into ‘/usr/local/lib/R/site-library’\n",
            "(as ‘lib’ is unspecified)\n",
            "\n"
          ]
        }
      ],
      "source": [
        "install.packages('nycflights13')"
      ]
    },
    {
      "cell_type": "code",
      "execution_count": 2,
      "metadata": {
        "colab": {
          "base_uri": "https://localhost:8080/"
        },
        "id": "rapOykZ7Q43L",
        "outputId": "cb5c1111-dd3d-45f2-ed8e-70b719a4adf5"
      },
      "outputs": [
        {
          "output_type": "stream",
          "name": "stderr",
          "text": [
            "Installing package into ‘/usr/local/lib/R/site-library’\n",
            "(as ‘lib’ is unspecified)\n",
            "\n",
            "also installing the dependencies ‘Rcpp’, ‘SnowballC’, ‘janeaustenr’, ‘tokenizers’\n",
            "\n",
            "\n"
          ]
        }
      ],
      "source": [
        "install.packages('tidytext')"
      ]
    },
    {
      "cell_type": "code",
      "execution_count": 6,
      "metadata": {
        "colab": {
          "base_uri": "https://localhost:8080/"
        },
        "id": "KvQbNhRwQtIJ",
        "outputId": "11d264d1-d289-45e5-f8ae-5628dcd92c45"
      },
      "outputs": [
        {
          "output_type": "stream",
          "name": "stderr",
          "text": [
            "── \u001b[1mAttaching core tidyverse packages\u001b[22m ──────────────────────── tidyverse 2.0.0 ──\n",
            "\u001b[32m✔\u001b[39m \u001b[34mdplyr  \u001b[39m 1.1.3     \u001b[32m✔\u001b[39m \u001b[34mreadr  \u001b[39m 2.1.4\n",
            "\u001b[32m✔\u001b[39m \u001b[34mforcats\u001b[39m 1.0.0     \u001b[32m✔\u001b[39m \u001b[34mstringr\u001b[39m 1.5.0\n",
            "\u001b[32m✔\u001b[39m \u001b[34mggplot2\u001b[39m 3.4.4     \u001b[32m✔\u001b[39m \u001b[34mtibble \u001b[39m 3.2.1\n",
            "\u001b[32m✔\u001b[39m \u001b[34mpurrr  \u001b[39m 1.0.2     \u001b[32m✔\u001b[39m \u001b[34mtidyr  \u001b[39m 1.3.0\n",
            "── \u001b[1mConflicts\u001b[22m ────────────────────────────────────────── tidyverse_conflicts() ──\n",
            "\u001b[31m✖\u001b[39m \u001b[34mdplyr\u001b[39m::\u001b[32mfilter()\u001b[39m masks \u001b[34mstats\u001b[39m::filter()\n",
            "\u001b[31m✖\u001b[39m \u001b[34mdplyr\u001b[39m::\u001b[32mlag()\u001b[39m    masks \u001b[34mstats\u001b[39m::lag()\n",
            "\u001b[36mℹ\u001b[39m Use the conflicted package (\u001b[3m\u001b[34m<http://conflicted.r-lib.org/>\u001b[39m\u001b[23m) to force all conflicts to become errors\n"
          ]
        }
      ],
      "source": [
        "library(tidyverse)\n",
        "library(lubridate)\n",
        "library(nycflights13)\n",
        "library(tidytext)"
      ]
    },
    {
      "cell_type": "markdown",
      "metadata": {
        "id": "Y_t11T2aQtIS"
      },
      "source": [
        "# Lecture 16: Dates"
      ]
    },
    {
      "cell_type": "markdown",
      "metadata": {
        "id": "qbWSXXaKQtIb"
      },
      "source": [
        "## Dates\n",
        "Most of us have a pretty firm grasp on dates. But they can be more complicated than you might think. Consider these three questions from the book:\n",
        "* Does every year have 365 days?\n",
        "* Does every day have 24 hours?\n",
        "* Does every minute have 60 seconds?\n",
        "\n",
        "The answer to all three is \"no\"."
      ]
    },
    {
      "cell_type": "markdown",
      "metadata": {
        "id": "anMd-1oiQtIb"
      },
      "source": [
        "As before, we'll rely on the `lubridate` package to work with dates:"
      ]
    },
    {
      "cell_type": "code",
      "execution_count": 2,
      "metadata": {
        "id": "--P-7dlGQtIf",
        "outputId": "599db208-ed44-4352-a45f-f57102ff0971",
        "colab": {
          "base_uri": "https://localhost:8080/"
        }
      },
      "outputs": [
        {
          "output_type": "stream",
          "name": "stderr",
          "text": [
            "\n",
            "Attaching package: ‘lubridate’\n",
            "\n",
            "\n",
            "The following objects are masked from ‘package:base’:\n",
            "\n",
            "    date, intersect, setdiff, union\n",
            "\n",
            "\n"
          ]
        }
      ],
      "source": [
        "library(lubridate)"
      ]
    },
    {
      "cell_type": "markdown",
      "metadata": {
        "id": "g7p28dBLQtIg"
      },
      "source": [
        "There are three different date classes in R:\n",
        "\n",
        "* A date, printed in tibble as `<date>`, represents a full day on the calendar.\n",
        "* A time within a day, printed as `<time>`, represents a specific time within an (unspecified) day.\n",
        "* A date-time is a date plus a time (tibble: `<dttm>`). A date-time uniquely identifies an instant in time (up to a given precision, usually 1 second.)"
      ]
    },
    {
      "cell_type": "markdown",
      "metadata": {
        "id": "qe-80hIOQtIg"
      },
      "source": [
        "We've already seen examples of date-times in the `flights` tibble:"
      ]
    },
    {
      "cell_type": "code",
      "execution_count": null,
      "metadata": {
        "id": "MN8stkguQtIh",
        "outputId": "5c10ef96-31aa-4755-db95-2d357e8707ac"
      },
      "outputs": [
        {
          "name": "stdout",
          "output_type": "stream",
          "text": [
            "# A tibble: 336,776 x 1\n",
            "   time_hour          \n",
            "   <dttm>             \n",
            " 1 2013-01-01 05:00:00\n",
            " 2 2013-01-01 05:00:00\n",
            " 3 2013-01-01 05:00:00\n",
            " 4 2013-01-01 05:00:00\n",
            " 5 2013-01-01 06:00:00\n",
            " 6 2013-01-01 05:00:00\n",
            " 7 2013-01-01 06:00:00\n",
            " 8 2013-01-01 06:00:00\n",
            " 9 2013-01-01 06:00:00\n",
            "10 2013-01-01 06:00:00\n",
            "# … with 336,766 more rows\n"
          ]
        }
      ],
      "source": [
        "select(flights, time_hour) %>% print"
      ]
    },
    {
      "cell_type": "markdown",
      "metadata": {
        "id": "yk0kxbK1QtIi"
      },
      "source": [
        "You should tend to favor working with dates over date-times if possible. The latter are more complicated because of the need to handle time zones.\n",
        "\n"
      ]
    },
    {
      "cell_type": "markdown",
      "metadata": {
        "id": "3K1adfHMQtIi"
      },
      "source": [
        "We can get the current date and date-time using the `today()` and `now()` commands:"
      ]
    },
    {
      "cell_type": "code",
      "execution_count": null,
      "metadata": {
        "id": "anGnIEEqQtIi",
        "outputId": "dcfcd349-049d-4e87-c33d-77795553f5dd"
      },
      "outputs": [
        {
          "data": {
            "text/html": [
              "<time datetime=\"2023-03-15\">2023-03-15</time>"
            ],
            "text/latex": [
              "2023-03-15"
            ],
            "text/markdown": [
              "2023-03-15"
            ],
            "text/plain": [
              "[1] \"2023-03-15\""
            ]
          },
          "metadata": {},
          "output_type": "display_data"
        }
      ],
      "source": [
        "today()"
      ]
    },
    {
      "cell_type": "code",
      "execution_count": 5,
      "metadata": {
        "id": "mtltYWRyQtIj",
        "outputId": "44b3b138-3b2f-43af-b59c-f4562f293b77",
        "colab": {
          "base_uri": "https://localhost:8080/",
          "height": 34
        }
      },
      "outputs": [
        {
          "output_type": "display_data",
          "data": {
            "text/plain": [
              "[1] \"2023-11-01 20:22:02 UTC\""
            ]
          },
          "metadata": {}
        }
      ],
      "source": [
        "now()"
      ]
    },
    {
      "cell_type": "markdown",
      "metadata": {
        "id": "YeBRYEUHQtIj"
      },
      "source": [
        "### Converting strings to dates and times\n",
        "Frequently you will be encounter date and/or time data stored as text. You will need to convert these data into the native R date classes in order to use date functions on them. The `mdy/ymd/dmy` functions accomplish this."
      ]
    },
    {
      "cell_type": "code",
      "execution_count": null,
      "metadata": {
        "id": "ymevHa_uQtIj",
        "outputId": "e518601a-d10d-42ab-e1c7-db1bd120ad5b"
      },
      "outputs": [
        {
          "data": {
            "text/html": [
              "<time datetime=\"2017-01-31\">2017-01-31</time>"
            ],
            "text/latex": [
              "2017-01-31"
            ],
            "text/markdown": [
              "2017-01-31"
            ],
            "text/plain": [
              "[1] \"2017-01-31\""
            ]
          },
          "metadata": {},
          "output_type": "display_data"
        },
        {
          "data": {
            "text/html": [
              "<time datetime=\"2017-01-31\">2017-01-31</time>"
            ],
            "text/latex": [
              "2017-01-31"
            ],
            "text/markdown": [
              "2017-01-31"
            ],
            "text/plain": [
              "[1] \"2017-01-31\""
            ]
          },
          "metadata": {},
          "output_type": "display_data"
        },
        {
          "data": {
            "text/html": [
              "<time datetime=\"2017-01-31\">2017-01-31</time>"
            ],
            "text/latex": [
              "2017-01-31"
            ],
            "text/markdown": [
              "2017-01-31"
            ],
            "text/plain": [
              "[1] \"2017-01-31\""
            ]
          },
          "metadata": {},
          "output_type": "display_data"
        },
        {
          "data": {
            "text/html": [
              "<time datetime=\"2017-01-31\">2017-01-31</time>"
            ],
            "text/latex": [
              "2017-01-31"
            ],
            "text/markdown": [
              "2017-01-31"
            ],
            "text/plain": [
              "[1] \"2017-01-31\""
            ]
          },
          "metadata": {},
          "output_type": "display_data"
        }
      ],
      "source": [
        "ymd(\"2017 01 31\")\n",
        "mdy(\"1 31 2017\")\n",
        "dmy(\"31 1 2017\")\n",
        "dmy(\"31-Jan-2017\")"
      ]
    },
    {
      "cell_type": "markdown",
      "metadata": {
        "id": "fjwmLbklQtIk"
      },
      "source": [
        "#### Date-time parsers\n",
        "There are also equivalent functions for parsing date-times:"
      ]
    },
    {
      "cell_type": "code",
      "execution_count": null,
      "metadata": {
        "id": "Il_zE0zLQtIk",
        "outputId": "d1b963a9-37d5-4c60-fdb2-161e729d9845"
      },
      "outputs": [
        {
          "data": {
            "text/plain": [
              "[1] \"2017-01-31 20:11:59 UTC\""
            ]
          },
          "metadata": {},
          "output_type": "display_data"
        }
      ],
      "source": [
        "ymd_hms(\"2017-01-31 20:11:59\")"
      ]
    },
    {
      "cell_type": "code",
      "execution_count": null,
      "metadata": {
        "id": "mhhfFmEgQtIr",
        "outputId": "4d7464d3-3aa9-4b89-894f-ac6150aee1dd"
      },
      "outputs": [
        {
          "data": {
            "text/plain": [
              "[1] \"2017-01-31 08:01:00 UTC\""
            ]
          },
          "metadata": {},
          "output_type": "display_data"
        }
      ],
      "source": [
        "mdy_hm(\"01/31/2017 08:01\")"
      ]
    },
    {
      "cell_type": "markdown",
      "metadata": {
        "id": "LFCNnlfbQtIs"
      },
      "source": [
        "Sometimes you can get away with calling `as_datetime()`:"
      ]
    },
    {
      "cell_type": "code",
      "execution_count": 9,
      "metadata": {
        "colab": {
          "base_uri": "https://localhost:8080/",
          "height": 34
        },
        "id": "4Mzy-86-QtIs",
        "outputId": "af550855-0241-4b3e-e8cb-cbb6898c9474"
      },
      "outputs": [
        {
          "output_type": "display_data",
          "data": {
            "text/plain": [
              "[1] \"2017-01-02 20:11:59 UTC\""
            ]
          },
          "metadata": {}
        }
      ],
      "source": [
        "as_datetime(\"2017-01-02 20:11:59\")\n"
      ]
    },
    {
      "cell_type": "markdown",
      "metadata": {
        "id": "41SIOOzNQtI4"
      },
      "source": [
        "But not always:"
      ]
    },
    {
      "cell_type": "code",
      "execution_count": 10,
      "metadata": {
        "colab": {
          "base_uri": "https://localhost:8080/",
          "height": 69
        },
        "id": "yq4H3HgIQtI4",
        "outputId": "8e957a4d-7493-4533-a815-4b34935b2ba7"
      },
      "outputs": [
        {
          "output_type": "stream",
          "name": "stderr",
          "text": [
            "Warning message:\n",
            "“All formats failed to parse. No formats found.”\n"
          ]
        },
        {
          "output_type": "display_data",
          "data": {
            "text/plain": [
              "[1] NA"
            ]
          },
          "metadata": {}
        }
      ],
      "source": [
        "as_datetime(\"01/31/2017 08:01\")"
      ]
    },
    {
      "cell_type": "code",
      "execution_count": null,
      "metadata": {
        "id": "eIi1U2mrZ2IX"
      },
      "outputs": [],
      "source": [
        "?as_datetime"
      ]
    },
    {
      "cell_type": "markdown",
      "metadata": {
        "id": "zRhzM-8ZQtI5"
      },
      "source": [
        "### Time zones\n",
        "When we create a date-time, the default time zone is [\"UTC\"](https://en.wikipedia.org/wiki/Coordinated_Universal_Time):"
      ]
    },
    {
      "cell_type": "code",
      "execution_count": null,
      "metadata": {
        "id": "q4BBymTjQtI5",
        "outputId": "ab98ff53-1df2-4973-a08a-7a3aedef9fa9"
      },
      "outputs": [
        {
          "data": {
            "text/plain": [
              "[1] \"2000-01-30 UTC\""
            ]
          },
          "metadata": {},
          "output_type": "display_data"
        }
      ],
      "source": [
        "ymd_hm(\"2000-01-30 00:00\")"
      ]
    },
    {
      "cell_type": "markdown",
      "metadata": {
        "id": "TKcMCFfKQtI6"
      },
      "source": [
        "This is a standard time zone which is, for historical reasons, equal to time in Greenwich, England."
      ]
    },
    {
      "cell_type": "markdown",
      "metadata": {
        "id": "bhvet9WCQtI6"
      },
      "source": [
        "If your times are coming from a different time zone you must specify using the `tz=` option:"
      ]
    },
    {
      "cell_type": "code",
      "execution_count": null,
      "metadata": {
        "id": "rW_f_XEeQtI7",
        "outputId": "a0967408-3074-479b-ec1c-81ed3e653583"
      },
      "outputs": [
        {
          "data": {
            "text/plain": [
              "[1] \"2017-06-30 20:11:59 EDT\""
            ]
          },
          "metadata": {},
          "output_type": "display_data"
        },
        {
          "data": {
            "text/plain": [
              "[1] \"2017-06-30 20:11:59 PDT\""
            ]
          },
          "metadata": {},
          "output_type": "display_data"
        }
      ],
      "source": [
        "ymd_hms(\"2017-6-30 20:11:59\", tz=\"America/Detroit\")\n",
        "ymd_hms(\"2017-6-30 20:11:59\", tz=\"America/Los_Angeles\")"
      ]
    },
    {
      "cell_type": "markdown",
      "metadata": {
        "id": "FzRdkEFhQtI8"
      },
      "source": [
        "You can find your local time zone using:"
      ]
    },
    {
      "cell_type": "code",
      "execution_count": 11,
      "metadata": {
        "id": "2l_vOyTMQtI8",
        "outputId": "7d7965d7-86db-43c9-fb9e-6a271fb65ed4",
        "colab": {
          "base_uri": "https://localhost:8080/",
          "height": 34
        }
      },
      "outputs": [
        {
          "output_type": "display_data",
          "data": {
            "text/html": [
              "'Etc/UTC'"
            ],
            "text/markdown": "'Etc/UTC'",
            "text/latex": "'Etc/UTC'",
            "text/plain": [
              "[1] \"Etc/UTC\""
            ]
          },
          "metadata": {}
        }
      ],
      "source": [
        "Sys.timezone()"
      ]
    },
    {
      "cell_type": "markdown",
      "metadata": {
        "id": "ZJeD2h4FQtI8"
      },
      "source": [
        "### `strptime()`\n",
        "This is another convenient method to convert to date/time"
      ]
    },
    {
      "cell_type": "code",
      "execution_count": null,
      "metadata": {
        "colab": {
          "base_uri": "https://localhost:8080/",
          "height": 148
        },
        "id": "5FOGGZ6EcPW7",
        "outputId": "1d5e92a8-6b15-47e8-aabd-974027f4b9d9"
      },
      "outputs": [
        {
          "data": {
            "text/plain": [
              "[1] \"2023-01-02 EST\""
            ]
          },
          "metadata": {},
          "output_type": "display_data"
        }
      ],
      "source": [
        "strptime(\"Monday, January 2,  2023\", tz = \"EST\", format = \"%A, %B %e, %Y\")"
      ]
    },
    {
      "cell_type": "code",
      "execution_count": 12,
      "metadata": {
        "scrolled": true,
        "id": "yvfwtL7ghUkE"
      },
      "outputs": [],
      "source": [
        "?strptime"
      ]
    },
    {
      "cell_type": "markdown",
      "metadata": {
        "id": "rkqBfXZ-QtI9"
      },
      "source": [
        "### The epoch\n",
        "UNIX systems sometimes represent time as \"the number of seconds which have elapsed since 1-1-1970.\" This date is known as \"[the epoch](https://en.wikipedia.org/wiki/Unix_time)\". So you may occasionally come across date-times that look like:"
      ]
    },
    {
      "cell_type": "code",
      "execution_count": 15,
      "metadata": {
        "id": "yq-DsNFYQtI9",
        "outputId": "788ba4fe-6e19-45d5-e385-69930c3de9f3",
        "colab": {
          "base_uri": "https://localhost:8080/",
          "height": 34
        }
      },
      "outputs": [
        {
          "output_type": "display_data",
          "data": {
            "text/html": [
              "1698870876"
            ],
            "text/markdown": "1698870876",
            "text/latex": "1698870876",
            "text/plain": [
              "[1] 1698870876"
            ]
          },
          "metadata": {}
        }
      ],
      "source": [
        "now() %>% as.integer"
      ]
    },
    {
      "cell_type": "markdown",
      "metadata": {
        "id": "8ceq0hDRQtI9"
      },
      "source": [
        "To convert these to date format you can use `as_datetime`:"
      ]
    },
    {
      "cell_type": "code",
      "execution_count": null,
      "metadata": {
        "id": "hqjhuEG7QtI-",
        "outputId": "6a32ad44-db0d-4cd0-b24c-43ab0d19a377"
      },
      "outputs": [
        {
          "data": {
            "text/plain": [
              "[1] \"1970-01-02 UTC\""
            ]
          },
          "metadata": {},
          "output_type": "display_data"
        }
      ],
      "source": [
        "as_datetime(3600 * 24)  # 24 hours after the epoch"
      ]
    },
    {
      "cell_type": "markdown",
      "metadata": {
        "id": "AFSZe6JDQtI_"
      },
      "source": [
        "## 🤔 Quiz\n",
        "\n",
        "Julian was born on September 22, 2019, at 1:05 PM EDT. How many seconds old is Julian?\n",
        "\n",
        "<ol style=\"list-style-type: upper-alpha;\">\n",
        "    <li>About $10^6$</li>\n",
        "    <li>About $10^8$</li>\n",
        "    <li>About $10^{10}$</li>\n",
        "    <li>About $10^{12}$</li>\n",
        "</ol>"
      ]
    },
    {
      "cell_type": "code",
      "execution_count": 11,
      "metadata": {
        "id": "EIVzNrwlQtI_",
        "outputId": "13a3bf33-4f2e-49e3-ae14-1dbd62c556c9",
        "colab": {
          "base_uri": "https://localhost:8080/",
          "height": 34
        }
      },
      "outputs": [
        {
          "output_type": "display_data",
          "data": {
            "text/html": [
              "8.11301555415928"
            ],
            "text/markdown": "8.11301555415928",
            "text/latex": "8.11301555415928",
            "text/plain": [
              "[1] 8.113016"
            ]
          },
          "metadata": {}
        }
      ],
      "source": [
        "# seconds old\n",
        "\n",
        "bday <- mdy_hm(\"September 22, 2019 13:05\") %>% as.integer\n",
        "today_in_secs <- now() %>% as.integer\n",
        "log10(today_in_secs - bday)"
      ]
    },
    {
      "cell_type": "markdown",
      "metadata": {
        "id": "-sZvzjqCQtJA"
      },
      "source": [
        "### Making a date-time from components\n",
        "The `make_date` and `make_datetime` functions can make dates from individual (numerical) components:"
      ]
    },
    {
      "cell_type": "code",
      "execution_count": null,
      "metadata": {
        "id": "FHpbeb3fQtJA",
        "outputId": "e8f8777b-7f79-47e5-abed-5545b890d024"
      },
      "outputs": [
        {
          "data": {
            "text/plain": [
              "[1] \"2023-03-15 14:00:59 EDT\""
            ]
          },
          "metadata": {},
          "output_type": "display_data"
        }
      ],
      "source": [
        "make_datetime(2023, 3, 15, 10, 00, 59, tz=\"EDT\")"
      ]
    },
    {
      "cell_type": "markdown",
      "metadata": {
        "id": "7iFU4cVMQtJA"
      },
      "source": [
        "#### Example: departure and arrival times in `flights`\n",
        "The `flights` table has scheduled as well as actual arrival and departure times. Let's create a date-time variable from the actual departure time. First we need to take note of the fact that `dep_time` and `arr_time` are in a weird format:"
      ]
    },
    {
      "cell_type": "code",
      "execution_count": 16,
      "metadata": {
        "id": "JFX5VSvwQtJB",
        "outputId": "97f51d51-4561-420e-d6f0-14e7f7061571",
        "colab": {
          "base_uri": "https://localhost:8080/",
          "height": 303
        }
      },
      "outputs": [
        {
          "output_type": "display_data",
          "data": {
            "text/html": [
              "<table class=\"dataframe\">\n",
              "<caption>A tibble: 6 × 1</caption>\n",
              "<thead>\n",
              "\t<tr><th scope=col>dep_time</th></tr>\n",
              "\t<tr><th scope=col>&lt;int&gt;</th></tr>\n",
              "</thead>\n",
              "<tbody>\n",
              "\t<tr><td>517</td></tr>\n",
              "\t<tr><td>533</td></tr>\n",
              "\t<tr><td>542</td></tr>\n",
              "\t<tr><td>544</td></tr>\n",
              "\t<tr><td>554</td></tr>\n",
              "\t<tr><td>554</td></tr>\n",
              "</tbody>\n",
              "</table>\n"
            ],
            "text/markdown": "\nA tibble: 6 × 1\n\n| dep_time &lt;int&gt; |\n|---|\n| 517 |\n| 533 |\n| 542 |\n| 544 |\n| 554 |\n| 554 |\n\n",
            "text/latex": "A tibble: 6 × 1\n\\begin{tabular}{l}\n dep\\_time\\\\\n <int>\\\\\n\\hline\n\t 517\\\\\n\t 533\\\\\n\t 542\\\\\n\t 544\\\\\n\t 554\\\\\n\t 554\\\\\n\\end{tabular}\n",
            "text/plain": [
              "  dep_time\n",
              "1 517     \n",
              "2 533     \n",
              "3 542     \n",
              "4 544     \n",
              "5 554     \n",
              "6 554     "
            ]
          },
          "metadata": {}
        }
      ],
      "source": [
        "flights %>% select(dep_time) %>% head"
      ]
    },
    {
      "cell_type": "code",
      "source": [
        "flights %>% select(dep_time, sched_dep_time, arr_time, sched_arr_time, year, month, day) %>% print"
      ],
      "metadata": {
        "id": "uzTZfu7MnyLC",
        "outputId": "33676b24-3c9a-4ccf-c121-75d33de8ebd7",
        "colab": {
          "base_uri": "https://localhost:8080/"
        }
      },
      "execution_count": 19,
      "outputs": [
        {
          "output_type": "stream",
          "name": "stdout",
          "text": [
            "\u001b[90m# A tibble: 336,776 × 7\u001b[39m\n",
            "   dep_time sched_dep_time arr_time sched_arr_time  year month   day\n",
            "      \u001b[3m\u001b[90m<int>\u001b[39m\u001b[23m          \u001b[3m\u001b[90m<int>\u001b[39m\u001b[23m    \u001b[3m\u001b[90m<int>\u001b[39m\u001b[23m          \u001b[3m\u001b[90m<int>\u001b[39m\u001b[23m \u001b[3m\u001b[90m<int>\u001b[39m\u001b[23m \u001b[3m\u001b[90m<int>\u001b[39m\u001b[23m \u001b[3m\u001b[90m<int>\u001b[39m\u001b[23m\n",
            "\u001b[90m 1\u001b[39m      517            515      830            819  \u001b[4m2\u001b[24m013     1     1\n",
            "\u001b[90m 2\u001b[39m      533            529      850            830  \u001b[4m2\u001b[24m013     1     1\n",
            "\u001b[90m 3\u001b[39m      542            540      923            850  \u001b[4m2\u001b[24m013     1     1\n",
            "\u001b[90m 4\u001b[39m      544            545     \u001b[4m1\u001b[24m004           \u001b[4m1\u001b[24m022  \u001b[4m2\u001b[24m013     1     1\n",
            "\u001b[90m 5\u001b[39m      554            600      812            837  \u001b[4m2\u001b[24m013     1     1\n",
            "\u001b[90m 6\u001b[39m      554            558      740            728  \u001b[4m2\u001b[24m013     1     1\n",
            "\u001b[90m 7\u001b[39m      555            600      913            854  \u001b[4m2\u001b[24m013     1     1\n",
            "\u001b[90m 8\u001b[39m      557            600      709            723  \u001b[4m2\u001b[24m013     1     1\n",
            "\u001b[90m 9\u001b[39m      557            600      838            846  \u001b[4m2\u001b[24m013     1     1\n",
            "\u001b[90m10\u001b[39m      558            600      753            745  \u001b[4m2\u001b[24m013     1     1\n",
            "\u001b[90m# ℹ 336,766 more rows\u001b[39m\n"
          ]
        }
      ]
    },
    {
      "cell_type": "code",
      "execution_count": 20,
      "metadata": {
        "id": "NcX70zItQtJB",
        "scrolled": true
      },
      "outputs": [],
      "source": [
        "# create datetime and sched_dep_time from flights\n",
        "flights_dt <- flights %>%\n",
        "  mutate(across(c(dep_time, sched_dep_time, arr_time, sched_arr_time),\n",
        "                          ~ make_datetime(year, month, day, . %/% 100, . %% 100)))"
      ]
    },
    {
      "cell_type": "code",
      "source": [
        "flights_dt %>% select(dep_time, sched_dep_time, arr_time, sched_arr_time) %>% print"
      ],
      "metadata": {
        "id": "0hhb9ClsobEI",
        "outputId": "8e5fbdfc-4ffe-446a-ce75-37b019951148",
        "colab": {
          "base_uri": "https://localhost:8080/"
        }
      },
      "execution_count": 21,
      "outputs": [
        {
          "output_type": "stream",
          "name": "stdout",
          "text": [
            "\u001b[90m# A tibble: 336,776 × 4\u001b[39m\n",
            "   dep_time            sched_dep_time      arr_time           \n",
            "   \u001b[3m\u001b[90m<dttm>\u001b[39m\u001b[23m              \u001b[3m\u001b[90m<dttm>\u001b[39m\u001b[23m              \u001b[3m\u001b[90m<dttm>\u001b[39m\u001b[23m             \n",
            "\u001b[90m 1\u001b[39m 2013-01-01 \u001b[90m05:17:00\u001b[39m 2013-01-01 \u001b[90m05:15:00\u001b[39m 2013-01-01 \u001b[90m08:30:00\u001b[39m\n",
            "\u001b[90m 2\u001b[39m 2013-01-01 \u001b[90m05:33:00\u001b[39m 2013-01-01 \u001b[90m05:29:00\u001b[39m 2013-01-01 \u001b[90m08:50:00\u001b[39m\n",
            "\u001b[90m 3\u001b[39m 2013-01-01 \u001b[90m05:42:00\u001b[39m 2013-01-01 \u001b[90m05:40:00\u001b[39m 2013-01-01 \u001b[90m09:23:00\u001b[39m\n",
            "\u001b[90m 4\u001b[39m 2013-01-01 \u001b[90m05:44:00\u001b[39m 2013-01-01 \u001b[90m05:45:00\u001b[39m 2013-01-01 \u001b[90m10:04:00\u001b[39m\n",
            "\u001b[90m 5\u001b[39m 2013-01-01 \u001b[90m05:54:00\u001b[39m 2013-01-01 \u001b[90m06:00:00\u001b[39m 2013-01-01 \u001b[90m08:12:00\u001b[39m\n",
            "\u001b[90m 6\u001b[39m 2013-01-01 \u001b[90m05:54:00\u001b[39m 2013-01-01 \u001b[90m05:58:00\u001b[39m 2013-01-01 \u001b[90m07:40:00\u001b[39m\n",
            "\u001b[90m 7\u001b[39m 2013-01-01 \u001b[90m05:55:00\u001b[39m 2013-01-01 \u001b[90m06:00:00\u001b[39m 2013-01-01 \u001b[90m09:13:00\u001b[39m\n",
            "\u001b[90m 8\u001b[39m 2013-01-01 \u001b[90m05:57:00\u001b[39m 2013-01-01 \u001b[90m06:00:00\u001b[39m 2013-01-01 \u001b[90m07:09:00\u001b[39m\n",
            "\u001b[90m 9\u001b[39m 2013-01-01 \u001b[90m05:57:00\u001b[39m 2013-01-01 \u001b[90m06:00:00\u001b[39m 2013-01-01 \u001b[90m08:38:00\u001b[39m\n",
            "\u001b[90m10\u001b[39m 2013-01-01 \u001b[90m05:58:00\u001b[39m 2013-01-01 \u001b[90m06:00:00\u001b[39m 2013-01-01 \u001b[90m07:53:00\u001b[39m\n",
            "\u001b[90m# ℹ 336,766 more rows\u001b[39m\n",
            "\u001b[90m# ℹ 1 more variable: sched_arr_time <dttm>\u001b[39m\n"
          ]
        }
      ]
    },
    {
      "cell_type": "markdown",
      "metadata": {
        "id": "JXUEmwqFQtJB"
      },
      "source": [
        "Now we can use built in R command to query and plot these data based on actual departure time:"
      ]
    },
    {
      "cell_type": "code",
      "execution_count": 23,
      "metadata": {
        "id": "weFzI7bcQtJB",
        "outputId": "0cac9b5d-1fa4-4d28-ae2d-e968306751ff",
        "colab": {
          "base_uri": "https://localhost:8080/",
          "height": 437
        }
      },
      "outputs": [
        {
          "output_type": "display_data",
          "data": {
            "text/plain": [
              "plot without title"
            ],
            "image/png": "[encoded data removed]"
          },
          "metadata": {
            "image/png": {
              "width": 420,
              "height": 420
            }
          }
        }
      ],
      "source": [
        "flights_dt %>%\n",
        "  filter(dep_time < ymd(20130130), dep_time >= ymd(20130120)) %>%\n",
        "  ggplot(aes(x = dep_time)) +\n",
        "  geom_density(bw = 3*3600)"
      ]
    },
    {
      "cell_type": "code",
      "source": [
        "flights_dt %>%\n",
        "  filter(dep_time < ymd(20130130), dep_time >= ymd(20130120)) %>%\n",
        "  ggplot(aes(x = dep_time)) +\n",
        "  geom_histogram()"
      ],
      "metadata": {
        "id": "_k35qMnUpWTp",
        "outputId": "ad6edf6d-f0ca-4c15-d86e-28a09a63a60c",
        "colab": {
          "base_uri": "https://localhost:8080/",
          "height": 454
        }
      },
      "execution_count": 24,
      "outputs": [
        {
          "output_type": "stream",
          "name": "stderr",
          "text": [
            "\u001b[1m\u001b[22m`stat_bin()` using `bins = 30`. Pick better value with `binwidth`.\n"
          ]
        },
        {
          "output_type": "display_data",
          "data": {
            "text/plain": [
              "plot without title"
            ],
            "image/png": "[encoded data removed]"
          },
          "metadata": {
            "image/png": {
              "width": 420,
              "height": 420
            }
          }
        }
      ]
    },
    {
      "cell_type": "code",
      "execution_count": 25,
      "metadata": {
        "id": "-a03pvT5QtJC",
        "scrolled": true
      },
      "outputs": [],
      "source": [
        "?geom_density"
      ]
    },
    {
      "cell_type": "markdown",
      "metadata": {
        "id": "JMJ1GFGxQtJC"
      },
      "source": [
        "Notice that this command and resulting graph looks much nicer than if we did not use the date classes:\n",
        "* The filter on `dep_time` looks more natural than `filter(day<2, month==1, year==2013)`.\n",
        "* We can easily express the bin-width of 600 seconds in `geom_freqpoly(binwidth = 600)`. When you use date-times in a numeric context (like in a histogram), 1 means 1 second; for dates, 1 means 1 day.\n",
        "* The plot x axis has nice readable labels."
      ]
    },
    {
      "cell_type": "markdown",
      "metadata": {
        "id": "sYW2yHATQtJC"
      },
      "source": [
        "### Date-time components\n",
        "The functions `year()`, `month()`, `mday()` (day of the month), `yday()` (day of the year), `wday()` (day of the week), `hour()`, `minute()`, and `second()` can extract components from dates and times:"
      ]
    },
    {
      "cell_type": "code",
      "execution_count": null,
      "metadata": {
        "id": "l27wwTwPQtJC",
        "outputId": "7e9a9ee1-c4b4-4bae-9234-bef4e56263e8"
      },
      "outputs": [
        {
          "data": {
            "text/plain": [
              "[1] \"2018-03-12 12:00:00 UTC\""
            ]
          },
          "metadata": {},
          "output_type": "display_data"
        }
      ],
      "source": [
        "mdy_hms(c(\"March 12, 2018 12:00:00\"))"
      ]
    },
    {
      "cell_type": "markdown",
      "metadata": {
        "id": "SJFbjfcuQtJC"
      },
      "source": [
        "### Example\n",
        "By extracting the minute component of scheduled departure time, we uncover a surprising pattern:"
      ]
    },
    {
      "cell_type": "code",
      "execution_count": 26,
      "metadata": {
        "id": "IOvfZKmGQtJC",
        "outputId": "7c7f314d-5014-4a84-e491-6e99993939dd",
        "colab": {
          "base_uri": "https://localhost:8080/",
          "height": 472
        }
      },
      "outputs": [
        {
          "output_type": "stream",
          "name": "stderr",
          "text": [
            "Warning message:\n",
            "“\u001b[1m\u001b[22mRemoved 1 row containing missing values (`geom_line()`).”\n"
          ]
        },
        {
          "output_type": "display_data",
          "data": {
            "text/plain": [
              "plot without title"
            ],
            "image/png": "[encoded data removed]"
          },
          "metadata": {
            "image/png": {
              "width": 420,
              "height": 420
            }
          }
        }
      ],
      "source": [
        "flights_dt %>%\n",
        "  mutate(minute = minute(dep_time)) %>%\n",
        "  group_by(minute) %>%\n",
        "  summarise(\n",
        "    avg_delay = mean(dep_delay, na.rm = TRUE)) %>%\n",
        "  ggplot(aes(minute, avg_delay)) +\n",
        "    geom_line() + labs(x=\"minute(dep_time)\")"
      ]
    },
    {
      "cell_type": "markdown",
      "metadata": {
        "id": "jwpgF6o3QtJD"
      },
      "source": [
        "But when grouped by *scheduled departure*, time the delays seem to be random:"
      ]
    },
    {
      "cell_type": "code",
      "execution_count": 27,
      "metadata": {
        "id": "_cXgJsUAQtJD",
        "outputId": "950bcc48-4b90-4fb1-ae9b-17c053c698d6",
        "colab": {
          "base_uri": "https://localhost:8080/",
          "height": 437
        }
      },
      "outputs": [
        {
          "output_type": "display_data",
          "data": {
            "text/plain": [
              "plot without title"
            ],
            "image/png": "[encoded data removed]"
          },
          "metadata": {
            "image/png": {
              "width": 420,
              "height": 420
            }
          }
        }
      ],
      "source": [
        "sched_dep <- flights_dt %>%\n",
        "  mutate(minute = minute(sched_dep_time)) %>%\n",
        "  group_by(minute) %>%\n",
        "  summarise(\n",
        "    avg_delay = mean(dep_delay, na.rm = TRUE),\n",
        "    n = n())\n",
        "\n",
        "ggplot(sched_dep, aes(minute, avg_delay)) +\n",
        "  geom_line()"
      ]
    },
    {
      "cell_type": "markdown",
      "metadata": {
        "id": "eWLTrapgQtJD"
      },
      "source": [
        "### Time spans\n",
        "Time spans are the difference between two time points. These are represented in R by the `difftime` class:"
      ]
    },
    {
      "cell_type": "code",
      "execution_count": 28,
      "metadata": {
        "id": "_oYNOy2CQtJE",
        "outputId": "e16a773e-a59f-4bb9-fb3d-fc53af26e965",
        "colab": {
          "base_uri": "https://localhost:8080/",
          "height": 52
        }
      },
      "outputs": [
        {
          "output_type": "display_data",
          "data": {
            "text/plain": [
              "Time difference of 4748 days"
            ]
          },
          "metadata": {}
        },
        {
          "output_type": "display_data",
          "data": {
            "text/plain": [
              "Time difference of 4748 days"
            ]
          },
          "metadata": {}
        }
      ],
      "source": [
        "(d = today() - update(today(), year=2010))\n",
        "d"
      ]
    },
    {
      "cell_type": "markdown",
      "metadata": {
        "id": "LYEiGEFhQtJE"
      },
      "source": [
        "Because it is usually simpler to reason about time differences in terms of a single number, `lubridate` also provides a `duration` class which is stored in terms of seconds:"
      ]
    },
    {
      "cell_type": "code",
      "execution_count": null,
      "metadata": {
        "id": "9ffutswpQtJE",
        "outputId": "4c74c394-76a6-4a6d-ab09-c6b1a45f56c8"
      },
      "outputs": [
        {
          "data": {
            "text/plain": [
              "[1] \"1234s (~20.57 minutes)\""
            ]
          },
          "metadata": {},
          "output_type": "display_data"
        }
      ],
      "source": [
        "as.duration(1234)"
      ]
    },
    {
      "cell_type": "code",
      "execution_count": null,
      "metadata": {
        "id": "xC7Pw3kXQtJE",
        "outputId": "a38dc015-c0be-42a5-f703-5626ef49c0f2"
      },
      "outputs": [
        {
          "data": {
            "text/plain": [
              "[1] \"10s\""
            ]
          },
          "metadata": {},
          "output_type": "display_data"
        }
      ],
      "source": [
        "dseconds(10)"
      ]
    },
    {
      "cell_type": "code",
      "execution_count": 29,
      "metadata": {
        "id": "TAw_l5jKQtJI",
        "outputId": "6b3b81bd-a759-4db2-d589-0f52b4454acd",
        "colab": {
          "base_uri": "https://localhost:8080/",
          "height": 34
        }
      },
      "outputs": [
        {
          "output_type": "display_data",
          "data": {
            "text/html": [
              "1814400s (~3 weeks)"
            ],
            "text/markdown": "1814400s (~3 weeks)",
            "text/latex": "1814400s (\\textasciitilde{}3 weeks)",
            "text/plain": [
              "[1] \"1814400s (~3 weeks)\""
            ]
          },
          "metadata": {}
        }
      ],
      "source": [
        "dweeks(3)"
      ]
    },
    {
      "cell_type": "markdown",
      "metadata": {
        "id": "c9GqTlD-QtJI"
      },
      "source": [
        "Arithmetic with durations works as you would expect:"
      ]
    },
    {
      "cell_type": "code",
      "execution_count": null,
      "metadata": {
        "id": "svu0tnSQQtJI",
        "outputId": "a9ef22b0-10c1-4f8f-baa1-5af668232dce"
      },
      "outputs": [
        {
          "data": {
            "text/plain": [
              "[1] \"63072000s (~2 years)\""
            ]
          },
          "metadata": {},
          "output_type": "display_data"
        }
      ],
      "source": [
        "2 * dyears(1)"
      ]
    },
    {
      "cell_type": "code",
      "execution_count": null,
      "metadata": {
        "id": "yIxaDc7jQtJI",
        "outputId": "2355dd55-0d40-45e7-a4f8-5031c60e94da"
      },
      "outputs": [
        {
          "data": {
            "text/plain": [
              "[1] \"38847600s (~1.23 years)\""
            ]
          },
          "metadata": {},
          "output_type": "display_data"
        }
      ],
      "source": [
        "dyears(1) + dweeks(12) + dhours(15)"
      ]
    },
    {
      "cell_type": "markdown",
      "metadata": {
        "id": "-vYgo5PCQtJI"
      },
      "source": [
        "You have to be careful when adding durations and dates. What is 1 day after next Saturday at 1pm?"
      ]
    },
    {
      "cell_type": "code",
      "execution_count": 30,
      "metadata": {
        "id": "cbGAjakZQtJJ",
        "outputId": "539386fa-c4fe-40a5-aa83-0273c8207736",
        "colab": {
          "base_uri": "https://localhost:8080/",
          "height": 34
        }
      },
      "outputs": [
        {
          "output_type": "display_data",
          "data": {
            "text/plain": [
              "[1] \"2023-11-05 12:00:00 EST\""
            ]
          },
          "metadata": {}
        }
      ],
      "source": [
        "next_saturday = mdy_hm(\"Nov. 4, 2023 13:00PM\", tz=\"America/Detroit\")\n",
        "next_saturday + ddays(1)"
      ]
    },
    {
      "cell_type": "markdown",
      "metadata": {
        "id": "cQlbpawEQtJJ"
      },
      "source": [
        "To prevent this sort of thing from happening, `lubridate` also offers objects called \"periods\":"
      ]
    },
    {
      "cell_type": "code",
      "execution_count": 31,
      "metadata": {
        "id": "Au33FZXlQtJJ",
        "outputId": "895caf42-e38b-4db7-fa20-459678121a94",
        "colab": {
          "base_uri": "https://localhost:8080/",
          "height": 52
        }
      },
      "outputs": [
        {
          "output_type": "display_data",
          "data": {
            "text/html": [
              "1d 0H 0M 0S"
            ],
            "text/markdown": "1d 0H 0M 0S",
            "text/latex": "1d 0H 0M 0S",
            "text/plain": [
              "[1] \"1d 0H 0M 0S\""
            ]
          },
          "metadata": {}
        },
        {
          "output_type": "display_data",
          "data": {
            "text/html": [
              "'Period'"
            ],
            "text/markdown": "'Period'",
            "text/latex": "'Period'",
            "text/plain": [
              "[1] \"Period\"\n",
              "attr(,\"package\")\n",
              "[1] \"lubridate\""
            ]
          },
          "metadata": {}
        }
      ],
      "source": [
        "days(1)\n",
        "class(days(1))"
      ]
    },
    {
      "cell_type": "markdown",
      "metadata": {
        "id": "LHAAVOKWQtJJ"
      },
      "source": [
        "Similarly, periods have the expected behaviour if you add one year to a leap year:"
      ]
    },
    {
      "cell_type": "code",
      "execution_count": 32,
      "metadata": {
        "id": "geysbWr-QtJJ",
        "outputId": "a2147d86-4116-4eb5-d1e5-345610b757bb",
        "colab": {
          "base_uri": "https://localhost:8080/",
          "height": 34
        }
      },
      "outputs": [
        {
          "output_type": "display_data",
          "data": {
            "text/plain": [
              "[1] \"2020-12-31 06:00:00 UTC\""
            ]
          },
          "metadata": {}
        }
      ],
      "source": [
        "ymd(\"2020-01-01\") + dyears(1)"
      ]
    },
    {
      "cell_type": "code",
      "source": [
        "ymd(\"2020-01-01\") + years(1)"
      ],
      "metadata": {
        "id": "_2lvcEpxtZnj",
        "outputId": "bb361a1e-5a7f-41ba-afd2-658f8563aa37",
        "colab": {
          "base_uri": "https://localhost:8080/",
          "height": 34
        }
      },
      "execution_count": 33,
      "outputs": [
        {
          "output_type": "display_data",
          "data": {
            "text/html": [
              "<time datetime=\"2021-01-01\">2021-01-01</time>"
            ],
            "text/markdown": "2021-01-01",
            "text/latex": "2021-01-01",
            "text/plain": [
              "[1] \"2021-01-01\""
            ]
          },
          "metadata": {}
        }
      ]
    },
    {
      "cell_type": "markdown",
      "metadata": {
        "id": "-FaoQG1bQtJK"
      },
      "source": [
        "## 🤔 Quiz\n",
        "\n",
        "Leo was born on Jan 16, 2022. When will Leo be 1000 days old?\n",
        "\n",
        "<ol style=\"list-style-type: upper-alpha;\">\n",
        "    <li>Today</li>\n",
        "    <li>Oct 12, 2024</li>\n",
        "    <li>February 9, 2025</li>\n",
        "    <li>March 10, 2026</li>\n",
        "</ol>"
      ]
    },
    {
      "cell_type": "code",
      "source": [
        "# 1k days old\n",
        "d1 = mdy(\"Jan 16, 2022\")\n",
        "d2 = d1 + days(1000)\n",
        "d2\n"
      ],
      "metadata": {
        "id": "BoSNCUbptYyu",
        "outputId": "54d2f3e8-6f50-4fb5-c1a5-61f54bd60c5a",
        "colab": {
          "base_uri": "https://localhost:8080/",
          "height": 34
        }
      },
      "execution_count": 37,
      "outputs": [
        {
          "output_type": "display_data",
          "data": {
            "text/html": [
              "<time datetime=\"2024-10-12\">2024-10-12</time>"
            ],
            "text/markdown": "2024-10-12",
            "text/latex": "2024-10-12",
            "text/plain": [
              "[1] \"2024-10-12\""
            ]
          },
          "metadata": {}
        }
      ]
    },
    {
      "cell_type": "markdown",
      "metadata": {
        "id": "x1VYnWjtQtJL"
      },
      "source": [
        "#### Fixing time issues\n",
        "Earlier in the semester we saw how some flights seem to have arrived before they departed:"
      ]
    },
    {
      "cell_type": "code",
      "execution_count": null,
      "metadata": {
        "id": "QRPWUBTqQtJL",
        "outputId": "e180d68b-e86c-4f17-a723-b8050d933abe"
      },
      "outputs": [
        {
          "name": "stdout",
          "output_type": "stream",
          "text": [
            "\u001b[90m# A tibble: 6 × 19\u001b[39m\n",
            "   year month   day dep_time sched_dep…¹ dep_d…² arr_t…³ sched…⁴ arr_d…⁵ carrier\n",
            "  \u001b[3m\u001b[90m<int>\u001b[39m\u001b[23m \u001b[3m\u001b[90m<int>\u001b[39m\u001b[23m \u001b[3m\u001b[90m<int>\u001b[39m\u001b[23m    \u001b[3m\u001b[90m<int>\u001b[39m\u001b[23m       \u001b[3m\u001b[90m<int>\u001b[39m\u001b[23m   \u001b[3m\u001b[90m<dbl>\u001b[39m\u001b[23m   \u001b[3m\u001b[90m<int>\u001b[39m\u001b[23m   \u001b[3m\u001b[90m<int>\u001b[39m\u001b[23m   \u001b[3m\u001b[90m<dbl>\u001b[39m\u001b[23m \u001b[3m\u001b[90m<chr>\u001b[39m\u001b[23m  \n",
            "\u001b[90m1\u001b[39m  \u001b[4m2\u001b[24m013     1     1     \u001b[4m1\u001b[24m929        \u001b[4m1\u001b[24m920       9       3       7      -\u001b[31m4\u001b[39m UA     \n",
            "\u001b[90m2\u001b[39m  \u001b[4m2\u001b[24m013     1     1     \u001b[4m1\u001b[24m939        \u001b[4m1\u001b[24m840      59      29    \u001b[4m2\u001b[24m151      \u001b[31mNA\u001b[39m 9E     \n",
            "\u001b[90m3\u001b[39m  \u001b[4m2\u001b[24m013     1     1     \u001b[4m2\u001b[24m058        \u001b[4m2\u001b[24m100      -\u001b[31m2\u001b[39m       8    \u001b[4m2\u001b[24m359       9 UA     \n",
            "\u001b[90m4\u001b[39m  \u001b[4m2\u001b[24m013     1     1     \u001b[4m2\u001b[24m102        \u001b[4m2\u001b[24m108      -\u001b[31m6\u001b[39m     146     158     -\u001b[31m12\u001b[39m UA     \n",
            "\u001b[90m5\u001b[39m  \u001b[4m2\u001b[24m013     1     1     \u001b[4m2\u001b[24m108        \u001b[4m2\u001b[24m057      11      25      39     -\u001b[31m14\u001b[39m UA     \n",
            "\u001b[90m6\u001b[39m  \u001b[4m2\u001b[24m013     1     1     \u001b[4m2\u001b[24m120        \u001b[4m2\u001b[24m130     -\u001b[31m10\u001b[39m      16      18      -\u001b[31m2\u001b[39m B6     \n",
            "\u001b[90m# … with 9 more variables: flight <int>, tailnum <chr>, origin <chr>,\u001b[39m\n",
            "\u001b[90m#   dest <chr>, air_time <dbl>, distance <dbl>, hour <dbl>, minute <dbl>,\u001b[39m\n",
            "\u001b[90m#   time_hour <dttm>, and abbreviated variable names ¹​sched_dep_time,\u001b[39m\n",
            "\u001b[90m#   ²​dep_delay, ³​arr_time, ⁴​sched_arr_time, ⁵​arr_delay\u001b[39m\n"
          ]
        }
      ],
      "source": [
        "filter(flights, arr_time < dep_time) %>% head %>% print"
      ]
    },
    {
      "cell_type": "markdown",
      "metadata": {
        "id": "18dOf5cHQtJL"
      },
      "source": [
        "This is because these are overnight flights. To fix this, we can now simply add one day to `arr_time`:"
      ]
    },
    {
      "cell_type": "code",
      "execution_count": 34,
      "metadata": {
        "id": "4-1lRVI4hUkT",
        "outputId": "38460e9b-3eae-4d3a-882a-cee5b8fe19b7",
        "colab": {
          "base_uri": "https://localhost:8080/"
        }
      },
      "outputs": [
        {
          "output_type": "stream",
          "name": "stdout",
          "text": [
            "\u001b[90m# A tibble: 336,776 × 4\u001b[39m\n",
            "   origin dest    arr_time dep_time           \n",
            "   \u001b[3m\u001b[90m<chr>\u001b[39m\u001b[23m  \u001b[3m\u001b[90m<chr>\u001b[39m\u001b[23m      \u001b[3m\u001b[90m<dbl>\u001b[39m\u001b[23m \u001b[3m\u001b[90m<dttm>\u001b[39m\u001b[23m             \n",
            "\u001b[90m 1\u001b[39m EWR    IAH   \u001b[4m1\u001b[24m357\u001b[4m0\u001b[24m\u001b[4m2\u001b[24m\u001b[4m9\u001b[24m000 2013-01-01 \u001b[90m05:17:00\u001b[39m\n",
            "\u001b[90m 2\u001b[39m LGA    IAH   \u001b[4m1\u001b[24m357\u001b[4m0\u001b[24m\u001b[4m3\u001b[24m\u001b[4m0\u001b[24m200 2013-01-01 \u001b[90m05:33:00\u001b[39m\n",
            "\u001b[90m 3\u001b[39m JFK    MIA   \u001b[4m1\u001b[24m357\u001b[4m0\u001b[24m\u001b[4m3\u001b[24m\u001b[4m2\u001b[24m180 2013-01-01 \u001b[90m05:42:00\u001b[39m\n",
            "\u001b[90m 4\u001b[39m JFK    BQN   \u001b[4m1\u001b[24m357\u001b[4m0\u001b[24m\u001b[4m3\u001b[24m\u001b[4m4\u001b[24m640 2013-01-01 \u001b[90m05:44:00\u001b[39m\n",
            "\u001b[90m 5\u001b[39m LGA    ATL   \u001b[4m1\u001b[24m357\u001b[4m0\u001b[24m\u001b[4m2\u001b[24m\u001b[4m7\u001b[24m920 2013-01-01 \u001b[90m05:54:00\u001b[39m\n",
            "\u001b[90m 6\u001b[39m EWR    ORD   \u001b[4m1\u001b[24m357\u001b[4m0\u001b[24m\u001b[4m2\u001b[24m\u001b[4m6\u001b[24m000 2013-01-01 \u001b[90m05:54:00\u001b[39m\n",
            "\u001b[90m 7\u001b[39m EWR    FLL   \u001b[4m1\u001b[24m357\u001b[4m0\u001b[24m\u001b[4m3\u001b[24m\u001b[4m1\u001b[24m580 2013-01-01 \u001b[90m05:55:00\u001b[39m\n",
            "\u001b[90m 8\u001b[39m LGA    IAD   \u001b[4m1\u001b[24m357\u001b[4m0\u001b[24m\u001b[4m2\u001b[24m\u001b[4m4\u001b[24m140 2013-01-01 \u001b[90m05:57:00\u001b[39m\n",
            "\u001b[90m 9\u001b[39m JFK    MCO   \u001b[4m1\u001b[24m357\u001b[4m0\u001b[24m\u001b[4m2\u001b[24m\u001b[4m9\u001b[24m480 2013-01-01 \u001b[90m05:57:00\u001b[39m\n",
            "\u001b[90m10\u001b[39m LGA    ORD   \u001b[4m1\u001b[24m357\u001b[4m0\u001b[24m\u001b[4m2\u001b[24m\u001b[4m6\u001b[24m780 2013-01-01 \u001b[90m05:58:00\u001b[39m\n",
            "\u001b[90m# ℹ 336,766 more rows\u001b[39m\n"
          ]
        }
      ],
      "source": [
        "flights_dt %>%\n",
        "    mutate(arr_time = ifelse(arr_time - dep_time <= 0, (arr_time + days(1)), arr_time)) %>%\n",
        "    select(origin, dest, arr_time, dep_time) %>% print"
      ]
    },
    {
      "cell_type": "code",
      "source": [],
      "metadata": {
        "id": "9_6LLz24uItd"
      },
      "execution_count": null,
      "outputs": []
    }
  ],
  "metadata": {
    "celltoolbar": "Slideshow",
    "colab": {
      "provenance": []
    },
    "kernelspec": {
      "display_name": "R",
      "language": "R",
      "name": "ir"
    },
    "language_info": {
      "codemirror_mode": "r",
      "file_extension": ".r",
      "mimetype": "text/x-r-source",
      "name": "R",
      "pygments_lexer": "r",
      "version": "4.3.1"
    },
    "toc": {
      "nav_menu": {},
      "number_sections": true,
      "sideBar": true,
      "skip_h1_title": true,
      "toc_cell": false,
      "toc_position": {},
      "toc_section_display": "block",
      "toc_window_display": true
    }
  },
  "nbformat": 4,
  "nbformat_minor": 0
}