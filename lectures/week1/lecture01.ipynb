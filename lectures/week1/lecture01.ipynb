{
 "cells": [
  {
   "cell_type": "markdown",
   "metadata": {
    "id": "3zQsEfUHqxno"
   },
   "source": [
    "# Lecture 1:  Data transformation\n",
    "\n",
    "<div style=\"border: 1px double black; padding: 10px; margin: 10px\">\n",
    "\n",
    "**Goals for today's lecture:**\n",
    "* Learn [how to manipulate data](#Data-manipulation), including:\n",
    "    * [Filtering data](#Row-operation-#1:-Filtering-data)\n",
    "    * [Arranging (sorting) rows](#Row-operation-#2:-Sorting)\n",
    "    * [Finding distinct rows](#Row-operation-#3:-distinct())\n",
    "    * [Selecting subsets of columns](#Column-operation-#1:-select()\n",
    "    \n",
    "This lecture note corresponds to [Chapter 4](https://r4ds.hadley.nz/data-transform.html) of your book, and we will also use some ideas from Chapters [14](https://r4ds.hadley.nz/logicals.html)-[15](https://r4ds.hadley.nz/numbers.html).\n",
    "</div>\n"
   ]
  },
  {
   "cell_type": "markdown",
   "metadata": {
    "id": "iuKCm-STqxns"
   },
   "source": [
    "## Data manipulation\n",
    "Manipulating data is an important part of data science--perhaps the most important! As a data scientist, most of your time will be spent simply getting your data into a format that you can analyze:\n",
    "![data manipulation plot](https://www.datanami.com/wp-content/uploads/2020/07/Anaconda_1.png)\n",
    "\n",
    "https://www.datanami.com/2020/07/06/data-prep-still-dominates-data-scientists-time-survey-finds/"
   ]
  },
  {
   "cell_type": "markdown",
   "metadata": {
    "id": "MFLdLSw8qxns"
   },
   "source": [
    "There are a lot of built-in commands for data manipulation in R:\n",
    "```{r}\n",
    "# Traditional data manipulation commands in R\n",
    "subset()\n",
    "aggregate()\n",
    "merge()\n",
    "reshape()\n",
    "```\n",
    "These commands are old and somewhat difficult to use. Instead of the traditional commands, we are going to focus on the `dplyr` package for filtering data. They provide a nice suite of replacements for the traditional commands, which have a consistent, unified interface and interoperate nicely with each other.\n",
    "\n",
    "The `dplyr` package is part of `tidyverse`, so it is already loaded once we run `library(tidyverse)` (which we remember from last lecture that we should do each time we start R)."
   ]
  },
  {
   "cell_type": "markdown",
   "metadata": {
    "id": "F6h7umVyqxnt"
   },
   "source": [
    "We will be using the `nycflights13` data set for this lecture. It does not come with tidyverse. If you are running Jupyter on your own computer you will first need to `install.packages(\"nycflights13\")`.  This data set is about flights departing from the NYC area in 2013.  "
   ]
  },
  {
   "cell_type": "code",
   "execution_count": 1,
   "metadata": {
    "colab": {
     "base_uri": "https://localhost:8080/"
    },
    "id": "A1wk1jseqxnt",
    "outputId": "03818c91-b09a-4d2e-be69-5a641aa1a444"
   },
   "outputs": [
    {
     "name": "stderr",
     "output_type": "stream",
     "text": [
      "Updating HTML index of packages in '.Library'\n",
      "\n",
      "Making 'packages.html' ...\n",
      " done\n",
      "\n",
      "── \u001b[1mAttaching core tidyverse packages\u001b[22m ──────────────────────── tidyverse 2.0.0 ──\n",
      "\u001b[32m✔\u001b[39m \u001b[34mdplyr    \u001b[39m 1.1.2     \u001b[32m✔\u001b[39m \u001b[34mreadr    \u001b[39m 2.1.4\n",
      "\u001b[32m✔\u001b[39m \u001b[34mforcats  \u001b[39m 1.0.0     \u001b[32m✔\u001b[39m \u001b[34mstringr  \u001b[39m 1.5.0\n",
      "\u001b[32m✔\u001b[39m \u001b[34mggplot2  \u001b[39m 3.4.3     \u001b[32m✔\u001b[39m \u001b[34mtibble   \u001b[39m 3.2.1\n",
      "\u001b[32m✔\u001b[39m \u001b[34mlubridate\u001b[39m 1.9.2     \u001b[32m✔\u001b[39m \u001b[34mtidyr    \u001b[39m 1.3.0\n",
      "\u001b[32m✔\u001b[39m \u001b[34mpurrr    \u001b[39m 1.0.2     \n",
      "── \u001b[1mConflicts\u001b[22m ────────────────────────────────────────── tidyverse_conflicts() ──\n",
      "\u001b[31m✖\u001b[39m \u001b[34mdplyr\u001b[39m::\u001b[32mfilter()\u001b[39m masks \u001b[34mstats\u001b[39m::filter()\n",
      "\u001b[31m✖\u001b[39m \u001b[34mdplyr\u001b[39m::\u001b[32mlag()\u001b[39m    masks \u001b[34mstats\u001b[39m::lag()\n",
      "\u001b[36mℹ\u001b[39m Use the conflicted package (\u001b[3m\u001b[34m<http://conflicted.r-lib.org/>\u001b[39m\u001b[23m) to force all conflicts to become errors\n"
     ]
    }
   ],
   "source": [
    "install.packages('nycflights13')\n",
    "library(tidyverse)\n",
    "library(nycflights13)"
   ]
  },
  {
   "cell_type": "code",
   "execution_count": null,
   "metadata": {
    "id": "khF5UtoOqxnw",
    "outputId": "9f53d107-a385-486a-b536-27c755ff4159"
   },
   "outputs": [
    {
     "name": "stdout",
     "output_type": "stream",
     "text": [
      "\u001b[38;5;246m# A tibble: 336,776 x 19\u001b[39m\n",
      "    year month   day dep_time sched_dep_time dep_delay arr_time sched_arr_time\n",
      "   \u001b[3m\u001b[38;5;246m<int>\u001b[39m\u001b[23m \u001b[3m\u001b[38;5;246m<int>\u001b[39m\u001b[23m \u001b[3m\u001b[38;5;246m<int>\u001b[39m\u001b[23m    \u001b[3m\u001b[38;5;246m<int>\u001b[39m\u001b[23m          \u001b[3m\u001b[38;5;246m<int>\u001b[39m\u001b[23m     \u001b[3m\u001b[38;5;246m<dbl>\u001b[39m\u001b[23m    \u001b[3m\u001b[38;5;246m<int>\u001b[39m\u001b[23m          \u001b[3m\u001b[38;5;246m<int>\u001b[39m\u001b[23m\n",
      "\u001b[38;5;250m 1\u001b[39m  \u001b[4m2\u001b[24m013     1     1      517            515         2      830            819\n",
      "\u001b[38;5;250m 2\u001b[39m  \u001b[4m2\u001b[24m013     1     1      533            529         4      850            830\n",
      "\u001b[38;5;250m 3\u001b[39m  \u001b[4m2\u001b[24m013     1     1      542            540         2      923            850\n",
      "\u001b[38;5;250m 4\u001b[39m  \u001b[4m2\u001b[24m013     1     1      544            545        -\u001b[31m1\u001b[39m     \u001b[4m1\u001b[24m004           \u001b[4m1\u001b[24m022\n",
      "\u001b[38;5;250m 5\u001b[39m  \u001b[4m2\u001b[24m013     1     1      554            600        -\u001b[31m6\u001b[39m      812            837\n",
      "\u001b[38;5;250m 6\u001b[39m  \u001b[4m2\u001b[24m013     1     1      554            558        -\u001b[31m4\u001b[39m      740            728\n",
      "\u001b[38;5;250m 7\u001b[39m  \u001b[4m2\u001b[24m013     1     1      555            600        -\u001b[31m5\u001b[39m      913            854\n",
      "\u001b[38;5;250m 8\u001b[39m  \u001b[4m2\u001b[24m013     1     1      557            600        -\u001b[31m3\u001b[39m      709            723\n",
      "\u001b[38;5;250m 9\u001b[39m  \u001b[4m2\u001b[24m013     1     1      557            600        -\u001b[31m3\u001b[39m      838            846\n",
      "\u001b[38;5;250m10\u001b[39m  \u001b[4m2\u001b[24m013     1     1      558            600        -\u001b[31m2\u001b[39m      753            745\n",
      "\u001b[38;5;246m# … with 336,766 more rows, and 11 more variables: arr_delay \u001b[3m\u001b[38;5;246m<dbl>\u001b[38;5;246m\u001b[23m,\n",
      "#   carrier \u001b[3m\u001b[38;5;246m<chr>\u001b[38;5;246m\u001b[23m, flight \u001b[3m\u001b[38;5;246m<int>\u001b[38;5;246m\u001b[23m, tailnum \u001b[3m\u001b[38;5;246m<chr>\u001b[38;5;246m\u001b[23m, origin \u001b[3m\u001b[38;5;246m<chr>\u001b[38;5;246m\u001b[23m, dest \u001b[3m\u001b[38;5;246m<chr>\u001b[38;5;246m\u001b[23m,\n",
      "#   air_time \u001b[3m\u001b[38;5;246m<dbl>\u001b[38;5;246m\u001b[23m, distance \u001b[3m\u001b[38;5;246m<dbl>\u001b[38;5;246m\u001b[23m, hour \u001b[3m\u001b[38;5;246m<dbl>\u001b[38;5;246m\u001b[23m, minute \u001b[3m\u001b[38;5;246m<dbl>\u001b[38;5;246m\u001b[23m, time_hour \u001b[3m\u001b[38;5;246m<dttm>\u001b[38;5;246m\u001b[23m\u001b[39m\n"
     ]
    }
   ],
   "source": [
    "print(flights)"
   ]
  },
  {
   "cell_type": "markdown",
   "metadata": {
    "id": "VxHh6KW-qxnw"
   },
   "source": [
    "Tibble is similar to dataframe and we will learn more about it later in the course.   For now, you can interpret it as a dataframe.\n",
    "\n",
    "Notice the types of the variables in `flights`. They include:\n",
    "\n",
    "* **int** integers\n",
    "* **dbl** double precision floating point numbers\n",
    "* **chr** character vectors, or strings\n",
    "* **dttm** date-time (a date along with a time)\n",
    "\n",
    "Other types available in R but not represented above include:\n",
    "\n",
    "* **lgl** logical (either `TRUE` or `FALSE`)\n",
    "* **fctr** factor (categorical variable with a fixed number of possible values)\n",
    "* **date** date"
   ]
  },
  {
   "cell_type": "markdown",
   "metadata": {
    "id": "eYMUslV-qxnx"
   },
   "source": [
    "## What's a data frame?\n",
    "\n",
    "Our main goal in R is to work with data, and one of the most fundamental objects in R is the *data frame*. Think of a data frame as a container for a bunch of *vectors* of data:\n",
    "\n",
    "![dataframe](https://garrettgman.github.io/images/tidy-2.png)"
   ]
  },
  {
   "cell_type": "markdown",
   "metadata": {
    "id": "M8O8tR1Rqxnx"
   },
   "source": [
    "## Row operation #1: Filtering data\n",
    "The first operation we'll learn about is filtering. Filtering is interpereted to mean \"keep only the rows whose columns match these criteria\". The syntax for the `filter` command is\n",
    "```{r}\n",
    "filter(<TABLE>, <LOGICAL CRITERIA>)\n",
    "```\n",
    "This commands returns a new tibble whose rows all match the specified criteria."
   ]
  },
  {
   "cell_type": "markdown",
   "metadata": {
    "id": "Qql-RSMLqxnx"
   },
   "source": [
    "### Types of logical criteria\n",
    "For those who are new to programming, we now briefly review [boolean logic](https://en.wikipedia.org/wiki/Boolean_algebra). The basic logical operators in R are `>`, `>=`, `<`, `<=`, `!=` (not equal), and `==` (equal). The first four are used for comparing numbers and function exactly as in mathematics:\n",
    "```{r}\n",
    "> 1 > 1\n",
    "[1] FALSE\n",
    "> 1 >= 1\n",
    "[1] TRUE\n",
    "> 2.5 < 3\n",
    "[1] TRUE\n",
    "> 2.5 <= 3\n",
    "[1] TRUE\n",
    "```"
   ]
  },
  {
   "cell_type": "markdown",
   "metadata": {
    "id": "1KMctvcWqxny"
   },
   "source": [
    "### Assignment vs. equality\n",
    "An extremely common mistake for beginner programmers is to confuse `=` and `==` (\"double equals\") when writing code. As we have seen,\n",
    "- `=` is used for\n",
    "    - assigning a value to a variable, and\n",
    "    - passing a named parameter into a function.\n",
    "- `==` is used for testing equality."
   ]
  },
  {
   "cell_type": "markdown",
   "metadata": {
    "id": "bx-u7GS2qxny"
   },
   "source": [
    "\n",
    "```{r}\n",
    "> a = 1  # assigns the integer 1 to a\n",
    "> b = 2  # assigns the integer 2 to b\n",
    "> a == 1 # tests that a equals 1\n",
    "[1] TRUE\n",
    "> b == 1 # tests that b equals 1\n",
    "[1] FALSE\n",
    "```"
   ]
  },
  {
   "cell_type": "markdown",
   "metadata": {
    "id": "126q9hFBqxnz"
   },
   "source": [
    "### Boolean operations\n",
    "Logical expressions are combined using *boolean operations*. The basic boolean operations are `and`, `or`, and `not`, denoted `&`, `|` and `!` respectively."
   ]
  },
  {
   "cell_type": "code",
   "execution_count": null,
   "metadata": {
    "id": "v-CWAscgqxnz",
    "outputId": "234ec9f2-2dbb-4ffe-ce29-9cb45d3f2ecc"
   },
   "outputs": [
    {
     "data": {
      "text/html": [
       "TRUE"
      ],
      "text/latex": [
       "TRUE"
      ],
      "text/markdown": [
       "TRUE"
      ],
      "text/plain": [
       "[1] TRUE"
      ]
     },
     "metadata": {},
     "output_type": "display_data"
    },
    {
     "data": {
      "text/html": [
       "TRUE"
      ],
      "text/latex": [
       "TRUE"
      ],
      "text/markdown": [
       "TRUE"
      ],
      "text/plain": [
       "[1] TRUE"
      ]
     },
     "metadata": {},
     "output_type": "display_data"
    },
    {
     "data": {
      "text/html": [
       "FALSE"
      ],
      "text/latex": [
       "FALSE"
      ],
      "text/markdown": [
       "FALSE"
      ],
      "text/plain": [
       "[1] FALSE"
      ]
     },
     "metadata": {},
     "output_type": "display_data"
    }
   ],
   "source": [
    "! FALSE\n",
    "FALSE | TRUE\n",
    "! TRUE"
   ]
  },
  {
   "cell_type": "markdown",
   "metadata": {
    "id": "tW0hf1BPqxn0"
   },
   "source": [
    "There are also doubled versions of `&` and `|` denoted `&&` and `||`. Do not use these yet. We will return to them later in the course when we discuss programming and control flow."
   ]
  },
  {
   "cell_type": "markdown",
   "metadata": {
    "id": "-JdtLp5Nqxn0"
   },
   "source": [
    "R abbreviates `TRUE` and `FALSE` as `T` and `F`:"
   ]
  },
  {
   "cell_type": "code",
   "execution_count": 2,
   "metadata": {
    "colab": {
     "base_uri": "https://localhost:8080/",
     "height": 34
    },
    "id": "MkQuFPz8qxn0",
    "outputId": "0e905572-6ae4-4ef9-defe-a5371268267d"
   },
   "outputs": [
    {
     "data": {
      "text/html": [
       "<style>\n",
       ".list-inline {list-style: none; margin:0; padding: 0}\n",
       ".list-inline>li {display: inline-block}\n",
       ".list-inline>li:not(:last-child)::after {content: \"\\00b7\"; padding: 0 .5ex}\n",
       "</style>\n",
       "<ol class=list-inline><li>TRUE</li><li>FALSE</li></ol>\n"
      ],
      "text/latex": [
       "\\begin{enumerate*}\n",
       "\\item TRUE\n",
       "\\item FALSE\n",
       "\\end{enumerate*}\n"
      ],
      "text/markdown": [
       "1. TRUE\n",
       "2. FALSE\n",
       "\n",
       "\n"
      ],
      "text/plain": [
       "[1]  TRUE FALSE"
      ]
     },
     "metadata": {},
     "output_type": "display_data"
    }
   ],
   "source": [
    "c(T, F)"
   ]
  },
  {
   "cell_type": "markdown",
   "metadata": {
    "id": "e8WX9VKgqxn1"
   },
   "source": [
    "### Vectorization\n",
    "What happens when we ask whether a *vector* satisfies a logical condition? R returns a new logical vector with the same number of entries, showing whether each entry satisfies that condition:"
   ]
  },
  {
   "cell_type": "code",
   "execution_count": 3,
   "metadata": {
    "id": "_K3MLvzkqxn1"
   },
   "outputs": [
    {
     "name": "stdout",
     "output_type": "stream",
     "text": [
      " [1]  1  2  3  4  5  6  7  8  9 10\n"
     ]
    },
    {
     "data": {
      "text/html": [
       "<style>\n",
       ".list-inline {list-style: none; margin:0; padding: 0}\n",
       ".list-inline>li {display: inline-block}\n",
       ".list-inline>li:not(:last-child)::after {content: \"\\00b7\"; padding: 0 .5ex}\n",
       "</style>\n",
       "<ol class=list-inline><li>FALSE</li><li>FALSE</li><li>FALSE</li><li>TRUE</li><li>TRUE</li><li>TRUE</li><li>TRUE</li><li>TRUE</li><li>TRUE</li><li>TRUE</li></ol>\n"
      ],
      "text/latex": [
       "\\begin{enumerate*}\n",
       "\\item FALSE\n",
       "\\item FALSE\n",
       "\\item FALSE\n",
       "\\item TRUE\n",
       "\\item TRUE\n",
       "\\item TRUE\n",
       "\\item TRUE\n",
       "\\item TRUE\n",
       "\\item TRUE\n",
       "\\item TRUE\n",
       "\\end{enumerate*}\n"
      ],
      "text/markdown": [
       "1. FALSE\n",
       "2. FALSE\n",
       "3. FALSE\n",
       "4. TRUE\n",
       "5. TRUE\n",
       "6. TRUE\n",
       "7. TRUE\n",
       "8. TRUE\n",
       "9. TRUE\n",
       "10. TRUE\n",
       "\n",
       "\n"
      ],
      "text/plain": [
       " [1] FALSE FALSE FALSE  TRUE  TRUE  TRUE  TRUE  TRUE  TRUE  TRUE"
      ]
     },
     "metadata": {},
     "output_type": "display_data"
    }
   ],
   "source": [
    "# Examples of logical conditions\n",
    "a = c(1:10)\n",
    "print(a)\n",
    "a > 3"
   ]
  },
  {
   "cell_type": "markdown",
   "metadata": {
    "id": "vnVOdNr3qxn1"
   },
   "source": [
    "### Testing for membership\n",
    "Another useful operator is `%in%`:\n",
    "```r\n",
    "x %in% y\n",
    "```\n",
    "\n",
    "return `TRUE` if the value `x` is found in the vector `y`:"
   ]
  },
  {
   "cell_type": "code",
   "execution_count": null,
   "metadata": {
    "id": "7xji0npJqxn2",
    "outputId": "a0c09206-59cb-4e84-c88a-b5185890bda4"
   },
   "outputs": [
    {
     "data": {
      "text/html": [
       "FALSE"
      ],
      "text/latex": [
       "FALSE"
      ],
      "text/markdown": [
       "FALSE"
      ],
      "text/plain": [
       "[1] FALSE"
      ]
     },
     "metadata": {},
     "output_type": "display_data"
    },
    {
     "data": {
      "text/html": [
       "FALSE"
      ],
      "text/latex": [
       "FALSE"
      ],
      "text/markdown": [
       "FALSE"
      ],
      "text/plain": [
       "[1] FALSE"
      ]
     },
     "metadata": {},
     "output_type": "display_data"
    }
   ],
   "source": [
    "\"a\" %in% c(1, 2, 3)\n",
    "(\"a\" == 1) | (\"a\" == 2) | (\"a\" == 3)"
   ]
  },
  {
   "cell_type": "markdown",
   "metadata": {
    "id": "NXW1Cx1Yqxn2"
   },
   "source": [
    "## Missing data\n",
    "Something you will often encounter when working with real data are missing observations. R has a special value, `NA` , for representing missing data. You can think of the value of `NA` as \"I don't know\". Thus, logical and mathematical operations involving `NA` will again return `NA`, so that `NA`s \"propagate through\" the computation:"
   ]
  },
  {
   "cell_type": "code",
   "execution_count": null,
   "metadata": {
    "id": "DBZd8c9kqxn2",
    "outputId": "9b313c10-728b-4aba-84a5-3dc68b690543"
   },
   "outputs": [
    {
     "data": {
      "text/html": [
       "&lt;NA&gt;"
      ],
      "text/latex": [
       "<NA>"
      ],
      "text/markdown": [
       "&lt;NA&gt;"
      ],
      "text/plain": [
       "[1] NA"
      ]
     },
     "metadata": {},
     "output_type": "display_data"
    }
   ],
   "source": [
    "NA + 5 # 5 + I-don't-know = I-don't-know"
   ]
  },
  {
   "cell_type": "code",
   "execution_count": null,
   "metadata": {
    "id": "GSPXLiCUqxn3",
    "outputId": "01799dc2-b41d-4fbb-89c7-dcefc54c4df6"
   },
   "outputs": [
    {
     "data": {
      "text/html": [
       "&lt;NA&gt;"
      ],
      "text/latex": [
       "<NA>"
      ],
      "text/markdown": [
       "&lt;NA&gt;"
      ],
      "text/plain": [
       "[1] NA"
      ]
     },
     "metadata": {},
     "output_type": "display_data"
    }
   ],
   "source": [
    "1 < NA  # Is 1 less that I-don't-know? I don't know."
   ]
  },
  {
   "cell_type": "code",
   "execution_count": null,
   "metadata": {
    "id": "u1n72mhTqxn3",
    "outputId": "110821d0-46fa-40ea-f7bb-c78ee2870520"
   },
   "outputs": [
    {
     "data": {
      "text/html": [
       "&lt;NA&gt;"
      ],
      "text/latex": [
       "<NA>"
      ],
      "text/markdown": [
       "&lt;NA&gt;"
      ],
      "text/plain": [
       "[1] NA"
      ]
     },
     "metadata": {},
     "output_type": "display_data"
    },
    {
     "data": {
      "text/html": [
       "&lt;NA&gt;"
      ],
      "text/latex": [
       "<NA>"
      ],
      "text/markdown": [
       "&lt;NA&gt;"
      ],
      "text/plain": [
       "[1] NA"
      ]
     },
     "metadata": {},
     "output_type": "display_data"
    }
   ],
   "source": [
    "NA < NA  # Is I-don't-know greater than I-don't-know? I don't know.\n",
    "mean(c(1, NA, 3), na.rm=F) # And so forth."
   ]
  },
  {
   "cell_type": "code",
   "execution_count": null,
   "metadata": {
    "id": "-JNk_3c_qxn4",
    "outputId": "5fad6bd3-aa38-4601-c4d1-1567f73eaa24"
   },
   "outputs": [
    {
     "data": {
      "text/html": [
       "&lt;NA&gt;"
      ],
      "text/latex": [
       "<NA>"
      ],
      "text/markdown": [
       "&lt;NA&gt;"
      ],
      "text/plain": [
       "[1] NA"
      ]
     },
     "metadata": {},
     "output_type": "display_data"
    }
   ],
   "source": [
    "NA == 1"
   ]
  },
  {
   "cell_type": "markdown",
   "metadata": {
    "id": "t4EwrL3Jqxn4"
   },
   "source": [
    "Since you cannot test `NA`s for equality, R has a special function for determining whether a value is `NA`:"
   ]
  },
  {
   "cell_type": "code",
   "execution_count": null,
   "metadata": {
    "id": "xR-py7Nbqxn4",
    "outputId": "99712c52-0dec-44cf-bf5b-55f36054c711"
   },
   "outputs": [
    {
     "data": {
      "text/html": [
       "&lt;NA&gt;"
      ],
      "text/latex": [
       "<NA>"
      ],
      "text/markdown": [
       "&lt;NA&gt;"
      ],
      "text/plain": [
       "[1] NA"
      ]
     },
     "metadata": {},
     "output_type": "display_data"
    },
    {
     "data": {
      "text/html": [
       "TRUE"
      ],
      "text/latex": [
       "TRUE"
      ],
      "text/markdown": [
       "TRUE"
      ],
      "text/plain": [
       "[1] TRUE"
      ]
     },
     "metadata": {},
     "output_type": "display_data"
    },
    {
     "data": {
      "text/html": [
       "FALSE"
      ],
      "text/latex": [
       "FALSE"
      ],
      "text/markdown": [
       "FALSE"
      ],
      "text/plain": [
       "[1] FALSE"
      ]
     },
     "metadata": {},
     "output_type": "display_data"
    }
   ],
   "source": [
    "5 == NA\n",
    "\n",
    "is.na(NA)\n",
    "is.na(1)"
   ]
  },
  {
   "cell_type": "code",
   "execution_count": null,
   "metadata": {
    "id": "rEG-y4H_qxn5"
   },
   "outputs": [],
   "source": [
    "# Examples of missing values"
   ]
  },
  {
   "cell_type": "markdown",
   "metadata": {
    "id": "2DTT-Hl2qxn5"
   },
   "source": [
    "### Examples of filtering\n",
    "Let's use what we have just learned to evaluate some simple queries on the `flights` dataset. Let's first narrow down to all flights that departed from JFK"
   ]
  },
  {
   "cell_type": "code",
   "execution_count": null,
   "metadata": {
    "id": "TljabPrfqxn5",
    "scrolled": true
   },
   "outputs": [],
   "source": [
    "# Filter to all flights that departed JFK\n",
    "filter(flights, origin == 'JFK')"
   ]
  },
  {
   "cell_type": "markdown",
   "metadata": {
    "id": "Psr6gZzDqxn6"
   },
   "source": [
    "How does all this work? Basically what R does here is create a logical vector that has one entry for each **row** of the input data frame. Then, it returns a new data frame which contains all the rows where the logical vector evaluated to `True`."
   ]
  },
  {
   "cell_type": "markdown",
   "metadata": {
    "id": "VTuhzPyGqxn6"
   },
   "source": [
    "## Remark:\n",
    "Using `==` for testing equality is very important in `R`.  `R` will yield an error if you use `=`.  "
   ]
  },
  {
   "cell_type": "code",
   "execution_count": null,
   "metadata": {
    "id": "Lc4lPlvjqxn6",
    "scrolled": true
   },
   "outputs": [],
   "source": [
    "# what happens when you forget to use == in filter?\n",
    "filter(flights, origin = 'JFK')"
   ]
  },
  {
   "cell_type": "markdown",
   "metadata": {
    "id": "eBUE7q6mqxn7"
   },
   "source": [
    "### Counting matches\n",
    "Sometimes we just want to know how many observations match a given filter. The `nrow()` command can be used to count the number of rows in a data table."
   ]
  },
  {
   "cell_type": "code",
   "execution_count": 6,
   "metadata": {
    "id": "c-AQ8vneGies"
   },
   "outputs": [
    {
     "data": {
      "text/html": [
       "336776"
      ],
      "text/latex": [
       "336776"
      ],
      "text/markdown": [
       "336776"
      ],
      "text/plain": [
       "[1] 336776"
      ]
     },
     "metadata": {},
     "output_type": "display_data"
    }
   ],
   "source": [
    "# example of using nrow\n",
    "nrow(flights)"
   ]
  },
  {
   "cell_type": "markdown",
   "metadata": {
    "id": "Yul7Kianqxn6"
   },
   "source": [
    "## 🤔 Quiz\n",
    "How many flights in the table departed from JFK?\n",
    "\n",
    "<ol style=\"list-style-type: upper-alpha;\">\n",
    "    <li>Fewer than 50,000</li>\n",
    "    <li>Between 50,000 and 80,000</li>\n",
    "    <li>Between 80,000 and 90,000</li>\n",
    "    <li>Between 90,000 and 100,000</li>\n",
    "    <li>More than 100,000</li>\n",
    "</ol>"
   ]
  },
  {
   "cell_type": "code",
   "execution_count": null,
   "metadata": {
    "id": "A_vwAt1Nqxn7",
    "scrolled": true
   },
   "outputs": [],
   "source": [
    "# Code to get number of flights that departed from JFK\n"
   ]
  },
  {
   "cell_type": "markdown",
   "metadata": {
    "id": "50gLSnI3qxn8"
   },
   "source": [
    "Let us try to calculate how many flights with missing departure time in our data."
   ]
  },
  {
   "cell_type": "code",
   "execution_count": null,
   "metadata": {
    "id": "yQV_4JhGqxn8",
    "scrolled": true
   },
   "outputs": [],
   "source": [
    "# How many flights have a missing departure time\n",
    "filter(flights, is.na(dep_time))"
   ]
  },
  {
   "cell_type": "code",
   "execution_count": 14,
   "metadata": {},
   "outputs": [
    {
     "data": {
      "text/html": [
       "<style>\n",
       ".list-inline {list-style: none; margin:0; padding: 0}\n",
       ".list-inline>li {display: inline-block}\n",
       ".list-inline>li:not(:last-child)::after {content: \"\\00b7\"; padding: 0 .5ex}\n",
       "</style>\n",
       "<ol class=list-inline><li>1</li><li>10</li><li>11</li><li>12</li><li>2</li><li>3</li><li>4</li><li>5</li><li>6</li><li>7</li><li>8</li><li>9</li></ol>\n"
      ],
      "text/latex": [
       "\\begin{enumerate*}\n",
       "\\item 1\n",
       "\\item 10\n",
       "\\item 11\n",
       "\\item 12\n",
       "\\item 2\n",
       "\\item 3\n",
       "\\item 4\n",
       "\\item 5\n",
       "\\item 6\n",
       "\\item 7\n",
       "\\item 8\n",
       "\\item 9\n",
       "\\end{enumerate*}\n"
      ],
      "text/markdown": [
       "1. 1\n",
       "2. 10\n",
       "3. 11\n",
       "4. 12\n",
       "5. 2\n",
       "6. 3\n",
       "7. 4\n",
       "8. 5\n",
       "9. 6\n",
       "10. 7\n",
       "11. 8\n",
       "12. 9\n",
       "\n",
       "\n"
      ],
      "text/plain": [
       " [1]  1 10 11 12  2  3  4  5  6  7  8  9"
      ]
     },
     "metadata": {},
     "output_type": "display_data"
    }
   ],
   "source": [
    "flights$month %>% unique"
   ]
  },
  {
   "cell_type": "markdown",
   "metadata": {
    "id": "YlhVD9t9qxn8"
   },
   "source": [
    "How about the number of flights departing between Jan and Mar?"
   ]
  },
  {
   "cell_type": "code",
   "execution_count": null,
   "metadata": {
    "id": "mXhObmRmqxn9"
   },
   "outputs": [],
   "source": [
    "# no. of flights departing between Jan and Mar\n",
    "filter(flights, month %in% c(...))"
   ]
  },
  {
   "cell_type": "markdown",
   "metadata": {
    "id": "hjznFTRFqxn9"
   },
   "source": [
    "### Row operation #1.5: `head()`/`tail()`\n",
    "A particularly useful kind of `filter()` is to only keep the first, or last, rows. This happens so often in practical data science, that there are built-in commands to do it:"
   ]
  },
  {
   "cell_type": "code",
   "execution_count": 20,
   "metadata": {
    "id": "h-8S6LaJqxn9"
   },
   "outputs": [
    {
     "ename": "ERROR",
     "evalue": "Error in eval(expr, envir, enclos): '...' used in an incorrect context\n",
     "output_type": "error",
     "traceback": [
      "Error in eval(expr, envir, enclos): '...' used in an incorrect context\nTraceback:\n"
     ]
    }
   ],
   "source": [
    "# first 6 rows of flights\n",
    "head(...)"
   ]
  },
  {
   "cell_type": "code",
   "execution_count": null,
   "metadata": {
    "id": "JCSAekoWqxn-"
   },
   "outputs": [],
   "source": [
    "# last 6 rows of flights\n",
    "tail(...)"
   ]
  },
  {
   "cell_type": "markdown",
   "metadata": {
    "id": "CdDvNmh9qxn-"
   },
   "source": [
    "## Row operation #2: Sorting\n",
    "Often we want to sort our data based on one or more column values. This can arise for several reasons:\n",
    "- The data have some natural order (for example, chronological)\n",
    "- We want to learn about \"extreme\" features of the data:\n",
    "  - \"What was the most delayed flight?\"\n",
    "  - \"What was the hottest day of the year?\"\n",
    "  - \"Who was the tallest NBA player in 2010?\""
   ]
  },
  {
   "cell_type": "markdown",
   "metadata": {
    "id": "JvnShjxaqxn-"
   },
   "source": [
    "`arrange()` changes the order of the rows based on the value of the columns.\n",
    "- It takes a data frame and a set of column names (or more complicated expressions) to order by.\n",
    "- If you provide multiple expressions to order by, it uses the second one to break ties in the first one, third one to break ties in the second one, and so on.\n",
    "- By default, things are sorted in **ascending** order."
   ]
  },
  {
   "cell_type": "code",
   "execution_count": null,
   "metadata": {
    "id": "tkKMVsqYqxn_",
    "scrolled": true
   },
   "outputs": [],
   "source": [
    "# sort flights in ascending order by month and day\n",
    "arrange(flights, month, day)"
   ]
  },
  {
   "cell_type": "markdown",
   "metadata": {
    "id": "AYIY3G3eqxn_"
   },
   "source": [
    "We sorted the data by month and day, so the top-most rows have the earliest month, folllowed by day."
   ]
  },
  {
   "cell_type": "markdown",
   "metadata": {
    "collapsed": true,
    "id": "6ulqdoiuqxn_",
    "jupyter": {
     "outputs_hidden": true
    }
   },
   "source": [
    "If you want to sort in **descending** order, write `desc(<column>)` instead:"
   ]
  },
  {
   "cell_type": "code",
   "execution_count": null,
   "metadata": {
    "id": "8wQsB7dWqxn_"
   },
   "outputs": [],
   "source": [
    "# flights in descending order of month"
   ]
  },
  {
   "cell_type": "markdown",
   "metadata": {
    "id": "4xrOljykqxoA"
   },
   "source": [
    "## 🤔 Quiz\n",
    "What's the maximum value of the dep_delay found in this dataset?\n",
    "\n",
    "<ol style=\"list-style-type: upper-alpha;\">\n",
    "    <li>1301 minutes</li>\n",
    "    <li>1137 minutes</li>\n",
    "    <li>1242 minutes</li>\n",
    "    <li>4 minutes</li>\n",
    "    <li>49 minutes</li>\n",
    "</ol>"
   ]
  },
  {
   "cell_type": "code",
   "execution_count": null,
   "metadata": {
    "id": "Imfog-6IH5MA"
   },
   "outputs": [],
   "source": []
  },
  {
   "cell_type": "markdown",
   "metadata": {
    "id": "I5LJyd49qxoA"
   },
   "source": [
    "## Row operation #3: `distinct()`\n",
    "`distinct()` finds all the unique rows in a dataset. If you supply column names, it will find all unique combinations of those columns."
   ]
  },
  {
   "cell_type": "markdown",
   "metadata": {
    "id": "LXYkGPh4qxoB"
   },
   "source": [
    "Obviously there are many flights scheduled for each day. But is there a flight scheduled for *every* day?"
   ]
  },
  {
   "cell_type": "code",
   "execution_count": null,
   "metadata": {
    "id": "02C2Y0pqqxoC",
    "scrolled": true
   },
   "outputs": [],
   "source": [
    "# All the unique days in flights\n",
    "distinct(flights, year, month, day)"
   ]
  },
  {
   "cell_type": "markdown",
   "metadata": {
    "id": "pkosNkljqxoC"
   },
   "source": [
    "## 🤔 Quiz\n",
    "How many unique *airplanes* are represented in the `flights` table?\n",
    "\n",
    "<ol style=\"list-style-type: upper-alpha;\">\n",
    "    <li>3,030</li>\n",
    "    <li>4,043</li>\n",
    "    <li>4,044</li>\n",
    "    <li>90,210</li>\n",
    "    <li>Can't be determined from the table</li>\n",
    "</ol>\n",
    "\n",
    "(Hint: every airplane has a unique tail number.)"
   ]
  },
  {
   "cell_type": "code",
   "execution_count": 26,
   "metadata": {},
   "outputs": [
    {
     "name": "stdout",
     "output_type": "stream",
     "text": [
      "\u001b[90m# A tibble: 336,776 × 19\u001b[39m\n",
      "    year month   day dep_time sched_dep_time dep_delay arr_time sched_arr_time\n",
      "   \u001b[3m\u001b[90m<int>\u001b[39m\u001b[23m \u001b[3m\u001b[90m<int>\u001b[39m\u001b[23m \u001b[3m\u001b[90m<int>\u001b[39m\u001b[23m    \u001b[3m\u001b[90m<int>\u001b[39m\u001b[23m          \u001b[3m\u001b[90m<int>\u001b[39m\u001b[23m     \u001b[3m\u001b[90m<dbl>\u001b[39m\u001b[23m    \u001b[3m\u001b[90m<int>\u001b[39m\u001b[23m          \u001b[3m\u001b[90m<int>\u001b[39m\u001b[23m\n",
      "\u001b[90m 1\u001b[39m  \u001b[4m2\u001b[24m013     1     1      517            515         2      830            819\n",
      "\u001b[90m 2\u001b[39m  \u001b[4m2\u001b[24m013     1     1      533            529         4      850            830\n",
      "\u001b[90m 3\u001b[39m  \u001b[4m2\u001b[24m013     1     1      542            540         2      923            850\n",
      "\u001b[90m 4\u001b[39m  \u001b[4m2\u001b[24m013     1     1      544            545        -\u001b[31m1\u001b[39m     \u001b[4m1\u001b[24m004           \u001b[4m1\u001b[24m022\n",
      "\u001b[90m 5\u001b[39m  \u001b[4m2\u001b[24m013     1     1      554            600        -\u001b[31m6\u001b[39m      812            837\n",
      "\u001b[90m 6\u001b[39m  \u001b[4m2\u001b[24m013     1     1      554            558        -\u001b[31m4\u001b[39m      740            728\n",
      "\u001b[90m 7\u001b[39m  \u001b[4m2\u001b[24m013     1     1      555            600        -\u001b[31m5\u001b[39m      913            854\n",
      "\u001b[90m 8\u001b[39m  \u001b[4m2\u001b[24m013     1     1      557            600        -\u001b[31m3\u001b[39m      709            723\n",
      "\u001b[90m 9\u001b[39m  \u001b[4m2\u001b[24m013     1     1      557            600        -\u001b[31m3\u001b[39m      838            846\n",
      "\u001b[90m10\u001b[39m  \u001b[4m2\u001b[24m013     1     1      558            600        -\u001b[31m2\u001b[39m      753            745\n",
      "\u001b[90m# ℹ 336,766 more rows\u001b[39m\n",
      "\u001b[90m# ℹ 11 more variables: arr_delay <dbl>, carrier <chr>, flight <int>,\u001b[39m\n",
      "\u001b[90m#   tailnum <chr>, origin <chr>, dest <chr>, air_time <dbl>, distance <dbl>,\u001b[39m\n",
      "\u001b[90m#   hour <dbl>, minute <dbl>, time_hour <dttm>\u001b[39m\n"
     ]
    }
   ],
   "source": [
    "flights %>% print"
   ]
  },
  {
   "cell_type": "code",
   "execution_count": 28,
   "metadata": {
    "id": "Qw8p06k6qxoC"
   },
   "outputs": [
    {
     "data": {
      "text/html": [
       "4044"
      ],
      "text/latex": [
       "4044"
      ],
      "text/markdown": [
       "4044"
      ],
      "text/plain": [
       "[1] 4044"
      ]
     },
     "metadata": {},
     "output_type": "display_data"
    }
   ],
   "source": [
    "# analysis of unique airplanes\n",
    "nrow(distinct(flights, tailnum))"
   ]
  },
  {
   "cell_type": "markdown",
   "metadata": {},
   "source": [
    "Another way of finding the same result - we will learn this notation later."
   ]
  },
  {
   "cell_type": "code",
   "execution_count": 31,
   "metadata": {},
   "outputs": [
    {
     "data": {
      "text/html": [
       "4044"
      ],
      "text/latex": [
       "4044"
      ],
      "text/markdown": [
       "4044"
      ],
      "text/plain": [
       "[1] 4044"
      ]
     },
     "metadata": {},
     "output_type": "display_data"
    }
   ],
   "source": [
    "length(flights$tailnum %>% unique)"
   ]
  },
  {
   "cell_type": "markdown",
   "metadata": {
    "id": "ShonevDAqxoD"
   },
   "source": [
    "## Column operation #1: `select()`\n",
    "`select()` can help you to narrow down a large dataset by just focusing on the variables you’re interested in. `select()` allows you to rapidly zoom in on a useful subset using operations based on the names of the variables., but you can still get the general idea of how it works:"
   ]
  },
  {
   "cell_type": "code",
   "execution_count": 32,
   "metadata": {
    "id": "aNFALZeiqxoD",
    "outputId": "c6d478ab-ff12-4223-ee97-ff222d1ddf55"
   },
   "outputs": [
    {
     "data": {
      "text/html": [
       "<table class=\"dataframe\">\n",
       "<caption>A tibble: 6 × 5</caption>\n",
       "<thead>\n",
       "\t<tr><th scope=col>year</th><th scope=col>month</th><th scope=col>day</th><th scope=col>departure time</th><th scope=col>arrival_time</th></tr>\n",
       "\t<tr><th scope=col>&lt;int&gt;</th><th scope=col>&lt;int&gt;</th><th scope=col>&lt;int&gt;</th><th scope=col>&lt;int&gt;</th><th scope=col>&lt;int&gt;</th></tr>\n",
       "</thead>\n",
       "<tbody>\n",
       "\t<tr><td>2013</td><td>1</td><td>1</td><td>517</td><td> 830</td></tr>\n",
       "\t<tr><td>2013</td><td>1</td><td>1</td><td>533</td><td> 850</td></tr>\n",
       "\t<tr><td>2013</td><td>1</td><td>1</td><td>542</td><td> 923</td></tr>\n",
       "\t<tr><td>2013</td><td>1</td><td>1</td><td>544</td><td>1004</td></tr>\n",
       "\t<tr><td>2013</td><td>1</td><td>1</td><td>554</td><td> 812</td></tr>\n",
       "\t<tr><td>2013</td><td>1</td><td>1</td><td>554</td><td> 740</td></tr>\n",
       "</tbody>\n",
       "</table>\n"
      ],
      "text/latex": [
       "A tibble: 6 × 5\n",
       "\\begin{tabular}{lllll}\n",
       " year & month & day & departure time & arrival\\_time\\\\\n",
       " <int> & <int> & <int> & <int> & <int>\\\\\n",
       "\\hline\n",
       "\t 2013 & 1 & 1 & 517 &  830\\\\\n",
       "\t 2013 & 1 & 1 & 533 &  850\\\\\n",
       "\t 2013 & 1 & 1 & 542 &  923\\\\\n",
       "\t 2013 & 1 & 1 & 544 & 1004\\\\\n",
       "\t 2013 & 1 & 1 & 554 &  812\\\\\n",
       "\t 2013 & 1 & 1 & 554 &  740\\\\\n",
       "\\end{tabular}\n"
      ],
      "text/markdown": [
       "\n",
       "A tibble: 6 × 5\n",
       "\n",
       "| year &lt;int&gt; | month &lt;int&gt; | day &lt;int&gt; | departure time &lt;int&gt; | arrival_time &lt;int&gt; |\n",
       "|---|---|---|---|---|\n",
       "| 2013 | 1 | 1 | 517 |  830 |\n",
       "| 2013 | 1 | 1 | 533 |  850 |\n",
       "| 2013 | 1 | 1 | 542 |  923 |\n",
       "| 2013 | 1 | 1 | 544 | 1004 |\n",
       "| 2013 | 1 | 1 | 554 |  812 |\n",
       "| 2013 | 1 | 1 | 554 |  740 |\n",
       "\n"
      ],
      "text/plain": [
       "  year month day departure time arrival_time\n",
       "1 2013 1     1   517             830        \n",
       "2 2013 1     1   533             850        \n",
       "3 2013 1     1   542             923        \n",
       "4 2013 1     1   544            1004        \n",
       "5 2013 1     1   554             812        \n",
       "6 2013 1     1   554             740        "
      ]
     },
     "metadata": {},
     "output_type": "display_data"
    }
   ],
   "source": [
    "tbl <- select(flights, year, month, day, `departure time` = dep_time, arrival_time = arr_time)\n",
    "head(tbl)"
   ]
  },
  {
   "cell_type": "markdown",
   "metadata": {
    "id": "X_3BN1FdqxoD"
   },
   "source": [
    "Note that `select` drops any variables not explicitly mentioned. To just rename some variables while keeping all others, use `rename`."
   ]
  },
  {
   "cell_type": "code",
   "execution_count": null,
   "metadata": {
    "id": "PdI0Q8_FqxoD",
    "outputId": "76417736-418d-4918-e79d-5eda06b97ace"
   },
   "outputs": [
    {
     "data": {
      "text/html": [
       "<table class=\"dataframe\">\n",
       "<caption>A tibble: 6 × 19</caption>\n",
       "<thead>\n",
       "\t<tr><th scope=col>year</th><th scope=col>month</th><th scope=col>day</th><th scope=col>departure_time</th><th scope=col>sched_dep_time</th><th scope=col>dep_delay</th><th scope=col>arrival_time</th><th scope=col>sched_arr_time</th><th scope=col>arr_delay</th><th scope=col>carrier</th><th scope=col>flight</th><th scope=col>tailnum</th><th scope=col>origin</th><th scope=col>dest</th><th scope=col>air_time</th><th scope=col>distance</th><th scope=col>hour</th><th scope=col>minute</th><th scope=col>time_hour</th></tr>\n",
       "\t<tr><th scope=col>&lt;int&gt;</th><th scope=col>&lt;int&gt;</th><th scope=col>&lt;int&gt;</th><th scope=col>&lt;int&gt;</th><th scope=col>&lt;int&gt;</th><th scope=col>&lt;dbl&gt;</th><th scope=col>&lt;int&gt;</th><th scope=col>&lt;int&gt;</th><th scope=col>&lt;dbl&gt;</th><th scope=col>&lt;chr&gt;</th><th scope=col>&lt;int&gt;</th><th scope=col>&lt;chr&gt;</th><th scope=col>&lt;chr&gt;</th><th scope=col>&lt;chr&gt;</th><th scope=col>&lt;dbl&gt;</th><th scope=col>&lt;dbl&gt;</th><th scope=col>&lt;dbl&gt;</th><th scope=col>&lt;dbl&gt;</th><th scope=col>&lt;dttm&gt;</th></tr>\n",
       "</thead>\n",
       "<tbody>\n",
       "\t<tr><td>2013</td><td>1</td><td>1</td><td>517</td><td>515</td><td> 2</td><td> 830</td><td> 819</td><td> 11</td><td>UA</td><td>1545</td><td>N14228</td><td>EWR</td><td>IAH</td><td>227</td><td>1400</td><td>5</td><td>15</td><td>2013-01-01 05:00:00</td></tr>\n",
       "\t<tr><td>2013</td><td>1</td><td>1</td><td>533</td><td>529</td><td> 4</td><td> 850</td><td> 830</td><td> 20</td><td>UA</td><td>1714</td><td>N24211</td><td>LGA</td><td>IAH</td><td>227</td><td>1416</td><td>5</td><td>29</td><td>2013-01-01 05:00:00</td></tr>\n",
       "\t<tr><td>2013</td><td>1</td><td>1</td><td>542</td><td>540</td><td> 2</td><td> 923</td><td> 850</td><td> 33</td><td>AA</td><td>1141</td><td>N619AA</td><td>JFK</td><td>MIA</td><td>160</td><td>1089</td><td>5</td><td>40</td><td>2013-01-01 05:00:00</td></tr>\n",
       "\t<tr><td>2013</td><td>1</td><td>1</td><td>544</td><td>545</td><td>-1</td><td>1004</td><td>1022</td><td>-18</td><td>B6</td><td> 725</td><td>N804JB</td><td>JFK</td><td>BQN</td><td>183</td><td>1576</td><td>5</td><td>45</td><td>2013-01-01 05:00:00</td></tr>\n",
       "\t<tr><td>2013</td><td>1</td><td>1</td><td>554</td><td>600</td><td>-6</td><td> 812</td><td> 837</td><td>-25</td><td>DL</td><td> 461</td><td>N668DN</td><td>LGA</td><td>ATL</td><td>116</td><td> 762</td><td>6</td><td> 0</td><td>2013-01-01 06:00:00</td></tr>\n",
       "\t<tr><td>2013</td><td>1</td><td>1</td><td>554</td><td>558</td><td>-4</td><td> 740</td><td> 728</td><td> 12</td><td>UA</td><td>1696</td><td>N39463</td><td>EWR</td><td>ORD</td><td>150</td><td> 719</td><td>5</td><td>58</td><td>2013-01-01 05:00:00</td></tr>\n",
       "</tbody>\n",
       "</table>\n"
      ],
      "text/latex": [
       "A tibble: 6 × 19\n",
       "\\begin{tabular}{lllllllllllllllllll}\n",
       " year & month & day & departure\\_time & sched\\_dep\\_time & dep\\_delay & arrival\\_time & sched\\_arr\\_time & arr\\_delay & carrier & flight & tailnum & origin & dest & air\\_time & distance & hour & minute & time\\_hour\\\\\n",
       " <int> & <int> & <int> & <int> & <int> & <dbl> & <int> & <int> & <dbl> & <chr> & <int> & <chr> & <chr> & <chr> & <dbl> & <dbl> & <dbl> & <dbl> & <dttm>\\\\\n",
       "\\hline\n",
       "\t 2013 & 1 & 1 & 517 & 515 &  2 &  830 &  819 &  11 & UA & 1545 & N14228 & EWR & IAH & 227 & 1400 & 5 & 15 & 2013-01-01 05:00:00\\\\\n",
       "\t 2013 & 1 & 1 & 533 & 529 &  4 &  850 &  830 &  20 & UA & 1714 & N24211 & LGA & IAH & 227 & 1416 & 5 & 29 & 2013-01-01 05:00:00\\\\\n",
       "\t 2013 & 1 & 1 & 542 & 540 &  2 &  923 &  850 &  33 & AA & 1141 & N619AA & JFK & MIA & 160 & 1089 & 5 & 40 & 2013-01-01 05:00:00\\\\\n",
       "\t 2013 & 1 & 1 & 544 & 545 & -1 & 1004 & 1022 & -18 & B6 &  725 & N804JB & JFK & BQN & 183 & 1576 & 5 & 45 & 2013-01-01 05:00:00\\\\\n",
       "\t 2013 & 1 & 1 & 554 & 600 & -6 &  812 &  837 & -25 & DL &  461 & N668DN & LGA & ATL & 116 &  762 & 6 &  0 & 2013-01-01 06:00:00\\\\\n",
       "\t 2013 & 1 & 1 & 554 & 558 & -4 &  740 &  728 &  12 & UA & 1696 & N39463 & EWR & ORD & 150 &  719 & 5 & 58 & 2013-01-01 05:00:00\\\\\n",
       "\\end{tabular}\n"
      ],
      "text/markdown": [
       "\n",
       "A tibble: 6 × 19\n",
       "\n",
       "| year &lt;int&gt; | month &lt;int&gt; | day &lt;int&gt; | departure_time &lt;int&gt; | sched_dep_time &lt;int&gt; | dep_delay &lt;dbl&gt; | arrival_time &lt;int&gt; | sched_arr_time &lt;int&gt; | arr_delay &lt;dbl&gt; | carrier &lt;chr&gt; | flight &lt;int&gt; | tailnum &lt;chr&gt; | origin &lt;chr&gt; | dest &lt;chr&gt; | air_time &lt;dbl&gt; | distance &lt;dbl&gt; | hour &lt;dbl&gt; | minute &lt;dbl&gt; | time_hour &lt;dttm&gt; |\n",
       "|---|---|---|---|---|---|---|---|---|---|---|---|---|---|---|---|---|---|---|\n",
       "| 2013 | 1 | 1 | 517 | 515 |  2 |  830 |  819 |  11 | UA | 1545 | N14228 | EWR | IAH | 227 | 1400 | 5 | 15 | 2013-01-01 05:00:00 |\n",
       "| 2013 | 1 | 1 | 533 | 529 |  4 |  850 |  830 |  20 | UA | 1714 | N24211 | LGA | IAH | 227 | 1416 | 5 | 29 | 2013-01-01 05:00:00 |\n",
       "| 2013 | 1 | 1 | 542 | 540 |  2 |  923 |  850 |  33 | AA | 1141 | N619AA | JFK | MIA | 160 | 1089 | 5 | 40 | 2013-01-01 05:00:00 |\n",
       "| 2013 | 1 | 1 | 544 | 545 | -1 | 1004 | 1022 | -18 | B6 |  725 | N804JB | JFK | BQN | 183 | 1576 | 5 | 45 | 2013-01-01 05:00:00 |\n",
       "| 2013 | 1 | 1 | 554 | 600 | -6 |  812 |  837 | -25 | DL |  461 | N668DN | LGA | ATL | 116 |  762 | 6 |  0 | 2013-01-01 06:00:00 |\n",
       "| 2013 | 1 | 1 | 554 | 558 | -4 |  740 |  728 |  12 | UA | 1696 | N39463 | EWR | ORD | 150 |  719 | 5 | 58 | 2013-01-01 05:00:00 |\n",
       "\n"
      ],
      "text/plain": [
       "  year month day departure_time sched_dep_time dep_delay arrival_time\n",
       "1 2013 1     1   517            515             2         830        \n",
       "2 2013 1     1   533            529             4         850        \n",
       "3 2013 1     1   542            540             2         923        \n",
       "4 2013 1     1   544            545            -1        1004        \n",
       "5 2013 1     1   554            600            -6         812        \n",
       "6 2013 1     1   554            558            -4         740        \n",
       "  sched_arr_time arr_delay carrier flight tailnum origin dest air_time distance\n",
       "1  819            11       UA      1545   N14228  EWR    IAH  227      1400    \n",
       "2  830            20       UA      1714   N24211  LGA    IAH  227      1416    \n",
       "3  850            33       AA      1141   N619AA  JFK    MIA  160      1089    \n",
       "4 1022           -18       B6       725   N804JB  JFK    BQN  183      1576    \n",
       "5  837           -25       DL       461   N668DN  LGA    ATL  116       762    \n",
       "6  728            12       UA      1696   N39463  EWR    ORD  150       719    \n",
       "  hour minute time_hour          \n",
       "1 5    15     2013-01-01 05:00:00\n",
       "2 5    29     2013-01-01 05:00:00\n",
       "3 5    40     2013-01-01 05:00:00\n",
       "4 5    45     2013-01-01 05:00:00\n",
       "5 6     0     2013-01-01 06:00:00\n",
       "6 5    58     2013-01-01 05:00:00"
      ]
     },
     "metadata": {},
     "output_type": "display_data"
    }
   ],
   "source": [
    "head(rename(flights, departure_time = dep_time, arrival_time = arr_time))"
   ]
  },
  {
   "cell_type": "markdown",
   "metadata": {
    "id": "exTMKFHgqxoE"
   },
   "source": [
    "If there are a lot of variables, you can save yourself some typing by using `:` and `-` in combination with select. The colon operator selects a range of variables:"
   ]
  },
  {
   "cell_type": "code",
   "execution_count": null,
   "metadata": {
    "id": "V8rRijT4qxoE",
    "outputId": "76ea9c6d-fb26-45c8-9dec-47b05bd7490b"
   },
   "outputs": [
    {
     "data": {
      "text/html": [
       "<table class=\"dataframe\">\n",
       "<caption>A tibble: 6 × 3</caption>\n",
       "<thead>\n",
       "\t<tr><th scope=col>year</th><th scope=col>month</th><th scope=col>day</th></tr>\n",
       "\t<tr><th scope=col>&lt;int&gt;</th><th scope=col>&lt;int&gt;</th><th scope=col>&lt;int&gt;</th></tr>\n",
       "</thead>\n",
       "<tbody>\n",
       "\t<tr><td>2013</td><td>1</td><td>1</td></tr>\n",
       "\t<tr><td>2013</td><td>1</td><td>1</td></tr>\n",
       "\t<tr><td>2013</td><td>1</td><td>1</td></tr>\n",
       "\t<tr><td>2013</td><td>1</td><td>1</td></tr>\n",
       "\t<tr><td>2013</td><td>1</td><td>1</td></tr>\n",
       "\t<tr><td>2013</td><td>1</td><td>1</td></tr>\n",
       "</tbody>\n",
       "</table>\n"
      ],
      "text/latex": [
       "A tibble: 6 × 3\n",
       "\\begin{tabular}{lll}\n",
       " year & month & day\\\\\n",
       " <int> & <int> & <int>\\\\\n",
       "\\hline\n",
       "\t 2013 & 1 & 1\\\\\n",
       "\t 2013 & 1 & 1\\\\\n",
       "\t 2013 & 1 & 1\\\\\n",
       "\t 2013 & 1 & 1\\\\\n",
       "\t 2013 & 1 & 1\\\\\n",
       "\t 2013 & 1 & 1\\\\\n",
       "\\end{tabular}\n"
      ],
      "text/markdown": [
       "\n",
       "A tibble: 6 × 3\n",
       "\n",
       "| year &lt;int&gt; | month &lt;int&gt; | day &lt;int&gt; |\n",
       "|---|---|---|\n",
       "| 2013 | 1 | 1 |\n",
       "| 2013 | 1 | 1 |\n",
       "| 2013 | 1 | 1 |\n",
       "| 2013 | 1 | 1 |\n",
       "| 2013 | 1 | 1 |\n",
       "| 2013 | 1 | 1 |\n",
       "\n"
      ],
      "text/plain": [
       "  year month day\n",
       "1 2013 1     1  \n",
       "2 2013 1     1  \n",
       "3 2013 1     1  \n",
       "4 2013 1     1  \n",
       "5 2013 1     1  \n",
       "6 2013 1     1  "
      ]
     },
     "metadata": {},
     "output_type": "display_data"
    }
   ],
   "source": [
    "head(select(flights, year:day))"
   ]
  },
  {
   "cell_type": "markdown",
   "metadata": {
    "id": "7et7WghcqxoE"
   },
   "source": [
    "The negative sign lets you select everything but certain columns:"
   ]
  },
  {
   "cell_type": "code",
   "execution_count": null,
   "metadata": {
    "id": "k1B_jZnWqxoF"
   },
   "outputs": [],
   "source": [
    "# select everything except the day and year columns\n",
    "select(flights, -day, ...)"
   ]
  },
  {
   "cell_type": "markdown",
   "metadata": {
    "id": "2Y1Si95cqxoF"
   },
   "source": [
    "If you want to bring a few variables at the beginning, you can use `everything()` to refer to the remaining variables."
   ]
  },
  {
   "cell_type": "code",
   "execution_count": null,
   "metadata": {
    "id": "2Xh8ktlrqxoF"
   },
   "outputs": [],
   "source": [
    "# bring dep_time, arr_time, day, month, year to front\n",
    "select(..., everything())"
   ]
  },
  {
   "cell_type": "markdown",
   "metadata": {
    "id": "75gR1ylmqxoG"
   },
   "source": [
    "In addition, there are some helper functions that only work inside `select()`.\n",
    "\n",
    "* `starts_with()`, `ends_with()`, `contains()`\n",
    "* `matches()`\n",
    "* `num_range()`\n",
    "\n",
    "You can consult the documentation or type `?select` at the prompt to learn more about these. Here's just one example of their use."
   ]
  },
  {
   "cell_type": "code",
   "execution_count": 40,
   "metadata": {
    "id": "yPaikektqxoG"
   },
   "outputs": [
    {
     "data": {
      "text/html": [
       "<table class=\"dataframe\">\n",
       "<caption>A tibble: 336776 × 6</caption>\n",
       "<thead>\n",
       "\t<tr><th scope=col>dep_time</th><th scope=col>sched_dep_time</th><th scope=col>arr_time</th><th scope=col>sched_arr_time</th><th scope=col>air_time</th><th scope=col>time_hour</th></tr>\n",
       "\t<tr><th scope=col>&lt;int&gt;</th><th scope=col>&lt;int&gt;</th><th scope=col>&lt;int&gt;</th><th scope=col>&lt;int&gt;</th><th scope=col>&lt;dbl&gt;</th><th scope=col>&lt;dttm&gt;</th></tr>\n",
       "</thead>\n",
       "<tbody>\n",
       "\t<tr><td>517</td><td>515</td><td> 830</td><td> 819</td><td>227</td><td>2013-01-01 05:00:00</td></tr>\n",
       "\t<tr><td>533</td><td>529</td><td> 850</td><td> 830</td><td>227</td><td>2013-01-01 05:00:00</td></tr>\n",
       "\t<tr><td>542</td><td>540</td><td> 923</td><td> 850</td><td>160</td><td>2013-01-01 05:00:00</td></tr>\n",
       "\t<tr><td>544</td><td>545</td><td>1004</td><td>1022</td><td>183</td><td>2013-01-01 05:00:00</td></tr>\n",
       "\t<tr><td>554</td><td>600</td><td> 812</td><td> 837</td><td>116</td><td>2013-01-01 06:00:00</td></tr>\n",
       "\t<tr><td>554</td><td>558</td><td> 740</td><td> 728</td><td>150</td><td>2013-01-01 05:00:00</td></tr>\n",
       "\t<tr><td>555</td><td>600</td><td> 913</td><td> 854</td><td>158</td><td>2013-01-01 06:00:00</td></tr>\n",
       "\t<tr><td>557</td><td>600</td><td> 709</td><td> 723</td><td> 53</td><td>2013-01-01 06:00:00</td></tr>\n",
       "\t<tr><td>557</td><td>600</td><td> 838</td><td> 846</td><td>140</td><td>2013-01-01 06:00:00</td></tr>\n",
       "\t<tr><td>558</td><td>600</td><td> 753</td><td> 745</td><td>138</td><td>2013-01-01 06:00:00</td></tr>\n",
       "\t<tr><td>558</td><td>600</td><td> 849</td><td> 851</td><td>149</td><td>2013-01-01 06:00:00</td></tr>\n",
       "\t<tr><td>558</td><td>600</td><td> 853</td><td> 856</td><td>158</td><td>2013-01-01 06:00:00</td></tr>\n",
       "\t<tr><td>558</td><td>600</td><td> 924</td><td> 917</td><td>345</td><td>2013-01-01 06:00:00</td></tr>\n",
       "\t<tr><td>558</td><td>600</td><td> 923</td><td> 937</td><td>361</td><td>2013-01-01 06:00:00</td></tr>\n",
       "\t<tr><td>559</td><td>600</td><td> 941</td><td> 910</td><td>257</td><td>2013-01-01 06:00:00</td></tr>\n",
       "\t<tr><td>559</td><td>559</td><td> 702</td><td> 706</td><td> 44</td><td>2013-01-01 05:00:00</td></tr>\n",
       "\t<tr><td>559</td><td>600</td><td> 854</td><td> 902</td><td>337</td><td>2013-01-01 06:00:00</td></tr>\n",
       "\t<tr><td>600</td><td>600</td><td> 851</td><td> 858</td><td>152</td><td>2013-01-01 06:00:00</td></tr>\n",
       "\t<tr><td>600</td><td>600</td><td> 837</td><td> 825</td><td>134</td><td>2013-01-01 06:00:00</td></tr>\n",
       "\t<tr><td>601</td><td>600</td><td> 844</td><td> 850</td><td>147</td><td>2013-01-01 06:00:00</td></tr>\n",
       "\t<tr><td>602</td><td>610</td><td> 812</td><td> 820</td><td>170</td><td>2013-01-01 06:00:00</td></tr>\n",
       "\t<tr><td>602</td><td>605</td><td> 821</td><td> 805</td><td>105</td><td>2013-01-01 06:00:00</td></tr>\n",
       "\t<tr><td>606</td><td>610</td><td> 858</td><td> 910</td><td>152</td><td>2013-01-01 06:00:00</td></tr>\n",
       "\t<tr><td>606</td><td>610</td><td> 837</td><td> 845</td><td>128</td><td>2013-01-01 06:00:00</td></tr>\n",
       "\t<tr><td>607</td><td>607</td><td> 858</td><td> 915</td><td>157</td><td>2013-01-01 06:00:00</td></tr>\n",
       "\t<tr><td>608</td><td>600</td><td> 807</td><td> 735</td><td>139</td><td>2013-01-01 06:00:00</td></tr>\n",
       "\t<tr><td>611</td><td>600</td><td> 945</td><td> 931</td><td>366</td><td>2013-01-01 06:00:00</td></tr>\n",
       "\t<tr><td>613</td><td>610</td><td> 925</td><td> 921</td><td>175</td><td>2013-01-01 06:00:00</td></tr>\n",
       "\t<tr><td>615</td><td>615</td><td>1039</td><td>1100</td><td>182</td><td>2013-01-01 06:00:00</td></tr>\n",
       "\t<tr><td>615</td><td>615</td><td> 833</td><td> 842</td><td>120</td><td>2013-01-01 06:00:00</td></tr>\n",
       "\t<tr><td>⋮</td><td>⋮</td><td>⋮</td><td>⋮</td><td>⋮</td><td>⋮</td></tr>\n",
       "\t<tr><td>2123</td><td>2125</td><td>2223</td><td>2247</td><td> 45</td><td>2013-09-30 21:00:00</td></tr>\n",
       "\t<tr><td>2127</td><td>2129</td><td>2314</td><td>2323</td><td> 72</td><td>2013-09-30 21:00:00</td></tr>\n",
       "\t<tr><td>2128</td><td>2130</td><td>2328</td><td>2359</td><td>213</td><td>2013-09-30 21:00:00</td></tr>\n",
       "\t<tr><td>2129</td><td>2059</td><td>2230</td><td>2232</td><td> 45</td><td>2013-09-30 20:00:00</td></tr>\n",
       "\t<tr><td>2131</td><td>2140</td><td>2225</td><td>2255</td><td> 36</td><td>2013-09-30 21:00:00</td></tr>\n",
       "\t<tr><td>2140</td><td>2140</td><td>  10</td><td>  40</td><td>298</td><td>2013-09-30 21:00:00</td></tr>\n",
       "\t<tr><td>2142</td><td>2129</td><td>2250</td><td>2239</td><td> 47</td><td>2013-09-30 21:00:00</td></tr>\n",
       "\t<tr><td>2145</td><td>2145</td><td> 115</td><td> 140</td><td>192</td><td>2013-09-30 21:00:00</td></tr>\n",
       "\t<tr><td>2147</td><td>2137</td><td>  30</td><td>  27</td><td>139</td><td>2013-09-30 21:00:00</td></tr>\n",
       "\t<tr><td>2149</td><td>2156</td><td>2245</td><td>2308</td><td> 37</td><td>2013-09-30 21:00:00</td></tr>\n",
       "\t<tr><td>2150</td><td>2159</td><td>2250</td><td>2306</td><td> 39</td><td>2013-09-30 21:00:00</td></tr>\n",
       "\t<tr><td>2159</td><td>1845</td><td>2344</td><td>2030</td><td> 50</td><td>2013-09-30 18:00:00</td></tr>\n",
       "\t<tr><td>2203</td><td>2205</td><td>2339</td><td>2331</td><td> 61</td><td>2013-09-30 22:00:00</td></tr>\n",
       "\t<tr><td>2207</td><td>2140</td><td>2257</td><td>2250</td><td> 97</td><td>2013-09-30 21:00:00</td></tr>\n",
       "\t<tr><td>2211</td><td>2059</td><td>2339</td><td>2242</td><td>120</td><td>2013-09-30 20:00:00</td></tr>\n",
       "\t<tr><td>2231</td><td>2245</td><td>2335</td><td>2356</td><td> 48</td><td>2013-09-30 22:00:00</td></tr>\n",
       "\t<tr><td>2233</td><td>2113</td><td> 112</td><td>  30</td><td>318</td><td>2013-09-30 21:00:00</td></tr>\n",
       "\t<tr><td>2235</td><td>2001</td><td>  59</td><td>2249</td><td>123</td><td>2013-09-30 20:00:00</td></tr>\n",
       "\t<tr><td>2237</td><td>2245</td><td>2345</td><td>2353</td><td> 43</td><td>2013-09-30 22:00:00</td></tr>\n",
       "\t<tr><td>2240</td><td>2245</td><td>2334</td><td>2351</td><td> 41</td><td>2013-09-30 22:00:00</td></tr>\n",
       "\t<tr><td>2240</td><td>2250</td><td>2347</td><td>   7</td><td> 52</td><td>2013-09-30 22:00:00</td></tr>\n",
       "\t<tr><td>2241</td><td>2246</td><td>2345</td><td>   1</td><td> 47</td><td>2013-09-30 22:00:00</td></tr>\n",
       "\t<tr><td>2307</td><td>2255</td><td>2359</td><td>2358</td><td> 33</td><td>2013-09-30 22:00:00</td></tr>\n",
       "\t<tr><td>2349</td><td>2359</td><td> 325</td><td> 350</td><td>196</td><td>2013-09-30 23:00:00</td></tr>\n",
       "\t<tr><td>  NA</td><td>1842</td><td>  NA</td><td>2019</td><td> NA</td><td>2013-09-30 18:00:00</td></tr>\n",
       "\t<tr><td>  NA</td><td>1455</td><td>  NA</td><td>1634</td><td> NA</td><td>2013-09-30 14:00:00</td></tr>\n",
       "\t<tr><td>  NA</td><td>2200</td><td>  NA</td><td>2312</td><td> NA</td><td>2013-09-30 22:00:00</td></tr>\n",
       "\t<tr><td>  NA</td><td>1210</td><td>  NA</td><td>1330</td><td> NA</td><td>2013-09-30 12:00:00</td></tr>\n",
       "\t<tr><td>  NA</td><td>1159</td><td>  NA</td><td>1344</td><td> NA</td><td>2013-09-30 11:00:00</td></tr>\n",
       "\t<tr><td>  NA</td><td> 840</td><td>  NA</td><td>1020</td><td> NA</td><td>2013-09-30 08:00:00</td></tr>\n",
       "</tbody>\n",
       "</table>\n"
      ],
      "text/latex": [
       "A tibble: 336776 × 6\n",
       "\\begin{tabular}{llllll}\n",
       " dep\\_time & sched\\_dep\\_time & arr\\_time & sched\\_arr\\_time & air\\_time & time\\_hour\\\\\n",
       " <int> & <int> & <int> & <int> & <dbl> & <dttm>\\\\\n",
       "\\hline\n",
       "\t 517 & 515 &  830 &  819 & 227 & 2013-01-01 05:00:00\\\\\n",
       "\t 533 & 529 &  850 &  830 & 227 & 2013-01-01 05:00:00\\\\\n",
       "\t 542 & 540 &  923 &  850 & 160 & 2013-01-01 05:00:00\\\\\n",
       "\t 544 & 545 & 1004 & 1022 & 183 & 2013-01-01 05:00:00\\\\\n",
       "\t 554 & 600 &  812 &  837 & 116 & 2013-01-01 06:00:00\\\\\n",
       "\t 554 & 558 &  740 &  728 & 150 & 2013-01-01 05:00:00\\\\\n",
       "\t 555 & 600 &  913 &  854 & 158 & 2013-01-01 06:00:00\\\\\n",
       "\t 557 & 600 &  709 &  723 &  53 & 2013-01-01 06:00:00\\\\\n",
       "\t 557 & 600 &  838 &  846 & 140 & 2013-01-01 06:00:00\\\\\n",
       "\t 558 & 600 &  753 &  745 & 138 & 2013-01-01 06:00:00\\\\\n",
       "\t 558 & 600 &  849 &  851 & 149 & 2013-01-01 06:00:00\\\\\n",
       "\t 558 & 600 &  853 &  856 & 158 & 2013-01-01 06:00:00\\\\\n",
       "\t 558 & 600 &  924 &  917 & 345 & 2013-01-01 06:00:00\\\\\n",
       "\t 558 & 600 &  923 &  937 & 361 & 2013-01-01 06:00:00\\\\\n",
       "\t 559 & 600 &  941 &  910 & 257 & 2013-01-01 06:00:00\\\\\n",
       "\t 559 & 559 &  702 &  706 &  44 & 2013-01-01 05:00:00\\\\\n",
       "\t 559 & 600 &  854 &  902 & 337 & 2013-01-01 06:00:00\\\\\n",
       "\t 600 & 600 &  851 &  858 & 152 & 2013-01-01 06:00:00\\\\\n",
       "\t 600 & 600 &  837 &  825 & 134 & 2013-01-01 06:00:00\\\\\n",
       "\t 601 & 600 &  844 &  850 & 147 & 2013-01-01 06:00:00\\\\\n",
       "\t 602 & 610 &  812 &  820 & 170 & 2013-01-01 06:00:00\\\\\n",
       "\t 602 & 605 &  821 &  805 & 105 & 2013-01-01 06:00:00\\\\\n",
       "\t 606 & 610 &  858 &  910 & 152 & 2013-01-01 06:00:00\\\\\n",
       "\t 606 & 610 &  837 &  845 & 128 & 2013-01-01 06:00:00\\\\\n",
       "\t 607 & 607 &  858 &  915 & 157 & 2013-01-01 06:00:00\\\\\n",
       "\t 608 & 600 &  807 &  735 & 139 & 2013-01-01 06:00:00\\\\\n",
       "\t 611 & 600 &  945 &  931 & 366 & 2013-01-01 06:00:00\\\\\n",
       "\t 613 & 610 &  925 &  921 & 175 & 2013-01-01 06:00:00\\\\\n",
       "\t 615 & 615 & 1039 & 1100 & 182 & 2013-01-01 06:00:00\\\\\n",
       "\t 615 & 615 &  833 &  842 & 120 & 2013-01-01 06:00:00\\\\\n",
       "\t ⋮ & ⋮ & ⋮ & ⋮ & ⋮ & ⋮\\\\\n",
       "\t 2123 & 2125 & 2223 & 2247 &  45 & 2013-09-30 21:00:00\\\\\n",
       "\t 2127 & 2129 & 2314 & 2323 &  72 & 2013-09-30 21:00:00\\\\\n",
       "\t 2128 & 2130 & 2328 & 2359 & 213 & 2013-09-30 21:00:00\\\\\n",
       "\t 2129 & 2059 & 2230 & 2232 &  45 & 2013-09-30 20:00:00\\\\\n",
       "\t 2131 & 2140 & 2225 & 2255 &  36 & 2013-09-30 21:00:00\\\\\n",
       "\t 2140 & 2140 &   10 &   40 & 298 & 2013-09-30 21:00:00\\\\\n",
       "\t 2142 & 2129 & 2250 & 2239 &  47 & 2013-09-30 21:00:00\\\\\n",
       "\t 2145 & 2145 &  115 &  140 & 192 & 2013-09-30 21:00:00\\\\\n",
       "\t 2147 & 2137 &   30 &   27 & 139 & 2013-09-30 21:00:00\\\\\n",
       "\t 2149 & 2156 & 2245 & 2308 &  37 & 2013-09-30 21:00:00\\\\\n",
       "\t 2150 & 2159 & 2250 & 2306 &  39 & 2013-09-30 21:00:00\\\\\n",
       "\t 2159 & 1845 & 2344 & 2030 &  50 & 2013-09-30 18:00:00\\\\\n",
       "\t 2203 & 2205 & 2339 & 2331 &  61 & 2013-09-30 22:00:00\\\\\n",
       "\t 2207 & 2140 & 2257 & 2250 &  97 & 2013-09-30 21:00:00\\\\\n",
       "\t 2211 & 2059 & 2339 & 2242 & 120 & 2013-09-30 20:00:00\\\\\n",
       "\t 2231 & 2245 & 2335 & 2356 &  48 & 2013-09-30 22:00:00\\\\\n",
       "\t 2233 & 2113 &  112 &   30 & 318 & 2013-09-30 21:00:00\\\\\n",
       "\t 2235 & 2001 &   59 & 2249 & 123 & 2013-09-30 20:00:00\\\\\n",
       "\t 2237 & 2245 & 2345 & 2353 &  43 & 2013-09-30 22:00:00\\\\\n",
       "\t 2240 & 2245 & 2334 & 2351 &  41 & 2013-09-30 22:00:00\\\\\n",
       "\t 2240 & 2250 & 2347 &    7 &  52 & 2013-09-30 22:00:00\\\\\n",
       "\t 2241 & 2246 & 2345 &    1 &  47 & 2013-09-30 22:00:00\\\\\n",
       "\t 2307 & 2255 & 2359 & 2358 &  33 & 2013-09-30 22:00:00\\\\\n",
       "\t 2349 & 2359 &  325 &  350 & 196 & 2013-09-30 23:00:00\\\\\n",
       "\t   NA & 1842 &   NA & 2019 &  NA & 2013-09-30 18:00:00\\\\\n",
       "\t   NA & 1455 &   NA & 1634 &  NA & 2013-09-30 14:00:00\\\\\n",
       "\t   NA & 2200 &   NA & 2312 &  NA & 2013-09-30 22:00:00\\\\\n",
       "\t   NA & 1210 &   NA & 1330 &  NA & 2013-09-30 12:00:00\\\\\n",
       "\t   NA & 1159 &   NA & 1344 &  NA & 2013-09-30 11:00:00\\\\\n",
       "\t   NA &  840 &   NA & 1020 &  NA & 2013-09-30 08:00:00\\\\\n",
       "\\end{tabular}\n"
      ],
      "text/markdown": [
       "\n",
       "A tibble: 336776 × 6\n",
       "\n",
       "| dep_time &lt;int&gt; | sched_dep_time &lt;int&gt; | arr_time &lt;int&gt; | sched_arr_time &lt;int&gt; | air_time &lt;dbl&gt; | time_hour &lt;dttm&gt; |\n",
       "|---|---|---|---|---|---|\n",
       "| 517 | 515 |  830 |  819 | 227 | 2013-01-01 05:00:00 |\n",
       "| 533 | 529 |  850 |  830 | 227 | 2013-01-01 05:00:00 |\n",
       "| 542 | 540 |  923 |  850 | 160 | 2013-01-01 05:00:00 |\n",
       "| 544 | 545 | 1004 | 1022 | 183 | 2013-01-01 05:00:00 |\n",
       "| 554 | 600 |  812 |  837 | 116 | 2013-01-01 06:00:00 |\n",
       "| 554 | 558 |  740 |  728 | 150 | 2013-01-01 05:00:00 |\n",
       "| 555 | 600 |  913 |  854 | 158 | 2013-01-01 06:00:00 |\n",
       "| 557 | 600 |  709 |  723 |  53 | 2013-01-01 06:00:00 |\n",
       "| 557 | 600 |  838 |  846 | 140 | 2013-01-01 06:00:00 |\n",
       "| 558 | 600 |  753 |  745 | 138 | 2013-01-01 06:00:00 |\n",
       "| 558 | 600 |  849 |  851 | 149 | 2013-01-01 06:00:00 |\n",
       "| 558 | 600 |  853 |  856 | 158 | 2013-01-01 06:00:00 |\n",
       "| 558 | 600 |  924 |  917 | 345 | 2013-01-01 06:00:00 |\n",
       "| 558 | 600 |  923 |  937 | 361 | 2013-01-01 06:00:00 |\n",
       "| 559 | 600 |  941 |  910 | 257 | 2013-01-01 06:00:00 |\n",
       "| 559 | 559 |  702 |  706 |  44 | 2013-01-01 05:00:00 |\n",
       "| 559 | 600 |  854 |  902 | 337 | 2013-01-01 06:00:00 |\n",
       "| 600 | 600 |  851 |  858 | 152 | 2013-01-01 06:00:00 |\n",
       "| 600 | 600 |  837 |  825 | 134 | 2013-01-01 06:00:00 |\n",
       "| 601 | 600 |  844 |  850 | 147 | 2013-01-01 06:00:00 |\n",
       "| 602 | 610 |  812 |  820 | 170 | 2013-01-01 06:00:00 |\n",
       "| 602 | 605 |  821 |  805 | 105 | 2013-01-01 06:00:00 |\n",
       "| 606 | 610 |  858 |  910 | 152 | 2013-01-01 06:00:00 |\n",
       "| 606 | 610 |  837 |  845 | 128 | 2013-01-01 06:00:00 |\n",
       "| 607 | 607 |  858 |  915 | 157 | 2013-01-01 06:00:00 |\n",
       "| 608 | 600 |  807 |  735 | 139 | 2013-01-01 06:00:00 |\n",
       "| 611 | 600 |  945 |  931 | 366 | 2013-01-01 06:00:00 |\n",
       "| 613 | 610 |  925 |  921 | 175 | 2013-01-01 06:00:00 |\n",
       "| 615 | 615 | 1039 | 1100 | 182 | 2013-01-01 06:00:00 |\n",
       "| 615 | 615 |  833 |  842 | 120 | 2013-01-01 06:00:00 |\n",
       "| ⋮ | ⋮ | ⋮ | ⋮ | ⋮ | ⋮ |\n",
       "| 2123 | 2125 | 2223 | 2247 |  45 | 2013-09-30 21:00:00 |\n",
       "| 2127 | 2129 | 2314 | 2323 |  72 | 2013-09-30 21:00:00 |\n",
       "| 2128 | 2130 | 2328 | 2359 | 213 | 2013-09-30 21:00:00 |\n",
       "| 2129 | 2059 | 2230 | 2232 |  45 | 2013-09-30 20:00:00 |\n",
       "| 2131 | 2140 | 2225 | 2255 |  36 | 2013-09-30 21:00:00 |\n",
       "| 2140 | 2140 |   10 |   40 | 298 | 2013-09-30 21:00:00 |\n",
       "| 2142 | 2129 | 2250 | 2239 |  47 | 2013-09-30 21:00:00 |\n",
       "| 2145 | 2145 |  115 |  140 | 192 | 2013-09-30 21:00:00 |\n",
       "| 2147 | 2137 |   30 |   27 | 139 | 2013-09-30 21:00:00 |\n",
       "| 2149 | 2156 | 2245 | 2308 |  37 | 2013-09-30 21:00:00 |\n",
       "| 2150 | 2159 | 2250 | 2306 |  39 | 2013-09-30 21:00:00 |\n",
       "| 2159 | 1845 | 2344 | 2030 |  50 | 2013-09-30 18:00:00 |\n",
       "| 2203 | 2205 | 2339 | 2331 |  61 | 2013-09-30 22:00:00 |\n",
       "| 2207 | 2140 | 2257 | 2250 |  97 | 2013-09-30 21:00:00 |\n",
       "| 2211 | 2059 | 2339 | 2242 | 120 | 2013-09-30 20:00:00 |\n",
       "| 2231 | 2245 | 2335 | 2356 |  48 | 2013-09-30 22:00:00 |\n",
       "| 2233 | 2113 |  112 |   30 | 318 | 2013-09-30 21:00:00 |\n",
       "| 2235 | 2001 |   59 | 2249 | 123 | 2013-09-30 20:00:00 |\n",
       "| 2237 | 2245 | 2345 | 2353 |  43 | 2013-09-30 22:00:00 |\n",
       "| 2240 | 2245 | 2334 | 2351 |  41 | 2013-09-30 22:00:00 |\n",
       "| 2240 | 2250 | 2347 |    7 |  52 | 2013-09-30 22:00:00 |\n",
       "| 2241 | 2246 | 2345 |    1 |  47 | 2013-09-30 22:00:00 |\n",
       "| 2307 | 2255 | 2359 | 2358 |  33 | 2013-09-30 22:00:00 |\n",
       "| 2349 | 2359 |  325 |  350 | 196 | 2013-09-30 23:00:00 |\n",
       "|   NA | 1842 |   NA | 2019 |  NA | 2013-09-30 18:00:00 |\n",
       "|   NA | 1455 |   NA | 1634 |  NA | 2013-09-30 14:00:00 |\n",
       "|   NA | 2200 |   NA | 2312 |  NA | 2013-09-30 22:00:00 |\n",
       "|   NA | 1210 |   NA | 1330 |  NA | 2013-09-30 12:00:00 |\n",
       "|   NA | 1159 |   NA | 1344 |  NA | 2013-09-30 11:00:00 |\n",
       "|   NA |  840 |   NA | 1020 |  NA | 2013-09-30 08:00:00 |\n",
       "\n"
      ],
      "text/plain": [
       "       dep_time sched_dep_time arr_time sched_arr_time air_time\n",
       "1      517      515             830      819           227     \n",
       "2      533      529             850      830           227     \n",
       "3      542      540             923      850           160     \n",
       "4      544      545            1004     1022           183     \n",
       "5      554      600             812      837           116     \n",
       "6      554      558             740      728           150     \n",
       "7      555      600             913      854           158     \n",
       "8      557      600             709      723            53     \n",
       "9      557      600             838      846           140     \n",
       "10     558      600             753      745           138     \n",
       "11     558      600             849      851           149     \n",
       "12     558      600             853      856           158     \n",
       "13     558      600             924      917           345     \n",
       "14     558      600             923      937           361     \n",
       "15     559      600             941      910           257     \n",
       "16     559      559             702      706            44     \n",
       "17     559      600             854      902           337     \n",
       "18     600      600             851      858           152     \n",
       "19     600      600             837      825           134     \n",
       "20     601      600             844      850           147     \n",
       "21     602      610             812      820           170     \n",
       "22     602      605             821      805           105     \n",
       "23     606      610             858      910           152     \n",
       "24     606      610             837      845           128     \n",
       "25     607      607             858      915           157     \n",
       "26     608      600             807      735           139     \n",
       "27     611      600             945      931           366     \n",
       "28     613      610             925      921           175     \n",
       "29     615      615            1039     1100           182     \n",
       "30     615      615             833      842           120     \n",
       "⋮      ⋮        ⋮              ⋮        ⋮              ⋮       \n",
       "336747 2123     2125           2223     2247            45     \n",
       "336748 2127     2129           2314     2323            72     \n",
       "336749 2128     2130           2328     2359           213     \n",
       "336750 2129     2059           2230     2232            45     \n",
       "336751 2131     2140           2225     2255            36     \n",
       "336752 2140     2140             10       40           298     \n",
       "336753 2142     2129           2250     2239            47     \n",
       "336754 2145     2145            115      140           192     \n",
       "336755 2147     2137             30       27           139     \n",
       "336756 2149     2156           2245     2308            37     \n",
       "336757 2150     2159           2250     2306            39     \n",
       "336758 2159     1845           2344     2030            50     \n",
       "336759 2203     2205           2339     2331            61     \n",
       "336760 2207     2140           2257     2250            97     \n",
       "336761 2211     2059           2339     2242           120     \n",
       "336762 2231     2245           2335     2356            48     \n",
       "336763 2233     2113            112       30           318     \n",
       "336764 2235     2001             59     2249           123     \n",
       "336765 2237     2245           2345     2353            43     \n",
       "336766 2240     2245           2334     2351            41     \n",
       "336767 2240     2250           2347        7            52     \n",
       "336768 2241     2246           2345        1            47     \n",
       "336769 2307     2255           2359     2358            33     \n",
       "336770 2349     2359            325      350           196     \n",
       "336771   NA     1842             NA     2019            NA     \n",
       "336772   NA     1455             NA     1634            NA     \n",
       "336773   NA     2200             NA     2312            NA     \n",
       "336774   NA     1210             NA     1330            NA     \n",
       "336775   NA     1159             NA     1344            NA     \n",
       "336776   NA      840             NA     1020            NA     \n",
       "       time_hour          \n",
       "1      2013-01-01 05:00:00\n",
       "2      2013-01-01 05:00:00\n",
       "3      2013-01-01 05:00:00\n",
       "4      2013-01-01 05:00:00\n",
       "5      2013-01-01 06:00:00\n",
       "6      2013-01-01 05:00:00\n",
       "7      2013-01-01 06:00:00\n",
       "8      2013-01-01 06:00:00\n",
       "9      2013-01-01 06:00:00\n",
       "10     2013-01-01 06:00:00\n",
       "11     2013-01-01 06:00:00\n",
       "12     2013-01-01 06:00:00\n",
       "13     2013-01-01 06:00:00\n",
       "14     2013-01-01 06:00:00\n",
       "15     2013-01-01 06:00:00\n",
       "16     2013-01-01 05:00:00\n",
       "17     2013-01-01 06:00:00\n",
       "18     2013-01-01 06:00:00\n",
       "19     2013-01-01 06:00:00\n",
       "20     2013-01-01 06:00:00\n",
       "21     2013-01-01 06:00:00\n",
       "22     2013-01-01 06:00:00\n",
       "23     2013-01-01 06:00:00\n",
       "24     2013-01-01 06:00:00\n",
       "25     2013-01-01 06:00:00\n",
       "26     2013-01-01 06:00:00\n",
       "27     2013-01-01 06:00:00\n",
       "28     2013-01-01 06:00:00\n",
       "29     2013-01-01 06:00:00\n",
       "30     2013-01-01 06:00:00\n",
       "⋮      ⋮                  \n",
       "336747 2013-09-30 21:00:00\n",
       "336748 2013-09-30 21:00:00\n",
       "336749 2013-09-30 21:00:00\n",
       "336750 2013-09-30 20:00:00\n",
       "336751 2013-09-30 21:00:00\n",
       "336752 2013-09-30 21:00:00\n",
       "336753 2013-09-30 21:00:00\n",
       "336754 2013-09-30 21:00:00\n",
       "336755 2013-09-30 21:00:00\n",
       "336756 2013-09-30 21:00:00\n",
       "336757 2013-09-30 21:00:00\n",
       "336758 2013-09-30 18:00:00\n",
       "336759 2013-09-30 22:00:00\n",
       "336760 2013-09-30 21:00:00\n",
       "336761 2013-09-30 20:00:00\n",
       "336762 2013-09-30 22:00:00\n",
       "336763 2013-09-30 21:00:00\n",
       "336764 2013-09-30 20:00:00\n",
       "336765 2013-09-30 22:00:00\n",
       "336766 2013-09-30 22:00:00\n",
       "336767 2013-09-30 22:00:00\n",
       "336768 2013-09-30 22:00:00\n",
       "336769 2013-09-30 22:00:00\n",
       "336770 2013-09-30 23:00:00\n",
       "336771 2013-09-30 18:00:00\n",
       "336772 2013-09-30 14:00:00\n",
       "336773 2013-09-30 22:00:00\n",
       "336774 2013-09-30 12:00:00\n",
       "336775 2013-09-30 11:00:00\n",
       "336776 2013-09-30 08:00:00"
      ]
     },
     "metadata": {},
     "output_type": "display_data"
    }
   ],
   "source": [
    "# select all the variables that contain the word \"time\"\n",
    "select(flights, contains(...))"
   ]
  }
 ],
 "metadata": {
  "celltoolbar": "Slideshow",
  "colab": {
   "provenance": []
  },
  "kernelspec": {
   "display_name": "R",
   "language": "R",
   "name": "ir"
  },
  "language_info": {
   "codemirror_mode": "r",
   "file_extension": ".r",
   "mimetype": "text/x-r-source",
   "name": "R",
   "pygments_lexer": "r",
   "version": "4.3.1"
  }
 },
 "nbformat": 4,
 "nbformat_minor": 4
}
