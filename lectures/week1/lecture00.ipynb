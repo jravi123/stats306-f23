{
  "cells": [
    {
      "cell_type": "markdown",
      "metadata": {
        "hide_input": true,
        "id": "l5X00FD2QBwF"
      },
      "source": [
        "# STATS 306: Introduction to Statistical Computing\n",
        "## Jayashree Ravi\n"
      ]
    },
    {
      "cell_type": "markdown",
      "metadata": {
        "id": "htav-mOLQBwH"
      },
      "source": [
        "## The book\n",
        "\n",
        "<img style=\"float:right; margin: 10px; width: 200px\" src=\"https://d33wubrfki0l68.cloudfront.net/b88ef926a004b0fce72b2526b0b5c4413666a4cb/24a30/cover.png\"/>\n",
        "\n",
        "For most of the semester we will follow the book \"R for Data Science\" (R4DS) by Hadley Wickham and Garrett Grolemund. The electronic version is available [for free](https://r4ds.hadley.nz).\n",
        "\n",
        "**Note**: we are using the **second edition** of the book not the [first edition](https://r4ds.had.co.nz)."
      ]
    },
    {
      "cell_type": "markdown",
      "metadata": {
        "id": "uXQdzLh3QBwI"
      },
      "source": [
        "## What this course is about\n",
        "Learning to use R in order to perform:\n",
        "* Exploratory Data Analysis\n",
        "    - Data Visualization\n",
        "    - Data Transformation\n",
        "* Analyzing different types of data\n",
        "    - Numerical data\n",
        "    - Categorical data (factors)\n",
        "    - Text / strings\n",
        "    - Dates and times\n",
        "* Programming topics:\n",
        "    - Functions\n",
        "    - Abstraction\n",
        "    - Vectors / lists\n",
        "    - Iteration\n",
        "* Putting it all together to perform statistical inference\n",
        "    - Regression\n",
        "    - Model building\n",
        "    - Hypothesis testing"
      ]
    },
    {
      "cell_type": "markdown",
      "metadata": {
        "id": "O18elCzTQBwJ"
      },
      "source": [
        "## What this course is *not* about\n",
        "This is not a traditional programming course. You will learn to program in R as a byproduct of learning how to visualize, clean, and model data. However we will *not* cover things like:\n",
        "- Algorithms\n",
        "- Data structures\n",
        "- OOP\n",
        "- etc.\n",
        "\n",
        "If you find that you enjoy programming and want to go further, these would be good topics to learn about in a future course."
      ]
    },
    {
      "cell_type": "markdown",
      "metadata": {
        "id": "tikiVjJaQBwJ"
      },
      "source": [
        "# Poll\n",
        "https://join.iclicker.com/ZDAW\n",
        "\n",
        "My level of programming experience is:\n",
        "<ol style=\"list-style-type: upper-alpha;\">\n",
        "    <li>Never programmed before</li>\n",
        "    <li>I have taken a programming course (EECS 183, ENGR 101, etc.) before</li>\n",
        "    <li>I have taken several programming courses (EECS 28x, etc.) before</li>\n",
        "    <li>I code for fun</li>\n",
        "</ol>"
      ]
    },
    {
      "cell_type": "markdown",
      "metadata": {
        "id": "C6gh8E0pQBwK"
      },
      "source": [
        "# Goals for today's lecture\n",
        "- Learn how to begin using Jupyter and R.\n",
        "- Use R to do basic computations."
      ]
    },
    {
      "cell_type": "markdown",
      "metadata": {
        "id": "gw5C2WT2QBwL"
      },
      "source": [
        "## Accessing an R programming environment\n",
        "Everything in this course will be done using [Jupyter notebooks](http://jupyter.org/) running the [R programming language](https://www.r-project.org/). Lecture notes will be distributed in Jupyter notebook format before lecture.\n",
        "There are several options for running R:\n",
        "- Jupyter notebook. All of the slides and homeworks are distributed as Jupyter notebooks. There are several ways to get up and running with Jupyter.\n",
        "  - Easiest/recommended: Use [Google Colab](https://colab.to/r).\n",
        "  - Almost as easy: install [Anaconda](https://www.anaconda.com/products/distribution) (see video instructions [here](https://www.youtube.com/watch?v=C4OPn58BLaU)).\n",
        "  - Advanced: [install Jupyter using Python `pip`](https://jupyter.org/install), and also install R and `IRKernel`.\n",
        "- [RStudio](https://rstudio.org) is another great platform, but unfortunately it does not support editing Jupyter notebooks. Some students like to use RStudio to work on problem sets, and then paste the answers into the notebook."
      ]
    },
    {
      "cell_type": "markdown",
      "source": [
        "# Accessing the github repo files\n",
        "\n",
        "You can load all the jupyter notebooks shared through github by simply replacing:\n",
        "\n",
        "`github.com` with `colab.research.google.com/github`\n",
        "\n",
        "and\n",
        "keeping the rest of the URL as-is\n"
      ],
      "metadata": {
        "id": "xIqNCKa_gHKP"
      }
    },
    {
      "cell_type": "markdown",
      "metadata": {
        "id": "6okqOb06QBwM"
      },
      "source": [
        "# What is R\n",
        "R is a programming language developed by statisticians to perform statistical analysis. The \"traditional\" way to run R from the Unix command line is by typing the command `R`:\n",
        "\n",
        "    $ R\n",
        "    R version 4.2.2 (2022-10-31) -- \"Innocent and Trusting\"\n",
        "    Copyright (C) 2022 The R Foundation for Statistical Computing\n",
        "    Platform: x86_64-apple-darwin17.0 (64-bit)\n",
        "\n",
        "    R is free software and comes with ABSOLUTELY NO WARRANTY.\n",
        "    You are welcome to redistribute it under certain conditions.\n",
        "    Type 'license()' or 'licence()' for distribution details.\n",
        "\n",
        "      Natural language support but running in an English locale\n",
        "\n",
        "    R is a collaborative project with many contributors.\n",
        "    Type 'contributors()' for more information and\n",
        "    'citation()' on how to cite R or R packages in publications.\n",
        "\n",
        "    Type 'demo()' for some demos, 'help()' for on-line help, or\n",
        "    'help.start()' for an HTML browser interface to help.\n",
        "    Type 'q()' to quit R.\n",
        "\n",
        "\n",
        "    >"
      ]
    },
    {
      "cell_type": "markdown",
      "metadata": {
        "id": "x-qL534SQBwM"
      },
      "source": [
        "We won't use the command line in this class.\n",
        "The Colab notebook used here is running an R \"kernel\" in the background. Typing commands into these cells is the same as if you had typed them into the R interpreter:"
      ]
    },
    {
      "cell_type": "markdown",
      "source": [
        "# Lets ask R to do some math"
      ],
      "metadata": {
        "id": "Rs9lKV5NZ7LT"
      }
    },
    {
      "cell_type": "code",
      "execution_count": null,
      "metadata": {
        "id": "SiHNaEU-QBwN",
        "outputId": "ac1fdcfc-ca75-458f-bdd3-fc8502fe22b6"
      },
      "outputs": [
        {
          "data": {
            "text/html": [
              "2"
            ],
            "text/latex": [
              "2"
            ],
            "text/markdown": [
              "2"
            ],
            "text/plain": [
              "[1] 2"
            ]
          },
          "metadata": {},
          "output_type": "display_data"
        }
      ],
      "source": [
        "1 + 1"
      ]
    },
    {
      "cell_type": "markdown",
      "metadata": {
        "id": "4Vmbgk8WQBwP"
      },
      "source": [
        "After typing this code into the notebook, you have to \"run\" it in order to get the result. You can do this by clicking the \"&#x25b6; Run\" button in the left sidebar above;\n",
        "\n",
        "\n",
        "This gets very tedious, so you can also type \"Shift-Enter\" to run the cell."
      ]
    },
    {
      "cell_type": "markdown",
      "source": [
        "## Check the version of R used in a notebook"
      ],
      "metadata": {
        "id": "c912fTonZzWC"
      }
    },
    {
      "cell_type": "code",
      "source": [
        "print(R.version.string)"
      ],
      "metadata": {
        "colab": {
          "base_uri": "https://localhost:8080/"
        },
        "id": "fVi9itpgZ24e",
        "outputId": "2d39c138-0223-46f3-a63c-e165f9e1c6f3"
      },
      "execution_count": null,
      "outputs": [
        {
          "output_type": "stream",
          "name": "stdout",
          "text": [
            "[1] \"R version 4.3.1 (2023-06-16)\"\n"
          ]
        }
      ]
    },
    {
      "cell_type": "markdown",
      "metadata": {
        "id": "j-CUKnRnQBwP"
      },
      "source": [
        "## The `tidyverse`\n",
        "The `tidyverse` is a collection of software packages that we will use to analyze data in R. Because it is not part of \"base R\", we must first tell R to load these packages before we can use them. We do that by typing:"
      ]
    },
    {
      "cell_type": "code",
      "execution_count": null,
      "metadata": {
        "id": "cEkc6HAaQBwP",
        "outputId": "ce7b04e0-0bdc-4b80-ac05-aade119fda1d",
        "colab": {
          "base_uri": "https://localhost:8080/"
        }
      },
      "outputs": [
        {
          "output_type": "stream",
          "name": "stderr",
          "text": [
            "── \u001b[1mAttaching core tidyverse packages\u001b[22m ──────────────────────── tidyverse 2.0.0 ──\n",
            "\u001b[32m✔\u001b[39m \u001b[34mdplyr    \u001b[39m 1.1.2     \u001b[32m✔\u001b[39m \u001b[34mreadr    \u001b[39m 2.1.4\n",
            "\u001b[32m✔\u001b[39m \u001b[34mforcats  \u001b[39m 1.0.0     \u001b[32m✔\u001b[39m \u001b[34mstringr  \u001b[39m 1.5.0\n",
            "\u001b[32m✔\u001b[39m \u001b[34mggplot2  \u001b[39m 3.4.2     \u001b[32m✔\u001b[39m \u001b[34mtibble   \u001b[39m 3.2.1\n",
            "\u001b[32m✔\u001b[39m \u001b[34mlubridate\u001b[39m 1.9.2     \u001b[32m✔\u001b[39m \u001b[34mtidyr    \u001b[39m 1.3.0\n",
            "\u001b[32m✔\u001b[39m \u001b[34mpurrr    \u001b[39m 1.0.2     \n",
            "── \u001b[1mConflicts\u001b[22m ────────────────────────────────────────── tidyverse_conflicts() ──\n",
            "\u001b[31m✖\u001b[39m \u001b[34mdplyr\u001b[39m::\u001b[32mfilter()\u001b[39m masks \u001b[34mstats\u001b[39m::filter()\n",
            "\u001b[31m✖\u001b[39m \u001b[34mdplyr\u001b[39m::\u001b[32mlag()\u001b[39m    masks \u001b[34mstats\u001b[39m::lag()\n",
            "\u001b[36mℹ\u001b[39m Use the conflicted package (\u001b[3m\u001b[34m<http://conflicted.r-lib.org/>\u001b[39m\u001b[23m) to force all conflicts to become errors\n"
          ]
        }
      ],
      "source": [
        "library(tidyverse)"
      ]
    },
    {
      "cell_type": "markdown",
      "metadata": {
        "id": "bomNaJtyQBwQ"
      },
      "source": [
        "You should execute this command *every time* you start R. (You only need to run it once per session.) If you don't, most of the code that appear in this lecture notes will not work."
      ]
    },
    {
      "cell_type": "markdown",
      "metadata": {
        "id": "8uA-0AeWQBwQ"
      },
      "source": [
        "## Analyzing some data\n",
        "- Unlike a traditional programming course, we are going to \"dive right in\" immediately begin analyzing data.\n",
        "- **Don't worry if you don't understand what all of the code that follows does yet -- the goal here is to become comfortable interacting with R.**\n",
        "- In future lectures, we will unpack all of these commands in great detail."
      ]
    },
    {
      "cell_type": "markdown",
      "metadata": {
        "id": "-YwZqjBPQBwQ"
      },
      "source": [
        "## Do penguins with longer flippers weigh more or less than penguins with shorter flippers?\n",
        "\n",
        "<img src=\"https://upload.wikimedia.org/wikipedia/commons/thumb/0/07/Schwimmender-Pinguin.jpg/330px-Schwimmender-Pinguin.jpg\" />\n",
        "\n",
        "Image sourced from wikipedia\n",
        "\n",
        "```\n",
        "# This is formatted as code\n",
        "```\n",
        "\n",
        "\n",
        "To study this pressing question, we will first need a data set about penguins. The `palmerpenguins` dataset contains this information. Load it by typing:\n",
        "\n",
        "```\n",
        "library(palmerpenguins)\n",
        "```"
      ]
    },
    {
      "cell_type": "code",
      "execution_count": null,
      "metadata": {
        "id": "4_uKB_pFQBwQ"
      },
      "outputs": [],
      "source": [
        "# Load the palmer penguins library"
      ]
    },
    {
      "cell_type": "markdown",
      "metadata": {
        "id": "fOQuPy_HQBwR"
      },
      "source": [
        "Chances are good that you got the following error message:\n",
        "```\n",
        "Error in library(palmerpenguins): there is no package called ‘palmerpenguins’\n",
        "Traceback:\n",
        "\n",
        "1. library(palmerpenguins)\n",
        "```\n",
        "This means that this dataset has not yet been copied onto the computer. To fix this, we need to run:\n",
        "```\n",
        "install.packages('palmerpenguins')\n",
        "```\n",
        "After running this command, the package `palmerpenguins` is now installed into your Colab environment, and you can load it by typing `library(palmerpenguins)`."
      ]
    },
    {
      "cell_type": "markdown",
      "metadata": {
        "id": "kC3Ag5IvQBwR"
      },
      "source": [
        "## Variables\n",
        "\n",
        "A **variable** is a name that contains a value. You have previously encountered them in a math class:\n",
        "writing:\n",
        "\n",
        "`x = 2` means that the value `2` is now assigned to the variable named `x`\n",
        "\n",
        "We use variables to construct **expressions**. For example, $x^2$ is an expression that evaluates to the number $4$.\n",
        "\n",
        "In computer programming, variables function similarly, except that they can represent other things besides just numbers."
      ]
    },
    {
      "cell_type": "markdown",
      "metadata": {
        "id": "CYUUNGqVQBwS"
      },
      "source": [
        "After loading `palmerpenguins`, we now have a new variable called `penguins`. If we type it into a notebook and evaluate it, R tells us the *value* of that variable:"
      ]
    },
    {
      "cell_type": "code",
      "execution_count": null,
      "metadata": {
        "id": "9l5myGG9QBwS"
      },
      "outputs": [],
      "source": [
        "# Examine the penguins dataset"
      ]
    },
    {
      "cell_type": "markdown",
      "metadata": {
        "id": "ZsTHlfuXQBwS"
      },
      "source": [
        "## Getting `help()`\n",
        "We can pretty much guess what this data set is about. All the same, it would be helpful if somebody wrote down a description of the data to eliminate guesswork. Fortunately, that is usually done for us for the datasets that belong to the base R package"
      ]
    },
    {
      "cell_type": "code",
      "execution_count": null,
      "metadata": {
        "id": "1_k4IVz8QBwS"
      },
      "outputs": [],
      "source": [
        "# Pull up the help for penguins"
      ]
    },
    {
      "cell_type": "markdown",
      "metadata": {
        "id": "NFmco3beQBwT"
      },
      "source": [
        "(You could also abbreviate this as `?penguins`). The built-in help is **extremely useful** (for example, on exams). You should get in the habit of consulting it when you get stuck."
      ]
    },
    {
      "cell_type": "markdown",
      "metadata": {
        "id": "-Rf6yIgFQBwT"
      },
      "source": [
        "### Quiz 🤔\n",
        "In what years(s) was the Penguin study conducted?\n",
        "\n",
        "<ol style=\"list-style-type: upper-alpha;\">\n",
        "    <li>2000/2001/2002</li>\n",
        "    <li>2001/2002/2003</li>\n",
        "    <li>2004/2005/2006</li>\n",
        "    <li>2007/2008/2009</li>\n",
        "</ol>"
      ]
    },
    {
      "cell_type": "markdown",
      "metadata": {
        "id": "lsunI4w8QBwT"
      },
      "source": [
        "## Searching\n",
        "If you know what you want to do, but don't know the name of the command to do it, you can search the help:"
      ]
    },
    {
      "cell_type": "code",
      "execution_count": null,
      "metadata": {
        "id": "NnYstRpWQBwT"
      },
      "outputs": [],
      "source": [
        "# Search the help for 'sum'"
      ]
    },
    {
      "cell_type": "markdown",
      "metadata": {
        "id": "JBYFpD1gQBwU"
      },
      "source": [
        "## Autocompletion\n",
        "If you cannot remember the name of a variable or function, try typing the first part of it and waiting for the autocomplete to get results and hit enter on Colab; on JupyterLab you use `Tab` key on your keyboard:"
      ]
    },
    {
      "cell_type": "code",
      "execution_count": null,
      "metadata": {
        "id": "9kkaAWhmQBwU"
      },
      "outputs": [],
      "source": [
        "# Example of auto completion"
      ]
    },
    {
      "cell_type": "markdown",
      "metadata": {
        "id": "Om-E5ns9QBwU"
      },
      "source": [
        "## Back to penguins\n",
        "We want to create a visualization that answer the original question: Do penguins with longer flippers weigh more or less than penguins with shorter flippers?  \n",
        "\n",
        "![pengiuns](https://r4ds.hadley.nz/data-visualize_files/figure-html/unnamed-chunk-7-1.png)"
      ]
    },
    {
      "cell_type": "markdown",
      "metadata": {
        "id": "CuH4rx78QBwU"
      },
      "source": [
        "## Functions\n",
        "A **function** takes one or more *arguments* and returns a *value*. Here are some functions you have encountered in your math class:\n",
        "\\begin{align}\n",
        "f(x) &= 1 & g(x) &= e^x \\\\\n",
        "h(x) &= \\sin x & r(x, y) &= \\sqrt{x^2 + y^2} \\\\\n",
        "\\end{align}\n",
        "Functions in programming operate on a similar principle, but the input and output values do not necessarily have to be numbers."
      ]
    },
    {
      "cell_type": "markdown",
      "metadata": {
        "id": "xsVVWdjzQBwV"
      },
      "source": [
        "## ggplot\n",
        "To create plots, we'll use an R package called `ggplot`. It comes pre-loaded as part of `tidyverse`. To begin using `ggplot`, we call a **function** called `ggplot()`, with some appropriate arguments."
      ]
    },
    {
      "cell_type": "code",
      "execution_count": null,
      "metadata": {
        "id": "KpQA-kYRQBwV",
        "outputId": "8ae6805b-4e51-40ff-f66d-b82f505ecb31"
      },
      "outputs": [
        {
          "data": {
            "image/png": "[encoded data removed]"
          },
          "metadata": {
            "image/png": {
              "height": 360,
              "width": 480
            }
          },
          "output_type": "display_data"
        }
      ],
      "source": [
        "ggplot(data = penguins)"
      ]
    },
    {
      "cell_type": "markdown",
      "metadata": {
        "id": "w8xIbAHQQBwW"
      },
      "source": [
        "Because we didn't tell it anything about how the plot should look, `ggplot` simply created a blank plot."
      ]
    },
    {
      "cell_type": "markdown",
      "metadata": {
        "id": "ofTqkQLdQBwW"
      },
      "source": [
        "## Aesthetics\n",
        "To tell ggplot how the plot should look, we specify a *mapping* from the *variables* contained in our penguins data set to the $x$ and $y$ axes of the plot."
      ]
    },
    {
      "cell_type": "code",
      "execution_count": null,
      "metadata": {
        "id": "RQ6FKOPGQBwW"
      },
      "outputs": [],
      "source": [
        "# Tell ggplot to put flipper_length_mm on the x axis"
      ]
    },
    {
      "cell_type": "code",
      "execution_count": null,
      "metadata": {
        "id": "3vG0GzRoQBwe"
      },
      "outputs": [],
      "source": [
        "# Tell ggplot to put flipper_length_mm on the x axis and body_mass_g on the y axis\n",
        "ggplot(data = penguins,\n",
        "       mapping = aes(x = flipper_length_mm, y = body_mass_g))"
      ]
    },
    {
      "cell_type": "markdown",
      "metadata": {
        "id": "-5AYAE3yQBwf"
      },
      "source": [
        "All that remains is to add content to the plot. What is an appropriate type of plot for these data?"
      ]
    },
    {
      "cell_type": "code",
      "execution_count": null,
      "metadata": {
        "scrolled": true,
        "id": "nXSL285jQBwf"
      },
      "outputs": [],
      "source": [
        "# Create a scatter plot with flipper_length_mm on the x axis and body_mass_g on the y axis"
      ]
    },
    {
      "cell_type": "markdown",
      "metadata": {
        "id": "vqIQt8vlQBwg"
      },
      "source": [
        "We seem to have uncovered a trend. But there are also other variables in the data set that we should take into account. For example, there is a variable called `species`, and it could be that some species are just inherently bigger."
      ]
    },
    {
      "cell_type": "code",
      "execution_count": null,
      "metadata": {
        "id": "3fZEa6xNQBwg"
      },
      "outputs": [],
      "source": [
        "# Color each point in the preceding scatter plot by their species"
      ]
    },
    {
      "cell_type": "markdown",
      "metadata": {
        "id": "n6xn6pYJQBwg"
      },
      "source": [
        "We could improve this plot a bit by differentiating the species by both color and shape."
      ]
    },
    {
      "cell_type": "code",
      "execution_count": null,
      "metadata": {
        "id": "78e51CRWQBwg"
      },
      "outputs": [],
      "source": [
        "# Color each point in the preceding scatter plot by their species, and give each species a different shape"
      ]
    },
    {
      "cell_type": "markdown",
      "metadata": {
        "id": "ArVV8LgxQBwh"
      },
      "source": [
        "Lastly, we'll add a \"line of best fit\" to this plot, which is a model for the relationship between the $x$ and the $y$ variables. (In statistics, this is often called a \"smoothing line\".)"
      ]
    },
    {
      "cell_type": "code",
      "execution_count": null,
      "metadata": {
        "id": "C7yXHDNdQBwh"
      },
      "outputs": [],
      "source": [
        "# Plot with multiple smoothing lines"
      ]
    },
    {
      "cell_type": "markdown",
      "metadata": {
        "id": "5gk-PxFsQBwh"
      },
      "source": [
        "Oops! This was not quite what we were aiming for -- it would be better if one smoothing line was shared amongst all three species. To accomplish this, we need to move the `color=` and `shape=` aesthetics down into the `geom_point()`, which tells R to only apply those aesthetics to the scatter plot portion of the overall plot."
      ]
    },
    {
      "cell_type": "code",
      "execution_count": null,
      "metadata": {
        "id": "JYREkq53QBwi"
      },
      "outputs": [],
      "source": [
        "# Plot with a single smoothing line"
      ]
    },
    {
      "cell_type": "markdown",
      "metadata": {
        "id": "f1QeuH2lQBwi"
      },
      "source": [
        "Finally, there are a couple of other aesthetic details that we should always pay attention to when making plots. Every plot should:\n",
        "- Have a title.\n",
        "- Have clearly labeled axes.\n",
        "- Make clear what the units of the plot are."
      ]
    },
    {
      "cell_type": "code",
      "execution_count": null,
      "metadata": {
        "id": "sgEXs0VUQBwi"
      },
      "outputs": [],
      "source": [
        "# Plot with correctly labeled axes"
      ]
    },
    {
      "cell_type": "markdown",
      "source": [
        "# Concise expression of ggplot2 code\n",
        "\n",
        "We can rewrite the above code by removing the keywords for the arguments:"
      ],
      "metadata": {
        "id": "v2tDHxXDmvzB"
      }
    },
    {
      "cell_type": "code",
      "source": [],
      "metadata": {
        "id": "SBvJqhyrnw8n"
      },
      "execution_count": null,
      "outputs": []
    },
    {
      "cell_type": "markdown",
      "metadata": {
        "id": "4NOh4khcQBwi"
      },
      "source": [
        "## The Flint water crisis\n",
        "\n",
        "> In April 2014, during a budget crisis, Flint changed its water source from treated Detroit Water and Sewerage Department water (sourced from Lake Huron and the Detroit River) to the Flint River. Residents complained about the taste, smell, and appearance of the water. Officials failed to apply corrosion inhibitors to the water, which resulted in lead from aging pipes leaching into the water supply, exposing around 100,000 residents to elevated lead levels &hellip; **Between 6,000 and 12,000 children were exposed to drinking water with high levels of lead**.\n",
        "\n",
        "https://en.wikipedia.org/wiki/Flint_water_crisis\n"
      ]
    },
    {
      "cell_type": "code",
      "execution_count": null,
      "metadata": {
        "id": "PCptPueNQBwj"
      },
      "outputs": [],
      "source": [
        "load(url('http://datasets.stats306.org/flint.RData'))"
      ]
    },
    {
      "cell_type": "markdown",
      "metadata": {
        "id": "ogW7KllFQBwj"
      },
      "source": [
        "This has loaded a data frame into a variable called `flint` containing data from the Flint water crisis:"
      ]
    },
    {
      "cell_type": "code",
      "execution_count": null,
      "metadata": {
        "id": "dsqeoRupQBwj",
        "outputId": "4920bfbe-f0f3-48ed-a80c-3ccffcb1ab1b"
      },
      "outputs": [
        {
          "data": {
            "text/plain": [
              " Sample Number      Date Submitted                   Analysis (Lead)   \n",
              " Length:23184       Min.   :2015-09-03 11:05:45.00   Length:23184      \n",
              " Class :character   1st Qu.:2016-02-01 13:27:43.50   Class :character  \n",
              " Mode  :character   Median :2016-02-18 13:07:39.00   Mode  :character  \n",
              "                    Mean   :2016-02-29 14:05:42.92                     \n",
              "                    3rd Qu.:2016-03-24 13:34:40.50                     \n",
              "                    Max.   :2016-06-30 12:40:08.00                     \n",
              "                    NA's   :13                                         \n",
              "   Lead (ppb)       Analysis (Copper)   Copper (ppb)       Street #        \n",
              " Min.   :    0.00   Length:23184       Min.   :    0.0   Length:23184      \n",
              " 1st Qu.:    0.00   Class :character   1st Qu.:    0.0   Class :character  \n",
              " Median :    1.00   Mode  :character   Median :    0.0   Mode  :character  \n",
              " Mean   :   17.09                      Mean   :   98.7                     \n",
              " 3rd Qu.:    3.00                      3rd Qu.:  100.0                     \n",
              " Max.   :22905.00                      Max.   :70000.0                     \n",
              " NA's   :13                            NA's   :13                          \n",
              " Street Name            City             Zip Code        \n",
              " Length:23184       Length:23184       Length:23184      \n",
              " Class :character   Class :character   Class :character  \n",
              " Mode  :character   Mode  :character   Mode  :character  \n",
              "                                                         \n",
              "                                                         \n",
              "                                                         \n",
              "                                                         "
            ]
          },
          "metadata": {},
          "output_type": "display_data"
        }
      ],
      "source": [
        "summary(flint)"
      ]
    },
    {
      "cell_type": "markdown",
      "metadata": {
        "id": "tdEuaFPcQBwk"
      },
      "source": [
        "Let's do some basic analysis of the Flint water crisis using this data. What are some interesting questions we could ask about this data set?"
      ]
    },
    {
      "cell_type": "markdown",
      "metadata": {
        "id": "I_42NTPiQBwk"
      },
      "source": [
        "What is the overall distribution of lead levels?"
      ]
    },
    {
      "cell_type": "code",
      "execution_count": null,
      "metadata": {
        "id": "zcbnHagiQBwk",
        "outputId": "b9adbc95-4b60-47ed-a4aa-2bc53d3a0b42"
      },
      "outputs": [
        {
          "name": "stderr",
          "output_type": "stream",
          "text": [
            "\u001b[1m\u001b[22m`stat_bin()` using `bins = 30`. Pick better value with `binwidth`.\n",
            "Warning message:\n",
            "“\u001b[1m\u001b[22mRemoved 13 rows containing non-finite values (`stat_bin()`).”\n"
          ]
        },
        {
          "data": {
            "image/png": "[encoded data removed]"
          },
          "metadata": {
            "image/png": {
              "height": 450,
              "width": 1200
            }
          },
          "output_type": "display_data"
        }
      ],
      "source": [
        "ggplot(flint, aes(x=`Lead (ppb)`)) + geom_histogram()"
      ]
    },
    {
      "cell_type": "markdown",
      "metadata": {
        "id": "tJL-7DeLQBwl"
      },
      "source": [
        "This plot is not very informative, because some extremely large lead values caused the plot axes to extend all the way to 20000. As a result, almost all the observations are clumped into a single bar at zero."
      ]
    },
    {
      "cell_type": "code",
      "execution_count": null,
      "metadata": {
        "id": "eFi88NKmQBwl"
      },
      "outputs": [],
      "source": [
        "# Log-transformed histogram"
      ]
    },
    {
      "cell_type": "markdown",
      "metadata": {
        "id": "MZVerQqZQBwl"
      },
      "source": [
        "### Quiz 🤔\n",
        "What is the largest lead value observed in this data set?\n",
        "\n",
        "<ol style=\"list-style-type: upper-alpha;\">\n",
        "    <li>5165</li>\n",
        "    <li>20000</li>\n",
        "    <li>22905</li>\n",
        "    <li>229</li>\n",
        "</ol>\n",
        "\n",
        "Hint: consider using the `summary()` function."
      ]
    },
    {
      "cell_type": "markdown",
      "metadata": {
        "id": "bI8woKBPQBwm"
      },
      "source": [
        "Which zip codes were most affected?"
      ]
    },
    {
      "cell_type": "code",
      "execution_count": null,
      "metadata": {
        "id": "xadZiU4yQBwm",
        "outputId": "b370c8d7-989d-450b-a607-328aa02739e0"
      },
      "outputs": [
        {
          "data": {
            "text/plain": [
              "\n",
              "     45804      48050      48054      48057      48132      48205      48386 \n",
              "         1          1          1          1          1          1          1 \n",
              "     48403      48406      48430      48432      48463      48473 48503-1042 \n",
              "         1          1          1          1          1          1          1 \n",
              "48503-2640 48503-2719 48503-2812 48503-3535 48503-4524 48503-4601 48503-5314 \n",
              "         1          1          1          1          1          1          1 \n",
              "48504-1644 48504-2164 48504-2844 48504-4842  48504-706 48504-7139 48505-1934 \n",
              "         1          1          1          1          1          1          1 \n",
              "48505-2551 48505-2564 48505-3327 48505-5164 48506-2665 48506-2680 48506-3506 \n",
              "         1          1          1          1          1          1          1 \n",
              "48506-3753 48506-5216 48507-1352 48507-1433 48507-1521 48507-1528 48507-1894 \n",
              "         1          1          1          1          1          1          1 \n",
              "48507-2518 48507-2823 48507-5305 48507-5656 48507-6230      48514      48517 \n",
              "         1          1          1          1          1          1          1 \n",
              "     48522      48530 48532-5208 48532-5235      48540      48584      48750 \n",
              "         1          1          1          1          1          1          1 \n",
              "     48804      48805      48817      48905      49010      49502      49503 \n",
              "         1          1          1          1          1          1          1 \n",
              "     49504      54857      58507      45503      48053      48304      48420 \n",
              "         1          1          1          2          2          2          2 \n",
              "     48457      48560      48423      48508      48501      48519      48439 \n",
              "         2          2          3          3          7          8          9 \n",
              "     48433      48509      48458        ***      48529      48502      48532 \n",
              "        10         12         25        112        119        214        504 \n",
              "     48506      48505      48507      48504      48503 \n",
              "      3073       3257       3875       4053       6882 "
            ]
          },
          "metadata": {},
          "output_type": "display_data"
        }
      ],
      "source": [
        "sort(table(flint$`Zip Code`))"
      ]
    }
  ],
  "metadata": {
    "celltoolbar": "Slideshow",
    "kernelspec": {
      "display_name": "R",
      "language": "R",
      "name": "ir"
    },
    "language_info": {
      "codemirror_mode": "r",
      "file_extension": ".r",
      "mimetype": "text/x-r-source",
      "name": "R",
      "pygments_lexer": "r",
      "version": "4.2.2"
    },
    "colab": {
      "provenance": []
    }
  },
  "nbformat": 4,
  "nbformat_minor": 0
}