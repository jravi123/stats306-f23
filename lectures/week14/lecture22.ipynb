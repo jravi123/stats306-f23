{
 "cells": [
  {
   "cell_type": "code",
   "execution_count": 1,
   "metadata": {
    "colab": {
     "base_uri": "https://localhost:8080/"
    },
    "id": "u_Yh56B_KMLC",
    "outputId": "830bd4b3-e2e4-4d25-a928-f07815c2d276"
   },
   "outputs": [
    {
     "name": "stderr",
     "output_type": "stream",
     "text": [
      "Updating HTML index of packages in '.Library'\n",
      "\n",
      "Making 'packages.html' ...\n",
      " done\n",
      "\n",
      "Updating HTML index of packages in '.Library'\n",
      "\n",
      "Making 'packages.html' ...\n",
      " done\n",
      "\n",
      "Updating HTML index of packages in '.Library'\n",
      "\n",
      "Making 'packages.html' ...\n",
      " done\n",
      "\n",
      "Updating HTML index of packages in '.Library'\n",
      "\n",
      "Making 'packages.html' ...\n",
      " done\n",
      "\n",
      "Updating HTML index of packages in '.Library'\n",
      "\n",
      "Making 'packages.html' ...\n",
      " done\n",
      "\n"
     ]
    }
   ],
   "source": [
    "install.packages(\"parsnip\")\n",
    "install.packages('nycflights13')\n",
    "install.packages('rsample')\n",
    "install.packages('recipes')\n",
    "install.packages('workflows')"
   ]
  },
  {
   "cell_type": "code",
   "execution_count": 2,
   "metadata": {
    "id": "Ae6UCkBXnoU1"
   },
   "outputs": [
    {
     "name": "stderr",
     "output_type": "stream",
     "text": [
      "Loading required package: dplyr\n",
      "\n",
      "\n",
      "Attaching package: ‘dplyr’\n",
      "\n",
      "\n",
      "The following objects are masked from ‘package:stats’:\n",
      "\n",
      "    filter, lag\n",
      "\n",
      "\n",
      "The following objects are masked from ‘package:base’:\n",
      "\n",
      "    intersect, setdiff, setequal, union\n",
      "\n",
      "\n",
      "\n",
      "Attaching package: ‘recipes’\n",
      "\n",
      "\n",
      "The following object is masked from ‘package:stats’:\n",
      "\n",
      "    step\n",
      "\n",
      "\n",
      "── \u001b[1mAttaching core tidyverse packages\u001b[22m ──────────────────────── tidyverse 2.0.0 ──\n",
      "\u001b[32m✔\u001b[39m \u001b[34mforcats  \u001b[39m 1.0.0     \u001b[32m✔\u001b[39m \u001b[34mreadr    \u001b[39m 2.1.4\n",
      "\u001b[32m✔\u001b[39m \u001b[34mggplot2  \u001b[39m 3.4.3     \u001b[32m✔\u001b[39m \u001b[34mstringr  \u001b[39m 1.5.0\n",
      "\u001b[32m✔\u001b[39m \u001b[34mlubridate\u001b[39m 1.9.2     \u001b[32m✔\u001b[39m \u001b[34mtibble   \u001b[39m 3.2.1\n",
      "\u001b[32m✔\u001b[39m \u001b[34mpurrr    \u001b[39m 1.0.2     \u001b[32m✔\u001b[39m \u001b[34mtidyr    \u001b[39m 1.3.0\n",
      "── \u001b[1mConflicts\u001b[22m ────────────────────────────────────────── tidyverse_conflicts() ──\n",
      "\u001b[31m✖\u001b[39m \u001b[34mdplyr\u001b[39m::\u001b[32mfilter()\u001b[39m  masks \u001b[34mstats\u001b[39m::filter()\n",
      "\u001b[31m✖\u001b[39m \u001b[34mstringr\u001b[39m::\u001b[32mfixed()\u001b[39m masks \u001b[34mrecipes\u001b[39m::fixed()\n",
      "\u001b[31m✖\u001b[39m \u001b[34mdplyr\u001b[39m::\u001b[32mlag()\u001b[39m     masks \u001b[34mstats\u001b[39m::lag()\n",
      "\u001b[36mℹ\u001b[39m Use the conflicted package (\u001b[3m\u001b[34m<http://conflicted.r-lib.org/>\u001b[39m\u001b[23m) to force all conflicts to become errors\n"
     ]
    }
   ],
   "source": [
    "library(workflows)\n",
    "library(recipes)\n",
    "library(rsample)\n",
    "library(nycflights13)\n",
    "library(parsnip)\n",
    "library(modelr)\n",
    "library(tidyverse)\n",
    "library(readr)       # for importing data"
   ]
  },
  {
   "cell_type": "markdown",
   "metadata": {
    "id": "oi4zw7rY8QHo"
   },
   "source": [
    "# Lecture 22: Data processing with recipes\n",
    "\n",
    "<div style=\"border: 1px double black; padding: 10px; margin: 10px\">\n",
    "\n",
    "**After today's lecture you will understand how to build a recipe with steps such as:**\n",
    "* Creating dummy variables\n",
    "* Transforming values to different scales\n",
    "* Add new features through feature engineering etc..\n",
    "\n",
    "\n",
    "</div>\n",
    "\n",
    "These notes follow Chapter 2 of [Tidy Models](https://www.tidymodels.org/start/)"
   ]
  },
  {
   "cell_type": "markdown",
   "metadata": {
    "id": "lPPN6B-JAmZI"
   },
   "source": [
    "### Predict if a flight is going to be late or not\n",
    "\n",
    "\n"
   ]
  },
  {
   "cell_type": "code",
   "execution_count": 3,
   "metadata": {
    "colab": {
     "base_uri": "https://localhost:8080/"
    },
    "id": "SnnP_XJMA2aJ",
    "outputId": "e2f5be30-4c21-40d2-ae6c-56d233794566"
   },
   "outputs": [
    {
     "name": "stdout",
     "output_type": "stream",
     "text": [
      "\u001b[90m# A tibble: 325,819 × 10\u001b[39m\n",
      "   dep_time flight origin dest  air_time distance carrier date       arr_delay\n",
      "      \u001b[3m\u001b[90m<int>\u001b[39m\u001b[23m  \u001b[3m\u001b[90m<int>\u001b[39m\u001b[23m \u001b[3m\u001b[90m<fct>\u001b[39m\u001b[23m  \u001b[3m\u001b[90m<fct>\u001b[39m\u001b[23m    \u001b[3m\u001b[90m<dbl>\u001b[39m\u001b[23m    \u001b[3m\u001b[90m<dbl>\u001b[39m\u001b[23m \u001b[3m\u001b[90m<fct>\u001b[39m\u001b[23m   \u001b[3m\u001b[90m<date>\u001b[39m\u001b[23m     \u001b[3m\u001b[90m<fct>\u001b[39m\u001b[23m    \n",
      "\u001b[90m 1\u001b[39m      517   \u001b[4m1\u001b[24m545 EWR    IAH        227     \u001b[4m1\u001b[24m400 UA      2013-01-01 on_time  \n",
      "\u001b[90m 2\u001b[39m      533   \u001b[4m1\u001b[24m714 LGA    IAH        227     \u001b[4m1\u001b[24m416 UA      2013-01-01 on_time  \n",
      "\u001b[90m 3\u001b[39m      542   \u001b[4m1\u001b[24m141 JFK    MIA        160     \u001b[4m1\u001b[24m089 AA      2013-01-01 late     \n",
      "\u001b[90m 4\u001b[39m      544    725 JFK    BQN        183     \u001b[4m1\u001b[24m576 B6      2013-01-01 on_time  \n",
      "\u001b[90m 5\u001b[39m      554    461 LGA    ATL        116      762 DL      2013-01-01 on_time  \n",
      "\u001b[90m 6\u001b[39m      554   \u001b[4m1\u001b[24m696 EWR    ORD        150      719 UA      2013-01-01 on_time  \n",
      "\u001b[90m 7\u001b[39m      555    507 EWR    FLL        158     \u001b[4m1\u001b[24m065 B6      2013-01-01 on_time  \n",
      "\u001b[90m 8\u001b[39m      557   \u001b[4m5\u001b[24m708 LGA    IAD         53      229 EV      2013-01-01 on_time  \n",
      "\u001b[90m 9\u001b[39m      557     79 JFK    MCO        140      944 B6      2013-01-01 on_time  \n",
      "\u001b[90m10\u001b[39m      558    301 LGA    ORD        138      733 AA      2013-01-01 on_time  \n",
      "\u001b[90m# ℹ 325,809 more rows\u001b[39m\n",
      "\u001b[90m# ℹ 1 more variable: time_hour <dttm>\u001b[39m\n"
     ]
    }
   ],
   "source": [
    "\n",
    "flight_data <-\n",
    "  flights %>%\n",
    "  mutate(\n",
    "    # Convert the arrival delay to a factor\n",
    "    arr_delay = factor(ifelse(arr_delay >= 30, \"late\", \"on_time\")),\n",
    "    # We will use the date (not date-time) in the recipe below\n",
    "    date = lubridate::as_date(time_hour)\n",
    "  ) %>%\n",
    "  # Include the weather data\n",
    "  inner_join(weather, by = c(\"origin\", \"time_hour\")) %>%\n",
    "  # Only retain the specific columns we will use\n",
    "  select(dep_time, flight, origin, dest, air_time, distance,\n",
    "         carrier, date, arr_delay, time_hour) %>%\n",
    "  # Exclude missing data\n",
    "  na.omit() %>%\n",
    "  # For creating models, it is better to have qualitative columns\n",
    "  # encoded as factors (instead of character strings)\n",
    "  mutate_if(is.character, as.factor)\n",
    "\n",
    "flight_data %>% print"
   ]
  },
  {
   "cell_type": "markdown",
   "metadata": {
    "id": "vJua2kluBTHE"
   },
   "source": [
    "Lets find the proportion of late flights"
   ]
  },
  {
   "cell_type": "code",
   "execution_count": 4,
   "metadata": {
    "colab": {
     "base_uri": "https://localhost:8080/",
     "height": 161
    },
    "id": "_XGBDuvfBSlU",
    "outputId": "7f54523c-cf66-4675-b76c-8473b1528753"
   },
   "outputs": [
    {
     "data": {
      "text/html": [
       "<table class=\"dataframe\">\n",
       "<caption>A tibble: 2 × 3</caption>\n",
       "<thead>\n",
       "\t<tr><th scope=col>arr_delay</th><th scope=col>n</th><th scope=col>prop</th></tr>\n",
       "\t<tr><th scope=col>&lt;fct&gt;</th><th scope=col>&lt;int&gt;</th><th scope=col>&lt;dbl&gt;</th></tr>\n",
       "</thead>\n",
       "<tbody>\n",
       "\t<tr><td>late   </td><td> 52540</td><td>0.1612552</td></tr>\n",
       "\t<tr><td>on_time</td><td>273279</td><td>0.8387448</td></tr>\n",
       "</tbody>\n",
       "</table>\n"
      ],
      "text/latex": [
       "A tibble: 2 × 3\n",
       "\\begin{tabular}{lll}\n",
       " arr\\_delay & n & prop\\\\\n",
       " <fct> & <int> & <dbl>\\\\\n",
       "\\hline\n",
       "\t late    &  52540 & 0.1612552\\\\\n",
       "\t on\\_time & 273279 & 0.8387448\\\\\n",
       "\\end{tabular}\n"
      ],
      "text/markdown": [
       "\n",
       "A tibble: 2 × 3\n",
       "\n",
       "| arr_delay &lt;fct&gt; | n &lt;int&gt; | prop &lt;dbl&gt; |\n",
       "|---|---|---|\n",
       "| late    |  52540 | 0.1612552 |\n",
       "| on_time | 273279 | 0.8387448 |\n",
       "\n"
      ],
      "text/plain": [
       "  arr_delay n      prop     \n",
       "1 late       52540 0.1612552\n",
       "2 on_time   273279 0.8387448"
      ]
     },
     "metadata": {},
     "output_type": "display_data"
    }
   ],
   "source": [
    "flight_data %>%\n",
    "  count(arr_delay) %>%\n",
    "  mutate(prop = n/sum(n))"
   ]
  },
  {
   "cell_type": "markdown",
   "metadata": {
    "id": "U94bgm4-GWuk"
   },
   "source": [
    "### Case for Logistic Regression\n",
    "The outcome column here is arr_delay. This usecase needs us to apply Logistic Regression as we need a factor output for this outcome column\n"
   ]
  },
  {
   "cell_type": "markdown",
   "metadata": {
    "id": "xoFrhLaDrUy3"
   },
   "source": [
    "<img src='https://ebooks.mobibootcamp.com/ml_ai/model-building.png' />"
   ]
  },
  {
   "cell_type": "markdown",
   "metadata": {
    "id": "S1yasIssHZsx"
   },
   "source": [
    "#### Train/Test Split\n",
    "\n",
    "To build a model, we split the given labelled data into train and test datasets.\n",
    "\n",
    "We take the:\n",
    "* Train set to fit the model (typically 70-80% of the data is kept aside)\n",
    "* Test set to calculate the model accuracy (balance 20-30%)\n"
   ]
  },
  {
   "cell_type": "code",
   "execution_count": 5,
   "metadata": {
    "id": "XKlMLdtHHrrE"
   },
   "outputs": [],
   "source": [
    "# Fix the random numbers by setting the seed \n",
    "# This enables the analysis to be reproducible with same randomness for every run\n",
    "set.seed(222)\n",
    "# Put 3/4 of the data into the training set\n",
    "# rsample packages provides the necessary functions\n",
    "data_split <- initial_split(flight_data, prop = 3/4) \n",
    "\n",
    "# Create data frames for the two sets:\n",
    "train_data <- training(data_split)\n",
    "test_data  <- testing(data_split)"
   ]
  },
  {
   "cell_type": "markdown",
   "metadata": {
    "id": "5mhIXiOeI-3u"
   },
   "source": [
    "## Create the recipe\n",
    "\n"
   ]
  },
  {
   "cell_type": "code",
   "execution_count": 6,
   "metadata": {
    "id": "AUYAbEUrJA_X"
   },
   "outputs": [],
   "source": [
    "flights_rec <-\n",
    "  recipe(arr_delay ~ ., data = train_data)"
   ]
  },
  {
   "cell_type": "markdown",
   "metadata": {
    "id": "-sob9LKBKYhq"
   },
   "source": [
    "The recipe() function arguments are:\n",
    "\n",
    "* A formula. Any variable on the left-hand side of the tilde (~) is considered the model outcome (here, arr_delay). On the right-hand side of the tilde are the predictors. Variables may be listed by name, or you can use the dot (.) to indicate all other variables as predictors.\n",
    "* The data. The set data is used to catalog the names of the variables and their types, like factors, integers, dates, etc.\n",
    "\n"
   ]
  },
  {
   "cell_type": "markdown",
   "metadata": {
    "id": "Hk7_Gl90GqSU"
   },
   "source": [
    "### Feature exclusion\n",
    "\n",
    "There are two variables that we don’t want to use as predictors in our model, but we would like to retain as identification variables that can be used to troubleshoot late. These are\n",
    "* flight, a numeric value\n",
    "* time_hour, a date-time value.\n",
    "\n",
    "We can use the update_role() function to let recipes know that flight and time_hour are variables with a custom role that we called \"ID\" (a role can have any character value).\n"
   ]
  },
  {
   "cell_type": "code",
   "execution_count": 7,
   "metadata": {
    "id": "Rmq9alkrLTxR"
   },
   "outputs": [],
   "source": [
    "flights_rec <-\n",
    "  recipe(arr_delay ~ ., data = train_data) %>%\n",
    "  update_role(flight, time_hour, new_role = \"ID\")"
   ]
  },
  {
   "cell_type": "markdown",
   "metadata": {
    "id": "MDeCPWehLa1h"
   },
   "source": [
    "This step of adding roles to a recipe is optional; the purpose of using it here is that those two variables can be retained in the data but not included in the model."
   ]
  },
  {
   "cell_type": "markdown",
   "metadata": {
    "id": "HRCMjVDTLipc"
   },
   "source": [
    "### Feature Engineering\n",
    "\n",
    "Perhaps it is reasonable to think that the following information corresponding to the flight date may have an effect to the outcome\n",
    "\n",
    "* the day of the week (dow)\n",
    "*  the month\n",
    "* whether or not the date corresponds to a holiday.\n",
    "\n",
    "However, we do not have this information readymade in our dataset. But we can derive these from the `date` column. Lets add this step in our recipe"
   ]
  },
  {
   "cell_type": "code",
   "execution_count": 8,
   "metadata": {
    "id": "DkcasV93MNzw"
   },
   "outputs": [],
   "source": [
    "flights_rec <-\n",
    "  recipe(arr_delay ~ ., data = train_data) %>%\n",
    "  update_role(flight, time_hour, new_role = \"ID\") %>%\n",
    "  step_date(date, features = c(\"dow\", \"month\")) %>%\n",
    "  step_holiday(date,\n",
    "               holidays = timeDate::listHolidays(\"US\"),\n",
    "               keep_original_cols = FALSE)\n"
   ]
  },
  {
   "cell_type": "markdown",
   "metadata": {
    "id": "Gec_GR1MMolb"
   },
   "source": [
    "* With step_date(), we created two new factor columns; day of the week (dow) and the month.\n",
    "* With step_holiday(), we created a binary variable indicating whether the current date is a holiday or not. The argument value of timeDate::listHolidays(\"US\") uses the timeDate package to list the 18 standard US holidays.\n",
    "* With keep_original_cols = FALSE, we remove the original date variable since we no longer want it in the model. Many recipe steps that create new variables have this argument."
   ]
  },
  {
   "cell_type": "markdown",
   "metadata": {
    "id": "3KGYbe8iYAhe"
   },
   "source": [
    "### Creating dummy variables\n",
    "\n",
    "Recall, last week we saw how the distinct nominal values of 'x' column; 'a', 'b', 'c', 'd' from sim2 data were encoded with 1, 0 values across three new columns that were created by the model\n",
    "\n"
   ]
  },
  {
   "cell_type": "code",
   "execution_count": 9,
   "metadata": {
    "colab": {
     "base_uri": "https://localhost:8080/",
     "height": 286
    },
    "id": "1fJNXvbucH04",
    "outputId": "6c00a6b2-8979-4cb7-9a0a-a07081d58e20"
   },
   "outputs": [
    {
     "data": {
      "text/html": [
       "<table class=\"dataframe\">\n",
       "<caption>A tibble: 6 × 4</caption>\n",
       "<thead>\n",
       "\t<tr><th scope=col>(Intercept)</th><th scope=col>xb</th><th scope=col>xc</th><th scope=col>xd</th></tr>\n",
       "\t<tr><th scope=col>&lt;dbl&gt;</th><th scope=col>&lt;dbl&gt;</th><th scope=col>&lt;dbl&gt;</th><th scope=col>&lt;dbl&gt;</th></tr>\n",
       "</thead>\n",
       "<tbody>\n",
       "\t<tr><td>1</td><td>0</td><td>0</td><td>0</td></tr>\n",
       "\t<tr><td>1</td><td>0</td><td>0</td><td>0</td></tr>\n",
       "\t<tr><td>1</td><td>0</td><td>0</td><td>0</td></tr>\n",
       "\t<tr><td>1</td><td>0</td><td>0</td><td>0</td></tr>\n",
       "\t<tr><td>1</td><td>0</td><td>0</td><td>0</td></tr>\n",
       "\t<tr><td>1</td><td>0</td><td>0</td><td>0</td></tr>\n",
       "</tbody>\n",
       "</table>\n"
      ],
      "text/latex": [
       "A tibble: 6 × 4\n",
       "\\begin{tabular}{llll}\n",
       " (Intercept) & xb & xc & xd\\\\\n",
       " <dbl> & <dbl> & <dbl> & <dbl>\\\\\n",
       "\\hline\n",
       "\t 1 & 0 & 0 & 0\\\\\n",
       "\t 1 & 0 & 0 & 0\\\\\n",
       "\t 1 & 0 & 0 & 0\\\\\n",
       "\t 1 & 0 & 0 & 0\\\\\n",
       "\t 1 & 0 & 0 & 0\\\\\n",
       "\t 1 & 0 & 0 & 0\\\\\n",
       "\\end{tabular}\n"
      ],
      "text/markdown": [
       "\n",
       "A tibble: 6 × 4\n",
       "\n",
       "| (Intercept) &lt;dbl&gt; | xb &lt;dbl&gt; | xc &lt;dbl&gt; | xd &lt;dbl&gt; |\n",
       "|---|---|---|---|\n",
       "| 1 | 0 | 0 | 0 |\n",
       "| 1 | 0 | 0 | 0 |\n",
       "| 1 | 0 | 0 | 0 |\n",
       "| 1 | 0 | 0 | 0 |\n",
       "| 1 | 0 | 0 | 0 |\n",
       "| 1 | 0 | 0 | 0 |\n",
       "\n"
      ],
      "text/plain": [
       "  (Intercept) xb xc xd\n",
       "1 1           0  0  0 \n",
       "2 1           0  0  0 \n",
       "3 1           0  0  0 \n",
       "4 1           0  0  0 \n",
       "5 1           0  0  0 \n",
       "6 1           0  0  0 "
      ]
     },
     "metadata": {},
     "output_type": "display_data"
    }
   ],
   "source": [
    "sim2 %>% model_matrix(y ~ x) %>% head()"
   ]
  },
  {
   "cell_type": "markdown",
   "metadata": {
    "id": "xESn4vo3cVZz"
   },
   "source": [
    "We need to create similar dummy variables for `dest`, `origin` columns and any other nominal column of our flights dataset\n",
    "\n",
    "Let us now add this step in our recipe\n"
   ]
  },
  {
   "cell_type": "code",
   "execution_count": 9,
   "metadata": {
    "colab": {
     "base_uri": "https://localhost:8080/"
    },
    "id": "wS-T-RiiclVT",
    "outputId": "7f2b830b-a8ee-4305-ef96-f256661322e0"
   },
   "outputs": [
    {
     "name": "stderr",
     "output_type": "stream",
     "text": [
      "\n",
      "\n",
      "\u001b[36m──\u001b[39m \u001b[1mRecipe\u001b[22m \u001b[36m──────────────────────────────────────────────────────────────────────\u001b[39m\n",
      "\n",
      "\n",
      "\n",
      "── Inputs \n",
      "\n",
      "Number of variables by role\n",
      "\n",
      "outcome:   1\n",
      "predictor: 7\n",
      "ID:        2\n",
      "\n",
      "\n",
      "\n",
      "── Operations \n",
      "\n",
      "\u001b[36m•\u001b[39m Date features from: \u001b[34mdate\u001b[39m\n",
      "\n",
      "\u001b[36m•\u001b[39m Holiday features from: \u001b[34mdate\u001b[39m\n",
      "\n",
      "\u001b[36m•\u001b[39m Dummy variables from: \u001b[34mall_nominal_predictors()\u001b[39m\n",
      "\n"
     ]
    }
   ],
   "source": [
    "flights_rec <-\n",
    "  recipe(arr_delay ~ ., data = train_data) %>%\n",
    "  update_role(flight, time_hour, new_role = \"ID\") %>%\n",
    "  step_date(date, features = c(\"dow\", \"month\")) %>%\n",
    "  step_holiday(date,\n",
    "               holidays = timeDate::listHolidays(\"US\"),\n",
    "               keep_original_cols = FALSE) %>%\n",
    "  step_dummy(all_nominal_predictors()) %>% print"
   ]
  },
  {
   "cell_type": "markdown",
   "metadata": {},
   "source": [
    "This step selects the `origin`, `dest`, and `carrier` variables. It also includes two new variables, `date_dow` and `date_month`, that were created by the earlier step_date()."
   ]
  },
  {
   "cell_type": "markdown",
   "metadata": {
    "id": "v9okunfkewcs"
   },
   "source": [
    "### Data cleaning\n",
    "\n",
    "`carrier` and `dest` have some infrequently occurring factor values, it is possible that dummy variables might be created for values that don’t exist in the training set."
   ]
  },
  {
   "cell_type": "code",
   "execution_count": 10,
   "metadata": {
    "colab": {
     "base_uri": "https://localhost:8080/",
     "height": 164
    },
    "id": "dBK3mOQffAzB",
    "outputId": "e97adc1b-a1a3-4130-dddb-a82d96dba499"
   },
   "outputs": [
    {
     "name": "stderr",
     "output_type": "stream",
     "text": [
      "\u001b[1m\u001b[22mJoining with `by = join_by(dest)`\n"
     ]
    },
    {
     "data": {
      "text/html": [
       "<table class=\"dataframe\">\n",
       "<caption>A tibble: 1 × 1</caption>\n",
       "<thead>\n",
       "\t<tr><th scope=col>dest</th></tr>\n",
       "\t<tr><th scope=col>&lt;fct&gt;</th></tr>\n",
       "</thead>\n",
       "<tbody>\n",
       "\t<tr><td>LEX</td></tr>\n",
       "</tbody>\n",
       "</table>\n"
      ],
      "text/latex": [
       "A tibble: 1 × 1\n",
       "\\begin{tabular}{l}\n",
       " dest\\\\\n",
       " <fct>\\\\\n",
       "\\hline\n",
       "\t LEX\\\\\n",
       "\\end{tabular}\n"
      ],
      "text/markdown": [
       "\n",
       "A tibble: 1 × 1\n",
       "\n",
       "| dest &lt;fct&gt; |\n",
       "|---|\n",
       "| LEX |\n",
       "\n"
      ],
      "text/plain": [
       "  dest\n",
       "1 LEX "
      ]
     },
     "metadata": {},
     "output_type": "display_data"
    }
   ],
   "source": [
    "test_data %>%\n",
    "  distinct(dest) %>%\n",
    "  anti_join(train_data)"
   ]
  },
  {
   "cell_type": "markdown",
   "metadata": {
    "id": "627jGWMWfVUr"
   },
   "source": [
    "During dummy variables creation step, a column for LEX is added as factor levels are derived from full dataset, but this column will contain all zeros in the training set.\n",
    "\n",
    "This is a “zero-variance predictor” that has no information within the column. While some R functions will not produce an error for such predictors, it usually causes warnings and other issues. `step_zv()` will remove columns from the data when the training set data have a single value, so it is added to the recipe after step_dummy()"
   ]
  },
  {
   "cell_type": "code",
   "execution_count": 11,
   "metadata": {
    "id": "GyX6zw5Jfv6_"
   },
   "outputs": [],
   "source": [
    "flights_rec <-\n",
    "  recipe(arr_delay ~ ., data = train_data) %>%\n",
    "  update_role(flight, time_hour, new_role = \"ID\") %>%\n",
    "  step_date(date, features = c(\"dow\", \"month\")) %>%\n",
    "  step_holiday(date,\n",
    "               holidays = timeDate::listHolidays(\"US\"),\n",
    "               keep_original_cols = FALSE) %>%\n",
    "  step_dummy(all_nominal_predictors()) %>%\n",
    "  step_zv(all_predictors())"
   ]
  },
  {
   "cell_type": "markdown",
   "metadata": {
    "id": "irmTNXhkfz3_"
   },
   "source": [
    "**Finally our recipe is ready!**\n",
    "\n",
    "### Fit a model with the recipe\n",
    "\n",
    "We will now apply logistic regression from the parsnip package to model the flight data so let us first get our model"
   ]
  },
  {
   "cell_type": "code",
   "execution_count": 12,
   "metadata": {
    "id": "zxLYeWVTgnqG"
   },
   "outputs": [],
   "source": [
    "lr_mod <-\n",
    "  logistic_reg() %>%\n",
    "  set_engine(\"glm\")"
   ]
  },
  {
   "cell_type": "markdown",
   "metadata": {
    "id": "LuU2py7lg3b3"
   },
   "source": [
    "We can now use a model workflow, which pairs a model and recipe together.\n",
    "Using workflow is a better approach because\n",
    "* different recipes are often needed for different models\n",
    "* when a model and recipe are bundled, it becomes easier to train and test workflows.\n"
   ]
  },
  {
   "cell_type": "code",
   "execution_count": 13,
   "metadata": {
    "id": "A7ypqPR0h8lg"
   },
   "outputs": [],
   "source": [
    "\n",
    "flights_wflow <-\n",
    "  workflow() %>%\n",
    "  add_model(lr_mod) %>%\n",
    "  add_recipe(flights_rec)"
   ]
  },
  {
   "cell_type": "markdown",
   "metadata": {
    "id": "YL2UezR8jInl"
   },
   "source": [
    "## Finally fit the model"
   ]
  },
  {
   "cell_type": "code",
   "execution_count": null,
   "metadata": {
    "id": "1Z4KFx-6jKVT"
   },
   "outputs": [],
   "source": [
    "flights_fit <-\n",
    "  flights_wflow %>%\n",
    "  fit(data = train_data)"
   ]
  },
  {
   "cell_type": "markdown",
   "metadata": {
    "id": "74KhovNkjqlX"
   },
   "source": [
    "Now let us find the co-efficients\n"
   ]
  },
  {
   "cell_type": "code",
   "execution_count": 17,
   "metadata": {
    "colab": {
     "base_uri": "https://localhost:8080/",
     "height": 1000
    },
    "id": "uMrsUV6gjsiv",
    "outputId": "4360cb1b-283d-4470-fca9-5e8a8c54d990"
   },
   "outputs": [
    {
     "data": {
      "text/html": [
       "<table class=\"dataframe\">\n",
       "<caption>A tibble: 158 × 5</caption>\n",
       "<thead>\n",
       "\t<tr><th scope=col>term</th><th scope=col>estimate</th><th scope=col>std.error</th><th scope=col>statistic</th><th scope=col>p.value</th></tr>\n",
       "\t<tr><th scope=col>&lt;chr&gt;</th><th scope=col>&lt;dbl&gt;</th><th scope=col>&lt;dbl&gt;</th><th scope=col>&lt;dbl&gt;</th><th scope=col>&lt;dbl&gt;</th></tr>\n",
       "</thead>\n",
       "<tbody>\n",
       "\t<tr><td>(Intercept)                             </td><td> 7.264443103</td><td>2.728356e+00</td><td>   2.6625717</td><td>7.754605e-03</td></tr>\n",
       "\t<tr><td>dep_time                                </td><td>-0.001664485</td><td>1.409802e-05</td><td>-118.0650977</td><td>0.000000e+00</td></tr>\n",
       "\t<tr><td>air_time                                </td><td>-0.044033270</td><td>5.628809e-04</td><td> -78.2283903</td><td>0.000000e+00</td></tr>\n",
       "\t<tr><td>distance                                </td><td> 0.005083028</td><td>1.501843e-03</td><td>   3.3845261</td><td>7.130125e-04</td></tr>\n",
       "\t<tr><td>date_USChristmasDay                     </td><td> 1.346473737</td><td>1.775144e-01</td><td>   7.5851511</td><td>3.320999e-14</td></tr>\n",
       "\t<tr><td>date_USColumbusDay                      </td><td> 0.720543275</td><td>1.703018e-01</td><td>   4.2309791</td><td>2.326762e-05</td></tr>\n",
       "\t<tr><td>date_USCPulaskisBirthday                </td><td> 0.804450853</td><td>1.391300e-01</td><td>   5.7820092</td><td>7.381369e-09</td></tr>\n",
       "\t<tr><td>date_USDecorationMemorialDay            </td><td> 0.581697409</td><td>1.173892e-01</td><td>   4.9552870</td><td>7.222361e-07</td></tr>\n",
       "\t<tr><td>date_USElectionDay                      </td><td> 0.944946570</td><td>1.901687e-01</td><td>   4.9689914</td><td>6.730205e-07</td></tr>\n",
       "\t<tr><td>date_USGoodFriday                       </td><td> 1.244502221</td><td>1.673793e-01</td><td>   7.4352215</td><td>1.043929e-13</td></tr>\n",
       "\t<tr><td>date_USInaugurationDay                  </td><td> 0.224608251</td><td>1.358755e-01</td><td>   1.6530449</td><td>9.832173e-02</td></tr>\n",
       "\t<tr><td>date_USIndependenceDay                  </td><td> 2.116831565</td><td>2.029958e-01</td><td>  10.4279587</td><td>1.848160e-25</td></tr>\n",
       "\t<tr><td>date_USJuneteenthNationalIndependenceDay</td><td> 0.794268490</td><td>1.143300e-01</td><td>   6.9471581</td><td>3.727178e-12</td></tr>\n",
       "\t<tr><td>date_USLaborDay                         </td><td>-1.936660279</td><td>9.671705e-02</td><td> -20.0239804</td><td>3.404088e-89</td></tr>\n",
       "\t<tr><td>date_USLincolnsBirthday                 </td><td> 0.580742202</td><td>1.416244e-01</td><td>   4.1005811</td><td>4.121140e-05</td></tr>\n",
       "\t<tr><td>date_USMemorialDay                      </td><td> 1.515849867</td><td>1.812210e-01</td><td>   8.3646502</td><td>6.029353e-17</td></tr>\n",
       "\t<tr><td>date_USMLKingsBirthday                  </td><td> 0.424847992</td><td>1.206987e-01</td><td>   3.5199050</td><td>4.317014e-04</td></tr>\n",
       "\t<tr><td>date_USNewYearsDay                      </td><td> 0.200611723</td><td>1.207338e-01</td><td>   1.6616031</td><td>9.659239e-02</td></tr>\n",
       "\t<tr><td>date_USPresidentsDay                    </td><td> 0.480502066</td><td>1.356739e-01</td><td>   3.5415962</td><td>3.977139e-04</td></tr>\n",
       "\t<tr><td>date_USThanksgivingDay                  </td><td> 0.150392683</td><td>1.626527e-01</td><td>   0.9246244</td><td>3.551613e-01</td></tr>\n",
       "\t<tr><td>date_USVeteransDay                      </td><td> 0.715047392</td><td>1.594738e-01</td><td>   4.4837912</td><td>7.332842e-06</td></tr>\n",
       "\t<tr><td>date_USWashingtonsBirthday              </td><td> 0.040570461</td><td>1.087882e-01</td><td>   0.3729306</td><td>7.092001e-01</td></tr>\n",
       "\t<tr><td>origin_JFK                              </td><td> 0.106794262</td><td>2.891420e-02</td><td>   3.6934886</td><td>2.211984e-04</td></tr>\n",
       "\t<tr><td>origin_LGA                              </td><td> 0.010575032</td><td>2.792639e-02</td><td>   0.3786753</td><td>7.049290e-01</td></tr>\n",
       "\t<tr><td>dest_ACK                                </td><td>-1.717559247</td><td>2.456988e+00</td><td>  -0.6990508</td><td>4.845203e-01</td></tr>\n",
       "\t<tr><td>dest_ALB                                </td><td>-1.662575979</td><td>2.514318e+00</td><td>  -0.6612434</td><td>5.084562e-01</td></tr>\n",
       "\t<tr><td>dest_ANC                                </td><td>-1.224111223</td><td>2.585208e+00</td><td>  -0.4735060</td><td>6.358522e-01</td></tr>\n",
       "\t<tr><td>dest_ATL                                </td><td>-1.597995345</td><td>1.610965e+00</td><td>  -0.9919492</td><td>3.212223e-01</td></tr>\n",
       "\t<tr><td>dest_AUS                                </td><td>-0.794576406</td><td>5.071918e-01</td><td>  -1.5666191</td><td>1.172038e-01</td></tr>\n",
       "\t<tr><td>dest_AVL                                </td><td>-1.320137788</td><td>1.864655e+00</td><td>  -0.7079795</td><td>4.789580e-01</td></tr>\n",
       "\t<tr><td>⋮</td><td>⋮</td><td>⋮</td><td>⋮</td><td>⋮</td></tr>\n",
       "\t<tr><td>carrier_B6    </td><td>-0.03389465</td><td>0.03425277</td><td> -0.9895445</td><td> 3.223968e-01</td></tr>\n",
       "\t<tr><td>carrier_DL    </td><td> 0.48402949</td><td>0.03614864</td><td> 13.3899771</td><td> 6.920208e-41</td></tr>\n",
       "\t<tr><td>carrier_EV    </td><td>-0.45362740</td><td>0.03514330</td><td>-12.9079332</td><td> 4.060540e-38</td></tr>\n",
       "\t<tr><td>carrier_F9    </td><td>-0.17133441</td><td>0.12294181</td><td> -1.3936220</td><td> 1.634318e-01</td></tr>\n",
       "\t<tr><td>carrier_FL    </td><td>-0.16885686</td><td>0.07581380</td><td> -2.2272577</td><td> 2.593006e-02</td></tr>\n",
       "\t<tr><td>carrier_HA    </td><td> 1.05148876</td><td>0.34406722</td><td>  3.0560562</td><td> 2.242692e-03</td></tr>\n",
       "\t<tr><td>carrier_MQ    </td><td>-0.07605160</td><td>0.03606543</td><td> -2.1087117</td><td> 3.496948e-02</td></tr>\n",
       "\t<tr><td>carrier_OO    </td><td>-0.06109524</td><td>0.56501860</td><td> -0.1081296</td><td> 9.138929e-01</td></tr>\n",
       "\t<tr><td>carrier_UA    </td><td> 0.30606781</td><td>0.03986444</td><td>  7.6777144</td><td> 1.619520e-14</td></tr>\n",
       "\t<tr><td>carrier_US    </td><td> 0.39536870</td><td>0.04683856</td><td>  8.4410943</td><td> 3.143803e-17</td></tr>\n",
       "\t<tr><td>carrier_VX    </td><td> 0.50061358</td><td>0.06708060</td><td>  7.4628664</td><td> 8.466020e-14</td></tr>\n",
       "\t<tr><td>carrier_WN    </td><td>-0.02047981</td><td>0.05532802</td><td> -0.3701526</td><td> 7.112688e-01</td></tr>\n",
       "\t<tr><td>carrier_YV    </td><td>-0.09104753</td><td>0.12778062</td><td> -0.7125301</td><td> 4.761366e-01</td></tr>\n",
       "\t<tr><td>date_dow_Mon  </td><td>-0.31354158</td><td>0.02278092</td><td>-13.7633404</td><td> 4.234977e-43</td></tr>\n",
       "\t<tr><td>date_dow_Tue  </td><td>-0.16966236</td><td>0.02301961</td><td> -7.3703398</td><td> 1.701937e-13</td></tr>\n",
       "\t<tr><td>date_dow_Wed  </td><td>-0.19180810</td><td>0.02289164</td><td> -8.3789599</td><td> 5.339747e-17</td></tr>\n",
       "\t<tr><td>date_dow_Thu  </td><td>-0.55165653</td><td>0.02212286</td><td>-24.9360456</td><td>3.026074e-137</td></tr>\n",
       "\t<tr><td>date_dow_Fri  </td><td>-0.38690485</td><td>0.02243581</td><td>-17.2449702</td><td> 1.220757e-66</td></tr>\n",
       "\t<tr><td>date_dow_Sat  </td><td> 0.30114820</td><td>0.02646784</td><td> 11.3778910</td><td> 5.388712e-30</td></tr>\n",
       "\t<tr><td>date_month_Feb</td><td>-0.11746394</td><td>0.03292217</td><td> -3.5679283</td><td> 3.598149e-04</td></tr>\n",
       "\t<tr><td>date_month_Mar</td><td>-0.44387526</td><td>0.03080036</td><td>-14.4113649</td><td> 4.389495e-47</td></tr>\n",
       "\t<tr><td>date_month_Apr</td><td>-0.60535921</td><td>0.02979001</td><td>-20.3208802</td><td> 8.405571e-92</td></tr>\n",
       "\t<tr><td>date_month_May</td><td>-0.66968640</td><td>0.03165203</td><td>-21.1577736</td><td> 2.340141e-99</td></tr>\n",
       "\t<tr><td>date_month_Jun</td><td>-1.22024276</td><td>0.03005721</td><td>-40.5973394</td><td> 0.000000e+00</td></tr>\n",
       "\t<tr><td>date_month_Jul</td><td>-1.34521286</td><td>0.03004489</td><td>-44.7734278</td><td> 0.000000e+00</td></tr>\n",
       "\t<tr><td>date_month_Aug</td><td>-0.68879464</td><td>0.03107636</td><td>-22.1645864</td><td>7.545992e-109</td></tr>\n",
       "\t<tr><td>date_month_Sep</td><td> 0.05124105</td><td>0.03684750</td><td>  1.3906248</td><td> 1.643392e-01</td></tr>\n",
       "\t<tr><td>date_month_Oct</td><td> 0.07211292</td><td>0.03363827</td><td>  2.1437761</td><td> 3.205083e-02</td></tr>\n",
       "\t<tr><td>date_month_Nov</td><td> 0.20444104</td><td>0.03398826</td><td>  6.0150477</td><td> 1.798337e-09</td></tr>\n",
       "\t<tr><td>date_month_Dec</td><td>-0.57186775</td><td>0.02956426</td><td>-19.3432107</td><td> 2.325359e-83</td></tr>\n",
       "</tbody>\n",
       "</table>\n"
      ],
      "text/latex": [
       "A tibble: 158 × 5\n",
       "\\begin{tabular}{lllll}\n",
       " term & estimate & std.error & statistic & p.value\\\\\n",
       " <chr> & <dbl> & <dbl> & <dbl> & <dbl>\\\\\n",
       "\\hline\n",
       "\t (Intercept)                              &  7.264443103 & 2.728356e+00 &    2.6625717 & 7.754605e-03\\\\\n",
       "\t dep\\_time                                 & -0.001664485 & 1.409802e-05 & -118.0650977 & 0.000000e+00\\\\\n",
       "\t air\\_time                                 & -0.044033270 & 5.628809e-04 &  -78.2283903 & 0.000000e+00\\\\\n",
       "\t distance                                 &  0.005083028 & 1.501843e-03 &    3.3845261 & 7.130125e-04\\\\\n",
       "\t date\\_USChristmasDay                      &  1.346473737 & 1.775144e-01 &    7.5851511 & 3.320999e-14\\\\\n",
       "\t date\\_USColumbusDay                       &  0.720543275 & 1.703018e-01 &    4.2309791 & 2.326762e-05\\\\\n",
       "\t date\\_USCPulaskisBirthday                 &  0.804450853 & 1.391300e-01 &    5.7820092 & 7.381369e-09\\\\\n",
       "\t date\\_USDecorationMemorialDay             &  0.581697409 & 1.173892e-01 &    4.9552870 & 7.222361e-07\\\\\n",
       "\t date\\_USElectionDay                       &  0.944946570 & 1.901687e-01 &    4.9689914 & 6.730205e-07\\\\\n",
       "\t date\\_USGoodFriday                        &  1.244502221 & 1.673793e-01 &    7.4352215 & 1.043929e-13\\\\\n",
       "\t date\\_USInaugurationDay                   &  0.224608251 & 1.358755e-01 &    1.6530449 & 9.832173e-02\\\\\n",
       "\t date\\_USIndependenceDay                   &  2.116831565 & 2.029958e-01 &   10.4279587 & 1.848160e-25\\\\\n",
       "\t date\\_USJuneteenthNationalIndependenceDay &  0.794268490 & 1.143300e-01 &    6.9471581 & 3.727178e-12\\\\\n",
       "\t date\\_USLaborDay                          & -1.936660279 & 9.671705e-02 &  -20.0239804 & 3.404088e-89\\\\\n",
       "\t date\\_USLincolnsBirthday                  &  0.580742202 & 1.416244e-01 &    4.1005811 & 4.121140e-05\\\\\n",
       "\t date\\_USMemorialDay                       &  1.515849867 & 1.812210e-01 &    8.3646502 & 6.029353e-17\\\\\n",
       "\t date\\_USMLKingsBirthday                   &  0.424847992 & 1.206987e-01 &    3.5199050 & 4.317014e-04\\\\\n",
       "\t date\\_USNewYearsDay                       &  0.200611723 & 1.207338e-01 &    1.6616031 & 9.659239e-02\\\\\n",
       "\t date\\_USPresidentsDay                     &  0.480502066 & 1.356739e-01 &    3.5415962 & 3.977139e-04\\\\\n",
       "\t date\\_USThanksgivingDay                   &  0.150392683 & 1.626527e-01 &    0.9246244 & 3.551613e-01\\\\\n",
       "\t date\\_USVeteransDay                       &  0.715047392 & 1.594738e-01 &    4.4837912 & 7.332842e-06\\\\\n",
       "\t date\\_USWashingtonsBirthday               &  0.040570461 & 1.087882e-01 &    0.3729306 & 7.092001e-01\\\\\n",
       "\t origin\\_JFK                               &  0.106794262 & 2.891420e-02 &    3.6934886 & 2.211984e-04\\\\\n",
       "\t origin\\_LGA                               &  0.010575032 & 2.792639e-02 &    0.3786753 & 7.049290e-01\\\\\n",
       "\t dest\\_ACK                                 & -1.717559247 & 2.456988e+00 &   -0.6990508 & 4.845203e-01\\\\\n",
       "\t dest\\_ALB                                 & -1.662575979 & 2.514318e+00 &   -0.6612434 & 5.084562e-01\\\\\n",
       "\t dest\\_ANC                                 & -1.224111223 & 2.585208e+00 &   -0.4735060 & 6.358522e-01\\\\\n",
       "\t dest\\_ATL                                 & -1.597995345 & 1.610965e+00 &   -0.9919492 & 3.212223e-01\\\\\n",
       "\t dest\\_AUS                                 & -0.794576406 & 5.071918e-01 &   -1.5666191 & 1.172038e-01\\\\\n",
       "\t dest\\_AVL                                 & -1.320137788 & 1.864655e+00 &   -0.7079795 & 4.789580e-01\\\\\n",
       "\t ⋮ & ⋮ & ⋮ & ⋮ & ⋮\\\\\n",
       "\t carrier\\_B6     & -0.03389465 & 0.03425277 &  -0.9895445 &  3.223968e-01\\\\\n",
       "\t carrier\\_DL     &  0.48402949 & 0.03614864 &  13.3899771 &  6.920208e-41\\\\\n",
       "\t carrier\\_EV     & -0.45362740 & 0.03514330 & -12.9079332 &  4.060540e-38\\\\\n",
       "\t carrier\\_F9     & -0.17133441 & 0.12294181 &  -1.3936220 &  1.634318e-01\\\\\n",
       "\t carrier\\_FL     & -0.16885686 & 0.07581380 &  -2.2272577 &  2.593006e-02\\\\\n",
       "\t carrier\\_HA     &  1.05148876 & 0.34406722 &   3.0560562 &  2.242692e-03\\\\\n",
       "\t carrier\\_MQ     & -0.07605160 & 0.03606543 &  -2.1087117 &  3.496948e-02\\\\\n",
       "\t carrier\\_OO     & -0.06109524 & 0.56501860 &  -0.1081296 &  9.138929e-01\\\\\n",
       "\t carrier\\_UA     &  0.30606781 & 0.03986444 &   7.6777144 &  1.619520e-14\\\\\n",
       "\t carrier\\_US     &  0.39536870 & 0.04683856 &   8.4410943 &  3.143803e-17\\\\\n",
       "\t carrier\\_VX     &  0.50061358 & 0.06708060 &   7.4628664 &  8.466020e-14\\\\\n",
       "\t carrier\\_WN     & -0.02047981 & 0.05532802 &  -0.3701526 &  7.112688e-01\\\\\n",
       "\t carrier\\_YV     & -0.09104753 & 0.12778062 &  -0.7125301 &  4.761366e-01\\\\\n",
       "\t date\\_dow\\_Mon   & -0.31354158 & 0.02278092 & -13.7633404 &  4.234977e-43\\\\\n",
       "\t date\\_dow\\_Tue   & -0.16966236 & 0.02301961 &  -7.3703398 &  1.701937e-13\\\\\n",
       "\t date\\_dow\\_Wed   & -0.19180810 & 0.02289164 &  -8.3789599 &  5.339747e-17\\\\\n",
       "\t date\\_dow\\_Thu   & -0.55165653 & 0.02212286 & -24.9360456 & 3.026074e-137\\\\\n",
       "\t date\\_dow\\_Fri   & -0.38690485 & 0.02243581 & -17.2449702 &  1.220757e-66\\\\\n",
       "\t date\\_dow\\_Sat   &  0.30114820 & 0.02646784 &  11.3778910 &  5.388712e-30\\\\\n",
       "\t date\\_month\\_Feb & -0.11746394 & 0.03292217 &  -3.5679283 &  3.598149e-04\\\\\n",
       "\t date\\_month\\_Mar & -0.44387526 & 0.03080036 & -14.4113649 &  4.389495e-47\\\\\n",
       "\t date\\_month\\_Apr & -0.60535921 & 0.02979001 & -20.3208802 &  8.405571e-92\\\\\n",
       "\t date\\_month\\_May & -0.66968640 & 0.03165203 & -21.1577736 &  2.340141e-99\\\\\n",
       "\t date\\_month\\_Jun & -1.22024276 & 0.03005721 & -40.5973394 &  0.000000e+00\\\\\n",
       "\t date\\_month\\_Jul & -1.34521286 & 0.03004489 & -44.7734278 &  0.000000e+00\\\\\n",
       "\t date\\_month\\_Aug & -0.68879464 & 0.03107636 & -22.1645864 & 7.545992e-109\\\\\n",
       "\t date\\_month\\_Sep &  0.05124105 & 0.03684750 &   1.3906248 &  1.643392e-01\\\\\n",
       "\t date\\_month\\_Oct &  0.07211292 & 0.03363827 &   2.1437761 &  3.205083e-02\\\\\n",
       "\t date\\_month\\_Nov &  0.20444104 & 0.03398826 &   6.0150477 &  1.798337e-09\\\\\n",
       "\t date\\_month\\_Dec & -0.57186775 & 0.02956426 & -19.3432107 &  2.325359e-83\\\\\n",
       "\\end{tabular}\n"
      ],
      "text/markdown": [
       "\n",
       "A tibble: 158 × 5\n",
       "\n",
       "| term &lt;chr&gt; | estimate &lt;dbl&gt; | std.error &lt;dbl&gt; | statistic &lt;dbl&gt; | p.value &lt;dbl&gt; |\n",
       "|---|---|---|---|---|\n",
       "| (Intercept)                              |  7.264443103 | 2.728356e+00 |    2.6625717 | 7.754605e-03 |\n",
       "| dep_time                                 | -0.001664485 | 1.409802e-05 | -118.0650977 | 0.000000e+00 |\n",
       "| air_time                                 | -0.044033270 | 5.628809e-04 |  -78.2283903 | 0.000000e+00 |\n",
       "| distance                                 |  0.005083028 | 1.501843e-03 |    3.3845261 | 7.130125e-04 |\n",
       "| date_USChristmasDay                      |  1.346473737 | 1.775144e-01 |    7.5851511 | 3.320999e-14 |\n",
       "| date_USColumbusDay                       |  0.720543275 | 1.703018e-01 |    4.2309791 | 2.326762e-05 |\n",
       "| date_USCPulaskisBirthday                 |  0.804450853 | 1.391300e-01 |    5.7820092 | 7.381369e-09 |\n",
       "| date_USDecorationMemorialDay             |  0.581697409 | 1.173892e-01 |    4.9552870 | 7.222361e-07 |\n",
       "| date_USElectionDay                       |  0.944946570 | 1.901687e-01 |    4.9689914 | 6.730205e-07 |\n",
       "| date_USGoodFriday                        |  1.244502221 | 1.673793e-01 |    7.4352215 | 1.043929e-13 |\n",
       "| date_USInaugurationDay                   |  0.224608251 | 1.358755e-01 |    1.6530449 | 9.832173e-02 |\n",
       "| date_USIndependenceDay                   |  2.116831565 | 2.029958e-01 |   10.4279587 | 1.848160e-25 |\n",
       "| date_USJuneteenthNationalIndependenceDay |  0.794268490 | 1.143300e-01 |    6.9471581 | 3.727178e-12 |\n",
       "| date_USLaborDay                          | -1.936660279 | 9.671705e-02 |  -20.0239804 | 3.404088e-89 |\n",
       "| date_USLincolnsBirthday                  |  0.580742202 | 1.416244e-01 |    4.1005811 | 4.121140e-05 |\n",
       "| date_USMemorialDay                       |  1.515849867 | 1.812210e-01 |    8.3646502 | 6.029353e-17 |\n",
       "| date_USMLKingsBirthday                   |  0.424847992 | 1.206987e-01 |    3.5199050 | 4.317014e-04 |\n",
       "| date_USNewYearsDay                       |  0.200611723 | 1.207338e-01 |    1.6616031 | 9.659239e-02 |\n",
       "| date_USPresidentsDay                     |  0.480502066 | 1.356739e-01 |    3.5415962 | 3.977139e-04 |\n",
       "| date_USThanksgivingDay                   |  0.150392683 | 1.626527e-01 |    0.9246244 | 3.551613e-01 |\n",
       "| date_USVeteransDay                       |  0.715047392 | 1.594738e-01 |    4.4837912 | 7.332842e-06 |\n",
       "| date_USWashingtonsBirthday               |  0.040570461 | 1.087882e-01 |    0.3729306 | 7.092001e-01 |\n",
       "| origin_JFK                               |  0.106794262 | 2.891420e-02 |    3.6934886 | 2.211984e-04 |\n",
       "| origin_LGA                               |  0.010575032 | 2.792639e-02 |    0.3786753 | 7.049290e-01 |\n",
       "| dest_ACK                                 | -1.717559247 | 2.456988e+00 |   -0.6990508 | 4.845203e-01 |\n",
       "| dest_ALB                                 | -1.662575979 | 2.514318e+00 |   -0.6612434 | 5.084562e-01 |\n",
       "| dest_ANC                                 | -1.224111223 | 2.585208e+00 |   -0.4735060 | 6.358522e-01 |\n",
       "| dest_ATL                                 | -1.597995345 | 1.610965e+00 |   -0.9919492 | 3.212223e-01 |\n",
       "| dest_AUS                                 | -0.794576406 | 5.071918e-01 |   -1.5666191 | 1.172038e-01 |\n",
       "| dest_AVL                                 | -1.320137788 | 1.864655e+00 |   -0.7079795 | 4.789580e-01 |\n",
       "| ⋮ | ⋮ | ⋮ | ⋮ | ⋮ |\n",
       "| carrier_B6     | -0.03389465 | 0.03425277 |  -0.9895445 |  3.223968e-01 |\n",
       "| carrier_DL     |  0.48402949 | 0.03614864 |  13.3899771 |  6.920208e-41 |\n",
       "| carrier_EV     | -0.45362740 | 0.03514330 | -12.9079332 |  4.060540e-38 |\n",
       "| carrier_F9     | -0.17133441 | 0.12294181 |  -1.3936220 |  1.634318e-01 |\n",
       "| carrier_FL     | -0.16885686 | 0.07581380 |  -2.2272577 |  2.593006e-02 |\n",
       "| carrier_HA     |  1.05148876 | 0.34406722 |   3.0560562 |  2.242692e-03 |\n",
       "| carrier_MQ     | -0.07605160 | 0.03606543 |  -2.1087117 |  3.496948e-02 |\n",
       "| carrier_OO     | -0.06109524 | 0.56501860 |  -0.1081296 |  9.138929e-01 |\n",
       "| carrier_UA     |  0.30606781 | 0.03986444 |   7.6777144 |  1.619520e-14 |\n",
       "| carrier_US     |  0.39536870 | 0.04683856 |   8.4410943 |  3.143803e-17 |\n",
       "| carrier_VX     |  0.50061358 | 0.06708060 |   7.4628664 |  8.466020e-14 |\n",
       "| carrier_WN     | -0.02047981 | 0.05532802 |  -0.3701526 |  7.112688e-01 |\n",
       "| carrier_YV     | -0.09104753 | 0.12778062 |  -0.7125301 |  4.761366e-01 |\n",
       "| date_dow_Mon   | -0.31354158 | 0.02278092 | -13.7633404 |  4.234977e-43 |\n",
       "| date_dow_Tue   | -0.16966236 | 0.02301961 |  -7.3703398 |  1.701937e-13 |\n",
       "| date_dow_Wed   | -0.19180810 | 0.02289164 |  -8.3789599 |  5.339747e-17 |\n",
       "| date_dow_Thu   | -0.55165653 | 0.02212286 | -24.9360456 | 3.026074e-137 |\n",
       "| date_dow_Fri   | -0.38690485 | 0.02243581 | -17.2449702 |  1.220757e-66 |\n",
       "| date_dow_Sat   |  0.30114820 | 0.02646784 |  11.3778910 |  5.388712e-30 |\n",
       "| date_month_Feb | -0.11746394 | 0.03292217 |  -3.5679283 |  3.598149e-04 |\n",
       "| date_month_Mar | -0.44387526 | 0.03080036 | -14.4113649 |  4.389495e-47 |\n",
       "| date_month_Apr | -0.60535921 | 0.02979001 | -20.3208802 |  8.405571e-92 |\n",
       "| date_month_May | -0.66968640 | 0.03165203 | -21.1577736 |  2.340141e-99 |\n",
       "| date_month_Jun | -1.22024276 | 0.03005721 | -40.5973394 |  0.000000e+00 |\n",
       "| date_month_Jul | -1.34521286 | 0.03004489 | -44.7734278 |  0.000000e+00 |\n",
       "| date_month_Aug | -0.68879464 | 0.03107636 | -22.1645864 | 7.545992e-109 |\n",
       "| date_month_Sep |  0.05124105 | 0.03684750 |   1.3906248 |  1.643392e-01 |\n",
       "| date_month_Oct |  0.07211292 | 0.03363827 |   2.1437761 |  3.205083e-02 |\n",
       "| date_month_Nov |  0.20444104 | 0.03398826 |   6.0150477 |  1.798337e-09 |\n",
       "| date_month_Dec | -0.57186775 | 0.02956426 | -19.3432107 |  2.325359e-83 |\n",
       "\n"
      ],
      "text/plain": [
       "    term                                     estimate     std.error   \n",
       "1   (Intercept)                               7.264443103 2.728356e+00\n",
       "2   dep_time                                 -0.001664485 1.409802e-05\n",
       "3   air_time                                 -0.044033270 5.628809e-04\n",
       "4   distance                                  0.005083028 1.501843e-03\n",
       "5   date_USChristmasDay                       1.346473737 1.775144e-01\n",
       "6   date_USColumbusDay                        0.720543275 1.703018e-01\n",
       "7   date_USCPulaskisBirthday                  0.804450853 1.391300e-01\n",
       "8   date_USDecorationMemorialDay              0.581697409 1.173892e-01\n",
       "9   date_USElectionDay                        0.944946570 1.901687e-01\n",
       "10  date_USGoodFriday                         1.244502221 1.673793e-01\n",
       "11  date_USInaugurationDay                    0.224608251 1.358755e-01\n",
       "12  date_USIndependenceDay                    2.116831565 2.029958e-01\n",
       "13  date_USJuneteenthNationalIndependenceDay  0.794268490 1.143300e-01\n",
       "14  date_USLaborDay                          -1.936660279 9.671705e-02\n",
       "15  date_USLincolnsBirthday                   0.580742202 1.416244e-01\n",
       "16  date_USMemorialDay                        1.515849867 1.812210e-01\n",
       "17  date_USMLKingsBirthday                    0.424847992 1.206987e-01\n",
       "18  date_USNewYearsDay                        0.200611723 1.207338e-01\n",
       "19  date_USPresidentsDay                      0.480502066 1.356739e-01\n",
       "20  date_USThanksgivingDay                    0.150392683 1.626527e-01\n",
       "21  date_USVeteransDay                        0.715047392 1.594738e-01\n",
       "22  date_USWashingtonsBirthday                0.040570461 1.087882e-01\n",
       "23  origin_JFK                                0.106794262 2.891420e-02\n",
       "24  origin_LGA                                0.010575032 2.792639e-02\n",
       "25  dest_ACK                                 -1.717559247 2.456988e+00\n",
       "26  dest_ALB                                 -1.662575979 2.514318e+00\n",
       "27  dest_ANC                                 -1.224111223 2.585208e+00\n",
       "28  dest_ATL                                 -1.597995345 1.610965e+00\n",
       "29  dest_AUS                                 -0.794576406 5.071918e-01\n",
       "30  dest_AVL                                 -1.320137788 1.864655e+00\n",
       "⋮   ⋮                                        ⋮            ⋮           \n",
       "129 carrier_B6                               -0.03389465  0.03425277  \n",
       "130 carrier_DL                                0.48402949  0.03614864  \n",
       "131 carrier_EV                               -0.45362740  0.03514330  \n",
       "132 carrier_F9                               -0.17133441  0.12294181  \n",
       "133 carrier_FL                               -0.16885686  0.07581380  \n",
       "134 carrier_HA                                1.05148876  0.34406722  \n",
       "135 carrier_MQ                               -0.07605160  0.03606543  \n",
       "136 carrier_OO                               -0.06109524  0.56501860  \n",
       "137 carrier_UA                                0.30606781  0.03986444  \n",
       "138 carrier_US                                0.39536870  0.04683856  \n",
       "139 carrier_VX                                0.50061358  0.06708060  \n",
       "140 carrier_WN                               -0.02047981  0.05532802  \n",
       "141 carrier_YV                               -0.09104753  0.12778062  \n",
       "142 date_dow_Mon                             -0.31354158  0.02278092  \n",
       "143 date_dow_Tue                             -0.16966236  0.02301961  \n",
       "144 date_dow_Wed                             -0.19180810  0.02289164  \n",
       "145 date_dow_Thu                             -0.55165653  0.02212286  \n",
       "146 date_dow_Fri                             -0.38690485  0.02243581  \n",
       "147 date_dow_Sat                              0.30114820  0.02646784  \n",
       "148 date_month_Feb                           -0.11746394  0.03292217  \n",
       "149 date_month_Mar                           -0.44387526  0.03080036  \n",
       "150 date_month_Apr                           -0.60535921  0.02979001  \n",
       "151 date_month_May                           -0.66968640  0.03165203  \n",
       "152 date_month_Jun                           -1.22024276  0.03005721  \n",
       "153 date_month_Jul                           -1.34521286  0.03004489  \n",
       "154 date_month_Aug                           -0.68879464  0.03107636  \n",
       "155 date_month_Sep                            0.05124105  0.03684750  \n",
       "156 date_month_Oct                            0.07211292  0.03363827  \n",
       "157 date_month_Nov                            0.20444104  0.03398826  \n",
       "158 date_month_Dec                           -0.57186775  0.02956426  \n",
       "    statistic    p.value      \n",
       "1      2.6625717 7.754605e-03 \n",
       "2   -118.0650977 0.000000e+00 \n",
       "3    -78.2283903 0.000000e+00 \n",
       "4      3.3845261 7.130125e-04 \n",
       "5      7.5851511 3.320999e-14 \n",
       "6      4.2309791 2.326762e-05 \n",
       "7      5.7820092 7.381369e-09 \n",
       "8      4.9552870 7.222361e-07 \n",
       "9      4.9689914 6.730205e-07 \n",
       "10     7.4352215 1.043929e-13 \n",
       "11     1.6530449 9.832173e-02 \n",
       "12    10.4279587 1.848160e-25 \n",
       "13     6.9471581 3.727178e-12 \n",
       "14   -20.0239804 3.404088e-89 \n",
       "15     4.1005811 4.121140e-05 \n",
       "16     8.3646502 6.029353e-17 \n",
       "17     3.5199050 4.317014e-04 \n",
       "18     1.6616031 9.659239e-02 \n",
       "19     3.5415962 3.977139e-04 \n",
       "20     0.9246244 3.551613e-01 \n",
       "21     4.4837912 7.332842e-06 \n",
       "22     0.3729306 7.092001e-01 \n",
       "23     3.6934886 2.211984e-04 \n",
       "24     0.3786753 7.049290e-01 \n",
       "25    -0.6990508 4.845203e-01 \n",
       "26    -0.6612434 5.084562e-01 \n",
       "27    -0.4735060 6.358522e-01 \n",
       "28    -0.9919492 3.212223e-01 \n",
       "29    -1.5666191 1.172038e-01 \n",
       "30    -0.7079795 4.789580e-01 \n",
       "⋮   ⋮            ⋮            \n",
       "129  -0.9895445   3.223968e-01\n",
       "130  13.3899771   6.920208e-41\n",
       "131 -12.9079332   4.060540e-38\n",
       "132  -1.3936220   1.634318e-01\n",
       "133  -2.2272577   2.593006e-02\n",
       "134   3.0560562   2.242692e-03\n",
       "135  -2.1087117   3.496948e-02\n",
       "136  -0.1081296   9.138929e-01\n",
       "137   7.6777144   1.619520e-14\n",
       "138   8.4410943   3.143803e-17\n",
       "139   7.4628664   8.466020e-14\n",
       "140  -0.3701526   7.112688e-01\n",
       "141  -0.7125301   4.761366e-01\n",
       "142 -13.7633404   4.234977e-43\n",
       "143  -7.3703398   1.701937e-13\n",
       "144  -8.3789599   5.339747e-17\n",
       "145 -24.9360456  3.026074e-137\n",
       "146 -17.2449702   1.220757e-66\n",
       "147  11.3778910   5.388712e-30\n",
       "148  -3.5679283   3.598149e-04\n",
       "149 -14.4113649   4.389495e-47\n",
       "150 -20.3208802   8.405571e-92\n",
       "151 -21.1577736   2.340141e-99\n",
       "152 -40.5973394   0.000000e+00\n",
       "153 -44.7734278   0.000000e+00\n",
       "154 -22.1645864  7.545992e-109\n",
       "155   1.3906248   1.643392e-01\n",
       "156   2.1437761   3.205083e-02\n",
       "157   6.0150477   1.798337e-09\n",
       "158 -19.3432107   2.325359e-83"
      ]
     },
     "metadata": {},
     "output_type": "display_data"
    }
   ],
   "source": [
    "flights_fit %>%\n",
    "  extract_fit_parsnip() %>%\n",
    "  tidy()"
   ]
  },
  {
   "cell_type": "markdown",
   "metadata": {
    "id": "OyEP0iDrkVg0"
   },
   "source": [
    "## So what exactly did we do till now?\n",
    "\n",
    "\n",
    "* Built the model (lr_mod)\n",
    "\n",
    "* Created a preprocessing recipe (flights_rec)\n",
    "\n",
    "* Bundled the model and recipe (flights_wflow)\n",
    "\n",
    "* Trained our workflow using a single call to fit()\n",
    "\n",
    "### Finally prediction\n",
    "Now we are ready to predict! The test data that is kept aside is used for testing our model's accuracy\n"
   ]
  },
  {
   "cell_type": "code",
   "execution_count": 18,
   "metadata": {
    "colab": {
     "base_uri": "https://localhost:8080/"
    },
    "id": "lawgRCy3koEv",
    "outputId": "6649534b-9b8d-420a-c9e7-79aeb60231ff"
   },
   "outputs": [
    {
     "name": "stdout",
     "output_type": "stream",
     "text": [
      "\u001b[90m# A tibble: 81,455 × 1\u001b[39m\n",
      "   .pred_class\n",
      "   \u001b[3m\u001b[90m<fct>\u001b[39m\u001b[23m      \n",
      "\u001b[90m 1\u001b[39m on_time    \n",
      "\u001b[90m 2\u001b[39m on_time    \n",
      "\u001b[90m 3\u001b[39m on_time    \n",
      "\u001b[90m 4\u001b[39m on_time    \n",
      "\u001b[90m 5\u001b[39m on_time    \n",
      "\u001b[90m 6\u001b[39m on_time    \n",
      "\u001b[90m 7\u001b[39m on_time    \n",
      "\u001b[90m 8\u001b[39m on_time    \n",
      "\u001b[90m 9\u001b[39m on_time    \n",
      "\u001b[90m10\u001b[39m on_time    \n",
      "\u001b[90m# ℹ 81,445 more rows\u001b[39m\n"
     ]
    }
   ],
   "source": [
    "predict(flights_fit, test_data) %>% print"
   ]
  },
  {
   "cell_type": "markdown",
   "metadata": {
    "id": "9bJtx8tklCMa"
   },
   "source": [
    "If we also want the  predicted class probabilities for each flight, we can specify `type = \"prob\"` when we use predict() or use `augment()` with the model plus test data to save them together:"
   ]
  },
  {
   "cell_type": "code",
   "execution_count": 19,
   "metadata": {
    "colab": {
     "base_uri": "https://localhost:8080/"
    },
    "id": "no5cY9EjlVyk",
    "outputId": "e6b7da7b-5a3b-4762-d722-efe518ed22e0"
   },
   "outputs": [
    {
     "name": "stdout",
     "output_type": "stream",
     "text": [
      "\u001b[90m# A tibble: 81,455 × 5\u001b[39m\n",
      "   arr_delay time_hour           flight .pred_class .pred_on_time\n",
      "   \u001b[3m\u001b[90m<fct>\u001b[39m\u001b[23m     \u001b[3m\u001b[90m<dttm>\u001b[39m\u001b[23m               \u001b[3m\u001b[90m<int>\u001b[39m\u001b[23m \u001b[3m\u001b[90m<fct>\u001b[39m\u001b[23m               \u001b[3m\u001b[90m<dbl>\u001b[39m\u001b[23m\n",
      "\u001b[90m 1\u001b[39m on_time   2013-01-01 \u001b[90m05:00:00\u001b[39m   \u001b[4m1\u001b[24m545 on_time             0.945\n",
      "\u001b[90m 2\u001b[39m on_time   2013-01-01 \u001b[90m05:00:00\u001b[39m   \u001b[4m1\u001b[24m714 on_time             0.949\n",
      "\u001b[90m 3\u001b[39m on_time   2013-01-01 \u001b[90m06:00:00\u001b[39m    507 on_time             0.964\n",
      "\u001b[90m 4\u001b[39m on_time   2013-01-01 \u001b[90m06:00:00\u001b[39m   \u001b[4m5\u001b[24m708 on_time             0.961\n",
      "\u001b[90m 5\u001b[39m on_time   2013-01-01 \u001b[90m06:00:00\u001b[39m     71 on_time             0.962\n",
      "\u001b[90m 6\u001b[39m on_time   2013-01-01 \u001b[90m06:00:00\u001b[39m    194 on_time             0.975\n",
      "\u001b[90m 7\u001b[39m on_time   2013-01-01 \u001b[90m06:00:00\u001b[39m   \u001b[4m1\u001b[24m124 on_time             0.963\n",
      "\u001b[90m 8\u001b[39m on_time   2013-01-01 \u001b[90m05:00:00\u001b[39m   \u001b[4m1\u001b[24m806 on_time             0.981\n",
      "\u001b[90m 9\u001b[39m on_time   2013-01-01 \u001b[90m06:00:00\u001b[39m   \u001b[4m1\u001b[24m187 on_time             0.935\n",
      "\u001b[90m10\u001b[39m on_time   2013-01-01 \u001b[90m06:00:00\u001b[39m   \u001b[4m4\u001b[24m650 on_time             0.931\n",
      "\u001b[90m# ℹ 81,445 more rows\u001b[39m\n"
     ]
    }
   ],
   "source": [
    "flights_aug <-\n",
    "  augment(flights_fit, test_data)\n",
    "\n",
    "# The data look like:\n",
    "predicted <- flights_aug %>%\n",
    "  select(arr_delay, time_hour, flight, .pred_class, .pred_on_time) %>% print"
   ]
  },
  {
   "cell_type": "markdown",
   "metadata": {
    "id": "HK_dx1TronIi"
   },
   "source": [
    "### Accuracy measurement"
   ]
  },
  {
   "cell_type": "code",
   "execution_count": 20,
   "metadata": {
    "colab": {
     "base_uri": "https://localhost:8080/",
     "height": 161
    },
    "id": "LHcf-7YHoNPj",
    "outputId": "31425603-e231-46bc-c43f-6df8a45a965d"
   },
   "outputs": [
    {
     "data": {
      "text/html": [
       "<table class=\"dataframe\">\n",
       "<caption>A tibble: 2 × 2</caption>\n",
       "<thead>\n",
       "\t<tr><th scope=col>correct_pred</th><th scope=col>n</th></tr>\n",
       "\t<tr><th scope=col>&lt;lgl&gt;</th><th scope=col>&lt;int&gt;</th></tr>\n",
       "</thead>\n",
       "<tbody>\n",
       "\t<tr><td>FALSE</td><td>12300</td></tr>\n",
       "\t<tr><td> TRUE</td><td>69155</td></tr>\n",
       "</tbody>\n",
       "</table>\n"
      ],
      "text/latex": [
       "A tibble: 2 × 2\n",
       "\\begin{tabular}{ll}\n",
       " correct\\_pred & n\\\\\n",
       " <lgl> & <int>\\\\\n",
       "\\hline\n",
       "\t FALSE & 12300\\\\\n",
       "\t  TRUE & 69155\\\\\n",
       "\\end{tabular}\n"
      ],
      "text/markdown": [
       "\n",
       "A tibble: 2 × 2\n",
       "\n",
       "| correct_pred &lt;lgl&gt; | n &lt;int&gt; |\n",
       "|---|---|\n",
       "| FALSE | 12300 |\n",
       "|  TRUE | 69155 |\n",
       "\n"
      ],
      "text/plain": [
       "  correct_pred n    \n",
       "1 FALSE        12300\n",
       "2  TRUE        69155"
      ]
     },
     "metadata": {},
     "output_type": "display_data"
    }
   ],
   "source": [
    "flights_aug %>% mutate(correct_pred = arr_delay == .pred_class) %>%\n",
    "  count(correct_pred)"
   ]
  }
 ],
 "metadata": {
  "celltoolbar": "Slideshow",
  "colab": {
   "provenance": []
  },
  "kernelspec": {
   "display_name": "R",
   "language": "R",
   "name": "ir"
  },
  "language_info": {
   "codemirror_mode": "r",
   "file_extension": ".r",
   "mimetype": "text/x-r-source",
   "name": "R",
   "pygments_lexer": "r",
   "version": "4.3.1"
  }
 },
 "nbformat": 4,
 "nbformat_minor": 4
}
