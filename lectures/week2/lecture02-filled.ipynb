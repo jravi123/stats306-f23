{
  "cells": [
    {
      "cell_type": "markdown",
      "metadata": {
        "id": "jThY3pW1EA0e"
      },
      "source": [
        "# Lecture 2: More on data transformations\n",
        "\n",
        "<div style=\"border: 1px double black; padding: 10px; margin: 10px\">\n",
        "\n",
        "**Goals for today's lecture:**\n",
        "* Continue to learn how to manipulate data, including:\n",
        "    * Vectors in R: what they are and basic operations\n",
        "    * Adding new variables\n",
        "    * Grouping and summarizing data\n",
        "    \n",
        "This lecture note corresponds to sections 4.3-4.6 of your book.\n",
        "</div>\n",
        "\n",
        "**Before we move on, let us quickly take a look at the recommended [Coding Style](https://style.tidyverse.org/index.html) which we will apply as much as possible**"
      ]
    },
    {
      "cell_type": "code",
      "execution_count": 2,
      "metadata": {
        "id": "P_bT_-KfEA0f",
        "outputId": "7d55cf7b-0d82-4b0f-d654-ad1b68ee64a2",
        "colab": {
          "base_uri": "https://localhost:8080/"
        }
      },
      "outputs": [
        {
          "output_type": "stream",
          "name": "stderr",
          "text": [
            "Installing package into ‘/usr/local/lib/R/site-library’\n",
            "(as ‘lib’ is unspecified)\n",
            "\n"
          ]
        }
      ],
      "source": [
        "install.packages('nycflights13')\n",
        "library(tidyverse)  # always!\n",
        "library(nycflights13)  # install if needed"
      ]
    },
    {
      "cell_type": "markdown",
      "metadata": {
        "id": "iSgRYtb-EA0h"
      },
      "source": [
        "## Review of last lecture\n",
        "Last lecture we learned how to alter the rows and columns of a dataframe:\n",
        "- `filter()` to keep certain rows that satisfy logical conditions.\n",
        "- `arrange()` to sort rows according to certain column values.\n",
        "- `distinct()` to keep only rows that are distinct on some combination of columns.\n",
        "- `select()` to drop/rename/rearrange columns"
      ]
    },
    {
      "cell_type": "markdown",
      "metadata": {
        "id": "ghv2_gUsEA0i"
      },
      "source": [
        "## What's a data frame?\n",
        "\n",
        "Recall the dataframe from the last class\n",
        "\n",
        "![dataframe](https://garrettgman.github.io/images/tidy-2.png)"
      ]
    },
    {
      "cell_type": "markdown",
      "metadata": {
        "id": "qfqgGwgbEA0j"
      },
      "source": [
        "## What's a vector?\n",
        "\n",
        "- In programming speak: a *vector* is a list of values.\n",
        "- In statistical speak: a vector of observations (aka data).\n",
        "\n",
        "Let's create a vector and work with it:"
      ]
    },
    {
      "cell_type": "markdown",
      "metadata": {
        "id": "r02_nZAPEA0l"
      },
      "source": [
        "The function for creating a vector in R is called simply, `c()`."
      ]
    },
    {
      "cell_type": "code",
      "execution_count": 4,
      "metadata": {
        "id": "kF8mmm4_EA0l"
      },
      "outputs": [],
      "source": [
        "# Create a vector\n",
        "a <- c(1,2,3)"
      ]
    },
    {
      "cell_type": "markdown",
      "metadata": {
        "id": "QbDwXRHjEA0m"
      },
      "source": [
        "## Functions that operate on vectors\n",
        "\n",
        "Many summary functions are available:\n",
        "\n",
        "* Center: `mean(), median()`\n",
        "* Spread: `sd(), IQR(), mad()`\n",
        "* Range: `min(), max(), quantile()`\n",
        "* Position: `first(), last(), nth()`\n",
        "* Count: `n(), n_distinct()`\n",
        "* Logical: `any(), all()`"
      ]
    },
    {
      "cell_type": "code",
      "execution_count": 5,
      "metadata": {
        "id": "I2Cfu259EA0m",
        "outputId": "cf45dea3-7377-4fc8-df12-49be735b591c",
        "colab": {
          "base_uri": "https://localhost:8080/",
          "height": 34
        }
      },
      "outputs": [
        {
          "output_type": "display_data",
          "data": {
            "text/html": [
              "2"
            ],
            "text/markdown": "2",
            "text/latex": "2",
            "text/plain": [
              "[1] 2"
            ]
          },
          "metadata": {}
        }
      ],
      "source": [
        "# examples of functions we can use on a vector\n",
        "mean(a)"
      ]
    },
    {
      "cell_type": "markdown",
      "metadata": {
        "id": "cqyvYVMuPQDY"
      },
      "source": [
        "## the assignment operator <-  & ="
      ]
    },
    {
      "cell_type": "code",
      "execution_count": null,
      "metadata": {
        "editable": true,
        "tags": [],
        "id": "ZCjXsaBvPQDZ"
      },
      "outputs": [],
      "source": [
        "# example\n",
        "a <- 10\n",
        "b = 20"
      ]
    },
    {
      "cell_type": "code",
      "execution_count": 8,
      "metadata": {
        "id": "K-UZEmj8PQDZ",
        "outputId": "9d01dd21-3fd7-494b-91ae-890723d5c8d4",
        "colab": {
          "base_uri": "https://localhost:8080/",
          "height": 125
        }
      },
      "outputs": [
        {
          "output_type": "display_data",
          "data": {
            "text/html": [
              "2"
            ],
            "text/markdown": "2",
            "text/latex": "2",
            "text/plain": [
              "[1] 2"
            ]
          },
          "metadata": {}
        },
        {
          "output_type": "error",
          "ename": "ERROR",
          "evalue": "ignored",
          "traceback": [
            "Error in eval(expr, envir, enclos): object 'x' not found\nTraceback:\n"
          ]
        }
      ],
      "source": [
        "mean(x = c(1:3))\n",
        "x"
      ]
    },
    {
      "cell_type": "code",
      "source": [
        "?mean"
      ],
      "metadata": {
        "id": "zPiI0LyHQcGc"
      },
      "execution_count": 11,
      "outputs": []
    },
    {
      "cell_type": "code",
      "execution_count": 9,
      "metadata": {
        "id": "ROtiA6yZPQDZ",
        "outputId": "e3bd957b-877c-4144-c172-dde664cbdcee",
        "colab": {
          "base_uri": "https://localhost:8080/",
          "height": 52
        }
      },
      "outputs": [
        {
          "output_type": "display_data",
          "data": {
            "text/html": [
              "2"
            ],
            "text/markdown": "2",
            "text/latex": "2",
            "text/plain": [
              "[1] 2"
            ]
          },
          "metadata": {}
        },
        {
          "output_type": "stream",
          "name": "stdout",
          "text": [
            "[1] 1 2 3\n"
          ]
        }
      ],
      "source": [
        "mean(x <- c(1:3))\n",
        "print(x)"
      ]
    },
    {
      "cell_type": "markdown",
      "metadata": {
        "editable": true,
        "id": "vQSzJU3lEA0n",
        "tags": []
      },
      "source": [
        "## Column operation #2: `mutate()`\n",
        "\n",
        "`mutate()` creates new columns in a dataframe that are calculated from the existing columns.\n",
        "\n",
        "For example, let's define the **gain** of a flight to be the different between the departure delay and the arrival delay:\n",
        "\n",
        "$$\\text{gain} = \\text{dep. delay} - \\text{arr. delay}$$\n",
        "\n",
        "So, the gain is positive if the flight made up time in the air, resulting in a less-delayed arrival."
      ]
    },
    {
      "cell_type": "markdown",
      "metadata": {
        "id": "iiRYQt4IEA0n"
      },
      "source": [
        "To add a column called `gain` to flights, we called `mutate()` as follows:"
      ]
    },
    {
      "cell_type": "code",
      "execution_count": 15,
      "metadata": {
        "id": "ld9_9YvZEA0n"
      },
      "outputs": [],
      "source": [
        "# add a gain column to flights\n",
        "data <- mutate(flights, gain = dep_delay - arr_delay)"
      ]
    },
    {
      "cell_type": "code",
      "source": [
        "data %>% colnames"
      ],
      "metadata": {
        "id": "7e6wupfPR_Bv",
        "outputId": "14bdb064-b6e6-432a-b438-dc2b88c06851",
        "colab": {
          "base_uri": "https://localhost:8080/",
          "height": 69
        }
      },
      "execution_count": 16,
      "outputs": [
        {
          "output_type": "display_data",
          "data": {
            "text/html": [
              "<style>\n",
              ".list-inline {list-style: none; margin:0; padding: 0}\n",
              ".list-inline>li {display: inline-block}\n",
              ".list-inline>li:not(:last-child)::after {content: \"\\00b7\"; padding: 0 .5ex}\n",
              "</style>\n",
              "<ol class=list-inline><li>'year'</li><li>'month'</li><li>'day'</li><li>'dep_time'</li><li>'sched_dep_time'</li><li>'dep_delay'</li><li>'arr_time'</li><li>'sched_arr_time'</li><li>'arr_delay'</li><li>'carrier'</li><li>'flight'</li><li>'tailnum'</li><li>'origin'</li><li>'dest'</li><li>'air_time'</li><li>'distance'</li><li>'hour'</li><li>'minute'</li><li>'time_hour'</li><li>'gain'</li></ol>\n"
            ],
            "text/markdown": "1. 'year'\n2. 'month'\n3. 'day'\n4. 'dep_time'\n5. 'sched_dep_time'\n6. 'dep_delay'\n7. 'arr_time'\n8. 'sched_arr_time'\n9. 'arr_delay'\n10. 'carrier'\n11. 'flight'\n12. 'tailnum'\n13. 'origin'\n14. 'dest'\n15. 'air_time'\n16. 'distance'\n17. 'hour'\n18. 'minute'\n19. 'time_hour'\n20. 'gain'\n\n\n",
            "text/latex": "\\begin{enumerate*}\n\\item 'year'\n\\item 'month'\n\\item 'day'\n\\item 'dep\\_time'\n\\item 'sched\\_dep\\_time'\n\\item 'dep\\_delay'\n\\item 'arr\\_time'\n\\item 'sched\\_arr\\_time'\n\\item 'arr\\_delay'\n\\item 'carrier'\n\\item 'flight'\n\\item 'tailnum'\n\\item 'origin'\n\\item 'dest'\n\\item 'air\\_time'\n\\item 'distance'\n\\item 'hour'\n\\item 'minute'\n\\item 'time\\_hour'\n\\item 'gain'\n\\end{enumerate*}\n",
            "text/plain": [
              " [1] \"year\"           \"month\"          \"day\"            \"dep_time\"      \n",
              " [5] \"sched_dep_time\" \"dep_delay\"      \"arr_time\"       \"sched_arr_time\"\n",
              " [9] \"arr_delay\"      \"carrier\"        \"flight\"         \"tailnum\"       \n",
              "[13] \"origin\"         \"dest\"           \"air_time\"       \"distance\"      \n",
              "[17] \"hour\"           \"minute\"         \"time_hour\"      \"gain\"          "
            ]
          },
          "metadata": {}
        }
      ]
    },
    {
      "cell_type": "code",
      "source": [
        "flights %>% colnames"
      ],
      "metadata": {
        "id": "JqbP28iFRwoK",
        "outputId": "7be5f20b-b38f-4361-996d-6572ab9342e5",
        "colab": {
          "base_uri": "https://localhost:8080/",
          "height": 69
        }
      },
      "execution_count": 13,
      "outputs": [
        {
          "output_type": "display_data",
          "data": {
            "text/html": [
              "<style>\n",
              ".list-inline {list-style: none; margin:0; padding: 0}\n",
              ".list-inline>li {display: inline-block}\n",
              ".list-inline>li:not(:last-child)::after {content: \"\\00b7\"; padding: 0 .5ex}\n",
              "</style>\n",
              "<ol class=list-inline><li>'year'</li><li>'month'</li><li>'day'</li><li>'dep_time'</li><li>'sched_dep_time'</li><li>'dep_delay'</li><li>'arr_time'</li><li>'sched_arr_time'</li><li>'arr_delay'</li><li>'carrier'</li><li>'flight'</li><li>'tailnum'</li><li>'origin'</li><li>'dest'</li><li>'air_time'</li><li>'distance'</li><li>'hour'</li><li>'minute'</li><li>'time_hour'</li></ol>\n"
            ],
            "text/markdown": "1. 'year'\n2. 'month'\n3. 'day'\n4. 'dep_time'\n5. 'sched_dep_time'\n6. 'dep_delay'\n7. 'arr_time'\n8. 'sched_arr_time'\n9. 'arr_delay'\n10. 'carrier'\n11. 'flight'\n12. 'tailnum'\n13. 'origin'\n14. 'dest'\n15. 'air_time'\n16. 'distance'\n17. 'hour'\n18. 'minute'\n19. 'time_hour'\n\n\n",
            "text/latex": "\\begin{enumerate*}\n\\item 'year'\n\\item 'month'\n\\item 'day'\n\\item 'dep\\_time'\n\\item 'sched\\_dep\\_time'\n\\item 'dep\\_delay'\n\\item 'arr\\_time'\n\\item 'sched\\_arr\\_time'\n\\item 'arr\\_delay'\n\\item 'carrier'\n\\item 'flight'\n\\item 'tailnum'\n\\item 'origin'\n\\item 'dest'\n\\item 'air\\_time'\n\\item 'distance'\n\\item 'hour'\n\\item 'minute'\n\\item 'time\\_hour'\n\\end{enumerate*}\n",
            "text/plain": [
              " [1] \"year\"           \"month\"          \"day\"            \"dep_time\"      \n",
              " [5] \"sched_dep_time\" \"dep_delay\"      \"arr_time\"       \"sched_arr_time\"\n",
              " [9] \"arr_delay\"      \"carrier\"        \"flight\"         \"tailnum\"       \n",
              "[13] \"origin\"         \"dest\"           \"air_time\"       \"distance\"      \n",
              "[17] \"hour\"           \"minute\"         \"time_hour\"     "
            ]
          },
          "metadata": {}
        }
      ]
    },
    {
      "cell_type": "markdown",
      "metadata": {
        "id": "N_8atKbuEA0n"
      },
      "source": [
        "The returned data set has a new column called `gain` added to the very end. If you want to bring it to the front, you could use `select()` like we learned last lecture:"
      ]
    },
    {
      "cell_type": "code",
      "execution_count": null,
      "metadata": {
        "id": "brsPXjAEEA0o"
      },
      "outputs": [],
      "source": [
        "# use select to move gain to the first column\n",
        "\n",
        "select(data, gain, everything())"
      ]
    },
    {
      "cell_type": "code",
      "source": [
        "?mutate"
      ],
      "metadata": {
        "id": "fX-HohskScU9"
      },
      "execution_count": 18,
      "outputs": []
    },
    {
      "cell_type": "markdown",
      "metadata": {
        "id": "oAi2oOLCEA0o"
      },
      "source": [
        "## Filtering extreme values\n",
        "In the previous question we needed to find rows that had a large value of a certain column (`gain`). This occurs frequently, so the designers of tidyverse wrote a special function:\n",
        "\n",
        "    top_n(<DATA FRAME>, n, <COLUMN>, ...)\n",
        "    "
      ]
    },
    {
      "cell_type": "code",
      "execution_count": 20,
      "metadata": {
        "id": "FV7BScQEEA0o",
        "outputId": "48ff3363-6737-4199-88cd-577c8025386d",
        "colab": {
          "base_uri": "https://localhost:8080/",
          "height": 264
        }
      },
      "outputs": [
        {
          "output_type": "display_data",
          "data": {
            "text/html": [
              "<table class=\"dataframe\">\n",
              "<caption>A tibble: 3 × 20</caption>\n",
              "<thead>\n",
              "\t<tr><th scope=col>year</th><th scope=col>month</th><th scope=col>day</th><th scope=col>dep_time</th><th scope=col>sched_dep_time</th><th scope=col>dep_delay</th><th scope=col>arr_time</th><th scope=col>sched_arr_time</th><th scope=col>arr_delay</th><th scope=col>carrier</th><th scope=col>flight</th><th scope=col>tailnum</th><th scope=col>origin</th><th scope=col>dest</th><th scope=col>air_time</th><th scope=col>distance</th><th scope=col>hour</th><th scope=col>minute</th><th scope=col>time_hour</th><th scope=col>gain</th></tr>\n",
              "\t<tr><th scope=col>&lt;int&gt;</th><th scope=col>&lt;int&gt;</th><th scope=col>&lt;int&gt;</th><th scope=col>&lt;int&gt;</th><th scope=col>&lt;int&gt;</th><th scope=col>&lt;dbl&gt;</th><th scope=col>&lt;int&gt;</th><th scope=col>&lt;int&gt;</th><th scope=col>&lt;dbl&gt;</th><th scope=col>&lt;chr&gt;</th><th scope=col>&lt;int&gt;</th><th scope=col>&lt;chr&gt;</th><th scope=col>&lt;chr&gt;</th><th scope=col>&lt;chr&gt;</th><th scope=col>&lt;dbl&gt;</th><th scope=col>&lt;dbl&gt;</th><th scope=col>&lt;dbl&gt;</th><th scope=col>&lt;dbl&gt;</th><th scope=col>&lt;dttm&gt;</th><th scope=col>&lt;dbl&gt;</th></tr>\n",
              "</thead>\n",
              "<tbody>\n",
              "\t<tr><td>2013</td><td>2</td><td>23</td><td>1226</td><td> 900</td><td>206</td><td>1746</td><td>1540</td><td>126</td><td>HA</td><td>  51</td><td>N389HA</td><td>JFK</td><td>HNL</td><td>599</td><td>4983</td><td> 9</td><td> 0</td><td>2013-02-23 09:00:00</td><td> 80</td></tr>\n",
              "\t<tr><td>2013</td><td>2</td><td>26</td><td>1000</td><td> 900</td><td> 60</td><td>1513</td><td>1540</td><td>-27</td><td>HA</td><td>  51</td><td>N382HA</td><td>JFK</td><td>HNL</td><td>584</td><td>4983</td><td> 9</td><td> 0</td><td>2013-02-26 09:00:00</td><td> 87</td></tr>\n",
              "\t<tr><td>2013</td><td>6</td><td>13</td><td>1907</td><td>1512</td><td>235</td><td>2134</td><td>1928</td><td>126</td><td>EV</td><td>4377</td><td>N19554</td><td>EWR</td><td>JAX</td><td>126</td><td> 820</td><td>15</td><td>12</td><td>2013-06-13 15:00:00</td><td>109</td></tr>\n",
              "</tbody>\n",
              "</table>\n"
            ],
            "text/markdown": "\nA tibble: 3 × 20\n\n| year &lt;int&gt; | month &lt;int&gt; | day &lt;int&gt; | dep_time &lt;int&gt; | sched_dep_time &lt;int&gt; | dep_delay &lt;dbl&gt; | arr_time &lt;int&gt; | sched_arr_time &lt;int&gt; | arr_delay &lt;dbl&gt; | carrier &lt;chr&gt; | flight &lt;int&gt; | tailnum &lt;chr&gt; | origin &lt;chr&gt; | dest &lt;chr&gt; | air_time &lt;dbl&gt; | distance &lt;dbl&gt; | hour &lt;dbl&gt; | minute &lt;dbl&gt; | time_hour &lt;dttm&gt; | gain &lt;dbl&gt; |\n|---|---|---|---|---|---|---|---|---|---|---|---|---|---|---|---|---|---|---|---|\n| 2013 | 2 | 23 | 1226 |  900 | 206 | 1746 | 1540 | 126 | HA |   51 | N389HA | JFK | HNL | 599 | 4983 |  9 |  0 | 2013-02-23 09:00:00 |  80 |\n| 2013 | 2 | 26 | 1000 |  900 |  60 | 1513 | 1540 | -27 | HA |   51 | N382HA | JFK | HNL | 584 | 4983 |  9 |  0 | 2013-02-26 09:00:00 |  87 |\n| 2013 | 6 | 13 | 1907 | 1512 | 235 | 2134 | 1928 | 126 | EV | 4377 | N19554 | EWR | JAX | 126 |  820 | 15 | 12 | 2013-06-13 15:00:00 | 109 |\n\n",
            "text/latex": "A tibble: 3 × 20\n\\begin{tabular}{llllllllllllllllllll}\n year & month & day & dep\\_time & sched\\_dep\\_time & dep\\_delay & arr\\_time & sched\\_arr\\_time & arr\\_delay & carrier & flight & tailnum & origin & dest & air\\_time & distance & hour & minute & time\\_hour & gain\\\\\n <int> & <int> & <int> & <int> & <int> & <dbl> & <int> & <int> & <dbl> & <chr> & <int> & <chr> & <chr> & <chr> & <dbl> & <dbl> & <dbl> & <dbl> & <dttm> & <dbl>\\\\\n\\hline\n\t 2013 & 2 & 23 & 1226 &  900 & 206 & 1746 & 1540 & 126 & HA &   51 & N389HA & JFK & HNL & 599 & 4983 &  9 &  0 & 2013-02-23 09:00:00 &  80\\\\\n\t 2013 & 2 & 26 & 1000 &  900 &  60 & 1513 & 1540 & -27 & HA &   51 & N382HA & JFK & HNL & 584 & 4983 &  9 &  0 & 2013-02-26 09:00:00 &  87\\\\\n\t 2013 & 6 & 13 & 1907 & 1512 & 235 & 2134 & 1928 & 126 & EV & 4377 & N19554 & EWR & JAX & 126 &  820 & 15 & 12 & 2013-06-13 15:00:00 & 109\\\\\n\\end{tabular}\n",
            "text/plain": [
              "  year month day dep_time sched_dep_time dep_delay arr_time sched_arr_time\n",
              "1 2013 2     23  1226      900           206       1746     1540          \n",
              "2 2013 2     26  1000      900            60       1513     1540          \n",
              "3 2013 6     13  1907     1512           235       2134     1928          \n",
              "  arr_delay carrier flight tailnum origin dest air_time distance hour minute\n",
              "1 126       HA        51   N389HA  JFK    HNL  599      4983      9    0    \n",
              "2 -27       HA        51   N382HA  JFK    HNL  584      4983      9    0    \n",
              "3 126       EV      4377   N19554  EWR    JAX  126       820     15   12    \n",
              "  time_hour           gain\n",
              "1 2013-02-23 09:00:00  80 \n",
              "2 2013-02-26 09:00:00  87 \n",
              "3 2013-06-13 15:00:00 109 "
            ]
          },
          "metadata": {}
        }
      ],
      "source": [
        "# use top_n to find the flights with the highest gain\n",
        "top_n(data, 3, gain)"
      ]
    },
    {
      "cell_type": "markdown",
      "metadata": {
        "id": "26A2MK2uEA0p"
      },
      "source": [
        "## Grouping data\n",
        "Very frequently our data will have repeating values in a column that are good candidates for `group`ing.  \n",
        "For example, in flights, we might be interested in studying how many flights take off from each airport?\n",
        "We use the `group_by()` function to tell R how to group data first and then `pipe` it to the next set of functions to eventually summarize the values in some way (you will see this in a bit)"
      ]
    },
    {
      "cell_type": "markdown",
      "metadata": {
        "id": "-h8SaSDTEA0p"
      },
      "source": [
        "We will now study the `mtcars` dataset - a dataset of cars and the gas mileage they get:"
      ]
    },
    {
      "cell_type": "code",
      "execution_count": 22,
      "metadata": {
        "id": "wdxBeCZ6EA0p",
        "outputId": "b7c1f206-448a-4d87-9bdb-1597e7fd47aa",
        "colab": {
          "base_uri": "https://localhost:8080/"
        }
      },
      "outputs": [
        {
          "output_type": "stream",
          "name": "stdout",
          "text": [
            "Rows: 32\n",
            "Columns: 11\n",
            "$ mpg  \u001b[3m\u001b[90m<dbl>\u001b[39m\u001b[23m 21.0, 21.0, 22.8, 21.4, 18.7, 18.1, 14.3, 24.4, 22.8, 19.2, 17.8,…\n",
            "$ cyl  \u001b[3m\u001b[90m<dbl>\u001b[39m\u001b[23m 6, 6, 4, 6, 8, 6, 8, 4, 4, 6, 6, 8, 8, 8, 8, 8, 8, 4, 4, 4, 4, 8,…\n",
            "$ disp \u001b[3m\u001b[90m<dbl>\u001b[39m\u001b[23m 160.0, 160.0, 108.0, 258.0, 360.0, 225.0, 360.0, 146.7, 140.8, 16…\n",
            "$ hp   \u001b[3m\u001b[90m<dbl>\u001b[39m\u001b[23m 110, 110, 93, 110, 175, 105, 245, 62, 95, 123, 123, 180, 180, 180…\n",
            "$ drat \u001b[3m\u001b[90m<dbl>\u001b[39m\u001b[23m 3.90, 3.90, 3.85, 3.08, 3.15, 2.76, 3.21, 3.69, 3.92, 3.92, 3.92,…\n",
            "$ wt   \u001b[3m\u001b[90m<dbl>\u001b[39m\u001b[23m 2.620, 2.875, 2.320, 3.215, 3.440, 3.460, 3.570, 3.190, 3.150, 3.…\n",
            "$ qsec \u001b[3m\u001b[90m<dbl>\u001b[39m\u001b[23m 16.46, 17.02, 18.61, 19.44, 17.02, 20.22, 15.84, 20.00, 22.90, 18…\n",
            "$ vs   \u001b[3m\u001b[90m<dbl>\u001b[39m\u001b[23m 0, 0, 1, 1, 0, 1, 0, 1, 1, 1, 1, 0, 0, 0, 0, 0, 0, 1, 1, 1, 1, 0,…\n",
            "$ am   \u001b[3m\u001b[90m<dbl>\u001b[39m\u001b[23m 1, 1, 1, 0, 0, 0, 0, 0, 0, 0, 0, 0, 0, 0, 0, 0, 0, 1, 1, 1, 0, 0,…\n",
            "$ gear \u001b[3m\u001b[90m<dbl>\u001b[39m\u001b[23m 4, 4, 4, 3, 3, 3, 3, 4, 4, 4, 4, 3, 3, 3, 3, 3, 3, 4, 4, 4, 3, 3,…\n",
            "$ carb \u001b[3m\u001b[90m<dbl>\u001b[39m\u001b[23m 4, 4, 1, 1, 2, 1, 4, 2, 2, 4, 4, 3, 3, 3, 4, 4, 4, 1, 2, 1, 1, 2,…\n"
          ]
        }
      ],
      "source": [
        "mtcars %>% glimpse"
      ]
    },
    {
      "cell_type": "code",
      "source": [
        "mtcars$cyl %>% unique"
      ],
      "metadata": {
        "id": "KbrnxiGKTVqY",
        "outputId": "c52f56cb-b455-49d4-b1bd-44a717f88ab3",
        "colab": {
          "base_uri": "https://localhost:8080/",
          "height": 34
        }
      },
      "execution_count": 23,
      "outputs": [
        {
          "output_type": "display_data",
          "data": {
            "text/html": [
              "<style>\n",
              ".list-inline {list-style: none; margin:0; padding: 0}\n",
              ".list-inline>li {display: inline-block}\n",
              ".list-inline>li:not(:last-child)::after {content: \"\\00b7\"; padding: 0 .5ex}\n",
              "</style>\n",
              "<ol class=list-inline><li>6</li><li>4</li><li>8</li></ol>\n"
            ],
            "text/markdown": "1. 6\n2. 4\n3. 8\n\n\n",
            "text/latex": "\\begin{enumerate*}\n\\item 6\n\\item 4\n\\item 8\n\\end{enumerate*}\n",
            "text/plain": [
              "[1] 6 4 8"
            ]
          },
          "metadata": {}
        }
      ]
    },
    {
      "cell_type": "markdown",
      "metadata": {
        "id": "_P0Isy4TEA0q"
      },
      "source": [
        "Let's try grouping `mtcars` by `cyl` (the number of engine cylinders):"
      ]
    },
    {
      "cell_type": "code",
      "execution_count": 24,
      "metadata": {
        "id": "AQ6HicfiEA0r",
        "outputId": "861b1b7b-783d-42ff-f37c-329e7caee8b9",
        "colab": {
          "base_uri": "https://localhost:8080/"
        }
      },
      "outputs": [
        {
          "output_type": "stream",
          "name": "stdout",
          "text": [
            "\u001b[90m# A tibble: 32 × 11\u001b[39m\n",
            "\u001b[90m# Groups:   cyl [3]\u001b[39m\n",
            "     mpg   cyl  disp    hp  drat    wt  qsec    vs    am  gear  carb\n",
            "   \u001b[3m\u001b[90m<dbl>\u001b[39m\u001b[23m \u001b[3m\u001b[90m<dbl>\u001b[39m\u001b[23m \u001b[3m\u001b[90m<dbl>\u001b[39m\u001b[23m \u001b[3m\u001b[90m<dbl>\u001b[39m\u001b[23m \u001b[3m\u001b[90m<dbl>\u001b[39m\u001b[23m \u001b[3m\u001b[90m<dbl>\u001b[39m\u001b[23m \u001b[3m\u001b[90m<dbl>\u001b[39m\u001b[23m \u001b[3m\u001b[90m<dbl>\u001b[39m\u001b[23m \u001b[3m\u001b[90m<dbl>\u001b[39m\u001b[23m \u001b[3m\u001b[90m<dbl>\u001b[39m\u001b[23m \u001b[3m\u001b[90m<dbl>\u001b[39m\u001b[23m\n",
            "\u001b[90m 1\u001b[39m  21       6  160    110  3.9   2.62  16.5     0     1     4     4\n",
            "\u001b[90m 2\u001b[39m  21       6  160    110  3.9   2.88  17.0     0     1     4     4\n",
            "\u001b[90m 3\u001b[39m  22.8     4  108     93  3.85  2.32  18.6     1     1     4     1\n",
            "\u001b[90m 4\u001b[39m  21.4     6  258    110  3.08  3.22  19.4     1     0     3     1\n",
            "\u001b[90m 5\u001b[39m  18.7     8  360    175  3.15  3.44  17.0     0     0     3     2\n",
            "\u001b[90m 6\u001b[39m  18.1     6  225    105  2.76  3.46  20.2     1     0     3     1\n",
            "\u001b[90m 7\u001b[39m  14.3     8  360    245  3.21  3.57  15.8     0     0     3     4\n",
            "\u001b[90m 8\u001b[39m  24.4     4  147.    62  3.69  3.19  20       1     0     4     2\n",
            "\u001b[90m 9\u001b[39m  22.8     4  141.    95  3.92  3.15  22.9     1     0     4     2\n",
            "\u001b[90m10\u001b[39m  19.2     6  168.   123  3.92  3.44  18.3     1     0     4     4\n",
            "\u001b[90m# ℹ 22 more rows\u001b[39m\n"
          ]
        }
      ],
      "source": [
        "print(group_by(mtcars, cyl))"
      ]
    },
    {
      "cell_type": "markdown",
      "metadata": {
        "id": "NT0FLKqeEA0r"
      },
      "source": [
        "This has not changed the data in any way. But now watch what happens when we use `mutate()` on the grouped data frame:"
      ]
    },
    {
      "cell_type": "code",
      "execution_count": 27,
      "metadata": {
        "id": "MzR20n-nEA0r",
        "outputId": "b20e6a20-6623-4c5a-da61-8309bed75b17",
        "colab": {
          "base_uri": "https://localhost:8080/"
        }
      },
      "outputs": [
        {
          "output_type": "stream",
          "name": "stdout",
          "text": [
            "\u001b[90m# A tibble: 32 × 12\u001b[39m\n",
            "\u001b[90m# Groups:   cyl [3]\u001b[39m\n",
            "     mpg   cyl  disp    hp  drat    wt  qsec    vs    am  gear  carb avg_mpg\n",
            "   \u001b[3m\u001b[90m<dbl>\u001b[39m\u001b[23m \u001b[3m\u001b[90m<dbl>\u001b[39m\u001b[23m \u001b[3m\u001b[90m<dbl>\u001b[39m\u001b[23m \u001b[3m\u001b[90m<dbl>\u001b[39m\u001b[23m \u001b[3m\u001b[90m<dbl>\u001b[39m\u001b[23m \u001b[3m\u001b[90m<dbl>\u001b[39m\u001b[23m \u001b[3m\u001b[90m<dbl>\u001b[39m\u001b[23m \u001b[3m\u001b[90m<dbl>\u001b[39m\u001b[23m \u001b[3m\u001b[90m<dbl>\u001b[39m\u001b[23m \u001b[3m\u001b[90m<dbl>\u001b[39m\u001b[23m \u001b[3m\u001b[90m<dbl>\u001b[39m\u001b[23m   \u001b[3m\u001b[90m<dbl>\u001b[39m\u001b[23m\n",
            "\u001b[90m 1\u001b[39m  21       6  160    110  3.9   2.62  16.5     0     1     4     4    19.7\n",
            "\u001b[90m 2\u001b[39m  21       6  160    110  3.9   2.88  17.0     0     1     4     4    19.7\n",
            "\u001b[90m 3\u001b[39m  22.8     4  108     93  3.85  2.32  18.6     1     1     4     1    26.7\n",
            "\u001b[90m 4\u001b[39m  21.4     6  258    110  3.08  3.22  19.4     1     0     3     1    19.7\n",
            "\u001b[90m 5\u001b[39m  18.7     8  360    175  3.15  3.44  17.0     0     0     3     2    15.1\n",
            "\u001b[90m 6\u001b[39m  18.1     6  225    105  2.76  3.46  20.2     1     0     3     1    19.7\n",
            "\u001b[90m 7\u001b[39m  14.3     8  360    245  3.21  3.57  15.8     0     0     3     4    15.1\n",
            "\u001b[90m 8\u001b[39m  24.4     4  147.    62  3.69  3.19  20       1     0     4     2    26.7\n",
            "\u001b[90m 9\u001b[39m  22.8     4  141.    95  3.92  3.15  22.9     1     0     4     2    26.7\n",
            "\u001b[90m10\u001b[39m  19.2     6  168.   123  3.92  3.44  18.3     1     0     4     4    19.7\n",
            "\u001b[90m# ℹ 22 more rows\u001b[39m\n"
          ]
        }
      ],
      "source": [
        "# mean mpg for grouped data\n",
        "mutate(group_by(mtcars, cyl), avg_mpg = mean(mpg)) %>% print"
      ]
    },
    {
      "cell_type": "code",
      "source": [
        "mutate(mtcars, avg_mpg = mean(mpg))"
      ],
      "metadata": {
        "id": "A1ttioTSUEHT"
      },
      "execution_count": null,
      "outputs": []
    },
    {
      "cell_type": "markdown",
      "metadata": {
        "id": "UU1dqsB7EA0s"
      },
      "source": [
        "Notice that the mean is now constant within different groups. It's easier to see if we first sort the table by `cyl`:"
      ]
    },
    {
      "cell_type": "code",
      "execution_count": 29,
      "metadata": {
        "id": "vkGUEU1DEA0s",
        "outputId": "56de799d-b2f5-43d0-8387-59d8e707969b",
        "colab": {
          "base_uri": "https://localhost:8080/"
        }
      },
      "outputs": [
        {
          "output_type": "stream",
          "name": "stdout",
          "text": [
            "\u001b[90m# A tibble: 32 × 12\u001b[39m\n",
            "\u001b[90m# Groups:   cyl [3]\u001b[39m\n",
            "     mpg   cyl  disp    hp  drat    wt  qsec    vs    am  gear  carb avg_mpg\n",
            "   \u001b[3m\u001b[90m<dbl>\u001b[39m\u001b[23m \u001b[3m\u001b[90m<dbl>\u001b[39m\u001b[23m \u001b[3m\u001b[90m<dbl>\u001b[39m\u001b[23m \u001b[3m\u001b[90m<dbl>\u001b[39m\u001b[23m \u001b[3m\u001b[90m<dbl>\u001b[39m\u001b[23m \u001b[3m\u001b[90m<dbl>\u001b[39m\u001b[23m \u001b[3m\u001b[90m<dbl>\u001b[39m\u001b[23m \u001b[3m\u001b[90m<dbl>\u001b[39m\u001b[23m \u001b[3m\u001b[90m<dbl>\u001b[39m\u001b[23m \u001b[3m\u001b[90m<dbl>\u001b[39m\u001b[23m \u001b[3m\u001b[90m<dbl>\u001b[39m\u001b[23m   \u001b[3m\u001b[90m<dbl>\u001b[39m\u001b[23m\n",
            "\u001b[90m 1\u001b[39m  21       6  160    110  3.9   2.62  16.5     0     1     4     4    19.7\n",
            "\u001b[90m 2\u001b[39m  21       6  160    110  3.9   2.88  17.0     0     1     4     4    19.7\n",
            "\u001b[90m 3\u001b[39m  22.8     4  108     93  3.85  2.32  18.6     1     1     4     1    26.7\n",
            "\u001b[90m 4\u001b[39m  21.4     6  258    110  3.08  3.22  19.4     1     0     3     1    19.7\n",
            "\u001b[90m 5\u001b[39m  18.7     8  360    175  3.15  3.44  17.0     0     0     3     2    15.1\n",
            "\u001b[90m 6\u001b[39m  18.1     6  225    105  2.76  3.46  20.2     1     0     3     1    19.7\n",
            "\u001b[90m 7\u001b[39m  14.3     8  360    245  3.21  3.57  15.8     0     0     3     4    15.1\n",
            "\u001b[90m 8\u001b[39m  24.4     4  147.    62  3.69  3.19  20       1     0     4     2    26.7\n",
            "\u001b[90m 9\u001b[39m  22.8     4  141.    95  3.92  3.15  22.9     1     0     4     2    26.7\n",
            "\u001b[90m10\u001b[39m  19.2     6  168.   123  3.92  3.44  18.3     1     0     4     4    19.7\n",
            "\u001b[90m# ℹ 22 more rows\u001b[39m\n"
          ]
        }
      ],
      "source": [
        "# sort mtcars by cyl, then group and mutate\n",
        "data1 <- group_by(mtcars, cyl)\n",
        "data2 <- mutate(data1, avg_mpg = mean(mpg))\n",
        "data2 %>% print"
      ]
    },
    {
      "cell_type": "markdown",
      "metadata": {
        "id": "pbr_sYJVEA0s"
      },
      "source": [
        "## Pipes\n",
        "Starting now, we will make extensive use of the pipe operator `%>%`. Consider the previous exercise:"
      ]
    },
    {
      "cell_type": "code",
      "execution_count": null,
      "metadata": {
        "id": "_qB6-hXDEA0s"
      },
      "outputs": [],
      "source": [
        "# sort mtcars by cyl, then group, then mutate\n",
        "\n",
        "group_by(mtcars, cyl) %>% mutate(avg_mpg = mean(mpg))"
      ]
    },
    {
      "cell_type": "markdown",
      "source": [],
      "metadata": {
        "id": "lMASeauVUnBj"
      }
    },
    {
      "cell_type": "markdown",
      "metadata": {
        "id": "kTEj8c1FEA0t"
      },
      "source": [
        "This is not very nice. To figure out what the command is doing you have to work from the inside out, which is not the order in which we are accustomed to reading. A slight improvement might be:"
      ]
    },
    {
      "cell_type": "code",
      "execution_count": null,
      "metadata": {
        "id": "-delZkxLEA0t"
      },
      "outputs": [],
      "source": [
        "# sort mtcars by cyl, then group, then mutate, using intermediates\n",
        "data1 <- group_by(mtcars, cyl)\n",
        "data2 <- mutate(data1, avg_mpg = mean(mpg))\n",
        "data2 %>% print"
      ]
    },
    {
      "cell_type": "markdown",
      "metadata": {
        "id": "QZGKnYD0EA0t"
      },
      "source": [
        "This is better, but now you've created a bunch of useless temporary variables, and it requires a lot of typing.\n",
        "Instead, we are going to use a new operator `%>%` (prounouced \"pipe\"):"
      ]
    },
    {
      "cell_type": "code",
      "execution_count": null,
      "metadata": {
        "id": "xAzO0y6tEA0t"
      },
      "outputs": [],
      "source": [
        "# sort mtcars by cyl, then group, then mutate, using pipes\n",
        "arrange(mtcars) %>% group_by(cyl) %>% mutate(avg_mpg = mean(mpg))"
      ]
    },
    {
      "cell_type": "markdown",
      "metadata": {
        "id": "nBwJ6uLbEA0u"
      },
      "source": [
        "This is much better. We can read the command from left to right and know exactly what is going on."
      ]
    },
    {
      "cell_type": "markdown",
      "metadata": {
        "id": "l-EZe3eyEA0u"
      },
      "source": [
        "## Column operation #3: `summarize()`ing data\n",
        "\n",
        "`summarize()` can be used to summarize entire data frames by collapsing them into single number summaries. The syntax is:\n",
        "\n",
        "    summarize(<grouped data frame>,\n",
        "              <new variable> = <formula for new variable>,\n",
        "              <other new variable> = <other formula>)"
      ]
    },
    {
      "cell_type": "markdown",
      "metadata": {
        "id": "eGaxtwchEA0u"
      },
      "source": [
        "The most basic use of summarize is to compute statistics over the whole data set:"
      ]
    },
    {
      "cell_type": "code",
      "execution_count": 36,
      "metadata": {
        "id": "7NdNZrQZEA0u",
        "outputId": "72440425-1f79-47a4-cb86-bbadd659e600",
        "colab": {
          "base_uri": "https://localhost:8080/",
          "height": 129
        }
      },
      "outputs": [
        {
          "output_type": "display_data",
          "data": {
            "text/html": [
              "<table class=\"dataframe\">\n",
              "<caption>A tibble: 1 × 1</caption>\n",
              "<thead>\n",
              "\t<tr><th scope=col>mean_dep_delay</th></tr>\n",
              "\t<tr><th scope=col>&lt;dbl&gt;</th></tr>\n",
              "</thead>\n",
              "<tbody>\n",
              "\t<tr><td>12.63907</td></tr>\n",
              "</tbody>\n",
              "</table>\n"
            ],
            "text/markdown": "\nA tibble: 1 × 1\n\n| mean_dep_delay &lt;dbl&gt; |\n|---|\n| 12.63907 |\n\n",
            "text/latex": "A tibble: 1 × 1\n\\begin{tabular}{l}\n mean\\_dep\\_delay\\\\\n <dbl>\\\\\n\\hline\n\t 12.63907\\\\\n\\end{tabular}\n",
            "text/plain": [
              "  mean_dep_delay\n",
              "1 12.63907      "
            ]
          },
          "metadata": {}
        }
      ],
      "source": [
        "# summarize flights by mean of departure delay\n",
        "summarise(flights, mean_dep_delay = mean(dep_delay, na.rm = T))"
      ]
    },
    {
      "cell_type": "markdown",
      "metadata": {
        "id": "67O8Rd1UEA0w"
      },
      "source": [
        "\n",
        "`summarize()` applies a summary function to each group of data. Remember that it always returns **one row per group**. In the above example, there was only one group (the whole data set), so the resulting data frame had only one row.\n",
        "\n",
        "Hint: To fix your result, add na.rm = T"
      ]
    },
    {
      "cell_type": "markdown",
      "metadata": {
        "id": "Fpz9PDvYEA0w"
      },
      "source": [
        "### Grouping observations\n",
        "`summarize()` is most useful when combined with `group_by()` to group observations before calculating the summary statistic. Let's summarize flights by the mean departure delay in each month."
      ]
    },
    {
      "cell_type": "code",
      "execution_count": 38,
      "metadata": {
        "id": "GC7GXswkEA0w",
        "outputId": "70c1fe44-f21a-467a-bcbb-b9cd219293c0",
        "colab": {
          "base_uri": "https://localhost:8080/",
          "height": 474
        }
      },
      "outputs": [
        {
          "output_type": "display_data",
          "data": {
            "text/html": [
              "<table class=\"dataframe\">\n",
              "<caption>A tibble: 12 × 2</caption>\n",
              "<thead>\n",
              "\t<tr><th scope=col>month</th><th scope=col>avg_delay</th></tr>\n",
              "\t<tr><th scope=col>&lt;int&gt;</th><th scope=col>&lt;dbl&gt;</th></tr>\n",
              "</thead>\n",
              "<tbody>\n",
              "\t<tr><td> 1</td><td>10.036665</td></tr>\n",
              "\t<tr><td> 2</td><td>10.816843</td></tr>\n",
              "\t<tr><td> 3</td><td>13.227076</td></tr>\n",
              "\t<tr><td> 4</td><td>13.938038</td></tr>\n",
              "\t<tr><td> 5</td><td>12.986859</td></tr>\n",
              "\t<tr><td> 6</td><td>20.846332</td></tr>\n",
              "\t<tr><td> 7</td><td>21.727787</td></tr>\n",
              "\t<tr><td> 8</td><td>12.611040</td></tr>\n",
              "\t<tr><td> 9</td><td> 6.722476</td></tr>\n",
              "\t<tr><td>10</td><td> 6.243988</td></tr>\n",
              "\t<tr><td>11</td><td> 5.435362</td></tr>\n",
              "\t<tr><td>12</td><td>16.576688</td></tr>\n",
              "</tbody>\n",
              "</table>\n"
            ],
            "text/markdown": "\nA tibble: 12 × 2\n\n| month &lt;int&gt; | avg_delay &lt;dbl&gt; |\n|---|---|\n|  1 | 10.036665 |\n|  2 | 10.816843 |\n|  3 | 13.227076 |\n|  4 | 13.938038 |\n|  5 | 12.986859 |\n|  6 | 20.846332 |\n|  7 | 21.727787 |\n|  8 | 12.611040 |\n|  9 |  6.722476 |\n| 10 |  6.243988 |\n| 11 |  5.435362 |\n| 12 | 16.576688 |\n\n",
            "text/latex": "A tibble: 12 × 2\n\\begin{tabular}{ll}\n month & avg\\_delay\\\\\n <int> & <dbl>\\\\\n\\hline\n\t  1 & 10.036665\\\\\n\t  2 & 10.816843\\\\\n\t  3 & 13.227076\\\\\n\t  4 & 13.938038\\\\\n\t  5 & 12.986859\\\\\n\t  6 & 20.846332\\\\\n\t  7 & 21.727787\\\\\n\t  8 & 12.611040\\\\\n\t  9 &  6.722476\\\\\n\t 10 &  6.243988\\\\\n\t 11 &  5.435362\\\\\n\t 12 & 16.576688\\\\\n\\end{tabular}\n",
            "text/plain": [
              "   month avg_delay\n",
              "1   1    10.036665\n",
              "2   2    10.816843\n",
              "3   3    13.227076\n",
              "4   4    13.938038\n",
              "5   5    12.986859\n",
              "6   6    20.846332\n",
              "7   7    21.727787\n",
              "8   8    12.611040\n",
              "9   9     6.722476\n",
              "10 10     6.243988\n",
              "11 11     5.435362\n",
              "12 12    16.576688"
            ]
          },
          "metadata": {}
        }
      ],
      "source": [
        "# summarize average departure delay by month.\n",
        "\n",
        "group_by(flights, month) %>%\n",
        "  summarize(avg_delay = mean(dep_delay, na.rm = T))"
      ]
    },
    {
      "cell_type": "markdown",
      "metadata": {
        "id": "w-WFGCAbEA0x"
      },
      "source": [
        "### Example: counting the number of rows\n",
        "The `n()` function calculates the number of rows in each group:"
      ]
    },
    {
      "cell_type": "code",
      "execution_count": null,
      "metadata": {
        "id": "0BRgONkwEA0x"
      },
      "outputs": [],
      "source": [
        "# count the number of rows in flights for each month"
      ]
    },
    {
      "cell_type": "markdown",
      "metadata": {
        "id": "FWl9uG2wEA0x"
      },
      "source": [
        "### A shortcut\n",
        "`summarize(n = n())` occurs so often that there is a shortcut for it:"
      ]
    },
    {
      "cell_type": "code",
      "execution_count": null,
      "metadata": {
        "id": "76cC6ruLEA0x"
      },
      "outputs": [],
      "source": [
        "# use count() instead of group_by or summarize"
      ]
    },
    {
      "cell_type": "markdown",
      "metadata": {
        "id": "8Vwxc6r-EA0y"
      },
      "source": [
        "Let's think about how to answer the following question using `summarize`:"
      ]
    },
    {
      "cell_type": "markdown",
      "metadata": {
        "id": "NGjcnnbiPQDm"
      },
      "source": [
        "### Adding background for your plots\n",
        "\n"
      ]
    },
    {
      "cell_type": "code",
      "execution_count": null,
      "metadata": {
        "id": "x9kqgCN4PQDm",
        "outputId": "f76f1137-0460-4977-eea6-84c71afee9f8"
      },
      "outputs": [
        {
          "name": "stderr",
          "output_type": "stream",
          "text": [
            "Warning message:\n",
            "“\u001b[1m\u001b[22mRemoved 6 rows containing non-finite values (`stat_boxplot()`).”\n"
          ]
        },
        {
          "data": {
            "application/pdf": "[encoded data removed]",
            "image/jpeg": "[encoded data removed]",
            "image/png": "[encoded data removed]",
            "image/svg+xml": [
              "<?xml version=\"1.0\" encoding=\"UTF-8\"?>\n",
              "<svg xmlns=\"http://www.w3.org/2000/svg\" xmlns:xlink=\"http://www.w3.org/1999/xlink\" width=\"504pt\" height=\"504pt\" viewBox=\"0 0 504 504\" version=\"1.1\">\n",
              "<defs>\n",
              "<g>\n",
              "<symbol overflow=\"visible\" id=\"glyph0-0\">\n",
              "<path style=\"stroke:none;\" d=\"M 0.296875 0 L 0.296875 -5.859375 L 2.625 -5.859375 L 2.625 0 Z M 0.578125 -0.296875 L 2.34375 -0.296875 L 2.34375 -5.578125 L 0.578125 -5.578125 Z M 0.578125 -0.296875 \"/>\n",
              "</symbol>\n",
              "<symbol overflow=\"visible\" id=\"glyph0-1\">\n",
              "<path style=\"stroke:none;\" d=\"M 0.671875 0 L 0.671875 -0.65625 L 2.21875 -0.65625 L 2.21875 -5.3125 L 0.84375 -4.34375 L 0.84375 -5.0625 L 2.28125 -6.046875 L 2.984375 -6.046875 L 2.984375 -0.65625 L 4.46875 -0.65625 L 4.46875 0 Z M 0.671875 0 \"/>\n",
              "</symbol>\n",
              "<symbol overflow=\"visible\" id=\"glyph0-2\">\n",
              "<path style=\"stroke:none;\" d=\"M 4.546875 -3.03125 C 4.546875 -2.445312 4.488281 -1.957031 4.375 -1.5625 C 4.269531 -1.164062 4.117188 -0.84375 3.921875 -0.59375 C 3.734375 -0.351562 3.507812 -0.179688 3.25 -0.078125 C 3 0.0234375 2.726562 0.078125 2.4375 0.078125 C 2.144531 0.078125 1.867188 0.0234375 1.609375 -0.078125 C 1.359375 -0.179688 1.140625 -0.351562 0.953125 -0.59375 C 0.765625 -0.84375 0.613281 -1.164062 0.5 -1.5625 C 0.394531 -1.957031 0.34375 -2.445312 0.34375 -3.03125 C 0.34375 -3.632812 0.394531 -4.132812 0.5 -4.53125 C 0.613281 -4.9375 0.765625 -5.257812 0.953125 -5.5 C 1.140625 -5.738281 1.359375 -5.90625 1.609375 -6 C 1.867188 -6.09375 2.15625 -6.140625 2.46875 -6.140625 C 2.75 -6.140625 3.015625 -6.09375 3.265625 -6 C 3.523438 -5.90625 3.75 -5.738281 3.9375 -5.5 C 4.125 -5.257812 4.269531 -4.9375 4.375 -4.53125 C 4.488281 -4.132812 4.546875 -3.632812 4.546875 -3.03125 Z M 3.765625 -3.03125 C 3.765625 -3.507812 3.734375 -3.90625 3.671875 -4.21875 C 3.617188 -4.539062 3.535156 -4.796875 3.421875 -4.984375 C 3.304688 -5.179688 3.164062 -5.316406 3 -5.390625 C 2.84375 -5.472656 2.664062 -5.515625 2.46875 -5.515625 C 2.25 -5.515625 2.054688 -5.472656 1.890625 -5.390625 C 1.722656 -5.316406 1.582031 -5.179688 1.46875 -4.984375 C 1.351562 -4.796875 1.265625 -4.539062 1.203125 -4.21875 C 1.148438 -3.90625 1.125 -3.507812 1.125 -3.03125 C 1.125 -2.5625 1.148438 -2.164062 1.203125 -1.84375 C 1.265625 -1.53125 1.351562 -1.273438 1.46875 -1.078125 C 1.582031 -0.890625 1.71875 -0.753906 1.875 -0.671875 C 2.039062 -0.585938 2.226562 -0.546875 2.4375 -0.546875 C 2.644531 -0.546875 2.828125 -0.585938 2.984375 -0.671875 C 3.148438 -0.753906 3.289062 -0.890625 3.40625 -1.078125 C 3.519531 -1.273438 3.609375 -1.53125 3.671875 -1.84375 C 3.734375 -2.164062 3.765625 -2.5625 3.765625 -3.03125 Z M 3.765625 -3.03125 \"/>\n",
              "</symbol>\n",
              "<symbol overflow=\"visible\" id=\"glyph0-3\">\n",
              "<path style=\"stroke:none;\" d=\"M 4.515625 -1.96875 C 4.515625 -1.664062 4.46875 -1.390625 4.375 -1.140625 C 4.289062 -0.890625 4.15625 -0.671875 3.96875 -0.484375 C 3.789062 -0.304688 3.566406 -0.164062 3.296875 -0.0625 C 3.035156 0.03125 2.726562 0.078125 2.375 0.078125 C 2.0625 0.078125 1.785156 0.0390625 1.546875 -0.03125 C 1.304688 -0.101562 1.101562 -0.203125 0.9375 -0.328125 C 0.78125 -0.460938 0.648438 -0.613281 0.546875 -0.78125 C 0.453125 -0.957031 0.390625 -1.148438 0.359375 -1.359375 L 1.140625 -1.4375 C 1.171875 -1.320312 1.210938 -1.210938 1.265625 -1.109375 C 1.328125 -1.003906 1.40625 -0.910156 1.5 -0.828125 C 1.601562 -0.742188 1.722656 -0.675781 1.859375 -0.625 C 2.003906 -0.570312 2.179688 -0.546875 2.390625 -0.546875 C 2.585938 -0.546875 2.769531 -0.578125 2.9375 -0.640625 C 3.101562 -0.703125 3.242188 -0.789062 3.359375 -0.90625 C 3.472656 -1.03125 3.5625 -1.175781 3.625 -1.34375 C 3.6875 -1.519531 3.71875 -1.722656 3.71875 -1.953125 C 3.71875 -2.140625 3.6875 -2.3125 3.625 -2.46875 C 3.570312 -2.625 3.488281 -2.757812 3.375 -2.875 C 3.257812 -2.988281 3.117188 -3.078125 2.953125 -3.140625 C 2.796875 -3.203125 2.613281 -3.234375 2.40625 -3.234375 C 2.28125 -3.234375 2.160156 -3.21875 2.046875 -3.1875 C 1.941406 -3.164062 1.84375 -3.132812 1.75 -3.09375 C 1.65625 -3.0625 1.570312 -3.015625 1.5 -2.953125 C 1.425781 -2.898438 1.351562 -2.847656 1.28125 -2.796875 L 0.53125 -2.796875 L 0.734375 -6.046875 L 4.171875 -6.046875 L 4.171875 -5.390625 L 1.4375 -5.390625 L 1.3125 -3.46875 C 1.457031 -3.582031 1.628906 -3.675781 1.828125 -3.75 C 2.035156 -3.820312 2.28125 -3.859375 2.5625 -3.859375 C 2.863281 -3.859375 3.132812 -3.8125 3.375 -3.71875 C 3.613281 -3.632812 3.816406 -3.503906 3.984375 -3.328125 C 4.160156 -3.160156 4.289062 -2.960938 4.375 -2.734375 C 4.46875 -2.503906 4.515625 -2.25 4.515625 -1.96875 Z M 4.515625 -1.96875 \"/>\n",
              "</symbol>\n",
              "<symbol overflow=\"visible\" id=\"glyph0-4\">\n",
              "<path style=\"stroke:none;\" d=\"M 0.4375 0 L 0.4375 -0.546875 C 0.582031 -0.878906 0.757812 -1.171875 0.96875 -1.421875 C 1.1875 -1.679688 1.410156 -1.914062 1.640625 -2.125 C 1.867188 -2.332031 2.097656 -2.523438 2.328125 -2.703125 C 2.554688 -2.878906 2.757812 -3.054688 2.9375 -3.234375 C 3.125 -3.410156 3.273438 -3.597656 3.390625 -3.796875 C 3.503906 -3.992188 3.5625 -4.210938 3.5625 -4.453125 C 3.5625 -4.628906 3.535156 -4.78125 3.484375 -4.90625 C 3.429688 -5.039062 3.351562 -5.148438 3.25 -5.234375 C 3.15625 -5.328125 3.039062 -5.394531 2.90625 -5.4375 C 2.769531 -5.476562 2.617188 -5.5 2.453125 -5.5 C 2.296875 -5.5 2.148438 -5.476562 2.015625 -5.4375 C 1.878906 -5.394531 1.757812 -5.332031 1.65625 -5.25 C 1.550781 -5.164062 1.460938 -5.054688 1.390625 -4.921875 C 1.328125 -4.796875 1.285156 -4.648438 1.265625 -4.484375 L 0.484375 -4.5625 C 0.503906 -4.78125 0.5625 -4.984375 0.65625 -5.171875 C 0.75 -5.359375 0.878906 -5.523438 1.046875 -5.671875 C 1.210938 -5.816406 1.410156 -5.929688 1.640625 -6.015625 C 1.878906 -6.097656 2.148438 -6.140625 2.453125 -6.140625 C 2.753906 -6.140625 3.019531 -6.101562 3.25 -6.03125 C 3.488281 -5.957031 3.6875 -5.847656 3.84375 -5.703125 C 4.007812 -5.566406 4.132812 -5.394531 4.21875 -5.1875 C 4.3125 -4.988281 4.359375 -4.753906 4.359375 -4.484375 C 4.359375 -4.273438 4.320312 -4.078125 4.25 -3.890625 C 4.175781 -3.710938 4.078125 -3.539062 3.953125 -3.375 C 3.828125 -3.207031 3.6875 -3.046875 3.53125 -2.890625 C 3.375 -2.742188 3.207031 -2.59375 3.03125 -2.4375 C 2.851562 -2.289062 2.675781 -2.144531 2.5 -2 C 2.320312 -1.863281 2.15625 -1.722656 2 -1.578125 C 1.84375 -1.429688 1.703125 -1.28125 1.578125 -1.125 C 1.453125 -0.976562 1.359375 -0.820312 1.296875 -0.65625 L 4.453125 -0.65625 L 4.453125 0 Z M 0.4375 0 \"/>\n",
              "</symbol>\n",
              "<symbol overflow=\"visible\" id=\"glyph0-5\">\n",
              "<path style=\"stroke:none;\" d=\"M 0.390625 -2 L 0.390625 -2.6875 L 2.53125 -2.6875 L 2.53125 -2 Z M 0.390625 -2 \"/>\n",
              "</symbol>\n",
              "<symbol overflow=\"visible\" id=\"glyph0-6\">\n",
              "<path style=\"stroke:none;\" d=\"M 0.796875 0 L 0.796875 -0.9375 L 1.640625 -0.9375 L 1.640625 0 Z M 0.796875 0 \"/>\n",
              "</symbol>\n",
              "<symbol overflow=\"visible\" id=\"glyph0-7\">\n",
              "<path style=\"stroke:none;\" d=\"M 3.78125 -1.375 L 3.78125 0 L 3.046875 0 L 3.046875 -1.375 L 0.203125 -1.375 L 0.203125 -1.96875 L 2.96875 -6.046875 L 3.78125 -6.046875 L 3.78125 -1.984375 L 4.640625 -1.984375 L 4.640625 -1.375 Z M 3.046875 -5.1875 C 3.046875 -5.164062 3.035156 -5.132812 3.015625 -5.09375 C 2.992188 -5.050781 2.96875 -5.003906 2.9375 -4.953125 C 2.90625 -4.898438 2.875 -4.847656 2.84375 -4.796875 C 2.8125 -4.742188 2.785156 -4.703125 2.765625 -4.671875 L 1.21875 -2.390625 C 1.195312 -2.359375 1.171875 -2.320312 1.140625 -2.28125 C 1.117188 -2.25 1.09375 -2.210938 1.0625 -2.171875 C 1.039062 -2.140625 1.015625 -2.101562 0.984375 -2.0625 C 0.953125 -2.03125 0.929688 -2.003906 0.921875 -1.984375 L 3.046875 -1.984375 Z M 3.046875 -5.1875 \"/>\n",
              "</symbol>\n",
              "<symbol overflow=\"visible\" id=\"glyph1-0\">\n",
              "<path style=\"stroke:none;\" d=\"M 0 -0.359375 L -7.328125 -0.359375 L -7.328125 -3.28125 L 0 -3.28125 Z M -0.359375 -0.734375 L -0.359375 -2.921875 L -6.96875 -2.921875 L -6.96875 -0.734375 Z M -0.359375 -0.734375 \"/>\n",
              "</symbol>\n",
              "<symbol overflow=\"visible\" id=\"glyph1-1\">\n",
              "<path style=\"stroke:none;\" d=\"M -4.8125 -1.703125 C -5.007812 -1.804688 -5.175781 -1.921875 -5.3125 -2.046875 C -5.457031 -2.171875 -5.570312 -2.304688 -5.65625 -2.453125 C -5.75 -2.609375 -5.816406 -2.773438 -5.859375 -2.953125 C -5.898438 -3.140625 -5.921875 -3.34375 -5.921875 -3.5625 C -5.921875 -3.9375 -5.867188 -4.238281 -5.765625 -4.46875 C -5.671875 -4.707031 -5.53125 -4.894531 -5.34375 -5.03125 C -5.164062 -5.175781 -4.953125 -5.273438 -4.703125 -5.328125 C -4.453125 -5.378906 -4.175781 -5.40625 -3.875 -5.40625 L 0 -5.40625 L 0 -4.4375 L -3.6875 -4.4375 C -3.9375 -4.4375 -4.148438 -4.421875 -4.328125 -4.390625 C -4.515625 -4.359375 -4.671875 -4.296875 -4.796875 -4.203125 C -4.921875 -4.117188 -5.015625 -4 -5.078125 -3.84375 C -5.140625 -3.6875 -5.171875 -3.484375 -5.171875 -3.234375 C -5.171875 -3.003906 -5.128906 -2.796875 -5.046875 -2.609375 C -4.960938 -2.429688 -4.84375 -2.273438 -4.6875 -2.140625 C -4.539062 -2.003906 -4.359375 -1.898438 -4.140625 -1.828125 C -3.929688 -1.765625 -3.691406 -1.734375 -3.421875 -1.734375 L 0 -1.734375 L 0 -0.765625 L -7.96875 -0.765625 L -7.96875 -1.734375 L -5.890625 -1.734375 C -5.773438 -1.734375 -5.65625 -1.726562 -5.53125 -1.71875 C -5.414062 -1.71875 -5.304688 -1.710938 -5.203125 -1.703125 C -5.109375 -1.703125 -5.023438 -1.695312 -4.953125 -1.6875 C -4.890625 -1.6875 -4.84375 -1.6875 -4.8125 -1.6875 Z M -4.8125 -1.703125 \"/>\n",
              "</symbol>\n",
              "<symbol overflow=\"visible\" id=\"glyph1-2\">\n",
              "<path style=\"stroke:none;\" d=\"M -2.703125 -1.484375 C -2.398438 -1.484375 -2.117188 -1.515625 -1.859375 -1.578125 C -1.609375 -1.640625 -1.390625 -1.734375 -1.203125 -1.859375 C -1.015625 -1.992188 -0.867188 -2.160156 -0.765625 -2.359375 C -0.671875 -2.566406 -0.625 -2.816406 -0.625 -3.109375 C -0.625 -3.523438 -0.707031 -3.859375 -0.875 -4.109375 C -1.039062 -4.359375 -1.253906 -4.53125 -1.515625 -4.625 L -1.265625 -5.46875 C -1.109375 -5.40625 -0.945312 -5.316406 -0.78125 -5.203125 C -0.613281 -5.097656 -0.460938 -4.953125 -0.328125 -4.765625 C -0.203125 -4.585938 -0.0976562 -4.363281 -0.015625 -4.09375 C 0.0664062 -3.820312 0.109375 -3.492188 0.109375 -3.109375 C 0.109375 -2.242188 -0.144531 -1.585938 -0.65625 -1.140625 C -1.164062 -0.691406 -1.925781 -0.46875 -2.9375 -0.46875 C -3.488281 -0.46875 -3.953125 -0.535156 -4.328125 -0.671875 C -4.703125 -0.804688 -5.007812 -0.988281 -5.25 -1.21875 C -5.488281 -1.457031 -5.660156 -1.734375 -5.765625 -2.046875 C -5.867188 -2.367188 -5.921875 -2.707031 -5.921875 -3.0625 C -5.921875 -3.550781 -5.84375 -3.957031 -5.6875 -4.28125 C -5.53125 -4.613281 -5.3125 -4.878906 -5.03125 -5.078125 C -4.75 -5.273438 -4.421875 -5.414062 -4.046875 -5.5 C -3.671875 -5.582031 -3.265625 -5.625 -2.828125 -5.625 L -2.703125 -5.625 Z M -3.4375 -4.625 C -4.050781 -4.570312 -4.5 -4.414062 -4.78125 -4.15625 C -5.0625 -3.90625 -5.203125 -3.535156 -5.203125 -3.046875 C -5.203125 -2.890625 -5.175781 -2.722656 -5.125 -2.546875 C -5.070312 -2.367188 -4.976562 -2.203125 -4.84375 -2.046875 C -4.71875 -1.898438 -4.539062 -1.773438 -4.3125 -1.671875 C -4.082031 -1.566406 -3.789062 -1.507812 -3.4375 -1.5 Z M -3.4375 -4.625 \"/>\n",
              "</symbol>\n",
              "<symbol overflow=\"visible\" id=\"glyph1-3\">\n",
              "<path style=\"stroke:none;\" d=\"M -7.046875 -0.734375 L -7.96875 -0.734375 L -7.96875 -1.703125 L -7.046875 -1.703125 Z M 0 -0.734375 L -5.8125 -0.734375 L -5.8125 -1.703125 L 0 -1.703125 Z M 0 -0.734375 \"/>\n",
              "</symbol>\n",
              "<symbol overflow=\"visible\" id=\"glyph1-4\">\n",
              "<path style=\"stroke:none;\" d=\"M 2.28125 -2.9375 C 2.28125 -2.601562 2.242188 -2.304688 2.171875 -2.046875 C 2.109375 -1.796875 2.015625 -1.578125 1.890625 -1.390625 C 1.765625 -1.210938 1.613281 -1.066406 1.4375 -0.953125 C 1.257812 -0.835938 1.0625 -0.753906 0.84375 -0.703125 L 0.703125 -1.671875 C 0.972656 -1.734375 1.179688 -1.875 1.328125 -2.09375 C 1.472656 -2.320312 1.546875 -2.613281 1.546875 -2.96875 C 1.546875 -3.1875 1.515625 -3.382812 1.453125 -3.5625 C 1.390625 -3.738281 1.289062 -3.890625 1.15625 -4.015625 C 1.03125 -4.148438 0.859375 -4.25 0.640625 -4.3125 C 0.421875 -4.382812 0.160156 -4.421875 -0.140625 -4.421875 L -1.078125 -4.421875 L -1.078125 -4.40625 C -0.929688 -4.332031 -0.789062 -4.242188 -0.65625 -4.140625 C -0.519531 -4.035156 -0.398438 -3.90625 -0.296875 -3.75 C -0.191406 -3.601562 -0.109375 -3.425781 -0.046875 -3.21875 C 0.015625 -3.019531 0.046875 -2.789062 0.046875 -2.53125 C 0.046875 -2.164062 -0.015625 -1.847656 -0.140625 -1.578125 C -0.265625 -1.316406 -0.445312 -1.101562 -0.6875 -0.9375 C -0.9375 -0.769531 -1.242188 -0.648438 -1.609375 -0.578125 C -1.984375 -0.503906 -2.410156 -0.46875 -2.890625 -0.46875 C -3.359375 -0.46875 -3.773438 -0.503906 -4.140625 -0.578125 C -4.515625 -0.648438 -4.832031 -0.773438 -5.09375 -0.953125 C -5.351562 -1.128906 -5.550781 -1.351562 -5.6875 -1.625 C -5.832031 -1.90625 -5.90625 -2.242188 -5.90625 -2.640625 C -5.90625 -3.054688 -5.8125 -3.414062 -5.625 -3.71875 C -5.4375 -4.019531 -5.164062 -4.253906 -4.8125 -4.421875 C -4.90625 -4.421875 -5.003906 -4.421875 -5.109375 -4.421875 C -5.222656 -4.429688 -5.328125 -4.4375 -5.421875 -4.4375 C -5.523438 -4.445312 -5.613281 -4.457031 -5.6875 -4.46875 C -5.757812 -4.476562 -5.800781 -4.484375 -5.8125 -4.484375 L -5.8125 -5.40625 C -5.78125 -5.40625 -5.722656 -5.398438 -5.640625 -5.390625 C -5.566406 -5.390625 -5.472656 -5.382812 -5.359375 -5.375 C -5.253906 -5.375 -5.132812 -5.375 -5 -5.375 C -4.875 -5.375 -4.742188 -5.375 -4.609375 -5.375 L -0.171875 -5.375 C 0.640625 -5.375 1.25 -5.171875 1.65625 -4.765625 C 2.070312 -4.367188 2.28125 -3.757812 2.28125 -2.9375 Z M -2.90625 -4.421875 C -3.3125 -4.421875 -3.65625 -4.375 -3.9375 -4.28125 C -4.226562 -4.195312 -4.460938 -4.082031 -4.640625 -3.9375 C -4.828125 -3.789062 -4.960938 -3.625 -5.046875 -3.4375 C -5.140625 -3.257812 -5.1875 -3.070312 -5.1875 -2.875 C -5.1875 -2.632812 -5.140625 -2.425781 -5.046875 -2.25 C -4.960938 -2.070312 -4.828125 -1.921875 -4.640625 -1.796875 C -4.460938 -1.679688 -4.226562 -1.597656 -3.9375 -1.546875 C -3.644531 -1.492188 -3.300781 -1.46875 -2.90625 -1.46875 C -2.488281 -1.46875 -2.132812 -1.492188 -1.84375 -1.546875 C -1.5625 -1.597656 -1.332031 -1.679688 -1.15625 -1.796875 C -0.976562 -1.910156 -0.851562 -2.054688 -0.78125 -2.234375 C -0.707031 -2.410156 -0.671875 -2.617188 -0.671875 -2.859375 C -0.671875 -3.054688 -0.710938 -3.242188 -0.796875 -3.421875 C -0.878906 -3.609375 -1.007812 -3.773438 -1.1875 -3.921875 C -1.363281 -4.066406 -1.59375 -4.1875 -1.875 -4.28125 C -2.15625 -4.375 -2.5 -4.421875 -2.90625 -4.421875 Z M -2.90625 -4.421875 \"/>\n",
              "</symbol>\n",
              "<symbol overflow=\"visible\" id=\"glyph1-5\">\n",
              "<path style=\"stroke:none;\" d=\"M -0.046875 -2.96875 C -0.00390625 -2.820312 0.0234375 -2.671875 0.046875 -2.515625 C 0.078125 -2.367188 0.09375 -2.195312 0.09375 -2 C 0.09375 -1.226562 -0.347656 -0.84375 -1.234375 -0.84375 L -5.109375 -0.84375 L -5.109375 -0.171875 L -5.8125 -0.171875 L -5.8125 -0.875 L -7.109375 -1.15625 L -7.109375 -1.8125 L -5.8125 -1.8125 L -5.8125 -2.875 L -5.109375 -2.875 L -5.109375 -1.8125 L -1.4375 -1.8125 C -1.15625 -1.8125 -0.957031 -1.851562 -0.84375 -1.9375 C -0.738281 -2.03125 -0.6875 -2.191406 -0.6875 -2.421875 C -0.6875 -2.515625 -0.691406 -2.601562 -0.703125 -2.6875 C -0.710938 -2.769531 -0.726562 -2.863281 -0.75 -2.96875 Z M -0.046875 -2.96875 \"/>\n",
              "</symbol>\n",
              "</g>\n",
              "<clipPath id=\"clip1\">\n",
              "  <path d=\"M 38.152344 5.480469 L 498.523438 5.480469 L 498.523438 484.589844 L 38.152344 484.589844 Z M 38.152344 5.480469 \"/>\n",
              "</clipPath>\n",
              "<clipPath id=\"clip2\">\n",
              "  <path d=\"M 38.152344 442 L 498.523438 442 L 498.523438 444 L 38.152344 444 Z M 38.152344 442 \"/>\n",
              "</clipPath>\n",
              "<clipPath id=\"clip3\">\n",
              "  <path d=\"M 38.152344 332 L 498.523438 332 L 498.523438 334 L 38.152344 334 Z M 38.152344 332 \"/>\n",
              "</clipPath>\n",
              "<clipPath id=\"clip4\">\n",
              "  <path d=\"M 38.152344 222 L 498.523438 222 L 498.523438 224 L 38.152344 224 Z M 38.152344 222 \"/>\n",
              "</clipPath>\n",
              "<clipPath id=\"clip5\">\n",
              "  <path d=\"M 38.152344 112 L 498.523438 112 L 498.523438 114 L 38.152344 114 Z M 38.152344 112 \"/>\n",
              "</clipPath>\n",
              "<clipPath id=\"clip6\">\n",
              "  <path d=\"M 100 5.480469 L 102 5.480469 L 102 484.589844 L 100 484.589844 Z M 100 5.480469 \"/>\n",
              "</clipPath>\n",
              "<clipPath id=\"clip7\">\n",
              "  <path d=\"M 212 5.480469 L 213 5.480469 L 213 484.589844 L 212 484.589844 Z M 212 5.480469 \"/>\n",
              "</clipPath>\n",
              "<clipPath id=\"clip8\">\n",
              "  <path d=\"M 323 5.480469 L 325 5.480469 L 325 484.589844 L 323 484.589844 Z M 323 5.480469 \"/>\n",
              "</clipPath>\n",
              "<clipPath id=\"clip9\">\n",
              "  <path d=\"M 435 5.480469 L 437 5.480469 L 437 484.589844 L 435 484.589844 Z M 435 5.480469 \"/>\n",
              "</clipPath>\n",
              "<clipPath id=\"clip10\">\n",
              "  <path d=\"M 38.152344 387 L 498.523438 387 L 498.523438 389 L 38.152344 389 Z M 38.152344 387 \"/>\n",
              "</clipPath>\n",
              "<clipPath id=\"clip11\">\n",
              "  <path d=\"M 38.152344 277 L 498.523438 277 L 498.523438 279 L 38.152344 279 Z M 38.152344 277 \"/>\n",
              "</clipPath>\n",
              "<clipPath id=\"clip12\">\n",
              "  <path d=\"M 38.152344 167 L 498.523438 167 L 498.523438 169 L 38.152344 169 Z M 38.152344 167 \"/>\n",
              "</clipPath>\n",
              "<clipPath id=\"clip13\">\n",
              "  <path d=\"M 38.152344 57 L 498.523438 57 L 498.523438 59 L 38.152344 59 Z M 38.152344 57 \"/>\n",
              "</clipPath>\n",
              "<clipPath id=\"clip14\">\n",
              "  <path d=\"M 44 5.480469 L 46 5.480469 L 46 484.589844 L 44 484.589844 Z M 44 5.480469 \"/>\n",
              "</clipPath>\n",
              "<clipPath id=\"clip15\">\n",
              "  <path d=\"M 156 5.480469 L 158 5.480469 L 158 484.589844 L 156 484.589844 Z M 156 5.480469 \"/>\n",
              "</clipPath>\n",
              "<clipPath id=\"clip16\">\n",
              "  <path d=\"M 267 5.480469 L 269 5.480469 L 269 484.589844 L 267 484.589844 Z M 267 5.480469 \"/>\n",
              "</clipPath>\n",
              "<clipPath id=\"clip17\">\n",
              "  <path d=\"M 379 5.480469 L 381 5.480469 L 381 484.589844 L 379 484.589844 Z M 379 5.480469 \"/>\n",
              "</clipPath>\n",
              "<clipPath id=\"clip18\">\n",
              "  <path d=\"M 491 5.480469 L 493 5.480469 L 493 484.589844 L 491 484.589844 Z M 491 5.480469 \"/>\n",
              "</clipPath>\n",
              "<clipPath id=\"clip19\">\n",
              "  <path d=\"M 38.152344 5.480469 L 498.523438 5.480469 L 498.523438 484.589844 L 38.152344 484.589844 Z M 38.152344 5.480469 \"/>\n",
              "</clipPath>\n",
              "</defs>\n",
              "<g id=\"surface87\">\n",
              "<rect x=\"0\" y=\"0\" width=\"504\" height=\"504\" style=\"fill:rgb(100%,100%,100%);fill-opacity:1;stroke:none;\"/>\n",
              "<rect x=\"0\" y=\"0\" width=\"504\" height=\"504\" style=\"fill:rgb(100%,100%,100%);fill-opacity:1;stroke:none;\"/>\n",
              "<path style=\"fill:none;stroke-width:1.066978;stroke-linecap:round;stroke-linejoin:round;stroke:rgb(100%,100%,100%);stroke-opacity:1;stroke-miterlimit:10;\" d=\"M 0 504 L 504 504 L 504 0 L 0 0 Z M 0 504 \"/>\n",
              "<g clip-path=\"url(#clip1)\" clip-rule=\"nonzero\">\n",
              "<path style=\" stroke:none;fill-rule:nonzero;fill:rgb(100%,100%,100%);fill-opacity:1;\" d=\"M 38.152344 484.589844 L 498.523438 484.589844 L 498.523438 5.480469 L 38.152344 5.480469 Z M 38.152344 484.589844 \"/>\n",
              "</g>\n",
              "<g clip-path=\"url(#clip2)\" clip-rule=\"nonzero\">\n",
              "<path style=\"fill:none;stroke-width:0.533489;stroke-linecap:butt;stroke-linejoin:round;stroke:rgb(92.156863%,92.156863%,92.156863%);stroke-opacity:1;stroke-miterlimit:10;\" d=\"M 38.152344 443.011719 L 498.519531 443.011719 \"/>\n",
              "</g>\n",
              "<g clip-path=\"url(#clip3)\" clip-rule=\"nonzero\">\n",
              "<path style=\"fill:none;stroke-width:0.533489;stroke-linecap:butt;stroke-linejoin:round;stroke:rgb(92.156863%,92.156863%,92.156863%);stroke-opacity:1;stroke-miterlimit:10;\" d=\"M 38.152344 333.023438 L 498.519531 333.023438 \"/>\n",
              "</g>\n",
              "<g clip-path=\"url(#clip4)\" clip-rule=\"nonzero\">\n",
              "<path style=\"fill:none;stroke-width:0.533489;stroke-linecap:butt;stroke-linejoin:round;stroke:rgb(92.156863%,92.156863%,92.156863%);stroke-opacity:1;stroke-miterlimit:10;\" d=\"M 38.152344 223.035156 L 498.519531 223.035156 \"/>\n",
              "</g>\n",
              "<g clip-path=\"url(#clip5)\" clip-rule=\"nonzero\">\n",
              "<path style=\"fill:none;stroke-width:0.533489;stroke-linecap:butt;stroke-linejoin:round;stroke:rgb(92.156863%,92.156863%,92.156863%);stroke-opacity:1;stroke-miterlimit:10;\" d=\"M 38.152344 113.046875 L 498.519531 113.046875 \"/>\n",
              "</g>\n",
              "<g clip-path=\"url(#clip6)\" clip-rule=\"nonzero\">\n",
              "<path style=\"fill:none;stroke-width:0.533489;stroke-linecap:butt;stroke-linejoin:round;stroke:rgb(92.156863%,92.156863%,92.156863%);stroke-opacity:1;stroke-miterlimit:10;\" d=\"M 100.929688 484.589844 L 100.929688 5.480469 \"/>\n",
              "</g>\n",
              "<g clip-path=\"url(#clip7)\" clip-rule=\"nonzero\">\n",
              "<path style=\"fill:none;stroke-width:0.533489;stroke-linecap:butt;stroke-linejoin:round;stroke:rgb(92.156863%,92.156863%,92.156863%);stroke-opacity:1;stroke-miterlimit:10;\" d=\"M 212.535156 484.589844 L 212.535156 5.480469 \"/>\n",
              "</g>\n",
              "<g clip-path=\"url(#clip8)\" clip-rule=\"nonzero\">\n",
              "<path style=\"fill:none;stroke-width:0.533489;stroke-linecap:butt;stroke-linejoin:round;stroke:rgb(92.156863%,92.156863%,92.156863%);stroke-opacity:1;stroke-miterlimit:10;\" d=\"M 324.136719 484.589844 L 324.136719 5.480469 \"/>\n",
              "</g>\n",
              "<g clip-path=\"url(#clip9)\" clip-rule=\"nonzero\">\n",
              "<path style=\"fill:none;stroke-width:0.533489;stroke-linecap:butt;stroke-linejoin:round;stroke:rgb(92.156863%,92.156863%,92.156863%);stroke-opacity:1;stroke-miterlimit:10;\" d=\"M 435.742188 484.589844 L 435.742188 5.480469 \"/>\n",
              "</g>\n",
              "<g clip-path=\"url(#clip10)\" clip-rule=\"nonzero\">\n",
              "<path style=\"fill:none;stroke-width:1.066978;stroke-linecap:butt;stroke-linejoin:round;stroke:rgb(92.156863%,92.156863%,92.156863%);stroke-opacity:1;stroke-miterlimit:10;\" d=\"M 38.152344 388.019531 L 498.519531 388.019531 \"/>\n",
              "</g>\n",
              "<g clip-path=\"url(#clip11)\" clip-rule=\"nonzero\">\n",
              "<path style=\"fill:none;stroke-width:1.066978;stroke-linecap:butt;stroke-linejoin:round;stroke:rgb(92.156863%,92.156863%,92.156863%);stroke-opacity:1;stroke-miterlimit:10;\" d=\"M 38.152344 278.03125 L 498.519531 278.03125 \"/>\n",
              "</g>\n",
              "<g clip-path=\"url(#clip12)\" clip-rule=\"nonzero\">\n",
              "<path style=\"fill:none;stroke-width:1.066978;stroke-linecap:butt;stroke-linejoin:round;stroke:rgb(92.156863%,92.156863%,92.156863%);stroke-opacity:1;stroke-miterlimit:10;\" d=\"M 38.152344 168.042969 L 498.519531 168.042969 \"/>\n",
              "</g>\n",
              "<g clip-path=\"url(#clip13)\" clip-rule=\"nonzero\">\n",
              "<path style=\"fill:none;stroke-width:1.066978;stroke-linecap:butt;stroke-linejoin:round;stroke:rgb(92.156863%,92.156863%,92.156863%);stroke-opacity:1;stroke-miterlimit:10;\" d=\"M 38.152344 58.054688 L 498.519531 58.054688 \"/>\n",
              "</g>\n",
              "<g clip-path=\"url(#clip14)\" clip-rule=\"nonzero\">\n",
              "<path style=\"fill:none;stroke-width:1.066978;stroke-linecap:butt;stroke-linejoin:round;stroke:rgb(92.156863%,92.156863%,92.156863%);stroke-opacity:1;stroke-miterlimit:10;\" d=\"M 45.125 484.589844 L 45.125 5.480469 \"/>\n",
              "</g>\n",
              "<g clip-path=\"url(#clip15)\" clip-rule=\"nonzero\">\n",
              "<path style=\"fill:none;stroke-width:1.066978;stroke-linecap:butt;stroke-linejoin:round;stroke:rgb(92.156863%,92.156863%,92.156863%);stroke-opacity:1;stroke-miterlimit:10;\" d=\"M 156.730469 484.589844 L 156.730469 5.480469 \"/>\n",
              "</g>\n",
              "<g clip-path=\"url(#clip16)\" clip-rule=\"nonzero\">\n",
              "<path style=\"fill:none;stroke-width:1.066978;stroke-linecap:butt;stroke-linejoin:round;stroke:rgb(92.156863%,92.156863%,92.156863%);stroke-opacity:1;stroke-miterlimit:10;\" d=\"M 268.335938 484.589844 L 268.335938 5.480469 \"/>\n",
              "</g>\n",
              "<g clip-path=\"url(#clip17)\" clip-rule=\"nonzero\">\n",
              "<path style=\"fill:none;stroke-width:1.066978;stroke-linecap:butt;stroke-linejoin:round;stroke:rgb(92.156863%,92.156863%,92.156863%);stroke-opacity:1;stroke-miterlimit:10;\" d=\"M 379.941406 484.589844 L 379.941406 5.480469 \"/>\n",
              "</g>\n",
              "<g clip-path=\"url(#clip18)\" clip-rule=\"nonzero\">\n",
              "<path style=\"fill:none;stroke-width:1.066978;stroke-linecap:butt;stroke-linejoin:round;stroke:rgb(92.156863%,92.156863%,92.156863%);stroke-opacity:1;stroke-miterlimit:10;\" d=\"M 491.546875 484.589844 L 491.546875 5.480469 \"/>\n",
              "</g>\n",
              "<path style=\"fill-rule:nonzero;fill:rgb(20%,20%,20%);fill-opacity:1;stroke-width:0.708661;stroke-linecap:round;stroke-linejoin:round;stroke:rgb(20%,20%,20%);stroke-opacity:1;stroke-miterlimit:10;\" d=\"M 270.289062 396.816406 C 270.289062 399.425781 266.378906 399.425781 266.378906 396.816406 C 266.378906 394.210938 270.289062 394.210938 270.289062 396.816406 \"/>\n",
              "<path style=\"fill-rule:nonzero;fill:rgb(20%,20%,20%);fill-opacity:1;stroke-width:0.708661;stroke-linecap:round;stroke-linejoin:round;stroke:rgb(20%,20%,20%);stroke-opacity:1;stroke-miterlimit:10;\" d=\"M 270.289062 394.617188 C 270.289062 397.226562 266.378906 397.226562 266.378906 394.617188 C 266.378906 392.011719 270.289062 392.011719 270.289062 394.617188 \"/>\n",
              "<path style=\"fill-rule:nonzero;fill:rgb(20%,20%,20%);fill-opacity:1;stroke-width:0.708661;stroke-linecap:round;stroke-linejoin:round;stroke:rgb(20%,20%,20%);stroke-opacity:1;stroke-miterlimit:10;\" d=\"M 270.289062 106.449219 C 270.289062 109.054688 266.378906 109.054688 266.378906 106.449219 C 266.378906 103.84375 270.289062 103.84375 270.289062 106.449219 \"/>\n",
              "<path style=\"fill-rule:nonzero;fill:rgb(20%,20%,20%);fill-opacity:1;stroke-width:0.708661;stroke-linecap:round;stroke-linejoin:round;stroke:rgb(20%,20%,20%);stroke-opacity:1;stroke-miterlimit:10;\" d=\"M 270.289062 462.8125 C 270.289062 465.417969 266.378906 465.417969 266.378906 462.8125 C 266.378906 460.203125 270.289062 460.203125 270.289062 462.8125 \"/>\n",
              "<path style=\"fill-rule:nonzero;fill:rgb(20%,20%,20%);fill-opacity:1;stroke-width:0.708661;stroke-linecap:round;stroke-linejoin:round;stroke:rgb(20%,20%,20%);stroke-opacity:1;stroke-miterlimit:10;\" d=\"M 270.289062 414.417969 C 270.289062 417.023438 266.378906 417.023438 266.378906 414.417969 C 266.378906 411.808594 270.289062 411.808594 270.289062 414.417969 \"/>\n",
              "<path style=\"fill-rule:nonzero;fill:rgb(20%,20%,20%);fill-opacity:1;stroke-width:0.708661;stroke-linecap:round;stroke-linejoin:round;stroke:rgb(20%,20%,20%);stroke-opacity:1;stroke-miterlimit:10;\" d=\"M 270.289062 361.621094 C 270.289062 364.226562 266.378906 364.226562 266.378906 361.621094 C 266.378906 359.015625 270.289062 359.015625 270.289062 361.621094 \"/>\n",
              "<path style=\"fill-rule:nonzero;fill:rgb(20%,20%,20%);fill-opacity:1;stroke-width:0.708661;stroke-linecap:round;stroke-linejoin:round;stroke:rgb(20%,20%,20%);stroke-opacity:1;stroke-miterlimit:10;\" d=\"M 270.289062 401.21875 C 270.289062 403.824219 266.378906 403.824219 266.378906 401.21875 C 266.378906 398.613281 270.289062 398.613281 270.289062 401.21875 \"/>\n",
              "<path style=\"fill-rule:nonzero;fill:rgb(20%,20%,20%);fill-opacity:1;stroke-width:0.708661;stroke-linecap:round;stroke-linejoin:round;stroke:rgb(20%,20%,20%);stroke-opacity:1;stroke-miterlimit:10;\" d=\"M 270.289062 339.625 C 270.289062 342.230469 266.378906 342.230469 266.378906 339.625 C 266.378906 337.019531 270.289062 337.019531 270.289062 339.625 \"/>\n",
              "<path style=\"fill-rule:nonzero;fill:rgb(20%,20%,20%);fill-opacity:1;stroke-width:0.708661;stroke-linecap:round;stroke-linejoin:round;stroke:rgb(20%,20%,20%);stroke-opacity:1;stroke-miterlimit:10;\" d=\"M 270.289062 27.257812 C 270.289062 29.863281 266.378906 29.863281 266.378906 27.257812 C 266.378906 24.652344 270.289062 24.652344 270.289062 27.257812 \"/>\n",
              "<path style=\"fill-rule:nonzero;fill:rgb(20%,20%,20%);fill-opacity:1;stroke-width:0.708661;stroke-linecap:round;stroke-linejoin:round;stroke:rgb(20%,20%,20%);stroke-opacity:1;stroke-miterlimit:10;\" d=\"M 270.289062 104.25 C 270.289062 106.855469 266.378906 106.855469 266.378906 104.25 C 266.378906 101.644531 270.289062 101.644531 270.289062 104.25 \"/>\n",
              "<path style=\"fill-rule:nonzero;fill:rgb(20%,20%,20%);fill-opacity:1;stroke-width:0.708661;stroke-linecap:round;stroke-linejoin:round;stroke:rgb(20%,20%,20%);stroke-opacity:1;stroke-miterlimit:10;\" d=\"M 270.289062 434.214844 C 270.289062 436.820312 266.378906 436.820312 266.378906 434.214844 C 266.378906 431.609375 270.289062 431.609375 270.289062 434.214844 \"/>\n",
              "<path style=\"fill-rule:nonzero;fill:rgb(20%,20%,20%);fill-opacity:1;stroke-width:0.708661;stroke-linecap:round;stroke-linejoin:round;stroke:rgb(20%,20%,20%);stroke-opacity:1;stroke-miterlimit:10;\" d=\"M 270.289062 396.816406 C 270.289062 399.425781 266.378906 399.425781 266.378906 396.816406 C 266.378906 394.210938 270.289062 394.210938 270.289062 396.816406 \"/>\n",
              "<path style=\"fill-rule:nonzero;fill:rgb(20%,20%,20%);fill-opacity:1;stroke-width:0.708661;stroke-linecap:round;stroke-linejoin:round;stroke:rgb(20%,20%,20%);stroke-opacity:1;stroke-miterlimit:10;\" d=\"M 270.289062 93.25 C 270.289062 95.855469 266.378906 95.855469 266.378906 93.25 C 266.378906 90.644531 270.289062 90.644531 270.289062 93.25 \"/>\n",
              "<path style=\"fill:none;stroke-width:1.066978;stroke-linecap:butt;stroke-linejoin:round;stroke:rgb(20%,20%,20%);stroke-opacity:1;stroke-miterlimit:10;\" d=\"M 268.335938 187.839844 L 268.335938 115.246094 \"/>\n",
              "<path style=\"fill:none;stroke-width:1.066978;stroke-linecap:butt;stroke-linejoin:round;stroke:rgb(20%,20%,20%);stroke-opacity:1;stroke-miterlimit:10;\" d=\"M 268.335938 240.632812 L 268.335938 306.628906 \"/>\n",
              "<path style=\"fill-rule:nonzero;fill:rgb(100%,100%,100%);fill-opacity:1;stroke-width:1.066978;stroke-linecap:butt;stroke-linejoin:miter;stroke:rgb(20%,20%,20%);stroke-opacity:1;stroke-miterlimit:10;\" d=\"M 59.078125 187.839844 L 59.078125 240.632812 L 477.59375 240.632812 L 477.59375 187.839844 Z M 59.078125 187.839844 \"/>\n",
              "<path style=\"fill:none;stroke-width:2.133957;stroke-linecap:butt;stroke-linejoin:miter;stroke:rgb(20%,20%,20%);stroke-opacity:1;stroke-miterlimit:10;\" d=\"M 59.078125 212.039062 L 477.59375 212.039062 \"/>\n",
              "<g clip-path=\"url(#clip19)\" clip-rule=\"nonzero\">\n",
              "<path style=\"fill:none;stroke-width:1.066978;stroke-linecap:round;stroke-linejoin:round;stroke:rgb(20%,20%,20%);stroke-opacity:1;stroke-miterlimit:10;\" d=\"M 38.152344 484.589844 L 498.523438 484.589844 L 498.523438 5.480469 L 38.152344 5.480469 Z M 38.152344 484.589844 \"/>\n",
              "</g>\n",
              "<g style=\"fill:rgb(30.196078%,30.196078%,30.196078%);fill-opacity:1;\">\n",
              "  <use xlink:href=\"#glyph0-1\" x=\"18.21875\" y=\"391.485352\"/>\n",
              "  <use xlink:href=\"#glyph0-2\" x=\"23.21875\" y=\"391.485352\"/>\n",
              "  <use xlink:href=\"#glyph0-2\" x=\"28.21875\" y=\"391.485352\"/>\n",
              "</g>\n",
              "<g style=\"fill:rgb(30.196078%,30.196078%,30.196078%);fill-opacity:1;\">\n",
              "  <use xlink:href=\"#glyph0-1\" x=\"18.21875\" y=\"281.49707\"/>\n",
              "  <use xlink:href=\"#glyph0-3\" x=\"23.21875\" y=\"281.49707\"/>\n",
              "  <use xlink:href=\"#glyph0-2\" x=\"28.21875\" y=\"281.49707\"/>\n",
              "</g>\n",
              "<g style=\"fill:rgb(30.196078%,30.196078%,30.196078%);fill-opacity:1;\">\n",
              "  <use xlink:href=\"#glyph0-4\" x=\"18.21875\" y=\"171.508789\"/>\n",
              "  <use xlink:href=\"#glyph0-2\" x=\"23.21875\" y=\"171.508789\"/>\n",
              "  <use xlink:href=\"#glyph0-2\" x=\"28.21875\" y=\"171.508789\"/>\n",
              "</g>\n",
              "<g style=\"fill:rgb(30.196078%,30.196078%,30.196078%);fill-opacity:1;\">\n",
              "  <use xlink:href=\"#glyph0-4\" x=\"18.21875\" y=\"61.520508\"/>\n",
              "  <use xlink:href=\"#glyph0-3\" x=\"23.21875\" y=\"61.520508\"/>\n",
              "  <use xlink:href=\"#glyph0-2\" x=\"28.21875\" y=\"61.520508\"/>\n",
              "</g>\n",
              "<path style=\"fill:none;stroke-width:1.066978;stroke-linecap:butt;stroke-linejoin:round;stroke:rgb(20%,20%,20%);stroke-opacity:1;stroke-miterlimit:10;\" d=\"M 35.410156 388.019531 L 38.152344 388.019531 \"/>\n",
              "<path style=\"fill:none;stroke-width:1.066978;stroke-linecap:butt;stroke-linejoin:round;stroke:rgb(20%,20%,20%);stroke-opacity:1;stroke-miterlimit:10;\" d=\"M 35.410156 278.03125 L 38.152344 278.03125 \"/>\n",
              "<path style=\"fill:none;stroke-width:1.066978;stroke-linecap:butt;stroke-linejoin:round;stroke:rgb(20%,20%,20%);stroke-opacity:1;stroke-miterlimit:10;\" d=\"M 35.410156 168.042969 L 38.152344 168.042969 \"/>\n",
              "<path style=\"fill:none;stroke-width:1.066978;stroke-linecap:butt;stroke-linejoin:round;stroke:rgb(20%,20%,20%);stroke-opacity:1;stroke-miterlimit:10;\" d=\"M 35.410156 58.054688 L 38.152344 58.054688 \"/>\n",
              "<path style=\"fill:none;stroke-width:1.066978;stroke-linecap:butt;stroke-linejoin:round;stroke:rgb(20%,20%,20%);stroke-opacity:1;stroke-miterlimit:10;\" d=\"M 45.125 487.328125 L 45.125 484.589844 \"/>\n",
              "<path style=\"fill:none;stroke-width:1.066978;stroke-linecap:butt;stroke-linejoin:round;stroke:rgb(20%,20%,20%);stroke-opacity:1;stroke-miterlimit:10;\" d=\"M 156.730469 487.328125 L 156.730469 484.589844 \"/>\n",
              "<path style=\"fill:none;stroke-width:1.066978;stroke-linecap:butt;stroke-linejoin:round;stroke:rgb(20%,20%,20%);stroke-opacity:1;stroke-miterlimit:10;\" d=\"M 268.335938 487.328125 L 268.335938 484.589844 \"/>\n",
              "<path style=\"fill:none;stroke-width:1.066978;stroke-linecap:butt;stroke-linejoin:round;stroke:rgb(20%,20%,20%);stroke-opacity:1;stroke-miterlimit:10;\" d=\"M 379.941406 487.328125 L 379.941406 484.589844 \"/>\n",
              "<path style=\"fill:none;stroke-width:1.066978;stroke-linecap:butt;stroke-linejoin:round;stroke:rgb(20%,20%,20%);stroke-opacity:1;stroke-miterlimit:10;\" d=\"M 491.546875 487.328125 L 491.546875 484.589844 \"/>\n",
              "<g style=\"fill:rgb(30.196078%,30.196078%,30.196078%);fill-opacity:1;\">\n",
              "  <use xlink:href=\"#glyph0-5\" x=\"37.625\" y=\"496.485352\"/>\n",
              "  <use xlink:href=\"#glyph0-2\" x=\"40.625\" y=\"496.485352\"/>\n",
              "  <use xlink:href=\"#glyph0-6\" x=\"45.625\" y=\"496.485352\"/>\n",
              "  <use xlink:href=\"#glyph0-7\" x=\"47.625\" y=\"496.485352\"/>\n",
              "</g>\n",
              "<g style=\"fill:rgb(30.196078%,30.196078%,30.196078%);fill-opacity:1;\">\n",
              "  <use xlink:href=\"#glyph0-5\" x=\"149.230469\" y=\"496.485352\"/>\n",
              "  <use xlink:href=\"#glyph0-2\" x=\"152.230469\" y=\"496.485352\"/>\n",
              "  <use xlink:href=\"#glyph0-6\" x=\"157.230469\" y=\"496.485352\"/>\n",
              "  <use xlink:href=\"#glyph0-4\" x=\"159.230469\" y=\"496.485352\"/>\n",
              "</g>\n",
              "<g style=\"fill:rgb(30.196078%,30.196078%,30.196078%);fill-opacity:1;\">\n",
              "  <use xlink:href=\"#glyph0-2\" x=\"262.335938\" y=\"496.485352\"/>\n",
              "  <use xlink:href=\"#glyph0-6\" x=\"267.335938\" y=\"496.485352\"/>\n",
              "  <use xlink:href=\"#glyph0-2\" x=\"269.335938\" y=\"496.485352\"/>\n",
              "</g>\n",
              "<g style=\"fill:rgb(30.196078%,30.196078%,30.196078%);fill-opacity:1;\">\n",
              "  <use xlink:href=\"#glyph0-2\" x=\"373.941406\" y=\"496.485352\"/>\n",
              "  <use xlink:href=\"#glyph0-6\" x=\"378.941406\" y=\"496.485352\"/>\n",
              "  <use xlink:href=\"#glyph0-4\" x=\"380.941406\" y=\"496.485352\"/>\n",
              "</g>\n",
              "<g style=\"fill:rgb(30.196078%,30.196078%,30.196078%);fill-opacity:1;\">\n",
              "  <use xlink:href=\"#glyph0-2\" x=\"485.546875\" y=\"496.485352\"/>\n",
              "  <use xlink:href=\"#glyph0-6\" x=\"490.546875\" y=\"496.485352\"/>\n",
              "  <use xlink:href=\"#glyph0-7\" x=\"492.546875\" y=\"496.485352\"/>\n",
              "</g>\n",
              "<g style=\"fill:rgb(0%,0%,0%);fill-opacity:1;\">\n",
              "  <use xlink:href=\"#glyph1-1\" x=\"13.438477\" y=\"259.535156\"/>\n",
              "  <use xlink:href=\"#glyph1-2\" x=\"13.438477\" y=\"253.535156\"/>\n",
              "  <use xlink:href=\"#glyph1-3\" x=\"13.438477\" y=\"247.535156\"/>\n",
              "  <use xlink:href=\"#glyph1-4\" x=\"13.438477\" y=\"245.535156\"/>\n",
              "  <use xlink:href=\"#glyph1-1\" x=\"13.438477\" y=\"239.535156\"/>\n",
              "  <use xlink:href=\"#glyph1-5\" x=\"13.438477\" y=\"233.535156\"/>\n",
              "</g>\n",
              "</g>\n",
              "</svg>\n"
            ],
            "text/plain": [
              "plot without title"
            ]
          },
          "metadata": {
            "application/pdf": {
              "height": 420,
              "width": 420
            },
            "image/jpeg": {
              "height": 420,
              "width": 420
            },
            "image/png": {
              "height": 420,
              "width": 420
            },
            "image/svg+xml": {
              "height": 420,
              "isolated": true,
              "width": 420
            }
          },
          "output_type": "display_data"
        }
      ],
      "source": [
        "ggplot(data = starwars, aes(y = height)) +\n",
        "  geom_boxplot() +\n",
        "  theme_bw()"
      ]
    }
  ],
  "metadata": {
    "celltoolbar": "Slideshow",
    "colab": {
      "provenance": []
    },
    "kernelspec": {
      "display_name": "R",
      "language": "R",
      "name": "ir"
    },
    "language_info": {
      "codemirror_mode": "r",
      "file_extension": ".r",
      "mimetype": "text/x-r-source",
      "name": "R",
      "pygments_lexer": "r",
      "version": "4.3.1"
    }
  },
  "nbformat": 4,
  "nbformat_minor": 0
}