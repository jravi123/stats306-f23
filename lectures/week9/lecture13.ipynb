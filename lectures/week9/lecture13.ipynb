{
 "cells": [
  {
   "cell_type": "code",
   "execution_count": 4,
   "metadata": {
    "colab": {
     "base_uri": "https://localhost:8080/"
    },
    "id": "YvUXzq0oYLDH",
    "outputId": "11dd219b-7ff9-4e4e-c062-bfac7c0eb1e4"
   },
   "outputs": [],
   "source": [
    "# install.packages('nycflights13')"
   ]
  },
  {
   "cell_type": "markdown",
   "metadata": {},
   "source": [
    "<img src = 'event.jpeg' >"
   ]
  },
  {
   "cell_type": "code",
   "execution_count": 1,
   "metadata": {
    "id": "5EqbjTKgXtpS"
   },
   "outputs": [
    {
     "name": "stderr",
     "output_type": "stream",
     "text": [
      "── \u001b[1mAttaching core tidyverse packages\u001b[22m ──────────────────────── tidyverse 2.0.0 ──\n",
      "\u001b[32m✔\u001b[39m \u001b[34mdplyr    \u001b[39m 1.1.2     \u001b[32m✔\u001b[39m \u001b[34mreadr    \u001b[39m 2.1.4\n",
      "\u001b[32m✔\u001b[39m \u001b[34mforcats  \u001b[39m 1.0.0     \u001b[32m✔\u001b[39m \u001b[34mstringr  \u001b[39m 1.5.0\n",
      "\u001b[32m✔\u001b[39m \u001b[34mggplot2  \u001b[39m 3.4.3     \u001b[32m✔\u001b[39m \u001b[34mtibble   \u001b[39m 3.2.1\n",
      "\u001b[32m✔\u001b[39m \u001b[34mlubridate\u001b[39m 1.9.2     \u001b[32m✔\u001b[39m \u001b[34mtidyr    \u001b[39m 1.3.0\n",
      "\u001b[32m✔\u001b[39m \u001b[34mpurrr    \u001b[39m 1.0.2     \n",
      "── \u001b[1mConflicts\u001b[22m ────────────────────────────────────────── tidyverse_conflicts() ──\n",
      "\u001b[31m✖\u001b[39m \u001b[34mdplyr\u001b[39m::\u001b[32mfilter()\u001b[39m masks \u001b[34mstats\u001b[39m::filter()\n",
      "\u001b[31m✖\u001b[39m \u001b[34mdplyr\u001b[39m::\u001b[32mlag()\u001b[39m    masks \u001b[34mstats\u001b[39m::lag()\n",
      "\u001b[36mℹ\u001b[39m Use the conflicted package (\u001b[3m\u001b[34m<http://conflicted.r-lib.org/>\u001b[39m\u001b[23m) to force all conflicts to become errors\n"
     ]
    }
   ],
   "source": [
    "library(tidyverse)"
   ]
  },
  {
   "cell_type": "markdown",
   "metadata": {
    "id": "u1iMhyVLXtpX"
   },
   "source": [
    "# Lecture 12: Strings and text data\n",
    "\n",
    "<div style=\"border: 1px double black; padding: 10px; margin: 10px\">\n",
    "\n",
    "**After today's lecture you will:**\n",
    "* Understand the basics of working with strings in R.\n",
    "* Convert data to strings.\n",
    "* Extract data from strings.\n",
    "</div>\n",
    "\n",
    "These notes correspond to Chapter 15 of your book.\n"
   ]
  },
  {
   "cell_type": "markdown",
   "metadata": {
    "id": "52QJy3SQXtpa"
   },
   "source": [
    "## Strings in R\n",
    "We have already encountered strings at many points in the class, but we didn't really discuss the details of how they work. "
   ]
  },
  {
   "cell_type": "markdown",
   "metadata": {
    "id": "30UnpcMEXtpc"
   },
   "source": [
    "In R, strings must be quoted:"
   ]
  },
  {
   "cell_type": "code",
   "execution_count": 6,
   "metadata": {
    "id": "UlWbw0zbXtpf",
    "outputId": "88eb7d27-1642-4e14-d773-9d3c34828134"
   },
   "outputs": [
    {
     "data": {
      "text/html": [
       "'MLE stands for Maximum Likelihood Estimate'"
      ],
      "text/latex": [
       "'MLE stands for Maximum Likelihood Estimate'"
      ],
      "text/markdown": [
       "'MLE stands for Maximum Likelihood Estimate'"
      ],
      "text/plain": [
       "[1] \"MLE stands for Maximum Likelihood Estimate\""
      ]
     },
     "metadata": {},
     "output_type": "display_data"
    }
   ],
   "source": [
    "my_string <- \"MLE stands for Maximum Likelihood Estimate\"\n",
    "my_string"
   ]
  },
  {
   "cell_type": "markdown",
   "metadata": {
    "id": "xy7ffCMLXtpf"
   },
   "source": [
    "Now what if I want `my_string` to contain a quotation?\n",
    "```\n",
    "> my_string <- \"\"MLE\" stands for \"Maximum Likelihood Estimate\"\"\n",
    "Error in parse(text = x, srcfile = src): <text>:1:16: unexpected symbol\n",
    "1: mystring3 <- \"\"MLE\n",
    "                   ^\n",
    "Traceback:\n",
    "```"
   ]
  },
  {
   "cell_type": "markdown",
   "metadata": {
    "id": "SABn6f52Xtpg"
   },
   "source": [
    "To create a string containing double quotes, while using double quotes to create it, you must *escape* the quotes using a backslash (`\\`):"
   ]
  },
  {
   "cell_type": "code",
   "execution_count": 8,
   "metadata": {
    "colab": {
     "base_uri": "https://localhost:8080/",
     "height": 34
    },
    "id": "PwcecV24Xtpg",
    "outputId": "35ca9748-34d6-4d19-ee6e-9ce360430091"
   },
   "outputs": [
    {
     "data": {
      "text/html": [
       "'\"MLE\" stands for \"Maximum Likelihood Estimate\"'"
      ],
      "text/latex": [
       "'\"MLE\" stands for \"Maximum Likelihood Estimate\"'"
      ],
      "text/markdown": [
       "'\"MLE\" stands for \"Maximum Likelihood Estimate\"'"
      ],
      "text/plain": [
       "[1] \"\\\"MLE\\\" stands for \\\"Maximum Likelihood Estimate\\\"\""
      ]
     },
     "metadata": {},
     "output_type": "display_data"
    }
   ],
   "source": [
    "my_string <- \"\\\"MLE\\\" stands for \\\"Maximum Likelihood Estimate\\\"\"\n",
    "my_string "
   ]
  },
  {
   "cell_type": "markdown",
   "metadata": {},
   "source": [
    "Which other way can you fix it?"
   ]
  },
  {
   "cell_type": "code",
   "execution_count": 9,
   "metadata": {},
   "outputs": [],
   "source": [
    "# another way of getting around this issue"
   ]
  },
  {
   "cell_type": "markdown",
   "metadata": {
    "id": "oDn7Q5O4Xtph"
   },
   "source": [
    "What if you actually want a backslash? Then you need to escape it as well:"
   ]
  },
  {
   "cell_type": "code",
   "execution_count": 12,
   "metadata": {
    "id": "FEUMMDm-Xtpi",
    "outputId": "47993dcc-9fba-4eb8-accc-63f5a6e21d8c"
   },
   "outputs": [
    {
     "data": {
      "text/html": [
       "'\\\\ is the backslash character'"
      ],
      "text/latex": [
       "'\\textbackslash{}\\textbackslash{} is the backslash character'"
      ],
      "text/markdown": [
       "'\\\\ is the backslash character'"
      ],
      "text/plain": [
       "[1] \"\\\\ is the backslash character\""
      ]
     },
     "metadata": {},
     "output_type": "display_data"
    }
   ],
   "source": [
    "\"\\\\ is the backslash character\""
   ]
  },
  {
   "cell_type": "markdown",
   "metadata": {
    "id": "lFAl5d5OXtpj"
   },
   "source": [
    "The printed representation of strings shows the escapes:"
   ]
  },
  {
   "cell_type": "code",
   "execution_count": 1,
   "metadata": {},
   "outputs": [
    {
     "data": {
      "text/html": [
       "'\"MLE\" stands for \"Maximum Likelihood Estimate\"'"
      ],
      "text/latex": [
       "'\"MLE\" stands for \"Maximum Likelihood Estimate\"'"
      ],
      "text/markdown": [
       "'\"MLE\" stands for \"Maximum Likelihood Estimate\"'"
      ],
      "text/plain": [
       "[1] \"\\\"MLE\\\" stands for \\\"Maximum Likelihood Estimate\\\"\""
      ]
     },
     "metadata": {},
     "output_type": "display_data"
    }
   ],
   "source": [
    "\"\\\"MLE\\\" stands for \\\"Maximum Likelihood Estimate\\\"\""
   ]
  },
  {
   "cell_type": "code",
   "execution_count": null,
   "metadata": {
    "id": "l5iESgO3Xtpk",
    "outputId": "e0fd55a4-928d-476c-9162-07a2cfece968"
   },
   "outputs": [
    {
     "name": "stdout",
     "output_type": "stream",
     "text": [
      "[1] \"\\\"MLE\\\" stands for \\\"Maximum Likelihood Estimate\\\"\"\n"
     ]
    }
   ],
   "source": [
    "print(\"\\\"MLE\\\" stands for \\\"Maximum Likelihood Estimate\\\"\")"
   ]
  },
  {
   "cell_type": "markdown",
   "metadata": {
    "id": "JeBeWaDkXtpl"
   },
   "source": [
    "## Special characters\n",
    "\n",
    "When used inside a string, `\\\"`, `\\'`, and `\\\\`, are \"special characters\". Some other special characters you will encounter:\n",
    "\n",
    "- `\\n` (new line), \n",
    "- `\\t`, tab. \n",
    "- `\\u` or `\\U`: Unicode."
   ]
  },
  {
   "cell_type": "markdown",
   "metadata": {
    "id": "WsHsDvD4Xtpl"
   },
   "source": [
    "### ASCII and unicode\n",
    "Early computers could only read and write the ASCII character set, essentially just roman letters, numbers and some punctuation.\n",
    "\n",
    "Nowadays, computers need to be able to understand alphabets from all over the world. For this we have *Unicode*."
   ]
  },
  {
   "cell_type": "markdown",
   "metadata": {
    "id": "F4ww5aE7Xtpl"
   },
   "source": [
    "You can print characters if you know their unicode using `\\u`. For example, the copyright character has unicode `00A9`. Wikipedia has [a complete list](https://en.wikipedia.org/wiki/List_of_Unicode_characters)."
   ]
  },
  {
   "cell_type": "code",
   "execution_count": null,
   "metadata": {
    "id": "yuj7q7jJXtpm",
    "outputId": "a6dd6afc-dc69-4de6-b887-f4e39b880de0",
    "scrolled": true
   },
   "outputs": [
    {
     "name": "stdout",
     "output_type": "stream",
     "text": [
      "[1] \"©\"\n"
     ]
    }
   ],
   "source": [
    "print(\"\\u00A9\")"
   ]
  },
  {
   "cell_type": "markdown",
   "metadata": {
    "id": "hUB3tI8sXtpm"
   },
   "source": [
    "## String functions in R\n",
    "\n",
    "Through the `stringr` package, `tidyverse` has a lot of useful functions for combining strings."
   ]
  },
  {
   "cell_type": "markdown",
   "metadata": {
    "id": "8AKEzBaRXtpm"
   },
   "source": [
    "### Combining strings\n",
    "Combining two strings into one is called \"concatenation\" by computer scientists and \"combining strings\" by everyone else. `concatenate` is hard to type, so it is abbreviated `str_c`:"
   ]
  },
  {
   "cell_type": "code",
   "execution_count": 40,
   "metadata": {
    "colab": {
     "base_uri": "https://localhost:8080/",
     "height": 52
    },
    "id": "jl67IK7HXtpn",
    "outputId": "21a90981-1275-4d31-9a90-ff38b5f2fd91"
   },
   "outputs": [
    {
     "name": "stdout",
     "output_type": "stream",
     "text": [
      "[1] \"a\" \"b\" \"c\"\n"
     ]
    },
    {
     "data": {
      "text/html": [
       "'abc'"
      ],
      "text/latex": [
       "'abc'"
      ],
      "text/markdown": [
       "'abc'"
      ],
      "text/plain": [
       "[1] \"abc\""
      ]
     },
     "metadata": {},
     "output_type": "display_data"
    }
   ],
   "source": [
    "c(\"a\", \"b\", \"c\") %>% print  # notice the difference!\n",
    "str_c(\"a\", \"b\", \"c\") \n",
    "# \"Let us con\", \n",
    "#       \" / \", \n",
    "#       \"catenate strings!\") %>% print"
   ]
  },
  {
   "cell_type": "markdown",
   "metadata": {
    "id": "tou_rSreXtpo"
   },
   "source": [
    "Another use of `str_c` is to combine multiple strings into one with a separator:"
   ]
  },
  {
   "cell_type": "code",
   "execution_count": null,
   "metadata": {
    "id": "V7RaRsVfXtpo",
    "outputId": "6befe97e-f74b-4283-c437-7bb478809ee9"
   },
   "outputs": [
    {
     "data": {
      "text/plain": [
       "[1] \"one, two, ten\""
      ]
     },
     "metadata": {},
     "output_type": "display_data"
    }
   ],
   "source": [
    "str_c(\"one\", \"two\", \"ten\", sep = \", \") # can provide a separator"
   ]
  },
  {
   "cell_type": "markdown",
   "metadata": {
    "id": "7aK8FttaXtpp"
   },
   "source": [
    "If you already know some R, you might recognize this as being equivalent to \n",
    "```{r} \n",
    "paste(\"one\", \"two\", \"ten\", sep=\", \")\n",
    "```"
   ]
  },
  {
   "cell_type": "markdown",
   "metadata": {
    "id": "ntbhGjt7Xtpp"
   },
   "source": [
    "### Flattening strings\n",
    "`str_flatten` will take a vector of strings and flatten them into one string."
   ]
  },
  {
   "cell_type": "code",
   "execution_count": 25,
   "metadata": {
    "colab": {
     "base_uri": "https://localhost:8080/",
     "height": 192
    },
    "id": "yiDE23vrXtpp",
    "outputId": "b70a0f0c-4793-4fa6-f6b7-0bdce2e51ff2"
   },
   "outputs": [
    {
     "data": {
      "text/html": [
       "<table class=\"dataframe\">\n",
       "<caption>A tibble: 3 × 2</caption>\n",
       "<thead>\n",
       "\t<tr><th scope=col>origin</th><th scope=col>carrier</th></tr>\n",
       "\t<tr><th scope=col>&lt;chr&gt;</th><th scope=col>&lt;chr&gt;</th></tr>\n",
       "</thead>\n",
       "<tbody>\n",
       "\t<tr><td>EWR</td><td>UA, B6, AA, MQ, DL, US, EV, AS, WN, 9E, VX, OO    </td></tr>\n",
       "\t<tr><td>JFK</td><td>AA, B6, UA, DL, US, VX, MQ, 9E, HA, EV            </td></tr>\n",
       "\t<tr><td>LGA</td><td>UA, DL, EV, AA, B6, MQ, WN, FL, US, F9, 9E, YV, OO</td></tr>\n",
       "</tbody>\n",
       "</table>\n"
      ],
      "text/latex": [
       "A tibble: 3 × 2\n",
       "\\begin{tabular}{ll}\n",
       " origin & carrier\\\\\n",
       " <chr> & <chr>\\\\\n",
       "\\hline\n",
       "\t EWR & UA, B6, AA, MQ, DL, US, EV, AS, WN, 9E, VX, OO    \\\\\n",
       "\t JFK & AA, B6, UA, DL, US, VX, MQ, 9E, HA, EV            \\\\\n",
       "\t LGA & UA, DL, EV, AA, B6, MQ, WN, FL, US, F9, 9E, YV, OO\\\\\n",
       "\\end{tabular}\n"
      ],
      "text/markdown": [
       "\n",
       "A tibble: 3 × 2\n",
       "\n",
       "| origin &lt;chr&gt; | carrier &lt;chr&gt; |\n",
       "|---|---|\n",
       "| EWR | UA, B6, AA, MQ, DL, US, EV, AS, WN, 9E, VX, OO     |\n",
       "| JFK | AA, B6, UA, DL, US, VX, MQ, 9E, HA, EV             |\n",
       "| LGA | UA, DL, EV, AA, B6, MQ, WN, FL, US, F9, 9E, YV, OO |\n",
       "\n"
      ],
      "text/plain": [
       "  origin carrier                                           \n",
       "1 EWR    UA, B6, AA, MQ, DL, US, EV, AS, WN, 9E, VX, OO    \n",
       "2 JFK    AA, B6, UA, DL, US, VX, MQ, 9E, HA, EV            \n",
       "3 LGA    UA, DL, EV, AA, B6, MQ, WN, FL, US, F9, 9E, YV, OO"
      ]
     },
     "metadata": {},
     "output_type": "display_data"
    }
   ],
   "source": [
    "# list all the air carriers flying out of each airport\n",
    "library(nycflights13)\n",
    "distinct(flights, origin, carrier) %>% \n",
    "  group_by(origin) %>% \n",
    "    summarize(carrier = str_flatten(carrier, \", \"))"
   ]
  },
  {
   "cell_type": "markdown",
   "metadata": {
    "id": "EIBKeJNDXtpp"
   },
   "source": [
    "### Extracting pieces of a string\n",
    "Sometimes we want only a portion of a string, say the first few or last characters. The `str_sub(str, start, stop)` function will extract substrings from a larger string. (Negative indexing will counts from the end.)"
   ]
  },
  {
   "cell_type": "code",
   "execution_count": null,
   "metadata": {
    "id": "2DWtqq7pXtpq",
    "outputId": "f85c456c-5c74-460f-a17f-2bb9f09fd006"
   },
   "outputs": [
    {
     "data": {
      "text/html": [
       "'sp'"
      ],
      "text/latex": [
       "'sp'"
      ],
      "text/markdown": [
       "'sp'"
      ],
      "text/plain": [
       "[1] \"sp\""
      ]
     },
     "metadata": {},
     "output_type": "display_data"
    },
    {
     "data": {
      "text/html": [
       "'un'"
      ],
      "text/latex": [
       "'un'"
      ],
      "text/markdown": [
       "'un'"
      ],
      "text/plain": [
       "[1] \"un\""
      ]
     },
     "metadata": {},
     "output_type": "display_data"
    },
    {
     "data": {
      "text/html": [
       "'t n'"
      ],
      "text/latex": [
       "'t n'"
      ],
      "text/markdown": [
       "'t n'"
      ],
      "text/plain": [
       "[1] \"t n\""
      ]
     },
     "metadata": {},
     "output_type": "display_data"
    },
    {
     "data": {
      "text/html": [
       "'t\\'s don'"
      ],
      "text/latex": [
       "'t\\textbackslash{}'s don'"
      ],
      "text/markdown": [
       "'t\\'s don'"
      ],
      "text/plain": [
       "[1] \"t's don\""
      ]
     },
     "metadata": {},
     "output_type": "display_data"
    }
   ],
   "source": [
    "str_sub('spring break!', 1, 2)  # first two characters\n",
    "str_sub('was fun', -2, -1)  # last two characters\n",
    "str_sub('but now', 3, 5)  # middle characters\n",
    "str_sub('it\\'s done', 2, -2) # everything except the first and last"
   ]
  },
  {
   "cell_type": "markdown",
   "metadata": {
    "id": "XLfb8P1kXtpq"
   },
   "source": [
    "## `separate_` functions\n",
    "`tidyverse` has some built-in functions designed to break apart and combine string data:\n",
    "- `separate_longer_delim`, `separate_longer_position`: combine multiple columns of string data into one.\n",
    "- `separate_wider_delim`, `separate_wider_position`: extract string data into multiple columns.\n",
    "These functions work analogously to `pivot_{wider,longer}`.\n"
   ]
  },
  {
   "cell_type": "markdown",
   "metadata": {
    "id": "0IcWL4hHXtpq"
   },
   "source": [
    "`separate_wider_delim` converts a delimited string into multiple columns of data. `separate_wider_position` does the same, but uses a fixed position."
   ]
  },
  {
   "cell_type": "code",
   "execution_count": 27,
   "metadata": {
    "colab": {
     "base_uri": "https://localhost:8080/",
     "height": 192
    },
    "id": "0qTQh-OuXtpr",
    "outputId": "31c4ba3c-ebed-42a6-afa1-eb7d60870a9e"
   },
   "outputs": [
    {
     "data": {
      "text/html": [
       "<table class=\"dataframe\">\n",
       "<caption>A tibble: 3 × 3</caption>\n",
       "<thead>\n",
       "\t<tr><th scope=col>code</th><th scope=col>edition</th><th scope=col>year</th></tr>\n",
       "\t<tr><th scope=col>&lt;chr&gt;</th><th scope=col>&lt;chr&gt;</th><th scope=col>&lt;chr&gt;</th></tr>\n",
       "</thead>\n",
       "<tbody>\n",
       "\t<tr><td>a10</td><td>1</td><td>2022</td></tr>\n",
       "\t<tr><td>b10</td><td>2</td><td>2011</td></tr>\n",
       "\t<tr><td>e15</td><td>1</td><td>2015</td></tr>\n",
       "</tbody>\n",
       "</table>\n"
      ],
      "text/latex": [
       "A tibble: 3 × 3\n",
       "\\begin{tabular}{lll}\n",
       " code & edition & year\\\\\n",
       " <chr> & <chr> & <chr>\\\\\n",
       "\\hline\n",
       "\t a10 & 1 & 2022\\\\\n",
       "\t b10 & 2 & 2011\\\\\n",
       "\t e15 & 1 & 2015\\\\\n",
       "\\end{tabular}\n"
      ],
      "text/markdown": [
       "\n",
       "A tibble: 3 × 3\n",
       "\n",
       "| code &lt;chr&gt; | edition &lt;chr&gt; | year &lt;chr&gt; |\n",
       "|---|---|---|\n",
       "| a10 | 1 | 2022 |\n",
       "| b10 | 2 | 2011 |\n",
       "| e15 | 1 | 2015 |\n",
       "\n"
      ],
      "text/plain": [
       "  code edition year\n",
       "1 a10  1       2022\n",
       "2 b10  2       2011\n",
       "3 e15  1       2015"
      ]
     },
     "metadata": {},
     "output_type": "display_data"
    }
   ],
   "source": [
    "df <- tibble(x = c(\"a10.1.2022\", \"b10.2.2011\", \"e15.1.2015\"))\n",
    "df %>%  separate_wider_delim(\n",
    "    x,\n",
    "    delim = \".\",\n",
    "    names = c(\"code\", \"edition\", \"year\")\n",
    "  )\n"
   ]
  },
  {
   "cell_type": "markdown",
   "metadata": {
    "id": "4FoHiLrzXtpr"
   },
   "source": [
    "## Harry Potter\n",
    "Let's practice some string analysis by looking at the text of Harry Potter:\n",
    "![harry potter](https://images-na.ssl-images-amazon.com/images/I/51HSkTKlauL._SX346_BO1,204,203,200_.jpg)"
   ]
  },
  {
   "cell_type": "code",
   "execution_count": 71,
   "metadata": {
    "colab": {
     "base_uri": "https://localhost:8080/"
    },
    "id": "H0lnZkCLXtpr",
    "outputId": "7319108d-7135-4c4f-953c-4f9e43174af2"
   },
   "outputs": [
    {
     "name": "stdout",
     "output_type": "stream",
     "text": [
      " chr [1:17] \"THE BOY WHO LIVED　　Mr. and Mrs. Dursley, of number four, Privet Drive, were proud to say that they were perfe\"| __truncated__ ...\n"
     ]
    }
   ],
   "source": [
    "# remotes::install_github(\"bradleyboehmke/harrypotter\")\n",
    "library(harrypotter)\n",
    "str(philosophers_stone)\n",
    "ch1 <- philosophers_stone[1]"
   ]
  },
  {
   "cell_type": "markdown",
   "metadata": {
    "id": "TLE5V56xXtpr"
   },
   "source": [
    "`philosophers_stone` is a list containing seventeen entries: one for each chapter of \"Harry Potter and the Sorcerer's Stone\" (titled differently in the U.K.)\n",
    "\n",
    "Instead of reading Harry Potter, we will analyze it like a data set."
   ]
  },
  {
   "cell_type": "markdown",
   "metadata": {
    "id": "XKgh8mRmXtps"
   },
   "source": [
    "Each entry of `philosophers_stone` is a *string*. There is one string per chapter, so they are pretty long. To figure out how long a string is, we can use the `str_length()` command:"
   ]
  },
  {
   "cell_type": "code",
   "execution_count": 72,
   "metadata": {
    "id": "8p8FryClXtps"
   },
   "outputs": [],
   "source": [
    "ch1 <- philosophers_stone[[1]]\n",
    "# length(philosophers_stone)\n",
    "# ch1"
   ]
  },
  {
   "cell_type": "markdown",
   "metadata": {},
   "source": [
    "Let us take a simple character vector to understand this expression"
   ]
  },
  {
   "cell_type": "code",
   "execution_count": 11,
   "metadata": {},
   "outputs": [
    {
     "name": "stdout",
     "output_type": "stream",
     "text": [
      "[1] \"abc\"\n",
      "[1] \"abc\"\n"
     ]
    },
    {
     "data": {
      "text/html": [
       "TRUE"
      ],
      "text/latex": [
       "TRUE"
      ],
      "text/markdown": [
       "TRUE"
      ],
      "text/plain": [
       "[1] TRUE"
      ]
     },
     "metadata": {},
     "output_type": "display_data"
    }
   ],
   "source": [
    "x = unlist(list('abc','xyz'))\n",
    "print(x[1])\n",
    "print(x[[1]])\n",
    "is.character(x)"
   ]
  },
  {
   "cell_type": "markdown",
   "metadata": {
    "id": "OjUyRZmDXtps"
   },
   "source": [
    "### Exercise\n",
    "What is the longest (in number of characters) chapter in Philosopher's Stone?\n",
    "* find using `str_length`  and `max` function"
   ]
  },
  {
   "cell_type": "code",
   "execution_count": 62,
   "metadata": {
    "id": "sQjg7mImXtps"
   },
   "outputs": [
    {
     "data": {
      "text/html": [
       "<style>\n",
       ".list-inline {list-style: none; margin:0; padding: 0}\n",
       ".list-inline>li {display: inline-block}\n",
       ".list-inline>li:not(:last-child)::after {content: \"\\00b7\"; padding: 0 .5ex}\n",
       "</style>\n",
       "<ol class=list-inline><li>25928</li><li>19181</li><li>21570</li><li>20429</li><li>37699</li><li>35057</li><li>25344</li><li>17249</li><li>28273</li><li>24211</li><li>19222</li><li>30782</li><li>18319</li><li>19591</li><li>29006</li><li>36464</li><li>31105</li></ol>\n"
      ],
      "text/latex": [
       "\\begin{enumerate*}\n",
       "\\item 25928\n",
       "\\item 19181\n",
       "\\item 21570\n",
       "\\item 20429\n",
       "\\item 37699\n",
       "\\item 35057\n",
       "\\item 25344\n",
       "\\item 17249\n",
       "\\item 28273\n",
       "\\item 24211\n",
       "\\item 19222\n",
       "\\item 30782\n",
       "\\item 18319\n",
       "\\item 19591\n",
       "\\item 29006\n",
       "\\item 36464\n",
       "\\item 31105\n",
       "\\end{enumerate*}\n"
      ],
      "text/markdown": [
       "1. 25928\n",
       "2. 19181\n",
       "3. 21570\n",
       "4. 20429\n",
       "5. 37699\n",
       "6. 35057\n",
       "7. 25344\n",
       "8. 17249\n",
       "9. 28273\n",
       "10. 24211\n",
       "11. 19222\n",
       "12. 30782\n",
       "13. 18319\n",
       "14. 19591\n",
       "15. 29006\n",
       "16. 36464\n",
       "17. 31105\n",
       "\n",
       "\n"
      ],
      "text/plain": [
       " [1] 25928 19181 21570 20429 37699 35057 25344 17249 28273 24211 19222 30782\n",
       "[13] 18319 19591 29006 36464 31105"
      ]
     },
     "metadata": {},
     "output_type": "display_data"
    }
   ],
   "source": [
    "# longest chapter in harry potter"
   ]
  },
  {
   "cell_type": "markdown",
   "metadata": {},
   "source": [
    "* find the same answer by creating a tibble"
   ]
  },
  {
   "cell_type": "code",
   "execution_count": 53,
   "metadata": {},
   "outputs": [
    {
     "name": "stdout",
     "output_type": "stream",
     "text": [
      "Rows: 17\n",
      "Columns: 1\n",
      "$ philosophers_stone \u001b[3m\u001b[90m<chr>\u001b[39m\u001b[23m \"THE BOY WHO LIVED　　Mr. and Mrs. Dursley, of numb…\n"
     ]
    }
   ],
   "source": [
    "harry_df = tibble(philosophers_stone) %>% glimpse\n",
    "# continue"
   ]
  },
  {
   "cell_type": "markdown",
   "metadata": {
    "id": "iLi-FiHgXtps"
   },
   "source": [
    "Now say we wanted to find the chapter with the most words. Is it necessarily the same?\n"
   ]
  },
  {
   "cell_type": "code",
   "execution_count": null,
   "metadata": {
    "id": "Krnn6CWEXtps"
   },
   "outputs": [],
   "source": [
    "# using str_count"
   ]
  },
  {
   "cell_type": "markdown",
   "metadata": {
    "id": "W9fHE-jVXtpt"
   },
   "source": [
    "If you scroll through `ch1` a bit, you'll notice that there are some funny characters which don't appear in the books"
   ]
  },
  {
   "cell_type": "markdown",
   "metadata": {
    "id": "flGkYSKDXtpt"
   },
   "source": [
    "Let's see how this works for Harry Potter. Where does the first quotation in `ch1` occur? To find this, we will use the \n",
    "\n",
    "    str_locate(<string>, <substring>)\n",
    "    \n",
    "function:"
   ]
  },
  {
   "cell_type": "code",
   "execution_count": 50,
   "metadata": {
    "colab": {
     "base_uri": "https://localhost:8080/",
     "height": 115
    },
    "id": "tQCmO--XXtpt",
    "outputId": "754e1de6-37d6-4d5a-85dd-5136796a7a1c"
   },
   "outputs": [
    {
     "data": {
      "text/html": [
       "<table class=\"dataframe\">\n",
       "<caption>A matrix: 1 × 2 of type int</caption>\n",
       "<thead>\n",
       "\t<tr><th scope=col>start</th><th scope=col>end</th></tr>\n",
       "</thead>\n",
       "<tbody>\n",
       "\t<tr><td>2150</td><td>2150</td></tr>\n",
       "</tbody>\n",
       "</table>\n"
      ],
      "text/latex": [
       "A matrix: 1 × 2 of type int\n",
       "\\begin{tabular}{ll}\n",
       " start & end\\\\\n",
       "\\hline\n",
       "\t 2150 & 2150\\\\\n",
       "\\end{tabular}\n"
      ],
      "text/markdown": [
       "\n",
       "A matrix: 1 × 2 of type int\n",
       "\n",
       "| start | end |\n",
       "|---|---|\n",
       "| 2150 | 2150 |\n",
       "\n"
      ],
      "text/plain": [
       "     start end \n",
       "[1,] 2150  2150"
      ]
     },
     "metadata": {},
     "output_type": "display_data"
    }
   ],
   "source": [
    "str_locate(ch1, \"\\\"\")  # <---- note the escape."
   ]
  },
  {
   "cell_type": "markdown",
   "metadata": {
    "id": "0sIWy8RSXtpy"
   },
   "source": [
    "Note the escape: we are searching `ch1` for the first occurence of the character `\"`."
   ]
  },
  {
   "cell_type": "markdown",
   "metadata": {
    "id": "d7ckCdxzXtpy"
   },
   "source": [
    "This tells us that the first quote occurs at position 2150 of `ch1`. To view a portion of a string, we can use the \n",
    "\n",
    "    str_sub(<string>, <start>, <end>)\n",
    "\n",
    "command:"
   ]
  },
  {
   "cell_type": "code",
   "execution_count": 52,
   "metadata": {
    "colab": {
     "base_uri": "https://localhost:8080/"
    },
    "id": "RTt5IH6iXtpy",
    "outputId": "cbeb9688-125c-4d3c-82e7-4fd87a692281"
   },
   "outputs": [
    {
     "name": "stdout",
     "output_type": "stream",
     "text": [
      "[1] \"\\\"Little tyke,\\\" chortled Mr. Dursley as he left the house. He got into his car and backed out of numbe\"\n"
     ]
    }
   ],
   "source": [
    "str_sub(ch1, 2150, 2250) %>% print"
   ]
  },
  {
   "cell_type": "markdown",
   "metadata": {
    "id": "lOohh7YKXtpy"
   },
   "source": [
    "## 🤔 Quiz\n",
    "\n",
    "How many 'and' word is there in Ch.1? (Hint: use `str_count()`).\n",
    "\n",
    "<ol style=\"list-style-type: upper-alpha;\">\n",
    "    <li>107</li>\n",
    "    <li>95</li>\n",
    "    <li>99</li>\n",
    "    <li>100</li>\n",
    "</ol>"
   ]
  },
  {
   "cell_type": "code",
   "execution_count": 73,
   "metadata": {
    "colab": {
     "base_uri": "https://localhost:8080/",
     "height": 34
    },
    "id": "8pRIL3l0Xtpz",
    "outputId": "aa670507-af6e-477e-88ef-43f42e1a20f1"
   },
   "outputs": [],
   "source": [
    "# how many 'and' words are in ch1"
   ]
  },
  {
   "cell_type": "markdown",
   "metadata": {
    "id": "t9P6r4EoXtpz"
   },
   "source": [
    "### Exercise\n",
    "What are the last 100 words of ch1?\n",
    "\n"
   ]
  },
  {
   "cell_type": "code",
   "execution_count": 74,
   "metadata": {
    "colab": {
     "base_uri": "https://localhost:8080/",
     "height": 34
    },
    "id": "IXRMtM38Xtpz",
    "outputId": "bced8d84-a2af-4a8e-f400-2bfe2ef413f1",
    "scrolled": true
   },
   "outputs": [
    {
     "data": {
      "text/html": [
       "'ry were holding up their glasses and saying in hushed voices: \"To Harry Potter -- the boy who lived!'"
      ],
      "text/latex": [
       "'ry were holding up their glasses and saying in hushed voices: \"To Harry Potter -- the boy who lived!'"
      ],
      "text/markdown": [
       "'ry were holding up their glasses and saying in hushed voices: \"To Harry Potter -- the boy who lived!'"
      ],
      "text/plain": [
       "[1] \"ry were holding up their glasses and saying in hushed voices: \\\"To Harry Potter -- the boy who lived!\""
      ]
     },
     "metadata": {},
     "output_type": "display_data"
    }
   ],
   "source": [
    "# Last 100 words"
   ]
  },
  {
   "cell_type": "markdown",
   "metadata": {},
   "source": [
    "### Exercise\n",
    "What is the last sentence of ch1?\n",
    "Hint: get a substring of the last 200 characters and then find the index of `.` using `str_locate` in that and get the substring again using the index position"
   ]
  },
  {
   "cell_type": "code",
   "execution_count": null,
   "metadata": {},
   "outputs": [],
   "source": []
  },
  {
   "cell_type": "markdown",
   "metadata": {
    "id": "IPVkWMucXtpz"
   },
   "source": [
    "## 🤔 Quiz\n",
    "\n",
    "Which chapter starts with the word `THE POTIONS MASTER`?\n",
    "\n",
    "<ol style=\"list-style-type: upper-alpha;\">\n",
    "    <li>8</li>\n",
    "    <li>13</li>\n",
    "    <li>16</li>\n",
    "    <li>17</li>\n",
    "    <li>19</li>\n",
    "</ol>\n",
    "\n"
   ]
  },
  {
   "cell_type": "code",
   "execution_count": 82,
   "metadata": {
    "id": "aAljb5NuXtpz",
    "scrolled": true
   },
   "outputs": [],
   "source": [
    "# THE POTIONS MASTER\n"
   ]
  }
 ],
 "metadata": {
  "celltoolbar": "Slideshow",
  "colab": {
   "provenance": []
  },
  "kernelspec": {
   "display_name": "R",
   "language": "R",
   "name": "ir"
  },
  "language_info": {
   "codemirror_mode": "r",
   "file_extension": ".r",
   "mimetype": "text/x-r-source",
   "name": "R",
   "pygments_lexer": "r",
   "version": "4.3.1"
  }
 },
 "nbformat": 4,
 "nbformat_minor": 4
}
