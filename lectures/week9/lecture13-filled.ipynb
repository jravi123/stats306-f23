{
  "cells": [
    {
      "cell_type": "code",
      "execution_count": 1,
      "metadata": {
        "colab": {
          "base_uri": "https://localhost:8080/"
        },
        "id": "YvUXzq0oYLDH",
        "outputId": "37ca847e-c459-482d-8fdc-013fb3025c16"
      },
      "outputs": [
        {
          "output_type": "stream",
          "name": "stderr",
          "text": [
            "Installing package into ‘/usr/local/lib/R/site-library’\n",
            "(as ‘lib’ is unspecified)\n",
            "\n"
          ]
        }
      ],
      "source": [
        "install.packages('nycflights13')"
      ]
    },
    {
      "cell_type": "markdown",
      "metadata": {
        "id": "cTujnNScHL6N"
      },
      "source": [
        "<img src = 'event.jpeg' >"
      ]
    },
    {
      "cell_type": "code",
      "execution_count": 3,
      "metadata": {
        "id": "5EqbjTKgXtpS"
      },
      "outputs": [],
      "source": [
        "library(tidyverse)"
      ]
    },
    {
      "cell_type": "markdown",
      "metadata": {
        "id": "u1iMhyVLXtpX"
      },
      "source": [
        "# Lecture 13: Strings and text data\n",
        "\n",
        "<div style=\"border: 1px double black; padding: 10px; margin: 10px\">\n",
        "\n",
        "**After today's lecture you will:**\n",
        "* Understand the basics of working with strings in R.\n",
        "* Convert data to strings.\n",
        "* Extract data from strings.\n",
        "</div>\n",
        "\n",
        "These notes correspond to Chapter 15 of your book.\n"
      ]
    },
    {
      "cell_type": "markdown",
      "metadata": {
        "id": "52QJy3SQXtpa"
      },
      "source": [
        "## Strings in R\n",
        "We have already encountered strings at many points in the class, but we didn't really discuss the details of how they work."
      ]
    },
    {
      "cell_type": "markdown",
      "metadata": {
        "id": "30UnpcMEXtpc"
      },
      "source": [
        "In R, strings must be quoted:"
      ]
    },
    {
      "cell_type": "code",
      "execution_count": 6,
      "metadata": {
        "id": "UlWbw0zbXtpf",
        "outputId": "c631d19f-c290-47cd-ef61-a512ade5f7bb",
        "colab": {
          "base_uri": "https://localhost:8080/",
          "height": 34
        }
      },
      "outputs": [
        {
          "output_type": "display_data",
          "data": {
            "text/html": [
              "'MLE stands for Maximum Likelihood Estimate'"
            ],
            "text/markdown": "'MLE stands for Maximum Likelihood Estimate'",
            "text/latex": "'MLE stands for Maximum Likelihood Estimate'",
            "text/plain": [
              "[1] \"MLE stands for Maximum Likelihood Estimate\""
            ]
          },
          "metadata": {}
        }
      ],
      "source": [
        "my_string <- 'MLE stands for Maximum Likelihood Estimate'\n",
        "my_string"
      ]
    },
    {
      "cell_type": "markdown",
      "metadata": {
        "id": "xy7ffCMLXtpf"
      },
      "source": [
        "Now what if I want `my_string` to contain a quotation?\n",
        "```\n",
        "> my_string <- \"\"MLE\" stands for \"Maximum Likelihood Estimate\"\"\n",
        "Error in parse(text = x, srcfile = src): <text>:1:16: unexpected symbol\n",
        "1: mystring3 <- \"\"MLE\n",
        "                   ^\n",
        "Traceback:\n",
        "```"
      ]
    },
    {
      "cell_type": "markdown",
      "metadata": {
        "id": "SABn6f52Xtpg"
      },
      "source": [
        "To create a string containing double quotes, while using double quotes to create it, you must *escape* the quotes using a backslash (`\\`):"
      ]
    },
    {
      "cell_type": "code",
      "execution_count": 7,
      "metadata": {
        "colab": {
          "base_uri": "https://localhost:8080/",
          "height": 34
        },
        "id": "PwcecV24Xtpg",
        "outputId": "5f54e0c9-5f1b-4045-ca8f-3ad27715ef2c"
      },
      "outputs": [
        {
          "output_type": "display_data",
          "data": {
            "text/html": [
              "'\"MLE\" stands for \"Maximum Likelihood Estimate\"'"
            ],
            "text/markdown": "'\"MLE\" stands for \"Maximum Likelihood Estimate\"'",
            "text/latex": "'\"MLE\" stands for \"Maximum Likelihood Estimate\"'",
            "text/plain": [
              "[1] \"\\\"MLE\\\" stands for \\\"Maximum Likelihood Estimate\\\"\""
            ]
          },
          "metadata": {}
        }
      ],
      "source": [
        "my_string <- \"\\\"MLE\\\" stands for \\\"Maximum Likelihood Estimate\\\"\"\n",
        "my_string"
      ]
    },
    {
      "cell_type": "markdown",
      "metadata": {
        "id": "Fa3ry6BQHL6W"
      },
      "source": [
        "Which other way can you fix it?"
      ]
    },
    {
      "cell_type": "code",
      "execution_count": 17,
      "metadata": {
        "id": "pM8nBcwWHL6X",
        "outputId": "4d56ede5-54a2-4c94-d20c-5498c4feb956",
        "colab": {
          "base_uri": "https://localhost:8080/",
          "height": 34
        }
      },
      "outputs": [
        {
          "output_type": "display_data",
          "data": {
            "text/html": [
              "'\"MLE\" stands for \"Maximum Likelihood Estimate\"'"
            ],
            "text/markdown": "'\"MLE\" stands for \"Maximum Likelihood Estimate\"'",
            "text/latex": "'\"MLE\" stands for \"Maximum Likelihood Estimate\"'",
            "text/plain": [
              "[1] \"\\\"MLE\\\" stands for \\\"Maximum Likelihood Estimate\\\"\""
            ]
          },
          "metadata": {}
        }
      ],
      "source": [
        "# another way of getting around this issue\n",
        "'\"MLE\" stands for \"Maximum Likelihood Estimate\"'"
      ]
    },
    {
      "cell_type": "markdown",
      "metadata": {
        "id": "oDn7Q5O4Xtph"
      },
      "source": [
        "What if you actually want a backslash? Then you need to escape it as well:"
      ]
    },
    {
      "cell_type": "code",
      "execution_count": 19,
      "metadata": {
        "id": "FEUMMDm-Xtpi",
        "outputId": "cccf4403-bd01-4316-a125-1c19ad146102",
        "colab": {
          "base_uri": "https://localhost:8080/",
          "height": 34
        }
      },
      "outputs": [
        {
          "output_type": "display_data",
          "data": {
            "text/html": [
              "'\\\\ is the backslash character'"
            ],
            "text/markdown": "'\\\\ is the backslash character'",
            "text/latex": "'\\textbackslash{}\\textbackslash{} is the backslash character'",
            "text/plain": [
              "[1] \"\\\\ is the backslash character\""
            ]
          },
          "metadata": {}
        }
      ],
      "source": [
        "\"\\\\ is the backslash character\""
      ]
    },
    {
      "cell_type": "markdown",
      "metadata": {
        "id": "lFAl5d5OXtpj"
      },
      "source": [
        "The printed representation of strings shows the escapes:"
      ]
    },
    {
      "cell_type": "code",
      "execution_count": null,
      "metadata": {
        "id": "l1RDsw22HL6X",
        "outputId": "7373f72b-6154-4c92-9110-909053a0bf99"
      },
      "outputs": [
        {
          "data": {
            "text/html": [
              "'\"MLE\" stands for \"Maximum Likelihood Estimate\"'"
            ],
            "text/latex": [
              "'\"MLE\" stands for \"Maximum Likelihood Estimate\"'"
            ],
            "text/markdown": [
              "'\"MLE\" stands for \"Maximum Likelihood Estimate\"'"
            ],
            "text/plain": [
              "[1] \"\\\"MLE\\\" stands for \\\"Maximum Likelihood Estimate\\\"\""
            ]
          },
          "metadata": {},
          "output_type": "display_data"
        }
      ],
      "source": [
        "\"\\\"MLE\\\" stands for \\\"Maximum Likelihood Estimate\\\"\""
      ]
    },
    {
      "cell_type": "code",
      "execution_count": null,
      "metadata": {
        "id": "l5iESgO3Xtpk",
        "outputId": "e0fd55a4-928d-476c-9162-07a2cfece968"
      },
      "outputs": [
        {
          "name": "stdout",
          "output_type": "stream",
          "text": [
            "[1] \"\\\"MLE\\\" stands for \\\"Maximum Likelihood Estimate\\\"\"\n"
          ]
        }
      ],
      "source": [
        "print(\"\\\"MLE\\\" stands for \\\"Maximum Likelihood Estimate\\\"\")"
      ]
    },
    {
      "cell_type": "markdown",
      "metadata": {
        "id": "JeBeWaDkXtpl"
      },
      "source": [
        "## Special characters\n",
        "\n",
        "When used inside a string, `\\\"`, `\\'`, and `\\\\`, are \"special characters\". Some other special characters you will encounter:\n",
        "\n",
        "- `\\n` (new line),\n",
        "- `\\t`, tab.\n",
        "- `\\u` or `\\U`: Unicode."
      ]
    },
    {
      "cell_type": "code",
      "source": [
        "'abc \\n xyz'"
      ],
      "metadata": {
        "id": "DaiOf5tUNRTi",
        "outputId": "9cb57d95-8ece-4446-9f62-4e530b31b4d7",
        "colab": {
          "base_uri": "https://localhost:8080/",
          "height": 34
        }
      },
      "execution_count": 29,
      "outputs": [
        {
          "output_type": "display_data",
          "data": {
            "text/html": [
              "'abc \\n xyz'"
            ],
            "text/markdown": "'abc \\n xyz'",
            "text/latex": "'abc \\textbackslash{}n xyz'",
            "text/plain": [
              "[1] \"abc \\n xyz\""
            ]
          },
          "metadata": {}
        }
      ]
    },
    {
      "cell_type": "markdown",
      "metadata": {
        "id": "WsHsDvD4Xtpl"
      },
      "source": [
        "### ASCII and unicode\n",
        "Early computers could only read and write the ASCII character set, essentially just roman letters, numbers and some punctuation.\n",
        "\n",
        "Nowadays, computers need to be able to understand alphabets from all over the world. For this we have *Unicode*."
      ]
    },
    {
      "cell_type": "markdown",
      "metadata": {
        "id": "F4ww5aE7Xtpl"
      },
      "source": [
        "You can print characters if you know their unicode using `\\u`. For example, the copyright character has unicode `00A9`. Wikipedia has [a complete list](https://en.wikipedia.org/wiki/List_of_Unicode_characters)."
      ]
    },
    {
      "cell_type": "code",
      "execution_count": null,
      "metadata": {
        "id": "yuj7q7jJXtpm",
        "outputId": "a6dd6afc-dc69-4de6-b887-f4e39b880de0",
        "scrolled": true
      },
      "outputs": [
        {
          "name": "stdout",
          "output_type": "stream",
          "text": [
            "[1] \"©\"\n"
          ]
        }
      ],
      "source": [
        "print(\"\\u00A9\")"
      ]
    },
    {
      "cell_type": "markdown",
      "metadata": {
        "id": "hUB3tI8sXtpm"
      },
      "source": [
        "## String functions in R\n",
        "\n",
        "Through the `stringr` package, `tidyverse` has a lot of useful functions for combining strings."
      ]
    },
    {
      "cell_type": "markdown",
      "metadata": {
        "id": "8AKEzBaRXtpm"
      },
      "source": [
        "### Combining strings\n",
        "Combining two strings into one is called \"concatenation\" by computer scientists and \"combining strings\" by everyone else. `concatenate` is hard to type, so it is abbreviated `str_c`:"
      ]
    },
    {
      "cell_type": "code",
      "execution_count": 30,
      "metadata": {
        "colab": {
          "base_uri": "https://localhost:8080/",
          "height": 52
        },
        "id": "jl67IK7HXtpn",
        "outputId": "3c8da599-b8aa-4009-d731-3d0690e2b7f1"
      },
      "outputs": [
        {
          "output_type": "stream",
          "name": "stdout",
          "text": [
            "[1] \"a\" \"b\" \"c\"\n"
          ]
        },
        {
          "output_type": "display_data",
          "data": {
            "text/html": [
              "'abc'"
            ],
            "text/markdown": "'abc'",
            "text/latex": "'abc'",
            "text/plain": [
              "[1] \"abc\""
            ]
          },
          "metadata": {}
        }
      ],
      "source": [
        "c(\"a\", \"b\", \"c\") %>% print  # notice the difference!\n",
        "str_c(\"a\", \"b\", \"c\")\n",
        "# \"Let us con\",\n",
        "#       \" / \",\n",
        "#       \"catenate strings!\") %>% print"
      ]
    },
    {
      "cell_type": "markdown",
      "metadata": {
        "id": "tou_rSreXtpo"
      },
      "source": [
        "Another use of `str_c` is to combine multiple strings into one with a separator:"
      ]
    },
    {
      "cell_type": "code",
      "execution_count": 36,
      "metadata": {
        "id": "V7RaRsVfXtpo",
        "outputId": "43ab5e4e-1089-4b42-96f2-e761b330fd5b",
        "colab": {
          "base_uri": "https://localhost:8080/",
          "height": 34
        }
      },
      "outputs": [
        {
          "output_type": "display_data",
          "data": {
            "text/html": [
              "'one, two, ten, hundred'"
            ],
            "text/markdown": "'one, two, ten, hundred'",
            "text/latex": "'one, two, ten, hundred'",
            "text/plain": [
              "[1] \"one, two, ten, hundred\""
            ]
          },
          "metadata": {}
        }
      ],
      "source": [
        "str_c(\"one\", \"two\", \"ten\", \"hundred\", sep = \", \") # can provide a separator"
      ]
    },
    {
      "cell_type": "markdown",
      "metadata": {
        "id": "7aK8FttaXtpp"
      },
      "source": [
        "If you already know some R, you might recognize this as being equivalent to\n",
        "```{r}\n",
        "paste(\"one\", \"two\", \"ten\", sep=\", \")\n",
        "```"
      ]
    },
    {
      "cell_type": "markdown",
      "metadata": {
        "id": "ntbhGjt7Xtpp"
      },
      "source": [
        "### Flattening strings\n",
        "`str_flatten` will take a vector of strings and flatten them into one string."
      ]
    },
    {
      "cell_type": "code",
      "execution_count": 38,
      "metadata": {
        "colab": {
          "base_uri": "https://localhost:8080/",
          "height": 192
        },
        "id": "yiDE23vrXtpp",
        "outputId": "e342662e-226f-4c9c-ab67-c53498b50a66"
      },
      "outputs": [
        {
          "output_type": "display_data",
          "data": {
            "text/html": [
              "<table class=\"dataframe\">\n",
              "<caption>A tibble: 3 × 2</caption>\n",
              "<thead>\n",
              "\t<tr><th scope=col>origin</th><th scope=col>carrier</th></tr>\n",
              "\t<tr><th scope=col>&lt;chr&gt;</th><th scope=col>&lt;chr&gt;</th></tr>\n",
              "</thead>\n",
              "<tbody>\n",
              "\t<tr><td>EWR</td><td>UA, B6, AA, MQ, DL, US, EV, AS, WN, 9E, VX, OO    </td></tr>\n",
              "\t<tr><td>JFK</td><td>AA, B6, UA, DL, US, VX, MQ, 9E, HA, EV            </td></tr>\n",
              "\t<tr><td>LGA</td><td>UA, DL, EV, AA, B6, MQ, WN, FL, US, F9, 9E, YV, OO</td></tr>\n",
              "</tbody>\n",
              "</table>\n"
            ],
            "text/markdown": "\nA tibble: 3 × 2\n\n| origin &lt;chr&gt; | carrier &lt;chr&gt; |\n|---|---|\n| EWR | UA, B6, AA, MQ, DL, US, EV, AS, WN, 9E, VX, OO     |\n| JFK | AA, B6, UA, DL, US, VX, MQ, 9E, HA, EV             |\n| LGA | UA, DL, EV, AA, B6, MQ, WN, FL, US, F9, 9E, YV, OO |\n\n",
            "text/latex": "A tibble: 3 × 2\n\\begin{tabular}{ll}\n origin & carrier\\\\\n <chr> & <chr>\\\\\n\\hline\n\t EWR & UA, B6, AA, MQ, DL, US, EV, AS, WN, 9E, VX, OO    \\\\\n\t JFK & AA, B6, UA, DL, US, VX, MQ, 9E, HA, EV            \\\\\n\t LGA & UA, DL, EV, AA, B6, MQ, WN, FL, US, F9, 9E, YV, OO\\\\\n\\end{tabular}\n",
            "text/plain": [
              "  origin carrier                                           \n",
              "1 EWR    UA, B6, AA, MQ, DL, US, EV, AS, WN, 9E, VX, OO    \n",
              "2 JFK    AA, B6, UA, DL, US, VX, MQ, 9E, HA, EV            \n",
              "3 LGA    UA, DL, EV, AA, B6, MQ, WN, FL, US, F9, 9E, YV, OO"
            ]
          },
          "metadata": {}
        }
      ],
      "source": [
        "# list all the air carriers flying out of each airport\n",
        "library(nycflights13)\n",
        "distinct(flights, origin, carrier) %>%\n",
        "  group_by(origin) %>%\n",
        "    summarize(carrier = str_flatten(carrier, \", \"))"
      ]
    },
    {
      "cell_type": "code",
      "source": [],
      "metadata": {
        "id": "9ayTnq_JPjz4"
      },
      "execution_count": null,
      "outputs": []
    },
    {
      "cell_type": "markdown",
      "metadata": {
        "id": "EIBKeJNDXtpp"
      },
      "source": [
        "### Extracting pieces of a string\n",
        "Sometimes we want only a portion of a string, say the first few or last characters. The `str_sub(str, start, stop)` function will extract substrings from a larger string. (Negative indexing will counts from the end.)"
      ]
    },
    {
      "cell_type": "code",
      "execution_count": 45,
      "metadata": {
        "id": "2DWtqq7pXtpq",
        "outputId": "ce7eab6c-b392-473b-bad8-23c7194fb21c",
        "colab": {
          "base_uri": "https://localhost:8080/",
          "height": 86
        }
      },
      "outputs": [
        {
          "output_type": "display_data",
          "data": {
            "text/html": [
              "'spr'"
            ],
            "text/markdown": "'spr'",
            "text/latex": "'spr'",
            "text/plain": [
              "[1] \"spr\""
            ]
          },
          "metadata": {}
        },
        {
          "output_type": "display_data",
          "data": {
            "text/html": [
              "''"
            ],
            "text/markdown": "''",
            "text/latex": "''",
            "text/plain": [
              "[1] \"\""
            ]
          },
          "metadata": {}
        },
        {
          "output_type": "display_data",
          "data": {
            "text/html": [
              "'t n'"
            ],
            "text/markdown": "'t n'",
            "text/latex": "'t n'",
            "text/plain": [
              "[1] \"t n\""
            ]
          },
          "metadata": {}
        },
        {
          "output_type": "stream",
          "name": "stdout",
          "text": [
            "[1] \"t's don\"\n"
          ]
        }
      ],
      "source": [
        "str_sub('spring break!', 1, 3)  # first two characters\n",
        "str_sub('was fun', 3, 2)  # last two characters\n",
        "str_sub('but now', 3, 5)  # middle characters\n",
        "x = str_sub(\"it's done\", 2, -2) # everything except the first and last\n",
        "print(x)"
      ]
    },
    {
      "cell_type": "markdown",
      "metadata": {
        "id": "XLfb8P1kXtpq"
      },
      "source": [
        "## `separate_` functions\n",
        "`tidyverse` has some built-in functions designed to break apart and combine string data:\n",
        "- `separate_longer_delim`, `separate_longer_position`: combine multiple columns of string data into one.\n",
        "- `separate_wider_delim`, `separate_wider_position`: extract string data into multiple columns.\n",
        "These functions work analogously to `pivot_{wider,longer}`.\n"
      ]
    },
    {
      "cell_type": "markdown",
      "metadata": {
        "id": "0IcWL4hHXtpq"
      },
      "source": [
        "`separate_wider_delim` converts a delimited string into multiple columns of data. `separate_wider_position` does the same, but uses a fixed position."
      ]
    },
    {
      "cell_type": "code",
      "execution_count": 47,
      "metadata": {
        "colab": {
          "base_uri": "https://localhost:8080/",
          "height": 192
        },
        "id": "0qTQh-OuXtpr",
        "outputId": "0b9c450f-2d86-40a3-80d9-9303662b16d1"
      },
      "outputs": [
        {
          "output_type": "display_data",
          "data": {
            "text/html": [
              "<table class=\"dataframe\">\n",
              "<caption>A tibble: 3 × 3</caption>\n",
              "<thead>\n",
              "\t<tr><th scope=col>code</th><th scope=col>edition</th><th scope=col>year</th></tr>\n",
              "\t<tr><th scope=col>&lt;chr&gt;</th><th scope=col>&lt;chr&gt;</th><th scope=col>&lt;chr&gt;</th></tr>\n",
              "</thead>\n",
              "<tbody>\n",
              "\t<tr><td>a10</td><td>1</td><td>2022</td></tr>\n",
              "\t<tr><td>b10</td><td>2</td><td>2011</td></tr>\n",
              "\t<tr><td>e15</td><td>1</td><td>2015</td></tr>\n",
              "</tbody>\n",
              "</table>\n"
            ],
            "text/markdown": "\nA tibble: 3 × 3\n\n| code &lt;chr&gt; | edition &lt;chr&gt; | year &lt;chr&gt; |\n|---|---|---|\n| a10 | 1 | 2022 |\n| b10 | 2 | 2011 |\n| e15 | 1 | 2015 |\n\n",
            "text/latex": "A tibble: 3 × 3\n\\begin{tabular}{lll}\n code & edition & year\\\\\n <chr> & <chr> & <chr>\\\\\n\\hline\n\t a10 & 1 & 2022\\\\\n\t b10 & 2 & 2011\\\\\n\t e15 & 1 & 2015\\\\\n\\end{tabular}\n",
            "text/plain": [
              "  code edition year\n",
              "1 a10  1       2022\n",
              "2 b10  2       2011\n",
              "3 e15  1       2015"
            ]
          },
          "metadata": {}
        }
      ],
      "source": [
        "df <- tibble(x = c(\"a10.1.2022\", \"b10.2.2011\", \"e15.1.2015\"))\n",
        "df %>%  separate_wider_delim(\n",
        "    x,\n",
        "    delim = \".\",\n",
        "    names = c(\"code\", \"edition\", \"year\")\n",
        "  )\n"
      ]
    },
    {
      "cell_type": "markdown",
      "metadata": {
        "id": "4FoHiLrzXtpr"
      },
      "source": [
        "## Harry Potter\n",
        "Let's practice some string analysis by looking at the text of Harry Potter:\n",
        "![harry potter](https://images-na.ssl-images-amazon.com/images/I/51HSkTKlauL._SX346_BO1,204,203,200_.jpg)"
      ]
    },
    {
      "cell_type": "code",
      "execution_count": 48,
      "metadata": {
        "colab": {
          "base_uri": "https://localhost:8080/"
        },
        "id": "H0lnZkCLXtpr",
        "outputId": "d6dd42d6-0f43-4d88-9fb5-354980fde377"
      },
      "outputs": [
        {
          "output_type": "stream",
          "name": "stderr",
          "text": [
            "Downloading GitHub repo bradleyboehmke/harrypotter@HEAD\n",
            "\n"
          ]
        },
        {
          "output_type": "stream",
          "name": "stdout",
          "text": [
            "\u001b[36m──\u001b[39m \u001b[36mR CMD build\u001b[39m \u001b[36m─────────────────────────────────────────────────────────────────\u001b[39m\n",
            "* checking for file ‘/tmp/RtmpylQv5z/remotes1654e5e3b41/bradleyboehmke-harrypotter-51f7146/DESCRIPTION’ ... OK\n",
            "* preparing ‘harrypotter’:\n",
            "* checking DESCRIPTION meta-information ... OK\n",
            "* checking for LF line-endings in source and make files and shell scripts\n",
            "* checking for empty or unneeded directories\n",
            "* building ‘harrypotter_0.1.0.tar.gz’\n",
            "\n"
          ]
        },
        {
          "output_type": "stream",
          "name": "stderr",
          "text": [
            "Installing package into ‘/usr/local/lib/R/site-library’\n",
            "(as ‘lib’ is unspecified)\n",
            "\n"
          ]
        },
        {
          "output_type": "stream",
          "name": "stdout",
          "text": [
            " chr [1:17] \"THE BOY WHO LIVED　　Mr. and Mrs. Dursley, of number four, Privet Drive, were proud to say that they were perfe\"| __truncated__ ...\n"
          ]
        }
      ],
      "source": [
        "remotes::install_github(\"bradleyboehmke/harrypotter\")\n",
        "library(harrypotter)\n",
        "str(philosophers_stone)\n",
        "ch1 <- philosophers_stone[1]"
      ]
    },
    {
      "cell_type": "markdown",
      "metadata": {
        "id": "TLE5V56xXtpr"
      },
      "source": [
        "`philosophers_stone` is a list containing seventeen entries: one for each chapter of \"Harry Potter and the Sorcerer's Stone\" (titled differently in the U.K.)\n",
        "\n",
        "Instead of reading Harry Potter, we will analyze it like a data set."
      ]
    },
    {
      "cell_type": "markdown",
      "metadata": {
        "id": "XKgh8mRmXtps"
      },
      "source": [
        "Each entry of `philosophers_stone` is a *string*. There is one string per chapter, so they are pretty long. To figure out how long a string is, we can use the `str_length()` command:"
      ]
    },
    {
      "cell_type": "code",
      "execution_count": 50,
      "metadata": {
        "id": "8p8FryClXtps",
        "outputId": "eef86f43-9a84-4813-e6c2-c05976da2664",
        "colab": {
          "base_uri": "https://localhost:8080/",
          "height": 1000
        }
      },
      "outputs": [
        {
          "output_type": "display_data",
          "data": {
            "text/html": [
              "17"
            ],
            "text/markdown": "17",
            "text/latex": "17",
            "text/plain": [
              "[1] 17"
            ]
          },
          "metadata": {}
        },
        {
          "output_type": "display_data",
          "data": {
            "text/html": [
              "'THE BOY WHO LIVED　　Mr. and Mrs. Dursley, of number four, Privet Drive, were proud to say that they were perfectly normal, thank you very much. They were the last people you\\'d expect to be involved in anything strange or mysterious, because they just didn\\'t hold with such nonsense.　　Mr. Dursley was the director of a firm called Grunnings, which made drills. He was a big, beefy man with hardly any neck, although he did have a very large mustache. Mrs. Dursley was thin and blonde and had nearly twice the usual amount of neck, which came in very useful as she spent so much of her time craning over garden fences, spying on the neighbors. The Dursleys had a small son called Dudley and in their opinion there was no finer boy anywhere.　　The Dursleys had everything they wanted, but they also had a secret, and their greatest fear was that somebody would discover it. They didn\\'t think they could bear it if anyone found out about the Potters. Mrs. Potter was Mrs. Dursley\\'s sister, but they hadn\\'t met for several years; in fact, Mrs. Dursley pretended she didn\\'t have a sister, because her sister and her good-for-nothing husband were as unDursleyish as it was possible to be. The Dursleys shuddered to think what the neighbors would say if the Potters arrived in the street. The Dursleys knew that the Potters had a small son, too, but they had never even seen him. This boy was another good reason for keeping the Potters away; they didn\\'t want Dudley mixing with a child like that.　　When Mr. and Mrs. Dursley woke up on the dull, gray Tuesday our story starts, there was nothing about the cloudy sky outside to suggest that strange and mysterious things would soon be happening all over the country. Mr. Dursley hummed as he picked out his most boring tie for work, and Mrs. Dursley gossiped away happily as she wrestled a screaming Dudley into his high chair.　　None of them noticed a large, tawny owl flutter past the window.　　At half past eight, Mr. Dursley picked up his briefcase, pecked Mrs. Dursley on the cheek, and tried to kiss Dudley good-bye but missed, because Dudley was now having a tantrum and throwing his cereal at the walls. \"Little tyke,\" chortled Mr. Dursley as he left the house. He got into his car and backed out of number four\\'s drive.　　It was on the corner of the street that he noticed the first sign of something peculiar -- a cat reading a map. For a second, Mr. Dursley didn\\'t realize what he had seen -- then he jerked his head around to look again. There was a tabby cat standing on the corner of Privet Drive, but there wasn\\'t a map in sight. What could he have been thinking of? It must have been a trick of the light. Mr. Dursley blinked and stared at the cat. It stared back. As Mr. Dursley drove around the corner and up the road, he watched the cat in his mirror. It was now reading the sign that said Privet Drive -- no, looking at the sign; cats couldn\\'t read maps or signs. Mr. Dursley gave himself a little shake and put the cat out of his mind. As he drove toward town he thought of nothing except a large order of drills he was hoping to get that day.　　But on the edge of town, drills were driven out of his mind by something else. As he sat in the usual morning traffic jam, he couldn\\'t help noticing that there seemed to be a lot of strangely dressed people about. People in cloaks. Mr. Dursley couldn\\'t bear people who dressed in funny clothes -- the getups you saw on young people! He supposed this was some stupid new fashion. He drummed his fingers on the steering wheel and his eyes fell on a huddle of these weirdos standing quite close by. They were whispering excitedly together. Mr. Dursley was enraged to see that a couple of them weren\\'t young at all; why, that man had to be older than he was, and wearing an emerald-green cloak! The nerve of him! But then it struck Mr. Dursley that this was probably some silly stunt -- these people were obviously collecting for something... yes, that would be it. The traffic moved on and a few minutes later, Mr. Dursley arrived in the Grunnings parking lot, his mind back on drills.　　Mr. Dursley always sat with his back to the window in his office on the ninth floor. If he hadn\\'t, he might have found it harder to concentrate on drills that morning. He didn\\'t see the owls swoop ing past in broad daylight, though people down in the street did; they pointed and gazed open- mouthed as owl after owl sped overhead. Most of them had never seen an owl even at nighttime. Mr. Dursley, however, had a perfectly normal, owl-free morning. He yelled at five different people. He made several important telephone calls and shouted a bit more. He was in a very good mood until lunchtime, when he thought he\\'d stretch his legs and walk across the road to buy himself a bun from the bakery.　　He\\'d forgotten all about the people in cloaks until he passed a group of them next to the baker\\'s. He eyed them angrily as he passed. He didn\\'t know why, but they made him uneasy. This bunch were whispering excitedly, too, and he couldn\\'t see a single collecting tin. It was on his way back past them, clutching a large doughnut in a bag, that he caught a few words of what they were saying.　　 \"The Potters, that\\'s right, that\\'s what I heard yes, their son, Harry\"　　Mr. Dursley stopped dead. Fear flooded him. He looked back at the whisperers as if he wanted to say something to them, but thought better of it.　　He dashed back across the road, hurried up to his office, snapped at his secretary not to disturb him, seized his telephone, and had almost finished dialing his home number when he changed his mind. He put the receiver back down and stroked his mustache, thinking... no, he was being stupid. Potter wasn\\'t such an unusual name. He was sure there were lots of people called Potter who had a son called Harry. Come to think of it, he wasn\\'t even sure his nephew was called Harry. He\\'d never even seen the boy. It might have been Harvey. Or Harold. There was no point in worrying Mrs. Dursley; she always got so upset at any mention of her sister. He didn\\'t blame her -- if he\\'d had a sister like that... but all the same, those people in cloaks...　　He found it a lot harder to concentrate on drills that afternoon and when he left the building at five o\\'clock, he was still so worried that he walked straight into someone just outside the door.　　\"Sorry,\" he grunted, as the tiny old man stumbled and almost fell. It was a few seconds before Mr. Dursley realized that the man was wearing a violet cloak. He didn\\'t seem at all upset at being almost knocked to the ground. On the contrary, his face split into a wide smile and he said in a squeaky voice that made passersby stare, \"Don\\'t be sorry, my dear sir, for nothing could upset me today! Rejoice, for You-Know-Who has gone at last! Even Muggles like yourself should be celebrating, this happy, happy day!\"　　And the old man hugged Mr. Dursley around the middle and walked off.　　Mr. Dursley stood rooted to the spot. He had been hugged by a complete stranger. He also thought he had been called a Muggle, whatever that was. He was rattled. He hurried to his car and set off for home, hoping he was imagining things, which he had never hoped before, because he didn\\'t approve of imagination.　　As he pulled into the driveway of number four, the first thing he saw -- and it didn\\'t improve his mood -- was the tabby cat he\\'d spotted that morning. It was now sitting on his garden wall. He was sure it was the same one; it had the same markings around its eyes.　　\"Shoo!\" said Mr. Dursley loudly. The cat didn\\'t move. It just gave him a stern look. Was this normal cat behavior? Mr. Dursley wondered. Trying to pull himself together, he let himself into the house. He was still determined not to mention anything to his wife.　　Mrs. Dursley had had a nice, normal day. She told him over dinner all about Mrs. Next Door\\'s problems with her daughter and how Dudley had learned a new word (\"Won\\'t!\"). Mr. Dursley tried to act normally. When Dudley had been put to bed, he went into the living room in time to catch the last report on the evening news:　　\"And finally, bird-watchers everywhere have reported that the nation\\'s owls have been behaving very unusually today. Although owls normally hunt at night and are hardly ever seen in daylight, there have been hundreds of sightings of these birds flying in every direction since sunrise. Experts are unable to explain why the owls have suddenly changed their sleeping pattern.\" The newscaster allowed himself a grin. \"Most mysterious. And now, over to Jim McGuffin with the weather. Going to be any more showers of owls tonight, Jim?\"　　\"Well, Ted,\" said the weatherman, \"I don\\'t know about that, but it\\'s not only the owls that have been acting oddly today. Viewers as far apart as Kent, Yorkshire, and Dundee have been phoning in to tell me that instead of the rain I promised yesterday, they\\'ve had a downpour of shooting stars! Perhaps people have been celebrating Bonfire Night early -- it\\'s not until next week, folks! But I can promise a wet night tonight.\"　　Mr. Dursley sat frozen in his armchair. Shooting stars all over Britain? Owls flying by daylight? Mysterious people in cloaks all over the place? And a whisper, a whisper about the Potters...　　Mrs. Dursley came into the living room carrying two cups of tea. It was no good. He\\'d have to say something to her. He cleared his throat nervously. \"Er -- Petunia, dear -- you haven\\'t heard from your sister lately, have you?\"　　As he had expected, Mrs. Dursley looked shocked and angry. After all, they normally pretended she didn\\'t have a sister.　　\"No,\" she said sharply. \"Why?\"　　\"Funny stuff on the news,\" Mr. Dursley mumbled. \"Owls... shooting stars... and there were a lot of funny-looking people in town today...\"　　\"So?\" snapped Mrs. Dursley.　　\"Well, I just thought... maybe... it was something to do with... you know... her crowd.\"　　Mrs. Dursley sipped her tea through pursed lips. Mr. Dursley wondered whether he dared tell her he\\'d heard the name \"Potter.\" He decided he didn\\'t dare. Instead he said, as casually as he could, \"Their son -- he\\'d be about Dudley\\'s age now, wouldn\\'t he?\"　　\"I suppose so,\" said Mrs. Dursley stiffly.　　\"What\\'s his name again? Howard, isn\\'t it?\"　　\"Harry. Nasty, common name, if you ask me.\"　　\"Oh, yes,\" said Mr. Dursley, his heart sinking horribly. \"Yes, I quite agree.\"　　He didn\\'t say another word on the subject as they went upstairs to bed. While Mrs. Dursley was in the bathroom, Mr. Dursley crept to the bedroom window and peered down into the front garden. The cat was still there. It was staring down Privet Drive as though it were waiting for something.　　Was he imagining things? Could all this have anything to do with the Potters? If it did... if it got out that they were related to a pair of -- well, he didn\\'t think he could bear it.　　The Dursleys got into bed. Mrs. Dursley fell asleep quickly but Mr. Dursley lay awake, turning it all over in his mind. His last, comforting thought before he fell asleep was that even if the Potters were involved, there was no reason for them to come near him and Mrs. Dursley. The Potters knew very well what he and Petunia thought about them and their kind.... He couldn\\'t see how he and Petunia could get mixed up in anything that might be going on -- he yawned and turned over -- it couldn\\'t affect them....　　How very wrong he was.　　Mr. Dursley might have been drifting into an uneasy sleep, but the cat on the wall outside was showing no sign of sleepiness. It was sitting as still as a statue, its eyes fixed unblinkingly on the far corner of Privet Drive. It didn\\'t so much as quiver when a car door slammed on the next street, nor when two owls swooped overhead. In fact, it was nearly midnight before the cat moved at all.　　A man appeared on the corner the cat had been watching, appeared so suddenly and silently you\\'d have thought he\\'d just popped out of the ground. The cat\\'s tail twitched and its eyes narrowed.　　Nothing like this man had ever been seen on Privet Drive. He was tall, thin, and very old, judging by the silver of his hair and beard, which were both long enough to tuck into his belt. He was wearing long robes, a purple cloak that swept the ground, and high-heeled, buckled boots. His blue eyes were light, bright, and sparkling behind half-moon spectacles and his nose was very long and crooked, as though it had been broken at least twice. This man\\'s name was Albus Dumbledore.　　Albus Dumbledore didn\\'t seem to realize that he had just arrived in a street where everything from his name to his boots was unwelcome. He was busy rummaging in his cloak, looking for something. But he did seem to realize he was being watched, because he looked up suddenly at the cat, which was still staring at him from the other end of the street. For some reason, the sight of the cat seemed to amuse him. He chuckled and muttered, \"I should have known.\"　　He found what he was looking for in his inside pocket. It seemed to be a silver cigarette lighter. He flicked it open, held it up in the air, and clicked it. The nearest street lamp went out with a little pop. He clicked it again -- the next lamp flickered into darkness. Twelve times he clicked the Put-Outer, until the only lights left on the whole street were two tiny pinpricks in the distance, which were the eyes of the cat watching him. If anyone looked out of their window now, even beady-eyed Mrs. Dursley, they wouldn\\'t be able to see anything that was happening down on the pavement. Dumbledore slipped the Put-Outer back inside his cloak and set off down the street toward number four, where he sat down on the wall next to the cat. He didn\\'t look at it, but after a moment he spoke to it.　　\"Fancy seeing you here, Professor McGonagall.\"　　He turned to smile at the tabby, but it had gone. Instead he was smiling at a rather severe-looking woman who was wearing square glasses exactly the shape of the markings the cat had had around its eyes. She, too, was wearing a cloak, an emerald one. Her black hair was drawn into a tight bun. She looked distinctly ruffled.　　\"How did you know it was me?\" she asked.　　\"My dear Professor, I \\'ve never seen a cat sit so stiffly.\"　　\"You\\'d be stiff if you\\'d been sitting on a brick wall all day,\" said Professor McGonagall.　　\"All day? When you could have been celebrating? I must have passed a dozen feasts and parties on my way here.\"　　Professor McGonagall sniffed angrily.　　\"Oh yes, everyone\\'s celebrating, all right,\" she said impatiently. \"You\\'d think they\\'d be a bit more careful, but no -- even the Muggles have noticed something\\'s going on. It was on their news.\" She jerked her head back at the Dursleys\\' dark living-room window. \"I heard it. Flocks of owls... shooting stars.... Well, they\\'re not completely stupid. They were bound to notice something. Shooting stars down in Kent -- I\\'ll bet that was Dedalus Diggle. He never had much sense.\"　　\"You can\\'t blame them,\" said Dumbledore gently. \"We\\'ve had precious little to celebrate for eleven years.\"　　\"I know that,\" said Professor McGonagall irritably. \"But that\\'s no reason to lose our heads. People are being downright careless, out on the streets in broad daylight, not even dressed in Muggle clothes, swapping rumors.\"　　She threw a sharp, sideways glance at Dumbledore here, as though hoping he was going to tell her something, but he didn\\'t, so she went on. \"A fine thing it would be if, on the very day YouKnow-Who seems to have disappeared at last, the Muggles found out about us all. I suppose he really has gone, Dumbledore?\"　　\"It certainly seems so,\" said Dumbledore. \"We have much to be thankful for. Would you care for a lemon drop?\"　　\"A what?\"　　\"A lemon drop. They\\'re a kind of Muggle sweet I\\'m rather fond of\"　　\"No, thank you,\" said Professor McGonagall coldly, as though she didn\\'t think this was the moment for lemon drops. \"As I say, even if You-Know-Who has gone -\"　　\"My dear Professor, surely a sensible person like yourself can call him by his name? All this \\'You- Know-Who\\' nonsense -- for eleven years I have been trying to persuade people to call him by his proper name: Voldemort.\" Professor McGonagall flinched, but Dumbledore, who was unsticking two lemon drops, seemed not to notice. \"It all gets so confusing if we keep saying \\'You-Know-Who.\\' I have never seen any reason to be frightened of saying Voldemort\\'s name.　　\"I know you haven \\'t, said Professor McGonagall, sounding half exasperated, half admiring. \"But you\\'re different. Everyone knows you\\'re the only one You-Know- oh, all right, Voldemort, was frightened of.\"　　\"You flatter me,\" said Dumbledore calmly. \"Voldemort had powers I will never have.\"　　\"Only because you\\'re too -- well -- noble to use them.\"　　\"It\\'s lucky it\\'s dark. I haven\\'t blushed so much since Madam Pomfrey told me she liked my new earmuffs.\"　　Professor McGonagall shot a sharp look at Dumbledore and said, \"The owls are nothing next to the rumors that are flying around. You know what everyone\\'s saying? About why he\\'s disappeared? About what finally stopped him?\"　　It seemed that Professor McGonagall had reached the point she was most anxious to discuss, the real reason she had been waiting on a cold, hard wall all day, for neither as a cat nor as a woman had she fixed Dumbledore with such a piercing stare as she did now. It was plain that whatever \"everyone\" was saying, she was not going to believe it until Dumbledore told her it was true. Dumbledore, however, was choosing another lemon drop and did not answer.　　\"What they\\'re saying,\" she pressed on, \"is that last night Voldemort turned up in Godric\\'s Hollow. He went to find the Potters. The rumor is that Lily and James Potter are -- are -- that they\\'re -- dead. \"　　Dumbledore bowed his head. Professor McGonagall gasped.　　\"Lily and James... I can\\'t believe it... I didn\\'t want to believe it... Oh, Albus...\"　　Dumbledore reached out and patted her on the shoulder. \"I know... I know...\" he said heavily.　　Professor McGonagall\\'s voice trembled as she went on. \"That\\'s not all. They\\'re saying he tried to kill the Potter\\'s son, Harry. But -- he couldn\\'t. He couldn\\'t kill that little boy. No one knows why, or how, but they\\'re saying that when he couldn\\'t kill Harry Potter, Voldemort\\'s power somehow broke -- and that\\'s why he\\'s gone.　　Dumbledore nodded glumly.　　\"It\\'s -- it\\'s true?\" faltered Professor McGonagall. \"After all he\\'s done... all the people he\\'s killed... he couldn\\'t kill a little boy? It\\'s just astounding... of all the things to stop him... but how in the name of heaven did Harry survive?\"　　\"We can only guess,\" said Dumbledore. \"We may never know.\"　　Professor McGonagall pulled out a lace handkerchief and dabbed at her eyes beneath her spectacles. Dumbledore gave a great sniff as he took a golden watch from his pocket and examined it. It was a very odd watch. It had twelve hands but no numbers; instead, little planets were moving around the edge. It must have made sense to Dumbledore, though, because he put it back in his pocket and said, \"Hagrid\\'s late. I suppose it was he who told you I\\'d be here, by the way?\"　　\"Yes,\" said Professor McGonagall. \"And I don\\'t suppose you\\'re going to tell me why you\\'re here, of all places?\"　　\"I\\'ve come to bring Harry to his aunt and uncle. They\\'re the only family he has left now.\"　　\"You don\\'t mean -- you can\\'t mean the people who live here?\" cried Professor McGonagall, jumping to her feet and pointing at number four. \"Dumbledore -- you can\\'t. I\\'ve been watching them all day. You couldn\\'t find two people who are less like us. And they\\'ve got this son -- I saw him kicking his mother all the way up the street, screaming for sweets. Harry Potter come and live here!\"　　\"It\\'s the best place for him,\" said Dumbledore firmly. \"His aunt and uncle will be able to explain everything to him when he\\'s older. I\\'ve written them a letter.\"　　\"A letter?\" repeated Professor McGonagall faintly, sitting back down on the wall. \"Really, Dumbledore, you think you can explain all this in a letter? These people will never understand him! He\\'ll be famous -- a legend -- I wouldn\\'t be surprised if today was known as Harry Potter day in the future -- there will be books written about Harry -- every child in our world will know his name!\"　　\"Exactly,\" said Dumbledore, looking very seriously over the top of his half-moon glasses. \"It would be enough to turn any boy\\'s head. Famous before he can walk and talk! Famous for something he won\\'t even remember! CarA you see how much better off he\\'ll be, growing up away from all that until he\\'s ready to take it?\"　　Professor McGonagall opened her mouth, changed her mind, swallowed, and then said, \"Yes -- yes, you\\'re right, of course. But how is the boy getting here, Dumbledore?\" She eyed his cloak suddenly as though she thought he might be hiding Harry underneath it.　　\"Hagrid\\'s bringing him.\"　　\"You think it -- wise -- to trust Hagrid with something as important as this?\"　　I would trust Hagrid with my life,\" said Dumbledore.　　\"I\\'m not saying his heart isn\\'t in the right place,\" said Professor McGonagall grudgingly, \"but you can\\'t pretend he\\'s not careless. He does tend to -- what was that?\"　　A low rumbling sound had broken the silence around them. It grew steadily louder as they looked up and down the street for some sign of a headlight; it swelled to a roar as they both looked up at the sky -- and a huge motorcycle fell out of the air and landed on the road in front of them.　　If the motorcycle was huge, it was nothing to the man sitting astride it. He was almost twice as tall as a normal man and at least five times as wide. He looked simply too big to be allowed, and so wild - long tangles of bushy black hair and beard hid most of his face, he had hands the size of trash can lids, and his feet in their leather boots were like baby dolphins. In his vast, muscular arms he was holding a bundle of blankets.　　\"Hagrid,\" said Dumbledore, sounding relieved. \"At last. And where did you get that motorcycle?\"　　\"Borrowed it, Professor Dumbledore, sit,\" said the giant, climbing carefully off the motorcycle as he spoke. \"Young Sirius Black lent it to me. I\\'ve got him, sir.\"　　\"No problems, were there?\"　　\"No, sir -- house was almost destroyed, but I got him out all right before the Muggles started swarmin\\' around. He fell asleep as we was flyin\\' over Bristol.\"　　Dumbledore and Professor McGonagall bent forward over the bundle of blankets. Inside, just visible, was a baby boy, fast asleep. Under a tuft of jet-black hair over his forehead they could see a curiously shaped cut, like a bolt of lightning.　　\"Is that where -?\" whispered Professor McGonagall.　　\"Yes,\" said Dumbledore. \"He\\'ll have that scar forever.\"　　\"Couldn\\'t you do something about it, Dumbledore?\"　　\"Even if I could, I wouldn\\'t. Scars can come in handy. I have one myself above my left knee that is a perfect map of the London Underground. Well -- give him here, Hagrid -- we\\'d better get this over with.\"　　Dumbledore took Harry in his arms and turned toward the Dursleys\\' house.　　\"Could I -- could I say good-bye to him, sir?\" asked Hagrid. He bent his great, shaggy head over Harry and gave him what must have been a very scratchy, whiskery kiss. Then, suddenly, Hagrid let out a howl like a wounded dog.　　\"Shhh!\" hissed Professor McGonagall, \"you\\'ll wake the Muggles!\"　　\"S-s-sorry,\" sobbed Hagrid, taking out a large, spotted handkerchief and burying his face in it. \"But I c-c-can\\'t stand it -- Lily an\\' James dead -- an\\' poor little Harry off ter live with Muggles -\"　　\"Yes, yes, it\\'s all very sad, but get a grip on yourself, Hagrid, or we\\'ll be found,\" Professor McGonagall whispered, patting Hagrid gingerly on the arm as Dumbledore stepped over the low garden wall and walked to the front door. He laid Harry gently on the doorstep, took a letter out of his cloak, tucked it inside Harry\\'s blankets, and then came back to the other two. For a full minute the three of them stood and looked at the little bundle; Hagrid\\'s shoulders shook, Professor McGonagall blinked furiously, and the twinkling light that usually shone from Dumbledore\\'s eyes seemed to have gone out.　　\"Well,\" said Dumbledore finally, \"that\\'s that. We\\'ve no business staying here. We may as well go and join the celebrations.\"　　\"Yeah,\" said Hagrid in a very muffled voice, \"I\\'ll be takin\\' Sirius his bike back. G\\'night, Professor McGonagall -- Professor Dumbledore, sir.\"　　Wiping his streaming eyes on his jacket sleeve, Hagrid swung himself onto the motorcycle and kicked the engine into life; with a roar it rose into the air and off into the night.　　\"I shall see you soon, I expect, Professor McGonagall,\" said Dumbledore, nodding to her. Professor McGonagall blew her nose in reply.　　Dumbledore turned and walked back down the street. On the corner he stopped and took out the silver Put-Outer. He clicked it once, and twelve balls of light sped back to their street lamps so that Privet Drive glowed suddenly orange and he could make out a tabby cat slinking around the corner at the other end of the street. He could just see the bundle of blankets on the step of number four.　　\"Good luck, Harry,\" he murmured. He turned on his heel and with a swish of his cloak, he was gone.　　A breeze ruffled the neat hedges of Privet Drive, which lay silent and tidy under the inky sky, the very last place you would expect astonishing things to happen. Harry Potter rolled over inside his blankets without waking up. One small hand closed on the letter beside him and he slept on, not knowing he was special, not knowing he was famous, not knowing he would be woken in a few hours\\' time by Mrs. Dursley\\'s scream as she opened the front door to put out the milk bottles, nor that he would spend the next few weeks being prodded and pinched by his cousin Dudley... He couldn\\'t know that at this very moment, people meeting in secret all over the country were holding up their glasses and saying in hushed voices: \"To Harry Potter -- the boy who lived!'"
            ],
            "text/markdown": "'THE BOY WHO LIVED　　Mr. and Mrs. Dursley, of number four, Privet Drive, were proud to say that they were perfectly normal, thank you very much. They were the last people you\\'d expect to be involved in anything strange or mysterious, because they just didn\\'t hold with such nonsense.　　Mr. Dursley was the director of a firm called Grunnings, which made drills. He was a big, beefy man with hardly any neck, although he did have a very large mustache. Mrs. Dursley was thin and blonde and had nearly twice the usual amount of neck, which came in very useful as she spent so much of her time craning over garden fences, spying on the neighbors. The Dursleys had a small son called Dudley and in their opinion there was no finer boy anywhere.　　The Dursleys had everything they wanted, but they also had a secret, and their greatest fear was that somebody would discover it. They didn\\'t think they could bear it if anyone found out about the Potters. Mrs. Potter was Mrs. Dursley\\'s sister, but they hadn\\'t met for several years; in fact, Mrs. Dursley pretended she didn\\'t have a sister, because her sister and her good-for-nothing husband were as unDursleyish as it was possible to be. The Dursleys shuddered to think what the neighbors would say if the Potters arrived in the street. The Dursleys knew that the Potters had a small son, too, but they had never even seen him. This boy was another good reason for keeping the Potters away; they didn\\'t want Dudley mixing with a child like that.　　When Mr. and Mrs. Dursley woke up on the dull, gray Tuesday our story starts, there was nothing about the cloudy sky outside to suggest that strange and mysterious things would soon be happening all over the country. Mr. Dursley hummed as he picked out his most boring tie for work, and Mrs. Dursley gossiped away happily as she wrestled a screaming Dudley into his high chair.　　None of them noticed a large, tawny owl flutter past the window.　　At half past eight, Mr. Dursley picked up his briefcase, pecked Mrs. Dursley on the cheek, and tried to kiss Dudley good-bye but missed, because Dudley was now having a tantrum and throwing his cereal at the walls. \"Little tyke,\" chortled Mr. Dursley as he left the house. He got into his car and backed out of number four\\'s drive.　　It was on the corner of the street that he noticed the first sign of something peculiar -- a cat reading a map. For a second, Mr. Dursley didn\\'t realize what he had seen -- then he jerked his head around to look again. There was a tabby cat standing on the corner of Privet Drive, but there wasn\\'t a map in sight. What could he have been thinking of? It must have been a trick of the light. Mr. Dursley blinked and stared at the cat. It stared back. As Mr. Dursley drove around the corner and up the road, he watched the cat in his mirror. It was now reading the sign that said Privet Drive -- no, looking at the sign; cats couldn\\'t read maps or signs. Mr. Dursley gave himself a little shake and put the cat out of his mind. As he drove toward town he thought of nothing except a large order of drills he was hoping to get that day.　　But on the edge of town, drills were driven out of his mind by something else. As he sat in the usual morning traffic jam, he couldn\\'t help noticing that there seemed to be a lot of strangely dressed people about. People in cloaks. Mr. Dursley couldn\\'t bear people who dressed in funny clothes -- the getups you saw on young people! He supposed this was some stupid new fashion. He drummed his fingers on the steering wheel and his eyes fell on a huddle of these weirdos standing quite close by. They were whispering excitedly together. Mr. Dursley was enraged to see that a couple of them weren\\'t young at all; why, that man had to be older than he was, and wearing an emerald-green cloak! The nerve of him! But then it struck Mr. Dursley that this was probably some silly stunt -- these people were obviously collecting for something... yes, that would be it. The traffic moved on and a few minutes later, Mr. Dursley arrived in the Grunnings parking lot, his mind back on drills.　　Mr. Dursley always sat with his back to the window in his office on the ninth floor. If he hadn\\'t, he might have found it harder to concentrate on drills that morning. He didn\\'t see the owls swoop ing past in broad daylight, though people down in the street did; they pointed and gazed open- mouthed as owl after owl sped overhead. Most of them had never seen an owl even at nighttime. Mr. Dursley, however, had a perfectly normal, owl-free morning. He yelled at five different people. He made several important telephone calls and shouted a bit more. He was in a very good mood until lunchtime, when he thought he\\'d stretch his legs and walk across the road to buy himself a bun from the bakery.　　He\\'d forgotten all about the people in cloaks until he passed a group of them next to the baker\\'s. He eyed them angrily as he passed. He didn\\'t know why, but they made him uneasy. This bunch were whispering excitedly, too, and he couldn\\'t see a single collecting tin. It was on his way back past them, clutching a large doughnut in a bag, that he caught a few words of what they were saying.　　 \"The Potters, that\\'s right, that\\'s what I heard yes, their son, Harry\"　　Mr. Dursley stopped dead. Fear flooded him. He looked back at the whisperers as if he wanted to say something to them, but thought better of it.　　He dashed back across the road, hurried up to his office, snapped at his secretary not to disturb him, seized his telephone, and had almost finished dialing his home number when he changed his mind. He put the receiver back down and stroked his mustache, thinking... no, he was being stupid. Potter wasn\\'t such an unusual name. He was sure there were lots of people called Potter who had a son called Harry. Come to think of it, he wasn\\'t even sure his nephew was called Harry. He\\'d never even seen the boy. It might have been Harvey. Or Harold. There was no point in worrying Mrs. Dursley; she always got so upset at any mention of her sister. He didn\\'t blame her -- if he\\'d had a sister like that... but all the same, those people in cloaks...　　He found it a lot harder to concentrate on drills that afternoon and when he left the building at five o\\'clock, he was still so worried that he walked straight into someone just outside the door.　　\"Sorry,\" he grunted, as the tiny old man stumbled and almost fell. It was a few seconds before Mr. Dursley realized that the man was wearing a violet cloak. He didn\\'t seem at all upset at being almost knocked to the ground. On the contrary, his face split into a wide smile and he said in a squeaky voice that made passersby stare, \"Don\\'t be sorry, my dear sir, for nothing could upset me today! Rejoice, for You-Know-Who has gone at last! Even Muggles like yourself should be celebrating, this happy, happy day!\"　　And the old man hugged Mr. Dursley around the middle and walked off.　　Mr. Dursley stood rooted to the spot. He had been hugged by a complete stranger. He also thought he had been called a Muggle, whatever that was. He was rattled. He hurried to his car and set off for home, hoping he was imagining things, which he had never hoped before, because he didn\\'t approve of imagination.　　As he pulled into the driveway of number four, the first thing he saw -- and it didn\\'t improve his mood -- was the tabby cat he\\'d spotted that morning. It was now sitting on his garden wall. He was sure it was the same one; it had the same markings around its eyes.　　\"Shoo!\" said Mr. Dursley loudly. The cat didn\\'t move. It just gave him a stern look. Was this normal cat behavior? Mr. Dursley wondered. Trying to pull himself together, he let himself into the house. He was still determined not to mention anything to his wife.　　Mrs. Dursley had had a nice, normal day. She told him over dinner all about Mrs. Next Door\\'s problems with her daughter and how Dudley had learned a new word (\"Won\\'t!\"). Mr. Dursley tried to act normally. When Dudley had been put to bed, he went into the living room in time to catch the last report on the evening news:　　\"And finally, bird-watchers everywhere have reported that the nation\\'s owls have been behaving very unusually today. Although owls normally hunt at night and are hardly ever seen in daylight, there have been hundreds of sightings of these birds flying in every direction since sunrise. Experts are unable to explain why the owls have suddenly changed their sleeping pattern.\" The newscaster allowed himself a grin. \"Most mysterious. And now, over to Jim McGuffin with the weather. Going to be any more showers of owls tonight, Jim?\"　　\"Well, Ted,\" said the weatherman, \"I don\\'t know about that, but it\\'s not only the owls that have been acting oddly today. Viewers as far apart as Kent, Yorkshire, and Dundee have been phoning in to tell me that instead of the rain I promised yesterday, they\\'ve had a downpour of shooting stars! Perhaps people have been celebrating Bonfire Night early -- it\\'s not until next week, folks! But I can promise a wet night tonight.\"　　Mr. Dursley sat frozen in his armchair. Shooting stars all over Britain? Owls flying by daylight? Mysterious people in cloaks all over the place? And a whisper, a whisper about the Potters...　　Mrs. Dursley came into the living room carrying two cups of tea. It was no good. He\\'d have to say something to her. He cleared his throat nervously. \"Er -- Petunia, dear -- you haven\\'t heard from your sister lately, have you?\"　　As he had expected, Mrs. Dursley looked shocked and angry. After all, they normally pretended she didn\\'t have a sister.　　\"No,\" she said sharply. \"Why?\"　　\"Funny stuff on the news,\" Mr. Dursley mumbled. \"Owls... shooting stars... and there were a lot of funny-looking people in town today...\"　　\"So?\" snapped Mrs. Dursley.　　\"Well, I just thought... maybe... it was something to do with... you know... her crowd.\"　　Mrs. Dursley sipped her tea through pursed lips. Mr. Dursley wondered whether he dared tell her he\\'d heard the name \"Potter.\" He decided he didn\\'t dare. Instead he said, as casually as he could, \"Their son -- he\\'d be about Dudley\\'s age now, wouldn\\'t he?\"　　\"I suppose so,\" said Mrs. Dursley stiffly.　　\"What\\'s his name again? Howard, isn\\'t it?\"　　\"Harry. Nasty, common name, if you ask me.\"　　\"Oh, yes,\" said Mr. Dursley, his heart sinking horribly. \"Yes, I quite agree.\"　　He didn\\'t say another word on the subject as they went upstairs to bed. While Mrs. Dursley was in the bathroom, Mr. Dursley crept to the bedroom window and peered down into the front garden. The cat was still there. It was staring down Privet Drive as though it were waiting for something.　　Was he imagining things? Could all this have anything to do with the Potters? If it did... if it got out that they were related to a pair of -- well, he didn\\'t think he could bear it.　　The Dursleys got into bed. Mrs. Dursley fell asleep quickly but Mr. Dursley lay awake, turning it all over in his mind. His last, comforting thought before he fell asleep was that even if the Potters were involved, there was no reason for them to come near him and Mrs. Dursley. The Potters knew very well what he and Petunia thought about them and their kind.... He couldn\\'t see how he and Petunia could get mixed up in anything that might be going on -- he yawned and turned over -- it couldn\\'t affect them....　　How very wrong he was.　　Mr. Dursley might have been drifting into an uneasy sleep, but the cat on the wall outside was showing no sign of sleepiness. It was sitting as still as a statue, its eyes fixed unblinkingly on the far corner of Privet Drive. It didn\\'t so much as quiver when a car door slammed on the next street, nor when two owls swooped overhead. In fact, it was nearly midnight before the cat moved at all.　　A man appeared on the corner the cat had been watching, appeared so suddenly and silently you\\'d have thought he\\'d just popped out of the ground. The cat\\'s tail twitched and its eyes narrowed.　　Nothing like this man had ever been seen on Privet Drive. He was tall, thin, and very old, judging by the silver of his hair and beard, which were both long enough to tuck into his belt. He was wearing long robes, a purple cloak that swept the ground, and high-heeled, buckled boots. His blue eyes were light, bright, and sparkling behind half-moon spectacles and his nose was very long and crooked, as though it had been broken at least twice. This man\\'s name was Albus Dumbledore.　　Albus Dumbledore didn\\'t seem to realize that he had just arrived in a street where everything from his name to his boots was unwelcome. He was busy rummaging in his cloak, looking for something. But he did seem to realize he was being watched, because he looked up suddenly at the cat, which was still staring at him from the other end of the street. For some reason, the sight of the cat seemed to amuse him. He chuckled and muttered, \"I should have known.\"　　He found what he was looking for in his inside pocket. It seemed to be a silver cigarette lighter. He flicked it open, held it up in the air, and clicked it. The nearest street lamp went out with a little pop. He clicked it again -- the next lamp flickered into darkness. Twelve times he clicked the Put-Outer, until the only lights left on the whole street were two tiny pinpricks in the distance, which were the eyes of the cat watching him. If anyone looked out of their window now, even beady-eyed Mrs. Dursley, they wouldn\\'t be able to see anything that was happening down on the pavement. Dumbledore slipped the Put-Outer back inside his cloak and set off down the street toward number four, where he sat down on the wall next to the cat. He didn\\'t look at it, but after a moment he spoke to it.　　\"Fancy seeing you here, Professor McGonagall.\"　　He turned to smile at the tabby, but it had gone. Instead he was smiling at a rather severe-looking woman who was wearing square glasses exactly the shape of the markings the cat had had around its eyes. She, too, was wearing a cloak, an emerald one. Her black hair was drawn into a tight bun. She looked distinctly ruffled.　　\"How did you know it was me?\" she asked.　　\"My dear Professor, I \\'ve never seen a cat sit so stiffly.\"　　\"You\\'d be stiff if you\\'d been sitting on a brick wall all day,\" said Professor McGonagall.　　\"All day? When you could have been celebrating? I must have passed a dozen feasts and parties on my way here.\"　　Professor McGonagall sniffed angrily.　　\"Oh yes, everyone\\'s celebrating, all right,\" she said impatiently. \"You\\'d think they\\'d be a bit more careful, but no -- even the Muggles have noticed something\\'s going on. It was on their news.\" She jerked her head back at the Dursleys\\' dark living-room window. \"I heard it. Flocks of owls... shooting stars.... Well, they\\'re not completely stupid. They were bound to notice something. Shooting stars down in Kent -- I\\'ll bet that was Dedalus Diggle. He never had much sense.\"　　\"You can\\'t blame them,\" said Dumbledore gently. \"We\\'ve had precious little to celebrate for eleven years.\"　　\"I know that,\" said Professor McGonagall irritably. \"But that\\'s no reason to lose our heads. People are being downright careless, out on the streets in broad daylight, not even dressed in Muggle clothes, swapping rumors.\"　　She threw a sharp, sideways glance at Dumbledore here, as though hoping he was going to tell her something, but he didn\\'t, so she went on. \"A fine thing it would be if, on the very day YouKnow-Who seems to have disappeared at last, the Muggles found out about us all. I suppose he really has gone, Dumbledore?\"　　\"It certainly seems so,\" said Dumbledore. \"We have much to be thankful for. Would you care for a lemon drop?\"　　\"A what?\"　　\"A lemon drop. They\\'re a kind of Muggle sweet I\\'m rather fond of\"　　\"No, thank you,\" said Professor McGonagall coldly, as though she didn\\'t think this was the moment for lemon drops. \"As I say, even if You-Know-Who has gone -\"　　\"My dear Professor, surely a sensible person like yourself can call him by his name? All this \\'You- Know-Who\\' nonsense -- for eleven years I have been trying to persuade people to call him by his proper name: Voldemort.\" Professor McGonagall flinched, but Dumbledore, who was unsticking two lemon drops, seemed not to notice. \"It all gets so confusing if we keep saying \\'You-Know-Who.\\' I have never seen any reason to be frightened of saying Voldemort\\'s name.　　\"I know you haven \\'t, said Professor McGonagall, sounding half exasperated, half admiring. \"But you\\'re different. Everyone knows you\\'re the only one You-Know- oh, all right, Voldemort, was frightened of.\"　　\"You flatter me,\" said Dumbledore calmly. \"Voldemort had powers I will never have.\"　　\"Only because you\\'re too -- well -- noble to use them.\"　　\"It\\'s lucky it\\'s dark. I haven\\'t blushed so much since Madam Pomfrey told me she liked my new earmuffs.\"　　Professor McGonagall shot a sharp look at Dumbledore and said, \"The owls are nothing next to the rumors that are flying around. You know what everyone\\'s saying? About why he\\'s disappeared? About what finally stopped him?\"　　It seemed that Professor McGonagall had reached the point she was most anxious to discuss, the real reason she had been waiting on a cold, hard wall all day, for neither as a cat nor as a woman had she fixed Dumbledore with such a piercing stare as she did now. It was plain that whatever \"everyone\" was saying, she was not going to believe it until Dumbledore told her it was true. Dumbledore, however, was choosing another lemon drop and did not answer.　　\"What they\\'re saying,\" she pressed on, \"is that last night Voldemort turned up in Godric\\'s Hollow. He went to find the Potters. The rumor is that Lily and James Potter are -- are -- that they\\'re -- dead. \"　　Dumbledore bowed his head. Professor McGonagall gasped.　　\"Lily and James... I can\\'t believe it... I didn\\'t want to believe it... Oh, Albus...\"　　Dumbledore reached out and patted her on the shoulder. \"I know... I know...\" he said heavily.　　Professor McGonagall\\'s voice trembled as she went on. \"That\\'s not all. They\\'re saying he tried to kill the Potter\\'s son, Harry. But -- he couldn\\'t. He couldn\\'t kill that little boy. No one knows why, or how, but they\\'re saying that when he couldn\\'t kill Harry Potter, Voldemort\\'s power somehow broke -- and that\\'s why he\\'s gone.　　Dumbledore nodded glumly.　　\"It\\'s -- it\\'s true?\" faltered Professor McGonagall. \"After all he\\'s done... all the people he\\'s killed... he couldn\\'t kill a little boy? It\\'s just astounding... of all the things to stop him... but how in the name of heaven did Harry survive?\"　　\"We can only guess,\" said Dumbledore. \"We may never know.\"　　Professor McGonagall pulled out a lace handkerchief and dabbed at her eyes beneath her spectacles. Dumbledore gave a great sniff as he took a golden watch from his pocket and examined it. It was a very odd watch. It had twelve hands but no numbers; instead, little planets were moving around the edge. It must have made sense to Dumbledore, though, because he put it back in his pocket and said, \"Hagrid\\'s late. I suppose it was he who told you I\\'d be here, by the way?\"　　\"Yes,\" said Professor McGonagall. \"And I don\\'t suppose you\\'re going to tell me why you\\'re here, of all places?\"　　\"I\\'ve come to bring Harry to his aunt and uncle. They\\'re the only family he has left now.\"　　\"You don\\'t mean -- you can\\'t mean the people who live here?\" cried Professor McGonagall, jumping to her feet and pointing at number four. \"Dumbledore -- you can\\'t. I\\'ve been watching them all day. You couldn\\'t find two people who are less like us. And they\\'ve got this son -- I saw him kicking his mother all the way up the street, screaming for sweets. Harry Potter come and live here!\"　　\"It\\'s the best place for him,\" said Dumbledore firmly. \"His aunt and uncle will be able to explain everything to him when he\\'s older. I\\'ve written them a letter.\"　　\"A letter?\" repeated Professor McGonagall faintly, sitting back down on the wall. \"Really, Dumbledore, you think you can explain all this in a letter? These people will never understand him! He\\'ll be famous -- a legend -- I wouldn\\'t be surprised if today was known as Harry Potter day in the future -- there will be books written about Harry -- every child in our world will know his name!\"　　\"Exactly,\" said Dumbledore, looking very seriously over the top of his half-moon glasses. \"It would be enough to turn any boy\\'s head. Famous before he can walk and talk! Famous for something he won\\'t even remember! CarA you see how much better off he\\'ll be, growing up away from all that until he\\'s ready to take it?\"　　Professor McGonagall opened her mouth, changed her mind, swallowed, and then said, \"Yes -- yes, you\\'re right, of course. But how is the boy getting here, Dumbledore?\" She eyed his cloak suddenly as though she thought he might be hiding Harry underneath it.　　\"Hagrid\\'s bringing him.\"　　\"You think it -- wise -- to trust Hagrid with something as important as this?\"　　I would trust Hagrid with my life,\" said Dumbledore.　　\"I\\'m not saying his heart isn\\'t in the right place,\" said Professor McGonagall grudgingly, \"but you can\\'t pretend he\\'s not careless. He does tend to -- what was that?\"　　A low rumbling sound had broken the silence around them. It grew steadily louder as they looked up and down the street for some sign of a headlight; it swelled to a roar as they both looked up at the sky -- and a huge motorcycle fell out of the air and landed on the road in front of them.　　If the motorcycle was huge, it was nothing to the man sitting astride it. He was almost twice as tall as a normal man and at least five times as wide. He looked simply too big to be allowed, and so wild - long tangles of bushy black hair and beard hid most of his face, he had hands the size of trash can lids, and his feet in their leather boots were like baby dolphins. In his vast, muscular arms he was holding a bundle of blankets.　　\"Hagrid,\" said Dumbledore, sounding relieved. \"At last. And where did you get that motorcycle?\"　　\"Borrowed it, Professor Dumbledore, sit,\" said the giant, climbing carefully off the motorcycle as he spoke. \"Young Sirius Black lent it to me. I\\'ve got him, sir.\"　　\"No problems, were there?\"　　\"No, sir -- house was almost destroyed, but I got him out all right before the Muggles started swarmin\\' around. He fell asleep as we was flyin\\' over Bristol.\"　　Dumbledore and Professor McGonagall bent forward over the bundle of blankets. Inside, just visible, was a baby boy, fast asleep. Under a tuft of jet-black hair over his forehead they could see a curiously shaped cut, like a bolt of lightning.　　\"Is that where -?\" whispered Professor McGonagall.　　\"Yes,\" said Dumbledore. \"He\\'ll have that scar forever.\"　　\"Couldn\\'t you do something about it, Dumbledore?\"　　\"Even if I could, I wouldn\\'t. Scars can come in handy. I have one myself above my left knee that is a perfect map of the London Underground. Well -- give him here, Hagrid -- we\\'d better get this over with.\"　　Dumbledore took Harry in his arms and turned toward the Dursleys\\' house.　　\"Could I -- could I say good-bye to him, sir?\" asked Hagrid. He bent his great, shaggy head over Harry and gave him what must have been a very scratchy, whiskery kiss. Then, suddenly, Hagrid let out a howl like a wounded dog.　　\"Shhh!\" hissed Professor McGonagall, \"you\\'ll wake the Muggles!\"　　\"S-s-sorry,\" sobbed Hagrid, taking out a large, spotted handkerchief and burying his face in it. \"But I c-c-can\\'t stand it -- Lily an\\' James dead -- an\\' poor little Harry off ter live with Muggles -\"　　\"Yes, yes, it\\'s all very sad, but get a grip on yourself, Hagrid, or we\\'ll be found,\" Professor McGonagall whispered, patting Hagrid gingerly on the arm as Dumbledore stepped over the low garden wall and walked to the front door. He laid Harry gently on the doorstep, took a letter out of his cloak, tucked it inside Harry\\'s blankets, and then came back to the other two. For a full minute the three of them stood and looked at the little bundle; Hagrid\\'s shoulders shook, Professor McGonagall blinked furiously, and the twinkling light that usually shone from Dumbledore\\'s eyes seemed to have gone out.　　\"Well,\" said Dumbledore finally, \"that\\'s that. We\\'ve no business staying here. We may as well go and join the celebrations.\"　　\"Yeah,\" said Hagrid in a very muffled voice, \"I\\'ll be takin\\' Sirius his bike back. G\\'night, Professor McGonagall -- Professor Dumbledore, sir.\"　　Wiping his streaming eyes on his jacket sleeve, Hagrid swung himself onto the motorcycle and kicked the engine into life; with a roar it rose into the air and off into the night.　　\"I shall see you soon, I expect, Professor McGonagall,\" said Dumbledore, nodding to her. Professor McGonagall blew her nose in reply.　　Dumbledore turned and walked back down the street. On the corner he stopped and took out the silver Put-Outer. He clicked it once, and twelve balls of light sped back to their street lamps so that Privet Drive glowed suddenly orange and he could make out a tabby cat slinking around the corner at the other end of the street. He could just see the bundle of blankets on the step of number four.　　\"Good luck, Harry,\" he murmured. He turned on his heel and with a swish of his cloak, he was gone.　　A breeze ruffled the neat hedges of Privet Drive, which lay silent and tidy under the inky sky, the very last place you would expect astonishing things to happen. Harry Potter rolled over inside his blankets without waking up. One small hand closed on the letter beside him and he slept on, not knowing he was special, not knowing he was famous, not knowing he would be woken in a few hours\\' time by Mrs. Dursley\\'s scream as she opened the front door to put out the milk bottles, nor that he would spend the next few weeks being prodded and pinched by his cousin Dudley... He couldn\\'t know that at this very moment, people meeting in secret all over the country were holding up their glasses and saying in hushed voices: \"To Harry Potter -- the boy who lived!'",
            "text/latex": "'THE BOY WHO LIVED　　Mr. and Mrs. Dursley, of number four, Privet Drive, were proud to say that they were perfectly normal, thank you very much. They were the last people you\\textbackslash{}'d expect to be involved in anything strange or mysterious, because they just didn\\textbackslash{}'t hold with such nonsense.　　Mr. Dursley was the director of a firm called Grunnings, which made drills. He was a big, beefy man with hardly any neck, although he did have a very large mustache. Mrs. Dursley was thin and blonde and had nearly twice the usual amount of neck, which came in very useful as she spent so much of her time craning over garden fences, spying on the neighbors. The Dursleys had a small son called Dudley and in their opinion there was no finer boy anywhere.　　The Dursleys had everything they wanted, but they also had a secret, and their greatest fear was that somebody would discover it. They didn\\textbackslash{}'t think they could bear it if anyone found out about the Potters. Mrs. Potter was Mrs. Dursley\\textbackslash{}'s sister, but they hadn\\textbackslash{}'t met for several years; in fact, Mrs. Dursley pretended she didn\\textbackslash{}'t have a sister, because her sister and her good-for-nothing husband were as unDursleyish as it was possible to be. The Dursleys shuddered to think what the neighbors would say if the Potters arrived in the street. The Dursleys knew that the Potters had a small son, too, but they had never even seen him. This boy was another good reason for keeping the Potters away; they didn\\textbackslash{}'t want Dudley mixing with a child like that.　　When Mr. and Mrs. Dursley woke up on the dull, gray Tuesday our story starts, there was nothing about the cloudy sky outside to suggest that strange and mysterious things would soon be happening all over the country. Mr. Dursley hummed as he picked out his most boring tie for work, and Mrs. Dursley gossiped away happily as she wrestled a screaming Dudley into his high chair.　　None of them noticed a large, tawny owl flutter past the window.　　At half past eight, Mr. Dursley picked up his briefcase, pecked Mrs. Dursley on the cheek, and tried to kiss Dudley good-bye but missed, because Dudley was now having a tantrum and throwing his cereal at the walls. \"Little tyke,\" chortled Mr. Dursley as he left the house. He got into his car and backed out of number four\\textbackslash{}'s drive.　　It was on the corner of the street that he noticed the first sign of something peculiar -- a cat reading a map. For a second, Mr. Dursley didn\\textbackslash{}'t realize what he had seen -- then he jerked his head around to look again. There was a tabby cat standing on the corner of Privet Drive, but there wasn\\textbackslash{}'t a map in sight. What could he have been thinking of? It must have been a trick of the light. Mr. Dursley blinked and stared at the cat. It stared back. As Mr. Dursley drove around the corner and up the road, he watched the cat in his mirror. It was now reading the sign that said Privet Drive -- no, looking at the sign; cats couldn\\textbackslash{}'t read maps or signs. Mr. Dursley gave himself a little shake and put the cat out of his mind. As he drove toward town he thought of nothing except a large order of drills he was hoping to get that day.　　But on the edge of town, drills were driven out of his mind by something else. As he sat in the usual morning traffic jam, he couldn\\textbackslash{}'t help noticing that there seemed to be a lot of strangely dressed people about. People in cloaks. Mr. Dursley couldn\\textbackslash{}'t bear people who dressed in funny clothes -- the getups you saw on young people! He supposed this was some stupid new fashion. He drummed his fingers on the steering wheel and his eyes fell on a huddle of these weirdos standing quite close by. They were whispering excitedly together. Mr. Dursley was enraged to see that a couple of them weren\\textbackslash{}'t young at all; why, that man had to be older than he was, and wearing an emerald-green cloak! The nerve of him! But then it struck Mr. Dursley that this was probably some silly stunt -- these people were obviously collecting for something... yes, that would be it. The traffic moved on and a few minutes later, Mr. Dursley arrived in the Grunnings parking lot, his mind back on drills.　　Mr. Dursley always sat with his back to the window in his office on the ninth floor. If he hadn\\textbackslash{}'t, he might have found it harder to concentrate on drills that morning. He didn\\textbackslash{}'t see the owls swoop ing past in broad daylight, though people down in the street did; they pointed and gazed open- mouthed as owl after owl sped overhead. Most of them had never seen an owl even at nighttime. Mr. Dursley, however, had a perfectly normal, owl-free morning. He yelled at five different people. He made several important telephone calls and shouted a bit more. He was in a very good mood until lunchtime, when he thought he\\textbackslash{}'d stretch his legs and walk across the road to buy himself a bun from the bakery.　　He\\textbackslash{}'d forgotten all about the people in cloaks until he passed a group of them next to the baker\\textbackslash{}'s. He eyed them angrily as he passed. He didn\\textbackslash{}'t know why, but they made him uneasy. This bunch were whispering excitedly, too, and he couldn\\textbackslash{}'t see a single collecting tin. It was on his way back past them, clutching a large doughnut in a bag, that he caught a few words of what they were saying.　　 \"The Potters, that\\textbackslash{}'s right, that\\textbackslash{}'s what I heard yes, their son, Harry\"　　Mr. Dursley stopped dead. Fear flooded him. He looked back at the whisperers as if he wanted to say something to them, but thought better of it.　　He dashed back across the road, hurried up to his office, snapped at his secretary not to disturb him, seized his telephone, and had almost finished dialing his home number when he changed his mind. He put the receiver back down and stroked his mustache, thinking... no, he was being stupid. Potter wasn\\textbackslash{}'t such an unusual name. He was sure there were lots of people called Potter who had a son called Harry. Come to think of it, he wasn\\textbackslash{}'t even sure his nephew was called Harry. He\\textbackslash{}'d never even seen the boy. It might have been Harvey. Or Harold. There was no point in worrying Mrs. Dursley; she always got so upset at any mention of her sister. He didn\\textbackslash{}'t blame her -- if he\\textbackslash{}'d had a sister like that... but all the same, those people in cloaks...　　He found it a lot harder to concentrate on drills that afternoon and when he left the building at five o\\textbackslash{}'clock, he was still so worried that he walked straight into someone just outside the door.　　\"Sorry,\" he grunted, as the tiny old man stumbled and almost fell. It was a few seconds before Mr. Dursley realized that the man was wearing a violet cloak. He didn\\textbackslash{}'t seem at all upset at being almost knocked to the ground. On the contrary, his face split into a wide smile and he said in a squeaky voice that made passersby stare, \"Don\\textbackslash{}'t be sorry, my dear sir, for nothing could upset me today! Rejoice, for You-Know-Who has gone at last! Even Muggles like yourself should be celebrating, this happy, happy day!\"　　And the old man hugged Mr. Dursley around the middle and walked off.　　Mr. Dursley stood rooted to the spot. He had been hugged by a complete stranger. He also thought he had been called a Muggle, whatever that was. He was rattled. He hurried to his car and set off for home, hoping he was imagining things, which he had never hoped before, because he didn\\textbackslash{}'t approve of imagination.　　As he pulled into the driveway of number four, the first thing he saw -- and it didn\\textbackslash{}'t improve his mood -- was the tabby cat he\\textbackslash{}'d spotted that morning. It was now sitting on his garden wall. He was sure it was the same one; it had the same markings around its eyes.　　\"Shoo!\" said Mr. Dursley loudly. The cat didn\\textbackslash{}'t move. It just gave him a stern look. Was this normal cat behavior? Mr. Dursley wondered. Trying to pull himself together, he let himself into the house. He was still determined not to mention anything to his wife.　　Mrs. Dursley had had a nice, normal day. She told him over dinner all about Mrs. Next Door\\textbackslash{}'s problems with her daughter and how Dudley had learned a new word (\"Won\\textbackslash{}'t!\"). Mr. Dursley tried to act normally. When Dudley had been put to bed, he went into the living room in time to catch the last report on the evening news:　　\"And finally, bird-watchers everywhere have reported that the nation\\textbackslash{}'s owls have been behaving very unusually today. Although owls normally hunt at night and are hardly ever seen in daylight, there have been hundreds of sightings of these birds flying in every direction since sunrise. Experts are unable to explain why the owls have suddenly changed their sleeping pattern.\" The newscaster allowed himself a grin. \"Most mysterious. And now, over to Jim McGuffin with the weather. Going to be any more showers of owls tonight, Jim?\"　　\"Well, Ted,\" said the weatherman, \"I don\\textbackslash{}'t know about that, but it\\textbackslash{}'s not only the owls that have been acting oddly today. Viewers as far apart as Kent, Yorkshire, and Dundee have been phoning in to tell me that instead of the rain I promised yesterday, they\\textbackslash{}'ve had a downpour of shooting stars! Perhaps people have been celebrating Bonfire Night early -- it\\textbackslash{}'s not until next week, folks! But I can promise a wet night tonight.\"　　Mr. Dursley sat frozen in his armchair. Shooting stars all over Britain? Owls flying by daylight? Mysterious people in cloaks all over the place? And a whisper, a whisper about the Potters...　　Mrs. Dursley came into the living room carrying two cups of tea. It was no good. He\\textbackslash{}'d have to say something to her. He cleared his throat nervously. \"Er -- Petunia, dear -- you haven\\textbackslash{}'t heard from your sister lately, have you?\"　　As he had expected, Mrs. Dursley looked shocked and angry. After all, they normally pretended she didn\\textbackslash{}'t have a sister.　　\"No,\" she said sharply. \"Why?\"　　\"Funny stuff on the news,\" Mr. Dursley mumbled. \"Owls... shooting stars... and there were a lot of funny-looking people in town today...\"　　\"So?\" snapped Mrs. Dursley.　　\"Well, I just thought... maybe... it was something to do with... you know... her crowd.\"　　Mrs. Dursley sipped her tea through pursed lips. Mr. Dursley wondered whether he dared tell her he\\textbackslash{}'d heard the name \"Potter.\" He decided he didn\\textbackslash{}'t dare. Instead he said, as casually as he could, \"Their son -- he\\textbackslash{}'d be about Dudley\\textbackslash{}'s age now, wouldn\\textbackslash{}'t he?\"　　\"I suppose so,\" said Mrs. Dursley stiffly.　　\"What\\textbackslash{}'s his name again? Howard, isn\\textbackslash{}'t it?\"　　\"Harry. Nasty, common name, if you ask me.\"　　\"Oh, yes,\" said Mr. Dursley, his heart sinking horribly. \"Yes, I quite agree.\"　　He didn\\textbackslash{}'t say another word on the subject as they went upstairs to bed. While Mrs. Dursley was in the bathroom, Mr. Dursley crept to the bedroom window and peered down into the front garden. The cat was still there. It was staring down Privet Drive as though it were waiting for something.　　Was he imagining things? Could all this have anything to do with the Potters? If it did... if it got out that they were related to a pair of -- well, he didn\\textbackslash{}'t think he could bear it.　　The Dursleys got into bed. Mrs. Dursley fell asleep quickly but Mr. Dursley lay awake, turning it all over in his mind. His last, comforting thought before he fell asleep was that even if the Potters were involved, there was no reason for them to come near him and Mrs. Dursley. The Potters knew very well what he and Petunia thought about them and their kind.... He couldn\\textbackslash{}'t see how he and Petunia could get mixed up in anything that might be going on -- he yawned and turned over -- it couldn\\textbackslash{}'t affect them....　　How very wrong he was.　　Mr. Dursley might have been drifting into an uneasy sleep, but the cat on the wall outside was showing no sign of sleepiness. It was sitting as still as a statue, its eyes fixed unblinkingly on the far corner of Privet Drive. It didn\\textbackslash{}'t so much as quiver when a car door slammed on the next street, nor when two owls swooped overhead. In fact, it was nearly midnight before the cat moved at all.　　A man appeared on the corner the cat had been watching, appeared so suddenly and silently you\\textbackslash{}'d have thought he\\textbackslash{}'d just popped out of the ground. The cat\\textbackslash{}'s tail twitched and its eyes narrowed.　　Nothing like this man had ever been seen on Privet Drive. He was tall, thin, and very old, judging by the silver of his hair and beard, which were both long enough to tuck into his belt. He was wearing long robes, a purple cloak that swept the ground, and high-heeled, buckled boots. His blue eyes were light, bright, and sparkling behind half-moon spectacles and his nose was very long and crooked, as though it had been broken at least twice. This man\\textbackslash{}'s name was Albus Dumbledore.　　Albus Dumbledore didn\\textbackslash{}'t seem to realize that he had just arrived in a street where everything from his name to his boots was unwelcome. He was busy rummaging in his cloak, looking for something. But he did seem to realize he was being watched, because he looked up suddenly at the cat, which was still staring at him from the other end of the street. For some reason, the sight of the cat seemed to amuse him. He chuckled and muttered, \"I should have known.\"　　He found what he was looking for in his inside pocket. It seemed to be a silver cigarette lighter. He flicked it open, held it up in the air, and clicked it. The nearest street lamp went out with a little pop. He clicked it again -- the next lamp flickered into darkness. Twelve times he clicked the Put-Outer, until the only lights left on the whole street were two tiny pinpricks in the distance, which were the eyes of the cat watching him. If anyone looked out of their window now, even beady-eyed Mrs. Dursley, they wouldn\\textbackslash{}'t be able to see anything that was happening down on the pavement. Dumbledore slipped the Put-Outer back inside his cloak and set off down the street toward number four, where he sat down on the wall next to the cat. He didn\\textbackslash{}'t look at it, but after a moment he spoke to it.　　\"Fancy seeing you here, Professor McGonagall.\"　　He turned to smile at the tabby, but it had gone. Instead he was smiling at a rather severe-looking woman who was wearing square glasses exactly the shape of the markings the cat had had around its eyes. She, too, was wearing a cloak, an emerald one. Her black hair was drawn into a tight bun. She looked distinctly ruffled.　　\"How did you know it was me?\" she asked.　　\"My dear Professor, I \\textbackslash{}'ve never seen a cat sit so stiffly.\"　　\"You\\textbackslash{}'d be stiff if you\\textbackslash{}'d been sitting on a brick wall all day,\" said Professor McGonagall.　　\"All day? When you could have been celebrating? I must have passed a dozen feasts and parties on my way here.\"　　Professor McGonagall sniffed angrily.　　\"Oh yes, everyone\\textbackslash{}'s celebrating, all right,\" she said impatiently. \"You\\textbackslash{}'d think they\\textbackslash{}'d be a bit more careful, but no -- even the Muggles have noticed something\\textbackslash{}'s going on. It was on their news.\" She jerked her head back at the Dursleys\\textbackslash{}' dark living-room window. \"I heard it. Flocks of owls... shooting stars.... Well, they\\textbackslash{}'re not completely stupid. They were bound to notice something. Shooting stars down in Kent -- I\\textbackslash{}'ll bet that was Dedalus Diggle. He never had much sense.\"　　\"You can\\textbackslash{}'t blame them,\" said Dumbledore gently. \"We\\textbackslash{}'ve had precious little to celebrate for eleven years.\"　　\"I know that,\" said Professor McGonagall irritably. \"But that\\textbackslash{}'s no reason to lose our heads. People are being downright careless, out on the streets in broad daylight, not even dressed in Muggle clothes, swapping rumors.\"　　She threw a sharp, sideways glance at Dumbledore here, as though hoping he was going to tell her something, but he didn\\textbackslash{}'t, so she went on. \"A fine thing it would be if, on the very day YouKnow-Who seems to have disappeared at last, the Muggles found out about us all. I suppose he really has gone, Dumbledore?\"　　\"It certainly seems so,\" said Dumbledore. \"We have much to be thankful for. Would you care for a lemon drop?\"　　\"A what?\"　　\"A lemon drop. They\\textbackslash{}'re a kind of Muggle sweet I\\textbackslash{}'m rather fond of\"　　\"No, thank you,\" said Professor McGonagall coldly, as though she didn\\textbackslash{}'t think this was the moment for lemon drops. \"As I say, even if You-Know-Who has gone -\"　　\"My dear Professor, surely a sensible person like yourself can call him by his name? All this \\textbackslash{}'You- Know-Who\\textbackslash{}' nonsense -- for eleven years I have been trying to persuade people to call him by his proper name: Voldemort.\" Professor McGonagall flinched, but Dumbledore, who was unsticking two lemon drops, seemed not to notice. \"It all gets so confusing if we keep saying \\textbackslash{}'You-Know-Who.\\textbackslash{}' I have never seen any reason to be frightened of saying Voldemort\\textbackslash{}'s name.　　\"I know you haven \\textbackslash{}'t, said Professor McGonagall, sounding half exasperated, half admiring. \"But you\\textbackslash{}'re different. Everyone knows you\\textbackslash{}'re the only one You-Know- oh, all right, Voldemort, was frightened of.\"　　\"You flatter me,\" said Dumbledore calmly. \"Voldemort had powers I will never have.\"　　\"Only because you\\textbackslash{}'re too -- well -- noble to use them.\"　　\"It\\textbackslash{}'s lucky it\\textbackslash{}'s dark. I haven\\textbackslash{}'t blushed so much since Madam Pomfrey told me she liked my new earmuffs.\"　　Professor McGonagall shot a sharp look at Dumbledore and said, \"The owls are nothing next to the rumors that are flying around. You know what everyone\\textbackslash{}'s saying? About why he\\textbackslash{}'s disappeared? About what finally stopped him?\"　　It seemed that Professor McGonagall had reached the point she was most anxious to discuss, the real reason she had been waiting on a cold, hard wall all day, for neither as a cat nor as a woman had she fixed Dumbledore with such a piercing stare as she did now. It was plain that whatever \"everyone\" was saying, she was not going to believe it until Dumbledore told her it was true. Dumbledore, however, was choosing another lemon drop and did not answer.　　\"What they\\textbackslash{}'re saying,\" she pressed on, \"is that last night Voldemort turned up in Godric\\textbackslash{}'s Hollow. He went to find the Potters. The rumor is that Lily and James Potter are -- are -- that they\\textbackslash{}'re -- dead. \"　　Dumbledore bowed his head. Professor McGonagall gasped.　　\"Lily and James... I can\\textbackslash{}'t believe it... I didn\\textbackslash{}'t want to believe it... Oh, Albus...\"　　Dumbledore reached out and patted her on the shoulder. \"I know... I know...\" he said heavily.　　Professor McGonagall\\textbackslash{}'s voice trembled as she went on. \"That\\textbackslash{}'s not all. They\\textbackslash{}'re saying he tried to kill the Potter\\textbackslash{}'s son, Harry. But -- he couldn\\textbackslash{}'t. He couldn\\textbackslash{}'t kill that little boy. No one knows why, or how, but they\\textbackslash{}'re saying that when he couldn\\textbackslash{}'t kill Harry Potter, Voldemort\\textbackslash{}'s power somehow broke -- and that\\textbackslash{}'s why he\\textbackslash{}'s gone.　　Dumbledore nodded glumly.　　\"It\\textbackslash{}'s -- it\\textbackslash{}'s true?\" faltered Professor McGonagall. \"After all he\\textbackslash{}'s done... all the people he\\textbackslash{}'s killed... he couldn\\textbackslash{}'t kill a little boy? It\\textbackslash{}'s just astounding... of all the things to stop him... but how in the name of heaven did Harry survive?\"　　\"We can only guess,\" said Dumbledore. \"We may never know.\"　　Professor McGonagall pulled out a lace handkerchief and dabbed at her eyes beneath her spectacles. Dumbledore gave a great sniff as he took a golden watch from his pocket and examined it. It was a very odd watch. It had twelve hands but no numbers; instead, little planets were moving around the edge. It must have made sense to Dumbledore, though, because he put it back in his pocket and said, \"Hagrid\\textbackslash{}'s late. I suppose it was he who told you I\\textbackslash{}'d be here, by the way?\"　　\"Yes,\" said Professor McGonagall. \"And I don\\textbackslash{}'t suppose you\\textbackslash{}'re going to tell me why you\\textbackslash{}'re here, of all places?\"　　\"I\\textbackslash{}'ve come to bring Harry to his aunt and uncle. They\\textbackslash{}'re the only family he has left now.\"　　\"You don\\textbackslash{}'t mean -- you can\\textbackslash{}'t mean the people who live here?\" cried Professor McGonagall, jumping to her feet and pointing at number four. \"Dumbledore -- you can\\textbackslash{}'t. I\\textbackslash{}'ve been watching them all day. You couldn\\textbackslash{}'t find two people who are less like us. And they\\textbackslash{}'ve got this son -- I saw him kicking his mother all the way up the street, screaming for sweets. Harry Potter come and live here!\"　　\"It\\textbackslash{}'s the best place for him,\" said Dumbledore firmly. \"His aunt and uncle will be able to explain everything to him when he\\textbackslash{}'s older. I\\textbackslash{}'ve written them a letter.\"　　\"A letter?\" repeated Professor McGonagall faintly, sitting back down on the wall. \"Really, Dumbledore, you think you can explain all this in a letter? These people will never understand him! He\\textbackslash{}'ll be famous -- a legend -- I wouldn\\textbackslash{}'t be surprised if today was known as Harry Potter day in the future -- there will be books written about Harry -- every child in our world will know his name!\"　　\"Exactly,\" said Dumbledore, looking very seriously over the top of his half-moon glasses. \"It would be enough to turn any boy\\textbackslash{}'s head. Famous before he can walk and talk! Famous for something he won\\textbackslash{}'t even remember! CarA you see how much better off he\\textbackslash{}'ll be, growing up away from all that until he\\textbackslash{}'s ready to take it?\"　　Professor McGonagall opened her mouth, changed her mind, swallowed, and then said, \"Yes -- yes, you\\textbackslash{}'re right, of course. But how is the boy getting here, Dumbledore?\" She eyed his cloak suddenly as though she thought he might be hiding Harry underneath it.　　\"Hagrid\\textbackslash{}'s bringing him.\"　　\"You think it -- wise -- to trust Hagrid with something as important as this?\"　　I would trust Hagrid with my life,\" said Dumbledore.　　\"I\\textbackslash{}'m not saying his heart isn\\textbackslash{}'t in the right place,\" said Professor McGonagall grudgingly, \"but you can\\textbackslash{}'t pretend he\\textbackslash{}'s not careless. He does tend to -- what was that?\"　　A low rumbling sound had broken the silence around them. It grew steadily louder as they looked up and down the street for some sign of a headlight; it swelled to a roar as they both looked up at the sky -- and a huge motorcycle fell out of the air and landed on the road in front of them.　　If the motorcycle was huge, it was nothing to the man sitting astride it. He was almost twice as tall as a normal man and at least five times as wide. He looked simply too big to be allowed, and so wild - long tangles of bushy black hair and beard hid most of his face, he had hands the size of trash can lids, and his feet in their leather boots were like baby dolphins. In his vast, muscular arms he was holding a bundle of blankets.　　\"Hagrid,\" said Dumbledore, sounding relieved. \"At last. And where did you get that motorcycle?\"　　\"Borrowed it, Professor Dumbledore, sit,\" said the giant, climbing carefully off the motorcycle as he spoke. \"Young Sirius Black lent it to me. I\\textbackslash{}'ve got him, sir.\"　　\"No problems, were there?\"　　\"No, sir -- house was almost destroyed, but I got him out all right before the Muggles started swarmin\\textbackslash{}' around. He fell asleep as we was flyin\\textbackslash{}' over Bristol.\"　　Dumbledore and Professor McGonagall bent forward over the bundle of blankets. Inside, just visible, was a baby boy, fast asleep. Under a tuft of jet-black hair over his forehead they could see a curiously shaped cut, like a bolt of lightning.　　\"Is that where -?\" whispered Professor McGonagall.　　\"Yes,\" said Dumbledore. \"He\\textbackslash{}'ll have that scar forever.\"　　\"Couldn\\textbackslash{}'t you do something about it, Dumbledore?\"　　\"Even if I could, I wouldn\\textbackslash{}'t. Scars can come in handy. I have one myself above my left knee that is a perfect map of the London Underground. Well -- give him here, Hagrid -- we\\textbackslash{}'d better get this over with.\"　　Dumbledore took Harry in his arms and turned toward the Dursleys\\textbackslash{}' house.　　\"Could I -- could I say good-bye to him, sir?\" asked Hagrid. He bent his great, shaggy head over Harry and gave him what must have been a very scratchy, whiskery kiss. Then, suddenly, Hagrid let out a howl like a wounded dog.　　\"Shhh!\" hissed Professor McGonagall, \"you\\textbackslash{}'ll wake the Muggles!\"　　\"S-s-sorry,\" sobbed Hagrid, taking out a large, spotted handkerchief and burying his face in it. \"But I c-c-can\\textbackslash{}'t stand it -- Lily an\\textbackslash{}' James dead -- an\\textbackslash{}' poor little Harry off ter live with Muggles -\"　　\"Yes, yes, it\\textbackslash{}'s all very sad, but get a grip on yourself, Hagrid, or we\\textbackslash{}'ll be found,\" Professor McGonagall whispered, patting Hagrid gingerly on the arm as Dumbledore stepped over the low garden wall and walked to the front door. He laid Harry gently on the doorstep, took a letter out of his cloak, tucked it inside Harry\\textbackslash{}'s blankets, and then came back to the other two. For a full minute the three of them stood and looked at the little bundle; Hagrid\\textbackslash{}'s shoulders shook, Professor McGonagall blinked furiously, and the twinkling light that usually shone from Dumbledore\\textbackslash{}'s eyes seemed to have gone out.　　\"Well,\" said Dumbledore finally, \"that\\textbackslash{}'s that. We\\textbackslash{}'ve no business staying here. We may as well go and join the celebrations.\"　　\"Yeah,\" said Hagrid in a very muffled voice, \"I\\textbackslash{}'ll be takin\\textbackslash{}' Sirius his bike back. G\\textbackslash{}'night, Professor McGonagall -- Professor Dumbledore, sir.\"　　Wiping his streaming eyes on his jacket sleeve, Hagrid swung himself onto the motorcycle and kicked the engine into life; with a roar it rose into the air and off into the night.　　\"I shall see you soon, I expect, Professor McGonagall,\" said Dumbledore, nodding to her. Professor McGonagall blew her nose in reply.　　Dumbledore turned and walked back down the street. On the corner he stopped and took out the silver Put-Outer. He clicked it once, and twelve balls of light sped back to their street lamps so that Privet Drive glowed suddenly orange and he could make out a tabby cat slinking around the corner at the other end of the street. He could just see the bundle of blankets on the step of number four.　　\"Good luck, Harry,\" he murmured. He turned on his heel and with a swish of his cloak, he was gone.　　A breeze ruffled the neat hedges of Privet Drive, which lay silent and tidy under the inky sky, the very last place you would expect astonishing things to happen. Harry Potter rolled over inside his blankets without waking up. One small hand closed on the letter beside him and he slept on, not knowing he was special, not knowing he was famous, not knowing he would be woken in a few hours\\textbackslash{}' time by Mrs. Dursley\\textbackslash{}'s scream as she opened the front door to put out the milk bottles, nor that he would spend the next few weeks being prodded and pinched by his cousin Dudley... He couldn\\textbackslash{}'t know that at this very moment, people meeting in secret all over the country were holding up their glasses and saying in hushed voices: \"To Harry Potter -- the boy who lived!'",
            "text/plain": [
              "[1] \"THE BOY WHO LIVED　　Mr. and Mrs. Dursley, of number four, Privet Drive, were proud to say that they were perfectly normal, thank you very much. They were the last people you'd expect to be involved in anything strange or mysterious, because they just didn't hold with such nonsense.　　Mr. Dursley was the director of a firm called Grunnings, which made drills. He was a big, beefy man with hardly any neck, although he did have a very large mustache. Mrs. Dursley was thin and blonde and had nearly twice the usual amount of neck, which came in very useful as she spent so much of her time craning over garden fences, spying on the neighbors. The Dursleys had a small son called Dudley and in their opinion there was no finer boy anywhere.　　The Dursleys had everything they wanted, but they also had a secret, and their greatest fear was that somebody would discover it. They didn't think they could bear it if anyone found out about the Potters. Mrs. Potter was Mrs. Dursley's sister, but they hadn't met for several years; in fact, Mrs. Dursley pretended she didn't have a sister, because her sister and her good-for-nothing husband were as unDursleyish as it was possible to be. The Dursleys shuddered to think what the neighbors would say if the Potters arrived in the street. The Dursleys knew that the Potters had a small son, too, but they had never even seen him. This boy was another good reason for keeping the Potters away; they didn't want Dudley mixing with a child like that.　　When Mr. and Mrs. Dursley woke up on the dull, gray Tuesday our story starts, there was nothing about the cloudy sky outside to suggest that strange and mysterious things would soon be happening all over the country. Mr. Dursley hummed as he picked out his most boring tie for work, and Mrs. Dursley gossiped away happily as she wrestled a screaming Dudley into his high chair.　　None of them noticed a large, tawny owl flutter past the window.　　At half past eight, Mr. Dursley picked up his briefcase, pecked Mrs. Dursley on the cheek, and tried to kiss Dudley good-bye but missed, because Dudley was now having a tantrum and throwing his cereal at the walls. \\\"Little tyke,\\\" chortled Mr. Dursley as he left the house. He got into his car and backed out of number four's drive.　　It was on the corner of the street that he noticed the first sign of something peculiar -- a cat reading a map. For a second, Mr. Dursley didn't realize what he had seen -- then he jerked his head around to look again. There was a tabby cat standing on the corner of Privet Drive, but there wasn't a map in sight. What could he have been thinking of? It must have been a trick of the light. Mr. Dursley blinked and stared at the cat. It stared back. As Mr. Dursley drove around the corner and up the road, he watched the cat in his mirror. It was now reading the sign that said Privet Drive -- no, looking at the sign; cats couldn't read maps or signs. Mr. Dursley gave himself a little shake and put the cat out of his mind. As he drove toward town he thought of nothing except a large order of drills he was hoping to get that day.　　But on the edge of town, drills were driven out of his mind by something else. As he sat in the usual morning traffic jam, he couldn't help noticing that there seemed to be a lot of strangely dressed people about. People in cloaks. Mr. Dursley couldn't bear people who dressed in funny clothes -- the getups you saw on young people! He supposed this was some stupid new fashion. He drummed his fingers on the steering wheel and his eyes fell on a huddle of these weirdos standing quite close by. They were whispering excitedly together. Mr. Dursley was enraged to see that a couple of them weren't young at all; why, that man had to be older than he was, and wearing an emerald-green cloak! The nerve of him! But then it struck Mr. Dursley that this was probably some silly stunt -- these people were obviously collecting for something... yes, that would be it. The traffic moved on and a few minutes later, Mr. Dursley arrived in the Grunnings parking lot, his mind back on drills.　　Mr. Dursley always sat with his back to the window in his office on the ninth floor. If he hadn't, he might have found it harder to concentrate on drills that morning. He didn't see the owls swoop ing past in broad daylight, though people down in the street did; they pointed and gazed open- mouthed as owl after owl sped overhead. Most of them had never seen an owl even at nighttime. Mr. Dursley, however, had a perfectly normal, owl-free morning. He yelled at five different people. He made several important telephone calls and shouted a bit more. He was in a very good mood until lunchtime, when he thought he'd stretch his legs and walk across the road to buy himself a bun from the bakery.　　He'd forgotten all about the people in cloaks until he passed a group of them next to the baker's. He eyed them angrily as he passed. He didn't know why, but they made him uneasy. This bunch were whispering excitedly, too, and he couldn't see a single collecting tin. It was on his way back past them, clutching a large doughnut in a bag, that he caught a few words of what they were saying.　　 \\\"The Potters, that's right, that's what I heard yes, their son, Harry\\\"　　Mr. Dursley stopped dead. Fear flooded him. He looked back at the whisperers as if he wanted to say something to them, but thought better of it.　　He dashed back across the road, hurried up to his office, snapped at his secretary not to disturb him, seized his telephone, and had almost finished dialing his home number when he changed his mind. He put the receiver back down and stroked his mustache, thinking... no, he was being stupid. Potter wasn't such an unusual name. He was sure there were lots of people called Potter who had a son called Harry. Come to think of it, he wasn't even sure his nephew was called Harry. He'd never even seen the boy. It might have been Harvey. Or Harold. There was no point in worrying Mrs. Dursley; she always got so upset at any mention of her sister. He didn't blame her -- if he'd had a sister like that... but all the same, those people in cloaks...　　He found it a lot harder to concentrate on drills that afternoon and when he left the building at five o'clock, he was still so worried that he walked straight into someone just outside the door.　　\\\"Sorry,\\\" he grunted, as the tiny old man stumbled and almost fell. It was a few seconds before Mr. Dursley realized that the man was wearing a violet cloak. He didn't seem at all upset at being almost knocked to the ground. On the contrary, his face split into a wide smile and he said in a squeaky voice that made passersby stare, \\\"Don't be sorry, my dear sir, for nothing could upset me today! Rejoice, for You-Know-Who has gone at last! Even Muggles like yourself should be celebrating, this happy, happy day!\\\"　　And the old man hugged Mr. Dursley around the middle and walked off.　　Mr. Dursley stood rooted to the spot. He had been hugged by a complete stranger. He also thought he had been called a Muggle, whatever that was. He was rattled. He hurried to his car and set off for home, hoping he was imagining things, which he had never hoped before, because he didn't approve of imagination.　　As he pulled into the driveway of number four, the first thing he saw -- and it didn't improve his mood -- was the tabby cat he'd spotted that morning. It was now sitting on his garden wall. He was sure it was the same one; it had the same markings around its eyes.　　\\\"Shoo!\\\" said Mr. Dursley loudly. The cat didn't move. It just gave him a stern look. Was this normal cat behavior? Mr. Dursley wondered. Trying to pull himself together, he let himself into the house. He was still determined not to mention anything to his wife.　　Mrs. Dursley had had a nice, normal day. She told him over dinner all about Mrs. Next Door's problems with her daughter and how Dudley had learned a new word (\\\"Won't!\\\"). Mr. Dursley tried to act normally. When Dudley had been put to bed, he went into the living room in time to catch the last report on the evening news:　　\\\"And finally, bird-watchers everywhere have reported that the nation's owls have been behaving very unusually today. Although owls normally hunt at night and are hardly ever seen in daylight, there have been hundreds of sightings of these birds flying in every direction since sunrise. Experts are unable to explain why the owls have suddenly changed their sleeping pattern.\\\" The newscaster allowed himself a grin. \\\"Most mysterious. And now, over to Jim McGuffin with the weather. Going to be any more showers of owls tonight, Jim?\\\"　　\\\"Well, Ted,\\\" said the weatherman, \\\"I don't know about that, but it's not only the owls that have been acting oddly today. Viewers as far apart as Kent, Yorkshire, and Dundee have been phoning in to tell me that instead of the rain I promised yesterday, they've had a downpour of shooting stars! Perhaps people have been celebrating Bonfire Night early -- it's not until next week, folks! But I can promise a wet night tonight.\\\"　　Mr. Dursley sat frozen in his armchair. Shooting stars all over Britain? Owls flying by daylight? Mysterious people in cloaks all over the place? And a whisper, a whisper about the Potters...　　Mrs. Dursley came into the living room carrying two cups of tea. It was no good. He'd have to say something to her. He cleared his throat nervously. \\\"Er -- Petunia, dear -- you haven't heard from your sister lately, have you?\\\"　　As he had expected, Mrs. Dursley looked shocked and angry. After all, they normally pretended she didn't have a sister.　　\\\"No,\\\" she said sharply. \\\"Why?\\\"　　\\\"Funny stuff on the news,\\\" Mr. Dursley mumbled. \\\"Owls... shooting stars... and there were a lot of funny-looking people in town today...\\\"　　\\\"So?\\\" snapped Mrs. Dursley.　　\\\"Well, I just thought... maybe... it was something to do with... you know... her crowd.\\\"　　Mrs. Dursley sipped her tea through pursed lips. Mr. Dursley wondered whether he dared tell her he'd heard the name \\\"Potter.\\\" He decided he didn't dare. Instead he said, as casually as he could, \\\"Their son -- he'd be about Dudley's age now, wouldn't he?\\\"　　\\\"I suppose so,\\\" said Mrs. Dursley stiffly.　　\\\"What's his name again? Howard, isn't it?\\\"　　\\\"Harry. Nasty, common name, if you ask me.\\\"　　\\\"Oh, yes,\\\" said Mr. Dursley, his heart sinking horribly. \\\"Yes, I quite agree.\\\"　　He didn't say another word on the subject as they went upstairs to bed. While Mrs. Dursley was in the bathroom, Mr. Dursley crept to the bedroom window and peered down into the front garden. The cat was still there. It was staring down Privet Drive as though it were waiting for something.　　Was he imagining things? Could all this have anything to do with the Potters? If it did... if it got out that they were related to a pair of -- well, he didn't think he could bear it.　　The Dursleys got into bed. Mrs. Dursley fell asleep quickly but Mr. Dursley lay awake, turning it all over in his mind. His last, comforting thought before he fell asleep was that even if the Potters were involved, there was no reason for them to come near him and Mrs. Dursley. The Potters knew very well what he and Petunia thought about them and their kind.... He couldn't see how he and Petunia could get mixed up in anything that might be going on -- he yawned and turned over -- it couldn't affect them....　　How very wrong he was.　　Mr. Dursley might have been drifting into an uneasy sleep, but the cat on the wall outside was showing no sign of sleepiness. It was sitting as still as a statue, its eyes fixed unblinkingly on the far corner of Privet Drive. It didn't so much as quiver when a car door slammed on the next street, nor when two owls swooped overhead. In fact, it was nearly midnight before the cat moved at all.　　A man appeared on the corner the cat had been watching, appeared so suddenly and silently you'd have thought he'd just popped out of the ground. The cat's tail twitched and its eyes narrowed.　　Nothing like this man had ever been seen on Privet Drive. He was tall, thin, and very old, judging by the silver of his hair and beard, which were both long enough to tuck into his belt. He was wearing long robes, a purple cloak that swept the ground, and high-heeled, buckled boots. His blue eyes were light, bright, and sparkling behind half-moon spectacles and his nose was very long and crooked, as though it had been broken at least twice. This man's name was Albus Dumbledore.　　Albus Dumbledore didn't seem to realize that he had just arrived in a street where everything from his name to his boots was unwelcome. He was busy rummaging in his cloak, looking for something. But he did seem to realize he was being watched, because he looked up suddenly at the cat, which was still staring at him from the other end of the street. For some reason, the sight of the cat seemed to amuse him. He chuckled and muttered, \\\"I should have known.\\\"　　He found what he was looking for in his inside pocket. It seemed to be a silver cigarette lighter. He flicked it open, held it up in the air, and clicked it. The nearest street lamp went out with a little pop. He clicked it again -- the next lamp flickered into darkness. Twelve times he clicked the Put-Outer, until the only lights left on the whole street were two tiny pinpricks in the distance, which were the eyes of the cat watching him. If anyone looked out of their window now, even beady-eyed Mrs. Dursley, they wouldn't be able to see anything that was happening down on the pavement. Dumbledore slipped the Put-Outer back inside his cloak and set off down the street toward number four, where he sat down on the wall next to the cat. He didn't look at it, but after a moment he spoke to it.　　\\\"Fancy seeing you here, Professor McGonagall.\\\"　　He turned to smile at the tabby, but it had gone. Instead he was smiling at a rather severe-looking woman who was wearing square glasses exactly the shape of the markings the cat had had around its eyes. She, too, was wearing a cloak, an emerald one. Her black hair was drawn into a tight bun. She looked distinctly ruffled.　　\\\"How did you know it was me?\\\" she asked.　　\\\"My dear Professor, I 've never seen a cat sit so stiffly.\\\"　　\\\"You'd be stiff if you'd been sitting on a brick wall all day,\\\" said Professor McGonagall.　　\\\"All day? When you could have been celebrating? I must have passed a dozen feasts and parties on my way here.\\\"　　Professor McGonagall sniffed angrily.　　\\\"Oh yes, everyone's celebrating, all right,\\\" she said impatiently. \\\"You'd think they'd be a bit more careful, but no -- even the Muggles have noticed something's going on. It was on their news.\\\" She jerked her head back at the Dursleys' dark living-room window. \\\"I heard it. Flocks of owls... shooting stars.... Well, they're not completely stupid. They were bound to notice something. Shooting stars down in Kent -- I'll bet that was Dedalus Diggle. He never had much sense.\\\"　　\\\"You can't blame them,\\\" said Dumbledore gently. \\\"We've had precious little to celebrate for eleven years.\\\"　　\\\"I know that,\\\" said Professor McGonagall irritably. \\\"But that's no reason to lose our heads. People are being downright careless, out on the streets in broad daylight, not even dressed in Muggle clothes, swapping rumors.\\\"　　She threw a sharp, sideways glance at Dumbledore here, as though hoping he was going to tell her something, but he didn't, so she went on. \\\"A fine thing it would be if, on the very day YouKnow-Who seems to have disappeared at last, the Muggles found out about us all. I suppose he really has gone, Dumbledore?\\\"　　\\\"It certainly seems so,\\\" said Dumbledore. \\\"We have much to be thankful for. Would you care for a lemon drop?\\\"　　\\\"A what?\\\"　　\\\"A lemon drop. They're a kind of Muggle sweet I'm rather fond of\\\"　　\\\"No, thank you,\\\" said Professor McGonagall coldly, as though she didn't think this was the moment for lemon drops. \\\"As I say, even if You-Know-Who has gone -\\\"　　\\\"My dear Professor, surely a sensible person like yourself can call him by his name? All this 'You- Know-Who' nonsense -- for eleven years I have been trying to persuade people to call him by his proper name: Voldemort.\\\" Professor McGonagall flinched, but Dumbledore, who was unsticking two lemon drops, seemed not to notice. \\\"It all gets so confusing if we keep saying 'You-Know-Who.' I have never seen any reason to be frightened of saying Voldemort's name.　　\\\"I know you haven 't, said Professor McGonagall, sounding half exasperated, half admiring. \\\"But you're different. Everyone knows you're the only one You-Know- oh, all right, Voldemort, was frightened of.\\\"　　\\\"You flatter me,\\\" said Dumbledore calmly. \\\"Voldemort had powers I will never have.\\\"　　\\\"Only because you're too -- well -- noble to use them.\\\"　　\\\"It's lucky it's dark. I haven't blushed so much since Madam Pomfrey told me she liked my new earmuffs.\\\"　　Professor McGonagall shot a sharp look at Dumbledore and said, \\\"The owls are nothing next to the rumors that are flying around. You know what everyone's saying? About why he's disappeared? About what finally stopped him?\\\"　　It seemed that Professor McGonagall had reached the point she was most anxious to discuss, the real reason she had been waiting on a cold, hard wall all day, for neither as a cat nor as a woman had she fixed Dumbledore with such a piercing stare as she did now. It was plain that whatever \\\"everyone\\\" was saying, she was not going to believe it until Dumbledore told her it was true. Dumbledore, however, was choosing another lemon drop and did not answer.　　\\\"What they're saying,\\\" she pressed on, \\\"is that last night Voldemort turned up in Godric's Hollow. He went to find the Potters. The rumor is that Lily and James Potter are -- are -- that they're -- dead. \\\"　　Dumbledore bowed his head. Professor McGonagall gasped.　　\\\"Lily and James... I can't believe it... I didn't want to believe it... Oh, Albus...\\\"　　Dumbledore reached out and patted her on the shoulder. \\\"I know... I know...\\\" he said heavily.　　Professor McGonagall's voice trembled as she went on. \\\"That's not all. They're saying he tried to kill the Potter's son, Harry. But -- he couldn't. He couldn't kill that little boy. No one knows why, or how, but they're saying that when he couldn't kill Harry Potter, Voldemort's power somehow broke -- and that's why he's gone.　　Dumbledore nodded glumly.　　\\\"It's -- it's true?\\\" faltered Professor McGonagall. \\\"After all he's done... all the people he's killed... he couldn't kill a little boy? It's just astounding... of all the things to stop him... but how in the name of heaven did Harry survive?\\\"　　\\\"We can only guess,\\\" said Dumbledore. \\\"We may never know.\\\"　　Professor McGonagall pulled out a lace handkerchief and dabbed at her eyes beneath her spectacles. Dumbledore gave a great sniff as he took a golden watch from his pocket and examined it. It was a very odd watch. It had twelve hands but no numbers; instead, little planets were moving around the edge. It must have made sense to Dumbledore, though, because he put it back in his pocket and said, \\\"Hagrid's late. I suppose it was he who told you I'd be here, by the way?\\\"　　\\\"Yes,\\\" said Professor McGonagall. \\\"And I don't suppose you're going to tell me why you're here, of all places?\\\"　　\\\"I've come to bring Harry to his aunt and uncle. They're the only family he has left now.\\\"　　\\\"You don't mean -- you can't mean the people who live here?\\\" cried Professor McGonagall, jumping to her feet and pointing at number four. \\\"Dumbledore -- you can't. I've been watching them all day. You couldn't find two people who are less like us. And they've got this son -- I saw him kicking his mother all the way up the street, screaming for sweets. Harry Potter come and live here!\\\"　　\\\"It's the best place for him,\\\" said Dumbledore firmly. \\\"His aunt and uncle will be able to explain everything to him when he's older. I've written them a letter.\\\"　　\\\"A letter?\\\" repeated Professor McGonagall faintly, sitting back down on the wall. \\\"Really, Dumbledore, you think you can explain all this in a letter? These people will never understand him! He'll be famous -- a legend -- I wouldn't be surprised if today was known as Harry Potter day in the future -- there will be books written about Harry -- every child in our world will know his name!\\\"　　\\\"Exactly,\\\" said Dumbledore, looking very seriously over the top of his half-moon glasses. \\\"It would be enough to turn any boy's head. Famous before he can walk and talk! Famous for something he won't even remember! CarA you see how much better off he'll be, growing up away from all that until he's ready to take it?\\\"　　Professor McGonagall opened her mouth, changed her mind, swallowed, and then said, \\\"Yes -- yes, you're right, of course. But how is the boy getting here, Dumbledore?\\\" She eyed his cloak suddenly as though she thought he might be hiding Harry underneath it.　　\\\"Hagrid's bringing him.\\\"　　\\\"You think it -- wise -- to trust Hagrid with something as important as this?\\\"　　I would trust Hagrid with my life,\\\" said Dumbledore.　　\\\"I'm not saying his heart isn't in the right place,\\\" said Professor McGonagall grudgingly, \\\"but you can't pretend he's not careless. He does tend to -- what was that?\\\"　　A low rumbling sound had broken the silence around them. It grew steadily louder as they looked up and down the street for some sign of a headlight; it swelled to a roar as they both looked up at the sky -- and a huge motorcycle fell out of the air and landed on the road in front of them.　　If the motorcycle was huge, it was nothing to the man sitting astride it. He was almost twice as tall as a normal man and at least five times as wide. He looked simply too big to be allowed, and so wild - long tangles of bushy black hair and beard hid most of his face, he had hands the size of trash can lids, and his feet in their leather boots were like baby dolphins. In his vast, muscular arms he was holding a bundle of blankets.　　\\\"Hagrid,\\\" said Dumbledore, sounding relieved. \\\"At last. And where did you get that motorcycle?\\\"　　\\\"Borrowed it, Professor Dumbledore, sit,\\\" said the giant, climbing carefully off the motorcycle as he spoke. \\\"Young Sirius Black lent it to me. I've got him, sir.\\\"　　\\\"No problems, were there?\\\"　　\\\"No, sir -- house was almost destroyed, but I got him out all right before the Muggles started swarmin' around. He fell asleep as we was flyin' over Bristol.\\\"　　Dumbledore and Professor McGonagall bent forward over the bundle of blankets. Inside, just visible, was a baby boy, fast asleep. Under a tuft of jet-black hair over his forehead they could see a curiously shaped cut, like a bolt of lightning.　　\\\"Is that where -?\\\" whispered Professor McGonagall.　　\\\"Yes,\\\" said Dumbledore. \\\"He'll have that scar forever.\\\"　　\\\"Couldn't you do something about it, Dumbledore?\\\"　　\\\"Even if I could, I wouldn't. Scars can come in handy. I have one myself above my left knee that is a perfect map of the London Underground. Well -- give him here, Hagrid -- we'd better get this over with.\\\"　　Dumbledore took Harry in his arms and turned toward the Dursleys' house.　　\\\"Could I -- could I say good-bye to him, sir?\\\" asked Hagrid. He bent his great, shaggy head over Harry and gave him what must have been a very scratchy, whiskery kiss. Then, suddenly, Hagrid let out a howl like a wounded dog.　　\\\"Shhh!\\\" hissed Professor McGonagall, \\\"you'll wake the Muggles!\\\"　　\\\"S-s-sorry,\\\" sobbed Hagrid, taking out a large, spotted handkerchief and burying his face in it. \\\"But I c-c-can't stand it -- Lily an' James dead -- an' poor little Harry off ter live with Muggles -\\\"　　\\\"Yes, yes, it's all very sad, but get a grip on yourself, Hagrid, or we'll be found,\\\" Professor McGonagall whispered, patting Hagrid gingerly on the arm as Dumbledore stepped over the low garden wall and walked to the front door. He laid Harry gently on the doorstep, took a letter out of his cloak, tucked it inside Harry's blankets, and then came back to the other two. For a full minute the three of them stood and looked at the little bundle; Hagrid's shoulders shook, Professor McGonagall blinked furiously, and the twinkling light that usually shone from Dumbledore's eyes seemed to have gone out.　　\\\"Well,\\\" said Dumbledore finally, \\\"that's that. We've no business staying here. We may as well go and join the celebrations.\\\"　　\\\"Yeah,\\\" said Hagrid in a very muffled voice, \\\"I'll be takin' Sirius his bike back. G'night, Professor McGonagall -- Professor Dumbledore, sir.\\\"　　Wiping his streaming eyes on his jacket sleeve, Hagrid swung himself onto the motorcycle and kicked the engine into life; with a roar it rose into the air and off into the night.　　\\\"I shall see you soon, I expect, Professor McGonagall,\\\" said Dumbledore, nodding to her. Professor McGonagall blew her nose in reply.　　Dumbledore turned and walked back down the street. On the corner he stopped and took out the silver Put-Outer. He clicked it once, and twelve balls of light sped back to their street lamps so that Privet Drive glowed suddenly orange and he could make out a tabby cat slinking around the corner at the other end of the street. He could just see the bundle of blankets on the step of number four.　　\\\"Good luck, Harry,\\\" he murmured. He turned on his heel and with a swish of his cloak, he was gone.　　A breeze ruffled the neat hedges of Privet Drive, which lay silent and tidy under the inky sky, the very last place you would expect astonishing things to happen. Harry Potter rolled over inside his blankets without waking up. One small hand closed on the letter beside him and he slept on, not knowing he was special, not knowing he was famous, not knowing he would be woken in a few hours' time by Mrs. Dursley's scream as she opened the front door to put out the milk bottles, nor that he would spend the next few weeks being prodded and pinched by his cousin Dudley... He couldn't know that at this very moment, people meeting in secret all over the country were holding up their glasses and saying in hushed voices: \\\"To Harry Potter -- the boy who lived!\""
            ]
          },
          "metadata": {}
        }
      ],
      "source": [
        "ch1 <- philosophers_stone[[1]]\n",
        "length(philosophers_stone)\n",
        "ch1"
      ]
    },
    {
      "cell_type": "markdown",
      "metadata": {
        "id": "SQiJLAYjHL6j"
      },
      "source": [
        "Let us take a simple character vector to understand this expression"
      ]
    },
    {
      "cell_type": "code",
      "source": [
        "z = unlist(list('abc','xyz'))\n",
        "z[1]"
      ],
      "metadata": {
        "id": "--diNOz5TlM0",
        "outputId": "e825a0cd-0c8c-4156-d63d-aca50640deb3",
        "colab": {
          "base_uri": "https://localhost:8080/",
          "height": 34
        }
      },
      "execution_count": 57,
      "outputs": [
        {
          "output_type": "display_data",
          "data": {
            "text/html": [
              "'abc'"
            ],
            "text/markdown": "'abc'",
            "text/latex": "'abc'",
            "text/plain": [
              "[1] \"abc\""
            ]
          },
          "metadata": {}
        }
      ]
    },
    {
      "cell_type": "code",
      "execution_count": null,
      "metadata": {
        "id": "J9hp1GnRHL6j",
        "outputId": "abcd0fe8-069a-4cf4-99be-6e3288e534ce"
      },
      "outputs": [
        {
          "name": "stdout",
          "output_type": "stream",
          "text": [
            "[1] \"abc\"\n",
            "[1] \"abc\"\n"
          ]
        },
        {
          "data": {
            "text/html": [
              "TRUE"
            ],
            "text/latex": [
              "TRUE"
            ],
            "text/markdown": [
              "TRUE"
            ],
            "text/plain": [
              "[1] TRUE"
            ]
          },
          "metadata": {},
          "output_type": "display_data"
        }
      ],
      "source": [
        "x = unlist(list('abc','xyz'))\n",
        "print(x[1])\n",
        "print(x[[1]])\n",
        "is.character(x)"
      ]
    },
    {
      "cell_type": "markdown",
      "metadata": {
        "id": "OjUyRZmDXtps"
      },
      "source": [
        "### Exercise\n",
        "What is the longest (in number of characters) chapter in Philosopher's Stone?\n",
        "* find using `str_length`  and `max` function"
      ]
    },
    {
      "cell_type": "code",
      "execution_count": 64,
      "metadata": {
        "id": "sQjg7mImXtps",
        "outputId": "db8007a0-ca89-4f8a-9782-83da79310a5e",
        "colab": {
          "base_uri": "https://localhost:8080/",
          "height": 34
        }
      },
      "outputs": [
        {
          "output_type": "display_data",
          "data": {
            "text/html": [
              "37699"
            ],
            "text/markdown": "37699",
            "text/latex": "37699",
            "text/plain": [
              "[1] 37699"
            ]
          },
          "metadata": {}
        }
      ],
      "source": [
        "# longest chapter in harry potter\n",
        "str_length(philosophers_stone) %>% max"
      ]
    },
    {
      "cell_type": "markdown",
      "metadata": {
        "id": "xlO4svofHL6k"
      },
      "source": [
        "* find the same answer by creating a tibble"
      ]
    },
    {
      "cell_type": "code",
      "execution_count": 65,
      "metadata": {
        "id": "N-cEN-8IHL6k",
        "outputId": "d2528453-1109-400f-9205-8ef3206eee5f",
        "colab": {
          "base_uri": "https://localhost:8080/"
        }
      },
      "outputs": [
        {
          "output_type": "stream",
          "name": "stdout",
          "text": [
            "Rows: 17\n",
            "Columns: 1\n",
            "$ philosophers_stone \u001b[3m\u001b[90m<chr>\u001b[39m\u001b[23m \"THE BOY WHO LIVED　　Mr. and Mrs. Dursley, of numb…\n"
          ]
        }
      ],
      "source": [
        "harry_df = tibble(philosophers_stone) %>% glimpse\n",
        "# continue"
      ]
    },
    {
      "cell_type": "markdown",
      "metadata": {
        "id": "iLi-FiHgXtps"
      },
      "source": [
        "Now say we wanted to find the chapter with the most words. Is it necessarily the same?\n"
      ]
    },
    {
      "cell_type": "code",
      "execution_count": 72,
      "metadata": {
        "id": "Krnn6CWEXtps",
        "outputId": "2bd384da-9a72-4998-e7ed-2088e4fed19a",
        "colab": {
          "base_uri": "https://localhost:8080/",
          "height": 631
        }
      },
      "outputs": [
        {
          "output_type": "display_data",
          "data": {
            "text/html": [
              "<table class=\"dataframe\">\n",
              "<caption>A tibble: 17 × 3</caption>\n",
              "<thead>\n",
              "\t<tr><th scope=col>ch_length</th><th scope=col>word_count</th><th scope=col>word_count2</th></tr>\n",
              "\t<tr><th scope=col>&lt;int&gt;</th><th scope=col>&lt;int&gt;</th><th scope=col>&lt;int&gt;</th></tr>\n",
              "</thead>\n",
              "<tbody>\n",
              "\t<tr><td>25928</td><td>4535</td><td>2002</td></tr>\n",
              "\t<tr><td>19181</td><td>3370</td><td>1512</td></tr>\n",
              "\t<tr><td>21570</td><td>3745</td><td>1676</td></tr>\n",
              "\t<tr><td>20429</td><td>3606</td><td>1539</td></tr>\n",
              "\t<tr><td>37699</td><td>6365</td><td>2747</td></tr>\n",
              "\t<tr><td>35057</td><td>6064</td><td>2649</td></tr>\n",
              "\t<tr><td>25344</td><td>4329</td><td>1922</td></tr>\n",
              "\t<tr><td>17249</td><td>2987</td><td>1353</td></tr>\n",
              "\t<tr><td>28273</td><td>4758</td><td>2080</td></tr>\n",
              "\t<tr><td>24211</td><td>4152</td><td>1841</td></tr>\n",
              "\t<tr><td>19222</td><td>3253</td><td>1423</td></tr>\n",
              "\t<tr><td>30782</td><td>5340</td><td>2379</td></tr>\n",
              "\t<tr><td>18319</td><td>3084</td><td>1349</td></tr>\n",
              "\t<tr><td>19591</td><td>3373</td><td>1460</td></tr>\n",
              "\t<tr><td>29006</td><td>4944</td><td>2094</td></tr>\n",
              "\t<tr><td>36464</td><td>6193</td><td>2672</td></tr>\n",
              "\t<tr><td>31105</td><td>5313</td><td>2306</td></tr>\n",
              "</tbody>\n",
              "</table>\n"
            ],
            "text/markdown": "\nA tibble: 17 × 3\n\n| ch_length &lt;int&gt; | word_count &lt;int&gt; | word_count2 &lt;int&gt; |\n|---|---|---|\n| 25928 | 4535 | 2002 |\n| 19181 | 3370 | 1512 |\n| 21570 | 3745 | 1676 |\n| 20429 | 3606 | 1539 |\n| 37699 | 6365 | 2747 |\n| 35057 | 6064 | 2649 |\n| 25344 | 4329 | 1922 |\n| 17249 | 2987 | 1353 |\n| 28273 | 4758 | 2080 |\n| 24211 | 4152 | 1841 |\n| 19222 | 3253 | 1423 |\n| 30782 | 5340 | 2379 |\n| 18319 | 3084 | 1349 |\n| 19591 | 3373 | 1460 |\n| 29006 | 4944 | 2094 |\n| 36464 | 6193 | 2672 |\n| 31105 | 5313 | 2306 |\n\n",
            "text/latex": "A tibble: 17 × 3\n\\begin{tabular}{lll}\n ch\\_length & word\\_count & word\\_count2\\\\\n <int> & <int> & <int>\\\\\n\\hline\n\t 25928 & 4535 & 2002\\\\\n\t 19181 & 3370 & 1512\\\\\n\t 21570 & 3745 & 1676\\\\\n\t 20429 & 3606 & 1539\\\\\n\t 37699 & 6365 & 2747\\\\\n\t 35057 & 6064 & 2649\\\\\n\t 25344 & 4329 & 1922\\\\\n\t 17249 & 2987 & 1353\\\\\n\t 28273 & 4758 & 2080\\\\\n\t 24211 & 4152 & 1841\\\\\n\t 19222 & 3253 & 1423\\\\\n\t 30782 & 5340 & 2379\\\\\n\t 18319 & 3084 & 1349\\\\\n\t 19591 & 3373 & 1460\\\\\n\t 29006 & 4944 & 2094\\\\\n\t 36464 & 6193 & 2672\\\\\n\t 31105 & 5313 & 2306\\\\\n\\end{tabular}\n",
            "text/plain": [
              "   ch_length word_count word_count2\n",
              "1  25928     4535       2002       \n",
              "2  19181     3370       1512       \n",
              "3  21570     3745       1676       \n",
              "4  20429     3606       1539       \n",
              "5  37699     6365       2747       \n",
              "6  35057     6064       2649       \n",
              "7  25344     4329       1922       \n",
              "8  17249     2987       1353       \n",
              "9  28273     4758       2080       \n",
              "10 24211     4152       1841       \n",
              "11 19222     3253       1423       \n",
              "12 30782     5340       2379       \n",
              "13 18319     3084       1349       \n",
              "14 19591     3373       1460       \n",
              "15 29006     4944       2094       \n",
              "16 36464     6193       2672       \n",
              "17 31105     5313       2306       "
            ]
          },
          "metadata": {}
        }
      ],
      "source": [
        "# using str_count\n",
        "\n",
        "harry_df %>% mutate(ch_length = str_length(philosophers_stone),\n",
        "                    word_count = str_count(philosophers_stone, \" \"),\n",
        "                    word_count2 = str_count(philosophers_stone, \" \\\\w+ \")) %>%\n",
        "                      select(ch_length, word_count, word_count2)"
      ]
    },
    {
      "cell_type": "markdown",
      "metadata": {
        "id": "W9fHE-jVXtpt"
      },
      "source": [
        "If you scroll through `ch1` a bit, you'll notice that there are some funny characters which don't appear in the books"
      ]
    },
    {
      "cell_type": "markdown",
      "metadata": {
        "id": "flGkYSKDXtpt"
      },
      "source": [
        "Let's see how this works for Harry Potter. Where does the first quotation in `ch1` occur? To find this, we will use the\n",
        "\n",
        "    str_locate(<string>, <substring>)\n",
        "    \n",
        "function:"
      ]
    },
    {
      "cell_type": "code",
      "execution_count": 78,
      "metadata": {
        "colab": {
          "base_uri": "https://localhost:8080/",
          "height": 115
        },
        "id": "tQCmO--XXtpt",
        "outputId": "5c569a78-7e5e-41e2-a85e-e9e527a143e8"
      },
      "outputs": [
        {
          "output_type": "display_data",
          "data": {
            "text/html": [
              "<table class=\"dataframe\">\n",
              "<caption>A matrix: 1 × 2 of type int</caption>\n",
              "<thead>\n",
              "\t<tr><th scope=col>start</th><th scope=col>end</th></tr>\n",
              "</thead>\n",
              "<tbody>\n",
              "\t<tr><td>5243</td><td>5247</td></tr>\n",
              "</tbody>\n",
              "</table>\n"
            ],
            "text/markdown": "\nA matrix: 1 × 2 of type int\n\n| start | end |\n|---|---|\n| 5243 | 5247 |\n\n",
            "text/latex": "A matrix: 1 × 2 of type int\n\\begin{tabular}{ll}\n start & end\\\\\n\\hline\n\t 5243 & 5247\\\\\n\\end{tabular}\n",
            "text/plain": [
              "     start end \n",
              "[1,] 5243  5247"
            ]
          },
          "metadata": {}
        }
      ],
      "source": [
        "str_locate(ch1, \"Harry\")  # <---- note the escape."
      ]
    },
    {
      "cell_type": "markdown",
      "metadata": {
        "id": "0sIWy8RSXtpy"
      },
      "source": [
        "Note the escape: we are searching `ch1` for the first occurence of the character `\"`."
      ]
    },
    {
      "cell_type": "markdown",
      "metadata": {
        "id": "d7ckCdxzXtpy"
      },
      "source": [
        "This tells us that the first quote occurs at position 2150 of `ch1`. To view a portion of a string, we can use the\n",
        "\n",
        "    str_sub(<string>, <start>, <end>)\n",
        "\n",
        "command:"
      ]
    },
    {
      "cell_type": "code",
      "execution_count": null,
      "metadata": {
        "colab": {
          "base_uri": "https://localhost:8080/"
        },
        "id": "RTt5IH6iXtpy",
        "outputId": "cbeb9688-125c-4d3c-82e7-4fd87a692281"
      },
      "outputs": [
        {
          "name": "stdout",
          "output_type": "stream",
          "text": [
            "[1] \"\\\"Little tyke,\\\" chortled Mr. Dursley as he left the house. He got into his car and backed out of numbe\"\n"
          ]
        }
      ],
      "source": [
        "str_sub(ch1, 2150, 2250) %>% print"
      ]
    },
    {
      "cell_type": "markdown",
      "metadata": {
        "id": "lOohh7YKXtpy"
      },
      "source": [
        "## 🤔 Quiz\n",
        "\n",
        "How many 'and' word is there in Ch.1? (Hint: use `str_count()`).\n",
        "\n",
        "<ol style=\"list-style-type: upper-alpha;\">\n",
        "    <li>107</li>\n",
        "    <li>95</li>\n",
        "    <li>99</li>\n",
        "    <li>100</li>\n",
        "</ol>"
      ]
    },
    {
      "cell_type": "code",
      "execution_count": 83,
      "metadata": {
        "colab": {
          "base_uri": "https://localhost:8080/",
          "height": 34
        },
        "id": "8pRIL3l0Xtpz",
        "outputId": "5d6248ad-71c7-435a-d911-d10c7559ae28"
      },
      "outputs": [
        {
          "output_type": "display_data",
          "data": {
            "text/html": [
              "3"
            ],
            "text/markdown": "3",
            "text/latex": "3",
            "text/plain": [
              "[1] 3"
            ]
          },
          "metadata": {}
        }
      ],
      "source": [
        "# how many 'and' words are in ch1\n",
        "str_count('Handandand', \"and\")"
      ]
    },
    {
      "cell_type": "markdown",
      "metadata": {
        "id": "t9P6r4EoXtpz"
      },
      "source": [
        "### Exercise\n",
        "What are the last 100 words of ch1?\n",
        "\n"
      ]
    },
    {
      "cell_type": "code",
      "execution_count": 84,
      "metadata": {
        "colab": {
          "base_uri": "https://localhost:8080/",
          "height": 34
        },
        "id": "IXRMtM38Xtpz",
        "outputId": "e26e3aa9-4a2b-48f3-a93c-65aff92ac61a",
        "scrolled": true
      },
      "outputs": [
        {
          "output_type": "display_data",
          "data": {
            "text/html": [
              "'ry were holding up their glasses and saying in hushed voices: \"To Harry Potter -- the boy who lived!'"
            ],
            "text/markdown": "'ry were holding up their glasses and saying in hushed voices: \"To Harry Potter -- the boy who lived!'",
            "text/latex": "'ry were holding up their glasses and saying in hushed voices: \"To Harry Potter -- the boy who lived!'",
            "text/plain": [
              "[1] \"ry were holding up their glasses and saying in hushed voices: \\\"To Harry Potter -- the boy who lived!\""
            ]
          },
          "metadata": {}
        }
      ],
      "source": [
        "# Last 100 words\n",
        "\n",
        "str_sub(ch1, -100)"
      ]
    },
    {
      "cell_type": "markdown",
      "metadata": {
        "id": "Vg_zmEsrHL6m"
      },
      "source": [
        "### Exercise\n",
        "What is the last sentence of ch1?\n",
        "Hint: get a substring of the last 200 characters and then find the index of `.` using `str_locate` in that and get the substring again using the index position"
      ]
    },
    {
      "cell_type": "code",
      "execution_count": null,
      "metadata": {
        "id": "psFnCfvjHL6n"
      },
      "outputs": [],
      "source": []
    },
    {
      "cell_type": "markdown",
      "metadata": {
        "id": "IPVkWMucXtpz"
      },
      "source": [
        "## 🤔 Quiz\n",
        "\n",
        "Which chapter starts with the word `THE POTIONS MASTER`?\n",
        "\n",
        "<ol style=\"list-style-type: upper-alpha;\">\n",
        "    <li>8</li>\n",
        "    <li>13</li>\n",
        "    <li>16</li>\n",
        "    <li>17</li>\n",
        "    <li>19</li>\n",
        "</ol>\n",
        "\n"
      ]
    },
    {
      "cell_type": "code",
      "execution_count": 86,
      "metadata": {
        "id": "aAljb5NuXtpz",
        "scrolled": true,
        "outputId": "633a752a-b5ad-4353-e587-d2b068524216",
        "colab": {
          "base_uri": "https://localhost:8080/",
          "height": 631
        }
      },
      "outputs": [
        {
          "output_type": "display_data",
          "data": {
            "text/html": [
              "<table class=\"dataframe\">\n",
              "<caption>A tibble: 17 × 1</caption>\n",
              "<thead>\n",
              "\t<tr><th scope=col>first_few_words</th></tr>\n",
              "\t<tr><th scope=col>&lt;chr&gt;</th></tr>\n",
              "</thead>\n",
              "<tbody>\n",
              "\t<tr><td>THE BOY WHO LIVED　　M</td></tr>\n",
              "\t<tr><td>THE VANISHING GLASS　 </td></tr>\n",
              "\t<tr><td>THE LETTERS FROM NO   </td></tr>\n",
              "\t<tr><td>THE KEEPER OF THE KE  </td></tr>\n",
              "\t<tr><td>DIAGON ALLEY　　Harry </td></tr>\n",
              "\t<tr><td>THE JOURNEY FROM PLA  </td></tr>\n",
              "\t<tr><td>THE SORTING HAT　　The</td></tr>\n",
              "\t<tr><td>THE POTIONS MASTER　　</td></tr>\n",
              "\t<tr><td>THE MIDNIGHT DUEL　　H</td></tr>\n",
              "\t<tr><td>HALLOWEEN　　Malfoy co</td></tr>\n",
              "\t<tr><td>QUIDDITCH　　As they e</td></tr>\n",
              "\t<tr><td>THE MIRROR OF ERISED  </td></tr>\n",
              "\t<tr><td>NICOLAS FLAMEL　　Dumb</td></tr>\n",
              "\t<tr><td>NORBERT THE NORWEGIA  </td></tr>\n",
              "\t<tr><td>THE FORIBIDDEN FORES  </td></tr>\n",
              "\t<tr><td>THROUGH THE TRAPDOOR  </td></tr>\n",
              "\t<tr><td>THE MAN WITH TWO FAC  </td></tr>\n",
              "</tbody>\n",
              "</table>\n"
            ],
            "text/markdown": "\nA tibble: 17 × 1\n\n| first_few_words &lt;chr&gt; |\n|---|\n| THE BOY WHO LIVED　　M |\n| THE VANISHING GLASS　  |\n| THE LETTERS FROM NO    |\n| THE KEEPER OF THE KE   |\n| DIAGON ALLEY　　Harry  |\n| THE JOURNEY FROM PLA   |\n| THE SORTING HAT　　The |\n| THE POTIONS MASTER　　 |\n| THE MIDNIGHT DUEL　　H |\n| HALLOWEEN　　Malfoy co |\n| QUIDDITCH　　As they e |\n| THE MIRROR OF ERISED   |\n| NICOLAS FLAMEL　　Dumb |\n| NORBERT THE NORWEGIA   |\n| THE FORIBIDDEN FORES   |\n| THROUGH THE TRAPDOOR   |\n| THE MAN WITH TWO FAC   |\n\n",
            "text/latex": "A tibble: 17 × 1\n\\begin{tabular}{l}\n first\\_few\\_words\\\\\n <chr>\\\\\n\\hline\n\t THE BOY WHO LIVED　　M\\\\\n\t THE VANISHING GLASS　 \\\\\n\t THE LETTERS FROM NO   \\\\\n\t THE KEEPER OF THE KE  \\\\\n\t DIAGON ALLEY　　Harry \\\\\n\t THE JOURNEY FROM PLA  \\\\\n\t THE SORTING HAT　　The\\\\\n\t THE POTIONS MASTER　　\\\\\n\t THE MIDNIGHT DUEL　　H\\\\\n\t HALLOWEEN　　Malfoy co\\\\\n\t QUIDDITCH　　As they e\\\\\n\t THE MIRROR OF ERISED  \\\\\n\t NICOLAS FLAMEL　　Dumb\\\\\n\t NORBERT THE NORWEGIA  \\\\\n\t THE FORIBIDDEN FORES  \\\\\n\t THROUGH THE TRAPDOOR  \\\\\n\t THE MAN WITH TWO FAC  \\\\\n\\end{tabular}\n",
            "text/plain": [
              "   first_few_words       \n",
              "1  THE BOY WHO LIVED　　M\n",
              "2  THE VANISHING GLASS　 \n",
              "3  THE LETTERS FROM NO   \n",
              "4  THE KEEPER OF THE KE  \n",
              "5  DIAGON ALLEY　　Harry \n",
              "6  THE JOURNEY FROM PLA  \n",
              "7  THE SORTING HAT　　The\n",
              "8  THE POTIONS MASTER　　\n",
              "9  THE MIDNIGHT DUEL　　H\n",
              "10 HALLOWEEN　　Malfoy co\n",
              "11 QUIDDITCH　　As they e\n",
              "12 THE MIRROR OF ERISED  \n",
              "13 NICOLAS FLAMEL　　Dumb\n",
              "14 NORBERT THE NORWEGIA  \n",
              "15 THE FORIBIDDEN FORES  \n",
              "16 THROUGH THE TRAPDOOR  \n",
              "17 THE MAN WITH TWO FAC  "
            ]
          },
          "metadata": {}
        }
      ],
      "source": [
        "# THE POTIONS MASTER\n",
        "harry_df %>% mutate(first_few_words = str_sub(philosophers_stone, 1, 20)) %>%\n",
        "  select(first_few_words)\n"
      ]
    }
  ],
  "metadata": {
    "celltoolbar": "Slideshow",
    "colab": {
      "provenance": []
    },
    "kernelspec": {
      "display_name": "R",
      "language": "R",
      "name": "ir"
    },
    "language_info": {
      "codemirror_mode": "r",
      "file_extension": ".r",
      "mimetype": "text/x-r-source",
      "name": "R",
      "pygments_lexer": "r",
      "version": "4.3.1"
    }
  },
  "nbformat": 4,
  "nbformat_minor": 0
}