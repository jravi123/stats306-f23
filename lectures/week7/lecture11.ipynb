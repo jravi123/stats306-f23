{
 "cells": [
  {
   "cell_type": "code",
   "execution_count": 24,
   "metadata": {
    "colab": {
     "base_uri": "https://localhost:8080/"
    },
    "id": "DZcT1CcOcIIM",
    "outputId": "dbb738ef-f0bb-4670-8ffb-c6661b8d1bd8",
    "scrolled": true
   },
   "outputs": [
    {
     "name": "stderr",
     "output_type": "stream",
     "text": [
      "── \u001b[1mAttaching core tidyverse packages\u001b[22m ──────────────────────── tidyverse 2.0.0 ──\n",
      "\u001b[32m✔\u001b[39m \u001b[34mdplyr    \u001b[39m 1.1.2     \u001b[32m✔\u001b[39m \u001b[34mreadr    \u001b[39m 2.1.4\n",
      "\u001b[32m✔\u001b[39m \u001b[34mforcats  \u001b[39m 1.0.0     \u001b[32m✔\u001b[39m \u001b[34mstringr  \u001b[39m 1.5.0\n",
      "\u001b[32m✔\u001b[39m \u001b[34mggplot2  \u001b[39m 3.4.3     \u001b[32m✔\u001b[39m \u001b[34mtibble   \u001b[39m 3.2.1\n",
      "\u001b[32m✔\u001b[39m \u001b[34mlubridate\u001b[39m 1.9.2     \u001b[32m✔\u001b[39m \u001b[34mtidyr    \u001b[39m 1.3.0\n",
      "\u001b[32m✔\u001b[39m \u001b[34mpurrr    \u001b[39m 1.0.2     \n",
      "── \u001b[1mConflicts\u001b[22m ────────────────────────────────────────── tidyverse_conflicts() ──\n",
      "\u001b[31m✖\u001b[39m \u001b[34mdplyr\u001b[39m::\u001b[32mfilter()\u001b[39m         masks \u001b[34mstats\u001b[39m::filter()\n",
      "\u001b[31m✖\u001b[39m \u001b[34mreadr\u001b[39m::\u001b[32mguess_encoding()\u001b[39m masks \u001b[34mrvest\u001b[39m::guess_encoding()\n",
      "\u001b[31m✖\u001b[39m \u001b[34mdplyr\u001b[39m::\u001b[32mlag()\u001b[39m            masks \u001b[34mstats\u001b[39m::lag()\n",
      "\u001b[36mℹ\u001b[39m Use the conflicted package (\u001b[3m\u001b[34m<http://conflicted.r-lib.org/>\u001b[39m\u001b[23m) to force all conflicts to become errors\n"
     ]
    }
   ],
   "source": [
    "library(tidyverse)\n",
    "library(rvest)"
   ]
  },
  {
   "cell_type": "markdown",
   "metadata": {
    "id": "o-yN6ogkcIIU"
   },
   "source": [
    "# Lecture 11: Web scraping\n",
    "\n",
    "<div style=\"border: 1px double black; padding: 10px; margin: 10px\">\n",
    "\n",
    "**After today's lecture you will:**\n",
    "* Understand how to import data from online sources by scraping web pages.\n",
    "</div>\n",
    "\n",
    "These notes correspond to Chapter 26 of your book.\n"
   ]
  },
  {
   "cell_type": "markdown",
   "metadata": {
    "id": "y0JSUSsucIIY"
   },
   "source": [
    "## Ethics of scraping data online\n",
    "You should carefully read [Section 26.2](https://r4ds.hadley.nz/webscraping.html#scraping-ethics-and-legalities) of the book concerning various ethical and legal issues surrounding scraping web sites for data. In this class we will only look at large, public web sites like Wikipedia and IMDB, where there is no risk of anything bad happening. However, there are other situations where it may be unethical, or even illegal, to harvest data from a website, even if you are technically able. **As data scientists in the real world, it will be up to you to carefully weigh these concerns before using the tools discussed in today's lecture.**"
   ]
  },
  {
   "cell_type": "markdown",
   "metadata": {
    "id": "yKRP8wywcIIb"
   },
   "source": [
    "## Reading data from the Internet\n",
    "These days, it's increasingly common to pull data from online sources. For example, say I wanted to know the population of European countries. This is [easily found](https://en.wikipedia.org/wiki/Demographics_of_Europe#Population_by_country) on Wikipedia. How can I get these data into R and analyze them?"
   ]
  },
  {
   "cell_type": "markdown",
   "metadata": {
    "id": "f2cTZwnZcIIc"
   },
   "source": [
    "## How do web pages work?\n",
    "\n",
    "Web pages are written in a special language called HTML (**H**yper**t**ext **M**arkup **L**anguage). Here is a simple example of some HTML:\n",
    "\n",
    "    <html>\n",
    "    <head> \n",
    "      <title>Page title</title>\n",
    "    </head>\n",
    "    <body>\n",
    "      <h1 id='first'>A heading</h1>\n",
    "      <p>Some text &amp; <b>some bold text.</b></p>\n",
    "      <img src='myimg.png' width='100' height='100'>\n",
    "    </body>"
   ]
  },
  {
   "cell_type": "markdown",
   "metadata": {
    "id": "XLMsnRjEcIId"
   },
   "source": [
    "Web scraping is possible because most web pages have a consistent, hierarchical structure. For example, if I asked you how to navigate to the title of the web page shown above, you would follow the \"path\"\n",
    "\n",
    "    html > head > title\n",
    "    \n",
    "to arrive at \"Page title\"."
   ]
  },
  {
   "cell_type": "markdown",
   "metadata": {
    "id": "aTlSRHDJcIIe"
   },
   "source": [
    "## HTML elements\n",
    "\n",
    "A pair of opening and closing tags make up an element. E.g.: `<p> ... </p>` is a paragraph element. `<head>...</head>` is a header element etc..\n",
    "\n",
    "There are a lot of HTML elements that might contain interesting information. Here are a few of the most common:\n",
    "\n",
    "- Block elements (render elements in a new line) that denote sections of text: `<h1>` (heading), `<p>` (paragraph), `<ul>`/`<ol>` (un)ordered list, etc.\n",
    "- Inline elements do not render the element in a new line but are in line with the other inline elements. E.g.; `<span>...</span>`, `<a href='url'>click me</a>` etc..\n",
    "- `<table>` (a table), `<tr>` (a table row), `<td>` (a table cell), etc.\n",
    "- Each of these elements can contain attributes such as `id=` or `class=`. For example, `<table id=\"movies\">` is probably a table that contains movie information.\n",
    "- The `id` value uniquely identifies an element in the HTML page.\n",
    "- The `class` value may be applied to more than one element on the HTML page\n",
    "- `id` and `class` are used in conjunction with CSS (Cascading Style Sheets) to control the visual appearance of the page but the usage of these is not restricted to visual appearance only; for e.g., we can use them for WEB scrapping too"
   ]
  },
  {
   "cell_type": "markdown",
   "metadata": {
    "id": "gytle3WbcIIf"
   },
   "source": [
    "The `rvest` package is used to load a web page and extract elements and tables based on their HTML tags. Let's see how it works by scraping the Wikipedia page mentioned earlier:"
   ]
  },
  {
   "cell_type": "code",
   "execution_count": 95,
   "metadata": {
    "id": "OxPSvO_CcIIf"
   },
   "outputs": [
    {
     "data": {
      "text/html": [
       "<style>\n",
       ".list-inline {list-style: none; margin:0; padding: 0}\n",
       ".list-inline>li {display: inline-block}\n",
       ".list-inline>li:not(:last-child)::after {content: \"\\00b7\"; padding: 0 .5ex}\n",
       "</style>\n",
       "<ol class=list-inline><li>'xml_document'</li><li>'xml_node'</li></ol>\n"
      ],
      "text/latex": [
       "\\begin{enumerate*}\n",
       "\\item 'xml\\_document'\n",
       "\\item 'xml\\_node'\n",
       "\\end{enumerate*}\n"
      ],
      "text/markdown": [
       "1. 'xml_document'\n",
       "2. 'xml_node'\n",
       "\n",
       "\n"
      ],
      "text/plain": [
       "[1] \"xml_document\" \"xml_node\"    "
      ]
     },
     "metadata": {},
     "output_type": "display_data"
    }
   ],
   "source": [
    "library(rvest)\n",
    "europop <- read_html(\"http://en.wikipedia.org/wiki/Demographics_of_Europe#Population_by_country\")\n",
    "class(europop)"
   ]
  },
  {
   "cell_type": "code",
   "execution_count": 96,
   "metadata": {},
   "outputs": [
    {
     "data": {
      "text/html": [
       "'list'"
      ],
      "text/latex": [
       "'list'"
      ],
      "text/markdown": [
       "'list'"
      ],
      "text/plain": [
       "[1] \"list\""
      ]
     },
     "metadata": {},
     "output_type": "display_data"
    }
   ],
   "source": [
    "typeof(europop)"
   ]
  },
  {
   "cell_type": "markdown",
   "metadata": {},
   "source": [
    "An xml_document object is internally represented as a list-like structure, which is why typeof() returns \"list\"."
   ]
  },
  {
   "cell_type": "markdown",
   "metadata": {
    "id": "QTrSjMWScIIg"
   },
   "source": [
    "`read_html` returns a `xml_document` object\n",
    "\n",
    "On this page, there are many tables. Let us open the Chrome Developer tool and check the class attributes of the tables. There are some tables with class names `wikitable` and `sortable`. We will get only these tables"
   ]
  },
  {
   "cell_type": "markdown",
   "metadata": {},
   "source": [
    "## 🤔 Quiz\n",
    "\n",
    "How many tables are there with class names being `wikitable` and `sortable`?\n",
    "\n",
    "<ol style=\"list-style-type: upper-alpha;\">\n",
    "    <li>3</li>\n",
    "    <li>1</li>\n",
    "    <li>4</li>\n",
    "    <li>5</li>\n",
    "</ol>"
   ]
  },
  {
   "cell_type": "code",
   "execution_count": 104,
   "metadata": {
    "id": "G1Ad3oVQcIIg",
    "scrolled": true
   },
   "outputs": [
    {
     "data": {
      "text/html": [
       "'list'"
      ],
      "text/latex": [
       "'list'"
      ],
      "text/markdown": [
       "'list'"
      ],
      "text/plain": [
       "[1] \"list\""
      ]
     },
     "metadata": {},
     "output_type": "display_data"
    }
   ],
   "source": [
    "# get those tables\n",
    "wiki_tables <- europop %>% html_elements(\"table.wikitable.sortable\") %>% html_table\n",
    "class(wiki_tables)"
   ]
  },
  {
   "cell_type": "markdown",
   "metadata": {},
   "source": [
    "Understanding a little on list:\n",
    "- a single pair of `[]` is used to subset a list\n",
    "- a double pair of `[[]]` is used to get an element in the list\n",
    "  "
   ]
  },
  {
   "cell_type": "code",
   "execution_count": 129,
   "metadata": {},
   "outputs": [
    {
     "data": {
      "text/html": [
       "<span style=white-space:pre-wrap>'type =  list value =  10'</span>"
      ],
      "text/latex": [
       "'type =  list value =  10'"
      ],
      "text/markdown": [
       "<span style=white-space:pre-wrap>'type =  list value =  10'</span>"
      ],
      "text/plain": [
       "[1] \"type =  list value =  10\""
      ]
     },
     "metadata": {},
     "output_type": "display_data"
    },
    {
     "data": {
      "text/html": [
       "<span style=white-space:pre-wrap>'type =  double value =  10'</span>"
      ],
      "text/latex": [
       "'type =  double value =  10'"
      ],
      "text/markdown": [
       "<span style=white-space:pre-wrap>'type =  double value =  10'</span>"
      ],
      "text/plain": [
       "[1] \"type =  double value =  10\""
      ]
     },
     "metadata": {},
     "output_type": "display_data"
    }
   ],
   "source": [
    "l1 <- list(10, 11, 12)\n",
    "paste(\"type = \", typeof(l1[1]), \"value = \", l1[1])\n",
    "paste(\"type = \", typeof(l1[[1]]), \"value = \", l1[[1]])"
   ]
  },
  {
   "cell_type": "markdown",
   "metadata": {
    "id": "sWbDjjNGfATg"
   },
   "source": [
    "### Get the 3rd table\n",
    "We will get the third table. How can we find the correct one? One option is to use our browser to find something that uniquely identifies the table that we want. Alternatively, if a small number, we can just use the index number to find the one we want.\n",
    "\n",
    "Once the table is retrieved, select the first three columns, slice off the first row using 'slice()' function and then convert the datatypes of the columns using either \n",
    "* as.integer\n",
    "* parse_number"
   ]
  },
  {
   "cell_type": "code",
   "execution_count": 58,
   "metadata": {},
   "outputs": [
    {
     "data": {
      "text/html": [
       "'123456'"
      ],
      "text/latex": [
       "'123456'"
      ],
      "text/markdown": [
       "'123456'"
      ],
      "text/plain": [
       "[1] \"123456\""
      ]
     },
     "metadata": {},
     "output_type": "display_data"
    }
   ],
   "source": [
    "# using gsub to replace ',' with nothing\n",
    "str1 = \"123,456\"\n",
    "gsub(\",\", \"\", str1)"
   ]
  },
  {
   "cell_type": "code",
   "execution_count": 130,
   "metadata": {
    "colab": {
     "base_uri": "https://localhost:8080/",
     "height": 1000
    },
    "id": "YKivRuN3f0gV",
    "outputId": "9e1b9746-de61-468b-d4af-a74365c8e1d2"
   },
   "outputs": [],
   "source": [
    "#"
   ]
  },
  {
   "cell_type": "markdown",
   "metadata": {},
   "source": [
    "Find the table that contains the population for each country"
   ]
  },
  {
   "cell_type": "code",
   "execution_count": null,
   "metadata": {
    "id": "iBk5NmBncIIh"
   },
   "outputs": [],
   "source": [
    "# \n"
   ]
  },
  {
   "cell_type": "markdown",
   "metadata": {
    "id": "3HtYdEX1cIIi"
   },
   "source": [
    "## 🤔 Quiz\n",
    "\n",
    "The country with the maximum population is\n",
    "\n",
    "<ol style=\"list-style-type: upper-alpha;\">\n",
    "    <li>Russia</li>\n",
    "    <li>Turkey</li>\n",
    "    <li>United Kingdom</li>\n",
    "    <li>Germany</li>\n",
    "</ol>\n",
    "\n"
   ]
  },
  {
   "cell_type": "code",
   "execution_count": null,
   "metadata": {},
   "outputs": [],
   "source": [
    "#"
   ]
  },
  {
   "cell_type": "markdown",
   "metadata": {
    "id": "Y-LP_fxmcIIj"
   },
   "source": [
    "## 🤔 Quiz\n",
    "\n",
    "Use the same page Wikipedia page (Demographics of Europe) to answer the following question:\n",
    "\n",
    "On average, how many people were born *each day* in Europe between 2010 and 2021 (inclusive)?\n",
    "\n",
    "<ol style=\"list-style-type: upper-alpha;\">\n",
    "    <li>90210.10</li>\n",
    "    <li>23043.97</li>\n",
    "    <li>7710127</li>\n",
    "    <li>21123.64</li>\n",
    "    <li>21109.18</li>\n",
    "</ol>\n",
    "\n"
   ]
  },
  {
   "cell_type": "code",
   "execution_count": 123,
   "metadata": {
    "colab": {
     "base_uri": "https://localhost:8080/",
     "height": 35
    },
    "id": "_f9WDX9kcIIj",
    "outputId": "85e17c58-1d49-44ca-adf9-60075b2fd250"
   },
   "outputs": [
    {
     "data": {
      "text/plain": [
       "Time difference of 731 days"
      ]
     },
     "metadata": {},
     "output_type": "display_data"
    }
   ],
   "source": [
    "library(lubridate)\n",
    "# lubridate::make_date\n",
    "difftime(make_date(2022, 1, 1), make_date(2020, 1, 1), \"days\")\n",
    "\n",
    "# 366 + 365"
   ]
  },
  {
   "cell_type": "code",
   "execution_count": 133,
   "metadata": {},
   "outputs": [],
   "source": [
    "# \n",
    "# wiki_tables[[3]]"
   ]
  },
  {
   "cell_type": "markdown",
   "metadata": {
    "id": "a_gYzf6CcIIp"
   },
   "source": [
    "### The UofM Stats department\n",
    "Let's say I wanted to extract all the [undergraduate stats courses](https://lsa.umich.edu/stats/undergraduate-students/statistics-courses.html) offered by the department. "
   ]
  },
  {
   "cell_type": "code",
   "execution_count": 134,
   "metadata": {
    "id": "9JpcwO4Kt7B0"
   },
   "outputs": [
    {
     "data": {
      "text/plain": [
       "{html_document}\n",
       "<html xmlns=\"http://www.w3.org/1999/xhtml\">\n",
       "[1] <head>\\n<meta http-equiv=\"Content-Type\" content=\"text/html; charset=UTF-8 ...\n",
       "[2] <body>\\r\\n    <form method=\"post\" action=\"./CB_PublicBulletin.aspx?crsele ..."
      ]
     },
     "metadata": {},
     "output_type": "display_data"
    }
   ],
   "source": [
    "stats <- read_html('https://webapps.lsa.umich.edu/CrsMaint/Public/CB_PublicBulletin.aspx?crselevel=UG&subject=STATS')\n",
    "stats"
   ]
  },
  {
   "cell_type": "markdown",
   "metadata": {
    "id": "4mfPL_CdtyFN"
   },
   "source": [
    "How should we extract the data from this web page? We notice from inspecting the page that each course title is a `<b>` (bold) element. Use `html_elements` to extract `b` elements and then use `html_text` to extract the text from the element"
   ]
  },
  {
   "cell_type": "code",
   "execution_count": 147,
   "metadata": {
    "colab": {
     "base_uri": "https://localhost:8080/",
     "height": 399
    },
    "id": "on_C7_qrt87H",
    "outputId": "32c87db4-454d-40a9-b35d-55d87e1f763e"
   },
   "outputs": [],
   "source": [
    "#\n"
   ]
  },
  {
   "cell_type": "markdown",
   "metadata": {
    "id": "9mdwPBE9cIIm"
   },
   "source": [
    "## IMDB top movies\n",
    "\n",
    "Let's consider a well-known table: the [top 250 movies on IMDB](https://www.imdb.com/chart/top/)."
   ]
  },
  {
   "cell_type": "code",
   "execution_count": 80,
   "metadata": {
    "id": "WeuxJw9scIIm"
   },
   "outputs": [
    {
     "data": {
      "text/plain": [
       "{html_document}\n",
       "<html lang=\"en-US\" xmlns:og=\"http://opengraphprotocol.org/schema/\" xmlns:fb=\"http://www.facebook.com/2008/fbml\">\n",
       "[1] <head>\\n<meta http-equiv=\"Content-Type\" content=\"text/html; charset=UTF-8 ...\n",
       "[2] <body>\\n<div>    <img height=\"1\" width=\"1\" style=\"display:none;visibility ..."
      ]
     },
     "metadata": {},
     "output_type": "display_data"
    }
   ],
   "source": [
    "imdb.250 <- read_html(\"https://www.imdb.com/chart/top/\")\n",
    "imdb.250"
   ]
  },
  {
   "cell_type": "code",
   "execution_count": 124,
   "metadata": {},
   "outputs": [
    {
     "data": {
      "text/html": [
       "<table class=\"dataframe\">\n",
       "<caption>A tibble: 250 × 1</caption>\n",
       "<thead>\n",
       "\t<tr><th scope=col>.</th></tr>\n",
       "\t<tr><th scope=col>&lt;chr&gt;</th></tr>\n",
       "</thead>\n",
       "<tbody>\n",
       "\t<tr><td>1. The Shawshank Redemption19942h 22mR9.3 (2.8M)Rate                             </td></tr>\n",
       "\t<tr><td>2. The Godfather19722h 55mR9.2 (2M)Rate                                          </td></tr>\n",
       "\t<tr><td>3. The Dark Knight20082h 32mPG-139.0 (2.8M)Rate                                  </td></tr>\n",
       "\t<tr><td>4. The Godfather Part II19743h 22mR9.0 (1.3M)Rate                                </td></tr>\n",
       "\t<tr><td>5. 12 Angry Men19571h 36mApproved9.0 (835K)Rate                                  </td></tr>\n",
       "\t<tr><td>6. Schindler's List19933h 15mR9.0 (1.4M)Rate                                     </td></tr>\n",
       "\t<tr><td>7. The Lord of the Rings: The Return of the King20033h 21mPG-139.0 (1.9M)Rate    </td></tr>\n",
       "\t<tr><td>8. Pulp Fiction19942h 34mR8.9 (2.2M)Rate                                         </td></tr>\n",
       "\t<tr><td>9. The Lord of the Rings: The Fellowship of the Ring20012h 58mPG-138.8 (1.9M)Rate</td></tr>\n",
       "\t<tr><td>10. The Good, the Bad and the Ugly19662h 58mApproved8.8 (791K)Rate               </td></tr>\n",
       "\t<tr><td>11. Forrest Gump19942h 22mPG-138.8 (2.2M)Rate                                    </td></tr>\n",
       "\t<tr><td>12. Fight Club19992h 19mR8.8 (2.2M)Rate                                          </td></tr>\n",
       "\t<tr><td>13. The Lord of the Rings: The Two Towers20022h 59mPG-138.8 (1.7M)Rate           </td></tr>\n",
       "\t<tr><td>14. Inception20102h 28mPG-138.8 (2.5M)Rate                                       </td></tr>\n",
       "\t<tr><td>15. Star Wars: Episode V - The Empire Strikes Back19802h 4mPG8.7 (1.3M)Rate      </td></tr>\n",
       "\t<tr><td>16. The Matrix19992h 16mR8.7 (2M)Rate                                            </td></tr>\n",
       "\t<tr><td>17. Goodfellas19902h 25mR8.7 (1.2M)Rate                                          </td></tr>\n",
       "\t<tr><td>18. One Flew Over the Cuckoo's Nest19752h 13mR8.7 (1M)Rate                       </td></tr>\n",
       "\t<tr><td>19. Se7en19952h 7mR8.6 (1.7M)Rate                                                </td></tr>\n",
       "\t<tr><td>20. Spider-Man: Across the Spider-Verse20232h 20mPG8.7 (273K)Rate                </td></tr>\n",
       "\t<tr><td>21. It's a Wonderful Life19462h 10mPG8.6 (480K)Rate                              </td></tr>\n",
       "\t<tr><td>22. Seven Samurai19543h 27mNot Rated8.6 (359K)Rate                               </td></tr>\n",
       "\t<tr><td>23. Interstellar20142h 49mPG-138.7 (2M)Rate                                      </td></tr>\n",
       "\t<tr><td>24. The Silence of the Lambs19911h 58mR8.6 (1.5M)Rate                            </td></tr>\n",
       "\t<tr><td>25. Saving Private Ryan19982h 49mR8.6 (1.5M)Rate                                 </td></tr>\n",
       "\t<tr><td>26. City of God20022h 10mR8.6 (783K)Rate                                         </td></tr>\n",
       "\t<tr><td>27. Life Is Beautiful19971h 56mPG-138.6 (724K)Rate                               </td></tr>\n",
       "\t<tr><td>28. The Green Mile19993h 9mR8.6 (1.4M)Rate                                       </td></tr>\n",
       "\t<tr><td>29. Star Wars: Episode IV - A New Hope19772h 1mPG8.6 (1.4M)Rate                  </td></tr>\n",
       "\t<tr><td>30. Terminator 2: Judgment Day19912h 17mR8.6 (1.1M)Rate                          </td></tr>\n",
       "\t<tr><td>⋮</td></tr>\n",
       "\t<tr><td>221. Rush20132h 3mR8.1 (501K)Rate                                                       </td></tr>\n",
       "\t<tr><td>222. Network19762h 1mR8.1 (166K)Rate                                                    </td></tr>\n",
       "\t<tr><td>223. Stand by Me19861h 29mR8.1 (428K)Rate                                               </td></tr>\n",
       "\t<tr><td>224. The Best Years of Our Lives19462h 50mApproved8.1 (69K)Rate                         </td></tr>\n",
       "\t<tr><td>225. The Exorcist19732h 2mR8.1 (436K)Rate                                               </td></tr>\n",
       "\t<tr><td>226. La haine19951h 38mNot Rated8.1 (188K)Rate                                          </td></tr>\n",
       "\t<tr><td>227. The Wizard of Oz19391h 42mG8.1 (418K)Rate                                          </td></tr>\n",
       "\t<tr><td>228. Into the Wild20072h 28mR8.1 (644K)Rate                                             </td></tr>\n",
       "\t<tr><td>229. Pirates of the Caribbean: The Curse of the Black Pearl20032h 23mPG-138.1 (1.2M)Rate</td></tr>\n",
       "\t<tr><td>230. The Incredibles20041h 55mPG8.0 (781K)Rate                                          </td></tr>\n",
       "\t<tr><td>231. To Be or Not to Be19421h 39mPassed8.2 (41K)Rate                                    </td></tr>\n",
       "\t<tr><td>232. Hachi: A Dog's Tale20091h 33mG8.1 (302K)Rate                                       </td></tr>\n",
       "\t<tr><td>233. The Handmaiden20162h 25mNot Rated8.1 (164K)Rate                                    </td></tr>\n",
       "\t<tr><td>234. Groundhog Day19931h 41mPG8.0 (664K)Rate                                            </td></tr>\n",
       "\t<tr><td>235. The Battle of Algiers19662h 1mNot Rated8.1 (64K)Rate                               </td></tr>\n",
       "\t<tr><td>236. My Father and My Son20051h 52mNot Rated8.2 (90K)Rate                               </td></tr>\n",
       "\t<tr><td>237. The Grapes of Wrath19402h 9mPassed8.1 (98K)Rate                                    </td></tr>\n",
       "\t<tr><td>238. Amores Perros20002h 34mR8.1 (249K)Rate                                             </td></tr>\n",
       "\t<tr><td>239. Rebecca19402h 10mApproved8.1 (143K)Rate                                            </td></tr>\n",
       "\t<tr><td>240. The Sound of Music19652h 52mG8.1 (250K)Rate                                        </td></tr>\n",
       "\t<tr><td>241. Cool Hand Luke19672h 7mGP8.1 (185K)Rate                                            </td></tr>\n",
       "\t<tr><td>242. Pather Panchali19552h 5mNot Rated8.2 (36K)Rate                                     </td></tr>\n",
       "\t<tr><td>243. It Happened One Night19341h 45mPassed8.1 (109K)Rate                                </td></tr>\n",
       "\t<tr><td>244. The Iron Giant19991h 26mPG8.1 (217K)Rate                                           </td></tr>\n",
       "\t<tr><td>245. The Help20112h 26mPG-138.1 (481K)Rate                                              </td></tr>\n",
       "\t<tr><td>246. The 400 Blows19591h 39mNot Rated8.1 (125K)Rate                                     </td></tr>\n",
       "\t<tr><td>247. Persona19661h 23mNot Rated8.1 (127K)Rate                                           </td></tr>\n",
       "\t<tr><td>248. Life of Brian19791h 34mR8.0 (415K)Rate                                             </td></tr>\n",
       "\t<tr><td>249. Aladdin19921h 30mG8.0 (450K)Rate                                                   </td></tr>\n",
       "\t<tr><td>250. Dances with Wolves19903h 1mPG-138.0 (282K)Rate                                     </td></tr>\n",
       "</tbody>\n",
       "</table>\n"
      ],
      "text/latex": [
       "A tibble: 250 × 1\n",
       "\\begin{tabular}{l}\n",
       " .\\\\\n",
       " <chr>\\\\\n",
       "\\hline\n",
       "\t 1. The Shawshank Redemption19942h 22mR9.3 (2.8M)Rate                             \\\\\n",
       "\t 2. The Godfather19722h 55mR9.2 (2M)Rate                                          \\\\\n",
       "\t 3. The Dark Knight20082h 32mPG-139.0 (2.8M)Rate                                  \\\\\n",
       "\t 4. The Godfather Part II19743h 22mR9.0 (1.3M)Rate                                \\\\\n",
       "\t 5. 12 Angry Men19571h 36mApproved9.0 (835K)Rate                                  \\\\\n",
       "\t 6. Schindler's List19933h 15mR9.0 (1.4M)Rate                                     \\\\\n",
       "\t 7. The Lord of the Rings: The Return of the King20033h 21mPG-139.0 (1.9M)Rate    \\\\\n",
       "\t 8. Pulp Fiction19942h 34mR8.9 (2.2M)Rate                                         \\\\\n",
       "\t 9. The Lord of the Rings: The Fellowship of the Ring20012h 58mPG-138.8 (1.9M)Rate\\\\\n",
       "\t 10. The Good, the Bad and the Ugly19662h 58mApproved8.8 (791K)Rate               \\\\\n",
       "\t 11. Forrest Gump19942h 22mPG-138.8 (2.2M)Rate                                    \\\\\n",
       "\t 12. Fight Club19992h 19mR8.8 (2.2M)Rate                                          \\\\\n",
       "\t 13. The Lord of the Rings: The Two Towers20022h 59mPG-138.8 (1.7M)Rate           \\\\\n",
       "\t 14. Inception20102h 28mPG-138.8 (2.5M)Rate                                       \\\\\n",
       "\t 15. Star Wars: Episode V - The Empire Strikes Back19802h 4mPG8.7 (1.3M)Rate      \\\\\n",
       "\t 16. The Matrix19992h 16mR8.7 (2M)Rate                                            \\\\\n",
       "\t 17. Goodfellas19902h 25mR8.7 (1.2M)Rate                                          \\\\\n",
       "\t 18. One Flew Over the Cuckoo's Nest19752h 13mR8.7 (1M)Rate                       \\\\\n",
       "\t 19. Se7en19952h 7mR8.6 (1.7M)Rate                                                \\\\\n",
       "\t 20. Spider-Man: Across the Spider-Verse20232h 20mPG8.7 (273K)Rate                \\\\\n",
       "\t 21. It's a Wonderful Life19462h 10mPG8.6 (480K)Rate                              \\\\\n",
       "\t 22. Seven Samurai19543h 27mNot Rated8.6 (359K)Rate                               \\\\\n",
       "\t 23. Interstellar20142h 49mPG-138.7 (2M)Rate                                      \\\\\n",
       "\t 24. The Silence of the Lambs19911h 58mR8.6 (1.5M)Rate                            \\\\\n",
       "\t 25. Saving Private Ryan19982h 49mR8.6 (1.5M)Rate                                 \\\\\n",
       "\t 26. City of God20022h 10mR8.6 (783K)Rate                                         \\\\\n",
       "\t 27. Life Is Beautiful19971h 56mPG-138.6 (724K)Rate                               \\\\\n",
       "\t 28. The Green Mile19993h 9mR8.6 (1.4M)Rate                                       \\\\\n",
       "\t 29. Star Wars: Episode IV - A New Hope19772h 1mPG8.6 (1.4M)Rate                  \\\\\n",
       "\t 30. Terminator 2: Judgment Day19912h 17mR8.6 (1.1M)Rate                          \\\\\n",
       "\t ⋮\\\\\n",
       "\t 221. Rush20132h 3mR8.1 (501K)Rate                                                       \\\\\n",
       "\t 222. Network19762h 1mR8.1 (166K)Rate                                                    \\\\\n",
       "\t 223. Stand by Me19861h 29mR8.1 (428K)Rate                                               \\\\\n",
       "\t 224. The Best Years of Our Lives19462h 50mApproved8.1 (69K)Rate                         \\\\\n",
       "\t 225. The Exorcist19732h 2mR8.1 (436K)Rate                                               \\\\\n",
       "\t 226. La haine19951h 38mNot Rated8.1 (188K)Rate                                          \\\\\n",
       "\t 227. The Wizard of Oz19391h 42mG8.1 (418K)Rate                                          \\\\\n",
       "\t 228. Into the Wild20072h 28mR8.1 (644K)Rate                                             \\\\\n",
       "\t 229. Pirates of the Caribbean: The Curse of the Black Pearl20032h 23mPG-138.1 (1.2M)Rate\\\\\n",
       "\t 230. The Incredibles20041h 55mPG8.0 (781K)Rate                                          \\\\\n",
       "\t 231. To Be or Not to Be19421h 39mPassed8.2 (41K)Rate                                    \\\\\n",
       "\t 232. Hachi: A Dog's Tale20091h 33mG8.1 (302K)Rate                                       \\\\\n",
       "\t 233. The Handmaiden20162h 25mNot Rated8.1 (164K)Rate                                    \\\\\n",
       "\t 234. Groundhog Day19931h 41mPG8.0 (664K)Rate                                            \\\\\n",
       "\t 235. The Battle of Algiers19662h 1mNot Rated8.1 (64K)Rate                               \\\\\n",
       "\t 236. My Father and My Son20051h 52mNot Rated8.2 (90K)Rate                               \\\\\n",
       "\t 237. The Grapes of Wrath19402h 9mPassed8.1 (98K)Rate                                    \\\\\n",
       "\t 238. Amores Perros20002h 34mR8.1 (249K)Rate                                             \\\\\n",
       "\t 239. Rebecca19402h 10mApproved8.1 (143K)Rate                                            \\\\\n",
       "\t 240. The Sound of Music19652h 52mG8.1 (250K)Rate                                        \\\\\n",
       "\t 241. Cool Hand Luke19672h 7mGP8.1 (185K)Rate                                            \\\\\n",
       "\t 242. Pather Panchali19552h 5mNot Rated8.2 (36K)Rate                                     \\\\\n",
       "\t 243. It Happened One Night19341h 45mPassed8.1 (109K)Rate                                \\\\\n",
       "\t 244. The Iron Giant19991h 26mPG8.1 (217K)Rate                                           \\\\\n",
       "\t 245. The Help20112h 26mPG-138.1 (481K)Rate                                              \\\\\n",
       "\t 246. The 400 Blows19591h 39mNot Rated8.1 (125K)Rate                                     \\\\\n",
       "\t 247. Persona19661h 23mNot Rated8.1 (127K)Rate                                           \\\\\n",
       "\t 248. Life of Brian19791h 34mR8.0 (415K)Rate                                             \\\\\n",
       "\t 249. Aladdin19921h 30mG8.0 (450K)Rate                                                   \\\\\n",
       "\t 250. Dances with Wolves19903h 1mPG-138.0 (282K)Rate                                     \\\\\n",
       "\\end{tabular}\n"
      ],
      "text/markdown": [
       "\n",
       "A tibble: 250 × 1\n",
       "\n",
       "| . &lt;chr&gt; |\n",
       "|---|\n",
       "| 1. The Shawshank Redemption19942h 22mR9.3 (2.8M)Rate                              |\n",
       "| 2. The Godfather19722h 55mR9.2 (2M)Rate                                           |\n",
       "| 3. The Dark Knight20082h 32mPG-139.0 (2.8M)Rate                                   |\n",
       "| 4. The Godfather Part II19743h 22mR9.0 (1.3M)Rate                                 |\n",
       "| 5. 12 Angry Men19571h 36mApproved9.0 (835K)Rate                                   |\n",
       "| 6. Schindler's List19933h 15mR9.0 (1.4M)Rate                                      |\n",
       "| 7. The Lord of the Rings: The Return of the King20033h 21mPG-139.0 (1.9M)Rate     |\n",
       "| 8. Pulp Fiction19942h 34mR8.9 (2.2M)Rate                                          |\n",
       "| 9. The Lord of the Rings: The Fellowship of the Ring20012h 58mPG-138.8 (1.9M)Rate |\n",
       "| 10. The Good, the Bad and the Ugly19662h 58mApproved8.8 (791K)Rate                |\n",
       "| 11. Forrest Gump19942h 22mPG-138.8 (2.2M)Rate                                     |\n",
       "| 12. Fight Club19992h 19mR8.8 (2.2M)Rate                                           |\n",
       "| 13. The Lord of the Rings: The Two Towers20022h 59mPG-138.8 (1.7M)Rate            |\n",
       "| 14. Inception20102h 28mPG-138.8 (2.5M)Rate                                        |\n",
       "| 15. Star Wars: Episode V - The Empire Strikes Back19802h 4mPG8.7 (1.3M)Rate       |\n",
       "| 16. The Matrix19992h 16mR8.7 (2M)Rate                                             |\n",
       "| 17. Goodfellas19902h 25mR8.7 (1.2M)Rate                                           |\n",
       "| 18. One Flew Over the Cuckoo's Nest19752h 13mR8.7 (1M)Rate                        |\n",
       "| 19. Se7en19952h 7mR8.6 (1.7M)Rate                                                 |\n",
       "| 20. Spider-Man: Across the Spider-Verse20232h 20mPG8.7 (273K)Rate                 |\n",
       "| 21. It's a Wonderful Life19462h 10mPG8.6 (480K)Rate                               |\n",
       "| 22. Seven Samurai19543h 27mNot Rated8.6 (359K)Rate                                |\n",
       "| 23. Interstellar20142h 49mPG-138.7 (2M)Rate                                       |\n",
       "| 24. The Silence of the Lambs19911h 58mR8.6 (1.5M)Rate                             |\n",
       "| 25. Saving Private Ryan19982h 49mR8.6 (1.5M)Rate                                  |\n",
       "| 26. City of God20022h 10mR8.6 (783K)Rate                                          |\n",
       "| 27. Life Is Beautiful19971h 56mPG-138.6 (724K)Rate                                |\n",
       "| 28. The Green Mile19993h 9mR8.6 (1.4M)Rate                                        |\n",
       "| 29. Star Wars: Episode IV - A New Hope19772h 1mPG8.6 (1.4M)Rate                   |\n",
       "| 30. Terminator 2: Judgment Day19912h 17mR8.6 (1.1M)Rate                           |\n",
       "| ⋮ |\n",
       "| 221. Rush20132h 3mR8.1 (501K)Rate                                                        |\n",
       "| 222. Network19762h 1mR8.1 (166K)Rate                                                     |\n",
       "| 223. Stand by Me19861h 29mR8.1 (428K)Rate                                                |\n",
       "| 224. The Best Years of Our Lives19462h 50mApproved8.1 (69K)Rate                          |\n",
       "| 225. The Exorcist19732h 2mR8.1 (436K)Rate                                                |\n",
       "| 226. La haine19951h 38mNot Rated8.1 (188K)Rate                                           |\n",
       "| 227. The Wizard of Oz19391h 42mG8.1 (418K)Rate                                           |\n",
       "| 228. Into the Wild20072h 28mR8.1 (644K)Rate                                              |\n",
       "| 229. Pirates of the Caribbean: The Curse of the Black Pearl20032h 23mPG-138.1 (1.2M)Rate |\n",
       "| 230. The Incredibles20041h 55mPG8.0 (781K)Rate                                           |\n",
       "| 231. To Be or Not to Be19421h 39mPassed8.2 (41K)Rate                                     |\n",
       "| 232. Hachi: A Dog's Tale20091h 33mG8.1 (302K)Rate                                        |\n",
       "| 233. The Handmaiden20162h 25mNot Rated8.1 (164K)Rate                                     |\n",
       "| 234. Groundhog Day19931h 41mPG8.0 (664K)Rate                                             |\n",
       "| 235. The Battle of Algiers19662h 1mNot Rated8.1 (64K)Rate                                |\n",
       "| 236. My Father and My Son20051h 52mNot Rated8.2 (90K)Rate                                |\n",
       "| 237. The Grapes of Wrath19402h 9mPassed8.1 (98K)Rate                                     |\n",
       "| 238. Amores Perros20002h 34mR8.1 (249K)Rate                                              |\n",
       "| 239. Rebecca19402h 10mApproved8.1 (143K)Rate                                             |\n",
       "| 240. The Sound of Music19652h 52mG8.1 (250K)Rate                                         |\n",
       "| 241. Cool Hand Luke19672h 7mGP8.1 (185K)Rate                                             |\n",
       "| 242. Pather Panchali19552h 5mNot Rated8.2 (36K)Rate                                      |\n",
       "| 243. It Happened One Night19341h 45mPassed8.1 (109K)Rate                                 |\n",
       "| 244. The Iron Giant19991h 26mPG8.1 (217K)Rate                                            |\n",
       "| 245. The Help20112h 26mPG-138.1 (481K)Rate                                               |\n",
       "| 246. The 400 Blows19591h 39mNot Rated8.1 (125K)Rate                                      |\n",
       "| 247. Persona19661h 23mNot Rated8.1 (127K)Rate                                            |\n",
       "| 248. Life of Brian19791h 34mR8.0 (415K)Rate                                              |\n",
       "| 249. Aladdin19921h 30mG8.0 (450K)Rate                                                    |\n",
       "| 250. Dances with Wolves19903h 1mPG-138.0 (282K)Rate                                      |\n",
       "\n"
      ],
      "text/plain": [
       "    .                                                                                       \n",
       "1   1. The Shawshank Redemption19942h 22mR9.3 (2.8M)Rate                                    \n",
       "2   2. The Godfather19722h 55mR9.2 (2M)Rate                                                 \n",
       "3   3. The Dark Knight20082h 32mPG-139.0 (2.8M)Rate                                         \n",
       "4   4. The Godfather Part II19743h 22mR9.0 (1.3M)Rate                                       \n",
       "5   5. 12 Angry Men19571h 36mApproved9.0 (835K)Rate                                         \n",
       "6   6. Schindler's List19933h 15mR9.0 (1.4M)Rate                                            \n",
       "7   7. The Lord of the Rings: The Return of the King20033h 21mPG-139.0 (1.9M)Rate           \n",
       "8   8. Pulp Fiction19942h 34mR8.9 (2.2M)Rate                                                \n",
       "9   9. The Lord of the Rings: The Fellowship of the Ring20012h 58mPG-138.8 (1.9M)Rate       \n",
       "10  10. The Good, the Bad and the Ugly19662h 58mApproved8.8 (791K)Rate                      \n",
       "11  11. Forrest Gump19942h 22mPG-138.8 (2.2M)Rate                                           \n",
       "12  12. Fight Club19992h 19mR8.8 (2.2M)Rate                                                 \n",
       "13  13. The Lord of the Rings: The Two Towers20022h 59mPG-138.8 (1.7M)Rate                  \n",
       "14  14. Inception20102h 28mPG-138.8 (2.5M)Rate                                              \n",
       "15  15. Star Wars: Episode V - The Empire Strikes Back19802h 4mPG8.7 (1.3M)Rate             \n",
       "16  16. The Matrix19992h 16mR8.7 (2M)Rate                                                   \n",
       "17  17. Goodfellas19902h 25mR8.7 (1.2M)Rate                                                 \n",
       "18  18. One Flew Over the Cuckoo's Nest19752h 13mR8.7 (1M)Rate                              \n",
       "19  19. Se7en19952h 7mR8.6 (1.7M)Rate                                                       \n",
       "20  20. Spider-Man: Across the Spider-Verse20232h 20mPG8.7 (273K)Rate                       \n",
       "21  21. It's a Wonderful Life19462h 10mPG8.6 (480K)Rate                                     \n",
       "22  22. Seven Samurai19543h 27mNot Rated8.6 (359K)Rate                                      \n",
       "23  23. Interstellar20142h 49mPG-138.7 (2M)Rate                                             \n",
       "24  24. The Silence of the Lambs19911h 58mR8.6 (1.5M)Rate                                   \n",
       "25  25. Saving Private Ryan19982h 49mR8.6 (1.5M)Rate                                        \n",
       "26  26. City of God20022h 10mR8.6 (783K)Rate                                                \n",
       "27  27. Life Is Beautiful19971h 56mPG-138.6 (724K)Rate                                      \n",
       "28  28. The Green Mile19993h 9mR8.6 (1.4M)Rate                                              \n",
       "29  29. Star Wars: Episode IV - A New Hope19772h 1mPG8.6 (1.4M)Rate                         \n",
       "30  30. Terminator 2: Judgment Day19912h 17mR8.6 (1.1M)Rate                                 \n",
       "⋮   ⋮                                                                                       \n",
       "221 221. Rush20132h 3mR8.1 (501K)Rate                                                       \n",
       "222 222. Network19762h 1mR8.1 (166K)Rate                                                    \n",
       "223 223. Stand by Me19861h 29mR8.1 (428K)Rate                                               \n",
       "224 224. The Best Years of Our Lives19462h 50mApproved8.1 (69K)Rate                         \n",
       "225 225. The Exorcist19732h 2mR8.1 (436K)Rate                                               \n",
       "226 226. La haine19951h 38mNot Rated8.1 (188K)Rate                                          \n",
       "227 227. The Wizard of Oz19391h 42mG8.1 (418K)Rate                                          \n",
       "228 228. Into the Wild20072h 28mR8.1 (644K)Rate                                             \n",
       "229 229. Pirates of the Caribbean: The Curse of the Black Pearl20032h 23mPG-138.1 (1.2M)Rate\n",
       "230 230. The Incredibles20041h 55mPG8.0 (781K)Rate                                          \n",
       "231 231. To Be or Not to Be19421h 39mPassed8.2 (41K)Rate                                    \n",
       "232 232. Hachi: A Dog's Tale20091h 33mG8.1 (302K)Rate                                       \n",
       "233 233. The Handmaiden20162h 25mNot Rated8.1 (164K)Rate                                    \n",
       "234 234. Groundhog Day19931h 41mPG8.0 (664K)Rate                                            \n",
       "235 235. The Battle of Algiers19662h 1mNot Rated8.1 (64K)Rate                               \n",
       "236 236. My Father and My Son20051h 52mNot Rated8.2 (90K)Rate                               \n",
       "237 237. The Grapes of Wrath19402h 9mPassed8.1 (98K)Rate                                    \n",
       "238 238. Amores Perros20002h 34mR8.1 (249K)Rate                                             \n",
       "239 239. Rebecca19402h 10mApproved8.1 (143K)Rate                                            \n",
       "240 240. The Sound of Music19652h 52mG8.1 (250K)Rate                                        \n",
       "241 241. Cool Hand Luke19672h 7mGP8.1 (185K)Rate                                            \n",
       "242 242. Pather Panchali19552h 5mNot Rated8.2 (36K)Rate                                     \n",
       "243 243. It Happened One Night19341h 45mPassed8.1 (109K)Rate                                \n",
       "244 244. The Iron Giant19991h 26mPG8.1 (217K)Rate                                           \n",
       "245 245. The Help20112h 26mPG-138.1 (481K)Rate                                              \n",
       "246 246. The 400 Blows19591h 39mNot Rated8.1 (125K)Rate                                     \n",
       "247 247. Persona19661h 23mNot Rated8.1 (127K)Rate                                           \n",
       "248 248. Life of Brian19791h 34mR8.0 (415K)Rate                                             \n",
       "249 249. Aladdin19921h 30mG8.0 (450K)Rate                                                   \n",
       "250 250. Dances with Wolves19903h 1mPG-138.0 (282K)Rate                                     "
      ]
     },
     "metadata": {},
     "output_type": "display_data"
    }
   ],
   "source": [
    "imdb.250 %>% html_elements('li.ipc-metadata-list-summary-item') %>% html_text %>% tibble "
   ]
  },
  {
   "cell_type": "markdown",
   "metadata": {
    "id": "tX6IG-dGcIIn"
   },
   "source": [
    "## Super Bowl TV ratings\n",
    "How have the TV ratings for the Super Bowl changed over the years?"
   ]
  },
  {
   "cell_type": "code",
   "execution_count": 91,
   "metadata": {
    "id": "hyjnMloncIIn"
   },
   "outputs": [],
   "source": [
    "sbtv <- read_html('https://en.wikipedia.org/wiki/Super_Bowl_television_ratings') %>% html_elements('table') %>% .[[1]] %>% html_table"
   ]
  },
  {
   "cell_type": "code",
   "execution_count": 92,
   "metadata": {
    "id": "ZPqeVqyUcIIo"
   },
   "outputs": [
    {
     "data": {
      "text/html": [
       "<table class=\"dataframe\">\n",
       "<caption>A tibble: 59 × 10</caption>\n",
       "<thead>\n",
       "\t<tr><th scope=col>SuperBowl</th><th scope=col>Date</th><th scope=col>Network</th><th scope=col>Avg. viewers(millions)</th><th scope=col>Households</th><th scope=col>Households</th><th scope=col>18–49 demographic</th><th scope=col>18–49 demographic</th><th scope=col>Avg. cost of 30-second ad</th><th scope=col>Avg. cost of 30-second ad</th></tr>\n",
       "\t<tr><th scope=col>&lt;chr&gt;</th><th scope=col>&lt;chr&gt;</th><th scope=col>&lt;chr&gt;</th><th scope=col>&lt;chr&gt;</th><th scope=col>&lt;chr&gt;</th><th scope=col>&lt;chr&gt;</th><th scope=col>&lt;chr&gt;</th><th scope=col>&lt;chr&gt;</th><th scope=col>&lt;chr&gt;</th><th scope=col>&lt;chr&gt;</th></tr>\n",
       "</thead>\n",
       "<tbody>\n",
       "\t<tr><td>SuperBowl</td><td>Date             </td><td>Network</td><td>Avg. viewers(millions)</td><td>Rating     </td><td>Share    </td><td>Rating     </td><td>Share    </td><td>Original      </td><td>2021 inflation-adjusted[13]</td></tr>\n",
       "\t<tr><td>I        </td><td>January 15, 1967 </td><td>CBS    </td><td>26.75[14]             </td><td>22.6[14]   </td><td>43[14]   </td><td>Un­known   </td><td>Un­known </td><td>$42,500[14]   </td><td>$345,551                   </td></tr>\n",
       "\t<tr><td>I        </td><td>January 15, 1967 </td><td>NBC    </td><td>24.43[14]             </td><td>18.5[14]   </td><td>36[14]   </td><td>Un­known   </td><td>Un­known </td><td>$37,500[14]   </td><td>$304,898                   </td></tr>\n",
       "\t<tr><td>II       </td><td>January 14, 1968 </td><td>CBS    </td><td>39.12[14]             </td><td>36.8[14]   </td><td>68[14]   </td><td>Un­known   </td><td>Un­known </td><td>$54,500[14]   </td><td>$425,160                   </td></tr>\n",
       "\t<tr><td>III      </td><td>January 12, 1969 </td><td>NBC    </td><td>41.66[14]             </td><td>36.0[14]   </td><td>70[14]   </td><td>Un­known   </td><td>Un­known </td><td>$55,000[14]   </td><td>$406,952                   </td></tr>\n",
       "\t<tr><td>IV       </td><td>January 11, 1970 </td><td>CBS    </td><td>44.27[14]             </td><td>39.4[14]   </td><td>69[14]   </td><td>Un­known   </td><td>Un­known </td><td>$78,200[14]   </td><td>$546,434                   </td></tr>\n",
       "\t<tr><td>V        </td><td>January 17, 1971 </td><td>NBC    </td><td>46.04[14]             </td><td>39.9[14]   </td><td>75[14]   </td><td>Un­known   </td><td>Un­known </td><td>$72,500[14]   </td><td>$486,080                   </td></tr>\n",
       "\t<tr><td>VI       </td><td>January 16, 1972 </td><td>CBS    </td><td>56.64[14]             </td><td>44.2[14]   </td><td>74[14]   </td><td>Un­known   </td><td>Un­known </td><td>$86,100[14]   </td><td>$558,898                   </td></tr>\n",
       "\t<tr><td>VII      </td><td>January 14, 1973 </td><td>NBC    </td><td>53.32[14]             </td><td>42.7[14]   </td><td>72[14]   </td><td>Un­known   </td><td>Un­known </td><td>$88,100[14]   </td><td>$538,158                   </td></tr>\n",
       "\t<tr><td>VIII     </td><td>January 13, 1974 </td><td>CBS    </td><td>51.70[14]             </td><td>41.6[14]   </td><td>73[14]   </td><td>Un­known   </td><td>Un­known </td><td>$103,500[14]  </td><td>$569,544                   </td></tr>\n",
       "\t<tr><td>IX       </td><td>January 12, 1975 </td><td>NBC    </td><td>56.05[14]             </td><td>42.4[14]   </td><td>72[14]   </td><td>Un­known   </td><td>Un­known </td><td>$107,000[14]  </td><td>$539,472                   </td></tr>\n",
       "\t<tr><td>X        </td><td>January 18, 1976 </td><td>CBS    </td><td>57.71[14]             </td><td>42.3[14]   </td><td>78[14]   </td><td>Un­known   </td><td>Un­known </td><td>$110,000[14]  </td><td>$524,398                   </td></tr>\n",
       "\t<tr><td>XI       </td><td>January 9, 1977  </td><td>NBC    </td><td>62.05[14]             </td><td>44.4[14]   </td><td>73[14]   </td><td>Un­known   </td><td>Un­known </td><td>$125,000[14]  </td><td>$559,634                   </td></tr>\n",
       "\t<tr><td>XII      </td><td>January 15, 1978 </td><td>CBS    </td><td>78.94[14]             </td><td>47.2[14]   </td><td>67[14]   </td><td>Un­known   </td><td>Un­known </td><td>$162,300[14]  </td><td>$675,172                   </td></tr>\n",
       "\t<tr><td>XIII     </td><td>January 21, 1979 </td><td>NBC    </td><td>74.74[14]             </td><td>47.1[14]   </td><td>74[14]   </td><td>Un­known   </td><td>Un­known </td><td>$185,000[14]  </td><td>$691,775                   </td></tr>\n",
       "\t<tr><td>XIV      </td><td>January 20, 1980 </td><td>CBS    </td><td>76.24[14]             </td><td>46.3[14]   </td><td>67[14]   </td><td>Un­known   </td><td>Un­known </td><td>$222,000[14]  </td><td>$724,788                   </td></tr>\n",
       "\t<tr><td>XV       </td><td>January 25, 1981 </td><td>NBC    </td><td>68.29[14]             </td><td>44.4[14]   </td><td>63[14]   </td><td>Un­known   </td><td>Un­known </td><td>$275,000[14]  </td><td>$820,796                   </td></tr>\n",
       "\t<tr><td>XVI      </td><td>January 24, 1982 </td><td>CBS    </td><td>85.24[14]             </td><td>49.1[14]   </td><td>73[14]   </td><td>Un­known   </td><td>Un­known </td><td>$324,300[14]  </td><td>$911,789                   </td></tr>\n",
       "\t<tr><td>XVII     </td><td>January 30, 1983 </td><td>NBC    </td><td>81.77[14]             </td><td>48.6[14]   </td><td>69[14]   </td><td>Un­known   </td><td>Un­known </td><td>$400,000[14]  </td><td>$1,090,179                 </td></tr>\n",
       "\t<tr><td>XVIII    </td><td>January 22, 1984 </td><td>CBS    </td><td>77.62[14]             </td><td>46.4[14]   </td><td>71[14]   </td><td>Un­known   </td><td>Un­known </td><td>$368,200[14]  </td><td>$961,508                   </td></tr>\n",
       "\t<tr><td>XIX      </td><td>January 20, 1985 </td><td>ABC    </td><td>85.53[14]             </td><td>46.4[14]   </td><td>63[14]   </td><td>Un­known   </td><td>Un­known </td><td>$525,000[14]  </td><td>$1,324,210                 </td></tr>\n",
       "\t<tr><td>XX       </td><td>January 26, 1986 </td><td>NBC    </td><td>92.57[14]             </td><td>48.3[14]   </td><td>70[14]   </td><td>Un­known   </td><td>Un­known </td><td>$550,000[14]  </td><td>$1,361,953                 </td></tr>\n",
       "\t<tr><td>XXI      </td><td>January 25, 1987 </td><td>CBS    </td><td>87.19[14]             </td><td>45.8[14]   </td><td>66[14]   </td><td>Un­known   </td><td>Un­known </td><td>$600,000[14]  </td><td>$1,433,198                 </td></tr>\n",
       "\t<tr><td>XXII     </td><td>January 31, 1988 </td><td>ABC    </td><td>80.14[14]             </td><td>41.9[14]   </td><td>62[14]   </td><td>Un­known   </td><td>Un­known </td><td>$645,000[14]  </td><td>$1,479,988                 </td></tr>\n",
       "\t<tr><td>XXIII    </td><td>January 22, 1989 </td><td>NBC    </td><td>81.59[14]             </td><td>43.5[14]   </td><td>68[14]   </td><td>Un­known   </td><td>Un­known </td><td>$675,000[14]  </td><td>$1,477,379                 </td></tr>\n",
       "\t<tr><td>XXIV     </td><td>January 28, 1990 </td><td>CBS    </td><td>73.85[14]             </td><td>39.0[14]   </td><td>63[14]   </td><td>Un­known   </td><td>Un­known </td><td>$700,400[14]  </td><td>$1,454,834                 </td></tr>\n",
       "\t<tr><td>XXV      </td><td>January 27, 1991 </td><td>ABC    </td><td>79.51[14]             </td><td>41.9[14]   </td><td>63[14]   </td><td>Un­known   </td><td>Un­known </td><td>$800,000[14]  </td><td>$1,594,477                 </td></tr>\n",
       "\t<tr><td>XXVI     </td><td>January 26, 1992 </td><td>CBS    </td><td>79.59[14]             </td><td>40.3[14]   </td><td>61[14]   </td><td>35.6[15]   </td><td>61[15]   </td><td>$850,000[14]  </td><td>$1,644,145                 </td></tr>\n",
       "\t<tr><td>XXVII    </td><td>January 31, 1993 </td><td>NBC    </td><td>90.99[14]             </td><td>45.1[14]   </td><td>66[14]   </td><td>Un­known   </td><td>Un­known </td><td>$850,000[14]  </td><td>$1,596,692                 </td></tr>\n",
       "\t<tr><td>XXVIII   </td><td>January 30, 1994 </td><td>NBC    </td><td>90.00[14]             </td><td>45.5[14]   </td><td>66[14]   </td><td>39.9[16]   </td><td>76[16]   </td><td>$900,000[14]  </td><td>$1,647,845                 </td></tr>\n",
       "\t<tr><td>XXIX     </td><td>January 29, 1995 </td><td>ABC    </td><td>83.42[14]             </td><td>41.3[14]   </td><td>62[14]   </td><td>Un­known   </td><td>Un­known </td><td>$1,150,000[14]</td><td>$2,048,235                 </td></tr>\n",
       "\t<tr><td>XXX      </td><td>January 28, 1996 </td><td>NBC    </td><td>94.08[14]             </td><td>46.0[14]   </td><td>68[14]   </td><td>41.2[17]   </td><td>Un­known </td><td>$1,085,000[14]</td><td>$1,877,273                 </td></tr>\n",
       "\t<tr><td>XXXI     </td><td>January 26, 1997 </td><td>Fox    </td><td>87.87[14]             </td><td>43.3[14]   </td><td>65[14]   </td><td>38.5[18]   </td><td>74[18]   </td><td>$1,200,000[14]</td><td>$2,028,780                 </td></tr>\n",
       "\t<tr><td>XXXII    </td><td>January 25, 1998 </td><td>NBC    </td><td>90.00[14]             </td><td>44.5[14]   </td><td>67[14]   </td><td>38.7[19]   </td><td>75[19]   </td><td>$1,291,100[14]</td><td>$2,149,589                 </td></tr>\n",
       "\t<tr><td>XXXIII   </td><td>January 31, 1999 </td><td>Fox    </td><td>83.72[14]             </td><td>40.2[14]   </td><td>61[14]   </td><td>36.4[20]   </td><td>71[20]   </td><td>$1,600,000[14]</td><td>$2,606,796                 </td></tr>\n",
       "\t<tr><td>XXXIV    </td><td>January 30, 2000 </td><td>ABC    </td><td>88.47[14]             </td><td>43.3[14]   </td><td>63[14]   </td><td>37.9[21]   </td><td>70[21]   </td><td>$2,100,000[14]</td><td>$3,309,948                 </td></tr>\n",
       "\t<tr><td>XXXV     </td><td>January 28, 2001 </td><td>CBS    </td><td>84.34[14]             </td><td>40.4[14]   </td><td>61[14]   </td><td>35.8[22]   </td><td>71[22]   </td><td>$2,200,000[14]</td><td>$3,371,429                 </td></tr>\n",
       "\t<tr><td>XXXVI    </td><td>February 3, 2002 </td><td>Fox    </td><td>86.80[14]             </td><td>40.4[14]   </td><td>61[14]   </td><td>34.7[23]   </td><td>70[23]   </td><td>$2,200,000[14]</td><td>$3,319,509                 </td></tr>\n",
       "\t<tr><td>XXXVII   </td><td>January 26, 2003 </td><td>ABC    </td><td>88.64[14]             </td><td>40.7[14]   </td><td>61[14]   </td><td>36.4[24]   </td><td>70[24]   </td><td>$2,200,000[14]</td><td>$3,245,000                 </td></tr>\n",
       "\t<tr><td>XXXVIII  </td><td>February 1, 2004 </td><td>CBS    </td><td>89.80[14]             </td><td>41.4[14]   </td><td>63[14]   </td><td>35.7[25]   </td><td>72[25]   </td><td>$2,302,200[14]</td><td>$3,307,198                 </td></tr>\n",
       "\t<tr><td>XXXIX    </td><td>February 6, 2005 </td><td>Fox    </td><td>86.07[14]             </td><td>41.1[14]   </td><td>62[14]   </td><td>33.2[26]   </td><td>68[26]   </td><td>$2,400,000[14]</td><td>$3,335,689                 </td></tr>\n",
       "\t<tr><td>XL       </td><td>February 5, 2006 </td><td>ABC    </td><td>90.75[14]             </td><td>41.6[14]   </td><td>62[14]   </td><td>34.6[26]   </td><td>69[26]   </td><td>$2,500,000[14]</td><td>$3,366,410                 </td></tr>\n",
       "\t<tr><td>XLI      </td><td>February 4, 2007 </td><td>CBS    </td><td>93.18[14]             </td><td>42.6[14]   </td><td>64[14]   </td><td>35.2[27]   </td><td>70[27]   </td><td>$2,385,365[14]</td><td>$3,122,350                 </td></tr>\n",
       "\t<tr><td>XLII     </td><td>February 3, 2008 </td><td>Fox    </td><td>97.45[14]             </td><td>43.1[14]   </td><td>65[14]   </td><td>37.5[28]   </td><td>73[28]   </td><td>$2,699,963[14]</td><td>$3,361,885                 </td></tr>\n",
       "\t<tr><td>XLIII    </td><td>February 1, 2009 </td><td>NBC    </td><td>98.73[14]             </td><td>42.0[14]   </td><td>64[14]   </td><td>36.7[29]   </td><td>72[29]   </td><td>$3,000,000[14]</td><td>$3,794,920                 </td></tr>\n",
       "\t<tr><td>XLIV     </td><td>February 7, 2010 </td><td>CBS    </td><td>106.48[14]            </td><td>45.0[14]   </td><td>68[14]   </td><td>38.6[30]   </td><td>75[30]   </td><td>$2,800,000[14]</td><td>$3,484,273                 </td></tr>\n",
       "\t<tr><td>XLV      </td><td>February 6, 2011 </td><td>Fox    </td><td>111.04[14]            </td><td>46.0[14]   </td><td>69[14]   </td><td>39.9[31]   </td><td>77[31]   </td><td>$2,948,649[14]</td><td>$3,558,307                 </td></tr>\n",
       "\t<tr><td>XLVI     </td><td>February 5, 2012 </td><td>NBC    </td><td>111.35[14]            </td><td>47.0[14]   </td><td>71[14]   </td><td>40.5[32]   </td><td>78[32]   </td><td>$3,442,752[14]</td><td>$4,069,525                 </td></tr>\n",
       "\t<tr><td>XLVII    </td><td>February 3, 2013 </td><td>CBS    </td><td>108.69[14]            </td><td>46.4[14]   </td><td>69[14]   </td><td>39.7[33]   </td><td>77[33]   </td><td>$3,765,130[14]</td><td>$4,385,649                 </td></tr>\n",
       "\t<tr><td>XLVIII   </td><td>February 2, 2014 </td><td>Fox    </td><td>112.19[14]            </td><td>46.7[14]   </td><td>69[14]   </td><td>39.3[34]   </td><td>77[34]   </td><td>$4,084,864[14]</td><td>$4,683,701                 </td></tr>\n",
       "\t<tr><td>XLIX     </td><td>February 1, 2015 </td><td>NBC    </td><td>114.44[14]            </td><td>47.5[14]   </td><td>71[14]   </td><td>39.1[35]   </td><td>79[35]   </td><td>$4,283,129[14]</td><td>$4,904,815                 </td></tr>\n",
       "\t<tr><td>50       </td><td>February 7, 2016 </td><td>CBS    </td><td>111.86[14]            </td><td>46.6[14]   </td><td>72[14]   </td><td>37.7[36]   </td><td>79[36]   </td><td>$4,800,000[14]</td><td>$5,428,000                 </td></tr>\n",
       "\t<tr><td>LI       </td><td>February 5, 2017 </td><td>Fox    </td><td>111.32[14]            </td><td>45.3[14]   </td><td>70[14]   </td><td>37.1[37]   </td><td>79[37]   </td><td>$5,399,873[14]</td><td>$5,912,858                 </td></tr>\n",
       "\t<tr><td>LII      </td><td>February 4, 2018 </td><td>NBC    </td><td>103.47[14]            </td><td>43.1[14]   </td><td>68[14]   </td><td>33.4[38]   </td><td>78[38]   </td><td>$5,235,379[14]</td><td>$5,658,629                 </td></tr>\n",
       "\t<tr><td>LIII     </td><td>February 3, 2019 </td><td>CBS    </td><td>98.48[14]             </td><td>41.1[14]   </td><td>67[14]   </td><td>31.0[39]   </td><td>78[39]   </td><td>$5,199,916[14]</td><td>$5,519,191                 </td></tr>\n",
       "\t<tr><td>LIV      </td><td>February 2, 2020 </td><td>Fox    </td><td>101.32[14]            </td><td>41.6[14]   </td><td>69[14]   </td><td>30.1[40]   </td><td>77[40]   </td><td>$5,400,000[14]</td><td>$5,662,906                 </td></tr>\n",
       "\t<tr><td>LV       </td><td>February 7, 2021 </td><td>CBS    </td><td>95.2[41][a]           </td><td>38.2[14][a]</td><td>68[14][a]</td><td>26.5[42][a]</td><td>88[42][a]</td><td>$5,500,000[43]</td><td>$5,500,000                 </td></tr>\n",
       "\t<tr><td>LVI      </td><td>February 13, 2022</td><td>NBC    </td><td>99.18[44]             </td><td>36.9[45]   </td><td>72[46]   </td><td>29.5[44]   </td><td>         </td><td>$6,500,000[47]</td><td>$7,020,000                 </td></tr>\n",
       "\t<tr><td>LVII     </td><td>February 12, 2023</td><td>Fox    </td><td>112.17[48]            </td><td>40.0[48]   </td><td>         </td><td>33.8[49]   </td><td>         </td><td>$7,000,000    </td><td>                           </td></tr>\n",
       "</tbody>\n",
       "</table>\n"
      ],
      "text/latex": [
       "A tibble: 59 × 10\n",
       "\\begin{tabular}{llllllllll}\n",
       " SuperBowl & Date & Network & Avg. viewers(millions) & Households & Households & 18–49 demographic & 18–49 demographic & Avg. cost of 30-second ad & Avg. cost of 30-second ad\\\\\n",
       " <chr> & <chr> & <chr> & <chr> & <chr> & <chr> & <chr> & <chr> & <chr> & <chr>\\\\\n",
       "\\hline\n",
       "\t SuperBowl & Date              & Network & Avg. viewers(millions) & Rating      & Share     & Rating      & Share     & Original       & 2021 inflation-adjusted{[}13{]}\\\\\n",
       "\t I         & January 15, 1967  & CBS     & 26.75{[}14{]}              & 22.6{[}14{]}    & 43{[}14{]}    & Un­known    & Un­known  & \\$42,500{[}14{]}    & \\$345,551                   \\\\\n",
       "\t I         & January 15, 1967  & NBC     & 24.43{[}14{]}              & 18.5{[}14{]}    & 36{[}14{]}    & Un­known    & Un­known  & \\$37,500{[}14{]}    & \\$304,898                   \\\\\n",
       "\t II        & January 14, 1968  & CBS     & 39.12{[}14{]}              & 36.8{[}14{]}    & 68{[}14{]}    & Un­known    & Un­known  & \\$54,500{[}14{]}    & \\$425,160                   \\\\\n",
       "\t III       & January 12, 1969  & NBC     & 41.66{[}14{]}              & 36.0{[}14{]}    & 70{[}14{]}    & Un­known    & Un­known  & \\$55,000{[}14{]}    & \\$406,952                   \\\\\n",
       "\t IV        & January 11, 1970  & CBS     & 44.27{[}14{]}              & 39.4{[}14{]}    & 69{[}14{]}    & Un­known    & Un­known  & \\$78,200{[}14{]}    & \\$546,434                   \\\\\n",
       "\t V         & January 17, 1971  & NBC     & 46.04{[}14{]}              & 39.9{[}14{]}    & 75{[}14{]}    & Un­known    & Un­known  & \\$72,500{[}14{]}    & \\$486,080                   \\\\\n",
       "\t VI        & January 16, 1972  & CBS     & 56.64{[}14{]}              & 44.2{[}14{]}    & 74{[}14{]}    & Un­known    & Un­known  & \\$86,100{[}14{]}    & \\$558,898                   \\\\\n",
       "\t VII       & January 14, 1973  & NBC     & 53.32{[}14{]}              & 42.7{[}14{]}    & 72{[}14{]}    & Un­known    & Un­known  & \\$88,100{[}14{]}    & \\$538,158                   \\\\\n",
       "\t VIII      & January 13, 1974  & CBS     & 51.70{[}14{]}              & 41.6{[}14{]}    & 73{[}14{]}    & Un­known    & Un­known  & \\$103,500{[}14{]}   & \\$569,544                   \\\\\n",
       "\t IX        & January 12, 1975  & NBC     & 56.05{[}14{]}              & 42.4{[}14{]}    & 72{[}14{]}    & Un­known    & Un­known  & \\$107,000{[}14{]}   & \\$539,472                   \\\\\n",
       "\t X         & January 18, 1976  & CBS     & 57.71{[}14{]}              & 42.3{[}14{]}    & 78{[}14{]}    & Un­known    & Un­known  & \\$110,000{[}14{]}   & \\$524,398                   \\\\\n",
       "\t XI        & January 9, 1977   & NBC     & 62.05{[}14{]}              & 44.4{[}14{]}    & 73{[}14{]}    & Un­known    & Un­known  & \\$125,000{[}14{]}   & \\$559,634                   \\\\\n",
       "\t XII       & January 15, 1978  & CBS     & 78.94{[}14{]}              & 47.2{[}14{]}    & 67{[}14{]}    & Un­known    & Un­known  & \\$162,300{[}14{]}   & \\$675,172                   \\\\\n",
       "\t XIII      & January 21, 1979  & NBC     & 74.74{[}14{]}              & 47.1{[}14{]}    & 74{[}14{]}    & Un­known    & Un­known  & \\$185,000{[}14{]}   & \\$691,775                   \\\\\n",
       "\t XIV       & January 20, 1980  & CBS     & 76.24{[}14{]}              & 46.3{[}14{]}    & 67{[}14{]}    & Un­known    & Un­known  & \\$222,000{[}14{]}   & \\$724,788                   \\\\\n",
       "\t XV        & January 25, 1981  & NBC     & 68.29{[}14{]}              & 44.4{[}14{]}    & 63{[}14{]}    & Un­known    & Un­known  & \\$275,000{[}14{]}   & \\$820,796                   \\\\\n",
       "\t XVI       & January 24, 1982  & CBS     & 85.24{[}14{]}              & 49.1{[}14{]}    & 73{[}14{]}    & Un­known    & Un­known  & \\$324,300{[}14{]}   & \\$911,789                   \\\\\n",
       "\t XVII      & January 30, 1983  & NBC     & 81.77{[}14{]}              & 48.6{[}14{]}    & 69{[}14{]}    & Un­known    & Un­known  & \\$400,000{[}14{]}   & \\$1,090,179                 \\\\\n",
       "\t XVIII     & January 22, 1984  & CBS     & 77.62{[}14{]}              & 46.4{[}14{]}    & 71{[}14{]}    & Un­known    & Un­known  & \\$368,200{[}14{]}   & \\$961,508                   \\\\\n",
       "\t XIX       & January 20, 1985  & ABC     & 85.53{[}14{]}              & 46.4{[}14{]}    & 63{[}14{]}    & Un­known    & Un­known  & \\$525,000{[}14{]}   & \\$1,324,210                 \\\\\n",
       "\t XX        & January 26, 1986  & NBC     & 92.57{[}14{]}              & 48.3{[}14{]}    & 70{[}14{]}    & Un­known    & Un­known  & \\$550,000{[}14{]}   & \\$1,361,953                 \\\\\n",
       "\t XXI       & January 25, 1987  & CBS     & 87.19{[}14{]}              & 45.8{[}14{]}    & 66{[}14{]}    & Un­known    & Un­known  & \\$600,000{[}14{]}   & \\$1,433,198                 \\\\\n",
       "\t XXII      & January 31, 1988  & ABC     & 80.14{[}14{]}              & 41.9{[}14{]}    & 62{[}14{]}    & Un­known    & Un­known  & \\$645,000{[}14{]}   & \\$1,479,988                 \\\\\n",
       "\t XXIII     & January 22, 1989  & NBC     & 81.59{[}14{]}              & 43.5{[}14{]}    & 68{[}14{]}    & Un­known    & Un­known  & \\$675,000{[}14{]}   & \\$1,477,379                 \\\\\n",
       "\t XXIV      & January 28, 1990  & CBS     & 73.85{[}14{]}              & 39.0{[}14{]}    & 63{[}14{]}    & Un­known    & Un­known  & \\$700,400{[}14{]}   & \\$1,454,834                 \\\\\n",
       "\t XXV       & January 27, 1991  & ABC     & 79.51{[}14{]}              & 41.9{[}14{]}    & 63{[}14{]}    & Un­known    & Un­known  & \\$800,000{[}14{]}   & \\$1,594,477                 \\\\\n",
       "\t XXVI      & January 26, 1992  & CBS     & 79.59{[}14{]}              & 40.3{[}14{]}    & 61{[}14{]}    & 35.6{[}15{]}    & 61{[}15{]}    & \\$850,000{[}14{]}   & \\$1,644,145                 \\\\\n",
       "\t XXVII     & January 31, 1993  & NBC     & 90.99{[}14{]}              & 45.1{[}14{]}    & 66{[}14{]}    & Un­known    & Un­known  & \\$850,000{[}14{]}   & \\$1,596,692                 \\\\\n",
       "\t XXVIII    & January 30, 1994  & NBC     & 90.00{[}14{]}              & 45.5{[}14{]}    & 66{[}14{]}    & 39.9{[}16{]}    & 76{[}16{]}    & \\$900,000{[}14{]}   & \\$1,647,845                 \\\\\n",
       "\t XXIX      & January 29, 1995  & ABC     & 83.42{[}14{]}              & 41.3{[}14{]}    & 62{[}14{]}    & Un­known    & Un­known  & \\$1,150,000{[}14{]} & \\$2,048,235                 \\\\\n",
       "\t XXX       & January 28, 1996  & NBC     & 94.08{[}14{]}              & 46.0{[}14{]}    & 68{[}14{]}    & 41.2{[}17{]}    & Un­known  & \\$1,085,000{[}14{]} & \\$1,877,273                 \\\\\n",
       "\t XXXI      & January 26, 1997  & Fox     & 87.87{[}14{]}              & 43.3{[}14{]}    & 65{[}14{]}    & 38.5{[}18{]}    & 74{[}18{]}    & \\$1,200,000{[}14{]} & \\$2,028,780                 \\\\\n",
       "\t XXXII     & January 25, 1998  & NBC     & 90.00{[}14{]}              & 44.5{[}14{]}    & 67{[}14{]}    & 38.7{[}19{]}    & 75{[}19{]}    & \\$1,291,100{[}14{]} & \\$2,149,589                 \\\\\n",
       "\t XXXIII    & January 31, 1999  & Fox     & 83.72{[}14{]}              & 40.2{[}14{]}    & 61{[}14{]}    & 36.4{[}20{]}    & 71{[}20{]}    & \\$1,600,000{[}14{]} & \\$2,606,796                 \\\\\n",
       "\t XXXIV     & January 30, 2000  & ABC     & 88.47{[}14{]}              & 43.3{[}14{]}    & 63{[}14{]}    & 37.9{[}21{]}    & 70{[}21{]}    & \\$2,100,000{[}14{]} & \\$3,309,948                 \\\\\n",
       "\t XXXV      & January 28, 2001  & CBS     & 84.34{[}14{]}              & 40.4{[}14{]}    & 61{[}14{]}    & 35.8{[}22{]}    & 71{[}22{]}    & \\$2,200,000{[}14{]} & \\$3,371,429                 \\\\\n",
       "\t XXXVI     & February 3, 2002  & Fox     & 86.80{[}14{]}              & 40.4{[}14{]}    & 61{[}14{]}    & 34.7{[}23{]}    & 70{[}23{]}    & \\$2,200,000{[}14{]} & \\$3,319,509                 \\\\\n",
       "\t XXXVII    & January 26, 2003  & ABC     & 88.64{[}14{]}              & 40.7{[}14{]}    & 61{[}14{]}    & 36.4{[}24{]}    & 70{[}24{]}    & \\$2,200,000{[}14{]} & \\$3,245,000                 \\\\\n",
       "\t XXXVIII   & February 1, 2004  & CBS     & 89.80{[}14{]}              & 41.4{[}14{]}    & 63{[}14{]}    & 35.7{[}25{]}    & 72{[}25{]}    & \\$2,302,200{[}14{]} & \\$3,307,198                 \\\\\n",
       "\t XXXIX     & February 6, 2005  & Fox     & 86.07{[}14{]}              & 41.1{[}14{]}    & 62{[}14{]}    & 33.2{[}26{]}    & 68{[}26{]}    & \\$2,400,000{[}14{]} & \\$3,335,689                 \\\\\n",
       "\t XL        & February 5, 2006  & ABC     & 90.75{[}14{]}              & 41.6{[}14{]}    & 62{[}14{]}    & 34.6{[}26{]}    & 69{[}26{]}    & \\$2,500,000{[}14{]} & \\$3,366,410                 \\\\\n",
       "\t XLI       & February 4, 2007  & CBS     & 93.18{[}14{]}              & 42.6{[}14{]}    & 64{[}14{]}    & 35.2{[}27{]}    & 70{[}27{]}    & \\$2,385,365{[}14{]} & \\$3,122,350                 \\\\\n",
       "\t XLII      & February 3, 2008  & Fox     & 97.45{[}14{]}              & 43.1{[}14{]}    & 65{[}14{]}    & 37.5{[}28{]}    & 73{[}28{]}    & \\$2,699,963{[}14{]} & \\$3,361,885                 \\\\\n",
       "\t XLIII     & February 1, 2009  & NBC     & 98.73{[}14{]}              & 42.0{[}14{]}    & 64{[}14{]}    & 36.7{[}29{]}    & 72{[}29{]}    & \\$3,000,000{[}14{]} & \\$3,794,920                 \\\\\n",
       "\t XLIV      & February 7, 2010  & CBS     & 106.48{[}14{]}             & 45.0{[}14{]}    & 68{[}14{]}    & 38.6{[}30{]}    & 75{[}30{]}    & \\$2,800,000{[}14{]} & \\$3,484,273                 \\\\\n",
       "\t XLV       & February 6, 2011  & Fox     & 111.04{[}14{]}             & 46.0{[}14{]}    & 69{[}14{]}    & 39.9{[}31{]}    & 77{[}31{]}    & \\$2,948,649{[}14{]} & \\$3,558,307                 \\\\\n",
       "\t XLVI      & February 5, 2012  & NBC     & 111.35{[}14{]}             & 47.0{[}14{]}    & 71{[}14{]}    & 40.5{[}32{]}    & 78{[}32{]}    & \\$3,442,752{[}14{]} & \\$4,069,525                 \\\\\n",
       "\t XLVII     & February 3, 2013  & CBS     & 108.69{[}14{]}             & 46.4{[}14{]}    & 69{[}14{]}    & 39.7{[}33{]}    & 77{[}33{]}    & \\$3,765,130{[}14{]} & \\$4,385,649                 \\\\\n",
       "\t XLVIII    & February 2, 2014  & Fox     & 112.19{[}14{]}             & 46.7{[}14{]}    & 69{[}14{]}    & 39.3{[}34{]}    & 77{[}34{]}    & \\$4,084,864{[}14{]} & \\$4,683,701                 \\\\\n",
       "\t XLIX      & February 1, 2015  & NBC     & 114.44{[}14{]}             & 47.5{[}14{]}    & 71{[}14{]}    & 39.1{[}35{]}    & 79{[}35{]}    & \\$4,283,129{[}14{]} & \\$4,904,815                 \\\\\n",
       "\t 50        & February 7, 2016  & CBS     & 111.86{[}14{]}             & 46.6{[}14{]}    & 72{[}14{]}    & 37.7{[}36{]}    & 79{[}36{]}    & \\$4,800,000{[}14{]} & \\$5,428,000                 \\\\\n",
       "\t LI        & February 5, 2017  & Fox     & 111.32{[}14{]}             & 45.3{[}14{]}    & 70{[}14{]}    & 37.1{[}37{]}    & 79{[}37{]}    & \\$5,399,873{[}14{]} & \\$5,912,858                 \\\\\n",
       "\t LII       & February 4, 2018  & NBC     & 103.47{[}14{]}             & 43.1{[}14{]}    & 68{[}14{]}    & 33.4{[}38{]}    & 78{[}38{]}    & \\$5,235,379{[}14{]} & \\$5,658,629                 \\\\\n",
       "\t LIII      & February 3, 2019  & CBS     & 98.48{[}14{]}              & 41.1{[}14{]}    & 67{[}14{]}    & 31.0{[}39{]}    & 78{[}39{]}    & \\$5,199,916{[}14{]} & \\$5,519,191                 \\\\\n",
       "\t LIV       & February 2, 2020  & Fox     & 101.32{[}14{]}             & 41.6{[}14{]}    & 69{[}14{]}    & 30.1{[}40{]}    & 77{[}40{]}    & \\$5,400,000{[}14{]} & \\$5,662,906                 \\\\\n",
       "\t LV        & February 7, 2021  & CBS     & 95.2{[}41{]}{[}a{]}            & 38.2{[}14{]}{[}a{]} & 68{[}14{]}{[}a{]} & 26.5{[}42{]}{[}a{]} & 88{[}42{]}{[}a{]} & \\$5,500,000{[}43{]} & \\$5,500,000                 \\\\\n",
       "\t LVI       & February 13, 2022 & NBC     & 99.18{[}44{]}              & 36.9{[}45{]}    & 72{[}46{]}    & 29.5{[}44{]}    &           & \\$6,500,000{[}47{]} & \\$7,020,000                 \\\\\n",
       "\t LVII      & February 12, 2023 & Fox     & 112.17{[}48{]}             & 40.0{[}48{]}    &           & 33.8{[}49{]}    &           & \\$7,000,000     &                            \\\\\n",
       "\\end{tabular}\n"
      ],
      "text/markdown": [
       "\n",
       "A tibble: 59 × 10\n",
       "\n",
       "| SuperBowl &lt;chr&gt; | Date &lt;chr&gt; | Network &lt;chr&gt; | Avg. viewers(millions) &lt;chr&gt; | Households &lt;chr&gt; | Households &lt;chr&gt; | 18–49 demographic &lt;chr&gt; | 18–49 demographic &lt;chr&gt; | Avg. cost of 30-second ad &lt;chr&gt; | Avg. cost of 30-second ad &lt;chr&gt; |\n",
       "|---|---|---|---|---|---|---|---|---|---|\n",
       "| SuperBowl | Date              | Network | Avg. viewers(millions) | Rating      | Share     | Rating      | Share     | Original       | 2021 inflation-adjusted[13] |\n",
       "| I         | January 15, 1967  | CBS     | 26.75[14]              | 22.6[14]    | 43[14]    | Un­known    | Un­known  | $42,500[14]    | $345,551                    |\n",
       "| I         | January 15, 1967  | NBC     | 24.43[14]              | 18.5[14]    | 36[14]    | Un­known    | Un­known  | $37,500[14]    | $304,898                    |\n",
       "| II        | January 14, 1968  | CBS     | 39.12[14]              | 36.8[14]    | 68[14]    | Un­known    | Un­known  | $54,500[14]    | $425,160                    |\n",
       "| III       | January 12, 1969  | NBC     | 41.66[14]              | 36.0[14]    | 70[14]    | Un­known    | Un­known  | $55,000[14]    | $406,952                    |\n",
       "| IV        | January 11, 1970  | CBS     | 44.27[14]              | 39.4[14]    | 69[14]    | Un­known    | Un­known  | $78,200[14]    | $546,434                    |\n",
       "| V         | January 17, 1971  | NBC     | 46.04[14]              | 39.9[14]    | 75[14]    | Un­known    | Un­known  | $72,500[14]    | $486,080                    |\n",
       "| VI        | January 16, 1972  | CBS     | 56.64[14]              | 44.2[14]    | 74[14]    | Un­known    | Un­known  | $86,100[14]    | $558,898                    |\n",
       "| VII       | January 14, 1973  | NBC     | 53.32[14]              | 42.7[14]    | 72[14]    | Un­known    | Un­known  | $88,100[14]    | $538,158                    |\n",
       "| VIII      | January 13, 1974  | CBS     | 51.70[14]              | 41.6[14]    | 73[14]    | Un­known    | Un­known  | $103,500[14]   | $569,544                    |\n",
       "| IX        | January 12, 1975  | NBC     | 56.05[14]              | 42.4[14]    | 72[14]    | Un­known    | Un­known  | $107,000[14]   | $539,472                    |\n",
       "| X         | January 18, 1976  | CBS     | 57.71[14]              | 42.3[14]    | 78[14]    | Un­known    | Un­known  | $110,000[14]   | $524,398                    |\n",
       "| XI        | January 9, 1977   | NBC     | 62.05[14]              | 44.4[14]    | 73[14]    | Un­known    | Un­known  | $125,000[14]   | $559,634                    |\n",
       "| XII       | January 15, 1978  | CBS     | 78.94[14]              | 47.2[14]    | 67[14]    | Un­known    | Un­known  | $162,300[14]   | $675,172                    |\n",
       "| XIII      | January 21, 1979  | NBC     | 74.74[14]              | 47.1[14]    | 74[14]    | Un­known    | Un­known  | $185,000[14]   | $691,775                    |\n",
       "| XIV       | January 20, 1980  | CBS     | 76.24[14]              | 46.3[14]    | 67[14]    | Un­known    | Un­known  | $222,000[14]   | $724,788                    |\n",
       "| XV        | January 25, 1981  | NBC     | 68.29[14]              | 44.4[14]    | 63[14]    | Un­known    | Un­known  | $275,000[14]   | $820,796                    |\n",
       "| XVI       | January 24, 1982  | CBS     | 85.24[14]              | 49.1[14]    | 73[14]    | Un­known    | Un­known  | $324,300[14]   | $911,789                    |\n",
       "| XVII      | January 30, 1983  | NBC     | 81.77[14]              | 48.6[14]    | 69[14]    | Un­known    | Un­known  | $400,000[14]   | $1,090,179                  |\n",
       "| XVIII     | January 22, 1984  | CBS     | 77.62[14]              | 46.4[14]    | 71[14]    | Un­known    | Un­known  | $368,200[14]   | $961,508                    |\n",
       "| XIX       | January 20, 1985  | ABC     | 85.53[14]              | 46.4[14]    | 63[14]    | Un­known    | Un­known  | $525,000[14]   | $1,324,210                  |\n",
       "| XX        | January 26, 1986  | NBC     | 92.57[14]              | 48.3[14]    | 70[14]    | Un­known    | Un­known  | $550,000[14]   | $1,361,953                  |\n",
       "| XXI       | January 25, 1987  | CBS     | 87.19[14]              | 45.8[14]    | 66[14]    | Un­known    | Un­known  | $600,000[14]   | $1,433,198                  |\n",
       "| XXII      | January 31, 1988  | ABC     | 80.14[14]              | 41.9[14]    | 62[14]    | Un­known    | Un­known  | $645,000[14]   | $1,479,988                  |\n",
       "| XXIII     | January 22, 1989  | NBC     | 81.59[14]              | 43.5[14]    | 68[14]    | Un­known    | Un­known  | $675,000[14]   | $1,477,379                  |\n",
       "| XXIV      | January 28, 1990  | CBS     | 73.85[14]              | 39.0[14]    | 63[14]    | Un­known    | Un­known  | $700,400[14]   | $1,454,834                  |\n",
       "| XXV       | January 27, 1991  | ABC     | 79.51[14]              | 41.9[14]    | 63[14]    | Un­known    | Un­known  | $800,000[14]   | $1,594,477                  |\n",
       "| XXVI      | January 26, 1992  | CBS     | 79.59[14]              | 40.3[14]    | 61[14]    | 35.6[15]    | 61[15]    | $850,000[14]   | $1,644,145                  |\n",
       "| XXVII     | January 31, 1993  | NBC     | 90.99[14]              | 45.1[14]    | 66[14]    | Un­known    | Un­known  | $850,000[14]   | $1,596,692                  |\n",
       "| XXVIII    | January 30, 1994  | NBC     | 90.00[14]              | 45.5[14]    | 66[14]    | 39.9[16]    | 76[16]    | $900,000[14]   | $1,647,845                  |\n",
       "| XXIX      | January 29, 1995  | ABC     | 83.42[14]              | 41.3[14]    | 62[14]    | Un­known    | Un­known  | $1,150,000[14] | $2,048,235                  |\n",
       "| XXX       | January 28, 1996  | NBC     | 94.08[14]              | 46.0[14]    | 68[14]    | 41.2[17]    | Un­known  | $1,085,000[14] | $1,877,273                  |\n",
       "| XXXI      | January 26, 1997  | Fox     | 87.87[14]              | 43.3[14]    | 65[14]    | 38.5[18]    | 74[18]    | $1,200,000[14] | $2,028,780                  |\n",
       "| XXXII     | January 25, 1998  | NBC     | 90.00[14]              | 44.5[14]    | 67[14]    | 38.7[19]    | 75[19]    | $1,291,100[14] | $2,149,589                  |\n",
       "| XXXIII    | January 31, 1999  | Fox     | 83.72[14]              | 40.2[14]    | 61[14]    | 36.4[20]    | 71[20]    | $1,600,000[14] | $2,606,796                  |\n",
       "| XXXIV     | January 30, 2000  | ABC     | 88.47[14]              | 43.3[14]    | 63[14]    | 37.9[21]    | 70[21]    | $2,100,000[14] | $3,309,948                  |\n",
       "| XXXV      | January 28, 2001  | CBS     | 84.34[14]              | 40.4[14]    | 61[14]    | 35.8[22]    | 71[22]    | $2,200,000[14] | $3,371,429                  |\n",
       "| XXXVI     | February 3, 2002  | Fox     | 86.80[14]              | 40.4[14]    | 61[14]    | 34.7[23]    | 70[23]    | $2,200,000[14] | $3,319,509                  |\n",
       "| XXXVII    | January 26, 2003  | ABC     | 88.64[14]              | 40.7[14]    | 61[14]    | 36.4[24]    | 70[24]    | $2,200,000[14] | $3,245,000                  |\n",
       "| XXXVIII   | February 1, 2004  | CBS     | 89.80[14]              | 41.4[14]    | 63[14]    | 35.7[25]    | 72[25]    | $2,302,200[14] | $3,307,198                  |\n",
       "| XXXIX     | February 6, 2005  | Fox     | 86.07[14]              | 41.1[14]    | 62[14]    | 33.2[26]    | 68[26]    | $2,400,000[14] | $3,335,689                  |\n",
       "| XL        | February 5, 2006  | ABC     | 90.75[14]              | 41.6[14]    | 62[14]    | 34.6[26]    | 69[26]    | $2,500,000[14] | $3,366,410                  |\n",
       "| XLI       | February 4, 2007  | CBS     | 93.18[14]              | 42.6[14]    | 64[14]    | 35.2[27]    | 70[27]    | $2,385,365[14] | $3,122,350                  |\n",
       "| XLII      | February 3, 2008  | Fox     | 97.45[14]              | 43.1[14]    | 65[14]    | 37.5[28]    | 73[28]    | $2,699,963[14] | $3,361,885                  |\n",
       "| XLIII     | February 1, 2009  | NBC     | 98.73[14]              | 42.0[14]    | 64[14]    | 36.7[29]    | 72[29]    | $3,000,000[14] | $3,794,920                  |\n",
       "| XLIV      | February 7, 2010  | CBS     | 106.48[14]             | 45.0[14]    | 68[14]    | 38.6[30]    | 75[30]    | $2,800,000[14] | $3,484,273                  |\n",
       "| XLV       | February 6, 2011  | Fox     | 111.04[14]             | 46.0[14]    | 69[14]    | 39.9[31]    | 77[31]    | $2,948,649[14] | $3,558,307                  |\n",
       "| XLVI      | February 5, 2012  | NBC     | 111.35[14]             | 47.0[14]    | 71[14]    | 40.5[32]    | 78[32]    | $3,442,752[14] | $4,069,525                  |\n",
       "| XLVII     | February 3, 2013  | CBS     | 108.69[14]             | 46.4[14]    | 69[14]    | 39.7[33]    | 77[33]    | $3,765,130[14] | $4,385,649                  |\n",
       "| XLVIII    | February 2, 2014  | Fox     | 112.19[14]             | 46.7[14]    | 69[14]    | 39.3[34]    | 77[34]    | $4,084,864[14] | $4,683,701                  |\n",
       "| XLIX      | February 1, 2015  | NBC     | 114.44[14]             | 47.5[14]    | 71[14]    | 39.1[35]    | 79[35]    | $4,283,129[14] | $4,904,815                  |\n",
       "| 50        | February 7, 2016  | CBS     | 111.86[14]             | 46.6[14]    | 72[14]    | 37.7[36]    | 79[36]    | $4,800,000[14] | $5,428,000                  |\n",
       "| LI        | February 5, 2017  | Fox     | 111.32[14]             | 45.3[14]    | 70[14]    | 37.1[37]    | 79[37]    | $5,399,873[14] | $5,912,858                  |\n",
       "| LII       | February 4, 2018  | NBC     | 103.47[14]             | 43.1[14]    | 68[14]    | 33.4[38]    | 78[38]    | $5,235,379[14] | $5,658,629                  |\n",
       "| LIII      | February 3, 2019  | CBS     | 98.48[14]              | 41.1[14]    | 67[14]    | 31.0[39]    | 78[39]    | $5,199,916[14] | $5,519,191                  |\n",
       "| LIV       | February 2, 2020  | Fox     | 101.32[14]             | 41.6[14]    | 69[14]    | 30.1[40]    | 77[40]    | $5,400,000[14] | $5,662,906                  |\n",
       "| LV        | February 7, 2021  | CBS     | 95.2[41][a]            | 38.2[14][a] | 68[14][a] | 26.5[42][a] | 88[42][a] | $5,500,000[43] | $5,500,000                  |\n",
       "| LVI       | February 13, 2022 | NBC     | 99.18[44]              | 36.9[45]    | 72[46]    | 29.5[44]    | <!----> | $6,500,000[47] | $7,020,000                  |\n",
       "| LVII      | February 12, 2023 | Fox     | 112.17[48]             | 40.0[48]    | <!----> | 33.8[49]    | <!----> | $7,000,000     | <!----> |\n",
       "\n"
      ],
      "text/plain": [
       "   SuperBowl Date              Network Avg. viewers(millions) Households \n",
       "1  SuperBowl Date              Network Avg. viewers(millions) Rating     \n",
       "2  I         January 15, 1967  CBS     26.75[14]              22.6[14]   \n",
       "3  I         January 15, 1967  NBC     24.43[14]              18.5[14]   \n",
       "4  II        January 14, 1968  CBS     39.12[14]              36.8[14]   \n",
       "5  III       January 12, 1969  NBC     41.66[14]              36.0[14]   \n",
       "6  IV        January 11, 1970  CBS     44.27[14]              39.4[14]   \n",
       "7  V         January 17, 1971  NBC     46.04[14]              39.9[14]   \n",
       "8  VI        January 16, 1972  CBS     56.64[14]              44.2[14]   \n",
       "9  VII       January 14, 1973  NBC     53.32[14]              42.7[14]   \n",
       "10 VIII      January 13, 1974  CBS     51.70[14]              41.6[14]   \n",
       "11 IX        January 12, 1975  NBC     56.05[14]              42.4[14]   \n",
       "12 X         January 18, 1976  CBS     57.71[14]              42.3[14]   \n",
       "13 XI        January 9, 1977   NBC     62.05[14]              44.4[14]   \n",
       "14 XII       January 15, 1978  CBS     78.94[14]              47.2[14]   \n",
       "15 XIII      January 21, 1979  NBC     74.74[14]              47.1[14]   \n",
       "16 XIV       January 20, 1980  CBS     76.24[14]              46.3[14]   \n",
       "17 XV        January 25, 1981  NBC     68.29[14]              44.4[14]   \n",
       "18 XVI       January 24, 1982  CBS     85.24[14]              49.1[14]   \n",
       "19 XVII      January 30, 1983  NBC     81.77[14]              48.6[14]   \n",
       "20 XVIII     January 22, 1984  CBS     77.62[14]              46.4[14]   \n",
       "21 XIX       January 20, 1985  ABC     85.53[14]              46.4[14]   \n",
       "22 XX        January 26, 1986  NBC     92.57[14]              48.3[14]   \n",
       "23 XXI       January 25, 1987  CBS     87.19[14]              45.8[14]   \n",
       "24 XXII      January 31, 1988  ABC     80.14[14]              41.9[14]   \n",
       "25 XXIII     January 22, 1989  NBC     81.59[14]              43.5[14]   \n",
       "26 XXIV      January 28, 1990  CBS     73.85[14]              39.0[14]   \n",
       "27 XXV       January 27, 1991  ABC     79.51[14]              41.9[14]   \n",
       "28 XXVI      January 26, 1992  CBS     79.59[14]              40.3[14]   \n",
       "29 XXVII     January 31, 1993  NBC     90.99[14]              45.1[14]   \n",
       "30 XXVIII    January 30, 1994  NBC     90.00[14]              45.5[14]   \n",
       "31 XXIX      January 29, 1995  ABC     83.42[14]              41.3[14]   \n",
       "32 XXX       January 28, 1996  NBC     94.08[14]              46.0[14]   \n",
       "33 XXXI      January 26, 1997  Fox     87.87[14]              43.3[14]   \n",
       "34 XXXII     January 25, 1998  NBC     90.00[14]              44.5[14]   \n",
       "35 XXXIII    January 31, 1999  Fox     83.72[14]              40.2[14]   \n",
       "36 XXXIV     January 30, 2000  ABC     88.47[14]              43.3[14]   \n",
       "37 XXXV      January 28, 2001  CBS     84.34[14]              40.4[14]   \n",
       "38 XXXVI     February 3, 2002  Fox     86.80[14]              40.4[14]   \n",
       "39 XXXVII    January 26, 2003  ABC     88.64[14]              40.7[14]   \n",
       "40 XXXVIII   February 1, 2004  CBS     89.80[14]              41.4[14]   \n",
       "41 XXXIX     February 6, 2005  Fox     86.07[14]              41.1[14]   \n",
       "42 XL        February 5, 2006  ABC     90.75[14]              41.6[14]   \n",
       "43 XLI       February 4, 2007  CBS     93.18[14]              42.6[14]   \n",
       "44 XLII      February 3, 2008  Fox     97.45[14]              43.1[14]   \n",
       "45 XLIII     February 1, 2009  NBC     98.73[14]              42.0[14]   \n",
       "46 XLIV      February 7, 2010  CBS     106.48[14]             45.0[14]   \n",
       "47 XLV       February 6, 2011  Fox     111.04[14]             46.0[14]   \n",
       "48 XLVI      February 5, 2012  NBC     111.35[14]             47.0[14]   \n",
       "49 XLVII     February 3, 2013  CBS     108.69[14]             46.4[14]   \n",
       "50 XLVIII    February 2, 2014  Fox     112.19[14]             46.7[14]   \n",
       "51 XLIX      February 1, 2015  NBC     114.44[14]             47.5[14]   \n",
       "52 50        February 7, 2016  CBS     111.86[14]             46.6[14]   \n",
       "53 LI        February 5, 2017  Fox     111.32[14]             45.3[14]   \n",
       "54 LII       February 4, 2018  NBC     103.47[14]             43.1[14]   \n",
       "55 LIII      February 3, 2019  CBS     98.48[14]              41.1[14]   \n",
       "56 LIV       February 2, 2020  Fox     101.32[14]             41.6[14]   \n",
       "57 LV        February 7, 2021  CBS     95.2[41][a]            38.2[14][a]\n",
       "58 LVI       February 13, 2022 NBC     99.18[44]              36.9[45]   \n",
       "59 LVII      February 12, 2023 Fox     112.17[48]             40.0[48]   \n",
       "   Households 18–49 demographic 18–49 demographic Avg. cost of 30-second ad\n",
       "1  Share      Rating            Share             Original                 \n",
       "2  43[14]     Un­known          Un­known          $42,500[14]              \n",
       "3  36[14]     Un­known          Un­known          $37,500[14]              \n",
       "4  68[14]     Un­known          Un­known          $54,500[14]              \n",
       "5  70[14]     Un­known          Un­known          $55,000[14]              \n",
       "6  69[14]     Un­known          Un­known          $78,200[14]              \n",
       "7  75[14]     Un­known          Un­known          $72,500[14]              \n",
       "8  74[14]     Un­known          Un­known          $86,100[14]              \n",
       "9  72[14]     Un­known          Un­known          $88,100[14]              \n",
       "10 73[14]     Un­known          Un­known          $103,500[14]             \n",
       "11 72[14]     Un­known          Un­known          $107,000[14]             \n",
       "12 78[14]     Un­known          Un­known          $110,000[14]             \n",
       "13 73[14]     Un­known          Un­known          $125,000[14]             \n",
       "14 67[14]     Un­known          Un­known          $162,300[14]             \n",
       "15 74[14]     Un­known          Un­known          $185,000[14]             \n",
       "16 67[14]     Un­known          Un­known          $222,000[14]             \n",
       "17 63[14]     Un­known          Un­known          $275,000[14]             \n",
       "18 73[14]     Un­known          Un­known          $324,300[14]             \n",
       "19 69[14]     Un­known          Un­known          $400,000[14]             \n",
       "20 71[14]     Un­known          Un­known          $368,200[14]             \n",
       "21 63[14]     Un­known          Un­known          $525,000[14]             \n",
       "22 70[14]     Un­known          Un­known          $550,000[14]             \n",
       "23 66[14]     Un­known          Un­known          $600,000[14]             \n",
       "24 62[14]     Un­known          Un­known          $645,000[14]             \n",
       "25 68[14]     Un­known          Un­known          $675,000[14]             \n",
       "26 63[14]     Un­known          Un­known          $700,400[14]             \n",
       "27 63[14]     Un­known          Un­known          $800,000[14]             \n",
       "28 61[14]     35.6[15]          61[15]            $850,000[14]             \n",
       "29 66[14]     Un­known          Un­known          $850,000[14]             \n",
       "30 66[14]     39.9[16]          76[16]            $900,000[14]             \n",
       "31 62[14]     Un­known          Un­known          $1,150,000[14]           \n",
       "32 68[14]     41.2[17]          Un­known          $1,085,000[14]           \n",
       "33 65[14]     38.5[18]          74[18]            $1,200,000[14]           \n",
       "34 67[14]     38.7[19]          75[19]            $1,291,100[14]           \n",
       "35 61[14]     36.4[20]          71[20]            $1,600,000[14]           \n",
       "36 63[14]     37.9[21]          70[21]            $2,100,000[14]           \n",
       "37 61[14]     35.8[22]          71[22]            $2,200,000[14]           \n",
       "38 61[14]     34.7[23]          70[23]            $2,200,000[14]           \n",
       "39 61[14]     36.4[24]          70[24]            $2,200,000[14]           \n",
       "40 63[14]     35.7[25]          72[25]            $2,302,200[14]           \n",
       "41 62[14]     33.2[26]          68[26]            $2,400,000[14]           \n",
       "42 62[14]     34.6[26]          69[26]            $2,500,000[14]           \n",
       "43 64[14]     35.2[27]          70[27]            $2,385,365[14]           \n",
       "44 65[14]     37.5[28]          73[28]            $2,699,963[14]           \n",
       "45 64[14]     36.7[29]          72[29]            $3,000,000[14]           \n",
       "46 68[14]     38.6[30]          75[30]            $2,800,000[14]           \n",
       "47 69[14]     39.9[31]          77[31]            $2,948,649[14]           \n",
       "48 71[14]     40.5[32]          78[32]            $3,442,752[14]           \n",
       "49 69[14]     39.7[33]          77[33]            $3,765,130[14]           \n",
       "50 69[14]     39.3[34]          77[34]            $4,084,864[14]           \n",
       "51 71[14]     39.1[35]          79[35]            $4,283,129[14]           \n",
       "52 72[14]     37.7[36]          79[36]            $4,800,000[14]           \n",
       "53 70[14]     37.1[37]          79[37]            $5,399,873[14]           \n",
       "54 68[14]     33.4[38]          78[38]            $5,235,379[14]           \n",
       "55 67[14]     31.0[39]          78[39]            $5,199,916[14]           \n",
       "56 69[14]     30.1[40]          77[40]            $5,400,000[14]           \n",
       "57 68[14][a]  26.5[42][a]       88[42][a]         $5,500,000[43]           \n",
       "58 72[46]     29.5[44]                            $6,500,000[47]           \n",
       "59            33.8[49]                            $7,000,000               \n",
       "   Avg. cost of 30-second ad  \n",
       "1  2021 inflation-adjusted[13]\n",
       "2  $345,551                   \n",
       "3  $304,898                   \n",
       "4  $425,160                   \n",
       "5  $406,952                   \n",
       "6  $546,434                   \n",
       "7  $486,080                   \n",
       "8  $558,898                   \n",
       "9  $538,158                   \n",
       "10 $569,544                   \n",
       "11 $539,472                   \n",
       "12 $524,398                   \n",
       "13 $559,634                   \n",
       "14 $675,172                   \n",
       "15 $691,775                   \n",
       "16 $724,788                   \n",
       "17 $820,796                   \n",
       "18 $911,789                   \n",
       "19 $1,090,179                 \n",
       "20 $961,508                   \n",
       "21 $1,324,210                 \n",
       "22 $1,361,953                 \n",
       "23 $1,433,198                 \n",
       "24 $1,479,988                 \n",
       "25 $1,477,379                 \n",
       "26 $1,454,834                 \n",
       "27 $1,594,477                 \n",
       "28 $1,644,145                 \n",
       "29 $1,596,692                 \n",
       "30 $1,647,845                 \n",
       "31 $2,048,235                 \n",
       "32 $1,877,273                 \n",
       "33 $2,028,780                 \n",
       "34 $2,149,589                 \n",
       "35 $2,606,796                 \n",
       "36 $3,309,948                 \n",
       "37 $3,371,429                 \n",
       "38 $3,319,509                 \n",
       "39 $3,245,000                 \n",
       "40 $3,307,198                 \n",
       "41 $3,335,689                 \n",
       "42 $3,366,410                 \n",
       "43 $3,122,350                 \n",
       "44 $3,361,885                 \n",
       "45 $3,794,920                 \n",
       "46 $3,484,273                 \n",
       "47 $3,558,307                 \n",
       "48 $4,069,525                 \n",
       "49 $4,385,649                 \n",
       "50 $4,683,701                 \n",
       "51 $4,904,815                 \n",
       "52 $5,428,000                 \n",
       "53 $5,912,858                 \n",
       "54 $5,658,629                 \n",
       "55 $5,519,191                 \n",
       "56 $5,662,906                 \n",
       "57 $5,500,000                 \n",
       "58 $7,020,000                 \n",
       "59                            "
      ]
     },
     "metadata": {},
     "output_type": "display_data"
    }
   ],
   "source": [
    "# viewers over time\n",
    "sbtv"
   ]
  },
  {
   "cell_type": "markdown",
   "metadata": {
    "id": "72G_9s03cIIo"
   },
   "source": [
    "How does this compare with other major sports?\n",
    "\n",
    "- https://en.wikipedia.org/wiki/World_Series_television_ratings\n",
    "- https://en.wikipedia.org/wiki/NBA_Finals_television_ratings"
   ]
  },
  {
   "cell_type": "code",
   "execution_count": null,
   "metadata": {
    "id": "NzwMai6JcIIo"
   },
   "outputs": [],
   "source": [
    "# super bowl vs world series"
   ]
  }
 ],
 "metadata": {
  "celltoolbar": "Slideshow",
  "colab": {
   "provenance": []
  },
  "kernelspec": {
   "display_name": "R",
   "language": "R",
   "name": "ir"
  },
  "language_info": {
   "codemirror_mode": "r",
   "file_extension": ".r",
   "mimetype": "text/x-r-source",
   "name": "R",
   "pygments_lexer": "r",
   "version": "4.3.1"
  }
 },
 "nbformat": 4,
 "nbformat_minor": 4
}
