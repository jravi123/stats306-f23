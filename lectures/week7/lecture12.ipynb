{
 "cells": [
  {
   "cell_type": "code",
   "execution_count": 24,
   "metadata": {
    "id": "WyHhUZWKmgzJ",
    "scrolled": true
   },
   "outputs": [],
   "source": [
    "library(tidyverse)\n",
    "library(lubridate)\n",
    "options(repr.plot.width=8, repr.plot.height=5)"
   ]
  },
  {
   "cell_type": "markdown",
   "metadata": {
    "id": "dh8HN3BamgzP"
   },
   "source": [
    "# Lecture 12: Importing data\n",
    "\n",
    "<div style=\"border: 1px double black; padding: 10px; margin: 10px\">\n",
    "\n",
    "**After today's lecture you will:**\n",
    "* Understand how to import data from CSV files and Excel spreadsheets.\n",
    "</div>\n",
    "\n",
    "These notes correspond to Chapters 8 and 22 of your book.\n"
   ]
  },
  {
   "cell_type": "markdown",
   "metadata": {
    "id": "FyknhsmUmgzR"
   },
   "source": [
    "## Types of data\n",
    "You will encounter data in many different formats. Here are a few of the most common ones:"
   ]
  },
  {
   "cell_type": "markdown",
   "metadata": {
    "id": "C-s7HOiQmgzS"
   },
   "source": [
    "### Comma-separated value data\n",
    "Comma-separated value (CSV) is one of the most common formats for sharing data. It has the advantage of being human-readable. The disadvantage is that there is no actual standard for reading or writing these files!"
   ]
  },
  {
   "cell_type": "markdown",
   "metadata": {
    "id": "tH_d43tkmgzS"
   },
   "source": [
    "Here's an example of CSV data on heights, education, and earnings:\n",
    "    \n",
    "    \"earn\",\"height\",\"sex\",\"ed\",\"age\",\"race\"\n",
    "    50000,74.4244387818035,\"male\",16,45,\"white\"\n",
    "    60000,65.5375428255647,\"female\",16,58,\"white\"\n",
    "    30000,63.6291977374349,\"female\",16,29,\"white\"\n",
    "    50000,63.1085616752971,\"female\",16,91,\"other\"\n",
    "    51000,63.4024835710879,\"female\",17,39,\"white\"\n",
    "    9000,64.3995075440034,\"female\",15,26,\"white\"\n",
    "    \n",
    "The first row (usually) has a *header* giving the column names. Subsequent rows give the actual data. Strings are (usually) quoted."
   ]
  },
  {
   "cell_type": "markdown",
   "metadata": {
    "id": "PYhjVxy5mgzT"
   },
   "source": [
    "You might also see these data come in the format:\n",
    "    \n",
    "    earn,height,sex,ed,age,race\n",
    "    50000,74.4244387818035,male,16,45,white\n",
    "    60000,65.5375428255647,female,16,58,white\n",
    "    30000,63.6291977374349,female,16,29,white\n",
    "    50000,63.1085616752971,female,16,91,other\n",
    "    51000,63.4024835710879,female,17,39,white\n",
    "    9000,64.3995075440034,female,15,26,white\n",
    "    \n",
    "No quotes!"
   ]
  },
  {
   "cell_type": "markdown",
   "metadata": {
    "id": "KP_xY1Z3mgzU"
   },
   "source": [
    "Or even:\n",
    "\n",
    "    50000,74.4244387818035,male,16,45,white\n",
    "    60000,65.5375428255647,female,16,58,white\n",
    "    30000,63.6291977374349,female,16,29,white\n",
    "    50000,63.1085616752971,female,16,91,other\n",
    "    51000,63.4024835710879,female,17,39,white\n",
    "    9000,64.3995075440034,female,15,26,white\n",
    "    \n",
    "No column names!"
   ]
  },
  {
   "cell_type": "markdown",
   "metadata": {
    "id": "jKVndJEWmgzV"
   },
   "source": [
    "The `read_csv` command is designed to read this type of file. Note that this command is part of `tidyverse` and is different from `read.csv` in R! You generally want to use `read_csv` over `read.csv` since:\n",
    "- It is much faster.\n",
    "- It outputs nicely formatted `tibble`s which you can pass into other tidyverse functions."
   ]
  },
  {
   "cell_type": "code",
   "execution_count": null,
   "metadata": {
    "colab": {
     "base_uri": "https://localhost:8080/"
    },
    "id": "TqbyNqhcmgzZ",
    "outputId": "47c3c11a-6e5f-4df2-9707-7bb8727b8262"
   },
   "outputs": [
    {
     "name": "stderr",
     "output_type": "stream",
     "text": [
      "\u001b[1mRows: \u001b[22m\u001b[34m1192\u001b[39m \u001b[1mColumns: \u001b[22m\u001b[34m6\u001b[39m\n",
      "\u001b[36m──\u001b[39m \u001b[1mColumn specification\u001b[22m \u001b[36m────────────────────────────────────────────────────────\u001b[39m\n",
      "\u001b[1mDelimiter:\u001b[22m \",\"\n",
      "\u001b[31mchr\u001b[39m (2): sex, race\n",
      "\u001b[32mdbl\u001b[39m (4): earn, height, ed, age\n",
      "\n",
      "\u001b[36mℹ\u001b[39m Use `spec()` to retrieve the full column specification for this data.\n",
      "\u001b[36mℹ\u001b[39m Specify the column types or set `show_col_types = FALSE` to quiet this message.\n"
     ]
    },
    {
     "name": "stdout",
     "output_type": "stream",
     "text": [
      "\u001b[90m# A tibble: 1,192 × 6\u001b[39m\n",
      "    earn height sex       ed   age race    \n",
      "   \u001b[3m\u001b[90m<dbl>\u001b[39m\u001b[23m  \u001b[3m\u001b[90m<dbl>\u001b[39m\u001b[23m \u001b[3m\u001b[90m<chr>\u001b[39m\u001b[23m  \u001b[3m\u001b[90m<dbl>\u001b[39m\u001b[23m \u001b[3m\u001b[90m<dbl>\u001b[39m\u001b[23m \u001b[3m\u001b[90m<chr>\u001b[39m\u001b[23m   \n",
      "\u001b[90m 1\u001b[39m \u001b[4m5\u001b[24m\u001b[4m0\u001b[24m000   74.4 male      16    45 white   \n",
      "\u001b[90m 2\u001b[39m \u001b[4m6\u001b[24m\u001b[4m0\u001b[24m000   65.5 female    16    58 white   \n",
      "\u001b[90m 3\u001b[39m \u001b[4m3\u001b[24m\u001b[4m0\u001b[24m000   63.6 female    16    29 white   \n",
      "\u001b[90m 4\u001b[39m \u001b[4m5\u001b[24m\u001b[4m0\u001b[24m000   63.1 female    16    91 other   \n",
      "\u001b[90m 5\u001b[39m \u001b[4m5\u001b[24m\u001b[4m1\u001b[24m000   63.4 female    17    39 white   \n",
      "\u001b[90m 6\u001b[39m  \u001b[4m9\u001b[24m000   64.4 female    15    26 white   \n",
      "\u001b[90m 7\u001b[39m \u001b[4m2\u001b[24m\u001b[4m9\u001b[24m000   61.7 female    12    49 white   \n",
      "\u001b[90m 8\u001b[39m \u001b[4m3\u001b[24m\u001b[4m2\u001b[24m000   72.7 male      17    46 white   \n",
      "\u001b[90m 9\u001b[39m  \u001b[4m2\u001b[24m000   72.0 male      15    21 hispanic\n",
      "\u001b[90m10\u001b[39m \u001b[4m2\u001b[24m\u001b[4m7\u001b[24m000   72.2 male      12    26 white   \n",
      "\u001b[90m# … with 1,182 more rows\u001b[39m\n"
     ]
    }
   ],
   "source": [
    "heights <- read_csv(\"https://raw.githubusercontent.com/jravi123/stats306-w23/main/lectures/week7/heights.csv\") %>% print"
   ]
  },
  {
   "cell_type": "markdown",
   "metadata": {
    "id": "TPoCa7UDmgza"
   },
   "source": [
    "Here `read_csv` has told us what columns it found, and also what the data types it found for them are. Generally these will be correct but we will see examples later where it guesses wrongly and we have to manually override them."
   ]
  },
  {
   "cell_type": "markdown",
   "metadata": {
    "id": "RWQKoFr2mgza"
   },
   "source": [
    "Here is another version of `heights`, where we are not lucky enough to have a header telling us which columns came from where:"
   ]
  },
  {
   "cell_type": "code",
   "execution_count": null,
   "metadata": {
    "colab": {
     "base_uri": "https://localhost:8080/"
    },
    "id": "Y9gldD5Jmgzb",
    "outputId": "1b4ad569-cb04-4df8-9fdc-0285acbd6e6b"
   },
   "outputs": [
    {
     "name": "stderr",
     "output_type": "stream",
     "text": [
      "\u001b[1mRows: \u001b[22m\u001b[34m1191\u001b[39m \u001b[1mColumns: \u001b[22m\u001b[34m6\u001b[39m\n",
      "\u001b[36m──\u001b[39m \u001b[1mColumn specification\u001b[22m \u001b[36m────────────────────────────────────────────────────────\u001b[39m\n",
      "\u001b[1mDelimiter:\u001b[22m \",\"\n",
      "\u001b[31mchr\u001b[39m (2): male, white\n",
      "\u001b[32mdbl\u001b[39m (4): 50000, 74.4244387818035, 16, 45\n",
      "\n",
      "\u001b[36mℹ\u001b[39m Use `spec()` to retrieve the full column specification for this data.\n",
      "\u001b[36mℹ\u001b[39m Specify the column types or set `show_col_types = FALSE` to quiet this message.\n"
     ]
    },
    {
     "name": "stdout",
     "output_type": "stream",
     "text": [
      "\u001b[90m# A tibble: 1,191 × 6\u001b[39m\n",
      "   `50000` `74.4244387818035` male    `16`  `45` white   \n",
      "     \u001b[3m\u001b[90m<dbl>\u001b[39m\u001b[23m              \u001b[3m\u001b[90m<dbl>\u001b[39m\u001b[23m \u001b[3m\u001b[90m<chr>\u001b[39m\u001b[23m  \u001b[3m\u001b[90m<dbl>\u001b[39m\u001b[23m \u001b[3m\u001b[90m<dbl>\u001b[39m\u001b[23m \u001b[3m\u001b[90m<chr>\u001b[39m\u001b[23m   \n",
      "\u001b[90m 1\u001b[39m   \u001b[4m6\u001b[24m\u001b[4m0\u001b[24m000               65.5 female    16    58 white   \n",
      "\u001b[90m 2\u001b[39m   \u001b[4m3\u001b[24m\u001b[4m0\u001b[24m000               63.6 female    16    29 white   \n",
      "\u001b[90m 3\u001b[39m   \u001b[4m5\u001b[24m\u001b[4m0\u001b[24m000               63.1 female    16    91 other   \n",
      "\u001b[90m 4\u001b[39m   \u001b[4m5\u001b[24m\u001b[4m1\u001b[24m000               63.4 female    17    39 white   \n",
      "\u001b[90m 5\u001b[39m    \u001b[4m9\u001b[24m000               64.4 female    15    26 white   \n",
      "\u001b[90m 6\u001b[39m   \u001b[4m2\u001b[24m\u001b[4m9\u001b[24m000               61.7 female    12    49 white   \n",
      "\u001b[90m 7\u001b[39m   \u001b[4m3\u001b[24m\u001b[4m2\u001b[24m000               72.7 male      17    46 white   \n",
      "\u001b[90m 8\u001b[39m    \u001b[4m2\u001b[24m000               72.0 male      15    21 hispanic\n",
      "\u001b[90m 9\u001b[39m   \u001b[4m2\u001b[24m\u001b[4m7\u001b[24m000               72.2 male      12    26 white   \n",
      "\u001b[90m10\u001b[39m    \u001b[4m6\u001b[24m530               69.5 male      16    65 white   \n",
      "\u001b[90m# … with 1,181 more rows\u001b[39m\n"
     ]
    }
   ],
   "source": [
    "read_csv(\"https://raw.githubusercontent.com/jravi123/stats306-w23/main/lectures/week7/heights_no_hdr.csv\") %>% print"
   ]
  },
  {
   "cell_type": "markdown",
   "metadata": {
    "id": "kKBwVMNAmgzb"
   },
   "source": [
    "Now `read_csv()` has erroneously assumed that the first row of data are the header names. To override this behavior we need to specify the column names by hand:"
   ]
  },
  {
   "cell_type": "code",
   "execution_count": 5,
   "metadata": {
    "colab": {
     "base_uri": "https://localhost:8080/"
    },
    "id": "7APAMr-Zmgzc",
    "outputId": "3afef7a8-c042-4c66-bc4f-4e1193616cc9"
   },
   "outputs": [
    {
     "name": "stderr",
     "output_type": "stream",
     "text": [
      "\u001b[1mRows: \u001b[22m\u001b[34m1192\u001b[39m \u001b[1mColumns: \u001b[22m\u001b[34m6\u001b[39m\n",
      "\u001b[36m──\u001b[39m \u001b[1mColumn specification\u001b[22m \u001b[36m────────────────────────────────────────────────────────\u001b[39m\n",
      "\u001b[1mDelimiter:\u001b[22m \",\"\n",
      "\u001b[31mchr\u001b[39m (2): X3, X6\n",
      "\u001b[32mdbl\u001b[39m (4): X1, X2, X4, X5\n",
      "\n",
      "\u001b[36mℹ\u001b[39m Use `spec()` to retrieve the full column specification for this data.\n",
      "\u001b[36mℹ\u001b[39m Specify the column types or set `show_col_types = FALSE` to quiet this message.\n"
     ]
    },
    {
     "name": "stdout",
     "output_type": "stream",
     "text": [
      "\u001b[90m# A tibble: 1,192 × 6\u001b[39m\n",
      "      X1    X2 X3        X4    X5 X6      \n",
      "   \u001b[3m\u001b[90m<dbl>\u001b[39m\u001b[23m \u001b[3m\u001b[90m<dbl>\u001b[39m\u001b[23m \u001b[3m\u001b[90m<chr>\u001b[39m\u001b[23m  \u001b[3m\u001b[90m<dbl>\u001b[39m\u001b[23m \u001b[3m\u001b[90m<dbl>\u001b[39m\u001b[23m \u001b[3m\u001b[90m<chr>\u001b[39m\u001b[23m   \n",
      "\u001b[90m 1\u001b[39m \u001b[4m5\u001b[24m\u001b[4m0\u001b[24m000  74.4 male      16    45 white   \n",
      "\u001b[90m 2\u001b[39m \u001b[4m6\u001b[24m\u001b[4m0\u001b[24m000  65.5 female    16    58 white   \n",
      "\u001b[90m 3\u001b[39m \u001b[4m3\u001b[24m\u001b[4m0\u001b[24m000  63.6 female    16    29 white   \n",
      "\u001b[90m 4\u001b[39m \u001b[4m5\u001b[24m\u001b[4m0\u001b[24m000  63.1 female    16    91 other   \n",
      "\u001b[90m 5\u001b[39m \u001b[4m5\u001b[24m\u001b[4m1\u001b[24m000  63.4 female    17    39 white   \n",
      "\u001b[90m 6\u001b[39m  \u001b[4m9\u001b[24m000  64.4 female    15    26 white   \n",
      "\u001b[90m 7\u001b[39m \u001b[4m2\u001b[24m\u001b[4m9\u001b[24m000  61.7 female    12    49 white   \n",
      "\u001b[90m 8\u001b[39m \u001b[4m3\u001b[24m\u001b[4m2\u001b[24m000  72.7 male      17    46 white   \n",
      "\u001b[90m 9\u001b[39m  \u001b[4m2\u001b[24m000  72.0 male      15    21 hispanic\n",
      "\u001b[90m10\u001b[39m \u001b[4m2\u001b[24m\u001b[4m7\u001b[24m000  72.2 male      12    26 white   \n",
      "\u001b[90m# … with 1,182 more rows\u001b[39m\n"
     ]
    }
   ],
   "source": [
    "read_csv(\"https://raw.githubusercontent.com/jravi123/stats306-w23/main/lectures/week7/heights_no_hdr.csv\", \n",
    "col_names = F) %>% print"
   ]
  },
  {
   "cell_type": "code",
   "execution_count": null,
   "metadata": {
    "colab": {
     "base_uri": "https://localhost:8080/"
    },
    "id": "xRaJ1zrAmgzc",
    "outputId": "6ba52cbc-fca8-4c61-c006-7e898d22aca0"
   },
   "outputs": [
    {
     "name": "stderr",
     "output_type": "stream",
     "text": [
      "\u001b[1mRows: \u001b[22m\u001b[34m1192\u001b[39m \u001b[1mColumns: \u001b[22m\u001b[34m6\u001b[39m\n",
      "\u001b[36m──\u001b[39m \u001b[1mColumn specification\u001b[22m \u001b[36m────────────────────────────────────────────────────────\u001b[39m\n",
      "\u001b[1mDelimiter:\u001b[22m \",\"\n",
      "\u001b[31mchr\u001b[39m (2): sex, race\n",
      "\u001b[32mdbl\u001b[39m (4): earn, height, ed, age\n",
      "\n",
      "\u001b[36mℹ\u001b[39m Use `spec()` to retrieve the full column specification for this data.\n",
      "\u001b[36mℹ\u001b[39m Specify the column types or set `show_col_types = FALSE` to quiet this message.\n"
     ]
    },
    {
     "name": "stdout",
     "output_type": "stream",
     "text": [
      "\u001b[90m# A tibble: 1,192 × 6\u001b[39m\n",
      "    earn height sex       ed   age race    \n",
      "   \u001b[3m\u001b[90m<dbl>\u001b[39m\u001b[23m  \u001b[3m\u001b[90m<dbl>\u001b[39m\u001b[23m \u001b[3m\u001b[90m<chr>\u001b[39m\u001b[23m  \u001b[3m\u001b[90m<dbl>\u001b[39m\u001b[23m \u001b[3m\u001b[90m<dbl>\u001b[39m\u001b[23m \u001b[3m\u001b[90m<chr>\u001b[39m\u001b[23m   \n",
      "\u001b[90m 1\u001b[39m \u001b[4m5\u001b[24m\u001b[4m0\u001b[24m000   74.4 male      16    45 white   \n",
      "\u001b[90m 2\u001b[39m \u001b[4m6\u001b[24m\u001b[4m0\u001b[24m000   65.5 female    16    58 white   \n",
      "\u001b[90m 3\u001b[39m \u001b[4m3\u001b[24m\u001b[4m0\u001b[24m000   63.6 female    16    29 white   \n",
      "\u001b[90m 4\u001b[39m \u001b[4m5\u001b[24m\u001b[4m0\u001b[24m000   63.1 female    16    91 other   \n",
      "\u001b[90m 5\u001b[39m \u001b[4m5\u001b[24m\u001b[4m1\u001b[24m000   63.4 female    17    39 white   \n",
      "\u001b[90m 6\u001b[39m  \u001b[4m9\u001b[24m000   64.4 female    15    26 white   \n",
      "\u001b[90m 7\u001b[39m \u001b[4m2\u001b[24m\u001b[4m9\u001b[24m000   61.7 female    12    49 white   \n",
      "\u001b[90m 8\u001b[39m \u001b[4m3\u001b[24m\u001b[4m2\u001b[24m000   72.7 male      17    46 white   \n",
      "\u001b[90m 9\u001b[39m  \u001b[4m2\u001b[24m000   72.0 male      15    21 hispanic\n",
      "\u001b[90m10\u001b[39m \u001b[4m2\u001b[24m\u001b[4m7\u001b[24m000   72.2 male      12    26 white   \n",
      "\u001b[90m# … with 1,182 more rows\u001b[39m\n"
     ]
    }
   ],
   "source": [
    "read_csv(\"https://raw.githubusercontent.com/jravi123/stats306-w23/main/lectures/week7/heights_no_hdr.csv\", \n",
    "         col_names = c(\"earn\", \"height\", \"sex\", \"ed\", \"age\", \"race\")) %>% print"
   ]
  },
  {
   "cell_type": "markdown",
   "metadata": {
    "id": "g2Zsy6vVmgzd"
   },
   "source": [
    "To create short examples illustrating `read_csv`'s behavior, we can specify the contents of a csv file inline."
   ]
  },
  {
   "cell_type": "code",
   "execution_count": null,
   "metadata": {
    "colab": {
     "base_uri": "https://localhost:8080/",
     "height": 282
    },
    "id": "dqRQxO3Qmgzd",
    "outputId": "6916c683-855f-4186-c06c-4ea5b5bac104"
   },
   "outputs": [
    {
     "name": "stderr",
     "output_type": "stream",
     "text": [
      "\u001b[1mRows: \u001b[22m\u001b[34m2\u001b[39m \u001b[1mColumns: \u001b[22m\u001b[34m3\u001b[39m\n",
      "\u001b[36m──\u001b[39m \u001b[1mColumn specification\u001b[22m \u001b[36m────────────────────────────────────────────────────────\u001b[39m\n",
      "\u001b[1mDelimiter:\u001b[22m \",\"\n",
      "\u001b[32mdbl\u001b[39m (3): a, b, c\n",
      "\n",
      "\u001b[36mℹ\u001b[39m Use `spec()` to retrieve the full column specification for this data.\n",
      "\u001b[36mℹ\u001b[39m Specify the column types or set `show_col_types = FALSE` to quiet this message.\n"
     ]
    },
    {
     "data": {
      "text/html": [
       "<table class=\"dataframe\">\n",
       "<caption>A spec_tbl_df: 2 × 3</caption>\n",
       "<thead>\n",
       "\t<tr><th scope=col>a</th><th scope=col>b</th><th scope=col>c</th></tr>\n",
       "\t<tr><th scope=col>&lt;dbl&gt;</th><th scope=col>&lt;dbl&gt;</th><th scope=col>&lt;dbl&gt;</th></tr>\n",
       "</thead>\n",
       "<tbody>\n",
       "\t<tr><td>1</td><td>2</td><td>3</td></tr>\n",
       "\t<tr><td>4</td><td>5</td><td>6</td></tr>\n",
       "</tbody>\n",
       "</table>\n"
      ],
      "text/latex": [
       "A spec\\_tbl\\_df: 2 × 3\n",
       "\\begin{tabular}{lll}\n",
       " a & b & c\\\\\n",
       " <dbl> & <dbl> & <dbl>\\\\\n",
       "\\hline\n",
       "\t 1 & 2 & 3\\\\\n",
       "\t 4 & 5 & 6\\\\\n",
       "\\end{tabular}\n"
      ],
      "text/markdown": [
       "\n",
       "A spec_tbl_df: 2 × 3\n",
       "\n",
       "| a &lt;dbl&gt; | b &lt;dbl&gt; | c &lt;dbl&gt; |\n",
       "|---|---|---|\n",
       "| 1 | 2 | 3 |\n",
       "| 4 | 5 | 6 |\n",
       "\n"
      ],
      "text/plain": [
       "  a b c\n",
       "1 1 2 3\n",
       "2 4 5 6"
      ]
     },
     "metadata": {},
     "output_type": "display_data"
    }
   ],
   "source": [
    "read_csv(\n",
    "    \"a, b, c\n",
    "     1, 2, 3\n",
    "     4, 5, 6\n",
    "\")"
   ]
  },
  {
   "cell_type": "markdown",
   "metadata": {
    "id": "Ug4PDFD-mgze"
   },
   "source": [
    "You might want to skip a few rows in the beginning that have metadata."
   ]
  },
  {
   "cell_type": "code",
   "execution_count": null,
   "metadata": {
    "colab": {
     "base_uri": "https://localhost:8080/",
     "height": 282
    },
    "id": "wuWceGLpmgze",
    "outputId": "0b93c9e6-1714-4d34-83df-1493cc9fffd6"
   },
   "outputs": [
    {
     "name": "stderr",
     "output_type": "stream",
     "text": [
      "\u001b[1mRows: \u001b[22m\u001b[34m2\u001b[39m \u001b[1mColumns: \u001b[22m\u001b[34m3\u001b[39m\n",
      "\u001b[36m──\u001b[39m \u001b[1mColumn specification\u001b[22m \u001b[36m────────────────────────────────────────────────────────\u001b[39m\n",
      "\u001b[1mDelimiter:\u001b[22m \",\"\n",
      "\u001b[32mdbl\u001b[39m (3): a, b, c\n",
      "\n",
      "\u001b[36mℹ\u001b[39m Use `spec()` to retrieve the full column specification for this data.\n",
      "\u001b[36mℹ\u001b[39m Specify the column types or set `show_col_types = FALSE` to quiet this message.\n"
     ]
    },
    {
     "data": {
      "text/html": [
       "<table class=\"dataframe\">\n",
       "<caption>A spec_tbl_df: 2 × 3</caption>\n",
       "<thead>\n",
       "\t<tr><th scope=col>a</th><th scope=col>b</th><th scope=col>c</th></tr>\n",
       "\t<tr><th scope=col>&lt;dbl&gt;</th><th scope=col>&lt;dbl&gt;</th><th scope=col>&lt;dbl&gt;</th></tr>\n",
       "</thead>\n",
       "<tbody>\n",
       "\t<tr><td>1</td><td>2</td><td>3</td></tr>\n",
       "\t<tr><td>4</td><td>5</td><td>6</td></tr>\n",
       "</tbody>\n",
       "</table>\n"
      ],
      "text/latex": [
       "A spec\\_tbl\\_df: 2 × 3\n",
       "\\begin{tabular}{lll}\n",
       " a & b & c\\\\\n",
       " <dbl> & <dbl> & <dbl>\\\\\n",
       "\\hline\n",
       "\t 1 & 2 & 3\\\\\n",
       "\t 4 & 5 & 6\\\\\n",
       "\\end{tabular}\n"
      ],
      "text/markdown": [
       "\n",
       "A spec_tbl_df: 2 × 3\n",
       "\n",
       "| a &lt;dbl&gt; | b &lt;dbl&gt; | c &lt;dbl&gt; |\n",
       "|---|---|---|\n",
       "| 1 | 2 | 3 |\n",
       "| 4 | 5 | 6 |\n",
       "\n"
      ],
      "text/plain": [
       "  a b c\n",
       "1 1 2 3\n",
       "2 4 5 6"
      ]
     },
     "metadata": {},
     "output_type": "display_data"
    }
   ],
   "source": [
    "read_csv(\n",
    "\"# First row to skip\n",
    "// Second row to skip\n",
    "% Third row to skip\n",
    "a, b, c\n",
    "1, 2, 3\n",
    "4, 5, 6\n",
    "\", skip = 3)"
   ]
  },
  {
   "cell_type": "markdown",
   "metadata": {
    "id": "NWISOixXmgzf"
   },
   "source": [
    "Some CSVs will come with comments, typically in the form of lines prefaced by `#`. You can also skip comments line by specifying a comment character."
   ]
  },
  {
   "cell_type": "code",
   "execution_count": null,
   "metadata": {
    "colab": {
     "base_uri": "https://localhost:8080/",
     "height": 282
    },
    "id": "yVRf3L9omgzf",
    "outputId": "4102eee8-3b9b-4b36-8f3a-1ff5e29c32ba"
   },
   "outputs": [
    {
     "name": "stderr",
     "output_type": "stream",
     "text": [
      "\u001b[1mRows: \u001b[22m\u001b[34m2\u001b[39m \u001b[1mColumns: \u001b[22m\u001b[34m3\u001b[39m\n",
      "\u001b[36m──\u001b[39m \u001b[1mColumn specification\u001b[22m \u001b[36m────────────────────────────────────────────────────────\u001b[39m\n",
      "\u001b[1mDelimiter:\u001b[22m \",\"\n",
      "\u001b[32mdbl\u001b[39m (3): a, b, c\n",
      "\n",
      "\u001b[36mℹ\u001b[39m Use `spec()` to retrieve the full column specification for this data.\n",
      "\u001b[36mℹ\u001b[39m Specify the column types or set `show_col_types = FALSE` to quiet this message.\n"
     ]
    },
    {
     "data": {
      "text/html": [
       "<table class=\"dataframe\">\n",
       "<caption>A spec_tbl_df: 2 × 3</caption>\n",
       "<thead>\n",
       "\t<tr><th scope=col>a</th><th scope=col>b</th><th scope=col>c</th></tr>\n",
       "\t<tr><th scope=col>&lt;dbl&gt;</th><th scope=col>&lt;dbl&gt;</th><th scope=col>&lt;dbl&gt;</th></tr>\n",
       "</thead>\n",
       "<tbody>\n",
       "\t<tr><td>1</td><td>2</td><td>3</td></tr>\n",
       "\t<tr><td>4</td><td>5</td><td>6</td></tr>\n",
       "</tbody>\n",
       "</table>\n"
      ],
      "text/latex": [
       "A spec\\_tbl\\_df: 2 × 3\n",
       "\\begin{tabular}{lll}\n",
       " a & b & c\\\\\n",
       " <dbl> & <dbl> & <dbl>\\\\\n",
       "\\hline\n",
       "\t 1 & 2 & 3\\\\\n",
       "\t 4 & 5 & 6\\\\\n",
       "\\end{tabular}\n"
      ],
      "text/markdown": [
       "\n",
       "A spec_tbl_df: 2 × 3\n",
       "\n",
       "| a &lt;dbl&gt; | b &lt;dbl&gt; | c &lt;dbl&gt; |\n",
       "|---|---|---|\n",
       "| 1 | 2 | 3 |\n",
       "| 4 | 5 | 6 |\n",
       "\n"
      ],
      "text/plain": [
       "  a b c\n",
       "1 1 2 3\n",
       "2 4 5 6"
      ]
     },
     "metadata": {},
     "output_type": "display_data"
    }
   ],
   "source": [
    "read_csv(\"\n",
    "# First comment line\n",
    "a, b, c\n",
    "# This separates the header from the data\n",
    "1, 2, 3\n",
    "4, 5, 6\n",
    "# Another comment line\n",
    "\", comment = '#')"
   ]
  },
  {
   "cell_type": "markdown",
   "metadata": {
    "id": "1rP5EHSYmgzg"
   },
   "source": [
    "Set `col_names = FALSE` when you don't have column names in the file. The column names are then set to X1, X2, ..."
   ]
  },
  {
   "cell_type": "code",
   "execution_count": null,
   "metadata": {
    "id": "4wVEo1vtmgzg",
    "outputId": "e60d8d2c-6ee9-4a57-c245-5ac491be5ded"
   },
   "outputs": [
    {
     "name": "stdout",
     "output_type": "stream",
     "text": [
      "# A tibble: 1 x 3\n",
      "    `1`   `2`   `3`\n",
      "  <dbl> <dbl> <dbl>\n",
      "1     4     5     6\n"
     ]
    }
   ],
   "source": [
    "read_csv(\"\n",
    "1, 2, 3\n",
    "4, 5, 6\n",
    "\") %>% print"
   ]
  },
  {
   "cell_type": "markdown",
   "metadata": {
    "id": "BFoGCUkamgzg"
   },
   "source": [
    "You can specify your own column names."
   ]
  },
  {
   "cell_type": "code",
   "execution_count": null,
   "metadata": {
    "id": "4hHNsCehmgzh",
    "outputId": "4f22ca46-8bef-40a3-e967-3f81190e84a9"
   },
   "outputs": [
    {
     "data": {
      "text/plain": [
       "  a b c\n",
       "1 1 2 3\n",
       "2 4 5 6"
      ]
     },
     "metadata": {},
     "output_type": "display_data"
    }
   ],
   "source": [
    "read_csv(\"\n",
    "1, 2, 3\n",
    "4, 5, 6\n",
    "\", col_names = c(\"a\", \"b\", \"c\"))"
   ]
  },
  {
   "cell_type": "markdown",
   "metadata": {
    "id": "yX55RNbVmgzh"
   },
   "source": [
    "You can specify how missing values are represented in the file."
   ]
  },
  {
   "cell_type": "code",
   "execution_count": null,
   "metadata": {
    "colab": {
     "base_uri": "https://localhost:8080/"
    },
    "id": "8lNnL6hxmgzi",
    "outputId": "d786c85e-408b-4720-a782-ebc96dd941cf",
    "scrolled": true
   },
   "outputs": [
    {
     "name": "stderr",
     "output_type": "stream",
     "text": [
      "\u001b[1mRows: \u001b[22m\u001b[34m2\u001b[39m \u001b[1mColumns: \u001b[22m\u001b[34m3\u001b[39m\n",
      "\u001b[36m──\u001b[39m \u001b[1mColumn specification\u001b[22m \u001b[36m────────────────────────────────────────────────────────\u001b[39m\n",
      "\u001b[1mDelimiter:\u001b[22m \",\"\n",
      "\u001b[32mdbl\u001b[39m (3): a, b, c\n",
      "\n",
      "\u001b[36mℹ\u001b[39m Use `spec()` to retrieve the full column specification for this data.\n",
      "\u001b[36mℹ\u001b[39m Specify the column types or set `show_col_types = FALSE` to quiet this message.\n"
     ]
    },
    {
     "name": "stdout",
     "output_type": "stream",
     "text": [
      "\u001b[90m# A tibble: 2 × 3\u001b[39m\n",
      "      a     b     c\n",
      "  \u001b[3m\u001b[90m<dbl>\u001b[39m\u001b[23m \u001b[3m\u001b[90m<dbl>\u001b[39m\u001b[23m \u001b[3m\u001b[90m<dbl>\u001b[39m\u001b[23m\n",
      "\u001b[90m1\u001b[39m     1     2     3\n",
      "\u001b[90m2\u001b[39m     4    \u001b[31mNA\u001b[39m     6\n"
     ]
    }
   ],
   "source": [
    "read_csv(\n",
    "    \"a, b, c\n",
    "     1, 2, 3\n",
    "     4,  , 6\n",
    "\") %>% print"
   ]
  },
  {
   "cell_type": "code",
   "execution_count": null,
   "metadata": {
    "colab": {
     "base_uri": "https://localhost:8080/"
    },
    "id": "Ot1iUWcWmgzi",
    "outputId": "dbe0e88c-b711-478f-f98b-803735e863d0"
   },
   "outputs": [
    {
     "name": "stderr",
     "output_type": "stream",
     "text": [
      "\u001b[1mRows: \u001b[22m\u001b[34m2\u001b[39m \u001b[1mColumns: \u001b[22m\u001b[34m3\u001b[39m\n",
      "\u001b[36m──\u001b[39m \u001b[1mColumn specification\u001b[22m \u001b[36m────────────────────────────────────────────────────────\u001b[39m\n",
      "\u001b[1mDelimiter:\u001b[22m \",\"\n",
      "\u001b[32mdbl\u001b[39m (3): a, b, c\n",
      "\n",
      "\u001b[36mℹ\u001b[39m Use `spec()` to retrieve the full column specification for this data.\n",
      "\u001b[36mℹ\u001b[39m Specify the column types or set `show_col_types = FALSE` to quiet this message.\n"
     ]
    },
    {
     "name": "stdout",
     "output_type": "stream",
     "text": [
      "\u001b[90m# A tibble: 2 × 3\u001b[39m\n",
      "      a     b     c\n",
      "  \u001b[3m\u001b[90m<dbl>\u001b[39m\u001b[23m \u001b[3m\u001b[90m<dbl>\u001b[39m\u001b[23m \u001b[3m\u001b[90m<dbl>\u001b[39m\u001b[23m\n",
      "\u001b[90m1\u001b[39m     1     2     3\n",
      "\u001b[90m2\u001b[39m     4    \u001b[31mNA\u001b[39m     6\n"
     ]
    }
   ],
   "source": [
    "my_data <- read_csv(\n",
    "    \"a, b, c\n",
    "     1, 2, 3\n",
    "     4, -1, 6\n",
    "\", na = \"-1\") %>% print"
   ]
  },
  {
   "cell_type": "markdown",
   "metadata": {
    "id": "vefR23z-mgzi"
   },
   "source": [
    "You can write a tibble to a csv file using `write_csv()`."
   ]
  },
  {
   "cell_type": "code",
   "execution_count": null,
   "metadata": {
    "id": "xaEvBGsrmgzj"
   },
   "outputs": [],
   "source": [
    "write_csv(my_data, \"my_data.csv\")"
   ]
  },
  {
   "cell_type": "code",
   "execution_count": null,
   "metadata": {
    "colab": {
     "base_uri": "https://localhost:8080/"
    },
    "id": "PNzn_GnNmgzj",
    "outputId": "8042cc30-fd27-4cc3-c2d7-8d613f3d436f"
   },
   "outputs": [
    {
     "name": "stdout",
     "output_type": "stream",
     "text": [
      "a,b,c\n",
      "1,2,3\n",
      "4,NA,6\n"
     ]
    }
   ],
   "source": [
    "cat(read_file('my_data.csv'))"
   ]
  },
  {
   "cell_type": "code",
   "execution_count": null,
   "metadata": {
    "colab": {
     "base_uri": "https://localhost:8080/"
    },
    "id": "yq8cf-pImgzj",
    "outputId": "3a6df84f-8668-4d44-f1c8-d652bf44904a"
   },
   "outputs": [
    {
     "name": "stderr",
     "output_type": "stream",
     "text": [
      "\u001b[1mRows: \u001b[22m\u001b[34m2\u001b[39m \u001b[1mColumns: \u001b[22m\u001b[34m3\u001b[39m\n",
      "\u001b[36m──\u001b[39m \u001b[1mColumn specification\u001b[22m \u001b[36m────────────────────────────────────────────────────────\u001b[39m\n",
      "\u001b[1mDelimiter:\u001b[22m \",\"\n",
      "\u001b[32mdbl\u001b[39m (3): a, b, c\n",
      "\n",
      "\u001b[36mℹ\u001b[39m Use `spec()` to retrieve the full column specification for this data.\n",
      "\u001b[36mℹ\u001b[39m Specify the column types or set `show_col_types = FALSE` to quiet this message.\n"
     ]
    },
    {
     "name": "stdout",
     "output_type": "stream",
     "text": [
      "\u001b[90m# A tibble: 2 × 3\u001b[39m\n",
      "      a     b     c\n",
      "  \u001b[3m\u001b[90m<dbl>\u001b[39m\u001b[23m \u001b[3m\u001b[90m<dbl>\u001b[39m\u001b[23m \u001b[3m\u001b[90m<dbl>\u001b[39m\u001b[23m\n",
      "\u001b[90m1\u001b[39m     1     2     3\n",
      "\u001b[90m2\u001b[39m     4    \u001b[31mNA\u001b[39m     6\n"
     ]
    }
   ],
   "source": [
    "my_data2 <- read_csv(\"my_data.csv\")\n",
    "print(my_data2)"
   ]
  },
  {
   "cell_type": "markdown",
   "metadata": {
    "id": "qwulwmh2mgzk"
   },
   "source": [
    "### How parsing works\n",
    "Sometimes the automatic parsers will fail. To understand why, it's helpful to look at how these functions actually parse data."
   ]
  },
  {
   "cell_type": "markdown",
   "metadata": {
    "id": "NcTEAmnamgzk"
   },
   "source": [
    "The first step is to guess each column type. The parser functions will look at the first few entries of each column and use that to try and guess the column type. "
   ]
  },
  {
   "cell_type": "code",
   "execution_count": 20,
   "metadata": {
    "colab": {
     "base_uri": "https://localhost:8080/"
    },
    "id": "cC3q8APJmgzk",
    "outputId": "4b4a2c4c-4a08-429f-f53c-c8a1f70cad3f"
   },
   "outputs": [
    {
     "name": "stderr",
     "output_type": "stream",
     "text": [
      "\u001b[1mRows: \u001b[22m\u001b[34m3\u001b[39m \u001b[1mColumns: \u001b[22m\u001b[34m2\u001b[39m\n",
      "\u001b[36m──\u001b[39m \u001b[1mColumn specification\u001b[22m \u001b[36m────────────────────────────────────────────────────────\u001b[39m\n",
      "\u001b[1mDelimiter:\u001b[22m \",\"\n",
      "\u001b[31mchr\u001b[39m (1): a\n",
      "\u001b[32mdbl\u001b[39m (1): b\n",
      "\n",
      "\u001b[36mℹ\u001b[39m Use `spec()` to retrieve the full column specification for this data.\n",
      "\u001b[36mℹ\u001b[39m Specify the column types or set `show_col_types = FALSE` to quiet this message.\n"
     ]
    },
    {
     "name": "stdout",
     "output_type": "stream",
     "text": [
      "\u001b[90m# A tibble: 0 × 5\u001b[39m\n",
      "\u001b[90m# … with 5 variables: row <int>, col <int>, expected <chr>, actual <chr>,\u001b[39m\n",
      "\u001b[90m#   file <chr>\u001b[39m\n",
      "\u001b[90m# A tibble: 3 × 2\u001b[39m\n",
      "  a         b\n",
      "  \u001b[3m\u001b[90m<chr>\u001b[39m\u001b[23m \u001b[3m\u001b[90m<dbl>\u001b[39m\u001b[23m\n",
      "\u001b[90m1\u001b[39m 1         3\n",
      "\u001b[90m2\u001b[39m 2         4\n",
      "\u001b[90m3\u001b[39m 'b'       6\n"
     ]
    }
   ],
   "source": [
    "tbl = read_csv(\n",
    "\"a, b\n",
    "1, 3\n",
    "2, 4\n",
    "'b', 6\n",
    "\", col_names=T\n",
    ")\n",
    "problems(tbl) %>% print\n",
    "tbl %>% print"
   ]
  },
  {
   "cell_type": "markdown",
   "metadata": {
    "id": "Xnpc-D0Mmgzm"
   },
   "source": [
    "If you already know what format each column has, rather than hoping it guesses correctly you can simply tell that to R:"
   ]
  },
  {
   "cell_type": "code",
   "execution_count": 23,
   "metadata": {
    "colab": {
     "base_uri": "https://localhost:8080/"
    },
    "id": "qMMmPOzCmgzm",
    "outputId": "3eb67353-c2c7-4b76-f6ab-b07c1dbbf65b"
   },
   "outputs": [
    {
     "name": "stderr",
     "output_type": "stream",
     "text": [
      "\u001b[1mRows: \u001b[22m\u001b[34m3\u001b[39m \u001b[1mColumns: \u001b[22m\u001b[34m2\u001b[39m\n",
      "\u001b[36m──\u001b[39m \u001b[1mColumn specification\u001b[22m \u001b[36m────────────────────────────────────────────────────────\u001b[39m\n",
      "\u001b[1mDelimiter:\u001b[22m \",\"\n",
      "\u001b[32mdbl\u001b[39m (2): a, b\n",
      "\n",
      "\u001b[36mℹ\u001b[39m Use `spec()` to retrieve the full column specification for this data.\n",
      "\u001b[36mℹ\u001b[39m Specify the column types or set `show_col_types = FALSE` to quiet this message.\n"
     ]
    },
    {
     "name": "stdout",
     "output_type": "stream",
     "text": [
      "\u001b[90m# A tibble: 3 × 2\u001b[39m\n",
      "      a     b\n",
      "  \u001b[3m\u001b[90m<dbl>\u001b[39m\u001b[23m \u001b[3m\u001b[90m<dbl>\u001b[39m\u001b[23m\n",
      "\u001b[90m1\u001b[39m     1     3\n",
      "\u001b[90m2\u001b[39m     2     4\n",
      "\u001b[90m3\u001b[39m     1     2\n"
     ]
    }
   ],
   "source": [
    "read_csv(\n",
    "\"a, b\n",
    "1, 3\n",
    "2, 4\n",
    "1, 2\n",
    "\",\n",
    "#    col_types=list(\n",
    "#        a = col_character(),\n",
    "#        b = col_character()\n",
    "#    )\n",
    ") %>% print"
   ]
  },
  {
   "cell_type": "markdown",
   "metadata": {
    "id": "pDCGS3aymgzn"
   },
   "source": [
    "## Example of a real-world CSV"
   ]
  },
  {
   "cell_type": "markdown",
   "metadata": {
    "id": "G21UYe59mgzn"
   },
   "source": [
    "Recently we saw in the news that the population of China shrank for the first time in more than sixty years. This has major implications for China and the world as a whole. \n",
    "\n",
    "Let's study this phenomenon in data, which will give us a chance to practice importing CSV and Excel files."
   ]
  },
  {
   "cell_type": "markdown",
   "metadata": {
    "id": "oLZFG-L5mgzn"
   },
   "source": [
    "First I visited the World Bank. They have data on total population size as well as fertility rates across all countries, from about the 1950s to present:\n",
    "- [Population](https://data.worldbank.org/indicator/SP.POP.TOTL)\n",
    "- [Fertility rate](https://data.worldbank.org/indicator/SP.DYN.TFRT.IN)\n"
   ]
  },
  {
   "cell_type": "markdown",
   "metadata": {
    "id": "PO5SkjNVmgzo"
   },
   "source": [
    "Each of these web pages contains a link to a downloadable CSV file. You can download them to your local computer by running the following code:"
   ]
  },
  {
   "cell_type": "code",
   "execution_count": 26,
   "metadata": {
    "id": "hngyO5s5mgzo"
   },
   "outputs": [],
   "source": [
    "for(x in c('fert', 'pop')) {\n",
    "    fn <- paste0('wb_', x, '.csv')\n",
    "    download.file(paste0('https://datasets.stats306.org/', fn), fn)\n",
    "}"
   ]
  },
  {
   "cell_type": "markdown",
   "metadata": {
    "id": "RZjK56Jcmgzo"
   },
   "source": [
    "First let's try loading the population dataset into R using `read_csv`:"
   ]
  },
  {
   "cell_type": "code",
   "execution_count": 27,
   "metadata": {
    "colab": {
     "base_uri": "https://localhost:8080/"
    },
    "id": "W--FvsSImgzo",
    "outputId": "42c5f219-c378-4419-fa94-472258b6e517"
   },
   "outputs": [
    {
     "name": "stderr",
     "output_type": "stream",
     "text": [
      "\u001b[1m\u001b[22mNew names:\n",
      "\u001b[36m•\u001b[39m `` -> `...3`\n",
      "Warning message:\n",
      "“\u001b[1m\u001b[22mOne or more parsing issues, call `problems()` on your data frame for details,\n",
      "e.g.:\n",
      "  dat <- vroom(...)\n",
      "  problems(dat)”\n",
      "\u001b[1mRows: \u001b[22m\u001b[34m268\u001b[39m \u001b[1mColumns: \u001b[22m\u001b[34m3\u001b[39m\n",
      "\u001b[36m──\u001b[39m \u001b[1mColumn specification\u001b[22m \u001b[36m────────────────────────────────────────────────────────\u001b[39m\n",
      "\u001b[1mDelimiter:\u001b[22m \",\"\n",
      "\u001b[31mchr\u001b[39m (3): Data Source, World Development Indicators, ...3\n",
      "\n",
      "\u001b[36mℹ\u001b[39m Use `spec()` to retrieve the full column specification for this data.\n",
      "\u001b[36mℹ\u001b[39m Specify the column types or set `show_col_types = FALSE` to quiet this message.\n"
     ]
    }
   ],
   "source": [
    "wb_pop <- read_csv('wb_pop.csv')"
   ]
  },
  {
   "cell_type": "markdown",
   "metadata": {
    "id": "OzLZZL42mgzp"
   },
   "source": [
    "We can see that R generated some warning messages when loading the CSV. And the data frame itself does not appear to have loaded correctly:"
   ]
  },
  {
   "cell_type": "code",
   "execution_count": 28,
   "metadata": {
    "colab": {
     "base_uri": "https://localhost:8080/",
     "height": 480
    },
    "id": "1cT5skc1mgzp",
    "outputId": "423cb587-1435-4994-ba91-a48a253e6c9e"
   },
   "outputs": [
    {
     "data": {
      "text/html": [
       "<table class=\"dataframe\">\n",
       "<caption>A tibble: 6 × 3</caption>\n",
       "<thead>\n",
       "\t<tr><th scope=col>Data Source</th><th scope=col>World Development Indicators</th><th scope=col>...3</th></tr>\n",
       "\t<tr><th scope=col>&lt;chr&gt;</th><th scope=col>&lt;chr&gt;</th><th scope=col>&lt;chr&gt;</th></tr>\n",
       "</thead>\n",
       "<tbody>\n",
       "\t<tr><td>Last Updated Date          </td><td>2022-12-22  </td><td>NA                                                                                                                                                                                                                                                                                                                                                                                                                                                                                                                                                                                                                                                                        </td></tr>\n",
       "\t<tr><td>Country Name               </td><td>Country Code</td><td>Indicator Name,Indicator Code,1960,1961,1962,1963,1964,1965,1966,1967,1968,1969,1970,1971,1972,1973,1974,1975,1976,1977,1978,1979,1980,1981,1982,1983,1984,1985,1986,1987,1988,1989,1990,1991,1992,1993,1994,1995,1996,1997,1998,1999,2000,2001,2002,2003,2004,2005,2006,2007,2008,2009,2010,2011,2012,2013,2014,2015,2016,2017,2018,2019,2020,2021,                                                                                                                                                                                                                                                                                                                      </td></tr>\n",
       "\t<tr><td>Aruba                      </td><td>ABW         </td><td>Population, total,SP.POP.TOTL,54608,55811,56682,57475,58178,58782,59291,59522,59471,59330,59106,58816,58855,59365,60028,60715,61193,61465,61738,62006,62267,62614,63116,63683,64174,64478,64553,64450,64332,64596,65712,67864,70192,72360,74710,77050,79417,81858,84355,86867,89101,90691,91781,92701,93540,94483,95606,96787,97996,99212,100341,101288,102112,102880,103594,104257,104874,105439,105962,106442,106585,106537,                                                                                                                                                                                                                                            </td></tr>\n",
       "\t<tr><td>Africa Eastern and Southern</td><td>AFE         </td><td>Population, total,SP.POP.TOTL,130692579,134169237,137835590,141630546,145605995,149742351,153955516,158313235,162875171,167596160,172475766,177503186,182599092,187901657,193512956,199284304,205202669,211120911,217481420,224315978,230967858,237937461,245386717,252779730,260209149,267938123,276035920,284490394,292795186,301124880,309890664,318544083,326933522,335625136,344418362,353466601,362985802,372352230,381715600,391486231,401600588,412001885,422741118,433807484,445281555,457153837,469508516,482406426,495748900,509410477,523459657,537792950,552530654,567891875,583650827,600008150,616377331,632746296,649756874,667242712,685112705,702976832,</td></tr>\n",
       "\t<tr><td>Afghanistan                </td><td>AFG         </td><td>Population, total,SP.POP.TOTL,8622466,8790140,8969047,9157465,9355514,9565147,9783147,10010030,10247780,10494489,10752971,11015857,11286753,11575305,11869879,12157386,12425267,12687301,12938862,12986369,12486631,11155195,10088289,9951449,10243686,10512221,10448442,10322758,10383460,10673168,10694796,10745167,12057433,14003760,15455555,16418912,17106595,17788819,18493132,19262847,19542982,19688632,21000256,22645130,23553551,24411191,25442944,25903301,26427199,27385307,28189672,29249157,30466479,31541209,32716210,33753499,34636207,35643418,36686784,37769499,38972230,40099462,                                                                      </td></tr>\n",
       "\t<tr><td>Africa Western and Central </td><td>AFW         </td><td>Population, total,SP.POP.TOTL,97256290,99314028,101445032,103667517,105959979,108336203,110798486,113319950,115921723,118615741,121424797,124336039,127364044,130563107,133953892,137548613,141258400,145122851,149206663,153459665,157825609,162323313,167023385,171566640,176054495,180817312,185720244,190759952,195969722,201392200,206739024,212172888,217966101,223788766,229675775,235861484,242200260,248713095,255482918,262397030,269611898,277160097,284952322,292977949,301265247,309824829,318601484,327612838,336893835,346475221,356337762,366489204,376797999,387204553,397855507,408690375,419778384,431138704,442646825,454306063,466189102,478185907,  </td></tr>\n",
       "</tbody>\n",
       "</table>\n"
      ],
      "text/latex": [
       "A tibble: 6 × 3\n",
       "\\begin{tabular}{lll}\n",
       " Data Source & World Development Indicators & ...3\\\\\n",
       " <chr> & <chr> & <chr>\\\\\n",
       "\\hline\n",
       "\t Last Updated Date           & 2022-12-22   & NA                                                                                                                                                                                                                                                                                                                                                                                                                                                                                                                                                                                                                                                                        \\\\\n",
       "\t Country Name                & Country Code & Indicator Name,Indicator Code,1960,1961,1962,1963,1964,1965,1966,1967,1968,1969,1970,1971,1972,1973,1974,1975,1976,1977,1978,1979,1980,1981,1982,1983,1984,1985,1986,1987,1988,1989,1990,1991,1992,1993,1994,1995,1996,1997,1998,1999,2000,2001,2002,2003,2004,2005,2006,2007,2008,2009,2010,2011,2012,2013,2014,2015,2016,2017,2018,2019,2020,2021,                                                                                                                                                                                                                                                                                                                      \\\\\n",
       "\t Aruba                       & ABW          & Population, total,SP.POP.TOTL,54608,55811,56682,57475,58178,58782,59291,59522,59471,59330,59106,58816,58855,59365,60028,60715,61193,61465,61738,62006,62267,62614,63116,63683,64174,64478,64553,64450,64332,64596,65712,67864,70192,72360,74710,77050,79417,81858,84355,86867,89101,90691,91781,92701,93540,94483,95606,96787,97996,99212,100341,101288,102112,102880,103594,104257,104874,105439,105962,106442,106585,106537,                                                                                                                                                                                                                                            \\\\\n",
       "\t Africa Eastern and Southern & AFE          & Population, total,SP.POP.TOTL,130692579,134169237,137835590,141630546,145605995,149742351,153955516,158313235,162875171,167596160,172475766,177503186,182599092,187901657,193512956,199284304,205202669,211120911,217481420,224315978,230967858,237937461,245386717,252779730,260209149,267938123,276035920,284490394,292795186,301124880,309890664,318544083,326933522,335625136,344418362,353466601,362985802,372352230,381715600,391486231,401600588,412001885,422741118,433807484,445281555,457153837,469508516,482406426,495748900,509410477,523459657,537792950,552530654,567891875,583650827,600008150,616377331,632746296,649756874,667242712,685112705,702976832,\\\\\n",
       "\t Afghanistan                 & AFG          & Population, total,SP.POP.TOTL,8622466,8790140,8969047,9157465,9355514,9565147,9783147,10010030,10247780,10494489,10752971,11015857,11286753,11575305,11869879,12157386,12425267,12687301,12938862,12986369,12486631,11155195,10088289,9951449,10243686,10512221,10448442,10322758,10383460,10673168,10694796,10745167,12057433,14003760,15455555,16418912,17106595,17788819,18493132,19262847,19542982,19688632,21000256,22645130,23553551,24411191,25442944,25903301,26427199,27385307,28189672,29249157,30466479,31541209,32716210,33753499,34636207,35643418,36686784,37769499,38972230,40099462,                                                                      \\\\\n",
       "\t Africa Western and Central  & AFW          & Population, total,SP.POP.TOTL,97256290,99314028,101445032,103667517,105959979,108336203,110798486,113319950,115921723,118615741,121424797,124336039,127364044,130563107,133953892,137548613,141258400,145122851,149206663,153459665,157825609,162323313,167023385,171566640,176054495,180817312,185720244,190759952,195969722,201392200,206739024,212172888,217966101,223788766,229675775,235861484,242200260,248713095,255482918,262397030,269611898,277160097,284952322,292977949,301265247,309824829,318601484,327612838,336893835,346475221,356337762,366489204,376797999,387204553,397855507,408690375,419778384,431138704,442646825,454306063,466189102,478185907,  \\\\\n",
       "\\end{tabular}\n"
      ],
      "text/markdown": [
       "\n",
       "A tibble: 6 × 3\n",
       "\n",
       "| Data Source &lt;chr&gt; | World Development Indicators &lt;chr&gt; | ...3 &lt;chr&gt; |\n",
       "|---|---|---|\n",
       "| Last Updated Date           | 2022-12-22   | NA                                                                                                                                                                                                                                                                                                                                                                                                                                                                                                                                                                                                                                                                         |\n",
       "| Country Name                | Country Code | Indicator Name,Indicator Code,1960,1961,1962,1963,1964,1965,1966,1967,1968,1969,1970,1971,1972,1973,1974,1975,1976,1977,1978,1979,1980,1981,1982,1983,1984,1985,1986,1987,1988,1989,1990,1991,1992,1993,1994,1995,1996,1997,1998,1999,2000,2001,2002,2003,2004,2005,2006,2007,2008,2009,2010,2011,2012,2013,2014,2015,2016,2017,2018,2019,2020,2021,                                                                                                                                                                                                                                                                                                                       |\n",
       "| Aruba                       | ABW          | Population, total,SP.POP.TOTL,54608,55811,56682,57475,58178,58782,59291,59522,59471,59330,59106,58816,58855,59365,60028,60715,61193,61465,61738,62006,62267,62614,63116,63683,64174,64478,64553,64450,64332,64596,65712,67864,70192,72360,74710,77050,79417,81858,84355,86867,89101,90691,91781,92701,93540,94483,95606,96787,97996,99212,100341,101288,102112,102880,103594,104257,104874,105439,105962,106442,106585,106537,                                                                                                                                                                                                                                             |\n",
       "| Africa Eastern and Southern | AFE          | Population, total,SP.POP.TOTL,130692579,134169237,137835590,141630546,145605995,149742351,153955516,158313235,162875171,167596160,172475766,177503186,182599092,187901657,193512956,199284304,205202669,211120911,217481420,224315978,230967858,237937461,245386717,252779730,260209149,267938123,276035920,284490394,292795186,301124880,309890664,318544083,326933522,335625136,344418362,353466601,362985802,372352230,381715600,391486231,401600588,412001885,422741118,433807484,445281555,457153837,469508516,482406426,495748900,509410477,523459657,537792950,552530654,567891875,583650827,600008150,616377331,632746296,649756874,667242712,685112705,702976832, |\n",
       "| Afghanistan                 | AFG          | Population, total,SP.POP.TOTL,8622466,8790140,8969047,9157465,9355514,9565147,9783147,10010030,10247780,10494489,10752971,11015857,11286753,11575305,11869879,12157386,12425267,12687301,12938862,12986369,12486631,11155195,10088289,9951449,10243686,10512221,10448442,10322758,10383460,10673168,10694796,10745167,12057433,14003760,15455555,16418912,17106595,17788819,18493132,19262847,19542982,19688632,21000256,22645130,23553551,24411191,25442944,25903301,26427199,27385307,28189672,29249157,30466479,31541209,32716210,33753499,34636207,35643418,36686784,37769499,38972230,40099462,                                                                       |\n",
       "| Africa Western and Central  | AFW          | Population, total,SP.POP.TOTL,97256290,99314028,101445032,103667517,105959979,108336203,110798486,113319950,115921723,118615741,121424797,124336039,127364044,130563107,133953892,137548613,141258400,145122851,149206663,153459665,157825609,162323313,167023385,171566640,176054495,180817312,185720244,190759952,195969722,201392200,206739024,212172888,217966101,223788766,229675775,235861484,242200260,248713095,255482918,262397030,269611898,277160097,284952322,292977949,301265247,309824829,318601484,327612838,336893835,346475221,356337762,366489204,376797999,387204553,397855507,408690375,419778384,431138704,442646825,454306063,466189102,478185907,   |\n",
       "\n"
      ],
      "text/plain": [
       "  Data Source                 World Development Indicators\n",
       "1 Last Updated Date           2022-12-22                  \n",
       "2 Country Name                Country Code                \n",
       "3 Aruba                       ABW                         \n",
       "4 Africa Eastern and Southern AFE                         \n",
       "5 Afghanistan                 AFG                         \n",
       "6 Africa Western and Central  AFW                         \n",
       "  ...3                                                                                                                                                                                                                                                                                                                                                                                                                                                                                                                                                                                                                                                                      \n",
       "1 NA                                                                                                                                                                                                                                                                                                                                                                                                                                                                                                                                                                                                                                                                        \n",
       "2 Indicator Name,Indicator Code,1960,1961,1962,1963,1964,1965,1966,1967,1968,1969,1970,1971,1972,1973,1974,1975,1976,1977,1978,1979,1980,1981,1982,1983,1984,1985,1986,1987,1988,1989,1990,1991,1992,1993,1994,1995,1996,1997,1998,1999,2000,2001,2002,2003,2004,2005,2006,2007,2008,2009,2010,2011,2012,2013,2014,2015,2016,2017,2018,2019,2020,2021,                                                                                                                                                                                                                                                                                                                      \n",
       "3 Population, total,SP.POP.TOTL,54608,55811,56682,57475,58178,58782,59291,59522,59471,59330,59106,58816,58855,59365,60028,60715,61193,61465,61738,62006,62267,62614,63116,63683,64174,64478,64553,64450,64332,64596,65712,67864,70192,72360,74710,77050,79417,81858,84355,86867,89101,90691,91781,92701,93540,94483,95606,96787,97996,99212,100341,101288,102112,102880,103594,104257,104874,105439,105962,106442,106585,106537,                                                                                                                                                                                                                                            \n",
       "4 Population, total,SP.POP.TOTL,130692579,134169237,137835590,141630546,145605995,149742351,153955516,158313235,162875171,167596160,172475766,177503186,182599092,187901657,193512956,199284304,205202669,211120911,217481420,224315978,230967858,237937461,245386717,252779730,260209149,267938123,276035920,284490394,292795186,301124880,309890664,318544083,326933522,335625136,344418362,353466601,362985802,372352230,381715600,391486231,401600588,412001885,422741118,433807484,445281555,457153837,469508516,482406426,495748900,509410477,523459657,537792950,552530654,567891875,583650827,600008150,616377331,632746296,649756874,667242712,685112705,702976832,\n",
       "5 Population, total,SP.POP.TOTL,8622466,8790140,8969047,9157465,9355514,9565147,9783147,10010030,10247780,10494489,10752971,11015857,11286753,11575305,11869879,12157386,12425267,12687301,12938862,12986369,12486631,11155195,10088289,9951449,10243686,10512221,10448442,10322758,10383460,10673168,10694796,10745167,12057433,14003760,15455555,16418912,17106595,17788819,18493132,19262847,19542982,19688632,21000256,22645130,23553551,24411191,25442944,25903301,26427199,27385307,28189672,29249157,30466479,31541209,32716210,33753499,34636207,35643418,36686784,37769499,38972230,40099462,                                                                      \n",
       "6 Population, total,SP.POP.TOTL,97256290,99314028,101445032,103667517,105959979,108336203,110798486,113319950,115921723,118615741,121424797,124336039,127364044,130563107,133953892,137548613,141258400,145122851,149206663,153459665,157825609,162323313,167023385,171566640,176054495,180817312,185720244,190759952,195969722,201392200,206739024,212172888,217966101,223788766,229675775,235861484,242200260,248713095,255482918,262397030,269611898,277160097,284952322,292977949,301265247,309824829,318601484,327612838,336893835,346475221,356337762,366489204,376797999,387204553,397855507,408690375,419778384,431138704,442646825,454306063,466189102,478185907,  "
      ]
     },
     "metadata": {},
     "output_type": "display_data"
    }
   ],
   "source": [
    "head(wb_pop)"
   ]
  },
  {
   "cell_type": "markdown",
   "metadata": {
    "id": "FWtVZ_w5mgzp"
   },
   "source": [
    "The `problems()` function can be helpful for diagnosing what went wrong:"
   ]
  },
  {
   "cell_type": "code",
   "execution_count": 29,
   "metadata": {
    "colab": {
     "base_uri": "https://localhost:8080/",
     "height": 1000
    },
    "id": "jJ1ShgZRmgzq",
    "outputId": "4c418f7f-5d5b-4b13-bb67-f18141e7587e"
   },
   "outputs": [
    {
     "data": {
      "text/html": [
       "<table class=\"dataframe\">\n",
       "<caption>A tibble: 267 × 5</caption>\n",
       "<thead>\n",
       "\t<tr><th scope=col>row</th><th scope=col>col</th><th scope=col>expected</th><th scope=col>actual</th><th scope=col>file</th></tr>\n",
       "\t<tr><th scope=col>&lt;int&gt;</th><th scope=col>&lt;int&gt;</th><th scope=col>&lt;chr&gt;</th><th scope=col>&lt;chr&gt;</th><th scope=col>&lt;chr&gt;</th></tr>\n",
       "</thead>\n",
       "<tbody>\n",
       "\t<tr><td> 3</td><td>67</td><td>3 columns</td><td>67 columns</td><td>/content/wb_pop.csv</td></tr>\n",
       "\t<tr><td> 4</td><td>67</td><td>3 columns</td><td>67 columns</td><td>/content/wb_pop.csv</td></tr>\n",
       "\t<tr><td> 5</td><td>67</td><td>3 columns</td><td>67 columns</td><td>/content/wb_pop.csv</td></tr>\n",
       "\t<tr><td> 6</td><td>67</td><td>3 columns</td><td>67 columns</td><td>/content/wb_pop.csv</td></tr>\n",
       "\t<tr><td> 7</td><td>67</td><td>3 columns</td><td>67 columns</td><td>/content/wb_pop.csv</td></tr>\n",
       "\t<tr><td> 8</td><td>67</td><td>3 columns</td><td>67 columns</td><td>/content/wb_pop.csv</td></tr>\n",
       "\t<tr><td> 9</td><td>67</td><td>3 columns</td><td>67 columns</td><td>/content/wb_pop.csv</td></tr>\n",
       "\t<tr><td>10</td><td>67</td><td>3 columns</td><td>67 columns</td><td>/content/wb_pop.csv</td></tr>\n",
       "\t<tr><td>11</td><td>67</td><td>3 columns</td><td>67 columns</td><td>/content/wb_pop.csv</td></tr>\n",
       "\t<tr><td>12</td><td>67</td><td>3 columns</td><td>67 columns</td><td>/content/wb_pop.csv</td></tr>\n",
       "\t<tr><td>13</td><td>67</td><td>3 columns</td><td>67 columns</td><td>/content/wb_pop.csv</td></tr>\n",
       "\t<tr><td>14</td><td>67</td><td>3 columns</td><td>67 columns</td><td>/content/wb_pop.csv</td></tr>\n",
       "\t<tr><td>15</td><td>67</td><td>3 columns</td><td>67 columns</td><td>/content/wb_pop.csv</td></tr>\n",
       "\t<tr><td>16</td><td>67</td><td>3 columns</td><td>67 columns</td><td>/content/wb_pop.csv</td></tr>\n",
       "\t<tr><td>17</td><td>67</td><td>3 columns</td><td>67 columns</td><td>/content/wb_pop.csv</td></tr>\n",
       "\t<tr><td>18</td><td>67</td><td>3 columns</td><td>67 columns</td><td>/content/wb_pop.csv</td></tr>\n",
       "\t<tr><td>19</td><td>67</td><td>3 columns</td><td>67 columns</td><td>/content/wb_pop.csv</td></tr>\n",
       "\t<tr><td>20</td><td>67</td><td>3 columns</td><td>67 columns</td><td>/content/wb_pop.csv</td></tr>\n",
       "\t<tr><td>21</td><td>67</td><td>3 columns</td><td>67 columns</td><td>/content/wb_pop.csv</td></tr>\n",
       "\t<tr><td>22</td><td>67</td><td>3 columns</td><td>67 columns</td><td>/content/wb_pop.csv</td></tr>\n",
       "\t<tr><td>23</td><td>67</td><td>3 columns</td><td>67 columns</td><td>/content/wb_pop.csv</td></tr>\n",
       "\t<tr><td>24</td><td>67</td><td>3 columns</td><td>67 columns</td><td>/content/wb_pop.csv</td></tr>\n",
       "\t<tr><td>25</td><td>67</td><td>3 columns</td><td>67 columns</td><td>/content/wb_pop.csv</td></tr>\n",
       "\t<tr><td>26</td><td>67</td><td>3 columns</td><td>67 columns</td><td>/content/wb_pop.csv</td></tr>\n",
       "\t<tr><td>27</td><td>67</td><td>3 columns</td><td>67 columns</td><td>/content/wb_pop.csv</td></tr>\n",
       "\t<tr><td>28</td><td>67</td><td>3 columns</td><td>67 columns</td><td>/content/wb_pop.csv</td></tr>\n",
       "\t<tr><td>29</td><td>67</td><td>3 columns</td><td>67 columns</td><td>/content/wb_pop.csv</td></tr>\n",
       "\t<tr><td>30</td><td>67</td><td>3 columns</td><td>67 columns</td><td>/content/wb_pop.csv</td></tr>\n",
       "\t<tr><td>31</td><td>67</td><td>3 columns</td><td>67 columns</td><td>/content/wb_pop.csv</td></tr>\n",
       "\t<tr><td>32</td><td>67</td><td>3 columns</td><td>67 columns</td><td>/content/wb_pop.csv</td></tr>\n",
       "\t<tr><td>⋮</td><td>⋮</td><td>⋮</td><td>⋮</td><td>⋮</td></tr>\n",
       "\t<tr><td>240</td><td>67</td><td>3 columns</td><td>67 columns</td><td>/content/wb_pop.csv</td></tr>\n",
       "\t<tr><td>241</td><td>67</td><td>3 columns</td><td>67 columns</td><td>/content/wb_pop.csv</td></tr>\n",
       "\t<tr><td>242</td><td>67</td><td>3 columns</td><td>67 columns</td><td>/content/wb_pop.csv</td></tr>\n",
       "\t<tr><td>243</td><td>67</td><td>3 columns</td><td>67 columns</td><td>/content/wb_pop.csv</td></tr>\n",
       "\t<tr><td>244</td><td>67</td><td>3 columns</td><td>67 columns</td><td>/content/wb_pop.csv</td></tr>\n",
       "\t<tr><td>245</td><td>67</td><td>3 columns</td><td>67 columns</td><td>/content/wb_pop.csv</td></tr>\n",
       "\t<tr><td>246</td><td>67</td><td>3 columns</td><td>67 columns</td><td>/content/wb_pop.csv</td></tr>\n",
       "\t<tr><td>247</td><td>67</td><td>3 columns</td><td>67 columns</td><td>/content/wb_pop.csv</td></tr>\n",
       "\t<tr><td>248</td><td>67</td><td>3 columns</td><td>67 columns</td><td>/content/wb_pop.csv</td></tr>\n",
       "\t<tr><td>249</td><td>67</td><td>3 columns</td><td>67 columns</td><td>/content/wb_pop.csv</td></tr>\n",
       "\t<tr><td>250</td><td>67</td><td>3 columns</td><td>67 columns</td><td>/content/wb_pop.csv</td></tr>\n",
       "\t<tr><td>251</td><td>67</td><td>3 columns</td><td>67 columns</td><td>/content/wb_pop.csv</td></tr>\n",
       "\t<tr><td>252</td><td>67</td><td>3 columns</td><td>67 columns</td><td>/content/wb_pop.csv</td></tr>\n",
       "\t<tr><td>253</td><td>67</td><td>3 columns</td><td>67 columns</td><td>/content/wb_pop.csv</td></tr>\n",
       "\t<tr><td>254</td><td>67</td><td>3 columns</td><td>67 columns</td><td>/content/wb_pop.csv</td></tr>\n",
       "\t<tr><td>255</td><td>67</td><td>3 columns</td><td>67 columns</td><td>/content/wb_pop.csv</td></tr>\n",
       "\t<tr><td>256</td><td>67</td><td>3 columns</td><td>67 columns</td><td>/content/wb_pop.csv</td></tr>\n",
       "\t<tr><td>257</td><td>67</td><td>3 columns</td><td>67 columns</td><td>/content/wb_pop.csv</td></tr>\n",
       "\t<tr><td>258</td><td>67</td><td>3 columns</td><td>67 columns</td><td>/content/wb_pop.csv</td></tr>\n",
       "\t<tr><td>259</td><td>67</td><td>3 columns</td><td>67 columns</td><td>/content/wb_pop.csv</td></tr>\n",
       "\t<tr><td>260</td><td>67</td><td>3 columns</td><td>67 columns</td><td>/content/wb_pop.csv</td></tr>\n",
       "\t<tr><td>261</td><td>67</td><td>3 columns</td><td>67 columns</td><td>/content/wb_pop.csv</td></tr>\n",
       "\t<tr><td>262</td><td>67</td><td>3 columns</td><td>67 columns</td><td>/content/wb_pop.csv</td></tr>\n",
       "\t<tr><td>263</td><td>67</td><td>3 columns</td><td>67 columns</td><td>/content/wb_pop.csv</td></tr>\n",
       "\t<tr><td>264</td><td>67</td><td>3 columns</td><td>67 columns</td><td>/content/wb_pop.csv</td></tr>\n",
       "\t<tr><td>265</td><td>67</td><td>3 columns</td><td>67 columns</td><td>/content/wb_pop.csv</td></tr>\n",
       "\t<tr><td>266</td><td>67</td><td>3 columns</td><td>67 columns</td><td>/content/wb_pop.csv</td></tr>\n",
       "\t<tr><td>267</td><td>67</td><td>3 columns</td><td>67 columns</td><td>/content/wb_pop.csv</td></tr>\n",
       "\t<tr><td>268</td><td>67</td><td>3 columns</td><td>67 columns</td><td>/content/wb_pop.csv</td></tr>\n",
       "\t<tr><td>269</td><td>67</td><td>3 columns</td><td>67 columns</td><td>/content/wb_pop.csv</td></tr>\n",
       "</tbody>\n",
       "</table>\n"
      ],
      "text/latex": [
       "A tibble: 267 × 5\n",
       "\\begin{tabular}{lllll}\n",
       " row & col & expected & actual & file\\\\\n",
       " <int> & <int> & <chr> & <chr> & <chr>\\\\\n",
       "\\hline\n",
       "\t  3 & 67 & 3 columns & 67 columns & /content/wb\\_pop.csv\\\\\n",
       "\t  4 & 67 & 3 columns & 67 columns & /content/wb\\_pop.csv\\\\\n",
       "\t  5 & 67 & 3 columns & 67 columns & /content/wb\\_pop.csv\\\\\n",
       "\t  6 & 67 & 3 columns & 67 columns & /content/wb\\_pop.csv\\\\\n",
       "\t  7 & 67 & 3 columns & 67 columns & /content/wb\\_pop.csv\\\\\n",
       "\t  8 & 67 & 3 columns & 67 columns & /content/wb\\_pop.csv\\\\\n",
       "\t  9 & 67 & 3 columns & 67 columns & /content/wb\\_pop.csv\\\\\n",
       "\t 10 & 67 & 3 columns & 67 columns & /content/wb\\_pop.csv\\\\\n",
       "\t 11 & 67 & 3 columns & 67 columns & /content/wb\\_pop.csv\\\\\n",
       "\t 12 & 67 & 3 columns & 67 columns & /content/wb\\_pop.csv\\\\\n",
       "\t 13 & 67 & 3 columns & 67 columns & /content/wb\\_pop.csv\\\\\n",
       "\t 14 & 67 & 3 columns & 67 columns & /content/wb\\_pop.csv\\\\\n",
       "\t 15 & 67 & 3 columns & 67 columns & /content/wb\\_pop.csv\\\\\n",
       "\t 16 & 67 & 3 columns & 67 columns & /content/wb\\_pop.csv\\\\\n",
       "\t 17 & 67 & 3 columns & 67 columns & /content/wb\\_pop.csv\\\\\n",
       "\t 18 & 67 & 3 columns & 67 columns & /content/wb\\_pop.csv\\\\\n",
       "\t 19 & 67 & 3 columns & 67 columns & /content/wb\\_pop.csv\\\\\n",
       "\t 20 & 67 & 3 columns & 67 columns & /content/wb\\_pop.csv\\\\\n",
       "\t 21 & 67 & 3 columns & 67 columns & /content/wb\\_pop.csv\\\\\n",
       "\t 22 & 67 & 3 columns & 67 columns & /content/wb\\_pop.csv\\\\\n",
       "\t 23 & 67 & 3 columns & 67 columns & /content/wb\\_pop.csv\\\\\n",
       "\t 24 & 67 & 3 columns & 67 columns & /content/wb\\_pop.csv\\\\\n",
       "\t 25 & 67 & 3 columns & 67 columns & /content/wb\\_pop.csv\\\\\n",
       "\t 26 & 67 & 3 columns & 67 columns & /content/wb\\_pop.csv\\\\\n",
       "\t 27 & 67 & 3 columns & 67 columns & /content/wb\\_pop.csv\\\\\n",
       "\t 28 & 67 & 3 columns & 67 columns & /content/wb\\_pop.csv\\\\\n",
       "\t 29 & 67 & 3 columns & 67 columns & /content/wb\\_pop.csv\\\\\n",
       "\t 30 & 67 & 3 columns & 67 columns & /content/wb\\_pop.csv\\\\\n",
       "\t 31 & 67 & 3 columns & 67 columns & /content/wb\\_pop.csv\\\\\n",
       "\t 32 & 67 & 3 columns & 67 columns & /content/wb\\_pop.csv\\\\\n",
       "\t ⋮ & ⋮ & ⋮ & ⋮ & ⋮\\\\\n",
       "\t 240 & 67 & 3 columns & 67 columns & /content/wb\\_pop.csv\\\\\n",
       "\t 241 & 67 & 3 columns & 67 columns & /content/wb\\_pop.csv\\\\\n",
       "\t 242 & 67 & 3 columns & 67 columns & /content/wb\\_pop.csv\\\\\n",
       "\t 243 & 67 & 3 columns & 67 columns & /content/wb\\_pop.csv\\\\\n",
       "\t 244 & 67 & 3 columns & 67 columns & /content/wb\\_pop.csv\\\\\n",
       "\t 245 & 67 & 3 columns & 67 columns & /content/wb\\_pop.csv\\\\\n",
       "\t 246 & 67 & 3 columns & 67 columns & /content/wb\\_pop.csv\\\\\n",
       "\t 247 & 67 & 3 columns & 67 columns & /content/wb\\_pop.csv\\\\\n",
       "\t 248 & 67 & 3 columns & 67 columns & /content/wb\\_pop.csv\\\\\n",
       "\t 249 & 67 & 3 columns & 67 columns & /content/wb\\_pop.csv\\\\\n",
       "\t 250 & 67 & 3 columns & 67 columns & /content/wb\\_pop.csv\\\\\n",
       "\t 251 & 67 & 3 columns & 67 columns & /content/wb\\_pop.csv\\\\\n",
       "\t 252 & 67 & 3 columns & 67 columns & /content/wb\\_pop.csv\\\\\n",
       "\t 253 & 67 & 3 columns & 67 columns & /content/wb\\_pop.csv\\\\\n",
       "\t 254 & 67 & 3 columns & 67 columns & /content/wb\\_pop.csv\\\\\n",
       "\t 255 & 67 & 3 columns & 67 columns & /content/wb\\_pop.csv\\\\\n",
       "\t 256 & 67 & 3 columns & 67 columns & /content/wb\\_pop.csv\\\\\n",
       "\t 257 & 67 & 3 columns & 67 columns & /content/wb\\_pop.csv\\\\\n",
       "\t 258 & 67 & 3 columns & 67 columns & /content/wb\\_pop.csv\\\\\n",
       "\t 259 & 67 & 3 columns & 67 columns & /content/wb\\_pop.csv\\\\\n",
       "\t 260 & 67 & 3 columns & 67 columns & /content/wb\\_pop.csv\\\\\n",
       "\t 261 & 67 & 3 columns & 67 columns & /content/wb\\_pop.csv\\\\\n",
       "\t 262 & 67 & 3 columns & 67 columns & /content/wb\\_pop.csv\\\\\n",
       "\t 263 & 67 & 3 columns & 67 columns & /content/wb\\_pop.csv\\\\\n",
       "\t 264 & 67 & 3 columns & 67 columns & /content/wb\\_pop.csv\\\\\n",
       "\t 265 & 67 & 3 columns & 67 columns & /content/wb\\_pop.csv\\\\\n",
       "\t 266 & 67 & 3 columns & 67 columns & /content/wb\\_pop.csv\\\\\n",
       "\t 267 & 67 & 3 columns & 67 columns & /content/wb\\_pop.csv\\\\\n",
       "\t 268 & 67 & 3 columns & 67 columns & /content/wb\\_pop.csv\\\\\n",
       "\t 269 & 67 & 3 columns & 67 columns & /content/wb\\_pop.csv\\\\\n",
       "\\end{tabular}\n"
      ],
      "text/markdown": [
       "\n",
       "A tibble: 267 × 5\n",
       "\n",
       "| row &lt;int&gt; | col &lt;int&gt; | expected &lt;chr&gt; | actual &lt;chr&gt; | file &lt;chr&gt; |\n",
       "|---|---|---|---|---|\n",
       "|  3 | 67 | 3 columns | 67 columns | /content/wb_pop.csv |\n",
       "|  4 | 67 | 3 columns | 67 columns | /content/wb_pop.csv |\n",
       "|  5 | 67 | 3 columns | 67 columns | /content/wb_pop.csv |\n",
       "|  6 | 67 | 3 columns | 67 columns | /content/wb_pop.csv |\n",
       "|  7 | 67 | 3 columns | 67 columns | /content/wb_pop.csv |\n",
       "|  8 | 67 | 3 columns | 67 columns | /content/wb_pop.csv |\n",
       "|  9 | 67 | 3 columns | 67 columns | /content/wb_pop.csv |\n",
       "| 10 | 67 | 3 columns | 67 columns | /content/wb_pop.csv |\n",
       "| 11 | 67 | 3 columns | 67 columns | /content/wb_pop.csv |\n",
       "| 12 | 67 | 3 columns | 67 columns | /content/wb_pop.csv |\n",
       "| 13 | 67 | 3 columns | 67 columns | /content/wb_pop.csv |\n",
       "| 14 | 67 | 3 columns | 67 columns | /content/wb_pop.csv |\n",
       "| 15 | 67 | 3 columns | 67 columns | /content/wb_pop.csv |\n",
       "| 16 | 67 | 3 columns | 67 columns | /content/wb_pop.csv |\n",
       "| 17 | 67 | 3 columns | 67 columns | /content/wb_pop.csv |\n",
       "| 18 | 67 | 3 columns | 67 columns | /content/wb_pop.csv |\n",
       "| 19 | 67 | 3 columns | 67 columns | /content/wb_pop.csv |\n",
       "| 20 | 67 | 3 columns | 67 columns | /content/wb_pop.csv |\n",
       "| 21 | 67 | 3 columns | 67 columns | /content/wb_pop.csv |\n",
       "| 22 | 67 | 3 columns | 67 columns | /content/wb_pop.csv |\n",
       "| 23 | 67 | 3 columns | 67 columns | /content/wb_pop.csv |\n",
       "| 24 | 67 | 3 columns | 67 columns | /content/wb_pop.csv |\n",
       "| 25 | 67 | 3 columns | 67 columns | /content/wb_pop.csv |\n",
       "| 26 | 67 | 3 columns | 67 columns | /content/wb_pop.csv |\n",
       "| 27 | 67 | 3 columns | 67 columns | /content/wb_pop.csv |\n",
       "| 28 | 67 | 3 columns | 67 columns | /content/wb_pop.csv |\n",
       "| 29 | 67 | 3 columns | 67 columns | /content/wb_pop.csv |\n",
       "| 30 | 67 | 3 columns | 67 columns | /content/wb_pop.csv |\n",
       "| 31 | 67 | 3 columns | 67 columns | /content/wb_pop.csv |\n",
       "| 32 | 67 | 3 columns | 67 columns | /content/wb_pop.csv |\n",
       "| ⋮ | ⋮ | ⋮ | ⋮ | ⋮ |\n",
       "| 240 | 67 | 3 columns | 67 columns | /content/wb_pop.csv |\n",
       "| 241 | 67 | 3 columns | 67 columns | /content/wb_pop.csv |\n",
       "| 242 | 67 | 3 columns | 67 columns | /content/wb_pop.csv |\n",
       "| 243 | 67 | 3 columns | 67 columns | /content/wb_pop.csv |\n",
       "| 244 | 67 | 3 columns | 67 columns | /content/wb_pop.csv |\n",
       "| 245 | 67 | 3 columns | 67 columns | /content/wb_pop.csv |\n",
       "| 246 | 67 | 3 columns | 67 columns | /content/wb_pop.csv |\n",
       "| 247 | 67 | 3 columns | 67 columns | /content/wb_pop.csv |\n",
       "| 248 | 67 | 3 columns | 67 columns | /content/wb_pop.csv |\n",
       "| 249 | 67 | 3 columns | 67 columns | /content/wb_pop.csv |\n",
       "| 250 | 67 | 3 columns | 67 columns | /content/wb_pop.csv |\n",
       "| 251 | 67 | 3 columns | 67 columns | /content/wb_pop.csv |\n",
       "| 252 | 67 | 3 columns | 67 columns | /content/wb_pop.csv |\n",
       "| 253 | 67 | 3 columns | 67 columns | /content/wb_pop.csv |\n",
       "| 254 | 67 | 3 columns | 67 columns | /content/wb_pop.csv |\n",
       "| 255 | 67 | 3 columns | 67 columns | /content/wb_pop.csv |\n",
       "| 256 | 67 | 3 columns | 67 columns | /content/wb_pop.csv |\n",
       "| 257 | 67 | 3 columns | 67 columns | /content/wb_pop.csv |\n",
       "| 258 | 67 | 3 columns | 67 columns | /content/wb_pop.csv |\n",
       "| 259 | 67 | 3 columns | 67 columns | /content/wb_pop.csv |\n",
       "| 260 | 67 | 3 columns | 67 columns | /content/wb_pop.csv |\n",
       "| 261 | 67 | 3 columns | 67 columns | /content/wb_pop.csv |\n",
       "| 262 | 67 | 3 columns | 67 columns | /content/wb_pop.csv |\n",
       "| 263 | 67 | 3 columns | 67 columns | /content/wb_pop.csv |\n",
       "| 264 | 67 | 3 columns | 67 columns | /content/wb_pop.csv |\n",
       "| 265 | 67 | 3 columns | 67 columns | /content/wb_pop.csv |\n",
       "| 266 | 67 | 3 columns | 67 columns | /content/wb_pop.csv |\n",
       "| 267 | 67 | 3 columns | 67 columns | /content/wb_pop.csv |\n",
       "| 268 | 67 | 3 columns | 67 columns | /content/wb_pop.csv |\n",
       "| 269 | 67 | 3 columns | 67 columns | /content/wb_pop.csv |\n",
       "\n"
      ],
      "text/plain": [
       "    row col expected  actual     file               \n",
       "1    3  67  3 columns 67 columns /content/wb_pop.csv\n",
       "2    4  67  3 columns 67 columns /content/wb_pop.csv\n",
       "3    5  67  3 columns 67 columns /content/wb_pop.csv\n",
       "4    6  67  3 columns 67 columns /content/wb_pop.csv\n",
       "5    7  67  3 columns 67 columns /content/wb_pop.csv\n",
       "6    8  67  3 columns 67 columns /content/wb_pop.csv\n",
       "7    9  67  3 columns 67 columns /content/wb_pop.csv\n",
       "8   10  67  3 columns 67 columns /content/wb_pop.csv\n",
       "9   11  67  3 columns 67 columns /content/wb_pop.csv\n",
       "10  12  67  3 columns 67 columns /content/wb_pop.csv\n",
       "11  13  67  3 columns 67 columns /content/wb_pop.csv\n",
       "12  14  67  3 columns 67 columns /content/wb_pop.csv\n",
       "13  15  67  3 columns 67 columns /content/wb_pop.csv\n",
       "14  16  67  3 columns 67 columns /content/wb_pop.csv\n",
       "15  17  67  3 columns 67 columns /content/wb_pop.csv\n",
       "16  18  67  3 columns 67 columns /content/wb_pop.csv\n",
       "17  19  67  3 columns 67 columns /content/wb_pop.csv\n",
       "18  20  67  3 columns 67 columns /content/wb_pop.csv\n",
       "19  21  67  3 columns 67 columns /content/wb_pop.csv\n",
       "20  22  67  3 columns 67 columns /content/wb_pop.csv\n",
       "21  23  67  3 columns 67 columns /content/wb_pop.csv\n",
       "22  24  67  3 columns 67 columns /content/wb_pop.csv\n",
       "23  25  67  3 columns 67 columns /content/wb_pop.csv\n",
       "24  26  67  3 columns 67 columns /content/wb_pop.csv\n",
       "25  27  67  3 columns 67 columns /content/wb_pop.csv\n",
       "26  28  67  3 columns 67 columns /content/wb_pop.csv\n",
       "27  29  67  3 columns 67 columns /content/wb_pop.csv\n",
       "28  30  67  3 columns 67 columns /content/wb_pop.csv\n",
       "29  31  67  3 columns 67 columns /content/wb_pop.csv\n",
       "30  32  67  3 columns 67 columns /content/wb_pop.csv\n",
       "⋮   ⋮   ⋮   ⋮         ⋮          ⋮                  \n",
       "238 240 67  3 columns 67 columns /content/wb_pop.csv\n",
       "239 241 67  3 columns 67 columns /content/wb_pop.csv\n",
       "240 242 67  3 columns 67 columns /content/wb_pop.csv\n",
       "241 243 67  3 columns 67 columns /content/wb_pop.csv\n",
       "242 244 67  3 columns 67 columns /content/wb_pop.csv\n",
       "243 245 67  3 columns 67 columns /content/wb_pop.csv\n",
       "244 246 67  3 columns 67 columns /content/wb_pop.csv\n",
       "245 247 67  3 columns 67 columns /content/wb_pop.csv\n",
       "246 248 67  3 columns 67 columns /content/wb_pop.csv\n",
       "247 249 67  3 columns 67 columns /content/wb_pop.csv\n",
       "248 250 67  3 columns 67 columns /content/wb_pop.csv\n",
       "249 251 67  3 columns 67 columns /content/wb_pop.csv\n",
       "250 252 67  3 columns 67 columns /content/wb_pop.csv\n",
       "251 253 67  3 columns 67 columns /content/wb_pop.csv\n",
       "252 254 67  3 columns 67 columns /content/wb_pop.csv\n",
       "253 255 67  3 columns 67 columns /content/wb_pop.csv\n",
       "254 256 67  3 columns 67 columns /content/wb_pop.csv\n",
       "255 257 67  3 columns 67 columns /content/wb_pop.csv\n",
       "256 258 67  3 columns 67 columns /content/wb_pop.csv\n",
       "257 259 67  3 columns 67 columns /content/wb_pop.csv\n",
       "258 260 67  3 columns 67 columns /content/wb_pop.csv\n",
       "259 261 67  3 columns 67 columns /content/wb_pop.csv\n",
       "260 262 67  3 columns 67 columns /content/wb_pop.csv\n",
       "261 263 67  3 columns 67 columns /content/wb_pop.csv\n",
       "262 264 67  3 columns 67 columns /content/wb_pop.csv\n",
       "263 265 67  3 columns 67 columns /content/wb_pop.csv\n",
       "264 266 67  3 columns 67 columns /content/wb_pop.csv\n",
       "265 267 67  3 columns 67 columns /content/wb_pop.csv\n",
       "266 268 67  3 columns 67 columns /content/wb_pop.csv\n",
       "267 269 67  3 columns 67 columns /content/wb_pop.csv"
      ]
     },
     "metadata": {},
     "output_type": "display_data"
    }
   ],
   "source": [
    "# problems loading wb_pop\n",
    "problems(wb_pop)"
   ]
  },
  {
   "cell_type": "markdown",
   "metadata": {
    "id": "T6cIqAA1mgzq"
   },
   "source": [
    "Let's try examining the [raw CSV file](wb_pop.csv):"
   ]
  },
  {
   "cell_type": "markdown",
   "metadata": {
    "id": "YILMEPjImgzq"
   },
   "source": [
    "We can see that the first three lines of the file contain metadata about the source of the data. We need to tell R to skip those so that the first row it considers contains the column names:"
   ]
  },
  {
   "cell_type": "code",
   "execution_count": 36,
   "metadata": {
    "colab": {
     "base_uri": "https://localhost:8080/"
    },
    "id": "BObOtRhGmgzq",
    "outputId": "6db017f3-0920-4084-a6b5-e352fb870a80"
   },
   "outputs": [
    {
     "name": "stderr",
     "output_type": "stream",
     "text": [
      "\u001b[1m\u001b[22mNew names:\n",
      "\u001b[36m•\u001b[39m `` -> `...67`\n",
      "\u001b[1mRows: \u001b[22m\u001b[34m266\u001b[39m \u001b[1mColumns: \u001b[22m\u001b[34m67\u001b[39m\n",
      "\u001b[36m──\u001b[39m \u001b[1mColumn specification\u001b[22m \u001b[36m────────────────────────────────────────────────────────\u001b[39m\n",
      "\u001b[1mDelimiter:\u001b[22m \",\"\n",
      "\u001b[31mchr\u001b[39m  (4): Country Name, Country Code, Indicator Name, Indicator Code\n",
      "\u001b[32mdbl\u001b[39m (62): 1960, 1961, 1962, 1963, 1964, 1965, 1966, 1967, 1968, 1969, 1970, ...\n",
      "\u001b[33mlgl\u001b[39m  (1): ...67\n",
      "\n",
      "\u001b[36mℹ\u001b[39m Use `spec()` to retrieve the full column specification for this data.\n",
      "\u001b[36mℹ\u001b[39m Specify the column types or set `show_col_types = FALSE` to quiet this message.\n"
     ]
    }
   ],
   "source": [
    "# read in the csv, skip first rows\n",
    "wb.pop <- read_csv(\"wb_pop.csv\", skip=3)"
   ]
  },
  {
   "cell_type": "code",
   "execution_count": 33,
   "metadata": {
    "colab": {
     "base_uri": "https://localhost:8080/",
     "height": 480
    },
    "id": "DIrsttd6IH78",
    "outputId": "978e3b8c-3a0b-4c2e-dff7-37ac5b585e34"
   },
   "outputs": [
    {
     "data": {
      "text/html": [
       "<table class=\"dataframe\">\n",
       "<caption>A tibble: 6 × 67</caption>\n",
       "<thead>\n",
       "\t<tr><th scope=col>Country Name</th><th scope=col>Country Code</th><th scope=col>Indicator Name</th><th scope=col>Indicator Code</th><th scope=col>1960</th><th scope=col>1961</th><th scope=col>1962</th><th scope=col>1963</th><th scope=col>1964</th><th scope=col>1965</th><th scope=col>⋯</th><th scope=col>2013</th><th scope=col>2014</th><th scope=col>2015</th><th scope=col>2016</th><th scope=col>2017</th><th scope=col>2018</th><th scope=col>2019</th><th scope=col>2020</th><th scope=col>2021</th><th scope=col>...67</th></tr>\n",
       "\t<tr><th scope=col>&lt;chr&gt;</th><th scope=col>&lt;chr&gt;</th><th scope=col>&lt;chr&gt;</th><th scope=col>&lt;chr&gt;</th><th scope=col>&lt;dbl&gt;</th><th scope=col>&lt;dbl&gt;</th><th scope=col>&lt;dbl&gt;</th><th scope=col>&lt;dbl&gt;</th><th scope=col>&lt;dbl&gt;</th><th scope=col>&lt;dbl&gt;</th><th scope=col>⋯</th><th scope=col>&lt;dbl&gt;</th><th scope=col>&lt;dbl&gt;</th><th scope=col>&lt;dbl&gt;</th><th scope=col>&lt;dbl&gt;</th><th scope=col>&lt;dbl&gt;</th><th scope=col>&lt;dbl&gt;</th><th scope=col>&lt;dbl&gt;</th><th scope=col>&lt;dbl&gt;</th><th scope=col>&lt;dbl&gt;</th><th scope=col>&lt;lgl&gt;</th></tr>\n",
       "</thead>\n",
       "<tbody>\n",
       "\t<tr><td>Aruba                      </td><td>ABW</td><td>Population, total</td><td>SP.POP.TOTL</td><td>    54608</td><td>    55811</td><td>    56682</td><td>    57475</td><td>    58178</td><td>    58782</td><td>⋯</td><td>   102880</td><td>   103594</td><td>   104257</td><td>   104874</td><td>   105439</td><td>   105962</td><td>   106442</td><td>   106585</td><td>   106537</td><td>NA</td></tr>\n",
       "\t<tr><td>Africa Eastern and Southern</td><td>AFE</td><td>Population, total</td><td>SP.POP.TOTL</td><td>130692579</td><td>134169237</td><td>137835590</td><td>141630546</td><td>145605995</td><td>149742351</td><td>⋯</td><td>567891875</td><td>583650827</td><td>600008150</td><td>616377331</td><td>632746296</td><td>649756874</td><td>667242712</td><td>685112705</td><td>702976832</td><td>NA</td></tr>\n",
       "\t<tr><td>Afghanistan                </td><td>AFG</td><td>Population, total</td><td>SP.POP.TOTL</td><td>  8622466</td><td>  8790140</td><td>  8969047</td><td>  9157465</td><td>  9355514</td><td>  9565147</td><td>⋯</td><td> 31541209</td><td> 32716210</td><td> 33753499</td><td> 34636207</td><td> 35643418</td><td> 36686784</td><td> 37769499</td><td> 38972230</td><td> 40099462</td><td>NA</td></tr>\n",
       "\t<tr><td>Africa Western and Central </td><td>AFW</td><td>Population, total</td><td>SP.POP.TOTL</td><td> 97256290</td><td> 99314028</td><td>101445032</td><td>103667517</td><td>105959979</td><td>108336203</td><td>⋯</td><td>387204553</td><td>397855507</td><td>408690375</td><td>419778384</td><td>431138704</td><td>442646825</td><td>454306063</td><td>466189102</td><td>478185907</td><td>NA</td></tr>\n",
       "\t<tr><td>Angola                     </td><td>AGO</td><td>Population, total</td><td>SP.POP.TOTL</td><td>  5357195</td><td>  5441333</td><td>  5521400</td><td>  5599827</td><td>  5673199</td><td>  5736582</td><td>⋯</td><td> 26147002</td><td> 27128337</td><td> 28127721</td><td> 29154746</td><td> 30208628</td><td> 31273533</td><td> 32353588</td><td> 33428486</td><td> 34503774</td><td>NA</td></tr>\n",
       "\t<tr><td>Albania                    </td><td>ALB</td><td>Population, total</td><td>SP.POP.TOTL</td><td>  1608800</td><td>  1659800</td><td>  1711319</td><td>  1762621</td><td>  1814135</td><td>  1864791</td><td>⋯</td><td>  2895092</td><td>  2889104</td><td>  2880703</td><td>  2876101</td><td>  2873457</td><td>  2866376</td><td>  2854191</td><td>  2837849</td><td>  2811666</td><td>NA</td></tr>\n",
       "</tbody>\n",
       "</table>\n"
      ],
      "text/latex": [
       "A tibble: 6 × 67\n",
       "\\begin{tabular}{lllllllllllllllllllll}\n",
       " Country Name & Country Code & Indicator Name & Indicator Code & 1960 & 1961 & 1962 & 1963 & 1964 & 1965 & ⋯ & 2013 & 2014 & 2015 & 2016 & 2017 & 2018 & 2019 & 2020 & 2021 & ...67\\\\\n",
       " <chr> & <chr> & <chr> & <chr> & <dbl> & <dbl> & <dbl> & <dbl> & <dbl> & <dbl> & ⋯ & <dbl> & <dbl> & <dbl> & <dbl> & <dbl> & <dbl> & <dbl> & <dbl> & <dbl> & <lgl>\\\\\n",
       "\\hline\n",
       "\t Aruba                       & ABW & Population, total & SP.POP.TOTL &     54608 &     55811 &     56682 &     57475 &     58178 &     58782 & ⋯ &    102880 &    103594 &    104257 &    104874 &    105439 &    105962 &    106442 &    106585 &    106537 & NA\\\\\n",
       "\t Africa Eastern and Southern & AFE & Population, total & SP.POP.TOTL & 130692579 & 134169237 & 137835590 & 141630546 & 145605995 & 149742351 & ⋯ & 567891875 & 583650827 & 600008150 & 616377331 & 632746296 & 649756874 & 667242712 & 685112705 & 702976832 & NA\\\\\n",
       "\t Afghanistan                 & AFG & Population, total & SP.POP.TOTL &   8622466 &   8790140 &   8969047 &   9157465 &   9355514 &   9565147 & ⋯ &  31541209 &  32716210 &  33753499 &  34636207 &  35643418 &  36686784 &  37769499 &  38972230 &  40099462 & NA\\\\\n",
       "\t Africa Western and Central  & AFW & Population, total & SP.POP.TOTL &  97256290 &  99314028 & 101445032 & 103667517 & 105959979 & 108336203 & ⋯ & 387204553 & 397855507 & 408690375 & 419778384 & 431138704 & 442646825 & 454306063 & 466189102 & 478185907 & NA\\\\\n",
       "\t Angola                      & AGO & Population, total & SP.POP.TOTL &   5357195 &   5441333 &   5521400 &   5599827 &   5673199 &   5736582 & ⋯ &  26147002 &  27128337 &  28127721 &  29154746 &  30208628 &  31273533 &  32353588 &  33428486 &  34503774 & NA\\\\\n",
       "\t Albania                     & ALB & Population, total & SP.POP.TOTL &   1608800 &   1659800 &   1711319 &   1762621 &   1814135 &   1864791 & ⋯ &   2895092 &   2889104 &   2880703 &   2876101 &   2873457 &   2866376 &   2854191 &   2837849 &   2811666 & NA\\\\\n",
       "\\end{tabular}\n"
      ],
      "text/markdown": [
       "\n",
       "A tibble: 6 × 67\n",
       "\n",
       "| Country Name &lt;chr&gt; | Country Code &lt;chr&gt; | Indicator Name &lt;chr&gt; | Indicator Code &lt;chr&gt; | 1960 &lt;dbl&gt; | 1961 &lt;dbl&gt; | 1962 &lt;dbl&gt; | 1963 &lt;dbl&gt; | 1964 &lt;dbl&gt; | 1965 &lt;dbl&gt; | ⋯ ⋯ | 2013 &lt;dbl&gt; | 2014 &lt;dbl&gt; | 2015 &lt;dbl&gt; | 2016 &lt;dbl&gt; | 2017 &lt;dbl&gt; | 2018 &lt;dbl&gt; | 2019 &lt;dbl&gt; | 2020 &lt;dbl&gt; | 2021 &lt;dbl&gt; | ...67 &lt;lgl&gt; |\n",
       "|---|---|---|---|---|---|---|---|---|---|---|---|---|---|---|---|---|---|---|---|---|\n",
       "| Aruba                       | ABW | Population, total | SP.POP.TOTL |     54608 |     55811 |     56682 |     57475 |     58178 |     58782 | ⋯ |    102880 |    103594 |    104257 |    104874 |    105439 |    105962 |    106442 |    106585 |    106537 | NA |\n",
       "| Africa Eastern and Southern | AFE | Population, total | SP.POP.TOTL | 130692579 | 134169237 | 137835590 | 141630546 | 145605995 | 149742351 | ⋯ | 567891875 | 583650827 | 600008150 | 616377331 | 632746296 | 649756874 | 667242712 | 685112705 | 702976832 | NA |\n",
       "| Afghanistan                 | AFG | Population, total | SP.POP.TOTL |   8622466 |   8790140 |   8969047 |   9157465 |   9355514 |   9565147 | ⋯ |  31541209 |  32716210 |  33753499 |  34636207 |  35643418 |  36686784 |  37769499 |  38972230 |  40099462 | NA |\n",
       "| Africa Western and Central  | AFW | Population, total | SP.POP.TOTL |  97256290 |  99314028 | 101445032 | 103667517 | 105959979 | 108336203 | ⋯ | 387204553 | 397855507 | 408690375 | 419778384 | 431138704 | 442646825 | 454306063 | 466189102 | 478185907 | NA |\n",
       "| Angola                      | AGO | Population, total | SP.POP.TOTL |   5357195 |   5441333 |   5521400 |   5599827 |   5673199 |   5736582 | ⋯ |  26147002 |  27128337 |  28127721 |  29154746 |  30208628 |  31273533 |  32353588 |  33428486 |  34503774 | NA |\n",
       "| Albania                     | ALB | Population, total | SP.POP.TOTL |   1608800 |   1659800 |   1711319 |   1762621 |   1814135 |   1864791 | ⋯ |   2895092 |   2889104 |   2880703 |   2876101 |   2873457 |   2866376 |   2854191 |   2837849 |   2811666 | NA |\n",
       "\n"
      ],
      "text/plain": [
       "  Country Name                Country Code Indicator Name    Indicator Code\n",
       "1 Aruba                       ABW          Population, total SP.POP.TOTL   \n",
       "2 Africa Eastern and Southern AFE          Population, total SP.POP.TOTL   \n",
       "3 Afghanistan                 AFG          Population, total SP.POP.TOTL   \n",
       "4 Africa Western and Central  AFW          Population, total SP.POP.TOTL   \n",
       "5 Angola                      AGO          Population, total SP.POP.TOTL   \n",
       "6 Albania                     ALB          Population, total SP.POP.TOTL   \n",
       "  1960      1961      1962      1963      1964      1965      ⋯ 2013     \n",
       "1     54608     55811     56682     57475     58178     58782 ⋯    102880\n",
       "2 130692579 134169237 137835590 141630546 145605995 149742351 ⋯ 567891875\n",
       "3   8622466   8790140   8969047   9157465   9355514   9565147 ⋯  31541209\n",
       "4  97256290  99314028 101445032 103667517 105959979 108336203 ⋯ 387204553\n",
       "5   5357195   5441333   5521400   5599827   5673199   5736582 ⋯  26147002\n",
       "6   1608800   1659800   1711319   1762621   1814135   1864791 ⋯   2895092\n",
       "  2014      2015      2016      2017      2018      2019      2020     \n",
       "1    103594    104257    104874    105439    105962    106442    106585\n",
       "2 583650827 600008150 616377331 632746296 649756874 667242712 685112705\n",
       "3  32716210  33753499  34636207  35643418  36686784  37769499  38972230\n",
       "4 397855507 408690375 419778384 431138704 442646825 454306063 466189102\n",
       "5  27128337  28127721  29154746  30208628  31273533  32353588  33428486\n",
       "6   2889104   2880703   2876101   2873457   2866376   2854191   2837849\n",
       "  2021      ...67\n",
       "1    106537 NA   \n",
       "2 702976832 NA   \n",
       "3  40099462 NA   \n",
       "4 478185907 NA   \n",
       "5  34503774 NA   \n",
       "6   2811666 NA   "
      ]
     },
     "metadata": {},
     "output_type": "display_data"
    }
   ],
   "source": [
    "wb.pop %>% head"
   ]
  },
  {
   "cell_type": "markdown",
   "metadata": {
    "id": "RqllQ33Hmgzr"
   },
   "source": [
    "Notice that there is also an extraneous 67-th column added to the very end of the data frame. This is because the rows of `wb_pop` all end in a comma."
   ]
  },
  {
   "cell_type": "code",
   "execution_count": 35,
   "metadata": {
    "colab": {
     "base_uri": "https://localhost:8080/"
    },
    "id": "lgrjJCy4mgzr",
    "outputId": "2a185416-5299-481f-e714-7877fcaca20a"
   },
   "outputs": [
    {
     "name": "stderr",
     "output_type": "stream",
     "text": [
      "\u001b[1m\u001b[22mNew names:\n",
      "\u001b[36m•\u001b[39m `` -> `...67`\n",
      "\u001b[1mRows: \u001b[22m\u001b[34m266\u001b[39m \u001b[1mColumns: \u001b[22m\u001b[34m67\u001b[39m\n",
      "\u001b[36m──\u001b[39m \u001b[1mColumn specification\u001b[22m \u001b[36m────────────────────────────────────────────────────────\u001b[39m\n",
      "\u001b[1mDelimiter:\u001b[22m \",\"\n",
      "\u001b[31mchr\u001b[39m  (4): Country Name, Country Code, Indicator Name, Indicator Code\n",
      "\u001b[32mdbl\u001b[39m (61): 1960, 1961, 1962, 1963, 1964, 1965, 1966, 1967, 1968, 1969, 1970, ...\n",
      "\u001b[33mlgl\u001b[39m  (2): 2021, ...67\n",
      "\n",
      "\u001b[36mℹ\u001b[39m Use `spec()` to retrieve the full column specification for this data.\n",
      "\u001b[36mℹ\u001b[39m Specify the column types or set `show_col_types = FALSE` to quiet this message.\n"
     ]
    }
   ],
   "source": [
    "# load fertility dataset, using same ideas\n",
    "wb.fert <- read_csv(\"wb_fert.csv\", skip=3)"
   ]
  },
  {
   "cell_type": "code",
   "execution_count": 42,
   "metadata": {
    "colab": {
     "base_uri": "https://localhost:8080/",
     "height": 34
    },
    "id": "MdKMMlR3IvkQ",
    "outputId": "76e7cf84-c38b-4421-ac04-56fad58edcde"
   },
   "outputs": [
    {
     "data": {
      "text/html": [
       "TRUE"
      ],
      "text/latex": [
       "TRUE"
      ],
      "text/markdown": [
       "TRUE"
      ],
      "text/plain": [
       "[1] TRUE"
      ]
     },
     "metadata": {},
     "output_type": "display_data"
    }
   ],
   "source": [
    "wb.fert$`2021` %>% is.na() %>% unique"
   ]
  },
  {
   "cell_type": "code",
   "execution_count": 50,
   "metadata": {
    "colab": {
     "base_uri": "https://localhost:8080/",
     "height": 121
    },
    "id": "hGWx6TUhJ0Bt",
    "outputId": "b9d62450-6e39-4446-f14c-b3a2933cb43e"
   },
   "outputs": [
    {
     "data": {
      "text/html": [
       "<style>\n",
       ".list-inline {list-style: none; margin:0; padding: 0}\n",
       ".list-inline>li {display: inline-block}\n",
       ".list-inline>li:not(:last-child)::after {content: \"\\00b7\"; padding: 0 .5ex}\n",
       "</style>\n",
       "<ol class=list-inline><li>'Country Name'</li><li>'Country Code'</li><li>'Indicator Name'</li><li>'Indicator Code'</li><li>'1960'</li><li>'1961'</li><li>'1962'</li><li>'1963'</li><li>'1964'</li><li>'1965'</li><li>'1966'</li><li>'1967'</li><li>'1968'</li><li>'1969'</li><li>'1970'</li><li>'1971'</li><li>'1972'</li><li>'1973'</li><li>'1974'</li><li>'1975'</li><li>'1976'</li><li>'1977'</li><li>'1978'</li><li>'1979'</li><li>'1980'</li><li>'1981'</li><li>'1982'</li><li>'1983'</li><li>'1984'</li><li>'1985'</li><li>'1986'</li><li>'1987'</li><li>'1988'</li><li>'1989'</li><li>'1990'</li><li>'1991'</li><li>'1992'</li><li>'1993'</li><li>'1994'</li><li>'1995'</li><li>'1996'</li><li>'1997'</li><li>'1998'</li><li>'1999'</li><li>'2000'</li><li>'2001'</li><li>'2002'</li><li>'2003'</li><li>'2004'</li><li>'2005'</li><li>'2006'</li><li>'2007'</li><li>'2008'</li><li>'2009'</li><li>'2010'</li><li>'2011'</li><li>'2012'</li><li>'2013'</li><li>'2014'</li><li>'2015'</li><li>'2016'</li><li>'2017'</li><li>'2018'</li><li>'2019'</li><li>'2020'</li><li>'2021'</li><li>'...67'</li></ol>\n"
      ],
      "text/latex": [
       "\\begin{enumerate*}\n",
       "\\item 'Country Name'\n",
       "\\item 'Country Code'\n",
       "\\item 'Indicator Name'\n",
       "\\item 'Indicator Code'\n",
       "\\item '1960'\n",
       "\\item '1961'\n",
       "\\item '1962'\n",
       "\\item '1963'\n",
       "\\item '1964'\n",
       "\\item '1965'\n",
       "\\item '1966'\n",
       "\\item '1967'\n",
       "\\item '1968'\n",
       "\\item '1969'\n",
       "\\item '1970'\n",
       "\\item '1971'\n",
       "\\item '1972'\n",
       "\\item '1973'\n",
       "\\item '1974'\n",
       "\\item '1975'\n",
       "\\item '1976'\n",
       "\\item '1977'\n",
       "\\item '1978'\n",
       "\\item '1979'\n",
       "\\item '1980'\n",
       "\\item '1981'\n",
       "\\item '1982'\n",
       "\\item '1983'\n",
       "\\item '1984'\n",
       "\\item '1985'\n",
       "\\item '1986'\n",
       "\\item '1987'\n",
       "\\item '1988'\n",
       "\\item '1989'\n",
       "\\item '1990'\n",
       "\\item '1991'\n",
       "\\item '1992'\n",
       "\\item '1993'\n",
       "\\item '1994'\n",
       "\\item '1995'\n",
       "\\item '1996'\n",
       "\\item '1997'\n",
       "\\item '1998'\n",
       "\\item '1999'\n",
       "\\item '2000'\n",
       "\\item '2001'\n",
       "\\item '2002'\n",
       "\\item '2003'\n",
       "\\item '2004'\n",
       "\\item '2005'\n",
       "\\item '2006'\n",
       "\\item '2007'\n",
       "\\item '2008'\n",
       "\\item '2009'\n",
       "\\item '2010'\n",
       "\\item '2011'\n",
       "\\item '2012'\n",
       "\\item '2013'\n",
       "\\item '2014'\n",
       "\\item '2015'\n",
       "\\item '2016'\n",
       "\\item '2017'\n",
       "\\item '2018'\n",
       "\\item '2019'\n",
       "\\item '2020'\n",
       "\\item '2021'\n",
       "\\item '...67'\n",
       "\\end{enumerate*}\n"
      ],
      "text/markdown": [
       "1. 'Country Name'\n",
       "2. 'Country Code'\n",
       "3. 'Indicator Name'\n",
       "4. 'Indicator Code'\n",
       "5. '1960'\n",
       "6. '1961'\n",
       "7. '1962'\n",
       "8. '1963'\n",
       "9. '1964'\n",
       "10. '1965'\n",
       "11. '1966'\n",
       "12. '1967'\n",
       "13. '1968'\n",
       "14. '1969'\n",
       "15. '1970'\n",
       "16. '1971'\n",
       "17. '1972'\n",
       "18. '1973'\n",
       "19. '1974'\n",
       "20. '1975'\n",
       "21. '1976'\n",
       "22. '1977'\n",
       "23. '1978'\n",
       "24. '1979'\n",
       "25. '1980'\n",
       "26. '1981'\n",
       "27. '1982'\n",
       "28. '1983'\n",
       "29. '1984'\n",
       "30. '1985'\n",
       "31. '1986'\n",
       "32. '1987'\n",
       "33. '1988'\n",
       "34. '1989'\n",
       "35. '1990'\n",
       "36. '1991'\n",
       "37. '1992'\n",
       "38. '1993'\n",
       "39. '1994'\n",
       "40. '1995'\n",
       "41. '1996'\n",
       "42. '1997'\n",
       "43. '1998'\n",
       "44. '1999'\n",
       "45. '2000'\n",
       "46. '2001'\n",
       "47. '2002'\n",
       "48. '2003'\n",
       "49. '2004'\n",
       "50. '2005'\n",
       "51. '2006'\n",
       "52. '2007'\n",
       "53. '2008'\n",
       "54. '2009'\n",
       "55. '2010'\n",
       "56. '2011'\n",
       "57. '2012'\n",
       "58. '2013'\n",
       "59. '2014'\n",
       "60. '2015'\n",
       "61. '2016'\n",
       "62. '2017'\n",
       "63. '2018'\n",
       "64. '2019'\n",
       "65. '2020'\n",
       "66. '2021'\n",
       "67. '...67'\n",
       "\n",
       "\n"
      ],
      "text/plain": [
       " [1] \"Country Name\"   \"Country Code\"   \"Indicator Name\" \"Indicator Code\"\n",
       " [5] \"1960\"           \"1961\"           \"1962\"           \"1963\"          \n",
       " [9] \"1964\"           \"1965\"           \"1966\"           \"1967\"          \n",
       "[13] \"1968\"           \"1969\"           \"1970\"           \"1971\"          \n",
       "[17] \"1972\"           \"1973\"           \"1974\"           \"1975\"          \n",
       "[21] \"1976\"           \"1977\"           \"1978\"           \"1979\"          \n",
       "[25] \"1980\"           \"1981\"           \"1982\"           \"1983\"          \n",
       "[29] \"1984\"           \"1985\"           \"1986\"           \"1987\"          \n",
       "[33] \"1988\"           \"1989\"           \"1990\"           \"1991\"          \n",
       "[37] \"1992\"           \"1993\"           \"1994\"           \"1995\"          \n",
       "[41] \"1996\"           \"1997\"           \"1998\"           \"1999\"          \n",
       "[45] \"2000\"           \"2001\"           \"2002\"           \"2003\"          \n",
       "[49] \"2004\"           \"2005\"           \"2006\"           \"2007\"          \n",
       "[53] \"2008\"           \"2009\"           \"2010\"           \"2011\"          \n",
       "[57] \"2012\"           \"2013\"           \"2014\"           \"2015\"          \n",
       "[61] \"2016\"           \"2017\"           \"2018\"           \"2019\"          \n",
       "[65] \"2020\"           \"2021\"           \"...67\"         "
      ]
     },
     "metadata": {},
     "output_type": "display_data"
    }
   ],
   "source": [
    "colnames(wb.fert)"
   ]
  },
  {
   "cell_type": "markdown",
   "metadata": {
    "id": "wWSCcwvoIXK_"
   },
   "source": []
  },
  {
   "cell_type": "markdown",
   "metadata": {
    "id": "OeV0Z474mgzr"
   },
   "source": [
    "What do these data tell us about falling birth rates in China?"
   ]
  },
  {
   "cell_type": "code",
   "execution_count": 56,
   "metadata": {
    "colab": {
     "base_uri": "https://localhost:8080/"
    },
    "id": "BHPUNJBNmgzs",
    "outputId": "c7b20ed1-3f0b-4a97-b872-717ac7519ad5"
   },
   "outputs": [
    {
     "name": "stdout",
     "output_type": "stream",
     "text": [
      "\u001b[90m# A tibble: 61 × 8\u001b[39m\n",
      "   `Country Name` `Country Code` Indicator Na…¹ Indic…² `2021` ...67 year   fert\n",
      "   \u001b[3m\u001b[90m<chr>\u001b[39m\u001b[23m          \u001b[3m\u001b[90m<chr>\u001b[39m\u001b[23m          \u001b[3m\u001b[90m<chr>\u001b[39m\u001b[23m          \u001b[3m\u001b[90m<chr>\u001b[39m\u001b[23m   \u001b[3m\u001b[90m<lgl>\u001b[39m\u001b[23m  \u001b[3m\u001b[90m<lgl>\u001b[39m\u001b[23m \u001b[3m\u001b[90m<chr>\u001b[39m\u001b[23m \u001b[3m\u001b[90m<dbl>\u001b[39m\u001b[23m\n",
      "\u001b[90m 1\u001b[39m China          CHN            Fertility rat… SP.DYN… \u001b[31mNA\u001b[39m     \u001b[31mNA\u001b[39m    1960   4.45\n",
      "\u001b[90m 2\u001b[39m China          CHN            Fertility rat… SP.DYN… \u001b[31mNA\u001b[39m     \u001b[31mNA\u001b[39m    1961   3.86\n",
      "\u001b[90m 3\u001b[39m China          CHN            Fertility rat… SP.DYN… \u001b[31mNA\u001b[39m     \u001b[31mNA\u001b[39m    1962   6.08\n",
      "\u001b[90m 4\u001b[39m China          CHN            Fertility rat… SP.DYN… \u001b[31mNA\u001b[39m     \u001b[31mNA\u001b[39m    1963   7.51\n",
      "\u001b[90m 5\u001b[39m China          CHN            Fertility rat… SP.DYN… \u001b[31mNA\u001b[39m     \u001b[31mNA\u001b[39m    1964   6.67\n",
      "\u001b[90m 6\u001b[39m China          CHN            Fertility rat… SP.DYN… \u001b[31mNA\u001b[39m     \u001b[31mNA\u001b[39m    1965   6.60\n",
      "\u001b[90m 7\u001b[39m China          CHN            Fertility rat… SP.DYN… \u001b[31mNA\u001b[39m     \u001b[31mNA\u001b[39m    1966   6.31\n",
      "\u001b[90m 8\u001b[39m China          CHN            Fertility rat… SP.DYN… \u001b[31mNA\u001b[39m     \u001b[31mNA\u001b[39m    1967   5.81\n",
      "\u001b[90m 9\u001b[39m China          CHN            Fertility rat… SP.DYN… \u001b[31mNA\u001b[39m     \u001b[31mNA\u001b[39m    1968   6.51\n",
      "\u001b[90m10\u001b[39m China          CHN            Fertility rat… SP.DYN… \u001b[31mNA\u001b[39m     \u001b[31mNA\u001b[39m    1969   6.18\n",
      "\u001b[90m# … with 51 more rows, and abbreviated variable names ¹​`Indicator Name`,\u001b[39m\n",
      "\u001b[90m#   ²​`Indicator Code`\u001b[39m\n"
     ]
    }
   ],
   "source": [
    "# fertility over time in China\n",
    "wb_longer <- wb.fert %>% filter(`Country Name` == 'China') %>% \n",
    "  pivot_longer(cols=c(`1960`:`2020`), names_to = 'year', values_to = 'fert') %>% print\n",
    " "
   ]
  },
  {
   "cell_type": "code",
   "execution_count": 62,
   "metadata": {
    "colab": {
     "base_uri": "https://localhost:8080/"
    },
    "id": "1BUFIvzvMjvA",
    "outputId": "f4a10d71-bad9-4ee8-aa33-088f43cdf311"
   },
   "outputs": [
    {
     "name": "stdout",
     "output_type": "stream",
     "text": [
      "Rows: 61\n",
      "Columns: 8\n",
      "$ `Country Name`   \u001b[3m\u001b[90m<chr>\u001b[39m\u001b[23m \"China\", \"China\", \"China\", \"China\", \"China\", \"China\",…\n",
      "$ `Country Code`   \u001b[3m\u001b[90m<chr>\u001b[39m\u001b[23m \"CHN\", \"CHN\", \"CHN\", \"CHN\", \"CHN\", \"CHN\", \"CHN\", \"CHN…\n",
      "$ `Indicator Name` \u001b[3m\u001b[90m<chr>\u001b[39m\u001b[23m \"Fertility rate, total (births per woman)\", \"Fertilit…\n",
      "$ `Indicator Code` \u001b[3m\u001b[90m<chr>\u001b[39m\u001b[23m \"SP.DYN.TFRT.IN\", \"SP.DYN.TFRT.IN\", \"SP.DYN.TFRT.IN\",…\n",
      "$ `2021`           \u001b[3m\u001b[90m<lgl>\u001b[39m\u001b[23m NA, NA, NA, NA, NA, NA, NA, NA, NA, NA, NA, NA, NA, N…\n",
      "$ ...67            \u001b[3m\u001b[90m<lgl>\u001b[39m\u001b[23m NA, NA, NA, NA, NA, NA, NA, NA, NA, NA, NA, NA, NA, N…\n",
      "$ year             \u001b[3m\u001b[90m<chr>\u001b[39m\u001b[23m \"1960\", \"1961\", \"1962\", \"1963\", \"1964\", \"1965\", \"1966…\n",
      "$ fert             \u001b[3m\u001b[90m<dbl>\u001b[39m\u001b[23m 4.451, 3.863, 6.085, 7.513, 6.672, 6.605, 6.307, 5.80…\n"
     ]
    }
   ],
   "source": [
    "glimpse(wb_longer)"
   ]
  },
  {
   "cell_type": "code",
   "execution_count": 59,
   "metadata": {
    "colab": {
     "base_uri": "https://localhost:8080/",
     "height": 352
    },
    "id": "_Caz_jGgK-43",
    "outputId": "37a0a731-5b7b-4b3b-a24a-9436f846867d"
   },
   "outputs": [
    {
     "name": "stderr",
     "output_type": "stream",
     "text": [
      "\u001b[1m\u001b[22m`geom_line()`: Each group consists of only one observation.\n",
      "\u001b[36mℹ\u001b[39m Do you need to adjust the \u001b[32mgroup\u001b[39m aesthetic?\n"
     ]
    },
    {
     "data": {
      "image/png": "[encoded data removed]",
      "text/plain": [
       "plot without title"
      ]
     },
     "metadata": {
      "image/png": {
       "height": 300,
       "width": 480
      }
     },
     "output_type": "display_data"
    }
   ],
   "source": [
    "wb_longer %>% ggplot(aes(x=`year`, y= `fert`)) +\n",
    "  geom_point()+\n",
    "  geom_line()"
   ]
  },
  {
   "cell_type": "code",
   "execution_count": 63,
   "metadata": {
    "id": "tUkk38dYMUId"
   },
   "outputs": [],
   "source": [
    "wb_longer$year <- parse_number(wb_longer$year)"
   ]
  },
  {
   "cell_type": "code",
   "execution_count": 64,
   "metadata": {
    "colab": {
     "base_uri": "https://localhost:8080/",
     "height": 317
    },
    "id": "NUK1kmVRMxsD",
    "outputId": "784955fa-f4cb-44e6-d7dc-8946d5109158"
   },
   "outputs": [
    {
     "data": {
      "image/png": "[encoded data removed]",
      "text/plain": [
       "plot without title"
      ]
     },
     "metadata": {
      "image/png": {
       "height": 300,
       "width": 480
      }
     },
     "output_type": "display_data"
    }
   ],
   "source": [
    "wb_longer %>% ggplot(aes(x=`year`, y= `fert`)) +\n",
    "  geom_point()+\n",
    "  geom_line()"
   ]
  }
 ],
 "metadata": {
  "celltoolbar": "Slideshow",
  "colab": {
   "provenance": []
  },
  "kernelspec": {
   "display_name": "R",
   "language": "R",
   "name": "ir"
  },
  "language_info": {
   "codemirror_mode": "r",
   "file_extension": ".r",
   "mimetype": "text/x-r-source",
   "name": "R",
   "pygments_lexer": "r",
   "version": "4.3.1"
  }
 },
 "nbformat": 4,
 "nbformat_minor": 4
}
