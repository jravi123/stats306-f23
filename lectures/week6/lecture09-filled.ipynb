{
  "cells": [
    {
      "cell_type": "markdown",
      "metadata": {
        "editable": true,
        "tags": [],
        "id": "ju53k-qh-hV-"
      },
      "source": [
        "# Lecture 09: Relational Data\n",
        "<div style=\"border: 1px double black; padding: 10px; margin: 10px\">\n",
        "\n",
        "**Goals for today's lecture:**\n",
        "* Learn about [keys](#Keys)\n",
        "* Different types of [relations](#Relations) between tables\n",
        "* [Commands for joining related tables together](#Outer-joins)\n",
        "</div>\n"
      ]
    },
    {
      "cell_type": "markdown",
      "metadata": {
        "id": "jnf4LQWw-hWD"
      },
      "source": [
        "We have already spent a lot of time analyzing the `flights` table. In fact, there are four other tables in `nycflights13` that contain related information about these flights:"
      ]
    },
    {
      "cell_type": "code",
      "execution_count": 2,
      "metadata": {
        "id": "SzwWJ0Pb-hWE",
        "outputId": "78ab563c-ed51-4b77-fd0d-60aa0e39a4c1",
        "colab": {
          "base_uri": "https://localhost:8080/"
        }
      },
      "outputs": [
        {
          "output_type": "stream",
          "name": "stderr",
          "text": [
            "Installing package into ‘/usr/local/lib/R/site-library’\n",
            "(as ‘lib’ is unspecified)\n",
            "\n",
            "── \u001b[1mAttaching core tidyverse packages\u001b[22m ──────────────────────── tidyverse 2.0.0 ──\n",
            "\u001b[32m✔\u001b[39m \u001b[34mdplyr    \u001b[39m 1.1.3     \u001b[32m✔\u001b[39m \u001b[34mreadr    \u001b[39m 2.1.4\n",
            "\u001b[32m✔\u001b[39m \u001b[34mforcats  \u001b[39m 1.0.0     \u001b[32m✔\u001b[39m \u001b[34mstringr  \u001b[39m 1.5.0\n",
            "\u001b[32m✔\u001b[39m \u001b[34mggplot2  \u001b[39m 3.4.3     \u001b[32m✔\u001b[39m \u001b[34mtibble   \u001b[39m 3.2.1\n",
            "\u001b[32m✔\u001b[39m \u001b[34mlubridate\u001b[39m 1.9.2     \u001b[32m✔\u001b[39m \u001b[34mtidyr    \u001b[39m 1.3.0\n",
            "\u001b[32m✔\u001b[39m \u001b[34mpurrr    \u001b[39m 1.0.2     \n",
            "── \u001b[1mConflicts\u001b[22m ────────────────────────────────────────── tidyverse_conflicts() ──\n",
            "\u001b[31m✖\u001b[39m \u001b[34mdplyr\u001b[39m::\u001b[32mfilter()\u001b[39m masks \u001b[34mstats\u001b[39m::filter()\n",
            "\u001b[31m✖\u001b[39m \u001b[34mdplyr\u001b[39m::\u001b[32mlag()\u001b[39m    masks \u001b[34mstats\u001b[39m::lag()\n",
            "\u001b[36mℹ\u001b[39m Use the conflicted package (\u001b[3m\u001b[34m<http://conflicted.r-lib.org/>\u001b[39m\u001b[23m) to force all conflicts to become errors\n"
          ]
        }
      ],
      "source": [
        "install.packages('nycflights13')\n",
        "library(tidyverse)\n",
        "library(nycflights13)"
      ]
    },
    {
      "cell_type": "code",
      "execution_count": null,
      "metadata": {
        "id": "ZM8hyu1u-hWL",
        "outputId": "57a50a6a-cd7f-4aad-940e-9eabf3194107"
      },
      "outputs": [
        {
          "name": "stdout",
          "output_type": "stream",
          "text": [
            "\u001b[90m# A tibble: 16 × 2\u001b[39m\n",
            "   carrier name                       \n",
            "   \u001b[3m\u001b[90m<chr>\u001b[39m\u001b[23m   \u001b[3m\u001b[90m<chr>\u001b[39m\u001b[23m                      \n",
            "\u001b[90m 1\u001b[39m 9E      Endeavor Air Inc.          \n",
            "\u001b[90m 2\u001b[39m AA      American Airlines Inc.     \n",
            "\u001b[90m 3\u001b[39m AS      Alaska Airlines Inc.       \n",
            "\u001b[90m 4\u001b[39m B6      JetBlue Airways            \n",
            "\u001b[90m 5\u001b[39m DL      Delta Air Lines Inc.       \n",
            "\u001b[90m 6\u001b[39m EV      ExpressJet Airlines Inc.   \n",
            "\u001b[90m 7\u001b[39m F9      Frontier Airlines Inc.     \n",
            "\u001b[90m 8\u001b[39m FL      AirTran Airways Corporation\n",
            "\u001b[90m 9\u001b[39m HA      Hawaiian Airlines Inc.     \n",
            "\u001b[90m10\u001b[39m MQ      Envoy Air                  \n",
            "\u001b[90m11\u001b[39m OO      SkyWest Airlines Inc.      \n",
            "\u001b[90m12\u001b[39m UA      United Air Lines Inc.      \n",
            "\u001b[90m13\u001b[39m US      US Airways Inc.            \n",
            "\u001b[90m14\u001b[39m VX      Virgin America             \n",
            "\u001b[90m15\u001b[39m WN      Southwest Airlines Co.     \n",
            "\u001b[90m16\u001b[39m YV      Mesa Airlines Inc.         \n"
          ]
        }
      ],
      "source": [
        "print(airlines)"
      ]
    },
    {
      "cell_type": "code",
      "execution_count": null,
      "metadata": {
        "id": "oGYk-wDU-hWL",
        "outputId": "abcf3a29-e12d-4038-a701-0aeb434dc80a"
      },
      "outputs": [
        {
          "data": {
            "text/plain": [
              "  faa name                   lat      lon       alt tz dst tzone           \n",
              "1 DTW Detroit Metro Wayne Co 42.21244 -83.35339 645 -5 A   America/New_York"
            ]
          },
          "metadata": {},
          "output_type": "display_data"
        }
      ],
      "source": [
        "airports %>% filter(faa == \"DTW\")"
      ]
    },
    {
      "cell_type": "code",
      "execution_count": null,
      "metadata": {
        "id": "v5GUJtF0-hWL",
        "outputId": "7d1f4729-42bf-43de-85dd-db07931e932d"
      },
      "outputs": [
        {
          "name": "stdout",
          "output_type": "stream",
          "text": [
            "# A tibble: 3,322 x 9\n",
            "   tailnum  year type          manufacturer   model  engines seats speed engine \n",
            "   <chr>   <int> <chr>         <chr>          <chr>    <int> <int> <int> <chr>  \n",
            " 1 N10156   2004 Fixed wing m… EMBRAER        EMB-1…       2    55    NA Turbo-…\n",
            " 2 N102UW   1998 Fixed wing m… AIRBUS INDUST… A320-…       2   182    NA Turbo-…\n",
            " 3 N103US   1999 Fixed wing m… AIRBUS INDUST… A320-…       2   182    NA Turbo-…\n",
            " 4 N104UW   1999 Fixed wing m… AIRBUS INDUST… A320-…       2   182    NA Turbo-…\n",
            " 5 N10575   2002 Fixed wing m… EMBRAER        EMB-1…       2    55    NA Turbo-…\n",
            " 6 N105UW   1999 Fixed wing m… AIRBUS INDUST… A320-…       2   182    NA Turbo-…\n",
            " 7 N107US   1999 Fixed wing m… AIRBUS INDUST… A320-…       2   182    NA Turbo-…\n",
            " 8 N108UW   1999 Fixed wing m… AIRBUS INDUST… A320-…       2   182    NA Turbo-…\n",
            " 9 N109UW   1999 Fixed wing m… AIRBUS INDUST… A320-…       2   182    NA Turbo-…\n",
            "10 N110UW   1999 Fixed wing m… AIRBUS INDUST… A320-…       2   182    NA Turbo-…\n",
            "# … with 3,312 more rows\n"
          ]
        }
      ],
      "source": [
        "print(planes)"
      ]
    },
    {
      "cell_type": "code",
      "execution_count": null,
      "metadata": {
        "id": "Ddxp2vqM-hWM",
        "outputId": "9acca2a8-10d8-4307-a715-8a6c76fb7516"
      },
      "outputs": [
        {
          "name": "stdout",
          "output_type": "stream",
          "text": [
            "# A tibble: 26,115 x 15\n",
            "   origin  year month   day  hour  temp  dewp humid wind_dir wind_speed\n",
            "   <chr>  <dbl> <dbl> <int> <int> <dbl> <dbl> <dbl>    <dbl>      <dbl>\n",
            " 1 EWR     2013     1     1     1  39.0  26.1  59.4      270      10.4 \n",
            " 2 EWR     2013     1     1     2  39.0  27.0  61.6      250       8.06\n",
            " 3 EWR     2013     1     1     3  39.0  28.0  64.4      240      11.5 \n",
            " 4 EWR     2013     1     1     4  39.9  28.0  62.2      250      12.7 \n",
            " 5 EWR     2013     1     1     5  39.0  28.0  64.4      260      12.7 \n",
            " 6 EWR     2013     1     1     6  37.9  28.0  67.2      240      11.5 \n",
            " 7 EWR     2013     1     1     7  39.0  28.0  64.4      240      15.0 \n",
            " 8 EWR     2013     1     1     8  39.9  28.0  62.2      250      10.4 \n",
            " 9 EWR     2013     1     1     9  39.9  28.0  62.2      260      15.0 \n",
            "10 EWR     2013     1     1    10  41    28.0  59.6      260      13.8 \n",
            "# … with 26,105 more rows, and 5 more variables: wind_gust <dbl>, precip <dbl>,\n",
            "#   pressure <dbl>, visib <dbl>, time_hour <dttm>\n"
          ]
        }
      ],
      "source": [
        "print(weather)"
      ]
    },
    {
      "cell_type": "code",
      "execution_count": null,
      "metadata": {
        "id": "MeOUl9r9-hWM",
        "outputId": "9c7b398f-3edc-4f1f-f4e7-9eab7f90ba9b"
      },
      "outputs": [
        {
          "data": {
            "text/html": [
              "<style>\n",
              ".list-inline {list-style: none; margin:0; padding: 0}\n",
              ".list-inline>li {display: inline-block}\n",
              ".list-inline>li:not(:last-child)::after {content: \"\\00b7\"; padding: 0 .5ex}\n",
              "</style>\n",
              "<ol class=list-inline><li>'EWR'</li><li>'JFK'</li><li>'LGA'</li></ol>\n"
            ],
            "text/latex": [
              "\\begin{enumerate*}\n",
              "\\item 'EWR'\n",
              "\\item 'JFK'\n",
              "\\item 'LGA'\n",
              "\\end{enumerate*}\n"
            ],
            "text/markdown": [
              "1. 'EWR'\n",
              "2. 'JFK'\n",
              "3. 'LGA'\n",
              "\n",
              "\n"
            ],
            "text/plain": [
              "[1] \"EWR\" \"JFK\" \"LGA\""
            ]
          },
          "metadata": {},
          "output_type": "display_data"
        }
      ],
      "source": [
        "weather$origin %>% unique"
      ]
    },
    {
      "cell_type": "markdown",
      "metadata": {
        "id": "yLDWr3PW-hWW"
      },
      "source": [
        "Together these four tables form a *relational database*. The relationships can be graphed like so:\n",
        "![table relationships](http://r4ds.had.co.nz/diagrams/relational-nycflights.png)"
      ]
    },
    {
      "cell_type": "markdown",
      "metadata": {
        "id": "AT9qRUll-hWW"
      },
      "source": [
        "The particular relationships in this database are:\n",
        "- `flights` connects to `planes` via `tailnum`.\n",
        "- `flights` connects to `airlines` via `carrier`.\n",
        "- `flights` connects to `airports` twice: via `origin` and `dest`.\n",
        "- `flights` connects to `weather` via `origin` (the location), and `year`, `month`, `day` and `hour`."
      ]
    },
    {
      "cell_type": "markdown",
      "metadata": {
        "id": "Bl0fM2nj-hWX"
      },
      "source": [
        "## Keys\n",
        "The \"key\" to understanding relational databases is... keys.\n",
        "\n"
      ]
    },
    {
      "cell_type": "markdown",
      "metadata": {
        "id": "o6qH8igX-hWX"
      },
      "source": [
        "### Primary Key\n",
        "A *primary key* is a variable (or set of variables) that uniquely identifies an observation in its own table: there is **at most** one row in the table that corresponds to any setting of the columns which comprise the key.\n",
        "\n",
        "A primary key is\n",
        "* a variable or\n",
        "* set of variables that uniquely identify each observation (compound key).\n",
        "\n",
        "When more than one variable is needed, the key is called a compound key."
      ]
    },
    {
      "cell_type": "markdown",
      "metadata": {
        "id": "fsr81zfG-hWX"
      },
      "source": [
        "In the `planes` table, each airplane is identified by its `tailnum`:"
      ]
    },
    {
      "cell_type": "code",
      "execution_count": null,
      "metadata": {
        "id": "dTXiifc1-hWY",
        "outputId": "35ef1dd3-ba06-4b71-a0fa-0b68cc4535f3"
      },
      "outputs": [
        {
          "name": "stdout",
          "output_type": "stream",
          "text": [
            "# A tibble: 3,322 x 9\n",
            "   tailnum  year type          manufacturer   model  engines seats speed engine \n",
            "   <chr>   <int> <chr>         <chr>          <chr>    <int> <int> <int> <chr>  \n",
            " 1 N10156   2004 Fixed wing m… EMBRAER        EMB-1…       2    55    NA Turbo-…\n",
            " 2 N102UW   1998 Fixed wing m… AIRBUS INDUST… A320-…       2   182    NA Turbo-…\n",
            " 3 N103US   1999 Fixed wing m… AIRBUS INDUST… A320-…       2   182    NA Turbo-…\n",
            " 4 N104UW   1999 Fixed wing m… AIRBUS INDUST… A320-…       2   182    NA Turbo-…\n",
            " 5 N10575   2002 Fixed wing m… EMBRAER        EMB-1…       2    55    NA Turbo-…\n",
            " 6 N105UW   1999 Fixed wing m… AIRBUS INDUST… A320-…       2   182    NA Turbo-…\n",
            " 7 N107US   1999 Fixed wing m… AIRBUS INDUST… A320-…       2   182    NA Turbo-…\n",
            " 8 N108UW   1999 Fixed wing m… AIRBUS INDUST… A320-…       2   182    NA Turbo-…\n",
            " 9 N109UW   1999 Fixed wing m… AIRBUS INDUST… A320-…       2   182    NA Turbo-…\n",
            "10 N110UW   1999 Fixed wing m… AIRBUS INDUST… A320-…       2   182    NA Turbo-…\n",
            "# … with 3,312 more rows\n"
          ]
        }
      ],
      "source": [
        "print(planes)"
      ]
    },
    {
      "cell_type": "markdown",
      "metadata": {
        "id": "IPsZHqIu-hWZ"
      },
      "source": [
        "The tail number of an airplane is assigned by a government agency and is unique: no two planes can have the same tail number. Thus, `tailnum` should be a primary key in this table.\n",
        "\n",
        "To check that one or more variables constitutes a primary key, we can group by those variables and then check that the number of distinct values equals the number of rows in the data set:"
      ]
    },
    {
      "cell_type": "code",
      "execution_count": 31,
      "metadata": {
        "id": "TjfIVZh6-hWZ",
        "outputId": "94639fd6-abde-4d83-a0fe-c77cd740f2dc",
        "colab": {
          "base_uri": "https://localhost:8080/",
          "height": 129
        }
      },
      "outputs": [
        {
          "output_type": "display_data",
          "data": {
            "text/html": [
              "<table class=\"dataframe\">\n",
              "<caption>A tibble: 1 × 2</caption>\n",
              "<thead>\n",
              "\t<tr><th scope=col>n</th><th scope=col>nd</th></tr>\n",
              "\t<tr><th scope=col>&lt;int&gt;</th><th scope=col>&lt;int&gt;</th></tr>\n",
              "</thead>\n",
              "<tbody>\n",
              "\t<tr><td>3322</td><td>3322</td></tr>\n",
              "</tbody>\n",
              "</table>\n"
            ],
            "text/markdown": "\nA tibble: 1 × 2\n\n| n &lt;int&gt; | nd &lt;int&gt; |\n|---|---|\n| 3322 | 3322 |\n\n",
            "text/latex": "A tibble: 1 × 2\n\\begin{tabular}{ll}\n n & nd\\\\\n <int> & <int>\\\\\n\\hline\n\t 3322 & 3322\\\\\n\\end{tabular}\n",
            "text/plain": [
              "  n    nd  \n",
              "1 3322 3322"
            ]
          },
          "metadata": {}
        }
      ],
      "source": [
        "# planes %>% print\n",
        "planes %>% summarize(n = n(), nd = n_distinct(tailnum))"
      ]
    },
    {
      "cell_type": "code",
      "execution_count": 33,
      "metadata": {
        "id": "nyqbGsxv-hWa",
        "outputId": "d2472daa-cfe0-4637-c804-157fadd734c5",
        "colab": {
          "base_uri": "https://localhost:8080/",
          "height": 98
        }
      },
      "outputs": [
        {
          "output_type": "display_data",
          "data": {
            "text/html": [
              "<table class=\"dataframe\">\n",
              "<caption>A tibble: 0 × 2</caption>\n",
              "<thead>\n",
              "\t<tr><th scope=col>tailnum</th><th scope=col>n</th></tr>\n",
              "\t<tr><th scope=col>&lt;chr&gt;</th><th scope=col>&lt;int&gt;</th></tr>\n",
              "</thead>\n",
              "<tbody>\n",
              "</tbody>\n",
              "</table>\n"
            ],
            "text/markdown": "\nA tibble: 0 × 2\n\n| tailnum &lt;chr&gt; | n &lt;int&gt; |\n|---|---|\n\n",
            "text/latex": "A tibble: 0 × 2\n\\begin{tabular}{ll}\n tailnum & n\\\\\n <chr> & <int>\\\\\n\\hline\n\\end{tabular}\n",
            "text/plain": [
              "     tailnum n"
            ]
          },
          "metadata": {}
        }
      ],
      "source": [
        "planes %>% count(tailnum) %>% filter(n > 1)"
      ]
    },
    {
      "cell_type": "markdown",
      "metadata": {
        "id": "2_ZqnZ24-hWb"
      },
      "source": [
        "Compare with `flights`, where tailnum does *not* uniquely identify each row. (There are many flights present for the same airplane.)"
      ]
    },
    {
      "cell_type": "code",
      "execution_count": null,
      "metadata": {
        "id": "ucaLYZhE-hWb",
        "outputId": "ebbaa8b5-925b-46c2-d1ba-70ee8c282d21"
      },
      "outputs": [
        {
          "name": "stdout",
          "output_type": "stream",
          "text": [
            "\u001b[90m# A tibble: 3,873 × 2\u001b[39m\n",
            "   tailnum     n\n",
            "   \u001b[3m\u001b[90m<chr>\u001b[39m\u001b[23m   \u001b[3m\u001b[90m<int>\u001b[39m\u001b[23m\n",
            "\u001b[90m 1\u001b[39m D942DN      4\n",
            "\u001b[90m 2\u001b[39m N0EGMQ    371\n",
            "\u001b[90m 3\u001b[39m N10156    153\n",
            "\u001b[90m 4\u001b[39m N102UW     48\n",
            "\u001b[90m 5\u001b[39m N103US     46\n",
            "\u001b[90m 6\u001b[39m N104UW     47\n",
            "\u001b[90m 7\u001b[39m N10575    289\n",
            "\u001b[90m 8\u001b[39m N105UW     45\n",
            "\u001b[90m 9\u001b[39m N107US     41\n",
            "\u001b[90m10\u001b[39m N108UW     60\n",
            "\u001b[90m# ℹ 3,863 more rows\u001b[39m\n"
          ]
        }
      ],
      "source": [
        "flights %>% count(tailnum) %>% filter(n > 1) %>% print"
      ]
    },
    {
      "cell_type": "markdown",
      "metadata": {
        "id": "NYCfx-Xg-hWb"
      },
      "source": [
        "What is the primary key for the `flights` table?"
      ]
    },
    {
      "cell_type": "code",
      "execution_count": 34,
      "metadata": {
        "id": "--z1IEGK-hWb",
        "outputId": "164d2ca7-99b8-47d1-b66c-e280285c5943",
        "colab": {
          "base_uri": "https://localhost:8080/",
          "height": 1000
        }
      },
      "outputs": [
        {
          "output_type": "display_data",
          "data": {
            "text/html": [
              "<table class=\"dataframe\">\n",
              "<caption>A tibble: 706 × 6</caption>\n",
              "<thead>\n",
              "\t<tr><th scope=col>year</th><th scope=col>month</th><th scope=col>day</th><th scope=col>dep_time</th><th scope=col>tailnum</th><th scope=col>n</th></tr>\n",
              "\t<tr><th scope=col>&lt;int&gt;</th><th scope=col>&lt;int&gt;</th><th scope=col>&lt;int&gt;</th><th scope=col>&lt;int&gt;</th><th scope=col>&lt;chr&gt;</th><th scope=col>&lt;int&gt;</th></tr>\n",
              "</thead>\n",
              "<tbody>\n",
              "\t<tr><td>2013</td><td>1</td><td> 2</td><td>NA</td><td>N10575</td><td> 2</td></tr>\n",
              "\t<tr><td>2013</td><td>1</td><td> 2</td><td>NA</td><td>NA    </td><td> 2</td></tr>\n",
              "\t<tr><td>2013</td><td>1</td><td> 3</td><td>NA</td><td>NA    </td><td> 2</td></tr>\n",
              "\t<tr><td>2013</td><td>1</td><td> 4</td><td>NA</td><td>NA    </td><td> 2</td></tr>\n",
              "\t<tr><td>2013</td><td>1</td><td> 9</td><td>NA</td><td>NA    </td><td> 2</td></tr>\n",
              "\t<tr><td>2013</td><td>1</td><td>10</td><td>NA</td><td>NA    </td><td> 2</td></tr>\n",
              "\t<tr><td>2013</td><td>1</td><td>12</td><td>NA</td><td>NA    </td><td> 2</td></tr>\n",
              "\t<tr><td>2013</td><td>1</td><td>13</td><td>NA</td><td>NA    </td><td> 7</td></tr>\n",
              "\t<tr><td>2013</td><td>1</td><td>15</td><td>NA</td><td>NA    </td><td> 2</td></tr>\n",
              "\t<tr><td>2013</td><td>1</td><td>16</td><td>NA</td><td>N12195</td><td> 2</td></tr>\n",
              "\t<tr><td>2013</td><td>1</td><td>16</td><td>NA</td><td>NA    </td><td>24</td></tr>\n",
              "\t<tr><td>2013</td><td>1</td><td>17</td><td>NA</td><td>NA    </td><td> 4</td></tr>\n",
              "\t<tr><td>2013</td><td>1</td><td>18</td><td>NA</td><td>N12166</td><td> 2</td></tr>\n",
              "\t<tr><td>2013</td><td>1</td><td>18</td><td>NA</td><td>N12957</td><td> 2</td></tr>\n",
              "\t<tr><td>2013</td><td>1</td><td>18</td><td>NA</td><td>NA    </td><td> 3</td></tr>\n",
              "\t<tr><td>2013</td><td>1</td><td>21</td><td>NA</td><td>NA    </td><td> 5</td></tr>\n",
              "\t<tr><td>2013</td><td>1</td><td>22</td><td>NA</td><td>NA    </td><td> 3</td></tr>\n",
              "\t<tr><td>2013</td><td>1</td><td>23</td><td>NA</td><td>NA    </td><td> 4</td></tr>\n",
              "\t<tr><td>2013</td><td>1</td><td>24</td><td>NA</td><td>NA    </td><td> 4</td></tr>\n",
              "\t<tr><td>2013</td><td>1</td><td>25</td><td>NA</td><td>N13133</td><td> 2</td></tr>\n",
              "\t<tr><td>2013</td><td>1</td><td>25</td><td>NA</td><td>N13968</td><td> 2</td></tr>\n",
              "\t<tr><td>2013</td><td>1</td><td>25</td><td>NA</td><td>NA    </td><td>16</td></tr>\n",
              "\t<tr><td>2013</td><td>1</td><td>26</td><td>NA</td><td>N832MQ</td><td> 2</td></tr>\n",
              "\t<tr><td>2013</td><td>1</td><td>26</td><td>NA</td><td>NA    </td><td> 2</td></tr>\n",
              "\t<tr><td>2013</td><td>1</td><td>27</td><td>NA</td><td>NA    </td><td> 6</td></tr>\n",
              "\t<tr><td>2013</td><td>1</td><td>28</td><td>NA</td><td>N10156</td><td> 2</td></tr>\n",
              "\t<tr><td>2013</td><td>1</td><td>28</td><td>NA</td><td>N11548</td><td> 2</td></tr>\n",
              "\t<tr><td>2013</td><td>1</td><td>28</td><td>NA</td><td>N13908</td><td> 2</td></tr>\n",
              "\t<tr><td>2013</td><td>1</td><td>28</td><td>NA</td><td>N13969</td><td> 3</td></tr>\n",
              "\t<tr><td>2013</td><td>1</td><td>28</td><td>NA</td><td>N14125</td><td> 2</td></tr>\n",
              "\t<tr><td>⋮</td><td>⋮</td><td>⋮</td><td>⋮</td><td>⋮</td><td>⋮</td></tr>\n",
              "\t<tr><td>2013</td><td>12</td><td>14</td><td>NA</td><td>N13992</td><td> 2</td></tr>\n",
              "\t<tr><td>2013</td><td>12</td><td>14</td><td>NA</td><td>N14542</td><td> 2</td></tr>\n",
              "\t<tr><td>2013</td><td>12</td><td>14</td><td>NA</td><td>N16951</td><td> 2</td></tr>\n",
              "\t<tr><td>2013</td><td>12</td><td>14</td><td>NA</td><td>N16987</td><td> 2</td></tr>\n",
              "\t<tr><td>2013</td><td>12</td><td>14</td><td>NA</td><td>N31131</td><td> 3</td></tr>\n",
              "\t<tr><td>2013</td><td>12</td><td>14</td><td>NA</td><td>N539MQ</td><td> 2</td></tr>\n",
              "\t<tr><td>2013</td><td>12</td><td>14</td><td>NA</td><td>N829AS</td><td> 2</td></tr>\n",
              "\t<tr><td>2013</td><td>12</td><td>14</td><td>NA</td><td>NA    </td><td>38</td></tr>\n",
              "\t<tr><td>2013</td><td>12</td><td>15</td><td>NA</td><td>N13989</td><td> 2</td></tr>\n",
              "\t<tr><td>2013</td><td>12</td><td>15</td><td>NA</td><td>N661JB</td><td> 2</td></tr>\n",
              "\t<tr><td>2013</td><td>12</td><td>15</td><td>NA</td><td>NA    </td><td>21</td></tr>\n",
              "\t<tr><td>2013</td><td>12</td><td>16</td><td>NA</td><td>N816MQ</td><td> 2</td></tr>\n",
              "\t<tr><td>2013</td><td>12</td><td>17</td><td>NA</td><td>N13566</td><td> 2</td></tr>\n",
              "\t<tr><td>2013</td><td>12</td><td>17</td><td>NA</td><td>N13949</td><td> 2</td></tr>\n",
              "\t<tr><td>2013</td><td>12</td><td>17</td><td>NA</td><td>N14186</td><td> 2</td></tr>\n",
              "\t<tr><td>2013</td><td>12</td><td>17</td><td>NA</td><td>N14570</td><td> 2</td></tr>\n",
              "\t<tr><td>2013</td><td>12</td><td>17</td><td>NA</td><td>N14904</td><td> 2</td></tr>\n",
              "\t<tr><td>2013</td><td>12</td><td>17</td><td>NA</td><td>N16918</td><td> 2</td></tr>\n",
              "\t<tr><td>2013</td><td>12</td><td>17</td><td>NA</td><td>N16981</td><td> 2</td></tr>\n",
              "\t<tr><td>2013</td><td>12</td><td>17</td><td>NA</td><td>N813MQ</td><td> 2</td></tr>\n",
              "\t<tr><td>2013</td><td>12</td><td>17</td><td>NA</td><td>NA    </td><td>27</td></tr>\n",
              "\t<tr><td>2013</td><td>12</td><td>20</td><td>NA</td><td>N16112</td><td> 2</td></tr>\n",
              "\t<tr><td>2013</td><td>12</td><td>20</td><td>NA</td><td>NA    </td><td> 3</td></tr>\n",
              "\t<tr><td>2013</td><td>12</td><td>21</td><td>NA</td><td>NA    </td><td> 2</td></tr>\n",
              "\t<tr><td>2013</td><td>12</td><td>23</td><td>NA</td><td>NA    </td><td>10</td></tr>\n",
              "\t<tr><td>2013</td><td>12</td><td>26</td><td>NA</td><td>N877AS</td><td> 2</td></tr>\n",
              "\t<tr><td>2013</td><td>12</td><td>29</td><td>NA</td><td>N231JB</td><td> 2</td></tr>\n",
              "\t<tr><td>2013</td><td>12</td><td>29</td><td>NA</td><td>NA    </td><td> 2</td></tr>\n",
              "\t<tr><td>2013</td><td>12</td><td>30</td><td>NA</td><td>NA    </td><td> 4</td></tr>\n",
              "\t<tr><td>2013</td><td>12</td><td>31</td><td>NA</td><td>NA    </td><td>11</td></tr>\n",
              "</tbody>\n",
              "</table>\n"
            ],
            "text/markdown": "\nA tibble: 706 × 6\n\n| year &lt;int&gt; | month &lt;int&gt; | day &lt;int&gt; | dep_time &lt;int&gt; | tailnum &lt;chr&gt; | n &lt;int&gt; |\n|---|---|---|---|---|---|\n| 2013 | 1 |  2 | NA | N10575 |  2 |\n| 2013 | 1 |  2 | NA | NA     |  2 |\n| 2013 | 1 |  3 | NA | NA     |  2 |\n| 2013 | 1 |  4 | NA | NA     |  2 |\n| 2013 | 1 |  9 | NA | NA     |  2 |\n| 2013 | 1 | 10 | NA | NA     |  2 |\n| 2013 | 1 | 12 | NA | NA     |  2 |\n| 2013 | 1 | 13 | NA | NA     |  7 |\n| 2013 | 1 | 15 | NA | NA     |  2 |\n| 2013 | 1 | 16 | NA | N12195 |  2 |\n| 2013 | 1 | 16 | NA | NA     | 24 |\n| 2013 | 1 | 17 | NA | NA     |  4 |\n| 2013 | 1 | 18 | NA | N12166 |  2 |\n| 2013 | 1 | 18 | NA | N12957 |  2 |\n| 2013 | 1 | 18 | NA | NA     |  3 |\n| 2013 | 1 | 21 | NA | NA     |  5 |\n| 2013 | 1 | 22 | NA | NA     |  3 |\n| 2013 | 1 | 23 | NA | NA     |  4 |\n| 2013 | 1 | 24 | NA | NA     |  4 |\n| 2013 | 1 | 25 | NA | N13133 |  2 |\n| 2013 | 1 | 25 | NA | N13968 |  2 |\n| 2013 | 1 | 25 | NA | NA     | 16 |\n| 2013 | 1 | 26 | NA | N832MQ |  2 |\n| 2013 | 1 | 26 | NA | NA     |  2 |\n| 2013 | 1 | 27 | NA | NA     |  6 |\n| 2013 | 1 | 28 | NA | N10156 |  2 |\n| 2013 | 1 | 28 | NA | N11548 |  2 |\n| 2013 | 1 | 28 | NA | N13908 |  2 |\n| 2013 | 1 | 28 | NA | N13969 |  3 |\n| 2013 | 1 | 28 | NA | N14125 |  2 |\n| ⋮ | ⋮ | ⋮ | ⋮ | ⋮ | ⋮ |\n| 2013 | 12 | 14 | NA | N13992 |  2 |\n| 2013 | 12 | 14 | NA | N14542 |  2 |\n| 2013 | 12 | 14 | NA | N16951 |  2 |\n| 2013 | 12 | 14 | NA | N16987 |  2 |\n| 2013 | 12 | 14 | NA | N31131 |  3 |\n| 2013 | 12 | 14 | NA | N539MQ |  2 |\n| 2013 | 12 | 14 | NA | N829AS |  2 |\n| 2013 | 12 | 14 | NA | NA     | 38 |\n| 2013 | 12 | 15 | NA | N13989 |  2 |\n| 2013 | 12 | 15 | NA | N661JB |  2 |\n| 2013 | 12 | 15 | NA | NA     | 21 |\n| 2013 | 12 | 16 | NA | N816MQ |  2 |\n| 2013 | 12 | 17 | NA | N13566 |  2 |\n| 2013 | 12 | 17 | NA | N13949 |  2 |\n| 2013 | 12 | 17 | NA | N14186 |  2 |\n| 2013 | 12 | 17 | NA | N14570 |  2 |\n| 2013 | 12 | 17 | NA | N14904 |  2 |\n| 2013 | 12 | 17 | NA | N16918 |  2 |\n| 2013 | 12 | 17 | NA | N16981 |  2 |\n| 2013 | 12 | 17 | NA | N813MQ |  2 |\n| 2013 | 12 | 17 | NA | NA     | 27 |\n| 2013 | 12 | 20 | NA | N16112 |  2 |\n| 2013 | 12 | 20 | NA | NA     |  3 |\n| 2013 | 12 | 21 | NA | NA     |  2 |\n| 2013 | 12 | 23 | NA | NA     | 10 |\n| 2013 | 12 | 26 | NA | N877AS |  2 |\n| 2013 | 12 | 29 | NA | N231JB |  2 |\n| 2013 | 12 | 29 | NA | NA     |  2 |\n| 2013 | 12 | 30 | NA | NA     |  4 |\n| 2013 | 12 | 31 | NA | NA     | 11 |\n\n",
            "text/latex": "A tibble: 706 × 6\n\\begin{tabular}{llllll}\n year & month & day & dep\\_time & tailnum & n\\\\\n <int> & <int> & <int> & <int> & <chr> & <int>\\\\\n\\hline\n\t 2013 & 1 &  2 & NA & N10575 &  2\\\\\n\t 2013 & 1 &  2 & NA & NA     &  2\\\\\n\t 2013 & 1 &  3 & NA & NA     &  2\\\\\n\t 2013 & 1 &  4 & NA & NA     &  2\\\\\n\t 2013 & 1 &  9 & NA & NA     &  2\\\\\n\t 2013 & 1 & 10 & NA & NA     &  2\\\\\n\t 2013 & 1 & 12 & NA & NA     &  2\\\\\n\t 2013 & 1 & 13 & NA & NA     &  7\\\\\n\t 2013 & 1 & 15 & NA & NA     &  2\\\\\n\t 2013 & 1 & 16 & NA & N12195 &  2\\\\\n\t 2013 & 1 & 16 & NA & NA     & 24\\\\\n\t 2013 & 1 & 17 & NA & NA     &  4\\\\\n\t 2013 & 1 & 18 & NA & N12166 &  2\\\\\n\t 2013 & 1 & 18 & NA & N12957 &  2\\\\\n\t 2013 & 1 & 18 & NA & NA     &  3\\\\\n\t 2013 & 1 & 21 & NA & NA     &  5\\\\\n\t 2013 & 1 & 22 & NA & NA     &  3\\\\\n\t 2013 & 1 & 23 & NA & NA     &  4\\\\\n\t 2013 & 1 & 24 & NA & NA     &  4\\\\\n\t 2013 & 1 & 25 & NA & N13133 &  2\\\\\n\t 2013 & 1 & 25 & NA & N13968 &  2\\\\\n\t 2013 & 1 & 25 & NA & NA     & 16\\\\\n\t 2013 & 1 & 26 & NA & N832MQ &  2\\\\\n\t 2013 & 1 & 26 & NA & NA     &  2\\\\\n\t 2013 & 1 & 27 & NA & NA     &  6\\\\\n\t 2013 & 1 & 28 & NA & N10156 &  2\\\\\n\t 2013 & 1 & 28 & NA & N11548 &  2\\\\\n\t 2013 & 1 & 28 & NA & N13908 &  2\\\\\n\t 2013 & 1 & 28 & NA & N13969 &  3\\\\\n\t 2013 & 1 & 28 & NA & N14125 &  2\\\\\n\t ⋮ & ⋮ & ⋮ & ⋮ & ⋮ & ⋮\\\\\n\t 2013 & 12 & 14 & NA & N13992 &  2\\\\\n\t 2013 & 12 & 14 & NA & N14542 &  2\\\\\n\t 2013 & 12 & 14 & NA & N16951 &  2\\\\\n\t 2013 & 12 & 14 & NA & N16987 &  2\\\\\n\t 2013 & 12 & 14 & NA & N31131 &  3\\\\\n\t 2013 & 12 & 14 & NA & N539MQ &  2\\\\\n\t 2013 & 12 & 14 & NA & N829AS &  2\\\\\n\t 2013 & 12 & 14 & NA & NA     & 38\\\\\n\t 2013 & 12 & 15 & NA & N13989 &  2\\\\\n\t 2013 & 12 & 15 & NA & N661JB &  2\\\\\n\t 2013 & 12 & 15 & NA & NA     & 21\\\\\n\t 2013 & 12 & 16 & NA & N816MQ &  2\\\\\n\t 2013 & 12 & 17 & NA & N13566 &  2\\\\\n\t 2013 & 12 & 17 & NA & N13949 &  2\\\\\n\t 2013 & 12 & 17 & NA & N14186 &  2\\\\\n\t 2013 & 12 & 17 & NA & N14570 &  2\\\\\n\t 2013 & 12 & 17 & NA & N14904 &  2\\\\\n\t 2013 & 12 & 17 & NA & N16918 &  2\\\\\n\t 2013 & 12 & 17 & NA & N16981 &  2\\\\\n\t 2013 & 12 & 17 & NA & N813MQ &  2\\\\\n\t 2013 & 12 & 17 & NA & NA     & 27\\\\\n\t 2013 & 12 & 20 & NA & N16112 &  2\\\\\n\t 2013 & 12 & 20 & NA & NA     &  3\\\\\n\t 2013 & 12 & 21 & NA & NA     &  2\\\\\n\t 2013 & 12 & 23 & NA & NA     & 10\\\\\n\t 2013 & 12 & 26 & NA & N877AS &  2\\\\\n\t 2013 & 12 & 29 & NA & N231JB &  2\\\\\n\t 2013 & 12 & 29 & NA & NA     &  2\\\\\n\t 2013 & 12 & 30 & NA & NA     &  4\\\\\n\t 2013 & 12 & 31 & NA & NA     & 11\\\\\n\\end{tabular}\n",
            "text/plain": [
              "    year month day dep_time tailnum n \n",
              "1   2013 1      2  NA       N10575   2\n",
              "2   2013 1      2  NA       NA       2\n",
              "3   2013 1      3  NA       NA       2\n",
              "4   2013 1      4  NA       NA       2\n",
              "5   2013 1      9  NA       NA       2\n",
              "6   2013 1     10  NA       NA       2\n",
              "7   2013 1     12  NA       NA       2\n",
              "8   2013 1     13  NA       NA       7\n",
              "9   2013 1     15  NA       NA       2\n",
              "10  2013 1     16  NA       N12195   2\n",
              "11  2013 1     16  NA       NA      24\n",
              "12  2013 1     17  NA       NA       4\n",
              "13  2013 1     18  NA       N12166   2\n",
              "14  2013 1     18  NA       N12957   2\n",
              "15  2013 1     18  NA       NA       3\n",
              "16  2013 1     21  NA       NA       5\n",
              "17  2013 1     22  NA       NA       3\n",
              "18  2013 1     23  NA       NA       4\n",
              "19  2013 1     24  NA       NA       4\n",
              "20  2013 1     25  NA       N13133   2\n",
              "21  2013 1     25  NA       N13968   2\n",
              "22  2013 1     25  NA       NA      16\n",
              "23  2013 1     26  NA       N832MQ   2\n",
              "24  2013 1     26  NA       NA       2\n",
              "25  2013 1     27  NA       NA       6\n",
              "26  2013 1     28  NA       N10156   2\n",
              "27  2013 1     28  NA       N11548   2\n",
              "28  2013 1     28  NA       N13908   2\n",
              "29  2013 1     28  NA       N13969   3\n",
              "30  2013 1     28  NA       N14125   2\n",
              "⋮   ⋮    ⋮     ⋮   ⋮        ⋮       ⋮ \n",
              "677 2013 12    14  NA       N13992   2\n",
              "678 2013 12    14  NA       N14542   2\n",
              "679 2013 12    14  NA       N16951   2\n",
              "680 2013 12    14  NA       N16987   2\n",
              "681 2013 12    14  NA       N31131   3\n",
              "682 2013 12    14  NA       N539MQ   2\n",
              "683 2013 12    14  NA       N829AS   2\n",
              "684 2013 12    14  NA       NA      38\n",
              "685 2013 12    15  NA       N13989   2\n",
              "686 2013 12    15  NA       N661JB   2\n",
              "687 2013 12    15  NA       NA      21\n",
              "688 2013 12    16  NA       N816MQ   2\n",
              "689 2013 12    17  NA       N13566   2\n",
              "690 2013 12    17  NA       N13949   2\n",
              "691 2013 12    17  NA       N14186   2\n",
              "692 2013 12    17  NA       N14570   2\n",
              "693 2013 12    17  NA       N14904   2\n",
              "694 2013 12    17  NA       N16918   2\n",
              "695 2013 12    17  NA       N16981   2\n",
              "696 2013 12    17  NA       N813MQ   2\n",
              "697 2013 12    17  NA       NA      27\n",
              "698 2013 12    20  NA       N16112   2\n",
              "699 2013 12    20  NA       NA       3\n",
              "700 2013 12    21  NA       NA       2\n",
              "701 2013 12    23  NA       NA      10\n",
              "702 2013 12    26  NA       N877AS   2\n",
              "703 2013 12    29  NA       N231JB   2\n",
              "704 2013 12    29  NA       NA       2\n",
              "705 2013 12    30  NA       NA       4\n",
              "706 2013 12    31  NA       NA      11"
            ]
          },
          "metadata": {}
        }
      ],
      "source": [
        "flights %>% count(year, month, day, dep_time, tailnum) %>% filter (n > 1)"
      ]
    },
    {
      "cell_type": "markdown",
      "metadata": {
        "id": "QquSQidK-hWc"
      },
      "source": [
        "We might guess that `year`, `month`, `day`, and `tailnum` are sufficient to identify each row in `flights`, but this is not true:"
      ]
    },
    {
      "cell_type": "code",
      "execution_count": 35,
      "metadata": {
        "id": "-eLwgvPB-hWc",
        "outputId": "5a2863be-6c14-4df9-c31f-808f666c04c6",
        "colab": {
          "base_uri": "https://localhost:8080/",
          "height": 129
        }
      },
      "outputs": [
        {
          "output_type": "display_data",
          "data": {
            "text/html": [
              "<table class=\"dataframe\">\n",
              "<caption>A tibble: 1 × 2</caption>\n",
              "<thead>\n",
              "\t<tr><th scope=col>n</th><th scope=col>nd</th></tr>\n",
              "\t<tr><th scope=col>&lt;int&gt;</th><th scope=col>&lt;int&gt;</th></tr>\n",
              "</thead>\n",
              "<tbody>\n",
              "\t<tr><td>336776</td><td>251727</td></tr>\n",
              "</tbody>\n",
              "</table>\n"
            ],
            "text/markdown": "\nA tibble: 1 × 2\n\n| n &lt;int&gt; | nd &lt;int&gt; |\n|---|---|\n| 336776 | 251727 |\n\n",
            "text/latex": "A tibble: 1 × 2\n\\begin{tabular}{ll}\n n & nd\\\\\n <int> & <int>\\\\\n\\hline\n\t 336776 & 251727\\\\\n\\end{tabular}\n",
            "text/plain": [
              "  n      nd    \n",
              "1 336776 251727"
            ]
          },
          "metadata": {}
        }
      ],
      "source": [
        "flights %>% summarize(n = n(), nd = n_distinct(year, month, day, tailnum))"
      ]
    },
    {
      "cell_type": "markdown",
      "metadata": {
        "id": "B3MhcRww-hWc"
      },
      "source": [
        "In fact, even restricting to the exact *minute* that an airplane departed is not sufficient:"
      ]
    },
    {
      "cell_type": "code",
      "execution_count": 36,
      "metadata": {
        "id": "YR9VBH9k-hWc",
        "outputId": "be1977a6-137a-4afe-e64f-7876c4b1962e",
        "colab": {
          "base_uri": "https://localhost:8080/",
          "height": 129
        }
      },
      "outputs": [
        {
          "output_type": "display_data",
          "data": {
            "text/html": [
              "<table class=\"dataframe\">\n",
              "<caption>A tibble: 1 × 2</caption>\n",
              "<thead>\n",
              "\t<tr><th scope=col>n</th><th scope=col>nd</th></tr>\n",
              "\t<tr><th scope=col>&lt;int&gt;</th><th scope=col>&lt;int&gt;</th></tr>\n",
              "</thead>\n",
              "<tbody>\n",
              "\t<tr><td>336776</td><td>336367</td></tr>\n",
              "</tbody>\n",
              "</table>\n"
            ],
            "text/markdown": "\nA tibble: 1 × 2\n\n| n &lt;int&gt; | nd &lt;int&gt; |\n|---|---|\n| 336776 | 336367 |\n\n",
            "text/latex": "A tibble: 1 × 2\n\\begin{tabular}{ll}\n n & nd\\\\\n <int> & <int>\\\\\n\\hline\n\t 336776 & 336367\\\\\n\\end{tabular}\n",
            "text/plain": [
              "  n      nd    \n",
              "1 336776 336367"
            ]
          },
          "metadata": {}
        }
      ],
      "source": [
        "flights %>% summarize(n=n(), nd=n_distinct(tailnum, time_hour, minute))"
      ]
    },
    {
      "cell_type": "code",
      "execution_count": 37,
      "metadata": {
        "id": "-aj3yXRn-hWc",
        "outputId": "467d47c4-01ab-4661-f98f-411688c3f964",
        "colab": {
          "base_uri": "https://localhost:8080/",
          "height": 129
        }
      },
      "outputs": [
        {
          "output_type": "display_data",
          "data": {
            "text/html": [
              "<table class=\"dataframe\">\n",
              "<caption>A tibble: 1 × 2</caption>\n",
              "<thead>\n",
              "\t<tr><th scope=col>n</th><th scope=col>nd</th></tr>\n",
              "\t<tr><th scope=col>&lt;int&gt;</th><th scope=col>&lt;int&gt;</th></tr>\n",
              "</thead>\n",
              "<tbody>\n",
              "\t<tr><td>336776</td><td>336367</td></tr>\n",
              "</tbody>\n",
              "</table>\n"
            ],
            "text/markdown": "\nA tibble: 1 × 2\n\n| n &lt;int&gt; | nd &lt;int&gt; |\n|---|---|\n| 336776 | 336367 |\n\n",
            "text/latex": "A tibble: 1 × 2\n\\begin{tabular}{ll}\n n & nd\\\\\n <int> & <int>\\\\\n\\hline\n\t 336776 & 336367\\\\\n\\end{tabular}\n",
            "text/plain": [
              "  n      nd    \n",
              "1 336776 336367"
            ]
          },
          "metadata": {}
        }
      ],
      "source": [
        "flights %>% summarize(n=n(), nd = n_distinct(tailnum, year, month, day, hour, minute))"
      ]
    },
    {
      "cell_type": "markdown",
      "metadata": {
        "id": "yKnQG84X-hWc"
      },
      "source": [
        "This says that there are certain airplanes that are marked as having departed more than once in the same year, month, day, hour and minute. We can inspect these rows as follows:"
      ]
    },
    {
      "cell_type": "code",
      "execution_count": null,
      "metadata": {
        "id": "5S4fyTDn-hWc",
        "outputId": "2d7a995c-36af-4bd9-96ea-971e5fdde119"
      },
      "outputs": [
        {
          "name": "stdout",
          "output_type": "stream",
          "text": [
            "\u001b[90m# A tibble: 298 × 4\u001b[39m\n",
            "   tailnum time_hour           minute     n\n",
            "   \u001b[3m\u001b[90m<chr>\u001b[39m\u001b[23m   \u001b[3m\u001b[90m<dttm>\u001b[39m\u001b[23m               \u001b[3m\u001b[90m<dbl>\u001b[39m\u001b[23m \u001b[3m\u001b[90m<int>\u001b[39m\u001b[23m\n",
            "\u001b[90m 1\u001b[39m N11119  2013-06-10 \u001b[90m16:00:00\u001b[39m     55     2\n",
            "\u001b[90m 2\u001b[39m N11192  2013-08-26 \u001b[90m08:00:00\u001b[39m     30     2\n",
            "\u001b[90m 3\u001b[39m N12563  2013-02-04 \u001b[90m16:00:00\u001b[39m     19     2\n",
            "\u001b[90m 4\u001b[39m N12564  2013-01-13 \u001b[90m20:00:00\u001b[39m      0     2\n",
            "\u001b[90m 5\u001b[39m N12900  2013-07-10 \u001b[90m21:00:00\u001b[39m     29     2\n",
            "\u001b[90m 6\u001b[39m N13969  2013-01-28 \u001b[90m07:00:00\u001b[39m     59     2\n",
            "\u001b[90m 7\u001b[39m N14148  2013-03-12 \u001b[90m06:00:00\u001b[39m     30     2\n",
            "\u001b[90m 8\u001b[39m N14558  2013-04-19 \u001b[90m13:00:00\u001b[39m     29     2\n",
            "\u001b[90m 9\u001b[39m N14916  2013-02-11 \u001b[90m13:00:00\u001b[39m     15     2\n",
            "\u001b[90m10\u001b[39m N14974  2013-07-26 \u001b[90m06:00:00\u001b[39m     30     2\n",
            "\u001b[90m# ℹ 288 more rows\u001b[39m\n"
          ]
        }
      ],
      "source": [
        "count(flights, tailnum, time_hour, minute) %>% filter(n > 1) %>% print"
      ]
    },
    {
      "cell_type": "code",
      "execution_count": null,
      "metadata": {
        "id": "WB0R_hPQ-hWd",
        "outputId": "b39a47d8-9ad9-4d8d-ce8d-99c0e6f6cd52"
      },
      "outputs": [
        {
          "name": "stdout",
          "output_type": "stream",
          "text": [
            "\u001b[90m# A tibble: 298 × 7\u001b[39m\n",
            "   tailnum  year month   day  hour minute     n\n",
            "   \u001b[3m\u001b[90m<chr>\u001b[39m\u001b[23m   \u001b[3m\u001b[90m<int>\u001b[39m\u001b[23m \u001b[3m\u001b[90m<int>\u001b[39m\u001b[23m \u001b[3m\u001b[90m<int>\u001b[39m\u001b[23m \u001b[3m\u001b[90m<dbl>\u001b[39m\u001b[23m  \u001b[3m\u001b[90m<dbl>\u001b[39m\u001b[23m \u001b[3m\u001b[90m<int>\u001b[39m\u001b[23m\n",
            "\u001b[90m 1\u001b[39m N11119   \u001b[4m2\u001b[24m013     6    10    16     55     2\n",
            "\u001b[90m 2\u001b[39m N11192   \u001b[4m2\u001b[24m013     8    26     8     30     2\n",
            "\u001b[90m 3\u001b[39m N12563   \u001b[4m2\u001b[24m013     2     4    16     19     2\n",
            "\u001b[90m 4\u001b[39m N12564   \u001b[4m2\u001b[24m013     1    13    20      0     2\n",
            "\u001b[90m 5\u001b[39m N12900   \u001b[4m2\u001b[24m013     7    10    21     29     2\n",
            "\u001b[90m 6\u001b[39m N13969   \u001b[4m2\u001b[24m013     1    28     7     59     2\n",
            "\u001b[90m 7\u001b[39m N14148   \u001b[4m2\u001b[24m013     3    12     6     30     2\n",
            "\u001b[90m 8\u001b[39m N14558   \u001b[4m2\u001b[24m013     4    19    13     29     2\n",
            "\u001b[90m 9\u001b[39m N14916   \u001b[4m2\u001b[24m013     2    11    13     15     2\n",
            "\u001b[90m10\u001b[39m N14974   \u001b[4m2\u001b[24m013     7    26     6     30     2\n",
            "\u001b[90m# ℹ 288 more rows\u001b[39m\n"
          ]
        }
      ],
      "source": [
        "count(flights, tailnum, year, month, day, hour, minute) %>% filter(n > 1) %>% print"
      ]
    },
    {
      "cell_type": "markdown",
      "metadata": {
        "id": "PsjSt-ri-hWd"
      },
      "source": [
        "These likely indicate data entry errors."
      ]
    },
    {
      "cell_type": "markdown",
      "metadata": {
        "id": "r8z5TmJL-hWd"
      },
      "source": [
        "## 🤔 Quiz\n",
        "\n",
        "What column(s) constitute a primary key in the `mpg` table?\n",
        "\n",
        "<ol style=\"list-style-type: upper-alpha;\">\n",
        "    <li><code>manufacturer</code> and <code>model</code></li>\n",
        "    <li><code>manufacturer</code>, <code>year</code>, and <code>model</code></li>\n",
        "    <li><code>manufacturer</code>, <code>year</code>, <code>displ</code>, and <code>model</code></li>\n",
        "    <li><code>manufacturer</code>, <code>year</code>, <code>displ</code>, <code>trans</code>, and <code>model</code></li>\n",
        "    <li>None of these</li>\n",
        "</ol>\n",
        "\n"
      ]
    },
    {
      "cell_type": "code",
      "execution_count": 42,
      "metadata": {
        "id": "4d_6e9kY-hWd",
        "outputId": "d26332bb-2fff-44e3-cf19-7f53f0384486",
        "colab": {
          "base_uri": "https://localhost:8080/",
          "height": 725
        }
      },
      "outputs": [
        {
          "output_type": "display_data",
          "data": {
            "text/html": [
              "<table class=\"dataframe\">\n",
              "<caption>A tibble: 20 × 6</caption>\n",
              "<thead>\n",
              "\t<tr><th scope=col>manufacturer</th><th scope=col>model</th><th scope=col>year</th><th scope=col>displ</th><th scope=col>trans</th><th scope=col>n</th></tr>\n",
              "\t<tr><th scope=col>&lt;chr&gt;</th><th scope=col>&lt;chr&gt;</th><th scope=col>&lt;int&gt;</th><th scope=col>&lt;dbl&gt;</th><th scope=col>&lt;chr&gt;</th><th scope=col>&lt;int&gt;</th></tr>\n",
              "</thead>\n",
              "<tbody>\n",
              "\t<tr><td>chevrolet</td><td>c1500 suburban 2wd </td><td>2008</td><td>5.3</td><td>auto(l4)  </td><td>3</td></tr>\n",
              "\t<tr><td>chevrolet</td><td>k1500 tahoe 4wd    </td><td>2008</td><td>5.3</td><td>auto(l4)  </td><td>2</td></tr>\n",
              "\t<tr><td>dodge    </td><td>caravan 2wd        </td><td>1999</td><td>3.3</td><td>auto(l4)  </td><td>2</td></tr>\n",
              "\t<tr><td>dodge    </td><td>caravan 2wd        </td><td>1999</td><td>3.8</td><td>auto(l4)  </td><td>2</td></tr>\n",
              "\t<tr><td>dodge    </td><td>caravan 2wd        </td><td>2008</td><td>3.3</td><td>auto(l4)  </td><td>3</td></tr>\n",
              "\t<tr><td>dodge    </td><td>dakota pickup 4wd  </td><td>2008</td><td>4.7</td><td>auto(l5)  </td><td>3</td></tr>\n",
              "\t<tr><td>dodge    </td><td>durango 4wd        </td><td>2008</td><td>4.7</td><td>auto(l5)  </td><td>3</td></tr>\n",
              "\t<tr><td>dodge    </td><td>ram 1500 pickup 4wd</td><td>2008</td><td>4.7</td><td>auto(l5)  </td><td>3</td></tr>\n",
              "\t<tr><td>dodge    </td><td>ram 1500 pickup 4wd</td><td>2008</td><td>4.7</td><td>manual(m6)</td><td>3</td></tr>\n",
              "\t<tr><td>ford     </td><td>explorer 4wd       </td><td>1999</td><td>4.0</td><td>auto(l5)  </td><td>2</td></tr>\n",
              "\t<tr><td>honda    </td><td>civic              </td><td>1999</td><td>1.6</td><td>auto(l4)  </td><td>2</td></tr>\n",
              "\t<tr><td>honda    </td><td>civic              </td><td>1999</td><td>1.6</td><td>manual(m5)</td><td>3</td></tr>\n",
              "\t<tr><td>honda    </td><td>civic              </td><td>2008</td><td>1.8</td><td>auto(l5)  </td><td>2</td></tr>\n",
              "\t<tr><td>jeep     </td><td>grand cherokee 4wd </td><td>2008</td><td>4.7</td><td>auto(l5)  </td><td>2</td></tr>\n",
              "\t<tr><td>lincoln  </td><td>navigator 2wd      </td><td>1999</td><td>5.4</td><td>auto(l4)  </td><td>2</td></tr>\n",
              "\t<tr><td>pontiac  </td><td>grand prix         </td><td>1999</td><td>3.8</td><td>auto(l4)  </td><td>2</td></tr>\n",
              "\t<tr><td>subaru   </td><td>forester awd       </td><td>2008</td><td>2.5</td><td>auto(l4)  </td><td>2</td></tr>\n",
              "\t<tr><td>subaru   </td><td>forester awd       </td><td>2008</td><td>2.5</td><td>manual(m5)</td><td>2</td></tr>\n",
              "\t<tr><td>subaru   </td><td>impreza awd        </td><td>2008</td><td>2.5</td><td>auto(s4)  </td><td>2</td></tr>\n",
              "\t<tr><td>subaru   </td><td>impreza awd        </td><td>2008</td><td>2.5</td><td>manual(m5)</td><td>2</td></tr>\n",
              "</tbody>\n",
              "</table>\n"
            ],
            "text/markdown": "\nA tibble: 20 × 6\n\n| manufacturer &lt;chr&gt; | model &lt;chr&gt; | year &lt;int&gt; | displ &lt;dbl&gt; | trans &lt;chr&gt; | n &lt;int&gt; |\n|---|---|---|---|---|---|\n| chevrolet | c1500 suburban 2wd  | 2008 | 5.3 | auto(l4)   | 3 |\n| chevrolet | k1500 tahoe 4wd     | 2008 | 5.3 | auto(l4)   | 2 |\n| dodge     | caravan 2wd         | 1999 | 3.3 | auto(l4)   | 2 |\n| dodge     | caravan 2wd         | 1999 | 3.8 | auto(l4)   | 2 |\n| dodge     | caravan 2wd         | 2008 | 3.3 | auto(l4)   | 3 |\n| dodge     | dakota pickup 4wd   | 2008 | 4.7 | auto(l5)   | 3 |\n| dodge     | durango 4wd         | 2008 | 4.7 | auto(l5)   | 3 |\n| dodge     | ram 1500 pickup 4wd | 2008 | 4.7 | auto(l5)   | 3 |\n| dodge     | ram 1500 pickup 4wd | 2008 | 4.7 | manual(m6) | 3 |\n| ford      | explorer 4wd        | 1999 | 4.0 | auto(l5)   | 2 |\n| honda     | civic               | 1999 | 1.6 | auto(l4)   | 2 |\n| honda     | civic               | 1999 | 1.6 | manual(m5) | 3 |\n| honda     | civic               | 2008 | 1.8 | auto(l5)   | 2 |\n| jeep      | grand cherokee 4wd  | 2008 | 4.7 | auto(l5)   | 2 |\n| lincoln   | navigator 2wd       | 1999 | 5.4 | auto(l4)   | 2 |\n| pontiac   | grand prix          | 1999 | 3.8 | auto(l4)   | 2 |\n| subaru    | forester awd        | 2008 | 2.5 | auto(l4)   | 2 |\n| subaru    | forester awd        | 2008 | 2.5 | manual(m5) | 2 |\n| subaru    | impreza awd         | 2008 | 2.5 | auto(s4)   | 2 |\n| subaru    | impreza awd         | 2008 | 2.5 | manual(m5) | 2 |\n\n",
            "text/latex": "A tibble: 20 × 6\n\\begin{tabular}{llllll}\n manufacturer & model & year & displ & trans & n\\\\\n <chr> & <chr> & <int> & <dbl> & <chr> & <int>\\\\\n\\hline\n\t chevrolet & c1500 suburban 2wd  & 2008 & 5.3 & auto(l4)   & 3\\\\\n\t chevrolet & k1500 tahoe 4wd     & 2008 & 5.3 & auto(l4)   & 2\\\\\n\t dodge     & caravan 2wd         & 1999 & 3.3 & auto(l4)   & 2\\\\\n\t dodge     & caravan 2wd         & 1999 & 3.8 & auto(l4)   & 2\\\\\n\t dodge     & caravan 2wd         & 2008 & 3.3 & auto(l4)   & 3\\\\\n\t dodge     & dakota pickup 4wd   & 2008 & 4.7 & auto(l5)   & 3\\\\\n\t dodge     & durango 4wd         & 2008 & 4.7 & auto(l5)   & 3\\\\\n\t dodge     & ram 1500 pickup 4wd & 2008 & 4.7 & auto(l5)   & 3\\\\\n\t dodge     & ram 1500 pickup 4wd & 2008 & 4.7 & manual(m6) & 3\\\\\n\t ford      & explorer 4wd        & 1999 & 4.0 & auto(l5)   & 2\\\\\n\t honda     & civic               & 1999 & 1.6 & auto(l4)   & 2\\\\\n\t honda     & civic               & 1999 & 1.6 & manual(m5) & 3\\\\\n\t honda     & civic               & 2008 & 1.8 & auto(l5)   & 2\\\\\n\t jeep      & grand cherokee 4wd  & 2008 & 4.7 & auto(l5)   & 2\\\\\n\t lincoln   & navigator 2wd       & 1999 & 5.4 & auto(l4)   & 2\\\\\n\t pontiac   & grand prix          & 1999 & 3.8 & auto(l4)   & 2\\\\\n\t subaru    & forester awd        & 2008 & 2.5 & auto(l4)   & 2\\\\\n\t subaru    & forester awd        & 2008 & 2.5 & manual(m5) & 2\\\\\n\t subaru    & impreza awd         & 2008 & 2.5 & auto(s4)   & 2\\\\\n\t subaru    & impreza awd         & 2008 & 2.5 & manual(m5) & 2\\\\\n\\end{tabular}\n",
            "text/plain": [
              "   manufacturer model               year displ trans      n\n",
              "1  chevrolet    c1500 suburban 2wd  2008 5.3   auto(l4)   3\n",
              "2  chevrolet    k1500 tahoe 4wd     2008 5.3   auto(l4)   2\n",
              "3  dodge        caravan 2wd         1999 3.3   auto(l4)   2\n",
              "4  dodge        caravan 2wd         1999 3.8   auto(l4)   2\n",
              "5  dodge        caravan 2wd         2008 3.3   auto(l4)   3\n",
              "6  dodge        dakota pickup 4wd   2008 4.7   auto(l5)   3\n",
              "7  dodge        durango 4wd         2008 4.7   auto(l5)   3\n",
              "8  dodge        ram 1500 pickup 4wd 2008 4.7   auto(l5)   3\n",
              "9  dodge        ram 1500 pickup 4wd 2008 4.7   manual(m6) 3\n",
              "10 ford         explorer 4wd        1999 4.0   auto(l5)   2\n",
              "11 honda        civic               1999 1.6   auto(l4)   2\n",
              "12 honda        civic               1999 1.6   manual(m5) 3\n",
              "13 honda        civic               2008 1.8   auto(l5)   2\n",
              "14 jeep         grand cherokee 4wd  2008 4.7   auto(l5)   2\n",
              "15 lincoln      navigator 2wd       1999 5.4   auto(l4)   2\n",
              "16 pontiac      grand prix          1999 3.8   auto(l4)   2\n",
              "17 subaru       forester awd        2008 2.5   auto(l4)   2\n",
              "18 subaru       forester awd        2008 2.5   manual(m5) 2\n",
              "19 subaru       impreza awd         2008 2.5   auto(s4)   2\n",
              "20 subaru       impreza awd         2008 2.5   manual(m5) 2"
            ]
          },
          "metadata": {}
        }
      ],
      "source": [
        "# primary key in mpg\n",
        "mpg %>% count(manufacturer, model, year, displ, trans) %>% filter( n > 1)"
      ]
    },
    {
      "cell_type": "markdown",
      "metadata": {
        "id": "ox--JrGV-hWe"
      },
      "source": [
        "## Relations\n",
        "A foreign key is a variable (or set of variables) that corresponds to a primary key in another table. For example:\n",
        "* `flights$tailnum` is a foreign key that corresponds to the primary key `planes$tailnum`.\n",
        "* `flights$carrier` is a foreign key that corresponds to the primary key `airlines$carrier`.\n",
        "* `flights$origin` is a foreign key that corresponds to the primary key `airports$faa`.\n",
        "* `flights$dest` is a foreign key that corresponds to the primary key `airports$faa`.\n",
        "  \n",
        "A **primary key** and the corresponding **foreign key** in another table form a *relation*. Relations come in several forms:\n",
        "- *One-to-many*. (Most common). For example, each flight has one plane, but each plane has many flights.\n",
        "- *Many-to-many*: For example, each airline flies to many airports; each airport hosts many airlines.\n",
        "- *One-to-one*. Each row in one table corresponds uniquely to a row in a second table. This is relatively uncommon because you could just as easily combine the two tables into one."
      ]
    },
    {
      "cell_type": "code",
      "execution_count": 3,
      "metadata": {
        "id": "9ZdG8p27-hWe"
      },
      "outputs": [],
      "source": [
        "x = tribble(\n",
        "  ~key, ~val_x,\n",
        "     1, \"x1\",\n",
        "     2, \"x2\",\n",
        "     3, \"x3\"\n",
        ")\n",
        "y = tribble(\n",
        "  ~key, ~val_y,\n",
        "     1, \"y1\",\n",
        "     2, \"y2\",\n",
        "     4, \"y3\"\n",
        ")"
      ]
    },
    {
      "cell_type": "code",
      "execution_count": 47,
      "metadata": {
        "id": "Sgd-sPth-hWf",
        "outputId": "63eabdce-37a4-4576-ca3a-8c6fc3ebe86a",
        "colab": {
          "base_uri": "https://localhost:8080/",
          "height": 367
        }
      },
      "outputs": [
        {
          "output_type": "display_data",
          "data": {
            "text/html": [
              "<table class=\"dataframe\">\n",
              "<caption>A tibble: 3 × 2</caption>\n",
              "<thead>\n",
              "\t<tr><th scope=col>k</th><th scope=col>val_x</th></tr>\n",
              "\t<tr><th scope=col>&lt;dbl&gt;</th><th scope=col>&lt;chr&gt;</th></tr>\n",
              "</thead>\n",
              "<tbody>\n",
              "\t<tr><td>1</td><td>x1</td></tr>\n",
              "\t<tr><td>2</td><td>x2</td></tr>\n",
              "\t<tr><td>3</td><td>x3</td></tr>\n",
              "</tbody>\n",
              "</table>\n"
            ],
            "text/markdown": "\nA tibble: 3 × 2\n\n| k &lt;dbl&gt; | val_x &lt;chr&gt; |\n|---|---|\n| 1 | x1 |\n| 2 | x2 |\n| 3 | x3 |\n\n",
            "text/latex": "A tibble: 3 × 2\n\\begin{tabular}{ll}\n k & val\\_x\\\\\n <dbl> & <chr>\\\\\n\\hline\n\t 1 & x1\\\\\n\t 2 & x2\\\\\n\t 3 & x3\\\\\n\\end{tabular}\n",
            "text/plain": [
              "  k val_x\n",
              "1 1 x1   \n",
              "2 2 x2   \n",
              "3 3 x3   "
            ]
          },
          "metadata": {}
        },
        {
          "output_type": "display_data",
          "data": {
            "text/html": [
              "<table class=\"dataframe\">\n",
              "<caption>A tibble: 3 × 2</caption>\n",
              "<thead>\n",
              "\t<tr><th scope=col>key</th><th scope=col>val_y</th></tr>\n",
              "\t<tr><th scope=col>&lt;dbl&gt;</th><th scope=col>&lt;chr&gt;</th></tr>\n",
              "</thead>\n",
              "<tbody>\n",
              "\t<tr><td>1</td><td>y1</td></tr>\n",
              "\t<tr><td>2</td><td>y2</td></tr>\n",
              "\t<tr><td>4</td><td>y3</td></tr>\n",
              "</tbody>\n",
              "</table>\n"
            ],
            "text/markdown": "\nA tibble: 3 × 2\n\n| key &lt;dbl&gt; | val_y &lt;chr&gt; |\n|---|---|\n| 1 | y1 |\n| 2 | y2 |\n| 4 | y3 |\n\n",
            "text/latex": "A tibble: 3 × 2\n\\begin{tabular}{ll}\n key & val\\_y\\\\\n <dbl> & <chr>\\\\\n\\hline\n\t 1 & y1\\\\\n\t 2 & y2\\\\\n\t 4 & y3\\\\\n\\end{tabular}\n",
            "text/plain": [
              "  key val_y\n",
              "1 1   y1   \n",
              "2 2   y2   \n",
              "3 4   y3   "
            ]
          },
          "metadata": {}
        }
      ],
      "source": [
        "x\n",
        "y"
      ]
    },
    {
      "cell_type": "markdown",
      "metadata": {
        "id": "_tsoRga3-hWf"
      },
      "source": [
        "## Joins\n",
        "Joins are the way we combine or \"merge\" two data tables based on keys.\n",
        "To understand how joins work we'll study these two simple tables:\n",
        "\n",
        "![simple tables](http://r4ds.had.co.nz/diagrams/join-setup.png)"
      ]
    },
    {
      "cell_type": "markdown",
      "metadata": {
        "id": "RajQw6Va-hWj"
      },
      "source": [
        "### Inner joins\n",
        "Inner joins match a pair of observations whenever their keys are equal:\n",
        "![match example](https://r4ds.hadley.nz/diagrams/join/inner.png)"
      ]
    },
    {
      "cell_type": "code",
      "execution_count": 4,
      "metadata": {
        "id": "Yan1lRZx-hWj",
        "outputId": "db51d68c-7e64-43e5-fd59-b453f618141a",
        "colab": {
          "base_uri": "https://localhost:8080/",
          "height": 160
        }
      },
      "outputs": [
        {
          "output_type": "display_data",
          "data": {
            "text/html": [
              "<table class=\"dataframe\">\n",
              "<caption>A tibble: 2 × 3</caption>\n",
              "<thead>\n",
              "\t<tr><th scope=col>key</th><th scope=col>val_x</th><th scope=col>val_y</th></tr>\n",
              "\t<tr><th scope=col>&lt;dbl&gt;</th><th scope=col>&lt;chr&gt;</th><th scope=col>&lt;chr&gt;</th></tr>\n",
              "</thead>\n",
              "<tbody>\n",
              "\t<tr><td>1</td><td>x1</td><td>y1</td></tr>\n",
              "\t<tr><td>2</td><td>x2</td><td>y2</td></tr>\n",
              "</tbody>\n",
              "</table>\n"
            ],
            "text/markdown": "\nA tibble: 2 × 3\n\n| key &lt;dbl&gt; | val_x &lt;chr&gt; | val_y &lt;chr&gt; |\n|---|---|---|\n| 1 | x1 | y1 |\n| 2 | x2 | y2 |\n\n",
            "text/latex": "A tibble: 2 × 3\n\\begin{tabular}{lll}\n key & val\\_x & val\\_y\\\\\n <dbl> & <chr> & <chr>\\\\\n\\hline\n\t 1 & x1 & y1\\\\\n\t 2 & x2 & y2\\\\\n\\end{tabular}\n",
            "text/plain": [
              "  key val_x val_y\n",
              "1 1   x1    y1   \n",
              "2 2   x2    y2   "
            ]
          },
          "metadata": {}
        }
      ],
      "source": [
        "# older way of joining\n",
        "x %>% inner_join(y, by = \"key\")"
      ]
    },
    {
      "cell_type": "code",
      "execution_count": 5,
      "metadata": {
        "id": "OdgTz3lC-hWj",
        "outputId": "b96122ec-8cac-49d6-8b09-a087079f02dc",
        "colab": {
          "base_uri": "https://localhost:8080/",
          "height": 160
        }
      },
      "outputs": [
        {
          "output_type": "display_data",
          "data": {
            "text/html": [
              "<table class=\"dataframe\">\n",
              "<caption>A tibble: 2 × 3</caption>\n",
              "<thead>\n",
              "\t<tr><th scope=col>key</th><th scope=col>val_x</th><th scope=col>val_y</th></tr>\n",
              "\t<tr><th scope=col>&lt;dbl&gt;</th><th scope=col>&lt;chr&gt;</th><th scope=col>&lt;chr&gt;</th></tr>\n",
              "</thead>\n",
              "<tbody>\n",
              "\t<tr><td>1</td><td>x1</td><td>y1</td></tr>\n",
              "\t<tr><td>2</td><td>x2</td><td>y2</td></tr>\n",
              "</tbody>\n",
              "</table>\n"
            ],
            "text/markdown": "\nA tibble: 2 × 3\n\n| key &lt;dbl&gt; | val_x &lt;chr&gt; | val_y &lt;chr&gt; |\n|---|---|---|\n| 1 | x1 | y1 |\n| 2 | x2 | y2 |\n\n",
            "text/latex": "A tibble: 2 × 3\n\\begin{tabular}{lll}\n key & val\\_x & val\\_y\\\\\n <dbl> & <chr> & <chr>\\\\\n\\hline\n\t 1 & x1 & y1\\\\\n\t 2 & x2 & y2\\\\\n\\end{tabular}\n",
            "text/plain": [
              "  key val_x val_y\n",
              "1 1   x1    y1   \n",
              "2 2   x2    y2   "
            ]
          },
          "metadata": {}
        }
      ],
      "source": [
        "# using join_by is preferred\n",
        "x %>% inner_join(y, join_by('key'))"
      ]
    },
    {
      "cell_type": "code",
      "execution_count": 6,
      "metadata": {
        "id": "lnrFiCpa-hWp",
        "outputId": "b10dbba3-584e-4471-ece4-091c7153dbab",
        "colab": {
          "base_uri": "https://localhost:8080/",
          "height": 160
        }
      },
      "outputs": [
        {
          "output_type": "display_data",
          "data": {
            "text/html": [
              "<table class=\"dataframe\">\n",
              "<caption>A tibble: 2 × 3</caption>\n",
              "<thead>\n",
              "\t<tr><th scope=col>key</th><th scope=col>val_x</th><th scope=col>val_y</th></tr>\n",
              "\t<tr><th scope=col>&lt;dbl&gt;</th><th scope=col>&lt;chr&gt;</th><th scope=col>&lt;chr&gt;</th></tr>\n",
              "</thead>\n",
              "<tbody>\n",
              "\t<tr><td>1</td><td>x1</td><td>y1</td></tr>\n",
              "\t<tr><td>2</td><td>x2</td><td>y2</td></tr>\n",
              "</tbody>\n",
              "</table>\n"
            ],
            "text/markdown": "\nA tibble: 2 × 3\n\n| key &lt;dbl&gt; | val_x &lt;chr&gt; | val_y &lt;chr&gt; |\n|---|---|---|\n| 1 | x1 | y1 |\n| 2 | x2 | y2 |\n\n",
            "text/latex": "A tibble: 2 × 3\n\\begin{tabular}{lll}\n key & val\\_x & val\\_y\\\\\n <dbl> & <chr> & <chr>\\\\\n\\hline\n\t 1 & x1 & y1\\\\\n\t 2 & x2 & y2\\\\\n\\end{tabular}\n",
            "text/plain": [
              "  key val_x val_y\n",
              "1 1   x1    y1   \n",
              "2 2   x2    y2   "
            ]
          },
          "metadata": {}
        }
      ],
      "source": [
        "x %>% inner_join(y, join_by('key' == 'key'))"
      ]
    },
    {
      "cell_type": "markdown",
      "metadata": {
        "id": "Kel5nHjz-hWp"
      },
      "source": [
        "Note that there is no row for `key=3` or `key=4`: with an inner join, unmatched rows are not included in the result. For this reason, we do not as often use inner joins for data analysis since you can easily lose observations.\n",
        "\n",
        "#### Differences between `by` and `join_by`\n",
        "* by = \"x\" corresponds to join_by(x).\n",
        "* by = c(\"a\" = \"x\") corresponds to join_by(a == x).\n"
      ]
    },
    {
      "cell_type": "markdown",
      "metadata": {
        "id": "Yed4i_nJ-hWp"
      },
      "source": [
        "### Outer joins\n",
        "An outer join keeps observations that appear in at least one of the tables. There are three types of outer joins:\n",
        "- A left join keeps all observations in x.\n",
        "- A right join keeps all observations in y.\n",
        "- A full join keeps all observations in both x and y."
      ]
    },
    {
      "cell_type": "markdown",
      "metadata": {
        "id": "Ss80qCO2-hWq"
      },
      "source": [
        "![match example](https://r4ds.hadley.nz/diagrams/join/left.png)"
      ]
    },
    {
      "cell_type": "markdown",
      "metadata": {
        "id": "7mgJ6VH6-hWq"
      },
      "source": [
        "![match example](https://r4ds.hadley.nz/diagrams/join/right.png)"
      ]
    },
    {
      "cell_type": "markdown",
      "metadata": {
        "id": "W16FQz9--hWq"
      },
      "source": [
        "![match example](https://r4ds.hadley.nz/diagrams/join/full.png)"
      ]
    },
    {
      "cell_type": "code",
      "source": [
        "x %>% full_join(y, join_by(k == key))"
      ],
      "metadata": {
        "id": "10CMIsUyK1o5",
        "outputId": "cc1f7902-edf1-423b-fc10-891757813c0a",
        "colab": {
          "base_uri": "https://localhost:8080/",
          "height": 223
        }
      },
      "execution_count": 57,
      "outputs": [
        {
          "output_type": "display_data",
          "data": {
            "text/html": [
              "<table class=\"dataframe\">\n",
              "<caption>A tibble: 4 × 3</caption>\n",
              "<thead>\n",
              "\t<tr><th scope=col>k</th><th scope=col>val_x</th><th scope=col>val_y</th></tr>\n",
              "\t<tr><th scope=col>&lt;dbl&gt;</th><th scope=col>&lt;chr&gt;</th><th scope=col>&lt;chr&gt;</th></tr>\n",
              "</thead>\n",
              "<tbody>\n",
              "\t<tr><td>1</td><td>x1</td><td>y1</td></tr>\n",
              "\t<tr><td>2</td><td>x2</td><td>y2</td></tr>\n",
              "\t<tr><td>3</td><td>x3</td><td>NA</td></tr>\n",
              "\t<tr><td>4</td><td>NA</td><td>y3</td></tr>\n",
              "</tbody>\n",
              "</table>\n"
            ],
            "text/markdown": "\nA tibble: 4 × 3\n\n| k &lt;dbl&gt; | val_x &lt;chr&gt; | val_y &lt;chr&gt; |\n|---|---|---|\n| 1 | x1 | y1 |\n| 2 | x2 | y2 |\n| 3 | x3 | NA |\n| 4 | NA | y3 |\n\n",
            "text/latex": "A tibble: 4 × 3\n\\begin{tabular}{lll}\n k & val\\_x & val\\_y\\\\\n <dbl> & <chr> & <chr>\\\\\n\\hline\n\t 1 & x1 & y1\\\\\n\t 2 & x2 & y2\\\\\n\t 3 & x3 & NA\\\\\n\t 4 & NA & y3\\\\\n\\end{tabular}\n",
            "text/plain": [
              "  k val_x val_y\n",
              "1 1 x1    y1   \n",
              "2 2 x2    y2   \n",
              "3 3 x3    NA   \n",
              "4 4 NA    y3   "
            ]
          },
          "metadata": {}
        }
      ]
    },
    {
      "cell_type": "code",
      "source": [
        "x\n",
        "y"
      ],
      "metadata": {
        "id": "xzTfMnwTLBK8",
        "outputId": "82bbfa52-539b-4344-9e98-1ced46ee3296",
        "colab": {
          "base_uri": "https://localhost:8080/",
          "height": 367
        }
      },
      "execution_count": 53,
      "outputs": [
        {
          "output_type": "display_data",
          "data": {
            "text/html": [
              "<table class=\"dataframe\">\n",
              "<caption>A tibble: 3 × 2</caption>\n",
              "<thead>\n",
              "\t<tr><th scope=col>k</th><th scope=col>val_x</th></tr>\n",
              "\t<tr><th scope=col>&lt;dbl&gt;</th><th scope=col>&lt;chr&gt;</th></tr>\n",
              "</thead>\n",
              "<tbody>\n",
              "\t<tr><td>1</td><td>x1</td></tr>\n",
              "\t<tr><td>2</td><td>x2</td></tr>\n",
              "\t<tr><td>3</td><td>x3</td></tr>\n",
              "</tbody>\n",
              "</table>\n"
            ],
            "text/markdown": "\nA tibble: 3 × 2\n\n| k &lt;dbl&gt; | val_x &lt;chr&gt; |\n|---|---|\n| 1 | x1 |\n| 2 | x2 |\n| 3 | x3 |\n\n",
            "text/latex": "A tibble: 3 × 2\n\\begin{tabular}{ll}\n k & val\\_x\\\\\n <dbl> & <chr>\\\\\n\\hline\n\t 1 & x1\\\\\n\t 2 & x2\\\\\n\t 3 & x3\\\\\n\\end{tabular}\n",
            "text/plain": [
              "  k val_x\n",
              "1 1 x1   \n",
              "2 2 x2   \n",
              "3 3 x3   "
            ]
          },
          "metadata": {}
        },
        {
          "output_type": "display_data",
          "data": {
            "text/html": [
              "<table class=\"dataframe\">\n",
              "<caption>A tibble: 3 × 2</caption>\n",
              "<thead>\n",
              "\t<tr><th scope=col>key</th><th scope=col>val_y</th></tr>\n",
              "\t<tr><th scope=col>&lt;dbl&gt;</th><th scope=col>&lt;chr&gt;</th></tr>\n",
              "</thead>\n",
              "<tbody>\n",
              "\t<tr><td>1</td><td>y1</td></tr>\n",
              "\t<tr><td>2</td><td>y2</td></tr>\n",
              "\t<tr><td>4</td><td>y3</td></tr>\n",
              "</tbody>\n",
              "</table>\n"
            ],
            "text/markdown": "\nA tibble: 3 × 2\n\n| key &lt;dbl&gt; | val_y &lt;chr&gt; |\n|---|---|\n| 1 | y1 |\n| 2 | y2 |\n| 4 | y3 |\n\n",
            "text/latex": "A tibble: 3 × 2\n\\begin{tabular}{ll}\n key & val\\_y\\\\\n <dbl> & <chr>\\\\\n\\hline\n\t 1 & y1\\\\\n\t 2 & y2\\\\\n\t 4 & y3\\\\\n\\end{tabular}\n",
            "text/plain": [
              "  key val_y\n",
              "1 1   y1   \n",
              "2 2   y2   \n",
              "3 4   y3   "
            ]
          },
          "metadata": {}
        }
      ]
    },
    {
      "cell_type": "markdown",
      "metadata": {
        "id": "0gxNELl6-hWq"
      },
      "source": [
        "Left joins are the most common. Use them to look up data in another table, but preserve your original observations when there are records on the left table for which the other table does not have a match."
      ]
    },
    {
      "cell_type": "markdown",
      "metadata": {
        "id": "Dtrj4CHo-hWq"
      },
      "source": [
        "### Example\n",
        "The `flights` table has a `carrier` column which is a two-letter code for the airline. The `airlines` table maps these code to recognizable airline names.\n",
        "\n",
        "How many flights are there per carrier name (full name of the carrier) in the dataset?"
      ]
    },
    {
      "cell_type": "code",
      "execution_count": 62,
      "metadata": {
        "id": "XBWWuqgI-hWr",
        "outputId": "d3b1c9de-494d-49ff-d2dd-abe861189a6f",
        "colab": {
          "base_uri": "https://localhost:8080/",
          "height": 599
        }
      },
      "outputs": [
        {
          "output_type": "display_data",
          "data": {
            "text/html": [
              "<table class=\"dataframe\">\n",
              "<caption>A tibble: 16 × 2</caption>\n",
              "<thead>\n",
              "\t<tr><th scope=col>name</th><th scope=col>n</th></tr>\n",
              "\t<tr><th scope=col>&lt;chr&gt;</th><th scope=col>&lt;int&gt;</th></tr>\n",
              "</thead>\n",
              "<tbody>\n",
              "\t<tr><td>Endeavor Air Inc.          </td><td>18460</td></tr>\n",
              "\t<tr><td>American Airlines Inc.     </td><td>32729</td></tr>\n",
              "\t<tr><td>Alaska Airlines Inc.       </td><td>  714</td></tr>\n",
              "\t<tr><td>JetBlue Airways            </td><td>54635</td></tr>\n",
              "\t<tr><td>Delta Air Lines Inc.       </td><td>48110</td></tr>\n",
              "\t<tr><td>ExpressJet Airlines Inc.   </td><td>54173</td></tr>\n",
              "\t<tr><td>Frontier Airlines Inc.     </td><td>  685</td></tr>\n",
              "\t<tr><td>AirTran Airways Corporation</td><td> 3260</td></tr>\n",
              "\t<tr><td>Hawaiian Airlines Inc.     </td><td>  342</td></tr>\n",
              "\t<tr><td>Envoy Air                  </td><td>26397</td></tr>\n",
              "\t<tr><td>SkyWest Airlines Inc.      </td><td>   32</td></tr>\n",
              "\t<tr><td>United Air Lines Inc.      </td><td>58665</td></tr>\n",
              "\t<tr><td>US Airways Inc.            </td><td>20536</td></tr>\n",
              "\t<tr><td>Virgin America             </td><td> 5162</td></tr>\n",
              "\t<tr><td>Southwest Airlines Co.     </td><td>12275</td></tr>\n",
              "\t<tr><td>Mesa Airlines Inc.         </td><td>  601</td></tr>\n",
              "</tbody>\n",
              "</table>\n"
            ],
            "text/markdown": "\nA tibble: 16 × 2\n\n| name &lt;chr&gt; | n &lt;int&gt; |\n|---|---|\n| Endeavor Air Inc.           | 18460 |\n| American Airlines Inc.      | 32729 |\n| Alaska Airlines Inc.        |   714 |\n| JetBlue Airways             | 54635 |\n| Delta Air Lines Inc.        | 48110 |\n| ExpressJet Airlines Inc.    | 54173 |\n| Frontier Airlines Inc.      |   685 |\n| AirTran Airways Corporation |  3260 |\n| Hawaiian Airlines Inc.      |   342 |\n| Envoy Air                   | 26397 |\n| SkyWest Airlines Inc.       |    32 |\n| United Air Lines Inc.       | 58665 |\n| US Airways Inc.             | 20536 |\n| Virgin America              |  5162 |\n| Southwest Airlines Co.      | 12275 |\n| Mesa Airlines Inc.          |   601 |\n\n",
            "text/latex": "A tibble: 16 × 2\n\\begin{tabular}{ll}\n name & n\\\\\n <chr> & <int>\\\\\n\\hline\n\t Endeavor Air Inc.           & 18460\\\\\n\t American Airlines Inc.      & 32729\\\\\n\t Alaska Airlines Inc.        &   714\\\\\n\t JetBlue Airways             & 54635\\\\\n\t Delta Air Lines Inc.        & 48110\\\\\n\t ExpressJet Airlines Inc.    & 54173\\\\\n\t Frontier Airlines Inc.      &   685\\\\\n\t AirTran Airways Corporation &  3260\\\\\n\t Hawaiian Airlines Inc.      &   342\\\\\n\t Envoy Air                   & 26397\\\\\n\t SkyWest Airlines Inc.       &    32\\\\\n\t United Air Lines Inc.       & 58665\\\\\n\t US Airways Inc.             & 20536\\\\\n\t Virgin America              &  5162\\\\\n\t Southwest Airlines Co.      & 12275\\\\\n\t Mesa Airlines Inc.          &   601\\\\\n\\end{tabular}\n",
            "text/plain": [
              "   name                        n    \n",
              "1  Endeavor Air Inc.           18460\n",
              "2  American Airlines Inc.      32729\n",
              "3  Alaska Airlines Inc.          714\n",
              "4  JetBlue Airways             54635\n",
              "5  Delta Air Lines Inc.        48110\n",
              "6  ExpressJet Airlines Inc.    54173\n",
              "7  Frontier Airlines Inc.        685\n",
              "8  AirTran Airways Corporation  3260\n",
              "9  Hawaiian Airlines Inc.        342\n",
              "10 Envoy Air                   26397\n",
              "11 SkyWest Airlines Inc.          32\n",
              "12 United Air Lines Inc.       58665\n",
              "13 US Airways Inc.             20536\n",
              "14 Virgin America               5162\n",
              "15 Southwest Airlines Co.      12275\n",
              "16 Mesa Airlines Inc.            601"
            ]
          },
          "metadata": {}
        }
      ],
      "source": [
        "# flights per carrier\n",
        "\n",
        "flights %>%\n",
        "  count(carrier) %>%\n",
        "    left_join(airlines, join_by(carrier)) %>%\n",
        "      select(name, n)"
      ]
    },
    {
      "cell_type": "markdown",
      "metadata": {
        "id": "1xr5TdwG-hWr"
      },
      "source": [
        "## 🤔 Quiz\n",
        "\n",
        "How many flights departing from LGA were operated by JetBlue Airways?\n",
        "\n",
        "<ol style=\"list-style-type: upper-alpha;\">\n",
        "    <li>46087</li>\n",
        "    <li>26397</li>\n",
        "    <li>2276</li>\n",
        "    <li>6002</li>\n",
        "    <li>43939</li>\n",
        "</ol>"
      ]
    },
    {
      "cell_type": "code",
      "execution_count": 66,
      "metadata": {
        "id": "u4bhC5vq-hWr",
        "outputId": "144224d7-742b-4ff6-b2c8-2af784a8defd",
        "colab": {
          "base_uri": "https://localhost:8080/",
          "height": 52
        }
      },
      "outputs": [
        {
          "output_type": "stream",
          "name": "stderr",
          "text": [
            "\u001b[1m\u001b[22mJoining with `by = join_by(carrier)`\n"
          ]
        },
        {
          "output_type": "display_data",
          "data": {
            "text/html": [
              "6002"
            ],
            "text/markdown": "6002",
            "text/latex": "6002",
            "text/plain": [
              "[1] 6002"
            ]
          },
          "metadata": {}
        }
      ],
      "source": [
        "# jetblue from LGA\n",
        "flights %>% filter(origin == 'LGA') %>%\n",
        "  left_join(airlines) %>%\n",
        "    filter (name == 'JetBlue Airways') %>%\n",
        "      nrow"
      ]
    },
    {
      "cell_type": "markdown",
      "metadata": {
        "id": "3WR9vRxA-hWr"
      },
      "source": [
        "### Duplicate foreign keys\n",
        "A primary key is unique but not a foreign key."
      ]
    },
    {
      "cell_type": "markdown",
      "metadata": {
        "id": "ZklDikyi-hWr"
      },
      "source": [
        "##### One table has duplicate keys\n",
        "This is useful when you want to add in additional information as there is typically a one-to-many relationship.\n",
        "![duplicate keys](http://r4ds.had.co.nz/diagrams/join-one-to-many.png)"
      ]
    },
    {
      "cell_type": "markdown",
      "metadata": {
        "id": "MTzqtksS-hWr"
      },
      "source": [
        "In fact, we already saw an example of this above when we joined `planes` to `flights`: each plane belongs to potentially many flights."
      ]
    },
    {
      "cell_type": "markdown",
      "metadata": {
        "id": "oTHwj-68-hWs"
      },
      "source": [
        "### Exercise\n",
        "What is the most common model of airplane used by each carrier?"
      ]
    },
    {
      "cell_type": "code",
      "execution_count": 72,
      "metadata": {
        "id": "bRfQf_6t-hWs",
        "outputId": "a6607b73-0c45-4d15-c3f0-db41bf3b54bb",
        "colab": {
          "base_uri": "https://localhost:8080/",
          "height": 651
        }
      },
      "outputs": [
        {
          "output_type": "stream",
          "name": "stderr",
          "text": [
            "\u001b[1m\u001b[22m`summarise()` has grouped output by 'carrier'. You can override using the\n",
            "`.groups` argument.\n",
            "\u001b[1m\u001b[22mSelecting by n\n"
          ]
        },
        {
          "output_type": "display_data",
          "data": {
            "text/html": [
              "<table class=\"dataframe\">\n",
              "<caption>A grouped_df: 16 × 3</caption>\n",
              "<thead>\n",
              "\t<tr><th scope=col>carrier</th><th scope=col>model</th><th scope=col>n</th></tr>\n",
              "\t<tr><th scope=col>&lt;chr&gt;</th><th scope=col>&lt;chr&gt;</th><th scope=col>&lt;int&gt;</th></tr>\n",
              "</thead>\n",
              "<tbody>\n",
              "\t<tr><td>9E</td><td>CL-600-2D24</td><td>10580</td></tr>\n",
              "\t<tr><td>AA</td><td>767-223    </td><td> 4257</td></tr>\n",
              "\t<tr><td>AS</td><td>737-890    </td><td>  346</td></tr>\n",
              "\t<tr><td>B6</td><td>A320-232   </td><td>34063</td></tr>\n",
              "\t<tr><td>DL</td><td>MD-88      </td><td>10191</td></tr>\n",
              "\t<tr><td>EV</td><td>EMB-145LR  </td><td>28027</td></tr>\n",
              "\t<tr><td>F9</td><td>A320-214   </td><td>  617</td></tr>\n",
              "\t<tr><td>FL</td><td>717-200    </td><td> 2774</td></tr>\n",
              "\t<tr><td>HA</td><td>A330-243   </td><td>  342</td></tr>\n",
              "\t<tr><td>MQ</td><td>G1159B     </td><td>  486</td></tr>\n",
              "\t<tr><td>OO</td><td>CL-600-2C10</td><td>   25</td></tr>\n",
              "\t<tr><td>UA</td><td>737-824    </td><td>13809</td></tr>\n",
              "\t<tr><td>US</td><td>A319-112   </td><td> 5844</td></tr>\n",
              "\t<tr><td>VX</td><td>A320-214   </td><td> 4859</td></tr>\n",
              "\t<tr><td>WN</td><td>737-7H4    </td><td>10389</td></tr>\n",
              "\t<tr><td>YV</td><td>CL-600-2C10</td><td>  311</td></tr>\n",
              "</tbody>\n",
              "</table>\n"
            ],
            "text/markdown": "\nA grouped_df: 16 × 3\n\n| carrier &lt;chr&gt; | model &lt;chr&gt; | n &lt;int&gt; |\n|---|---|---|\n| 9E | CL-600-2D24 | 10580 |\n| AA | 767-223     |  4257 |\n| AS | 737-890     |   346 |\n| B6 | A320-232    | 34063 |\n| DL | MD-88       | 10191 |\n| EV | EMB-145LR   | 28027 |\n| F9 | A320-214    |   617 |\n| FL | 717-200     |  2774 |\n| HA | A330-243    |   342 |\n| MQ | G1159B      |   486 |\n| OO | CL-600-2C10 |    25 |\n| UA | 737-824     | 13809 |\n| US | A319-112    |  5844 |\n| VX | A320-214    |  4859 |\n| WN | 737-7H4     | 10389 |\n| YV | CL-600-2C10 |   311 |\n\n",
            "text/latex": "A grouped\\_df: 16 × 3\n\\begin{tabular}{lll}\n carrier & model & n\\\\\n <chr> & <chr> & <int>\\\\\n\\hline\n\t 9E & CL-600-2D24 & 10580\\\\\n\t AA & 767-223     &  4257\\\\\n\t AS & 737-890     &   346\\\\\n\t B6 & A320-232    & 34063\\\\\n\t DL & MD-88       & 10191\\\\\n\t EV & EMB-145LR   & 28027\\\\\n\t F9 & A320-214    &   617\\\\\n\t FL & 717-200     &  2774\\\\\n\t HA & A330-243    &   342\\\\\n\t MQ & G1159B      &   486\\\\\n\t OO & CL-600-2C10 &    25\\\\\n\t UA & 737-824     & 13809\\\\\n\t US & A319-112    &  5844\\\\\n\t VX & A320-214    &  4859\\\\\n\t WN & 737-7H4     & 10389\\\\\n\t YV & CL-600-2C10 &   311\\\\\n\\end{tabular}\n",
            "text/plain": [
              "   carrier model       n    \n",
              "1  9E      CL-600-2D24 10580\n",
              "2  AA      767-223      4257\n",
              "3  AS      737-890       346\n",
              "4  B6      A320-232    34063\n",
              "5  DL      MD-88       10191\n",
              "6  EV      EMB-145LR   28027\n",
              "7  F9      A320-214      617\n",
              "8  FL      717-200      2774\n",
              "9  HA      A330-243      342\n",
              "10 MQ      G1159B        486\n",
              "11 OO      CL-600-2C10    25\n",
              "12 UA      737-824     13809\n",
              "13 US      A319-112     5844\n",
              "14 VX      A320-214     4859\n",
              "15 WN      737-7H4     10389\n",
              "16 YV      CL-600-2C10   311"
            ]
          },
          "metadata": {}
        }
      ],
      "source": [
        "# most common model\n",
        "\n",
        "flights %>%\n",
        "  inner_join(planes, join_by(tailnum)) %>%\n",
        "  group_by(carrier, model) %>%\n",
        "    summarise(n = n()) %>% top_n(1)"
      ]
    },
    {
      "cell_type": "markdown",
      "metadata": {
        "id": "35_tpRgD-hWs"
      },
      "source": [
        "##### When Both tables have duplicate keys\n",
        "This represents a many-to-many join and is usually an error since the key does not uniquely identify observations in either table. Joining duplicated keys results in the Cartesian product of all the possible matches:\n",
        "![cartesian](http://r4ds.had.co.nz/diagrams/join-many-to-many.png)"
      ]
    },
    {
      "cell_type": "markdown",
      "metadata": {
        "id": "jF2X5SBI-hWs"
      },
      "source": [
        "Be careful when doing many-to-many merges. It's possible to generate huge tables by accident and crash R."
      ]
    },
    {
      "cell_type": "markdown",
      "metadata": {
        "id": "wmhsvV79-hWs"
      },
      "source": [
        "## 🤔 Quiz\n",
        "To understand what the weather conditions were when each flight departed, I will join the weather table to the first 100 rows of the flights table using the command\n",
        "\n",
        "```\n",
        "flights %>% slice(1:100) %>% left_join(weather, by=c(\"origin\", \"hour\"))\n",
        "```\n",
        "\n",
        "How many rows does the resulting table have?\n",
        "\n",
        "<ol style=\"list-style-type: upper-alpha;\">\n",
        "    <li>100</li>\n",
        "    <li>36344</li>\n",
        "    <li>336776</li>\n",
        "    <li>Zero</li>\n",
        "    <li><code>NA</code></li>\n",
        "</ol>"
      ]
    },
    {
      "cell_type": "code",
      "execution_count": 73,
      "metadata": {
        "id": "8_n8h-ud-hWs",
        "outputId": "530b0ef8-79d5-45b5-a3e9-b8f7d0a28981",
        "colab": {
          "base_uri": "https://localhost:8080/",
          "height": 138
        }
      },
      "outputs": [
        {
          "output_type": "stream",
          "name": "stderr",
          "text": [
            "Warning message in left_join(., weather, by = c(\"origin\", \"hour\")):\n",
            "“\u001b[1m\u001b[22mDetected an unexpected many-to-many relationship between `x` and `y`.\n",
            "\u001b[36mℹ\u001b[39m Row 1 of `x` matches multiple rows in `y`.\n",
            "\u001b[36mℹ\u001b[39m Row 8708 of `y` matches multiple rows in `x`.\n",
            "\u001b[36mℹ\u001b[39m If a many-to-many relationship is expected, set `relationship =\n",
            "  \"many-to-many\"` to silence this warning.”\n"
          ]
        },
        {
          "output_type": "display_data",
          "data": {
            "text/html": [
              "36344"
            ],
            "text/markdown": "36344",
            "text/latex": "36344",
            "text/plain": [
              "[1] 36344"
            ]
          },
          "metadata": {}
        }
      ],
      "source": [
        "flights %>% slice(1:100) %>% left_join(weather, by=c(\"origin\", \"hour\")) %>% nrow"
      ]
    },
    {
      "cell_type": "markdown",
      "metadata": {
        "id": "T8b-ViI8-hWt"
      },
      "source": [
        "### Defining the key columns\n",
        "When we do a join using `left_join()`, R take as the key whatever column names the two tables have in common:"
      ]
    },
    {
      "cell_type": "code",
      "execution_count": null,
      "metadata": {
        "id": "sjLfZJs5-hWt",
        "outputId": "9fa2d930-2b63-433d-e313-3d2cd0987a1a"
      },
      "outputs": [
        {
          "name": "stderr",
          "output_type": "stream",
          "text": [
            "Joining, by = c(\"year\", \"tailnum\")\n"
          ]
        },
        {
          "name": "stdout",
          "output_type": "stream",
          "text": [
            "# A tibble: 336,776 x 26\n",
            "    year month   day dep_time sched_dep_time dep_delay arr_time sched_arr_time\n",
            "   <int> <int> <int>    <int>          <int>     <dbl>    <int>          <int>\n",
            " 1  2013     1     1      517            515         2      830            819\n",
            " 2  2013     1     1      533            529         4      850            830\n",
            " 3  2013     1     1      542            540         2      923            850\n",
            " 4  2013     1     1      544            545        -1     1004           1022\n",
            " 5  2013     1     1      554            600        -6      812            837\n",
            " 6  2013     1     1      554            558        -4      740            728\n",
            " 7  2013     1     1      555            600        -5      913            854\n",
            " 8  2013     1     1      557            600        -3      709            723\n",
            " 9  2013     1     1      557            600        -3      838            846\n",
            "10  2013     1     1      558            600        -2      753            745\n",
            "# … with 336,766 more rows, and 18 more variables: arr_delay <dbl>,\n",
            "#   carrier <chr>, flight <int>, tailnum <chr>, origin <chr>, dest <chr>,\n",
            "#   air_time <dbl>, distance <dbl>, hour <dbl>, minute <dbl>, time_hour <dttm>,\n",
            "#   type <chr>, manufacturer <chr>, model <chr>, engines <int>, seats <int>,\n",
            "#   speed <int>, engine <chr>\n"
          ]
        }
      ],
      "source": [
        "left_join(flights, planes) %>% print"
      ]
    },
    {
      "cell_type": "markdown",
      "metadata": {
        "id": "PajjAykq-hWt"
      },
      "source": [
        "This is called a *natural join*. If the key column(s) are named differently in the two tables, we must specify the mapping between the two using the `by=` or `join_by` parameter.\n"
      ]
    },
    {
      "cell_type": "markdown",
      "metadata": {
        "id": "s8Gq4Eea-hWt"
      },
      "source": [
        "Consider joining `airports` to `flights`:\n",
        "```\n",
        "> left_join(flights, airports)\n",
        "Error: `by` required, because the data sources have no common variables\n",
        "Traceback:\n",
        "\n",
        "1. left_join(flights, airports)\n",
        "2. left_join.tbl_df(flights, airports)\n",
        "3. common_by(by, x, y)\n",
        "4. common_by.NULL(by, x, y)\n",
        "5. bad_args(\"by\", \"required, because the data sources have no common variables\")\n",
        "6. glubort(fmt_args(args), ..., .envir = .envir)\n",
        "7. .abort(text)\n",
        "```"
      ]
    },
    {
      "cell_type": "markdown",
      "metadata": {
        "id": "iXCtxshC-hWt"
      },
      "source": [
        "This has produced an error, because airports and flights do not have any columns in common. Indeed, the three digit FAA code is called `faa` in `airports`, but appears as either `origin` or `dest` in `flights`. To fix the error, we must specify which of `origin` or `dest` should be matched:"
      ]
    },
    {
      "cell_type": "code",
      "execution_count": null,
      "metadata": {
        "id": "KraAZzSF-hWt"
      },
      "outputs": [],
      "source": [
        "# join_by"
      ]
    },
    {
      "cell_type": "markdown",
      "metadata": {
        "id": "m65vOTPt-hWt"
      },
      "source": [
        "## 🤔 Quiz\n",
        "\n",
        "How many flights were bound to the Hawaii timezone in this dataset?\n",
        "\n",
        "<ol style=\"list-style-type: upper-alpha;\">\n",
        "    <li>560</li>\n",
        "    <li>707</li>\n",
        "    <li>710</li>\n",
        "    <li>659</li>\n",
        "    <li>500</li>\n",
        "</ol>\n"
      ]
    },
    {
      "cell_type": "code",
      "execution_count": null,
      "metadata": {
        "id": "Yu_K8qa6-hWu"
      },
      "outputs": [],
      "source": [
        "# your query"
      ]
    },
    {
      "cell_type": "markdown",
      "metadata": {
        "id": "COWEauwu-hWu"
      },
      "source": [
        "## Filtering joins\n",
        "\n",
        "Filtering joins allow us to filter rows on one table based on their presence or absence in another table. We've already seen some examples of this on the problem sets:"
      ]
    },
    {
      "cell_type": "code",
      "execution_count": null,
      "metadata": {
        "id": "-LD0RHbN-hWu",
        "outputId": "876a58f4-0b50-4411-fea2-40ad8bad238c"
      },
      "outputs": [
        {
          "name": "stderr",
          "output_type": "stream",
          "text": [
            "\u001b[1m\u001b[22mSelecting by n\n"
          ]
        },
        {
          "data": {
            "text/html": [
              "94326"
            ],
            "text/latex": [
              "94326"
            ],
            "text/markdown": [
              "94326"
            ],
            "text/plain": [
              "[1] 94326"
            ]
          },
          "metadata": {},
          "output_type": "display_data"
        }
      ],
      "source": [
        "dest_top6 <- count(flights, dest) %>% top_n(6)\n",
        "filter(flights, dest %in% dest_top6$dest) %>% nrow"
      ]
    },
    {
      "cell_type": "markdown",
      "metadata": {
        "id": "VH-lCtqv-hWv"
      },
      "source": [
        "### Semi-join\n",
        "`semi_join(x, y)` keeps all the observations in `x` that are also in `y`.\n",
        "![semi join](http://r4ds.had.co.nz/diagrams/join-semi.png)"
      ]
    },
    {
      "cell_type": "code",
      "execution_count": null,
      "metadata": {
        "id": "J4lAS6uq-hWv"
      },
      "outputs": [],
      "source": [
        "# # find the total count of flights that have plane information\n"
      ]
    }
  ],
  "metadata": {
    "celltoolbar": "Slideshow",
    "kernelspec": {
      "display_name": "R",
      "language": "R",
      "name": "ir"
    },
    "language_info": {
      "codemirror_mode": "r",
      "file_extension": ".r",
      "mimetype": "text/x-r-source",
      "name": "R",
      "pygments_lexer": "r",
      "version": "4.3.1"
    },
    "colab": {
      "provenance": []
    }
  },
  "nbformat": 4,
  "nbformat_minor": 0
}