{
 "cells": [
  {
   "cell_type": "markdown",
   "metadata": {
    "editable": true,
    "slideshow": {
     "slide_type": "slide"
    },
    "tags": []
   },
   "source": [
    "# Lecture 09: Relational Data\n",
    "<div style=\"border: 1px double black; padding: 10px; margin: 10px\">\n",
    "\n",
    "**Goals for today's lecture:**\n",
    "* Learn about [keys](#Keys)\n",
    "* Different types of [relations](#Relations) between tables\n",
    "* [Commands for joining related tables together](#Outer-joins)\n",
    "</div>\n"
   ]
  },
  {
   "cell_type": "markdown",
   "metadata": {
    "slideshow": {
     "slide_type": "slide"
    }
   },
   "source": [
    "We have already spent a lot of time analyzing the `flights` table. In fact, there are four other tables in `nycflights13` that contain related information about these flights:"
   ]
  },
  {
   "cell_type": "code",
   "execution_count": 1,
   "metadata": {},
   "outputs": [
    {
     "name": "stderr",
     "output_type": "stream",
     "text": [
      "── \u001b[1mAttaching core tidyverse packages\u001b[22m ──────────────────────── tidyverse 2.0.0 ──\n",
      "\u001b[32m✔\u001b[39m \u001b[34mdplyr    \u001b[39m 1.1.2     \u001b[32m✔\u001b[39m \u001b[34mreadr    \u001b[39m 2.1.4\n",
      "\u001b[32m✔\u001b[39m \u001b[34mforcats  \u001b[39m 1.0.0     \u001b[32m✔\u001b[39m \u001b[34mstringr  \u001b[39m 1.5.0\n",
      "\u001b[32m✔\u001b[39m \u001b[34mggplot2  \u001b[39m 3.4.3     \u001b[32m✔\u001b[39m \u001b[34mtibble   \u001b[39m 3.2.1\n",
      "\u001b[32m✔\u001b[39m \u001b[34mlubridate\u001b[39m 1.9.2     \u001b[32m✔\u001b[39m \u001b[34mtidyr    \u001b[39m 1.3.0\n",
      "\u001b[32m✔\u001b[39m \u001b[34mpurrr    \u001b[39m 1.0.2     \n",
      "── \u001b[1mConflicts\u001b[22m ────────────────────────────────────────── tidyverse_conflicts() ──\n",
      "\u001b[31m✖\u001b[39m \u001b[34mdplyr\u001b[39m::\u001b[32mfilter()\u001b[39m masks \u001b[34mstats\u001b[39m::filter()\n",
      "\u001b[31m✖\u001b[39m \u001b[34mdplyr\u001b[39m::\u001b[32mlag()\u001b[39m    masks \u001b[34mstats\u001b[39m::lag()\n",
      "\u001b[36mℹ\u001b[39m Use the conflicted package (\u001b[3m\u001b[34m<http://conflicted.r-lib.org/>\u001b[39m\u001b[23m) to force all conflicts to become errors\n"
     ]
    }
   ],
   "source": [
    "# install.packages('nycflights13')\n",
    "library(tidyverse)\n",
    "library(nycflights13)"
   ]
  },
  {
   "cell_type": "code",
   "execution_count": 7,
   "metadata": {
    "slideshow": {
     "slide_type": "slide"
    }
   },
   "outputs": [
    {
     "name": "stdout",
     "output_type": "stream",
     "text": [
      "\u001b[90m# A tibble: 16 × 2\u001b[39m\n",
      "   carrier name                       \n",
      "   \u001b[3m\u001b[90m<chr>\u001b[39m\u001b[23m   \u001b[3m\u001b[90m<chr>\u001b[39m\u001b[23m                      \n",
      "\u001b[90m 1\u001b[39m 9E      Endeavor Air Inc.          \n",
      "\u001b[90m 2\u001b[39m AA      American Airlines Inc.     \n",
      "\u001b[90m 3\u001b[39m AS      Alaska Airlines Inc.       \n",
      "\u001b[90m 4\u001b[39m B6      JetBlue Airways            \n",
      "\u001b[90m 5\u001b[39m DL      Delta Air Lines Inc.       \n",
      "\u001b[90m 6\u001b[39m EV      ExpressJet Airlines Inc.   \n",
      "\u001b[90m 7\u001b[39m F9      Frontier Airlines Inc.     \n",
      "\u001b[90m 8\u001b[39m FL      AirTran Airways Corporation\n",
      "\u001b[90m 9\u001b[39m HA      Hawaiian Airlines Inc.     \n",
      "\u001b[90m10\u001b[39m MQ      Envoy Air                  \n",
      "\u001b[90m11\u001b[39m OO      SkyWest Airlines Inc.      \n",
      "\u001b[90m12\u001b[39m UA      United Air Lines Inc.      \n",
      "\u001b[90m13\u001b[39m US      US Airways Inc.            \n",
      "\u001b[90m14\u001b[39m VX      Virgin America             \n",
      "\u001b[90m15\u001b[39m WN      Southwest Airlines Co.     \n",
      "\u001b[90m16\u001b[39m YV      Mesa Airlines Inc.         \n"
     ]
    }
   ],
   "source": [
    "print(airlines)"
   ]
  },
  {
   "cell_type": "code",
   "execution_count": 5,
   "metadata": {
    "slideshow": {
     "slide_type": "slide"
    }
   },
   "outputs": [
    {
     "data": {
      "text/plain": [
       "  faa name                   lat      lon       alt tz dst tzone           \n",
       "1 DTW Detroit Metro Wayne Co 42.21244 -83.35339 645 -5 A   America/New_York"
      ]
     },
     "metadata": {},
     "output_type": "display_data"
    }
   ],
   "source": [
    "airports %>% filter(faa == \"DTW\")"
   ]
  },
  {
   "cell_type": "code",
   "execution_count": 6,
   "metadata": {
    "slideshow": {
     "slide_type": "slide"
    }
   },
   "outputs": [
    {
     "name": "stdout",
     "output_type": "stream",
     "text": [
      "# A tibble: 3,322 x 9\n",
      "   tailnum  year type          manufacturer   model  engines seats speed engine \n",
      "   <chr>   <int> <chr>         <chr>          <chr>    <int> <int> <int> <chr>  \n",
      " 1 N10156   2004 Fixed wing m… EMBRAER        EMB-1…       2    55    NA Turbo-…\n",
      " 2 N102UW   1998 Fixed wing m… AIRBUS INDUST… A320-…       2   182    NA Turbo-…\n",
      " 3 N103US   1999 Fixed wing m… AIRBUS INDUST… A320-…       2   182    NA Turbo-…\n",
      " 4 N104UW   1999 Fixed wing m… AIRBUS INDUST… A320-…       2   182    NA Turbo-…\n",
      " 5 N10575   2002 Fixed wing m… EMBRAER        EMB-1…       2    55    NA Turbo-…\n",
      " 6 N105UW   1999 Fixed wing m… AIRBUS INDUST… A320-…       2   182    NA Turbo-…\n",
      " 7 N107US   1999 Fixed wing m… AIRBUS INDUST… A320-…       2   182    NA Turbo-…\n",
      " 8 N108UW   1999 Fixed wing m… AIRBUS INDUST… A320-…       2   182    NA Turbo-…\n",
      " 9 N109UW   1999 Fixed wing m… AIRBUS INDUST… A320-…       2   182    NA Turbo-…\n",
      "10 N110UW   1999 Fixed wing m… AIRBUS INDUST… A320-…       2   182    NA Turbo-…\n",
      "# … with 3,312 more rows\n"
     ]
    }
   ],
   "source": [
    "print(planes)"
   ]
  },
  {
   "cell_type": "code",
   "execution_count": 7,
   "metadata": {
    "slideshow": {
     "slide_type": "slide"
    }
   },
   "outputs": [
    {
     "name": "stdout",
     "output_type": "stream",
     "text": [
      "# A tibble: 26,115 x 15\n",
      "   origin  year month   day  hour  temp  dewp humid wind_dir wind_speed\n",
      "   <chr>  <dbl> <dbl> <int> <int> <dbl> <dbl> <dbl>    <dbl>      <dbl>\n",
      " 1 EWR     2013     1     1     1  39.0  26.1  59.4      270      10.4 \n",
      " 2 EWR     2013     1     1     2  39.0  27.0  61.6      250       8.06\n",
      " 3 EWR     2013     1     1     3  39.0  28.0  64.4      240      11.5 \n",
      " 4 EWR     2013     1     1     4  39.9  28.0  62.2      250      12.7 \n",
      " 5 EWR     2013     1     1     5  39.0  28.0  64.4      260      12.7 \n",
      " 6 EWR     2013     1     1     6  37.9  28.0  67.2      240      11.5 \n",
      " 7 EWR     2013     1     1     7  39.0  28.0  64.4      240      15.0 \n",
      " 8 EWR     2013     1     1     8  39.9  28.0  62.2      250      10.4 \n",
      " 9 EWR     2013     1     1     9  39.9  28.0  62.2      260      15.0 \n",
      "10 EWR     2013     1     1    10  41    28.0  59.6      260      13.8 \n",
      "# … with 26,105 more rows, and 5 more variables: wind_gust <dbl>, precip <dbl>,\n",
      "#   pressure <dbl>, visib <dbl>, time_hour <dttm>\n"
     ]
    }
   ],
   "source": [
    "print(weather)"
   ]
  },
  {
   "cell_type": "code",
   "execution_count": 2,
   "metadata": {},
   "outputs": [
    {
     "data": {
      "text/html": [
       "<style>\n",
       ".list-inline {list-style: none; margin:0; padding: 0}\n",
       ".list-inline>li {display: inline-block}\n",
       ".list-inline>li:not(:last-child)::after {content: \"\\00b7\"; padding: 0 .5ex}\n",
       "</style>\n",
       "<ol class=list-inline><li>'EWR'</li><li>'JFK'</li><li>'LGA'</li></ol>\n"
      ],
      "text/latex": [
       "\\begin{enumerate*}\n",
       "\\item 'EWR'\n",
       "\\item 'JFK'\n",
       "\\item 'LGA'\n",
       "\\end{enumerate*}\n"
      ],
      "text/markdown": [
       "1. 'EWR'\n",
       "2. 'JFK'\n",
       "3. 'LGA'\n",
       "\n",
       "\n"
      ],
      "text/plain": [
       "[1] \"EWR\" \"JFK\" \"LGA\""
      ]
     },
     "metadata": {},
     "output_type": "display_data"
    }
   ],
   "source": [
    "weather$origin %>% unique"
   ]
  },
  {
   "cell_type": "markdown",
   "metadata": {
    "slideshow": {
     "slide_type": "slide"
    }
   },
   "source": [
    "Together these four tables form a *relational database*. The relationships can be graphed like so:\n",
    "![table relationships](http://r4ds.had.co.nz/diagrams/relational-nycflights.png)"
   ]
  },
  {
   "cell_type": "markdown",
   "metadata": {
    "slideshow": {
     "slide_type": "notes"
    }
   },
   "source": [
    "The particular relationships in this database are:\n",
    "- `flights` connects to `planes` via `tailnum`.\n",
    "- `flights` connects to `airlines` via `carrier`.\n",
    "- `flights` connects to `airports` twice: via `origin` and `dest`.\n",
    "- `flights` connects to `weather` via `origin` (the location), and `year`, `month`, `day` and `hour`."
   ]
  },
  {
   "cell_type": "markdown",
   "metadata": {
    "slideshow": {
     "slide_type": "notes"
    }
   },
   "source": [
    "## Keys\n",
    "The \"key\" to understanding relational databases is... keys. \n",
    "\n"
   ]
  },
  {
   "cell_type": "markdown",
   "metadata": {
    "slideshow": {
     "slide_type": "slide"
    }
   },
   "source": [
    "### Primary Key\n",
    "A *primary key* is a variable (or set of variables) that uniquely identifies an observation in its own table: there is **at most** one row in the table that corresponds to any setting of the columns which comprise the key.\n",
    "\n",
    "A primary key is \n",
    "* a variable or\n",
    "* set of variables that uniquely identify each observation (compound key).\n",
    "\n",
    "When more than one variable is needed, the key is called a compound key."
   ]
  },
  {
   "cell_type": "markdown",
   "metadata": {
    "slideshow": {
     "slide_type": "slide"
    }
   },
   "source": [
    "In the `planes` table, each airplane is identified by its `tailnum`:"
   ]
  },
  {
   "cell_type": "code",
   "execution_count": 8,
   "metadata": {},
   "outputs": [
    {
     "name": "stdout",
     "output_type": "stream",
     "text": [
      "# A tibble: 3,322 x 9\n",
      "   tailnum  year type          manufacturer   model  engines seats speed engine \n",
      "   <chr>   <int> <chr>         <chr>          <chr>    <int> <int> <int> <chr>  \n",
      " 1 N10156   2004 Fixed wing m… EMBRAER        EMB-1…       2    55    NA Turbo-…\n",
      " 2 N102UW   1998 Fixed wing m… AIRBUS INDUST… A320-…       2   182    NA Turbo-…\n",
      " 3 N103US   1999 Fixed wing m… AIRBUS INDUST… A320-…       2   182    NA Turbo-…\n",
      " 4 N104UW   1999 Fixed wing m… AIRBUS INDUST… A320-…       2   182    NA Turbo-…\n",
      " 5 N10575   2002 Fixed wing m… EMBRAER        EMB-1…       2    55    NA Turbo-…\n",
      " 6 N105UW   1999 Fixed wing m… AIRBUS INDUST… A320-…       2   182    NA Turbo-…\n",
      " 7 N107US   1999 Fixed wing m… AIRBUS INDUST… A320-…       2   182    NA Turbo-…\n",
      " 8 N108UW   1999 Fixed wing m… AIRBUS INDUST… A320-…       2   182    NA Turbo-…\n",
      " 9 N109UW   1999 Fixed wing m… AIRBUS INDUST… A320-…       2   182    NA Turbo-…\n",
      "10 N110UW   1999 Fixed wing m… AIRBUS INDUST… A320-…       2   182    NA Turbo-…\n",
      "# … with 3,312 more rows\n"
     ]
    }
   ],
   "source": [
    "print(planes)"
   ]
  },
  {
   "cell_type": "markdown",
   "metadata": {
    "slideshow": {
     "slide_type": "slide"
    }
   },
   "source": [
    "The tail number of an airplane is assigned by a government agency and is unique: no two planes can have the same tail number. Thus, `tailnum` should be a primary key in this table. \n",
    "\n",
    "To check that one or more variables constitutes a primary key, we can group by those variables and then check that the number of distinct values equals the number of rows in the data set:"
   ]
  },
  {
   "cell_type": "code",
   "execution_count": 30,
   "metadata": {},
   "outputs": [
    {
     "data": {
      "text/plain": [
       "  n    nd  \n",
       "1 3322 3322"
      ]
     },
     "metadata": {},
     "output_type": "display_data"
    }
   ],
   "source": [
    "# planes %>% print\n",
    "planes %>% summarize(n = n(), nd = n_distinct(tailnum))"
   ]
  },
  {
   "cell_type": "code",
   "execution_count": 23,
   "metadata": {},
   "outputs": [
    {
     "data": {
      "text/html": [
       "<table class=\"dataframe\">\n",
       "<caption>A tibble: 0 × 2</caption>\n",
       "<thead>\n",
       "\t<tr><th scope=col>tailnum</th><th scope=col>n</th></tr>\n",
       "\t<tr><th scope=col>&lt;chr&gt;</th><th scope=col>&lt;int&gt;</th></tr>\n",
       "</thead>\n",
       "<tbody>\n",
       "</tbody>\n",
       "</table>\n"
      ],
      "text/latex": [
       "A tibble: 0 × 2\n",
       "\\begin{tabular}{ll}\n",
       " tailnum & n\\\\\n",
       " <chr> & <int>\\\\\n",
       "\\hline\n",
       "\\end{tabular}\n"
      ],
      "text/markdown": [
       "\n",
       "A tibble: 0 × 2\n",
       "\n",
       "| tailnum &lt;chr&gt; | n &lt;int&gt; |\n",
       "|---|---|\n",
       "\n"
      ],
      "text/plain": [
       "     tailnum n"
      ]
     },
     "metadata": {},
     "output_type": "display_data"
    }
   ],
   "source": [
    "planes %>% count(tailnum) %>% filter(n>1)"
   ]
  },
  {
   "cell_type": "markdown",
   "metadata": {
    "slideshow": {
     "slide_type": "slide"
    }
   },
   "source": [
    "Compare with `flights`, where tailnum does *not* uniquely identify each row. (There are many flights present for the same airplane.)"
   ]
  },
  {
   "cell_type": "code",
   "execution_count": 24,
   "metadata": {},
   "outputs": [
    {
     "name": "stdout",
     "output_type": "stream",
     "text": [
      "\u001b[90m# A tibble: 3,873 × 2\u001b[39m\n",
      "   tailnum     n\n",
      "   \u001b[3m\u001b[90m<chr>\u001b[39m\u001b[23m   \u001b[3m\u001b[90m<int>\u001b[39m\u001b[23m\n",
      "\u001b[90m 1\u001b[39m D942DN      4\n",
      "\u001b[90m 2\u001b[39m N0EGMQ    371\n",
      "\u001b[90m 3\u001b[39m N10156    153\n",
      "\u001b[90m 4\u001b[39m N102UW     48\n",
      "\u001b[90m 5\u001b[39m N103US     46\n",
      "\u001b[90m 6\u001b[39m N104UW     47\n",
      "\u001b[90m 7\u001b[39m N10575    289\n",
      "\u001b[90m 8\u001b[39m N105UW     45\n",
      "\u001b[90m 9\u001b[39m N107US     41\n",
      "\u001b[90m10\u001b[39m N108UW     60\n",
      "\u001b[90m# ℹ 3,863 more rows\u001b[39m\n"
     ]
    }
   ],
   "source": [
    "flights %>% count(tailnum) %>% filter(n>1) %>% print"
   ]
  },
  {
   "cell_type": "markdown",
   "metadata": {
    "slideshow": {
     "slide_type": "slide"
    }
   },
   "source": [
    "What is the primary key for the `flights` table?"
   ]
  },
  {
   "cell_type": "code",
   "execution_count": 39,
   "metadata": {},
   "outputs": [
    {
     "data": {
      "text/plain": [
       "    year month day dep_time tailnum n \n",
       "1   2013 1      2  NA       NA       2\n",
       "2   2013 1      3  NA       NA       2\n",
       "3   2013 1      4  NA       NA       2\n",
       "4   2013 1      5  NA       NA       1\n",
       "5   2013 1      7  NA       NA       1\n",
       "6   2013 1      8  NA       NA       1\n",
       "7   2013 1      9  NA       NA       2\n",
       "8   2013 1     10  NA       NA       2\n",
       "9   2013 1     11  NA       NA       1\n",
       "10  2013 1     12  NA       NA       2\n",
       "11  2013 1     13  NA       NA       7\n",
       "12  2013 1     14  NA       NA       1\n",
       "13  2013 1     15  NA       NA       2\n",
       "14  2013 1     16  NA       NA      24\n",
       "15  2013 1     17  NA       NA       4\n",
       "16  2013 1     18  NA       NA       3\n",
       "17  2013 1     19  NA       NA       1\n",
       "18  2013 1     20  NA       NA       1\n",
       "19  2013 1     21  NA       NA       5\n",
       "20  2013 1     22  NA       NA       3\n",
       "21  2013 1     23  NA       NA       4\n",
       "22  2013 1     24  NA       NA       4\n",
       "23  2013 1     25  NA       NA      16\n",
       "24  2013 1     26  NA       NA       2\n",
       "25  2013 1     27  NA       NA       6\n",
       "26  2013 1     28  NA       NA       8\n",
       "27  2013 1     29  NA       NA       5\n",
       "28  2013 1     30  NA       NA      25\n",
       "29  2013 1     31  NA       NA      18\n",
       "30  2013 2      1  NA       NA       1\n",
       "⋮   ⋮    ⋮     ⋮   ⋮        ⋮       ⋮ \n",
       "287 2013 11    20  NA       NA       1\n",
       "288 2013 11    21  NA       NA       2\n",
       "289 2013 11    22  NA       NA       2\n",
       "290 2013 11    23  NA       NA       1\n",
       "291 2013 11    24  NA       NA       2\n",
       "292 2013 11    25  NA       NA       3\n",
       "293 2013 11    26  NA       NA       2\n",
       "294 2013 11    27  NA       NA       9\n",
       "295 2013 12     1  NA       NA       3\n",
       "296 2013 12     4  NA       NA       3\n",
       "297 2013 12     5  NA       NA      37\n",
       "298 2013 12     6  NA       NA      10\n",
       "299 2013 12     7  NA       NA       4\n",
       "300 2013 12     8  NA       NA      17\n",
       "301 2013 12     9  NA       NA      12\n",
       "302 2013 12    10  NA       NA      55\n",
       "303 2013 12    11  NA       NA       4\n",
       "304 2013 12    12  NA       NA       3\n",
       "305 2013 12    13  NA       NA       2\n",
       "306 2013 12    14  NA       NA      38\n",
       "307 2013 12    15  NA       NA      21\n",
       "308 2013 12    16  NA       NA       1\n",
       "309 2013 12    17  NA       NA      27\n",
       "310 2013 12    19  NA       NA       1\n",
       "311 2013 12    20  NA       NA       3\n",
       "312 2013 12    21  NA       NA       2\n",
       "313 2013 12    23  NA       NA      10\n",
       "314 2013 12    29  NA       NA       2\n",
       "315 2013 12    30  NA       NA       4\n",
       "316 2013 12    31  NA       NA      11"
      ]
     },
     "metadata": {},
     "output_type": "display_data"
    }
   ],
   "source": [
    "flights %>% filter(is.na(tailnum)) %>% count(year, month, day, dep_time, tailnum) "
   ]
  },
  {
   "cell_type": "markdown",
   "metadata": {
    "slideshow": {
     "slide_type": "slide"
    }
   },
   "source": [
    "We might guess that `year`, `month`, `day`, and `tailnum` are sufficient to identify each row in `flights`, but this is not true:"
   ]
  },
  {
   "cell_type": "code",
   "execution_count": 12,
   "metadata": {
    "slideshow": {
     "slide_type": "-"
    }
   },
   "outputs": [
    {
     "data": {
      "text/plain": [
       "  n      nd    \n",
       "1 336776 251727"
      ]
     },
     "metadata": {},
     "output_type": "display_data"
    }
   ],
   "source": [
    "flights %>% summarize(n=n(), nd=n_distinct(year, month, day, tailnum))"
   ]
  },
  {
   "cell_type": "markdown",
   "metadata": {
    "slideshow": {
     "slide_type": "slide"
    }
   },
   "source": [
    "In fact, even restricting to the exact *minute* that an airplane departed is not sufficient:"
   ]
  },
  {
   "cell_type": "code",
   "execution_count": 13,
   "metadata": {
    "slideshow": {
     "slide_type": "-"
    }
   },
   "outputs": [
    {
     "data": {
      "text/plain": [
       "  n      nd    \n",
       "1 336776 336367"
      ]
     },
     "metadata": {},
     "output_type": "display_data"
    }
   ],
   "source": [
    "flights %>% summarize(n=n(), nd=n_distinct(tailnum, time_hour, minute))"
   ]
  },
  {
   "cell_type": "code",
   "execution_count": 29,
   "metadata": {},
   "outputs": [
    {
     "data": {
      "text/html": [
       "<table class=\"dataframe\">\n",
       "<caption>A tibble: 1 × 2</caption>\n",
       "<thead>\n",
       "\t<tr><th scope=col>n</th><th scope=col>nd</th></tr>\n",
       "\t<tr><th scope=col>&lt;int&gt;</th><th scope=col>&lt;int&gt;</th></tr>\n",
       "</thead>\n",
       "<tbody>\n",
       "\t<tr><td>336776</td><td>336367</td></tr>\n",
       "</tbody>\n",
       "</table>\n"
      ],
      "text/latex": [
       "A tibble: 1 × 2\n",
       "\\begin{tabular}{ll}\n",
       " n & nd\\\\\n",
       " <int> & <int>\\\\\n",
       "\\hline\n",
       "\t 336776 & 336367\\\\\n",
       "\\end{tabular}\n"
      ],
      "text/markdown": [
       "\n",
       "A tibble: 1 × 2\n",
       "\n",
       "| n &lt;int&gt; | nd &lt;int&gt; |\n",
       "|---|---|\n",
       "| 336776 | 336367 |\n",
       "\n"
      ],
      "text/plain": [
       "  n      nd    \n",
       "1 336776 336367"
      ]
     },
     "metadata": {},
     "output_type": "display_data"
    }
   ],
   "source": [
    "flights %>% summarize(n=n(), nd = n_distinct(tailnum, year, month, day, hour, minute))"
   ]
  },
  {
   "cell_type": "markdown",
   "metadata": {
    "slideshow": {
     "slide_type": "slide"
    }
   },
   "source": [
    "This says that there are certain airplanes that are marked as having departed more than once in the same year, month, day, hour and minute. We can inspect these rows as follows:"
   ]
  },
  {
   "cell_type": "code",
   "execution_count": 26,
   "metadata": {},
   "outputs": [
    {
     "name": "stdout",
     "output_type": "stream",
     "text": [
      "\u001b[90m# A tibble: 298 × 4\u001b[39m\n",
      "   tailnum time_hour           minute     n\n",
      "   \u001b[3m\u001b[90m<chr>\u001b[39m\u001b[23m   \u001b[3m\u001b[90m<dttm>\u001b[39m\u001b[23m               \u001b[3m\u001b[90m<dbl>\u001b[39m\u001b[23m \u001b[3m\u001b[90m<int>\u001b[39m\u001b[23m\n",
      "\u001b[90m 1\u001b[39m N11119  2013-06-10 \u001b[90m16:00:00\u001b[39m     55     2\n",
      "\u001b[90m 2\u001b[39m N11192  2013-08-26 \u001b[90m08:00:00\u001b[39m     30     2\n",
      "\u001b[90m 3\u001b[39m N12563  2013-02-04 \u001b[90m16:00:00\u001b[39m     19     2\n",
      "\u001b[90m 4\u001b[39m N12564  2013-01-13 \u001b[90m20:00:00\u001b[39m      0     2\n",
      "\u001b[90m 5\u001b[39m N12900  2013-07-10 \u001b[90m21:00:00\u001b[39m     29     2\n",
      "\u001b[90m 6\u001b[39m N13969  2013-01-28 \u001b[90m07:00:00\u001b[39m     59     2\n",
      "\u001b[90m 7\u001b[39m N14148  2013-03-12 \u001b[90m06:00:00\u001b[39m     30     2\n",
      "\u001b[90m 8\u001b[39m N14558  2013-04-19 \u001b[90m13:00:00\u001b[39m     29     2\n",
      "\u001b[90m 9\u001b[39m N14916  2013-02-11 \u001b[90m13:00:00\u001b[39m     15     2\n",
      "\u001b[90m10\u001b[39m N14974  2013-07-26 \u001b[90m06:00:00\u001b[39m     30     2\n",
      "\u001b[90m# ℹ 288 more rows\u001b[39m\n"
     ]
    }
   ],
   "source": [
    "count(flights, tailnum, time_hour, minute) %>% filter(n > 1) %>% print"
   ]
  },
  {
   "cell_type": "code",
   "execution_count": 27,
   "metadata": {},
   "outputs": [
    {
     "name": "stdout",
     "output_type": "stream",
     "text": [
      "\u001b[90m# A tibble: 298 × 7\u001b[39m\n",
      "   tailnum  year month   day  hour minute     n\n",
      "   \u001b[3m\u001b[90m<chr>\u001b[39m\u001b[23m   \u001b[3m\u001b[90m<int>\u001b[39m\u001b[23m \u001b[3m\u001b[90m<int>\u001b[39m\u001b[23m \u001b[3m\u001b[90m<int>\u001b[39m\u001b[23m \u001b[3m\u001b[90m<dbl>\u001b[39m\u001b[23m  \u001b[3m\u001b[90m<dbl>\u001b[39m\u001b[23m \u001b[3m\u001b[90m<int>\u001b[39m\u001b[23m\n",
      "\u001b[90m 1\u001b[39m N11119   \u001b[4m2\u001b[24m013     6    10    16     55     2\n",
      "\u001b[90m 2\u001b[39m N11192   \u001b[4m2\u001b[24m013     8    26     8     30     2\n",
      "\u001b[90m 3\u001b[39m N12563   \u001b[4m2\u001b[24m013     2     4    16     19     2\n",
      "\u001b[90m 4\u001b[39m N12564   \u001b[4m2\u001b[24m013     1    13    20      0     2\n",
      "\u001b[90m 5\u001b[39m N12900   \u001b[4m2\u001b[24m013     7    10    21     29     2\n",
      "\u001b[90m 6\u001b[39m N13969   \u001b[4m2\u001b[24m013     1    28     7     59     2\n",
      "\u001b[90m 7\u001b[39m N14148   \u001b[4m2\u001b[24m013     3    12     6     30     2\n",
      "\u001b[90m 8\u001b[39m N14558   \u001b[4m2\u001b[24m013     4    19    13     29     2\n",
      "\u001b[90m 9\u001b[39m N14916   \u001b[4m2\u001b[24m013     2    11    13     15     2\n",
      "\u001b[90m10\u001b[39m N14974   \u001b[4m2\u001b[24m013     7    26     6     30     2\n",
      "\u001b[90m# ℹ 288 more rows\u001b[39m\n"
     ]
    }
   ],
   "source": [
    "count(flights, tailnum, year, month, day, hour, minute) %>% filter(n > 1) %>% print"
   ]
  },
  {
   "cell_type": "markdown",
   "metadata": {
    "slideshow": {
     "slide_type": "notes"
    }
   },
   "source": [
    "These likely indicate data entry errors."
   ]
  },
  {
   "cell_type": "markdown",
   "metadata": {
    "slideshow": {
     "slide_type": "slide"
    }
   },
   "source": [
    "## 🤔 Quiz\n",
    "\n",
    "What column(s) constitute a primary key in the `mpg` table?\n",
    "\n",
    "<ol style=\"list-style-type: upper-alpha;\">\n",
    "    <li><code>manufacturer</code> and <code>model</code></li>\n",
    "    <li><code>manufacturer</code>, <code>year</code>, and <code>model</code></li>\n",
    "    <li><code>manufacturer</code>, <code>year</code>, <code>displ</code>, and <code>model</code></li>\n",
    "    <li><code>manufacturer</code>, <code>year</code>, <code>displ</code>, <code>trans</code>, and <code>model</code></li>\n",
    "    <li>None of these</li>\n",
    "</ol>\n",
    "\n"
   ]
  },
  {
   "cell_type": "code",
   "execution_count": 35,
   "metadata": {
    "slideshow": {
     "slide_type": "slide"
    }
   },
   "outputs": [],
   "source": [
    "# primary key in mpg "
   ]
  },
  {
   "cell_type": "markdown",
   "metadata": {
    "slideshow": {
     "slide_type": "slide"
    }
   },
   "source": [
    "## Relations\n",
    "A foreign key is a variable (or set of variables) that corresponds to a primary key in another table. For example:\n",
    "* `flights$tailnum` is a foreign key that corresponds to the primary key `planes$tailnum`.\n",
    "* `flights$carrier` is a foreign key that corresponds to the primary key `airlines$carrier`.\n",
    "* `flights$origin` is a foreign key that corresponds to the primary key `airports$faa`.\n",
    "* `flights$dest` is a foreign key that corresponds to the primary key `airports$faa`.\n",
    "  \n",
    "A **primary key** and the corresponding **foreign key** in another table form a *relation*. Relations come in several forms:\n",
    "- *One-to-many*. (Most common). For example, each flight has one plane, but each plane has many flights. \n",
    "- *Many-to-many*: For example, each airline flies to many airports; each airport hosts many airlines.\n",
    "- *One-to-one*. Each row in one table corresponds uniquely to a row in a second table. This is relatively uncommon because you could just as easily combine the two tables into one."
   ]
  },
  {
   "cell_type": "code",
   "execution_count": 30,
   "metadata": {
    "slideshow": {
     "slide_type": "notes"
    }
   },
   "outputs": [],
   "source": [
    "x = tribble(\n",
    "  ~key, ~val_x,\n",
    "     1, \"x1\",\n",
    "     2, \"x2\",\n",
    "     3, \"x3\"\n",
    ")\n",
    "y = tribble(\n",
    "  ~key, ~val_y,\n",
    "     1, \"y1\",\n",
    "     2, \"y2\",\n",
    "     4, \"y3\"\n",
    ")"
   ]
  },
  {
   "cell_type": "code",
   "execution_count": 39,
   "metadata": {
    "slideshow": {
     "slide_type": "slide"
    }
   },
   "outputs": [
    {
     "data": {
      "text/html": [
       "<table class=\"dataframe\">\n",
       "<caption>A tibble: 3 × 2</caption>\n",
       "<thead>\n",
       "\t<tr><th scope=col>key</th><th scope=col>val_x</th></tr>\n",
       "\t<tr><th scope=col>&lt;dbl&gt;</th><th scope=col>&lt;chr&gt;</th></tr>\n",
       "</thead>\n",
       "<tbody>\n",
       "\t<tr><td>1</td><td>x1</td></tr>\n",
       "\t<tr><td>2</td><td>x2</td></tr>\n",
       "\t<tr><td>3</td><td>x3</td></tr>\n",
       "</tbody>\n",
       "</table>\n"
      ],
      "text/latex": [
       "A tibble: 3 × 2\n",
       "\\begin{tabular}{ll}\n",
       " key & val\\_x\\\\\n",
       " <dbl> & <chr>\\\\\n",
       "\\hline\n",
       "\t 1 & x1\\\\\n",
       "\t 2 & x2\\\\\n",
       "\t 3 & x3\\\\\n",
       "\\end{tabular}\n"
      ],
      "text/markdown": [
       "\n",
       "A tibble: 3 × 2\n",
       "\n",
       "| key &lt;dbl&gt; | val_x &lt;chr&gt; |\n",
       "|---|---|\n",
       "| 1 | x1 |\n",
       "| 2 | x2 |\n",
       "| 3 | x3 |\n",
       "\n"
      ],
      "text/plain": [
       "  key val_x\n",
       "1 1   x1   \n",
       "2 2   x2   \n",
       "3 3   x3   "
      ]
     },
     "metadata": {},
     "output_type": "display_data"
    },
    {
     "data": {
      "text/html": [
       "<table class=\"dataframe\">\n",
       "<caption>A tibble: 3 × 2</caption>\n",
       "<thead>\n",
       "\t<tr><th scope=col>key</th><th scope=col>val_y</th></tr>\n",
       "\t<tr><th scope=col>&lt;dbl&gt;</th><th scope=col>&lt;chr&gt;</th></tr>\n",
       "</thead>\n",
       "<tbody>\n",
       "\t<tr><td>1</td><td>y1</td></tr>\n",
       "\t<tr><td>2</td><td>y2</td></tr>\n",
       "\t<tr><td>4</td><td>y3</td></tr>\n",
       "</tbody>\n",
       "</table>\n"
      ],
      "text/latex": [
       "A tibble: 3 × 2\n",
       "\\begin{tabular}{ll}\n",
       " key & val\\_y\\\\\n",
       " <dbl> & <chr>\\\\\n",
       "\\hline\n",
       "\t 1 & y1\\\\\n",
       "\t 2 & y2\\\\\n",
       "\t 4 & y3\\\\\n",
       "\\end{tabular}\n"
      ],
      "text/markdown": [
       "\n",
       "A tibble: 3 × 2\n",
       "\n",
       "| key &lt;dbl&gt; | val_y &lt;chr&gt; |\n",
       "|---|---|\n",
       "| 1 | y1 |\n",
       "| 2 | y2 |\n",
       "| 4 | y3 |\n",
       "\n"
      ],
      "text/plain": [
       "  key val_y\n",
       "1 1   y1   \n",
       "2 2   y2   \n",
       "3 4   y3   "
      ]
     },
     "metadata": {},
     "output_type": "display_data"
    }
   ],
   "source": [
    "x\n",
    "y"
   ]
  },
  {
   "cell_type": "markdown",
   "metadata": {
    "slideshow": {
     "slide_type": "slide"
    }
   },
   "source": [
    "## Joins\n",
    "Joins are the way we combine or \"merge\" two data tables based on keys.\n",
    "To understand how joins work we'll study these two simple tables:\n",
    "\n",
    "![simple tables](http://r4ds.had.co.nz/diagrams/join-setup.png)"
   ]
  },
  {
   "cell_type": "markdown",
   "metadata": {
    "slideshow": {
     "slide_type": "slide"
    }
   },
   "source": [
    "### Inner joins\n",
    "Inner joins match a pair of observations whenever their keys are equal:\n",
    "![match example](https://r4ds.hadley.nz/diagrams/join/inner.png)"
   ]
  },
  {
   "cell_type": "code",
   "execution_count": 32,
   "metadata": {
    "slideshow": {
     "slide_type": "slide"
    }
   },
   "outputs": [
    {
     "name": "stderr",
     "output_type": "stream",
     "text": [
      "\u001b[1m\u001b[22mJoining with `by = join_by(key)`\n"
     ]
    },
    {
     "data": {
      "text/html": [
       "<table class=\"dataframe\">\n",
       "<caption>A tibble: 2 × 3</caption>\n",
       "<thead>\n",
       "\t<tr><th scope=col>key</th><th scope=col>val_x</th><th scope=col>val_y</th></tr>\n",
       "\t<tr><th scope=col>&lt;dbl&gt;</th><th scope=col>&lt;chr&gt;</th><th scope=col>&lt;chr&gt;</th></tr>\n",
       "</thead>\n",
       "<tbody>\n",
       "\t<tr><td>1</td><td>x1</td><td>y1</td></tr>\n",
       "\t<tr><td>2</td><td>x2</td><td>y2</td></tr>\n",
       "</tbody>\n",
       "</table>\n"
      ],
      "text/latex": [
       "A tibble: 2 × 3\n",
       "\\begin{tabular}{lll}\n",
       " key & val\\_x & val\\_y\\\\\n",
       " <dbl> & <chr> & <chr>\\\\\n",
       "\\hline\n",
       "\t 1 & x1 & y1\\\\\n",
       "\t 2 & x2 & y2\\\\\n",
       "\\end{tabular}\n"
      ],
      "text/markdown": [
       "\n",
       "A tibble: 2 × 3\n",
       "\n",
       "| key &lt;dbl&gt; | val_x &lt;chr&gt; | val_y &lt;chr&gt; |\n",
       "|---|---|---|\n",
       "| 1 | x1 | y1 |\n",
       "| 2 | x2 | y2 |\n",
       "\n"
      ],
      "text/plain": [
       "  key val_x val_y\n",
       "1 1   x1    y1   \n",
       "2 2   x2    y2   "
      ]
     },
     "metadata": {},
     "output_type": "display_data"
    }
   ],
   "source": [
    "# older way of joining\n",
    "x %>% inner_join(y, by = \"key\")"
   ]
  },
  {
   "cell_type": "code",
   "execution_count": 50,
   "metadata": {},
   "outputs": [
    {
     "data": {
      "text/html": [
       "<table class=\"dataframe\">\n",
       "<caption>A tibble: 2 × 3</caption>\n",
       "<thead>\n",
       "\t<tr><th scope=col>key</th><th scope=col>val_x</th><th scope=col>val_y</th></tr>\n",
       "\t<tr><th scope=col>&lt;dbl&gt;</th><th scope=col>&lt;chr&gt;</th><th scope=col>&lt;chr&gt;</th></tr>\n",
       "</thead>\n",
       "<tbody>\n",
       "\t<tr><td>1</td><td>x1</td><td>y1</td></tr>\n",
       "\t<tr><td>2</td><td>x2</td><td>y2</td></tr>\n",
       "</tbody>\n",
       "</table>\n"
      ],
      "text/latex": [
       "A tibble: 2 × 3\n",
       "\\begin{tabular}{lll}\n",
       " key & val\\_x & val\\_y\\\\\n",
       " <dbl> & <chr> & <chr>\\\\\n",
       "\\hline\n",
       "\t 1 & x1 & y1\\\\\n",
       "\t 2 & x2 & y2\\\\\n",
       "\\end{tabular}\n"
      ],
      "text/markdown": [
       "\n",
       "A tibble: 2 × 3\n",
       "\n",
       "| key &lt;dbl&gt; | val_x &lt;chr&gt; | val_y &lt;chr&gt; |\n",
       "|---|---|---|\n",
       "| 1 | x1 | y1 |\n",
       "| 2 | x2 | y2 |\n",
       "\n"
      ],
      "text/plain": [
       "  key val_x val_y\n",
       "1 1   x1    y1   \n",
       "2 2   x2    y2   "
      ]
     },
     "metadata": {},
     "output_type": "display_data"
    }
   ],
   "source": [
    "# using join_by is preferred\n",
    "x %>% inner_join(y, join_by('key'))"
   ]
  },
  {
   "cell_type": "code",
   "execution_count": 52,
   "metadata": {},
   "outputs": [
    {
     "data": {
      "text/html": [
       "<table class=\"dataframe\">\n",
       "<caption>A tibble: 2 × 3</caption>\n",
       "<thead>\n",
       "\t<tr><th scope=col>key</th><th scope=col>val_x</th><th scope=col>val_y</th></tr>\n",
       "\t<tr><th scope=col>&lt;dbl&gt;</th><th scope=col>&lt;chr&gt;</th><th scope=col>&lt;chr&gt;</th></tr>\n",
       "</thead>\n",
       "<tbody>\n",
       "\t<tr><td>1</td><td>x1</td><td>y1</td></tr>\n",
       "\t<tr><td>2</td><td>x2</td><td>y2</td></tr>\n",
       "</tbody>\n",
       "</table>\n"
      ],
      "text/latex": [
       "A tibble: 2 × 3\n",
       "\\begin{tabular}{lll}\n",
       " key & val\\_x & val\\_y\\\\\n",
       " <dbl> & <chr> & <chr>\\\\\n",
       "\\hline\n",
       "\t 1 & x1 & y1\\\\\n",
       "\t 2 & x2 & y2\\\\\n",
       "\\end{tabular}\n"
      ],
      "text/markdown": [
       "\n",
       "A tibble: 2 × 3\n",
       "\n",
       "| key &lt;dbl&gt; | val_x &lt;chr&gt; | val_y &lt;chr&gt; |\n",
       "|---|---|---|\n",
       "| 1 | x1 | y1 |\n",
       "| 2 | x2 | y2 |\n",
       "\n"
      ],
      "text/plain": [
       "  key val_x val_y\n",
       "1 1   x1    y1   \n",
       "2 2   x2    y2   "
      ]
     },
     "metadata": {},
     "output_type": "display_data"
    }
   ],
   "source": [
    "x %>% inner_join(y, join_by('key' == 'key'))"
   ]
  },
  {
   "cell_type": "markdown",
   "metadata": {
    "slideshow": {
     "slide_type": "notes"
    }
   },
   "source": [
    "Note that there is no row for `key=3` or `key=4`: with an inner join, unmatched rows are not included in the result. For this reason, we do not as often use inner joins for data analysis since you can easily lose observations.\n",
    "\n",
    "#### Differences between `by` and `join_by`\n",
    "* by = \"x\" corresponds to join_by(x).\n",
    "* by = c(\"a\" = \"x\") corresponds to join_by(a == x).\n"
   ]
  },
  {
   "cell_type": "markdown",
   "metadata": {
    "slideshow": {
     "slide_type": "slide"
    }
   },
   "source": [
    "### Outer joins\n",
    "An outer join keeps observations that appear in at least one of the tables. There are three types of outer joins:\n",
    "- A left join keeps all observations in x.\n",
    "- A right join keeps all observations in y.\n",
    "- A full join keeps all observations in both x and y."
   ]
  },
  {
   "cell_type": "markdown",
   "metadata": {
    "slideshow": {
     "slide_type": "slide"
    }
   },
   "source": [
    "![match example](https://r4ds.hadley.nz/diagrams/join/left.png)"
   ]
  },
  {
   "cell_type": "markdown",
   "metadata": {
    "slideshow": {
     "slide_type": "slide"
    }
   },
   "source": [
    "![match example](https://r4ds.hadley.nz/diagrams/join/right.png)"
   ]
  },
  {
   "cell_type": "markdown",
   "metadata": {
    "slideshow": {
     "slide_type": "slide"
    }
   },
   "source": [
    "![match example](https://r4ds.hadley.nz/diagrams/join/full.png)"
   ]
  },
  {
   "cell_type": "markdown",
   "metadata": {
    "slideshow": {
     "slide_type": "slide"
    }
   },
   "source": [
    "Left joins are the most common. Use them to look up data in another table, but preserve your original observations when there are records on the left table for which the other table does not have a match."
   ]
  },
  {
   "cell_type": "markdown",
   "metadata": {
    "slideshow": {
     "slide_type": "slide"
    }
   },
   "source": [
    "### Example\n",
    "The `flights` table has a `carrier` column which is a two-letter code for the airline. The `airlines` table maps these code to recognizable airline names. \n",
    "\n",
    "How many flights are there per carrier name (full name of the carrier) in the dataset?"
   ]
  },
  {
   "cell_type": "code",
   "execution_count": 41,
   "metadata": {
    "slideshow": {
     "slide_type": "slide"
    }
   },
   "outputs": [],
   "source": [
    "# flights per carrier"
   ]
  },
  {
   "cell_type": "markdown",
   "metadata": {
    "slideshow": {
     "slide_type": "slide"
    }
   },
   "source": [
    "## 🤔 Quiz\n",
    "\n",
    "How many flights departing from LGA were operated by JetBlue Airways?\n",
    "\n",
    "<ol style=\"list-style-type: upper-alpha;\">\n",
    "    <li>46087</li>\n",
    "    <li>26397</li>\n",
    "    <li>2276</li>\n",
    "    <li>6002</li>\n",
    "    <li>43939</li>\n",
    "</ol>"
   ]
  },
  {
   "cell_type": "code",
   "execution_count": 57,
   "metadata": {
    "slideshow": {
     "slide_type": "slide"
    }
   },
   "outputs": [],
   "source": [
    "# jetblue from LGA"
   ]
  },
  {
   "cell_type": "markdown",
   "metadata": {
    "slideshow": {
     "slide_type": "notes"
    }
   },
   "source": [
    "### Duplicate foreign keys\n",
    "A primary key is unique but not a foreign key. "
   ]
  },
  {
   "cell_type": "markdown",
   "metadata": {
    "slideshow": {
     "slide_type": "slide"
    }
   },
   "source": [
    "##### One table has duplicate keys\n",
    "This is useful when you want to add in additional information as there is typically a one-to-many relationship.\n",
    "![duplicate keys](http://r4ds.had.co.nz/diagrams/join-one-to-many.png)"
   ]
  },
  {
   "cell_type": "markdown",
   "metadata": {
    "slideshow": {
     "slide_type": "notes"
    }
   },
   "source": [
    "In fact, we already saw an example of this above when we joined `planes` to `flights`: each plane belongs to potentially many flights."
   ]
  },
  {
   "cell_type": "markdown",
   "metadata": {
    "slideshow": {
     "slide_type": "slide"
    }
   },
   "source": [
    "### Exercise\n",
    "What is the most common model of airplane used by each carrier?"
   ]
  },
  {
   "cell_type": "code",
   "execution_count": null,
   "metadata": {},
   "outputs": [],
   "source": [
    "# most common model"
   ]
  },
  {
   "cell_type": "markdown",
   "metadata": {
    "slideshow": {
     "slide_type": "slide"
    }
   },
   "source": [
    "##### When Both tables have duplicate keys\n",
    "This represents a many-to-many join and is usually an error since the key does not uniquely identify observations in either table. Joining duplicated keys results in the Cartesian product of all the possible matches:\n",
    "![cartesian](http://r4ds.had.co.nz/diagrams/join-many-to-many.png)"
   ]
  },
  {
   "cell_type": "markdown",
   "metadata": {
    "slideshow": {
     "slide_type": "notes"
    }
   },
   "source": [
    "Be careful when doing many-to-many merges. It's possible to generate huge tables by accident and crash R."
   ]
  },
  {
   "cell_type": "markdown",
   "metadata": {},
   "source": [
    "## 🤔 Quiz\n",
    "To understand what the weather conditions were when each flight departed, I will join the weather table to the first 100 rows of the flights table using the command\n",
    "\n",
    "```\n",
    "flights %>% slice(1:100) %>% left_join(weather, by=c(\"origin\", \"hour\"))\n",
    "```\n",
    "\n",
    "How many rows does the resulting table have?\n",
    "\n",
    "<ol style=\"list-style-type: upper-alpha;\">\n",
    "    <li>100</li>\n",
    "    <li>36344</li>\n",
    "    <li>336776</li>\n",
    "    <li>Zero</li>\n",
    "    <li><code>NA</code></li>\n",
    "</ol>"
   ]
  },
  {
   "cell_type": "code",
   "execution_count": 59,
   "metadata": {
    "slideshow": {
     "slide_type": "slide"
    }
   },
   "outputs": [],
   "source": [
    "# flights %>% slice(1:100) %>% left_join(weather, by=c(\"origin\", \"hour\")) "
   ]
  },
  {
   "cell_type": "markdown",
   "metadata": {
    "slideshow": {
     "slide_type": "slide"
    }
   },
   "source": [
    "### Defining the key columns\n",
    "When we do a join using `left_join()`, R take as the key whatever column names the two tables have in common:"
   ]
  },
  {
   "cell_type": "code",
   "execution_count": 86,
   "metadata": {},
   "outputs": [
    {
     "name": "stderr",
     "output_type": "stream",
     "text": [
      "Joining, by = c(\"year\", \"tailnum\")\n"
     ]
    },
    {
     "name": "stdout",
     "output_type": "stream",
     "text": [
      "# A tibble: 336,776 x 26\n",
      "    year month   day dep_time sched_dep_time dep_delay arr_time sched_arr_time\n",
      "   <int> <int> <int>    <int>          <int>     <dbl>    <int>          <int>\n",
      " 1  2013     1     1      517            515         2      830            819\n",
      " 2  2013     1     1      533            529         4      850            830\n",
      " 3  2013     1     1      542            540         2      923            850\n",
      " 4  2013     1     1      544            545        -1     1004           1022\n",
      " 5  2013     1     1      554            600        -6      812            837\n",
      " 6  2013     1     1      554            558        -4      740            728\n",
      " 7  2013     1     1      555            600        -5      913            854\n",
      " 8  2013     1     1      557            600        -3      709            723\n",
      " 9  2013     1     1      557            600        -3      838            846\n",
      "10  2013     1     1      558            600        -2      753            745\n",
      "# … with 336,766 more rows, and 18 more variables: arr_delay <dbl>,\n",
      "#   carrier <chr>, flight <int>, tailnum <chr>, origin <chr>, dest <chr>,\n",
      "#   air_time <dbl>, distance <dbl>, hour <dbl>, minute <dbl>, time_hour <dttm>,\n",
      "#   type <chr>, manufacturer <chr>, model <chr>, engines <int>, seats <int>,\n",
      "#   speed <int>, engine <chr>\n"
     ]
    }
   ],
   "source": [
    "left_join(flights, planes) %>% print"
   ]
  },
  {
   "cell_type": "markdown",
   "metadata": {
    "slideshow": {
     "slide_type": "notes"
    }
   },
   "source": [
    "This is called a *natural join*. If the key column(s) are named differently in the two tables, we must specify the mapping between the two using the `by=` or `join_by` parameter.\n"
   ]
  },
  {
   "cell_type": "markdown",
   "metadata": {
    "slideshow": {
     "slide_type": "slide"
    }
   },
   "source": [
    "Consider joining `airports` to `flights`:\n",
    "```\n",
    "> left_join(flights, airports)\n",
    "Error: `by` required, because the data sources have no common variables\n",
    "Traceback:\n",
    "\n",
    "1. left_join(flights, airports)\n",
    "2. left_join.tbl_df(flights, airports)\n",
    "3. common_by(by, x, y)\n",
    "4. common_by.NULL(by, x, y)\n",
    "5. bad_args(\"by\", \"required, because the data sources have no common variables\")\n",
    "6. glubort(fmt_args(args), ..., .envir = .envir)\n",
    "7. .abort(text)\n",
    "```"
   ]
  },
  {
   "cell_type": "markdown",
   "metadata": {
    "slideshow": {
     "slide_type": "notes"
    }
   },
   "source": [
    "This has produced an error, because airports and flights do not have any columns in common. Indeed, the three digit FAA code is called `faa` in `airports`, but appears as either `origin` or `dest` in `flights`. To fix the error, we must specify which of `origin` or `dest` should be matched:"
   ]
  },
  {
   "cell_type": "code",
   "execution_count": 83,
   "metadata": {
    "slideshow": {
     "slide_type": "slide"
    }
   },
   "outputs": [],
   "source": [
    "# join_by"
   ]
  },
  {
   "cell_type": "markdown",
   "metadata": {
    "slideshow": {
     "slide_type": "slide"
    }
   },
   "source": [
    "## 🤔 Quiz\n",
    "\n",
    "How many flights were bound to the Hawaii timezone in this dataset?\n",
    "\n",
    "<ol style=\"list-style-type: upper-alpha;\">\n",
    "    <li>560</li>\n",
    "    <li>707</li>\n",
    "    <li>710</li>\n",
    "    <li>659</li>\n",
    "    <li>500</li>\n",
    "</ol>\n"
   ]
  },
  {
   "cell_type": "code",
   "execution_count": null,
   "metadata": {},
   "outputs": [],
   "source": [
    "# your query"
   ]
  },
  {
   "cell_type": "markdown",
   "metadata": {
    "slideshow": {
     "slide_type": "slide"
    }
   },
   "source": [
    "## Filtering joins\n",
    "\n",
    "Filtering joins allow us to filter rows on one table based on their presence or absence in another table. We've already seen some examples of this on the problem sets:"
   ]
  },
  {
   "cell_type": "code",
   "execution_count": 61,
   "metadata": {},
   "outputs": [
    {
     "name": "stderr",
     "output_type": "stream",
     "text": [
      "\u001b[1m\u001b[22mSelecting by n\n"
     ]
    },
    {
     "data": {
      "text/html": [
       "94326"
      ],
      "text/latex": [
       "94326"
      ],
      "text/markdown": [
       "94326"
      ],
      "text/plain": [
       "[1] 94326"
      ]
     },
     "metadata": {},
     "output_type": "display_data"
    }
   ],
   "source": [
    "dest_top6 <- count(flights, dest) %>% top_n(6)\n",
    "filter(flights, dest %in% dest_top6$dest) %>% nrow"
   ]
  },
  {
   "cell_type": "markdown",
   "metadata": {
    "slideshow": {
     "slide_type": "slide"
    }
   },
   "source": [
    "### Semi-join\n",
    "`semi_join(x, y)` keeps all the observations in `x` that are also in `y`.\n",
    "![semi join](http://r4ds.had.co.nz/diagrams/join-semi.png)"
   ]
  },
  {
   "cell_type": "code",
   "execution_count": 74,
   "metadata": {
    "slideshow": {
     "slide_type": "slide"
    }
   },
   "outputs": [],
   "source": [
    "# # find the total count of flights that have plane information\n"
   ]
  }
 ],
 "metadata": {
  "celltoolbar": "Slideshow",
  "kernelspec": {
   "display_name": "R",
   "language": "R",
   "name": "ir"
  },
  "language_info": {
   "codemirror_mode": "r",
   "file_extension": ".r",
   "mimetype": "text/x-r-source",
   "name": "R",
   "pygments_lexer": "r",
   "version": "4.3.1"
  }
 },
 "nbformat": 4,
 "nbformat_minor": 4
}
