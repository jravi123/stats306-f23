{
  "cells": [
    {
      "cell_type": "markdown",
      "metadata": {
        "id": "v0fdQhfeXrBZ"
      },
      "source": [
        "# Lecture 10:\n",
        "<div style=\"border: 1px double black; padding: 10px; margin: 10px\">\n",
        "\n",
        "**Goals for today's lecture:**\n",
        "* More on joins\n",
        "* Learn SQL (Structured Query Language)\n",
        "</div>\n"
      ]
    },
    {
      "cell_type": "code",
      "execution_count": 1,
      "metadata": {
        "colab": {
          "base_uri": "https://localhost:8080/"
        },
        "id": "KtXptobrXrBj",
        "outputId": "780e74b0-c493-4723-cee4-5ff30707224c"
      },
      "outputs": [
        {
          "output_type": "stream",
          "name": "stderr",
          "text": [
            "Installing package into ‘/usr/local/lib/R/site-library’\n",
            "(as ‘lib’ is unspecified)\n",
            "\n",
            "also installing the dependency ‘plogr’\n",
            "\n",
            "\n",
            "Installing package into ‘/usr/local/lib/R/site-library’\n",
            "(as ‘lib’ is unspecified)\n",
            "\n"
          ]
        }
      ],
      "source": [
        "install.packages('RSQLite')  # if required\n",
        "install.packages('nycflights13')"
      ]
    },
    {
      "cell_type": "code",
      "execution_count": 3,
      "metadata": {
        "id": "eQRdeauWXrBp",
        "outputId": "b16d1ad4-9dbb-4554-accc-bcbe47fd3c03",
        "colab": {
          "base_uri": "https://localhost:8080/"
        }
      },
      "outputs": [
        {
          "output_type": "stream",
          "name": "stderr",
          "text": [
            "── \u001b[1mAttaching core tidyverse packages\u001b[22m ──────────────────────── tidyverse 2.0.0 ──\n",
            "\u001b[32m✔\u001b[39m \u001b[34mdplyr    \u001b[39m 1.1.3     \u001b[32m✔\u001b[39m \u001b[34mreadr    \u001b[39m 2.1.4\n",
            "\u001b[32m✔\u001b[39m \u001b[34mforcats  \u001b[39m 1.0.0     \u001b[32m✔\u001b[39m \u001b[34mstringr  \u001b[39m 1.5.0\n",
            "\u001b[32m✔\u001b[39m \u001b[34mggplot2  \u001b[39m 3.4.3     \u001b[32m✔\u001b[39m \u001b[34mtibble   \u001b[39m 3.2.1\n",
            "\u001b[32m✔\u001b[39m \u001b[34mlubridate\u001b[39m 1.9.2     \u001b[32m✔\u001b[39m \u001b[34mtidyr    \u001b[39m 1.3.0\n",
            "\u001b[32m✔\u001b[39m \u001b[34mpurrr    \u001b[39m 1.0.2     \n",
            "── \u001b[1mConflicts\u001b[22m ────────────────────────────────────────── tidyverse_conflicts() ──\n",
            "\u001b[31m✖\u001b[39m \u001b[34mdplyr\u001b[39m::\u001b[32mfilter()\u001b[39m masks \u001b[34mstats\u001b[39m::filter()\n",
            "\u001b[31m✖\u001b[39m \u001b[34mdplyr\u001b[39m::\u001b[32mident()\u001b[39m  masks \u001b[34mdbplyr\u001b[39m::ident()\n",
            "\u001b[31m✖\u001b[39m \u001b[34mdplyr\u001b[39m::\u001b[32mlag()\u001b[39m    masks \u001b[34mstats\u001b[39m::lag()\n",
            "\u001b[31m✖\u001b[39m \u001b[34mdplyr\u001b[39m::\u001b[32msql()\u001b[39m    masks \u001b[34mdbplyr\u001b[39m::sql()\n",
            "\u001b[36mℹ\u001b[39m Use the conflicted package (\u001b[3m\u001b[34m<http://conflicted.r-lib.org/>\u001b[39m\u001b[23m) to force all conflicts to become errors\n"
          ]
        }
      ],
      "source": [
        "library(DBI)\n",
        "library(dbplyr)\n",
        "library(tidyverse)\n",
        "library(nycflights13)"
      ]
    },
    {
      "cell_type": "markdown",
      "metadata": {
        "id": "ho7WsEEVX-cS"
      },
      "source": [
        "### Exercise\n",
        "Assume every flight is full. The busiest travel day in terms of total # of passengers scheduled to depart is:\n",
        "(Hint: the `planes` table tells you how many passengers each airplane holds.)"
      ]
    },
    {
      "cell_type": "code",
      "execution_count": 9,
      "metadata": {
        "id": "VwgvhrA7YAus",
        "outputId": "24122904-a474-49a1-8cd4-189521561caf",
        "colab": {
          "base_uri": "https://localhost:8080/",
          "height": 1000
        }
      },
      "outputs": [
        {
          "output_type": "stream",
          "name": "stderr",
          "text": [
            "\u001b[1m\u001b[22m`summarise()` has grouped output by 'month'. You can override using the\n",
            "`.groups` argument.\n"
          ]
        },
        {
          "output_type": "display_data",
          "data": {
            "text/html": [
              "<table class=\"dataframe\">\n",
              "<caption>A grouped_df: 365 × 3</caption>\n",
              "<thead>\n",
              "\t<tr><th scope=col>month</th><th scope=col>day</th><th scope=col>total</th></tr>\n",
              "\t<tr><th scope=col>&lt;int&gt;</th><th scope=col>&lt;int&gt;</th><th scope=col>&lt;int&gt;</th></tr>\n",
              "</thead>\n",
              "<tbody>\n",
              "\t<tr><td>11</td><td>27</td><td>118869</td></tr>\n",
              "\t<tr><td>12</td><td> 2</td><td>117736</td></tr>\n",
              "\t<tr><td>11</td><td>26</td><td>117470</td></tr>\n",
              "\t<tr><td>10</td><td>18</td><td>117324</td></tr>\n",
              "\t<tr><td>10</td><td>21</td><td>117166</td></tr>\n",
              "\t<tr><td> 7</td><td>26</td><td>116944</td></tr>\n",
              "\t<tr><td>11</td><td> 7</td><td>116734</td></tr>\n",
              "\t<tr><td> 4</td><td> 3</td><td>116716</td></tr>\n",
              "\t<tr><td>11</td><td>21</td><td>116577</td></tr>\n",
              "\t<tr><td>10</td><td> 3</td><td>116514</td></tr>\n",
              "\t<tr><td> 8</td><td>16</td><td>116509</td></tr>\n",
              "\t<tr><td>10</td><td>10</td><td>116469</td></tr>\n",
              "\t<tr><td>11</td><td> 8</td><td>116411</td></tr>\n",
              "\t<tr><td>12</td><td>23</td><td>116376</td></tr>\n",
              "\t<tr><td> 7</td><td>24</td><td>116219</td></tr>\n",
              "\t<tr><td>12</td><td> 1</td><td>116218</td></tr>\n",
              "\t<tr><td>11</td><td>22</td><td>116154</td></tr>\n",
              "\t<tr><td> 7</td><td>31</td><td>116098</td></tr>\n",
              "\t<tr><td> 8</td><td>21</td><td>116044</td></tr>\n",
              "\t<tr><td>10</td><td>17</td><td>116027</td></tr>\n",
              "\t<tr><td> 6</td><td>14</td><td>115951</td></tr>\n",
              "\t<tr><td>10</td><td>11</td><td>115947</td></tr>\n",
              "\t<tr><td>10</td><td> 4</td><td>115924</td></tr>\n",
              "\t<tr><td>11</td><td>15</td><td>115898</td></tr>\n",
              "\t<tr><td> 7</td><td>25</td><td>115872</td></tr>\n",
              "\t<tr><td> 8</td><td>19</td><td>115866</td></tr>\n",
              "\t<tr><td> 8</td><td> 7</td><td>115770</td></tr>\n",
              "\t<tr><td>11</td><td> 1</td><td>115762</td></tr>\n",
              "\t<tr><td>11</td><td>14</td><td>115720</td></tr>\n",
              "\t<tr><td>12</td><td> 3</td><td>115705</td></tr>\n",
              "\t<tr><td>⋮</td><td>⋮</td><td>⋮</td></tr>\n",
              "\t<tr><td> 2</td><td>16</td><td>87885</td></tr>\n",
              "\t<tr><td> 5</td><td> 4</td><td>87819</td></tr>\n",
              "\t<tr><td> 7</td><td> 4</td><td>87630</td></tr>\n",
              "\t<tr><td> 1</td><td> 5</td><td>87004</td></tr>\n",
              "\t<tr><td>11</td><td>16</td><td>86991</td></tr>\n",
              "\t<tr><td>11</td><td> 9</td><td>86815</td></tr>\n",
              "\t<tr><td> 5</td><td>26</td><td>86343</td></tr>\n",
              "\t<tr><td> 5</td><td>11</td><td>86320</td></tr>\n",
              "\t<tr><td>11</td><td> 2</td><td>86014</td></tr>\n",
              "\t<tr><td> 5</td><td>25</td><td>85750</td></tr>\n",
              "\t<tr><td> 2</td><td> 8</td><td>85468</td></tr>\n",
              "\t<tr><td> 9</td><td> 1</td><td>85464</td></tr>\n",
              "\t<tr><td>10</td><td>19</td><td>85006</td></tr>\n",
              "\t<tr><td>10</td><td> 5</td><td>84899</td></tr>\n",
              "\t<tr><td> 9</td><td>21</td><td>84321</td></tr>\n",
              "\t<tr><td>10</td><td>26</td><td>84242</td></tr>\n",
              "\t<tr><td> 8</td><td>31</td><td>83418</td></tr>\n",
              "\t<tr><td> 9</td><td>14</td><td>83064</td></tr>\n",
              "\t<tr><td> 9</td><td>28</td><td>82920</td></tr>\n",
              "\t<tr><td>10</td><td>12</td><td>82671</td></tr>\n",
              "\t<tr><td> 9</td><td> 7</td><td>82605</td></tr>\n",
              "\t<tr><td> 1</td><td>12</td><td>80170</td></tr>\n",
              "\t<tr><td>12</td><td> 7</td><td>80110</td></tr>\n",
              "\t<tr><td> 1</td><td>19</td><td>79947</td></tr>\n",
              "\t<tr><td> 1</td><td>26</td><td>79846</td></tr>\n",
              "\t<tr><td> 2</td><td> 2</td><td>78490</td></tr>\n",
              "\t<tr><td>11</td><td>29</td><td>78080</td></tr>\n",
              "\t<tr><td>12</td><td>14</td><td>75186</td></tr>\n",
              "\t<tr><td>11</td><td>28</td><td>74750</td></tr>\n",
              "\t<tr><td> 2</td><td> 9</td><td>59809</td></tr>\n",
              "</tbody>\n",
              "</table>\n"
            ],
            "text/markdown": "\nA grouped_df: 365 × 3\n\n| month &lt;int&gt; | day &lt;int&gt; | total &lt;int&gt; |\n|---|---|---|\n| 11 | 27 | 118869 |\n| 12 |  2 | 117736 |\n| 11 | 26 | 117470 |\n| 10 | 18 | 117324 |\n| 10 | 21 | 117166 |\n|  7 | 26 | 116944 |\n| 11 |  7 | 116734 |\n|  4 |  3 | 116716 |\n| 11 | 21 | 116577 |\n| 10 |  3 | 116514 |\n|  8 | 16 | 116509 |\n| 10 | 10 | 116469 |\n| 11 |  8 | 116411 |\n| 12 | 23 | 116376 |\n|  7 | 24 | 116219 |\n| 12 |  1 | 116218 |\n| 11 | 22 | 116154 |\n|  7 | 31 | 116098 |\n|  8 | 21 | 116044 |\n| 10 | 17 | 116027 |\n|  6 | 14 | 115951 |\n| 10 | 11 | 115947 |\n| 10 |  4 | 115924 |\n| 11 | 15 | 115898 |\n|  7 | 25 | 115872 |\n|  8 | 19 | 115866 |\n|  8 |  7 | 115770 |\n| 11 |  1 | 115762 |\n| 11 | 14 | 115720 |\n| 12 |  3 | 115705 |\n| ⋮ | ⋮ | ⋮ |\n|  2 | 16 | 87885 |\n|  5 |  4 | 87819 |\n|  7 |  4 | 87630 |\n|  1 |  5 | 87004 |\n| 11 | 16 | 86991 |\n| 11 |  9 | 86815 |\n|  5 | 26 | 86343 |\n|  5 | 11 | 86320 |\n| 11 |  2 | 86014 |\n|  5 | 25 | 85750 |\n|  2 |  8 | 85468 |\n|  9 |  1 | 85464 |\n| 10 | 19 | 85006 |\n| 10 |  5 | 84899 |\n|  9 | 21 | 84321 |\n| 10 | 26 | 84242 |\n|  8 | 31 | 83418 |\n|  9 | 14 | 83064 |\n|  9 | 28 | 82920 |\n| 10 | 12 | 82671 |\n|  9 |  7 | 82605 |\n|  1 | 12 | 80170 |\n| 12 |  7 | 80110 |\n|  1 | 19 | 79947 |\n|  1 | 26 | 79846 |\n|  2 |  2 | 78490 |\n| 11 | 29 | 78080 |\n| 12 | 14 | 75186 |\n| 11 | 28 | 74750 |\n|  2 |  9 | 59809 |\n\n",
            "text/latex": "A grouped\\_df: 365 × 3\n\\begin{tabular}{lll}\n month & day & total\\\\\n <int> & <int> & <int>\\\\\n\\hline\n\t 11 & 27 & 118869\\\\\n\t 12 &  2 & 117736\\\\\n\t 11 & 26 & 117470\\\\\n\t 10 & 18 & 117324\\\\\n\t 10 & 21 & 117166\\\\\n\t  7 & 26 & 116944\\\\\n\t 11 &  7 & 116734\\\\\n\t  4 &  3 & 116716\\\\\n\t 11 & 21 & 116577\\\\\n\t 10 &  3 & 116514\\\\\n\t  8 & 16 & 116509\\\\\n\t 10 & 10 & 116469\\\\\n\t 11 &  8 & 116411\\\\\n\t 12 & 23 & 116376\\\\\n\t  7 & 24 & 116219\\\\\n\t 12 &  1 & 116218\\\\\n\t 11 & 22 & 116154\\\\\n\t  7 & 31 & 116098\\\\\n\t  8 & 21 & 116044\\\\\n\t 10 & 17 & 116027\\\\\n\t  6 & 14 & 115951\\\\\n\t 10 & 11 & 115947\\\\\n\t 10 &  4 & 115924\\\\\n\t 11 & 15 & 115898\\\\\n\t  7 & 25 & 115872\\\\\n\t  8 & 19 & 115866\\\\\n\t  8 &  7 & 115770\\\\\n\t 11 &  1 & 115762\\\\\n\t 11 & 14 & 115720\\\\\n\t 12 &  3 & 115705\\\\\n\t ⋮ & ⋮ & ⋮\\\\\n\t  2 & 16 & 87885\\\\\n\t  5 &  4 & 87819\\\\\n\t  7 &  4 & 87630\\\\\n\t  1 &  5 & 87004\\\\\n\t 11 & 16 & 86991\\\\\n\t 11 &  9 & 86815\\\\\n\t  5 & 26 & 86343\\\\\n\t  5 & 11 & 86320\\\\\n\t 11 &  2 & 86014\\\\\n\t  5 & 25 & 85750\\\\\n\t  2 &  8 & 85468\\\\\n\t  9 &  1 & 85464\\\\\n\t 10 & 19 & 85006\\\\\n\t 10 &  5 & 84899\\\\\n\t  9 & 21 & 84321\\\\\n\t 10 & 26 & 84242\\\\\n\t  8 & 31 & 83418\\\\\n\t  9 & 14 & 83064\\\\\n\t  9 & 28 & 82920\\\\\n\t 10 & 12 & 82671\\\\\n\t  9 &  7 & 82605\\\\\n\t  1 & 12 & 80170\\\\\n\t 12 &  7 & 80110\\\\\n\t  1 & 19 & 79947\\\\\n\t  1 & 26 & 79846\\\\\n\t  2 &  2 & 78490\\\\\n\t 11 & 29 & 78080\\\\\n\t 12 & 14 & 75186\\\\\n\t 11 & 28 & 74750\\\\\n\t  2 &  9 & 59809\\\\\n\\end{tabular}\n",
            "text/plain": [
              "    month day total \n",
              "1   11    27  118869\n",
              "2   12     2  117736\n",
              "3   11    26  117470\n",
              "4   10    18  117324\n",
              "5   10    21  117166\n",
              "6    7    26  116944\n",
              "7   11     7  116734\n",
              "8    4     3  116716\n",
              "9   11    21  116577\n",
              "10  10     3  116514\n",
              "11   8    16  116509\n",
              "12  10    10  116469\n",
              "13  11     8  116411\n",
              "14  12    23  116376\n",
              "15   7    24  116219\n",
              "16  12     1  116218\n",
              "17  11    22  116154\n",
              "18   7    31  116098\n",
              "19   8    21  116044\n",
              "20  10    17  116027\n",
              "21   6    14  115951\n",
              "22  10    11  115947\n",
              "23  10     4  115924\n",
              "24  11    15  115898\n",
              "25   7    25  115872\n",
              "26   8    19  115866\n",
              "27   8     7  115770\n",
              "28  11     1  115762\n",
              "29  11    14  115720\n",
              "30  12     3  115705\n",
              "⋮   ⋮     ⋮   ⋮     \n",
              "336  2    16  87885 \n",
              "337  5     4  87819 \n",
              "338  7     4  87630 \n",
              "339  1     5  87004 \n",
              "340 11    16  86991 \n",
              "341 11     9  86815 \n",
              "342  5    26  86343 \n",
              "343  5    11  86320 \n",
              "344 11     2  86014 \n",
              "345  5    25  85750 \n",
              "346  2     8  85468 \n",
              "347  9     1  85464 \n",
              "348 10    19  85006 \n",
              "349 10     5  84899 \n",
              "350  9    21  84321 \n",
              "351 10    26  84242 \n",
              "352  8    31  83418 \n",
              "353  9    14  83064 \n",
              "354  9    28  82920 \n",
              "355 10    12  82671 \n",
              "356  9     7  82605 \n",
              "357  1    12  80170 \n",
              "358 12     7  80110 \n",
              "359  1    19  79947 \n",
              "360  1    26  79846 \n",
              "361  2     2  78490 \n",
              "362 11    29  78080 \n",
              "363 12    14  75186 \n",
              "364 11    28  74750 \n",
              "365  2     9  59809 "
            ]
          },
          "metadata": {}
        }
      ],
      "source": [
        "# code here\n",
        "flights %>%\n",
        "  left_join(planes, join_by(tailnum)) %>%\n",
        "    group_by(month, day) %>%\n",
        "      summarise(total = sum(seats, na.rm = T)) %>%\n",
        "        arrange(-total)"
      ]
    },
    {
      "cell_type": "markdown",
      "metadata": {
        "id": "fEHADIKOZUO0"
      },
      "source": [
        "### Anti-join\n",
        "`anti_join(x, y)` does the opposite of `semi_join`: it *drops* all the observations in `x` that are also in `y`.\n",
        "![anti join](https://r4ds.hadley.nz/diagrams/join/anti.png)\n",
        "\n",
        "Anti-joins are useful for finding mismatches in joins. There are many flights for which there is no tailnum in 'planes' table. To find out more about these flights we could use an anti-join to select only those rows:"
      ]
    },
    {
      "cell_type": "code",
      "execution_count": 13,
      "metadata": {
        "colab": {
          "base_uri": "https://localhost:8080/"
        },
        "id": "NWHDR1_CZlRX",
        "outputId": "e01ea3ea-d0df-4d0b-f1d3-96bc184e9ff9"
      },
      "outputs": [
        {
          "output_type": "stream",
          "name": "stdout",
          "text": [
            "\u001b[90m# A tibble: 721 × 1\u001b[39m\n",
            "   tailnum\n",
            "   \u001b[3m\u001b[90m<chr>\u001b[39m\u001b[23m  \n",
            "\u001b[90m 1\u001b[39m N3ALAA \n",
            "\u001b[90m 2\u001b[39m N3DUAA \n",
            "\u001b[90m 3\u001b[39m N542MQ \n",
            "\u001b[90m 4\u001b[39m N730MQ \n",
            "\u001b[90m 5\u001b[39m N9EAMQ \n",
            "\u001b[90m 6\u001b[39m N532UA \n",
            "\u001b[90m 7\u001b[39m N3EMAA \n",
            "\u001b[90m 8\u001b[39m N518MQ \n",
            "\u001b[90m 9\u001b[39m N3BAAA \n",
            "\u001b[90m10\u001b[39m N3CYAA \n",
            "\u001b[90m# ℹ 711 more rows\u001b[39m\n"
          ]
        }
      ],
      "source": [
        "anti_join(\n",
        "    flights,\n",
        "    planes,\n",
        "    join_by(\"tailnum\")\n",
        ") %>% filter(!is.na(tailnum)) %>%\n",
        "    distinct(tailnum) %>%\n",
        "    print"
      ]
    },
    {
      "cell_type": "markdown",
      "metadata": {
        "id": "jfnBcRu_ZsAJ"
      },
      "source": [
        "\n",
        "What could be the reason for missing tailnums in the planes dataframe?"
      ]
    },
    {
      "cell_type": "code",
      "execution_count": 14,
      "metadata": {
        "colab": {
          "base_uri": "https://localhost:8080/"
        },
        "id": "KIKeSKx2Zwtl",
        "outputId": "e0b785a4-00b4-4f7d-9539-bdc650b65e33"
      },
      "outputs": [
        {
          "output_type": "stream",
          "name": "stdout",
          "text": [
            "\u001b[90m# A tibble: 63 × 19\u001b[39m\n",
            "    year month   day dep_time sched_dep_time dep_delay arr_time sched_arr_time\n",
            "   \u001b[3m\u001b[90m<int>\u001b[39m\u001b[23m \u001b[3m\u001b[90m<int>\u001b[39m\u001b[23m \u001b[3m\u001b[90m<int>\u001b[39m\u001b[23m    \u001b[3m\u001b[90m<int>\u001b[39m\u001b[23m          \u001b[3m\u001b[90m<int>\u001b[39m\u001b[23m     \u001b[3m\u001b[90m<dbl>\u001b[39m\u001b[23m    \u001b[3m\u001b[90m<int>\u001b[39m\u001b[23m          \u001b[3m\u001b[90m<int>\u001b[39m\u001b[23m\n",
            "\u001b[90m 1\u001b[39m  \u001b[4m2\u001b[24m013     1     1      558            600        -\u001b[31m2\u001b[39m      753            745\n",
            "\u001b[90m 2\u001b[39m  \u001b[4m2\u001b[24m013     1     2     \u001b[4m1\u001b[24m907           \u001b[4m1\u001b[24m820        47     \u001b[4m2\u001b[24m037           \u001b[4m2\u001b[24m005\n",
            "\u001b[90m 3\u001b[39m  \u001b[4m2\u001b[24m013     1     3      600            600         0      736            745\n",
            "\u001b[90m 4\u001b[39m  \u001b[4m2\u001b[24m013     1     7     \u001b[4m1\u001b[24m911           \u001b[4m1\u001b[24m920        -\u001b[31m9\u001b[39m     \u001b[4m2\u001b[24m042           \u001b[4m2\u001b[24m100\n",
            "\u001b[90m 5\u001b[39m  \u001b[4m2\u001b[24m013     1     8     \u001b[4m1\u001b[24m718           \u001b[4m1\u001b[24m720        -\u001b[31m2\u001b[39m     \u001b[4m1\u001b[24m900           \u001b[4m1\u001b[24m915\n",
            "\u001b[90m 6\u001b[39m  \u001b[4m2\u001b[24m013     1    16      643            600        43      829            745\n",
            "\u001b[90m 7\u001b[39m  \u001b[4m2\u001b[24m013     1    20     \u001b[4m1\u001b[24m829           \u001b[4m1\u001b[24m820         9     \u001b[4m2\u001b[24m007           \u001b[4m2\u001b[24m005\n",
            "\u001b[90m 8\u001b[39m  \u001b[4m2\u001b[24m013     1    22     \u001b[4m1\u001b[24m713           \u001b[4m1\u001b[24m720        -\u001b[31m7\u001b[39m     \u001b[4m1\u001b[24m915           \u001b[4m1\u001b[24m915\n",
            "\u001b[90m 9\u001b[39m  \u001b[4m2\u001b[24m013    10    11      624            629        -\u001b[31m5\u001b[39m      907            929\n",
            "\u001b[90m10\u001b[39m  \u001b[4m2\u001b[24m013    10    14      821            825        -\u001b[31m4\u001b[39m      916            935\n",
            "   arr_delay carrier flight tailnum origin dest  air_time distance  hour minute\n",
            "       \u001b[3m\u001b[90m<dbl>\u001b[39m\u001b[23m \u001b[3m\u001b[90m<chr>\u001b[39m\u001b[23m    \u001b[3m\u001b[90m<int>\u001b[39m\u001b[23m \u001b[3m\u001b[90m<chr>\u001b[39m\u001b[23m   \u001b[3m\u001b[90m<chr>\u001b[39m\u001b[23m  \u001b[3m\u001b[90m<chr>\u001b[39m\u001b[23m    \u001b[3m\u001b[90m<dbl>\u001b[39m\u001b[23m    \u001b[3m\u001b[90m<dbl>\u001b[39m\u001b[23m \u001b[3m\u001b[90m<dbl>\u001b[39m\u001b[23m  \u001b[3m\u001b[90m<dbl>\u001b[39m\u001b[23m\n",
            "\u001b[90m 1\u001b[39m         8 AA         301 N3ALAA  LGA    ORD        138      733     6      0\n",
            "\u001b[90m 2\u001b[39m        32 AA         353 N3ALAA  LGA    ORD        123      733    18     20\n",
            "\u001b[90m 3\u001b[39m        -\u001b[31m9\u001b[39m AA         301 N3ALAA  LGA    ORD        132      733     6      0\n",
            "\u001b[90m 4\u001b[39m       -\u001b[31m18\u001b[39m AA         359 N3ALAA  LGA    ORD        118      733    19     20\n",
            "\u001b[90m 5\u001b[39m       -\u001b[31m15\u001b[39m AA        \u001b[4m1\u001b[24m351 N3ALAA  JFK    ORD        130      740    17     20\n",
            "\u001b[90m 6\u001b[39m        44 AA         301 N3ALAA  LGA    ORD        139      733     6      0\n",
            "\u001b[90m 7\u001b[39m         2 AA         353 N3ALAA  LGA    ORD        125      733    18     20\n",
            "\u001b[90m 8\u001b[39m         0 AA        \u001b[4m1\u001b[24m351 N3ALAA  JFK    ORD        129      740    17     20\n",
            "\u001b[90m 9\u001b[39m       -\u001b[31m22\u001b[39m AA        \u001b[4m1\u001b[24m205 N3ALAA  EWR    MIA        141     \u001b[4m1\u001b[24m085     6     29\n",
            "\u001b[90m10\u001b[39m       -\u001b[31m19\u001b[39m AA          84 N3ALAA  JFK    BOS         33      187     8     25\n",
            "   time_hour          \n",
            "   \u001b[3m\u001b[90m<dttm>\u001b[39m\u001b[23m             \n",
            "\u001b[90m 1\u001b[39m 2013-01-01 \u001b[90m06:00:00\u001b[39m\n",
            "\u001b[90m 2\u001b[39m 2013-01-02 \u001b[90m18:00:00\u001b[39m\n",
            "\u001b[90m 3\u001b[39m 2013-01-03 \u001b[90m06:00:00\u001b[39m\n",
            "\u001b[90m 4\u001b[39m 2013-01-07 \u001b[90m19:00:00\u001b[39m\n",
            "\u001b[90m 5\u001b[39m 2013-01-08 \u001b[90m17:00:00\u001b[39m\n",
            "\u001b[90m 6\u001b[39m 2013-01-16 \u001b[90m06:00:00\u001b[39m\n",
            "\u001b[90m 7\u001b[39m 2013-01-20 \u001b[90m18:00:00\u001b[39m\n",
            "\u001b[90m 8\u001b[39m 2013-01-22 \u001b[90m17:00:00\u001b[39m\n",
            "\u001b[90m 9\u001b[39m 2013-10-11 \u001b[90m06:00:00\u001b[39m\n",
            "\u001b[90m10\u001b[39m 2013-10-14 \u001b[90m08:00:00\u001b[39m\n",
            "\u001b[90m# ℹ 53 more rows\u001b[39m\n"
          ]
        }
      ],
      "source": [
        "flights %>% filter(tailnum == \"N3ALAA\") %>% print(width = Inf)"
      ]
    },
    {
      "cell_type": "markdown",
      "metadata": {
        "id": "OCg7DsQeZ1Oe"
      },
      "source": [
        "The one plane that is represented is N539AA. You can [look it up](https://flightaware.com/resources/registration/N539AA) in an online database and find out it's a private jet. My guess is the others are private jets too.\n",
        "\n",
        "Picture: https://s3.eu-west-2.amazonaws.com/abpic-media-eu-production/pictures/full_size_0415/1625779-large.jpg\n"
      ]
    },
    {
      "cell_type": "markdown",
      "metadata": {
        "id": "Cw8kLkJlZ6vA"
      },
      "source": [
        "# SQL - Structured Query Language"
      ]
    },
    {
      "cell_type": "markdown",
      "metadata": {
        "id": "OALKzgFnXrBh"
      },
      "source": [
        "A huge amount of data lives in relational databases so it is important to understand how to connect to a relational database and work with it.\n",
        "\n",
        "To connect to the database from R, you’ll use a pair of packages:\n",
        "\n",
        "* DBI (database interface) - this provides a set of generic functions that connect to the database, upload data, run SQL queries, etc.\n",
        "* You’ll also use a package tailored for the DBMS you’re connecting to. This package translates the generic DBI commands into the specifics needed for a given DBMS. There’s usually one package for each DMBS, e.g. RPostgres for Postgres and RMariaDB for MySQL. In this example we use SQLite and the package to use is **RSQLite**\n"
      ]
    },
    {
      "cell_type": "code",
      "execution_count": 15,
      "metadata": {
        "colab": {
          "base_uri": "https://localhost:8080/",
          "height": 17
        },
        "id": "i7mxhIQyXrBr",
        "outputId": "9a165a25-c892-4f97-f17d-c9d2345cfa49"
      },
      "outputs": [
        {
          "output_type": "display_data",
          "data": {
            "text/html": [],
            "text/markdown": "",
            "text/latex": "",
            "text/plain": [
              "character(0)"
            ]
          },
          "metadata": {}
        }
      ],
      "source": [
        "# Create an ephemeral in-memory RSQLite database\n",
        "con <- dbConnect(RSQLite::SQLite(), \":memory:\")\n",
        "\n",
        "dbListTables(con)"
      ]
    },
    {
      "cell_type": "markdown",
      "metadata": {
        "id": "e77Ac4j7XrBt"
      },
      "source": [
        "At the outset you see that there are no tables when you run the above command.\n",
        "\n",
        "### dbplyr\n",
        "dbplyr is a dplyr backend, that allows you to keep writing dplyr code and **dbplyr** translates it to SQL.\n",
        "Now we are going to create a table called 'mpg' in our SQLite database using the mpg tibble and dbplyr is generating the necessary SQL queries to get this done behind the scenes."
      ]
    },
    {
      "cell_type": "code",
      "execution_count": 16,
      "metadata": {
        "colab": {
          "base_uri": "https://localhost:8080/",
          "height": 34
        },
        "id": "A-HMAqMBXrBt",
        "outputId": "f1e82d61-1ddb-4d83-d8a2-7f254155f437"
      },
      "outputs": [
        {
          "output_type": "display_data",
          "data": {
            "text/html": [
              "'mpg'"
            ],
            "text/markdown": "'mpg'",
            "text/latex": "'mpg'",
            "text/plain": [
              "[1] \"mpg\""
            ]
          },
          "metadata": {}
        }
      ],
      "source": [
        "dbWriteTable(con, \"mpg\", mpg, overwrite = T)\n",
        "dbListTables(con)"
      ]
    },
    {
      "cell_type": "code",
      "execution_count": null,
      "metadata": {
        "id": "I1KTeobKXrBu"
      },
      "outputs": [],
      "source": [
        "# dbRemoveTable(con, 'mpg') # this will delete the table"
      ]
    },
    {
      "cell_type": "markdown",
      "metadata": {
        "id": "j5A9VG-YXrBv"
      },
      "source": [
        "Now let us look into the column names of this table"
      ]
    },
    {
      "cell_type": "code",
      "execution_count": null,
      "metadata": {
        "id": "etPZ9vdMXrBw",
        "outputId": "5ed37467-f716-4878-8e1a-585eb27fca60"
      },
      "outputs": [
        {
          "data": {
            "text/html": [
              "<style>\n",
              ".list-inline {list-style: none; margin:0; padding: 0}\n",
              ".list-inline>li {display: inline-block}\n",
              ".list-inline>li:not(:last-child)::after {content: \"\\00b7\"; padding: 0 .5ex}\n",
              "</style>\n",
              "<ol class=list-inline><li>'manufacturer'</li><li>'model'</li><li>'displ'</li><li>'year'</li><li>'cyl'</li><li>'trans'</li><li>'drv'</li><li>'cty'</li><li>'hwy'</li><li>'fl'</li><li>'class'</li></ol>\n"
            ],
            "text/latex": [
              "\\begin{enumerate*}\n",
              "\\item 'manufacturer'\n",
              "\\item 'model'\n",
              "\\item 'displ'\n",
              "\\item 'year'\n",
              "\\item 'cyl'\n",
              "\\item 'trans'\n",
              "\\item 'drv'\n",
              "\\item 'cty'\n",
              "\\item 'hwy'\n",
              "\\item 'fl'\n",
              "\\item 'class'\n",
              "\\end{enumerate*}\n"
            ],
            "text/markdown": [
              "1. 'manufacturer'\n",
              "2. 'model'\n",
              "3. 'displ'\n",
              "4. 'year'\n",
              "5. 'cyl'\n",
              "6. 'trans'\n",
              "7. 'drv'\n",
              "8. 'cty'\n",
              "9. 'hwy'\n",
              "10. 'fl'\n",
              "11. 'class'\n",
              "\n",
              "\n"
            ],
            "text/plain": [
              " [1] \"manufacturer\" \"model\"        \"displ\"        \"year\"         \"cyl\"         \n",
              " [6] \"trans\"        \"drv\"          \"cty\"          \"hwy\"          \"fl\"          \n",
              "[11] \"class\"       "
            ]
          },
          "metadata": {},
          "output_type": "display_data"
        }
      ],
      "source": [
        "dbListFields(con, \"mpg\")"
      ]
    },
    {
      "cell_type": "markdown",
      "metadata": {
        "id": "u3qncCIXXrBx"
      },
      "source": [
        "Time to read the entire table!"
      ]
    },
    {
      "cell_type": "code",
      "execution_count": 17,
      "metadata": {
        "id": "YN7LBjUJXrBx",
        "outputId": "885ff2af-2a7a-458c-e02a-694d560b46d3",
        "tags": [],
        "colab": {
          "base_uri": "https://localhost:8080/",
          "height": 1000
        }
      },
      "outputs": [
        {
          "output_type": "display_data",
          "data": {
            "text/html": [
              "<table class=\"dataframe\">\n",
              "<caption>A data.frame: 234 × 11</caption>\n",
              "<thead>\n",
              "\t<tr><th scope=col>manufacturer</th><th scope=col>model</th><th scope=col>displ</th><th scope=col>year</th><th scope=col>cyl</th><th scope=col>trans</th><th scope=col>drv</th><th scope=col>cty</th><th scope=col>hwy</th><th scope=col>fl</th><th scope=col>class</th></tr>\n",
              "\t<tr><th scope=col>&lt;chr&gt;</th><th scope=col>&lt;chr&gt;</th><th scope=col>&lt;dbl&gt;</th><th scope=col>&lt;int&gt;</th><th scope=col>&lt;int&gt;</th><th scope=col>&lt;chr&gt;</th><th scope=col>&lt;chr&gt;</th><th scope=col>&lt;int&gt;</th><th scope=col>&lt;int&gt;</th><th scope=col>&lt;chr&gt;</th><th scope=col>&lt;chr&gt;</th></tr>\n",
              "</thead>\n",
              "<tbody>\n",
              "\t<tr><td>audi     </td><td>a4                </td><td>1.8</td><td>1999</td><td>4</td><td>auto(l5)  </td><td>f</td><td>18</td><td>29</td><td>p</td><td>compact</td></tr>\n",
              "\t<tr><td>audi     </td><td>a4                </td><td>1.8</td><td>1999</td><td>4</td><td>manual(m5)</td><td>f</td><td>21</td><td>29</td><td>p</td><td>compact</td></tr>\n",
              "\t<tr><td>audi     </td><td>a4                </td><td>2.0</td><td>2008</td><td>4</td><td>manual(m6)</td><td>f</td><td>20</td><td>31</td><td>p</td><td>compact</td></tr>\n",
              "\t<tr><td>audi     </td><td>a4                </td><td>2.0</td><td>2008</td><td>4</td><td>auto(av)  </td><td>f</td><td>21</td><td>30</td><td>p</td><td>compact</td></tr>\n",
              "\t<tr><td>audi     </td><td>a4                </td><td>2.8</td><td>1999</td><td>6</td><td>auto(l5)  </td><td>f</td><td>16</td><td>26</td><td>p</td><td>compact</td></tr>\n",
              "\t<tr><td>audi     </td><td>a4                </td><td>2.8</td><td>1999</td><td>6</td><td>manual(m5)</td><td>f</td><td>18</td><td>26</td><td>p</td><td>compact</td></tr>\n",
              "\t<tr><td>audi     </td><td>a4                </td><td>3.1</td><td>2008</td><td>6</td><td>auto(av)  </td><td>f</td><td>18</td><td>27</td><td>p</td><td>compact</td></tr>\n",
              "\t<tr><td>audi     </td><td>a4 quattro        </td><td>1.8</td><td>1999</td><td>4</td><td>manual(m5)</td><td>4</td><td>18</td><td>26</td><td>p</td><td>compact</td></tr>\n",
              "\t<tr><td>audi     </td><td>a4 quattro        </td><td>1.8</td><td>1999</td><td>4</td><td>auto(l5)  </td><td>4</td><td>16</td><td>25</td><td>p</td><td>compact</td></tr>\n",
              "\t<tr><td>audi     </td><td>a4 quattro        </td><td>2.0</td><td>2008</td><td>4</td><td>manual(m6)</td><td>4</td><td>20</td><td>28</td><td>p</td><td>compact</td></tr>\n",
              "\t<tr><td>audi     </td><td>a4 quattro        </td><td>2.0</td><td>2008</td><td>4</td><td>auto(s6)  </td><td>4</td><td>19</td><td>27</td><td>p</td><td>compact</td></tr>\n",
              "\t<tr><td>audi     </td><td>a4 quattro        </td><td>2.8</td><td>1999</td><td>6</td><td>auto(l5)  </td><td>4</td><td>15</td><td>25</td><td>p</td><td>compact</td></tr>\n",
              "\t<tr><td>audi     </td><td>a4 quattro        </td><td>2.8</td><td>1999</td><td>6</td><td>manual(m5)</td><td>4</td><td>17</td><td>25</td><td>p</td><td>compact</td></tr>\n",
              "\t<tr><td>audi     </td><td>a4 quattro        </td><td>3.1</td><td>2008</td><td>6</td><td>auto(s6)  </td><td>4</td><td>17</td><td>25</td><td>p</td><td>compact</td></tr>\n",
              "\t<tr><td>audi     </td><td>a4 quattro        </td><td>3.1</td><td>2008</td><td>6</td><td>manual(m6)</td><td>4</td><td>15</td><td>25</td><td>p</td><td>compact</td></tr>\n",
              "\t<tr><td>audi     </td><td>a6 quattro        </td><td>2.8</td><td>1999</td><td>6</td><td>auto(l5)  </td><td>4</td><td>15</td><td>24</td><td>p</td><td>midsize</td></tr>\n",
              "\t<tr><td>audi     </td><td>a6 quattro        </td><td>3.1</td><td>2008</td><td>6</td><td>auto(s6)  </td><td>4</td><td>17</td><td>25</td><td>p</td><td>midsize</td></tr>\n",
              "\t<tr><td>audi     </td><td>a6 quattro        </td><td>4.2</td><td>2008</td><td>8</td><td>auto(s6)  </td><td>4</td><td>16</td><td>23</td><td>p</td><td>midsize</td></tr>\n",
              "\t<tr><td>chevrolet</td><td>c1500 suburban 2wd</td><td>5.3</td><td>2008</td><td>8</td><td>auto(l4)  </td><td>r</td><td>14</td><td>20</td><td>r</td><td>suv    </td></tr>\n",
              "\t<tr><td>chevrolet</td><td>c1500 suburban 2wd</td><td>5.3</td><td>2008</td><td>8</td><td>auto(l4)  </td><td>r</td><td>11</td><td>15</td><td>e</td><td>suv    </td></tr>\n",
              "\t<tr><td>chevrolet</td><td>c1500 suburban 2wd</td><td>5.3</td><td>2008</td><td>8</td><td>auto(l4)  </td><td>r</td><td>14</td><td>20</td><td>r</td><td>suv    </td></tr>\n",
              "\t<tr><td>chevrolet</td><td>c1500 suburban 2wd</td><td>5.7</td><td>1999</td><td>8</td><td>auto(l4)  </td><td>r</td><td>13</td><td>17</td><td>r</td><td>suv    </td></tr>\n",
              "\t<tr><td>chevrolet</td><td>c1500 suburban 2wd</td><td>6.0</td><td>2008</td><td>8</td><td>auto(l4)  </td><td>r</td><td>12</td><td>17</td><td>r</td><td>suv    </td></tr>\n",
              "\t<tr><td>chevrolet</td><td>corvette          </td><td>5.7</td><td>1999</td><td>8</td><td>manual(m6)</td><td>r</td><td>16</td><td>26</td><td>p</td><td>2seater</td></tr>\n",
              "\t<tr><td>chevrolet</td><td>corvette          </td><td>5.7</td><td>1999</td><td>8</td><td>auto(l4)  </td><td>r</td><td>15</td><td>23</td><td>p</td><td>2seater</td></tr>\n",
              "\t<tr><td>chevrolet</td><td>corvette          </td><td>6.2</td><td>2008</td><td>8</td><td>manual(m6)</td><td>r</td><td>16</td><td>26</td><td>p</td><td>2seater</td></tr>\n",
              "\t<tr><td>chevrolet</td><td>corvette          </td><td>6.2</td><td>2008</td><td>8</td><td>auto(s6)  </td><td>r</td><td>15</td><td>25</td><td>p</td><td>2seater</td></tr>\n",
              "\t<tr><td>chevrolet</td><td>corvette          </td><td>7.0</td><td>2008</td><td>8</td><td>manual(m6)</td><td>r</td><td>15</td><td>24</td><td>p</td><td>2seater</td></tr>\n",
              "\t<tr><td>chevrolet</td><td>k1500 tahoe 4wd   </td><td>5.3</td><td>2008</td><td>8</td><td>auto(l4)  </td><td>4</td><td>14</td><td>19</td><td>r</td><td>suv    </td></tr>\n",
              "\t<tr><td>chevrolet</td><td>k1500 tahoe 4wd   </td><td>5.3</td><td>2008</td><td>8</td><td>auto(l4)  </td><td>4</td><td>11</td><td>14</td><td>e</td><td>suv    </td></tr>\n",
              "\t<tr><td>⋮</td><td>⋮</td><td>⋮</td><td>⋮</td><td>⋮</td><td>⋮</td><td>⋮</td><td>⋮</td><td>⋮</td><td>⋮</td><td>⋮</td></tr>\n",
              "\t<tr><td>toyota    </td><td>toyota tacoma 4wd</td><td>3.4</td><td>1999</td><td>6</td><td>auto(l4)  </td><td>4</td><td>15</td><td>19</td><td>r</td><td>pickup    </td></tr>\n",
              "\t<tr><td>toyota    </td><td>toyota tacoma 4wd</td><td>4.0</td><td>2008</td><td>6</td><td>manual(m6)</td><td>4</td><td>15</td><td>18</td><td>r</td><td>pickup    </td></tr>\n",
              "\t<tr><td>toyota    </td><td>toyota tacoma 4wd</td><td>4.0</td><td>2008</td><td>6</td><td>auto(l5)  </td><td>4</td><td>16</td><td>20</td><td>r</td><td>pickup    </td></tr>\n",
              "\t<tr><td>volkswagen</td><td>gti              </td><td>2.0</td><td>1999</td><td>4</td><td>manual(m5)</td><td>f</td><td>21</td><td>29</td><td>r</td><td>compact   </td></tr>\n",
              "\t<tr><td>volkswagen</td><td>gti              </td><td>2.0</td><td>1999</td><td>4</td><td>auto(l4)  </td><td>f</td><td>19</td><td>26</td><td>r</td><td>compact   </td></tr>\n",
              "\t<tr><td>volkswagen</td><td>gti              </td><td>2.0</td><td>2008</td><td>4</td><td>manual(m6)</td><td>f</td><td>21</td><td>29</td><td>p</td><td>compact   </td></tr>\n",
              "\t<tr><td>volkswagen</td><td>gti              </td><td>2.0</td><td>2008</td><td>4</td><td>auto(s6)  </td><td>f</td><td>22</td><td>29</td><td>p</td><td>compact   </td></tr>\n",
              "\t<tr><td>volkswagen</td><td>gti              </td><td>2.8</td><td>1999</td><td>6</td><td>manual(m5)</td><td>f</td><td>17</td><td>24</td><td>r</td><td>compact   </td></tr>\n",
              "\t<tr><td>volkswagen</td><td>jetta            </td><td>1.9</td><td>1999</td><td>4</td><td>manual(m5)</td><td>f</td><td>33</td><td>44</td><td>d</td><td>compact   </td></tr>\n",
              "\t<tr><td>volkswagen</td><td>jetta            </td><td>2.0</td><td>1999</td><td>4</td><td>manual(m5)</td><td>f</td><td>21</td><td>29</td><td>r</td><td>compact   </td></tr>\n",
              "\t<tr><td>volkswagen</td><td>jetta            </td><td>2.0</td><td>1999</td><td>4</td><td>auto(l4)  </td><td>f</td><td>19</td><td>26</td><td>r</td><td>compact   </td></tr>\n",
              "\t<tr><td>volkswagen</td><td>jetta            </td><td>2.0</td><td>2008</td><td>4</td><td>auto(s6)  </td><td>f</td><td>22</td><td>29</td><td>p</td><td>compact   </td></tr>\n",
              "\t<tr><td>volkswagen</td><td>jetta            </td><td>2.0</td><td>2008</td><td>4</td><td>manual(m6)</td><td>f</td><td>21</td><td>29</td><td>p</td><td>compact   </td></tr>\n",
              "\t<tr><td>volkswagen</td><td>jetta            </td><td>2.5</td><td>2008</td><td>5</td><td>auto(s6)  </td><td>f</td><td>21</td><td>29</td><td>r</td><td>compact   </td></tr>\n",
              "\t<tr><td>volkswagen</td><td>jetta            </td><td>2.5</td><td>2008</td><td>5</td><td>manual(m5)</td><td>f</td><td>21</td><td>29</td><td>r</td><td>compact   </td></tr>\n",
              "\t<tr><td>volkswagen</td><td>jetta            </td><td>2.8</td><td>1999</td><td>6</td><td>auto(l4)  </td><td>f</td><td>16</td><td>23</td><td>r</td><td>compact   </td></tr>\n",
              "\t<tr><td>volkswagen</td><td>jetta            </td><td>2.8</td><td>1999</td><td>6</td><td>manual(m5)</td><td>f</td><td>17</td><td>24</td><td>r</td><td>compact   </td></tr>\n",
              "\t<tr><td>volkswagen</td><td>new beetle       </td><td>1.9</td><td>1999</td><td>4</td><td>manual(m5)</td><td>f</td><td>35</td><td>44</td><td>d</td><td>subcompact</td></tr>\n",
              "\t<tr><td>volkswagen</td><td>new beetle       </td><td>1.9</td><td>1999</td><td>4</td><td>auto(l4)  </td><td>f</td><td>29</td><td>41</td><td>d</td><td>subcompact</td></tr>\n",
              "\t<tr><td>volkswagen</td><td>new beetle       </td><td>2.0</td><td>1999</td><td>4</td><td>manual(m5)</td><td>f</td><td>21</td><td>29</td><td>r</td><td>subcompact</td></tr>\n",
              "\t<tr><td>volkswagen</td><td>new beetle       </td><td>2.0</td><td>1999</td><td>4</td><td>auto(l4)  </td><td>f</td><td>19</td><td>26</td><td>r</td><td>subcompact</td></tr>\n",
              "\t<tr><td>volkswagen</td><td>new beetle       </td><td>2.5</td><td>2008</td><td>5</td><td>manual(m5)</td><td>f</td><td>20</td><td>28</td><td>r</td><td>subcompact</td></tr>\n",
              "\t<tr><td>volkswagen</td><td>new beetle       </td><td>2.5</td><td>2008</td><td>5</td><td>auto(s6)  </td><td>f</td><td>20</td><td>29</td><td>r</td><td>subcompact</td></tr>\n",
              "\t<tr><td>volkswagen</td><td>passat           </td><td>1.8</td><td>1999</td><td>4</td><td>manual(m5)</td><td>f</td><td>21</td><td>29</td><td>p</td><td>midsize   </td></tr>\n",
              "\t<tr><td>volkswagen</td><td>passat           </td><td>1.8</td><td>1999</td><td>4</td><td>auto(l5)  </td><td>f</td><td>18</td><td>29</td><td>p</td><td>midsize   </td></tr>\n",
              "\t<tr><td>volkswagen</td><td>passat           </td><td>2.0</td><td>2008</td><td>4</td><td>auto(s6)  </td><td>f</td><td>19</td><td>28</td><td>p</td><td>midsize   </td></tr>\n",
              "\t<tr><td>volkswagen</td><td>passat           </td><td>2.0</td><td>2008</td><td>4</td><td>manual(m6)</td><td>f</td><td>21</td><td>29</td><td>p</td><td>midsize   </td></tr>\n",
              "\t<tr><td>volkswagen</td><td>passat           </td><td>2.8</td><td>1999</td><td>6</td><td>auto(l5)  </td><td>f</td><td>16</td><td>26</td><td>p</td><td>midsize   </td></tr>\n",
              "\t<tr><td>volkswagen</td><td>passat           </td><td>2.8</td><td>1999</td><td>6</td><td>manual(m5)</td><td>f</td><td>18</td><td>26</td><td>p</td><td>midsize   </td></tr>\n",
              "\t<tr><td>volkswagen</td><td>passat           </td><td>3.6</td><td>2008</td><td>6</td><td>auto(s6)  </td><td>f</td><td>17</td><td>26</td><td>p</td><td>midsize   </td></tr>\n",
              "</tbody>\n",
              "</table>\n"
            ],
            "text/markdown": "\nA data.frame: 234 × 11\n\n| manufacturer &lt;chr&gt; | model &lt;chr&gt; | displ &lt;dbl&gt; | year &lt;int&gt; | cyl &lt;int&gt; | trans &lt;chr&gt; | drv &lt;chr&gt; | cty &lt;int&gt; | hwy &lt;int&gt; | fl &lt;chr&gt; | class &lt;chr&gt; |\n|---|---|---|---|---|---|---|---|---|---|---|\n| audi      | a4                 | 1.8 | 1999 | 4 | auto(l5)   | f | 18 | 29 | p | compact |\n| audi      | a4                 | 1.8 | 1999 | 4 | manual(m5) | f | 21 | 29 | p | compact |\n| audi      | a4                 | 2.0 | 2008 | 4 | manual(m6) | f | 20 | 31 | p | compact |\n| audi      | a4                 | 2.0 | 2008 | 4 | auto(av)   | f | 21 | 30 | p | compact |\n| audi      | a4                 | 2.8 | 1999 | 6 | auto(l5)   | f | 16 | 26 | p | compact |\n| audi      | a4                 | 2.8 | 1999 | 6 | manual(m5) | f | 18 | 26 | p | compact |\n| audi      | a4                 | 3.1 | 2008 | 6 | auto(av)   | f | 18 | 27 | p | compact |\n| audi      | a4 quattro         | 1.8 | 1999 | 4 | manual(m5) | 4 | 18 | 26 | p | compact |\n| audi      | a4 quattro         | 1.8 | 1999 | 4 | auto(l5)   | 4 | 16 | 25 | p | compact |\n| audi      | a4 quattro         | 2.0 | 2008 | 4 | manual(m6) | 4 | 20 | 28 | p | compact |\n| audi      | a4 quattro         | 2.0 | 2008 | 4 | auto(s6)   | 4 | 19 | 27 | p | compact |\n| audi      | a4 quattro         | 2.8 | 1999 | 6 | auto(l5)   | 4 | 15 | 25 | p | compact |\n| audi      | a4 quattro         | 2.8 | 1999 | 6 | manual(m5) | 4 | 17 | 25 | p | compact |\n| audi      | a4 quattro         | 3.1 | 2008 | 6 | auto(s6)   | 4 | 17 | 25 | p | compact |\n| audi      | a4 quattro         | 3.1 | 2008 | 6 | manual(m6) | 4 | 15 | 25 | p | compact |\n| audi      | a6 quattro         | 2.8 | 1999 | 6 | auto(l5)   | 4 | 15 | 24 | p | midsize |\n| audi      | a6 quattro         | 3.1 | 2008 | 6 | auto(s6)   | 4 | 17 | 25 | p | midsize |\n| audi      | a6 quattro         | 4.2 | 2008 | 8 | auto(s6)   | 4 | 16 | 23 | p | midsize |\n| chevrolet | c1500 suburban 2wd | 5.3 | 2008 | 8 | auto(l4)   | r | 14 | 20 | r | suv     |\n| chevrolet | c1500 suburban 2wd | 5.3 | 2008 | 8 | auto(l4)   | r | 11 | 15 | e | suv     |\n| chevrolet | c1500 suburban 2wd | 5.3 | 2008 | 8 | auto(l4)   | r | 14 | 20 | r | suv     |\n| chevrolet | c1500 suburban 2wd | 5.7 | 1999 | 8 | auto(l4)   | r | 13 | 17 | r | suv     |\n| chevrolet | c1500 suburban 2wd | 6.0 | 2008 | 8 | auto(l4)   | r | 12 | 17 | r | suv     |\n| chevrolet | corvette           | 5.7 | 1999 | 8 | manual(m6) | r | 16 | 26 | p | 2seater |\n| chevrolet | corvette           | 5.7 | 1999 | 8 | auto(l4)   | r | 15 | 23 | p | 2seater |\n| chevrolet | corvette           | 6.2 | 2008 | 8 | manual(m6) | r | 16 | 26 | p | 2seater |\n| chevrolet | corvette           | 6.2 | 2008 | 8 | auto(s6)   | r | 15 | 25 | p | 2seater |\n| chevrolet | corvette           | 7.0 | 2008 | 8 | manual(m6) | r | 15 | 24 | p | 2seater |\n| chevrolet | k1500 tahoe 4wd    | 5.3 | 2008 | 8 | auto(l4)   | 4 | 14 | 19 | r | suv     |\n| chevrolet | k1500 tahoe 4wd    | 5.3 | 2008 | 8 | auto(l4)   | 4 | 11 | 14 | e | suv     |\n| ⋮ | ⋮ | ⋮ | ⋮ | ⋮ | ⋮ | ⋮ | ⋮ | ⋮ | ⋮ | ⋮ |\n| toyota     | toyota tacoma 4wd | 3.4 | 1999 | 6 | auto(l4)   | 4 | 15 | 19 | r | pickup     |\n| toyota     | toyota tacoma 4wd | 4.0 | 2008 | 6 | manual(m6) | 4 | 15 | 18 | r | pickup     |\n| toyota     | toyota tacoma 4wd | 4.0 | 2008 | 6 | auto(l5)   | 4 | 16 | 20 | r | pickup     |\n| volkswagen | gti               | 2.0 | 1999 | 4 | manual(m5) | f | 21 | 29 | r | compact    |\n| volkswagen | gti               | 2.0 | 1999 | 4 | auto(l4)   | f | 19 | 26 | r | compact    |\n| volkswagen | gti               | 2.0 | 2008 | 4 | manual(m6) | f | 21 | 29 | p | compact    |\n| volkswagen | gti               | 2.0 | 2008 | 4 | auto(s6)   | f | 22 | 29 | p | compact    |\n| volkswagen | gti               | 2.8 | 1999 | 6 | manual(m5) | f | 17 | 24 | r | compact    |\n| volkswagen | jetta             | 1.9 | 1999 | 4 | manual(m5) | f | 33 | 44 | d | compact    |\n| volkswagen | jetta             | 2.0 | 1999 | 4 | manual(m5) | f | 21 | 29 | r | compact    |\n| volkswagen | jetta             | 2.0 | 1999 | 4 | auto(l4)   | f | 19 | 26 | r | compact    |\n| volkswagen | jetta             | 2.0 | 2008 | 4 | auto(s6)   | f | 22 | 29 | p | compact    |\n| volkswagen | jetta             | 2.0 | 2008 | 4 | manual(m6) | f | 21 | 29 | p | compact    |\n| volkswagen | jetta             | 2.5 | 2008 | 5 | auto(s6)   | f | 21 | 29 | r | compact    |\n| volkswagen | jetta             | 2.5 | 2008 | 5 | manual(m5) | f | 21 | 29 | r | compact    |\n| volkswagen | jetta             | 2.8 | 1999 | 6 | auto(l4)   | f | 16 | 23 | r | compact    |\n| volkswagen | jetta             | 2.8 | 1999 | 6 | manual(m5) | f | 17 | 24 | r | compact    |\n| volkswagen | new beetle        | 1.9 | 1999 | 4 | manual(m5) | f | 35 | 44 | d | subcompact |\n| volkswagen | new beetle        | 1.9 | 1999 | 4 | auto(l4)   | f | 29 | 41 | d | subcompact |\n| volkswagen | new beetle        | 2.0 | 1999 | 4 | manual(m5) | f | 21 | 29 | r | subcompact |\n| volkswagen | new beetle        | 2.0 | 1999 | 4 | auto(l4)   | f | 19 | 26 | r | subcompact |\n| volkswagen | new beetle        | 2.5 | 2008 | 5 | manual(m5) | f | 20 | 28 | r | subcompact |\n| volkswagen | new beetle        | 2.5 | 2008 | 5 | auto(s6)   | f | 20 | 29 | r | subcompact |\n| volkswagen | passat            | 1.8 | 1999 | 4 | manual(m5) | f | 21 | 29 | p | midsize    |\n| volkswagen | passat            | 1.8 | 1999 | 4 | auto(l5)   | f | 18 | 29 | p | midsize    |\n| volkswagen | passat            | 2.0 | 2008 | 4 | auto(s6)   | f | 19 | 28 | p | midsize    |\n| volkswagen | passat            | 2.0 | 2008 | 4 | manual(m6) | f | 21 | 29 | p | midsize    |\n| volkswagen | passat            | 2.8 | 1999 | 6 | auto(l5)   | f | 16 | 26 | p | midsize    |\n| volkswagen | passat            | 2.8 | 1999 | 6 | manual(m5) | f | 18 | 26 | p | midsize    |\n| volkswagen | passat            | 3.6 | 2008 | 6 | auto(s6)   | f | 17 | 26 | p | midsize    |\n\n",
            "text/latex": "A data.frame: 234 × 11\n\\begin{tabular}{lllllllllll}\n manufacturer & model & displ & year & cyl & trans & drv & cty & hwy & fl & class\\\\\n <chr> & <chr> & <dbl> & <int> & <int> & <chr> & <chr> & <int> & <int> & <chr> & <chr>\\\\\n\\hline\n\t audi      & a4                 & 1.8 & 1999 & 4 & auto(l5)   & f & 18 & 29 & p & compact\\\\\n\t audi      & a4                 & 1.8 & 1999 & 4 & manual(m5) & f & 21 & 29 & p & compact\\\\\n\t audi      & a4                 & 2.0 & 2008 & 4 & manual(m6) & f & 20 & 31 & p & compact\\\\\n\t audi      & a4                 & 2.0 & 2008 & 4 & auto(av)   & f & 21 & 30 & p & compact\\\\\n\t audi      & a4                 & 2.8 & 1999 & 6 & auto(l5)   & f & 16 & 26 & p & compact\\\\\n\t audi      & a4                 & 2.8 & 1999 & 6 & manual(m5) & f & 18 & 26 & p & compact\\\\\n\t audi      & a4                 & 3.1 & 2008 & 6 & auto(av)   & f & 18 & 27 & p & compact\\\\\n\t audi      & a4 quattro         & 1.8 & 1999 & 4 & manual(m5) & 4 & 18 & 26 & p & compact\\\\\n\t audi      & a4 quattro         & 1.8 & 1999 & 4 & auto(l5)   & 4 & 16 & 25 & p & compact\\\\\n\t audi      & a4 quattro         & 2.0 & 2008 & 4 & manual(m6) & 4 & 20 & 28 & p & compact\\\\\n\t audi      & a4 quattro         & 2.0 & 2008 & 4 & auto(s6)   & 4 & 19 & 27 & p & compact\\\\\n\t audi      & a4 quattro         & 2.8 & 1999 & 6 & auto(l5)   & 4 & 15 & 25 & p & compact\\\\\n\t audi      & a4 quattro         & 2.8 & 1999 & 6 & manual(m5) & 4 & 17 & 25 & p & compact\\\\\n\t audi      & a4 quattro         & 3.1 & 2008 & 6 & auto(s6)   & 4 & 17 & 25 & p & compact\\\\\n\t audi      & a4 quattro         & 3.1 & 2008 & 6 & manual(m6) & 4 & 15 & 25 & p & compact\\\\\n\t audi      & a6 quattro         & 2.8 & 1999 & 6 & auto(l5)   & 4 & 15 & 24 & p & midsize\\\\\n\t audi      & a6 quattro         & 3.1 & 2008 & 6 & auto(s6)   & 4 & 17 & 25 & p & midsize\\\\\n\t audi      & a6 quattro         & 4.2 & 2008 & 8 & auto(s6)   & 4 & 16 & 23 & p & midsize\\\\\n\t chevrolet & c1500 suburban 2wd & 5.3 & 2008 & 8 & auto(l4)   & r & 14 & 20 & r & suv    \\\\\n\t chevrolet & c1500 suburban 2wd & 5.3 & 2008 & 8 & auto(l4)   & r & 11 & 15 & e & suv    \\\\\n\t chevrolet & c1500 suburban 2wd & 5.3 & 2008 & 8 & auto(l4)   & r & 14 & 20 & r & suv    \\\\\n\t chevrolet & c1500 suburban 2wd & 5.7 & 1999 & 8 & auto(l4)   & r & 13 & 17 & r & suv    \\\\\n\t chevrolet & c1500 suburban 2wd & 6.0 & 2008 & 8 & auto(l4)   & r & 12 & 17 & r & suv    \\\\\n\t chevrolet & corvette           & 5.7 & 1999 & 8 & manual(m6) & r & 16 & 26 & p & 2seater\\\\\n\t chevrolet & corvette           & 5.7 & 1999 & 8 & auto(l4)   & r & 15 & 23 & p & 2seater\\\\\n\t chevrolet & corvette           & 6.2 & 2008 & 8 & manual(m6) & r & 16 & 26 & p & 2seater\\\\\n\t chevrolet & corvette           & 6.2 & 2008 & 8 & auto(s6)   & r & 15 & 25 & p & 2seater\\\\\n\t chevrolet & corvette           & 7.0 & 2008 & 8 & manual(m6) & r & 15 & 24 & p & 2seater\\\\\n\t chevrolet & k1500 tahoe 4wd    & 5.3 & 2008 & 8 & auto(l4)   & 4 & 14 & 19 & r & suv    \\\\\n\t chevrolet & k1500 tahoe 4wd    & 5.3 & 2008 & 8 & auto(l4)   & 4 & 11 & 14 & e & suv    \\\\\n\t ⋮ & ⋮ & ⋮ & ⋮ & ⋮ & ⋮ & ⋮ & ⋮ & ⋮ & ⋮ & ⋮\\\\\n\t toyota     & toyota tacoma 4wd & 3.4 & 1999 & 6 & auto(l4)   & 4 & 15 & 19 & r & pickup    \\\\\n\t toyota     & toyota tacoma 4wd & 4.0 & 2008 & 6 & manual(m6) & 4 & 15 & 18 & r & pickup    \\\\\n\t toyota     & toyota tacoma 4wd & 4.0 & 2008 & 6 & auto(l5)   & 4 & 16 & 20 & r & pickup    \\\\\n\t volkswagen & gti               & 2.0 & 1999 & 4 & manual(m5) & f & 21 & 29 & r & compact   \\\\\n\t volkswagen & gti               & 2.0 & 1999 & 4 & auto(l4)   & f & 19 & 26 & r & compact   \\\\\n\t volkswagen & gti               & 2.0 & 2008 & 4 & manual(m6) & f & 21 & 29 & p & compact   \\\\\n\t volkswagen & gti               & 2.0 & 2008 & 4 & auto(s6)   & f & 22 & 29 & p & compact   \\\\\n\t volkswagen & gti               & 2.8 & 1999 & 6 & manual(m5) & f & 17 & 24 & r & compact   \\\\\n\t volkswagen & jetta             & 1.9 & 1999 & 4 & manual(m5) & f & 33 & 44 & d & compact   \\\\\n\t volkswagen & jetta             & 2.0 & 1999 & 4 & manual(m5) & f & 21 & 29 & r & compact   \\\\\n\t volkswagen & jetta             & 2.0 & 1999 & 4 & auto(l4)   & f & 19 & 26 & r & compact   \\\\\n\t volkswagen & jetta             & 2.0 & 2008 & 4 & auto(s6)   & f & 22 & 29 & p & compact   \\\\\n\t volkswagen & jetta             & 2.0 & 2008 & 4 & manual(m6) & f & 21 & 29 & p & compact   \\\\\n\t volkswagen & jetta             & 2.5 & 2008 & 5 & auto(s6)   & f & 21 & 29 & r & compact   \\\\\n\t volkswagen & jetta             & 2.5 & 2008 & 5 & manual(m5) & f & 21 & 29 & r & compact   \\\\\n\t volkswagen & jetta             & 2.8 & 1999 & 6 & auto(l4)   & f & 16 & 23 & r & compact   \\\\\n\t volkswagen & jetta             & 2.8 & 1999 & 6 & manual(m5) & f & 17 & 24 & r & compact   \\\\\n\t volkswagen & new beetle        & 1.9 & 1999 & 4 & manual(m5) & f & 35 & 44 & d & subcompact\\\\\n\t volkswagen & new beetle        & 1.9 & 1999 & 4 & auto(l4)   & f & 29 & 41 & d & subcompact\\\\\n\t volkswagen & new beetle        & 2.0 & 1999 & 4 & manual(m5) & f & 21 & 29 & r & subcompact\\\\\n\t volkswagen & new beetle        & 2.0 & 1999 & 4 & auto(l4)   & f & 19 & 26 & r & subcompact\\\\\n\t volkswagen & new beetle        & 2.5 & 2008 & 5 & manual(m5) & f & 20 & 28 & r & subcompact\\\\\n\t volkswagen & new beetle        & 2.5 & 2008 & 5 & auto(s6)   & f & 20 & 29 & r & subcompact\\\\\n\t volkswagen & passat            & 1.8 & 1999 & 4 & manual(m5) & f & 21 & 29 & p & midsize   \\\\\n\t volkswagen & passat            & 1.8 & 1999 & 4 & auto(l5)   & f & 18 & 29 & p & midsize   \\\\\n\t volkswagen & passat            & 2.0 & 2008 & 4 & auto(s6)   & f & 19 & 28 & p & midsize   \\\\\n\t volkswagen & passat            & 2.0 & 2008 & 4 & manual(m6) & f & 21 & 29 & p & midsize   \\\\\n\t volkswagen & passat            & 2.8 & 1999 & 6 & auto(l5)   & f & 16 & 26 & p & midsize   \\\\\n\t volkswagen & passat            & 2.8 & 1999 & 6 & manual(m5) & f & 18 & 26 & p & midsize   \\\\\n\t volkswagen & passat            & 3.6 & 2008 & 6 & auto(s6)   & f & 17 & 26 & p & midsize   \\\\\n\\end{tabular}\n",
            "text/plain": [
              "    manufacturer model              displ year cyl trans      drv cty hwy fl\n",
              "1   audi         a4                 1.8   1999 4   auto(l5)   f   18  29  p \n",
              "2   audi         a4                 1.8   1999 4   manual(m5) f   21  29  p \n",
              "3   audi         a4                 2.0   2008 4   manual(m6) f   20  31  p \n",
              "4   audi         a4                 2.0   2008 4   auto(av)   f   21  30  p \n",
              "5   audi         a4                 2.8   1999 6   auto(l5)   f   16  26  p \n",
              "6   audi         a4                 2.8   1999 6   manual(m5) f   18  26  p \n",
              "7   audi         a4                 3.1   2008 6   auto(av)   f   18  27  p \n",
              "8   audi         a4 quattro         1.8   1999 4   manual(m5) 4   18  26  p \n",
              "9   audi         a4 quattro         1.8   1999 4   auto(l5)   4   16  25  p \n",
              "10  audi         a4 quattro         2.0   2008 4   manual(m6) 4   20  28  p \n",
              "11  audi         a4 quattro         2.0   2008 4   auto(s6)   4   19  27  p \n",
              "12  audi         a4 quattro         2.8   1999 6   auto(l5)   4   15  25  p \n",
              "13  audi         a4 quattro         2.8   1999 6   manual(m5) 4   17  25  p \n",
              "14  audi         a4 quattro         3.1   2008 6   auto(s6)   4   17  25  p \n",
              "15  audi         a4 quattro         3.1   2008 6   manual(m6) 4   15  25  p \n",
              "16  audi         a6 quattro         2.8   1999 6   auto(l5)   4   15  24  p \n",
              "17  audi         a6 quattro         3.1   2008 6   auto(s6)   4   17  25  p \n",
              "18  audi         a6 quattro         4.2   2008 8   auto(s6)   4   16  23  p \n",
              "19  chevrolet    c1500 suburban 2wd 5.3   2008 8   auto(l4)   r   14  20  r \n",
              "20  chevrolet    c1500 suburban 2wd 5.3   2008 8   auto(l4)   r   11  15  e \n",
              "21  chevrolet    c1500 suburban 2wd 5.3   2008 8   auto(l4)   r   14  20  r \n",
              "22  chevrolet    c1500 suburban 2wd 5.7   1999 8   auto(l4)   r   13  17  r \n",
              "23  chevrolet    c1500 suburban 2wd 6.0   2008 8   auto(l4)   r   12  17  r \n",
              "24  chevrolet    corvette           5.7   1999 8   manual(m6) r   16  26  p \n",
              "25  chevrolet    corvette           5.7   1999 8   auto(l4)   r   15  23  p \n",
              "26  chevrolet    corvette           6.2   2008 8   manual(m6) r   16  26  p \n",
              "27  chevrolet    corvette           6.2   2008 8   auto(s6)   r   15  25  p \n",
              "28  chevrolet    corvette           7.0   2008 8   manual(m6) r   15  24  p \n",
              "29  chevrolet    k1500 tahoe 4wd    5.3   2008 8   auto(l4)   4   14  19  r \n",
              "30  chevrolet    k1500 tahoe 4wd    5.3   2008 8   auto(l4)   4   11  14  e \n",
              "⋮   ⋮            ⋮                  ⋮     ⋮    ⋮   ⋮          ⋮   ⋮   ⋮   ⋮ \n",
              "205 toyota       toyota tacoma 4wd  3.4   1999 6   auto(l4)   4   15  19  r \n",
              "206 toyota       toyota tacoma 4wd  4.0   2008 6   manual(m6) 4   15  18  r \n",
              "207 toyota       toyota tacoma 4wd  4.0   2008 6   auto(l5)   4   16  20  r \n",
              "208 volkswagen   gti                2.0   1999 4   manual(m5) f   21  29  r \n",
              "209 volkswagen   gti                2.0   1999 4   auto(l4)   f   19  26  r \n",
              "210 volkswagen   gti                2.0   2008 4   manual(m6) f   21  29  p \n",
              "211 volkswagen   gti                2.0   2008 4   auto(s6)   f   22  29  p \n",
              "212 volkswagen   gti                2.8   1999 6   manual(m5) f   17  24  r \n",
              "213 volkswagen   jetta              1.9   1999 4   manual(m5) f   33  44  d \n",
              "214 volkswagen   jetta              2.0   1999 4   manual(m5) f   21  29  r \n",
              "215 volkswagen   jetta              2.0   1999 4   auto(l4)   f   19  26  r \n",
              "216 volkswagen   jetta              2.0   2008 4   auto(s6)   f   22  29  p \n",
              "217 volkswagen   jetta              2.0   2008 4   manual(m6) f   21  29  p \n",
              "218 volkswagen   jetta              2.5   2008 5   auto(s6)   f   21  29  r \n",
              "219 volkswagen   jetta              2.5   2008 5   manual(m5) f   21  29  r \n",
              "220 volkswagen   jetta              2.8   1999 6   auto(l4)   f   16  23  r \n",
              "221 volkswagen   jetta              2.8   1999 6   manual(m5) f   17  24  r \n",
              "222 volkswagen   new beetle         1.9   1999 4   manual(m5) f   35  44  d \n",
              "223 volkswagen   new beetle         1.9   1999 4   auto(l4)   f   29  41  d \n",
              "224 volkswagen   new beetle         2.0   1999 4   manual(m5) f   21  29  r \n",
              "225 volkswagen   new beetle         2.0   1999 4   auto(l4)   f   19  26  r \n",
              "226 volkswagen   new beetle         2.5   2008 5   manual(m5) f   20  28  r \n",
              "227 volkswagen   new beetle         2.5   2008 5   auto(s6)   f   20  29  r \n",
              "228 volkswagen   passat             1.8   1999 4   manual(m5) f   21  29  p \n",
              "229 volkswagen   passat             1.8   1999 4   auto(l5)   f   18  29  p \n",
              "230 volkswagen   passat             2.0   2008 4   auto(s6)   f   19  28  p \n",
              "231 volkswagen   passat             2.0   2008 4   manual(m6) f   21  29  p \n",
              "232 volkswagen   passat             2.8   1999 6   auto(l5)   f   16  26  p \n",
              "233 volkswagen   passat             2.8   1999 6   manual(m5) f   18  26  p \n",
              "234 volkswagen   passat             3.6   2008 6   auto(s6)   f   17  26  p \n",
              "    class     \n",
              "1   compact   \n",
              "2   compact   \n",
              "3   compact   \n",
              "4   compact   \n",
              "5   compact   \n",
              "6   compact   \n",
              "7   compact   \n",
              "8   compact   \n",
              "9   compact   \n",
              "10  compact   \n",
              "11  compact   \n",
              "12  compact   \n",
              "13  compact   \n",
              "14  compact   \n",
              "15  compact   \n",
              "16  midsize   \n",
              "17  midsize   \n",
              "18  midsize   \n",
              "19  suv       \n",
              "20  suv       \n",
              "21  suv       \n",
              "22  suv       \n",
              "23  suv       \n",
              "24  2seater   \n",
              "25  2seater   \n",
              "26  2seater   \n",
              "27  2seater   \n",
              "28  2seater   \n",
              "29  suv       \n",
              "30  suv       \n",
              "⋮   ⋮         \n",
              "205 pickup    \n",
              "206 pickup    \n",
              "207 pickup    \n",
              "208 compact   \n",
              "209 compact   \n",
              "210 compact   \n",
              "211 compact   \n",
              "212 compact   \n",
              "213 compact   \n",
              "214 compact   \n",
              "215 compact   \n",
              "216 compact   \n",
              "217 compact   \n",
              "218 compact   \n",
              "219 compact   \n",
              "220 compact   \n",
              "221 compact   \n",
              "222 subcompact\n",
              "223 subcompact\n",
              "224 subcompact\n",
              "225 subcompact\n",
              "226 subcompact\n",
              "227 subcompact\n",
              "228 midsize   \n",
              "229 midsize   \n",
              "230 midsize   \n",
              "231 midsize   \n",
              "232 midsize   \n",
              "233 midsize   \n",
              "234 midsize   "
            ]
          },
          "metadata": {}
        }
      ],
      "source": [
        "dbReadTable(con, \"mpg\")"
      ]
    },
    {
      "cell_type": "markdown",
      "metadata": {
        "id": "Y9RF9zTUaTfl"
      },
      "source": [
        "### Selecting data from a table\n",
        "The SQL syntax for selecting column(s) from a table is\n",
        "```{sql}\n",
        "SELECT <col1>, <col2>, ..., <coln> FROM <table>\n",
        "```\n",
        "Note the similarity to the corresponding `tidyverse` command:\n",
        "```{r}\n",
        "select(<table>, <col1>, <col2>, ..., <coln>)\n",
        "```"
      ]
    },
    {
      "cell_type": "markdown",
      "metadata": {
        "id": "RVoFQDdbXrBx"
      },
      "source": [
        "Let us select some records"
      ]
    },
    {
      "cell_type": "code",
      "execution_count": 18,
      "metadata": {
        "id": "2vj5EWfsXrBy",
        "scrolled": true,
        "outputId": "3cdb5216-5f01-456c-98b0-064923e9ad05",
        "colab": {
          "base_uri": "https://localhost:8080/",
          "height": 86
        }
      },
      "outputs": [
        {
          "output_type": "display_data",
          "data": {
            "text/plain": [
              "<SQLiteResult>\n",
              "  SQL  SELECT * FROM mpg\n",
              "  ROWS Fetched: 0 [incomplete]\n",
              "       Changed: 0"
            ]
          },
          "metadata": {}
        }
      ],
      "source": [
        "res <- dbSendQuery(con, \"SELECT * FROM mpg\")\n",
        "res"
      ]
    },
    {
      "cell_type": "code",
      "execution_count": 19,
      "metadata": {
        "id": "0BbM4f84XrBz",
        "outputId": "e7fefa2f-6941-44b3-f359-276ebd091815",
        "colab": {
          "base_uri": "https://localhost:8080/",
          "height": 286
        }
      },
      "outputs": [
        {
          "output_type": "display_data",
          "data": {
            "text/html": [
              "<table class=\"dataframe\">\n",
              "<caption>A data.frame: 6 × 11</caption>\n",
              "<thead>\n",
              "\t<tr><th></th><th scope=col>manufacturer</th><th scope=col>model</th><th scope=col>displ</th><th scope=col>year</th><th scope=col>cyl</th><th scope=col>trans</th><th scope=col>drv</th><th scope=col>cty</th><th scope=col>hwy</th><th scope=col>fl</th><th scope=col>class</th></tr>\n",
              "\t<tr><th></th><th scope=col>&lt;chr&gt;</th><th scope=col>&lt;chr&gt;</th><th scope=col>&lt;dbl&gt;</th><th scope=col>&lt;int&gt;</th><th scope=col>&lt;int&gt;</th><th scope=col>&lt;chr&gt;</th><th scope=col>&lt;chr&gt;</th><th scope=col>&lt;int&gt;</th><th scope=col>&lt;int&gt;</th><th scope=col>&lt;chr&gt;</th><th scope=col>&lt;chr&gt;</th></tr>\n",
              "</thead>\n",
              "<tbody>\n",
              "\t<tr><th scope=row>1</th><td>audi</td><td>a4</td><td>1.8</td><td>1999</td><td>4</td><td>auto(l5)  </td><td>f</td><td>18</td><td>29</td><td>p</td><td>compact</td></tr>\n",
              "\t<tr><th scope=row>2</th><td>audi</td><td>a4</td><td>1.8</td><td>1999</td><td>4</td><td>manual(m5)</td><td>f</td><td>21</td><td>29</td><td>p</td><td>compact</td></tr>\n",
              "\t<tr><th scope=row>3</th><td>audi</td><td>a4</td><td>2.0</td><td>2008</td><td>4</td><td>manual(m6)</td><td>f</td><td>20</td><td>31</td><td>p</td><td>compact</td></tr>\n",
              "\t<tr><th scope=row>4</th><td>audi</td><td>a4</td><td>2.0</td><td>2008</td><td>4</td><td>auto(av)  </td><td>f</td><td>21</td><td>30</td><td>p</td><td>compact</td></tr>\n",
              "\t<tr><th scope=row>5</th><td>audi</td><td>a4</td><td>2.8</td><td>1999</td><td>6</td><td>auto(l5)  </td><td>f</td><td>16</td><td>26</td><td>p</td><td>compact</td></tr>\n",
              "\t<tr><th scope=row>6</th><td>audi</td><td>a4</td><td>2.8</td><td>1999</td><td>6</td><td>manual(m5)</td><td>f</td><td>18</td><td>26</td><td>p</td><td>compact</td></tr>\n",
              "</tbody>\n",
              "</table>\n"
            ],
            "text/markdown": "\nA data.frame: 6 × 11\n\n| <!--/--> | manufacturer &lt;chr&gt; | model &lt;chr&gt; | displ &lt;dbl&gt; | year &lt;int&gt; | cyl &lt;int&gt; | trans &lt;chr&gt; | drv &lt;chr&gt; | cty &lt;int&gt; | hwy &lt;int&gt; | fl &lt;chr&gt; | class &lt;chr&gt; |\n|---|---|---|---|---|---|---|---|---|---|---|---|\n| 1 | audi | a4 | 1.8 | 1999 | 4 | auto(l5)   | f | 18 | 29 | p | compact |\n| 2 | audi | a4 | 1.8 | 1999 | 4 | manual(m5) | f | 21 | 29 | p | compact |\n| 3 | audi | a4 | 2.0 | 2008 | 4 | manual(m6) | f | 20 | 31 | p | compact |\n| 4 | audi | a4 | 2.0 | 2008 | 4 | auto(av)   | f | 21 | 30 | p | compact |\n| 5 | audi | a4 | 2.8 | 1999 | 6 | auto(l5)   | f | 16 | 26 | p | compact |\n| 6 | audi | a4 | 2.8 | 1999 | 6 | manual(m5) | f | 18 | 26 | p | compact |\n\n",
            "text/latex": "A data.frame: 6 × 11\n\\begin{tabular}{r|lllllllllll}\n  & manufacturer & model & displ & year & cyl & trans & drv & cty & hwy & fl & class\\\\\n  & <chr> & <chr> & <dbl> & <int> & <int> & <chr> & <chr> & <int> & <int> & <chr> & <chr>\\\\\n\\hline\n\t1 & audi & a4 & 1.8 & 1999 & 4 & auto(l5)   & f & 18 & 29 & p & compact\\\\\n\t2 & audi & a4 & 1.8 & 1999 & 4 & manual(m5) & f & 21 & 29 & p & compact\\\\\n\t3 & audi & a4 & 2.0 & 2008 & 4 & manual(m6) & f & 20 & 31 & p & compact\\\\\n\t4 & audi & a4 & 2.0 & 2008 & 4 & auto(av)   & f & 21 & 30 & p & compact\\\\\n\t5 & audi & a4 & 2.8 & 1999 & 6 & auto(l5)   & f & 16 & 26 & p & compact\\\\\n\t6 & audi & a4 & 2.8 & 1999 & 6 & manual(m5) & f & 18 & 26 & p & compact\\\\\n\\end{tabular}\n",
            "text/plain": [
              "  manufacturer model displ year cyl trans      drv cty hwy fl class  \n",
              "1 audi         a4    1.8   1999 4   auto(l5)   f   18  29  p  compact\n",
              "2 audi         a4    1.8   1999 4   manual(m5) f   21  29  p  compact\n",
              "3 audi         a4    2.0   2008 4   manual(m6) f   20  31  p  compact\n",
              "4 audi         a4    2.0   2008 4   auto(av)   f   21  30  p  compact\n",
              "5 audi         a4    2.8   1999 6   auto(l5)   f   16  26  p  compact\n",
              "6 audi         a4    2.8   1999 6   manual(m5) f   18  26  p  compact"
            ]
          },
          "metadata": {}
        }
      ],
      "source": [
        "dbFetch(res) %>% head"
      ]
    },
    {
      "cell_type": "code",
      "source": [
        "dbFetch(res)"
      ],
      "metadata": {
        "id": "g5KgP-FwZ8l7",
        "outputId": "d0fe3dd9-931b-46d4-af4a-95beb95cc470",
        "colab": {
          "base_uri": "https://localhost:8080/",
          "height": 98
        }
      },
      "execution_count": 20,
      "outputs": [
        {
          "output_type": "display_data",
          "data": {
            "text/html": [
              "<table class=\"dataframe\">\n",
              "<caption>A data.frame: 0 × 11</caption>\n",
              "<thead>\n",
              "\t<tr><th scope=col>manufacturer</th><th scope=col>model</th><th scope=col>displ</th><th scope=col>year</th><th scope=col>cyl</th><th scope=col>trans</th><th scope=col>drv</th><th scope=col>cty</th><th scope=col>hwy</th><th scope=col>fl</th><th scope=col>class</th></tr>\n",
              "\t<tr><th scope=col>&lt;chr&gt;</th><th scope=col>&lt;chr&gt;</th><th scope=col>&lt;dbl&gt;</th><th scope=col>&lt;int&gt;</th><th scope=col>&lt;int&gt;</th><th scope=col>&lt;chr&gt;</th><th scope=col>&lt;chr&gt;</th><th scope=col>&lt;int&gt;</th><th scope=col>&lt;int&gt;</th><th scope=col>&lt;chr&gt;</th><th scope=col>&lt;chr&gt;</th></tr>\n",
              "</thead>\n",
              "<tbody>\n",
              "</tbody>\n",
              "</table>\n"
            ],
            "text/markdown": "\nA data.frame: 0 × 11\n\n| manufacturer &lt;chr&gt; | model &lt;chr&gt; | displ &lt;dbl&gt; | year &lt;int&gt; | cyl &lt;int&gt; | trans &lt;chr&gt; | drv &lt;chr&gt; | cty &lt;int&gt; | hwy &lt;int&gt; | fl &lt;chr&gt; | class &lt;chr&gt; |\n|---|---|---|---|---|---|---|---|---|---|---|\n\n",
            "text/latex": "A data.frame: 0 × 11\n\\begin{tabular}{lllllllllll}\n manufacturer & model & displ & year & cyl & trans & drv & cty & hwy & fl & class\\\\\n <chr> & <chr> & <dbl> & <int> & <int> & <chr> & <chr> & <int> & <int> & <chr> & <chr>\\\\\n\\hline\n\\end{tabular}\n",
            "text/plain": [
              "     manufacturer model displ year cyl trans drv cty hwy fl class"
            ]
          },
          "metadata": {}
        }
      ]
    },
    {
      "cell_type": "markdown",
      "metadata": {
        "id": "9M4oWl-wak7H"
      },
      "source": [
        "The special keyword `*` means \"select everything\" and is equivalent to `dplyr`'s `everything()`:"
      ]
    },
    {
      "cell_type": "markdown",
      "metadata": {
        "id": "vNNxVXLTatbx"
      },
      "source": [
        "If you have a really big table, SQL allows you to `LIMIT` the number of rows it returns.f"
      ]
    },
    {
      "cell_type": "code",
      "execution_count": 21,
      "metadata": {
        "id": "KJdVhsvFaylB",
        "outputId": "510f6e2a-255f-4869-a5df-2aeb086d232e",
        "colab": {
          "base_uri": "https://localhost:8080/",
          "height": 195
        }
      },
      "outputs": [
        {
          "output_type": "stream",
          "name": "stderr",
          "text": [
            "Warning message:\n",
            "“Closing open result set, pending rows”\n"
          ]
        },
        {
          "output_type": "display_data",
          "data": {
            "text/html": [
              "<table class=\"dataframe\">\n",
              "<caption>A data.frame: 2 × 11</caption>\n",
              "<thead>\n",
              "\t<tr><th scope=col>manufacturer</th><th scope=col>model</th><th scope=col>displ</th><th scope=col>year</th><th scope=col>cyl</th><th scope=col>trans</th><th scope=col>drv</th><th scope=col>cty</th><th scope=col>hwy</th><th scope=col>fl</th><th scope=col>class</th></tr>\n",
              "\t<tr><th scope=col>&lt;chr&gt;</th><th scope=col>&lt;chr&gt;</th><th scope=col>&lt;dbl&gt;</th><th scope=col>&lt;int&gt;</th><th scope=col>&lt;int&gt;</th><th scope=col>&lt;chr&gt;</th><th scope=col>&lt;chr&gt;</th><th scope=col>&lt;int&gt;</th><th scope=col>&lt;int&gt;</th><th scope=col>&lt;chr&gt;</th><th scope=col>&lt;chr&gt;</th></tr>\n",
              "</thead>\n",
              "<tbody>\n",
              "\t<tr><td>audi</td><td>a4</td><td>1.8</td><td>1999</td><td>4</td><td>auto(l5)  </td><td>f</td><td>18</td><td>29</td><td>p</td><td>compact</td></tr>\n",
              "\t<tr><td>audi</td><td>a4</td><td>1.8</td><td>1999</td><td>4</td><td>manual(m5)</td><td>f</td><td>21</td><td>29</td><td>p</td><td>compact</td></tr>\n",
              "</tbody>\n",
              "</table>\n"
            ],
            "text/markdown": "\nA data.frame: 2 × 11\n\n| manufacturer &lt;chr&gt; | model &lt;chr&gt; | displ &lt;dbl&gt; | year &lt;int&gt; | cyl &lt;int&gt; | trans &lt;chr&gt; | drv &lt;chr&gt; | cty &lt;int&gt; | hwy &lt;int&gt; | fl &lt;chr&gt; | class &lt;chr&gt; |\n|---|---|---|---|---|---|---|---|---|---|---|\n| audi | a4 | 1.8 | 1999 | 4 | auto(l5)   | f | 18 | 29 | p | compact |\n| audi | a4 | 1.8 | 1999 | 4 | manual(m5) | f | 21 | 29 | p | compact |\n\n",
            "text/latex": "A data.frame: 2 × 11\n\\begin{tabular}{lllllllllll}\n manufacturer & model & displ & year & cyl & trans & drv & cty & hwy & fl & class\\\\\n <chr> & <chr> & <dbl> & <int> & <int> & <chr> & <chr> & <int> & <int> & <chr> & <chr>\\\\\n\\hline\n\t audi & a4 & 1.8 & 1999 & 4 & auto(l5)   & f & 18 & 29 & p & compact\\\\\n\t audi & a4 & 1.8 & 1999 & 4 & manual(m5) & f & 21 & 29 & p & compact\\\\\n\\end{tabular}\n",
            "text/plain": [
              "  manufacturer model displ year cyl trans      drv cty hwy fl class  \n",
              "1 audi         a4    1.8   1999 4   auto(l5)   f   18  29  p  compact\n",
              "2 audi         a4    1.8   1999 4   manual(m5) f   21  29  p  compact"
            ]
          },
          "metadata": {}
        }
      ],
      "source": [
        "# using limit\n",
        "res <- dbSendQuery(con, \"SELECT * FROM mpg LIMIT 2\")\n",
        "dbFetch(res)"
      ]
    },
    {
      "cell_type": "code",
      "execution_count": null,
      "metadata": {
        "id": "B2YmamOxXrBz"
      },
      "outputs": [],
      "source": [
        "dbClearResult(res)"
      ]
    },
    {
      "cell_type": "markdown",
      "metadata": {
        "id": "Vy71dRi6bF0v"
      },
      "source": [
        "### Filtering\n",
        "\n",
        "The SQL syntax for filtering rows in a table uses the `WHERE` clause:\n",
        "```{sql}\n",
        "SELECT * FROM <table> WHERE dest = \"IAH\"\n",
        "```\n",
        "This is the same as:\n",
        "```{r}\n",
        "filter(<table>, dest == \"IAH\")\n",
        "```\n",
        "Note that SQL uses a single `=` to check equality!"
      ]
    },
    {
      "cell_type": "code",
      "execution_count": 22,
      "metadata": {
        "id": "KWkMD2y-bOR5",
        "outputId": "755426eb-4841-430e-c74d-27331d114dcb",
        "colab": {
          "base_uri": "https://localhost:8080/",
          "height": 1000
        }
      },
      "outputs": [
        {
          "output_type": "stream",
          "name": "stderr",
          "text": [
            "Warning message:\n",
            "“Closing open result set, pending rows”\n"
          ]
        },
        {
          "output_type": "display_data",
          "data": {
            "text/html": [
              "<table class=\"dataframe\">\n",
              "<caption>A data.frame: 81 × 11</caption>\n",
              "<thead>\n",
              "\t<tr><th scope=col>manufacturer</th><th scope=col>model</th><th scope=col>displ</th><th scope=col>year</th><th scope=col>cyl</th><th scope=col>trans</th><th scope=col>drv</th><th scope=col>cty</th><th scope=col>hwy</th><th scope=col>fl</th><th scope=col>class</th></tr>\n",
              "\t<tr><th scope=col>&lt;chr&gt;</th><th scope=col>&lt;chr&gt;</th><th scope=col>&lt;dbl&gt;</th><th scope=col>&lt;int&gt;</th><th scope=col>&lt;int&gt;</th><th scope=col>&lt;chr&gt;</th><th scope=col>&lt;chr&gt;</th><th scope=col>&lt;int&gt;</th><th scope=col>&lt;int&gt;</th><th scope=col>&lt;chr&gt;</th><th scope=col>&lt;chr&gt;</th></tr>\n",
              "</thead>\n",
              "<tbody>\n",
              "\t<tr><td>audi     </td><td>a4         </td><td>1.8</td><td>1999</td><td>4</td><td>auto(l5)  </td><td>f</td><td>18</td><td>29</td><td>p</td><td>compact   </td></tr>\n",
              "\t<tr><td>audi     </td><td>a4         </td><td>1.8</td><td>1999</td><td>4</td><td>manual(m5)</td><td>f</td><td>21</td><td>29</td><td>p</td><td>compact   </td></tr>\n",
              "\t<tr><td>audi     </td><td>a4         </td><td>2.0</td><td>2008</td><td>4</td><td>manual(m6)</td><td>f</td><td>20</td><td>31</td><td>p</td><td>compact   </td></tr>\n",
              "\t<tr><td>audi     </td><td>a4         </td><td>2.0</td><td>2008</td><td>4</td><td>auto(av)  </td><td>f</td><td>21</td><td>30</td><td>p</td><td>compact   </td></tr>\n",
              "\t<tr><td>audi     </td><td>a4 quattro </td><td>1.8</td><td>1999</td><td>4</td><td>manual(m5)</td><td>4</td><td>18</td><td>26</td><td>p</td><td>compact   </td></tr>\n",
              "\t<tr><td>audi     </td><td>a4 quattro </td><td>1.8</td><td>1999</td><td>4</td><td>auto(l5)  </td><td>4</td><td>16</td><td>25</td><td>p</td><td>compact   </td></tr>\n",
              "\t<tr><td>audi     </td><td>a4 quattro </td><td>2.0</td><td>2008</td><td>4</td><td>manual(m6)</td><td>4</td><td>20</td><td>28</td><td>p</td><td>compact   </td></tr>\n",
              "\t<tr><td>audi     </td><td>a4 quattro </td><td>2.0</td><td>2008</td><td>4</td><td>auto(s6)  </td><td>4</td><td>19</td><td>27</td><td>p</td><td>compact   </td></tr>\n",
              "\t<tr><td>chevrolet</td><td>malibu     </td><td>2.4</td><td>1999</td><td>4</td><td>auto(l4)  </td><td>f</td><td>19</td><td>27</td><td>r</td><td>midsize   </td></tr>\n",
              "\t<tr><td>chevrolet</td><td>malibu     </td><td>2.4</td><td>2008</td><td>4</td><td>auto(l4)  </td><td>f</td><td>22</td><td>30</td><td>r</td><td>midsize   </td></tr>\n",
              "\t<tr><td>dodge    </td><td>caravan 2wd</td><td>2.4</td><td>1999</td><td>4</td><td>auto(l3)  </td><td>f</td><td>18</td><td>24</td><td>r</td><td>minivan   </td></tr>\n",
              "\t<tr><td>honda    </td><td>civic      </td><td>1.6</td><td>1999</td><td>4</td><td>manual(m5)</td><td>f</td><td>28</td><td>33</td><td>r</td><td>subcompact</td></tr>\n",
              "\t<tr><td>honda    </td><td>civic      </td><td>1.6</td><td>1999</td><td>4</td><td>auto(l4)  </td><td>f</td><td>24</td><td>32</td><td>r</td><td>subcompact</td></tr>\n",
              "\t<tr><td>honda    </td><td>civic      </td><td>1.6</td><td>1999</td><td>4</td><td>manual(m5)</td><td>f</td><td>25</td><td>32</td><td>r</td><td>subcompact</td></tr>\n",
              "\t<tr><td>honda    </td><td>civic      </td><td>1.6</td><td>1999</td><td>4</td><td>manual(m5)</td><td>f</td><td>23</td><td>29</td><td>p</td><td>subcompact</td></tr>\n",
              "\t<tr><td>honda    </td><td>civic      </td><td>1.6</td><td>1999</td><td>4</td><td>auto(l4)  </td><td>f</td><td>24</td><td>32</td><td>r</td><td>subcompact</td></tr>\n",
              "\t<tr><td>honda    </td><td>civic      </td><td>1.8</td><td>2008</td><td>4</td><td>manual(m5)</td><td>f</td><td>26</td><td>34</td><td>r</td><td>subcompact</td></tr>\n",
              "\t<tr><td>honda    </td><td>civic      </td><td>1.8</td><td>2008</td><td>4</td><td>auto(l5)  </td><td>f</td><td>25</td><td>36</td><td>r</td><td>subcompact</td></tr>\n",
              "\t<tr><td>honda    </td><td>civic      </td><td>1.8</td><td>2008</td><td>4</td><td>auto(l5)  </td><td>f</td><td>24</td><td>36</td><td>c</td><td>subcompact</td></tr>\n",
              "\t<tr><td>honda    </td><td>civic      </td><td>2.0</td><td>2008</td><td>4</td><td>manual(m6)</td><td>f</td><td>21</td><td>29</td><td>p</td><td>subcompact</td></tr>\n",
              "\t<tr><td>hyundai  </td><td>sonata     </td><td>2.4</td><td>1999</td><td>4</td><td>auto(l4)  </td><td>f</td><td>18</td><td>26</td><td>r</td><td>midsize   </td></tr>\n",
              "\t<tr><td>hyundai  </td><td>sonata     </td><td>2.4</td><td>1999</td><td>4</td><td>manual(m5)</td><td>f</td><td>18</td><td>27</td><td>r</td><td>midsize   </td></tr>\n",
              "\t<tr><td>hyundai  </td><td>sonata     </td><td>2.4</td><td>2008</td><td>4</td><td>auto(l4)  </td><td>f</td><td>21</td><td>30</td><td>r</td><td>midsize   </td></tr>\n",
              "\t<tr><td>hyundai  </td><td>sonata     </td><td>2.4</td><td>2008</td><td>4</td><td>manual(m5)</td><td>f</td><td>21</td><td>31</td><td>r</td><td>midsize   </td></tr>\n",
              "\t<tr><td>hyundai  </td><td>tiburon    </td><td>2.0</td><td>1999</td><td>4</td><td>auto(l4)  </td><td>f</td><td>19</td><td>26</td><td>r</td><td>subcompact</td></tr>\n",
              "\t<tr><td>hyundai  </td><td>tiburon    </td><td>2.0</td><td>1999</td><td>4</td><td>manual(m5)</td><td>f</td><td>19</td><td>29</td><td>r</td><td>subcompact</td></tr>\n",
              "\t<tr><td>hyundai  </td><td>tiburon    </td><td>2.0</td><td>2008</td><td>4</td><td>manual(m5)</td><td>f</td><td>20</td><td>28</td><td>r</td><td>subcompact</td></tr>\n",
              "\t<tr><td>hyundai  </td><td>tiburon    </td><td>2.0</td><td>2008</td><td>4</td><td>auto(l4)  </td><td>f</td><td>20</td><td>27</td><td>r</td><td>subcompact</td></tr>\n",
              "\t<tr><td>nissan   </td><td>altima     </td><td>2.4</td><td>1999</td><td>4</td><td>manual(m5)</td><td>f</td><td>21</td><td>29</td><td>r</td><td>compact   </td></tr>\n",
              "\t<tr><td>nissan   </td><td>altima     </td><td>2.4</td><td>1999</td><td>4</td><td>auto(l4)  </td><td>f</td><td>19</td><td>27</td><td>r</td><td>compact   </td></tr>\n",
              "\t<tr><td>⋮</td><td>⋮</td><td>⋮</td><td>⋮</td><td>⋮</td><td>⋮</td><td>⋮</td><td>⋮</td><td>⋮</td><td>⋮</td><td>⋮</td></tr>\n",
              "\t<tr><td>toyota    </td><td>camry            </td><td>2.4</td><td>2008</td><td>4</td><td>auto(l5)  </td><td>f</td><td>21</td><td>31</td><td>r</td><td>midsize   </td></tr>\n",
              "\t<tr><td>toyota    </td><td>camry solara     </td><td>2.2</td><td>1999</td><td>4</td><td>auto(l4)  </td><td>f</td><td>21</td><td>27</td><td>r</td><td>compact   </td></tr>\n",
              "\t<tr><td>toyota    </td><td>camry solara     </td><td>2.2</td><td>1999</td><td>4</td><td>manual(m5)</td><td>f</td><td>21</td><td>29</td><td>r</td><td>compact   </td></tr>\n",
              "\t<tr><td>toyota    </td><td>camry solara     </td><td>2.4</td><td>2008</td><td>4</td><td>manual(m5)</td><td>f</td><td>21</td><td>31</td><td>r</td><td>compact   </td></tr>\n",
              "\t<tr><td>toyota    </td><td>camry solara     </td><td>2.4</td><td>2008</td><td>4</td><td>auto(s5)  </td><td>f</td><td>22</td><td>31</td><td>r</td><td>compact   </td></tr>\n",
              "\t<tr><td>toyota    </td><td>corolla          </td><td>1.8</td><td>1999</td><td>4</td><td>auto(l3)  </td><td>f</td><td>24</td><td>30</td><td>r</td><td>compact   </td></tr>\n",
              "\t<tr><td>toyota    </td><td>corolla          </td><td>1.8</td><td>1999</td><td>4</td><td>auto(l4)  </td><td>f</td><td>24</td><td>33</td><td>r</td><td>compact   </td></tr>\n",
              "\t<tr><td>toyota    </td><td>corolla          </td><td>1.8</td><td>1999</td><td>4</td><td>manual(m5)</td><td>f</td><td>26</td><td>35</td><td>r</td><td>compact   </td></tr>\n",
              "\t<tr><td>toyota    </td><td>corolla          </td><td>1.8</td><td>2008</td><td>4</td><td>manual(m5)</td><td>f</td><td>28</td><td>37</td><td>r</td><td>compact   </td></tr>\n",
              "\t<tr><td>toyota    </td><td>corolla          </td><td>1.8</td><td>2008</td><td>4</td><td>auto(l4)  </td><td>f</td><td>26</td><td>35</td><td>r</td><td>compact   </td></tr>\n",
              "\t<tr><td>toyota    </td><td>toyota tacoma 4wd</td><td>2.7</td><td>1999</td><td>4</td><td>manual(m5)</td><td>4</td><td>15</td><td>20</td><td>r</td><td>pickup    </td></tr>\n",
              "\t<tr><td>toyota    </td><td>toyota tacoma 4wd</td><td>2.7</td><td>1999</td><td>4</td><td>auto(l4)  </td><td>4</td><td>16</td><td>20</td><td>r</td><td>pickup    </td></tr>\n",
              "\t<tr><td>toyota    </td><td>toyota tacoma 4wd</td><td>2.7</td><td>2008</td><td>4</td><td>manual(m5)</td><td>4</td><td>17</td><td>22</td><td>r</td><td>pickup    </td></tr>\n",
              "\t<tr><td>volkswagen</td><td>gti              </td><td>2.0</td><td>1999</td><td>4</td><td>manual(m5)</td><td>f</td><td>21</td><td>29</td><td>r</td><td>compact   </td></tr>\n",
              "\t<tr><td>volkswagen</td><td>gti              </td><td>2.0</td><td>1999</td><td>4</td><td>auto(l4)  </td><td>f</td><td>19</td><td>26</td><td>r</td><td>compact   </td></tr>\n",
              "\t<tr><td>volkswagen</td><td>gti              </td><td>2.0</td><td>2008</td><td>4</td><td>manual(m6)</td><td>f</td><td>21</td><td>29</td><td>p</td><td>compact   </td></tr>\n",
              "\t<tr><td>volkswagen</td><td>gti              </td><td>2.0</td><td>2008</td><td>4</td><td>auto(s6)  </td><td>f</td><td>22</td><td>29</td><td>p</td><td>compact   </td></tr>\n",
              "\t<tr><td>volkswagen</td><td>jetta            </td><td>1.9</td><td>1999</td><td>4</td><td>manual(m5)</td><td>f</td><td>33</td><td>44</td><td>d</td><td>compact   </td></tr>\n",
              "\t<tr><td>volkswagen</td><td>jetta            </td><td>2.0</td><td>1999</td><td>4</td><td>manual(m5)</td><td>f</td><td>21</td><td>29</td><td>r</td><td>compact   </td></tr>\n",
              "\t<tr><td>volkswagen</td><td>jetta            </td><td>2.0</td><td>1999</td><td>4</td><td>auto(l4)  </td><td>f</td><td>19</td><td>26</td><td>r</td><td>compact   </td></tr>\n",
              "\t<tr><td>volkswagen</td><td>jetta            </td><td>2.0</td><td>2008</td><td>4</td><td>auto(s6)  </td><td>f</td><td>22</td><td>29</td><td>p</td><td>compact   </td></tr>\n",
              "\t<tr><td>volkswagen</td><td>jetta            </td><td>2.0</td><td>2008</td><td>4</td><td>manual(m6)</td><td>f</td><td>21</td><td>29</td><td>p</td><td>compact   </td></tr>\n",
              "\t<tr><td>volkswagen</td><td>new beetle       </td><td>1.9</td><td>1999</td><td>4</td><td>manual(m5)</td><td>f</td><td>35</td><td>44</td><td>d</td><td>subcompact</td></tr>\n",
              "\t<tr><td>volkswagen</td><td>new beetle       </td><td>1.9</td><td>1999</td><td>4</td><td>auto(l4)  </td><td>f</td><td>29</td><td>41</td><td>d</td><td>subcompact</td></tr>\n",
              "\t<tr><td>volkswagen</td><td>new beetle       </td><td>2.0</td><td>1999</td><td>4</td><td>manual(m5)</td><td>f</td><td>21</td><td>29</td><td>r</td><td>subcompact</td></tr>\n",
              "\t<tr><td>volkswagen</td><td>new beetle       </td><td>2.0</td><td>1999</td><td>4</td><td>auto(l4)  </td><td>f</td><td>19</td><td>26</td><td>r</td><td>subcompact</td></tr>\n",
              "\t<tr><td>volkswagen</td><td>passat           </td><td>1.8</td><td>1999</td><td>4</td><td>manual(m5)</td><td>f</td><td>21</td><td>29</td><td>p</td><td>midsize   </td></tr>\n",
              "\t<tr><td>volkswagen</td><td>passat           </td><td>1.8</td><td>1999</td><td>4</td><td>auto(l5)  </td><td>f</td><td>18</td><td>29</td><td>p</td><td>midsize   </td></tr>\n",
              "\t<tr><td>volkswagen</td><td>passat           </td><td>2.0</td><td>2008</td><td>4</td><td>auto(s6)  </td><td>f</td><td>19</td><td>28</td><td>p</td><td>midsize   </td></tr>\n",
              "\t<tr><td>volkswagen</td><td>passat           </td><td>2.0</td><td>2008</td><td>4</td><td>manual(m6)</td><td>f</td><td>21</td><td>29</td><td>p</td><td>midsize   </td></tr>\n",
              "</tbody>\n",
              "</table>\n"
            ],
            "text/markdown": "\nA data.frame: 81 × 11\n\n| manufacturer &lt;chr&gt; | model &lt;chr&gt; | displ &lt;dbl&gt; | year &lt;int&gt; | cyl &lt;int&gt; | trans &lt;chr&gt; | drv &lt;chr&gt; | cty &lt;int&gt; | hwy &lt;int&gt; | fl &lt;chr&gt; | class &lt;chr&gt; |\n|---|---|---|---|---|---|---|---|---|---|---|\n| audi      | a4          | 1.8 | 1999 | 4 | auto(l5)   | f | 18 | 29 | p | compact    |\n| audi      | a4          | 1.8 | 1999 | 4 | manual(m5) | f | 21 | 29 | p | compact    |\n| audi      | a4          | 2.0 | 2008 | 4 | manual(m6) | f | 20 | 31 | p | compact    |\n| audi      | a4          | 2.0 | 2008 | 4 | auto(av)   | f | 21 | 30 | p | compact    |\n| audi      | a4 quattro  | 1.8 | 1999 | 4 | manual(m5) | 4 | 18 | 26 | p | compact    |\n| audi      | a4 quattro  | 1.8 | 1999 | 4 | auto(l5)   | 4 | 16 | 25 | p | compact    |\n| audi      | a4 quattro  | 2.0 | 2008 | 4 | manual(m6) | 4 | 20 | 28 | p | compact    |\n| audi      | a4 quattro  | 2.0 | 2008 | 4 | auto(s6)   | 4 | 19 | 27 | p | compact    |\n| chevrolet | malibu      | 2.4 | 1999 | 4 | auto(l4)   | f | 19 | 27 | r | midsize    |\n| chevrolet | malibu      | 2.4 | 2008 | 4 | auto(l4)   | f | 22 | 30 | r | midsize    |\n| dodge     | caravan 2wd | 2.4 | 1999 | 4 | auto(l3)   | f | 18 | 24 | r | minivan    |\n| honda     | civic       | 1.6 | 1999 | 4 | manual(m5) | f | 28 | 33 | r | subcompact |\n| honda     | civic       | 1.6 | 1999 | 4 | auto(l4)   | f | 24 | 32 | r | subcompact |\n| honda     | civic       | 1.6 | 1999 | 4 | manual(m5) | f | 25 | 32 | r | subcompact |\n| honda     | civic       | 1.6 | 1999 | 4 | manual(m5) | f | 23 | 29 | p | subcompact |\n| honda     | civic       | 1.6 | 1999 | 4 | auto(l4)   | f | 24 | 32 | r | subcompact |\n| honda     | civic       | 1.8 | 2008 | 4 | manual(m5) | f | 26 | 34 | r | subcompact |\n| honda     | civic       | 1.8 | 2008 | 4 | auto(l5)   | f | 25 | 36 | r | subcompact |\n| honda     | civic       | 1.8 | 2008 | 4 | auto(l5)   | f | 24 | 36 | c | subcompact |\n| honda     | civic       | 2.0 | 2008 | 4 | manual(m6) | f | 21 | 29 | p | subcompact |\n| hyundai   | sonata      | 2.4 | 1999 | 4 | auto(l4)   | f | 18 | 26 | r | midsize    |\n| hyundai   | sonata      | 2.4 | 1999 | 4 | manual(m5) | f | 18 | 27 | r | midsize    |\n| hyundai   | sonata      | 2.4 | 2008 | 4 | auto(l4)   | f | 21 | 30 | r | midsize    |\n| hyundai   | sonata      | 2.4 | 2008 | 4 | manual(m5) | f | 21 | 31 | r | midsize    |\n| hyundai   | tiburon     | 2.0 | 1999 | 4 | auto(l4)   | f | 19 | 26 | r | subcompact |\n| hyundai   | tiburon     | 2.0 | 1999 | 4 | manual(m5) | f | 19 | 29 | r | subcompact |\n| hyundai   | tiburon     | 2.0 | 2008 | 4 | manual(m5) | f | 20 | 28 | r | subcompact |\n| hyundai   | tiburon     | 2.0 | 2008 | 4 | auto(l4)   | f | 20 | 27 | r | subcompact |\n| nissan    | altima      | 2.4 | 1999 | 4 | manual(m5) | f | 21 | 29 | r | compact    |\n| nissan    | altima      | 2.4 | 1999 | 4 | auto(l4)   | f | 19 | 27 | r | compact    |\n| ⋮ | ⋮ | ⋮ | ⋮ | ⋮ | ⋮ | ⋮ | ⋮ | ⋮ | ⋮ | ⋮ |\n| toyota     | camry             | 2.4 | 2008 | 4 | auto(l5)   | f | 21 | 31 | r | midsize    |\n| toyota     | camry solara      | 2.2 | 1999 | 4 | auto(l4)   | f | 21 | 27 | r | compact    |\n| toyota     | camry solara      | 2.2 | 1999 | 4 | manual(m5) | f | 21 | 29 | r | compact    |\n| toyota     | camry solara      | 2.4 | 2008 | 4 | manual(m5) | f | 21 | 31 | r | compact    |\n| toyota     | camry solara      | 2.4 | 2008 | 4 | auto(s5)   | f | 22 | 31 | r | compact    |\n| toyota     | corolla           | 1.8 | 1999 | 4 | auto(l3)   | f | 24 | 30 | r | compact    |\n| toyota     | corolla           | 1.8 | 1999 | 4 | auto(l4)   | f | 24 | 33 | r | compact    |\n| toyota     | corolla           | 1.8 | 1999 | 4 | manual(m5) | f | 26 | 35 | r | compact    |\n| toyota     | corolla           | 1.8 | 2008 | 4 | manual(m5) | f | 28 | 37 | r | compact    |\n| toyota     | corolla           | 1.8 | 2008 | 4 | auto(l4)   | f | 26 | 35 | r | compact    |\n| toyota     | toyota tacoma 4wd | 2.7 | 1999 | 4 | manual(m5) | 4 | 15 | 20 | r | pickup     |\n| toyota     | toyota tacoma 4wd | 2.7 | 1999 | 4 | auto(l4)   | 4 | 16 | 20 | r | pickup     |\n| toyota     | toyota tacoma 4wd | 2.7 | 2008 | 4 | manual(m5) | 4 | 17 | 22 | r | pickup     |\n| volkswagen | gti               | 2.0 | 1999 | 4 | manual(m5) | f | 21 | 29 | r | compact    |\n| volkswagen | gti               | 2.0 | 1999 | 4 | auto(l4)   | f | 19 | 26 | r | compact    |\n| volkswagen | gti               | 2.0 | 2008 | 4 | manual(m6) | f | 21 | 29 | p | compact    |\n| volkswagen | gti               | 2.0 | 2008 | 4 | auto(s6)   | f | 22 | 29 | p | compact    |\n| volkswagen | jetta             | 1.9 | 1999 | 4 | manual(m5) | f | 33 | 44 | d | compact    |\n| volkswagen | jetta             | 2.0 | 1999 | 4 | manual(m5) | f | 21 | 29 | r | compact    |\n| volkswagen | jetta             | 2.0 | 1999 | 4 | auto(l4)   | f | 19 | 26 | r | compact    |\n| volkswagen | jetta             | 2.0 | 2008 | 4 | auto(s6)   | f | 22 | 29 | p | compact    |\n| volkswagen | jetta             | 2.0 | 2008 | 4 | manual(m6) | f | 21 | 29 | p | compact    |\n| volkswagen | new beetle        | 1.9 | 1999 | 4 | manual(m5) | f | 35 | 44 | d | subcompact |\n| volkswagen | new beetle        | 1.9 | 1999 | 4 | auto(l4)   | f | 29 | 41 | d | subcompact |\n| volkswagen | new beetle        | 2.0 | 1999 | 4 | manual(m5) | f | 21 | 29 | r | subcompact |\n| volkswagen | new beetle        | 2.0 | 1999 | 4 | auto(l4)   | f | 19 | 26 | r | subcompact |\n| volkswagen | passat            | 1.8 | 1999 | 4 | manual(m5) | f | 21 | 29 | p | midsize    |\n| volkswagen | passat            | 1.8 | 1999 | 4 | auto(l5)   | f | 18 | 29 | p | midsize    |\n| volkswagen | passat            | 2.0 | 2008 | 4 | auto(s6)   | f | 19 | 28 | p | midsize    |\n| volkswagen | passat            | 2.0 | 2008 | 4 | manual(m6) | f | 21 | 29 | p | midsize    |\n\n",
            "text/latex": "A data.frame: 81 × 11\n\\begin{tabular}{lllllllllll}\n manufacturer & model & displ & year & cyl & trans & drv & cty & hwy & fl & class\\\\\n <chr> & <chr> & <dbl> & <int> & <int> & <chr> & <chr> & <int> & <int> & <chr> & <chr>\\\\\n\\hline\n\t audi      & a4          & 1.8 & 1999 & 4 & auto(l5)   & f & 18 & 29 & p & compact   \\\\\n\t audi      & a4          & 1.8 & 1999 & 4 & manual(m5) & f & 21 & 29 & p & compact   \\\\\n\t audi      & a4          & 2.0 & 2008 & 4 & manual(m6) & f & 20 & 31 & p & compact   \\\\\n\t audi      & a4          & 2.0 & 2008 & 4 & auto(av)   & f & 21 & 30 & p & compact   \\\\\n\t audi      & a4 quattro  & 1.8 & 1999 & 4 & manual(m5) & 4 & 18 & 26 & p & compact   \\\\\n\t audi      & a4 quattro  & 1.8 & 1999 & 4 & auto(l5)   & 4 & 16 & 25 & p & compact   \\\\\n\t audi      & a4 quattro  & 2.0 & 2008 & 4 & manual(m6) & 4 & 20 & 28 & p & compact   \\\\\n\t audi      & a4 quattro  & 2.0 & 2008 & 4 & auto(s6)   & 4 & 19 & 27 & p & compact   \\\\\n\t chevrolet & malibu      & 2.4 & 1999 & 4 & auto(l4)   & f & 19 & 27 & r & midsize   \\\\\n\t chevrolet & malibu      & 2.4 & 2008 & 4 & auto(l4)   & f & 22 & 30 & r & midsize   \\\\\n\t dodge     & caravan 2wd & 2.4 & 1999 & 4 & auto(l3)   & f & 18 & 24 & r & minivan   \\\\\n\t honda     & civic       & 1.6 & 1999 & 4 & manual(m5) & f & 28 & 33 & r & subcompact\\\\\n\t honda     & civic       & 1.6 & 1999 & 4 & auto(l4)   & f & 24 & 32 & r & subcompact\\\\\n\t honda     & civic       & 1.6 & 1999 & 4 & manual(m5) & f & 25 & 32 & r & subcompact\\\\\n\t honda     & civic       & 1.6 & 1999 & 4 & manual(m5) & f & 23 & 29 & p & subcompact\\\\\n\t honda     & civic       & 1.6 & 1999 & 4 & auto(l4)   & f & 24 & 32 & r & subcompact\\\\\n\t honda     & civic       & 1.8 & 2008 & 4 & manual(m5) & f & 26 & 34 & r & subcompact\\\\\n\t honda     & civic       & 1.8 & 2008 & 4 & auto(l5)   & f & 25 & 36 & r & subcompact\\\\\n\t honda     & civic       & 1.8 & 2008 & 4 & auto(l5)   & f & 24 & 36 & c & subcompact\\\\\n\t honda     & civic       & 2.0 & 2008 & 4 & manual(m6) & f & 21 & 29 & p & subcompact\\\\\n\t hyundai   & sonata      & 2.4 & 1999 & 4 & auto(l4)   & f & 18 & 26 & r & midsize   \\\\\n\t hyundai   & sonata      & 2.4 & 1999 & 4 & manual(m5) & f & 18 & 27 & r & midsize   \\\\\n\t hyundai   & sonata      & 2.4 & 2008 & 4 & auto(l4)   & f & 21 & 30 & r & midsize   \\\\\n\t hyundai   & sonata      & 2.4 & 2008 & 4 & manual(m5) & f & 21 & 31 & r & midsize   \\\\\n\t hyundai   & tiburon     & 2.0 & 1999 & 4 & auto(l4)   & f & 19 & 26 & r & subcompact\\\\\n\t hyundai   & tiburon     & 2.0 & 1999 & 4 & manual(m5) & f & 19 & 29 & r & subcompact\\\\\n\t hyundai   & tiburon     & 2.0 & 2008 & 4 & manual(m5) & f & 20 & 28 & r & subcompact\\\\\n\t hyundai   & tiburon     & 2.0 & 2008 & 4 & auto(l4)   & f & 20 & 27 & r & subcompact\\\\\n\t nissan    & altima      & 2.4 & 1999 & 4 & manual(m5) & f & 21 & 29 & r & compact   \\\\\n\t nissan    & altima      & 2.4 & 1999 & 4 & auto(l4)   & f & 19 & 27 & r & compact   \\\\\n\t ⋮ & ⋮ & ⋮ & ⋮ & ⋮ & ⋮ & ⋮ & ⋮ & ⋮ & ⋮ & ⋮\\\\\n\t toyota     & camry             & 2.4 & 2008 & 4 & auto(l5)   & f & 21 & 31 & r & midsize   \\\\\n\t toyota     & camry solara      & 2.2 & 1999 & 4 & auto(l4)   & f & 21 & 27 & r & compact   \\\\\n\t toyota     & camry solara      & 2.2 & 1999 & 4 & manual(m5) & f & 21 & 29 & r & compact   \\\\\n\t toyota     & camry solara      & 2.4 & 2008 & 4 & manual(m5) & f & 21 & 31 & r & compact   \\\\\n\t toyota     & camry solara      & 2.4 & 2008 & 4 & auto(s5)   & f & 22 & 31 & r & compact   \\\\\n\t toyota     & corolla           & 1.8 & 1999 & 4 & auto(l3)   & f & 24 & 30 & r & compact   \\\\\n\t toyota     & corolla           & 1.8 & 1999 & 4 & auto(l4)   & f & 24 & 33 & r & compact   \\\\\n\t toyota     & corolla           & 1.8 & 1999 & 4 & manual(m5) & f & 26 & 35 & r & compact   \\\\\n\t toyota     & corolla           & 1.8 & 2008 & 4 & manual(m5) & f & 28 & 37 & r & compact   \\\\\n\t toyota     & corolla           & 1.8 & 2008 & 4 & auto(l4)   & f & 26 & 35 & r & compact   \\\\\n\t toyota     & toyota tacoma 4wd & 2.7 & 1999 & 4 & manual(m5) & 4 & 15 & 20 & r & pickup    \\\\\n\t toyota     & toyota tacoma 4wd & 2.7 & 1999 & 4 & auto(l4)   & 4 & 16 & 20 & r & pickup    \\\\\n\t toyota     & toyota tacoma 4wd & 2.7 & 2008 & 4 & manual(m5) & 4 & 17 & 22 & r & pickup    \\\\\n\t volkswagen & gti               & 2.0 & 1999 & 4 & manual(m5) & f & 21 & 29 & r & compact   \\\\\n\t volkswagen & gti               & 2.0 & 1999 & 4 & auto(l4)   & f & 19 & 26 & r & compact   \\\\\n\t volkswagen & gti               & 2.0 & 2008 & 4 & manual(m6) & f & 21 & 29 & p & compact   \\\\\n\t volkswagen & gti               & 2.0 & 2008 & 4 & auto(s6)   & f & 22 & 29 & p & compact   \\\\\n\t volkswagen & jetta             & 1.9 & 1999 & 4 & manual(m5) & f & 33 & 44 & d & compact   \\\\\n\t volkswagen & jetta             & 2.0 & 1999 & 4 & manual(m5) & f & 21 & 29 & r & compact   \\\\\n\t volkswagen & jetta             & 2.0 & 1999 & 4 & auto(l4)   & f & 19 & 26 & r & compact   \\\\\n\t volkswagen & jetta             & 2.0 & 2008 & 4 & auto(s6)   & f & 22 & 29 & p & compact   \\\\\n\t volkswagen & jetta             & 2.0 & 2008 & 4 & manual(m6) & f & 21 & 29 & p & compact   \\\\\n\t volkswagen & new beetle        & 1.9 & 1999 & 4 & manual(m5) & f & 35 & 44 & d & subcompact\\\\\n\t volkswagen & new beetle        & 1.9 & 1999 & 4 & auto(l4)   & f & 29 & 41 & d & subcompact\\\\\n\t volkswagen & new beetle        & 2.0 & 1999 & 4 & manual(m5) & f & 21 & 29 & r & subcompact\\\\\n\t volkswagen & new beetle        & 2.0 & 1999 & 4 & auto(l4)   & f & 19 & 26 & r & subcompact\\\\\n\t volkswagen & passat            & 1.8 & 1999 & 4 & manual(m5) & f & 21 & 29 & p & midsize   \\\\\n\t volkswagen & passat            & 1.8 & 1999 & 4 & auto(l5)   & f & 18 & 29 & p & midsize   \\\\\n\t volkswagen & passat            & 2.0 & 2008 & 4 & auto(s6)   & f & 19 & 28 & p & midsize   \\\\\n\t volkswagen & passat            & 2.0 & 2008 & 4 & manual(m6) & f & 21 & 29 & p & midsize   \\\\\n\\end{tabular}\n",
            "text/plain": [
              "   manufacturer model             displ year cyl trans      drv cty hwy fl\n",
              "1  audi         a4                1.8   1999 4   auto(l5)   f   18  29  p \n",
              "2  audi         a4                1.8   1999 4   manual(m5) f   21  29  p \n",
              "3  audi         a4                2.0   2008 4   manual(m6) f   20  31  p \n",
              "4  audi         a4                2.0   2008 4   auto(av)   f   21  30  p \n",
              "5  audi         a4 quattro        1.8   1999 4   manual(m5) 4   18  26  p \n",
              "6  audi         a4 quattro        1.8   1999 4   auto(l5)   4   16  25  p \n",
              "7  audi         a4 quattro        2.0   2008 4   manual(m6) 4   20  28  p \n",
              "8  audi         a4 quattro        2.0   2008 4   auto(s6)   4   19  27  p \n",
              "9  chevrolet    malibu            2.4   1999 4   auto(l4)   f   19  27  r \n",
              "10 chevrolet    malibu            2.4   2008 4   auto(l4)   f   22  30  r \n",
              "11 dodge        caravan 2wd       2.4   1999 4   auto(l3)   f   18  24  r \n",
              "12 honda        civic             1.6   1999 4   manual(m5) f   28  33  r \n",
              "13 honda        civic             1.6   1999 4   auto(l4)   f   24  32  r \n",
              "14 honda        civic             1.6   1999 4   manual(m5) f   25  32  r \n",
              "15 honda        civic             1.6   1999 4   manual(m5) f   23  29  p \n",
              "16 honda        civic             1.6   1999 4   auto(l4)   f   24  32  r \n",
              "17 honda        civic             1.8   2008 4   manual(m5) f   26  34  r \n",
              "18 honda        civic             1.8   2008 4   auto(l5)   f   25  36  r \n",
              "19 honda        civic             1.8   2008 4   auto(l5)   f   24  36  c \n",
              "20 honda        civic             2.0   2008 4   manual(m6) f   21  29  p \n",
              "21 hyundai      sonata            2.4   1999 4   auto(l4)   f   18  26  r \n",
              "22 hyundai      sonata            2.4   1999 4   manual(m5) f   18  27  r \n",
              "23 hyundai      sonata            2.4   2008 4   auto(l4)   f   21  30  r \n",
              "24 hyundai      sonata            2.4   2008 4   manual(m5) f   21  31  r \n",
              "25 hyundai      tiburon           2.0   1999 4   auto(l4)   f   19  26  r \n",
              "26 hyundai      tiburon           2.0   1999 4   manual(m5) f   19  29  r \n",
              "27 hyundai      tiburon           2.0   2008 4   manual(m5) f   20  28  r \n",
              "28 hyundai      tiburon           2.0   2008 4   auto(l4)   f   20  27  r \n",
              "29 nissan       altima            2.4   1999 4   manual(m5) f   21  29  r \n",
              "30 nissan       altima            2.4   1999 4   auto(l4)   f   19  27  r \n",
              "⋮  ⋮            ⋮                 ⋮     ⋮    ⋮   ⋮          ⋮   ⋮   ⋮   ⋮ \n",
              "52 toyota       camry             2.4   2008 4   auto(l5)   f   21  31  r \n",
              "53 toyota       camry solara      2.2   1999 4   auto(l4)   f   21  27  r \n",
              "54 toyota       camry solara      2.2   1999 4   manual(m5) f   21  29  r \n",
              "55 toyota       camry solara      2.4   2008 4   manual(m5) f   21  31  r \n",
              "56 toyota       camry solara      2.4   2008 4   auto(s5)   f   22  31  r \n",
              "57 toyota       corolla           1.8   1999 4   auto(l3)   f   24  30  r \n",
              "58 toyota       corolla           1.8   1999 4   auto(l4)   f   24  33  r \n",
              "59 toyota       corolla           1.8   1999 4   manual(m5) f   26  35  r \n",
              "60 toyota       corolla           1.8   2008 4   manual(m5) f   28  37  r \n",
              "61 toyota       corolla           1.8   2008 4   auto(l4)   f   26  35  r \n",
              "62 toyota       toyota tacoma 4wd 2.7   1999 4   manual(m5) 4   15  20  r \n",
              "63 toyota       toyota tacoma 4wd 2.7   1999 4   auto(l4)   4   16  20  r \n",
              "64 toyota       toyota tacoma 4wd 2.7   2008 4   manual(m5) 4   17  22  r \n",
              "65 volkswagen   gti               2.0   1999 4   manual(m5) f   21  29  r \n",
              "66 volkswagen   gti               2.0   1999 4   auto(l4)   f   19  26  r \n",
              "67 volkswagen   gti               2.0   2008 4   manual(m6) f   21  29  p \n",
              "68 volkswagen   gti               2.0   2008 4   auto(s6)   f   22  29  p \n",
              "69 volkswagen   jetta             1.9   1999 4   manual(m5) f   33  44  d \n",
              "70 volkswagen   jetta             2.0   1999 4   manual(m5) f   21  29  r \n",
              "71 volkswagen   jetta             2.0   1999 4   auto(l4)   f   19  26  r \n",
              "72 volkswagen   jetta             2.0   2008 4   auto(s6)   f   22  29  p \n",
              "73 volkswagen   jetta             2.0   2008 4   manual(m6) f   21  29  p \n",
              "74 volkswagen   new beetle        1.9   1999 4   manual(m5) f   35  44  d \n",
              "75 volkswagen   new beetle        1.9   1999 4   auto(l4)   f   29  41  d \n",
              "76 volkswagen   new beetle        2.0   1999 4   manual(m5) f   21  29  r \n",
              "77 volkswagen   new beetle        2.0   1999 4   auto(l4)   f   19  26  r \n",
              "78 volkswagen   passat            1.8   1999 4   manual(m5) f   21  29  p \n",
              "79 volkswagen   passat            1.8   1999 4   auto(l5)   f   18  29  p \n",
              "80 volkswagen   passat            2.0   2008 4   auto(s6)   f   19  28  p \n",
              "81 volkswagen   passat            2.0   2008 4   manual(m6) f   21  29  p \n",
              "   class     \n",
              "1  compact   \n",
              "2  compact   \n",
              "3  compact   \n",
              "4  compact   \n",
              "5  compact   \n",
              "6  compact   \n",
              "7  compact   \n",
              "8  compact   \n",
              "9  midsize   \n",
              "10 midsize   \n",
              "11 minivan   \n",
              "12 subcompact\n",
              "13 subcompact\n",
              "14 subcompact\n",
              "15 subcompact\n",
              "16 subcompact\n",
              "17 subcompact\n",
              "18 subcompact\n",
              "19 subcompact\n",
              "20 subcompact\n",
              "21 midsize   \n",
              "22 midsize   \n",
              "23 midsize   \n",
              "24 midsize   \n",
              "25 subcompact\n",
              "26 subcompact\n",
              "27 subcompact\n",
              "28 subcompact\n",
              "29 compact   \n",
              "30 compact   \n",
              "⋮  ⋮         \n",
              "52 midsize   \n",
              "53 compact   \n",
              "54 compact   \n",
              "55 compact   \n",
              "56 compact   \n",
              "57 compact   \n",
              "58 compact   \n",
              "59 compact   \n",
              "60 compact   \n",
              "61 compact   \n",
              "62 pickup    \n",
              "63 pickup    \n",
              "64 pickup    \n",
              "65 compact   \n",
              "66 compact   \n",
              "67 compact   \n",
              "68 compact   \n",
              "69 compact   \n",
              "70 compact   \n",
              "71 compact   \n",
              "72 compact   \n",
              "73 compact   \n",
              "74 subcompact\n",
              "75 subcompact\n",
              "76 subcompact\n",
              "77 subcompact\n",
              "78 midsize   \n",
              "79 midsize   \n",
              "80 midsize   \n",
              "81 midsize   "
            ]
          },
          "metadata": {}
        }
      ],
      "source": [
        "res <- dbSendQuery(con, \"SELECT * FROM mpg WHERE cyl = 4\")\n",
        "dbFetch(res)"
      ]
    },
    {
      "cell_type": "markdown",
      "metadata": {
        "id": "9-cH8ISIRPWQ"
      },
      "source": [
        "Now let us create more tables using our tidyverse datasets"
      ]
    },
    {
      "cell_type": "code",
      "execution_count": 23,
      "metadata": {
        "id": "3r5OcmNScQqO",
        "outputId": "a11f1f02-40b5-4451-985b-25a9d5013c58",
        "colab": {
          "base_uri": "https://localhost:8080/"
        }
      },
      "outputs": [
        {
          "output_type": "stream",
          "name": "stderr",
          "text": [
            "Warning message:\n",
            "“Closing open result set, pending rows”\n"
          ]
        }
      ],
      "source": [
        "\n",
        "dbWriteTable(con, \"flights\", flights, overwrite=T)\n",
        "dbWriteTable(con, \"airports\", airports, overwrite=T)\n",
        "dbWriteTable(con, \"airlines\", airlines, overwrite=T)\n",
        "dbWriteTable(con, \"planes\", planes, overwrite=T)\n",
        "dbWriteTable(con, \"weather\", weather, overwrite=T)"
      ]
    },
    {
      "cell_type": "markdown",
      "metadata": {
        "id": "FI69HeDYRPWS"
      },
      "source": [
        "We will define a convenience function to simplify our query"
      ]
    },
    {
      "cell_type": "code",
      "execution_count": 24,
      "metadata": {
        "id": "SUaBxakXRPWS",
        "outputId": "ab6e3a97-c4df-4129-c7bc-e5a9def0ee4a",
        "colab": {
          "base_uri": "https://localhost:8080/"
        }
      },
      "outputs": [
        {
          "output_type": "stream",
          "name": "stdout",
          "text": [
            "function(...) dbGetQuery(con, ...)\n"
          ]
        }
      ],
      "source": [
        "q <- function(...) dbGetQuery(con, ...)\n",
        "print(q)"
      ]
    },
    {
      "cell_type": "markdown",
      "metadata": {
        "id": "bD1EI2I0b2Zp"
      },
      "source": [
        "### Missing data\n",
        "In SQL, missing data is coded as `NULL`. This is a special value which is analogous to `NA` in R."
      ]
    },
    {
      "cell_type": "code",
      "execution_count": 25,
      "metadata": {
        "colab": {
          "base_uri": "https://localhost:8080/"
        },
        "id": "2EFIRgRqb6z2",
        "outputId": "2c3cae10-c696-4915-9c13-986ac1b4cd2f",
        "scrolled": true
      },
      "outputs": [
        {
          "output_type": "stream",
          "name": "stdout",
          "text": [
            "\u001b[90m# A tibble: 328,521 × 19\u001b[39m\n",
            "    year month   day dep_time sched_dep_time dep_delay arr_time sched_arr_time\n",
            "   \u001b[3m\u001b[90m<int>\u001b[39m\u001b[23m \u001b[3m\u001b[90m<int>\u001b[39m\u001b[23m \u001b[3m\u001b[90m<int>\u001b[39m\u001b[23m    \u001b[3m\u001b[90m<int>\u001b[39m\u001b[23m          \u001b[3m\u001b[90m<int>\u001b[39m\u001b[23m     \u001b[3m\u001b[90m<dbl>\u001b[39m\u001b[23m    \u001b[3m\u001b[90m<int>\u001b[39m\u001b[23m          \u001b[3m\u001b[90m<int>\u001b[39m\u001b[23m\n",
            "\u001b[90m 1\u001b[39m  \u001b[4m2\u001b[24m013     1     1      517            515         2      830            819\n",
            "\u001b[90m 2\u001b[39m  \u001b[4m2\u001b[24m013     1     1      533            529         4      850            830\n",
            "\u001b[90m 3\u001b[39m  \u001b[4m2\u001b[24m013     1     1      542            540         2      923            850\n",
            "\u001b[90m 4\u001b[39m  \u001b[4m2\u001b[24m013     1     1      544            545        -\u001b[31m1\u001b[39m     \u001b[4m1\u001b[24m004           \u001b[4m1\u001b[24m022\n",
            "\u001b[90m 5\u001b[39m  \u001b[4m2\u001b[24m013     1     1      554            600        -\u001b[31m6\u001b[39m      812            837\n",
            "\u001b[90m 6\u001b[39m  \u001b[4m2\u001b[24m013     1     1      554            558        -\u001b[31m4\u001b[39m      740            728\n",
            "\u001b[90m 7\u001b[39m  \u001b[4m2\u001b[24m013     1     1      555            600        -\u001b[31m5\u001b[39m      913            854\n",
            "\u001b[90m 8\u001b[39m  \u001b[4m2\u001b[24m013     1     1      557            600        -\u001b[31m3\u001b[39m      709            723\n",
            "\u001b[90m 9\u001b[39m  \u001b[4m2\u001b[24m013     1     1      557            600        -\u001b[31m3\u001b[39m      838            846\n",
            "\u001b[90m10\u001b[39m  \u001b[4m2\u001b[24m013     1     1      558            600        -\u001b[31m2\u001b[39m      753            745\n",
            "\u001b[90m# ℹ 328,511 more rows\u001b[39m\n",
            "\u001b[90m# ℹ 11 more variables: arr_delay <dbl>, carrier <chr>, flight <int>,\u001b[39m\n",
            "\u001b[90m#   tailnum <chr>, origin <chr>, dest <chr>, air_time <dbl>, distance <dbl>,\u001b[39m\n",
            "\u001b[90m#   hour <dbl>, minute <dbl>, time_hour <dbl>\u001b[39m\n"
          ]
        }
      ],
      "source": [
        "# select non-null dep time\n",
        "\n",
        "q('SELECT * FROM flights WHERE dep_delay IS NOT NULL') %>% as_tibble %>% print\n",
        "\n",
        "# filter(flights, !is.na(dep_delay))"
      ]
    },
    {
      "cell_type": "markdown",
      "metadata": {
        "id": "wi2Fc51udtRC"
      },
      "source": [
        "### Summarizing\n",
        "\n",
        "The SQL syntax for summarizing is using the `GROUP BY` clause:\n",
        "```{sql}\n",
        "SELECT AVG(<col>) AS avg_col FROM <table> GROUP BY(<group cols>)\n",
        "```\n",
        "This is the same as:\n",
        "```{r}\n",
        "<table> %>% group_by(<group cols>) %>% summarize(avg_col = mean(<col>))\n",
        "```"
      ]
    },
    {
      "cell_type": "code",
      "execution_count": 28,
      "metadata": {
        "colab": {
          "base_uri": "https://localhost:8080/",
          "height": 1000
        },
        "id": "ujzpaX1SdwNX",
        "outputId": "386f6a47-d683-42d4-d495-084a4a28159a",
        "scrolled": true
      },
      "outputs": [
        {
          "output_type": "display_data",
          "data": {
            "text/html": [
              "<table class=\"dataframe\">\n",
              "<caption>A data.frame: 365 × 5</caption>\n",
              "<thead>\n",
              "\t<tr><th scope=col>year</th><th scope=col>month</th><th scope=col>day</th><th scope=col>avg_dist</th><th scope=col>n</th></tr>\n",
              "\t<tr><th scope=col>&lt;int&gt;</th><th scope=col>&lt;int&gt;</th><th scope=col>&lt;int&gt;</th><th scope=col>&lt;dbl&gt;</th><th scope=col>&lt;int&gt;</th></tr>\n",
              "</thead>\n",
              "<tbody>\n",
              "\t<tr><td>2013</td><td>1</td><td> 1</td><td>1077.4299</td><td>842</td></tr>\n",
              "\t<tr><td>2013</td><td>1</td><td> 2</td><td>1053.1177</td><td>943</td></tr>\n",
              "\t<tr><td>2013</td><td>1</td><td> 3</td><td>1037.3709</td><td>914</td></tr>\n",
              "\t<tr><td>2013</td><td>1</td><td> 4</td><td>1032.4754</td><td>915</td></tr>\n",
              "\t<tr><td>2013</td><td>1</td><td> 5</td><td>1067.5917</td><td>720</td></tr>\n",
              "\t<tr><td>2013</td><td>1</td><td> 6</td><td>1051.6466</td><td>832</td></tr>\n",
              "\t<tr><td>2013</td><td>1</td><td> 7</td><td> 998.2572</td><td>933</td></tr>\n",
              "\t<tr><td>2013</td><td>1</td><td> 8</td><td> 985.5328</td><td>899</td></tr>\n",
              "\t<tr><td>2013</td><td>1</td><td> 9</td><td> 981.4202</td><td>902</td></tr>\n",
              "\t<tr><td>2013</td><td>1</td><td>10</td><td> 993.1856</td><td>932</td></tr>\n",
              "\t<tr><td>2013</td><td>1</td><td>11</td><td> 991.9957</td><td>930</td></tr>\n",
              "\t<tr><td>2013</td><td>1</td><td>12</td><td>1029.2087</td><td>690</td></tr>\n",
              "\t<tr><td>2013</td><td>1</td><td>13</td><td>1022.0302</td><td>828</td></tr>\n",
              "\t<tr><td>2013</td><td>1</td><td>14</td><td> 992.7575</td><td>928</td></tr>\n",
              "\t<tr><td>2013</td><td>1</td><td>15</td><td> 976.3971</td><td>894</td></tr>\n",
              "\t<tr><td>2013</td><td>1</td><td>16</td><td> 979.6093</td><td>901</td></tr>\n",
              "\t<tr><td>2013</td><td>1</td><td>17</td><td> 990.0076</td><td>927</td></tr>\n",
              "\t<tr><td>2013</td><td>1</td><td>18</td><td> 991.0996</td><td>924</td></tr>\n",
              "\t<tr><td>2013</td><td>1</td><td>19</td><td>1036.1098</td><td>674</td></tr>\n",
              "\t<tr><td>2013</td><td>1</td><td>20</td><td>1042.9033</td><td>786</td></tr>\n",
              "\t<tr><td>2013</td><td>1</td><td>21</td><td> 999.2544</td><td>912</td></tr>\n",
              "\t<tr><td>2013</td><td>1</td><td>22</td><td> 977.7573</td><td>890</td></tr>\n",
              "\t<tr><td>2013</td><td>1</td><td>23</td><td> 980.4526</td><td>897</td></tr>\n",
              "\t<tr><td>2013</td><td>1</td><td>24</td><td> 990.0962</td><td>925</td></tr>\n",
              "\t<tr><td>2013</td><td>1</td><td>25</td><td> 991.1323</td><td>922</td></tr>\n",
              "\t<tr><td>2013</td><td>1</td><td>26</td><td>1029.8132</td><td>680</td></tr>\n",
              "\t<tr><td>2013</td><td>1</td><td>27</td><td>1019.5516</td><td>823</td></tr>\n",
              "\t<tr><td>2013</td><td>1</td><td>28</td><td> 991.0683</td><td>923</td></tr>\n",
              "\t<tr><td>2013</td><td>1</td><td>29</td><td> 977.7573</td><td>890</td></tr>\n",
              "\t<tr><td>2013</td><td>1</td><td>30</td><td> 979.1000</td><td>900</td></tr>\n",
              "\t<tr><td>⋮</td><td>⋮</td><td>⋮</td><td>⋮</td><td>⋮</td></tr>\n",
              "\t<tr><td>2013</td><td>12</td><td> 2</td><td>1045.216</td><td>1004</td></tr>\n",
              "\t<tr><td>2013</td><td>12</td><td> 3</td><td>1037.664</td><td> 973</td></tr>\n",
              "\t<tr><td>2013</td><td>12</td><td> 4</td><td>1028.668</td><td> 958</td></tr>\n",
              "\t<tr><td>2013</td><td>12</td><td> 5</td><td>1032.431</td><td> 969</td></tr>\n",
              "\t<tr><td>2013</td><td>12</td><td> 6</td><td>1034.225</td><td> 970</td></tr>\n",
              "\t<tr><td>2013</td><td>12</td><td> 7</td><td>1076.192</td><td> 691</td></tr>\n",
              "\t<tr><td>2013</td><td>12</td><td> 8</td><td>1056.778</td><td> 875</td></tr>\n",
              "\t<tr><td>2013</td><td>12</td><td> 9</td><td>1029.788</td><td> 962</td></tr>\n",
              "\t<tr><td>2013</td><td>12</td><td>10</td><td>1019.850</td><td> 943</td></tr>\n",
              "\t<tr><td>2013</td><td>12</td><td>11</td><td>1028.249</td><td> 954</td></tr>\n",
              "\t<tr><td>2013</td><td>12</td><td>12</td><td>1026.347</td><td> 968</td></tr>\n",
              "\t<tr><td>2013</td><td>12</td><td>13</td><td>1034.225</td><td> 970</td></tr>\n",
              "\t<tr><td>2013</td><td>12</td><td>14</td><td>1074.860</td><td> 692</td></tr>\n",
              "\t<tr><td>2013</td><td>12</td><td>15</td><td>1052.486</td><td> 880</td></tr>\n",
              "\t<tr><td>2013</td><td>12</td><td>16</td><td>1031.372</td><td> 964</td></tr>\n",
              "\t<tr><td>2013</td><td>12</td><td>17</td><td>1029.697</td><td> 949</td></tr>\n",
              "\t<tr><td>2013</td><td>12</td><td>18</td><td>1041.809</td><td> 956</td></tr>\n",
              "\t<tr><td>2013</td><td>12</td><td>19</td><td>1072.525</td><td> 974</td></tr>\n",
              "\t<tr><td>2013</td><td>12</td><td>20</td><td>1069.397</td><td> 980</td></tr>\n",
              "\t<tr><td>2013</td><td>12</td><td>21</td><td>1121.625</td><td> 811</td></tr>\n",
              "\t<tr><td>2013</td><td>12</td><td>22</td><td>1101.023</td><td> 895</td></tr>\n",
              "\t<tr><td>2013</td><td>12</td><td>23</td><td>1086.943</td><td> 985</td></tr>\n",
              "\t<tr><td>2013</td><td>12</td><td>24</td><td>1119.435</td><td> 761</td></tr>\n",
              "\t<tr><td>2013</td><td>12</td><td>25</td><td>1117.868</td><td> 719</td></tr>\n",
              "\t<tr><td>2013</td><td>12</td><td>26</td><td>1109.999</td><td> 936</td></tr>\n",
              "\t<tr><td>2013</td><td>12</td><td>27</td><td>1087.254</td><td> 963</td></tr>\n",
              "\t<tr><td>2013</td><td>12</td><td>28</td><td>1122.647</td><td> 814</td></tr>\n",
              "\t<tr><td>2013</td><td>12</td><td>29</td><td>1108.057</td><td> 888</td></tr>\n",
              "\t<tr><td>2013</td><td>12</td><td>30</td><td>1098.242</td><td> 968</td></tr>\n",
              "\t<tr><td>2013</td><td>12</td><td>31</td><td>1127.920</td><td> 776</td></tr>\n",
              "</tbody>\n",
              "</table>\n"
            ],
            "text/markdown": "\nA data.frame: 365 × 5\n\n| year &lt;int&gt; | month &lt;int&gt; | day &lt;int&gt; | avg_dist &lt;dbl&gt; | n &lt;int&gt; |\n|---|---|---|---|---|\n| 2013 | 1 |  1 | 1077.4299 | 842 |\n| 2013 | 1 |  2 | 1053.1177 | 943 |\n| 2013 | 1 |  3 | 1037.3709 | 914 |\n| 2013 | 1 |  4 | 1032.4754 | 915 |\n| 2013 | 1 |  5 | 1067.5917 | 720 |\n| 2013 | 1 |  6 | 1051.6466 | 832 |\n| 2013 | 1 |  7 |  998.2572 | 933 |\n| 2013 | 1 |  8 |  985.5328 | 899 |\n| 2013 | 1 |  9 |  981.4202 | 902 |\n| 2013 | 1 | 10 |  993.1856 | 932 |\n| 2013 | 1 | 11 |  991.9957 | 930 |\n| 2013 | 1 | 12 | 1029.2087 | 690 |\n| 2013 | 1 | 13 | 1022.0302 | 828 |\n| 2013 | 1 | 14 |  992.7575 | 928 |\n| 2013 | 1 | 15 |  976.3971 | 894 |\n| 2013 | 1 | 16 |  979.6093 | 901 |\n| 2013 | 1 | 17 |  990.0076 | 927 |\n| 2013 | 1 | 18 |  991.0996 | 924 |\n| 2013 | 1 | 19 | 1036.1098 | 674 |\n| 2013 | 1 | 20 | 1042.9033 | 786 |\n| 2013 | 1 | 21 |  999.2544 | 912 |\n| 2013 | 1 | 22 |  977.7573 | 890 |\n| 2013 | 1 | 23 |  980.4526 | 897 |\n| 2013 | 1 | 24 |  990.0962 | 925 |\n| 2013 | 1 | 25 |  991.1323 | 922 |\n| 2013 | 1 | 26 | 1029.8132 | 680 |\n| 2013 | 1 | 27 | 1019.5516 | 823 |\n| 2013 | 1 | 28 |  991.0683 | 923 |\n| 2013 | 1 | 29 |  977.7573 | 890 |\n| 2013 | 1 | 30 |  979.1000 | 900 |\n| ⋮ | ⋮ | ⋮ | ⋮ | ⋮ |\n| 2013 | 12 |  2 | 1045.216 | 1004 |\n| 2013 | 12 |  3 | 1037.664 |  973 |\n| 2013 | 12 |  4 | 1028.668 |  958 |\n| 2013 | 12 |  5 | 1032.431 |  969 |\n| 2013 | 12 |  6 | 1034.225 |  970 |\n| 2013 | 12 |  7 | 1076.192 |  691 |\n| 2013 | 12 |  8 | 1056.778 |  875 |\n| 2013 | 12 |  9 | 1029.788 |  962 |\n| 2013 | 12 | 10 | 1019.850 |  943 |\n| 2013 | 12 | 11 | 1028.249 |  954 |\n| 2013 | 12 | 12 | 1026.347 |  968 |\n| 2013 | 12 | 13 | 1034.225 |  970 |\n| 2013 | 12 | 14 | 1074.860 |  692 |\n| 2013 | 12 | 15 | 1052.486 |  880 |\n| 2013 | 12 | 16 | 1031.372 |  964 |\n| 2013 | 12 | 17 | 1029.697 |  949 |\n| 2013 | 12 | 18 | 1041.809 |  956 |\n| 2013 | 12 | 19 | 1072.525 |  974 |\n| 2013 | 12 | 20 | 1069.397 |  980 |\n| 2013 | 12 | 21 | 1121.625 |  811 |\n| 2013 | 12 | 22 | 1101.023 |  895 |\n| 2013 | 12 | 23 | 1086.943 |  985 |\n| 2013 | 12 | 24 | 1119.435 |  761 |\n| 2013 | 12 | 25 | 1117.868 |  719 |\n| 2013 | 12 | 26 | 1109.999 |  936 |\n| 2013 | 12 | 27 | 1087.254 |  963 |\n| 2013 | 12 | 28 | 1122.647 |  814 |\n| 2013 | 12 | 29 | 1108.057 |  888 |\n| 2013 | 12 | 30 | 1098.242 |  968 |\n| 2013 | 12 | 31 | 1127.920 |  776 |\n\n",
            "text/latex": "A data.frame: 365 × 5\n\\begin{tabular}{lllll}\n year & month & day & avg\\_dist & n\\\\\n <int> & <int> & <int> & <dbl> & <int>\\\\\n\\hline\n\t 2013 & 1 &  1 & 1077.4299 & 842\\\\\n\t 2013 & 1 &  2 & 1053.1177 & 943\\\\\n\t 2013 & 1 &  3 & 1037.3709 & 914\\\\\n\t 2013 & 1 &  4 & 1032.4754 & 915\\\\\n\t 2013 & 1 &  5 & 1067.5917 & 720\\\\\n\t 2013 & 1 &  6 & 1051.6466 & 832\\\\\n\t 2013 & 1 &  7 &  998.2572 & 933\\\\\n\t 2013 & 1 &  8 &  985.5328 & 899\\\\\n\t 2013 & 1 &  9 &  981.4202 & 902\\\\\n\t 2013 & 1 & 10 &  993.1856 & 932\\\\\n\t 2013 & 1 & 11 &  991.9957 & 930\\\\\n\t 2013 & 1 & 12 & 1029.2087 & 690\\\\\n\t 2013 & 1 & 13 & 1022.0302 & 828\\\\\n\t 2013 & 1 & 14 &  992.7575 & 928\\\\\n\t 2013 & 1 & 15 &  976.3971 & 894\\\\\n\t 2013 & 1 & 16 &  979.6093 & 901\\\\\n\t 2013 & 1 & 17 &  990.0076 & 927\\\\\n\t 2013 & 1 & 18 &  991.0996 & 924\\\\\n\t 2013 & 1 & 19 & 1036.1098 & 674\\\\\n\t 2013 & 1 & 20 & 1042.9033 & 786\\\\\n\t 2013 & 1 & 21 &  999.2544 & 912\\\\\n\t 2013 & 1 & 22 &  977.7573 & 890\\\\\n\t 2013 & 1 & 23 &  980.4526 & 897\\\\\n\t 2013 & 1 & 24 &  990.0962 & 925\\\\\n\t 2013 & 1 & 25 &  991.1323 & 922\\\\\n\t 2013 & 1 & 26 & 1029.8132 & 680\\\\\n\t 2013 & 1 & 27 & 1019.5516 & 823\\\\\n\t 2013 & 1 & 28 &  991.0683 & 923\\\\\n\t 2013 & 1 & 29 &  977.7573 & 890\\\\\n\t 2013 & 1 & 30 &  979.1000 & 900\\\\\n\t ⋮ & ⋮ & ⋮ & ⋮ & ⋮\\\\\n\t 2013 & 12 &  2 & 1045.216 & 1004\\\\\n\t 2013 & 12 &  3 & 1037.664 &  973\\\\\n\t 2013 & 12 &  4 & 1028.668 &  958\\\\\n\t 2013 & 12 &  5 & 1032.431 &  969\\\\\n\t 2013 & 12 &  6 & 1034.225 &  970\\\\\n\t 2013 & 12 &  7 & 1076.192 &  691\\\\\n\t 2013 & 12 &  8 & 1056.778 &  875\\\\\n\t 2013 & 12 &  9 & 1029.788 &  962\\\\\n\t 2013 & 12 & 10 & 1019.850 &  943\\\\\n\t 2013 & 12 & 11 & 1028.249 &  954\\\\\n\t 2013 & 12 & 12 & 1026.347 &  968\\\\\n\t 2013 & 12 & 13 & 1034.225 &  970\\\\\n\t 2013 & 12 & 14 & 1074.860 &  692\\\\\n\t 2013 & 12 & 15 & 1052.486 &  880\\\\\n\t 2013 & 12 & 16 & 1031.372 &  964\\\\\n\t 2013 & 12 & 17 & 1029.697 &  949\\\\\n\t 2013 & 12 & 18 & 1041.809 &  956\\\\\n\t 2013 & 12 & 19 & 1072.525 &  974\\\\\n\t 2013 & 12 & 20 & 1069.397 &  980\\\\\n\t 2013 & 12 & 21 & 1121.625 &  811\\\\\n\t 2013 & 12 & 22 & 1101.023 &  895\\\\\n\t 2013 & 12 & 23 & 1086.943 &  985\\\\\n\t 2013 & 12 & 24 & 1119.435 &  761\\\\\n\t 2013 & 12 & 25 & 1117.868 &  719\\\\\n\t 2013 & 12 & 26 & 1109.999 &  936\\\\\n\t 2013 & 12 & 27 & 1087.254 &  963\\\\\n\t 2013 & 12 & 28 & 1122.647 &  814\\\\\n\t 2013 & 12 & 29 & 1108.057 &  888\\\\\n\t 2013 & 12 & 30 & 1098.242 &  968\\\\\n\t 2013 & 12 & 31 & 1127.920 &  776\\\\\n\\end{tabular}\n",
            "text/plain": [
              "    year month day avg_dist  n   \n",
              "1   2013 1      1  1077.4299 842 \n",
              "2   2013 1      2  1053.1177 943 \n",
              "3   2013 1      3  1037.3709 914 \n",
              "4   2013 1      4  1032.4754 915 \n",
              "5   2013 1      5  1067.5917 720 \n",
              "6   2013 1      6  1051.6466 832 \n",
              "7   2013 1      7   998.2572 933 \n",
              "8   2013 1      8   985.5328 899 \n",
              "9   2013 1      9   981.4202 902 \n",
              "10  2013 1     10   993.1856 932 \n",
              "11  2013 1     11   991.9957 930 \n",
              "12  2013 1     12  1029.2087 690 \n",
              "13  2013 1     13  1022.0302 828 \n",
              "14  2013 1     14   992.7575 928 \n",
              "15  2013 1     15   976.3971 894 \n",
              "16  2013 1     16   979.6093 901 \n",
              "17  2013 1     17   990.0076 927 \n",
              "18  2013 1     18   991.0996 924 \n",
              "19  2013 1     19  1036.1098 674 \n",
              "20  2013 1     20  1042.9033 786 \n",
              "21  2013 1     21   999.2544 912 \n",
              "22  2013 1     22   977.7573 890 \n",
              "23  2013 1     23   980.4526 897 \n",
              "24  2013 1     24   990.0962 925 \n",
              "25  2013 1     25   991.1323 922 \n",
              "26  2013 1     26  1029.8132 680 \n",
              "27  2013 1     27  1019.5516 823 \n",
              "28  2013 1     28   991.0683 923 \n",
              "29  2013 1     29   977.7573 890 \n",
              "30  2013 1     30   979.1000 900 \n",
              "⋮   ⋮    ⋮     ⋮   ⋮         ⋮   \n",
              "336 2013 12     2  1045.216  1004\n",
              "337 2013 12     3  1037.664   973\n",
              "338 2013 12     4  1028.668   958\n",
              "339 2013 12     5  1032.431   969\n",
              "340 2013 12     6  1034.225   970\n",
              "341 2013 12     7  1076.192   691\n",
              "342 2013 12     8  1056.778   875\n",
              "343 2013 12     9  1029.788   962\n",
              "344 2013 12    10  1019.850   943\n",
              "345 2013 12    11  1028.249   954\n",
              "346 2013 12    12  1026.347   968\n",
              "347 2013 12    13  1034.225   970\n",
              "348 2013 12    14  1074.860   692\n",
              "349 2013 12    15  1052.486   880\n",
              "350 2013 12    16  1031.372   964\n",
              "351 2013 12    17  1029.697   949\n",
              "352 2013 12    18  1041.809   956\n",
              "353 2013 12    19  1072.525   974\n",
              "354 2013 12    20  1069.397   980\n",
              "355 2013 12    21  1121.625   811\n",
              "356 2013 12    22  1101.023   895\n",
              "357 2013 12    23  1086.943   985\n",
              "358 2013 12    24  1119.435   761\n",
              "359 2013 12    25  1117.868   719\n",
              "360 2013 12    26  1109.999   936\n",
              "361 2013 12    27  1087.254   963\n",
              "362 2013 12    28  1122.647   814\n",
              "363 2013 12    29  1108.057   888\n",
              "364 2013 12    30  1098.242   968\n",
              "365 2013 12    31  1127.920   776"
            ]
          },
          "metadata": {}
        }
      ],
      "source": [
        "# select the average distance and count for each day\n",
        "\n",
        "q(\"SELECT year, month, day, AVG(distance) AS avg_dist,\n",
        "    COUNT() AS n FROM flights GROUP BY year, month, day\")\n",
        "\n",
        "# equivalent to\n",
        "# flights %>% group_by(year, month, day) %>% summarize(avg_dist = mean(distance), n = n())"
      ]
    },
    {
      "cell_type": "markdown",
      "metadata": {
        "id": "o4W2ODxzd1rf"
      },
      "source": [
        "### Joins\n",
        "\n",
        "The SQL syntax for joins:\n",
        "```{sql}\n",
        "SELECT * FROM <table> LEFT JOIN <other_table> ON <left_key_col> = <right_key_col>\n",
        "```\n",
        "This is the same as:\n",
        "```{r}\n",
        "left_join(<table>, <other_table>, by = c(\"<left_key_col>\" = \"<right_key_col>\"))\n",
        "```"
      ]
    },
    {
      "cell_type": "code",
      "execution_count": 29,
      "metadata": {
        "id": "Xi0qHQIsRPWc",
        "outputId": "0b189367-e543-4b71-a616-2200b98dc735",
        "colab": {
          "base_uri": "https://localhost:8080/",
          "height": 1000
        }
      },
      "outputs": [
        {
          "output_type": "display_data",
          "data": {
            "text/html": [
              "<table class=\"dataframe\">\n",
              "<caption>A data.frame: 336776 × 30</caption>\n",
              "<thead>\n",
              "\t<tr><th scope=col>year</th><th scope=col>flightyr</th><th scope=col>year.1</th><th scope=col>month</th><th scope=col>day</th><th scope=col>dep_time</th><th scope=col>sched_dep_time</th><th scope=col>dep_delay</th><th scope=col>arr_time</th><th scope=col>sched_arr_time</th><th scope=col>⋯</th><th scope=col>time_hour</th><th scope=col>tailnum</th><th scope=col>year</th><th scope=col>type</th><th scope=col>manufacturer</th><th scope=col>model</th><th scope=col>engines</th><th scope=col>seats</th><th scope=col>speed</th><th scope=col>engine</th></tr>\n",
              "\t<tr><th scope=col>&lt;int&gt;</th><th scope=col>&lt;chr&gt;</th><th scope=col>&lt;int&gt;</th><th scope=col>&lt;int&gt;</th><th scope=col>&lt;int&gt;</th><th scope=col>&lt;int&gt;</th><th scope=col>&lt;int&gt;</th><th scope=col>&lt;dbl&gt;</th><th scope=col>&lt;int&gt;</th><th scope=col>&lt;int&gt;</th><th scope=col>⋯</th><th scope=col>&lt;dbl&gt;</th><th scope=col>&lt;chr&gt;</th><th scope=col>&lt;int&gt;</th><th scope=col>&lt;chr&gt;</th><th scope=col>&lt;chr&gt;</th><th scope=col>&lt;chr&gt;</th><th scope=col>&lt;int&gt;</th><th scope=col>&lt;int&gt;</th><th scope=col>&lt;int&gt;</th><th scope=col>&lt;chr&gt;</th></tr>\n",
              "</thead>\n",
              "<tbody>\n",
              "\t<tr><td>2013</td><td>N14228</td><td>2013</td><td>1</td><td>1</td><td>517</td><td>515</td><td> 2</td><td> 830</td><td> 819</td><td>⋯</td><td>1357034400</td><td>N14228</td><td>1999</td><td>Fixed wing multi engine</td><td>BOEING                       </td><td>737-824    </td><td> 2</td><td>149</td><td>NA</td><td>Turbo-fan</td></tr>\n",
              "\t<tr><td>2013</td><td>N24211</td><td>2013</td><td>1</td><td>1</td><td>533</td><td>529</td><td> 4</td><td> 850</td><td> 830</td><td>⋯</td><td>1357034400</td><td>N24211</td><td>1998</td><td>Fixed wing multi engine</td><td>BOEING                       </td><td>737-824    </td><td> 2</td><td>149</td><td>NA</td><td>Turbo-fan</td></tr>\n",
              "\t<tr><td>2013</td><td>N619AA</td><td>2013</td><td>1</td><td>1</td><td>542</td><td>540</td><td> 2</td><td> 923</td><td> 850</td><td>⋯</td><td>1357034400</td><td>N619AA</td><td>1990</td><td>Fixed wing multi engine</td><td>BOEING                       </td><td>757-223    </td><td> 2</td><td>178</td><td>NA</td><td>Turbo-fan</td></tr>\n",
              "\t<tr><td>2013</td><td>N804JB</td><td>2013</td><td>1</td><td>1</td><td>544</td><td>545</td><td>-1</td><td>1004</td><td>1022</td><td>⋯</td><td>1357034400</td><td>N804JB</td><td>2012</td><td>Fixed wing multi engine</td><td>AIRBUS                       </td><td>A320-232   </td><td> 2</td><td>200</td><td>NA</td><td>Turbo-fan</td></tr>\n",
              "\t<tr><td>2013</td><td>N668DN</td><td>2013</td><td>1</td><td>1</td><td>554</td><td>600</td><td>-6</td><td> 812</td><td> 837</td><td>⋯</td><td>1357038000</td><td>N668DN</td><td>1991</td><td>Fixed wing multi engine</td><td>BOEING                       </td><td>757-232    </td><td> 2</td><td>178</td><td>NA</td><td>Turbo-fan</td></tr>\n",
              "\t<tr><td>2013</td><td>N39463</td><td>2013</td><td>1</td><td>1</td><td>554</td><td>558</td><td>-4</td><td> 740</td><td> 728</td><td>⋯</td><td>1357034400</td><td>N39463</td><td>2012</td><td>Fixed wing multi engine</td><td>BOEING                       </td><td>737-924ER  </td><td> 2</td><td>191</td><td>NA</td><td>Turbo-fan</td></tr>\n",
              "\t<tr><td>2013</td><td>N516JB</td><td>2013</td><td>1</td><td>1</td><td>555</td><td>600</td><td>-5</td><td> 913</td><td> 854</td><td>⋯</td><td>1357038000</td><td>N516JB</td><td>2000</td><td>Fixed wing multi engine</td><td>AIRBUS INDUSTRIE             </td><td>A320-232   </td><td> 2</td><td>200</td><td>NA</td><td>Turbo-fan</td></tr>\n",
              "\t<tr><td>2013</td><td>N829AS</td><td>2013</td><td>1</td><td>1</td><td>557</td><td>600</td><td>-3</td><td> 709</td><td> 723</td><td>⋯</td><td>1357038000</td><td>N829AS</td><td>1998</td><td>Fixed wing multi engine</td><td>CANADAIR                     </td><td>CL-600-2B19</td><td> 2</td><td> 55</td><td>NA</td><td>Turbo-fan</td></tr>\n",
              "\t<tr><td>2013</td><td>N593JB</td><td>2013</td><td>1</td><td>1</td><td>557</td><td>600</td><td>-3</td><td> 838</td><td> 846</td><td>⋯</td><td>1357038000</td><td>N593JB</td><td>2004</td><td>Fixed wing multi engine</td><td>AIRBUS                       </td><td>A320-232   </td><td> 2</td><td>200</td><td>NA</td><td>Turbo-fan</td></tr>\n",
              "\t<tr><td>2013</td><td>NA    </td><td>2013</td><td>1</td><td>1</td><td>558</td><td>600</td><td>-2</td><td> 753</td><td> 745</td><td>⋯</td><td>1357038000</td><td>NA    </td><td>  NA</td><td>NA                     </td><td>NA                           </td><td>NA         </td><td>NA</td><td> NA</td><td>NA</td><td>NA       </td></tr>\n",
              "\t<tr><td>2013</td><td>N793JB</td><td>2013</td><td>1</td><td>1</td><td>558</td><td>600</td><td>-2</td><td> 849</td><td> 851</td><td>⋯</td><td>1357038000</td><td>N793JB</td><td>2011</td><td>Fixed wing multi engine</td><td>AIRBUS                       </td><td>A320-232   </td><td> 2</td><td>200</td><td>NA</td><td>Turbo-fan</td></tr>\n",
              "\t<tr><td>2013</td><td>N657JB</td><td>2013</td><td>1</td><td>1</td><td>558</td><td>600</td><td>-2</td><td> 853</td><td> 856</td><td>⋯</td><td>1357038000</td><td>N657JB</td><td>2007</td><td>Fixed wing multi engine</td><td>AIRBUS                       </td><td>A320-232   </td><td> 2</td><td>200</td><td>NA</td><td>Turbo-fan</td></tr>\n",
              "\t<tr><td>2013</td><td>N29129</td><td>2013</td><td>1</td><td>1</td><td>558</td><td>600</td><td>-2</td><td> 924</td><td> 917</td><td>⋯</td><td>1357038000</td><td>N29129</td><td>1998</td><td>Fixed wing multi engine</td><td>BOEING                       </td><td>757-224    </td><td> 2</td><td>178</td><td>NA</td><td>Turbo-jet</td></tr>\n",
              "\t<tr><td>2013</td><td>N53441</td><td>2013</td><td>1</td><td>1</td><td>558</td><td>600</td><td>-2</td><td> 923</td><td> 937</td><td>⋯</td><td>1357038000</td><td>N53441</td><td>  NA</td><td>Fixed wing multi engine</td><td>BOEING                       </td><td>737-924ER  </td><td> 2</td><td>191</td><td>NA</td><td>Turbo-fan</td></tr>\n",
              "\t<tr><td>2013</td><td>NA    </td><td>2013</td><td>1</td><td>1</td><td>559</td><td>600</td><td>-1</td><td> 941</td><td> 910</td><td>⋯</td><td>1357038000</td><td>NA    </td><td>  NA</td><td>NA                     </td><td>NA                           </td><td>NA         </td><td>NA</td><td> NA</td><td>NA</td><td>NA       </td></tr>\n",
              "\t<tr><td>2013</td><td>N708JB</td><td>2013</td><td>1</td><td>1</td><td>559</td><td>559</td><td> 0</td><td> 702</td><td> 706</td><td>⋯</td><td>1357034400</td><td>N708JB</td><td>2008</td><td>Fixed wing multi engine</td><td>AIRBUS                       </td><td>A320-232   </td><td> 2</td><td>200</td><td>NA</td><td>Turbo-fan</td></tr>\n",
              "\t<tr><td>2013</td><td>N76515</td><td>2013</td><td>1</td><td>1</td><td>559</td><td>600</td><td>-1</td><td> 854</td><td> 902</td><td>⋯</td><td>1357038000</td><td>N76515</td><td>2008</td><td>Fixed wing multi engine</td><td>BOEING                       </td><td>737-824    </td><td> 2</td><td>149</td><td>NA</td><td>Turbo-fan</td></tr>\n",
              "\t<tr><td>2013</td><td>N595JB</td><td>2013</td><td>1</td><td>1</td><td>600</td><td>600</td><td> 0</td><td> 851</td><td> 858</td><td>⋯</td><td>1357038000</td><td>N595JB</td><td>2004</td><td>Fixed wing multi engine</td><td>AIRBUS                       </td><td>A320-232   </td><td> 2</td><td>200</td><td>NA</td><td>Turbo-fan</td></tr>\n",
              "\t<tr><td>2013</td><td>NA    </td><td>2013</td><td>1</td><td>1</td><td>600</td><td>600</td><td> 0</td><td> 837</td><td> 825</td><td>⋯</td><td>1357038000</td><td>NA    </td><td>  NA</td><td>NA                     </td><td>NA                           </td><td>NA         </td><td>NA</td><td> NA</td><td>NA</td><td>NA       </td></tr>\n",
              "\t<tr><td>2013</td><td>N644JB</td><td>2013</td><td>1</td><td>1</td><td>601</td><td>600</td><td> 1</td><td> 844</td><td> 850</td><td>⋯</td><td>1357038000</td><td>N644JB</td><td>2006</td><td>Fixed wing multi engine</td><td>AIRBUS                       </td><td>A320-232   </td><td> 2</td><td>200</td><td>NA</td><td>Turbo-fan</td></tr>\n",
              "\t<tr><td>2013</td><td>N971DL</td><td>2013</td><td>1</td><td>1</td><td>602</td><td>610</td><td>-8</td><td> 812</td><td> 820</td><td>⋯</td><td>1357038000</td><td>N971DL</td><td>1991</td><td>Fixed wing multi engine</td><td>MCDONNELL DOUGLAS AIRCRAFT CO</td><td>MD-88      </td><td> 2</td><td>142</td><td>NA</td><td>Turbo-fan</td></tr>\n",
              "\t<tr><td>2013</td><td>NA    </td><td>2013</td><td>1</td><td>1</td><td>602</td><td>605</td><td>-3</td><td> 821</td><td> 805</td><td>⋯</td><td>1357038000</td><td>NA    </td><td>  NA</td><td>NA                     </td><td>NA                           </td><td>NA         </td><td>NA</td><td> NA</td><td>NA</td><td>NA       </td></tr>\n",
              "\t<tr><td>2013</td><td>N633AA</td><td>2013</td><td>1</td><td>1</td><td>606</td><td>610</td><td>-4</td><td> 858</td><td> 910</td><td>⋯</td><td>1357038000</td><td>N633AA</td><td>1990</td><td>Fixed wing multi engine</td><td>BOEING                       </td><td>757-223    </td><td> 2</td><td>178</td><td>NA</td><td>Turbo-fan</td></tr>\n",
              "\t<tr><td>2013</td><td>N3739P</td><td>2013</td><td>1</td><td>1</td><td>606</td><td>610</td><td>-4</td><td> 837</td><td> 845</td><td>⋯</td><td>1357038000</td><td>N3739P</td><td>2000</td><td>Fixed wing multi engine</td><td>BOEING                       </td><td>737-832    </td><td> 2</td><td>189</td><td>NA</td><td>Turbo-jet</td></tr>\n",
              "\t<tr><td>2013</td><td>N53442</td><td>2013</td><td>1</td><td>1</td><td>607</td><td>607</td><td> 0</td><td> 858</td><td> 915</td><td>⋯</td><td>1357038000</td><td>N53442</td><td>2009</td><td>Fixed wing multi engine</td><td>BOEING                       </td><td>737-924ER  </td><td> 2</td><td>191</td><td>NA</td><td>Turbo-fan</td></tr>\n",
              "\t<tr><td>2013</td><td>NA    </td><td>2013</td><td>1</td><td>1</td><td>608</td><td>600</td><td> 8</td><td> 807</td><td> 735</td><td>⋯</td><td>1357038000</td><td>NA    </td><td>  NA</td><td>NA                     </td><td>NA                           </td><td>NA         </td><td>NA</td><td> NA</td><td>NA</td><td>NA       </td></tr>\n",
              "\t<tr><td>2013</td><td>NA    </td><td>2013</td><td>1</td><td>1</td><td>611</td><td>600</td><td>11</td><td> 945</td><td> 931</td><td>⋯</td><td>1357038000</td><td>NA    </td><td>  NA</td><td>NA                     </td><td>NA                           </td><td>NA         </td><td>NA</td><td> NA</td><td>NA</td><td>NA       </td></tr>\n",
              "\t<tr><td>2013</td><td>N635JB</td><td>2013</td><td>1</td><td>1</td><td>613</td><td>610</td><td> 3</td><td> 925</td><td> 921</td><td>⋯</td><td>1357038000</td><td>N635JB</td><td>2006</td><td>Fixed wing multi engine</td><td>AIRBUS                       </td><td>A320-232   </td><td> 2</td><td>200</td><td>NA</td><td>Turbo-fan</td></tr>\n",
              "\t<tr><td>2013</td><td>N794JB</td><td>2013</td><td>1</td><td>1</td><td>615</td><td>615</td><td> 0</td><td>1039</td><td>1100</td><td>⋯</td><td>1357038000</td><td>N794JB</td><td>2011</td><td>Fixed wing multi engine</td><td>AIRBUS                       </td><td>A320-232   </td><td> 2</td><td>200</td><td>NA</td><td>Turbo-fan</td></tr>\n",
              "\t<tr><td>2013</td><td>N326NB</td><td>2013</td><td>1</td><td>1</td><td>615</td><td>615</td><td> 0</td><td> 833</td><td> 842</td><td>⋯</td><td>1357038000</td><td>N326NB</td><td>2001</td><td>Fixed wing multi engine</td><td>AIRBUS INDUSTRIE             </td><td>A319-114   </td><td> 2</td><td>145</td><td>NA</td><td>Turbo-fan</td></tr>\n",
              "\t<tr><td>⋮</td><td>⋮</td><td>⋮</td><td>⋮</td><td>⋮</td><td>⋮</td><td>⋮</td><td>⋮</td><td>⋮</td><td>⋮</td><td>⋱</td><td>⋮</td><td>⋮</td><td>⋮</td><td>⋮</td><td>⋮</td><td>⋮</td><td>⋮</td><td>⋮</td><td>⋮</td><td>⋮</td></tr>\n",
              "\t<tr><td>2013</td><td>N712EV</td><td>2013</td><td>9</td><td>30</td><td>2123</td><td>2125</td><td> -2</td><td>2223</td><td>2247</td><td>⋯</td><td>1380589200</td><td>N712EV</td><td>2002</td><td>Fixed wing multi engine</td><td>BOMBARDIER INC  </td><td>CL-600-2C10    </td><td> 2</td><td> 80</td><td>NA</td><td>Turbo-fan</td></tr>\n",
              "\t<tr><td>2013</td><td>N16546</td><td>2013</td><td>9</td><td>30</td><td>2127</td><td>2129</td><td> -2</td><td>2314</td><td>2323</td><td>⋯</td><td>1380589200</td><td>N16546</td><td>2002</td><td>Fixed wing multi engine</td><td>EMBRAER         </td><td>EMB-145LR      </td><td> 2</td><td> 55</td><td>NA</td><td>Turbo-fan</td></tr>\n",
              "\t<tr><td>2013</td><td>N807JB</td><td>2013</td><td>9</td><td>30</td><td>2128</td><td>2130</td><td> -2</td><td>2328</td><td>2359</td><td>⋯</td><td>1380589200</td><td>N807JB</td><td>2012</td><td>Fixed wing multi engine</td><td>AIRBUS          </td><td>A320-232       </td><td> 2</td><td>200</td><td>NA</td><td>Turbo-fan</td></tr>\n",
              "\t<tr><td>2013</td><td>N751EV</td><td>2013</td><td>9</td><td>30</td><td>2129</td><td>2059</td><td> 30</td><td>2230</td><td>2232</td><td>⋯</td><td>1380585600</td><td>N751EV</td><td>2004</td><td>Fixed wing multi engine</td><td>BOMBARDIER INC  </td><td>CL-600-2C10    </td><td> 2</td><td> 80</td><td>NA</td><td>Turbo-fan</td></tr>\n",
              "\t<tr><td>2013</td><td>NA    </td><td>2013</td><td>9</td><td>30</td><td>2131</td><td>2140</td><td> -9</td><td>2225</td><td>2255</td><td>⋯</td><td>1380589200</td><td>NA    </td><td>  NA</td><td>NA                     </td><td>NA              </td><td>NA             </td><td>NA</td><td> NA</td><td>NA</td><td>NA       </td></tr>\n",
              "\t<tr><td>2013</td><td>N335AA</td><td>2013</td><td>9</td><td>30</td><td>2140</td><td>2140</td><td>  0</td><td>  10</td><td>  40</td><td>⋯</td><td>1380589200</td><td>N335AA</td><td>1987</td><td>Fixed wing multi engine</td><td>BOEING          </td><td>767-223        </td><td> 2</td><td>255</td><td>NA</td><td>Turbo-fan</td></tr>\n",
              "\t<tr><td>2013</td><td>N12957</td><td>2013</td><td>9</td><td>30</td><td>2142</td><td>2129</td><td> 13</td><td>2250</td><td>2239</td><td>⋯</td><td>1380589200</td><td>N12957</td><td>1998</td><td>Fixed wing multi engine</td><td>EMBRAER         </td><td>EMB-145LR      </td><td> 2</td><td> 55</td><td>NA</td><td>Turbo-fan</td></tr>\n",
              "\t<tr><td>2013</td><td>N633JB</td><td>2013</td><td>9</td><td>30</td><td>2145</td><td>2145</td><td>  0</td><td> 115</td><td> 140</td><td>⋯</td><td>1380589200</td><td>N633JB</td><td>2006</td><td>Fixed wing multi engine</td><td>AIRBUS          </td><td>A320-232       </td><td> 2</td><td>200</td><td>NA</td><td>Turbo-fan</td></tr>\n",
              "\t<tr><td>2013</td><td>N627JB</td><td>2013</td><td>9</td><td>30</td><td>2147</td><td>2137</td><td> 10</td><td>  30</td><td>  27</td><td>⋯</td><td>1380589200</td><td>N627JB</td><td>2005</td><td>Fixed wing multi engine</td><td>AIRBUS          </td><td>A320-232       </td><td> 2</td><td>200</td><td>NA</td><td>Turbo-fan</td></tr>\n",
              "\t<tr><td>2013</td><td>N813UA</td><td>2013</td><td>9</td><td>30</td><td>2149</td><td>2156</td><td> -7</td><td>2245</td><td>2308</td><td>⋯</td><td>1380589200</td><td>N813UA</td><td>1998</td><td>Fixed wing multi engine</td><td>AIRBUS INDUSTRIE</td><td>A319-131       </td><td> 2</td><td>179</td><td>NA</td><td>Turbo-jet</td></tr>\n",
              "\t<tr><td>2013</td><td>N10575</td><td>2013</td><td>9</td><td>30</td><td>2150</td><td>2159</td><td> -9</td><td>2250</td><td>2306</td><td>⋯</td><td>1380589200</td><td>N10575</td><td>2002</td><td>Fixed wing multi engine</td><td>EMBRAER         </td><td>EMB-145LR      </td><td> 2</td><td> 55</td><td>NA</td><td>Turbo-fan</td></tr>\n",
              "\t<tr><td>2013</td><td>N906XJ</td><td>2013</td><td>9</td><td>30</td><td>2159</td><td>1845</td><td>194</td><td>2344</td><td>2030</td><td>⋯</td><td>1380578400</td><td>N906XJ</td><td>2007</td><td>Fixed wing multi engine</td><td>BOMBARDIER INC  </td><td>CL-600-2D24    </td><td> 2</td><td> 95</td><td>NA</td><td>Turbo-fan</td></tr>\n",
              "\t<tr><td>2013</td><td>N722EV</td><td>2013</td><td>9</td><td>30</td><td>2203</td><td>2205</td><td> -2</td><td>2339</td><td>2331</td><td>⋯</td><td>1380592800</td><td>N722EV</td><td>2003</td><td>Fixed wing multi engine</td><td>BOMBARDIER INC  </td><td>CL-600-2C10    </td><td> 2</td><td> 80</td><td>NA</td><td>Turbo-fan</td></tr>\n",
              "\t<tr><td>2013</td><td>NA    </td><td>2013</td><td>9</td><td>30</td><td>2207</td><td>2140</td><td> 27</td><td>2257</td><td>2250</td><td>⋯</td><td>1380589200</td><td>NA    </td><td>  NA</td><td>NA                     </td><td>NA              </td><td>NA             </td><td>NA</td><td> NA</td><td>NA</td><td>NA       </td></tr>\n",
              "\t<tr><td>2013</td><td>N12145</td><td>2013</td><td>9</td><td>30</td><td>2211</td><td>2059</td><td> 72</td><td>2339</td><td>2242</td><td>⋯</td><td>1380585600</td><td>N12145</td><td>2003</td><td>Fixed wing multi engine</td><td>EMBRAER         </td><td>EMB-145XR      </td><td> 2</td><td> 55</td><td>NA</td><td>Turbo-fan</td></tr>\n",
              "\t<tr><td>2013</td><td>N193JB</td><td>2013</td><td>9</td><td>30</td><td>2231</td><td>2245</td><td>-14</td><td>2335</td><td>2356</td><td>⋯</td><td>1380592800</td><td>N193JB</td><td>2005</td><td>Fixed wing multi engine</td><td>EMBRAER         </td><td>ERJ 190-100 IGW</td><td> 2</td><td> 20</td><td>NA</td><td>Turbo-fan</td></tr>\n",
              "\t<tr><td>2013</td><td>N578UA</td><td>2013</td><td>9</td><td>30</td><td>2233</td><td>2113</td><td> 80</td><td> 112</td><td>  30</td><td>⋯</td><td>1380589200</td><td>N578UA</td><td>1993</td><td>Fixed wing multi engine</td><td>BOEING          </td><td>757-222        </td><td> 2</td><td>178</td><td>NA</td><td>Turbo-jet</td></tr>\n",
              "\t<tr><td>2013</td><td>N804JB</td><td>2013</td><td>9</td><td>30</td><td>2235</td><td>2001</td><td>154</td><td>  59</td><td>2249</td><td>⋯</td><td>1380585600</td><td>N804JB</td><td>2012</td><td>Fixed wing multi engine</td><td>AIRBUS          </td><td>A320-232       </td><td> 2</td><td>200</td><td>NA</td><td>Turbo-fan</td></tr>\n",
              "\t<tr><td>2013</td><td>N318JB</td><td>2013</td><td>9</td><td>30</td><td>2237</td><td>2245</td><td> -8</td><td>2345</td><td>2353</td><td>⋯</td><td>1380592800</td><td>N318JB</td><td>2010</td><td>Fixed wing multi engine</td><td>EMBRAER         </td><td>ERJ 190-100 IGW</td><td> 2</td><td> 20</td><td>NA</td><td>Turbo-fan</td></tr>\n",
              "\t<tr><td>2013</td><td>N354JB</td><td>2013</td><td>9</td><td>30</td><td>2240</td><td>2245</td><td> -5</td><td>2334</td><td>2351</td><td>⋯</td><td>1380592800</td><td>N354JB</td><td>2013</td><td>Fixed wing multi engine</td><td>EMBRAER         </td><td>ERJ 190-100 IGW</td><td> 2</td><td> 20</td><td>NA</td><td>Turbo-fan</td></tr>\n",
              "\t<tr><td>2013</td><td>N281JB</td><td>2013</td><td>9</td><td>30</td><td>2240</td><td>2250</td><td>-10</td><td>2347</td><td>   7</td><td>⋯</td><td>1380592800</td><td>N281JB</td><td>2007</td><td>Fixed wing multi engine</td><td>EMBRAER         </td><td>ERJ 190-100 IGW</td><td> 2</td><td> 20</td><td>NA</td><td>Turbo-fan</td></tr>\n",
              "\t<tr><td>2013</td><td>N346JB</td><td>2013</td><td>9</td><td>30</td><td>2241</td><td>2246</td><td> -5</td><td>2345</td><td>   1</td><td>⋯</td><td>1380592800</td><td>N346JB</td><td>2011</td><td>Fixed wing multi engine</td><td>EMBRAER         </td><td>ERJ 190-100 IGW</td><td> 2</td><td> 20</td><td>NA</td><td>Turbo-fan</td></tr>\n",
              "\t<tr><td>2013</td><td>N565JB</td><td>2013</td><td>9</td><td>30</td><td>2307</td><td>2255</td><td> 12</td><td>2359</td><td>2358</td><td>⋯</td><td>1380592800</td><td>N565JB</td><td>2003</td><td>Fixed wing multi engine</td><td>AIRBUS          </td><td>A320-232       </td><td> 2</td><td>200</td><td>NA</td><td>Turbo-fan</td></tr>\n",
              "\t<tr><td>2013</td><td>N516JB</td><td>2013</td><td>9</td><td>30</td><td>2349</td><td>2359</td><td>-10</td><td> 325</td><td> 350</td><td>⋯</td><td>1380596400</td><td>N516JB</td><td>2000</td><td>Fixed wing multi engine</td><td>AIRBUS INDUSTRIE</td><td>A320-232       </td><td> 2</td><td>200</td><td>NA</td><td>Turbo-fan</td></tr>\n",
              "\t<tr><td>2013</td><td>N740EV</td><td>2013</td><td>9</td><td>30</td><td>  NA</td><td>1842</td><td> NA</td><td>  NA</td><td>2019</td><td>⋯</td><td>1380578400</td><td>N740EV</td><td>2004</td><td>Fixed wing multi engine</td><td>BOMBARDIER INC  </td><td>CL-600-2C10    </td><td> 2</td><td> 80</td><td>NA</td><td>Turbo-fan</td></tr>\n",
              "\t<tr><td>2013</td><td>NA    </td><td>2013</td><td>9</td><td>30</td><td>  NA</td><td>1455</td><td> NA</td><td>  NA</td><td>1634</td><td>⋯</td><td>1380564000</td><td>NA    </td><td>  NA</td><td>NA                     </td><td>NA              </td><td>NA             </td><td>NA</td><td> NA</td><td>NA</td><td>NA       </td></tr>\n",
              "\t<tr><td>2013</td><td>NA    </td><td>2013</td><td>9</td><td>30</td><td>  NA</td><td>2200</td><td> NA</td><td>  NA</td><td>2312</td><td>⋯</td><td>1380592800</td><td>NA    </td><td>  NA</td><td>NA                     </td><td>NA              </td><td>NA             </td><td>NA</td><td> NA</td><td>NA</td><td>NA       </td></tr>\n",
              "\t<tr><td>2013</td><td>NA    </td><td>2013</td><td>9</td><td>30</td><td>  NA</td><td>1210</td><td> NA</td><td>  NA</td><td>1330</td><td>⋯</td><td>1380556800</td><td>NA    </td><td>  NA</td><td>NA                     </td><td>NA              </td><td>NA             </td><td>NA</td><td> NA</td><td>NA</td><td>NA       </td></tr>\n",
              "\t<tr><td>2013</td><td>NA    </td><td>2013</td><td>9</td><td>30</td><td>  NA</td><td>1159</td><td> NA</td><td>  NA</td><td>1344</td><td>⋯</td><td>1380553200</td><td>NA    </td><td>  NA</td><td>NA                     </td><td>NA              </td><td>NA             </td><td>NA</td><td> NA</td><td>NA</td><td>NA       </td></tr>\n",
              "\t<tr><td>2013</td><td>NA    </td><td>2013</td><td>9</td><td>30</td><td>  NA</td><td> 840</td><td> NA</td><td>  NA</td><td>1020</td><td>⋯</td><td>1380542400</td><td>NA    </td><td>  NA</td><td>NA                     </td><td>NA              </td><td>NA             </td><td>NA</td><td> NA</td><td>NA</td><td>NA       </td></tr>\n",
              "</tbody>\n",
              "</table>\n"
            ],
            "text/markdown": "\nA data.frame: 336776 × 30\n\n| year &lt;int&gt; | flightyr &lt;chr&gt; | year.1 &lt;int&gt; | month &lt;int&gt; | day &lt;int&gt; | dep_time &lt;int&gt; | sched_dep_time &lt;int&gt; | dep_delay &lt;dbl&gt; | arr_time &lt;int&gt; | sched_arr_time &lt;int&gt; | ⋯ ⋯ | time_hour &lt;dbl&gt; | tailnum &lt;chr&gt; | year &lt;int&gt; | type &lt;chr&gt; | manufacturer &lt;chr&gt; | model &lt;chr&gt; | engines &lt;int&gt; | seats &lt;int&gt; | speed &lt;int&gt; | engine &lt;chr&gt; |\n|---|---|---|---|---|---|---|---|---|---|---|---|---|---|---|---|---|---|---|---|---|\n| 2013 | N14228 | 2013 | 1 | 1 | 517 | 515 |  2 |  830 |  819 | ⋯ | 1357034400 | N14228 | 1999 | Fixed wing multi engine | BOEING                        | 737-824     |  2 | 149 | NA | Turbo-fan |\n| 2013 | N24211 | 2013 | 1 | 1 | 533 | 529 |  4 |  850 |  830 | ⋯ | 1357034400 | N24211 | 1998 | Fixed wing multi engine | BOEING                        | 737-824     |  2 | 149 | NA | Turbo-fan |\n| 2013 | N619AA | 2013 | 1 | 1 | 542 | 540 |  2 |  923 |  850 | ⋯ | 1357034400 | N619AA | 1990 | Fixed wing multi engine | BOEING                        | 757-223     |  2 | 178 | NA | Turbo-fan |\n| 2013 | N804JB | 2013 | 1 | 1 | 544 | 545 | -1 | 1004 | 1022 | ⋯ | 1357034400 | N804JB | 2012 | Fixed wing multi engine | AIRBUS                        | A320-232    |  2 | 200 | NA | Turbo-fan |\n| 2013 | N668DN | 2013 | 1 | 1 | 554 | 600 | -6 |  812 |  837 | ⋯ | 1357038000 | N668DN | 1991 | Fixed wing multi engine | BOEING                        | 757-232     |  2 | 178 | NA | Turbo-fan |\n| 2013 | N39463 | 2013 | 1 | 1 | 554 | 558 | -4 |  740 |  728 | ⋯ | 1357034400 | N39463 | 2012 | Fixed wing multi engine | BOEING                        | 737-924ER   |  2 | 191 | NA | Turbo-fan |\n| 2013 | N516JB | 2013 | 1 | 1 | 555 | 600 | -5 |  913 |  854 | ⋯ | 1357038000 | N516JB | 2000 | Fixed wing multi engine | AIRBUS INDUSTRIE              | A320-232    |  2 | 200 | NA | Turbo-fan |\n| 2013 | N829AS | 2013 | 1 | 1 | 557 | 600 | -3 |  709 |  723 | ⋯ | 1357038000 | N829AS | 1998 | Fixed wing multi engine | CANADAIR                      | CL-600-2B19 |  2 |  55 | NA | Turbo-fan |\n| 2013 | N593JB | 2013 | 1 | 1 | 557 | 600 | -3 |  838 |  846 | ⋯ | 1357038000 | N593JB | 2004 | Fixed wing multi engine | AIRBUS                        | A320-232    |  2 | 200 | NA | Turbo-fan |\n| 2013 | NA     | 2013 | 1 | 1 | 558 | 600 | -2 |  753 |  745 | ⋯ | 1357038000 | NA     |   NA | NA                      | NA                            | NA          | NA |  NA | NA | NA        |\n| 2013 | N793JB | 2013 | 1 | 1 | 558 | 600 | -2 |  849 |  851 | ⋯ | 1357038000 | N793JB | 2011 | Fixed wing multi engine | AIRBUS                        | A320-232    |  2 | 200 | NA | Turbo-fan |\n| 2013 | N657JB | 2013 | 1 | 1 | 558 | 600 | -2 |  853 |  856 | ⋯ | 1357038000 | N657JB | 2007 | Fixed wing multi engine | AIRBUS                        | A320-232    |  2 | 200 | NA | Turbo-fan |\n| 2013 | N29129 | 2013 | 1 | 1 | 558 | 600 | -2 |  924 |  917 | ⋯ | 1357038000 | N29129 | 1998 | Fixed wing multi engine | BOEING                        | 757-224     |  2 | 178 | NA | Turbo-jet |\n| 2013 | N53441 | 2013 | 1 | 1 | 558 | 600 | -2 |  923 |  937 | ⋯ | 1357038000 | N53441 |   NA | Fixed wing multi engine | BOEING                        | 737-924ER   |  2 | 191 | NA | Turbo-fan |\n| 2013 | NA     | 2013 | 1 | 1 | 559 | 600 | -1 |  941 |  910 | ⋯ | 1357038000 | NA     |   NA | NA                      | NA                            | NA          | NA |  NA | NA | NA        |\n| 2013 | N708JB | 2013 | 1 | 1 | 559 | 559 |  0 |  702 |  706 | ⋯ | 1357034400 | N708JB | 2008 | Fixed wing multi engine | AIRBUS                        | A320-232    |  2 | 200 | NA | Turbo-fan |\n| 2013 | N76515 | 2013 | 1 | 1 | 559 | 600 | -1 |  854 |  902 | ⋯ | 1357038000 | N76515 | 2008 | Fixed wing multi engine | BOEING                        | 737-824     |  2 | 149 | NA | Turbo-fan |\n| 2013 | N595JB | 2013 | 1 | 1 | 600 | 600 |  0 |  851 |  858 | ⋯ | 1357038000 | N595JB | 2004 | Fixed wing multi engine | AIRBUS                        | A320-232    |  2 | 200 | NA | Turbo-fan |\n| 2013 | NA     | 2013 | 1 | 1 | 600 | 600 |  0 |  837 |  825 | ⋯ | 1357038000 | NA     |   NA | NA                      | NA                            | NA          | NA |  NA | NA | NA        |\n| 2013 | N644JB | 2013 | 1 | 1 | 601 | 600 |  1 |  844 |  850 | ⋯ | 1357038000 | N644JB | 2006 | Fixed wing multi engine | AIRBUS                        | A320-232    |  2 | 200 | NA | Turbo-fan |\n| 2013 | N971DL | 2013 | 1 | 1 | 602 | 610 | -8 |  812 |  820 | ⋯ | 1357038000 | N971DL | 1991 | Fixed wing multi engine | MCDONNELL DOUGLAS AIRCRAFT CO | MD-88       |  2 | 142 | NA | Turbo-fan |\n| 2013 | NA     | 2013 | 1 | 1 | 602 | 605 | -3 |  821 |  805 | ⋯ | 1357038000 | NA     |   NA | NA                      | NA                            | NA          | NA |  NA | NA | NA        |\n| 2013 | N633AA | 2013 | 1 | 1 | 606 | 610 | -4 |  858 |  910 | ⋯ | 1357038000 | N633AA | 1990 | Fixed wing multi engine | BOEING                        | 757-223     |  2 | 178 | NA | Turbo-fan |\n| 2013 | N3739P | 2013 | 1 | 1 | 606 | 610 | -4 |  837 |  845 | ⋯ | 1357038000 | N3739P | 2000 | Fixed wing multi engine | BOEING                        | 737-832     |  2 | 189 | NA | Turbo-jet |\n| 2013 | N53442 | 2013 | 1 | 1 | 607 | 607 |  0 |  858 |  915 | ⋯ | 1357038000 | N53442 | 2009 | Fixed wing multi engine | BOEING                        | 737-924ER   |  2 | 191 | NA | Turbo-fan |\n| 2013 | NA     | 2013 | 1 | 1 | 608 | 600 |  8 |  807 |  735 | ⋯ | 1357038000 | NA     |   NA | NA                      | NA                            | NA          | NA |  NA | NA | NA        |\n| 2013 | NA     | 2013 | 1 | 1 | 611 | 600 | 11 |  945 |  931 | ⋯ | 1357038000 | NA     |   NA | NA                      | NA                            | NA          | NA |  NA | NA | NA        |\n| 2013 | N635JB | 2013 | 1 | 1 | 613 | 610 |  3 |  925 |  921 | ⋯ | 1357038000 | N635JB | 2006 | Fixed wing multi engine | AIRBUS                        | A320-232    |  2 | 200 | NA | Turbo-fan |\n| 2013 | N794JB | 2013 | 1 | 1 | 615 | 615 |  0 | 1039 | 1100 | ⋯ | 1357038000 | N794JB | 2011 | Fixed wing multi engine | AIRBUS                        | A320-232    |  2 | 200 | NA | Turbo-fan |\n| 2013 | N326NB | 2013 | 1 | 1 | 615 | 615 |  0 |  833 |  842 | ⋯ | 1357038000 | N326NB | 2001 | Fixed wing multi engine | AIRBUS INDUSTRIE              | A319-114    |  2 | 145 | NA | Turbo-fan |\n| ⋮ | ⋮ | ⋮ | ⋮ | ⋮ | ⋮ | ⋮ | ⋮ | ⋮ | ⋮ | ⋱ | ⋮ | ⋮ | ⋮ | ⋮ | ⋮ | ⋮ | ⋮ | ⋮ | ⋮ | ⋮ |\n| 2013 | N712EV | 2013 | 9 | 30 | 2123 | 2125 |  -2 | 2223 | 2247 | ⋯ | 1380589200 | N712EV | 2002 | Fixed wing multi engine | BOMBARDIER INC   | CL-600-2C10     |  2 |  80 | NA | Turbo-fan |\n| 2013 | N16546 | 2013 | 9 | 30 | 2127 | 2129 |  -2 | 2314 | 2323 | ⋯ | 1380589200 | N16546 | 2002 | Fixed wing multi engine | EMBRAER          | EMB-145LR       |  2 |  55 | NA | Turbo-fan |\n| 2013 | N807JB | 2013 | 9 | 30 | 2128 | 2130 |  -2 | 2328 | 2359 | ⋯ | 1380589200 | N807JB | 2012 | Fixed wing multi engine | AIRBUS           | A320-232        |  2 | 200 | NA | Turbo-fan |\n| 2013 | N751EV | 2013 | 9 | 30 | 2129 | 2059 |  30 | 2230 | 2232 | ⋯ | 1380585600 | N751EV | 2004 | Fixed wing multi engine | BOMBARDIER INC   | CL-600-2C10     |  2 |  80 | NA | Turbo-fan |\n| 2013 | NA     | 2013 | 9 | 30 | 2131 | 2140 |  -9 | 2225 | 2255 | ⋯ | 1380589200 | NA     |   NA | NA                      | NA               | NA              | NA |  NA | NA | NA        |\n| 2013 | N335AA | 2013 | 9 | 30 | 2140 | 2140 |   0 |   10 |   40 | ⋯ | 1380589200 | N335AA | 1987 | Fixed wing multi engine | BOEING           | 767-223         |  2 | 255 | NA | Turbo-fan |\n| 2013 | N12957 | 2013 | 9 | 30 | 2142 | 2129 |  13 | 2250 | 2239 | ⋯ | 1380589200 | N12957 | 1998 | Fixed wing multi engine | EMBRAER          | EMB-145LR       |  2 |  55 | NA | Turbo-fan |\n| 2013 | N633JB | 2013 | 9 | 30 | 2145 | 2145 |   0 |  115 |  140 | ⋯ | 1380589200 | N633JB | 2006 | Fixed wing multi engine | AIRBUS           | A320-232        |  2 | 200 | NA | Turbo-fan |\n| 2013 | N627JB | 2013 | 9 | 30 | 2147 | 2137 |  10 |   30 |   27 | ⋯ | 1380589200 | N627JB | 2005 | Fixed wing multi engine | AIRBUS           | A320-232        |  2 | 200 | NA | Turbo-fan |\n| 2013 | N813UA | 2013 | 9 | 30 | 2149 | 2156 |  -7 | 2245 | 2308 | ⋯ | 1380589200 | N813UA | 1998 | Fixed wing multi engine | AIRBUS INDUSTRIE | A319-131        |  2 | 179 | NA | Turbo-jet |\n| 2013 | N10575 | 2013 | 9 | 30 | 2150 | 2159 |  -9 | 2250 | 2306 | ⋯ | 1380589200 | N10575 | 2002 | Fixed wing multi engine | EMBRAER          | EMB-145LR       |  2 |  55 | NA | Turbo-fan |\n| 2013 | N906XJ | 2013 | 9 | 30 | 2159 | 1845 | 194 | 2344 | 2030 | ⋯ | 1380578400 | N906XJ | 2007 | Fixed wing multi engine | BOMBARDIER INC   | CL-600-2D24     |  2 |  95 | NA | Turbo-fan |\n| 2013 | N722EV | 2013 | 9 | 30 | 2203 | 2205 |  -2 | 2339 | 2331 | ⋯ | 1380592800 | N722EV | 2003 | Fixed wing multi engine | BOMBARDIER INC   | CL-600-2C10     |  2 |  80 | NA | Turbo-fan |\n| 2013 | NA     | 2013 | 9 | 30 | 2207 | 2140 |  27 | 2257 | 2250 | ⋯ | 1380589200 | NA     |   NA | NA                      | NA               | NA              | NA |  NA | NA | NA        |\n| 2013 | N12145 | 2013 | 9 | 30 | 2211 | 2059 |  72 | 2339 | 2242 | ⋯ | 1380585600 | N12145 | 2003 | Fixed wing multi engine | EMBRAER          | EMB-145XR       |  2 |  55 | NA | Turbo-fan |\n| 2013 | N193JB | 2013 | 9 | 30 | 2231 | 2245 | -14 | 2335 | 2356 | ⋯ | 1380592800 | N193JB | 2005 | Fixed wing multi engine | EMBRAER          | ERJ 190-100 IGW |  2 |  20 | NA | Turbo-fan |\n| 2013 | N578UA | 2013 | 9 | 30 | 2233 | 2113 |  80 |  112 |   30 | ⋯ | 1380589200 | N578UA | 1993 | Fixed wing multi engine | BOEING           | 757-222         |  2 | 178 | NA | Turbo-jet |\n| 2013 | N804JB | 2013 | 9 | 30 | 2235 | 2001 | 154 |   59 | 2249 | ⋯ | 1380585600 | N804JB | 2012 | Fixed wing multi engine | AIRBUS           | A320-232        |  2 | 200 | NA | Turbo-fan |\n| 2013 | N318JB | 2013 | 9 | 30 | 2237 | 2245 |  -8 | 2345 | 2353 | ⋯ | 1380592800 | N318JB | 2010 | Fixed wing multi engine | EMBRAER          | ERJ 190-100 IGW |  2 |  20 | NA | Turbo-fan |\n| 2013 | N354JB | 2013 | 9 | 30 | 2240 | 2245 |  -5 | 2334 | 2351 | ⋯ | 1380592800 | N354JB | 2013 | Fixed wing multi engine | EMBRAER          | ERJ 190-100 IGW |  2 |  20 | NA | Turbo-fan |\n| 2013 | N281JB | 2013 | 9 | 30 | 2240 | 2250 | -10 | 2347 |    7 | ⋯ | 1380592800 | N281JB | 2007 | Fixed wing multi engine | EMBRAER          | ERJ 190-100 IGW |  2 |  20 | NA | Turbo-fan |\n| 2013 | N346JB | 2013 | 9 | 30 | 2241 | 2246 |  -5 | 2345 |    1 | ⋯ | 1380592800 | N346JB | 2011 | Fixed wing multi engine | EMBRAER          | ERJ 190-100 IGW |  2 |  20 | NA | Turbo-fan |\n| 2013 | N565JB | 2013 | 9 | 30 | 2307 | 2255 |  12 | 2359 | 2358 | ⋯ | 1380592800 | N565JB | 2003 | Fixed wing multi engine | AIRBUS           | A320-232        |  2 | 200 | NA | Turbo-fan |\n| 2013 | N516JB | 2013 | 9 | 30 | 2349 | 2359 | -10 |  325 |  350 | ⋯ | 1380596400 | N516JB | 2000 | Fixed wing multi engine | AIRBUS INDUSTRIE | A320-232        |  2 | 200 | NA | Turbo-fan |\n| 2013 | N740EV | 2013 | 9 | 30 |   NA | 1842 |  NA |   NA | 2019 | ⋯ | 1380578400 | N740EV | 2004 | Fixed wing multi engine | BOMBARDIER INC   | CL-600-2C10     |  2 |  80 | NA | Turbo-fan |\n| 2013 | NA     | 2013 | 9 | 30 |   NA | 1455 |  NA |   NA | 1634 | ⋯ | 1380564000 | NA     |   NA | NA                      | NA               | NA              | NA |  NA | NA | NA        |\n| 2013 | NA     | 2013 | 9 | 30 |   NA | 2200 |  NA |   NA | 2312 | ⋯ | 1380592800 | NA     |   NA | NA                      | NA               | NA              | NA |  NA | NA | NA        |\n| 2013 | NA     | 2013 | 9 | 30 |   NA | 1210 |  NA |   NA | 1330 | ⋯ | 1380556800 | NA     |   NA | NA                      | NA               | NA              | NA |  NA | NA | NA        |\n| 2013 | NA     | 2013 | 9 | 30 |   NA | 1159 |  NA |   NA | 1344 | ⋯ | 1380553200 | NA     |   NA | NA                      | NA               | NA              | NA |  NA | NA | NA        |\n| 2013 | NA     | 2013 | 9 | 30 |   NA |  840 |  NA |   NA | 1020 | ⋯ | 1380542400 | NA     |   NA | NA                      | NA               | NA              | NA |  NA | NA | NA        |\n\n",
            "text/latex": "A data.frame: 336776 × 30\n\\begin{tabular}{lllllllllllllllllllll}\n year & flightyr & year.1 & month & day & dep\\_time & sched\\_dep\\_time & dep\\_delay & arr\\_time & sched\\_arr\\_time & ⋯ & time\\_hour & tailnum & year & type & manufacturer & model & engines & seats & speed & engine\\\\\n <int> & <chr> & <int> & <int> & <int> & <int> & <int> & <dbl> & <int> & <int> & ⋯ & <dbl> & <chr> & <int> & <chr> & <chr> & <chr> & <int> & <int> & <int> & <chr>\\\\\n\\hline\n\t 2013 & N14228 & 2013 & 1 & 1 & 517 & 515 &  2 &  830 &  819 & ⋯ & 1357034400 & N14228 & 1999 & Fixed wing multi engine & BOEING                        & 737-824     &  2 & 149 & NA & Turbo-fan\\\\\n\t 2013 & N24211 & 2013 & 1 & 1 & 533 & 529 &  4 &  850 &  830 & ⋯ & 1357034400 & N24211 & 1998 & Fixed wing multi engine & BOEING                        & 737-824     &  2 & 149 & NA & Turbo-fan\\\\\n\t 2013 & N619AA & 2013 & 1 & 1 & 542 & 540 &  2 &  923 &  850 & ⋯ & 1357034400 & N619AA & 1990 & Fixed wing multi engine & BOEING                        & 757-223     &  2 & 178 & NA & Turbo-fan\\\\\n\t 2013 & N804JB & 2013 & 1 & 1 & 544 & 545 & -1 & 1004 & 1022 & ⋯ & 1357034400 & N804JB & 2012 & Fixed wing multi engine & AIRBUS                        & A320-232    &  2 & 200 & NA & Turbo-fan\\\\\n\t 2013 & N668DN & 2013 & 1 & 1 & 554 & 600 & -6 &  812 &  837 & ⋯ & 1357038000 & N668DN & 1991 & Fixed wing multi engine & BOEING                        & 757-232     &  2 & 178 & NA & Turbo-fan\\\\\n\t 2013 & N39463 & 2013 & 1 & 1 & 554 & 558 & -4 &  740 &  728 & ⋯ & 1357034400 & N39463 & 2012 & Fixed wing multi engine & BOEING                        & 737-924ER   &  2 & 191 & NA & Turbo-fan\\\\\n\t 2013 & N516JB & 2013 & 1 & 1 & 555 & 600 & -5 &  913 &  854 & ⋯ & 1357038000 & N516JB & 2000 & Fixed wing multi engine & AIRBUS INDUSTRIE              & A320-232    &  2 & 200 & NA & Turbo-fan\\\\\n\t 2013 & N829AS & 2013 & 1 & 1 & 557 & 600 & -3 &  709 &  723 & ⋯ & 1357038000 & N829AS & 1998 & Fixed wing multi engine & CANADAIR                      & CL-600-2B19 &  2 &  55 & NA & Turbo-fan\\\\\n\t 2013 & N593JB & 2013 & 1 & 1 & 557 & 600 & -3 &  838 &  846 & ⋯ & 1357038000 & N593JB & 2004 & Fixed wing multi engine & AIRBUS                        & A320-232    &  2 & 200 & NA & Turbo-fan\\\\\n\t 2013 & NA     & 2013 & 1 & 1 & 558 & 600 & -2 &  753 &  745 & ⋯ & 1357038000 & NA     &   NA & NA                      & NA                            & NA          & NA &  NA & NA & NA       \\\\\n\t 2013 & N793JB & 2013 & 1 & 1 & 558 & 600 & -2 &  849 &  851 & ⋯ & 1357038000 & N793JB & 2011 & Fixed wing multi engine & AIRBUS                        & A320-232    &  2 & 200 & NA & Turbo-fan\\\\\n\t 2013 & N657JB & 2013 & 1 & 1 & 558 & 600 & -2 &  853 &  856 & ⋯ & 1357038000 & N657JB & 2007 & Fixed wing multi engine & AIRBUS                        & A320-232    &  2 & 200 & NA & Turbo-fan\\\\\n\t 2013 & N29129 & 2013 & 1 & 1 & 558 & 600 & -2 &  924 &  917 & ⋯ & 1357038000 & N29129 & 1998 & Fixed wing multi engine & BOEING                        & 757-224     &  2 & 178 & NA & Turbo-jet\\\\\n\t 2013 & N53441 & 2013 & 1 & 1 & 558 & 600 & -2 &  923 &  937 & ⋯ & 1357038000 & N53441 &   NA & Fixed wing multi engine & BOEING                        & 737-924ER   &  2 & 191 & NA & Turbo-fan\\\\\n\t 2013 & NA     & 2013 & 1 & 1 & 559 & 600 & -1 &  941 &  910 & ⋯ & 1357038000 & NA     &   NA & NA                      & NA                            & NA          & NA &  NA & NA & NA       \\\\\n\t 2013 & N708JB & 2013 & 1 & 1 & 559 & 559 &  0 &  702 &  706 & ⋯ & 1357034400 & N708JB & 2008 & Fixed wing multi engine & AIRBUS                        & A320-232    &  2 & 200 & NA & Turbo-fan\\\\\n\t 2013 & N76515 & 2013 & 1 & 1 & 559 & 600 & -1 &  854 &  902 & ⋯ & 1357038000 & N76515 & 2008 & Fixed wing multi engine & BOEING                        & 737-824     &  2 & 149 & NA & Turbo-fan\\\\\n\t 2013 & N595JB & 2013 & 1 & 1 & 600 & 600 &  0 &  851 &  858 & ⋯ & 1357038000 & N595JB & 2004 & Fixed wing multi engine & AIRBUS                        & A320-232    &  2 & 200 & NA & Turbo-fan\\\\\n\t 2013 & NA     & 2013 & 1 & 1 & 600 & 600 &  0 &  837 &  825 & ⋯ & 1357038000 & NA     &   NA & NA                      & NA                            & NA          & NA &  NA & NA & NA       \\\\\n\t 2013 & N644JB & 2013 & 1 & 1 & 601 & 600 &  1 &  844 &  850 & ⋯ & 1357038000 & N644JB & 2006 & Fixed wing multi engine & AIRBUS                        & A320-232    &  2 & 200 & NA & Turbo-fan\\\\\n\t 2013 & N971DL & 2013 & 1 & 1 & 602 & 610 & -8 &  812 &  820 & ⋯ & 1357038000 & N971DL & 1991 & Fixed wing multi engine & MCDONNELL DOUGLAS AIRCRAFT CO & MD-88       &  2 & 142 & NA & Turbo-fan\\\\\n\t 2013 & NA     & 2013 & 1 & 1 & 602 & 605 & -3 &  821 &  805 & ⋯ & 1357038000 & NA     &   NA & NA                      & NA                            & NA          & NA &  NA & NA & NA       \\\\\n\t 2013 & N633AA & 2013 & 1 & 1 & 606 & 610 & -4 &  858 &  910 & ⋯ & 1357038000 & N633AA & 1990 & Fixed wing multi engine & BOEING                        & 757-223     &  2 & 178 & NA & Turbo-fan\\\\\n\t 2013 & N3739P & 2013 & 1 & 1 & 606 & 610 & -4 &  837 &  845 & ⋯ & 1357038000 & N3739P & 2000 & Fixed wing multi engine & BOEING                        & 737-832     &  2 & 189 & NA & Turbo-jet\\\\\n\t 2013 & N53442 & 2013 & 1 & 1 & 607 & 607 &  0 &  858 &  915 & ⋯ & 1357038000 & N53442 & 2009 & Fixed wing multi engine & BOEING                        & 737-924ER   &  2 & 191 & NA & Turbo-fan\\\\\n\t 2013 & NA     & 2013 & 1 & 1 & 608 & 600 &  8 &  807 &  735 & ⋯ & 1357038000 & NA     &   NA & NA                      & NA                            & NA          & NA &  NA & NA & NA       \\\\\n\t 2013 & NA     & 2013 & 1 & 1 & 611 & 600 & 11 &  945 &  931 & ⋯ & 1357038000 & NA     &   NA & NA                      & NA                            & NA          & NA &  NA & NA & NA       \\\\\n\t 2013 & N635JB & 2013 & 1 & 1 & 613 & 610 &  3 &  925 &  921 & ⋯ & 1357038000 & N635JB & 2006 & Fixed wing multi engine & AIRBUS                        & A320-232    &  2 & 200 & NA & Turbo-fan\\\\\n\t 2013 & N794JB & 2013 & 1 & 1 & 615 & 615 &  0 & 1039 & 1100 & ⋯ & 1357038000 & N794JB & 2011 & Fixed wing multi engine & AIRBUS                        & A320-232    &  2 & 200 & NA & Turbo-fan\\\\\n\t 2013 & N326NB & 2013 & 1 & 1 & 615 & 615 &  0 &  833 &  842 & ⋯ & 1357038000 & N326NB & 2001 & Fixed wing multi engine & AIRBUS INDUSTRIE              & A319-114    &  2 & 145 & NA & Turbo-fan\\\\\n\t ⋮ & ⋮ & ⋮ & ⋮ & ⋮ & ⋮ & ⋮ & ⋮ & ⋮ & ⋮ & ⋱ & ⋮ & ⋮ & ⋮ & ⋮ & ⋮ & ⋮ & ⋮ & ⋮ & ⋮ & ⋮\\\\\n\t 2013 & N712EV & 2013 & 9 & 30 & 2123 & 2125 &  -2 & 2223 & 2247 & ⋯ & 1380589200 & N712EV & 2002 & Fixed wing multi engine & BOMBARDIER INC   & CL-600-2C10     &  2 &  80 & NA & Turbo-fan\\\\\n\t 2013 & N16546 & 2013 & 9 & 30 & 2127 & 2129 &  -2 & 2314 & 2323 & ⋯ & 1380589200 & N16546 & 2002 & Fixed wing multi engine & EMBRAER          & EMB-145LR       &  2 &  55 & NA & Turbo-fan\\\\\n\t 2013 & N807JB & 2013 & 9 & 30 & 2128 & 2130 &  -2 & 2328 & 2359 & ⋯ & 1380589200 & N807JB & 2012 & Fixed wing multi engine & AIRBUS           & A320-232        &  2 & 200 & NA & Turbo-fan\\\\\n\t 2013 & N751EV & 2013 & 9 & 30 & 2129 & 2059 &  30 & 2230 & 2232 & ⋯ & 1380585600 & N751EV & 2004 & Fixed wing multi engine & BOMBARDIER INC   & CL-600-2C10     &  2 &  80 & NA & Turbo-fan\\\\\n\t 2013 & NA     & 2013 & 9 & 30 & 2131 & 2140 &  -9 & 2225 & 2255 & ⋯ & 1380589200 & NA     &   NA & NA                      & NA               & NA              & NA &  NA & NA & NA       \\\\\n\t 2013 & N335AA & 2013 & 9 & 30 & 2140 & 2140 &   0 &   10 &   40 & ⋯ & 1380589200 & N335AA & 1987 & Fixed wing multi engine & BOEING           & 767-223         &  2 & 255 & NA & Turbo-fan\\\\\n\t 2013 & N12957 & 2013 & 9 & 30 & 2142 & 2129 &  13 & 2250 & 2239 & ⋯ & 1380589200 & N12957 & 1998 & Fixed wing multi engine & EMBRAER          & EMB-145LR       &  2 &  55 & NA & Turbo-fan\\\\\n\t 2013 & N633JB & 2013 & 9 & 30 & 2145 & 2145 &   0 &  115 &  140 & ⋯ & 1380589200 & N633JB & 2006 & Fixed wing multi engine & AIRBUS           & A320-232        &  2 & 200 & NA & Turbo-fan\\\\\n\t 2013 & N627JB & 2013 & 9 & 30 & 2147 & 2137 &  10 &   30 &   27 & ⋯ & 1380589200 & N627JB & 2005 & Fixed wing multi engine & AIRBUS           & A320-232        &  2 & 200 & NA & Turbo-fan\\\\\n\t 2013 & N813UA & 2013 & 9 & 30 & 2149 & 2156 &  -7 & 2245 & 2308 & ⋯ & 1380589200 & N813UA & 1998 & Fixed wing multi engine & AIRBUS INDUSTRIE & A319-131        &  2 & 179 & NA & Turbo-jet\\\\\n\t 2013 & N10575 & 2013 & 9 & 30 & 2150 & 2159 &  -9 & 2250 & 2306 & ⋯ & 1380589200 & N10575 & 2002 & Fixed wing multi engine & EMBRAER          & EMB-145LR       &  2 &  55 & NA & Turbo-fan\\\\\n\t 2013 & N906XJ & 2013 & 9 & 30 & 2159 & 1845 & 194 & 2344 & 2030 & ⋯ & 1380578400 & N906XJ & 2007 & Fixed wing multi engine & BOMBARDIER INC   & CL-600-2D24     &  2 &  95 & NA & Turbo-fan\\\\\n\t 2013 & N722EV & 2013 & 9 & 30 & 2203 & 2205 &  -2 & 2339 & 2331 & ⋯ & 1380592800 & N722EV & 2003 & Fixed wing multi engine & BOMBARDIER INC   & CL-600-2C10     &  2 &  80 & NA & Turbo-fan\\\\\n\t 2013 & NA     & 2013 & 9 & 30 & 2207 & 2140 &  27 & 2257 & 2250 & ⋯ & 1380589200 & NA     &   NA & NA                      & NA               & NA              & NA &  NA & NA & NA       \\\\\n\t 2013 & N12145 & 2013 & 9 & 30 & 2211 & 2059 &  72 & 2339 & 2242 & ⋯ & 1380585600 & N12145 & 2003 & Fixed wing multi engine & EMBRAER          & EMB-145XR       &  2 &  55 & NA & Turbo-fan\\\\\n\t 2013 & N193JB & 2013 & 9 & 30 & 2231 & 2245 & -14 & 2335 & 2356 & ⋯ & 1380592800 & N193JB & 2005 & Fixed wing multi engine & EMBRAER          & ERJ 190-100 IGW &  2 &  20 & NA & Turbo-fan\\\\\n\t 2013 & N578UA & 2013 & 9 & 30 & 2233 & 2113 &  80 &  112 &   30 & ⋯ & 1380589200 & N578UA & 1993 & Fixed wing multi engine & BOEING           & 757-222         &  2 & 178 & NA & Turbo-jet\\\\\n\t 2013 & N804JB & 2013 & 9 & 30 & 2235 & 2001 & 154 &   59 & 2249 & ⋯ & 1380585600 & N804JB & 2012 & Fixed wing multi engine & AIRBUS           & A320-232        &  2 & 200 & NA & Turbo-fan\\\\\n\t 2013 & N318JB & 2013 & 9 & 30 & 2237 & 2245 &  -8 & 2345 & 2353 & ⋯ & 1380592800 & N318JB & 2010 & Fixed wing multi engine & EMBRAER          & ERJ 190-100 IGW &  2 &  20 & NA & Turbo-fan\\\\\n\t 2013 & N354JB & 2013 & 9 & 30 & 2240 & 2245 &  -5 & 2334 & 2351 & ⋯ & 1380592800 & N354JB & 2013 & Fixed wing multi engine & EMBRAER          & ERJ 190-100 IGW &  2 &  20 & NA & Turbo-fan\\\\\n\t 2013 & N281JB & 2013 & 9 & 30 & 2240 & 2250 & -10 & 2347 &    7 & ⋯ & 1380592800 & N281JB & 2007 & Fixed wing multi engine & EMBRAER          & ERJ 190-100 IGW &  2 &  20 & NA & Turbo-fan\\\\\n\t 2013 & N346JB & 2013 & 9 & 30 & 2241 & 2246 &  -5 & 2345 &    1 & ⋯ & 1380592800 & N346JB & 2011 & Fixed wing multi engine & EMBRAER          & ERJ 190-100 IGW &  2 &  20 & NA & Turbo-fan\\\\\n\t 2013 & N565JB & 2013 & 9 & 30 & 2307 & 2255 &  12 & 2359 & 2358 & ⋯ & 1380592800 & N565JB & 2003 & Fixed wing multi engine & AIRBUS           & A320-232        &  2 & 200 & NA & Turbo-fan\\\\\n\t 2013 & N516JB & 2013 & 9 & 30 & 2349 & 2359 & -10 &  325 &  350 & ⋯ & 1380596400 & N516JB & 2000 & Fixed wing multi engine & AIRBUS INDUSTRIE & A320-232        &  2 & 200 & NA & Turbo-fan\\\\\n\t 2013 & N740EV & 2013 & 9 & 30 &   NA & 1842 &  NA &   NA & 2019 & ⋯ & 1380578400 & N740EV & 2004 & Fixed wing multi engine & BOMBARDIER INC   & CL-600-2C10     &  2 &  80 & NA & Turbo-fan\\\\\n\t 2013 & NA     & 2013 & 9 & 30 &   NA & 1455 &  NA &   NA & 1634 & ⋯ & 1380564000 & NA     &   NA & NA                      & NA               & NA              & NA &  NA & NA & NA       \\\\\n\t 2013 & NA     & 2013 & 9 & 30 &   NA & 2200 &  NA &   NA & 2312 & ⋯ & 1380592800 & NA     &   NA & NA                      & NA               & NA              & NA &  NA & NA & NA       \\\\\n\t 2013 & NA     & 2013 & 9 & 30 &   NA & 1210 &  NA &   NA & 1330 & ⋯ & 1380556800 & NA     &   NA & NA                      & NA               & NA              & NA &  NA & NA & NA       \\\\\n\t 2013 & NA     & 2013 & 9 & 30 &   NA & 1159 &  NA &   NA & 1344 & ⋯ & 1380553200 & NA     &   NA & NA                      & NA               & NA              & NA &  NA & NA & NA       \\\\\n\t 2013 & NA     & 2013 & 9 & 30 &   NA &  840 &  NA &   NA & 1020 & ⋯ & 1380542400 & NA     &   NA & NA                      & NA               & NA              & NA &  NA & NA & NA       \\\\\n\\end{tabular}\n",
            "text/plain": [
              "       year flightyr year.1 month day dep_time sched_dep_time dep_delay\n",
              "1      2013 N14228   2013   1     1   517      515             2       \n",
              "2      2013 N24211   2013   1     1   533      529             4       \n",
              "3      2013 N619AA   2013   1     1   542      540             2       \n",
              "4      2013 N804JB   2013   1     1   544      545            -1       \n",
              "5      2013 N668DN   2013   1     1   554      600            -6       \n",
              "6      2013 N39463   2013   1     1   554      558            -4       \n",
              "7      2013 N516JB   2013   1     1   555      600            -5       \n",
              "8      2013 N829AS   2013   1     1   557      600            -3       \n",
              "9      2013 N593JB   2013   1     1   557      600            -3       \n",
              "10     2013 NA       2013   1     1   558      600            -2       \n",
              "11     2013 N793JB   2013   1     1   558      600            -2       \n",
              "12     2013 N657JB   2013   1     1   558      600            -2       \n",
              "13     2013 N29129   2013   1     1   558      600            -2       \n",
              "14     2013 N53441   2013   1     1   558      600            -2       \n",
              "15     2013 NA       2013   1     1   559      600            -1       \n",
              "16     2013 N708JB   2013   1     1   559      559             0       \n",
              "17     2013 N76515   2013   1     1   559      600            -1       \n",
              "18     2013 N595JB   2013   1     1   600      600             0       \n",
              "19     2013 NA       2013   1     1   600      600             0       \n",
              "20     2013 N644JB   2013   1     1   601      600             1       \n",
              "21     2013 N971DL   2013   1     1   602      610            -8       \n",
              "22     2013 NA       2013   1     1   602      605            -3       \n",
              "23     2013 N633AA   2013   1     1   606      610            -4       \n",
              "24     2013 N3739P   2013   1     1   606      610            -4       \n",
              "25     2013 N53442   2013   1     1   607      607             0       \n",
              "26     2013 NA       2013   1     1   608      600             8       \n",
              "27     2013 NA       2013   1     1   611      600            11       \n",
              "28     2013 N635JB   2013   1     1   613      610             3       \n",
              "29     2013 N794JB   2013   1     1   615      615             0       \n",
              "30     2013 N326NB   2013   1     1   615      615             0       \n",
              "⋮      ⋮    ⋮        ⋮      ⋮     ⋮   ⋮        ⋮              ⋮        \n",
              "336747 2013 N712EV   2013   9     30  2123     2125            -2      \n",
              "336748 2013 N16546   2013   9     30  2127     2129            -2      \n",
              "336749 2013 N807JB   2013   9     30  2128     2130            -2      \n",
              "336750 2013 N751EV   2013   9     30  2129     2059            30      \n",
              "336751 2013 NA       2013   9     30  2131     2140            -9      \n",
              "336752 2013 N335AA   2013   9     30  2140     2140             0      \n",
              "336753 2013 N12957   2013   9     30  2142     2129            13      \n",
              "336754 2013 N633JB   2013   9     30  2145     2145             0      \n",
              "336755 2013 N627JB   2013   9     30  2147     2137            10      \n",
              "336756 2013 N813UA   2013   9     30  2149     2156            -7      \n",
              "336757 2013 N10575   2013   9     30  2150     2159            -9      \n",
              "336758 2013 N906XJ   2013   9     30  2159     1845           194      \n",
              "336759 2013 N722EV   2013   9     30  2203     2205            -2      \n",
              "336760 2013 NA       2013   9     30  2207     2140            27      \n",
              "336761 2013 N12145   2013   9     30  2211     2059            72      \n",
              "336762 2013 N193JB   2013   9     30  2231     2245           -14      \n",
              "336763 2013 N578UA   2013   9     30  2233     2113            80      \n",
              "336764 2013 N804JB   2013   9     30  2235     2001           154      \n",
              "336765 2013 N318JB   2013   9     30  2237     2245            -8      \n",
              "336766 2013 N354JB   2013   9     30  2240     2245            -5      \n",
              "336767 2013 N281JB   2013   9     30  2240     2250           -10      \n",
              "336768 2013 N346JB   2013   9     30  2241     2246            -5      \n",
              "336769 2013 N565JB   2013   9     30  2307     2255            12      \n",
              "336770 2013 N516JB   2013   9     30  2349     2359           -10      \n",
              "336771 2013 N740EV   2013   9     30    NA     1842            NA      \n",
              "336772 2013 NA       2013   9     30    NA     1455            NA      \n",
              "336773 2013 NA       2013   9     30    NA     2200            NA      \n",
              "336774 2013 NA       2013   9     30    NA     1210            NA      \n",
              "336775 2013 NA       2013   9     30    NA     1159            NA      \n",
              "336776 2013 NA       2013   9     30    NA      840            NA      \n",
              "       arr_time sched_arr_time ⋯ time_hour  tailnum year\n",
              "1       830      819           ⋯ 1357034400 N14228  1999\n",
              "2       850      830           ⋯ 1357034400 N24211  1998\n",
              "3       923      850           ⋯ 1357034400 N619AA  1990\n",
              "4      1004     1022           ⋯ 1357034400 N804JB  2012\n",
              "5       812      837           ⋯ 1357038000 N668DN  1991\n",
              "6       740      728           ⋯ 1357034400 N39463  2012\n",
              "7       913      854           ⋯ 1357038000 N516JB  2000\n",
              "8       709      723           ⋯ 1357038000 N829AS  1998\n",
              "9       838      846           ⋯ 1357038000 N593JB  2004\n",
              "10      753      745           ⋯ 1357038000 NA        NA\n",
              "11      849      851           ⋯ 1357038000 N793JB  2011\n",
              "12      853      856           ⋯ 1357038000 N657JB  2007\n",
              "13      924      917           ⋯ 1357038000 N29129  1998\n",
              "14      923      937           ⋯ 1357038000 N53441    NA\n",
              "15      941      910           ⋯ 1357038000 NA        NA\n",
              "16      702      706           ⋯ 1357034400 N708JB  2008\n",
              "17      854      902           ⋯ 1357038000 N76515  2008\n",
              "18      851      858           ⋯ 1357038000 N595JB  2004\n",
              "19      837      825           ⋯ 1357038000 NA        NA\n",
              "20      844      850           ⋯ 1357038000 N644JB  2006\n",
              "21      812      820           ⋯ 1357038000 N971DL  1991\n",
              "22      821      805           ⋯ 1357038000 NA        NA\n",
              "23      858      910           ⋯ 1357038000 N633AA  1990\n",
              "24      837      845           ⋯ 1357038000 N3739P  2000\n",
              "25      858      915           ⋯ 1357038000 N53442  2009\n",
              "26      807      735           ⋯ 1357038000 NA        NA\n",
              "27      945      931           ⋯ 1357038000 NA        NA\n",
              "28      925      921           ⋯ 1357038000 N635JB  2006\n",
              "29     1039     1100           ⋯ 1357038000 N794JB  2011\n",
              "30      833      842           ⋯ 1357038000 N326NB  2001\n",
              "⋮      ⋮        ⋮              ⋱ ⋮          ⋮       ⋮   \n",
              "336747 2223     2247           ⋯ 1380589200 N712EV  2002\n",
              "336748 2314     2323           ⋯ 1380589200 N16546  2002\n",
              "336749 2328     2359           ⋯ 1380589200 N807JB  2012\n",
              "336750 2230     2232           ⋯ 1380585600 N751EV  2004\n",
              "336751 2225     2255           ⋯ 1380589200 NA        NA\n",
              "336752   10       40           ⋯ 1380589200 N335AA  1987\n",
              "336753 2250     2239           ⋯ 1380589200 N12957  1998\n",
              "336754  115      140           ⋯ 1380589200 N633JB  2006\n",
              "336755   30       27           ⋯ 1380589200 N627JB  2005\n",
              "336756 2245     2308           ⋯ 1380589200 N813UA  1998\n",
              "336757 2250     2306           ⋯ 1380589200 N10575  2002\n",
              "336758 2344     2030           ⋯ 1380578400 N906XJ  2007\n",
              "336759 2339     2331           ⋯ 1380592800 N722EV  2003\n",
              "336760 2257     2250           ⋯ 1380589200 NA        NA\n",
              "336761 2339     2242           ⋯ 1380585600 N12145  2003\n",
              "336762 2335     2356           ⋯ 1380592800 N193JB  2005\n",
              "336763  112       30           ⋯ 1380589200 N578UA  1993\n",
              "336764   59     2249           ⋯ 1380585600 N804JB  2012\n",
              "336765 2345     2353           ⋯ 1380592800 N318JB  2010\n",
              "336766 2334     2351           ⋯ 1380592800 N354JB  2013\n",
              "336767 2347        7           ⋯ 1380592800 N281JB  2007\n",
              "336768 2345        1           ⋯ 1380592800 N346JB  2011\n",
              "336769 2359     2358           ⋯ 1380592800 N565JB  2003\n",
              "336770  325      350           ⋯ 1380596400 N516JB  2000\n",
              "336771   NA     2019           ⋯ 1380578400 N740EV  2004\n",
              "336772   NA     1634           ⋯ 1380564000 NA        NA\n",
              "336773   NA     2312           ⋯ 1380592800 NA        NA\n",
              "336774   NA     1330           ⋯ 1380556800 NA        NA\n",
              "336775   NA     1344           ⋯ 1380553200 NA        NA\n",
              "336776   NA     1020           ⋯ 1380542400 NA        NA\n",
              "       type                    manufacturer                  model          \n",
              "1      Fixed wing multi engine BOEING                        737-824        \n",
              "2      Fixed wing multi engine BOEING                        737-824        \n",
              "3      Fixed wing multi engine BOEING                        757-223        \n",
              "4      Fixed wing multi engine AIRBUS                        A320-232       \n",
              "5      Fixed wing multi engine BOEING                        757-232        \n",
              "6      Fixed wing multi engine BOEING                        737-924ER      \n",
              "7      Fixed wing multi engine AIRBUS INDUSTRIE              A320-232       \n",
              "8      Fixed wing multi engine CANADAIR                      CL-600-2B19    \n",
              "9      Fixed wing multi engine AIRBUS                        A320-232       \n",
              "10     NA                      NA                            NA             \n",
              "11     Fixed wing multi engine AIRBUS                        A320-232       \n",
              "12     Fixed wing multi engine AIRBUS                        A320-232       \n",
              "13     Fixed wing multi engine BOEING                        757-224        \n",
              "14     Fixed wing multi engine BOEING                        737-924ER      \n",
              "15     NA                      NA                            NA             \n",
              "16     Fixed wing multi engine AIRBUS                        A320-232       \n",
              "17     Fixed wing multi engine BOEING                        737-824        \n",
              "18     Fixed wing multi engine AIRBUS                        A320-232       \n",
              "19     NA                      NA                            NA             \n",
              "20     Fixed wing multi engine AIRBUS                        A320-232       \n",
              "21     Fixed wing multi engine MCDONNELL DOUGLAS AIRCRAFT CO MD-88          \n",
              "22     NA                      NA                            NA             \n",
              "23     Fixed wing multi engine BOEING                        757-223        \n",
              "24     Fixed wing multi engine BOEING                        737-832        \n",
              "25     Fixed wing multi engine BOEING                        737-924ER      \n",
              "26     NA                      NA                            NA             \n",
              "27     NA                      NA                            NA             \n",
              "28     Fixed wing multi engine AIRBUS                        A320-232       \n",
              "29     Fixed wing multi engine AIRBUS                        A320-232       \n",
              "30     Fixed wing multi engine AIRBUS INDUSTRIE              A319-114       \n",
              "⋮      ⋮                       ⋮                             ⋮              \n",
              "336747 Fixed wing multi engine BOMBARDIER INC                CL-600-2C10    \n",
              "336748 Fixed wing multi engine EMBRAER                       EMB-145LR      \n",
              "336749 Fixed wing multi engine AIRBUS                        A320-232       \n",
              "336750 Fixed wing multi engine BOMBARDIER INC                CL-600-2C10    \n",
              "336751 NA                      NA                            NA             \n",
              "336752 Fixed wing multi engine BOEING                        767-223        \n",
              "336753 Fixed wing multi engine EMBRAER                       EMB-145LR      \n",
              "336754 Fixed wing multi engine AIRBUS                        A320-232       \n",
              "336755 Fixed wing multi engine AIRBUS                        A320-232       \n",
              "336756 Fixed wing multi engine AIRBUS INDUSTRIE              A319-131       \n",
              "336757 Fixed wing multi engine EMBRAER                       EMB-145LR      \n",
              "336758 Fixed wing multi engine BOMBARDIER INC                CL-600-2D24    \n",
              "336759 Fixed wing multi engine BOMBARDIER INC                CL-600-2C10    \n",
              "336760 NA                      NA                            NA             \n",
              "336761 Fixed wing multi engine EMBRAER                       EMB-145XR      \n",
              "336762 Fixed wing multi engine EMBRAER                       ERJ 190-100 IGW\n",
              "336763 Fixed wing multi engine BOEING                        757-222        \n",
              "336764 Fixed wing multi engine AIRBUS                        A320-232       \n",
              "336765 Fixed wing multi engine EMBRAER                       ERJ 190-100 IGW\n",
              "336766 Fixed wing multi engine EMBRAER                       ERJ 190-100 IGW\n",
              "336767 Fixed wing multi engine EMBRAER                       ERJ 190-100 IGW\n",
              "336768 Fixed wing multi engine EMBRAER                       ERJ 190-100 IGW\n",
              "336769 Fixed wing multi engine AIRBUS                        A320-232       \n",
              "336770 Fixed wing multi engine AIRBUS INDUSTRIE              A320-232       \n",
              "336771 Fixed wing multi engine BOMBARDIER INC                CL-600-2C10    \n",
              "336772 NA                      NA                            NA             \n",
              "336773 NA                      NA                            NA             \n",
              "336774 NA                      NA                            NA             \n",
              "336775 NA                      NA                            NA             \n",
              "336776 NA                      NA                            NA             \n",
              "       engines seats speed engine   \n",
              "1       2      149   NA    Turbo-fan\n",
              "2       2      149   NA    Turbo-fan\n",
              "3       2      178   NA    Turbo-fan\n",
              "4       2      200   NA    Turbo-fan\n",
              "5       2      178   NA    Turbo-fan\n",
              "6       2      191   NA    Turbo-fan\n",
              "7       2      200   NA    Turbo-fan\n",
              "8       2       55   NA    Turbo-fan\n",
              "9       2      200   NA    Turbo-fan\n",
              "10     NA       NA   NA    NA       \n",
              "11      2      200   NA    Turbo-fan\n",
              "12      2      200   NA    Turbo-fan\n",
              "13      2      178   NA    Turbo-jet\n",
              "14      2      191   NA    Turbo-fan\n",
              "15     NA       NA   NA    NA       \n",
              "16      2      200   NA    Turbo-fan\n",
              "17      2      149   NA    Turbo-fan\n",
              "18      2      200   NA    Turbo-fan\n",
              "19     NA       NA   NA    NA       \n",
              "20      2      200   NA    Turbo-fan\n",
              "21      2      142   NA    Turbo-fan\n",
              "22     NA       NA   NA    NA       \n",
              "23      2      178   NA    Turbo-fan\n",
              "24      2      189   NA    Turbo-jet\n",
              "25      2      191   NA    Turbo-fan\n",
              "26     NA       NA   NA    NA       \n",
              "27     NA       NA   NA    NA       \n",
              "28      2      200   NA    Turbo-fan\n",
              "29      2      200   NA    Turbo-fan\n",
              "30      2      145   NA    Turbo-fan\n",
              "⋮      ⋮       ⋮     ⋮     ⋮        \n",
              "336747  2       80   NA    Turbo-fan\n",
              "336748  2       55   NA    Turbo-fan\n",
              "336749  2      200   NA    Turbo-fan\n",
              "336750  2       80   NA    Turbo-fan\n",
              "336751 NA       NA   NA    NA       \n",
              "336752  2      255   NA    Turbo-fan\n",
              "336753  2       55   NA    Turbo-fan\n",
              "336754  2      200   NA    Turbo-fan\n",
              "336755  2      200   NA    Turbo-fan\n",
              "336756  2      179   NA    Turbo-jet\n",
              "336757  2       55   NA    Turbo-fan\n",
              "336758  2       95   NA    Turbo-fan\n",
              "336759  2       80   NA    Turbo-fan\n",
              "336760 NA       NA   NA    NA       \n",
              "336761  2       55   NA    Turbo-fan\n",
              "336762  2       20   NA    Turbo-fan\n",
              "336763  2      178   NA    Turbo-jet\n",
              "336764  2      200   NA    Turbo-fan\n",
              "336765  2       20   NA    Turbo-fan\n",
              "336766  2       20   NA    Turbo-fan\n",
              "336767  2       20   NA    Turbo-fan\n",
              "336768  2       20   NA    Turbo-fan\n",
              "336769  2      200   NA    Turbo-fan\n",
              "336770  2      200   NA    Turbo-fan\n",
              "336771  2       80   NA    Turbo-fan\n",
              "336772 NA       NA   NA    NA       \n",
              "336773 NA       NA   NA    NA       \n",
              "336774 NA       NA   NA    NA       \n",
              "336775 NA       NA   NA    NA       \n",
              "336776 NA       NA   NA    NA       "
            ]
          },
          "metadata": {}
        }
      ],
      "source": [
        "q(\"SELECT flights.year, planes.tailnum AS flightyr, * FROM flights\n",
        "    LEFT JOIN planes ON flights.tailnum = planes.tailnum\")"
      ]
    },
    {
      "cell_type": "markdown",
      "metadata": {
        "id": "YLNDbUGJd-LJ"
      },
      "source": [
        "### Ranking\n",
        "\n",
        "Ranking operates slightly differently in SQL than dplyr. The overall syntax is:\n",
        "\n",
        "\n",
        "    SELECT RANK() OVER (\n",
        "\t    PARTITION BY <columns>\n",
        "\t    ORDER BY <expression1> [ASC|DESC], ...\n",
        "    ) RankedCol FROM <table>\n",
        "    \n",
        "    \n",
        "The easiest way to learn it is to see some examples."
      ]
    },
    {
      "cell_type": "code",
      "execution_count": null,
      "metadata": {
        "colab": {
          "base_uri": "https://localhost:8080/",
          "height": 1000
        },
        "id": "S1VretMIeBKV",
        "outputId": "001db0de-cc21-4166-c3f9-dd6dcea14511",
        "scrolled": true
      },
      "outputs": [
        {
          "data": {
            "text/html": [
              "<table class=\"dataframe\">\n",
              "<caption>A data.frame: 336776 × 5</caption>\n",
              "<thead>\n",
              "\t<tr><th scope=col>year</th><th scope=col>month</th><th scope=col>day</th><th scope=col>dep_delay</th><th scope=col>r</th></tr>\n",
              "\t<tr><th scope=col>&lt;int&gt;</th><th scope=col>&lt;int&gt;</th><th scope=col>&lt;int&gt;</th><th scope=col>&lt;dbl&gt;</th><th scope=col>&lt;int&gt;</th></tr>\n",
              "</thead>\n",
              "<tbody>\n",
              "\t<tr><td>2013</td><td>1</td><td>1</td><td>853</td><td> 1</td></tr>\n",
              "\t<tr><td>2013</td><td>1</td><td>1</td><td>379</td><td> 2</td></tr>\n",
              "\t<tr><td>2013</td><td>1</td><td>1</td><td>290</td><td> 3</td></tr>\n",
              "\t<tr><td>2013</td><td>1</td><td>1</td><td>285</td><td> 4</td></tr>\n",
              "\t<tr><td>2013</td><td>1</td><td>1</td><td>260</td><td> 5</td></tr>\n",
              "\t<tr><td>2013</td><td>1</td><td>1</td><td>255</td><td> 6</td></tr>\n",
              "\t<tr><td>2013</td><td>1</td><td>1</td><td>216</td><td> 7</td></tr>\n",
              "\t<tr><td>2013</td><td>1</td><td>1</td><td>192</td><td> 8</td></tr>\n",
              "\t<tr><td>2013</td><td>1</td><td>1</td><td>157</td><td> 9</td></tr>\n",
              "\t<tr><td>2013</td><td>1</td><td>1</td><td>155</td><td>10</td></tr>\n",
              "\t<tr><td>2013</td><td>1</td><td>1</td><td>144</td><td>11</td></tr>\n",
              "\t<tr><td>2013</td><td>1</td><td>1</td><td>141</td><td>12</td></tr>\n",
              "\t<tr><td>2013</td><td>1</td><td>1</td><td>134</td><td>13</td></tr>\n",
              "\t<tr><td>2013</td><td>1</td><td>1</td><td>131</td><td>14</td></tr>\n",
              "\t<tr><td>2013</td><td>1</td><td>1</td><td>129</td><td>15</td></tr>\n",
              "\t<tr><td>2013</td><td>1</td><td>1</td><td>122</td><td>16</td></tr>\n",
              "\t<tr><td>2013</td><td>1</td><td>1</td><td>121</td><td>17</td></tr>\n",
              "\t<tr><td>2013</td><td>1</td><td>1</td><td>119</td><td>18</td></tr>\n",
              "\t<tr><td>2013</td><td>1</td><td>1</td><td>116</td><td>19</td></tr>\n",
              "\t<tr><td>2013</td><td>1</td><td>1</td><td>115</td><td>20</td></tr>\n",
              "\t<tr><td>2013</td><td>1</td><td>1</td><td>109</td><td>21</td></tr>\n",
              "\t<tr><td>2013</td><td>1</td><td>1</td><td>109</td><td>21</td></tr>\n",
              "\t<tr><td>2013</td><td>1</td><td>1</td><td>105</td><td>23</td></tr>\n",
              "\t<tr><td>2013</td><td>1</td><td>1</td><td>105</td><td>23</td></tr>\n",
              "\t<tr><td>2013</td><td>1</td><td>1</td><td>103</td><td>25</td></tr>\n",
              "\t<tr><td>2013</td><td>1</td><td>1</td><td>101</td><td>26</td></tr>\n",
              "\t<tr><td>2013</td><td>1</td><td>1</td><td> 96</td><td>27</td></tr>\n",
              "\t<tr><td>2013</td><td>1</td><td>1</td><td> 91</td><td>28</td></tr>\n",
              "\t<tr><td>2013</td><td>1</td><td>1</td><td> 88</td><td>29</td></tr>\n",
              "\t<tr><td>2013</td><td>1</td><td>1</td><td> 88</td><td>29</td></tr>\n",
              "\t<tr><td>⋮</td><td>⋮</td><td>⋮</td><td>⋮</td><td>⋮</td></tr>\n",
              "\t<tr><td>2013</td><td>12</td><td>31</td><td>-11</td><td>742</td></tr>\n",
              "\t<tr><td>2013</td><td>12</td><td>31</td><td>-11</td><td>742</td></tr>\n",
              "\t<tr><td>2013</td><td>12</td><td>31</td><td>-11</td><td>742</td></tr>\n",
              "\t<tr><td>2013</td><td>12</td><td>31</td><td>-11</td><td>742</td></tr>\n",
              "\t<tr><td>2013</td><td>12</td><td>31</td><td>-12</td><td>751</td></tr>\n",
              "\t<tr><td>2013</td><td>12</td><td>31</td><td>-13</td><td>752</td></tr>\n",
              "\t<tr><td>2013</td><td>12</td><td>31</td><td>-14</td><td>753</td></tr>\n",
              "\t<tr><td>2013</td><td>12</td><td>31</td><td>-14</td><td>753</td></tr>\n",
              "\t<tr><td>2013</td><td>12</td><td>31</td><td>-14</td><td>753</td></tr>\n",
              "\t<tr><td>2013</td><td>12</td><td>31</td><td>-15</td><td>756</td></tr>\n",
              "\t<tr><td>2013</td><td>12</td><td>31</td><td>-15</td><td>756</td></tr>\n",
              "\t<tr><td>2013</td><td>12</td><td>31</td><td>-15</td><td>756</td></tr>\n",
              "\t<tr><td>2013</td><td>12</td><td>31</td><td>-15</td><td>756</td></tr>\n",
              "\t<tr><td>2013</td><td>12</td><td>31</td><td>-17</td><td>760</td></tr>\n",
              "\t<tr><td>2013</td><td>12</td><td>31</td><td> NA</td><td>761</td></tr>\n",
              "\t<tr><td>2013</td><td>12</td><td>31</td><td> NA</td><td>761</td></tr>\n",
              "\t<tr><td>2013</td><td>12</td><td>31</td><td> NA</td><td>761</td></tr>\n",
              "\t<tr><td>2013</td><td>12</td><td>31</td><td> NA</td><td>761</td></tr>\n",
              "\t<tr><td>2013</td><td>12</td><td>31</td><td> NA</td><td>761</td></tr>\n",
              "\t<tr><td>2013</td><td>12</td><td>31</td><td> NA</td><td>761</td></tr>\n",
              "\t<tr><td>2013</td><td>12</td><td>31</td><td> NA</td><td>761</td></tr>\n",
              "\t<tr><td>2013</td><td>12</td><td>31</td><td> NA</td><td>761</td></tr>\n",
              "\t<tr><td>2013</td><td>12</td><td>31</td><td> NA</td><td>761</td></tr>\n",
              "\t<tr><td>2013</td><td>12</td><td>31</td><td> NA</td><td>761</td></tr>\n",
              "\t<tr><td>2013</td><td>12</td><td>31</td><td> NA</td><td>761</td></tr>\n",
              "\t<tr><td>2013</td><td>12</td><td>31</td><td> NA</td><td>761</td></tr>\n",
              "\t<tr><td>2013</td><td>12</td><td>31</td><td> NA</td><td>761</td></tr>\n",
              "\t<tr><td>2013</td><td>12</td><td>31</td><td> NA</td><td>761</td></tr>\n",
              "\t<tr><td>2013</td><td>12</td><td>31</td><td> NA</td><td>761</td></tr>\n",
              "\t<tr><td>2013</td><td>12</td><td>31</td><td> NA</td><td>761</td></tr>\n",
              "</tbody>\n",
              "</table>\n"
            ],
            "text/latex": [
              "A data.frame: 336776 × 5\n",
              "\\begin{tabular}{lllll}\n",
              " year & month & day & dep\\_delay & r\\\\\n",
              " <int> & <int> & <int> & <dbl> & <int>\\\\\n",
              "\\hline\n",
              "\t 2013 & 1 & 1 & 853 &  1\\\\\n",
              "\t 2013 & 1 & 1 & 379 &  2\\\\\n",
              "\t 2013 & 1 & 1 & 290 &  3\\\\\n",
              "\t 2013 & 1 & 1 & 285 &  4\\\\\n",
              "\t 2013 & 1 & 1 & 260 &  5\\\\\n",
              "\t 2013 & 1 & 1 & 255 &  6\\\\\n",
              "\t 2013 & 1 & 1 & 216 &  7\\\\\n",
              "\t 2013 & 1 & 1 & 192 &  8\\\\\n",
              "\t 2013 & 1 & 1 & 157 &  9\\\\\n",
              "\t 2013 & 1 & 1 & 155 & 10\\\\\n",
              "\t 2013 & 1 & 1 & 144 & 11\\\\\n",
              "\t 2013 & 1 & 1 & 141 & 12\\\\\n",
              "\t 2013 & 1 & 1 & 134 & 13\\\\\n",
              "\t 2013 & 1 & 1 & 131 & 14\\\\\n",
              "\t 2013 & 1 & 1 & 129 & 15\\\\\n",
              "\t 2013 & 1 & 1 & 122 & 16\\\\\n",
              "\t 2013 & 1 & 1 & 121 & 17\\\\\n",
              "\t 2013 & 1 & 1 & 119 & 18\\\\\n",
              "\t 2013 & 1 & 1 & 116 & 19\\\\\n",
              "\t 2013 & 1 & 1 & 115 & 20\\\\\n",
              "\t 2013 & 1 & 1 & 109 & 21\\\\\n",
              "\t 2013 & 1 & 1 & 109 & 21\\\\\n",
              "\t 2013 & 1 & 1 & 105 & 23\\\\\n",
              "\t 2013 & 1 & 1 & 105 & 23\\\\\n",
              "\t 2013 & 1 & 1 & 103 & 25\\\\\n",
              "\t 2013 & 1 & 1 & 101 & 26\\\\\n",
              "\t 2013 & 1 & 1 &  96 & 27\\\\\n",
              "\t 2013 & 1 & 1 &  91 & 28\\\\\n",
              "\t 2013 & 1 & 1 &  88 & 29\\\\\n",
              "\t 2013 & 1 & 1 &  88 & 29\\\\\n",
              "\t ⋮ & ⋮ & ⋮ & ⋮ & ⋮\\\\\n",
              "\t 2013 & 12 & 31 & -11 & 742\\\\\n",
              "\t 2013 & 12 & 31 & -11 & 742\\\\\n",
              "\t 2013 & 12 & 31 & -11 & 742\\\\\n",
              "\t 2013 & 12 & 31 & -11 & 742\\\\\n",
              "\t 2013 & 12 & 31 & -12 & 751\\\\\n",
              "\t 2013 & 12 & 31 & -13 & 752\\\\\n",
              "\t 2013 & 12 & 31 & -14 & 753\\\\\n",
              "\t 2013 & 12 & 31 & -14 & 753\\\\\n",
              "\t 2013 & 12 & 31 & -14 & 753\\\\\n",
              "\t 2013 & 12 & 31 & -15 & 756\\\\\n",
              "\t 2013 & 12 & 31 & -15 & 756\\\\\n",
              "\t 2013 & 12 & 31 & -15 & 756\\\\\n",
              "\t 2013 & 12 & 31 & -15 & 756\\\\\n",
              "\t 2013 & 12 & 31 & -17 & 760\\\\\n",
              "\t 2013 & 12 & 31 &  NA & 761\\\\\n",
              "\t 2013 & 12 & 31 &  NA & 761\\\\\n",
              "\t 2013 & 12 & 31 &  NA & 761\\\\\n",
              "\t 2013 & 12 & 31 &  NA & 761\\\\\n",
              "\t 2013 & 12 & 31 &  NA & 761\\\\\n",
              "\t 2013 & 12 & 31 &  NA & 761\\\\\n",
              "\t 2013 & 12 & 31 &  NA & 761\\\\\n",
              "\t 2013 & 12 & 31 &  NA & 761\\\\\n",
              "\t 2013 & 12 & 31 &  NA & 761\\\\\n",
              "\t 2013 & 12 & 31 &  NA & 761\\\\\n",
              "\t 2013 & 12 & 31 &  NA & 761\\\\\n",
              "\t 2013 & 12 & 31 &  NA & 761\\\\\n",
              "\t 2013 & 12 & 31 &  NA & 761\\\\\n",
              "\t 2013 & 12 & 31 &  NA & 761\\\\\n",
              "\t 2013 & 12 & 31 &  NA & 761\\\\\n",
              "\t 2013 & 12 & 31 &  NA & 761\\\\\n",
              "\\end{tabular}\n"
            ],
            "text/markdown": [
              "\n",
              "A data.frame: 336776 × 5\n",
              "\n",
              "| year &lt;int&gt; | month &lt;int&gt; | day &lt;int&gt; | dep_delay &lt;dbl&gt; | r &lt;int&gt; |\n",
              "|---|---|---|---|---|\n",
              "| 2013 | 1 | 1 | 853 |  1 |\n",
              "| 2013 | 1 | 1 | 379 |  2 |\n",
              "| 2013 | 1 | 1 | 290 |  3 |\n",
              "| 2013 | 1 | 1 | 285 |  4 |\n",
              "| 2013 | 1 | 1 | 260 |  5 |\n",
              "| 2013 | 1 | 1 | 255 |  6 |\n",
              "| 2013 | 1 | 1 | 216 |  7 |\n",
              "| 2013 | 1 | 1 | 192 |  8 |\n",
              "| 2013 | 1 | 1 | 157 |  9 |\n",
              "| 2013 | 1 | 1 | 155 | 10 |\n",
              "| 2013 | 1 | 1 | 144 | 11 |\n",
              "| 2013 | 1 | 1 | 141 | 12 |\n",
              "| 2013 | 1 | 1 | 134 | 13 |\n",
              "| 2013 | 1 | 1 | 131 | 14 |\n",
              "| 2013 | 1 | 1 | 129 | 15 |\n",
              "| 2013 | 1 | 1 | 122 | 16 |\n",
              "| 2013 | 1 | 1 | 121 | 17 |\n",
              "| 2013 | 1 | 1 | 119 | 18 |\n",
              "| 2013 | 1 | 1 | 116 | 19 |\n",
              "| 2013 | 1 | 1 | 115 | 20 |\n",
              "| 2013 | 1 | 1 | 109 | 21 |\n",
              "| 2013 | 1 | 1 | 109 | 21 |\n",
              "| 2013 | 1 | 1 | 105 | 23 |\n",
              "| 2013 | 1 | 1 | 105 | 23 |\n",
              "| 2013 | 1 | 1 | 103 | 25 |\n",
              "| 2013 | 1 | 1 | 101 | 26 |\n",
              "| 2013 | 1 | 1 |  96 | 27 |\n",
              "| 2013 | 1 | 1 |  91 | 28 |\n",
              "| 2013 | 1 | 1 |  88 | 29 |\n",
              "| 2013 | 1 | 1 |  88 | 29 |\n",
              "| ⋮ | ⋮ | ⋮ | ⋮ | ⋮ |\n",
              "| 2013 | 12 | 31 | -11 | 742 |\n",
              "| 2013 | 12 | 31 | -11 | 742 |\n",
              "| 2013 | 12 | 31 | -11 | 742 |\n",
              "| 2013 | 12 | 31 | -11 | 742 |\n",
              "| 2013 | 12 | 31 | -12 | 751 |\n",
              "| 2013 | 12 | 31 | -13 | 752 |\n",
              "| 2013 | 12 | 31 | -14 | 753 |\n",
              "| 2013 | 12 | 31 | -14 | 753 |\n",
              "| 2013 | 12 | 31 | -14 | 753 |\n",
              "| 2013 | 12 | 31 | -15 | 756 |\n",
              "| 2013 | 12 | 31 | -15 | 756 |\n",
              "| 2013 | 12 | 31 | -15 | 756 |\n",
              "| 2013 | 12 | 31 | -15 | 756 |\n",
              "| 2013 | 12 | 31 | -17 | 760 |\n",
              "| 2013 | 12 | 31 |  NA | 761 |\n",
              "| 2013 | 12 | 31 |  NA | 761 |\n",
              "| 2013 | 12 | 31 |  NA | 761 |\n",
              "| 2013 | 12 | 31 |  NA | 761 |\n",
              "| 2013 | 12 | 31 |  NA | 761 |\n",
              "| 2013 | 12 | 31 |  NA | 761 |\n",
              "| 2013 | 12 | 31 |  NA | 761 |\n",
              "| 2013 | 12 | 31 |  NA | 761 |\n",
              "| 2013 | 12 | 31 |  NA | 761 |\n",
              "| 2013 | 12 | 31 |  NA | 761 |\n",
              "| 2013 | 12 | 31 |  NA | 761 |\n",
              "| 2013 | 12 | 31 |  NA | 761 |\n",
              "| 2013 | 12 | 31 |  NA | 761 |\n",
              "| 2013 | 12 | 31 |  NA | 761 |\n",
              "| 2013 | 12 | 31 |  NA | 761 |\n",
              "| 2013 | 12 | 31 |  NA | 761 |\n",
              "\n"
            ],
            "text/plain": [
              "       year month day dep_delay r  \n",
              "1      2013 1     1   853        1 \n",
              "2      2013 1     1   379        2 \n",
              "3      2013 1     1   290        3 \n",
              "4      2013 1     1   285        4 \n",
              "5      2013 1     1   260        5 \n",
              "6      2013 1     1   255        6 \n",
              "7      2013 1     1   216        7 \n",
              "8      2013 1     1   192        8 \n",
              "9      2013 1     1   157        9 \n",
              "10     2013 1     1   155       10 \n",
              "11     2013 1     1   144       11 \n",
              "12     2013 1     1   141       12 \n",
              "13     2013 1     1   134       13 \n",
              "14     2013 1     1   131       14 \n",
              "15     2013 1     1   129       15 \n",
              "16     2013 1     1   122       16 \n",
              "17     2013 1     1   121       17 \n",
              "18     2013 1     1   119       18 \n",
              "19     2013 1     1   116       19 \n",
              "20     2013 1     1   115       20 \n",
              "21     2013 1     1   109       21 \n",
              "22     2013 1     1   109       21 \n",
              "23     2013 1     1   105       23 \n",
              "24     2013 1     1   105       23 \n",
              "25     2013 1     1   103       25 \n",
              "26     2013 1     1   101       26 \n",
              "27     2013 1     1    96       27 \n",
              "28     2013 1     1    91       28 \n",
              "29     2013 1     1    88       29 \n",
              "30     2013 1     1    88       29 \n",
              "⋮      ⋮    ⋮     ⋮   ⋮         ⋮  \n",
              "336747 2013 12    31  -11       742\n",
              "336748 2013 12    31  -11       742\n",
              "336749 2013 12    31  -11       742\n",
              "336750 2013 12    31  -11       742\n",
              "336751 2013 12    31  -12       751\n",
              "336752 2013 12    31  -13       752\n",
              "336753 2013 12    31  -14       753\n",
              "336754 2013 12    31  -14       753\n",
              "336755 2013 12    31  -14       753\n",
              "336756 2013 12    31  -15       756\n",
              "336757 2013 12    31  -15       756\n",
              "336758 2013 12    31  -15       756\n",
              "336759 2013 12    31  -15       756\n",
              "336760 2013 12    31  -17       760\n",
              "336761 2013 12    31   NA       761\n",
              "336762 2013 12    31   NA       761\n",
              "336763 2013 12    31   NA       761\n",
              "336764 2013 12    31   NA       761\n",
              "336765 2013 12    31   NA       761\n",
              "336766 2013 12    31   NA       761\n",
              "336767 2013 12    31   NA       761\n",
              "336768 2013 12    31   NA       761\n",
              "336769 2013 12    31   NA       761\n",
              "336770 2013 12    31   NA       761\n",
              "336771 2013 12    31   NA       761\n",
              "336772 2013 12    31   NA       761\n",
              "336773 2013 12    31   NA       761\n",
              "336774 2013 12    31   NA       761\n",
              "336775 2013 12    31   NA       761\n",
              "336776 2013 12    31   NA       761"
            ]
          },
          "metadata": {},
          "output_type": "display_data"
        }
      ],
      "source": [
        "# rank departure delay by month, day\n",
        "\n",
        "q('SELECT year, month, day, dep_delay, RANK() OVER (\n",
        "    PARTITION BY month, day\n",
        "    ORDER BY dep_delay DESC\n",
        "    ) r FROM flights')\n"
      ]
    },
    {
      "cell_type": "code",
      "execution_count": 30,
      "metadata": {
        "scrolled": true,
        "id": "xDy0hfkfRPWd",
        "outputId": "810f2d37-e7c0-4a18-d2f5-c6153514638e",
        "colab": {
          "base_uri": "https://localhost:8080/",
          "height": 1000
        }
      },
      "outputs": [
        {
          "output_type": "display_data",
          "data": {
            "text/html": [
              "<table class=\"dataframe\">\n",
              "<caption>A grouped_df: 336776 × 4</caption>\n",
              "<thead>\n",
              "\t<tr><th scope=col>month</th><th scope=col>day</th><th scope=col>dep_delay</th><th scope=col>r</th></tr>\n",
              "\t<tr><th scope=col>&lt;int&gt;</th><th scope=col>&lt;int&gt;</th><th scope=col>&lt;dbl&gt;</th><th scope=col>&lt;int&gt;</th></tr>\n",
              "</thead>\n",
              "<tbody>\n",
              "\t<tr><td>1</td><td>1</td><td>853</td><td> 1</td></tr>\n",
              "\t<tr><td>1</td><td>1</td><td>379</td><td> 2</td></tr>\n",
              "\t<tr><td>1</td><td>1</td><td>290</td><td> 3</td></tr>\n",
              "\t<tr><td>1</td><td>1</td><td>285</td><td> 4</td></tr>\n",
              "\t<tr><td>1</td><td>1</td><td>260</td><td> 5</td></tr>\n",
              "\t<tr><td>1</td><td>1</td><td>255</td><td> 6</td></tr>\n",
              "\t<tr><td>1</td><td>1</td><td>216</td><td> 7</td></tr>\n",
              "\t<tr><td>1</td><td>1</td><td>192</td><td> 8</td></tr>\n",
              "\t<tr><td>1</td><td>1</td><td>157</td><td> 9</td></tr>\n",
              "\t<tr><td>1</td><td>1</td><td>155</td><td>10</td></tr>\n",
              "\t<tr><td>1</td><td>1</td><td>144</td><td>11</td></tr>\n",
              "\t<tr><td>1</td><td>1</td><td>141</td><td>12</td></tr>\n",
              "\t<tr><td>1</td><td>1</td><td>134</td><td>13</td></tr>\n",
              "\t<tr><td>1</td><td>1</td><td>131</td><td>14</td></tr>\n",
              "\t<tr><td>1</td><td>1</td><td>129</td><td>15</td></tr>\n",
              "\t<tr><td>1</td><td>1</td><td>122</td><td>16</td></tr>\n",
              "\t<tr><td>1</td><td>1</td><td>121</td><td>17</td></tr>\n",
              "\t<tr><td>1</td><td>1</td><td>119</td><td>18</td></tr>\n",
              "\t<tr><td>1</td><td>1</td><td>116</td><td>19</td></tr>\n",
              "\t<tr><td>1</td><td>1</td><td>115</td><td>20</td></tr>\n",
              "\t<tr><td>1</td><td>1</td><td>109</td><td>21</td></tr>\n",
              "\t<tr><td>1</td><td>1</td><td>109</td><td>21</td></tr>\n",
              "\t<tr><td>1</td><td>1</td><td>105</td><td>23</td></tr>\n",
              "\t<tr><td>1</td><td>1</td><td>105</td><td>23</td></tr>\n",
              "\t<tr><td>1</td><td>1</td><td>103</td><td>25</td></tr>\n",
              "\t<tr><td>1</td><td>1</td><td>101</td><td>26</td></tr>\n",
              "\t<tr><td>1</td><td>1</td><td> 96</td><td>27</td></tr>\n",
              "\t<tr><td>1</td><td>1</td><td> 91</td><td>28</td></tr>\n",
              "\t<tr><td>1</td><td>1</td><td> 88</td><td>29</td></tr>\n",
              "\t<tr><td>1</td><td>1</td><td> 88</td><td>29</td></tr>\n",
              "\t<tr><td>⋮</td><td>⋮</td><td>⋮</td><td>⋮</td></tr>\n",
              "\t<tr><td>12</td><td>31</td><td>-11</td><td>742</td></tr>\n",
              "\t<tr><td>12</td><td>31</td><td>-11</td><td>742</td></tr>\n",
              "\t<tr><td>12</td><td>31</td><td>-11</td><td>742</td></tr>\n",
              "\t<tr><td>12</td><td>31</td><td>-11</td><td>742</td></tr>\n",
              "\t<tr><td>12</td><td>31</td><td>-12</td><td>751</td></tr>\n",
              "\t<tr><td>12</td><td>31</td><td>-13</td><td>752</td></tr>\n",
              "\t<tr><td>12</td><td>31</td><td>-14</td><td>753</td></tr>\n",
              "\t<tr><td>12</td><td>31</td><td>-14</td><td>753</td></tr>\n",
              "\t<tr><td>12</td><td>31</td><td>-14</td><td>753</td></tr>\n",
              "\t<tr><td>12</td><td>31</td><td>-15</td><td>756</td></tr>\n",
              "\t<tr><td>12</td><td>31</td><td>-15</td><td>756</td></tr>\n",
              "\t<tr><td>12</td><td>31</td><td>-15</td><td>756</td></tr>\n",
              "\t<tr><td>12</td><td>31</td><td>-15</td><td>756</td></tr>\n",
              "\t<tr><td>12</td><td>31</td><td>-17</td><td>760</td></tr>\n",
              "\t<tr><td>12</td><td>31</td><td> NA</td><td> NA</td></tr>\n",
              "\t<tr><td>12</td><td>31</td><td> NA</td><td> NA</td></tr>\n",
              "\t<tr><td>12</td><td>31</td><td> NA</td><td> NA</td></tr>\n",
              "\t<tr><td>12</td><td>31</td><td> NA</td><td> NA</td></tr>\n",
              "\t<tr><td>12</td><td>31</td><td> NA</td><td> NA</td></tr>\n",
              "\t<tr><td>12</td><td>31</td><td> NA</td><td> NA</td></tr>\n",
              "\t<tr><td>12</td><td>31</td><td> NA</td><td> NA</td></tr>\n",
              "\t<tr><td>12</td><td>31</td><td> NA</td><td> NA</td></tr>\n",
              "\t<tr><td>12</td><td>31</td><td> NA</td><td> NA</td></tr>\n",
              "\t<tr><td>12</td><td>31</td><td> NA</td><td> NA</td></tr>\n",
              "\t<tr><td>12</td><td>31</td><td> NA</td><td> NA</td></tr>\n",
              "\t<tr><td>12</td><td>31</td><td> NA</td><td> NA</td></tr>\n",
              "\t<tr><td>12</td><td>31</td><td> NA</td><td> NA</td></tr>\n",
              "\t<tr><td>12</td><td>31</td><td> NA</td><td> NA</td></tr>\n",
              "\t<tr><td>12</td><td>31</td><td> NA</td><td> NA</td></tr>\n",
              "\t<tr><td>12</td><td>31</td><td> NA</td><td> NA</td></tr>\n",
              "</tbody>\n",
              "</table>\n"
            ],
            "text/markdown": "\nA grouped_df: 336776 × 4\n\n| month &lt;int&gt; | day &lt;int&gt; | dep_delay &lt;dbl&gt; | r &lt;int&gt; |\n|---|---|---|---|\n| 1 | 1 | 853 |  1 |\n| 1 | 1 | 379 |  2 |\n| 1 | 1 | 290 |  3 |\n| 1 | 1 | 285 |  4 |\n| 1 | 1 | 260 |  5 |\n| 1 | 1 | 255 |  6 |\n| 1 | 1 | 216 |  7 |\n| 1 | 1 | 192 |  8 |\n| 1 | 1 | 157 |  9 |\n| 1 | 1 | 155 | 10 |\n| 1 | 1 | 144 | 11 |\n| 1 | 1 | 141 | 12 |\n| 1 | 1 | 134 | 13 |\n| 1 | 1 | 131 | 14 |\n| 1 | 1 | 129 | 15 |\n| 1 | 1 | 122 | 16 |\n| 1 | 1 | 121 | 17 |\n| 1 | 1 | 119 | 18 |\n| 1 | 1 | 116 | 19 |\n| 1 | 1 | 115 | 20 |\n| 1 | 1 | 109 | 21 |\n| 1 | 1 | 109 | 21 |\n| 1 | 1 | 105 | 23 |\n| 1 | 1 | 105 | 23 |\n| 1 | 1 | 103 | 25 |\n| 1 | 1 | 101 | 26 |\n| 1 | 1 |  96 | 27 |\n| 1 | 1 |  91 | 28 |\n| 1 | 1 |  88 | 29 |\n| 1 | 1 |  88 | 29 |\n| ⋮ | ⋮ | ⋮ | ⋮ |\n| 12 | 31 | -11 | 742 |\n| 12 | 31 | -11 | 742 |\n| 12 | 31 | -11 | 742 |\n| 12 | 31 | -11 | 742 |\n| 12 | 31 | -12 | 751 |\n| 12 | 31 | -13 | 752 |\n| 12 | 31 | -14 | 753 |\n| 12 | 31 | -14 | 753 |\n| 12 | 31 | -14 | 753 |\n| 12 | 31 | -15 | 756 |\n| 12 | 31 | -15 | 756 |\n| 12 | 31 | -15 | 756 |\n| 12 | 31 | -15 | 756 |\n| 12 | 31 | -17 | 760 |\n| 12 | 31 |  NA |  NA |\n| 12 | 31 |  NA |  NA |\n| 12 | 31 |  NA |  NA |\n| 12 | 31 |  NA |  NA |\n| 12 | 31 |  NA |  NA |\n| 12 | 31 |  NA |  NA |\n| 12 | 31 |  NA |  NA |\n| 12 | 31 |  NA |  NA |\n| 12 | 31 |  NA |  NA |\n| 12 | 31 |  NA |  NA |\n| 12 | 31 |  NA |  NA |\n| 12 | 31 |  NA |  NA |\n| 12 | 31 |  NA |  NA |\n| 12 | 31 |  NA |  NA |\n| 12 | 31 |  NA |  NA |\n| 12 | 31 |  NA |  NA |\n\n",
            "text/latex": "A grouped\\_df: 336776 × 4\n\\begin{tabular}{llll}\n month & day & dep\\_delay & r\\\\\n <int> & <int> & <dbl> & <int>\\\\\n\\hline\n\t 1 & 1 & 853 &  1\\\\\n\t 1 & 1 & 379 &  2\\\\\n\t 1 & 1 & 290 &  3\\\\\n\t 1 & 1 & 285 &  4\\\\\n\t 1 & 1 & 260 &  5\\\\\n\t 1 & 1 & 255 &  6\\\\\n\t 1 & 1 & 216 &  7\\\\\n\t 1 & 1 & 192 &  8\\\\\n\t 1 & 1 & 157 &  9\\\\\n\t 1 & 1 & 155 & 10\\\\\n\t 1 & 1 & 144 & 11\\\\\n\t 1 & 1 & 141 & 12\\\\\n\t 1 & 1 & 134 & 13\\\\\n\t 1 & 1 & 131 & 14\\\\\n\t 1 & 1 & 129 & 15\\\\\n\t 1 & 1 & 122 & 16\\\\\n\t 1 & 1 & 121 & 17\\\\\n\t 1 & 1 & 119 & 18\\\\\n\t 1 & 1 & 116 & 19\\\\\n\t 1 & 1 & 115 & 20\\\\\n\t 1 & 1 & 109 & 21\\\\\n\t 1 & 1 & 109 & 21\\\\\n\t 1 & 1 & 105 & 23\\\\\n\t 1 & 1 & 105 & 23\\\\\n\t 1 & 1 & 103 & 25\\\\\n\t 1 & 1 & 101 & 26\\\\\n\t 1 & 1 &  96 & 27\\\\\n\t 1 & 1 &  91 & 28\\\\\n\t 1 & 1 &  88 & 29\\\\\n\t 1 & 1 &  88 & 29\\\\\n\t ⋮ & ⋮ & ⋮ & ⋮\\\\\n\t 12 & 31 & -11 & 742\\\\\n\t 12 & 31 & -11 & 742\\\\\n\t 12 & 31 & -11 & 742\\\\\n\t 12 & 31 & -11 & 742\\\\\n\t 12 & 31 & -12 & 751\\\\\n\t 12 & 31 & -13 & 752\\\\\n\t 12 & 31 & -14 & 753\\\\\n\t 12 & 31 & -14 & 753\\\\\n\t 12 & 31 & -14 & 753\\\\\n\t 12 & 31 & -15 & 756\\\\\n\t 12 & 31 & -15 & 756\\\\\n\t 12 & 31 & -15 & 756\\\\\n\t 12 & 31 & -15 & 756\\\\\n\t 12 & 31 & -17 & 760\\\\\n\t 12 & 31 &  NA &  NA\\\\\n\t 12 & 31 &  NA &  NA\\\\\n\t 12 & 31 &  NA &  NA\\\\\n\t 12 & 31 &  NA &  NA\\\\\n\t 12 & 31 &  NA &  NA\\\\\n\t 12 & 31 &  NA &  NA\\\\\n\t 12 & 31 &  NA &  NA\\\\\n\t 12 & 31 &  NA &  NA\\\\\n\t 12 & 31 &  NA &  NA\\\\\n\t 12 & 31 &  NA &  NA\\\\\n\t 12 & 31 &  NA &  NA\\\\\n\t 12 & 31 &  NA &  NA\\\\\n\t 12 & 31 &  NA &  NA\\\\\n\t 12 & 31 &  NA &  NA\\\\\n\t 12 & 31 &  NA &  NA\\\\\n\t 12 & 31 &  NA &  NA\\\\\n\\end{tabular}\n",
            "text/plain": [
              "       month day dep_delay r  \n",
              "1      1     1   853        1 \n",
              "2      1     1   379        2 \n",
              "3      1     1   290        3 \n",
              "4      1     1   285        4 \n",
              "5      1     1   260        5 \n",
              "6      1     1   255        6 \n",
              "7      1     1   216        7 \n",
              "8      1     1   192        8 \n",
              "9      1     1   157        9 \n",
              "10     1     1   155       10 \n",
              "11     1     1   144       11 \n",
              "12     1     1   141       12 \n",
              "13     1     1   134       13 \n",
              "14     1     1   131       14 \n",
              "15     1     1   129       15 \n",
              "16     1     1   122       16 \n",
              "17     1     1   121       17 \n",
              "18     1     1   119       18 \n",
              "19     1     1   116       19 \n",
              "20     1     1   115       20 \n",
              "21     1     1   109       21 \n",
              "22     1     1   109       21 \n",
              "23     1     1   105       23 \n",
              "24     1     1   105       23 \n",
              "25     1     1   103       25 \n",
              "26     1     1   101       26 \n",
              "27     1     1    96       27 \n",
              "28     1     1    91       28 \n",
              "29     1     1    88       29 \n",
              "30     1     1    88       29 \n",
              "⋮      ⋮     ⋮   ⋮         ⋮  \n",
              "336747 12    31  -11       742\n",
              "336748 12    31  -11       742\n",
              "336749 12    31  -11       742\n",
              "336750 12    31  -11       742\n",
              "336751 12    31  -12       751\n",
              "336752 12    31  -13       752\n",
              "336753 12    31  -14       753\n",
              "336754 12    31  -14       753\n",
              "336755 12    31  -14       753\n",
              "336756 12    31  -15       756\n",
              "336757 12    31  -15       756\n",
              "336758 12    31  -15       756\n",
              "336759 12    31  -15       756\n",
              "336760 12    31  -17       760\n",
              "336761 12    31   NA        NA\n",
              "336762 12    31   NA        NA\n",
              "336763 12    31   NA        NA\n",
              "336764 12    31   NA        NA\n",
              "336765 12    31   NA        NA\n",
              "336766 12    31   NA        NA\n",
              "336767 12    31   NA        NA\n",
              "336768 12    31   NA        NA\n",
              "336769 12    31   NA        NA\n",
              "336770 12    31   NA        NA\n",
              "336771 12    31   NA        NA\n",
              "336772 12    31   NA        NA\n",
              "336773 12    31   NA        NA\n",
              "336774 12    31   NA        NA\n",
              "336775 12    31   NA        NA\n",
              "336776 12    31   NA        NA"
            ]
          },
          "metadata": {}
        }
      ],
      "source": [
        "# The above query is equivalent to\n",
        "flights %>% group_by(month, day) %>% mutate(r = min_rank(-dep_delay)) %>%\n",
        "    select(month, day, dep_delay, r) %>% arrange(month, day, r)"
      ]
    },
    {
      "cell_type": "markdown",
      "metadata": {
        "id": "_OQab-5CeGC6"
      },
      "source": [
        "## Subqueries\n",
        "\n",
        "An aspect of SQL I find confusing is that you cannot filter (`WHERE ...`) based on a ranking condition:"
      ]
    },
    {
      "cell_type": "code",
      "execution_count": null,
      "metadata": {
        "id": "21I2V_u1RPWd",
        "outputId": "40fa68a5-0136-4db0-973d-203da30d6fa2"
      },
      "outputs": [
        {
          "ename": "ERROR",
          "evalue": "Error: misuse of aliased window function r\n",
          "output_type": "error",
          "traceback": [
            "Error: misuse of aliased window function r\nTraceback:\n",
            "1. q(\"SELECT year, month, day, dep_delay, RANK() OVER (\\n    PARTITION BY month, day \\n    ORDER BY dep_delay DESC\\n    ) r FROM flights where r  = 1\")",
            "2. dbGetQuery(con, ...)   # at line 1 of file <text>",
            "3. dbGetQuery(con, ...)",
            "4. .local(conn, statement, ...)",
            "5. dbSendQuery(conn, statement, ...)",
            "6. dbSendQuery(conn, statement, ...)",
            "7. .local(conn, statement, ...)",
            "8. new(\"SQLiteResult\", sql = statement, ptr = result_create(conn@ptr, \n .     statement), conn = conn, bigint = conn@bigint)",
            "9. initialize(value, ...)",
            "10. initialize(value, ...)",
            "11. result_create(conn@ptr, statement)"
          ]
        }
      ],
      "source": [
        "q('SELECT year, month, day, dep_delay, RANK() OVER (\n",
        "    PARTITION BY month, day\n",
        "    ORDER BY dep_delay DESC\n",
        "    ) r FROM flights where r  = 1')"
      ]
    },
    {
      "cell_type": "markdown",
      "metadata": {
        "id": "uZPJUiZ8RPWe"
      },
      "source": [
        "You need to use subquery to get the result as shown below"
      ]
    },
    {
      "cell_type": "code",
      "execution_count": 31,
      "metadata": {
        "colab": {
          "base_uri": "https://localhost:8080/",
          "height": 1000
        },
        "id": "KDu97P61eIHU",
        "outputId": "55b5b0be-91de-4f01-cd10-4bcbefa85f87"
      },
      "outputs": [
        {
          "output_type": "display_data",
          "data": {
            "text/html": [
              "<table class=\"dataframe\">\n",
              "<caption>A data.frame: 739 × 5</caption>\n",
              "<thead>\n",
              "\t<tr><th scope=col>year</th><th scope=col>month</th><th scope=col>day</th><th scope=col>dep_delay</th><th scope=col>r</th></tr>\n",
              "\t<tr><th scope=col>&lt;int&gt;</th><th scope=col>&lt;int&gt;</th><th scope=col>&lt;int&gt;</th><th scope=col>&lt;dbl&gt;</th><th scope=col>&lt;int&gt;</th></tr>\n",
              "</thead>\n",
              "<tbody>\n",
              "\t<tr><td>2013</td><td>1</td><td> 1</td><td> 853</td><td>1</td></tr>\n",
              "\t<tr><td>2013</td><td>1</td><td> 1</td><td> 379</td><td>2</td></tr>\n",
              "\t<tr><td>2013</td><td>1</td><td> 2</td><td> 379</td><td>1</td></tr>\n",
              "\t<tr><td>2013</td><td>1</td><td> 2</td><td> 337</td><td>2</td></tr>\n",
              "\t<tr><td>2013</td><td>1</td><td> 3</td><td> 291</td><td>1</td></tr>\n",
              "\t<tr><td>2013</td><td>1</td><td> 3</td><td> 268</td><td>2</td></tr>\n",
              "\t<tr><td>2013</td><td>1</td><td> 4</td><td> 288</td><td>1</td></tr>\n",
              "\t<tr><td>2013</td><td>1</td><td> 4</td><td> 208</td><td>2</td></tr>\n",
              "\t<tr><td>2013</td><td>1</td><td> 5</td><td> 327</td><td>1</td></tr>\n",
              "\t<tr><td>2013</td><td>1</td><td> 5</td><td> 257</td><td>2</td></tr>\n",
              "\t<tr><td>2013</td><td>1</td><td> 6</td><td> 202</td><td>1</td></tr>\n",
              "\t<tr><td>2013</td><td>1</td><td> 6</td><td> 163</td><td>2</td></tr>\n",
              "\t<tr><td>2013</td><td>1</td><td> 6</td><td> 163</td><td>2</td></tr>\n",
              "\t<tr><td>2013</td><td>1</td><td> 7</td><td> 366</td><td>1</td></tr>\n",
              "\t<tr><td>2013</td><td>1</td><td> 7</td><td> 293</td><td>2</td></tr>\n",
              "\t<tr><td>2013</td><td>1</td><td> 8</td><td> 188</td><td>1</td></tr>\n",
              "\t<tr><td>2013</td><td>1</td><td> 8</td><td> 162</td><td>2</td></tr>\n",
              "\t<tr><td>2013</td><td>1</td><td> 9</td><td>1301</td><td>1</td></tr>\n",
              "\t<tr><td>2013</td><td>1</td><td> 9</td><td> 253</td><td>2</td></tr>\n",
              "\t<tr><td>2013</td><td>1</td><td>10</td><td>1126</td><td>1</td></tr>\n",
              "\t<tr><td>2013</td><td>1</td><td>10</td><td> 385</td><td>2</td></tr>\n",
              "\t<tr><td>2013</td><td>1</td><td>11</td><td> 360</td><td>1</td></tr>\n",
              "\t<tr><td>2013</td><td>1</td><td>11</td><td> 241</td><td>2</td></tr>\n",
              "\t<tr><td>2013</td><td>1</td><td>12</td><td> 282</td><td>1</td></tr>\n",
              "\t<tr><td>2013</td><td>1</td><td>12</td><td> 158</td><td>2</td></tr>\n",
              "\t<tr><td>2013</td><td>1</td><td>13</td><td> 599</td><td>1</td></tr>\n",
              "\t<tr><td>2013</td><td>1</td><td>13</td><td> 315</td><td>2</td></tr>\n",
              "\t<tr><td>2013</td><td>1</td><td>14</td><td> 334</td><td>1</td></tr>\n",
              "\t<tr><td>2013</td><td>1</td><td>14</td><td> 266</td><td>2</td></tr>\n",
              "\t<tr><td>2013</td><td>1</td><td>15</td><td> 170</td><td>1</td></tr>\n",
              "\t<tr><td>⋮</td><td>⋮</td><td>⋮</td><td>⋮</td><td>⋮</td></tr>\n",
              "\t<tr><td>2013</td><td>12</td><td>17</td><td>845</td><td>1</td></tr>\n",
              "\t<tr><td>2013</td><td>12</td><td>17</td><td>503</td><td>2</td></tr>\n",
              "\t<tr><td>2013</td><td>12</td><td>18</td><td>432</td><td>1</td></tr>\n",
              "\t<tr><td>2013</td><td>12</td><td>18</td><td>270</td><td>2</td></tr>\n",
              "\t<tr><td>2013</td><td>12</td><td>19</td><td>849</td><td>1</td></tr>\n",
              "\t<tr><td>2013</td><td>12</td><td>19</td><td>292</td><td>2</td></tr>\n",
              "\t<tr><td>2013</td><td>12</td><td>20</td><td>221</td><td>1</td></tr>\n",
              "\t<tr><td>2013</td><td>12</td><td>20</td><td>213</td><td>2</td></tr>\n",
              "\t<tr><td>2013</td><td>12</td><td>21</td><td>392</td><td>1</td></tr>\n",
              "\t<tr><td>2013</td><td>12</td><td>21</td><td>373</td><td>2</td></tr>\n",
              "\t<tr><td>2013</td><td>12</td><td>22</td><td>486</td><td>1</td></tr>\n",
              "\t<tr><td>2013</td><td>12</td><td>22</td><td>336</td><td>2</td></tr>\n",
              "\t<tr><td>2013</td><td>12</td><td>23</td><td>389</td><td>1</td></tr>\n",
              "\t<tr><td>2013</td><td>12</td><td>23</td><td>314</td><td>2</td></tr>\n",
              "\t<tr><td>2013</td><td>12</td><td>24</td><td>286</td><td>1</td></tr>\n",
              "\t<tr><td>2013</td><td>12</td><td>24</td><td>251</td><td>2</td></tr>\n",
              "\t<tr><td>2013</td><td>12</td><td>25</td><td>321</td><td>1</td></tr>\n",
              "\t<tr><td>2013</td><td>12</td><td>25</td><td>251</td><td>2</td></tr>\n",
              "\t<tr><td>2013</td><td>12</td><td>26</td><td>252</td><td>1</td></tr>\n",
              "\t<tr><td>2013</td><td>12</td><td>26</td><td>248</td><td>2</td></tr>\n",
              "\t<tr><td>2013</td><td>12</td><td>27</td><td>275</td><td>1</td></tr>\n",
              "\t<tr><td>2013</td><td>12</td><td>27</td><td>171</td><td>2</td></tr>\n",
              "\t<tr><td>2013</td><td>12</td><td>28</td><td>314</td><td>1</td></tr>\n",
              "\t<tr><td>2013</td><td>12</td><td>28</td><td>165</td><td>2</td></tr>\n",
              "\t<tr><td>2013</td><td>12</td><td>29</td><td>420</td><td>1</td></tr>\n",
              "\t<tr><td>2013</td><td>12</td><td>29</td><td>306</td><td>2</td></tr>\n",
              "\t<tr><td>2013</td><td>12</td><td>30</td><td>292</td><td>1</td></tr>\n",
              "\t<tr><td>2013</td><td>12</td><td>30</td><td>251</td><td>2</td></tr>\n",
              "\t<tr><td>2013</td><td>12</td><td>31</td><td>220</td><td>1</td></tr>\n",
              "\t<tr><td>2013</td><td>12</td><td>31</td><td>197</td><td>2</td></tr>\n",
              "</tbody>\n",
              "</table>\n"
            ],
            "text/markdown": "\nA data.frame: 739 × 5\n\n| year &lt;int&gt; | month &lt;int&gt; | day &lt;int&gt; | dep_delay &lt;dbl&gt; | r &lt;int&gt; |\n|---|---|---|---|---|\n| 2013 | 1 |  1 |  853 | 1 |\n| 2013 | 1 |  1 |  379 | 2 |\n| 2013 | 1 |  2 |  379 | 1 |\n| 2013 | 1 |  2 |  337 | 2 |\n| 2013 | 1 |  3 |  291 | 1 |\n| 2013 | 1 |  3 |  268 | 2 |\n| 2013 | 1 |  4 |  288 | 1 |\n| 2013 | 1 |  4 |  208 | 2 |\n| 2013 | 1 |  5 |  327 | 1 |\n| 2013 | 1 |  5 |  257 | 2 |\n| 2013 | 1 |  6 |  202 | 1 |\n| 2013 | 1 |  6 |  163 | 2 |\n| 2013 | 1 |  6 |  163 | 2 |\n| 2013 | 1 |  7 |  366 | 1 |\n| 2013 | 1 |  7 |  293 | 2 |\n| 2013 | 1 |  8 |  188 | 1 |\n| 2013 | 1 |  8 |  162 | 2 |\n| 2013 | 1 |  9 | 1301 | 1 |\n| 2013 | 1 |  9 |  253 | 2 |\n| 2013 | 1 | 10 | 1126 | 1 |\n| 2013 | 1 | 10 |  385 | 2 |\n| 2013 | 1 | 11 |  360 | 1 |\n| 2013 | 1 | 11 |  241 | 2 |\n| 2013 | 1 | 12 |  282 | 1 |\n| 2013 | 1 | 12 |  158 | 2 |\n| 2013 | 1 | 13 |  599 | 1 |\n| 2013 | 1 | 13 |  315 | 2 |\n| 2013 | 1 | 14 |  334 | 1 |\n| 2013 | 1 | 14 |  266 | 2 |\n| 2013 | 1 | 15 |  170 | 1 |\n| ⋮ | ⋮ | ⋮ | ⋮ | ⋮ |\n| 2013 | 12 | 17 | 845 | 1 |\n| 2013 | 12 | 17 | 503 | 2 |\n| 2013 | 12 | 18 | 432 | 1 |\n| 2013 | 12 | 18 | 270 | 2 |\n| 2013 | 12 | 19 | 849 | 1 |\n| 2013 | 12 | 19 | 292 | 2 |\n| 2013 | 12 | 20 | 221 | 1 |\n| 2013 | 12 | 20 | 213 | 2 |\n| 2013 | 12 | 21 | 392 | 1 |\n| 2013 | 12 | 21 | 373 | 2 |\n| 2013 | 12 | 22 | 486 | 1 |\n| 2013 | 12 | 22 | 336 | 2 |\n| 2013 | 12 | 23 | 389 | 1 |\n| 2013 | 12 | 23 | 314 | 2 |\n| 2013 | 12 | 24 | 286 | 1 |\n| 2013 | 12 | 24 | 251 | 2 |\n| 2013 | 12 | 25 | 321 | 1 |\n| 2013 | 12 | 25 | 251 | 2 |\n| 2013 | 12 | 26 | 252 | 1 |\n| 2013 | 12 | 26 | 248 | 2 |\n| 2013 | 12 | 27 | 275 | 1 |\n| 2013 | 12 | 27 | 171 | 2 |\n| 2013 | 12 | 28 | 314 | 1 |\n| 2013 | 12 | 28 | 165 | 2 |\n| 2013 | 12 | 29 | 420 | 1 |\n| 2013 | 12 | 29 | 306 | 2 |\n| 2013 | 12 | 30 | 292 | 1 |\n| 2013 | 12 | 30 | 251 | 2 |\n| 2013 | 12 | 31 | 220 | 1 |\n| 2013 | 12 | 31 | 197 | 2 |\n\n",
            "text/latex": "A data.frame: 739 × 5\n\\begin{tabular}{lllll}\n year & month & day & dep\\_delay & r\\\\\n <int> & <int> & <int> & <dbl> & <int>\\\\\n\\hline\n\t 2013 & 1 &  1 &  853 & 1\\\\\n\t 2013 & 1 &  1 &  379 & 2\\\\\n\t 2013 & 1 &  2 &  379 & 1\\\\\n\t 2013 & 1 &  2 &  337 & 2\\\\\n\t 2013 & 1 &  3 &  291 & 1\\\\\n\t 2013 & 1 &  3 &  268 & 2\\\\\n\t 2013 & 1 &  4 &  288 & 1\\\\\n\t 2013 & 1 &  4 &  208 & 2\\\\\n\t 2013 & 1 &  5 &  327 & 1\\\\\n\t 2013 & 1 &  5 &  257 & 2\\\\\n\t 2013 & 1 &  6 &  202 & 1\\\\\n\t 2013 & 1 &  6 &  163 & 2\\\\\n\t 2013 & 1 &  6 &  163 & 2\\\\\n\t 2013 & 1 &  7 &  366 & 1\\\\\n\t 2013 & 1 &  7 &  293 & 2\\\\\n\t 2013 & 1 &  8 &  188 & 1\\\\\n\t 2013 & 1 &  8 &  162 & 2\\\\\n\t 2013 & 1 &  9 & 1301 & 1\\\\\n\t 2013 & 1 &  9 &  253 & 2\\\\\n\t 2013 & 1 & 10 & 1126 & 1\\\\\n\t 2013 & 1 & 10 &  385 & 2\\\\\n\t 2013 & 1 & 11 &  360 & 1\\\\\n\t 2013 & 1 & 11 &  241 & 2\\\\\n\t 2013 & 1 & 12 &  282 & 1\\\\\n\t 2013 & 1 & 12 &  158 & 2\\\\\n\t 2013 & 1 & 13 &  599 & 1\\\\\n\t 2013 & 1 & 13 &  315 & 2\\\\\n\t 2013 & 1 & 14 &  334 & 1\\\\\n\t 2013 & 1 & 14 &  266 & 2\\\\\n\t 2013 & 1 & 15 &  170 & 1\\\\\n\t ⋮ & ⋮ & ⋮ & ⋮ & ⋮\\\\\n\t 2013 & 12 & 17 & 845 & 1\\\\\n\t 2013 & 12 & 17 & 503 & 2\\\\\n\t 2013 & 12 & 18 & 432 & 1\\\\\n\t 2013 & 12 & 18 & 270 & 2\\\\\n\t 2013 & 12 & 19 & 849 & 1\\\\\n\t 2013 & 12 & 19 & 292 & 2\\\\\n\t 2013 & 12 & 20 & 221 & 1\\\\\n\t 2013 & 12 & 20 & 213 & 2\\\\\n\t 2013 & 12 & 21 & 392 & 1\\\\\n\t 2013 & 12 & 21 & 373 & 2\\\\\n\t 2013 & 12 & 22 & 486 & 1\\\\\n\t 2013 & 12 & 22 & 336 & 2\\\\\n\t 2013 & 12 & 23 & 389 & 1\\\\\n\t 2013 & 12 & 23 & 314 & 2\\\\\n\t 2013 & 12 & 24 & 286 & 1\\\\\n\t 2013 & 12 & 24 & 251 & 2\\\\\n\t 2013 & 12 & 25 & 321 & 1\\\\\n\t 2013 & 12 & 25 & 251 & 2\\\\\n\t 2013 & 12 & 26 & 252 & 1\\\\\n\t 2013 & 12 & 26 & 248 & 2\\\\\n\t 2013 & 12 & 27 & 275 & 1\\\\\n\t 2013 & 12 & 27 & 171 & 2\\\\\n\t 2013 & 12 & 28 & 314 & 1\\\\\n\t 2013 & 12 & 28 & 165 & 2\\\\\n\t 2013 & 12 & 29 & 420 & 1\\\\\n\t 2013 & 12 & 29 & 306 & 2\\\\\n\t 2013 & 12 & 30 & 292 & 1\\\\\n\t 2013 & 12 & 30 & 251 & 2\\\\\n\t 2013 & 12 & 31 & 220 & 1\\\\\n\t 2013 & 12 & 31 & 197 & 2\\\\\n\\end{tabular}\n",
            "text/plain": [
              "    year month day dep_delay r\n",
              "1   2013 1      1   853      1\n",
              "2   2013 1      1   379      2\n",
              "3   2013 1      2   379      1\n",
              "4   2013 1      2   337      2\n",
              "5   2013 1      3   291      1\n",
              "6   2013 1      3   268      2\n",
              "7   2013 1      4   288      1\n",
              "8   2013 1      4   208      2\n",
              "9   2013 1      5   327      1\n",
              "10  2013 1      5   257      2\n",
              "11  2013 1      6   202      1\n",
              "12  2013 1      6   163      2\n",
              "13  2013 1      6   163      2\n",
              "14  2013 1      7   366      1\n",
              "15  2013 1      7   293      2\n",
              "16  2013 1      8   188      1\n",
              "17  2013 1      8   162      2\n",
              "18  2013 1      9  1301      1\n",
              "19  2013 1      9   253      2\n",
              "20  2013 1     10  1126      1\n",
              "21  2013 1     10   385      2\n",
              "22  2013 1     11   360      1\n",
              "23  2013 1     11   241      2\n",
              "24  2013 1     12   282      1\n",
              "25  2013 1     12   158      2\n",
              "26  2013 1     13   599      1\n",
              "27  2013 1     13   315      2\n",
              "28  2013 1     14   334      1\n",
              "29  2013 1     14   266      2\n",
              "30  2013 1     15   170      1\n",
              "⋮   ⋮    ⋮     ⋮   ⋮         ⋮\n",
              "710 2013 12    17  845       1\n",
              "711 2013 12    17  503       2\n",
              "712 2013 12    18  432       1\n",
              "713 2013 12    18  270       2\n",
              "714 2013 12    19  849       1\n",
              "715 2013 12    19  292       2\n",
              "716 2013 12    20  221       1\n",
              "717 2013 12    20  213       2\n",
              "718 2013 12    21  392       1\n",
              "719 2013 12    21  373       2\n",
              "720 2013 12    22  486       1\n",
              "721 2013 12    22  336       2\n",
              "722 2013 12    23  389       1\n",
              "723 2013 12    23  314       2\n",
              "724 2013 12    24  286       1\n",
              "725 2013 12    24  251       2\n",
              "726 2013 12    25  321       1\n",
              "727 2013 12    25  251       2\n",
              "728 2013 12    26  252       1\n",
              "729 2013 12    26  248       2\n",
              "730 2013 12    27  275       1\n",
              "731 2013 12    27  171       2\n",
              "732 2013 12    28  314       1\n",
              "733 2013 12    28  165       2\n",
              "734 2013 12    29  420       1\n",
              "735 2013 12    29  306       2\n",
              "736 2013 12    30  292       1\n",
              "737 2013 12    30  251       2\n",
              "738 2013 12    31  220       1\n",
              "739 2013 12    31  197       2"
            ]
          },
          "metadata": {}
        }
      ],
      "source": [
        "q('SELECT year, month, day, dep_delay, r FROM\n",
        "    (\n",
        "        SELECT year, month, day, dep_delay, RANK() OVER (\n",
        "        PARTITION BY month, day\n",
        "        ORDER BY dep_delay DESC\n",
        "    ) r FROM flights)\n",
        "    WHERE r <= 2\n",
        "')\n"
      ]
    },
    {
      "cell_type": "markdown",
      "metadata": {
        "id": "MKj7WL9vXrB0"
      },
      "source": [
        "### Solve\n",
        "Find the max highway miles across each manufacturer"
      ]
    },
    {
      "cell_type": "code",
      "execution_count": 32,
      "metadata": {
        "id": "ziShApqEXrB0",
        "outputId": "b16d58ed-fda0-4b29-fdd1-5cafc69f0630",
        "scrolled": true,
        "colab": {
          "base_uri": "https://localhost:8080/",
          "height": 568
        }
      },
      "outputs": [
        {
          "output_type": "display_data",
          "data": {
            "text/html": [
              "<table class=\"dataframe\">\n",
              "<caption>A data.frame: 15 × 2</caption>\n",
              "<thead>\n",
              "\t<tr><th scope=col>manufacturer</th><th scope=col>max(hwy)</th></tr>\n",
              "\t<tr><th scope=col>&lt;chr&gt;</th><th scope=col>&lt;int&gt;</th></tr>\n",
              "</thead>\n",
              "<tbody>\n",
              "\t<tr><td>audi      </td><td>31</td></tr>\n",
              "\t<tr><td>chevrolet </td><td>30</td></tr>\n",
              "\t<tr><td>dodge     </td><td>24</td></tr>\n",
              "\t<tr><td>ford      </td><td>26</td></tr>\n",
              "\t<tr><td>honda     </td><td>36</td></tr>\n",
              "\t<tr><td>hyundai   </td><td>31</td></tr>\n",
              "\t<tr><td>jeep      </td><td>22</td></tr>\n",
              "\t<tr><td>land rover</td><td>18</td></tr>\n",
              "\t<tr><td>lincoln   </td><td>18</td></tr>\n",
              "\t<tr><td>mercury   </td><td>19</td></tr>\n",
              "\t<tr><td>nissan    </td><td>32</td></tr>\n",
              "\t<tr><td>pontiac   </td><td>28</td></tr>\n",
              "\t<tr><td>subaru    </td><td>27</td></tr>\n",
              "\t<tr><td>toyota    </td><td>37</td></tr>\n",
              "\t<tr><td>volkswagen</td><td>44</td></tr>\n",
              "</tbody>\n",
              "</table>\n"
            ],
            "text/markdown": "\nA data.frame: 15 × 2\n\n| manufacturer &lt;chr&gt; | max(hwy) &lt;int&gt; |\n|---|---|\n| audi       | 31 |\n| chevrolet  | 30 |\n| dodge      | 24 |\n| ford       | 26 |\n| honda      | 36 |\n| hyundai    | 31 |\n| jeep       | 22 |\n| land rover | 18 |\n| lincoln    | 18 |\n| mercury    | 19 |\n| nissan     | 32 |\n| pontiac    | 28 |\n| subaru     | 27 |\n| toyota     | 37 |\n| volkswagen | 44 |\n\n",
            "text/latex": "A data.frame: 15 × 2\n\\begin{tabular}{ll}\n manufacturer & max(hwy)\\\\\n <chr> & <int>\\\\\n\\hline\n\t audi       & 31\\\\\n\t chevrolet  & 30\\\\\n\t dodge      & 24\\\\\n\t ford       & 26\\\\\n\t honda      & 36\\\\\n\t hyundai    & 31\\\\\n\t jeep       & 22\\\\\n\t land rover & 18\\\\\n\t lincoln    & 18\\\\\n\t mercury    & 19\\\\\n\t nissan     & 32\\\\\n\t pontiac    & 28\\\\\n\t subaru     & 27\\\\\n\t toyota     & 37\\\\\n\t volkswagen & 44\\\\\n\\end{tabular}\n",
            "text/plain": [
              "   manufacturer max(hwy)\n",
              "1  audi         31      \n",
              "2  chevrolet    30      \n",
              "3  dodge        24      \n",
              "4  ford         26      \n",
              "5  honda        36      \n",
              "6  hyundai      31      \n",
              "7  jeep         22      \n",
              "8  land rover   18      \n",
              "9  lincoln      18      \n",
              "10 mercury      19      \n",
              "11 nissan       32      \n",
              "12 pontiac      28      \n",
              "13 subaru       27      \n",
              "14 toyota       37      \n",
              "15 volkswagen   44      "
            ]
          },
          "metadata": {}
        }
      ],
      "source": [
        "res <- dbSendQuery(con, \"select manufacturer, max(hwy) from mpg group by manufacturer\")\n",
        "dbFetch(res)\n",
        "dbClearResult(res)"
      ]
    },
    {
      "cell_type": "markdown",
      "metadata": {
        "id": "v26lQ3njXrB1"
      },
      "source": [
        "## 🤔 Quiz\n",
        "\n",
        "How many 4 cylinder models are present in this database?\n",
        "\n",
        "<ol style=\"list-style-type: upper-alpha;\">\n",
        "    <li>81</li>\n",
        "    <li>52</li>\n",
        "    <li>63</li>\n",
        "    <li>91</li>\n",
        "</ol>"
      ]
    },
    {
      "cell_type": "code",
      "execution_count": 33,
      "metadata": {
        "id": "Kl7wbQ_3XrB1",
        "outputId": "0d2f686f-0565-495e-db98-aba578dd41d0",
        "colab": {
          "base_uri": "https://localhost:8080/",
          "height": 164
        }
      },
      "outputs": [
        {
          "output_type": "display_data",
          "data": {
            "text/html": [
              "<table class=\"dataframe\">\n",
              "<caption>A data.frame: 1 × 1</caption>\n",
              "<thead>\n",
              "\t<tr><th scope=col>count(*)</th></tr>\n",
              "\t<tr><th scope=col>&lt;int&gt;</th></tr>\n",
              "</thead>\n",
              "<tbody>\n",
              "\t<tr><td>81</td></tr>\n",
              "</tbody>\n",
              "</table>\n"
            ],
            "text/markdown": "\nA data.frame: 1 × 1\n\n| count(*) &lt;int&gt; |\n|---|\n| 81 |\n\n",
            "text/latex": "A data.frame: 1 × 1\n\\begin{tabular}{l}\n count(*)\\\\\n <int>\\\\\n\\hline\n\t 81\\\\\n\\end{tabular}\n",
            "text/plain": [
              "  count(*)\n",
              "1 81      "
            ]
          },
          "metadata": {}
        }
      ],
      "source": [
        "# fill in the blanks\n",
        "res <- dbSendQuery(con, \"select count(*) from mpg where cyl = 4\")\n",
        "dbFetch(res)\n",
        "dbClearResult(res)"
      ]
    },
    {
      "cell_type": "markdown",
      "metadata": {
        "id": "sv6haTQTXrB3"
      },
      "source": [
        "### Solve\n",
        "Extend the above query to retrieve the minimum hwy value across manufacturer and model"
      ]
    },
    {
      "cell_type": "code",
      "execution_count": 38,
      "metadata": {
        "id": "eKWOErfnXrB3",
        "outputId": "98d17481-f149-44a8-95bc-f1bb11baca78",
        "scrolled": true,
        "colab": {
          "base_uri": "https://localhost:8080/",
          "height": 1000
        }
      },
      "outputs": [
        {
          "output_type": "display_data",
          "data": {
            "text/html": [
              "<table class=\"dataframe\">\n",
              "<caption>A data.frame: 38 × 3</caption>\n",
              "<thead>\n",
              "\t<tr><th scope=col>manufacturer</th><th scope=col>model</th><th scope=col>min(hwy)</th></tr>\n",
              "\t<tr><th scope=col>&lt;chr&gt;</th><th scope=col>&lt;chr&gt;</th><th scope=col>&lt;int&gt;</th></tr>\n",
              "</thead>\n",
              "<tbody>\n",
              "\t<tr><td>audi      </td><td>a4                    </td><td>26</td></tr>\n",
              "\t<tr><td>audi      </td><td>a4 quattro            </td><td>25</td></tr>\n",
              "\t<tr><td>audi      </td><td>a6 quattro            </td><td>23</td></tr>\n",
              "\t<tr><td>chevrolet </td><td>c1500 suburban 2wd    </td><td>15</td></tr>\n",
              "\t<tr><td>chevrolet </td><td>corvette              </td><td>23</td></tr>\n",
              "\t<tr><td>chevrolet </td><td>k1500 tahoe 4wd       </td><td>14</td></tr>\n",
              "\t<tr><td>chevrolet </td><td>malibu                </td><td>26</td></tr>\n",
              "\t<tr><td>dodge     </td><td>caravan 2wd           </td><td>17</td></tr>\n",
              "\t<tr><td>dodge     </td><td>dakota pickup 4wd     </td><td>12</td></tr>\n",
              "\t<tr><td>dodge     </td><td>durango 4wd           </td><td>12</td></tr>\n",
              "\t<tr><td>dodge     </td><td>ram 1500 pickup 4wd   </td><td>12</td></tr>\n",
              "\t<tr><td>ford      </td><td>expedition 2wd        </td><td>17</td></tr>\n",
              "\t<tr><td>ford      </td><td>explorer 4wd          </td><td>17</td></tr>\n",
              "\t<tr><td>ford      </td><td>f150 pickup 4wd       </td><td>15</td></tr>\n",
              "\t<tr><td>ford      </td><td>mustang               </td><td>20</td></tr>\n",
              "\t<tr><td>honda     </td><td>civic                 </td><td>29</td></tr>\n",
              "\t<tr><td>hyundai   </td><td>sonata                </td><td>26</td></tr>\n",
              "\t<tr><td>hyundai   </td><td>tiburon               </td><td>24</td></tr>\n",
              "\t<tr><td>jeep      </td><td>grand cherokee 4wd    </td><td>12</td></tr>\n",
              "\t<tr><td>land rover</td><td>range rover           </td><td>15</td></tr>\n",
              "\t<tr><td>lincoln   </td><td>navigator 2wd         </td><td>16</td></tr>\n",
              "\t<tr><td>mercury   </td><td>mountaineer 4wd       </td><td>17</td></tr>\n",
              "\t<tr><td>nissan    </td><td>altima                </td><td>26</td></tr>\n",
              "\t<tr><td>nissan    </td><td>maxima                </td><td>25</td></tr>\n",
              "\t<tr><td>nissan    </td><td>pathfinder 4wd        </td><td>17</td></tr>\n",
              "\t<tr><td>pontiac   </td><td>grand prix            </td><td>25</td></tr>\n",
              "\t<tr><td>subaru    </td><td>forester awd          </td><td>23</td></tr>\n",
              "\t<tr><td>subaru    </td><td>impreza awd           </td><td>25</td></tr>\n",
              "\t<tr><td>toyota    </td><td>4runner 4wd           </td><td>17</td></tr>\n",
              "\t<tr><td>toyota    </td><td>camry                 </td><td>26</td></tr>\n",
              "\t<tr><td>toyota    </td><td>camry solara          </td><td>26</td></tr>\n",
              "\t<tr><td>toyota    </td><td>corolla               </td><td>30</td></tr>\n",
              "\t<tr><td>toyota    </td><td>land cruiser wagon 4wd</td><td>15</td></tr>\n",
              "\t<tr><td>toyota    </td><td>toyota tacoma 4wd     </td><td>17</td></tr>\n",
              "\t<tr><td>volkswagen</td><td>gti                   </td><td>24</td></tr>\n",
              "\t<tr><td>volkswagen</td><td>jetta                 </td><td>23</td></tr>\n",
              "\t<tr><td>volkswagen</td><td>new beetle            </td><td>26</td></tr>\n",
              "\t<tr><td>volkswagen</td><td>passat                </td><td>26</td></tr>\n",
              "</tbody>\n",
              "</table>\n"
            ],
            "text/markdown": "\nA data.frame: 38 × 3\n\n| manufacturer &lt;chr&gt; | model &lt;chr&gt; | min(hwy) &lt;int&gt; |\n|---|---|---|\n| audi       | a4                     | 26 |\n| audi       | a4 quattro             | 25 |\n| audi       | a6 quattro             | 23 |\n| chevrolet  | c1500 suburban 2wd     | 15 |\n| chevrolet  | corvette               | 23 |\n| chevrolet  | k1500 tahoe 4wd        | 14 |\n| chevrolet  | malibu                 | 26 |\n| dodge      | caravan 2wd            | 17 |\n| dodge      | dakota pickup 4wd      | 12 |\n| dodge      | durango 4wd            | 12 |\n| dodge      | ram 1500 pickup 4wd    | 12 |\n| ford       | expedition 2wd         | 17 |\n| ford       | explorer 4wd           | 17 |\n| ford       | f150 pickup 4wd        | 15 |\n| ford       | mustang                | 20 |\n| honda      | civic                  | 29 |\n| hyundai    | sonata                 | 26 |\n| hyundai    | tiburon                | 24 |\n| jeep       | grand cherokee 4wd     | 12 |\n| land rover | range rover            | 15 |\n| lincoln    | navigator 2wd          | 16 |\n| mercury    | mountaineer 4wd        | 17 |\n| nissan     | altima                 | 26 |\n| nissan     | maxima                 | 25 |\n| nissan     | pathfinder 4wd         | 17 |\n| pontiac    | grand prix             | 25 |\n| subaru     | forester awd           | 23 |\n| subaru     | impreza awd            | 25 |\n| toyota     | 4runner 4wd            | 17 |\n| toyota     | camry                  | 26 |\n| toyota     | camry solara           | 26 |\n| toyota     | corolla                | 30 |\n| toyota     | land cruiser wagon 4wd | 15 |\n| toyota     | toyota tacoma 4wd      | 17 |\n| volkswagen | gti                    | 24 |\n| volkswagen | jetta                  | 23 |\n| volkswagen | new beetle             | 26 |\n| volkswagen | passat                 | 26 |\n\n",
            "text/latex": "A data.frame: 38 × 3\n\\begin{tabular}{lll}\n manufacturer & model & min(hwy)\\\\\n <chr> & <chr> & <int>\\\\\n\\hline\n\t audi       & a4                     & 26\\\\\n\t audi       & a4 quattro             & 25\\\\\n\t audi       & a6 quattro             & 23\\\\\n\t chevrolet  & c1500 suburban 2wd     & 15\\\\\n\t chevrolet  & corvette               & 23\\\\\n\t chevrolet  & k1500 tahoe 4wd        & 14\\\\\n\t chevrolet  & malibu                 & 26\\\\\n\t dodge      & caravan 2wd            & 17\\\\\n\t dodge      & dakota pickup 4wd      & 12\\\\\n\t dodge      & durango 4wd            & 12\\\\\n\t dodge      & ram 1500 pickup 4wd    & 12\\\\\n\t ford       & expedition 2wd         & 17\\\\\n\t ford       & explorer 4wd           & 17\\\\\n\t ford       & f150 pickup 4wd        & 15\\\\\n\t ford       & mustang                & 20\\\\\n\t honda      & civic                  & 29\\\\\n\t hyundai    & sonata                 & 26\\\\\n\t hyundai    & tiburon                & 24\\\\\n\t jeep       & grand cherokee 4wd     & 12\\\\\n\t land rover & range rover            & 15\\\\\n\t lincoln    & navigator 2wd          & 16\\\\\n\t mercury    & mountaineer 4wd        & 17\\\\\n\t nissan     & altima                 & 26\\\\\n\t nissan     & maxima                 & 25\\\\\n\t nissan     & pathfinder 4wd         & 17\\\\\n\t pontiac    & grand prix             & 25\\\\\n\t subaru     & forester awd           & 23\\\\\n\t subaru     & impreza awd            & 25\\\\\n\t toyota     & 4runner 4wd            & 17\\\\\n\t toyota     & camry                  & 26\\\\\n\t toyota     & camry solara           & 26\\\\\n\t toyota     & corolla                & 30\\\\\n\t toyota     & land cruiser wagon 4wd & 15\\\\\n\t toyota     & toyota tacoma 4wd      & 17\\\\\n\t volkswagen & gti                    & 24\\\\\n\t volkswagen & jetta                  & 23\\\\\n\t volkswagen & new beetle             & 26\\\\\n\t volkswagen & passat                 & 26\\\\\n\\end{tabular}\n",
            "text/plain": [
              "   manufacturer model                  min(hwy)\n",
              "1  audi         a4                     26      \n",
              "2  audi         a4 quattro             25      \n",
              "3  audi         a6 quattro             23      \n",
              "4  chevrolet    c1500 suburban 2wd     15      \n",
              "5  chevrolet    corvette               23      \n",
              "6  chevrolet    k1500 tahoe 4wd        14      \n",
              "7  chevrolet    malibu                 26      \n",
              "8  dodge        caravan 2wd            17      \n",
              "9  dodge        dakota pickup 4wd      12      \n",
              "10 dodge        durango 4wd            12      \n",
              "11 dodge        ram 1500 pickup 4wd    12      \n",
              "12 ford         expedition 2wd         17      \n",
              "13 ford         explorer 4wd           17      \n",
              "14 ford         f150 pickup 4wd        15      \n",
              "15 ford         mustang                20      \n",
              "16 honda        civic                  29      \n",
              "17 hyundai      sonata                 26      \n",
              "18 hyundai      tiburon                24      \n",
              "19 jeep         grand cherokee 4wd     12      \n",
              "20 land rover   range rover            15      \n",
              "21 lincoln      navigator 2wd          16      \n",
              "22 mercury      mountaineer 4wd        17      \n",
              "23 nissan       altima                 26      \n",
              "24 nissan       maxima                 25      \n",
              "25 nissan       pathfinder 4wd         17      \n",
              "26 pontiac      grand prix             25      \n",
              "27 subaru       forester awd           23      \n",
              "28 subaru       impreza awd            25      \n",
              "29 toyota       4runner 4wd            17      \n",
              "30 toyota       camry                  26      \n",
              "31 toyota       camry solara           26      \n",
              "32 toyota       corolla                30      \n",
              "33 toyota       land cruiser wagon 4wd 15      \n",
              "34 toyota       toyota tacoma 4wd      17      \n",
              "35 volkswagen   gti                    24      \n",
              "36 volkswagen   jetta                  23      \n",
              "37 volkswagen   new beetle             26      \n",
              "38 volkswagen   passat                 26      "
            ]
          },
          "metadata": {}
        }
      ],
      "source": [
        "res <- dbSendQuery(con, \"SELECT manufacturer, model, min(hwy) FROM mpg GROUP BY manufacturer, model\")\n",
        "dbFetch(res)\n",
        "dbClearResult(res)"
      ]
    },
    {
      "cell_type": "markdown",
      "metadata": {
        "id": "ESU7IsMgXrB3"
      },
      "source": [
        "### Solve\n",
        "Get all the manufacturers who have 4 or more 'compact' car class"
      ]
    },
    {
      "cell_type": "code",
      "execution_count": 40,
      "metadata": {
        "id": "EhnvZR5TXrB4",
        "outputId": "fd5fa67c-c347-4b11-80dd-e8ef713a133a",
        "colab": {
          "base_uri": "https://localhost:8080/",
          "height": 223
        }
      },
      "outputs": [
        {
          "output_type": "display_data",
          "data": {
            "text/html": [
              "<table class=\"dataframe\">\n",
              "<caption>A data.frame: 4 × 3</caption>\n",
              "<thead>\n",
              "\t<tr><th scope=col>manufacturer</th><th scope=col>class</th><th scope=col>count(*)</th></tr>\n",
              "\t<tr><th scope=col>&lt;chr&gt;</th><th scope=col>&lt;chr&gt;</th><th scope=col>&lt;int&gt;</th></tr>\n",
              "</thead>\n",
              "<tbody>\n",
              "\t<tr><td>audi      </td><td>compact</td><td>15</td></tr>\n",
              "\t<tr><td>subaru    </td><td>compact</td><td> 4</td></tr>\n",
              "\t<tr><td>toyota    </td><td>compact</td><td>12</td></tr>\n",
              "\t<tr><td>volkswagen</td><td>compact</td><td>14</td></tr>\n",
              "</tbody>\n",
              "</table>\n"
            ],
            "text/markdown": "\nA data.frame: 4 × 3\n\n| manufacturer &lt;chr&gt; | class &lt;chr&gt; | count(*) &lt;int&gt; |\n|---|---|---|\n| audi       | compact | 15 |\n| subaru     | compact |  4 |\n| toyota     | compact | 12 |\n| volkswagen | compact | 14 |\n\n",
            "text/latex": "A data.frame: 4 × 3\n\\begin{tabular}{lll}\n manufacturer & class & count(*)\\\\\n <chr> & <chr> & <int>\\\\\n\\hline\n\t audi       & compact & 15\\\\\n\t subaru     & compact &  4\\\\\n\t toyota     & compact & 12\\\\\n\t volkswagen & compact & 14\\\\\n\\end{tabular}\n",
            "text/plain": [
              "  manufacturer class   count(*)\n",
              "1 audi         compact 15      \n",
              "2 subaru       compact  4      \n",
              "3 toyota       compact 12      \n",
              "4 volkswagen   compact 14      "
            ]
          },
          "metadata": {}
        }
      ],
      "source": [
        "res <- dbSendQuery(con, \"SELECT manufacturer, class, count(*) FROM mpg WHERE class = 'compact' GROUP BY manufacturer HAVING count(*) >= 4\")\n",
        "dbFetch(res)\n",
        "dbClearResult(res)"
      ]
    },
    {
      "cell_type": "markdown",
      "metadata": {
        "id": "0-Rc83U5XrB4"
      },
      "source": [
        "### Solve\n",
        "Get distinct car manufacturers in this dataset"
      ]
    },
    {
      "cell_type": "code",
      "source": [
        "res <- dbSendQuery(con, \"SELECT DISTINCT manufacturer FROM mpg\")\n",
        "dbFetch(res)\n",
        "dbClearResult(res)"
      ],
      "metadata": {
        "id": "_Whoe42MiUEq",
        "outputId": "ba0a020d-0af4-4e60-e6f0-c9cabdd36d19",
        "colab": {
          "base_uri": "https://localhost:8080/",
          "height": 585
        }
      },
      "execution_count": 41,
      "outputs": [
        {
          "output_type": "display_data",
          "data": {
            "text/html": [
              "<table class=\"dataframe\">\n",
              "<caption>A data.frame: 15 × 1</caption>\n",
              "<thead>\n",
              "\t<tr><th scope=col>manufacturer</th></tr>\n",
              "\t<tr><th scope=col>&lt;chr&gt;</th></tr>\n",
              "</thead>\n",
              "<tbody>\n",
              "\t<tr><td>audi      </td></tr>\n",
              "\t<tr><td>chevrolet </td></tr>\n",
              "\t<tr><td>dodge     </td></tr>\n",
              "\t<tr><td>ford      </td></tr>\n",
              "\t<tr><td>honda     </td></tr>\n",
              "\t<tr><td>hyundai   </td></tr>\n",
              "\t<tr><td>jeep      </td></tr>\n",
              "\t<tr><td>land rover</td></tr>\n",
              "\t<tr><td>lincoln   </td></tr>\n",
              "\t<tr><td>mercury   </td></tr>\n",
              "\t<tr><td>nissan    </td></tr>\n",
              "\t<tr><td>pontiac   </td></tr>\n",
              "\t<tr><td>subaru    </td></tr>\n",
              "\t<tr><td>toyota    </td></tr>\n",
              "\t<tr><td>volkswagen</td></tr>\n",
              "</tbody>\n",
              "</table>\n"
            ],
            "text/markdown": "\nA data.frame: 15 × 1\n\n| manufacturer &lt;chr&gt; |\n|---|\n| audi       |\n| chevrolet  |\n| dodge      |\n| ford       |\n| honda      |\n| hyundai    |\n| jeep       |\n| land rover |\n| lincoln    |\n| mercury    |\n| nissan     |\n| pontiac    |\n| subaru     |\n| toyota     |\n| volkswagen |\n\n",
            "text/latex": "A data.frame: 15 × 1\n\\begin{tabular}{l}\n manufacturer\\\\\n <chr>\\\\\n\\hline\n\t audi      \\\\\n\t chevrolet \\\\\n\t dodge     \\\\\n\t ford      \\\\\n\t honda     \\\\\n\t hyundai   \\\\\n\t jeep      \\\\\n\t land rover\\\\\n\t lincoln   \\\\\n\t mercury   \\\\\n\t nissan    \\\\\n\t pontiac   \\\\\n\t subaru    \\\\\n\t toyota    \\\\\n\t volkswagen\\\\\n\\end{tabular}\n",
            "text/plain": [
              "   manufacturer\n",
              "1  audi        \n",
              "2  chevrolet   \n",
              "3  dodge       \n",
              "4  ford        \n",
              "5  honda       \n",
              "6  hyundai     \n",
              "7  jeep        \n",
              "8  land rover  \n",
              "9  lincoln     \n",
              "10 mercury     \n",
              "11 nissan      \n",
              "12 pontiac     \n",
              "13 subaru      \n",
              "14 toyota      \n",
              "15 volkswagen  "
            ]
          },
          "metadata": {}
        }
      ]
    },
    {
      "cell_type": "markdown",
      "metadata": {
        "id": "Qcmwo3wlXrB4"
      },
      "source": [
        "Once done, it is a good idea to disconnect from the database"
      ]
    },
    {
      "cell_type": "code",
      "execution_count": null,
      "metadata": {
        "id": "BXYy0kdTXrB4"
      },
      "outputs": [],
      "source": [
        "dbClearResult(res)\n",
        "dbDisconnect(con)"
      ]
    }
  ],
  "metadata": {
    "celltoolbar": "Slideshow",
    "colab": {
      "provenance": []
    },
    "kernelspec": {
      "display_name": "R",
      "language": "R",
      "name": "ir"
    },
    "language_info": {
      "codemirror_mode": "r",
      "file_extension": ".r",
      "mimetype": "text/x-r-source",
      "name": "R",
      "pygments_lexer": "r",
      "version": "4.3.1"
    }
  },
  "nbformat": 4,
  "nbformat_minor": 0
}