{
 "cells": [
  {
   "cell_type": "markdown",
   "metadata": {
    "id": "v0fdQhfeXrBZ"
   },
   "source": [
    "# Lecture 10:\n",
    "<div style=\"border: 1px double black; padding: 10px; margin: 10px\">\n",
    "\n",
    "**Goals for today's lecture:**\n",
    "* More on joins\n",
    "* Learn SQL (Structured Query Language)\n",
    "</div>\n"
   ]
  },
  {
   "cell_type": "code",
   "execution_count": 1,
   "metadata": {
    "colab": {
     "base_uri": "https://localhost:8080/"
    },
    "id": "KtXptobrXrBj",
    "outputId": "2c82b249-d93b-4092-c159-7b1e6171e661"
   },
   "outputs": [],
   "source": [
    "# install.packages('RSQLite')  # if required\n",
    "# install.packages('nycflights13')"
   ]
  },
  {
   "cell_type": "code",
   "execution_count": 3,
   "metadata": {
    "id": "eQRdeauWXrBp"
   },
   "outputs": [
    {
     "name": "stderr",
     "output_type": "stream",
     "text": [
      "── \u001b[1mAttaching core tidyverse packages\u001b[22m ──────────────────────── tidyverse 2.0.0 ──\n",
      "\u001b[32m✔\u001b[39m \u001b[34mdplyr    \u001b[39m 1.1.2     \u001b[32m✔\u001b[39m \u001b[34mreadr    \u001b[39m 2.1.4\n",
      "\u001b[32m✔\u001b[39m \u001b[34mforcats  \u001b[39m 1.0.0     \u001b[32m✔\u001b[39m \u001b[34mstringr  \u001b[39m 1.5.0\n",
      "\u001b[32m✔\u001b[39m \u001b[34mggplot2  \u001b[39m 3.4.3     \u001b[32m✔\u001b[39m \u001b[34mtibble   \u001b[39m 3.2.1\n",
      "\u001b[32m✔\u001b[39m \u001b[34mlubridate\u001b[39m 1.9.2     \u001b[32m✔\u001b[39m \u001b[34mtidyr    \u001b[39m 1.3.0\n",
      "\u001b[32m✔\u001b[39m \u001b[34mpurrr    \u001b[39m 1.0.2     \n",
      "── \u001b[1mConflicts\u001b[22m ────────────────────────────────────────── tidyverse_conflicts() ──\n",
      "\u001b[31m✖\u001b[39m \u001b[34mdplyr\u001b[39m::\u001b[32mfilter()\u001b[39m masks \u001b[34mstats\u001b[39m::filter()\n",
      "\u001b[31m✖\u001b[39m \u001b[34mdplyr\u001b[39m::\u001b[32mident()\u001b[39m  masks \u001b[34mdbplyr\u001b[39m::ident()\n",
      "\u001b[31m✖\u001b[39m \u001b[34mdplyr\u001b[39m::\u001b[32mlag()\u001b[39m    masks \u001b[34mstats\u001b[39m::lag()\n",
      "\u001b[31m✖\u001b[39m \u001b[34mdplyr\u001b[39m::\u001b[32msql()\u001b[39m    masks \u001b[34mdbplyr\u001b[39m::sql()\n",
      "\u001b[36mℹ\u001b[39m Use the conflicted package (\u001b[3m\u001b[34m<http://conflicted.r-lib.org/>\u001b[39m\u001b[23m) to force all conflicts to become errors\n"
     ]
    }
   ],
   "source": [
    "library(DBI)\n",
    "library(dbplyr)\n",
    "library(tidyverse)\n",
    "library(nycflights13)"
   ]
  },
  {
   "cell_type": "markdown",
   "metadata": {
    "id": "ho7WsEEVX-cS"
   },
   "source": [
    "### Exercise\n",
    "Assume every flight is full. The busiest travel day in terms of total # of passengers scheduled to depart is:\n",
    "(Hint: the `planes` table tells you how many passengers each airplane holds.)"
   ]
  },
  {
   "cell_type": "code",
   "execution_count": 13,
   "metadata": {
    "id": "VwgvhrA7YAus"
   },
   "outputs": [],
   "source": [
    "# code here\n"
   ]
  },
  {
   "cell_type": "markdown",
   "metadata": {
    "id": "fEHADIKOZUO0"
   },
   "source": [
    "### Anti-join\n",
    "`anti_join(x, y)` does the opposite of `semi_join`: it *drops* all the observations in `x` that are also in `y`.\n",
    "![anti join](https://r4ds.hadley.nz/diagrams/join/anti.png)\n",
    "\n",
    "Anti-joins are useful for finding mismatches in joins. There are many flights for which there is no tailnum in 'planes' table. To find out more about these flights we could use an anti-join to select only those rows:"
   ]
  },
  {
   "cell_type": "code",
   "execution_count": 28,
   "metadata": {
    "colab": {
     "base_uri": "https://localhost:8080/"
    },
    "id": "NWHDR1_CZlRX",
    "outputId": "f973f59f-63d5-48c1-8933-c32308435d55"
   },
   "outputs": [
    {
     "name": "stdout",
     "output_type": "stream",
     "text": [
      "\u001b[90m# A tibble: 721 × 1\u001b[39m\n",
      "   tailnum\n",
      "   \u001b[3m\u001b[90m<chr>\u001b[39m\u001b[23m  \n",
      "\u001b[90m 1\u001b[39m N3ALAA \n",
      "\u001b[90m 2\u001b[39m N3DUAA \n",
      "\u001b[90m 3\u001b[39m N542MQ \n",
      "\u001b[90m 4\u001b[39m N730MQ \n",
      "\u001b[90m 5\u001b[39m N9EAMQ \n",
      "\u001b[90m 6\u001b[39m N532UA \n",
      "\u001b[90m 7\u001b[39m N3EMAA \n",
      "\u001b[90m 8\u001b[39m N518MQ \n",
      "\u001b[90m 9\u001b[39m N3BAAA \n",
      "\u001b[90m10\u001b[39m N3CYAA \n",
      "\u001b[90m# ℹ 711 more rows\u001b[39m\n"
     ]
    }
   ],
   "source": [
    "anti_join(\n",
    "    flights, \n",
    "    planes, \n",
    "    join_by(\"tailnum\")\n",
    ") %>% \n",
    "    filter(!is.na(tailnum)) %>% \n",
    "    distinct(tailnum) %>% \n",
    "    print"
   ]
  },
  {
   "cell_type": "markdown",
   "metadata": {
    "id": "jfnBcRu_ZsAJ"
   },
   "source": [
    "\n",
    "What could be the reason for missing tailnums in the planes dataframe?"
   ]
  },
  {
   "cell_type": "code",
   "execution_count": 31,
   "metadata": {
    "colab": {
     "base_uri": "https://localhost:8080/"
    },
    "id": "KIKeSKx2Zwtl",
    "outputId": "f5ebd083-981f-4830-d58d-c048ce059baf"
   },
   "outputs": [
    {
     "name": "stdout",
     "output_type": "stream",
     "text": [
      "\u001b[90m# A tibble: 63 × 19\u001b[39m\n",
      "    year month   day dep_time sched_dep_time dep_delay arr_time sched_arr_time\n",
      "   \u001b[3m\u001b[90m<int>\u001b[39m\u001b[23m \u001b[3m\u001b[90m<int>\u001b[39m\u001b[23m \u001b[3m\u001b[90m<int>\u001b[39m\u001b[23m    \u001b[3m\u001b[90m<int>\u001b[39m\u001b[23m          \u001b[3m\u001b[90m<int>\u001b[39m\u001b[23m     \u001b[3m\u001b[90m<dbl>\u001b[39m\u001b[23m    \u001b[3m\u001b[90m<int>\u001b[39m\u001b[23m          \u001b[3m\u001b[90m<int>\u001b[39m\u001b[23m\n",
      "\u001b[90m 1\u001b[39m  \u001b[4m2\u001b[24m013     1     1      558            600        -\u001b[31m2\u001b[39m      753            745\n",
      "\u001b[90m 2\u001b[39m  \u001b[4m2\u001b[24m013     1     2     \u001b[4m1\u001b[24m907           \u001b[4m1\u001b[24m820        47     \u001b[4m2\u001b[24m037           \u001b[4m2\u001b[24m005\n",
      "\u001b[90m 3\u001b[39m  \u001b[4m2\u001b[24m013     1     3      600            600         0      736            745\n",
      "\u001b[90m 4\u001b[39m  \u001b[4m2\u001b[24m013     1     7     \u001b[4m1\u001b[24m911           \u001b[4m1\u001b[24m920        -\u001b[31m9\u001b[39m     \u001b[4m2\u001b[24m042           \u001b[4m2\u001b[24m100\n",
      "\u001b[90m 5\u001b[39m  \u001b[4m2\u001b[24m013     1     8     \u001b[4m1\u001b[24m718           \u001b[4m1\u001b[24m720        -\u001b[31m2\u001b[39m     \u001b[4m1\u001b[24m900           \u001b[4m1\u001b[24m915\n",
      "\u001b[90m 6\u001b[39m  \u001b[4m2\u001b[24m013     1    16      643            600        43      829            745\n",
      "\u001b[90m 7\u001b[39m  \u001b[4m2\u001b[24m013     1    20     \u001b[4m1\u001b[24m829           \u001b[4m1\u001b[24m820         9     \u001b[4m2\u001b[24m007           \u001b[4m2\u001b[24m005\n",
      "\u001b[90m 8\u001b[39m  \u001b[4m2\u001b[24m013     1    22     \u001b[4m1\u001b[24m713           \u001b[4m1\u001b[24m720        -\u001b[31m7\u001b[39m     \u001b[4m1\u001b[24m915           \u001b[4m1\u001b[24m915\n",
      "\u001b[90m 9\u001b[39m  \u001b[4m2\u001b[24m013    10    11      624            629        -\u001b[31m5\u001b[39m      907            929\n",
      "\u001b[90m10\u001b[39m  \u001b[4m2\u001b[24m013    10    14      821            825        -\u001b[31m4\u001b[39m      916            935\n",
      "   arr_delay carrier flight tailnum origin dest  air_time distance  hour minute\n",
      "       \u001b[3m\u001b[90m<dbl>\u001b[39m\u001b[23m \u001b[3m\u001b[90m<chr>\u001b[39m\u001b[23m    \u001b[3m\u001b[90m<int>\u001b[39m\u001b[23m \u001b[3m\u001b[90m<chr>\u001b[39m\u001b[23m   \u001b[3m\u001b[90m<chr>\u001b[39m\u001b[23m  \u001b[3m\u001b[90m<chr>\u001b[39m\u001b[23m    \u001b[3m\u001b[90m<dbl>\u001b[39m\u001b[23m    \u001b[3m\u001b[90m<dbl>\u001b[39m\u001b[23m \u001b[3m\u001b[90m<dbl>\u001b[39m\u001b[23m  \u001b[3m\u001b[90m<dbl>\u001b[39m\u001b[23m\n",
      "\u001b[90m 1\u001b[39m         8 AA         301 N3ALAA  LGA    ORD        138      733     6      0\n",
      "\u001b[90m 2\u001b[39m        32 AA         353 N3ALAA  LGA    ORD        123      733    18     20\n",
      "\u001b[90m 3\u001b[39m        -\u001b[31m9\u001b[39m AA         301 N3ALAA  LGA    ORD        132      733     6      0\n",
      "\u001b[90m 4\u001b[39m       -\u001b[31m18\u001b[39m AA         359 N3ALAA  LGA    ORD        118      733    19     20\n",
      "\u001b[90m 5\u001b[39m       -\u001b[31m15\u001b[39m AA        \u001b[4m1\u001b[24m351 N3ALAA  JFK    ORD        130      740    17     20\n",
      "\u001b[90m 6\u001b[39m        44 AA         301 N3ALAA  LGA    ORD        139      733     6      0\n",
      "\u001b[90m 7\u001b[39m         2 AA         353 N3ALAA  LGA    ORD        125      733    18     20\n",
      "\u001b[90m 8\u001b[39m         0 AA        \u001b[4m1\u001b[24m351 N3ALAA  JFK    ORD        129      740    17     20\n",
      "\u001b[90m 9\u001b[39m       -\u001b[31m22\u001b[39m AA        \u001b[4m1\u001b[24m205 N3ALAA  EWR    MIA        141     \u001b[4m1\u001b[24m085     6     29\n",
      "\u001b[90m10\u001b[39m       -\u001b[31m19\u001b[39m AA          84 N3ALAA  JFK    BOS         33      187     8     25\n",
      "   time_hour          \n",
      "   \u001b[3m\u001b[90m<dttm>\u001b[39m\u001b[23m             \n",
      "\u001b[90m 1\u001b[39m 2013-01-01 \u001b[90m06:00:00\u001b[39m\n",
      "\u001b[90m 2\u001b[39m 2013-01-02 \u001b[90m18:00:00\u001b[39m\n",
      "\u001b[90m 3\u001b[39m 2013-01-03 \u001b[90m06:00:00\u001b[39m\n",
      "\u001b[90m 4\u001b[39m 2013-01-07 \u001b[90m19:00:00\u001b[39m\n",
      "\u001b[90m 5\u001b[39m 2013-01-08 \u001b[90m17:00:00\u001b[39m\n",
      "\u001b[90m 6\u001b[39m 2013-01-16 \u001b[90m06:00:00\u001b[39m\n",
      "\u001b[90m 7\u001b[39m 2013-01-20 \u001b[90m18:00:00\u001b[39m\n",
      "\u001b[90m 8\u001b[39m 2013-01-22 \u001b[90m17:00:00\u001b[39m\n",
      "\u001b[90m 9\u001b[39m 2013-10-11 \u001b[90m06:00:00\u001b[39m\n",
      "\u001b[90m10\u001b[39m 2013-10-14 \u001b[90m08:00:00\u001b[39m\n",
      "\u001b[90m# ℹ 53 more rows\u001b[39m\n"
     ]
    }
   ],
   "source": [
    "flights %>% filter(tailnum == \"N3ALAA\") %>% print(width = Inf)"
   ]
  },
  {
   "cell_type": "markdown",
   "metadata": {
    "id": "OCg7DsQeZ1Oe"
   },
   "source": [
    "The one plane that is represented is N539AA. You can [look it up](https://flightaware.com/resources/registration/N539AA) in an online database and find out it's a private jet. My guess is the others are private jets too.\n",
    "\n",
    "Picture: https://s3.eu-west-2.amazonaws.com/abpic-media-eu-production/pictures/full_size_0415/1625779-large.jpg\n"
   ]
  },
  {
   "cell_type": "markdown",
   "metadata": {
    "id": "Cw8kLkJlZ6vA"
   },
   "source": [
    "# SQL - Structured Query Language"
   ]
  },
  {
   "cell_type": "markdown",
   "metadata": {
    "id": "OALKzgFnXrBh"
   },
   "source": [
    "A huge amount of data lives in relational databases so it is important to understand how to connect to a relational database and work with it.\n",
    "\n",
    "To connect to the database from R, you’ll use a pair of packages:\n",
    "\n",
    "* DBI (database interface) - this provides a set of generic functions that connect to the database, upload data, run SQL queries, etc.\n",
    "* You’ll also use a package tailored for the DBMS you’re connecting to. This package translates the generic DBI commands into the specifics needed for a given DBMS. There’s usually one package for each DMBS, e.g. RPostgres for Postgres and RMariaDB for MySQL. In this example we use SQLite and the package to use is **RSQLite**\n"
   ]
  },
  {
   "cell_type": "code",
   "execution_count": 32,
   "metadata": {
    "colab": {
     "base_uri": "https://localhost:8080/",
     "height": 17
    },
    "id": "i7mxhIQyXrBr",
    "outputId": "6ea25749-f9a0-4fa2-89a0-6838c5644a83"
   },
   "outputs": [
    {
     "data": {
      "text/html": [],
      "text/latex": [],
      "text/markdown": [],
      "text/plain": [
       "character(0)"
      ]
     },
     "metadata": {},
     "output_type": "display_data"
    }
   ],
   "source": [
    "# Create an ephemeral in-memory RSQLite database\n",
    "con <- dbConnect(RSQLite::SQLite(), \":memory:\")\n",
    "\n",
    "dbListTables(con)"
   ]
  },
  {
   "cell_type": "markdown",
   "metadata": {
    "id": "e77Ac4j7XrBt"
   },
   "source": [
    "At the outset you see that there are no tables when you run the above command. \n",
    "\n",
    "### dbplyr\n",
    "dbplyr is a dplyr backend, that allows you to keep writing dplyr code and **dbplyr** translates it to SQL. \n",
    "Now we are going to create a table called 'mpg' in our SQLite database using the mpg tibble and dbplyr is generating the necessary SQL queries to get this done behind the scenes."
   ]
  },
  {
   "cell_type": "code",
   "execution_count": 33,
   "metadata": {
    "colab": {
     "base_uri": "https://localhost:8080/",
     "height": 34
    },
    "id": "A-HMAqMBXrBt",
    "outputId": "c213028f-2a00-4e8c-ae3f-1d14b23406b3"
   },
   "outputs": [
    {
     "data": {
      "text/html": [
       "'mpg'"
      ],
      "text/latex": [
       "'mpg'"
      ],
      "text/markdown": [
       "'mpg'"
      ],
      "text/plain": [
       "[1] \"mpg\""
      ]
     },
     "metadata": {},
     "output_type": "display_data"
    }
   ],
   "source": [
    "dbWriteTable(con, \"mpg\", mpg, overwrite = T)\n",
    "dbListTables(con)"
   ]
  },
  {
   "cell_type": "code",
   "execution_count": null,
   "metadata": {
    "id": "I1KTeobKXrBu"
   },
   "outputs": [],
   "source": [
    "# dbRemoveTable(con, 'mpg') # this will delete the table"
   ]
  },
  {
   "cell_type": "markdown",
   "metadata": {
    "id": "j5A9VG-YXrBv"
   },
   "source": [
    "Now let us look into the column names of this table"
   ]
  },
  {
   "cell_type": "code",
   "execution_count": 34,
   "metadata": {
    "id": "etPZ9vdMXrBw",
    "outputId": "5ed37467-f716-4878-8e1a-585eb27fca60"
   },
   "outputs": [
    {
     "data": {
      "text/html": [
       "<style>\n",
       ".list-inline {list-style: none; margin:0; padding: 0}\n",
       ".list-inline>li {display: inline-block}\n",
       ".list-inline>li:not(:last-child)::after {content: \"\\00b7\"; padding: 0 .5ex}\n",
       "</style>\n",
       "<ol class=list-inline><li>'manufacturer'</li><li>'model'</li><li>'displ'</li><li>'year'</li><li>'cyl'</li><li>'trans'</li><li>'drv'</li><li>'cty'</li><li>'hwy'</li><li>'fl'</li><li>'class'</li></ol>\n"
      ],
      "text/latex": [
       "\\begin{enumerate*}\n",
       "\\item 'manufacturer'\n",
       "\\item 'model'\n",
       "\\item 'displ'\n",
       "\\item 'year'\n",
       "\\item 'cyl'\n",
       "\\item 'trans'\n",
       "\\item 'drv'\n",
       "\\item 'cty'\n",
       "\\item 'hwy'\n",
       "\\item 'fl'\n",
       "\\item 'class'\n",
       "\\end{enumerate*}\n"
      ],
      "text/markdown": [
       "1. 'manufacturer'\n",
       "2. 'model'\n",
       "3. 'displ'\n",
       "4. 'year'\n",
       "5. 'cyl'\n",
       "6. 'trans'\n",
       "7. 'drv'\n",
       "8. 'cty'\n",
       "9. 'hwy'\n",
       "10. 'fl'\n",
       "11. 'class'\n",
       "\n",
       "\n"
      ],
      "text/plain": [
       " [1] \"manufacturer\" \"model\"        \"displ\"        \"year\"         \"cyl\"         \n",
       " [6] \"trans\"        \"drv\"          \"cty\"          \"hwy\"          \"fl\"          \n",
       "[11] \"class\"       "
      ]
     },
     "metadata": {},
     "output_type": "display_data"
    }
   ],
   "source": [
    "dbListFields(con, \"mpg\")"
   ]
  },
  {
   "cell_type": "markdown",
   "metadata": {
    "id": "u3qncCIXXrBx"
   },
   "source": [
    "Time to read the entire table!"
   ]
  },
  {
   "cell_type": "code",
   "execution_count": null,
   "metadata": {
    "id": "YN7LBjUJXrBx",
    "outputId": "bebaa494-acf9-4447-9f0b-005564831b4e",
    "tags": []
   },
   "outputs": [],
   "source": [
    "dbReadTable(con, \"mpg\")"
   ]
  },
  {
   "cell_type": "markdown",
   "metadata": {
    "id": "Y9RF9zTUaTfl"
   },
   "source": [
    "### Selecting data from a table\n",
    "The SQL syntax for selecting column(s) from a table is\n",
    "```{sql}\n",
    "SELECT <col1>, <col2>, ..., <coln> FROM <table>\n",
    "```\n",
    "Note the similarity to the corresponding `tidyverse` command:\n",
    "```{r}\n",
    "select(<table>, <col1>, <col2>, ..., <coln>)\n",
    "```"
   ]
  },
  {
   "cell_type": "markdown",
   "metadata": {
    "id": "RVoFQDdbXrBx"
   },
   "source": [
    "Let us select some records"
   ]
  },
  {
   "cell_type": "code",
   "execution_count": null,
   "metadata": {
    "id": "2vj5EWfsXrBy",
    "scrolled": true
   },
   "outputs": [],
   "source": [
    "res <- dbSendQuery(con, \"SELECT * FROM mpg\")"
   ]
  },
  {
   "cell_type": "code",
   "execution_count": 41,
   "metadata": {
    "id": "0BbM4f84XrBz",
    "outputId": "1de7ca66-4cd5-4845-ef75-360c57547468"
   },
   "outputs": [
    {
     "data": {
      "text/html": [
       "<table class=\"dataframe\">\n",
       "<caption>A data.frame: 6 × 11</caption>\n",
       "<thead>\n",
       "\t<tr><th></th><th scope=col>manufacturer</th><th scope=col>model</th><th scope=col>displ</th><th scope=col>year</th><th scope=col>cyl</th><th scope=col>trans</th><th scope=col>drv</th><th scope=col>cty</th><th scope=col>hwy</th><th scope=col>fl</th><th scope=col>class</th></tr>\n",
       "\t<tr><th></th><th scope=col>&lt;chr&gt;</th><th scope=col>&lt;chr&gt;</th><th scope=col>&lt;dbl&gt;</th><th scope=col>&lt;int&gt;</th><th scope=col>&lt;int&gt;</th><th scope=col>&lt;chr&gt;</th><th scope=col>&lt;chr&gt;</th><th scope=col>&lt;int&gt;</th><th scope=col>&lt;int&gt;</th><th scope=col>&lt;chr&gt;</th><th scope=col>&lt;chr&gt;</th></tr>\n",
       "</thead>\n",
       "<tbody>\n",
       "\t<tr><th scope=row>1</th><td>audi</td><td>a4</td><td>1.8</td><td>1999</td><td>4</td><td>auto(l5)  </td><td>f</td><td>18</td><td>29</td><td>p</td><td>compact</td></tr>\n",
       "\t<tr><th scope=row>2</th><td>audi</td><td>a4</td><td>1.8</td><td>1999</td><td>4</td><td>manual(m5)</td><td>f</td><td>21</td><td>29</td><td>p</td><td>compact</td></tr>\n",
       "\t<tr><th scope=row>3</th><td>audi</td><td>a4</td><td>2.0</td><td>2008</td><td>4</td><td>manual(m6)</td><td>f</td><td>20</td><td>31</td><td>p</td><td>compact</td></tr>\n",
       "\t<tr><th scope=row>4</th><td>audi</td><td>a4</td><td>2.0</td><td>2008</td><td>4</td><td>auto(av)  </td><td>f</td><td>21</td><td>30</td><td>p</td><td>compact</td></tr>\n",
       "\t<tr><th scope=row>5</th><td>audi</td><td>a4</td><td>2.8</td><td>1999</td><td>6</td><td>auto(l5)  </td><td>f</td><td>16</td><td>26</td><td>p</td><td>compact</td></tr>\n",
       "\t<tr><th scope=row>6</th><td>audi</td><td>a4</td><td>2.8</td><td>1999</td><td>6</td><td>manual(m5)</td><td>f</td><td>18</td><td>26</td><td>p</td><td>compact</td></tr>\n",
       "</tbody>\n",
       "</table>\n"
      ],
      "text/latex": [
       "A data.frame: 6 × 11\n",
       "\\begin{tabular}{r|lllllllllll}\n",
       "  & manufacturer & model & displ & year & cyl & trans & drv & cty & hwy & fl & class\\\\\n",
       "  & <chr> & <chr> & <dbl> & <int> & <int> & <chr> & <chr> & <int> & <int> & <chr> & <chr>\\\\\n",
       "\\hline\n",
       "\t1 & audi & a4 & 1.8 & 1999 & 4 & auto(l5)   & f & 18 & 29 & p & compact\\\\\n",
       "\t2 & audi & a4 & 1.8 & 1999 & 4 & manual(m5) & f & 21 & 29 & p & compact\\\\\n",
       "\t3 & audi & a4 & 2.0 & 2008 & 4 & manual(m6) & f & 20 & 31 & p & compact\\\\\n",
       "\t4 & audi & a4 & 2.0 & 2008 & 4 & auto(av)   & f & 21 & 30 & p & compact\\\\\n",
       "\t5 & audi & a4 & 2.8 & 1999 & 6 & auto(l5)   & f & 16 & 26 & p & compact\\\\\n",
       "\t6 & audi & a4 & 2.8 & 1999 & 6 & manual(m5) & f & 18 & 26 & p & compact\\\\\n",
       "\\end{tabular}\n"
      ],
      "text/markdown": [
       "\n",
       "A data.frame: 6 × 11\n",
       "\n",
       "| <!--/--> | manufacturer &lt;chr&gt; | model &lt;chr&gt; | displ &lt;dbl&gt; | year &lt;int&gt; | cyl &lt;int&gt; | trans &lt;chr&gt; | drv &lt;chr&gt; | cty &lt;int&gt; | hwy &lt;int&gt; | fl &lt;chr&gt; | class &lt;chr&gt; |\n",
       "|---|---|---|---|---|---|---|---|---|---|---|---|\n",
       "| 1 | audi | a4 | 1.8 | 1999 | 4 | auto(l5)   | f | 18 | 29 | p | compact |\n",
       "| 2 | audi | a4 | 1.8 | 1999 | 4 | manual(m5) | f | 21 | 29 | p | compact |\n",
       "| 3 | audi | a4 | 2.0 | 2008 | 4 | manual(m6) | f | 20 | 31 | p | compact |\n",
       "| 4 | audi | a4 | 2.0 | 2008 | 4 | auto(av)   | f | 21 | 30 | p | compact |\n",
       "| 5 | audi | a4 | 2.8 | 1999 | 6 | auto(l5)   | f | 16 | 26 | p | compact |\n",
       "| 6 | audi | a4 | 2.8 | 1999 | 6 | manual(m5) | f | 18 | 26 | p | compact |\n",
       "\n"
      ],
      "text/plain": [
       "  manufacturer model displ year cyl trans      drv cty hwy fl class  \n",
       "1 audi         a4    1.8   1999 4   auto(l5)   f   18  29  p  compact\n",
       "2 audi         a4    1.8   1999 4   manual(m5) f   21  29  p  compact\n",
       "3 audi         a4    2.0   2008 4   manual(m6) f   20  31  p  compact\n",
       "4 audi         a4    2.0   2008 4   auto(av)   f   21  30  p  compact\n",
       "5 audi         a4    2.8   1999 6   auto(l5)   f   16  26  p  compact\n",
       "6 audi         a4    2.8   1999 6   manual(m5) f   18  26  p  compact"
      ]
     },
     "metadata": {},
     "output_type": "display_data"
    }
   ],
   "source": [
    "dbFetch(res) %>% head"
   ]
  },
  {
   "cell_type": "markdown",
   "metadata": {
    "id": "9M4oWl-wak7H"
   },
   "source": [
    "The special keyword `*` means \"select everything\" and is equivalent to `dplyr`'s `everything()`:"
   ]
  },
  {
   "cell_type": "markdown",
   "metadata": {
    "id": "vNNxVXLTatbx"
   },
   "source": [
    "If you have a really big table, SQL allows you to `LIMIT` the number of rows it returns.f"
   ]
  },
  {
   "cell_type": "code",
   "execution_count": 46,
   "metadata": {
    "id": "KJdVhsvFaylB"
   },
   "outputs": [],
   "source": [
    "# using limit\n"
   ]
  },
  {
   "cell_type": "code",
   "execution_count": 45,
   "metadata": {
    "id": "B2YmamOxXrBz"
   },
   "outputs": [],
   "source": [
    "dbClearResult(res)"
   ]
  },
  {
   "cell_type": "markdown",
   "metadata": {
    "id": "Vy71dRi6bF0v"
   },
   "source": [
    "### Filtering\n",
    "\n",
    "The SQL syntax for filtering rows in a table uses the `WHERE` clause:\n",
    "```{sql}\n",
    "SELECT * FROM <table> WHERE dest = \"IAH\"\n",
    "```\n",
    "This is the same as:\n",
    "```{r}\n",
    "filter(<table>, dest == \"IAH\")\n",
    "```\n",
    "Note that SQL uses a single `=` to check equality!"
   ]
  },
  {
   "cell_type": "code",
   "execution_count": null,
   "metadata": {
    "id": "KWkMD2y-bOR5"
   },
   "outputs": [],
   "source": [
    "res <- dbSendQuery(con, \"SELECT * FROM mpg WHERE cyl = 4\")\n",
    "dbFetch(res)"
   ]
  },
  {
   "cell_type": "markdown",
   "metadata": {},
   "source": [
    "Now let us create more tables using our tidyverse datasets"
   ]
  },
  {
   "cell_type": "code",
   "execution_count": 47,
   "metadata": {
    "id": "3r5OcmNScQqO"
   },
   "outputs": [],
   "source": [
    "\n",
    "dbWriteTable(con, \"flights\", flights, overwrite=T)\n",
    "dbWriteTable(con, \"airports\", airports, overwrite=T)\n",
    "dbWriteTable(con, \"airlines\", airlines, overwrite=T)\n",
    "dbWriteTable(con, \"planes\", planes, overwrite=T)\n",
    "dbWriteTable(con, \"weather\", weather, overwrite=T)"
   ]
  },
  {
   "cell_type": "markdown",
   "metadata": {},
   "source": [
    "We will define a convenience function to simplify our query"
   ]
  },
  {
   "cell_type": "code",
   "execution_count": 60,
   "metadata": {},
   "outputs": [
    {
     "name": "stdout",
     "output_type": "stream",
     "text": [
      "function(...) dbGetQuery(con, ...)\n"
     ]
    }
   ],
   "source": [
    "q <- function(...) dbGetQuery(con, ...)\n",
    "print(q)"
   ]
  },
  {
   "cell_type": "markdown",
   "metadata": {
    "id": "bD1EI2I0b2Zp"
   },
   "source": [
    "### Missing data\n",
    "In SQL, missing data is coded as `NULL`. This is a special value which is analogous to `NA` in R. "
   ]
  },
  {
   "cell_type": "code",
   "execution_count": 62,
   "metadata": {
    "colab": {
     "base_uri": "https://localhost:8080/"
    },
    "id": "2EFIRgRqb6z2",
    "outputId": "25bca8a5-28a5-4e8e-efd3-01ea90bfd702",
    "scrolled": true
   },
   "outputs": [
    {
     "name": "stdout",
     "output_type": "stream",
     "text": [
      "\u001b[90m# A tibble: 328,521 × 19\u001b[39m\n",
      "    year month   day dep_time sched_dep_time dep_delay arr_time sched_arr_time\n",
      "   \u001b[3m\u001b[90m<int>\u001b[39m\u001b[23m \u001b[3m\u001b[90m<int>\u001b[39m\u001b[23m \u001b[3m\u001b[90m<int>\u001b[39m\u001b[23m    \u001b[3m\u001b[90m<int>\u001b[39m\u001b[23m          \u001b[3m\u001b[90m<int>\u001b[39m\u001b[23m     \u001b[3m\u001b[90m<dbl>\u001b[39m\u001b[23m    \u001b[3m\u001b[90m<int>\u001b[39m\u001b[23m          \u001b[3m\u001b[90m<int>\u001b[39m\u001b[23m\n",
      "\u001b[90m 1\u001b[39m  \u001b[4m2\u001b[24m013     1     1      517            515         2      830            819\n",
      "\u001b[90m 2\u001b[39m  \u001b[4m2\u001b[24m013     1     1      533            529         4      850            830\n",
      "\u001b[90m 3\u001b[39m  \u001b[4m2\u001b[24m013     1     1      542            540         2      923            850\n",
      "\u001b[90m 4\u001b[39m  \u001b[4m2\u001b[24m013     1     1      544            545        -\u001b[31m1\u001b[39m     \u001b[4m1\u001b[24m004           \u001b[4m1\u001b[24m022\n",
      "\u001b[90m 5\u001b[39m  \u001b[4m2\u001b[24m013     1     1      554            600        -\u001b[31m6\u001b[39m      812            837\n",
      "\u001b[90m 6\u001b[39m  \u001b[4m2\u001b[24m013     1     1      554            558        -\u001b[31m4\u001b[39m      740            728\n",
      "\u001b[90m 7\u001b[39m  \u001b[4m2\u001b[24m013     1     1      555            600        -\u001b[31m5\u001b[39m      913            854\n",
      "\u001b[90m 8\u001b[39m  \u001b[4m2\u001b[24m013     1     1      557            600        -\u001b[31m3\u001b[39m      709            723\n",
      "\u001b[90m 9\u001b[39m  \u001b[4m2\u001b[24m013     1     1      557            600        -\u001b[31m3\u001b[39m      838            846\n",
      "\u001b[90m10\u001b[39m  \u001b[4m2\u001b[24m013     1     1      558            600        -\u001b[31m2\u001b[39m      753            745\n",
      "\u001b[90m# ℹ 328,511 more rows\u001b[39m\n",
      "\u001b[90m# ℹ 11 more variables: arr_delay <dbl>, carrier <chr>, flight <int>,\u001b[39m\n",
      "\u001b[90m#   tailnum <chr>, origin <chr>, dest <chr>, air_time <dbl>, distance <dbl>,\u001b[39m\n",
      "\u001b[90m#   hour <dbl>, minute <dbl>, time_hour <dbl>\u001b[39m\n"
     ]
    }
   ],
   "source": [
    "# select non-null dep time\n",
    "\n",
    "q('SELECT * FROM flights WHERE dep_delay IS NOT NULL') %>% as_tibble %>% print\n",
    "\n",
    "# filter(flights, !is.na(dep_delay))"
   ]
  },
  {
   "cell_type": "markdown",
   "metadata": {
    "id": "wi2Fc51udtRC"
   },
   "source": [
    "### Summarizing\n",
    "\n",
    "The SQL syntax for summarizing is using the `GROUP BY` clause:\n",
    "```{sql}\n",
    "SELECT AVG(<col>) AS avg_col FROM <table> GROUP BY(<group cols>)\n",
    "```\n",
    "This is the same as:\n",
    "```{r}\n",
    "<table> %>% group_by(<group cols>) %>% summarize(avg_col = mean(<col>))\n",
    "```"
   ]
  },
  {
   "cell_type": "code",
   "execution_count": null,
   "metadata": {
    "colab": {
     "base_uri": "https://localhost:8080/",
     "height": 1000
    },
    "id": "ujzpaX1SdwNX",
    "outputId": "e26c9646-b6d3-4ee9-adf4-5bb87479dae4",
    "scrolled": true
   },
   "outputs": [],
   "source": [
    "# select the average distance and count for each day\n",
    "\n",
    "q(\"SELECT year, month, day, AVG(distance) AS avg_dist, \n",
    "    COUNT() AS n FROM flights GROUP BY year, month, day\")\n",
    "\n",
    "# equivalent to\n",
    "# flights %>% group_by(year, month, day) %>% summarize(avg_dist = mean(distance), n = n())"
   ]
  },
  {
   "cell_type": "markdown",
   "metadata": {
    "id": "o4W2ODxzd1rf"
   },
   "source": [
    "### Joins\n",
    "\n",
    "The SQL syntax for joins:\n",
    "```{sql}\n",
    "SELECT * FROM <table> LEFT JOIN <other_table> ON <left_key_col> = <right_key_col>\n",
    "```\n",
    "This is the same as:\n",
    "```{r}\n",
    "left_join(<table>, <other_table>, by = c(\"<left_key_col>\" = \"<right_key_col>\"))\n",
    "```"
   ]
  },
  {
   "cell_type": "code",
   "execution_count": null,
   "metadata": {},
   "outputs": [],
   "source": [
    "q(\"SELECT flights.year, planes.tailnum AS flightyr, * FROM flights \n",
    "    LEFT JOIN planes ON flights.tailnum = planes.tailnum\")"
   ]
  },
  {
   "cell_type": "markdown",
   "metadata": {
    "id": "YLNDbUGJd-LJ"
   },
   "source": [
    "### Ranking\n",
    "\n",
    "Ranking operates slightly differently in SQL than dplyr. The overall syntax is:\n",
    "\n",
    "\n",
    "    SELECT RANK() OVER (\n",
    "\t    PARTITION BY <columns>\n",
    "\t    ORDER BY <expression1> [ASC|DESC], ...\n",
    "    ) RankedCol FROM <table>\n",
    "    \n",
    "    \n",
    "The easiest way to learn it is to see some examples."
   ]
  },
  {
   "cell_type": "code",
   "execution_count": 69,
   "metadata": {
    "colab": {
     "base_uri": "https://localhost:8080/",
     "height": 1000
    },
    "id": "S1VretMIeBKV",
    "outputId": "001db0de-cc21-4166-c3f9-dd6dcea14511",
    "scrolled": true
   },
   "outputs": [
    {
     "data": {
      "text/html": [
       "<table class=\"dataframe\">\n",
       "<caption>A data.frame: 336776 × 5</caption>\n",
       "<thead>\n",
       "\t<tr><th scope=col>year</th><th scope=col>month</th><th scope=col>day</th><th scope=col>dep_delay</th><th scope=col>r</th></tr>\n",
       "\t<tr><th scope=col>&lt;int&gt;</th><th scope=col>&lt;int&gt;</th><th scope=col>&lt;int&gt;</th><th scope=col>&lt;dbl&gt;</th><th scope=col>&lt;int&gt;</th></tr>\n",
       "</thead>\n",
       "<tbody>\n",
       "\t<tr><td>2013</td><td>1</td><td>1</td><td>853</td><td> 1</td></tr>\n",
       "\t<tr><td>2013</td><td>1</td><td>1</td><td>379</td><td> 2</td></tr>\n",
       "\t<tr><td>2013</td><td>1</td><td>1</td><td>290</td><td> 3</td></tr>\n",
       "\t<tr><td>2013</td><td>1</td><td>1</td><td>285</td><td> 4</td></tr>\n",
       "\t<tr><td>2013</td><td>1</td><td>1</td><td>260</td><td> 5</td></tr>\n",
       "\t<tr><td>2013</td><td>1</td><td>1</td><td>255</td><td> 6</td></tr>\n",
       "\t<tr><td>2013</td><td>1</td><td>1</td><td>216</td><td> 7</td></tr>\n",
       "\t<tr><td>2013</td><td>1</td><td>1</td><td>192</td><td> 8</td></tr>\n",
       "\t<tr><td>2013</td><td>1</td><td>1</td><td>157</td><td> 9</td></tr>\n",
       "\t<tr><td>2013</td><td>1</td><td>1</td><td>155</td><td>10</td></tr>\n",
       "\t<tr><td>2013</td><td>1</td><td>1</td><td>144</td><td>11</td></tr>\n",
       "\t<tr><td>2013</td><td>1</td><td>1</td><td>141</td><td>12</td></tr>\n",
       "\t<tr><td>2013</td><td>1</td><td>1</td><td>134</td><td>13</td></tr>\n",
       "\t<tr><td>2013</td><td>1</td><td>1</td><td>131</td><td>14</td></tr>\n",
       "\t<tr><td>2013</td><td>1</td><td>1</td><td>129</td><td>15</td></tr>\n",
       "\t<tr><td>2013</td><td>1</td><td>1</td><td>122</td><td>16</td></tr>\n",
       "\t<tr><td>2013</td><td>1</td><td>1</td><td>121</td><td>17</td></tr>\n",
       "\t<tr><td>2013</td><td>1</td><td>1</td><td>119</td><td>18</td></tr>\n",
       "\t<tr><td>2013</td><td>1</td><td>1</td><td>116</td><td>19</td></tr>\n",
       "\t<tr><td>2013</td><td>1</td><td>1</td><td>115</td><td>20</td></tr>\n",
       "\t<tr><td>2013</td><td>1</td><td>1</td><td>109</td><td>21</td></tr>\n",
       "\t<tr><td>2013</td><td>1</td><td>1</td><td>109</td><td>21</td></tr>\n",
       "\t<tr><td>2013</td><td>1</td><td>1</td><td>105</td><td>23</td></tr>\n",
       "\t<tr><td>2013</td><td>1</td><td>1</td><td>105</td><td>23</td></tr>\n",
       "\t<tr><td>2013</td><td>1</td><td>1</td><td>103</td><td>25</td></tr>\n",
       "\t<tr><td>2013</td><td>1</td><td>1</td><td>101</td><td>26</td></tr>\n",
       "\t<tr><td>2013</td><td>1</td><td>1</td><td> 96</td><td>27</td></tr>\n",
       "\t<tr><td>2013</td><td>1</td><td>1</td><td> 91</td><td>28</td></tr>\n",
       "\t<tr><td>2013</td><td>1</td><td>1</td><td> 88</td><td>29</td></tr>\n",
       "\t<tr><td>2013</td><td>1</td><td>1</td><td> 88</td><td>29</td></tr>\n",
       "\t<tr><td>⋮</td><td>⋮</td><td>⋮</td><td>⋮</td><td>⋮</td></tr>\n",
       "\t<tr><td>2013</td><td>12</td><td>31</td><td>-11</td><td>742</td></tr>\n",
       "\t<tr><td>2013</td><td>12</td><td>31</td><td>-11</td><td>742</td></tr>\n",
       "\t<tr><td>2013</td><td>12</td><td>31</td><td>-11</td><td>742</td></tr>\n",
       "\t<tr><td>2013</td><td>12</td><td>31</td><td>-11</td><td>742</td></tr>\n",
       "\t<tr><td>2013</td><td>12</td><td>31</td><td>-12</td><td>751</td></tr>\n",
       "\t<tr><td>2013</td><td>12</td><td>31</td><td>-13</td><td>752</td></tr>\n",
       "\t<tr><td>2013</td><td>12</td><td>31</td><td>-14</td><td>753</td></tr>\n",
       "\t<tr><td>2013</td><td>12</td><td>31</td><td>-14</td><td>753</td></tr>\n",
       "\t<tr><td>2013</td><td>12</td><td>31</td><td>-14</td><td>753</td></tr>\n",
       "\t<tr><td>2013</td><td>12</td><td>31</td><td>-15</td><td>756</td></tr>\n",
       "\t<tr><td>2013</td><td>12</td><td>31</td><td>-15</td><td>756</td></tr>\n",
       "\t<tr><td>2013</td><td>12</td><td>31</td><td>-15</td><td>756</td></tr>\n",
       "\t<tr><td>2013</td><td>12</td><td>31</td><td>-15</td><td>756</td></tr>\n",
       "\t<tr><td>2013</td><td>12</td><td>31</td><td>-17</td><td>760</td></tr>\n",
       "\t<tr><td>2013</td><td>12</td><td>31</td><td> NA</td><td>761</td></tr>\n",
       "\t<tr><td>2013</td><td>12</td><td>31</td><td> NA</td><td>761</td></tr>\n",
       "\t<tr><td>2013</td><td>12</td><td>31</td><td> NA</td><td>761</td></tr>\n",
       "\t<tr><td>2013</td><td>12</td><td>31</td><td> NA</td><td>761</td></tr>\n",
       "\t<tr><td>2013</td><td>12</td><td>31</td><td> NA</td><td>761</td></tr>\n",
       "\t<tr><td>2013</td><td>12</td><td>31</td><td> NA</td><td>761</td></tr>\n",
       "\t<tr><td>2013</td><td>12</td><td>31</td><td> NA</td><td>761</td></tr>\n",
       "\t<tr><td>2013</td><td>12</td><td>31</td><td> NA</td><td>761</td></tr>\n",
       "\t<tr><td>2013</td><td>12</td><td>31</td><td> NA</td><td>761</td></tr>\n",
       "\t<tr><td>2013</td><td>12</td><td>31</td><td> NA</td><td>761</td></tr>\n",
       "\t<tr><td>2013</td><td>12</td><td>31</td><td> NA</td><td>761</td></tr>\n",
       "\t<tr><td>2013</td><td>12</td><td>31</td><td> NA</td><td>761</td></tr>\n",
       "\t<tr><td>2013</td><td>12</td><td>31</td><td> NA</td><td>761</td></tr>\n",
       "\t<tr><td>2013</td><td>12</td><td>31</td><td> NA</td><td>761</td></tr>\n",
       "\t<tr><td>2013</td><td>12</td><td>31</td><td> NA</td><td>761</td></tr>\n",
       "\t<tr><td>2013</td><td>12</td><td>31</td><td> NA</td><td>761</td></tr>\n",
       "</tbody>\n",
       "</table>\n"
      ],
      "text/latex": [
       "A data.frame: 336776 × 5\n",
       "\\begin{tabular}{lllll}\n",
       " year & month & day & dep\\_delay & r\\\\\n",
       " <int> & <int> & <int> & <dbl> & <int>\\\\\n",
       "\\hline\n",
       "\t 2013 & 1 & 1 & 853 &  1\\\\\n",
       "\t 2013 & 1 & 1 & 379 &  2\\\\\n",
       "\t 2013 & 1 & 1 & 290 &  3\\\\\n",
       "\t 2013 & 1 & 1 & 285 &  4\\\\\n",
       "\t 2013 & 1 & 1 & 260 &  5\\\\\n",
       "\t 2013 & 1 & 1 & 255 &  6\\\\\n",
       "\t 2013 & 1 & 1 & 216 &  7\\\\\n",
       "\t 2013 & 1 & 1 & 192 &  8\\\\\n",
       "\t 2013 & 1 & 1 & 157 &  9\\\\\n",
       "\t 2013 & 1 & 1 & 155 & 10\\\\\n",
       "\t 2013 & 1 & 1 & 144 & 11\\\\\n",
       "\t 2013 & 1 & 1 & 141 & 12\\\\\n",
       "\t 2013 & 1 & 1 & 134 & 13\\\\\n",
       "\t 2013 & 1 & 1 & 131 & 14\\\\\n",
       "\t 2013 & 1 & 1 & 129 & 15\\\\\n",
       "\t 2013 & 1 & 1 & 122 & 16\\\\\n",
       "\t 2013 & 1 & 1 & 121 & 17\\\\\n",
       "\t 2013 & 1 & 1 & 119 & 18\\\\\n",
       "\t 2013 & 1 & 1 & 116 & 19\\\\\n",
       "\t 2013 & 1 & 1 & 115 & 20\\\\\n",
       "\t 2013 & 1 & 1 & 109 & 21\\\\\n",
       "\t 2013 & 1 & 1 & 109 & 21\\\\\n",
       "\t 2013 & 1 & 1 & 105 & 23\\\\\n",
       "\t 2013 & 1 & 1 & 105 & 23\\\\\n",
       "\t 2013 & 1 & 1 & 103 & 25\\\\\n",
       "\t 2013 & 1 & 1 & 101 & 26\\\\\n",
       "\t 2013 & 1 & 1 &  96 & 27\\\\\n",
       "\t 2013 & 1 & 1 &  91 & 28\\\\\n",
       "\t 2013 & 1 & 1 &  88 & 29\\\\\n",
       "\t 2013 & 1 & 1 &  88 & 29\\\\\n",
       "\t ⋮ & ⋮ & ⋮ & ⋮ & ⋮\\\\\n",
       "\t 2013 & 12 & 31 & -11 & 742\\\\\n",
       "\t 2013 & 12 & 31 & -11 & 742\\\\\n",
       "\t 2013 & 12 & 31 & -11 & 742\\\\\n",
       "\t 2013 & 12 & 31 & -11 & 742\\\\\n",
       "\t 2013 & 12 & 31 & -12 & 751\\\\\n",
       "\t 2013 & 12 & 31 & -13 & 752\\\\\n",
       "\t 2013 & 12 & 31 & -14 & 753\\\\\n",
       "\t 2013 & 12 & 31 & -14 & 753\\\\\n",
       "\t 2013 & 12 & 31 & -14 & 753\\\\\n",
       "\t 2013 & 12 & 31 & -15 & 756\\\\\n",
       "\t 2013 & 12 & 31 & -15 & 756\\\\\n",
       "\t 2013 & 12 & 31 & -15 & 756\\\\\n",
       "\t 2013 & 12 & 31 & -15 & 756\\\\\n",
       "\t 2013 & 12 & 31 & -17 & 760\\\\\n",
       "\t 2013 & 12 & 31 &  NA & 761\\\\\n",
       "\t 2013 & 12 & 31 &  NA & 761\\\\\n",
       "\t 2013 & 12 & 31 &  NA & 761\\\\\n",
       "\t 2013 & 12 & 31 &  NA & 761\\\\\n",
       "\t 2013 & 12 & 31 &  NA & 761\\\\\n",
       "\t 2013 & 12 & 31 &  NA & 761\\\\\n",
       "\t 2013 & 12 & 31 &  NA & 761\\\\\n",
       "\t 2013 & 12 & 31 &  NA & 761\\\\\n",
       "\t 2013 & 12 & 31 &  NA & 761\\\\\n",
       "\t 2013 & 12 & 31 &  NA & 761\\\\\n",
       "\t 2013 & 12 & 31 &  NA & 761\\\\\n",
       "\t 2013 & 12 & 31 &  NA & 761\\\\\n",
       "\t 2013 & 12 & 31 &  NA & 761\\\\\n",
       "\t 2013 & 12 & 31 &  NA & 761\\\\\n",
       "\t 2013 & 12 & 31 &  NA & 761\\\\\n",
       "\t 2013 & 12 & 31 &  NA & 761\\\\\n",
       "\\end{tabular}\n"
      ],
      "text/markdown": [
       "\n",
       "A data.frame: 336776 × 5\n",
       "\n",
       "| year &lt;int&gt; | month &lt;int&gt; | day &lt;int&gt; | dep_delay &lt;dbl&gt; | r &lt;int&gt; |\n",
       "|---|---|---|---|---|\n",
       "| 2013 | 1 | 1 | 853 |  1 |\n",
       "| 2013 | 1 | 1 | 379 |  2 |\n",
       "| 2013 | 1 | 1 | 290 |  3 |\n",
       "| 2013 | 1 | 1 | 285 |  4 |\n",
       "| 2013 | 1 | 1 | 260 |  5 |\n",
       "| 2013 | 1 | 1 | 255 |  6 |\n",
       "| 2013 | 1 | 1 | 216 |  7 |\n",
       "| 2013 | 1 | 1 | 192 |  8 |\n",
       "| 2013 | 1 | 1 | 157 |  9 |\n",
       "| 2013 | 1 | 1 | 155 | 10 |\n",
       "| 2013 | 1 | 1 | 144 | 11 |\n",
       "| 2013 | 1 | 1 | 141 | 12 |\n",
       "| 2013 | 1 | 1 | 134 | 13 |\n",
       "| 2013 | 1 | 1 | 131 | 14 |\n",
       "| 2013 | 1 | 1 | 129 | 15 |\n",
       "| 2013 | 1 | 1 | 122 | 16 |\n",
       "| 2013 | 1 | 1 | 121 | 17 |\n",
       "| 2013 | 1 | 1 | 119 | 18 |\n",
       "| 2013 | 1 | 1 | 116 | 19 |\n",
       "| 2013 | 1 | 1 | 115 | 20 |\n",
       "| 2013 | 1 | 1 | 109 | 21 |\n",
       "| 2013 | 1 | 1 | 109 | 21 |\n",
       "| 2013 | 1 | 1 | 105 | 23 |\n",
       "| 2013 | 1 | 1 | 105 | 23 |\n",
       "| 2013 | 1 | 1 | 103 | 25 |\n",
       "| 2013 | 1 | 1 | 101 | 26 |\n",
       "| 2013 | 1 | 1 |  96 | 27 |\n",
       "| 2013 | 1 | 1 |  91 | 28 |\n",
       "| 2013 | 1 | 1 |  88 | 29 |\n",
       "| 2013 | 1 | 1 |  88 | 29 |\n",
       "| ⋮ | ⋮ | ⋮ | ⋮ | ⋮ |\n",
       "| 2013 | 12 | 31 | -11 | 742 |\n",
       "| 2013 | 12 | 31 | -11 | 742 |\n",
       "| 2013 | 12 | 31 | -11 | 742 |\n",
       "| 2013 | 12 | 31 | -11 | 742 |\n",
       "| 2013 | 12 | 31 | -12 | 751 |\n",
       "| 2013 | 12 | 31 | -13 | 752 |\n",
       "| 2013 | 12 | 31 | -14 | 753 |\n",
       "| 2013 | 12 | 31 | -14 | 753 |\n",
       "| 2013 | 12 | 31 | -14 | 753 |\n",
       "| 2013 | 12 | 31 | -15 | 756 |\n",
       "| 2013 | 12 | 31 | -15 | 756 |\n",
       "| 2013 | 12 | 31 | -15 | 756 |\n",
       "| 2013 | 12 | 31 | -15 | 756 |\n",
       "| 2013 | 12 | 31 | -17 | 760 |\n",
       "| 2013 | 12 | 31 |  NA | 761 |\n",
       "| 2013 | 12 | 31 |  NA | 761 |\n",
       "| 2013 | 12 | 31 |  NA | 761 |\n",
       "| 2013 | 12 | 31 |  NA | 761 |\n",
       "| 2013 | 12 | 31 |  NA | 761 |\n",
       "| 2013 | 12 | 31 |  NA | 761 |\n",
       "| 2013 | 12 | 31 |  NA | 761 |\n",
       "| 2013 | 12 | 31 |  NA | 761 |\n",
       "| 2013 | 12 | 31 |  NA | 761 |\n",
       "| 2013 | 12 | 31 |  NA | 761 |\n",
       "| 2013 | 12 | 31 |  NA | 761 |\n",
       "| 2013 | 12 | 31 |  NA | 761 |\n",
       "| 2013 | 12 | 31 |  NA | 761 |\n",
       "| 2013 | 12 | 31 |  NA | 761 |\n",
       "| 2013 | 12 | 31 |  NA | 761 |\n",
       "| 2013 | 12 | 31 |  NA | 761 |\n",
       "\n"
      ],
      "text/plain": [
       "       year month day dep_delay r  \n",
       "1      2013 1     1   853        1 \n",
       "2      2013 1     1   379        2 \n",
       "3      2013 1     1   290        3 \n",
       "4      2013 1     1   285        4 \n",
       "5      2013 1     1   260        5 \n",
       "6      2013 1     1   255        6 \n",
       "7      2013 1     1   216        7 \n",
       "8      2013 1     1   192        8 \n",
       "9      2013 1     1   157        9 \n",
       "10     2013 1     1   155       10 \n",
       "11     2013 1     1   144       11 \n",
       "12     2013 1     1   141       12 \n",
       "13     2013 1     1   134       13 \n",
       "14     2013 1     1   131       14 \n",
       "15     2013 1     1   129       15 \n",
       "16     2013 1     1   122       16 \n",
       "17     2013 1     1   121       17 \n",
       "18     2013 1     1   119       18 \n",
       "19     2013 1     1   116       19 \n",
       "20     2013 1     1   115       20 \n",
       "21     2013 1     1   109       21 \n",
       "22     2013 1     1   109       21 \n",
       "23     2013 1     1   105       23 \n",
       "24     2013 1     1   105       23 \n",
       "25     2013 1     1   103       25 \n",
       "26     2013 1     1   101       26 \n",
       "27     2013 1     1    96       27 \n",
       "28     2013 1     1    91       28 \n",
       "29     2013 1     1    88       29 \n",
       "30     2013 1     1    88       29 \n",
       "⋮      ⋮    ⋮     ⋮   ⋮         ⋮  \n",
       "336747 2013 12    31  -11       742\n",
       "336748 2013 12    31  -11       742\n",
       "336749 2013 12    31  -11       742\n",
       "336750 2013 12    31  -11       742\n",
       "336751 2013 12    31  -12       751\n",
       "336752 2013 12    31  -13       752\n",
       "336753 2013 12    31  -14       753\n",
       "336754 2013 12    31  -14       753\n",
       "336755 2013 12    31  -14       753\n",
       "336756 2013 12    31  -15       756\n",
       "336757 2013 12    31  -15       756\n",
       "336758 2013 12    31  -15       756\n",
       "336759 2013 12    31  -15       756\n",
       "336760 2013 12    31  -17       760\n",
       "336761 2013 12    31   NA       761\n",
       "336762 2013 12    31   NA       761\n",
       "336763 2013 12    31   NA       761\n",
       "336764 2013 12    31   NA       761\n",
       "336765 2013 12    31   NA       761\n",
       "336766 2013 12    31   NA       761\n",
       "336767 2013 12    31   NA       761\n",
       "336768 2013 12    31   NA       761\n",
       "336769 2013 12    31   NA       761\n",
       "336770 2013 12    31   NA       761\n",
       "336771 2013 12    31   NA       761\n",
       "336772 2013 12    31   NA       761\n",
       "336773 2013 12    31   NA       761\n",
       "336774 2013 12    31   NA       761\n",
       "336775 2013 12    31   NA       761\n",
       "336776 2013 12    31   NA       761"
      ]
     },
     "metadata": {},
     "output_type": "display_data"
    }
   ],
   "source": [
    "# rank departure delay by day\n",
    "\n",
    "q('SELECT year, month, day, dep_delay, RANK() OVER (\n",
    "    PARTITION BY month, day \n",
    "    ORDER BY dep_delay DESC\n",
    "    ) r FROM flights')\n"
   ]
  },
  {
   "cell_type": "code",
   "execution_count": null,
   "metadata": {
    "scrolled": true
   },
   "outputs": [],
   "source": [
    "# The above query is equivalent to\n",
    "flights %>% group_by(month, day) %>% mutate(r = min_rank(-dep_delay)) %>% \n",
    "    select(month, day, dep_delay, r) %>% arrange(month, day, r)"
   ]
  },
  {
   "cell_type": "markdown",
   "metadata": {
    "id": "_OQab-5CeGC6"
   },
   "source": [
    "## Subqueries\n",
    "\n",
    "An aspect of SQL I find confusing is that you cannot filter (`WHERE ...`) based on a ranking condition:"
   ]
  },
  {
   "cell_type": "code",
   "execution_count": 80,
   "metadata": {},
   "outputs": [
    {
     "ename": "ERROR",
     "evalue": "Error: misuse of aliased window function r\n",
     "output_type": "error",
     "traceback": [
      "Error: misuse of aliased window function r\nTraceback:\n",
      "1. q(\"SELECT year, month, day, dep_delay, RANK() OVER (\\n    PARTITION BY month, day \\n    ORDER BY dep_delay DESC\\n    ) r FROM flights where r  = 1\")",
      "2. dbGetQuery(con, ...)   # at line 1 of file <text>",
      "3. dbGetQuery(con, ...)",
      "4. .local(conn, statement, ...)",
      "5. dbSendQuery(conn, statement, ...)",
      "6. dbSendQuery(conn, statement, ...)",
      "7. .local(conn, statement, ...)",
      "8. new(\"SQLiteResult\", sql = statement, ptr = result_create(conn@ptr, \n .     statement), conn = conn, bigint = conn@bigint)",
      "9. initialize(value, ...)",
      "10. initialize(value, ...)",
      "11. result_create(conn@ptr, statement)"
     ]
    }
   ],
   "source": [
    "q('SELECT year, month, day, dep_delay, RANK() OVER (\n",
    "    PARTITION BY month, day \n",
    "    ORDER BY dep_delay DESC\n",
    "    ) r FROM flights where r  = 1')"
   ]
  },
  {
   "cell_type": "markdown",
   "metadata": {},
   "source": [
    "You need to use subquery to get the result as shown below"
   ]
  },
  {
   "cell_type": "code",
   "execution_count": 79,
   "metadata": {
    "colab": {
     "base_uri": "https://localhost:8080/",
     "height": 1000
    },
    "id": "KDu97P61eIHU",
    "outputId": "4bc5a80e-7c10-4187-92c6-73d357149009"
   },
   "outputs": [
    {
     "data": {
      "text/html": [
       "<table class=\"dataframe\">\n",
       "<caption>A data.frame: 739 × 5</caption>\n",
       "<thead>\n",
       "\t<tr><th scope=col>year</th><th scope=col>month</th><th scope=col>day</th><th scope=col>dep_delay</th><th scope=col>r</th></tr>\n",
       "\t<tr><th scope=col>&lt;int&gt;</th><th scope=col>&lt;int&gt;</th><th scope=col>&lt;int&gt;</th><th scope=col>&lt;dbl&gt;</th><th scope=col>&lt;int&gt;</th></tr>\n",
       "</thead>\n",
       "<tbody>\n",
       "\t<tr><td>2013</td><td>1</td><td> 1</td><td> 853</td><td>1</td></tr>\n",
       "\t<tr><td>2013</td><td>1</td><td> 1</td><td> 379</td><td>2</td></tr>\n",
       "\t<tr><td>2013</td><td>1</td><td> 2</td><td> 379</td><td>1</td></tr>\n",
       "\t<tr><td>2013</td><td>1</td><td> 2</td><td> 337</td><td>2</td></tr>\n",
       "\t<tr><td>2013</td><td>1</td><td> 3</td><td> 291</td><td>1</td></tr>\n",
       "\t<tr><td>2013</td><td>1</td><td> 3</td><td> 268</td><td>2</td></tr>\n",
       "\t<tr><td>2013</td><td>1</td><td> 4</td><td> 288</td><td>1</td></tr>\n",
       "\t<tr><td>2013</td><td>1</td><td> 4</td><td> 208</td><td>2</td></tr>\n",
       "\t<tr><td>2013</td><td>1</td><td> 5</td><td> 327</td><td>1</td></tr>\n",
       "\t<tr><td>2013</td><td>1</td><td> 5</td><td> 257</td><td>2</td></tr>\n",
       "\t<tr><td>2013</td><td>1</td><td> 6</td><td> 202</td><td>1</td></tr>\n",
       "\t<tr><td>2013</td><td>1</td><td> 6</td><td> 163</td><td>2</td></tr>\n",
       "\t<tr><td>2013</td><td>1</td><td> 6</td><td> 163</td><td>2</td></tr>\n",
       "\t<tr><td>2013</td><td>1</td><td> 7</td><td> 366</td><td>1</td></tr>\n",
       "\t<tr><td>2013</td><td>1</td><td> 7</td><td> 293</td><td>2</td></tr>\n",
       "\t<tr><td>2013</td><td>1</td><td> 8</td><td> 188</td><td>1</td></tr>\n",
       "\t<tr><td>2013</td><td>1</td><td> 8</td><td> 162</td><td>2</td></tr>\n",
       "\t<tr><td>2013</td><td>1</td><td> 9</td><td>1301</td><td>1</td></tr>\n",
       "\t<tr><td>2013</td><td>1</td><td> 9</td><td> 253</td><td>2</td></tr>\n",
       "\t<tr><td>2013</td><td>1</td><td>10</td><td>1126</td><td>1</td></tr>\n",
       "\t<tr><td>2013</td><td>1</td><td>10</td><td> 385</td><td>2</td></tr>\n",
       "\t<tr><td>2013</td><td>1</td><td>11</td><td> 360</td><td>1</td></tr>\n",
       "\t<tr><td>2013</td><td>1</td><td>11</td><td> 241</td><td>2</td></tr>\n",
       "\t<tr><td>2013</td><td>1</td><td>12</td><td> 282</td><td>1</td></tr>\n",
       "\t<tr><td>2013</td><td>1</td><td>12</td><td> 158</td><td>2</td></tr>\n",
       "\t<tr><td>2013</td><td>1</td><td>13</td><td> 599</td><td>1</td></tr>\n",
       "\t<tr><td>2013</td><td>1</td><td>13</td><td> 315</td><td>2</td></tr>\n",
       "\t<tr><td>2013</td><td>1</td><td>14</td><td> 334</td><td>1</td></tr>\n",
       "\t<tr><td>2013</td><td>1</td><td>14</td><td> 266</td><td>2</td></tr>\n",
       "\t<tr><td>2013</td><td>1</td><td>15</td><td> 170</td><td>1</td></tr>\n",
       "\t<tr><td>⋮</td><td>⋮</td><td>⋮</td><td>⋮</td><td>⋮</td></tr>\n",
       "\t<tr><td>2013</td><td>12</td><td>17</td><td>845</td><td>1</td></tr>\n",
       "\t<tr><td>2013</td><td>12</td><td>17</td><td>503</td><td>2</td></tr>\n",
       "\t<tr><td>2013</td><td>12</td><td>18</td><td>432</td><td>1</td></tr>\n",
       "\t<tr><td>2013</td><td>12</td><td>18</td><td>270</td><td>2</td></tr>\n",
       "\t<tr><td>2013</td><td>12</td><td>19</td><td>849</td><td>1</td></tr>\n",
       "\t<tr><td>2013</td><td>12</td><td>19</td><td>292</td><td>2</td></tr>\n",
       "\t<tr><td>2013</td><td>12</td><td>20</td><td>221</td><td>1</td></tr>\n",
       "\t<tr><td>2013</td><td>12</td><td>20</td><td>213</td><td>2</td></tr>\n",
       "\t<tr><td>2013</td><td>12</td><td>21</td><td>392</td><td>1</td></tr>\n",
       "\t<tr><td>2013</td><td>12</td><td>21</td><td>373</td><td>2</td></tr>\n",
       "\t<tr><td>2013</td><td>12</td><td>22</td><td>486</td><td>1</td></tr>\n",
       "\t<tr><td>2013</td><td>12</td><td>22</td><td>336</td><td>2</td></tr>\n",
       "\t<tr><td>2013</td><td>12</td><td>23</td><td>389</td><td>1</td></tr>\n",
       "\t<tr><td>2013</td><td>12</td><td>23</td><td>314</td><td>2</td></tr>\n",
       "\t<tr><td>2013</td><td>12</td><td>24</td><td>286</td><td>1</td></tr>\n",
       "\t<tr><td>2013</td><td>12</td><td>24</td><td>251</td><td>2</td></tr>\n",
       "\t<tr><td>2013</td><td>12</td><td>25</td><td>321</td><td>1</td></tr>\n",
       "\t<tr><td>2013</td><td>12</td><td>25</td><td>251</td><td>2</td></tr>\n",
       "\t<tr><td>2013</td><td>12</td><td>26</td><td>252</td><td>1</td></tr>\n",
       "\t<tr><td>2013</td><td>12</td><td>26</td><td>248</td><td>2</td></tr>\n",
       "\t<tr><td>2013</td><td>12</td><td>27</td><td>275</td><td>1</td></tr>\n",
       "\t<tr><td>2013</td><td>12</td><td>27</td><td>171</td><td>2</td></tr>\n",
       "\t<tr><td>2013</td><td>12</td><td>28</td><td>314</td><td>1</td></tr>\n",
       "\t<tr><td>2013</td><td>12</td><td>28</td><td>165</td><td>2</td></tr>\n",
       "\t<tr><td>2013</td><td>12</td><td>29</td><td>420</td><td>1</td></tr>\n",
       "\t<tr><td>2013</td><td>12</td><td>29</td><td>306</td><td>2</td></tr>\n",
       "\t<tr><td>2013</td><td>12</td><td>30</td><td>292</td><td>1</td></tr>\n",
       "\t<tr><td>2013</td><td>12</td><td>30</td><td>251</td><td>2</td></tr>\n",
       "\t<tr><td>2013</td><td>12</td><td>31</td><td>220</td><td>1</td></tr>\n",
       "\t<tr><td>2013</td><td>12</td><td>31</td><td>197</td><td>2</td></tr>\n",
       "</tbody>\n",
       "</table>\n"
      ],
      "text/latex": [
       "A data.frame: 739 × 5\n",
       "\\begin{tabular}{lllll}\n",
       " year & month & day & dep\\_delay & r\\\\\n",
       " <int> & <int> & <int> & <dbl> & <int>\\\\\n",
       "\\hline\n",
       "\t 2013 & 1 &  1 &  853 & 1\\\\\n",
       "\t 2013 & 1 &  1 &  379 & 2\\\\\n",
       "\t 2013 & 1 &  2 &  379 & 1\\\\\n",
       "\t 2013 & 1 &  2 &  337 & 2\\\\\n",
       "\t 2013 & 1 &  3 &  291 & 1\\\\\n",
       "\t 2013 & 1 &  3 &  268 & 2\\\\\n",
       "\t 2013 & 1 &  4 &  288 & 1\\\\\n",
       "\t 2013 & 1 &  4 &  208 & 2\\\\\n",
       "\t 2013 & 1 &  5 &  327 & 1\\\\\n",
       "\t 2013 & 1 &  5 &  257 & 2\\\\\n",
       "\t 2013 & 1 &  6 &  202 & 1\\\\\n",
       "\t 2013 & 1 &  6 &  163 & 2\\\\\n",
       "\t 2013 & 1 &  6 &  163 & 2\\\\\n",
       "\t 2013 & 1 &  7 &  366 & 1\\\\\n",
       "\t 2013 & 1 &  7 &  293 & 2\\\\\n",
       "\t 2013 & 1 &  8 &  188 & 1\\\\\n",
       "\t 2013 & 1 &  8 &  162 & 2\\\\\n",
       "\t 2013 & 1 &  9 & 1301 & 1\\\\\n",
       "\t 2013 & 1 &  9 &  253 & 2\\\\\n",
       "\t 2013 & 1 & 10 & 1126 & 1\\\\\n",
       "\t 2013 & 1 & 10 &  385 & 2\\\\\n",
       "\t 2013 & 1 & 11 &  360 & 1\\\\\n",
       "\t 2013 & 1 & 11 &  241 & 2\\\\\n",
       "\t 2013 & 1 & 12 &  282 & 1\\\\\n",
       "\t 2013 & 1 & 12 &  158 & 2\\\\\n",
       "\t 2013 & 1 & 13 &  599 & 1\\\\\n",
       "\t 2013 & 1 & 13 &  315 & 2\\\\\n",
       "\t 2013 & 1 & 14 &  334 & 1\\\\\n",
       "\t 2013 & 1 & 14 &  266 & 2\\\\\n",
       "\t 2013 & 1 & 15 &  170 & 1\\\\\n",
       "\t ⋮ & ⋮ & ⋮ & ⋮ & ⋮\\\\\n",
       "\t 2013 & 12 & 17 & 845 & 1\\\\\n",
       "\t 2013 & 12 & 17 & 503 & 2\\\\\n",
       "\t 2013 & 12 & 18 & 432 & 1\\\\\n",
       "\t 2013 & 12 & 18 & 270 & 2\\\\\n",
       "\t 2013 & 12 & 19 & 849 & 1\\\\\n",
       "\t 2013 & 12 & 19 & 292 & 2\\\\\n",
       "\t 2013 & 12 & 20 & 221 & 1\\\\\n",
       "\t 2013 & 12 & 20 & 213 & 2\\\\\n",
       "\t 2013 & 12 & 21 & 392 & 1\\\\\n",
       "\t 2013 & 12 & 21 & 373 & 2\\\\\n",
       "\t 2013 & 12 & 22 & 486 & 1\\\\\n",
       "\t 2013 & 12 & 22 & 336 & 2\\\\\n",
       "\t 2013 & 12 & 23 & 389 & 1\\\\\n",
       "\t 2013 & 12 & 23 & 314 & 2\\\\\n",
       "\t 2013 & 12 & 24 & 286 & 1\\\\\n",
       "\t 2013 & 12 & 24 & 251 & 2\\\\\n",
       "\t 2013 & 12 & 25 & 321 & 1\\\\\n",
       "\t 2013 & 12 & 25 & 251 & 2\\\\\n",
       "\t 2013 & 12 & 26 & 252 & 1\\\\\n",
       "\t 2013 & 12 & 26 & 248 & 2\\\\\n",
       "\t 2013 & 12 & 27 & 275 & 1\\\\\n",
       "\t 2013 & 12 & 27 & 171 & 2\\\\\n",
       "\t 2013 & 12 & 28 & 314 & 1\\\\\n",
       "\t 2013 & 12 & 28 & 165 & 2\\\\\n",
       "\t 2013 & 12 & 29 & 420 & 1\\\\\n",
       "\t 2013 & 12 & 29 & 306 & 2\\\\\n",
       "\t 2013 & 12 & 30 & 292 & 1\\\\\n",
       "\t 2013 & 12 & 30 & 251 & 2\\\\\n",
       "\t 2013 & 12 & 31 & 220 & 1\\\\\n",
       "\t 2013 & 12 & 31 & 197 & 2\\\\\n",
       "\\end{tabular}\n"
      ],
      "text/markdown": [
       "\n",
       "A data.frame: 739 × 5\n",
       "\n",
       "| year &lt;int&gt; | month &lt;int&gt; | day &lt;int&gt; | dep_delay &lt;dbl&gt; | r &lt;int&gt; |\n",
       "|---|---|---|---|---|\n",
       "| 2013 | 1 |  1 |  853 | 1 |\n",
       "| 2013 | 1 |  1 |  379 | 2 |\n",
       "| 2013 | 1 |  2 |  379 | 1 |\n",
       "| 2013 | 1 |  2 |  337 | 2 |\n",
       "| 2013 | 1 |  3 |  291 | 1 |\n",
       "| 2013 | 1 |  3 |  268 | 2 |\n",
       "| 2013 | 1 |  4 |  288 | 1 |\n",
       "| 2013 | 1 |  4 |  208 | 2 |\n",
       "| 2013 | 1 |  5 |  327 | 1 |\n",
       "| 2013 | 1 |  5 |  257 | 2 |\n",
       "| 2013 | 1 |  6 |  202 | 1 |\n",
       "| 2013 | 1 |  6 |  163 | 2 |\n",
       "| 2013 | 1 |  6 |  163 | 2 |\n",
       "| 2013 | 1 |  7 |  366 | 1 |\n",
       "| 2013 | 1 |  7 |  293 | 2 |\n",
       "| 2013 | 1 |  8 |  188 | 1 |\n",
       "| 2013 | 1 |  8 |  162 | 2 |\n",
       "| 2013 | 1 |  9 | 1301 | 1 |\n",
       "| 2013 | 1 |  9 |  253 | 2 |\n",
       "| 2013 | 1 | 10 | 1126 | 1 |\n",
       "| 2013 | 1 | 10 |  385 | 2 |\n",
       "| 2013 | 1 | 11 |  360 | 1 |\n",
       "| 2013 | 1 | 11 |  241 | 2 |\n",
       "| 2013 | 1 | 12 |  282 | 1 |\n",
       "| 2013 | 1 | 12 |  158 | 2 |\n",
       "| 2013 | 1 | 13 |  599 | 1 |\n",
       "| 2013 | 1 | 13 |  315 | 2 |\n",
       "| 2013 | 1 | 14 |  334 | 1 |\n",
       "| 2013 | 1 | 14 |  266 | 2 |\n",
       "| 2013 | 1 | 15 |  170 | 1 |\n",
       "| ⋮ | ⋮ | ⋮ | ⋮ | ⋮ |\n",
       "| 2013 | 12 | 17 | 845 | 1 |\n",
       "| 2013 | 12 | 17 | 503 | 2 |\n",
       "| 2013 | 12 | 18 | 432 | 1 |\n",
       "| 2013 | 12 | 18 | 270 | 2 |\n",
       "| 2013 | 12 | 19 | 849 | 1 |\n",
       "| 2013 | 12 | 19 | 292 | 2 |\n",
       "| 2013 | 12 | 20 | 221 | 1 |\n",
       "| 2013 | 12 | 20 | 213 | 2 |\n",
       "| 2013 | 12 | 21 | 392 | 1 |\n",
       "| 2013 | 12 | 21 | 373 | 2 |\n",
       "| 2013 | 12 | 22 | 486 | 1 |\n",
       "| 2013 | 12 | 22 | 336 | 2 |\n",
       "| 2013 | 12 | 23 | 389 | 1 |\n",
       "| 2013 | 12 | 23 | 314 | 2 |\n",
       "| 2013 | 12 | 24 | 286 | 1 |\n",
       "| 2013 | 12 | 24 | 251 | 2 |\n",
       "| 2013 | 12 | 25 | 321 | 1 |\n",
       "| 2013 | 12 | 25 | 251 | 2 |\n",
       "| 2013 | 12 | 26 | 252 | 1 |\n",
       "| 2013 | 12 | 26 | 248 | 2 |\n",
       "| 2013 | 12 | 27 | 275 | 1 |\n",
       "| 2013 | 12 | 27 | 171 | 2 |\n",
       "| 2013 | 12 | 28 | 314 | 1 |\n",
       "| 2013 | 12 | 28 | 165 | 2 |\n",
       "| 2013 | 12 | 29 | 420 | 1 |\n",
       "| 2013 | 12 | 29 | 306 | 2 |\n",
       "| 2013 | 12 | 30 | 292 | 1 |\n",
       "| 2013 | 12 | 30 | 251 | 2 |\n",
       "| 2013 | 12 | 31 | 220 | 1 |\n",
       "| 2013 | 12 | 31 | 197 | 2 |\n",
       "\n"
      ],
      "text/plain": [
       "    year month day dep_delay r\n",
       "1   2013 1      1   853      1\n",
       "2   2013 1      1   379      2\n",
       "3   2013 1      2   379      1\n",
       "4   2013 1      2   337      2\n",
       "5   2013 1      3   291      1\n",
       "6   2013 1      3   268      2\n",
       "7   2013 1      4   288      1\n",
       "8   2013 1      4   208      2\n",
       "9   2013 1      5   327      1\n",
       "10  2013 1      5   257      2\n",
       "11  2013 1      6   202      1\n",
       "12  2013 1      6   163      2\n",
       "13  2013 1      6   163      2\n",
       "14  2013 1      7   366      1\n",
       "15  2013 1      7   293      2\n",
       "16  2013 1      8   188      1\n",
       "17  2013 1      8   162      2\n",
       "18  2013 1      9  1301      1\n",
       "19  2013 1      9   253      2\n",
       "20  2013 1     10  1126      1\n",
       "21  2013 1     10   385      2\n",
       "22  2013 1     11   360      1\n",
       "23  2013 1     11   241      2\n",
       "24  2013 1     12   282      1\n",
       "25  2013 1     12   158      2\n",
       "26  2013 1     13   599      1\n",
       "27  2013 1     13   315      2\n",
       "28  2013 1     14   334      1\n",
       "29  2013 1     14   266      2\n",
       "30  2013 1     15   170      1\n",
       "⋮   ⋮    ⋮     ⋮   ⋮         ⋮\n",
       "710 2013 12    17  845       1\n",
       "711 2013 12    17  503       2\n",
       "712 2013 12    18  432       1\n",
       "713 2013 12    18  270       2\n",
       "714 2013 12    19  849       1\n",
       "715 2013 12    19  292       2\n",
       "716 2013 12    20  221       1\n",
       "717 2013 12    20  213       2\n",
       "718 2013 12    21  392       1\n",
       "719 2013 12    21  373       2\n",
       "720 2013 12    22  486       1\n",
       "721 2013 12    22  336       2\n",
       "722 2013 12    23  389       1\n",
       "723 2013 12    23  314       2\n",
       "724 2013 12    24  286       1\n",
       "725 2013 12    24  251       2\n",
       "726 2013 12    25  321       1\n",
       "727 2013 12    25  251       2\n",
       "728 2013 12    26  252       1\n",
       "729 2013 12    26  248       2\n",
       "730 2013 12    27  275       1\n",
       "731 2013 12    27  171       2\n",
       "732 2013 12    28  314       1\n",
       "733 2013 12    28  165       2\n",
       "734 2013 12    29  420       1\n",
       "735 2013 12    29  306       2\n",
       "736 2013 12    30  292       1\n",
       "737 2013 12    30  251       2\n",
       "738 2013 12    31  220       1\n",
       "739 2013 12    31  197       2"
      ]
     },
     "metadata": {},
     "output_type": "display_data"
    }
   ],
   "source": [
    "q('SELECT year, month, day, dep_delay, r FROM \n",
    "    (\n",
    "        SELECT year, month, day, dep_delay, RANK() OVER (\n",
    "        PARTITION BY month, day \n",
    "        ORDER BY dep_delay DESC\n",
    "    ) r FROM flights)\n",
    "    WHERE r <= 2\n",
    "')\n"
   ]
  },
  {
   "cell_type": "markdown",
   "metadata": {
    "id": "MKj7WL9vXrB0"
   },
   "source": [
    "### Solve\n",
    "Find the max highway miles across each manufacturer"
   ]
  },
  {
   "cell_type": "code",
   "execution_count": null,
   "metadata": {
    "id": "ziShApqEXrB0",
    "outputId": "6d91b088-f7ac-4e11-e7df-cb51b810c97b",
    "scrolled": true
   },
   "outputs": [],
   "source": [
    "res <- dbSendQuery(con, \"\")\n",
    "dbFetch(res)\n",
    "dbClearResult(res)"
   ]
  },
  {
   "cell_type": "markdown",
   "metadata": {
    "id": "v26lQ3njXrB1"
   },
   "source": [
    "## 🤔 Quiz\n",
    "\n",
    "How many 4 cylinder models are present in this database?\n",
    "\n",
    "<ol style=\"list-style-type: upper-alpha;\">\n",
    "    <li>81</li>\n",
    "    <li>52</li>\n",
    "    <li>63</li>\n",
    "    <li>91</li>\n",
    "</ol>"
   ]
  },
  {
   "cell_type": "code",
   "execution_count": null,
   "metadata": {
    "id": "Kl7wbQ_3XrB1"
   },
   "outputs": [],
   "source": [
    "# fill in the blanks\n",
    "res <- dbSendQuery(con, \"\")\n",
    "dbFetch(res)\n",
    "dbClearResult(res)"
   ]
  },
  {
   "cell_type": "markdown",
   "metadata": {
    "id": "sv6haTQTXrB3"
   },
   "source": [
    "### Solve\n",
    "Extend the above query to retrieve the minimum hwy value across manufacturer and model"
   ]
  },
  {
   "cell_type": "code",
   "execution_count": null,
   "metadata": {
    "id": "eKWOErfnXrB3",
    "outputId": "c347f94b-67bb-40dd-cf67-105a2b3e3ca6",
    "scrolled": true
   },
   "outputs": [],
   "source": [
    "res <- dbSendQuery(con, \"\")\n",
    "dbFetch(res)\n",
    "dbClearResult(res)"
   ]
  },
  {
   "cell_type": "markdown",
   "metadata": {
    "id": "ESU7IsMgXrB3"
   },
   "source": [
    "### Solve\n",
    "Get all the manufacturers who have 4 or more 'compact' car class"
   ]
  },
  {
   "cell_type": "code",
   "execution_count": null,
   "metadata": {
    "id": "EhnvZR5TXrB4",
    "outputId": "462c9c64-c716-4f11-eae8-48b83ca6bb74"
   },
   "outputs": [
    {
     "data": {
      "text/html": [
       "<table class=\"dataframe\">\n",
       "<caption>A data.frame: 4 × 3</caption>\n",
       "<thead>\n",
       "\t<tr><th scope=col>manufacturer</th><th scope=col>class</th><th scope=col>count(*)</th></tr>\n",
       "\t<tr><th scope=col>&lt;chr&gt;</th><th scope=col>&lt;chr&gt;</th><th scope=col>&lt;int&gt;</th></tr>\n",
       "</thead>\n",
       "<tbody>\n",
       "\t<tr><td>audi      </td><td>compact</td><td>15</td></tr>\n",
       "\t<tr><td>subaru    </td><td>compact</td><td> 4</td></tr>\n",
       "\t<tr><td>toyota    </td><td>compact</td><td>12</td></tr>\n",
       "\t<tr><td>volkswagen</td><td>compact</td><td>14</td></tr>\n",
       "</tbody>\n",
       "</table>\n"
      ],
      "text/latex": [
       "A data.frame: 4 × 3\n",
       "\\begin{tabular}{lll}\n",
       " manufacturer & class & count(*)\\\\\n",
       " <chr> & <chr> & <int>\\\\\n",
       "\\hline\n",
       "\t audi       & compact & 15\\\\\n",
       "\t subaru     & compact &  4\\\\\n",
       "\t toyota     & compact & 12\\\\\n",
       "\t volkswagen & compact & 14\\\\\n",
       "\\end{tabular}\n"
      ],
      "text/markdown": [
       "\n",
       "A data.frame: 4 × 3\n",
       "\n",
       "| manufacturer &lt;chr&gt; | class &lt;chr&gt; | count(*) &lt;int&gt; |\n",
       "|---|---|---|\n",
       "| audi       | compact | 15 |\n",
       "| subaru     | compact |  4 |\n",
       "| toyota     | compact | 12 |\n",
       "| volkswagen | compact | 14 |\n",
       "\n"
      ],
      "text/plain": [
       "  manufacturer class   count(*)\n",
       "1 audi         compact 15      \n",
       "2 subaru       compact  4      \n",
       "3 toyota       compact 12      \n",
       "4 volkswagen   compact 14      "
      ]
     },
     "metadata": {},
     "output_type": "display_data"
    }
   ],
   "source": [
    "res <- dbSendQuery(con, \"\")\n",
    "dbFetch(res)\n",
    "dbClearResult(res)"
   ]
  },
  {
   "cell_type": "markdown",
   "metadata": {
    "id": "0-Rc83U5XrB4"
   },
   "source": [
    "### Solve\n",
    "Get distinct car manufacturers in this dataset"
   ]
  },
  {
   "cell_type": "code",
   "execution_count": null,
   "metadata": {
    "id": "nj1_Q99lXrB4",
    "outputId": "db5677b1-9d1b-4ccc-e7af-8fc6832e5d12"
   },
   "outputs": [
    {
     "data": {
      "text/html": [
       "<table class=\"dataframe\">\n",
       "<caption>A data.frame: 15 × 1</caption>\n",
       "<thead>\n",
       "\t<tr><th scope=col>manufacturer</th></tr>\n",
       "\t<tr><th scope=col>&lt;chr&gt;</th></tr>\n",
       "</thead>\n",
       "<tbody>\n",
       "\t<tr><td>audi      </td></tr>\n",
       "\t<tr><td>chevrolet </td></tr>\n",
       "\t<tr><td>dodge     </td></tr>\n",
       "\t<tr><td>ford      </td></tr>\n",
       "\t<tr><td>honda     </td></tr>\n",
       "\t<tr><td>hyundai   </td></tr>\n",
       "\t<tr><td>jeep      </td></tr>\n",
       "\t<tr><td>land rover</td></tr>\n",
       "\t<tr><td>lincoln   </td></tr>\n",
       "\t<tr><td>mercury   </td></tr>\n",
       "\t<tr><td>nissan    </td></tr>\n",
       "\t<tr><td>pontiac   </td></tr>\n",
       "\t<tr><td>subaru    </td></tr>\n",
       "\t<tr><td>toyota    </td></tr>\n",
       "\t<tr><td>volkswagen</td></tr>\n",
       "</tbody>\n",
       "</table>\n"
      ],
      "text/latex": [
       "A data.frame: 15 × 1\n",
       "\\begin{tabular}{l}\n",
       " manufacturer\\\\\n",
       " <chr>\\\\\n",
       "\\hline\n",
       "\t audi      \\\\\n",
       "\t chevrolet \\\\\n",
       "\t dodge     \\\\\n",
       "\t ford      \\\\\n",
       "\t honda     \\\\\n",
       "\t hyundai   \\\\\n",
       "\t jeep      \\\\\n",
       "\t land rover\\\\\n",
       "\t lincoln   \\\\\n",
       "\t mercury   \\\\\n",
       "\t nissan    \\\\\n",
       "\t pontiac   \\\\\n",
       "\t subaru    \\\\\n",
       "\t toyota    \\\\\n",
       "\t volkswagen\\\\\n",
       "\\end{tabular}\n"
      ],
      "text/markdown": [
       "\n",
       "A data.frame: 15 × 1\n",
       "\n",
       "| manufacturer &lt;chr&gt; |\n",
       "|---|\n",
       "| audi       |\n",
       "| chevrolet  |\n",
       "| dodge      |\n",
       "| ford       |\n",
       "| honda      |\n",
       "| hyundai    |\n",
       "| jeep       |\n",
       "| land rover |\n",
       "| lincoln    |\n",
       "| mercury    |\n",
       "| nissan     |\n",
       "| pontiac    |\n",
       "| subaru     |\n",
       "| toyota     |\n",
       "| volkswagen |\n",
       "\n"
      ],
      "text/plain": [
       "   manufacturer\n",
       "1  audi        \n",
       "2  chevrolet   \n",
       "3  dodge       \n",
       "4  ford        \n",
       "5  honda       \n",
       "6  hyundai     \n",
       "7  jeep        \n",
       "8  land rover  \n",
       "9  lincoln     \n",
       "10 mercury     \n",
       "11 nissan      \n",
       "12 pontiac     \n",
       "13 subaru      \n",
       "14 toyota      \n",
       "15 volkswagen  "
      ]
     },
     "metadata": {},
     "output_type": "display_data"
    }
   ],
   "source": [
    "res <- dbSendQuery(con, \"\")\n",
    "dbFetch(res)\n",
    "dbClearResult(res)"
   ]
  },
  {
   "cell_type": "markdown",
   "metadata": {
    "id": "Qcmwo3wlXrB4"
   },
   "source": [
    "Once done, it is a good idea to disconnect from the database"
   ]
  },
  {
   "cell_type": "code",
   "execution_count": null,
   "metadata": {
    "id": "BXYy0kdTXrB4"
   },
   "outputs": [],
   "source": [
    "dbClearResult(res)\n",
    "dbDisconnect(con)"
   ]
  }
 ],
 "metadata": {
  "celltoolbar": "Slideshow",
  "colab": {
   "provenance": []
  },
  "kernelspec": {
   "display_name": "R",
   "language": "R",
   "name": "ir"
  },
  "language_info": {
   "codemirror_mode": "r",
   "file_extension": ".r",
   "mimetype": "text/x-r-source",
   "name": "R",
   "pygments_lexer": "r",
   "version": "4.3.1"
  }
 },
 "nbformat": 4,
 "nbformat_minor": 4
}
