{
  "cells": [
    {
      "cell_type": "markdown",
      "metadata": {
        "id": "XlOf9RFL1GTi"
      },
      "source": [
        "# Lecture 17: Conditionals, Iterations and writing Functions in R\n",
        "<div style=\"border: 1px double black; padding: 10px; margin: 10px\">\n",
        "\n",
        "**After today's lecture you will understand:**\n",
        "* Conditional statements: `if/else`\n",
        "* how to write functions in R\n",
        "* Iteration: `for`/`while` loops.\n",
        "\n",
        "\n",
        "</div>\n",
        "\n",
        "This corresponds to Chapter 26/27 of your book\n",
        "\n",
        "\n",
        "\n"
      ]
    },
    {
      "cell_type": "code",
      "execution_count": 1,
      "metadata": {
        "colab": {
          "base_uri": "https://localhost:8080/"
        },
        "id": "LNaTvkfD1GTn",
        "outputId": "e08280f3-7014-43f6-e44c-f1376ac71d19"
      },
      "outputs": [
        {
          "output_type": "stream",
          "name": "stderr",
          "text": [
            "── \u001b[1mAttaching core tidyverse packages\u001b[22m ──────────────────────── tidyverse 2.0.0 ──\n",
            "\u001b[32m✔\u001b[39m \u001b[34mdplyr    \u001b[39m 1.1.3     \u001b[32m✔\u001b[39m \u001b[34mreadr    \u001b[39m 2.1.4\n",
            "\u001b[32m✔\u001b[39m \u001b[34mforcats  \u001b[39m 1.0.0     \u001b[32m✔\u001b[39m \u001b[34mstringr  \u001b[39m 1.5.0\n",
            "\u001b[32m✔\u001b[39m \u001b[34mggplot2  \u001b[39m 3.4.4     \u001b[32m✔\u001b[39m \u001b[34mtibble   \u001b[39m 3.2.1\n",
            "\u001b[32m✔\u001b[39m \u001b[34mlubridate\u001b[39m 1.9.3     \u001b[32m✔\u001b[39m \u001b[34mtidyr    \u001b[39m 1.3.0\n",
            "\u001b[32m✔\u001b[39m \u001b[34mpurrr    \u001b[39m 1.0.2     \n",
            "── \u001b[1mConflicts\u001b[22m ────────────────────────────────────────── tidyverse_conflicts() ──\n",
            "\u001b[31m✖\u001b[39m \u001b[34mdplyr\u001b[39m::\u001b[32mfilter()\u001b[39m masks \u001b[34mstats\u001b[39m::filter()\n",
            "\u001b[31m✖\u001b[39m \u001b[34mdplyr\u001b[39m::\u001b[32mlag()\u001b[39m    masks \u001b[34mstats\u001b[39m::lag()\n",
            "\u001b[36mℹ\u001b[39m Use the conflicted package (\u001b[3m\u001b[34m<http://conflicted.r-lib.org/>\u001b[39m\u001b[23m) to force all conflicts to become errors\n"
          ]
        }
      ],
      "source": [
        "library(tidyverse)"
      ]
    },
    {
      "cell_type": "markdown",
      "metadata": {
        "id": "YSyl8_U_b53q"
      },
      "source": [
        "## Conditional execution\n",
        "\n",
        "Often when writing functions we need to do different things depending on what data is passed in. This is known as conditional execution, and is accomplished using the if and/or else construct:\n",
        "\n",
        "```\n",
        "if (condition) {\n",
        "  # code executed when condition is TRUE\n",
        "} else {\n",
        "  # code executed when condition is FALSE\n",
        "}\n",
        "```"
      ]
    },
    {
      "cell_type": "markdown",
      "metadata": {
        "id": "bZScKD4eb53r"
      },
      "source": [
        "#### if statements\n",
        "\n",
        "The workhorse for conditional execution in `R` is the if statement.\n"
      ]
    },
    {
      "cell_type": "code",
      "execution_count": 6,
      "metadata": {
        "id": "KoNcUrdCb53s"
      },
      "outputs": [],
      "source": [
        "if (F) {  # this condition is hard-coded to TRUE and will always execute the if-block\n",
        "  print('do something if true')\n",
        "}"
      ]
    },
    {
      "cell_type": "code",
      "execution_count": 9,
      "metadata": {
        "id": "b79ve-erb53s",
        "outputId": "4c6d336e-1451-4d98-ef4f-9c334b8e1c8e",
        "colab": {
          "base_uri": "https://localhost:8080/"
        }
      },
      "outputs": [
        {
          "output_type": "stream",
          "name": "stdout",
          "text": [
            "[1] \"hello\"\n"
          ]
        }
      ],
      "source": [
        "x = 1\n",
        "if(x > 2){\n",
        "  print(x)\n",
        "}\n",
        "print('hello')"
      ]
    },
    {
      "cell_type": "markdown",
      "metadata": {
        "id": "TA_nnvsWb53t"
      },
      "source": [
        "## Optional `else` block\n",
        "\n",
        "Use an else to control the flow without separately checking the condition’s negation:\n",
        "\n"
      ]
    },
    {
      "cell_type": "code",
      "execution_count": 11,
      "metadata": {
        "id": "xkiQQpHfb53u",
        "outputId": "fe8a7a8d-2931-403f-ca4f-867edc8727e0",
        "colab": {
          "base_uri": "https://localhost:8080/"
        }
      },
      "outputs": [
        {
          "output_type": "stream",
          "name": "stdout",
          "text": [
            "[1] \"the statement is true\"\n"
          ]
        }
      ],
      "source": [
        "if ((2 + 3) == 5 ) {\n",
        "  print('the statement is true')\n",
        "} else {\n",
        "  print('the statement is false')\n",
        "}"
      ]
    },
    {
      "cell_type": "markdown",
      "metadata": {
        "id": "SxfZhAKmb53v"
      },
      "source": [
        "### `ifelse` function\n",
        "\n",
        "This is not new to you. `ifelse()` is a function that takes three vector arguments and returns a new vector. As you can see this is not the same as above"
      ]
    },
    {
      "cell_type": "code",
      "execution_count": 13,
      "metadata": {
        "id": "tjFHD2pbb53v",
        "outputId": "d23df8b9-3716-4b4a-bcfd-e7bdb23d44ab",
        "colab": {
          "base_uri": "https://localhost:8080/",
          "height": 34
        }
      },
      "outputs": [
        {
          "output_type": "display_data",
          "data": {
            "text/html": [
              "<style>\n",
              ".list-inline {list-style: none; margin:0; padding: 0}\n",
              ".list-inline>li {display: inline-block}\n",
              ".list-inline>li:not(:last-child)::after {content: \"\\00b7\"; padding: 0 .5ex}\n",
              "</style>\n",
              "<ol class=list-inline><li>'0'</li><li>'0'</li><li>'0'</li><li>'large'</li><li>'large'</li></ol>\n"
            ],
            "text/markdown": "1. '0'\n2. '0'\n3. '0'\n4. 'large'\n5. 'large'\n\n\n",
            "text/latex": "\\begin{enumerate*}\n\\item '0'\n\\item '0'\n\\item '0'\n\\item 'large'\n\\item 'large'\n\\end{enumerate*}\n",
            "text/plain": [
              "[1] \"0\"     \"0\"     \"0\"     \"large\" \"large\""
            ]
          },
          "metadata": {}
        }
      ],
      "source": [
        "# Define a vector\n",
        "x <- c(1, 2, 3, 4, 5)\n",
        "\n",
        "# Use ifelse to create a new vector\n",
        "y <- ifelse(x > 3, \"large\", 0)\n",
        "\n",
        "y"
      ]
    },
    {
      "cell_type": "markdown",
      "metadata": {
        "id": "FkeZR_Qib53v"
      },
      "source": [
        "# What about if_else?\n",
        "\n",
        "`if_else` comes from dplyr and works the same as `ifelse` except the output from the `if_else` should be of the same type"
      ]
    },
    {
      "cell_type": "code",
      "execution_count": 16,
      "metadata": {
        "id": "pjANX-IAb53w",
        "outputId": "7c44eb01-6c01-469b-ef61-4fc5a69bc5a0",
        "colab": {
          "base_uri": "https://localhost:8080/",
          "height": 34
        }
      },
      "outputs": [
        {
          "output_type": "display_data",
          "data": {
            "text/html": [
              "<style>\n",
              ".list-inline {list-style: none; margin:0; padding: 0}\n",
              ".list-inline>li {display: inline-block}\n",
              ".list-inline>li:not(:last-child)::after {content: \"\\00b7\"; padding: 0 .5ex}\n",
              "</style>\n",
              "<ol class=list-inline><li>'small'</li><li>'small'</li><li>'small'</li><li>'large'</li><li>'large'</li></ol>\n"
            ],
            "text/markdown": "1. 'small'\n2. 'small'\n3. 'small'\n4. 'large'\n5. 'large'\n\n\n",
            "text/latex": "\\begin{enumerate*}\n\\item 'small'\n\\item 'small'\n\\item 'small'\n\\item 'large'\n\\item 'large'\n\\end{enumerate*}\n",
            "text/plain": [
              "[1] \"small\" \"small\" \"small\" \"large\" \"large\""
            ]
          },
          "metadata": {}
        }
      ],
      "source": [
        "y <- if_else(x > 3, \"large\", 'small')\n",
        "y"
      ]
    },
    {
      "cell_type": "markdown",
      "metadata": {
        "id": "ArDvgbYZb53w"
      },
      "source": [
        "### if-else chain\n",
        "\n",
        "For more complex cases, you may want to check multiple conditions:"
      ]
    },
    {
      "cell_type": "code",
      "execution_count": null,
      "metadata": {
        "id": "mvh8U9y0b53w",
        "outputId": "9669409e-575a-43b4-fbea-0ce539556674"
      },
      "outputs": [
        {
          "data": {
            "text/html": [
              "<style>\n",
              ".list-inline {list-style: none; margin:0; padding: 0}\n",
              ".list-inline>li {display: inline-block}\n",
              ".list-inline>li:not(:last-child)::after {content: \"\\00b7\"; padding: 0 .5ex}\n",
              "</style>\n",
              "<ol class=list-inline><li>-1</li><li>1</li></ol>\n"
            ],
            "text/latex": [
              "\\begin{enumerate*}\n",
              "\\item -1\n",
              "\\item 1\n",
              "\\end{enumerate*}\n"
            ],
            "text/markdown": [
              "1. -1\n",
              "2. 1\n",
              "\n",
              "\n"
            ],
            "text/plain": [
              "[1] -1  1"
            ]
          },
          "metadata": {},
          "output_type": "display_data"
        }
      ],
      "source": [
        "a = -1\n",
        "b = 1\n",
        "\n",
        "if (a * b > 0) {\n",
        "  print('Zero is not between a and b')\n",
        "} else if ( a < b ) {\n",
        "    smaller = a\n",
        "    larger = b\n",
        "} else {\n",
        "    smaller = b\n",
        "    larger  = a\n",
        "}\n",
        "\n",
        "c(smaller, larger)"
      ]
    },
    {
      "cell_type": "markdown",
      "metadata": {
        "id": "xJgocmutIfof"
      },
      "source": [
        "# Function\n",
        "Function is not new to us, we have been using `functions` right from day 1.\n",
        "\n",
        "`print`, `filter`, `tibble` - are all functions.\n",
        "\n",
        "Try\n",
        "\n",
        "`class(print)`\n",
        "\n",
        "Today we will learn to write our own functions"
      ]
    },
    {
      "cell_type": "code",
      "execution_count": 17,
      "metadata": {
        "colab": {
          "base_uri": "https://localhost:8080/",
          "height": 34
        },
        "id": "hA7lDAXPnTcD",
        "outputId": "0b33601b-a3d2-4711-f359-a1412bcadbbd"
      },
      "outputs": [
        {
          "output_type": "display_data",
          "data": {
            "text/html": [
              "'function'"
            ],
            "text/markdown": "'function'",
            "text/latex": "'function'",
            "text/plain": [
              "[1] \"function\""
            ]
          },
          "metadata": {}
        }
      ],
      "source": [
        "class(print)"
      ]
    },
    {
      "cell_type": "markdown",
      "metadata": {
        "id": "GjeuBDWQ7ubr"
      },
      "source": [
        "### Why write out your own functions??\n",
        "\n",
        "Often when programming we find ourselves repeating the same block of code with minor modifications.\n",
        "\n",
        "Let us start with simple examples. When building machine learning models (which you will learn next week) it is common practice to normalize all the column values to the same scale; typically between 0 and 1. Let us take the `mpg` dataset and see `hwy` column's min and max values:"
      ]
    },
    {
      "cell_type": "code",
      "execution_count": null,
      "metadata": {
        "colab": {
          "base_uri": "https://localhost:8080/",
          "height": 34
        },
        "id": "ZwBcWuaSC65I",
        "outputId": "ca421d71-071a-4d06-ca3b-e94fb7271aa6"
      },
      "outputs": [
        {
          "data": {
            "text/html": [
              "<style>\n",
              ".list-inline {list-style: none; margin:0; padding: 0}\n",
              ".list-inline>li {display: inline-block}\n",
              ".list-inline>li:not(:last-child)::after {content: \"\\00b7\"; padding: 0 .5ex}\n",
              "</style>\n",
              "<ol class=list-inline><li>12</li><li>44</li></ol>\n"
            ],
            "text/latex": [
              "\\begin{enumerate*}\n",
              "\\item 12\n",
              "\\item 44\n",
              "\\end{enumerate*}\n"
            ],
            "text/markdown": [
              "1. 12\n",
              "2. 44\n",
              "\n",
              "\n"
            ],
            "text/plain": [
              "[1] 12 44"
            ]
          },
          "metadata": {},
          "output_type": "display_data"
        }
      ],
      "source": [
        "mpg$hwy %>% range"
      ]
    },
    {
      "cell_type": "code",
      "source": [
        "mpg$hwy"
      ],
      "metadata": {
        "id": "TD7ZryUsic1K",
        "outputId": "cc7637b4-a745-4779-e652-152c3a136c55",
        "colab": {
          "base_uri": "https://localhost:8080/",
          "height": 191
        }
      },
      "execution_count": 18,
      "outputs": [
        {
          "output_type": "display_data",
          "data": {
            "text/html": [
              "<style>\n",
              ".list-inline {list-style: none; margin:0; padding: 0}\n",
              ".list-inline>li {display: inline-block}\n",
              ".list-inline>li:not(:last-child)::after {content: \"\\00b7\"; padding: 0 .5ex}\n",
              "</style>\n",
              "<ol class=list-inline><li>29</li><li>29</li><li>31</li><li>30</li><li>26</li><li>26</li><li>27</li><li>26</li><li>25</li><li>28</li><li>27</li><li>25</li><li>25</li><li>25</li><li>25</li><li>24</li><li>25</li><li>23</li><li>20</li><li>15</li><li>20</li><li>17</li><li>17</li><li>26</li><li>23</li><li>26</li><li>25</li><li>24</li><li>19</li><li>14</li><li>15</li><li>17</li><li>27</li><li>30</li><li>26</li><li>29</li><li>26</li><li>24</li><li>24</li><li>22</li><li>22</li><li>24</li><li>24</li><li>17</li><li>22</li><li>21</li><li>23</li><li>23</li><li>19</li><li>18</li><li>17</li><li>17</li><li>19</li><li>19</li><li>12</li><li>17</li><li>15</li><li>17</li><li>17</li><li>12</li><li>17</li><li>16</li><li>18</li><li>15</li><li>16</li><li>12</li><li>17</li><li>17</li><li>16</li><li>12</li><li>15</li><li>16</li><li>17</li><li>15</li><li>17</li><li>17</li><li>18</li><li>17</li><li>19</li><li>17</li><li>19</li><li>19</li><li>17</li><li>17</li><li>17</li><li>16</li><li>16</li><li>17</li><li>15</li><li>17</li><li>26</li><li>25</li><li>26</li><li>24</li><li>21</li><li>22</li><li>23</li><li>22</li><li>20</li><li>33</li><li>32</li><li>32</li><li>29</li><li>32</li><li>34</li><li>36</li><li>36</li><li>29</li><li>26</li><li>27</li><li>30</li><li>31</li><li>26</li><li>26</li><li>28</li><li>26</li><li>29</li><li>28</li><li>27</li><li>24</li><li>24</li><li>24</li><li>22</li><li>19</li><li>20</li><li>17</li><li>12</li><li>19</li><li>18</li><li>14</li><li>15</li><li>18</li><li>18</li><li>15</li><li>17</li><li>16</li><li>18</li><li>17</li><li>19</li><li>19</li><li>17</li><li>29</li><li>27</li><li>31</li><li>32</li><li>27</li><li>26</li><li>26</li><li>25</li><li>25</li><li>17</li><li>17</li><li>20</li><li>18</li><li>26</li><li>26</li><li>27</li><li>28</li><li>25</li><li>25</li><li>24</li><li>27</li><li>25</li><li>26</li><li>23</li><li>26</li><li>26</li><li>26</li><li>26</li><li>25</li><li>27</li><li>25</li><li>27</li><li>20</li><li>20</li><li>19</li><li>17</li><li>20</li><li>17</li><li>29</li><li>27</li><li>31</li><li>31</li><li>26</li><li>26</li><li>28</li><li>27</li><li>29</li><li>31</li><li>31</li><li>26</li><li>26</li><li>27</li><li>30</li><li>33</li><li>35</li><li>37</li><li>35</li><li>15</li><li>18</li><li>20</li><li>20</li><li>22</li><li>17</li><li>19</li><li>18</li><li>20</li><li>29</li><li>26</li><li>29</li><li>29</li><li>24</li><li>44</li><li>29</li><li>26</li><li>29</li><li>29</li><li>29</li><li>29</li><li>23</li><li>24</li><li>44</li><li>41</li><li>29</li><li>26</li><li>28</li><li>29</li><li>29</li><li>29</li><li>28</li><li>29</li><li>26</li><li>26</li><li>26</li></ol>\n"
            ],
            "text/markdown": "1. 29\n2. 29\n3. 31\n4. 30\n5. 26\n6. 26\n7. 27\n8. 26\n9. 25\n10. 28\n11. 27\n12. 25\n13. 25\n14. 25\n15. 25\n16. 24\n17. 25\n18. 23\n19. 20\n20. 15\n21. 20\n22. 17\n23. 17\n24. 26\n25. 23\n26. 26\n27. 25\n28. 24\n29. 19\n30. 14\n31. 15\n32. 17\n33. 27\n34. 30\n35. 26\n36. 29\n37. 26\n38. 24\n39. 24\n40. 22\n41. 22\n42. 24\n43. 24\n44. 17\n45. 22\n46. 21\n47. 23\n48. 23\n49. 19\n50. 18\n51. 17\n52. 17\n53. 19\n54. 19\n55. 12\n56. 17\n57. 15\n58. 17\n59. 17\n60. 12\n61. 17\n62. 16\n63. 18\n64. 15\n65. 16\n66. 12\n67. 17\n68. 17\n69. 16\n70. 12\n71. 15\n72. 16\n73. 17\n74. 15\n75. 17\n76. 17\n77. 18\n78. 17\n79. 19\n80. 17\n81. 19\n82. 19\n83. 17\n84. 17\n85. 17\n86. 16\n87. 16\n88. 17\n89. 15\n90. 17\n91. 26\n92. 25\n93. 26\n94. 24\n95. 21\n96. 22\n97. 23\n98. 22\n99. 20\n100. 33\n101. 32\n102. 32\n103. 29\n104. 32\n105. 34\n106. 36\n107. 36\n108. 29\n109. 26\n110. 27\n111. 30\n112. 31\n113. 26\n114. 26\n115. 28\n116. 26\n117. 29\n118. 28\n119. 27\n120. 24\n121. 24\n122. 24\n123. 22\n124. 19\n125. 20\n126. 17\n127. 12\n128. 19\n129. 18\n130. 14\n131. 15\n132. 18\n133. 18\n134. 15\n135. 17\n136. 16\n137. 18\n138. 17\n139. 19\n140. 19\n141. 17\n142. 29\n143. 27\n144. 31\n145. 32\n146. 27\n147. 26\n148. 26\n149. 25\n150. 25\n151. 17\n152. 17\n153. 20\n154. 18\n155. 26\n156. 26\n157. 27\n158. 28\n159. 25\n160. 25\n161. 24\n162. 27\n163. 25\n164. 26\n165. 23\n166. 26\n167. 26\n168. 26\n169. 26\n170. 25\n171. 27\n172. 25\n173. 27\n174. 20\n175. 20\n176. 19\n177. 17\n178. 20\n179. 17\n180. 29\n181. 27\n182. 31\n183. 31\n184. 26\n185. 26\n186. 28\n187. 27\n188. 29\n189. 31\n190. 31\n191. 26\n192. 26\n193. 27\n194. 30\n195. 33\n196. 35\n197. 37\n198. 35\n199. 15\n200. 18\n201. 20\n202. 20\n203. 22\n204. 17\n205. 19\n206. 18\n207. 20\n208. 29\n209. 26\n210. 29\n211. 29\n212. 24\n213. 44\n214. 29\n215. 26\n216. 29\n217. 29\n218. 29\n219. 29\n220. 23\n221. 24\n222. 44\n223. 41\n224. 29\n225. 26\n226. 28\n227. 29\n228. 29\n229. 29\n230. 28\n231. 29\n232. 26\n233. 26\n234. 26\n\n\n",
            "text/latex": "\\begin{enumerate*}\n\\item 29\n\\item 29\n\\item 31\n\\item 30\n\\item 26\n\\item 26\n\\item 27\n\\item 26\n\\item 25\n\\item 28\n\\item 27\n\\item 25\n\\item 25\n\\item 25\n\\item 25\n\\item 24\n\\item 25\n\\item 23\n\\item 20\n\\item 15\n\\item 20\n\\item 17\n\\item 17\n\\item 26\n\\item 23\n\\item 26\n\\item 25\n\\item 24\n\\item 19\n\\item 14\n\\item 15\n\\item 17\n\\item 27\n\\item 30\n\\item 26\n\\item 29\n\\item 26\n\\item 24\n\\item 24\n\\item 22\n\\item 22\n\\item 24\n\\item 24\n\\item 17\n\\item 22\n\\item 21\n\\item 23\n\\item 23\n\\item 19\n\\item 18\n\\item 17\n\\item 17\n\\item 19\n\\item 19\n\\item 12\n\\item 17\n\\item 15\n\\item 17\n\\item 17\n\\item 12\n\\item 17\n\\item 16\n\\item 18\n\\item 15\n\\item 16\n\\item 12\n\\item 17\n\\item 17\n\\item 16\n\\item 12\n\\item 15\n\\item 16\n\\item 17\n\\item 15\n\\item 17\n\\item 17\n\\item 18\n\\item 17\n\\item 19\n\\item 17\n\\item 19\n\\item 19\n\\item 17\n\\item 17\n\\item 17\n\\item 16\n\\item 16\n\\item 17\n\\item 15\n\\item 17\n\\item 26\n\\item 25\n\\item 26\n\\item 24\n\\item 21\n\\item 22\n\\item 23\n\\item 22\n\\item 20\n\\item 33\n\\item 32\n\\item 32\n\\item 29\n\\item 32\n\\item 34\n\\item 36\n\\item 36\n\\item 29\n\\item 26\n\\item 27\n\\item 30\n\\item 31\n\\item 26\n\\item 26\n\\item 28\n\\item 26\n\\item 29\n\\item 28\n\\item 27\n\\item 24\n\\item 24\n\\item 24\n\\item 22\n\\item 19\n\\item 20\n\\item 17\n\\item 12\n\\item 19\n\\item 18\n\\item 14\n\\item 15\n\\item 18\n\\item 18\n\\item 15\n\\item 17\n\\item 16\n\\item 18\n\\item 17\n\\item 19\n\\item 19\n\\item 17\n\\item 29\n\\item 27\n\\item 31\n\\item 32\n\\item 27\n\\item 26\n\\item 26\n\\item 25\n\\item 25\n\\item 17\n\\item 17\n\\item 20\n\\item 18\n\\item 26\n\\item 26\n\\item 27\n\\item 28\n\\item 25\n\\item 25\n\\item 24\n\\item 27\n\\item 25\n\\item 26\n\\item 23\n\\item 26\n\\item 26\n\\item 26\n\\item 26\n\\item 25\n\\item 27\n\\item 25\n\\item 27\n\\item 20\n\\item 20\n\\item 19\n\\item 17\n\\item 20\n\\item 17\n\\item 29\n\\item 27\n\\item 31\n\\item 31\n\\item 26\n\\item 26\n\\item 28\n\\item 27\n\\item 29\n\\item 31\n\\item 31\n\\item 26\n\\item 26\n\\item 27\n\\item 30\n\\item 33\n\\item 35\n\\item 37\n\\item 35\n\\item 15\n\\item 18\n\\item 20\n\\item 20\n\\item 22\n\\item 17\n\\item 19\n\\item 18\n\\item 20\n\\item 29\n\\item 26\n\\item 29\n\\item 29\n\\item 24\n\\item 44\n\\item 29\n\\item 26\n\\item 29\n\\item 29\n\\item 29\n\\item 29\n\\item 23\n\\item 24\n\\item 44\n\\item 41\n\\item 29\n\\item 26\n\\item 28\n\\item 29\n\\item 29\n\\item 29\n\\item 28\n\\item 29\n\\item 26\n\\item 26\n\\item 26\n\\end{enumerate*}\n",
            "text/plain": [
              "  [1] 29 29 31 30 26 26 27 26 25 28 27 25 25 25 25 24 25 23 20 15 20 17 17 26 23\n",
              " [26] 26 25 24 19 14 15 17 27 30 26 29 26 24 24 22 22 24 24 17 22 21 23 23 19 18\n",
              " [51] 17 17 19 19 12 17 15 17 17 12 17 16 18 15 16 12 17 17 16 12 15 16 17 15 17\n",
              " [76] 17 18 17 19 17 19 19 17 17 17 16 16 17 15 17 26 25 26 24 21 22 23 22 20 33\n",
              "[101] 32 32 29 32 34 36 36 29 26 27 30 31 26 26 28 26 29 28 27 24 24 24 22 19 20\n",
              "[126] 17 12 19 18 14 15 18 18 15 17 16 18 17 19 19 17 29 27 31 32 27 26 26 25 25\n",
              "[151] 17 17 20 18 26 26 27 28 25 25 24 27 25 26 23 26 26 26 26 25 27 25 27 20 20\n",
              "[176] 19 17 20 17 29 27 31 31 26 26 28 27 29 31 31 26 26 27 30 33 35 37 35 15 18\n",
              "[201] 20 20 22 17 19 18 20 29 26 29 29 24 44 29 26 29 29 29 29 23 24 44 41 29 26\n",
              "[226] 28 29 29 29 28 29 26 26 26"
            ]
          },
          "metadata": {}
        }
      ]
    },
    {
      "cell_type": "markdown",
      "metadata": {
        "id": "tZi8Sl3BDGrg"
      },
      "source": [
        "Let us now normalize it. `x - min(x) / max(x) - min(x)`"
      ]
    },
    {
      "cell_type": "code",
      "execution_count": 19,
      "metadata": {
        "colab": {
          "base_uri": "https://localhost:8080/",
          "height": 364
        },
        "id": "IbO0bI637vLy",
        "outputId": "9415ef11-dc8b-4afb-b8f9-7ecab97d715b"
      },
      "outputs": [
        {
          "output_type": "display_data",
          "data": {
            "text/html": [
              "<style>\n",
              ".list-inline {list-style: none; margin:0; padding: 0}\n",
              ".list-inline>li {display: inline-block}\n",
              ".list-inline>li:not(:last-child)::after {content: \"\\00b7\"; padding: 0 .5ex}\n",
              "</style>\n",
              "<ol class=list-inline><li>0.53125</li><li>0.53125</li><li>0.59375</li><li>0.5625</li><li>0.4375</li><li>0.4375</li><li>0.46875</li><li>0.4375</li><li>0.40625</li><li>0.5</li><li>0.46875</li><li>0.40625</li><li>0.40625</li><li>0.40625</li><li>0.40625</li><li>0.375</li><li>0.40625</li><li>0.34375</li><li>0.25</li><li>0.09375</li><li>0.25</li><li>0.15625</li><li>0.15625</li><li>0.4375</li><li>0.34375</li><li>0.4375</li><li>0.40625</li><li>0.375</li><li>0.21875</li><li>0.0625</li><li>0.09375</li><li>0.15625</li><li>0.46875</li><li>0.5625</li><li>0.4375</li><li>0.53125</li><li>0.4375</li><li>0.375</li><li>0.375</li><li>0.3125</li><li>0.3125</li><li>0.375</li><li>0.375</li><li>0.15625</li><li>0.3125</li><li>0.28125</li><li>0.34375</li><li>0.34375</li><li>0.21875</li><li>0.1875</li><li>0.15625</li><li>0.15625</li><li>0.21875</li><li>0.21875</li><li>0</li><li>0.15625</li><li>0.09375</li><li>0.15625</li><li>0.15625</li><li>0</li><li>0.15625</li><li>0.125</li><li>0.1875</li><li>0.09375</li><li>0.125</li><li>0</li><li>0.15625</li><li>0.15625</li><li>0.125</li><li>0</li><li>0.09375</li><li>0.125</li><li>0.15625</li><li>0.09375</li><li>0.15625</li><li>0.15625</li><li>0.1875</li><li>0.15625</li><li>0.21875</li><li>0.15625</li><li>0.21875</li><li>0.21875</li><li>0.15625</li><li>0.15625</li><li>0.15625</li><li>0.125</li><li>0.125</li><li>0.15625</li><li>0.09375</li><li>0.15625</li><li>0.4375</li><li>0.40625</li><li>0.4375</li><li>0.375</li><li>0.28125</li><li>0.3125</li><li>0.34375</li><li>0.3125</li><li>0.25</li><li>0.65625</li><li>0.625</li><li>0.625</li><li>0.53125</li><li>0.625</li><li>0.6875</li><li>0.75</li><li>0.75</li><li>0.53125</li><li>0.4375</li><li>0.46875</li><li>0.5625</li><li>0.59375</li><li>0.4375</li><li>0.4375</li><li>0.5</li><li>0.4375</li><li>0.53125</li><li>0.5</li><li>0.46875</li><li>0.375</li><li>0.375</li><li>0.375</li><li>0.3125</li><li>0.21875</li><li>0.25</li><li>0.15625</li><li>0</li><li>0.21875</li><li>0.1875</li><li>0.0625</li><li>0.09375</li><li>0.1875</li><li>0.1875</li><li>0.09375</li><li>0.15625</li><li>0.125</li><li>0.1875</li><li>0.15625</li><li>0.21875</li><li>0.21875</li><li>0.15625</li><li>0.53125</li><li>0.46875</li><li>0.59375</li><li>0.625</li><li>0.46875</li><li>0.4375</li><li>0.4375</li><li>0.40625</li><li>0.40625</li><li>0.15625</li><li>0.15625</li><li>0.25</li><li>0.1875</li><li>0.4375</li><li>0.4375</li><li>0.46875</li><li>0.5</li><li>0.40625</li><li>0.40625</li><li>0.375</li><li>0.46875</li><li>0.40625</li><li>0.4375</li><li>0.34375</li><li>0.4375</li><li>0.4375</li><li>0.4375</li><li>0.4375</li><li>0.40625</li><li>0.46875</li><li>0.40625</li><li>0.46875</li><li>0.25</li><li>0.25</li><li>0.21875</li><li>0.15625</li><li>0.25</li><li>0.15625</li><li>0.53125</li><li>0.46875</li><li>0.59375</li><li>0.59375</li><li>0.4375</li><li>0.4375</li><li>0.5</li><li>0.46875</li><li>0.53125</li><li>0.59375</li><li>0.59375</li><li>0.4375</li><li>0.4375</li><li>0.46875</li><li>0.5625</li><li>0.65625</li><li>0.71875</li><li>0.78125</li><li>0.71875</li><li>0.09375</li><li>0.1875</li><li>0.25</li><li>0.25</li><li>0.3125</li><li>0.15625</li><li>0.21875</li><li>0.1875</li><li>0.25</li><li>0.53125</li><li>0.4375</li><li>0.53125</li><li>0.53125</li><li>0.375</li><li>1</li><li>0.53125</li><li>0.4375</li><li>0.53125</li><li>0.53125</li><li>0.53125</li><li>0.53125</li><li>0.34375</li><li>0.375</li><li>1</li><li>0.90625</li><li>0.53125</li><li>0.4375</li><li>0.5</li><li>0.53125</li><li>0.53125</li><li>0.53125</li><li>0.5</li><li>0.53125</li><li>0.4375</li><li>0.4375</li><li>0.4375</li></ol>\n"
            ],
            "text/markdown": "1. 0.53125\n2. 0.53125\n3. 0.59375\n4. 0.5625\n5. 0.4375\n6. 0.4375\n7. 0.46875\n8. 0.4375\n9. 0.40625\n10. 0.5\n11. 0.46875\n12. 0.40625\n13. 0.40625\n14. 0.40625\n15. 0.40625\n16. 0.375\n17. 0.40625\n18. 0.34375\n19. 0.25\n20. 0.09375\n21. 0.25\n22. 0.15625\n23. 0.15625\n24. 0.4375\n25. 0.34375\n26. 0.4375\n27. 0.40625\n28. 0.375\n29. 0.21875\n30. 0.0625\n31. 0.09375\n32. 0.15625\n33. 0.46875\n34. 0.5625\n35. 0.4375\n36. 0.53125\n37. 0.4375\n38. 0.375\n39. 0.375\n40. 0.3125\n41. 0.3125\n42. 0.375\n43. 0.375\n44. 0.15625\n45. 0.3125\n46. 0.28125\n47. 0.34375\n48. 0.34375\n49. 0.21875\n50. 0.1875\n51. 0.15625\n52. 0.15625\n53. 0.21875\n54. 0.21875\n55. 0\n56. 0.15625\n57. 0.09375\n58. 0.15625\n59. 0.15625\n60. 0\n61. 0.15625\n62. 0.125\n63. 0.1875\n64. 0.09375\n65. 0.125\n66. 0\n67. 0.15625\n68. 0.15625\n69. 0.125\n70. 0\n71. 0.09375\n72. 0.125\n73. 0.15625\n74. 0.09375\n75. 0.15625\n76. 0.15625\n77. 0.1875\n78. 0.15625\n79. 0.21875\n80. 0.15625\n81. 0.21875\n82. 0.21875\n83. 0.15625\n84. 0.15625\n85. 0.15625\n86. 0.125\n87. 0.125\n88. 0.15625\n89. 0.09375\n90. 0.15625\n91. 0.4375\n92. 0.40625\n93. 0.4375\n94. 0.375\n95. 0.28125\n96. 0.3125\n97. 0.34375\n98. 0.3125\n99. 0.25\n100. 0.65625\n101. 0.625\n102. 0.625\n103. 0.53125\n104. 0.625\n105. 0.6875\n106. 0.75\n107. 0.75\n108. 0.53125\n109. 0.4375\n110. 0.46875\n111. 0.5625\n112. 0.59375\n113. 0.4375\n114. 0.4375\n115. 0.5\n116. 0.4375\n117. 0.53125\n118. 0.5\n119. 0.46875\n120. 0.375\n121. 0.375\n122. 0.375\n123. 0.3125\n124. 0.21875\n125. 0.25\n126. 0.15625\n127. 0\n128. 0.21875\n129. 0.1875\n130. 0.0625\n131. 0.09375\n132. 0.1875\n133. 0.1875\n134. 0.09375\n135. 0.15625\n136. 0.125\n137. 0.1875\n138. 0.15625\n139. 0.21875\n140. 0.21875\n141. 0.15625\n142. 0.53125\n143. 0.46875\n144. 0.59375\n145. 0.625\n146. 0.46875\n147. 0.4375\n148. 0.4375\n149. 0.40625\n150. 0.40625\n151. 0.15625\n152. 0.15625\n153. 0.25\n154. 0.1875\n155. 0.4375\n156. 0.4375\n157. 0.46875\n158. 0.5\n159. 0.40625\n160. 0.40625\n161. 0.375\n162. 0.46875\n163. 0.40625\n164. 0.4375\n165. 0.34375\n166. 0.4375\n167. 0.4375\n168. 0.4375\n169. 0.4375\n170. 0.40625\n171. 0.46875\n172. 0.40625\n173. 0.46875\n174. 0.25\n175. 0.25\n176. 0.21875\n177. 0.15625\n178. 0.25\n179. 0.15625\n180. 0.53125\n181. 0.46875\n182. 0.59375\n183. 0.59375\n184. 0.4375\n185. 0.4375\n186. 0.5\n187. 0.46875\n188. 0.53125\n189. 0.59375\n190. 0.59375\n191. 0.4375\n192. 0.4375\n193. 0.46875\n194. 0.5625\n195. 0.65625\n196. 0.71875\n197. 0.78125\n198. 0.71875\n199. 0.09375\n200. 0.1875\n201. 0.25\n202. 0.25\n203. 0.3125\n204. 0.15625\n205. 0.21875\n206. 0.1875\n207. 0.25\n208. 0.53125\n209. 0.4375\n210. 0.53125\n211. 0.53125\n212. 0.375\n213. 1\n214. 0.53125\n215. 0.4375\n216. 0.53125\n217. 0.53125\n218. 0.53125\n219. 0.53125\n220. 0.34375\n221. 0.375\n222. 1\n223. 0.90625\n224. 0.53125\n225. 0.4375\n226. 0.5\n227. 0.53125\n228. 0.53125\n229. 0.53125\n230. 0.5\n231. 0.53125\n232. 0.4375\n233. 0.4375\n234. 0.4375\n\n\n",
            "text/latex": "\\begin{enumerate*}\n\\item 0.53125\n\\item 0.53125\n\\item 0.59375\n\\item 0.5625\n\\item 0.4375\n\\item 0.4375\n\\item 0.46875\n\\item 0.4375\n\\item 0.40625\n\\item 0.5\n\\item 0.46875\n\\item 0.40625\n\\item 0.40625\n\\item 0.40625\n\\item 0.40625\n\\item 0.375\n\\item 0.40625\n\\item 0.34375\n\\item 0.25\n\\item 0.09375\n\\item 0.25\n\\item 0.15625\n\\item 0.15625\n\\item 0.4375\n\\item 0.34375\n\\item 0.4375\n\\item 0.40625\n\\item 0.375\n\\item 0.21875\n\\item 0.0625\n\\item 0.09375\n\\item 0.15625\n\\item 0.46875\n\\item 0.5625\n\\item 0.4375\n\\item 0.53125\n\\item 0.4375\n\\item 0.375\n\\item 0.375\n\\item 0.3125\n\\item 0.3125\n\\item 0.375\n\\item 0.375\n\\item 0.15625\n\\item 0.3125\n\\item 0.28125\n\\item 0.34375\n\\item 0.34375\n\\item 0.21875\n\\item 0.1875\n\\item 0.15625\n\\item 0.15625\n\\item 0.21875\n\\item 0.21875\n\\item 0\n\\item 0.15625\n\\item 0.09375\n\\item 0.15625\n\\item 0.15625\n\\item 0\n\\item 0.15625\n\\item 0.125\n\\item 0.1875\n\\item 0.09375\n\\item 0.125\n\\item 0\n\\item 0.15625\n\\item 0.15625\n\\item 0.125\n\\item 0\n\\item 0.09375\n\\item 0.125\n\\item 0.15625\n\\item 0.09375\n\\item 0.15625\n\\item 0.15625\n\\item 0.1875\n\\item 0.15625\n\\item 0.21875\n\\item 0.15625\n\\item 0.21875\n\\item 0.21875\n\\item 0.15625\n\\item 0.15625\n\\item 0.15625\n\\item 0.125\n\\item 0.125\n\\item 0.15625\n\\item 0.09375\n\\item 0.15625\n\\item 0.4375\n\\item 0.40625\n\\item 0.4375\n\\item 0.375\n\\item 0.28125\n\\item 0.3125\n\\item 0.34375\n\\item 0.3125\n\\item 0.25\n\\item 0.65625\n\\item 0.625\n\\item 0.625\n\\item 0.53125\n\\item 0.625\n\\item 0.6875\n\\item 0.75\n\\item 0.75\n\\item 0.53125\n\\item 0.4375\n\\item 0.46875\n\\item 0.5625\n\\item 0.59375\n\\item 0.4375\n\\item 0.4375\n\\item 0.5\n\\item 0.4375\n\\item 0.53125\n\\item 0.5\n\\item 0.46875\n\\item 0.375\n\\item 0.375\n\\item 0.375\n\\item 0.3125\n\\item 0.21875\n\\item 0.25\n\\item 0.15625\n\\item 0\n\\item 0.21875\n\\item 0.1875\n\\item 0.0625\n\\item 0.09375\n\\item 0.1875\n\\item 0.1875\n\\item 0.09375\n\\item 0.15625\n\\item 0.125\n\\item 0.1875\n\\item 0.15625\n\\item 0.21875\n\\item 0.21875\n\\item 0.15625\n\\item 0.53125\n\\item 0.46875\n\\item 0.59375\n\\item 0.625\n\\item 0.46875\n\\item 0.4375\n\\item 0.4375\n\\item 0.40625\n\\item 0.40625\n\\item 0.15625\n\\item 0.15625\n\\item 0.25\n\\item 0.1875\n\\item 0.4375\n\\item 0.4375\n\\item 0.46875\n\\item 0.5\n\\item 0.40625\n\\item 0.40625\n\\item 0.375\n\\item 0.46875\n\\item 0.40625\n\\item 0.4375\n\\item 0.34375\n\\item 0.4375\n\\item 0.4375\n\\item 0.4375\n\\item 0.4375\n\\item 0.40625\n\\item 0.46875\n\\item 0.40625\n\\item 0.46875\n\\item 0.25\n\\item 0.25\n\\item 0.21875\n\\item 0.15625\n\\item 0.25\n\\item 0.15625\n\\item 0.53125\n\\item 0.46875\n\\item 0.59375\n\\item 0.59375\n\\item 0.4375\n\\item 0.4375\n\\item 0.5\n\\item 0.46875\n\\item 0.53125\n\\item 0.59375\n\\item 0.59375\n\\item 0.4375\n\\item 0.4375\n\\item 0.46875\n\\item 0.5625\n\\item 0.65625\n\\item 0.71875\n\\item 0.78125\n\\item 0.71875\n\\item 0.09375\n\\item 0.1875\n\\item 0.25\n\\item 0.25\n\\item 0.3125\n\\item 0.15625\n\\item 0.21875\n\\item 0.1875\n\\item 0.25\n\\item 0.53125\n\\item 0.4375\n\\item 0.53125\n\\item 0.53125\n\\item 0.375\n\\item 1\n\\item 0.53125\n\\item 0.4375\n\\item 0.53125\n\\item 0.53125\n\\item 0.53125\n\\item 0.53125\n\\item 0.34375\n\\item 0.375\n\\item 1\n\\item 0.90625\n\\item 0.53125\n\\item 0.4375\n\\item 0.5\n\\item 0.53125\n\\item 0.53125\n\\item 0.53125\n\\item 0.5\n\\item 0.53125\n\\item 0.4375\n\\item 0.4375\n\\item 0.4375\n\\end{enumerate*}\n",
            "text/plain": [
              "  [1] 0.53125 0.53125 0.59375 0.56250 0.43750 0.43750 0.46875 0.43750 0.40625\n",
              " [10] 0.50000 0.46875 0.40625 0.40625 0.40625 0.40625 0.37500 0.40625 0.34375\n",
              " [19] 0.25000 0.09375 0.25000 0.15625 0.15625 0.43750 0.34375 0.43750 0.40625\n",
              " [28] 0.37500 0.21875 0.06250 0.09375 0.15625 0.46875 0.56250 0.43750 0.53125\n",
              " [37] 0.43750 0.37500 0.37500 0.31250 0.31250 0.37500 0.37500 0.15625 0.31250\n",
              " [46] 0.28125 0.34375 0.34375 0.21875 0.18750 0.15625 0.15625 0.21875 0.21875\n",
              " [55] 0.00000 0.15625 0.09375 0.15625 0.15625 0.00000 0.15625 0.12500 0.18750\n",
              " [64] 0.09375 0.12500 0.00000 0.15625 0.15625 0.12500 0.00000 0.09375 0.12500\n",
              " [73] 0.15625 0.09375 0.15625 0.15625 0.18750 0.15625 0.21875 0.15625 0.21875\n",
              " [82] 0.21875 0.15625 0.15625 0.15625 0.12500 0.12500 0.15625 0.09375 0.15625\n",
              " [91] 0.43750 0.40625 0.43750 0.37500 0.28125 0.31250 0.34375 0.31250 0.25000\n",
              "[100] 0.65625 0.62500 0.62500 0.53125 0.62500 0.68750 0.75000 0.75000 0.53125\n",
              "[109] 0.43750 0.46875 0.56250 0.59375 0.43750 0.43750 0.50000 0.43750 0.53125\n",
              "[118] 0.50000 0.46875 0.37500 0.37500 0.37500 0.31250 0.21875 0.25000 0.15625\n",
              "[127] 0.00000 0.21875 0.18750 0.06250 0.09375 0.18750 0.18750 0.09375 0.15625\n",
              "[136] 0.12500 0.18750 0.15625 0.21875 0.21875 0.15625 0.53125 0.46875 0.59375\n",
              "[145] 0.62500 0.46875 0.43750 0.43750 0.40625 0.40625 0.15625 0.15625 0.25000\n",
              "[154] 0.18750 0.43750 0.43750 0.46875 0.50000 0.40625 0.40625 0.37500 0.46875\n",
              "[163] 0.40625 0.43750 0.34375 0.43750 0.43750 0.43750 0.43750 0.40625 0.46875\n",
              "[172] 0.40625 0.46875 0.25000 0.25000 0.21875 0.15625 0.25000 0.15625 0.53125\n",
              "[181] 0.46875 0.59375 0.59375 0.43750 0.43750 0.50000 0.46875 0.53125 0.59375\n",
              "[190] 0.59375 0.43750 0.43750 0.46875 0.56250 0.65625 0.71875 0.78125 0.71875\n",
              "[199] 0.09375 0.18750 0.25000 0.25000 0.31250 0.15625 0.21875 0.18750 0.25000\n",
              "[208] 0.53125 0.43750 0.53125 0.53125 0.37500 1.00000 0.53125 0.43750 0.53125\n",
              "[217] 0.53125 0.53125 0.53125 0.34375 0.37500 1.00000 0.90625 0.53125 0.43750\n",
              "[226] 0.50000 0.53125 0.53125 0.53125 0.50000 0.53125 0.43750 0.43750 0.43750"
            ]
          },
          "metadata": {}
        }
      ],
      "source": [
        "hwy_a <- (mpg$hwy - min(mpg$hwy, na.rm = TRUE)) / (max(mpg$hwy, na.rm = TRUE) - min(mpg$hwy, na.rm = TRUE))\n",
        "hwy_a"
      ]
    },
    {
      "cell_type": "code",
      "source": [
        "hwy_a %>% range"
      ],
      "metadata": {
        "id": "2nAtXq0piy9f",
        "outputId": "7eee6c24-3488-4498-9d64-3d0f1d1388dc",
        "colab": {
          "base_uri": "https://localhost:8080/",
          "height": 34
        }
      },
      "execution_count": 20,
      "outputs": [
        {
          "output_type": "display_data",
          "data": {
            "text/html": [
              "<style>\n",
              ".list-inline {list-style: none; margin:0; padding: 0}\n",
              ".list-inline>li {display: inline-block}\n",
              ".list-inline>li:not(:last-child)::after {content: \"\\00b7\"; padding: 0 .5ex}\n",
              "</style>\n",
              "<ol class=list-inline><li>0</li><li>1</li></ol>\n"
            ],
            "text/markdown": "1. 0\n2. 1\n\n\n",
            "text/latex": "\\begin{enumerate*}\n\\item 0\n\\item 1\n\\end{enumerate*}\n",
            "text/plain": [
              "[1] 0 1"
            ]
          },
          "metadata": {}
        }
      ]
    },
    {
      "cell_type": "markdown",
      "metadata": {
        "id": "d39irSk0DU7K"
      },
      "source": [
        "We need to do the exact same for all columns; to begin with let us do for all numerical columns. And it is easy to copy and paste the same code from above and change the variable names"
      ]
    },
    {
      "cell_type": "code",
      "execution_count": 22,
      "metadata": {
        "colab": {
          "base_uri": "https://localhost:8080/",
          "height": 34
        },
        "id": "55332GY1Dk5k",
        "outputId": "199ceb40-46d1-486f-cabd-e213d7f6cc5c"
      },
      "outputs": [
        {
          "output_type": "display_data",
          "data": {
            "text/html": [
              "<style>\n",
              ".list-inline {list-style: none; margin:0; padding: 0}\n",
              ".list-inline>li {display: inline-block}\n",
              ".list-inline>li:not(:last-child)::after {content: \"\\00b7\"; padding: 0 .5ex}\n",
              "</style>\n",
              "<ol class=list-inline><li>0</li><li>1</li></ol>\n"
            ],
            "text/markdown": "1. 0\n2. 1\n\n\n",
            "text/latex": "\\begin{enumerate*}\n\\item 0\n\\item 1\n\\end{enumerate*}\n",
            "text/plain": [
              "[1] 0 1"
            ]
          },
          "metadata": {}
        }
      ],
      "source": [
        "cty_a <- (mpg$cty - min(mpg$cty, na.rm = TRUE)) / (max(mpg$cty, na.rm = TRUE) - min(mpg$cty, na.rm = TRUE))\n",
        "cty_a %>% range"
      ]
    },
    {
      "cell_type": "markdown",
      "metadata": {
        "id": "9Xgz9o_wD5wP"
      },
      "source": [
        "🤔 Quiz\n",
        "\n",
        "Why is the range not showing a maximum of 1?\n",
        "\n",
        "* A. For the `cty` values it cannot have a maximum value of 1\n",
        "* B. The numerator should use `max` function\n",
        "* C. Copy-paste technique not done correctly is the reason for a `flaw` in the formula"
      ]
    },
    {
      "cell_type": "markdown",
      "metadata": {
        "id": "-phP4EpQFT3l"
      },
      "source": [
        "We still need to do the exact same procedure for all other columns as well and so intead of repeating ourselves we can introduce a function to do the repeats."
      ]
    },
    {
      "cell_type": "code",
      "execution_count": 38,
      "metadata": {
        "colab": {
          "base_uri": "https://localhost:8080/",
          "height": 34
        },
        "id": "ER9iBKfgFS7-",
        "outputId": "60c2f035-3b02-425b-c2e8-7c5f3a30a236",
        "scrolled": true
      },
      "outputs": [
        {
          "output_type": "display_data",
          "data": {
            "text/html": [
              "<style>\n",
              ".list-inline {list-style: none; margin:0; padding: 0}\n",
              ".list-inline>li {display: inline-block}\n",
              ".list-inline>li:not(:last-child)::after {content: \"\\00b7\"; padding: 0 .5ex}\n",
              "</style>\n",
              "<ol class=list-inline><li>0</li><li>1</li></ol>\n"
            ],
            "text/markdown": "1. 0\n2. 1\n\n\n",
            "text/latex": "\\begin{enumerate*}\n\\item 0\n\\item 1\n\\end{enumerate*}\n",
            "text/plain": [
              "[1] 0 1"
            ]
          },
          "metadata": {}
        }
      ],
      "source": [
        "rescale <- function(x){\n",
        "  (x - min(x, na.rm = TRUE)) / (max(x, na.rm = TRUE) - min(x, na.rm = TRUE))\n",
        "}\n",
        "\n",
        "rescale(mpg$displ) %>% range"
      ]
    },
    {
      "cell_type": "markdown",
      "metadata": {
        "id": "Pp_j9XXuGHxC"
      },
      "source": [
        "## Anatomy of a function\n",
        "To write a function we should first think about the inputs and output. A function takes input(s), does something(s) to them, and then returns an output.\n",
        "\n"
      ]
    },
    {
      "cell_type": "markdown",
      "metadata": {
        "id": "gUmAiBFQGUgk"
      },
      "source": [
        "🤔 Quiz\n",
        "\n",
        "What is the output of our rescale function?\n",
        "\n",
        "* A. x\n",
        "* B. nothing\n",
        "* C. rescaled vector values\n"
      ]
    },
    {
      "cell_type": "markdown",
      "metadata": {
        "id": "dtRoursTGxz4"
      },
      "source": [
        "In R, it is not necessary to use a `return` keyword to specify the return value of a function. The return value of a function is simply the value of the last expression evaluated within the function body."
      ]
    },
    {
      "cell_type": "markdown",
      "metadata": {
        "id": "4WK4uxFRQixO"
      },
      "source": [
        "### Multiple return example\n",
        "\n",
        "\n",
        "This function returns 'fizz' if the given number is a multiple of 3. 'buzz' if it is a multiple of 5. If neither a multiple of 3 or 5, it simply returns the given number"
      ]
    },
    {
      "cell_type": "code",
      "execution_count": 41,
      "metadata": {
        "colab": {
          "base_uri": "https://localhost:8080/",
          "height": 34
        },
        "id": "4DHFN2j1uPKp",
        "outputId": "de306ea0-4cca-403d-f535-60bc29918329"
      },
      "outputs": [
        {
          "output_type": "display_data",
          "data": {
            "text/html": [
              "7"
            ],
            "text/markdown": "7",
            "text/latex": "7",
            "text/plain": [
              "[1] 7"
            ]
          },
          "metadata": {}
        }
      ],
      "source": [
        "fizzbuzz <- function(x){\n",
        "    if(x %% 3 == 0) {\n",
        "      return ('fizz')\n",
        "    } else if(x %% 5 == 0){\n",
        "      return ('buzz')\n",
        "    }\n",
        "    return (x)\n",
        "}\n",
        "\n",
        "fizzbuzz(7)"
      ]
    },
    {
      "cell_type": "code",
      "source": [
        "my_add <- function(x, y){\n",
        "  print(x + y)\n",
        "}\n",
        "\n",
        "my_add(3, 4)"
      ],
      "metadata": {
        "id": "p0bINUJankZz",
        "outputId": "84240bae-08f3-4cab-d663-1fbfe68950a5",
        "colab": {
          "base_uri": "https://localhost:8080/"
        }
      },
      "execution_count": 42,
      "outputs": [
        {
          "output_type": "stream",
          "name": "stdout",
          "text": [
            "[1] 7\n"
          ]
        }
      ]
    },
    {
      "cell_type": "markdown",
      "metadata": {
        "id": "fCgIwRmV1GT3"
      },
      "source": [
        "\n",
        "### Arguments\n",
        "\n",
        "Functions will often have multiple arguments. Some arguments have default values, others do not. All arguments without default values must be passed to a function. Arguments can be passed by name or position. For instance,\n",
        "\n",
        "\n"
      ]
    },
    {
      "cell_type": "code",
      "execution_count": 43,
      "metadata": {
        "colab": {
          "base_uri": "https://localhost:8080/",
          "height": 240
        },
        "id": "eNJoozbP1GT4",
        "outputId": "584298bf-224c-4977-a104-f910ceb140cb"
      },
      "outputs": [
        {
          "output_type": "display_data",
          "data": {
            "text/html": [
              "<table class=\"dataframe\">\n",
              "<caption>A matrix: 5 × 4 of type dbl</caption>\n",
              "<thead>\n",
              "\t<tr><th scope=col>w</th><th scope=col>x</th><th scope=col>y</th><th scope=col>z</th></tr>\n",
              "</thead>\n",
              "<tbody>\n",
              "\t<tr><td>-2.1</td><td>-0.5</td><td> 2.5</td><td>-0.1</td></tr>\n",
              "\t<tr><td>-2.5</td><td>-1.8</td><td> 1.5</td><td> 0.8</td></tr>\n",
              "\t<tr><td>-0.3</td><td>-2.5</td><td> 0.8</td><td> 2.3</td></tr>\n",
              "\t<tr><td>-1.0</td><td> 0.4</td><td> 0.2</td><td> 1.2</td></tr>\n",
              "\t<tr><td> 1.7</td><td>-0.9</td><td>-0.8</td><td>-0.2</td></tr>\n",
              "</tbody>\n",
              "</table>\n"
            ],
            "text/markdown": "\nA matrix: 5 × 4 of type dbl\n\n| w | x | y | z |\n|---|---|---|---|\n| -2.1 | -0.5 |  2.5 | -0.1 |\n| -2.5 | -1.8 |  1.5 |  0.8 |\n| -0.3 | -2.5 |  0.8 |  2.3 |\n| -1.0 |  0.4 |  0.2 |  1.2 |\n|  1.7 | -0.9 | -0.8 | -0.2 |\n\n",
            "text/latex": "A matrix: 5 × 4 of type dbl\n\\begin{tabular}{llll}\n w & x & y & z\\\\\n\\hline\n\t -2.1 & -0.5 &  2.5 & -0.1\\\\\n\t -2.5 & -1.8 &  1.5 &  0.8\\\\\n\t -0.3 & -2.5 &  0.8 &  2.3\\\\\n\t -1.0 &  0.4 &  0.2 &  1.2\\\\\n\t  1.7 & -0.9 & -0.8 & -0.2\\\\\n\\end{tabular}\n",
            "text/plain": [
              "     w    x    y    z   \n",
              "[1,] -2.1 -0.5  2.5 -0.1\n",
              "[2,] -2.5 -1.8  1.5  0.8\n",
              "[3,] -0.3 -2.5  0.8  2.3\n",
              "[4,] -1.0  0.4  0.2  1.2\n",
              "[5,]  1.7 -0.9 -0.8 -0.2"
            ]
          },
          "metadata": {}
        }
      ],
      "source": [
        "# generate 5 numbers from a Normal(0, 1) distribution.\n",
        "w = rnorm(5, mean = 0, sd = 1)\n",
        "x = rnorm(n = 5, mean = 0, sd = 1)\n",
        "y = rnorm(5, 0, 1)\n",
        "z = rnorm(5)\n",
        "round(cbind(w, x, y, z), 1)"
      ]
    },
    {
      "cell_type": "markdown",
      "metadata": {
        "id": "LIZuAcKF1GT9"
      },
      "source": [
        "Arguments passed by name need not be in order:"
      ]
    },
    {
      "cell_type": "code",
      "execution_count": 45,
      "metadata": {
        "colab": {
          "base_uri": "https://localhost:8080/",
          "height": 97
        },
        "id": "nAeMGzyS1GT-",
        "outputId": "90a4a9d3-3b92-4291-a962-4e49f1c50e39"
      },
      "outputs": [
        {
          "output_type": "display_data",
          "data": {
            "text/html": [
              "<table class=\"dataframe\">\n",
              "<caption>A matrix: 2 × 5 of type dbl</caption>\n",
              "<tbody>\n",
              "\t<tr><th scope=row>u</th><td> 0.6</td><td> 0.4</td><td>0.0</td><td>-0.5</td><td>0.0</td></tr>\n",
              "\t<tr><th scope=row>w</th><td>-0.3</td><td>-1.4</td><td>1.5</td><td> 2.2</td><td>1.1</td></tr>\n",
              "</tbody>\n",
              "</table>\n"
            ],
            "text/markdown": "\nA matrix: 2 × 5 of type dbl\n\n| u |  0.6 |  0.4 | 0.0 | -0.5 | 0.0 |\n| w | -0.3 | -1.4 | 1.5 |  2.2 | 1.1 |\n\n",
            "text/latex": "A matrix: 2 × 5 of type dbl\n\\begin{tabular}{r|lllll}\n\tu &  0.6 &  0.4 & 0.0 & -0.5 & 0.0\\\\\n\tw & -0.3 & -1.4 & 1.5 &  2.2 & 1.1\\\\\n\\end{tabular}\n",
            "text/plain": [
              "  [,1] [,2] [,3] [,4] [,5]\n",
              "u  0.6  0.4 0.0  -0.5 0.0 \n",
              "w -0.3 -1.4 1.5   2.2 1.1 "
            ]
          },
          "metadata": {}
        }
      ],
      "source": [
        "w = rnorm(mean = 0, sd = 1, n = 5)\n",
        "u = rnorm(mean = 0, sd = 1, 5) # This also works but is bad style.\n",
        "round(rbind(u = u, w = w), 1)\n",
        "\n",
        "# unnamed arguments get passed to the first argument after the names arguments are assigned"
      ]
    },
    {
      "cell_type": "markdown",
      "metadata": {
        "id": "AR9KrJnn1GUL"
      },
      "source": [
        "# z-score function\n",
        "\n",
        "Let us create a function to compute z-scores of a vector v; `v - mean(v) / std(v)`"
      ]
    },
    {
      "cell_type": "code",
      "execution_count": null,
      "metadata": {
        "colab": {
          "base_uri": "https://localhost:8080/",
          "height": 52
        },
        "id": "qaLeKXql1GUL",
        "outputId": "762f2378-c3c2-4cbf-f603-fdd0d467daa8"
      },
      "outputs": [
        {
          "data": {
            "text/html": [
              "<style>\n",
              ".list-inline {list-style: none; margin:0; padding: 0}\n",
              ".list-inline>li {display: inline-block}\n",
              ".list-inline>li:not(:last-child)::after {content: \"\\00b7\"; padding: 0 .5ex}\n",
              "</style>\n",
              "<ol class=list-inline><li>-0.645085948617728</li><li>-0.5068532453425</li><li>1.15193919396023</li></ol>\n"
            ],
            "text/latex": [
              "\\begin{enumerate*}\n",
              "\\item -0.645085948617728\n",
              "\\item -0.5068532453425\n",
              "\\item 1.15193919396023\n",
              "\\end{enumerate*}\n"
            ],
            "text/markdown": [
              "1. -0.645085948617728\n",
              "2. -0.5068532453425\n",
              "3. 1.15193919396023\n",
              "\n",
              "\n"
            ],
            "text/plain": [
              "[1] -0.6450859 -0.5068532  1.1519392"
            ]
          },
          "metadata": {},
          "output_type": "display_data"
        }
      ],
      "source": [
        "# function to compute z-scores\n",
        "z_score1 <- function(x) {\n",
        "      #inputs: x - a numeric vector\n",
        "      #outputs: the z-scores for x\n",
        "      x_mean = mean(x)\n",
        "      x_sd = sd(x)\n",
        "\n",
        "      (x - x_mean)/x_sd\n",
        "}\n",
        "\n",
        "result <- z_score1(c(10,11,23))\n",
        "result"
      ]
    },
    {
      "cell_type": "code",
      "source": [
        "z_score1 <- function(x) {\n",
        "      #inputs: x - a numeric vector\n",
        "      #outputs: the z-scores for x\n",
        "\n",
        "      (x - mean(x))/sd(x)\n",
        "}\n",
        "\n",
        "result <- z_score1(c(10,11,23))\n",
        "result"
      ],
      "metadata": {
        "id": "4XuCKa3XpaOy",
        "outputId": "0f4d993d-7dce-4cbd-9402-b21c907bfe74",
        "colab": {
          "base_uri": "https://localhost:8080/",
          "height": 34
        }
      },
      "execution_count": 48,
      "outputs": [
        {
          "output_type": "display_data",
          "data": {
            "text/html": [
              "<style>\n",
              ".list-inline {list-style: none; margin:0; padding: 0}\n",
              ".list-inline>li {display: inline-block}\n",
              ".list-inline>li:not(:last-child)::after {content: \"\\00b7\"; padding: 0 .5ex}\n",
              "</style>\n",
              "<ol class=list-inline><li>-0.645085948617728</li><li>-0.5068532453425</li><li>1.15193919396023</li></ol>\n"
            ],
            "text/markdown": "1. -0.645085948617728\n2. -0.5068532453425\n3. 1.15193919396023\n\n\n",
            "text/latex": "\\begin{enumerate*}\n\\item -0.645085948617728\n\\item -0.5068532453425\n\\item 1.15193919396023\n\\end{enumerate*}\n",
            "text/plain": [
              "[1] -0.6450859 -0.5068532  1.1519392"
            ]
          },
          "metadata": {}
        }
      ]
    },
    {
      "cell_type": "markdown",
      "metadata": {
        "id": "3lIvlpaL1GUM"
      },
      "source": [
        "The return statement is not strictly necessary, but can make complex functions more readable. It is good practice to avoid creating intermediate objects to store values only used once.\n",
        "\n"
      ]
    },
    {
      "cell_type": "markdown",
      "metadata": {
        "id": "mTPxbzoZ1GUQ"
      },
      "source": [
        "### Default Parameters\n",
        "\n",
        "We can set default values for parameters using the construction `parameter = xx` in the function definition.\n",
        "\n",
        "\n"
      ]
    },
    {
      "cell_type": "code",
      "execution_count": 49,
      "metadata": {
        "id": "X7FzgVA21GUR"
      },
      "outputs": [],
      "source": [
        "# function to compute z-scores\n",
        "z_score2 = function(x, na.rm = T){\n",
        "  (x - mean(x, na.rm = na.rm)) / sd(x, na.rm = na.rm)\n",
        "}"
      ]
    },
    {
      "cell_type": "code",
      "source": [
        "x = c(10,12, NA)\n",
        "z_score2(x)"
      ],
      "metadata": {
        "id": "9lDTwCpxqFz4",
        "outputId": "d7bd7acc-6aa3-4e2c-a9c1-bedd33c4be4c",
        "colab": {
          "base_uri": "https://localhost:8080/",
          "height": 34
        }
      },
      "execution_count": 55,
      "outputs": [
        {
          "output_type": "display_data",
          "data": {
            "text/html": [
              "<style>\n",
              ".list-inline {list-style: none; margin:0; padding: 0}\n",
              ".list-inline>li {display: inline-block}\n",
              ".list-inline>li:not(:last-child)::after {content: \"\\00b7\"; padding: 0 .5ex}\n",
              "</style>\n",
              "<ol class=list-inline><li>-0.707106781186547</li><li>0.707106781186547</li><li>&lt;NA&gt;</li></ol>\n"
            ],
            "text/markdown": "1. -0.707106781186547\n2. 0.707106781186547\n3. &lt;NA&gt;\n\n\n",
            "text/latex": "\\begin{enumerate*}\n\\item -0.707106781186547\n\\item 0.707106781186547\n\\item <NA>\n\\end{enumerate*}\n",
            "text/plain": [
              "[1] -0.7071068  0.7071068         NA"
            ]
          },
          "metadata": {}
        }
      ]
    },
    {
      "cell_type": "markdown",
      "metadata": {
        "id": "4YrPbaDhb537"
      },
      "source": [
        "Let us pick 10 random numbers between 1 and 100"
      ]
    },
    {
      "cell_type": "code",
      "execution_count": 60,
      "metadata": {
        "id": "Qi11RHYbb537",
        "outputId": "bde21476-2969-4a6f-bb78-3082d2386b21",
        "colab": {
          "base_uri": "https://localhost:8080/",
          "height": 34
        }
      },
      "outputs": [
        {
          "output_type": "display_data",
          "data": {
            "text/html": [
              "<style>\n",
              ".list-inline {list-style: none; margin:0; padding: 0}\n",
              ".list-inline>li {display: inline-block}\n",
              ".list-inline>li:not(:last-child)::after {content: \"\\00b7\"; padding: 0 .5ex}\n",
              "</style>\n",
              "<ol class=list-inline><li>27</li><li>22</li><li>83</li><li>81</li><li>94</li><li>1</li><li>86</li><li>98</li><li>5</li><li>57</li></ol>\n"
            ],
            "text/markdown": "1. 27\n2. 22\n3. 83\n4. 81\n5. 94\n6. 1\n7. 86\n8. 98\n9. 5\n10. 57\n\n\n",
            "text/latex": "\\begin{enumerate*}\n\\item 27\n\\item 22\n\\item 83\n\\item 81\n\\item 94\n\\item 1\n\\item 86\n\\item 98\n\\item 5\n\\item 57\n\\end{enumerate*}\n",
            "text/plain": [
              " [1] 27 22 83 81 94  1 86 98  5 57"
            ]
          },
          "metadata": {}
        }
      ],
      "source": [
        "s1 = sample(1:100, 10)\n",
        "s1"
      ]
    },
    {
      "cell_type": "code",
      "execution_count": 61,
      "metadata": {
        "scrolled": true,
        "id": "LOBQ30QWb537",
        "outputId": "738ba3ec-8c5c-48e6-8cbc-ac1663f50471",
        "colab": {
          "base_uri": "https://localhost:8080/",
          "height": 86
        }
      },
      "outputs": [
        {
          "output_type": "display_data",
          "data": {
            "text/html": [
              "<style>\n",
              ".list-inline {list-style: none; margin:0; padding: 0}\n",
              ".list-inline>li {display: inline-block}\n",
              ".list-inline>li:not(:last-child)::after {content: \"\\00b7\"; padding: 0 .5ex}\n",
              "</style>\n",
              "<ol class=list-inline><li>&lt;NA&gt;</li><li>&lt;NA&gt;</li><li>&lt;NA&gt;</li><li>&lt;NA&gt;</li><li>&lt;NA&gt;</li><li>&lt;NA&gt;</li><li>&lt;NA&gt;</li><li>&lt;NA&gt;</li><li>&lt;NA&gt;</li><li>&lt;NA&gt;</li><li>&lt;NA&gt;</li></ol>\n"
            ],
            "text/markdown": "1. &lt;NA&gt;\n2. &lt;NA&gt;\n3. &lt;NA&gt;\n4. &lt;NA&gt;\n5. &lt;NA&gt;\n6. &lt;NA&gt;\n7. &lt;NA&gt;\n8. &lt;NA&gt;\n9. &lt;NA&gt;\n10. &lt;NA&gt;\n11. &lt;NA&gt;\n\n\n",
            "text/latex": "\\begin{enumerate*}\n\\item <NA>\n\\item <NA>\n\\item <NA>\n\\item <NA>\n\\item <NA>\n\\item <NA>\n\\item <NA>\n\\item <NA>\n\\item <NA>\n\\item <NA>\n\\item <NA>\n\\end{enumerate*}\n",
            "text/plain": [
              " [1] NA NA NA NA NA NA NA NA NA NA NA"
            ]
          },
          "metadata": {}
        },
        {
          "output_type": "display_data",
          "data": {
            "text/html": [
              "<style>\n",
              ".list-inline {list-style: none; margin:0; padding: 0}\n",
              ".list-inline>li {display: inline-block}\n",
              ".list-inline>li:not(:last-child)::after {content: \"\\00b7\"; padding: 0 .5ex}\n",
              "</style>\n",
              "<ol class=list-inline><li>-0.744896412887628</li><li>-0.876040147550943</li><li>0.723913415341498</li><li>0.671455921476172</li><li>1.01242963160079</li><li>-1.42684383313687</li><li>0.802599656139487</li><li>1.11734461933144</li><li>-1.32192884540621</li><li>0.0419659950922608</li><li>&lt;NA&gt;</li></ol>\n"
            ],
            "text/markdown": "1. -0.744896412887628\n2. -0.876040147550943\n3. 0.723913415341498\n4. 0.671455921476172\n5. 1.01242963160079\n6. -1.42684383313687\n7. 0.802599656139487\n8. 1.11734461933144\n9. -1.32192884540621\n10. 0.0419659950922608\n11. &lt;NA&gt;\n\n\n",
            "text/latex": "\\begin{enumerate*}\n\\item -0.744896412887628\n\\item -0.876040147550943\n\\item 0.723913415341498\n\\item 0.671455921476172\n\\item 1.01242963160079\n\\item -1.42684383313687\n\\item 0.802599656139487\n\\item 1.11734461933144\n\\item -1.32192884540621\n\\item 0.0419659950922608\n\\item <NA>\n\\end{enumerate*}\n",
            "text/plain": [
              " [1] -0.7448964 -0.8760401  0.7239134  0.6714559  1.0124296 -1.4268438\n",
              " [7]  0.8025997  1.1173446 -1.3219288  0.0419660         NA"
            ]
          },
          "metadata": {}
        }
      ],
      "source": [
        "s2 = c(s1, NA)\n",
        "\n",
        "z_score1(s2)\n",
        "z_score2(s2)"
      ]
    },
    {
      "cell_type": "markdown",
      "metadata": {
        "id": "nAv8OP3Tb538"
      },
      "source": [
        "### Exercise\n",
        "Write an R function called `find_missing_elements` that takes these two vectors, v1, v2 as input and returns a vector containing elements that are present in v1 but not in v2"
      ]
    },
    {
      "cell_type": "code",
      "execution_count": 64,
      "metadata": {
        "scrolled": true,
        "id": "r2RWC1iLb538",
        "outputId": "8f14953d-0652-41e0-9779-00963336fc3e",
        "colab": {
          "base_uri": "https://localhost:8080/",
          "height": 34
        }
      },
      "outputs": [
        {
          "output_type": "display_data",
          "data": {
            "text/html": [
              "<style>\n",
              ".list-inline {list-style: none; margin:0; padding: 0}\n",
              ".list-inline>li {display: inline-block}\n",
              ".list-inline>li:not(:last-child)::after {content: \"\\00b7\"; padding: 0 .5ex}\n",
              "</style>\n",
              "<ol class=list-inline><li>1</li><li>2</li><li>5</li></ol>\n"
            ],
            "text/markdown": "1. 1\n2. 2\n3. 5\n\n\n",
            "text/latex": "\\begin{enumerate*}\n\\item 1\n\\item 2\n\\item 5\n\\end{enumerate*}\n",
            "text/plain": [
              "[1] 1 2 5"
            ]
          },
          "metadata": {}
        }
      ],
      "source": [
        "find_missing_elements = function(v1, v2){\n",
        "  setdiff(v1, v2)\n",
        "}\n",
        "\n",
        "v1 <- c(1, 2, 3, 4, 5)\n",
        "v2 <- c(3, 4, 6, 7)\n",
        "\n",
        "find_missing_elements(v1, v2)"
      ]
    },
    {
      "cell_type": "markdown",
      "metadata": {
        "id": "kBvAXqaJb538"
      },
      "source": [
        "## Iteration\n",
        "\n",
        "\n",
        "If you're coming from a C++ or Java background, your first instinct is probably to use a `for()` loop. In R, for loops look like this:\n",
        "```{r}\n",
        "for (<index> in <vector>) {\n",
        "    [do something for each value of <index>]\n",
        "}\n",
        "```"
      ]
    },
    {
      "cell_type": "code",
      "execution_count": null,
      "metadata": {
        "id": "9tFYY4FIb539",
        "outputId": "df97b6ff-153c-4543-a18a-c2cdcdc775e5"
      },
      "outputs": [
        {
          "name": "stdout",
          "output_type": "stream",
          "text": [
            " [1] 95 68 25 45 98 75 82 37 23 20\n",
            "[1] 95\n",
            "[1] 68\n",
            "[1] 25\n",
            "[1] 45\n",
            "[1] 98\n",
            "[1] 75\n",
            "[1] 82\n",
            "[1] 37\n",
            "[1] 23\n",
            "[1] 20\n"
          ]
        }
      ],
      "source": [
        "x = sample(1:100, 10, replace = F)\n",
        "print(x)\n",
        "for (item in x){\n",
        "  print(item)\n",
        "}"
      ]
    },
    {
      "cell_type": "markdown",
      "metadata": {
        "id": "Ig9xQ8akb54E"
      },
      "source": [
        "## `while`\n",
        "\n",
        "The last kind of loop we will consider is `while()`.\n",
        "\n",
        "A while statement can be useful when you aren’t sure how many iterations are needed. This happens sometimes in statistics or data science when you are simulating a random quantity.\n",
        "\n",
        "Here is an example that takes a random walk and terminates if the value is more than 10 units from 0."
      ]
    },
    {
      "cell_type": "markdown",
      "metadata": {
        "id": "WFCNexU_b54E"
      },
      "source": [
        "## Example: random walk\n",
        "A random walk is a"
      ]
    },
    {
      "cell_type": "code",
      "execution_count": 67,
      "metadata": {
        "id": "WvvgB8lMb54F",
        "outputId": "96f73f05-0b2f-4518-a7bd-05c3744912ad",
        "colab": {
          "base_uri": "https://localhost:8080/",
          "height": 437
        }
      },
      "outputs": [
        {
          "output_type": "display_data",
          "data": {
            "text/plain": [
              "plot without title"
            ],
            "image/png": "[encoded data removed]"
          },
          "metadata": {
            "image/png": {
              "width": 420,
              "height": 420
            }
          }
        }
      ],
      "source": [
        "maxIter = 1e3 # always limit the total iterations allowed\n",
        "val = c()\n",
        "val[1] = rnorm(1) ## initialize\n",
        "\n",
        "k = 1\n",
        "while (abs(val[k]) < 10 && k <= maxIter) {\n",
        "  val[k + 1] = val[k] + rnorm(1)\n",
        "  k = k + 1\n",
        "}\n",
        "val = val[1:k]\n",
        "\n",
        "plot(val, type = 'l')"
      ]
    },
    {
      "cell_type": "markdown",
      "metadata": {
        "id": "tiJYShFyb54F"
      },
      "source": [
        "#### key words\n",
        "The following key words are useful within loops:\n",
        "\n",
        "- break - break out of the currently executing loop\n",
        "- next - move to the next iteration immediately, without executing the rest of this iteration (continue in other languages such as C++)\n",
        "\n",
        "Here is an example using next:"
      ]
    },
    {
      "cell_type": "code",
      "execution_count": null,
      "metadata": {
        "id": "T_6hxGaeb54F",
        "outputId": "cf34484b-6cd2-425f-fb6b-5ca40a3254a7"
      },
      "outputs": [
        {
          "name": "stdout",
          "output_type": "stream",
          "text": [
            "1 \n",
            "3 \n",
            "5 \n",
            "7 \n",
            "9 \n"
          ]
        }
      ],
      "source": [
        "for (i in 1:10 ) {\n",
        "  if (i %% 2 == 0) next\n",
        "  cat(i,'\\n')\n",
        "}"
      ]
    },
    {
      "cell_type": "markdown",
      "metadata": {
        "id": "WHBuzRmWb54F"
      },
      "source": [
        "`break` example"
      ]
    },
    {
      "cell_type": "code",
      "execution_count": 68,
      "metadata": {
        "id": "ZzX7tVkdb54F",
        "outputId": "a2e8bbda-8a5a-42c7-fd26-03047709eff1",
        "colab": {
          "base_uri": "https://localhost:8080/",
          "height": 437
        }
      },
      "outputs": [
        {
          "output_type": "display_data",
          "data": {
            "text/plain": [
              "plot without title"
            ],
            "image/png": "[encoded data removed]"
          },
          "metadata": {
            "image/png": {
              "width": 420,
              "height": 420
            }
          }
        }
      ],
      "source": [
        "maxIter = 1e3 # always limit the total iterations allowed\n",
        "val = c()\n",
        "val[1] = rnorm(1) ## initialize\n",
        "\n",
        "k = 1\n",
        "while (k <= maxIter) {\n",
        "  val[k + 1] = val[k] + rnorm(1)\n",
        "  k = k + 1\n",
        "  if(abs(val[k]) > 10)\n",
        "      break\n",
        "}\n",
        "val = val[1:k]\n",
        "\n",
        "plot(val, type = 'l')"
      ]
    },
    {
      "cell_type": "markdown",
      "metadata": {
        "id": "cbQT6tefRnxY"
      },
      "source": [
        "## Applying same functions across multiple columns of dataframe\n",
        "Very often in programming, it happens that you need to perform the same \"action\" on multiple \"things\". Examples we have already seen in this class:\n",
        "- `facet_wrap()`, `facet_grid()`: make the same plot for various combinations of factors.\n",
        "- `group_by()` + `summarize()`: compute the same statistic for various groups of data.\n",
        "\n"
      ]
    },
    {
      "cell_type": "markdown",
      "metadata": {
        "id": "ZvXturkab54G"
      },
      "source": [
        "### Performing the same action on multiple columns\n",
        "Consider the following table with four columns `a`-`d`:"
      ]
    },
    {
      "cell_type": "code",
      "execution_count": null,
      "metadata": {
        "id": "2uGqqDfZb54H",
        "outputId": "ae39fe72-6ed4-4581-c9c7-82c923d7f163"
      },
      "outputs": [
        {
          "data": {
            "text/html": [
              "<table class=\"dataframe\">\n",
              "<caption>A tibble: 10 × 4</caption>\n",
              "<thead>\n",
              "\t<tr><th scope=col>a</th><th scope=col>b</th><th scope=col>c</th><th scope=col>d</th></tr>\n",
              "\t<tr><th scope=col>&lt;dbl&gt;</th><th scope=col>&lt;dbl&gt;</th><th scope=col>&lt;dbl&gt;</th><th scope=col>&lt;dbl&gt;</th></tr>\n",
              "</thead>\n",
              "<tbody>\n",
              "\t<tr><td> 0.3639825</td><td> 0.2793999</td><td> 0.75416291</td><td> 2.01025394</td></tr>\n",
              "\t<tr><td>-0.1702943</td><td>-0.5908596</td><td>-0.14913645</td><td>-1.28492751</td></tr>\n",
              "\t<tr><td>-0.4104605</td><td> 0.1788368</td><td>-0.75772881</td><td>-0.03415758</td></tr>\n",
              "\t<tr><td>-0.2826906</td><td> 0.7444509</td><td>-0.37238919</td><td>-1.64364691</td></tr>\n",
              "\t<tr><td>-1.0533577</td><td> 1.6824327</td><td> 0.90337647</td><td> 0.13716963</td></tr>\n",
              "\t<tr><td>-2.8917004</td><td> 0.6222882</td><td> 0.09402692</td><td> 0.93657431</td></tr>\n",
              "\t<tr><td> 1.0431000</td><td> 0.1721396</td><td>-1.53884170</td><td>-1.24873533</td></tr>\n",
              "\t<tr><td> 0.2759381</td><td> 1.7421926</td><td> 1.39494977</td><td> 0.74774049</td></tr>\n",
              "\t<tr><td> 1.6680250</td><td> 0.6707317</td><td>-1.56428548</td><td> 0.01547681</td></tr>\n",
              "\t<tr><td> 1.0976861</td><td>-1.3205504</td><td> 0.27465175</td><td>-0.06041460</td></tr>\n",
              "</tbody>\n",
              "</table>\n"
            ],
            "text/latex": [
              "A tibble: 10 × 4\n",
              "\\begin{tabular}{llll}\n",
              " a & b & c & d\\\\\n",
              " <dbl> & <dbl> & <dbl> & <dbl>\\\\\n",
              "\\hline\n",
              "\t  0.3639825 &  0.2793999 &  0.75416291 &  2.01025394\\\\\n",
              "\t -0.1702943 & -0.5908596 & -0.14913645 & -1.28492751\\\\\n",
              "\t -0.4104605 &  0.1788368 & -0.75772881 & -0.03415758\\\\\n",
              "\t -0.2826906 &  0.7444509 & -0.37238919 & -1.64364691\\\\\n",
              "\t -1.0533577 &  1.6824327 &  0.90337647 &  0.13716963\\\\\n",
              "\t -2.8917004 &  0.6222882 &  0.09402692 &  0.93657431\\\\\n",
              "\t  1.0431000 &  0.1721396 & -1.53884170 & -1.24873533\\\\\n",
              "\t  0.2759381 &  1.7421926 &  1.39494977 &  0.74774049\\\\\n",
              "\t  1.6680250 &  0.6707317 & -1.56428548 &  0.01547681\\\\\n",
              "\t  1.0976861 & -1.3205504 &  0.27465175 & -0.06041460\\\\\n",
              "\\end{tabular}\n"
            ],
            "text/markdown": [
              "\n",
              "A tibble: 10 × 4\n",
              "\n",
              "| a &lt;dbl&gt; | b &lt;dbl&gt; | c &lt;dbl&gt; | d &lt;dbl&gt; |\n",
              "|---|---|---|---|\n",
              "|  0.3639825 |  0.2793999 |  0.75416291 |  2.01025394 |\n",
              "| -0.1702943 | -0.5908596 | -0.14913645 | -1.28492751 |\n",
              "| -0.4104605 |  0.1788368 | -0.75772881 | -0.03415758 |\n",
              "| -0.2826906 |  0.7444509 | -0.37238919 | -1.64364691 |\n",
              "| -1.0533577 |  1.6824327 |  0.90337647 |  0.13716963 |\n",
              "| -2.8917004 |  0.6222882 |  0.09402692 |  0.93657431 |\n",
              "|  1.0431000 |  0.1721396 | -1.53884170 | -1.24873533 |\n",
              "|  0.2759381 |  1.7421926 |  1.39494977 |  0.74774049 |\n",
              "|  1.6680250 |  0.6707317 | -1.56428548 |  0.01547681 |\n",
              "|  1.0976861 | -1.3205504 |  0.27465175 | -0.06041460 |\n",
              "\n"
            ],
            "text/plain": [
              "   a          b          c           d          \n",
              "1   0.3639825  0.2793999  0.75416291  2.01025394\n",
              "2  -0.1702943 -0.5908596 -0.14913645 -1.28492751\n",
              "3  -0.4104605  0.1788368 -0.75772881 -0.03415758\n",
              "4  -0.2826906  0.7444509 -0.37238919 -1.64364691\n",
              "5  -1.0533577  1.6824327  0.90337647  0.13716963\n",
              "6  -2.8917004  0.6222882  0.09402692  0.93657431\n",
              "7   1.0431000  0.1721396 -1.53884170 -1.24873533\n",
              "8   0.2759381  1.7421926  1.39494977  0.74774049\n",
              "9   1.6680250  0.6707317 -1.56428548  0.01547681\n",
              "10  1.0976861 -1.3205504  0.27465175 -0.06041460"
            ]
          },
          "metadata": {},
          "output_type": "display_data"
        }
      ],
      "source": [
        "df <- tibble(\n",
        "  a = rnorm(10),\n",
        "  b = rnorm(10),\n",
        "  c = rnorm(10),\n",
        "  d = rnorm(10)\n",
        ")\n",
        "df"
      ]
    },
    {
      "cell_type": "markdown",
      "metadata": {
        "id": "opJx1COMb54H"
      },
      "source": [
        "Using the z-score example above multiple times"
      ]
    },
    {
      "cell_type": "code",
      "execution_count": null,
      "metadata": {
        "id": "MX5GRV7Sb54I",
        "outputId": "67c9df4f-1f11-44da-9b72-0a32ea6a19a2"
      },
      "outputs": [
        {
          "data": {
            "text/html": [
              "<table class=\"dataframe\">\n",
              "<caption>A tibble: 10 × 4</caption>\n",
              "<thead>\n",
              "\t<tr><th scope=col>a</th><th scope=col>b</th><th scope=col>c</th><th scope=col>d</th></tr>\n",
              "\t<tr><th scope=col>&lt;dbl&gt;</th><th scope=col>&lt;dbl&gt;</th><th scope=col>&lt;dbl&gt;</th><th scope=col>&lt;dbl&gt;</th></tr>\n",
              "</thead>\n",
              "<tbody>\n",
              "\t<tr><td> 0.3096027</td><td>-0.1495548</td><td> 0.8563618</td><td> 1.82427427</td></tr>\n",
              "\t<tr><td>-0.1039729</td><td>-1.0878789</td><td>-0.0533940</td><td>-1.10418793</td></tr>\n",
              "\t<tr><td>-0.2898818</td><td>-0.2579832</td><td>-0.6663364</td><td> 0.00738438</td></tr>\n",
              "\t<tr><td>-0.1909771</td><td> 0.3518686</td><td>-0.2782425</td><td>-1.42298561</td></tr>\n",
              "\t<tr><td>-0.7875387</td><td> 1.3632117</td><td> 1.0066419</td><td> 0.15964467</td></tr>\n",
              "\t<tr><td>-2.2105717</td><td> 0.2201514</td><td> 0.1915074</td><td> 0.87008396</td></tr>\n",
              "\t<tr><td> 0.8352972</td><td>-0.2652041</td><td>-1.4530324</td><td>-1.07202356</td></tr>\n",
              "\t<tr><td> 0.2414489</td><td> 1.4276456</td><td> 1.5017288</td><td> 0.70226536</td></tr>\n",
              "\t<tr><td> 1.3190421</td><td> 0.2723837</td><td>-1.4786581</td><td> 0.05149498</td></tr>\n",
              "\t<tr><td> 0.8775514</td><td>-1.8746401</td><td> 0.3734233</td><td>-0.01595050</td></tr>\n",
              "</tbody>\n",
              "</table>\n"
            ],
            "text/latex": [
              "A tibble: 10 × 4\n",
              "\\begin{tabular}{llll}\n",
              " a & b & c & d\\\\\n",
              " <dbl> & <dbl> & <dbl> & <dbl>\\\\\n",
              "\\hline\n",
              "\t  0.3096027 & -0.1495548 &  0.8563618 &  1.82427427\\\\\n",
              "\t -0.1039729 & -1.0878789 & -0.0533940 & -1.10418793\\\\\n",
              "\t -0.2898818 & -0.2579832 & -0.6663364 &  0.00738438\\\\\n",
              "\t -0.1909771 &  0.3518686 & -0.2782425 & -1.42298561\\\\\n",
              "\t -0.7875387 &  1.3632117 &  1.0066419 &  0.15964467\\\\\n",
              "\t -2.2105717 &  0.2201514 &  0.1915074 &  0.87008396\\\\\n",
              "\t  0.8352972 & -0.2652041 & -1.4530324 & -1.07202356\\\\\n",
              "\t  0.2414489 &  1.4276456 &  1.5017288 &  0.70226536\\\\\n",
              "\t  1.3190421 &  0.2723837 & -1.4786581 &  0.05149498\\\\\n",
              "\t  0.8775514 & -1.8746401 &  0.3734233 & -0.01595050\\\\\n",
              "\\end{tabular}\n"
            ],
            "text/markdown": [
              "\n",
              "A tibble: 10 × 4\n",
              "\n",
              "| a &lt;dbl&gt; | b &lt;dbl&gt; | c &lt;dbl&gt; | d &lt;dbl&gt; |\n",
              "|---|---|---|---|\n",
              "|  0.3096027 | -0.1495548 |  0.8563618 |  1.82427427 |\n",
              "| -0.1039729 | -1.0878789 | -0.0533940 | -1.10418793 |\n",
              "| -0.2898818 | -0.2579832 | -0.6663364 |  0.00738438 |\n",
              "| -0.1909771 |  0.3518686 | -0.2782425 | -1.42298561 |\n",
              "| -0.7875387 |  1.3632117 |  1.0066419 |  0.15964467 |\n",
              "| -2.2105717 |  0.2201514 |  0.1915074 |  0.87008396 |\n",
              "|  0.8352972 | -0.2652041 | -1.4530324 | -1.07202356 |\n",
              "|  0.2414489 |  1.4276456 |  1.5017288 |  0.70226536 |\n",
              "|  1.3190421 |  0.2723837 | -1.4786581 |  0.05149498 |\n",
              "|  0.8775514 | -1.8746401 |  0.3734233 | -0.01595050 |\n",
              "\n"
            ],
            "text/plain": [
              "   a          b          c          d          \n",
              "1   0.3096027 -0.1495548  0.8563618  1.82427427\n",
              "2  -0.1039729 -1.0878789 -0.0533940 -1.10418793\n",
              "3  -0.2898818 -0.2579832 -0.6663364  0.00738438\n",
              "4  -0.1909771  0.3518686 -0.2782425 -1.42298561\n",
              "5  -0.7875387  1.3632117  1.0066419  0.15964467\n",
              "6  -2.2105717  0.2201514  0.1915074  0.87008396\n",
              "7   0.8352972 -0.2652041 -1.4530324 -1.07202356\n",
              "8   0.2414489  1.4276456  1.5017288  0.70226536\n",
              "9   1.3190421  0.2723837 -1.4786581  0.05149498\n",
              "10  0.8775514 -1.8746401  0.3734233 -0.01595050"
            ]
          },
          "metadata": {},
          "output_type": "display_data"
        },
        {
          "name": "stdout",
          "output_type": "stream",
          "text": [
            "\u001b[90m# A tibble: 10 × 4\u001b[39m\n",
            "        a      b       c       d\n",
            "    \u001b[3m\u001b[90m<dbl>\u001b[39m\u001b[23m  \u001b[3m\u001b[90m<dbl>\u001b[39m\u001b[23m   \u001b[3m\u001b[90m<dbl>\u001b[39m\u001b[23m   \u001b[3m\u001b[90m<dbl>\u001b[39m\u001b[23m\n",
            "\u001b[90m 1\u001b[39m  0.364  0.279  0.754   2.01  \n",
            "\u001b[90m 2\u001b[39m -\u001b[31m0\u001b[39m\u001b[31m.\u001b[39m\u001b[31m170\u001b[39m -\u001b[31m0\u001b[39m\u001b[31m.\u001b[39m\u001b[31m591\u001b[39m -\u001b[31m0\u001b[39m\u001b[31m.\u001b[39m\u001b[31m149\u001b[39m  -\u001b[31m1\u001b[39m\u001b[31m.\u001b[39m\u001b[31m28\u001b[39m  \n",
            "\u001b[90m 3\u001b[39m -\u001b[31m0\u001b[39m\u001b[31m.\u001b[39m\u001b[31m410\u001b[39m  0.179 -\u001b[31m0\u001b[39m\u001b[31m.\u001b[39m\u001b[31m758\u001b[39m  -\u001b[31m0\u001b[39m\u001b[31m.\u001b[39m\u001b[31m0\u001b[39m\u001b[31m34\u001b[4m2\u001b[24m\u001b[39m\n",
            "\u001b[90m 4\u001b[39m -\u001b[31m0\u001b[39m\u001b[31m.\u001b[39m\u001b[31m283\u001b[39m  0.744 -\u001b[31m0\u001b[39m\u001b[31m.\u001b[39m\u001b[31m372\u001b[39m  -\u001b[31m1\u001b[39m\u001b[31m.\u001b[39m\u001b[31m64\u001b[39m  \n",
            "\u001b[90m 5\u001b[39m -\u001b[31m1\u001b[39m\u001b[31m.\u001b[39m\u001b[31m0\u001b[39m\u001b[31m5\u001b[39m   1.68   0.903   0.137 \n",
            "\u001b[90m 6\u001b[39m -\u001b[31m2\u001b[39m\u001b[31m.\u001b[39m\u001b[31m89\u001b[39m   0.622  0.094\u001b[4m0\u001b[24m  0.937 \n",
            "\u001b[90m 7\u001b[39m  1.04   0.172 -\u001b[31m1\u001b[39m\u001b[31m.\u001b[39m\u001b[31m54\u001b[39m   -\u001b[31m1\u001b[39m\u001b[31m.\u001b[39m\u001b[31m25\u001b[39m  \n",
            "\u001b[90m 8\u001b[39m  0.276  1.74   1.39    0.748 \n",
            "\u001b[90m 9\u001b[39m  1.67   0.671 -\u001b[31m1\u001b[39m\u001b[31m.\u001b[39m\u001b[31m56\u001b[39m    0.015\u001b[4m5\u001b[24m\n",
            "\u001b[90m10\u001b[39m  1.10  -\u001b[31m1\u001b[39m\u001b[31m.\u001b[39m\u001b[31m32\u001b[39m   0.275  -\u001b[31m0\u001b[39m\u001b[31m.\u001b[39m\u001b[31m0\u001b[39m\u001b[31m60\u001b[4m4\u001b[24m\u001b[39m\n"
          ]
        }
      ],
      "source": [
        "# mutate the manual way. Your numbers would be different due to randomness\n",
        "df %>% mutate(a = z_score2(a),\n",
        "b = z_score2(b),\n",
        "c = z_score2(c),\n",
        "d = z_score2(d))\n",
        "\n",
        "df %>% print"
      ]
    },
    {
      "cell_type": "markdown",
      "metadata": {
        "id": "J1kL87Prb54K"
      },
      "source": [
        "In the preceding example, we just copy-pasted the same bit of code four times. From now on, we shall adopt a rule: \"never copy-paste more than twice!\" If you find yourself copy-pasting code more than two times, it pays to think of a better way to accomplish the task at hand."
      ]
    },
    {
      "cell_type": "markdown",
      "metadata": {
        "id": "b3cmF7pLb54K"
      },
      "source": [
        "### `across()`\n",
        "The better way in this case is to use a new `dplyr` verb called `across()`. Of course, we have used this earlier. Here is an example"
      ]
    },
    {
      "cell_type": "code",
      "execution_count": null,
      "metadata": {
        "id": "msyTfLMkb54K",
        "outputId": "157d8bbd-3aeb-4720-c5ce-d38ada9e7fa6"
      },
      "outputs": [
        {
          "name": "stdout",
          "output_type": "stream",
          "text": [
            "\u001b[90m# A tibble: 10 × 4\u001b[39m\n",
            "        a      b       c        d\n",
            "    \u001b[3m\u001b[90m<dbl>\u001b[39m\u001b[23m  \u001b[3m\u001b[90m<dbl>\u001b[39m\u001b[23m   \u001b[3m\u001b[90m<dbl>\u001b[39m\u001b[23m    \u001b[3m\u001b[90m<dbl>\u001b[39m\u001b[23m\n",
            "\u001b[90m 1\u001b[39m  0.310 -\u001b[31m0\u001b[39m\u001b[31m.\u001b[39m\u001b[31m150\u001b[39m  0.856   1.82   \n",
            "\u001b[90m 2\u001b[39m -\u001b[31m0\u001b[39m\u001b[31m.\u001b[39m\u001b[31m104\u001b[39m -\u001b[31m1\u001b[39m\u001b[31m.\u001b[39m\u001b[31m0\u001b[39m\u001b[31m9\u001b[39m  -\u001b[31m0\u001b[39m\u001b[31m.\u001b[39m\u001b[31m0\u001b[39m\u001b[31m53\u001b[4m4\u001b[24m\u001b[39m -\u001b[31m1\u001b[39m\u001b[31m.\u001b[39m\u001b[31m10\u001b[39m   \n",
            "\u001b[90m 3\u001b[39m -\u001b[31m0\u001b[39m\u001b[31m.\u001b[39m\u001b[31m290\u001b[39m -\u001b[31m0\u001b[39m\u001b[31m.\u001b[39m\u001b[31m258\u001b[39m -\u001b[31m0\u001b[39m\u001b[31m.\u001b[39m\u001b[31m666\u001b[39m   0.007\u001b[4m3\u001b[24m\u001b[4m8\u001b[24m\n",
            "\u001b[90m 4\u001b[39m -\u001b[31m0\u001b[39m\u001b[31m.\u001b[39m\u001b[31m191\u001b[39m  0.352 -\u001b[31m0\u001b[39m\u001b[31m.\u001b[39m\u001b[31m278\u001b[39m  -\u001b[31m1\u001b[39m\u001b[31m.\u001b[39m\u001b[31m42\u001b[39m   \n",
            "\u001b[90m 5\u001b[39m -\u001b[31m0\u001b[39m\u001b[31m.\u001b[39m\u001b[31m788\u001b[39m  1.36   1.01    0.160  \n",
            "\u001b[90m 6\u001b[39m -\u001b[31m2\u001b[39m\u001b[31m.\u001b[39m\u001b[31m21\u001b[39m   0.220  0.192   0.870  \n",
            "\u001b[90m 7\u001b[39m  0.835 -\u001b[31m0\u001b[39m\u001b[31m.\u001b[39m\u001b[31m265\u001b[39m -\u001b[31m1\u001b[39m\u001b[31m.\u001b[39m\u001b[31m45\u001b[39m   -\u001b[31m1\u001b[39m\u001b[31m.\u001b[39m\u001b[31m0\u001b[39m\u001b[31m7\u001b[39m   \n",
            "\u001b[90m 8\u001b[39m  0.241  1.43   1.50    0.702  \n",
            "\u001b[90m 9\u001b[39m  1.32   0.272 -\u001b[31m1\u001b[39m\u001b[31m.\u001b[39m\u001b[31m48\u001b[39m    0.051\u001b[4m5\u001b[24m \n",
            "\u001b[90m10\u001b[39m  0.878 -\u001b[31m1\u001b[39m\u001b[31m.\u001b[39m\u001b[31m87\u001b[39m   0.373  -\u001b[31m0\u001b[39m\u001b[31m.\u001b[39m\u001b[31m0\u001b[39m\u001b[31m16\u001b[4m0\u001b[24m\u001b[39m \n"
          ]
        }
      ],
      "source": [
        "# use across instead\n",
        "df %>% mutate(across(everything(), z_score2)) %>% print"
      ]
    },
    {
      "cell_type": "markdown",
      "metadata": {
        "id": "DCZzdynmb54K"
      },
      "source": [
        "The columns selected by `across()` work in the same way as `select`:"
      ]
    },
    {
      "cell_type": "code",
      "execution_count": null,
      "metadata": {
        "id": "5nV8JdYBb54L",
        "outputId": "aee0add7-f436-4450-a89e-6ed9dc339445"
      },
      "outputs": [
        {
          "data": {
            "text/html": [
              "<table class=\"dataframe\">\n",
              "<caption>A tibble: 1 × 4</caption>\n",
              "<thead>\n",
              "\t<tr><th scope=col>a</th><th scope=col>b</th><th scope=col>c</th><th scope=col>d</th></tr>\n",
              "\t<tr><th scope=col>&lt;dbl&gt;</th><th scope=col>&lt;dbl&gt;</th><th scope=col>&lt;dbl&gt;</th><th scope=col>&lt;dbl&gt;</th></tr>\n",
              "</thead>\n",
              "<tbody>\n",
              "\t<tr><td>-0.03597716</td><td>2.775558e-17</td><td>-3.193517e-17</td><td>1.828388e-17</td></tr>\n",
              "</tbody>\n",
              "</table>\n"
            ],
            "text/latex": [
              "A tibble: 1 × 4\n",
              "\\begin{tabular}{llll}\n",
              " a & b & c & d\\\\\n",
              " <dbl> & <dbl> & <dbl> & <dbl>\\\\\n",
              "\\hline\n",
              "\t -0.03597716 & 2.775558e-17 & -3.193517e-17 & 1.828388e-17\\\\\n",
              "\\end{tabular}\n"
            ],
            "text/markdown": [
              "\n",
              "A tibble: 1 × 4\n",
              "\n",
              "| a &lt;dbl&gt; | b &lt;dbl&gt; | c &lt;dbl&gt; | d &lt;dbl&gt; |\n",
              "|---|---|---|---|\n",
              "| -0.03597716 | 2.775558e-17 | -3.193517e-17 | 1.828388e-17 |\n",
              "\n"
            ],
            "text/plain": [
              "  a           b            c             d           \n",
              "1 -0.03597716 2.775558e-17 -3.193517e-17 1.828388e-17"
            ]
          },
          "metadata": {},
          "output_type": "display_data"
        }
      ],
      "source": [
        "# standardize everything except column a, then compute the mean\n",
        "\n",
        "df %>% mutate(across(b:d, z_score2)) %>%\n",
        "  summarise(across(everything(), mean))"
      ]
    },
    {
      "cell_type": "code",
      "execution_count": null,
      "metadata": {
        "id": "wEvqoX_Ub54L",
        "outputId": "be2bea9e-c52e-4de6-f201-ce9ec65befe4"
      },
      "outputs": [
        {
          "name": "stdout",
          "output_type": "stream",
          "text": [
            "\u001b[90m# A tibble: 234 × 11\u001b[39m\n",
            "   manufacturer model  displ   year     cyl trans drv      cty   hwy fl    class\n",
            "   \u001b[3m\u001b[90m<chr>\u001b[39m\u001b[23m        \u001b[3m\u001b[90m<chr>\u001b[39m\u001b[23m  \u001b[3m\u001b[90m<dbl>\u001b[39m\u001b[23m  \u001b[3m\u001b[90m<dbl>\u001b[39m\u001b[23m   \u001b[3m\u001b[90m<dbl>\u001b[39m\u001b[23m \u001b[3m\u001b[90m<chr>\u001b[39m\u001b[23m \u001b[3m\u001b[90m<chr>\u001b[39m\u001b[23m  \u001b[3m\u001b[90m<dbl>\u001b[39m\u001b[23m \u001b[3m\u001b[90m<dbl>\u001b[39m\u001b[23m \u001b[3m\u001b[90m<chr>\u001b[39m\u001b[23m \u001b[3m\u001b[90m<chr>\u001b[39m\u001b[23m\n",
            "\u001b[90m 1\u001b[39m audi         a4    -\u001b[31m1\u001b[39m\u001b[31m.\u001b[39m\u001b[31m29\u001b[39m  -\u001b[31m0\u001b[39m\u001b[31m.\u001b[39m\u001b[31m998\u001b[39m -\u001b[31m1\u001b[39m\u001b[31m.\u001b[39m\u001b[31m17\u001b[39m   auto… f      0.268 0.934 p     comp…\n",
            "\u001b[90m 2\u001b[39m audi         a4    -\u001b[31m1\u001b[39m\u001b[31m.\u001b[39m\u001b[31m29\u001b[39m  -\u001b[31m0\u001b[39m\u001b[31m.\u001b[39m\u001b[31m998\u001b[39m -\u001b[31m1\u001b[39m\u001b[31m.\u001b[39m\u001b[31m17\u001b[39m   manu… f      0.973 0.934 p     comp…\n",
            "\u001b[90m 3\u001b[39m audi         a4    -\u001b[31m1\u001b[39m\u001b[31m.\u001b[39m\u001b[31m14\u001b[39m   0.998 -\u001b[31m1\u001b[39m\u001b[31m.\u001b[39m\u001b[31m17\u001b[39m   manu… f      0.738 1.27  p     comp…\n",
            "\u001b[90m 4\u001b[39m audi         a4    -\u001b[31m1\u001b[39m\u001b[31m.\u001b[39m\u001b[31m14\u001b[39m   0.998 -\u001b[31m1\u001b[39m\u001b[31m.\u001b[39m\u001b[31m17\u001b[39m   auto… f      0.973 1.10  p     comp…\n",
            "\u001b[90m 5\u001b[39m audi         a4    -\u001b[31m0\u001b[39m\u001b[31m.\u001b[39m\u001b[31m520\u001b[39m -\u001b[31m0\u001b[39m\u001b[31m.\u001b[39m\u001b[31m998\u001b[39m  0.068\u001b[4m9\u001b[24m auto… f     -\u001b[31m0\u001b[39m\u001b[31m.\u001b[39m\u001b[31m202\u001b[39m 0.430 p     comp…\n",
            "\u001b[90m 6\u001b[39m audi         a4    -\u001b[31m0\u001b[39m\u001b[31m.\u001b[39m\u001b[31m520\u001b[39m -\u001b[31m0\u001b[39m\u001b[31m.\u001b[39m\u001b[31m998\u001b[39m  0.068\u001b[4m9\u001b[24m manu… f      0.268 0.430 p     comp…\n",
            "\u001b[90m 7\u001b[39m audi         a4    -\u001b[31m0\u001b[39m\u001b[31m.\u001b[39m\u001b[31m288\u001b[39m  0.998  0.068\u001b[4m9\u001b[24m auto… f      0.268 0.598 p     comp…\n",
            "\u001b[90m 8\u001b[39m audi         a4 q… -\u001b[31m1\u001b[39m\u001b[31m.\u001b[39m\u001b[31m29\u001b[39m  -\u001b[31m0\u001b[39m\u001b[31m.\u001b[39m\u001b[31m998\u001b[39m -\u001b[31m1\u001b[39m\u001b[31m.\u001b[39m\u001b[31m17\u001b[39m   manu… 4      0.268 0.430 p     comp…\n",
            "\u001b[90m 9\u001b[39m audi         a4 q… -\u001b[31m1\u001b[39m\u001b[31m.\u001b[39m\u001b[31m29\u001b[39m  -\u001b[31m0\u001b[39m\u001b[31m.\u001b[39m\u001b[31m998\u001b[39m -\u001b[31m1\u001b[39m\u001b[31m.\u001b[39m\u001b[31m17\u001b[39m   auto… 4     -\u001b[31m0\u001b[39m\u001b[31m.\u001b[39m\u001b[31m202\u001b[39m 0.262 p     comp…\n",
            "\u001b[90m10\u001b[39m audi         a4 q… -\u001b[31m1\u001b[39m\u001b[31m.\u001b[39m\u001b[31m14\u001b[39m   0.998 -\u001b[31m1\u001b[39m\u001b[31m.\u001b[39m\u001b[31m17\u001b[39m   manu… 4      0.738 0.766 p     comp…\n",
            "\u001b[90m# ℹ 224 more rows\u001b[39m\n"
          ]
        }
      ],
      "source": [
        "# standardize only the numerical columns\n",
        "mpg %>% mutate(across(where(is.numeric), z_score3)) %>% print"
      ]
    },
    {
      "cell_type": "markdown",
      "metadata": {
        "id": "lBSslUjmb54L"
      },
      "source": [
        "using `sapply`"
      ]
    },
    {
      "cell_type": "code",
      "execution_count": null,
      "metadata": {
        "id": "hjNOMsMPb54M",
        "outputId": "2ebe119f-6109-4d11-8446-358143852b9b"
      },
      "outputs": [
        {
          "data": {
            "text/html": [
              "<style>\n",
              ".dl-inline {width: auto; margin:0; padding: 0}\n",
              ".dl-inline>dt, .dl-inline>dd {float: none; width: auto; display: inline-block}\n",
              ".dl-inline>dt::after {content: \":\\0020\"; padding-right: .5ex}\n",
              ".dl-inline>dt:not(:first-of-type) {padding-left: .5ex}\n",
              "</style><dl class=dl-inline><dt>displ</dt><dd>3.47179487179487</dd><dt>year</dt><dd>2003.5</dd><dt>cyl</dt><dd>5.88888888888889</dd><dt>cty</dt><dd>16.8589743589744</dd><dt>hwy</dt><dd>23.4401709401709</dd></dl>\n"
            ],
            "text/latex": [
              "\\begin{description*}\n",
              "\\item[displ] 3.47179487179487\n",
              "\\item[year] 2003.5\n",
              "\\item[cyl] 5.88888888888889\n",
              "\\item[cty] 16.8589743589744\n",
              "\\item[hwy] 23.4401709401709\n",
              "\\end{description*}\n"
            ],
            "text/markdown": [
              "displ\n",
              ":   3.47179487179487year\n",
              ":   2003.5cyl\n",
              ":   5.88888888888889cty\n",
              ":   16.8589743589744hwy\n",
              ":   23.4401709401709\n",
              "\n"
            ],
            "text/plain": [
              "      displ        year         cyl         cty         hwy \n",
              "   3.471795 2003.500000    5.888889   16.858974   23.440171 "
            ]
          },
          "metadata": {},
          "output_type": "display_data"
        }
      ],
      "source": [
        "mpg %>% select(where(is.numeric)) %>% sapply(mean)"
      ]
    },
    {
      "cell_type": "markdown",
      "metadata": {
        "id": "aNQIY7vWb54M"
      },
      "source": [
        "`summarize` also gets the same result"
      ]
    },
    {
      "cell_type": "code",
      "execution_count": null,
      "metadata": {
        "id": "8kMZ-Lqeb54M",
        "outputId": "304a3cde-bf2f-42cb-94a2-e68027da1b3c"
      },
      "outputs": [
        {
          "data": {
            "text/html": [
              "<table class=\"dataframe\">\n",
              "<caption>A tibble: 1 × 2</caption>\n",
              "<thead>\n",
              "\t<tr><th scope=col>displ_m</th><th scope=col>cyl_m</th></tr>\n",
              "\t<tr><th scope=col>&lt;dbl&gt;</th><th scope=col>&lt;dbl&gt;</th></tr>\n",
              "</thead>\n",
              "<tbody>\n",
              "\t<tr><td>3.471795</td><td>5.888889</td></tr>\n",
              "</tbody>\n",
              "</table>\n"
            ],
            "text/latex": [
              "A tibble: 1 × 2\n",
              "\\begin{tabular}{ll}\n",
              " displ\\_m & cyl\\_m\\\\\n",
              " <dbl> & <dbl>\\\\\n",
              "\\hline\n",
              "\t 3.471795 & 5.888889\\\\\n",
              "\\end{tabular}\n"
            ],
            "text/markdown": [
              "\n",
              "A tibble: 1 × 2\n",
              "\n",
              "| displ_m &lt;dbl&gt; | cyl_m &lt;dbl&gt; |\n",
              "|---|---|\n",
              "| 3.471795 | 5.888889 |\n",
              "\n"
            ],
            "text/plain": [
              "  displ_m  cyl_m   \n",
              "1 3.471795 5.888889"
            ]
          },
          "metadata": {},
          "output_type": "display_data"
        }
      ],
      "source": [
        "mpg %>% select(where(is.numeric)) %>% summarize(displ_m = mean(.$displ), cyl_m = mean(cyl))"
      ]
    },
    {
      "cell_type": "markdown",
      "metadata": {
        "id": "5TFrrXCAcnDe"
      },
      "source": [
        "## Dataframe functions\n",
        "\n",
        "A case of a problem of `indirection`, as `dplyr` uses `tidy evaluation` to allow you to refer to the names of variables inside your data frame without any special treatment."
      ]
    },
    {
      "cell_type": "code",
      "execution_count": null,
      "metadata": {
        "colab": {
          "base_uri": "https://localhost:8080/",
          "height": 310
        },
        "id": "7wSvTLhXc1BY",
        "outputId": "6de88b6c-275f-48dc-d83a-45975e09e32b"
      },
      "outputs": [
        {
          "ename": "ERROR",
          "evalue": "\u001b[1m\u001b[33mError\u001b[39m in `group_by()`:\u001b[22m\n\u001b[1m\u001b[22m\u001b[33m!\u001b[39m Must group by variables found in `.data`.\n\u001b[31m✖\u001b[39m Column `group_var` is not found.\n",
          "output_type": "error",
          "traceback": [
            "\u001b[1m\u001b[33mError\u001b[39m in `group_by()`:\u001b[22m\n\u001b[1m\u001b[22m\u001b[33m!\u001b[39m Must group by variables found in `.data`.\n\u001b[31m✖\u001b[39m Column `group_var` is not found.\nTraceback:\n",
            "1. grouped_mean(mpg, model, hwy)",
            "2. df %>% group_by(group_var) %>% summarize(mean(mean_var))   # at line 2-4 of file <text>",
            "3. summarize(., mean(mean_var))",
            "4. group_by(., group_var)",
            "5. group_by.data.frame(., group_var)",
            "6. group_by_prepare(.data, ..., .add = .add, error_call = current_env())",
            "7. abort(bullets, call = error_call)",
            "8. signal_abort(cnd, .file)"
          ]
        }
      ],
      "source": [
        "grouped_mean <- function(df, group_var, mean_var) {\n",
        "  df %>%\n",
        "    group_by(group_var) %>%\n",
        "    summarize(mean(mean_var))\n",
        "}\n",
        "\n",
        "grouped_mean(mpg, model, hwy)"
      ]
    },
    {
      "cell_type": "code",
      "execution_count": null,
      "metadata": {
        "colab": {
          "base_uri": "https://localhost:8080/",
          "height": 286
        },
        "id": "2lvE6L_adDSS",
        "outputId": "0325dbc0-a6b9-40c1-a2ad-8b19398e9aaf"
      },
      "outputs": [
        {
          "data": {
            "text/html": [
              "<table class=\"dataframe\">\n",
              "<caption>A tibble: 6 × 2</caption>\n",
              "<thead>\n",
              "\t<tr><th scope=col>model</th><th scope=col>mean(hwy)</th></tr>\n",
              "\t<tr><th scope=col>&lt;chr&gt;</th><th scope=col>&lt;dbl&gt;</th></tr>\n",
              "</thead>\n",
              "<tbody>\n",
              "\t<tr><td>4runner 4wd       </td><td>18.83333</td></tr>\n",
              "\t<tr><td>a4                </td><td>28.28571</td></tr>\n",
              "\t<tr><td>a4 quattro        </td><td>25.75000</td></tr>\n",
              "\t<tr><td>a6 quattro        </td><td>24.00000</td></tr>\n",
              "\t<tr><td>altima            </td><td>28.66667</td></tr>\n",
              "\t<tr><td>c1500 suburban 2wd</td><td>17.80000</td></tr>\n",
              "</tbody>\n",
              "</table>\n"
            ],
            "text/latex": [
              "A tibble: 6 × 2\n",
              "\\begin{tabular}{ll}\n",
              " model & mean(hwy)\\\\\n",
              " <chr> & <dbl>\\\\\n",
              "\\hline\n",
              "\t 4runner 4wd        & 18.83333\\\\\n",
              "\t a4                 & 28.28571\\\\\n",
              "\t a4 quattro         & 25.75000\\\\\n",
              "\t a6 quattro         & 24.00000\\\\\n",
              "\t altima             & 28.66667\\\\\n",
              "\t c1500 suburban 2wd & 17.80000\\\\\n",
              "\\end{tabular}\n"
            ],
            "text/markdown": [
              "\n",
              "A tibble: 6 × 2\n",
              "\n",
              "| model &lt;chr&gt; | mean(hwy) &lt;dbl&gt; |\n",
              "|---|---|\n",
              "| 4runner 4wd        | 18.83333 |\n",
              "| a4                 | 28.28571 |\n",
              "| a4 quattro         | 25.75000 |\n",
              "| a6 quattro         | 24.00000 |\n",
              "| altima             | 28.66667 |\n",
              "| c1500 suburban 2wd | 17.80000 |\n",
              "\n"
            ],
            "text/plain": [
              "  model              mean(hwy)\n",
              "1 4runner 4wd        18.83333 \n",
              "2 a4                 28.28571 \n",
              "3 a4 quattro         25.75000 \n",
              "4 a6 quattro         24.00000 \n",
              "5 altima             28.66667 \n",
              "6 c1500 suburban 2wd 17.80000 "
            ]
          },
          "metadata": {},
          "output_type": "display_data"
        }
      ],
      "source": [
        "mpg %>% group_by(model) %>% summarise(mean(hwy))"
      ]
    },
    {
      "cell_type": "markdown",
      "metadata": {
        "id": "e-HInchNexcy"
      },
      "source": [
        "### Fix with embracing `{{ }}`"
      ]
    },
    {
      "cell_type": "code",
      "execution_count": null,
      "metadata": {
        "id": "otjDdfr8sF_5"
      },
      "outputs": [],
      "source": [
        "grouped_mean <- function(df, group_var, mean_var) {\n",
        "  df %>%\n",
        "    group_by(group_var) |>\n",
        "    summarize(mean(mean_var))\n",
        "}\n",
        "\n",
        "grouped_mean(mpg, model, hwy) %>% head"
      ]
    },
    {
      "cell_type": "markdown",
      "metadata": {
        "id": "eaaqoymmgTe2"
      },
      "source": [
        "### When to embrace?🤔\n",
        "\n",
        "There are two terms to look for in the docs which correspond to the two most common sub-types of tidy evaluation:\n",
        "\n",
        "* Data-masking: this is used in functions like arrange(), filter(), and summarize() that compute with variables.\n",
        "\n",
        "* Tidy-selection: this is used for functions like select(), relocate(), and rename() that select variables."
      ]
    },
    {
      "cell_type": "markdown",
      "metadata": {
        "id": "gclOUru_tZRC"
      },
      "source": [
        "## Pick function\n",
        "\n",
        "Applied for verbs that use data-masking when sub-selecting the columns"
      ]
    },
    {
      "cell_type": "code",
      "execution_count": null,
      "metadata": {
        "colab": {
          "base_uri": "https://localhost:8080/",
          "height": 286
        },
        "id": "LjMSX_YrskNs",
        "outputId": "550a24bc-3bb6-4ce5-bfd6-ed3297888e59"
      },
      "outputs": [
        {
          "data": {
            "text/html": [
              "<table class=\"dataframe\">\n",
              "<caption>A tibble: 6 × 3</caption>\n",
              "<thead>\n",
              "\t<tr><th scope=col>manufacturer</th><th scope=col>model</th><th scope=col>mean</th></tr>\n",
              "\t<tr><th scope=col>&lt;chr&gt;</th><th scope=col>&lt;chr&gt;</th><th scope=col>&lt;dbl&gt;</th></tr>\n",
              "</thead>\n",
              "<tbody>\n",
              "\t<tr><td>audi     </td><td>a4                </td><td>0</td></tr>\n",
              "\t<tr><td>audi     </td><td>a4 quattro        </td><td>0</td></tr>\n",
              "\t<tr><td>audi     </td><td>a6 quattro        </td><td>0</td></tr>\n",
              "\t<tr><td>chevrolet</td><td>c1500 suburban 2wd</td><td>0</td></tr>\n",
              "\t<tr><td>chevrolet</td><td>corvette          </td><td>0</td></tr>\n",
              "\t<tr><td>chevrolet</td><td>k1500 tahoe 4wd   </td><td>0</td></tr>\n",
              "</tbody>\n",
              "</table>\n"
            ],
            "text/latex": [
              "A tibble: 6 × 3\n",
              "\\begin{tabular}{lll}\n",
              " manufacturer & model & mean\\\\\n",
              " <chr> & <chr> & <dbl>\\\\\n",
              "\\hline\n",
              "\t audi      & a4                 & 0\\\\\n",
              "\t audi      & a4 quattro         & 0\\\\\n",
              "\t audi      & a6 quattro         & 0\\\\\n",
              "\t chevrolet & c1500 suburban 2wd & 0\\\\\n",
              "\t chevrolet & corvette           & 0\\\\\n",
              "\t chevrolet & k1500 tahoe 4wd    & 0\\\\\n",
              "\\end{tabular}\n"
            ],
            "text/markdown": [
              "\n",
              "A tibble: 6 × 3\n",
              "\n",
              "| manufacturer &lt;chr&gt; | model &lt;chr&gt; | mean &lt;dbl&gt; |\n",
              "|---|---|---|\n",
              "| audi      | a4                 | 0 |\n",
              "| audi      | a4 quattro         | 0 |\n",
              "| audi      | a6 quattro         | 0 |\n",
              "| chevrolet | c1500 suburban 2wd | 0 |\n",
              "| chevrolet | corvette           | 0 |\n",
              "| chevrolet | k1500 tahoe 4wd    | 0 |\n",
              "\n"
            ],
            "text/plain": [
              "  manufacturer model              mean\n",
              "1 audi         a4                 0   \n",
              "2 audi         a4 quattro         0   \n",
              "3 audi         a6 quattro         0   \n",
              "4 chevrolet    c1500 suburban 2wd 0   \n",
              "5 chevrolet    corvette           0   \n",
              "6 chevrolet    k1500 tahoe 4wd    0   "
            ]
          },
          "metadata": {},
          "output_type": "display_data"
        }
      ],
      "source": [
        "mean_hwy <- function(df, var1, var2, var_3) {\n",
        "  df |>\n",
        "    group_by({{ var1 }}, {{ var2 }}) |>\n",
        "    summarize(\n",
        "      mean = mean(is.na({{ var_3 }})),\n",
        "      .groups = \"drop\"\n",
        "    )\n",
        "}\n",
        "\n",
        "mpg |>\n",
        "  mean_hwy(manufacturer, model, hwy) %>% head"
      ]
    },
    {
      "cell_type": "markdown",
      "metadata": {
        "id": "PP2qmWazY7eO"
      },
      "source": [
        "## Using pick"
      ]
    },
    {
      "cell_type": "code",
      "execution_count": null,
      "metadata": {
        "colab": {
          "base_uri": "https://localhost:8080/",
          "height": 286
        },
        "id": "4KcPn0QeuQ8E",
        "outputId": "34704ecf-34d8-48b3-e8c1-06233f5c69c8"
      },
      "outputs": [
        {
          "data": {
            "text/html": [
              "<table class=\"dataframe\">\n",
              "<caption>A tibble: 6 × 3</caption>\n",
              "<thead>\n",
              "\t<tr><th scope=col>manufacturer</th><th scope=col>model</th><th scope=col>mean</th></tr>\n",
              "\t<tr><th scope=col>&lt;chr&gt;</th><th scope=col>&lt;chr&gt;</th><th scope=col>&lt;dbl&gt;</th></tr>\n",
              "</thead>\n",
              "<tbody>\n",
              "\t<tr><td>audi     </td><td>a4                </td><td>0</td></tr>\n",
              "\t<tr><td>audi     </td><td>a4 quattro        </td><td>0</td></tr>\n",
              "\t<tr><td>audi     </td><td>a6 quattro        </td><td>0</td></tr>\n",
              "\t<tr><td>chevrolet</td><td>c1500 suburban 2wd</td><td>0</td></tr>\n",
              "\t<tr><td>chevrolet</td><td>corvette          </td><td>0</td></tr>\n",
              "\t<tr><td>chevrolet</td><td>k1500 tahoe 4wd   </td><td>0</td></tr>\n",
              "</tbody>\n",
              "</table>\n"
            ],
            "text/latex": [
              "A tibble: 6 × 3\n",
              "\\begin{tabular}{lll}\n",
              " manufacturer & model & mean\\\\\n",
              " <chr> & <chr> & <dbl>\\\\\n",
              "\\hline\n",
              "\t audi      & a4                 & 0\\\\\n",
              "\t audi      & a4 quattro         & 0\\\\\n",
              "\t audi      & a6 quattro         & 0\\\\\n",
              "\t chevrolet & c1500 suburban 2wd & 0\\\\\n",
              "\t chevrolet & corvette           & 0\\\\\n",
              "\t chevrolet & k1500 tahoe 4wd    & 0\\\\\n",
              "\\end{tabular}\n"
            ],
            "text/markdown": [
              "\n",
              "A tibble: 6 × 3\n",
              "\n",
              "| manufacturer &lt;chr&gt; | model &lt;chr&gt; | mean &lt;dbl&gt; |\n",
              "|---|---|---|\n",
              "| audi      | a4                 | 0 |\n",
              "| audi      | a4 quattro         | 0 |\n",
              "| audi      | a6 quattro         | 0 |\n",
              "| chevrolet | c1500 suburban 2wd | 0 |\n",
              "| chevrolet | corvette           | 0 |\n",
              "| chevrolet | k1500 tahoe 4wd    | 0 |\n",
              "\n"
            ],
            "text/plain": [
              "  manufacturer model              mean\n",
              "1 audi         a4                 0   \n",
              "2 audi         a4 quattro         0   \n",
              "3 audi         a6 quattro         0   \n",
              "4 chevrolet    c1500 suburban 2wd 0   \n",
              "5 chevrolet    corvette           0   \n",
              "6 chevrolet    k1500 tahoe 4wd    0   "
            ]
          },
          "metadata": {},
          "output_type": "display_data"
        }
      ],
      "source": [
        "mean_hwy <- function(df, var1, var2) {\n",
        "  df |>\n",
        "    group_by(pick({{ var1 }})) |>\n",
        "    summarize(\n",
        "      mean = mean(is.na({{ var2 }})),\n",
        "      .groups = \"drop\"\n",
        "    )\n",
        "}\n",
        "\n",
        "mpg |>\n",
        "  mean_hwy(c(manufacturer, model), hwy) %>% head"
      ]
    },
    {
      "cell_type": "markdown",
      "metadata": {
        "id": "4zruY_n7WbtK"
      },
      "source": [
        "\n",
        "\n",
        "## What is refactoring?\n",
        "\n",
        "In software, it is customary to first get 'a' solution for a problem.  Once you have a working software, you should always think through it and see if there are opportunities to make things better. That step is called refactoring!\n",
        "Invariably every time you relook at your code, you will find opportunities to make things better. Some of the things that stand out are\n",
        "* Code that is repeating - pull them over to a function\n",
        "* Renaming your variables to make it more meaningful so that a third person who looks at your code can understand what you are trying to do (sometimes it helps you to recollect what you were doing, when you revisit your code after a few months)\n",
        "* See if there are other builtin functions that you replace your code with\n",
        "\n",
        "These are only some tips, to get you started in the refactoring path. However, attempting to write the best code possible to begin with itself could take you into an analysis-paralysis mode. So the first step always is to get it working in some form and then think of refactoring. However, as you gain experience, you will apply the correct methods itself on your first attempt.\n",
        "But in any case writing code itself is an iterating process"
      ]
    }
  ],
  "metadata": {
    "colab": {
      "provenance": []
    },
    "kernelspec": {
      "display_name": "R",
      "language": "R",
      "name": "ir"
    },
    "language_info": {
      "codemirror_mode": "r",
      "file_extension": ".r",
      "mimetype": "text/x-r-source",
      "name": "R",
      "pygments_lexer": "r",
      "version": "4.3.1"
    }
  },
  "nbformat": 4,
  "nbformat_minor": 0
}