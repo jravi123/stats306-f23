{
 "cells": [
  {
   "cell_type": "code",
   "execution_count": 1,
   "metadata": {
    "colab": {
     "base_uri": "https://localhost:8080/"
    },
    "id": "__szmnTH1lex",
    "outputId": "af4c0a14-33d4-4c89-f581-6ab8ffa85c4a"
   },
   "outputs": [
    {
     "name": "stderr",
     "output_type": "stream",
     "text": [
      "Warning message in system(\"timedatectl\", intern = TRUE):\n",
      "“running command 'timedatectl' had status 1”\n",
      "── \u001b[1mAttaching packages\u001b[22m ─────────────────────────────────────── tidyverse 1.3.1 ──\n",
      "\n",
      "\u001b[32m✔\u001b[39m \u001b[34mggplot2\u001b[39m 3.4.1     \u001b[32m✔\u001b[39m \u001b[34mpurrr  \u001b[39m 1.0.1\n",
      "\u001b[32m✔\u001b[39m \u001b[34mtibble \u001b[39m 3.2.0     \u001b[32m✔\u001b[39m \u001b[34mdplyr  \u001b[39m 1.1.0\n",
      "\u001b[32m✔\u001b[39m \u001b[34mtidyr  \u001b[39m 1.3.0     \u001b[32m✔\u001b[39m \u001b[34mstringr\u001b[39m 1.4.1\n",
      "\u001b[32m✔\u001b[39m \u001b[34mreadr  \u001b[39m 2.1.4     \u001b[32m✔\u001b[39m \u001b[34mforcats\u001b[39m 1.0.0\n",
      "\n",
      "── \u001b[1mConflicts\u001b[22m ────────────────────────────────────────── tidyverse_conflicts() ──\n",
      "\u001b[31m✖\u001b[39m \u001b[34mdplyr\u001b[39m::\u001b[32mfilter()\u001b[39m masks \u001b[34mstats\u001b[39m::filter()\n",
      "\u001b[31m✖\u001b[39m \u001b[34mdplyr\u001b[39m::\u001b[32mlag()\u001b[39m    masks \u001b[34mstats\u001b[39m::lag()\n",
      "\n",
      "Installing package into ‘/usr/local/lib/R/site-library’\n",
      "(as ‘lib’ is unspecified)\n",
      "\n",
      "Downloading GitHub repo bradleyboehmke/harrypotter@HEAD\n",
      "\n"
     ]
    },
    {
     "name": "stdout",
     "output_type": "stream",
     "text": [
      "\u001b[36m──\u001b[39m \u001b[36mR CMD build\u001b[39m \u001b[36m─────────────────────────────────────────────────────────────────\u001b[39m\n",
      "* checking for file ‘/tmp/Rtmp8DqsGk/remotes865bf65b27/bradleyboehmke-harrypotter-51f7146/DESCRIPTION’ ... OK\n",
      "* preparing ‘harrypotter’:\n",
      "* checking DESCRIPTION meta-information ... OK\n",
      "* checking for LF line-endings in source and make files and shell scripts\n",
      "* checking for empty or unneeded directories\n",
      "* building ‘harrypotter_0.1.0.tar.gz’\n",
      "\n"
     ]
    },
    {
     "name": "stderr",
     "output_type": "stream",
     "text": [
      "Installing package into ‘/usr/local/lib/R/site-library’\n",
      "(as ‘lib’ is unspecified)\n",
      "\n",
      "Installing package into ‘/usr/local/lib/R/site-library’\n",
      "(as ‘lib’ is unspecified)\n",
      "\n",
      "also installing the dependencies ‘Rcpp’, ‘SnowballC’, ‘janeaustenr’, ‘tokenizers’\n",
      "\n",
      "\n"
     ]
    }
   ],
   "source": [
    "library(tidyverse)\n",
    "install.packages('nycflights13')\n",
    "library(nycflights13)\n",
    "\n",
    "remotes::install_github(\"bradleyboehmke/harrypotter\")\n",
    "install.packages(\"tidytext\")\n",
    "library(harrypotter)"
   ]
  },
  {
   "cell_type": "markdown",
   "metadata": {
    "id": "m-DHRmHF1lev"
   },
   "source": [
    "# Lecture 18: More on functions and iterations\n",
    "<div style=\"border: 1px double black; padding: 10px; margin: 10px\">\n",
    "\n",
    "**After today's lecture you will understand:**\n",
    "- Function scope\n",
    "- [Functional programming](#Functional-programming) (FP): functions that operate on other functions.\n",
    "</div>\n",
    "\n",
    "These notes correspond to Chapter 27 of the book."
   ]
  },
  {
   "cell_type": "code",
   "execution_count": 1,
   "metadata": {
    "colab": {
     "base_uri": "https://localhost:8080/"
    },
    "id": "GTiVMAPfRnxX",
    "outputId": "0c676323-5f72-4ce0-f2d6-e0c5f15a6d86"
   },
   "outputs": [
    {
     "name": "stderr",
     "output_type": "stream",
     "text": [
      "── \u001b[1mAttaching core tidyverse packages\u001b[22m ──────────────────────── tidyverse 2.0.0 ──\n",
      "\u001b[32m✔\u001b[39m \u001b[34mdplyr    \u001b[39m 1.1.2     \u001b[32m✔\u001b[39m \u001b[34mreadr    \u001b[39m 2.1.4\n",
      "\u001b[32m✔\u001b[39m \u001b[34mforcats  \u001b[39m 1.0.0     \u001b[32m✔\u001b[39m \u001b[34mstringr  \u001b[39m 1.5.0\n",
      "\u001b[32m✔\u001b[39m \u001b[34mggplot2  \u001b[39m 3.4.3     \u001b[32m✔\u001b[39m \u001b[34mtibble   \u001b[39m 3.2.1\n",
      "\u001b[32m✔\u001b[39m \u001b[34mlubridate\u001b[39m 1.9.2     \u001b[32m✔\u001b[39m \u001b[34mtidyr    \u001b[39m 1.3.0\n",
      "\u001b[32m✔\u001b[39m \u001b[34mpurrr    \u001b[39m 1.0.2     \n",
      "── \u001b[1mConflicts\u001b[22m ────────────────────────────────────────── tidyverse_conflicts() ──\n",
      "\u001b[31m✖\u001b[39m \u001b[34mdplyr\u001b[39m::\u001b[32mfilter()\u001b[39m masks \u001b[34mstats\u001b[39m::filter()\n",
      "\u001b[31m✖\u001b[39m \u001b[34mdplyr\u001b[39m::\u001b[32mlag()\u001b[39m    masks \u001b[34mstats\u001b[39m::lag()\n",
      "\u001b[36mℹ\u001b[39m Use the conflicted package (\u001b[3m\u001b[34m<http://conflicted.r-lib.org/>\u001b[39m\u001b[23m) to force all conflicts to become errors\n"
     ]
    }
   ],
   "source": [
    "library(tidyverse)\n",
    "# install.packages('nycflights13')\n",
    "library(nycflights13)\n",
    "\n",
    "# remotes::install_github(\"bradleyboehmke/harrypotter\")\n",
    "library(harrypotter)"
   ]
  },
  {
   "cell_type": "markdown",
   "metadata": {},
   "source": [
    "## Scope\n",
    "\n",
    "Scoping refers to how R looks up the value associated with an object referred to by name. There are two types of scoping – lexical and dynamic – but we will concern ourselves only with lexical scoping here. There are four keys to understanding scoping:\n",
    "\n",
    "- environments\n",
    "- name masking\n",
    "- variables vs functions\n",
    "- dynamic look up\n",
    "\n",
    "An environment can be thought of as a context in which names are associated with objects. Each time a function is called, it generates a new environment for the computation.\n",
    "\n",
    "Consider the following examples:"
   ]
  },
  {
   "cell_type": "code",
   "execution_count": 2,
   "metadata": {},
   "outputs": [
    {
     "data": {
      "text/html": [],
      "text/latex": [],
      "text/markdown": [],
      "text/plain": [
       "character(0)"
      ]
     },
     "metadata": {},
     "output_type": "display_data"
    }
   ],
   "source": [
    "ls()"
   ]
  },
  {
   "cell_type": "code",
   "execution_count": 3,
   "metadata": {},
   "outputs": [
    {
     "data": {
      "text/html": [
       "<style>\n",
       ".list-inline {list-style: none; margin:0; padding: 0}\n",
       ".list-inline>li {display: inline-block}\n",
       ".list-inline>li:not(:last-child)::after {content: \"\\00b7\"; padding: 0 .5ex}\n",
       "</style>\n",
       "<ol class=list-inline><li>'f1_message'</li><li>'x'</li></ol>\n"
      ],
      "text/latex": [
       "\\begin{enumerate*}\n",
       "\\item 'f1\\_message'\n",
       "\\item 'x'\n",
       "\\end{enumerate*}\n"
      ],
      "text/markdown": [
       "1. 'f1_message'\n",
       "2. 'x'\n",
       "\n",
       "\n"
      ],
      "text/plain": [
       "[1] \"f1_message\" \"x\"         "
      ]
     },
     "metadata": {},
     "output_type": "display_data"
    },
    {
     "data": {
      "text/html": [
       "'f1'"
      ],
      "text/latex": [
       "'f1'"
      ],
      "text/markdown": [
       "'f1'"
      ],
      "text/plain": [
       "[1] \"f1\""
      ]
     },
     "metadata": {},
     "output_type": "display_data"
    }
   ],
   "source": [
    "f1 = function() {\n",
    "  f1_message = \"I'm defined inside of f!\"  # `message` is a function in base\n",
    "  x = 10\n",
    "  ls()\n",
    "}\n",
    "f1()\n",
    "ls()"
   ]
  },
  {
   "cell_type": "code",
   "execution_count": 4,
   "metadata": {},
   "outputs": [
    {
     "data": {
      "text/html": [
       "TRUE"
      ],
      "text/latex": [
       "TRUE"
      ],
      "text/markdown": [
       "TRUE"
      ],
      "text/plain": [
       "[1] TRUE"
      ]
     },
     "metadata": {},
     "output_type": "display_data"
    }
   ],
   "source": [
    "exists('f1') # f1 %in% ls() "
   ]
  },
  {
   "cell_type": "code",
   "execution_count": null,
   "metadata": {},
   "outputs": [],
   "source": [
    "# what about f1_message?\n",
    "exists('f1_message')"
   ]
  },
  {
   "cell_type": "code",
   "execution_count": 7,
   "metadata": {},
   "outputs": [
    {
     "data": {
      "text/plain": [
       "<environment: R_GlobalEnv>"
      ]
     },
     "metadata": {},
     "output_type": "display_data"
    }
   ],
   "source": [
    "environment() # here we are in the global environment"
   ]
  },
  {
   "cell_type": "code",
   "execution_count": 8,
   "metadata": {},
   "outputs": [
    {
     "data": {
      "text/plain": [
       "<environment: 0x562fd792cba8>"
      ]
     },
     "metadata": {},
     "output_type": "display_data"
    }
   ],
   "source": [
    "f2 = function(){\n",
    "  environment() # here we are in the local environment -- each time we get a different local environment\n",
    "    # created for the purpose of this function\n",
    "}\n",
    "f2()"
   ]
  },
  {
   "cell_type": "code",
   "execution_count": 9,
   "metadata": {},
   "outputs": [],
   "source": [
    "rm(f1, f2)"
   ]
  },
  {
   "cell_type": "code",
   "execution_count": 10,
   "metadata": {},
   "outputs": [
    {
     "data": {
      "text/html": [
       "FALSE"
      ],
      "text/latex": [
       "FALSE"
      ],
      "text/markdown": [
       "FALSE"
      ],
      "text/plain": [
       "[1] FALSE"
      ]
     },
     "metadata": {},
     "output_type": "display_data"
    }
   ],
   "source": [
    "exists('f1')"
   ]
  },
  {
   "cell_type": "markdown",
   "metadata": {},
   "source": [
    "Name masking refers to where and in what order `R` looks for object names.\n",
    "When we call `f1` above, `R` first looks in the current environment which happens to be the global environment. The call to `ls()` however, happens within the environment created by the function call and hence returns only the objects defined in the local environment.\n",
    "\n",
    "When an environment is created, it gets nested within the current environment referred to as the “parent environment”. When an object is referenced we first look in the current environment and move recursively up through parent environments until we find a value bound to that name.\n",
    "\n",
    "Name masking refers to the notion that objects of the same name can exist in different environments. Consider these examples:\n",
    "\n"
   ]
  },
  {
   "cell_type": "code",
   "execution_count": 24,
   "metadata": {},
   "outputs": [
    {
     "name": "stdout",
     "output_type": "stream",
     "text": [
      "[1] \"x =  I came from inside of f! and y =  Y - I came from outside of f!\"\n",
      "[1] \"outside-x = X - I came from outside of f! and outside-y = Y - I came from outside of f!\"\n"
     ]
    }
   ],
   "source": [
    "#  Example 3 -- lexical scoping\n",
    "y = 'Y - I came from outside of f!'\n",
    "x = 'X - I came from outside of f!'\n",
    "f3 = function(){\n",
    "  x =  'I came from inside of f!'\n",
    "  print(paste(\"x = \", x, \"and y = \", y))\n",
    "}\n",
    "f3()\n",
    "\n",
    "print(paste(\"outside-x =\", x, \"and outside-y =\", y))"
   ]
  },
  {
   "cell_type": "markdown",
   "metadata": {},
   "source": [
    "* x is redefined inside the function enviornment\n",
    "* y is not, so R will search for y in the parent environment and keep moving up\n",
    "* x that is associated with f3, is not going to change the x in the global environment, unless we explicitly write the code to do that"
   ]
  },
  {
   "cell_type": "code",
   "execution_count": 23,
   "metadata": {},
   "outputs": [
    {
     "name": "stdout",
     "output_type": "stream",
     "text": [
      "[1] \"x =  global scope x value is now changed\"\n",
      "[1] \"outside-x =  global scope x value is now changed\"\n"
     ]
    }
   ],
   "source": [
    "#  Example 4 -- assigning to outside scope\n",
    "\n",
    "x = 'X - I came from outside of f!'\n",
    "f4 = function(){\n",
    "  x <<-  'global scope x value is now changed' ## super assignment operator is used here\n",
    "  print(paste(\"x = \", x))\n",
    "}\n",
    "f4()\n",
    "print(paste(\"outside-x = \", x))"
   ]
  },
  {
   "cell_type": "code",
   "execution_count": 18,
   "metadata": {},
   "outputs": [
    {
     "data": {
      "text/html": [
       "55"
      ],
      "text/latex": [
       "55"
      ],
      "text/markdown": [
       "55"
      ],
      "text/plain": [
       "[1] 55"
      ]
     },
     "metadata": {},
     "output_type": "display_data"
    }
   ],
   "source": [
    "#  Example 5 -- masking\n",
    "mean = function(x){ \n",
    "    sum(x)\n",
    "}\n",
    "mean(1:10)"
   ]
  },
  {
   "cell_type": "code",
   "execution_count": 19,
   "metadata": {},
   "outputs": [
    {
     "data": {
      "text/html": [
       "5.5"
      ],
      "text/latex": [
       "5.5"
      ],
      "text/markdown": [
       "5.5"
      ],
      "text/plain": [
       "[1] 5.5"
      ]
     },
     "metadata": {},
     "output_type": "display_data"
    }
   ],
   "source": [
    "base::mean(1:10)"
   ]
  },
  {
   "cell_type": "code",
   "execution_count": 20,
   "metadata": {},
   "outputs": [],
   "source": [
    "rm(mean)"
   ]
  },
  {
   "cell_type": "code",
   "execution_count": null,
   "metadata": {
    "scrolled": true
   },
   "outputs": [],
   "source": [
    "mean(1:10)"
   ]
  },
  {
   "cell_type": "markdown",
   "metadata": {},
   "source": [
    "R also uses dynamic look-up, meaning values are searched for when a function is called, not when it is created. In the example above, y was defined in the global environment rather than within the function body. This means the value returned by f3 depends on the value of y in the global environment. You should generally avoid this, but there are occasions where it can be useful.\n"
   ]
  },
  {
   "cell_type": "code",
   "execution_count": 25,
   "metadata": {},
   "outputs": [
    {
     "name": "stdout",
     "output_type": "stream",
     "text": [
      "[1] \"x =  I came from inside of f! and y =  I have been reinvented!\"\n"
     ]
    }
   ],
   "source": [
    "# Example 5 - dynamic lookup\n",
    "y = \"I have been reinvented!\"\n",
    "f3()"
   ]
  },
  {
   "cell_type": "markdown",
   "metadata": {
    "id": "NoLFXIhgRnxj"
   },
   "source": [
    "### Anonymous functions\n",
    "In the last lesson, we wrote a function, `z_score`, and then applied it to multiple columns using the `across()` verb. Often, we want to apply a relatively simple function that we are only going to use once. In these cases, we can define an \"anonymous\" function that only exists temporarily. "
   ]
  },
  {
   "cell_type": "code",
   "execution_count": 57,
   "metadata": {
    "colab": {
     "base_uri": "https://localhost:8080/"
    },
    "id": "XPkcsy9S_BnW",
    "outputId": "241e91ec-fc3e-4425-b112-5ef215782c36"
   },
   "outputs": [
    {
     "name": "stdout",
     "output_type": "stream",
     "text": [
      "\u001b[90m# A tibble: 1 × 5\u001b[39m\n",
      "  displ  year   cyl   cty   hwy\n",
      "  \u001b[3m\u001b[90m<dbl>\u001b[39m\u001b[23m \u001b[3m\u001b[90m<dbl>\u001b[39m\u001b[23m \u001b[3m\u001b[90m<dbl>\u001b[39m\u001b[23m \u001b[3m\u001b[90m<dbl>\u001b[39m\u001b[23m \u001b[3m\u001b[90m<dbl>\u001b[39m\u001b[23m\n",
      "\u001b[90m1\u001b[39m   3.3 \u001b[4m2\u001b[24m004.     6    17    24\n"
     ]
    }
   ],
   "source": [
    "mpg %>% summarise(across(where(is.numeric), \\(x) median(x, na.rm=T))) %>% print"
   ]
  },
  {
   "cell_type": "markdown",
   "metadata": {
    "id": "arrGhcoRRnxk"
   },
   "source": [
    "## `list()`\n",
    "\n",
    "We did use `list` earlier but now we will learn more about it"
   ]
  },
  {
   "cell_type": "code",
   "execution_count": 31,
   "metadata": {
    "colab": {
     "base_uri": "https://localhost:8080/",
     "height": 132
    },
    "id": "-60eWUD7Rnxk",
    "outputId": "b2d8647f-7601-4ed1-b9d6-b04bcf63c30c"
   },
   "outputs": [
    {
     "data": {
      "text/html": [
       "<ol>\n",
       "\t<li>'a'</li>\n",
       "\t<li>1</li>\n",
       "\t<li>FALSE</li>\n",
       "\t<li>3.14159265358979</li>\n",
       "\t<li><ol>\n",
       "\t<li><style>\n",
       ".list-inline {list-style: none; margin:0; padding: 0}\n",
       ".list-inline>li {display: inline-block}\n",
       ".list-inline>li:not(:last-child)::after {content: \"\\00b7\"; padding: 0 .5ex}\n",
       "</style>\n",
       "<ol class=list-inline><li>1</li><li>2</li><li>3</li></ol>\n",
       "</li>\n",
       "</ol>\n",
       "</li>\n",
       "</ol>\n"
      ],
      "text/latex": [
       "\\begin{enumerate}\n",
       "\\item 'a'\n",
       "\\item 1\n",
       "\\item FALSE\n",
       "\\item 3.14159265358979\n",
       "\\item \\begin{enumerate}\n",
       "\\item \\begin{enumerate*}\n",
       "\\item 1\n",
       "\\item 2\n",
       "\\item 3\n",
       "\\end{enumerate*}\n",
       "\n",
       "\\end{enumerate}\n",
       "\n",
       "\\end{enumerate}\n"
      ],
      "text/markdown": [
       "1. 'a'\n",
       "2. 1\n",
       "3. FALSE\n",
       "4. 3.14159265358979\n",
       "5. 1. 1. 1\n",
       "2. 2\n",
       "3. 3\n",
       "\n",
       "\n",
       "\n",
       "\n",
       "\n",
       "\n",
       "\n",
       "\n"
      ],
      "text/plain": [
       "[[1]]\n",
       "[1] \"a\"\n",
       "\n",
       "[[2]]\n",
       "[1] 1\n",
       "\n",
       "[[3]]\n",
       "[1] FALSE\n",
       "\n",
       "[[4]]\n",
       "[1] 3.141593\n",
       "\n",
       "[[5]]\n",
       "[[5]][[1]]\n",
       "[1] 1 2 3\n",
       "\n"
      ]
     },
     "metadata": {},
     "output_type": "display_data"
    }
   ],
   "source": [
    "x <- list('a', 1, FALSE, pi, list(1:3))\n",
    "x"
   ]
  },
  {
   "cell_type": "markdown",
   "metadata": {
    "id": "oFTj4o2ERnxk"
   },
   "source": [
    "As the printout suggests, you can think of a list as a \"vector of vectors\". For this reason, they are sometimes referred to as \"recursive vectors\"."
   ]
  },
  {
   "cell_type": "markdown",
   "metadata": {
    "id": "JTQHhxltRnxk"
   },
   "source": [
    "The `str` command will print out the **str**ucture of a vector:"
   ]
  },
  {
   "cell_type": "code",
   "execution_count": 32,
   "metadata": {
    "colab": {
     "base_uri": "https://localhost:8080/"
    },
    "id": "UIErB-kyRnxk",
    "outputId": "82a19472-79b1-4de9-b673-cac36dbf1b0e"
   },
   "outputs": [
    {
     "name": "stdout",
     "output_type": "stream",
     "text": [
      "List of 5\n",
      " $ : chr \"a\"\n",
      " $ : num 1\n",
      " $ : logi FALSE\n",
      " $ : num 3.14\n",
      " $ :List of 1\n",
      "  ..$ : int [1:3] 1 2 3\n"
     ]
    }
   ],
   "source": [
    "str(x) "
   ]
  },
  {
   "cell_type": "markdown",
   "metadata": {
    "id": "FQT8kqZbRnxm"
   },
   "source": [
    "You can name each individual entry of a list:"
   ]
  },
  {
   "cell_type": "code",
   "execution_count": 32,
   "metadata": {
    "colab": {
     "base_uri": "https://localhost:8080/",
     "height": 141
    },
    "id": "ca-U_mCVRnxm",
    "outputId": "17fb5197-60db-410a-ec8e-e8dd05479969"
   },
   "outputs": [
    {
     "data": {
      "text/html": [
       "<style>\n",
       ".list-inline {list-style: none; margin:0; padding: 0}\n",
       ".list-inline>li {display: inline-block}\n",
       ".list-inline>li:not(:last-child)::after {content: \"\\00b7\"; padding: 0 .5ex}\n",
       "</style>\n",
       "<ol class=list-inline><li>'a'</li><li>'b'</li><li>'c'</li><li>''</li></ol>\n"
      ],
      "text/latex": [
       "\\begin{enumerate*}\n",
       "\\item 'a'\n",
       "\\item 'b'\n",
       "\\item 'c'\n",
       "\\item ''\n",
       "\\end{enumerate*}\n"
      ],
      "text/markdown": [
       "1. 'a'\n",
       "2. 'b'\n",
       "3. 'c'\n",
       "4. ''\n",
       "\n",
       "\n"
      ],
      "text/plain": [
       "[1] \"a\" \"b\" \"c\" \"\" "
      ]
     },
     "metadata": {},
     "output_type": "display_data"
    }
   ],
   "source": [
    "x_named <- list(a = 1, b = 2, c = 3, 4)\n",
    "names(x_named)"
   ]
  },
  {
   "cell_type": "code",
   "execution_count": 33,
   "metadata": {},
   "outputs": [
    {
     "name": "stdout",
     "output_type": "stream",
     "text": [
      "List of 4\n",
      " $ a: num 1\n",
      " $ b: num 2\n",
      " $ c: num 3\n",
      " $  : num 4\n"
     ]
    }
   ],
   "source": [
    "str(x_named)"
   ]
  },
  {
   "cell_type": "code",
   "execution_count": 34,
   "metadata": {},
   "outputs": [
    {
     "data": {
      "text/html": [
       "1"
      ],
      "text/latex": [
       "1"
      ],
      "text/markdown": [
       "1"
      ],
      "text/plain": [
       "[1] 1"
      ]
     },
     "metadata": {},
     "output_type": "display_data"
    }
   ],
   "source": [
    "x_named$a"
   ]
  },
  {
   "cell_type": "markdown",
   "metadata": {
    "id": "1wdCVFwlRnxn"
   },
   "source": [
    "### Sub-setting lists\n",
    "Subsetting lists is a little more complex than subsetting atomic vectors. We will use the following example list:"
   ]
  },
  {
   "cell_type": "code",
   "execution_count": 35,
   "metadata": {
    "colab": {
     "base_uri": "https://localhost:8080/"
    },
    "id": "zaMnBF0xRnxn",
    "outputId": "bcf3ecb5-6458-4f15-f2cd-d8620af2e764"
   },
   "outputs": [
    {
     "name": "stdout",
     "output_type": "stream",
     "text": [
      "List of 4\n",
      " $ a: int [1:3] 1 2 3\n",
      " $ b: chr \"a string\"\n",
      " $ c: num 3.14\n",
      " $ d:List of 2\n",
      "  ..$ : num -1\n",
      "  ..$ : num -5\n"
     ]
    }
   ],
   "source": [
    "str(example_list <- list(a = 1:3, b = \"a string\", c = pi, d = list(-1, -5)))"
   ]
  },
  {
   "cell_type": "markdown",
   "metadata": {
    "id": "8ZlygjxfRnxn"
   },
   "source": [
    "#### `[]`\n",
    "The `[]` operator extracts a sub-list. That is, the return type will always be a list:"
   ]
  },
  {
   "cell_type": "code",
   "execution_count": 41,
   "metadata": {
    "id": "bCv_zyUJBhC_"
   },
   "outputs": [
    {
     "data": {
      "text/html": [
       "<ol>\n",
       "\t<li>'a'</li>\n",
       "</ol>\n"
      ],
      "text/latex": [
       "\\begin{enumerate}\n",
       "\\item 'a'\n",
       "\\end{enumerate}\n"
      ],
      "text/markdown": [
       "1. 'a'\n",
       "\n",
       "\n"
      ],
      "text/plain": [
       "[[1]]\n",
       "[1] \"a\"\n"
      ]
     },
     "metadata": {},
     "output_type": "display_data"
    }
   ],
   "source": [
    "x <- list('a', 1, FALSE, pi, list(1:3))\n",
    "x[1]"
   ]
  },
  {
   "cell_type": "markdown",
   "metadata": {
    "id": "tRMHZ63gRnxn"
   },
   "source": [
    "#### `[[]]`\n",
    "The double-brackets will extract a single component from the list:"
   ]
  },
  {
   "cell_type": "code",
   "execution_count": 40,
   "metadata": {
    "colab": {
     "base_uri": "https://localhost:8080/",
     "height": 34
    },
    "id": "sSecFiDjRnxn",
    "outputId": "ed820567-543a-4d63-b74d-007b3427350f"
   },
   "outputs": [
    {
     "data": {
      "text/html": [
       "'a'"
      ],
      "text/latex": [
       "'a'"
      ],
      "text/markdown": [
       "'a'"
      ],
      "text/plain": [
       "[1] \"a\""
      ]
     },
     "metadata": {},
     "output_type": "display_data"
    }
   ],
   "source": [
    "x[[1]]"
   ]
  },
  {
   "cell_type": "markdown",
   "metadata": {
    "id": "uVyn2LcWRnxo"
   },
   "source": [
    "### Data frames are lists\n",
    "Many data types in R are actually lists plus some additional attributes. For example, tibbles and data frames are both lists:"
   ]
  },
  {
   "cell_type": "code",
   "execution_count": 43,
   "metadata": {
    "colab": {
     "base_uri": "https://localhost:8080/",
     "height": 269
    },
    "id": "CR3SWptHRnxo",
    "outputId": "b2f4b706-aaac-49da-e2a0-010200fe642d"
   },
   "outputs": [
    {
     "data": {
      "text/html": [
       "'list'"
      ],
      "text/latex": [
       "'list'"
      ],
      "text/markdown": [
       "'list'"
      ],
      "text/plain": [
       "[1] \"list\""
      ]
     },
     "metadata": {},
     "output_type": "display_data"
    }
   ],
   "source": [
    "typeof(mpg)"
   ]
  },
  {
   "cell_type": "markdown",
   "metadata": {
    "id": "N1yTAWmNRnxo"
   },
   "source": [
    "The `names()` of a tibble/data frame correspond to columns. This means we can use the list indexing methods shown above to access columns:"
   ]
  },
  {
   "cell_type": "code",
   "execution_count": 44,
   "metadata": {},
   "outputs": [
    {
     "name": "stdout",
     "output_type": "stream",
     "text": [
      "tibble [234 × 11] (S3: tbl_df/tbl/data.frame)\n",
      " $ manufacturer: chr [1:234] \"audi\" \"audi\" \"audi\" \"audi\" ...\n",
      " $ model       : chr [1:234] \"a4\" \"a4\" \"a4\" \"a4\" ...\n",
      " $ displ       : num [1:234] 1.8 1.8 2 2 2.8 2.8 3.1 1.8 1.8 2 ...\n",
      " $ year        : int [1:234] 1999 1999 2008 2008 1999 1999 2008 1999 1999 2008 ...\n",
      " $ cyl         : int [1:234] 4 4 4 4 6 6 6 4 4 4 ...\n",
      " $ trans       : chr [1:234] \"auto(l5)\" \"manual(m5)\" \"manual(m6)\" \"auto(av)\" ...\n",
      " $ drv         : chr [1:234] \"f\" \"f\" \"f\" \"f\" ...\n",
      " $ cty         : int [1:234] 18 21 20 21 16 18 18 18 16 20 ...\n",
      " $ hwy         : int [1:234] 29 29 31 30 26 26 27 26 25 28 ...\n",
      " $ fl          : chr [1:234] \"p\" \"p\" \"p\" \"p\" ...\n",
      " $ class       : chr [1:234] \"compact\" \"compact\" \"compact\" \"compact\" ...\n"
     ]
    }
   ],
   "source": [
    "str(mpg)"
   ]
  },
  {
   "cell_type": "code",
   "execution_count": 45,
   "metadata": {
    "colab": {
     "base_uri": "https://localhost:8080/",
     "height": 34
    },
    "id": "yeMsNAdlRnxo",
    "outputId": "f5686d05-ef52-4d09-d31d-f3ace5ec0778"
   },
   "outputs": [
    {
     "data": {
      "text/html": [
       "<style>\n",
       ".list-inline {list-style: none; margin:0; padding: 0}\n",
       ".list-inline>li {display: inline-block}\n",
       ".list-inline>li:not(:last-child)::after {content: \"\\00b7\"; padding: 0 .5ex}\n",
       "</style>\n",
       "<ol class=list-inline><li>'manufacturer'</li><li>'model'</li><li>'displ'</li><li>'year'</li><li>'cyl'</li><li>'trans'</li><li>'drv'</li><li>'cty'</li><li>'hwy'</li><li>'fl'</li><li>'class'</li></ol>\n"
      ],
      "text/latex": [
       "\\begin{enumerate*}\n",
       "\\item 'manufacturer'\n",
       "\\item 'model'\n",
       "\\item 'displ'\n",
       "\\item 'year'\n",
       "\\item 'cyl'\n",
       "\\item 'trans'\n",
       "\\item 'drv'\n",
       "\\item 'cty'\n",
       "\\item 'hwy'\n",
       "\\item 'fl'\n",
       "\\item 'class'\n",
       "\\end{enumerate*}\n"
      ],
      "text/markdown": [
       "1. 'manufacturer'\n",
       "2. 'model'\n",
       "3. 'displ'\n",
       "4. 'year'\n",
       "5. 'cyl'\n",
       "6. 'trans'\n",
       "7. 'drv'\n",
       "8. 'cty'\n",
       "9. 'hwy'\n",
       "10. 'fl'\n",
       "11. 'class'\n",
       "\n",
       "\n"
      ],
      "text/plain": [
       " [1] \"manufacturer\" \"model\"        \"displ\"        \"year\"         \"cyl\"         \n",
       " [6] \"trans\"        \"drv\"          \"cty\"          \"hwy\"          \"fl\"          \n",
       "[11] \"class\"       "
      ]
     },
     "metadata": {},
     "output_type": "display_data"
    }
   ],
   "source": [
    "names(mpg)"
   ]
  },
  {
   "cell_type": "markdown",
   "metadata": {
    "id": "jWr022FERnxq"
   },
   "source": [
    "## `map()` \n",
    "In the last lecture, we learned iterations. An alternative to writing a for loop is to use the `map(f, seq)` function. This takes a function `f` and \"maps\" it over each element of a sequence (list or vector) `seq`.\n",
    "\n",
    "![map](https://d33wubrfki0l68.cloudfront.net/f0494d020aa517ae7b1011cea4c4a9f21702df8b/2577b/diagrams/functionals/map.png)"
   ]
  },
  {
   "cell_type": "code",
   "execution_count": 62,
   "metadata": {},
   "outputs": [
    {
     "name": "stdout",
     "output_type": "stream",
     "text": [
      "[1] 1 2 3 4 5\n"
     ]
    },
    {
     "data": {
      "text/html": [
       "<ol>\n",
       "\t<li>2</li>\n",
       "\t<li>4</li>\n",
       "\t<li>6</li>\n",
       "\t<li>8</li>\n",
       "\t<li>10</li>\n",
       "</ol>\n"
      ],
      "text/latex": [
       "\\begin{enumerate}\n",
       "\\item 2\n",
       "\\item 4\n",
       "\\item 6\n",
       "\\item 8\n",
       "\\item 10\n",
       "\\end{enumerate}\n"
      ],
      "text/markdown": [
       "1. 2\n",
       "2. 4\n",
       "3. 6\n",
       "4. 8\n",
       "5. 10\n",
       "\n",
       "\n"
      ],
      "text/plain": [
       "[[1]]\n",
       "[1] 2\n",
       "\n",
       "[[2]]\n",
       "[1] 4\n",
       "\n",
       "[[3]]\n",
       "[1] 6\n",
       "\n",
       "[[4]]\n",
       "[1] 8\n",
       "\n",
       "[[5]]\n",
       "[1] 10\n"
      ]
     },
     "metadata": {},
     "output_type": "display_data"
    }
   ],
   "source": [
    "my_list <- c(1:5)\n",
    "\n",
    "print(my_list)\n",
    "\n",
    "double_me <- function(x){\n",
    "    return(x*2)\n",
    "}\n",
    "\n",
    "# double the number using map() and double_me function\n",
    "my_list_doubled <- map(my_list, double_me)\n",
    "\n",
    "# Print the result\n",
    "my_list_doubled"
   ]
  },
  {
   "cell_type": "markdown",
   "metadata": {
    "id": "xKQa80Z1Rnxp"
   },
   "source": [
    "## Lists and functional programming\n",
    "Lists are useful to use because they can represent a sequence of values. Let's see an example of combining all the Harry Potter books into one data frame:"
   ]
  },
  {
   "cell_type": "markdown",
   "metadata": {
    "id": "ZqGYK3xmRnxp"
   },
   "source": [
    "First, we need to load the library and get the names of all the books:"
   ]
  },
  {
   "cell_type": "code",
   "execution_count": 46,
   "metadata": {
    "colab": {
     "base_uri": "https://localhost:8080/",
     "height": 52
    },
    "id": "A5WOw3dNRnxp",
    "outputId": "04e6ffc7-9e6c-41bf-8b73-65e4665305d1"
   },
   "outputs": [
    {
     "data": {
      "text/html": [
       "<style>\n",
       ".list-inline {list-style: none; margin:0; padding: 0}\n",
       ".list-inline>li {display: inline-block}\n",
       ".list-inline>li:not(:last-child)::after {content: \"\\00b7\"; padding: 0 .5ex}\n",
       "</style>\n",
       "<ol class=list-inline><li>'chamber_of_secrets'</li><li>'deathly_hallows'</li><li>'goblet_of_fire'</li><li>'half_blood_prince'</li><li>'order_of_the_phoenix'</li><li>'philosophers_stone'</li><li>'prisoner_of_azkaban'</li></ol>\n"
      ],
      "text/latex": [
       "\\begin{enumerate*}\n",
       "\\item 'chamber\\_of\\_secrets'\n",
       "\\item 'deathly\\_hallows'\n",
       "\\item 'goblet\\_of\\_fire'\n",
       "\\item 'half\\_blood\\_prince'\n",
       "\\item 'order\\_of\\_the\\_phoenix'\n",
       "\\item 'philosophers\\_stone'\n",
       "\\item 'prisoner\\_of\\_azkaban'\n",
       "\\end{enumerate*}\n"
      ],
      "text/markdown": [
       "1. 'chamber_of_secrets'\n",
       "2. 'deathly_hallows'\n",
       "3. 'goblet_of_fire'\n",
       "4. 'half_blood_prince'\n",
       "5. 'order_of_the_phoenix'\n",
       "6. 'philosophers_stone'\n",
       "7. 'prisoner_of_azkaban'\n",
       "\n",
       "\n"
      ],
      "text/plain": [
       "[1] \"chamber_of_secrets\"   \"deathly_hallows\"      \"goblet_of_fire\"      \n",
       "[4] \"half_blood_prince\"    \"order_of_the_phoenix\" \"philosophers_stone\"  \n",
       "[7] \"prisoner_of_azkaban\" "
      ]
     },
     "metadata": {},
     "output_type": "display_data"
    }
   ],
   "source": [
    "hp <- ls('package:harrypotter')\n",
    "hp"
   ]
  },
  {
   "cell_type": "code",
   "execution_count": 50,
   "metadata": {
    "colab": {
     "base_uri": "https://localhost:8080/",
     "height": 34
    },
    "id": "u0p7kZ_uYewK",
    "outputId": "3b451f6f-2397-4ae1-8623-dacc6f415385"
   },
   "outputs": [
    {
     "data": {
      "text/html": [
       "'chamber_of_secrets'"
      ],
      "text/latex": [
       "'chamber\\_of\\_secrets'"
      ],
      "text/markdown": [
       "'chamber_of_secrets'"
      ],
      "text/plain": [
       "[1] \"chamber_of_secrets\""
      ]
     },
     "metadata": {},
     "output_type": "display_data"
    }
   ],
   "source": [
    "hp[1]"
   ]
  },
  {
   "cell_type": "markdown",
   "metadata": {
    "id": "4gl0oyMVRnxp"
   },
   "source": [
    "This has returned a character vector containing the seven titles in the database. To access any one of them, we can write:"
   ]
  },
  {
   "cell_type": "code",
   "execution_count": 51,
   "metadata": {
    "id": "Dly3Mq6aRnxp",
    "outputId": "e7f22834-d497-4862-ec85-e2cb7a860ff0"
   },
   "outputs": [
    {
     "name": "stdout",
     "output_type": "stream",
     "text": [
      " chr [1:37] \"The two men appeared out of nowhere, a few yards apart in the narrow, moonlit lane. For a second they stood qui\"| __truncated__ ...\n"
     ]
    }
   ],
   "source": [
    "getExportedValue('harrypotter', hp[2]) %>% str"
   ]
  },
  {
   "cell_type": "code",
   "execution_count": 52,
   "metadata": {
    "colab": {
     "base_uri": "https://localhost:8080/"
    },
    "id": "mDZn6LKWRnxq",
    "outputId": "9ae1c095-1c0d-469f-faab-7edeb29f02df"
   },
   "outputs": [
    {
     "name": "stdout",
     "output_type": "stream",
     "text": [
      "[1] \"chamber_of_secrets\"\n",
      "[1] \"deathly_hallows\"\n",
      "[1] \"goblet_of_fire\"\n",
      "[1] \"half_blood_prince\"\n",
      "[1] \"order_of_the_phoenix\"\n",
      "[1] \"philosophers_stone\"\n",
      "[1] \"prisoner_of_azkaban\"\n"
     ]
    }
   ],
   "source": [
    "for (title in hp) {\n",
    "    print(title)\n",
    "}"
   ]
  },
  {
   "cell_type": "code",
   "execution_count": 66,
   "metadata": {
    "id": "2c4QcrqdRnxq",
    "outputId": "0d0a23f3-4d9b-4bb9-f701-52610ca9863a"
   },
   "outputs": [
    {
     "name": "stdout",
     "output_type": "stream",
     "text": [
      "List of 7\n",
      " $ : tibble [19 × 2] (S3: tbl_df/tbl/data.frame)\n",
      "  ..$ title: chr [1:19] \"chamber_of_secrets\" \"chamber_of_secrets\" \"chamber_of_secrets\" \"chamber_of_secrets\" ...\n",
      "  ..$ text : chr [1:19] \"THE WORST BIRTHDAY　　Not for the first time, an argument had broken out over breakfast at number four, Privet \"| __truncated__ \"　　DOBBY'S WARNING　　arry managed not to shout out, but it was a close thing. The little creature on the bed \"| __truncated__ \"THE BURROW　　Ron.l\\\" breathed Harry, creeping to the window and pushing it up so they could talk through the b\"| __truncated__ \"AT FL0VRR 11 $ HAND BLOTTS　　ife at the Burrow was as different as possible from life on Privet Drive. The Dur\"| __truncated__ ...\n",
      " $ : tibble [37 × 2] (S3: tbl_df/tbl/data.frame)\n",
      "  ..$ title: chr [1:37] \"deathly_hallows\" \"deathly_hallows\" \"deathly_hallows\" \"deathly_hallows\" ...\n",
      "  ..$ text : chr [1:37] \"The two men appeared out of nowhere, a few yards apart in the narrow, moonlit lane. For a second they stood qui\"| __truncated__ \"Harry was bleeding. Clutching his right hand in his left and swearing under his breath, he shouldered open his \"| __truncated__ \"The sound of the front door slamming echoed up the stairs and a voice roared, \\\"Oh! You!\\\"Sixteen years of bein\"| __truncated__ \"Harry ran back upstairs to his bedroom, arriving at the window just in time to see the Dursleys' car swinging o\"| __truncated__ ...\n",
      " $ : tibble [37 × 2] (S3: tbl_df/tbl/data.frame)\n",
      "  ..$ title: chr [1:37] \"goblet_of_fire\" \"goblet_of_fire\" \"goblet_of_fire\" \"goblet_of_fire\" ...\n",
      "  ..$ text : chr [1:37] \"　　The villagers of Little Hangleron still called it \\\"the Riddle House,\\\" even though it had been many years \"| __truncated__ \"　　Harry lay flat on his back, breathing hard as though he had been running. He had awoken from a vivid dream \"| __truncated__ \"　　By the time Harry arrived in the kitchen, the three Dursleys were already seated around the table. None of \"| __truncated__ \"　　By twelve o'clock the next day, Harry's school trunk was packed with his school things and all his most pri\"| __truncated__ ...\n",
      " $ : tibble [30 × 2] (S3: tbl_df/tbl/data.frame)\n",
      "  ..$ title: chr [1:30] \"half_blood_prince\" \"half_blood_prince\" \"half_blood_prince\" \"half_blood_prince\" ...\n",
      "  ..$ text : chr [1:30] \" It was nearing midnight and the Prime Minister was sitting alone in his office, reading a long memo that was s\"| __truncated__ \" Many miles away the chilly mist that had pressed against the Prime Minister's windows drifted over a dirty riv\"| __truncated__ \" Harry Potter was snoring loudly. He had been sitting in a chair beside his bedroom window for the best part of\"| __truncated__ \" Despite the fact that he had spent every waking moment of the past few days hoping desperately that Dumbledore\"| __truncated__ ...\n",
      " $ : tibble [38 × 2] (S3: tbl_df/tbl/data.frame)\n",
      "  ..$ title: chr [1:38] \"order_of_the_phoenix\" \"order_of_the_phoenix\" \"order_of_the_phoenix\" \"order_of_the_phoenix\" ...\n",
      "  ..$ text : chr [1:38] \"Dudley Demented    The hottest day of the summer so far was drawing to a close and a drowsy silence lay over th\"| __truncated__ \"    A Peck of Owls    'What?' said Harry blankly.    'He left!' said Mrs Figg, wringing her hands. 'Left to see\"| __truncated__ \"    The Advance Guard    I've just been attacked by Dementors and I might be expelled from Hogwarts. I want to \"| __truncated__ \"    Number Twelve,Grimmauld Place    'What's the Order of the - ?' Harry began.    'Not here, boy!' snarled Moo\"| __truncated__ ...\n",
      " $ : tibble [17 × 2] (S3: tbl_df/tbl/data.frame)\n",
      "  ..$ title: chr [1:17] \"philosophers_stone\" \"philosophers_stone\" \"philosophers_stone\" \"philosophers_stone\" ...\n",
      "  ..$ text : chr [1:17] \"THE BOY WHO LIVED　　Mr. and Mrs. Dursley, of number four, Privet Drive, were proud to say that they were perfe\"| __truncated__ \"THE VANISHING GLASS　　Nearly ten years had passed since the Dursleys had woken up to find their nephew on the \"| __truncated__ \"THE LETTERS FROM NO ONE　　The escape of the Brazilian boa constrictor earned Harry his longest-ever punishment\"| __truncated__ \"THE KEEPER OF THE KEYS　　BOOM. They knocked again. Dudley jerked awake. \\\"Where's the cannon?\\\" he said stupid\"| __truncated__ ...\n",
      " $ : tibble [22 × 2] (S3: tbl_df/tbl/data.frame)\n",
      "  ..$ title: chr [1:22] \"prisoner_of_azkaban\" \"prisoner_of_azkaban\" \"prisoner_of_azkaban\" \"prisoner_of_azkaban\" ...\n",
      "  ..$ text : chr [1:22] \"　　OWL POST　　Harry Potter was a highly unusual boy in many ways. For one thing, he hated the summer holidays\"| __truncated__ \"　　AUNT MARGE'S BIG MISTAKE　　Harry went down to breakfast the next morning to find the three Dursleys alread\"| __truncated__ \"　　THE KNIGHT BUS　　Harry was several streets away before he collapsed onto a low wall in Magnolia Crescent, \"| __truncated__ \"　　THE LEAKY CAULDRON　　It took Harry several days to get used to his strange new freedom. Never before had h\"| __truncated__ ...\n"
     ]
    }
   ],
   "source": [
    "tbl_from_title <- function(title) {\n",
    "    text <- getExportedValue('harrypotter', title)\n",
    "    tibble(title=title, text=text)\n",
    "}\n",
    "\n",
    "hp %>% map(tbl_from_title) %>% str"
   ]
  },
  {
   "cell_type": "code",
   "execution_count": 54,
   "metadata": {
    "colab": {
     "base_uri": "https://localhost:8080/"
    },
    "id": "hU6SqawxD2uZ",
    "outputId": "a67f236e-b8c3-44b5-dab8-dd19af8ed57e"
   },
   "outputs": [
    {
     "name": "stdout",
     "output_type": "stream",
     "text": [
      "[1] \"a\"\n",
      "[1] 1\n",
      "[1] FALSE\n",
      "[1] 3.141593\n",
      "[[1]]\n",
      "[1] 1 2 3\n",
      "\n"
     ]
    }
   ],
   "source": [
    "for (item in x){\n",
    "  print(item)\n",
    "}"
   ]
  },
  {
   "cell_type": "code",
   "execution_count": 53,
   "metadata": {
    "colab": {
     "base_uri": "https://localhost:8080/"
    },
    "id": "rYs-4QbbDjXE",
    "outputId": "1d2713ce-8b5c-4c2e-a01f-7f7ac776619b"
   },
   "outputs": [
    {
     "name": "stdout",
     "output_type": "stream",
     "text": [
      "[1] \"chamber_of_secrets\"\n",
      "[1] \"deathly_hallows\"\n",
      "[1] \"goblet_of_fire\"\n"
     ]
    }
   ],
   "source": [
    "print(hp[1])\n",
    "print(hp[2])\n",
    "print(hp[3])"
   ]
  },
  {
   "cell_type": "markdown",
   "metadata": {
    "id": "GX2_Vz1c1le_",
    "outputId": "d56f8efa-49cc-4087-bc00-f50e2d929093"
   },
   "source": [
    "By tweaking this for loop, we could make it create a dataset of all the chapters in HP:"
   ]
  },
  {
   "cell_type": "code",
   "execution_count": null,
   "metadata": {
    "id": "dmTHvIQcRnxq",
    "outputId": "92187826-b354-43f8-e715-d0f32e938bac"
   },
   "outputs": [
    {
     "name": "stdout",
     "output_type": "stream",
     "text": [
      "\u001b[90m# A tibble: 200 × 2\u001b[39m\n",
      "   title              text                                                      \n",
      "   \u001b[3m\u001b[90m<chr>\u001b[39m\u001b[23m              \u001b[3m\u001b[90m<chr>\u001b[39m\u001b[23m                                                     \n",
      "\u001b[90m 1\u001b[39m chamber_of_secrets \u001b[90m\"\u001b[39mTHE WORST BIRTHDAY　　Not for the first time, an argumen…\n",
      "\u001b[90m 2\u001b[39m chamber_of_secrets \u001b[90m\"\u001b[39m　　DOBBY'S WARNING　　arry managed not to shout out, bu…\n",
      "\u001b[90m 3\u001b[39m chamber_of_secrets \u001b[90m\"\u001b[39mTHE BURROW　　Ron.l\\\" breathed Harry, creeping to the wi…\n",
      "\u001b[90m 4\u001b[39m chamber_of_secrets \u001b[90m\"\u001b[39mAT FL0VRR 11 $ HAND BLOTTS　　ife at the Burrow was as d…\n",
      "\u001b[90m 5\u001b[39m chamber_of_secrets \u001b[90m\"\u001b[39mTHE WHOMPING　　WILLOW　　he end of the summer vacation …\n",
      "\u001b[90m 6\u001b[39m chamber_of_secrets \u001b[90m\"\u001b[39mGILDEROY LOCKHART　　he next day, however, Harry barely …\n",
      "\u001b[90m 7\u001b[39m chamber_of_secrets \u001b[90m\"\u001b[39mHarry looked bemusedly at the photograph Colin was brand…\n",
      "\u001b[90m 8\u001b[39m chamber_of_secrets \u001b[90m\"\u001b[39m　　\\\"What are you talking about, Harry? Perhaps you're …\n",
      "\u001b[90m 9\u001b[39m chamber_of_secrets \u001b[90m\"\u001b[39mTHE WRTITING ON THE WALL　　What's going on here? What's…\n",
      "\u001b[90m10\u001b[39m chamber_of_secrets \u001b[90m\"\u001b[39m　　THE ROGUE BLUDGER　　ince the disastrous episode of …\n",
      "\u001b[90m# … with 190 more rows\u001b[39m\n"
     ]
    }
   ],
   "source": [
    "df <- tibble()\n",
    "for (title in hp) {\n",
    "    df <- bind_rows(df, tibble(title=title, text=getExportedValue('harrypotter', title)))\n",
    "}\n",
    "df %>% print"
   ]
  },
  {
   "cell_type": "markdown",
   "metadata": {
    "id": "aAP9Ms7lRnxq"
   },
   "source": [
    "Finally, we need to take this list of dataframes and combine it into one large dataframe:"
   ]
  },
  {
   "cell_type": "code",
   "execution_count": 70,
   "metadata": {
    "colab": {
     "base_uri": "https://localhost:8080/",
     "height": 86
    },
    "id": "v7ku9bNAFvMQ",
    "outputId": "056decf8-49fc-44a4-b5b2-7056d83aaee9"
   },
   "outputs": [
    {
     "data": {
      "text/html": [
       "<style>\n",
       ".dl-inline {width: auto; margin:0; padding: 0}\n",
       ".dl-inline>dt, .dl-inline>dd {float: none; width: auto; display: inline-block}\n",
       ".dl-inline>dt::after {content: \":\\0020\"; padding-right: .5ex}\n",
       ".dl-inline>dt:not(:first-of-type) {padding-left: .5ex}\n",
       "</style><dl class=dl-inline><dt>chamber_of_secrets</dt><dd>'chamber_of_secrets'</dd><dt>deathly_hallows</dt><dd>'deathly_hallows'</dd><dt>goblet_of_fire</dt><dd>'goblet_of_fire'</dd><dt>half_blood_prince</dt><dd>'half_blood_prince'</dd><dt>order_of_the_phoenix</dt><dd>'order_of_the_phoenix'</dd><dt>philosophers_stone</dt><dd>'philosophers_stone'</dd><dt>prisoner_of_azkaban</dt><dd>'prisoner_of_azkaban'</dd></dl>\n"
      ],
      "text/latex": [
       "\\begin{description*}\n",
       "\\item[chamber\\textbackslash{}\\_of\\textbackslash{}\\_secrets] 'chamber\\_of\\_secrets'\n",
       "\\item[deathly\\textbackslash{}\\_hallows] 'deathly\\_hallows'\n",
       "\\item[goblet\\textbackslash{}\\_of\\textbackslash{}\\_fire] 'goblet\\_of\\_fire'\n",
       "\\item[half\\textbackslash{}\\_blood\\textbackslash{}\\_prince] 'half\\_blood\\_prince'\n",
       "\\item[order\\textbackslash{}\\_of\\textbackslash{}\\_the\\textbackslash{}\\_phoenix] 'order\\_of\\_the\\_phoenix'\n",
       "\\item[philosophers\\textbackslash{}\\_stone] 'philosophers\\_stone'\n",
       "\\item[prisoner\\textbackslash{}\\_of\\textbackslash{}\\_azkaban] 'prisoner\\_of\\_azkaban'\n",
       "\\end{description*}\n"
      ],
      "text/markdown": [
       "chamber_of_secrets\n",
       ":   'chamber_of_secrets'deathly_hallows\n",
       ":   'deathly_hallows'goblet_of_fire\n",
       ":   'goblet_of_fire'half_blood_prince\n",
       ":   'half_blood_prince'order_of_the_phoenix\n",
       ":   'order_of_the_phoenix'philosophers_stone\n",
       ":   'philosophers_stone'prisoner_of_azkaban\n",
       ":   'prisoner_of_azkaban'\n",
       "\n"
      ],
      "text/plain": [
       "    chamber_of_secrets        deathly_hallows         goblet_of_fire \n",
       "  \"chamber_of_secrets\"      \"deathly_hallows\"       \"goblet_of_fire\" \n",
       "     half_blood_prince   order_of_the_phoenix     philosophers_stone \n",
       "   \"half_blood_prince\" \"order_of_the_phoenix\"   \"philosophers_stone\" \n",
       "   prisoner_of_azkaban \n",
       " \"prisoner_of_azkaban\" "
      ]
     },
     "metadata": {},
     "output_type": "display_data"
    }
   ],
   "source": [
    "hp %>% setNames(hp)"
   ]
  },
  {
   "cell_type": "code",
   "execution_count": 79,
   "metadata": {
    "id": "buFo8JivRnxr",
    "outputId": "bc2d259f-1d36-4f13-abe7-4b6fc17dfa39"
   },
   "outputs": [
    {
     "name": "stdout",
     "output_type": "stream",
     "text": [
      "\u001b[90m# A tibble: 200 × 2\u001b[39m\n",
      "   title              text                                                      \n",
      "   \u001b[3m\u001b[90m<chr>\u001b[39m\u001b[23m              \u001b[3m\u001b[90m<chr>\u001b[39m\u001b[23m                                                     \n",
      "\u001b[90m 1\u001b[39m chamber_of_secrets \u001b[90m\"\u001b[39mTHE WORST BIRTHDAY　　Not for the first time, an argumen…\n",
      "\u001b[90m 2\u001b[39m chamber_of_secrets \u001b[90m\"\u001b[39m　　DOBBY'S WARNING　　arry managed not to shout out, bu…\n",
      "\u001b[90m 3\u001b[39m chamber_of_secrets \u001b[90m\"\u001b[39mTHE BURROW　　Ron.l\\\" breathed Harry, creeping to the wi…\n",
      "\u001b[90m 4\u001b[39m chamber_of_secrets \u001b[90m\"\u001b[39mAT FL0VRR 11 $ HAND BLOTTS　　ife at the Burrow was as d…\n",
      "\u001b[90m 5\u001b[39m chamber_of_secrets \u001b[90m\"\u001b[39mTHE WHOMPING　　WILLOW　　he end of the summer vacation …\n",
      "\u001b[90m 6\u001b[39m chamber_of_secrets \u001b[90m\"\u001b[39mGILDEROY LOCKHART　　he next day, however, Harry barely …\n",
      "\u001b[90m 7\u001b[39m chamber_of_secrets \u001b[90m\"\u001b[39mHarry looked bemusedly at the photograph Colin was brand…\n",
      "\u001b[90m 8\u001b[39m chamber_of_secrets \u001b[90m\"\u001b[39m　　\\\"What are you talking about, Harry? Perhaps you're …\n",
      "\u001b[90m 9\u001b[39m chamber_of_secrets \u001b[90m\"\u001b[39mTHE WRTITING ON THE WALL　　What's going on here? What's…\n",
      "\u001b[90m10\u001b[39m chamber_of_secrets \u001b[90m\"\u001b[39m　　THE ROGUE BLUDGER　　ince the disastrous episode of …\n",
      "\u001b[90m# ℹ 190 more rows\u001b[39m\n"
     ]
    }
   ],
   "source": [
    "hp %>% \n",
    "    setNames(hp) %>% \n",
    "    map(\\(title) tibble(text = getExportedValue('harrypotter', title))) %>%\n",
    "    list_rbind(names_to = \"title\") %>% print"
   ]
  },
  {
   "cell_type": "code",
   "execution_count": null,
   "metadata": {},
   "outputs": [],
   "source": [
    "?list_rbind"
   ]
  },
  {
   "cell_type": "markdown",
   "metadata": {
    "id": "xFQMnjniRnxr"
   },
   "source": [
    "### Example: raw NCAA data\n",
    "Let us analyse NCAA data. These data actually came from a much larger dataset spread across many files. The you can load the raw data here:"
   ]
  },
  {
   "cell_type": "code",
   "execution_count": null,
   "metadata": {
    "id": "zQ6v_dbXRnxr",
    "outputId": "963a5055-4570-4873-f6b2-22be34daf3f7"
   },
   "outputs": [
    {
     "name": "stderr",
     "output_type": "stream",
     "text": [
      "\u001b[1mRows: \u001b[22m\u001b[34m27708\u001b[39m \u001b[1mColumns: \u001b[22m\u001b[34m11\u001b[39m\n",
      "\u001b[36m──\u001b[39m \u001b[1mColumn specification\u001b[22m \u001b[36m─────────────────────────────────────────────────────────────────────────────────────────────────────────────────────────────────────\u001b[39m\n",
      "\u001b[1mDelimiter:\u001b[22m \",\"\n",
      "\u001b[31mchr\u001b[39m (5): opponent_name, game_date, location, neutral_site_location, game_length\n",
      "\u001b[32mdbl\u001b[39m (6): score, opponent_score, attendence, opponent_id, year, school_id\n",
      "\n",
      "\u001b[36mℹ\u001b[39m Use `spec()` to retrieve the full column specification for this data.\n",
      "\u001b[36mℹ\u001b[39m Specify the column types or set `show_col_types = FALSE` to quiet this message.\n"
     ]
    },
    {
     "data": {
      "text/html": [
       "<table class=\"dataframe\">\n",
       "<caption>A spec_tbl_df: 27708 × 11</caption>\n",
       "<thead>\n",
       "\t<tr><th scope=col>opponent_name</th><th scope=col>game_date</th><th scope=col>score</th><th scope=col>opponent_score</th><th scope=col>location</th><th scope=col>neutral_site_location</th><th scope=col>game_length</th><th scope=col>attendence</th><th scope=col>opponent_id</th><th scope=col>year</th><th scope=col>school_id</th></tr>\n",
       "\t<tr><th scope=col>&lt;chr&gt;</th><th scope=col>&lt;chr&gt;</th><th scope=col>&lt;dbl&gt;</th><th scope=col>&lt;dbl&gt;</th><th scope=col>&lt;chr&gt;</th><th scope=col>&lt;chr&gt;</th><th scope=col>&lt;chr&gt;</th><th scope=col>&lt;dbl&gt;</th><th scope=col>&lt;dbl&gt;</th><th scope=col>&lt;dbl&gt;</th><th scope=col>&lt;dbl&gt;</th></tr>\n",
       "</thead>\n",
       "<tbody>\n",
       "\t<tr><td>Sul Ross St.     </td><td>11/16/2001</td><td> 93</td><td> 59</td><td>Home</td><td>NA</td><td>NA  </td><td> 2041</td><td> 1390</td><td>2002</td><td>26172</td></tr>\n",
       "\t<tr><td>Texas St.        </td><td>11/25/2001</td><td> 89</td><td> 99</td><td>Home</td><td>NA</td><td>NA  </td><td> 1493</td><td>  670</td><td>2002</td><td>26172</td></tr>\n",
       "\t<tr><td>Loyola Chicago   </td><td>11/29/2001</td><td> 66</td><td> 86</td><td>Away</td><td>NA</td><td>NA  </td><td> 1128</td><td>  371</td><td>2002</td><td>26172</td></tr>\n",
       "\t<tr><td>Illinois         </td><td>12/01/2001</td><td> 56</td><td> 80</td><td>Away</td><td>NA</td><td>NA  </td><td>16500</td><td>  301</td><td>2002</td><td>26172</td></tr>\n",
       "\t<tr><td>Texas            </td><td>12/05/2001</td><td> 64</td><td> 89</td><td>Away</td><td>NA</td><td>NA  </td><td> 6099</td><td>  703</td><td>2002</td><td>26172</td></tr>\n",
       "\t<tr><td>UTEP             </td><td>12/08/2001</td><td> 56</td><td> 82</td><td>Away</td><td>NA</td><td>NA  </td><td> 6203</td><td>  704</td><td>2002</td><td>26172</td></tr>\n",
       "\t<tr><td>Lamar            </td><td>12/15/2001</td><td> 67</td><td> 69</td><td>Home</td><td>NA</td><td>NA  </td><td> 1342</td><td>  346</td><td>2002</td><td>26172</td></tr>\n",
       "\t<tr><td>San Francisco    </td><td>12/18/2001</td><td> 80</td><td> 75</td><td>Home</td><td>NA</td><td>NA  </td><td> 1360</td><td>  629</td><td>2002</td><td>26172</td></tr>\n",
       "\t<tr><td>Denver           </td><td>12/21/2001</td><td> 81</td><td> 79</td><td>Home</td><td>NA</td><td>NA  </td><td> 1415</td><td>  183</td><td>2002</td><td>26172</td></tr>\n",
       "\t<tr><td>Wayland Baptist  </td><td>12/28/2001</td><td> 92</td><td> 83</td><td>Home</td><td>NA</td><td>NA  </td><td> 2096</td><td>   NA</td><td>2002</td><td>26172</td></tr>\n",
       "\t<tr><td>Arkansas St.     </td><td>12/29/2001</td><td>102</td><td> 98</td><td>Home</td><td>NA</td><td>2 OT</td><td> 1864</td><td>   30</td><td>2002</td><td>26172</td></tr>\n",
       "\t<tr><td>Sacramento St.   </td><td>01/03/2002</td><td> 69</td><td> 82</td><td>Away</td><td>NA</td><td>NA  </td><td>  887</td><td>  102</td><td>2002</td><td>26172</td></tr>\n",
       "\t<tr><td>San Francisco    </td><td>01/05/2002</td><td> 63</td><td> 65</td><td>Away</td><td>NA</td><td>NA  </td><td> 2272</td><td>  629</td><td>2002</td><td>26172</td></tr>\n",
       "\t<tr><td>San Diego St.    </td><td>01/08/2002</td><td> 79</td><td> 82</td><td>Home</td><td>NA</td><td>NA  </td><td> 1357</td><td>  626</td><td>2002</td><td>26172</td></tr>\n",
       "\t<tr><td>Centenary (LA)   </td><td>01/12/2002</td><td> 81</td><td> 80</td><td>Away</td><td>NA</td><td>NA  </td><td> 1864</td><td>  125</td><td>2002</td><td>26172</td></tr>\n",
       "\t<tr><td>UMKC             </td><td>01/14/2002</td><td> 61</td><td> 67</td><td>Away</td><td>NA</td><td>NA  </td><td> 1579</td><td> 2707</td><td>2002</td><td>26172</td></tr>\n",
       "\t<tr><td>Gardner-Webb     </td><td>01/17/2002</td><td> 86</td><td> 78</td><td>Home</td><td>NA</td><td>NA  </td><td> 1720</td><td> 1092</td><td>2002</td><td>26172</td></tr>\n",
       "\t<tr><td>New Orleans      </td><td>01/24/2002</td><td> 68</td><td> 82</td><td>Home</td><td>NA</td><td>NA  </td><td> 1712</td><td>  474</td><td>2002</td><td>26172</td></tr>\n",
       "\t<tr><td>Tex.-Pan American</td><td>01/26/2002</td><td> 87</td><td> 80</td><td>Away</td><td>NA</td><td>1 OT</td><td> 3875</td><td>  536</td><td>2002</td><td>26172</td></tr>\n",
       "\t<tr><td>Lipscomb         </td><td>01/31/2002</td><td> 79</td><td> 81</td><td>Away</td><td>NA</td><td>NA  </td><td> 1212</td><td>28600</td><td>2002</td><td>26172</td></tr>\n",
       "\t<tr><td>Gardner-Webb     </td><td>02/02/2002</td><td> 76</td><td> 86</td><td>Away</td><td>NA</td><td>NA  </td><td> 3297</td><td> 1092</td><td>2002</td><td>26172</td></tr>\n",
       "\t<tr><td>Denver           </td><td>02/05/2002</td><td> 68</td><td> 78</td><td>Away</td><td>NA</td><td>NA  </td><td>  538</td><td>  183</td><td>2002</td><td>26172</td></tr>\n",
       "\t<tr><td>Tex.-Pan American</td><td>02/09/2002</td><td>105</td><td>110</td><td>Home</td><td>NA</td><td>NA  </td><td> 1250</td><td>  536</td><td>2002</td><td>26172</td></tr>\n",
       "\t<tr><td>Savannah St.     </td><td>02/13/2002</td><td> 77</td><td> 62</td><td>Away</td><td>NA</td><td>NA  </td><td>  197</td><td>  632</td><td>2002</td><td>26172</td></tr>\n",
       "\t<tr><td>Lipscomb         </td><td>02/18/2002</td><td> 75</td><td> 61</td><td>Home</td><td>NA</td><td>NA  </td><td> 1421</td><td>28600</td><td>2002</td><td>26172</td></tr>\n",
       "\t<tr><td>Centenary (LA)   </td><td>02/23/2002</td><td> 77</td><td> 73</td><td>Home</td><td>NA</td><td>NA  </td><td> 1945</td><td>  125</td><td>2002</td><td>26172</td></tr>\n",
       "\t<tr><td>Savannah St.     </td><td>02/28/2002</td><td> 96</td><td> 66</td><td>Home</td><td>NA</td><td>NA  </td><td> 2031</td><td>  632</td><td>2002</td><td>26172</td></tr>\n",
       "\t<tr><td>Okla. Panhandle  </td><td>11/16/2001</td><td> 92</td><td> 80</td><td>Home</td><td>NA</td><td>NA  </td><td>  864</td><td>24342</td><td>2002</td><td>    2</td></tr>\n",
       "\t<tr><td>St. Edward's     </td><td>11/19/2001</td><td> 59</td><td> 78</td><td>Home</td><td>NA</td><td>NA  </td><td>  875</td><td> 1334</td><td>2002</td><td>    2</td></tr>\n",
       "\t<tr><td>Okla. Panhandle  </td><td>11/23/2001</td><td> 53</td><td> 71</td><td>Away</td><td>NA</td><td>NA  </td><td>  250</td><td>24342</td><td>2002</td><td>    2</td></tr>\n",
       "\t<tr><td>⋮</td><td>⋮</td><td>⋮</td><td>⋮</td><td>⋮</td><td>⋮</td><td>⋮</td><td>⋮</td><td>⋮</td><td>⋮</td><td>⋮</td></tr>\n",
       "\t<tr><td>Gallaudet     </td><td>02/19/2002</td><td> 91</td><td> 78</td><td>Home   </td><td>NA       </td><td>NA</td><td> 150</td><td> 245</td><td>2002</td><td>815</td></tr>\n",
       "\t<tr><td>Marymount (VA)</td><td>02/21/2002</td><td>100</td><td>103</td><td>Home   </td><td>NA       </td><td>NA</td><td> 350</td><td> 394</td><td>2002</td><td>815</td></tr>\n",
       "\t<tr><td>Evansville    </td><td>11/17/2001</td><td> 64</td><td> 87</td><td>Away   </td><td>NA       </td><td>NA</td><td>6555</td><td> 219</td><td>2002</td><td>817</td></tr>\n",
       "\t<tr><td>Slippery Rock </td><td>11/20/2001</td><td> 99</td><td> 67</td><td>Home   </td><td>NA       </td><td>NA</td><td>1629</td><td> 643</td><td>2002</td><td>817</td></tr>\n",
       "\t<tr><td>DePaul        </td><td>11/25/2001</td><td> 69</td><td>107</td><td>Away   </td><td>NA       </td><td>NA</td><td>4724</td><td> 176</td><td>2002</td><td>817</td></tr>\n",
       "\t<tr><td>Valparaiso    </td><td>11/29/2001</td><td> 50</td><td> 80</td><td>Away   </td><td>NA       </td><td>NA</td><td>4203</td><td> 735</td><td>2002</td><td>817</td></tr>\n",
       "\t<tr><td>Chicago St.   </td><td>12/01/2001</td><td> 72</td><td> 81</td><td>Away   </td><td>NA       </td><td>NA</td><td> 523</td><td> 136</td><td>2002</td><td>817</td></tr>\n",
       "\t<tr><td>Toledo        </td><td>12/08/2001</td><td> 65</td><td> 79</td><td>Away   </td><td>NA       </td><td>NA</td><td>3716</td><td> 709</td><td>2002</td><td>817</td></tr>\n",
       "\t<tr><td>Kent St.      </td><td>12/15/2001</td><td> 75</td><td> 70</td><td>Home   </td><td>NA       </td><td>NA</td><td>3168</td><td> 331</td><td>2002</td><td>817</td></tr>\n",
       "\t<tr><td>Robert Morris </td><td>12/19/2001</td><td> 80</td><td> 87</td><td>Home   </td><td>NA       </td><td>NA</td><td>1679</td><td> 579</td><td>2002</td><td>817</td></tr>\n",
       "\t<tr><td>UMKC          </td><td>12/22/2001</td><td> 53</td><td> 68</td><td>Away   </td><td>NA       </td><td>NA</td><td>3755</td><td>2707</td><td>2002</td><td>817</td></tr>\n",
       "\t<tr><td>Western Ill.  </td><td>12/30/2001</td><td> 79</td><td> 84</td><td>Away   </td><td>NA       </td><td>NA</td><td>1013</td><td> 771</td><td>2002</td><td>817</td></tr>\n",
       "\t<tr><td>Milwaukee     </td><td>01/02/2002</td><td> 55</td><td> 77</td><td>Home   </td><td>NA       </td><td>NA</td><td>1523</td><td> 797</td><td>2002</td><td>817</td></tr>\n",
       "\t<tr><td>Wright St.    </td><td>01/05/2002</td><td> 87</td><td> 80</td><td>Home   </td><td>NA       </td><td>NA</td><td>2498</td><td> 810</td><td>2002</td><td>817</td></tr>\n",
       "\t<tr><td>Cleveland St. </td><td>01/10/2002</td><td> 58</td><td> 71</td><td>Away   </td><td>NA       </td><td>NA</td><td>2482</td><td> 148</td><td>2002</td><td>817</td></tr>\n",
       "\t<tr><td>Butler        </td><td>01/12/2002</td><td> 50</td><td> 68</td><td>Home   </td><td>NA       </td><td>NA</td><td>3566</td><td>  87</td><td>2002</td><td>817</td></tr>\n",
       "\t<tr><td>Detroit       </td><td>01/17/2002</td><td> 51</td><td> 66</td><td>Home   </td><td>NA       </td><td>NA</td><td>2357</td><td> 184</td><td>2002</td><td>817</td></tr>\n",
       "\t<tr><td>Loyola Chicago</td><td>01/19/2002</td><td> 63</td><td> 72</td><td>Away   </td><td>NA       </td><td>NA</td><td>2437</td><td> 371</td><td>2002</td><td>817</td></tr>\n",
       "\t<tr><td>Ill.-Chicago  </td><td>01/21/2002</td><td> 69</td><td> 85</td><td>Away   </td><td>NA       </td><td>NA</td><td>1943</td><td> 302</td><td>2002</td><td>817</td></tr>\n",
       "\t<tr><td>Green Bay     </td><td>01/28/2002</td><td> 50</td><td> 53</td><td>Away   </td><td>NA       </td><td>NA</td><td>2818</td><td> 794</td><td>2002</td><td>817</td></tr>\n",
       "\t<tr><td>Wright St.    </td><td>01/31/2002</td><td> 69</td><td> 76</td><td>Away   </td><td>NA       </td><td>NA</td><td>4552</td><td> 810</td><td>2002</td><td>817</td></tr>\n",
       "\t<tr><td>Loyola Chicago</td><td>02/02/2002</td><td> 55</td><td> 75</td><td>Home   </td><td>NA       </td><td>NA</td><td>3070</td><td> 371</td><td>2002</td><td>817</td></tr>\n",
       "\t<tr><td>Ill.-Chicago  </td><td>02/04/2002</td><td> 57</td><td> 63</td><td>Home   </td><td>NA       </td><td>NA</td><td>1758</td><td> 302</td><td>2002</td><td>817</td></tr>\n",
       "\t<tr><td>Milwaukee     </td><td>02/09/2002</td><td> 76</td><td> 96</td><td>Away   </td><td>NA       </td><td>NA</td><td>3580</td><td> 797</td><td>2002</td><td>817</td></tr>\n",
       "\t<tr><td>Cleveland St. </td><td>02/14/2002</td><td> 48</td><td> 58</td><td>Home   </td><td>NA       </td><td>NA</td><td>4096</td><td> 148</td><td>2002</td><td>817</td></tr>\n",
       "\t<tr><td>Butler        </td><td>02/16/2002</td><td> 50</td><td> 75</td><td>Away   </td><td>NA       </td><td>NA</td><td>7041</td><td>  87</td><td>2002</td><td>817</td></tr>\n",
       "\t<tr><td>Detroit       </td><td>02/18/2002</td><td> 52</td><td> 63</td><td>Away   </td><td>NA       </td><td>NA</td><td>2068</td><td> 184</td><td>2002</td><td>817</td></tr>\n",
       "\t<tr><td>Green Bay     </td><td>02/21/2002</td><td> 69</td><td> 55</td><td>Home   </td><td>NA       </td><td>NA</td><td>2777</td><td> 794</td><td>2002</td><td>817</td></tr>\n",
       "\t<tr><td>IPFW          </td><td>02/23/2002</td><td> 78</td><td> 71</td><td>Home   </td><td>NA       </td><td>NA</td><td>2722</td><td> 308</td><td>2002</td><td>817</td></tr>\n",
       "\t<tr><td>Green Bay     </td><td>03/01/2002</td><td> 65</td><td> 86</td><td>Neutral</td><td>Cleveland</td><td>NA</td><td>1976</td><td> 794</td><td>2002</td><td>817</td></tr>\n",
       "</tbody>\n",
       "</table>\n"
      ],
      "text/latex": [
       "A spec\\_tbl\\_df: 27708 × 11\n",
       "\\begin{tabular}{lllllllllll}\n",
       " opponent\\_name & game\\_date & score & opponent\\_score & location & neutral\\_site\\_location & game\\_length & attendence & opponent\\_id & year & school\\_id\\\\\n",
       " <chr> & <chr> & <dbl> & <dbl> & <chr> & <chr> & <chr> & <dbl> & <dbl> & <dbl> & <dbl>\\\\\n",
       "\\hline\n",
       "\t Sul Ross St.      & 11/16/2001 &  93 &  59 & Home & NA & NA   &  2041 &  1390 & 2002 & 26172\\\\\n",
       "\t Texas St.         & 11/25/2001 &  89 &  99 & Home & NA & NA   &  1493 &   670 & 2002 & 26172\\\\\n",
       "\t Loyola Chicago    & 11/29/2001 &  66 &  86 & Away & NA & NA   &  1128 &   371 & 2002 & 26172\\\\\n",
       "\t Illinois          & 12/01/2001 &  56 &  80 & Away & NA & NA   & 16500 &   301 & 2002 & 26172\\\\\n",
       "\t Texas             & 12/05/2001 &  64 &  89 & Away & NA & NA   &  6099 &   703 & 2002 & 26172\\\\\n",
       "\t UTEP              & 12/08/2001 &  56 &  82 & Away & NA & NA   &  6203 &   704 & 2002 & 26172\\\\\n",
       "\t Lamar             & 12/15/2001 &  67 &  69 & Home & NA & NA   &  1342 &   346 & 2002 & 26172\\\\\n",
       "\t San Francisco     & 12/18/2001 &  80 &  75 & Home & NA & NA   &  1360 &   629 & 2002 & 26172\\\\\n",
       "\t Denver            & 12/21/2001 &  81 &  79 & Home & NA & NA   &  1415 &   183 & 2002 & 26172\\\\\n",
       "\t Wayland Baptist   & 12/28/2001 &  92 &  83 & Home & NA & NA   &  2096 &    NA & 2002 & 26172\\\\\n",
       "\t Arkansas St.      & 12/29/2001 & 102 &  98 & Home & NA & 2 OT &  1864 &    30 & 2002 & 26172\\\\\n",
       "\t Sacramento St.    & 01/03/2002 &  69 &  82 & Away & NA & NA   &   887 &   102 & 2002 & 26172\\\\\n",
       "\t San Francisco     & 01/05/2002 &  63 &  65 & Away & NA & NA   &  2272 &   629 & 2002 & 26172\\\\\n",
       "\t San Diego St.     & 01/08/2002 &  79 &  82 & Home & NA & NA   &  1357 &   626 & 2002 & 26172\\\\\n",
       "\t Centenary (LA)    & 01/12/2002 &  81 &  80 & Away & NA & NA   &  1864 &   125 & 2002 & 26172\\\\\n",
       "\t UMKC              & 01/14/2002 &  61 &  67 & Away & NA & NA   &  1579 &  2707 & 2002 & 26172\\\\\n",
       "\t Gardner-Webb      & 01/17/2002 &  86 &  78 & Home & NA & NA   &  1720 &  1092 & 2002 & 26172\\\\\n",
       "\t New Orleans       & 01/24/2002 &  68 &  82 & Home & NA & NA   &  1712 &   474 & 2002 & 26172\\\\\n",
       "\t Tex.-Pan American & 01/26/2002 &  87 &  80 & Away & NA & 1 OT &  3875 &   536 & 2002 & 26172\\\\\n",
       "\t Lipscomb          & 01/31/2002 &  79 &  81 & Away & NA & NA   &  1212 & 28600 & 2002 & 26172\\\\\n",
       "\t Gardner-Webb      & 02/02/2002 &  76 &  86 & Away & NA & NA   &  3297 &  1092 & 2002 & 26172\\\\\n",
       "\t Denver            & 02/05/2002 &  68 &  78 & Away & NA & NA   &   538 &   183 & 2002 & 26172\\\\\n",
       "\t Tex.-Pan American & 02/09/2002 & 105 & 110 & Home & NA & NA   &  1250 &   536 & 2002 & 26172\\\\\n",
       "\t Savannah St.      & 02/13/2002 &  77 &  62 & Away & NA & NA   &   197 &   632 & 2002 & 26172\\\\\n",
       "\t Lipscomb          & 02/18/2002 &  75 &  61 & Home & NA & NA   &  1421 & 28600 & 2002 & 26172\\\\\n",
       "\t Centenary (LA)    & 02/23/2002 &  77 &  73 & Home & NA & NA   &  1945 &   125 & 2002 & 26172\\\\\n",
       "\t Savannah St.      & 02/28/2002 &  96 &  66 & Home & NA & NA   &  2031 &   632 & 2002 & 26172\\\\\n",
       "\t Okla. Panhandle   & 11/16/2001 &  92 &  80 & Home & NA & NA   &   864 & 24342 & 2002 &     2\\\\\n",
       "\t St. Edward's      & 11/19/2001 &  59 &  78 & Home & NA & NA   &   875 &  1334 & 2002 &     2\\\\\n",
       "\t Okla. Panhandle   & 11/23/2001 &  53 &  71 & Away & NA & NA   &   250 & 24342 & 2002 &     2\\\\\n",
       "\t ⋮ & ⋮ & ⋮ & ⋮ & ⋮ & ⋮ & ⋮ & ⋮ & ⋮ & ⋮ & ⋮\\\\\n",
       "\t Gallaudet      & 02/19/2002 &  91 &  78 & Home    & NA        & NA &  150 &  245 & 2002 & 815\\\\\n",
       "\t Marymount (VA) & 02/21/2002 & 100 & 103 & Home    & NA        & NA &  350 &  394 & 2002 & 815\\\\\n",
       "\t Evansville     & 11/17/2001 &  64 &  87 & Away    & NA        & NA & 6555 &  219 & 2002 & 817\\\\\n",
       "\t Slippery Rock  & 11/20/2001 &  99 &  67 & Home    & NA        & NA & 1629 &  643 & 2002 & 817\\\\\n",
       "\t DePaul         & 11/25/2001 &  69 & 107 & Away    & NA        & NA & 4724 &  176 & 2002 & 817\\\\\n",
       "\t Valparaiso     & 11/29/2001 &  50 &  80 & Away    & NA        & NA & 4203 &  735 & 2002 & 817\\\\\n",
       "\t Chicago St.    & 12/01/2001 &  72 &  81 & Away    & NA        & NA &  523 &  136 & 2002 & 817\\\\\n",
       "\t Toledo         & 12/08/2001 &  65 &  79 & Away    & NA        & NA & 3716 &  709 & 2002 & 817\\\\\n",
       "\t Kent St.       & 12/15/2001 &  75 &  70 & Home    & NA        & NA & 3168 &  331 & 2002 & 817\\\\\n",
       "\t Robert Morris  & 12/19/2001 &  80 &  87 & Home    & NA        & NA & 1679 &  579 & 2002 & 817\\\\\n",
       "\t UMKC           & 12/22/2001 &  53 &  68 & Away    & NA        & NA & 3755 & 2707 & 2002 & 817\\\\\n",
       "\t Western Ill.   & 12/30/2001 &  79 &  84 & Away    & NA        & NA & 1013 &  771 & 2002 & 817\\\\\n",
       "\t Milwaukee      & 01/02/2002 &  55 &  77 & Home    & NA        & NA & 1523 &  797 & 2002 & 817\\\\\n",
       "\t Wright St.     & 01/05/2002 &  87 &  80 & Home    & NA        & NA & 2498 &  810 & 2002 & 817\\\\\n",
       "\t Cleveland St.  & 01/10/2002 &  58 &  71 & Away    & NA        & NA & 2482 &  148 & 2002 & 817\\\\\n",
       "\t Butler         & 01/12/2002 &  50 &  68 & Home    & NA        & NA & 3566 &   87 & 2002 & 817\\\\\n",
       "\t Detroit        & 01/17/2002 &  51 &  66 & Home    & NA        & NA & 2357 &  184 & 2002 & 817\\\\\n",
       "\t Loyola Chicago & 01/19/2002 &  63 &  72 & Away    & NA        & NA & 2437 &  371 & 2002 & 817\\\\\n",
       "\t Ill.-Chicago   & 01/21/2002 &  69 &  85 & Away    & NA        & NA & 1943 &  302 & 2002 & 817\\\\\n",
       "\t Green Bay      & 01/28/2002 &  50 &  53 & Away    & NA        & NA & 2818 &  794 & 2002 & 817\\\\\n",
       "\t Wright St.     & 01/31/2002 &  69 &  76 & Away    & NA        & NA & 4552 &  810 & 2002 & 817\\\\\n",
       "\t Loyola Chicago & 02/02/2002 &  55 &  75 & Home    & NA        & NA & 3070 &  371 & 2002 & 817\\\\\n",
       "\t Ill.-Chicago   & 02/04/2002 &  57 &  63 & Home    & NA        & NA & 1758 &  302 & 2002 & 817\\\\\n",
       "\t Milwaukee      & 02/09/2002 &  76 &  96 & Away    & NA        & NA & 3580 &  797 & 2002 & 817\\\\\n",
       "\t Cleveland St.  & 02/14/2002 &  48 &  58 & Home    & NA        & NA & 4096 &  148 & 2002 & 817\\\\\n",
       "\t Butler         & 02/16/2002 &  50 &  75 & Away    & NA        & NA & 7041 &   87 & 2002 & 817\\\\\n",
       "\t Detroit        & 02/18/2002 &  52 &  63 & Away    & NA        & NA & 2068 &  184 & 2002 & 817\\\\\n",
       "\t Green Bay      & 02/21/2002 &  69 &  55 & Home    & NA        & NA & 2777 &  794 & 2002 & 817\\\\\n",
       "\t IPFW           & 02/23/2002 &  78 &  71 & Home    & NA        & NA & 2722 &  308 & 2002 & 817\\\\\n",
       "\t Green Bay      & 03/01/2002 &  65 &  86 & Neutral & Cleveland & NA & 1976 &  794 & 2002 & 817\\\\\n",
       "\\end{tabular}\n"
      ],
      "text/markdown": [
       "\n",
       "A spec_tbl_df: 27708 × 11\n",
       "\n",
       "| opponent_name &lt;chr&gt; | game_date &lt;chr&gt; | score &lt;dbl&gt; | opponent_score &lt;dbl&gt; | location &lt;chr&gt; | neutral_site_location &lt;chr&gt; | game_length &lt;chr&gt; | attendence &lt;dbl&gt; | opponent_id &lt;dbl&gt; | year &lt;dbl&gt; | school_id &lt;dbl&gt; |\n",
       "|---|---|---|---|---|---|---|---|---|---|---|\n",
       "| Sul Ross St.      | 11/16/2001 |  93 |  59 | Home | NA | NA   |  2041 |  1390 | 2002 | 26172 |\n",
       "| Texas St.         | 11/25/2001 |  89 |  99 | Home | NA | NA   |  1493 |   670 | 2002 | 26172 |\n",
       "| Loyola Chicago    | 11/29/2001 |  66 |  86 | Away | NA | NA   |  1128 |   371 | 2002 | 26172 |\n",
       "| Illinois          | 12/01/2001 |  56 |  80 | Away | NA | NA   | 16500 |   301 | 2002 | 26172 |\n",
       "| Texas             | 12/05/2001 |  64 |  89 | Away | NA | NA   |  6099 |   703 | 2002 | 26172 |\n",
       "| UTEP              | 12/08/2001 |  56 |  82 | Away | NA | NA   |  6203 |   704 | 2002 | 26172 |\n",
       "| Lamar             | 12/15/2001 |  67 |  69 | Home | NA | NA   |  1342 |   346 | 2002 | 26172 |\n",
       "| San Francisco     | 12/18/2001 |  80 |  75 | Home | NA | NA   |  1360 |   629 | 2002 | 26172 |\n",
       "| Denver            | 12/21/2001 |  81 |  79 | Home | NA | NA   |  1415 |   183 | 2002 | 26172 |\n",
       "| Wayland Baptist   | 12/28/2001 |  92 |  83 | Home | NA | NA   |  2096 |    NA | 2002 | 26172 |\n",
       "| Arkansas St.      | 12/29/2001 | 102 |  98 | Home | NA | 2 OT |  1864 |    30 | 2002 | 26172 |\n",
       "| Sacramento St.    | 01/03/2002 |  69 |  82 | Away | NA | NA   |   887 |   102 | 2002 | 26172 |\n",
       "| San Francisco     | 01/05/2002 |  63 |  65 | Away | NA | NA   |  2272 |   629 | 2002 | 26172 |\n",
       "| San Diego St.     | 01/08/2002 |  79 |  82 | Home | NA | NA   |  1357 |   626 | 2002 | 26172 |\n",
       "| Centenary (LA)    | 01/12/2002 |  81 |  80 | Away | NA | NA   |  1864 |   125 | 2002 | 26172 |\n",
       "| UMKC              | 01/14/2002 |  61 |  67 | Away | NA | NA   |  1579 |  2707 | 2002 | 26172 |\n",
       "| Gardner-Webb      | 01/17/2002 |  86 |  78 | Home | NA | NA   |  1720 |  1092 | 2002 | 26172 |\n",
       "| New Orleans       | 01/24/2002 |  68 |  82 | Home | NA | NA   |  1712 |   474 | 2002 | 26172 |\n",
       "| Tex.-Pan American | 01/26/2002 |  87 |  80 | Away | NA | 1 OT |  3875 |   536 | 2002 | 26172 |\n",
       "| Lipscomb          | 01/31/2002 |  79 |  81 | Away | NA | NA   |  1212 | 28600 | 2002 | 26172 |\n",
       "| Gardner-Webb      | 02/02/2002 |  76 |  86 | Away | NA | NA   |  3297 |  1092 | 2002 | 26172 |\n",
       "| Denver            | 02/05/2002 |  68 |  78 | Away | NA | NA   |   538 |   183 | 2002 | 26172 |\n",
       "| Tex.-Pan American | 02/09/2002 | 105 | 110 | Home | NA | NA   |  1250 |   536 | 2002 | 26172 |\n",
       "| Savannah St.      | 02/13/2002 |  77 |  62 | Away | NA | NA   |   197 |   632 | 2002 | 26172 |\n",
       "| Lipscomb          | 02/18/2002 |  75 |  61 | Home | NA | NA   |  1421 | 28600 | 2002 | 26172 |\n",
       "| Centenary (LA)    | 02/23/2002 |  77 |  73 | Home | NA | NA   |  1945 |   125 | 2002 | 26172 |\n",
       "| Savannah St.      | 02/28/2002 |  96 |  66 | Home | NA | NA   |  2031 |   632 | 2002 | 26172 |\n",
       "| Okla. Panhandle   | 11/16/2001 |  92 |  80 | Home | NA | NA   |   864 | 24342 | 2002 |     2 |\n",
       "| St. Edward's      | 11/19/2001 |  59 |  78 | Home | NA | NA   |   875 |  1334 | 2002 |     2 |\n",
       "| Okla. Panhandle   | 11/23/2001 |  53 |  71 | Away | NA | NA   |   250 | 24342 | 2002 |     2 |\n",
       "| ⋮ | ⋮ | ⋮ | ⋮ | ⋮ | ⋮ | ⋮ | ⋮ | ⋮ | ⋮ | ⋮ |\n",
       "| Gallaudet      | 02/19/2002 |  91 |  78 | Home    | NA        | NA |  150 |  245 | 2002 | 815 |\n",
       "| Marymount (VA) | 02/21/2002 | 100 | 103 | Home    | NA        | NA |  350 |  394 | 2002 | 815 |\n",
       "| Evansville     | 11/17/2001 |  64 |  87 | Away    | NA        | NA | 6555 |  219 | 2002 | 817 |\n",
       "| Slippery Rock  | 11/20/2001 |  99 |  67 | Home    | NA        | NA | 1629 |  643 | 2002 | 817 |\n",
       "| DePaul         | 11/25/2001 |  69 | 107 | Away    | NA        | NA | 4724 |  176 | 2002 | 817 |\n",
       "| Valparaiso     | 11/29/2001 |  50 |  80 | Away    | NA        | NA | 4203 |  735 | 2002 | 817 |\n",
       "| Chicago St.    | 12/01/2001 |  72 |  81 | Away    | NA        | NA |  523 |  136 | 2002 | 817 |\n",
       "| Toledo         | 12/08/2001 |  65 |  79 | Away    | NA        | NA | 3716 |  709 | 2002 | 817 |\n",
       "| Kent St.       | 12/15/2001 |  75 |  70 | Home    | NA        | NA | 3168 |  331 | 2002 | 817 |\n",
       "| Robert Morris  | 12/19/2001 |  80 |  87 | Home    | NA        | NA | 1679 |  579 | 2002 | 817 |\n",
       "| UMKC           | 12/22/2001 |  53 |  68 | Away    | NA        | NA | 3755 | 2707 | 2002 | 817 |\n",
       "| Western Ill.   | 12/30/2001 |  79 |  84 | Away    | NA        | NA | 1013 |  771 | 2002 | 817 |\n",
       "| Milwaukee      | 01/02/2002 |  55 |  77 | Home    | NA        | NA | 1523 |  797 | 2002 | 817 |\n",
       "| Wright St.     | 01/05/2002 |  87 |  80 | Home    | NA        | NA | 2498 |  810 | 2002 | 817 |\n",
       "| Cleveland St.  | 01/10/2002 |  58 |  71 | Away    | NA        | NA | 2482 |  148 | 2002 | 817 |\n",
       "| Butler         | 01/12/2002 |  50 |  68 | Home    | NA        | NA | 3566 |   87 | 2002 | 817 |\n",
       "| Detroit        | 01/17/2002 |  51 |  66 | Home    | NA        | NA | 2357 |  184 | 2002 | 817 |\n",
       "| Loyola Chicago | 01/19/2002 |  63 |  72 | Away    | NA        | NA | 2437 |  371 | 2002 | 817 |\n",
       "| Ill.-Chicago   | 01/21/2002 |  69 |  85 | Away    | NA        | NA | 1943 |  302 | 2002 | 817 |\n",
       "| Green Bay      | 01/28/2002 |  50 |  53 | Away    | NA        | NA | 2818 |  794 | 2002 | 817 |\n",
       "| Wright St.     | 01/31/2002 |  69 |  76 | Away    | NA        | NA | 4552 |  810 | 2002 | 817 |\n",
       "| Loyola Chicago | 02/02/2002 |  55 |  75 | Home    | NA        | NA | 3070 |  371 | 2002 | 817 |\n",
       "| Ill.-Chicago   | 02/04/2002 |  57 |  63 | Home    | NA        | NA | 1758 |  302 | 2002 | 817 |\n",
       "| Milwaukee      | 02/09/2002 |  76 |  96 | Away    | NA        | NA | 3580 |  797 | 2002 | 817 |\n",
       "| Cleveland St.  | 02/14/2002 |  48 |  58 | Home    | NA        | NA | 4096 |  148 | 2002 | 817 |\n",
       "| Butler         | 02/16/2002 |  50 |  75 | Away    | NA        | NA | 7041 |   87 | 2002 | 817 |\n",
       "| Detroit        | 02/18/2002 |  52 |  63 | Away    | NA        | NA | 2068 |  184 | 2002 | 817 |\n",
       "| Green Bay      | 02/21/2002 |  69 |  55 | Home    | NA        | NA | 2777 |  794 | 2002 | 817 |\n",
       "| IPFW           | 02/23/2002 |  78 |  71 | Home    | NA        | NA | 2722 |  308 | 2002 | 817 |\n",
       "| Green Bay      | 03/01/2002 |  65 |  86 | Neutral | Cleveland | NA | 1976 |  794 | 2002 | 817 |\n",
       "\n"
      ],
      "text/plain": [
       "      opponent_name     game_date  score opponent_score location\n",
       "1     Sul Ross St.      11/16/2001  93    59            Home    \n",
       "2     Texas St.         11/25/2001  89    99            Home    \n",
       "3     Loyola Chicago    11/29/2001  66    86            Away    \n",
       "4     Illinois          12/01/2001  56    80            Away    \n",
       "5     Texas             12/05/2001  64    89            Away    \n",
       "6     UTEP              12/08/2001  56    82            Away    \n",
       "7     Lamar             12/15/2001  67    69            Home    \n",
       "8     San Francisco     12/18/2001  80    75            Home    \n",
       "9     Denver            12/21/2001  81    79            Home    \n",
       "10    Wayland Baptist   12/28/2001  92    83            Home    \n",
       "11    Arkansas St.      12/29/2001 102    98            Home    \n",
       "12    Sacramento St.    01/03/2002  69    82            Away    \n",
       "13    San Francisco     01/05/2002  63    65            Away    \n",
       "14    San Diego St.     01/08/2002  79    82            Home    \n",
       "15    Centenary (LA)    01/12/2002  81    80            Away    \n",
       "16    UMKC              01/14/2002  61    67            Away    \n",
       "17    Gardner-Webb      01/17/2002  86    78            Home    \n",
       "18    New Orleans       01/24/2002  68    82            Home    \n",
       "19    Tex.-Pan American 01/26/2002  87    80            Away    \n",
       "20    Lipscomb          01/31/2002  79    81            Away    \n",
       "21    Gardner-Webb      02/02/2002  76    86            Away    \n",
       "22    Denver            02/05/2002  68    78            Away    \n",
       "23    Tex.-Pan American 02/09/2002 105   110            Home    \n",
       "24    Savannah St.      02/13/2002  77    62            Away    \n",
       "25    Lipscomb          02/18/2002  75    61            Home    \n",
       "26    Centenary (LA)    02/23/2002  77    73            Home    \n",
       "27    Savannah St.      02/28/2002  96    66            Home    \n",
       "28    Okla. Panhandle   11/16/2001  92    80            Home    \n",
       "29    St. Edward's      11/19/2001  59    78            Home    \n",
       "30    Okla. Panhandle   11/23/2001  53    71            Away    \n",
       "⋮     ⋮                 ⋮          ⋮     ⋮              ⋮       \n",
       "27679 Gallaudet         02/19/2002  91    78            Home    \n",
       "27680 Marymount (VA)    02/21/2002 100   103            Home    \n",
       "27681 Evansville        11/17/2001  64    87            Away    \n",
       "27682 Slippery Rock     11/20/2001  99    67            Home    \n",
       "27683 DePaul            11/25/2001  69   107            Away    \n",
       "27684 Valparaiso        11/29/2001  50    80            Away    \n",
       "27685 Chicago St.       12/01/2001  72    81            Away    \n",
       "27686 Toledo            12/08/2001  65    79            Away    \n",
       "27687 Kent St.          12/15/2001  75    70            Home    \n",
       "27688 Robert Morris     12/19/2001  80    87            Home    \n",
       "27689 UMKC              12/22/2001  53    68            Away    \n",
       "27690 Western Ill.      12/30/2001  79    84            Away    \n",
       "27691 Milwaukee         01/02/2002  55    77            Home    \n",
       "27692 Wright St.        01/05/2002  87    80            Home    \n",
       "27693 Cleveland St.     01/10/2002  58    71            Away    \n",
       "27694 Butler            01/12/2002  50    68            Home    \n",
       "27695 Detroit           01/17/2002  51    66            Home    \n",
       "27696 Loyola Chicago    01/19/2002  63    72            Away    \n",
       "27697 Ill.-Chicago      01/21/2002  69    85            Away    \n",
       "27698 Green Bay         01/28/2002  50    53            Away    \n",
       "27699 Wright St.        01/31/2002  69    76            Away    \n",
       "27700 Loyola Chicago    02/02/2002  55    75            Home    \n",
       "27701 Ill.-Chicago      02/04/2002  57    63            Home    \n",
       "27702 Milwaukee         02/09/2002  76    96            Away    \n",
       "27703 Cleveland St.     02/14/2002  48    58            Home    \n",
       "27704 Butler            02/16/2002  50    75            Away    \n",
       "27705 Detroit           02/18/2002  52    63            Away    \n",
       "27706 Green Bay         02/21/2002  69    55            Home    \n",
       "27707 IPFW              02/23/2002  78    71            Home    \n",
       "27708 Green Bay         03/01/2002  65    86            Neutral \n",
       "      neutral_site_location game_length attendence opponent_id year school_id\n",
       "1     NA                    NA           2041       1390       2002 26172    \n",
       "2     NA                    NA           1493        670       2002 26172    \n",
       "3     NA                    NA           1128        371       2002 26172    \n",
       "4     NA                    NA          16500        301       2002 26172    \n",
       "5     NA                    NA           6099        703       2002 26172    \n",
       "6     NA                    NA           6203        704       2002 26172    \n",
       "7     NA                    NA           1342        346       2002 26172    \n",
       "8     NA                    NA           1360        629       2002 26172    \n",
       "9     NA                    NA           1415        183       2002 26172    \n",
       "10    NA                    NA           2096         NA       2002 26172    \n",
       "11    NA                    2 OT         1864         30       2002 26172    \n",
       "12    NA                    NA            887        102       2002 26172    \n",
       "13    NA                    NA           2272        629       2002 26172    \n",
       "14    NA                    NA           1357        626       2002 26172    \n",
       "15    NA                    NA           1864        125       2002 26172    \n",
       "16    NA                    NA           1579       2707       2002 26172    \n",
       "17    NA                    NA           1720       1092       2002 26172    \n",
       "18    NA                    NA           1712        474       2002 26172    \n",
       "19    NA                    1 OT         3875        536       2002 26172    \n",
       "20    NA                    NA           1212      28600       2002 26172    \n",
       "21    NA                    NA           3297       1092       2002 26172    \n",
       "22    NA                    NA            538        183       2002 26172    \n",
       "23    NA                    NA           1250        536       2002 26172    \n",
       "24    NA                    NA            197        632       2002 26172    \n",
       "25    NA                    NA           1421      28600       2002 26172    \n",
       "26    NA                    NA           1945        125       2002 26172    \n",
       "27    NA                    NA           2031        632       2002 26172    \n",
       "28    NA                    NA            864      24342       2002     2    \n",
       "29    NA                    NA            875       1334       2002     2    \n",
       "30    NA                    NA            250      24342       2002     2    \n",
       "⋮     ⋮                     ⋮           ⋮          ⋮           ⋮    ⋮        \n",
       "27679 NA                    NA           150        245        2002 815      \n",
       "27680 NA                    NA           350        394        2002 815      \n",
       "27681 NA                    NA          6555        219        2002 817      \n",
       "27682 NA                    NA          1629        643        2002 817      \n",
       "27683 NA                    NA          4724        176        2002 817      \n",
       "27684 NA                    NA          4203        735        2002 817      \n",
       "27685 NA                    NA           523        136        2002 817      \n",
       "27686 NA                    NA          3716        709        2002 817      \n",
       "27687 NA                    NA          3168        331        2002 817      \n",
       "27688 NA                    NA          1679        579        2002 817      \n",
       "27689 NA                    NA          3755       2707        2002 817      \n",
       "27690 NA                    NA          1013        771        2002 817      \n",
       "27691 NA                    NA          1523        797        2002 817      \n",
       "27692 NA                    NA          2498        810        2002 817      \n",
       "27693 NA                    NA          2482        148        2002 817      \n",
       "27694 NA                    NA          3566         87        2002 817      \n",
       "27695 NA                    NA          2357        184        2002 817      \n",
       "27696 NA                    NA          2437        371        2002 817      \n",
       "27697 NA                    NA          1943        302        2002 817      \n",
       "27698 NA                    NA          2818        794        2002 817      \n",
       "27699 NA                    NA          4552        810        2002 817      \n",
       "27700 NA                    NA          3070        371        2002 817      \n",
       "27701 NA                    NA          1758        302        2002 817      \n",
       "27702 NA                    NA          3580        797        2002 817      \n",
       "27703 NA                    NA          4096        148        2002 817      \n",
       "27704 NA                    NA          7041         87        2002 817      \n",
       "27705 NA                    NA          2068        184        2002 817      \n",
       "27706 NA                    NA          2777        794        2002 817      \n",
       "27707 NA                    NA          2722        308        2002 817      \n",
       "27708 Cleveland             NA          1976        794        2002 817      "
      ]
     },
     "metadata": {},
     "output_type": "display_data"
    }
   ],
   "source": [
    "u <- \"https://datasets.stats306.org/ncaa/ncaa_games_2002.csv.gz\"  # contains data for 2002-2019\n",
    "read_csv(u)"
   ]
  },
  {
   "cell_type": "markdown",
   "metadata": {
    "id": "DvKMHEC9Rnxr"
   },
   "source": [
    "Let's think about how we could combine these data into one big table for further analysis. First, we'll use a for loop and bind_rows:"
   ]
  },
  {
   "cell_type": "code",
   "execution_count": 84,
   "metadata": {
    "colab": {
     "base_uri": "https://localhost:8080/"
    },
    "id": "9MORta11Rnxr",
    "outputId": "cd4279c1-0434-4120-95ae-e403156b23a9"
   },
   "outputs": [
    {
     "name": "stderr",
     "output_type": "stream",
     "text": [
      "\u001b[1mRows: \u001b[22m\u001b[34m27708\u001b[39m \u001b[1mColumns: \u001b[22m\u001b[34m11\u001b[39m\n",
      "\u001b[36m──\u001b[39m \u001b[1mColumn specification\u001b[22m \u001b[36m────────────────────────────────────────────────────────\u001b[39m\n",
      "\u001b[1mDelimiter:\u001b[22m \",\"\n",
      "\u001b[31mchr\u001b[39m (5): opponent_name, game_date, location, neutral_site_location, game_length\n",
      "\u001b[32mdbl\u001b[39m (6): score, opponent_score, attendence, opponent_id, year, school_id\n",
      "\n",
      "\u001b[36mℹ\u001b[39m Use `spec()` to retrieve the full column specification for this data.\n",
      "\u001b[36mℹ\u001b[39m Specify the column types or set `show_col_types = FALSE` to quiet this message.\n",
      "\u001b[1mRows: \u001b[22m\u001b[34m27253\u001b[39m \u001b[1mColumns: \u001b[22m\u001b[34m11\u001b[39m\n",
      "\u001b[36m──\u001b[39m \u001b[1mColumn specification\u001b[22m \u001b[36m────────────────────────────────────────────────────────\u001b[39m\n",
      "\u001b[1mDelimiter:\u001b[22m \",\"\n",
      "\u001b[31mchr\u001b[39m (5): opponent_name, game_date, location, neutral_site_location, game_length\n",
      "\u001b[32mdbl\u001b[39m (6): score, opponent_score, attendence, opponent_id, year, school_id\n",
      "\n",
      "\u001b[36mℹ\u001b[39m Use `spec()` to retrieve the full column specification for this data.\n",
      "\u001b[36mℹ\u001b[39m Specify the column types or set `show_col_types = FALSE` to quiet this message.\n",
      "\u001b[1mRows: \u001b[22m\u001b[34m27549\u001b[39m \u001b[1mColumns: \u001b[22m\u001b[34m11\u001b[39m\n",
      "\u001b[36m──\u001b[39m \u001b[1mColumn specification\u001b[22m \u001b[36m────────────────────────────────────────────────────────\u001b[39m\n",
      "\u001b[1mDelimiter:\u001b[22m \",\"\n",
      "\u001b[31mchr\u001b[39m (5): opponent_name, game_date, location, neutral_site_location, game_length\n",
      "\u001b[32mdbl\u001b[39m (6): score, opponent_score, attendence, opponent_id, year, school_id\n",
      "\n",
      "\u001b[36mℹ\u001b[39m Use `spec()` to retrieve the full column specification for this data.\n",
      "\u001b[36mℹ\u001b[39m Specify the column types or set `show_col_types = FALSE` to quiet this message.\n"
     ]
    }
   ],
   "source": [
    "# for loop way\n",
    "link = 'https://datasets.stats306.org/ncaa/ncaa_games_{year}.csv.gz'\n",
    "\n",
    "tbl = tibble()\n",
    "for(year in 2002:2004){\n",
    "  tbl = bind_rows(tbl, read_csv(str_replace(link, '\\\\{year\\\\}', as.character(year))))\n",
    "}"
   ]
  },
  {
   "cell_type": "code",
   "execution_count": 85,
   "metadata": {},
   "outputs": [
    {
     "name": "stdout",
     "output_type": "stream",
     "text": [
      "Rows: 82,510\n",
      "Columns: 11\n",
      "$ opponent_name         \u001b[3m\u001b[90m<chr>\u001b[39m\u001b[23m \"Sul Ross St.\", \"Texas St.\", \"Loyola Chicago\", \"…\n",
      "$ game_date             \u001b[3m\u001b[90m<chr>\u001b[39m\u001b[23m \"11/16/2001\", \"11/25/2001\", \"11/29/2001\", \"12/01…\n",
      "$ score                 \u001b[3m\u001b[90m<dbl>\u001b[39m\u001b[23m 93, 89, 66, 56, 64, 56, 67, 80, 81, 92, 102, 69,…\n",
      "$ opponent_score        \u001b[3m\u001b[90m<dbl>\u001b[39m\u001b[23m 59, 99, 86, 80, 89, 82, 69, 75, 79, 83, 98, 82, …\n",
      "$ location              \u001b[3m\u001b[90m<chr>\u001b[39m\u001b[23m \"Home\", \"Home\", \"Away\", \"Away\", \"Away\", \"Away\", …\n",
      "$ neutral_site_location \u001b[3m\u001b[90m<chr>\u001b[39m\u001b[23m NA, NA, NA, NA, NA, NA, NA, NA, NA, NA, NA, NA, …\n",
      "$ game_length           \u001b[3m\u001b[90m<chr>\u001b[39m\u001b[23m NA, NA, NA, NA, NA, NA, NA, NA, NA, NA, \"2 OT\", …\n",
      "$ attendence            \u001b[3m\u001b[90m<dbl>\u001b[39m\u001b[23m 2041, 1493, 1128, 16500, 6099, 6203, 1342, 1360,…\n",
      "$ opponent_id           \u001b[3m\u001b[90m<dbl>\u001b[39m\u001b[23m 1390, 670, 371, 301, 703, 704, 346, 629, 183, NA…\n",
      "$ year                  \u001b[3m\u001b[90m<dbl>\u001b[39m\u001b[23m 2002, 2002, 2002, 2002, 2002, 2002, 2002, 2002, …\n",
      "$ school_id             \u001b[3m\u001b[90m<dbl>\u001b[39m\u001b[23m 26172, 26172, 26172, 26172, 26172, 26172, 26172,…\n"
     ]
    }
   ],
   "source": [
    "tbl %>% glimpse"
   ]
  },
  {
   "cell_type": "markdown",
   "metadata": {
    "id": "ymgS95qDRnxr"
   },
   "source": [
    "Next, we will use map and list_rbind:"
   ]
  },
  {
   "cell_type": "markdown",
   "metadata": {
    "id": "l06xuZV7mjJr"
   },
   "source": [
    "Now we will simply further using map_dfr"
   ]
  },
  {
   "cell_type": "code",
   "execution_count": 60,
   "metadata": {
    "colab": {
     "base_uri": "https://localhost:8080/",
     "height": 34
    },
    "id": "Cv3Y5WhUIKvi",
    "outputId": "0d9e176e-9dcd-489e-e084-54c9df4a2b89"
   },
   "outputs": [
    {
     "data": {
      "text/html": [
       "<style>\n",
       ".list-inline {list-style: none; margin:0; padding: 0}\n",
       ".list-inline>li {display: inline-block}\n",
       ".list-inline>li:not(:last-child)::after {content: \"\\00b7\"; padding: 0 .5ex}\n",
       "</style>\n",
       "<ol class=list-inline><li>'a1c'</li><li>'a2c'</li><li>'a3c'</li></ol>\n"
      ],
      "text/latex": [
       "\\begin{enumerate*}\n",
       "\\item 'a1c'\n",
       "\\item 'a2c'\n",
       "\\item 'a3c'\n",
       "\\end{enumerate*}\n"
      ],
      "text/markdown": [
       "1. 'a1c'\n",
       "2. 'a2c'\n",
       "3. 'a3c'\n",
       "\n",
       "\n"
      ],
      "text/plain": [
       "[1] \"a1c\" \"a2c\" \"a3c\""
      ]
     },
     "metadata": {},
     "output_type": "display_data"
    }
   ],
   "source": [
    "str_c('a', 1:3, 'c')"
   ]
  },
  {
   "cell_type": "code",
   "execution_count": 90,
   "metadata": {
    "id": "b_68atTommjg"
   },
   "outputs": [
    {
     "name": "stderr",
     "output_type": "stream",
     "text": [
      "\u001b[1mRows: \u001b[22m\u001b[34m27708\u001b[39m \u001b[1mColumns: \u001b[22m\u001b[34m11\u001b[39m\n",
      "\u001b[36m──\u001b[39m \u001b[1mColumn specification\u001b[22m \u001b[36m────────────────────────────────────────────────────────\u001b[39m\n",
      "\u001b[1mDelimiter:\u001b[22m \",\"\n",
      "\u001b[31mchr\u001b[39m (5): opponent_name, game_date, location, neutral_site_location, game_length\n",
      "\u001b[32mdbl\u001b[39m (6): score, opponent_score, attendence, opponent_id, year, school_id\n",
      "\n",
      "\u001b[36mℹ\u001b[39m Use `spec()` to retrieve the full column specification for this data.\n",
      "\u001b[36mℹ\u001b[39m Specify the column types or set `show_col_types = FALSE` to quiet this message.\n",
      "\u001b[1mRows: \u001b[22m\u001b[34m27253\u001b[39m \u001b[1mColumns: \u001b[22m\u001b[34m11\u001b[39m\n",
      "\u001b[36m──\u001b[39m \u001b[1mColumn specification\u001b[22m \u001b[36m────────────────────────────────────────────────────────\u001b[39m\n",
      "\u001b[1mDelimiter:\u001b[22m \",\"\n",
      "\u001b[31mchr\u001b[39m (5): opponent_name, game_date, location, neutral_site_location, game_length\n",
      "\u001b[32mdbl\u001b[39m (6): score, opponent_score, attendence, opponent_id, year, school_id\n",
      "\n",
      "\u001b[36mℹ\u001b[39m Use `spec()` to retrieve the full column specification for this data.\n",
      "\u001b[36mℹ\u001b[39m Specify the column types or set `show_col_types = FALSE` to quiet this message.\n",
      "\u001b[1mRows: \u001b[22m\u001b[34m27549\u001b[39m \u001b[1mColumns: \u001b[22m\u001b[34m11\u001b[39m\n",
      "\u001b[36m──\u001b[39m \u001b[1mColumn specification\u001b[22m \u001b[36m────────────────────────────────────────────────────────\u001b[39m\n",
      "\u001b[1mDelimiter:\u001b[22m \",\"\n",
      "\u001b[31mchr\u001b[39m (5): opponent_name, game_date, location, neutral_site_location, game_length\n",
      "\u001b[32mdbl\u001b[39m (6): score, opponent_score, attendence, opponent_id, year, school_id\n",
      "\n",
      "\u001b[36mℹ\u001b[39m Use `spec()` to retrieve the full column specification for this data.\n",
      "\u001b[36mℹ\u001b[39m Specify the column types or set `show_col_types = FALSE` to quiet this message.\n"
     ]
    },
    {
     "name": "stdout",
     "output_type": "stream",
     "text": [
      "Rows: 82,510\n",
      "Columns: 11\n",
      "$ opponent_name         \u001b[3m\u001b[90m<chr>\u001b[39m\u001b[23m \"Sul Ross St.\", \"Texas St.\", \"Loyola Chicago\", \"…\n",
      "$ game_date             \u001b[3m\u001b[90m<chr>\u001b[39m\u001b[23m \"11/16/2001\", \"11/25/2001\", \"11/29/2001\", \"12/01…\n",
      "$ score                 \u001b[3m\u001b[90m<dbl>\u001b[39m\u001b[23m 93, 89, 66, 56, 64, 56, 67, 80, 81, 92, 102, 69,…\n",
      "$ opponent_score        \u001b[3m\u001b[90m<dbl>\u001b[39m\u001b[23m 59, 99, 86, 80, 89, 82, 69, 75, 79, 83, 98, 82, …\n",
      "$ location              \u001b[3m\u001b[90m<chr>\u001b[39m\u001b[23m \"Home\", \"Home\", \"Away\", \"Away\", \"Away\", \"Away\", …\n",
      "$ neutral_site_location \u001b[3m\u001b[90m<chr>\u001b[39m\u001b[23m NA, NA, NA, NA, NA, NA, NA, NA, NA, NA, NA, NA, …\n",
      "$ game_length           \u001b[3m\u001b[90m<chr>\u001b[39m\u001b[23m NA, NA, NA, NA, NA, NA, NA, NA, NA, NA, \"2 OT\", …\n",
      "$ attendence            \u001b[3m\u001b[90m<dbl>\u001b[39m\u001b[23m 2041, 1493, 1128, 16500, 6099, 6203, 1342, 1360,…\n",
      "$ opponent_id           \u001b[3m\u001b[90m<dbl>\u001b[39m\u001b[23m 1390, 670, 371, 301, 703, 704, 346, 629, 183, NA…\n",
      "$ year                  \u001b[3m\u001b[90m<dbl>\u001b[39m\u001b[23m 2002, 2002, 2002, 2002, 2002, 2002, 2002, 2002, …\n",
      "$ school_id             \u001b[3m\u001b[90m<dbl>\u001b[39m\u001b[23m 26172, 26172, 26172, 26172, 26172, 26172, 26172,…\n"
     ]
    }
   ],
   "source": [
    "# map way\n",
    "\n",
    "str_c('https://datasets.stats306.org/ncaa/ncaa_games_', 2002:2004, '.csv.gz') %>% \n",
    "  map(read_csv) %>% list_rbind %>% glimpse"
   ]
  },
  {
   "cell_type": "markdown",
   "metadata": {
    "id": "2Okkp3crRnxs"
   },
   "source": [
    "Do you find the `map()` way easier to use? Easier to read? More enjoyable to write? (Hopefully at least one of the three.)"
   ]
  }
 ],
 "metadata": {
  "celltoolbar": "Slideshow",
  "colab": {
   "provenance": []
  },
  "kernelspec": {
   "display_name": "R",
   "language": "R",
   "name": "ir"
  },
  "language_info": {
   "codemirror_mode": "r",
   "file_extension": ".r",
   "mimetype": "text/x-r-source",
   "name": "R",
   "pygments_lexer": "r",
   "version": "4.3.1"
  }
 },
 "nbformat": 4,
 "nbformat_minor": 4
}
