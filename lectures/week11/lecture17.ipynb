{
 "cells": [
  {
   "cell_type": "markdown",
   "metadata": {
    "id": "XlOf9RFL1GTi"
   },
   "source": [
    "# Lecture 17: Conditionals, Iterations and writing Functions in R\n",
    "<div style=\"border: 1px double black; padding: 10px; margin: 10px\">\n",
    "\n",
    "**After today's lecture you will understand:**\n",
    "* Conditional statements: `if/else`\n",
    "* how to write functions in R\n",
    "* Iteration: `for`/`while` loops.\n",
    "\n",
    "\n",
    "</div>\n",
    "\n",
    "This corresponds to Chapter 26/27 of your book\n",
    "\n",
    "\n",
    "\n"
   ]
  },
  {
   "cell_type": "code",
   "execution_count": 2,
   "metadata": {
    "colab": {
     "base_uri": "https://localhost:8080/"
    },
    "id": "LNaTvkfD1GTn",
    "outputId": "d63b4993-b83d-4b84-ac17-4d579711cf0c"
   },
   "outputs": [
    {
     "name": "stderr",
     "output_type": "stream",
     "text": [
      "── \u001b[1mAttaching core tidyverse packages\u001b[22m ──────────────────────── tidyverse 2.0.0 ──\n",
      "\u001b[32m✔\u001b[39m \u001b[34mdplyr    \u001b[39m 1.1.2     \u001b[32m✔\u001b[39m \u001b[34mreadr    \u001b[39m 2.1.4\n",
      "\u001b[32m✔\u001b[39m \u001b[34mforcats  \u001b[39m 1.0.0     \u001b[32m✔\u001b[39m \u001b[34mstringr  \u001b[39m 1.5.0\n",
      "\u001b[32m✔\u001b[39m \u001b[34mggplot2  \u001b[39m 3.4.3     \u001b[32m✔\u001b[39m \u001b[34mtibble   \u001b[39m 3.2.1\n",
      "\u001b[32m✔\u001b[39m \u001b[34mlubridate\u001b[39m 1.9.2     \u001b[32m✔\u001b[39m \u001b[34mtidyr    \u001b[39m 1.3.0\n",
      "\u001b[32m✔\u001b[39m \u001b[34mpurrr    \u001b[39m 1.0.2     \n",
      "── \u001b[1mConflicts\u001b[22m ────────────────────────────────────────── tidyverse_conflicts() ──\n",
      "\u001b[31m✖\u001b[39m \u001b[34mdplyr\u001b[39m::\u001b[32mfilter()\u001b[39m masks \u001b[34mstats\u001b[39m::filter()\n",
      "\u001b[31m✖\u001b[39m \u001b[34mdplyr\u001b[39m::\u001b[32mlag()\u001b[39m    masks \u001b[34mstats\u001b[39m::lag()\n",
      "\u001b[36mℹ\u001b[39m Use the conflicted package (\u001b[3m\u001b[34m<http://conflicted.r-lib.org/>\u001b[39m\u001b[23m) to force all conflicts to become errors\n"
     ]
    }
   ],
   "source": [
    "library(tidyverse)"
   ]
  },
  {
   "cell_type": "markdown",
   "metadata": {},
   "source": [
    "## Conditional execution\n",
    "\n",
    "Often when writing functions we need to do different things depending on what data is passed in. This is known as conditional execution, and is accomplished using the if and/or else construct:\n",
    "\n",
    "```\n",
    "if (condition) {\n",
    "  # code executed when condition is TRUE\n",
    "} else {\n",
    "  # code executed when condition is FALSE\n",
    "}\n",
    "```"
   ]
  },
  {
   "cell_type": "markdown",
   "metadata": {},
   "source": [
    "#### if statements\n",
    "\n",
    "The workhorse for conditional execution in `R` is the if statement.\n"
   ]
  },
  {
   "cell_type": "code",
   "execution_count": 76,
   "metadata": {},
   "outputs": [
    {
     "name": "stdout",
     "output_type": "stream",
     "text": [
      "[1] \"do something if true\"\n"
     ]
    }
   ],
   "source": [
    "if (TRUE) {  # this condition is hard-coded to TRUE and will always execute the if-block\n",
    "  print('do something if true')\n",
    "}"
   ]
  },
  {
   "cell_type": "code",
   "execution_count": 75,
   "metadata": {},
   "outputs": [
    {
     "name": "stdout",
     "output_type": "stream",
     "text": [
      "[1] 10\n"
     ]
    }
   ],
   "source": [
    "x = 10\n",
    "if(x > 2){\n",
    "  print(x)\n",
    "}"
   ]
  },
  {
   "cell_type": "markdown",
   "metadata": {},
   "source": [
    "## Optional `else` block\n",
    "\n",
    "Use an else to control the flow without separately checking the condition’s negation:\n",
    "\n"
   ]
  },
  {
   "cell_type": "code",
   "execution_count": 77,
   "metadata": {},
   "outputs": [
    {
     "name": "stdout",
     "output_type": "stream",
     "text": [
      "[1] \"the statement is false\"\n"
     ]
    }
   ],
   "source": [
    "if ((2 + 2) == 5 ) {\n",
    "  print('the statement is true')\n",
    "} else {\n",
    "  print('the statement is false')\n",
    "}"
   ]
  },
  {
   "cell_type": "markdown",
   "metadata": {},
   "source": [
    "### `ifelse` function\n",
    "\n",
    "This is not new to you. `ifelse()` is a function that takes three vector arguments and returns a new vector. As you can see this is not the same as above"
   ]
  },
  {
   "cell_type": "code",
   "execution_count": 78,
   "metadata": {},
   "outputs": [
    {
     "data": {
      "text/html": [
       "<style>\n",
       ".list-inline {list-style: none; margin:0; padding: 0}\n",
       ".list-inline>li {display: inline-block}\n",
       ".list-inline>li:not(:last-child)::after {content: \"\\00b7\"; padding: 0 .5ex}\n",
       "</style>\n",
       "<ol class=list-inline><li>'small'</li><li>'small'</li><li>'small'</li><li>'large'</li><li>'large'</li></ol>\n"
      ],
      "text/latex": [
       "\\begin{enumerate*}\n",
       "\\item 'small'\n",
       "\\item 'small'\n",
       "\\item 'small'\n",
       "\\item 'large'\n",
       "\\item 'large'\n",
       "\\end{enumerate*}\n"
      ],
      "text/markdown": [
       "1. 'small'\n",
       "2. 'small'\n",
       "3. 'small'\n",
       "4. 'large'\n",
       "5. 'large'\n",
       "\n",
       "\n"
      ],
      "text/plain": [
       "[1] \"small\" \"small\" \"small\" \"large\" \"large\""
      ]
     },
     "metadata": {},
     "output_type": "display_data"
    }
   ],
   "source": [
    "# Define a vector\n",
    "x <- c(1, 2, 3, 4, 5)\n",
    "\n",
    "# Use ifelse to create a new vector\n",
    "y <- ifelse(x > 3, \"large\", \"small\")\n",
    "\n",
    "y"
   ]
  },
  {
   "cell_type": "markdown",
   "metadata": {},
   "source": [
    "# What about if_else?\n",
    "\n",
    "`if_else` comes from dplyr and works the same as `ifelse` except the output from the `if_else` should be of the same type"
   ]
  },
  {
   "cell_type": "code",
   "execution_count": 81,
   "metadata": {},
   "outputs": [
    {
     "data": {
      "text/html": [
       "<style>\n",
       ".list-inline {list-style: none; margin:0; padding: 0}\n",
       ".list-inline>li {display: inline-block}\n",
       ".list-inline>li:not(:last-child)::after {content: \"\\00b7\"; padding: 0 .5ex}\n",
       "</style>\n",
       "<ol class=list-inline><li>'0'</li><li>'0'</li><li>'0'</li><li>'large'</li><li>'large'</li></ol>\n"
      ],
      "text/latex": [
       "\\begin{enumerate*}\n",
       "\\item '0'\n",
       "\\item '0'\n",
       "\\item '0'\n",
       "\\item 'large'\n",
       "\\item 'large'\n",
       "\\end{enumerate*}\n"
      ],
      "text/markdown": [
       "1. '0'\n",
       "2. '0'\n",
       "3. '0'\n",
       "4. 'large'\n",
       "5. 'large'\n",
       "\n",
       "\n"
      ],
      "text/plain": [
       "[1] \"0\"     \"0\"     \"0\"     \"large\" \"large\""
      ]
     },
     "metadata": {},
     "output_type": "display_data"
    }
   ],
   "source": [
    "y <- if_else(x > 3, \"large\", 'small')\n",
    "y"
   ]
  },
  {
   "cell_type": "markdown",
   "metadata": {},
   "source": [
    "### if-else chain\n",
    "\n",
    "For more complex cases, you may want to check multiple conditions:"
   ]
  },
  {
   "cell_type": "code",
   "execution_count": 82,
   "metadata": {},
   "outputs": [
    {
     "data": {
      "text/html": [
       "<style>\n",
       ".list-inline {list-style: none; margin:0; padding: 0}\n",
       ".list-inline>li {display: inline-block}\n",
       ".list-inline>li:not(:last-child)::after {content: \"\\00b7\"; padding: 0 .5ex}\n",
       "</style>\n",
       "<ol class=list-inline><li>-1</li><li>1</li></ol>\n"
      ],
      "text/latex": [
       "\\begin{enumerate*}\n",
       "\\item -1\n",
       "\\item 1\n",
       "\\end{enumerate*}\n"
      ],
      "text/markdown": [
       "1. -1\n",
       "2. 1\n",
       "\n",
       "\n"
      ],
      "text/plain": [
       "[1] -1  1"
      ]
     },
     "metadata": {},
     "output_type": "display_data"
    }
   ],
   "source": [
    "a = -1\n",
    "b = 1\n",
    "\n",
    "if (a * b > 0) {\n",
    "  print('Zero is not between a and b')\n",
    "} else if ( a < b ) {\n",
    "    smaller = a\n",
    "    larger = b\n",
    "} else {\n",
    "    smaller = b\n",
    "    larger  = a\n",
    "}\n",
    "\n",
    "c(smaller, larger)"
   ]
  },
  {
   "cell_type": "markdown",
   "metadata": {
    "id": "xJgocmutIfof"
   },
   "source": [
    "# Function\n",
    "Function is not new to us, we have been using `functions` right from day 1. \n",
    "\n",
    "`print`, `filter`, `tibble` - are all functions. \n",
    "\n",
    "Try \n",
    "\n",
    "`class(print)`\n",
    "\n",
    "Today we will learn to write our own functions"
   ]
  },
  {
   "cell_type": "code",
   "execution_count": 83,
   "metadata": {
    "colab": {
     "base_uri": "https://localhost:8080/",
     "height": 34
    },
    "id": "hA7lDAXPnTcD",
    "outputId": "18617ac0-1057-4b7f-ece6-e2b8d4f9063e"
   },
   "outputs": [
    {
     "data": {
      "text/html": [
       "'function'"
      ],
      "text/latex": [
       "'function'"
      ],
      "text/markdown": [
       "'function'"
      ],
      "text/plain": [
       "[1] \"function\""
      ]
     },
     "metadata": {},
     "output_type": "display_data"
    }
   ],
   "source": [
    "class(print)"
   ]
  },
  {
   "cell_type": "markdown",
   "metadata": {
    "id": "GjeuBDWQ7ubr"
   },
   "source": [
    "### Why write out your own functions??\n",
    "\n",
    "Often when programming we find ourselves repeating the same block of code with minor modifications. \n",
    "\n",
    "Let us start with simple examples. When building machine learning models (which you will learn next week) it is common practice to normalize all the column values to the same scale; typically between 0 and 1. Let us take the `mpg` dataset and see `hwy` column's min and max values:"
   ]
  },
  {
   "cell_type": "code",
   "execution_count": null,
   "metadata": {
    "colab": {
     "base_uri": "https://localhost:8080/",
     "height": 34
    },
    "id": "ZwBcWuaSC65I",
    "outputId": "ca421d71-071a-4d06-ca3b-e94fb7271aa6"
   },
   "outputs": [
    {
     "data": {
      "text/html": [
       "<style>\n",
       ".list-inline {list-style: none; margin:0; padding: 0}\n",
       ".list-inline>li {display: inline-block}\n",
       ".list-inline>li:not(:last-child)::after {content: \"\\00b7\"; padding: 0 .5ex}\n",
       "</style>\n",
       "<ol class=list-inline><li>12</li><li>44</li></ol>\n"
      ],
      "text/latex": [
       "\\begin{enumerate*}\n",
       "\\item 12\n",
       "\\item 44\n",
       "\\end{enumerate*}\n"
      ],
      "text/markdown": [
       "1. 12\n",
       "2. 44\n",
       "\n",
       "\n"
      ],
      "text/plain": [
       "[1] 12 44"
      ]
     },
     "metadata": {},
     "output_type": "display_data"
    }
   ],
   "source": [
    "mpg$hwy %>% range"
   ]
  },
  {
   "cell_type": "markdown",
   "metadata": {
    "id": "tZi8Sl3BDGrg"
   },
   "source": [
    "Let us now normalize it. `x - min(x) / max(x) - min(x)`"
   ]
  },
  {
   "cell_type": "code",
   "execution_count": 98,
   "metadata": {
    "colab": {
     "base_uri": "https://localhost:8080/",
     "height": 34
    },
    "id": "IbO0bI637vLy",
    "outputId": "4828a279-fa2b-4503-dda9-aef208e9c550"
   },
   "outputs": [
    {
     "data": {
      "text/html": [
       "<style>\n",
       ".list-inline {list-style: none; margin:0; padding: 0}\n",
       ".list-inline>li {display: inline-block}\n",
       ".list-inline>li:not(:last-child)::after {content: \"\\00b7\"; padding: 0 .5ex}\n",
       "</style>\n",
       "<ol class=list-inline><li>0</li><li>1</li></ol>\n"
      ],
      "text/latex": [
       "\\begin{enumerate*}\n",
       "\\item 0\n",
       "\\item 1\n",
       "\\end{enumerate*}\n"
      ],
      "text/markdown": [
       "1. 0\n",
       "2. 1\n",
       "\n",
       "\n"
      ],
      "text/plain": [
       "[1] 0 1"
      ]
     },
     "metadata": {},
     "output_type": "display_data"
    }
   ],
   "source": [
    "hwy_a <- (mpg$hwy - min(mpg$hwy, na.rm = TRUE)) / (max(mpg$hwy, na.rm = TRUE) - min(mpg$hwy, na.rm = TRUE))\n",
    "hwy_a %>% range"
   ]
  },
  {
   "cell_type": "markdown",
   "metadata": {
    "id": "d39irSk0DU7K"
   },
   "source": [
    "We need to do the exact same for all columns; to begin with let us do for all numerical columns. And it is easy to copy and paste the same code from above and change the variable names"
   ]
  },
  {
   "cell_type": "code",
   "execution_count": null,
   "metadata": {
    "colab": {
     "base_uri": "https://localhost:8080/",
     "height": 34
    },
    "id": "55332GY1Dk5k",
    "outputId": "e7c2c1da-c10a-4ccf-d8b7-ec78fe88d17d"
   },
   "outputs": [
    {
     "data": {
      "text/html": [
       "<style>\n",
       ".list-inline {list-style: none; margin:0; padding: 0}\n",
       ".list-inline>li {display: inline-block}\n",
       ".list-inline>li:not(:last-child)::after {content: \"\\00b7\"; padding: 0 .5ex}\n",
       "</style>\n",
       "<ol class=list-inline><li>0</li><li>1.1304347826087</li></ol>\n"
      ],
      "text/latex": [
       "\\begin{enumerate*}\n",
       "\\item 0\n",
       "\\item 1.1304347826087\n",
       "\\end{enumerate*}\n"
      ],
      "text/markdown": [
       "1. 0\n",
       "2. 1.1304347826087\n",
       "\n",
       "\n"
      ],
      "text/plain": [
       "[1] 0.000000 1.130435"
      ]
     },
     "metadata": {},
     "output_type": "display_data"
    }
   ],
   "source": [
    "cty_a <- (mpg$cty - min(mpg$cty, na.rm = TRUE)) / (max(mpg$cty, na.rm = TRUE) - min(mpg$hwy, na.rm = TRUE))\n",
    "cty_a %>% range"
   ]
  },
  {
   "cell_type": "markdown",
   "metadata": {
    "id": "9Xgz9o_wD5wP"
   },
   "source": [
    "🤔 Quiz\n",
    "\n",
    "Why is the range not showing a maximum of 1?\n",
    "\n",
    "* A. For the `cty` values it cannot have a maximum value of 1\n",
    "* B. The numerator should use `max` function\n",
    "* C. Copy-paste technique not done correctly is the reason for a `flaw` in the formula"
   ]
  },
  {
   "cell_type": "markdown",
   "metadata": {
    "id": "-phP4EpQFT3l"
   },
   "source": [
    "We still need to do the exact same procedure for all other columns as well and so intead of repeating ourselves we can introduce a function to do the repeats."
   ]
  },
  {
   "cell_type": "code",
   "execution_count": null,
   "metadata": {
    "colab": {
     "base_uri": "https://localhost:8080/",
     "height": 52
    },
    "id": "ER9iBKfgFS7-",
    "outputId": "a8f6cd03-11f6-43e4-fd97-e4569260b024",
    "scrolled": true
   },
   "outputs": [],
   "source": [
    "rescale <- function(x){\n",
    "  ...\n",
    "}\n",
    "rescale(mpg$hwy) %>% range\n",
    "rescale(mpg$cyl) %>% range"
   ]
  },
  {
   "cell_type": "markdown",
   "metadata": {
    "id": "Pp_j9XXuGHxC"
   },
   "source": [
    "## Anatomy of a function\n",
    "To write a function we should first think about the inputs and output. A function takes input(s), does something(s) to them, and then returns an output.\n",
    "\n"
   ]
  },
  {
   "cell_type": "markdown",
   "metadata": {
    "id": "gUmAiBFQGUgk"
   },
   "source": [
    "🤔 Quiz\n",
    "\n",
    "What is the output of our rescale function?\n",
    "\n",
    "* A. x\n",
    "* B. nothing\n",
    "* C. rescaled vector values\n"
   ]
  },
  {
   "cell_type": "markdown",
   "metadata": {
    "id": "dtRoursTGxz4"
   },
   "source": [
    "In R, it is not necessary to use a `return` keyword to specify the return value of a function. The return value of a function is simply the value of the last expression evaluated within the function body. "
   ]
  },
  {
   "cell_type": "markdown",
   "metadata": {
    "id": "4WK4uxFRQixO"
   },
   "source": [
    "### Multiple return example\n",
    "\n",
    "\n",
    "This function returns 'fizz' if the given number is a multiple of 3. 'buzz' if it is a multiple of 5. If neither a multiple of 3 or 5, it simply returns the given number"
   ]
  },
  {
   "cell_type": "code",
   "execution_count": 87,
   "metadata": {
    "colab": {
     "base_uri": "https://localhost:8080/",
     "height": 34
    },
    "id": "4DHFN2j1uPKp",
    "outputId": "778c39be-6bf1-4d36-a065-3f9f0711e398"
   },
   "outputs": [
    {
     "data": {
      "text/html": [
       "'buzz'"
      ],
      "text/latex": [
       "'buzz'"
      ],
      "text/markdown": [
       "'buzz'"
      ],
      "text/plain": [
       "[1] \"buzz\""
      ]
     },
     "metadata": {},
     "output_type": "display_data"
    }
   ],
   "source": [
    "fizzbuzz <- function(x){\n",
    "    ...\n",
    "}\n",
    "\n",
    "fizzbuzz(5)"
   ]
  },
  {
   "cell_type": "markdown",
   "metadata": {
    "id": "fCgIwRmV1GT3"
   },
   "source": [
    "\n",
    "### Arguments\n",
    "\n",
    "Functions will often have multiple arguments. Some arguments have default values, others do not. All arguments without default values must be passed to a function. Arguments can be passed by name or position. For instance, \n",
    "\n",
    "\n"
   ]
  },
  {
   "cell_type": "code",
   "execution_count": 11,
   "metadata": {
    "colab": {
     "base_uri": "https://localhost:8080/",
     "height": 241
    },
    "id": "eNJoozbP1GT4",
    "outputId": "f0865722-90c9-445a-eb3e-8131763a10c3"
   },
   "outputs": [
    {
     "data": {
      "text/html": [
       "<table class=\"dataframe\">\n",
       "<caption>A matrix: 5 × 4 of type dbl</caption>\n",
       "<thead>\n",
       "\t<tr><th scope=col>w</th><th scope=col>x</th><th scope=col>y</th><th scope=col>z</th></tr>\n",
       "</thead>\n",
       "<tbody>\n",
       "\t<tr><td> 0.5</td><td> 1.0</td><td> 0.1</td><td>-0.6</td></tr>\n",
       "\t<tr><td>-0.5</td><td> 1.2</td><td>-2.3</td><td> 0.8</td></tr>\n",
       "\t<tr><td>-0.3</td><td> 0.6</td><td>-1.2</td><td> 1.7</td></tr>\n",
       "\t<tr><td>-1.5</td><td>-0.5</td><td> 1.0</td><td> 0.7</td></tr>\n",
       "\t<tr><td> 1.1</td><td>-0.2</td><td> 0.4</td><td>-0.5</td></tr>\n",
       "</tbody>\n",
       "</table>\n"
      ],
      "text/latex": [
       "A matrix: 5 × 4 of type dbl\n",
       "\\begin{tabular}{llll}\n",
       " w & x & y & z\\\\\n",
       "\\hline\n",
       "\t  0.5 &  1.0 &  0.1 & -0.6\\\\\n",
       "\t -0.5 &  1.2 & -2.3 &  0.8\\\\\n",
       "\t -0.3 &  0.6 & -1.2 &  1.7\\\\\n",
       "\t -1.5 & -0.5 &  1.0 &  0.7\\\\\n",
       "\t  1.1 & -0.2 &  0.4 & -0.5\\\\\n",
       "\\end{tabular}\n"
      ],
      "text/markdown": [
       "\n",
       "A matrix: 5 × 4 of type dbl\n",
       "\n",
       "| w | x | y | z |\n",
       "|---|---|---|---|\n",
       "|  0.5 |  1.0 |  0.1 | -0.6 |\n",
       "| -0.5 |  1.2 | -2.3 |  0.8 |\n",
       "| -0.3 |  0.6 | -1.2 |  1.7 |\n",
       "| -1.5 | -0.5 |  1.0 |  0.7 |\n",
       "|  1.1 | -0.2 |  0.4 | -0.5 |\n",
       "\n"
      ],
      "text/plain": [
       "     w    x    y    z   \n",
       "[1,]  0.5  1.0  0.1 -0.6\n",
       "[2,] -0.5  1.2 -2.3  0.8\n",
       "[3,] -0.3  0.6 -1.2  1.7\n",
       "[4,] -1.5 -0.5  1.0  0.7\n",
       "[5,]  1.1 -0.2  0.4 -0.5"
      ]
     },
     "metadata": {},
     "output_type": "display_data"
    }
   ],
   "source": [
    "# generate 5 numbers from a Normal(0, 1) distribution.\n",
    "w = rnorm(5, mean = 0, sd = 1)\n",
    "x = rnorm(n = 5, mean = 0, sd = 1)\n",
    "y = rnorm(5, 0, 1)\n",
    "z = rnorm(5)\n",
    "round(cbind(w, x, y, z), 1)"
   ]
  },
  {
   "cell_type": "markdown",
   "metadata": {
    "id": "LIZuAcKF1GT9"
   },
   "source": [
    "Arguments passed by name need not be in order:"
   ]
  },
  {
   "cell_type": "code",
   "execution_count": 120,
   "metadata": {
    "colab": {
     "base_uri": "https://localhost:8080/",
     "height": 97
    },
    "id": "nAeMGzyS1GT-",
    "outputId": "afd2c4b0-c4fa-44d1-c14c-2299e9f3111c"
   },
   "outputs": [
    {
     "data": {
      "text/html": [
       "<table class=\"dataframe\">\n",
       "<caption>A matrix: 2 × 5 of type dbl</caption>\n",
       "<tbody>\n",
       "\t<tr><th scope=row>u</th><td> 0.3</td><td>0.2</td><td>-0.3</td><td> 0.3</td><td>1.6</td></tr>\n",
       "\t<tr><th scope=row>w</th><td>-0.1</td><td>0.3</td><td>-0.7</td><td>-0.2</td><td>1.7</td></tr>\n",
       "</tbody>\n",
       "</table>\n"
      ],
      "text/latex": [
       "A matrix: 2 × 5 of type dbl\n",
       "\\begin{tabular}{r|lllll}\n",
       "\tu &  0.3 & 0.2 & -0.3 &  0.3 & 1.6\\\\\n",
       "\tw & -0.1 & 0.3 & -0.7 & -0.2 & 1.7\\\\\n",
       "\\end{tabular}\n"
      ],
      "text/markdown": [
       "\n",
       "A matrix: 2 × 5 of type dbl\n",
       "\n",
       "| u |  0.3 | 0.2 | -0.3 |  0.3 | 1.6 |\n",
       "| w | -0.1 | 0.3 | -0.7 | -0.2 | 1.7 |\n",
       "\n"
      ],
      "text/plain": [
       "  [,1] [,2] [,3] [,4] [,5]\n",
       "u  0.3 0.2  -0.3  0.3 1.6 \n",
       "w -0.1 0.3  -0.7 -0.2 1.7 "
      ]
     },
     "metadata": {},
     "output_type": "display_data"
    }
   ],
   "source": [
    "w = rnorm(mean = 0, sd = 1, n = 5)\n",
    "u = rnorm(mean = 0, sd = 1, 5) # This also works but is bad style. \n",
    "round(rbind(u = u, w = w), 1)\n",
    "\n",
    "# unnamed arguments get passed to the first argument after the names arguments are assigned"
   ]
  },
  {
   "cell_type": "markdown",
   "metadata": {
    "id": "AR9KrJnn1GUL"
   },
   "source": [
    "# z-score function\n",
    "\n",
    "Let us create a function to compute z-scores of a vector v; `v - mean(v) / std(v)`"
   ]
  },
  {
   "cell_type": "code",
   "execution_count": 13,
   "metadata": {
    "colab": {
     "base_uri": "https://localhost:8080/",
     "height": 52
    },
    "id": "qaLeKXql1GUL",
    "outputId": "762f2378-c3c2-4cbf-f603-fdd0d467daa8"
   },
   "outputs": [
    {
     "data": {
      "text/html": [
       "<style>\n",
       ".list-inline {list-style: none; margin:0; padding: 0}\n",
       ".list-inline>li {display: inline-block}\n",
       ".list-inline>li:not(:last-child)::after {content: \"\\00b7\"; padding: 0 .5ex}\n",
       "</style>\n",
       "<ol class=list-inline><li>-0.645085948617728</li><li>-0.5068532453425</li><li>1.15193919396023</li></ol>\n"
      ],
      "text/latex": [
       "\\begin{enumerate*}\n",
       "\\item -0.645085948617728\n",
       "\\item -0.5068532453425\n",
       "\\item 1.15193919396023\n",
       "\\end{enumerate*}\n"
      ],
      "text/markdown": [
       "1. -0.645085948617728\n",
       "2. -0.5068532453425\n",
       "3. 1.15193919396023\n",
       "\n",
       "\n"
      ],
      "text/plain": [
       "[1] -0.6450859 -0.5068532  1.1519392"
      ]
     },
     "metadata": {},
     "output_type": "display_data"
    }
   ],
   "source": [
    "# function to compute z-scores\n",
    "z_score1 <- function(x) {\n",
    "      #inputs: x - a numeric vector\n",
    "      #outputs: the z-scores for x\n",
    "\n",
    "}\n",
    "\n",
    "result <- z_score1(c(10,11,23))\n",
    "result"
   ]
  },
  {
   "cell_type": "markdown",
   "metadata": {
    "id": "3lIvlpaL1GUM"
   },
   "source": [
    "The return statement is not strictly necessary, but can make complex functions more readable. It is good practice to avoid creating intermediate objects to store values only used once.\n",
    "\n"
   ]
  },
  {
   "cell_type": "markdown",
   "metadata": {
    "id": "mTPxbzoZ1GUQ"
   },
   "source": [
    "### Default Parameters\n",
    "\n",
    "We can set default values for parameters using the construction `parameter = xx` in the function definition.\n",
    "\n",
    "\n"
   ]
  },
  {
   "cell_type": "code",
   "execution_count": 89,
   "metadata": {
    "id": "X7FzgVA21GUR"
   },
   "outputs": [],
   "source": [
    "# function to compute z-scores\n",
    "z_score2 = function(x, na.rm = T){\n",
    "  (x - mean(x, na.rm = na.rm)) / sd(x, na.rm = na.rm)\n",
    "}"
   ]
  },
  {
   "cell_type": "markdown",
   "metadata": {},
   "source": [
    "Let us pick 10 random numbers between 1 and 100"
   ]
  },
  {
   "cell_type": "code",
   "execution_count": 9,
   "metadata": {},
   "outputs": [
    {
     "data": {
      "text/html": [
       "<style>\n",
       ".list-inline {list-style: none; margin:0; padding: 0}\n",
       ".list-inline>li {display: inline-block}\n",
       ".list-inline>li:not(:last-child)::after {content: \"\\00b7\"; padding: 0 .5ex}\n",
       "</style>\n",
       "<ol class=list-inline><li>99</li><li>76</li><li>84</li><li>98</li><li>29</li><li>24</li><li>41</li><li>44</li><li>67</li><li>94</li></ol>\n"
      ],
      "text/latex": [
       "\\begin{enumerate*}\n",
       "\\item 99\n",
       "\\item 76\n",
       "\\item 84\n",
       "\\item 98\n",
       "\\item 29\n",
       "\\item 24\n",
       "\\item 41\n",
       "\\item 44\n",
       "\\item 67\n",
       "\\item 94\n",
       "\\end{enumerate*}\n"
      ],
      "text/markdown": [
       "1. 99\n",
       "2. 76\n",
       "3. 84\n",
       "4. 98\n",
       "5. 29\n",
       "6. 24\n",
       "7. 41\n",
       "8. 44\n",
       "9. 67\n",
       "10. 94\n",
       "\n",
       "\n"
      ],
      "text/plain": [
       " [1] 99 76 84 98 29 24 41 44 67 94"
      ]
     },
     "metadata": {},
     "output_type": "display_data"
    }
   ],
   "source": [
    "s1 = sample(1:100, 10)|\n",
    "s1"
   ]
  },
  {
   "cell_type": "code",
   "execution_count": 90,
   "metadata": {
    "scrolled": true
   },
   "outputs": [
    {
     "data": {
      "text/html": [
       "<style>\n",
       ".list-inline {list-style: none; margin:0; padding: 0}\n",
       ".list-inline>li {display: inline-block}\n",
       ".list-inline>li:not(:last-child)::after {content: \"\\00b7\"; padding: 0 .5ex}\n",
       "</style>\n",
       "<ol class=list-inline><li>&lt;NA&gt;</li><li>&lt;NA&gt;</li><li>&lt;NA&gt;</li><li>&lt;NA&gt;</li><li>&lt;NA&gt;</li><li>&lt;NA&gt;</li><li>&lt;NA&gt;</li><li>&lt;NA&gt;</li><li>&lt;NA&gt;</li><li>&lt;NA&gt;</li><li>&lt;NA&gt;</li></ol>\n"
      ],
      "text/latex": [
       "\\begin{enumerate*}\n",
       "\\item <NA>\n",
       "\\item <NA>\n",
       "\\item <NA>\n",
       "\\item <NA>\n",
       "\\item <NA>\n",
       "\\item <NA>\n",
       "\\item <NA>\n",
       "\\item <NA>\n",
       "\\item <NA>\n",
       "\\item <NA>\n",
       "\\item <NA>\n",
       "\\end{enumerate*}\n"
      ],
      "text/markdown": [
       "1. &lt;NA&gt;\n",
       "2. &lt;NA&gt;\n",
       "3. &lt;NA&gt;\n",
       "4. &lt;NA&gt;\n",
       "5. &lt;NA&gt;\n",
       "6. &lt;NA&gt;\n",
       "7. &lt;NA&gt;\n",
       "8. &lt;NA&gt;\n",
       "9. &lt;NA&gt;\n",
       "10. &lt;NA&gt;\n",
       "11. &lt;NA&gt;\n",
       "\n",
       "\n"
      ],
      "text/plain": [
       " [1] NA NA NA NA NA NA NA NA NA NA NA"
      ]
     },
     "metadata": {},
     "output_type": "display_data"
    },
    {
     "data": {
      "text/html": [
       "<style>\n",
       ".list-inline {list-style: none; margin:0; padding: 0}\n",
       ".list-inline>li {display: inline-block}\n",
       ".list-inline>li:not(:last-child)::after {content: \"\\00b7\"; padding: 0 .5ex}\n",
       "</style>\n",
       "<ol class=list-inline><li>1.15222660550277</li><li>0.358777146623617</li><li>0.634759567103322</li><li>1.11772880294281</li><li>-1.26261957369465</li><li>-1.43510858649447</li><li>-0.848645942975094</li><li>-0.745152535295204</li><li>0.0482969235839486</li><li>0.979737592702954</li><li>&lt;NA&gt;</li></ol>\n"
      ],
      "text/latex": [
       "\\begin{enumerate*}\n",
       "\\item 1.15222660550277\n",
       "\\item 0.358777146623617\n",
       "\\item 0.634759567103322\n",
       "\\item 1.11772880294281\n",
       "\\item -1.26261957369465\n",
       "\\item -1.43510858649447\n",
       "\\item -0.848645942975094\n",
       "\\item -0.745152535295204\n",
       "\\item 0.0482969235839486\n",
       "\\item 0.979737592702954\n",
       "\\item <NA>\n",
       "\\end{enumerate*}\n"
      ],
      "text/markdown": [
       "1. 1.15222660550277\n",
       "2. 0.358777146623617\n",
       "3. 0.634759567103322\n",
       "4. 1.11772880294281\n",
       "5. -1.26261957369465\n",
       "6. -1.43510858649447\n",
       "7. -0.848645942975094\n",
       "8. -0.745152535295204\n",
       "9. 0.0482969235839486\n",
       "10. 0.979737592702954\n",
       "11. &lt;NA&gt;\n",
       "\n",
       "\n"
      ],
      "text/plain": [
       " [1]  1.15222661  0.35877715  0.63475957  1.11772880 -1.26261957 -1.43510859\n",
       " [7] -0.84864594 -0.74515254  0.04829692  0.97973759          NA"
      ]
     },
     "metadata": {},
     "output_type": "display_data"
    }
   ],
   "source": [
    "s2 = c(s1, NA)\n",
    "\n",
    "z_score1(s2)\n",
    "z_score2(s2)"
   ]
  },
  {
   "cell_type": "markdown",
   "metadata": {},
   "source": [
    "### Exercise\n",
    "Write an R function called `find_missing_elements` that takes these two vectors, v1, v2 as input and returns a vector containing elements that are present in v1 but not in v2"
   ]
  },
  {
   "cell_type": "code",
   "execution_count": null,
   "metadata": {
    "scrolled": true
   },
   "outputs": [],
   "source": [
    "find_missing_elements = ...\n",
    "\n",
    "v1 <- c(1, 2, 3, 4, 5)\n",
    "v2 <- c(3, 4, 6, 7)\n",
    "\n",
    "find_missing_elements(v1, v2)"
   ]
  },
  {
   "cell_type": "markdown",
   "metadata": {},
   "source": [
    "## Iteration\n",
    " \n",
    "\n",
    "If you're coming from a C++ or Java background, your first instinct is probably to use a `for()` loop. In R, for loops look like this:\n",
    "```{r}\n",
    "for (<index> in <vector>) {\n",
    "    [do something for each value of <index>]\n",
    "}\n",
    "```"
   ]
  },
  {
   "cell_type": "code",
   "execution_count": 18,
   "metadata": {},
   "outputs": [
    {
     "name": "stdout",
     "output_type": "stream",
     "text": [
      " [1] 95 68 25 45 98 75 82 37 23 20\n",
      "[1] 95\n",
      "[1] 68\n",
      "[1] 25\n",
      "[1] 45\n",
      "[1] 98\n",
      "[1] 75\n",
      "[1] 82\n",
      "[1] 37\n",
      "[1] 23\n",
      "[1] 20\n"
     ]
    }
   ],
   "source": [
    "x = sample(1:100, 10, replace = F)\n",
    "print(x)\n",
    "for (item in x){\n",
    "  print(item)\n",
    "}"
   ]
  },
  {
   "cell_type": "markdown",
   "metadata": {},
   "source": [
    "## `while`\n",
    "\n",
    "The last kind of loop we will consider is `while()`. \n",
    "\n",
    "A while statement can be useful when you aren’t sure how many iterations are needed. This happens sometimes in statistics or data science when you are simulating a random quantity. \n",
    "\n",
    "Here is an example that takes a random walk and terminates if the value is more than 10 units from 0."
   ]
  },
  {
   "cell_type": "markdown",
   "metadata": {},
   "source": [
    "## Example: random walk\n",
    "A random walk is a "
   ]
  },
  {
   "cell_type": "code",
   "execution_count": 25,
   "metadata": {},
   "outputs": [
    {
     "data": {
      "application/pdf": "[encoded data removed]",
      "image/jpeg": "[encoded data removed]",
      "image/png": "[encoded data removed]",
      "image/svg+xml": [
       "<?xml version=\"1.0\" encoding=\"UTF-8\"?>\n",
       "<svg xmlns=\"http://www.w3.org/2000/svg\" xmlns:xlink=\"http://www.w3.org/1999/xlink\" width=\"504pt\" height=\"504pt\" viewBox=\"0 0 504 504\" version=\"1.1\">\n",
       "<defs>\n",
       "<g>\n",
       "<symbol overflow=\"visible\" id=\"glyph0-0\">\n",
       "<path style=\"stroke:none;\" d=\"M 0.40625 0 L 0.40625 -8 L 3.59375 -8 L 3.59375 0 Z M 0.796875 -0.40625 L 3.1875 -0.40625 L 3.1875 -7.59375 L 0.796875 -7.59375 Z M 0.796875 -0.40625 \"/>\n",
       "</symbol>\n",
       "<symbol overflow=\"visible\" id=\"glyph0-1\">\n",
       "<path style=\"stroke:none;\" d=\"M 6.203125 -4.125 C 6.203125 -3.332031 6.125 -2.664062 5.96875 -2.125 C 5.820312 -1.582031 5.617188 -1.144531 5.359375 -0.8125 C 5.097656 -0.476562 4.789062 -0.238281 4.4375 -0.09375 C 4.09375 0.0507812 3.722656 0.125 3.328125 0.125 C 2.921875 0.125 2.539062 0.0507812 2.1875 -0.09375 C 1.84375 -0.238281 1.539062 -0.476562 1.28125 -0.8125 C 1.03125 -1.144531 0.832031 -1.582031 0.6875 -2.125 C 0.539062 -2.664062 0.46875 -3.332031 0.46875 -4.125 C 0.46875 -4.957031 0.539062 -5.644531 0.6875 -6.1875 C 0.832031 -6.738281 1.035156 -7.175781 1.296875 -7.5 C 1.554688 -7.820312 1.859375 -8.046875 2.203125 -8.171875 C 2.554688 -8.304688 2.941406 -8.375 3.359375 -8.375 C 3.753906 -8.375 4.125 -8.304688 4.46875 -8.171875 C 4.8125 -8.046875 5.113281 -7.820312 5.375 -7.5 C 5.632812 -7.175781 5.835938 -6.738281 5.984375 -6.1875 C 6.128906 -5.644531 6.203125 -4.957031 6.203125 -4.125 Z M 5.140625 -4.125 C 5.140625 -4.78125 5.097656 -5.328125 5.015625 -5.765625 C 4.941406 -6.203125 4.828125 -6.550781 4.671875 -6.8125 C 4.515625 -7.070312 4.328125 -7.253906 4.109375 -7.359375 C 3.890625 -7.472656 3.640625 -7.53125 3.359375 -7.53125 C 3.054688 -7.53125 2.789062 -7.472656 2.5625 -7.359375 C 2.34375 -7.253906 2.15625 -7.070312 2 -6.8125 C 1.84375 -6.550781 1.722656 -6.203125 1.640625 -5.765625 C 1.566406 -5.328125 1.53125 -4.78125 1.53125 -4.125 C 1.53125 -3.5 1.570312 -2.96875 1.65625 -2.53125 C 1.738281 -2.09375 1.851562 -1.742188 2 -1.484375 C 2.15625 -1.222656 2.34375 -1.035156 2.5625 -0.921875 C 2.789062 -0.804688 3.046875 -0.75 3.328125 -0.75 C 3.609375 -0.75 3.859375 -0.804688 4.078125 -0.921875 C 4.304688 -1.035156 4.492188 -1.222656 4.640625 -1.484375 C 4.796875 -1.742188 4.914062 -2.09375 5 -2.53125 C 5.09375 -2.96875 5.140625 -3.5 5.140625 -4.125 Z M 5.140625 -4.125 \"/>\n",
       "</symbol>\n",
       "<symbol overflow=\"visible\" id=\"glyph0-2\">\n",
       "<path style=\"stroke:none;\" d=\"M 0.921875 0 L 0.921875 -0.890625 L 3.015625 -0.890625 L 3.015625 -7.25 L 1.15625 -5.921875 L 1.15625 -6.921875 L 3.109375 -8.25 L 4.078125 -8.25 L 4.078125 -0.890625 L 6.09375 -0.890625 L 6.09375 0 Z M 0.921875 0 \"/>\n",
       "</symbol>\n",
       "<symbol overflow=\"visible\" id=\"glyph0-3\">\n",
       "<path style=\"stroke:none;\" d=\"M 0.609375 0 L 0.609375 -0.75 C 0.804688 -1.207031 1.046875 -1.609375 1.328125 -1.953125 C 1.617188 -2.304688 1.921875 -2.625 2.234375 -2.90625 C 2.554688 -3.1875 2.867188 -3.445312 3.171875 -3.6875 C 3.484375 -3.9375 3.765625 -4.179688 4.015625 -4.421875 C 4.265625 -4.660156 4.46875 -4.910156 4.625 -5.171875 C 4.78125 -5.441406 4.859375 -5.742188 4.859375 -6.078125 C 4.859375 -6.316406 4.820312 -6.523438 4.75 -6.703125 C 4.675781 -6.878906 4.570312 -7.023438 4.4375 -7.140625 C 4.3125 -7.265625 4.15625 -7.359375 3.96875 -7.421875 C 3.78125 -7.484375 3.578125 -7.515625 3.359375 -7.515625 C 3.140625 -7.515625 2.9375 -7.484375 2.75 -7.421875 C 2.570312 -7.367188 2.410156 -7.28125 2.265625 -7.15625 C 2.117188 -7.039062 2 -6.894531 1.90625 -6.71875 C 1.8125 -6.550781 1.753906 -6.351562 1.734375 -6.125 L 0.65625 -6.21875 C 0.6875 -6.507812 0.765625 -6.785156 0.890625 -7.046875 C 1.023438 -7.316406 1.203125 -7.550781 1.421875 -7.75 C 1.648438 -7.945312 1.921875 -8.097656 2.234375 -8.203125 C 2.554688 -8.316406 2.929688 -8.375 3.359375 -8.375 C 3.765625 -8.375 4.125 -8.328125 4.4375 -8.234375 C 4.757812 -8.140625 5.03125 -7.992188 5.25 -7.796875 C 5.476562 -7.609375 5.648438 -7.375 5.765625 -7.09375 C 5.878906 -6.8125 5.9375 -6.488281 5.9375 -6.125 C 5.9375 -5.84375 5.882812 -5.578125 5.78125 -5.328125 C 5.6875 -5.078125 5.554688 -4.835938 5.390625 -4.609375 C 5.222656 -4.378906 5.03125 -4.160156 4.8125 -3.953125 C 4.59375 -3.742188 4.363281 -3.535156 4.125 -3.328125 C 3.894531 -3.128906 3.65625 -2.929688 3.40625 -2.734375 C 3.164062 -2.535156 2.9375 -2.335938 2.71875 -2.140625 C 2.507812 -1.941406 2.320312 -1.738281 2.15625 -1.53125 C 1.988281 -1.332031 1.859375 -1.117188 1.765625 -0.890625 L 6.078125 -0.890625 L 6.078125 0 Z M 0.609375 0 \"/>\n",
       "</symbol>\n",
       "<symbol overflow=\"visible\" id=\"glyph0-4\">\n",
       "<path style=\"stroke:none;\" d=\"M 6.140625 -2.28125 C 6.140625 -1.90625 6.078125 -1.566406 5.953125 -1.265625 C 5.835938 -0.972656 5.660156 -0.722656 5.421875 -0.515625 C 5.179688 -0.304688 4.882812 -0.144531 4.53125 -0.03125 C 4.1875 0.0703125 3.789062 0.125 3.34375 0.125 C 2.832031 0.125 2.398438 0.0625 2.046875 -0.0625 C 1.703125 -0.195312 1.414062 -0.367188 1.1875 -0.578125 C 0.957031 -0.785156 0.785156 -1.019531 0.671875 -1.28125 C 0.566406 -1.550781 0.492188 -1.832031 0.453125 -2.125 L 1.546875 -2.21875 C 1.578125 -2 1.632812 -1.800781 1.71875 -1.625 C 1.800781 -1.445312 1.914062 -1.289062 2.0625 -1.15625 C 2.207031 -1.03125 2.382812 -0.929688 2.59375 -0.859375 C 2.800781 -0.785156 3.050781 -0.75 3.34375 -0.75 C 3.875 -0.75 4.289062 -0.878906 4.59375 -1.140625 C 4.894531 -1.410156 5.046875 -1.800781 5.046875 -2.3125 C 5.046875 -2.613281 4.976562 -2.859375 4.84375 -3.046875 C 4.707031 -3.234375 4.539062 -3.378906 4.34375 -3.484375 C 4.144531 -3.585938 3.925781 -3.65625 3.6875 -3.6875 C 3.445312 -3.726562 3.226562 -3.75 3.03125 -3.75 L 2.4375 -3.75 L 2.4375 -4.65625 L 3.015625 -4.65625 C 3.210938 -4.65625 3.414062 -4.675781 3.625 -4.71875 C 3.84375 -4.757812 4.039062 -4.832031 4.21875 -4.9375 C 4.394531 -5.050781 4.539062 -5.195312 4.65625 -5.375 C 4.769531 -5.5625 4.828125 -5.796875 4.828125 -6.078125 C 4.828125 -6.523438 4.695312 -6.875 4.4375 -7.125 C 4.1875 -7.382812 3.800781 -7.515625 3.28125 -7.515625 C 2.820312 -7.515625 2.445312 -7.394531 2.15625 -7.15625 C 1.875 -6.914062 1.707031 -6.578125 1.65625 -6.140625 L 0.59375 -6.234375 C 0.632812 -6.597656 0.734375 -6.910156 0.890625 -7.171875 C 1.046875 -7.441406 1.242188 -7.664062 1.484375 -7.84375 C 1.734375 -8.019531 2.007812 -8.148438 2.3125 -8.234375 C 2.625 -8.328125 2.953125 -8.375 3.296875 -8.375 C 3.753906 -8.375 4.148438 -8.316406 4.484375 -8.203125 C 4.816406 -8.085938 5.085938 -7.929688 5.296875 -7.734375 C 5.515625 -7.535156 5.671875 -7.300781 5.765625 -7.03125 C 5.867188 -6.769531 5.921875 -6.488281 5.921875 -6.1875 C 5.921875 -5.945312 5.882812 -5.722656 5.8125 -5.515625 C 5.75 -5.304688 5.644531 -5.113281 5.5 -4.9375 C 5.363281 -4.769531 5.1875 -4.625 4.96875 -4.5 C 4.75 -4.382812 4.488281 -4.296875 4.1875 -4.234375 L 4.1875 -4.21875 C 4.519531 -4.175781 4.804688 -4.097656 5.046875 -3.984375 C 5.296875 -3.867188 5.5 -3.722656 5.65625 -3.546875 C 5.820312 -3.378906 5.941406 -3.1875 6.015625 -2.96875 C 6.097656 -2.75 6.140625 -2.519531 6.140625 -2.28125 Z M 6.140625 -2.28125 \"/>\n",
       "</symbol>\n",
       "<symbol overflow=\"visible\" id=\"glyph0-5\">\n",
       "<path style=\"stroke:none;\" d=\"M 5.15625 -1.875 L 5.15625 0 L 4.171875 0 L 4.171875 -1.875 L 0.28125 -1.875 L 0.28125 -2.6875 L 4.0625 -8.25 L 5.15625 -8.25 L 5.15625 -2.703125 L 6.328125 -2.703125 L 6.328125 -1.875 Z M 4.171875 -7.0625 C 4.160156 -7.039062 4.140625 -7.003906 4.109375 -6.953125 C 4.078125 -6.898438 4.039062 -6.835938 4 -6.765625 C 3.957031 -6.691406 3.914062 -6.617188 3.875 -6.546875 C 3.84375 -6.472656 3.8125 -6.414062 3.78125 -6.375 L 1.65625 -3.25 C 1.632812 -3.21875 1.601562 -3.175781 1.5625 -3.125 C 1.53125 -3.070312 1.492188 -3.019531 1.453125 -2.96875 C 1.421875 -2.914062 1.382812 -2.863281 1.34375 -2.8125 C 1.300781 -2.769531 1.269531 -2.734375 1.25 -2.703125 L 4.171875 -2.703125 Z M 4.171875 -7.0625 \"/>\n",
       "</symbol>\n",
       "<symbol overflow=\"visible\" id=\"glyph0-6\">\n",
       "<path style=\"stroke:none;\" d=\"M 1.109375 0 L 1.109375 -8.25 L 2.234375 -8.25 L 2.234375 0 Z M 1.109375 0 \"/>\n",
       "</symbol>\n",
       "<symbol overflow=\"visible\" id=\"glyph0-7\">\n",
       "<path style=\"stroke:none;\" d=\"M 4.828125 0 L 4.828125 -4.015625 C 4.828125 -4.328125 4.804688 -4.585938 4.765625 -4.796875 C 4.722656 -5.003906 4.648438 -5.171875 4.546875 -5.296875 C 4.441406 -5.421875 4.304688 -5.507812 4.140625 -5.5625 C 3.972656 -5.613281 3.769531 -5.640625 3.53125 -5.640625 C 3.28125 -5.640625 3.050781 -5.59375 2.84375 -5.5 C 2.644531 -5.414062 2.472656 -5.289062 2.328125 -5.125 C 2.191406 -4.957031 2.082031 -4.753906 2 -4.515625 C 1.925781 -4.273438 1.890625 -3.992188 1.890625 -3.671875 L 1.890625 0 L 0.828125 0 L 0.828125 -4.984375 C 0.828125 -5.117188 0.828125 -5.257812 0.828125 -5.40625 C 0.828125 -5.550781 0.820312 -5.6875 0.8125 -5.8125 C 0.8125 -5.945312 0.804688 -6.0625 0.796875 -6.15625 C 0.796875 -6.25 0.796875 -6.3125 0.796875 -6.34375 L 1.796875 -6.34375 C 1.796875 -6.320312 1.796875 -6.265625 1.796875 -6.171875 C 1.804688 -6.085938 1.8125 -5.988281 1.8125 -5.875 C 1.820312 -5.769531 1.828125 -5.660156 1.828125 -5.546875 C 1.835938 -5.429688 1.84375 -5.332031 1.84375 -5.25 L 1.859375 -5.25 C 1.960938 -5.4375 2.070312 -5.601562 2.1875 -5.75 C 2.3125 -5.90625 2.453125 -6.03125 2.609375 -6.125 C 2.773438 -6.226562 2.957031 -6.304688 3.15625 -6.359375 C 3.363281 -6.421875 3.609375 -6.453125 3.890625 -6.453125 C 4.234375 -6.453125 4.53125 -6.410156 4.78125 -6.328125 C 5.039062 -6.242188 5.253906 -6.109375 5.421875 -5.921875 C 5.585938 -5.742188 5.707031 -5.515625 5.78125 -5.234375 C 5.851562 -4.953125 5.890625 -4.613281 5.890625 -4.21875 L 5.890625 0 Z M 4.828125 0 \"/>\n",
       "</symbol>\n",
       "<symbol overflow=\"visible\" id=\"glyph0-8\">\n",
       "<path style=\"stroke:none;\" d=\"M 4.8125 -1.015625 C 4.613281 -0.609375 4.351562 -0.316406 4.03125 -0.140625 C 3.707031 0.0351562 3.3125 0.125 2.84375 0.125 C 2.039062 0.125 1.445312 -0.144531 1.0625 -0.6875 C 0.6875 -1.226562 0.5 -2.046875 0.5 -3.140625 C 0.5 -5.347656 1.28125 -6.453125 2.84375 -6.453125 C 3.320312 -6.453125 3.71875 -6.363281 4.03125 -6.1875 C 4.351562 -6.019531 4.613281 -5.742188 4.8125 -5.359375 L 4.828125 -5.359375 C 4.828125 -5.398438 4.820312 -5.460938 4.8125 -5.546875 C 4.8125 -5.628906 4.8125 -5.710938 4.8125 -5.796875 C 4.8125 -5.890625 4.8125 -5.976562 4.8125 -6.0625 C 4.8125 -6.144531 4.8125 -6.203125 4.8125 -6.234375 L 4.8125 -8.703125 L 5.859375 -8.703125 L 5.859375 -1.3125 C 5.859375 -1.15625 5.859375 -1.003906 5.859375 -0.859375 C 5.867188 -0.722656 5.875 -0.597656 5.875 -0.484375 C 5.882812 -0.367188 5.890625 -0.265625 5.890625 -0.171875 C 5.890625 -0.0859375 5.894531 -0.03125 5.90625 0 L 4.890625 0 C 4.878906 -0.0390625 4.867188 -0.0976562 4.859375 -0.171875 C 4.859375 -0.242188 4.851562 -0.328125 4.84375 -0.421875 C 4.84375 -0.515625 4.835938 -0.613281 4.828125 -0.71875 C 4.828125 -0.820312 4.828125 -0.921875 4.828125 -1.015625 Z M 1.609375 -3.171875 C 1.609375 -2.734375 1.632812 -2.359375 1.6875 -2.046875 C 1.75 -1.734375 1.835938 -1.476562 1.953125 -1.28125 C 2.078125 -1.082031 2.234375 -0.9375 2.421875 -0.84375 C 2.609375 -0.75 2.835938 -0.703125 3.109375 -0.703125 C 3.378906 -0.703125 3.617188 -0.742188 3.828125 -0.828125 C 4.046875 -0.921875 4.226562 -1.066406 4.375 -1.265625 C 4.519531 -1.472656 4.628906 -1.738281 4.703125 -2.0625 C 4.773438 -2.382812 4.8125 -2.78125 4.8125 -3.25 C 4.8125 -3.695312 4.773438 -4.078125 4.703125 -4.390625 C 4.628906 -4.703125 4.519531 -4.953125 4.375 -5.140625 C 4.226562 -5.328125 4.050781 -5.460938 3.84375 -5.546875 C 3.632812 -5.628906 3.394531 -5.671875 3.125 -5.671875 C 2.863281 -5.671875 2.640625 -5.625 2.453125 -5.53125 C 2.265625 -5.445312 2.109375 -5.304688 1.984375 -5.109375 C 1.859375 -4.910156 1.765625 -4.648438 1.703125 -4.328125 C 1.640625 -4.015625 1.609375 -3.628906 1.609375 -3.171875 Z M 1.609375 -3.171875 \"/>\n",
       "</symbol>\n",
       "<symbol overflow=\"visible\" id=\"glyph0-9\">\n",
       "<path style=\"stroke:none;\" d=\"M 1.625 -2.953125 C 1.625 -2.617188 1.65625 -2.3125 1.71875 -2.03125 C 1.789062 -1.75 1.894531 -1.507812 2.03125 -1.3125 C 2.175781 -1.113281 2.359375 -0.957031 2.578125 -0.84375 C 2.804688 -0.726562 3.078125 -0.671875 3.390625 -0.671875 C 3.847656 -0.671875 4.210938 -0.757812 4.484375 -0.9375 C 4.765625 -1.125 4.953125 -1.359375 5.046875 -1.640625 L 5.96875 -1.390625 C 5.90625 -1.210938 5.8125 -1.035156 5.6875 -0.859375 C 5.570312 -0.679688 5.414062 -0.519531 5.21875 -0.375 C 5.019531 -0.226562 4.769531 -0.109375 4.46875 -0.015625 C 4.164062 0.078125 3.804688 0.125 3.390625 0.125 C 2.453125 0.125 1.738281 -0.15625 1.25 -0.71875 C 0.757812 -1.28125 0.515625 -2.113281 0.515625 -3.21875 C 0.515625 -3.8125 0.585938 -4.3125 0.734375 -4.71875 C 0.878906 -5.132812 1.082031 -5.46875 1.34375 -5.71875 C 1.601562 -5.976562 1.90625 -6.164062 2.25 -6.28125 C 2.59375 -6.394531 2.957031 -6.453125 3.34375 -6.453125 C 3.875 -6.453125 4.316406 -6.363281 4.671875 -6.1875 C 5.035156 -6.019531 5.320312 -5.785156 5.53125 -5.484375 C 5.75 -5.179688 5.90625 -4.820312 6 -4.40625 C 6.09375 -4 6.140625 -3.5625 6.140625 -3.09375 L 6.140625 -2.953125 Z M 5.046875 -3.75 C 4.992188 -4.425781 4.828125 -4.914062 4.546875 -5.21875 C 4.265625 -5.519531 3.859375 -5.671875 3.328125 -5.671875 C 3.148438 -5.671875 2.960938 -5.644531 2.765625 -5.59375 C 2.578125 -5.539062 2.398438 -5.441406 2.234375 -5.296875 C 2.078125 -5.148438 1.941406 -4.953125 1.828125 -4.703125 C 1.710938 -4.453125 1.644531 -4.132812 1.625 -3.75 Z M 5.046875 -3.75 \"/>\n",
       "</symbol>\n",
       "<symbol overflow=\"visible\" id=\"glyph0-10\">\n",
       "<path style=\"stroke:none;\" d=\"M 4.6875 0 L 2.984375 -2.609375 L 1.265625 0 L 0.140625 0 L 2.390625 -3.265625 L 0.234375 -6.34375 L 1.40625 -6.34375 L 2.984375 -3.875 L 4.5625 -6.34375 L 5.734375 -6.34375 L 3.59375 -3.265625 L 5.875 0 Z M 4.6875 0 \"/>\n",
       "</symbol>\n",
       "<symbol overflow=\"visible\" id=\"glyph1-0\">\n",
       "<path style=\"stroke:none;\" d=\"M 0 -0.40625 L -8 -0.40625 L -8 -3.59375 L 0 -3.59375 Z M -0.40625 -0.796875 L -0.40625 -3.1875 L -7.59375 -3.1875 L -7.59375 -0.796875 Z M -0.40625 -0.796875 \"/>\n",
       "</symbol>\n",
       "<symbol overflow=\"visible\" id=\"glyph1-1\">\n",
       "<path style=\"stroke:none;\" d=\"M -2.71875 -0.53125 L -3.65625 -0.53125 L -3.65625 -3.46875 L -2.71875 -3.46875 Z M -2.71875 -0.53125 \"/>\n",
       "</symbol>\n",
       "<symbol overflow=\"visible\" id=\"glyph1-2\">\n",
       "<path style=\"stroke:none;\" d=\"M -2.6875 -6.171875 C -2.269531 -6.171875 -1.890625 -6.109375 -1.546875 -5.984375 C -1.203125 -5.859375 -0.90625 -5.671875 -0.65625 -5.421875 C -0.414062 -5.179688 -0.222656 -4.878906 -0.078125 -4.515625 C 0.0546875 -4.148438 0.125 -3.722656 0.125 -3.234375 C 0.125 -2.804688 0.0703125 -2.429688 -0.03125 -2.109375 C -0.132812 -1.785156 -0.273438 -1.507812 -0.453125 -1.28125 C -0.628906 -1.0625 -0.835938 -0.882812 -1.078125 -0.75 C -1.316406 -0.625 -1.570312 -0.535156 -1.84375 -0.484375 L -1.96875 -1.546875 C -1.8125 -1.585938 -1.660156 -1.644531 -1.515625 -1.71875 C -1.367188 -1.800781 -1.238281 -1.910156 -1.125 -2.046875 C -1.007812 -2.179688 -0.914062 -2.347656 -0.84375 -2.546875 C -0.78125 -2.742188 -0.75 -2.984375 -0.75 -3.265625 C -0.75 -3.535156 -0.789062 -3.78125 -0.875 -4 C -0.957031 -4.226562 -1.078125 -4.421875 -1.234375 -4.578125 C -1.398438 -4.734375 -1.601562 -4.851562 -1.84375 -4.9375 C -2.082031 -5.03125 -2.359375 -5.078125 -2.671875 -5.078125 C -2.921875 -5.078125 -3.148438 -5.035156 -3.359375 -4.953125 C -3.578125 -4.867188 -3.765625 -4.75 -3.921875 -4.59375 C -4.078125 -4.445312 -4.195312 -4.257812 -4.28125 -4.03125 C -4.363281 -3.8125 -4.40625 -3.5625 -4.40625 -3.28125 C -4.40625 -3.113281 -4.390625 -2.953125 -4.359375 -2.796875 C -4.328125 -2.648438 -4.285156 -2.515625 -4.234375 -2.390625 C -4.179688 -2.265625 -4.117188 -2.148438 -4.046875 -2.046875 C -3.972656 -1.941406 -3.894531 -1.84375 -3.8125 -1.75 L -3.8125 -0.71875 L -8.25 -1 L -8.25 -5.6875 L -7.359375 -5.6875 L -7.359375 -1.953125 L -4.734375 -1.796875 C -4.878906 -1.984375 -5.003906 -2.21875 -5.109375 -2.5 C -5.210938 -2.78125 -5.265625 -3.113281 -5.265625 -3.5 C -5.265625 -3.914062 -5.203125 -4.285156 -5.078125 -4.609375 C -4.953125 -4.941406 -4.773438 -5.222656 -4.546875 -5.453125 C -4.316406 -5.679688 -4.046875 -5.859375 -3.734375 -5.984375 C -3.421875 -6.109375 -3.070312 -6.171875 -2.6875 -6.171875 Z M -2.6875 -6.171875 \"/>\n",
       "</symbol>\n",
       "<symbol overflow=\"visible\" id=\"glyph1-3\">\n",
       "<path style=\"stroke:none;\" d=\"M -4.125 -6.203125 C -3.332031 -6.203125 -2.664062 -6.125 -2.125 -5.96875 C -1.582031 -5.820312 -1.144531 -5.617188 -0.8125 -5.359375 C -0.476562 -5.097656 -0.238281 -4.789062 -0.09375 -4.4375 C 0.0507812 -4.09375 0.125 -3.722656 0.125 -3.328125 C 0.125 -2.921875 0.0507812 -2.539062 -0.09375 -2.1875 C -0.238281 -1.84375 -0.476562 -1.539062 -0.8125 -1.28125 C -1.144531 -1.03125 -1.582031 -0.832031 -2.125 -0.6875 C -2.664062 -0.539062 -3.332031 -0.46875 -4.125 -0.46875 C -4.957031 -0.46875 -5.644531 -0.539062 -6.1875 -0.6875 C -6.738281 -0.832031 -7.175781 -1.035156 -7.5 -1.296875 C -7.820312 -1.554688 -8.046875 -1.859375 -8.171875 -2.203125 C -8.304688 -2.554688 -8.375 -2.941406 -8.375 -3.359375 C -8.375 -3.753906 -8.304688 -4.125 -8.171875 -4.46875 C -8.046875 -4.8125 -7.820312 -5.113281 -7.5 -5.375 C -7.175781 -5.632812 -6.738281 -5.835938 -6.1875 -5.984375 C -5.644531 -6.128906 -4.957031 -6.203125 -4.125 -6.203125 Z M -4.125 -5.140625 C -4.78125 -5.140625 -5.328125 -5.097656 -5.765625 -5.015625 C -6.203125 -4.941406 -6.550781 -4.828125 -6.8125 -4.671875 C -7.070312 -4.515625 -7.253906 -4.328125 -7.359375 -4.109375 C -7.472656 -3.890625 -7.53125 -3.640625 -7.53125 -3.359375 C -7.53125 -3.054688 -7.472656 -2.789062 -7.359375 -2.5625 C -7.253906 -2.34375 -7.070312 -2.15625 -6.8125 -2 C -6.550781 -1.84375 -6.203125 -1.722656 -5.765625 -1.640625 C -5.328125 -1.566406 -4.78125 -1.53125 -4.125 -1.53125 C -3.5 -1.53125 -2.96875 -1.570312 -2.53125 -1.65625 C -2.09375 -1.738281 -1.742188 -1.851562 -1.484375 -2 C -1.222656 -2.15625 -1.035156 -2.34375 -0.921875 -2.5625 C -0.804688 -2.789062 -0.75 -3.046875 -0.75 -3.328125 C -0.75 -3.609375 -0.804688 -3.859375 -0.921875 -4.078125 C -1.035156 -4.304688 -1.222656 -4.492188 -1.484375 -4.640625 C -1.742188 -4.796875 -2.09375 -4.914062 -2.53125 -5 C -2.96875 -5.09375 -3.5 -5.140625 -4.125 -5.140625 Z M -4.125 -5.140625 \"/>\n",
       "</symbol>\n",
       "<symbol overflow=\"visible\" id=\"glyph1-4\">\n",
       "<path style=\"stroke:none;\" d=\"M 0 -0.921875 L -0.890625 -0.921875 L -0.890625 -3.015625 L -7.25 -3.015625 L -5.921875 -1.15625 L -6.921875 -1.15625 L -8.25 -3.109375 L -8.25 -4.078125 L -0.890625 -4.078125 L -0.890625 -6.09375 L 0 -6.09375 Z M 0 -0.921875 \"/>\n",
       "</symbol>\n",
       "<symbol overflow=\"visible\" id=\"glyph1-5\">\n",
       "<path style=\"stroke:none;\" d=\"M 0 -3.59375 L 0 -2.34375 L -6.34375 -0.046875 L -6.34375 -1.171875 L -2.21875 -2.5625 C -2.132812 -2.59375 -2.03125 -2.625 -1.90625 -2.65625 C -1.78125 -2.695312 -1.648438 -2.734375 -1.515625 -2.765625 C -1.378906 -2.804688 -1.25 -2.84375 -1.125 -2.875 C -1.007812 -2.914062 -0.910156 -2.945312 -0.828125 -2.96875 C -0.910156 -2.988281 -1.007812 -3.015625 -1.125 -3.046875 C -1.25 -3.085938 -1.375 -3.128906 -1.5 -3.171875 C -1.632812 -3.210938 -1.765625 -3.253906 -1.890625 -3.296875 C -2.015625 -3.335938 -2.117188 -3.375 -2.203125 -3.40625 L -6.34375 -4.84375 L -6.34375 -5.953125 Z M 0 -3.59375 \"/>\n",
       "</symbol>\n",
       "<symbol overflow=\"visible\" id=\"glyph1-6\">\n",
       "<path style=\"stroke:none;\" d=\"M 0.125 -2.421875 C 0.125 -1.785156 -0.0390625 -1.304688 -0.375 -0.984375 C -0.71875 -0.671875 -1.179688 -0.515625 -1.765625 -0.515625 C -2.179688 -0.515625 -2.523438 -0.59375 -2.796875 -0.75 C -3.066406 -0.90625 -3.273438 -1.109375 -3.421875 -1.359375 C -3.578125 -1.617188 -3.679688 -1.910156 -3.734375 -2.234375 C -3.796875 -2.566406 -3.832031 -2.90625 -3.84375 -3.25 L -3.875 -4.671875 L -4.21875 -4.671875 C -4.476562 -4.671875 -4.695312 -4.640625 -4.875 -4.578125 C -5.0625 -4.523438 -5.210938 -4.441406 -5.328125 -4.328125 C -5.441406 -4.222656 -5.523438 -4.082031 -5.578125 -3.90625 C -5.628906 -3.738281 -5.65625 -3.539062 -5.65625 -3.3125 C -5.65625 -3.101562 -5.640625 -2.914062 -5.609375 -2.75 C -5.578125 -2.59375 -5.523438 -2.453125 -5.453125 -2.328125 C -5.378906 -2.210938 -5.273438 -2.113281 -5.140625 -2.03125 C -5.015625 -1.957031 -4.847656 -1.910156 -4.640625 -1.890625 L -4.75 -0.796875 C -5 -0.828125 -5.226562 -0.894531 -5.4375 -1 C -5.644531 -1.113281 -5.820312 -1.269531 -5.96875 -1.46875 C -6.125 -1.675781 -6.242188 -1.929688 -6.328125 -2.234375 C -6.410156 -2.535156 -6.453125 -2.898438 -6.453125 -3.328125 C -6.453125 -4.128906 -6.269531 -4.726562 -5.90625 -5.125 C -5.539062 -5.53125 -5.015625 -5.734375 -4.328125 -5.734375 L -1.59375 -5.734375 C -1.28125 -5.734375 -1.046875 -5.773438 -0.890625 -5.859375 C -0.734375 -5.941406 -0.65625 -6.097656 -0.65625 -6.328125 C -0.65625 -6.390625 -0.65625 -6.445312 -0.65625 -6.5 C -0.664062 -6.5625 -0.675781 -6.617188 -0.6875 -6.671875 L -0.03125 -6.671875 C 0 -6.535156 0.0195312 -6.398438 0.03125 -6.265625 C 0.0507812 -6.140625 0.0625 -6.003906 0.0625 -5.859375 C 0.0625 -5.660156 0.0351562 -5.488281 -0.015625 -5.34375 C -0.0664062 -5.207031 -0.144531 -5.09375 -0.25 -5 C -0.363281 -4.90625 -0.5 -4.832031 -0.65625 -4.78125 C -0.8125 -4.738281 -1 -4.710938 -1.21875 -4.703125 L -1.21875 -4.671875 C -1.007812 -4.554688 -0.820312 -4.429688 -0.65625 -4.296875 C -0.5 -4.160156 -0.363281 -4.003906 -0.25 -3.828125 C -0.132812 -3.648438 -0.046875 -3.445312 0.015625 -3.21875 C 0.0859375 -2.988281 0.125 -2.722656 0.125 -2.421875 Z M -0.671875 -2.671875 C -0.671875 -3.003906 -0.734375 -3.296875 -0.859375 -3.546875 C -0.984375 -3.796875 -1.140625 -4.003906 -1.328125 -4.171875 C -1.523438 -4.335938 -1.734375 -4.460938 -1.953125 -4.546875 C -2.179688 -4.628906 -2.398438 -4.671875 -2.609375 -4.671875 L -3.125 -4.671875 L -3.109375 -3.515625 C -3.097656 -3.253906 -3.078125 -3.007812 -3.046875 -2.78125 C -3.015625 -2.550781 -2.945312 -2.347656 -2.84375 -2.171875 C -2.75 -1.992188 -2.613281 -1.851562 -2.4375 -1.75 C -2.269531 -1.644531 -2.039062 -1.59375 -1.75 -1.59375 C -1.40625 -1.59375 -1.140625 -1.6875 -0.953125 -1.875 C -0.765625 -2.0625 -0.671875 -2.328125 -0.671875 -2.671875 Z M -0.671875 -2.671875 \"/>\n",
       "</symbol>\n",
       "<symbol overflow=\"visible\" id=\"glyph1-7\">\n",
       "<path style=\"stroke:none;\" d=\"M 0 -0.8125 L -8.703125 -0.8125 L -8.703125 -1.859375 L 0 -1.859375 Z M 0 -0.8125 \"/>\n",
       "</symbol>\n",
       "</g>\n",
       "</defs>\n",
       "<g id=\"surface333\">\n",
       "<rect x=\"0\" y=\"0\" width=\"504\" height=\"504\" style=\"fill:rgb(100%,100%,100%);fill-opacity:1;stroke:none;\"/>\n",
       "<path style=\"fill:none;stroke-width:0.75;stroke-linecap:round;stroke-linejoin:round;stroke:rgb(0%,0%,0%);stroke-opacity:1;stroke-miterlimit:10;\" d=\"M 74.398438 243.574219 L 75.335938 249.660156 L 76.269531 256.964844 L 77.203125 230.988281 L 78.136719 223.976562 L 79.070312 200.542969 L 80.003906 220.597656 L 80.941406 237.460938 L 81.875 232.058594 L 82.808594 236.792969 L 83.742188 226.414062 L 84.675781 249.46875 L 85.613281 273.078125 L 86.546875 278.402344 L 87.480469 293.011719 L 88.414062 297.890625 L 89.347656 263.308594 L 90.285156 258.085938 L 91.21875 279.023438 L 92.152344 275.648438 L 93.085938 268.707031 L 94.019531 281.585938 L 94.953125 287.445312 L 95.890625 277.738281 L 96.824219 263.617188 L 97.757812 273.066406 L 98.691406 277.273438 L 99.625 270.394531 L 100.5625 280.984375 L 101.496094 259.882812 L 102.429688 237.578125 L 103.363281 247.046875 L 104.296875 276.847656 L 105.230469 267.59375 L 106.167969 253.136719 L 107.101562 261.882812 L 108.035156 251.675781 L 108.96875 250.246094 L 109.902344 246.492188 L 110.839844 236.671875 L 111.773438 240.996094 L 112.707031 217.46875 L 113.640625 214.066406 L 114.574219 227.300781 L 115.507812 217.484375 L 116.445312 230.277344 L 117.378906 201.566406 L 118.3125 189.808594 L 119.246094 181.359375 L 120.179688 206.960938 L 121.117188 173.886719 L 122.050781 192.179688 L 122.984375 195.492188 L 123.917969 204.195312 L 124.851562 193.261719 L 125.785156 209.085938 L 126.722656 225.5 L 127.65625 218.09375 L 128.589844 245.453125 L 129.523438 262.691406 L 130.457031 275.640625 L 131.394531 283.570312 L 132.328125 262.921875 L 133.261719 251.710938 L 134.195312 262.730469 L 135.128906 257.324219 L 136.0625 256.890625 L 137 247.648438 L 137.933594 259.753906 L 138.867188 270.804688 L 139.800781 282.601562 L 140.734375 259.859375 L 141.671875 238.40625 L 142.605469 221.859375 L 143.539062 233.859375 L 144.472656 216.082031 L 145.40625 183.277344 L 146.339844 162.632812 L 147.277344 170.851562 L 148.210938 137.488281 L 149.144531 128.546875 L 150.078125 142.3125 L 151.011719 137.566406 L 151.949219 148.984375 L 152.882812 149.695312 L 153.816406 192.265625 L 154.75 197.265625 L 155.683594 210.769531 L 156.617188 273.828125 L 157.554688 290.808594 L 158.488281 279.195312 L 159.421875 286.972656 L 160.355469 280.945312 L 161.289062 291.59375 L 162.226562 272.609375 L 163.160156 288.695312 L 164.09375 278.125 L 165.027344 314.558594 L 165.960938 306.277344 L 166.894531 330.976562 L 167.832031 303.039062 L 168.765625 302.464844 L 169.699219 329.726562 L 170.632812 304.140625 L 171.566406 289.464844 L 172.503906 309.441406 L 173.4375 327.207031 L 174.371094 334.800781 L 175.304688 358.332031 L 176.238281 335.4375 L 177.171875 294.460938 L 178.109375 301.613281 L 179.042969 322.097656 L 179.976562 332.546875 L 180.910156 375.5 L 181.84375 363.011719 L 182.78125 372.96875 L 183.714844 353.894531 L 184.648438 345.71875 L 185.582031 356.066406 L 186.515625 317.246094 L 187.449219 320.828125 L 188.386719 309.386719 L 189.320312 307.757812 L 190.253906 289.917969 L 191.1875 309.78125 L 192.121094 297.972656 L 193.058594 334.726562 L 193.992188 331.25 L 194.925781 322.164062 L 195.859375 286.707031 L 196.792969 251.273438 L 197.726562 285.738281 L 198.664062 284.738281 L 199.597656 310.832031 L 200.53125 286.460938 L 201.464844 295.003906 L 202.398438 295.351562 L 203.335938 292.363281 L 204.269531 294.660156 L 205.203125 299.472656 L 206.136719 302.164062 L 207.070312 331.855469 L 208.003906 339.207031 L 208.941406 334.464844 L 209.875 328.121094 L 210.808594 346.085938 L 211.742188 315.453125 L 212.675781 344.953125 L 213.613281 336.597656 L 214.546875 312.535156 L 215.480469 306.316406 L 216.414062 282.691406 L 217.347656 272.585938 L 218.285156 269.644531 L 219.21875 276.351562 L 220.152344 270.28125 L 221.085938 273.394531 L 222.019531 272.371094 L 222.953125 266.890625 L 223.890625 241.902344 L 224.824219 254.039062 L 225.757812 272.652344 L 226.691406 269.929688 L 227.625 296.402344 L 228.5625 336.621094 L 229.496094 328.125 L 230.429688 311.902344 L 231.363281 280.144531 L 232.296875 275.15625 L 233.230469 252.003906 L 234.167969 259.613281 L 235.101562 272.09375 L 236.035156 282.332031 L 236.96875 282.4375 L 237.902344 265.996094 L 238.839844 272.058594 L 239.773438 293.4375 L 240.707031 302.992188 L 241.640625 275.253906 L 242.574219 268.621094 L 243.507812 227.3125 L 244.445312 256.339844 L 245.378906 239.957031 L 246.3125 249.535156 L 247.246094 238.171875 L 248.179688 189.011719 L 249.117188 205.007812 L 250.050781 207.4375 L 250.984375 188.757812 L 251.917969 199.0625 L 252.851562 187.886719 L 253.785156 155.574219 L 254.722656 170.84375 L 255.65625 181.675781 L 256.589844 190.300781 L 257.523438 198.679688 L 258.457031 169.300781 L 259.394531 197.554688 L 260.328125 190.644531 L 261.261719 210.265625 L 262.195312 224.375 L 263.128906 243.855469 L 264.0625 265.53125 L 265 246.671875 L 265.933594 231.230469 L 266.867188 242.167969 L 267.800781 255.875 L 268.734375 267.898438 L 269.671875 294.152344 L 270.605469 272.195312 L 271.539062 304.464844 L 272.472656 326.425781 L 273.40625 302.984375 L 274.339844 329.308594 L 275.277344 323.390625 L 276.210938 344.339844 L 277.144531 345.101562 L 278.078125 323.078125 L 279.011719 296.066406 L 279.949219 307.265625 L 280.882812 318.109375 L 281.816406 365.503906 L 282.75 390.761719 L 283.683594 390.609375 L 284.617188 355.101562 L 285.554688 335.257812 L 286.488281 342.75 L 287.421875 347.117188 L 288.355469 324.445312 L 289.289062 324.738281 L 290.226562 315.785156 L 291.160156 332.566406 L 292.09375 334.355469 L 293.027344 339.402344 L 293.960938 318.535156 L 294.894531 349.710938 L 295.832031 376.101562 L 296.765625 383.367188 L 297.699219 410.488281 L 298.632812 416.800781 L 299.566406 387.242188 L 300.503906 383.414062 L 301.4375 369.0625 L 302.371094 367.953125 L 303.304688 395.960938 L 304.238281 404.902344 L 305.171875 402.042969 L 306.109375 413.742188 L 307.042969 408.167969 L 307.976562 392.222656 L 308.910156 388.167969 L 309.84375 393.453125 L 310.78125 371.578125 L 311.714844 335.636719 L 312.648438 323.414062 L 313.582031 316.082031 L 314.515625 312.15625 L 315.449219 295.226562 L 316.386719 283.085938 L 317.320312 259.933594 L 318.253906 229.402344 L 319.1875 235.648438 L 320.121094 239.613281 L 321.058594 230.113281 L 321.992188 229.96875 L 322.925781 180.226562 L 323.859375 177.191406 L 324.792969 192.039062 L 325.726562 177.648438 L 326.664062 146.617188 L 327.597656 146.410156 L 328.53125 156.042969 L 329.464844 147.09375 L 330.398438 135.363281 L 331.335938 121.785156 L 332.269531 129.027344 L 333.203125 140.703125 L 334.136719 136.453125 L 335.070312 147.90625 L 336.003906 134.28125 L 336.941406 116.675781 L 337.875 97.863281 L 338.808594 111.671875 L 339.742188 109.328125 L 340.675781 138.796875 L 341.613281 134.90625 L 342.546875 124.5625 L 343.480469 146.96875 L 344.414062 167.582031 L 345.347656 193.097656 L 346.285156 216.5 L 347.21875 220.902344 L 348.152344 243.183594 L 349.085938 238.722656 L 350.019531 266.785156 L 350.953125 279.996094 L 351.890625 259.253906 L 352.824219 285.492188 L 353.757812 284.558594 L 354.691406 284.964844 L 355.625 289.058594 L 356.5625 272.867188 L 357.496094 276.722656 L 358.429688 261.011719 L 359.363281 259.90625 L 360.296875 282.734375 L 361.230469 282.421875 L 362.167969 300.855469 L 363.101562 314.457031 L 364.035156 301.050781 L 364.96875 299.523438 L 365.902344 333.5625 L 366.839844 308.855469 L 367.773438 282.089844 L 368.707031 320.535156 L 369.640625 331.003906 L 370.574219 344.902344 L 371.507812 338.628906 L 372.445312 307.722656 L 373.378906 284.21875 L 374.3125 282.933594 L 375.246094 266.210938 L 376.179688 230.066406 L 377.117188 215.820312 L 378.050781 216.941406 L 378.984375 235.59375 L 379.917969 235.484375 L 380.851562 202.796875 L 381.785156 201.71875 L 382.722656 187.964844 L 383.65625 189 L 384.589844 205.320312 L 385.523438 244.375 L 386.457031 228.839844 L 387.394531 260.539062 L 388.328125 234.027344 L 389.261719 235.464844 L 390.195312 234.773438 L 391.128906 275.558594 L 392.0625 273.191406 L 393 283.960938 L 393.933594 256.085938 L 394.867188 206.671875 L 395.800781 181.296875 L 396.734375 158.175781 L 397.671875 163.371094 L 398.605469 186.066406 L 399.539062 156.011719 L 400.472656 148.628906 L 401.40625 168.480469 L 402.339844 174.910156 L 403.277344 183.992188 L 404.210938 222.546875 L 405.144531 223.519531 L 406.078125 218.171875 L 407.011719 243.15625 L 407.949219 264.984375 L 408.882812 255.5625 L 409.816406 282.234375 L 410.75 306.199219 L 411.683594 297.6875 L 412.617188 276.175781 L 413.554688 255.015625 L 414.488281 254.28125 L 415.421875 254.976562 L 416.355469 252.367188 L 417.289062 209.375 L 418.226562 206.667969 L 419.160156 199.292969 L 420.09375 193.679688 L 421.027344 195.25 L 421.960938 179.152344 L 422.894531 153.117188 L 423.832031 163.976562 L 424.765625 184.898438 L 425.699219 193.441406 L 426.632812 215.683594 L 427.566406 199.117188 L 428.503906 191.328125 L 429.4375 180.484375 L 430.371094 141.195312 L 431.304688 144.5 L 432.238281 157.875 L 433.171875 146.839844 L 434.109375 145.125 L 435.042969 145.425781 L 435.976562 153.058594 L 436.910156 144.28125 L 437.84375 152.394531 L 438.78125 124.90625 L 439.714844 116.472656 L 440.648438 129.964844 L 441.582031 122.472656 L 442.515625 115.253906 L 443.449219 119.582031 L 444.386719 144.261719 L 445.320312 161.464844 L 446.253906 165.179688 L 447.1875 155.703125 L 448.121094 164.96875 L 449.058594 187.792969 L 449.992188 223.296875 L 450.925781 201.34375 L 451.859375 168.628906 L 452.792969 126.347656 L 453.726562 124.207031 L 454.664062 107.835938 L 455.597656 104.035156 L 456.53125 96.351562 L 457.464844 90.785156 L 458.398438 72.800781 \"/>\n",
       "<path style=\"fill:none;stroke-width:0.75;stroke-linecap:round;stroke-linejoin:round;stroke:rgb(0%,0%,0%);stroke-opacity:1;stroke-miterlimit:10;\" d=\"M 73.464844 430.558594 L 447.1875 430.558594 \"/>\n",
       "<path style=\"fill:none;stroke-width:0.75;stroke-linecap:round;stroke-linejoin:round;stroke:rgb(0%,0%,0%);stroke-opacity:1;stroke-miterlimit:10;\" d=\"M 73.464844 430.558594 L 73.464844 437.761719 \"/>\n",
       "<path style=\"fill:none;stroke-width:0.75;stroke-linecap:round;stroke-linejoin:round;stroke:rgb(0%,0%,0%);stroke-opacity:1;stroke-miterlimit:10;\" d=\"M 166.894531 430.558594 L 166.894531 437.761719 \"/>\n",
       "<path style=\"fill:none;stroke-width:0.75;stroke-linecap:round;stroke-linejoin:round;stroke:rgb(0%,0%,0%);stroke-opacity:1;stroke-miterlimit:10;\" d=\"M 260.328125 430.558594 L 260.328125 437.761719 \"/>\n",
       "<path style=\"fill:none;stroke-width:0.75;stroke-linecap:round;stroke-linejoin:round;stroke:rgb(0%,0%,0%);stroke-opacity:1;stroke-miterlimit:10;\" d=\"M 353.757812 430.558594 L 353.757812 437.761719 \"/>\n",
       "<path style=\"fill:none;stroke-width:0.75;stroke-linecap:round;stroke-linejoin:round;stroke:rgb(0%,0%,0%);stroke-opacity:1;stroke-miterlimit:10;\" d=\"M 447.1875 430.558594 L 447.1875 437.761719 \"/>\n",
       "<g style=\"fill:rgb(0%,0%,0%);fill-opacity:1;\">\n",
       "  <use xlink:href=\"#glyph0-1\" x=\"69.964844\" y=\"456.34375\"/>\n",
       "</g>\n",
       "<g style=\"fill:rgb(0%,0%,0%);fill-opacity:1;\">\n",
       "  <use xlink:href=\"#glyph0-2\" x=\"156.394531\" y=\"456.34375\"/>\n",
       "  <use xlink:href=\"#glyph0-1\" x=\"163.394531\" y=\"456.34375\"/>\n",
       "  <use xlink:href=\"#glyph0-1\" x=\"170.394531\" y=\"456.34375\"/>\n",
       "</g>\n",
       "<g style=\"fill:rgb(0%,0%,0%);fill-opacity:1;\">\n",
       "  <use xlink:href=\"#glyph0-3\" x=\"249.828125\" y=\"456.34375\"/>\n",
       "  <use xlink:href=\"#glyph0-1\" x=\"256.828125\" y=\"456.34375\"/>\n",
       "  <use xlink:href=\"#glyph0-1\" x=\"263.828125\" y=\"456.34375\"/>\n",
       "</g>\n",
       "<g style=\"fill:rgb(0%,0%,0%);fill-opacity:1;\">\n",
       "  <use xlink:href=\"#glyph0-4\" x=\"343.257812\" y=\"456.34375\"/>\n",
       "  <use xlink:href=\"#glyph0-1\" x=\"350.257812\" y=\"456.34375\"/>\n",
       "  <use xlink:href=\"#glyph0-1\" x=\"357.257812\" y=\"456.34375\"/>\n",
       "</g>\n",
       "<g style=\"fill:rgb(0%,0%,0%);fill-opacity:1;\">\n",
       "  <use xlink:href=\"#glyph0-5\" x=\"436.6875\" y=\"456.34375\"/>\n",
       "  <use xlink:href=\"#glyph0-1\" x=\"443.6875\" y=\"456.34375\"/>\n",
       "  <use xlink:href=\"#glyph0-1\" x=\"450.6875\" y=\"456.34375\"/>\n",
       "</g>\n",
       "<path style=\"fill:none;stroke-width:0.75;stroke-linecap:round;stroke-linejoin:round;stroke:rgb(0%,0%,0%);stroke-opacity:1;stroke-miterlimit:10;\" d=\"M 59.039062 341.917969 L 59.039062 73.949219 \"/>\n",
       "<path style=\"fill:none;stroke-width:0.75;stroke-linecap:round;stroke-linejoin:round;stroke:rgb(0%,0%,0%);stroke-opacity:1;stroke-miterlimit:10;\" d=\"M 59.039062 341.917969 L 51.839844 341.917969 \"/>\n",
       "<path style=\"fill:none;stroke-width:0.75;stroke-linecap:round;stroke-linejoin:round;stroke:rgb(0%,0%,0%);stroke-opacity:1;stroke-miterlimit:10;\" d=\"M 59.039062 252.59375 L 51.839844 252.59375 \"/>\n",
       "<path style=\"fill:none;stroke-width:0.75;stroke-linecap:round;stroke-linejoin:round;stroke:rgb(0%,0%,0%);stroke-opacity:1;stroke-miterlimit:10;\" d=\"M 59.039062 163.273438 L 51.839844 163.273438 \"/>\n",
       "<path style=\"fill:none;stroke-width:0.75;stroke-linecap:round;stroke-linejoin:round;stroke:rgb(0%,0%,0%);stroke-opacity:1;stroke-miterlimit:10;\" d=\"M 59.039062 73.949219 L 51.839844 73.949219 \"/>\n",
       "<g style=\"fill:rgb(0%,0%,0%);fill-opacity:1;\">\n",
       "  <use xlink:href=\"#glyph1-1\" x=\"41.625\" y=\"347.417969\"/>\n",
       "  <use xlink:href=\"#glyph1-2\" x=\"41.625\" y=\"343.417969\"/>\n",
       "</g>\n",
       "<g style=\"fill:rgb(0%,0%,0%);fill-opacity:1;\">\n",
       "  <use xlink:href=\"#glyph1-3\" x=\"41.625\" y=\"256.09375\"/>\n",
       "</g>\n",
       "<g style=\"fill:rgb(0%,0%,0%);fill-opacity:1;\">\n",
       "  <use xlink:href=\"#glyph1-2\" x=\"41.625\" y=\"166.773438\"/>\n",
       "</g>\n",
       "<g style=\"fill:rgb(0%,0%,0%);fill-opacity:1;\">\n",
       "  <use xlink:href=\"#glyph1-4\" x=\"41.625\" y=\"80.949219\"/>\n",
       "  <use xlink:href=\"#glyph1-3\" x=\"41.625\" y=\"73.949219\"/>\n",
       "</g>\n",
       "<path style=\"fill:none;stroke-width:0.75;stroke-linecap:round;stroke-linejoin:round;stroke:rgb(0%,0%,0%);stroke-opacity:1;stroke-miterlimit:10;\" d=\"M 59.039062 430.558594 L 473.761719 430.558594 L 473.761719 59.039062 L 59.039062 59.039062 Z M 59.039062 430.558594 \"/>\n",
       "<g style=\"fill:rgb(0%,0%,0%);fill-opacity:1;\">\n",
       "  <use xlink:href=\"#glyph0-6\" x=\"251.398438\" y=\"485.144531\"/>\n",
       "  <use xlink:href=\"#glyph0-7\" x=\"254.398438\" y=\"485.144531\"/>\n",
       "  <use xlink:href=\"#glyph0-8\" x=\"261.398438\" y=\"485.144531\"/>\n",
       "  <use xlink:href=\"#glyph0-9\" x=\"268.398438\" y=\"485.144531\"/>\n",
       "  <use xlink:href=\"#glyph0-10\" x=\"275.398438\" y=\"485.144531\"/>\n",
       "</g>\n",
       "<g style=\"fill:rgb(0%,0%,0%);fill-opacity:1;\">\n",
       "  <use xlink:href=\"#glyph1-5\" x=\"12.824219\" y=\"252.800781\"/>\n",
       "  <use xlink:href=\"#glyph1-6\" x=\"12.824219\" y=\"246.800781\"/>\n",
       "  <use xlink:href=\"#glyph1-7\" x=\"12.824219\" y=\"239.800781\"/>\n",
       "</g>\n",
       "</g>\n",
       "</svg>\n"
      ],
      "text/plain": [
       "plot without title"
      ]
     },
     "metadata": {
      "application/pdf": {
       "height": 420,
       "width": 420
      },
      "image/jpeg": {
       "height": 420,
       "width": 420
      },
      "image/png": {
       "height": 420,
       "width": 420
      },
      "image/svg+xml": {
       "height": 420,
       "isolated": true,
       "width": 420
      }
     },
     "output_type": "display_data"
    }
   ],
   "source": [
    "maxIter = 1e3 # always limit the total iterations allowed\n",
    "val = c()\n",
    "val[1] = rnorm(1) ## initialize\n",
    "\n",
    "k = 1\n",
    "while (abs(val[k]) < 10 && k <= maxIter) {\n",
    "  val[k + 1] = val[k] + rnorm(1)\n",
    "  k = k + 1\n",
    "}\n",
    "val = val[1:k]\n",
    "\n",
    "plot(val, type = 'l')"
   ]
  },
  {
   "cell_type": "markdown",
   "metadata": {},
   "source": [
    "#### key words\n",
    "The following key words are useful within loops:\n",
    "\n",
    "- break - break out of the currently executing loop\n",
    "- next - move to the next iteration immediately, without executing the rest of this iteration (continue in other languages such as C++)\n",
    "\n",
    "Here is an example using next:"
   ]
  },
  {
   "cell_type": "code",
   "execution_count": 26,
   "metadata": {},
   "outputs": [
    {
     "name": "stdout",
     "output_type": "stream",
     "text": [
      "1 \n",
      "3 \n",
      "5 \n",
      "7 \n",
      "9 \n"
     ]
    }
   ],
   "source": [
    "for (i in 1:10 ) {\n",
    "  if (i %% 2 == 0) next\n",
    "  cat(i,'\\n')\n",
    "}"
   ]
  },
  {
   "cell_type": "markdown",
   "metadata": {},
   "source": [
    "`break` example"
   ]
  },
  {
   "cell_type": "code",
   "execution_count": 93,
   "metadata": {},
   "outputs": [
    {
     "data": {
      "application/pdf": "[encoded data removed]",
      "image/jpeg": "[encoded data removed]",
      "image/png": "[encoded data removed]",
      "image/svg+xml": [
       "<?xml version=\"1.0\" encoding=\"UTF-8\"?>\n",
       "<svg xmlns=\"http://www.w3.org/2000/svg\" xmlns:xlink=\"http://www.w3.org/1999/xlink\" width=\"504pt\" height=\"504pt\" viewBox=\"0 0 504 504\" version=\"1.1\">\n",
       "<defs>\n",
       "<g>\n",
       "<symbol overflow=\"visible\" id=\"glyph0-0\">\n",
       "<path style=\"stroke:none;\" d=\"M 0.40625 0 L 0.40625 -8 L 3.59375 -8 L 3.59375 0 Z M 0.796875 -0.40625 L 3.1875 -0.40625 L 3.1875 -7.59375 L 0.796875 -7.59375 Z M 0.796875 -0.40625 \"/>\n",
       "</symbol>\n",
       "<symbol overflow=\"visible\" id=\"glyph0-1\">\n",
       "<path style=\"stroke:none;\" d=\"M 6.203125 -4.125 C 6.203125 -3.332031 6.125 -2.664062 5.96875 -2.125 C 5.820312 -1.582031 5.617188 -1.144531 5.359375 -0.8125 C 5.097656 -0.476562 4.789062 -0.238281 4.4375 -0.09375 C 4.09375 0.0507812 3.722656 0.125 3.328125 0.125 C 2.921875 0.125 2.539062 0.0507812 2.1875 -0.09375 C 1.84375 -0.238281 1.539062 -0.476562 1.28125 -0.8125 C 1.03125 -1.144531 0.832031 -1.582031 0.6875 -2.125 C 0.539062 -2.664062 0.46875 -3.332031 0.46875 -4.125 C 0.46875 -4.957031 0.539062 -5.644531 0.6875 -6.1875 C 0.832031 -6.738281 1.035156 -7.175781 1.296875 -7.5 C 1.554688 -7.820312 1.859375 -8.046875 2.203125 -8.171875 C 2.554688 -8.304688 2.941406 -8.375 3.359375 -8.375 C 3.753906 -8.375 4.125 -8.304688 4.46875 -8.171875 C 4.8125 -8.046875 5.113281 -7.820312 5.375 -7.5 C 5.632812 -7.175781 5.835938 -6.738281 5.984375 -6.1875 C 6.128906 -5.644531 6.203125 -4.957031 6.203125 -4.125 Z M 5.140625 -4.125 C 5.140625 -4.78125 5.097656 -5.328125 5.015625 -5.765625 C 4.941406 -6.203125 4.828125 -6.550781 4.671875 -6.8125 C 4.515625 -7.070312 4.328125 -7.253906 4.109375 -7.359375 C 3.890625 -7.472656 3.640625 -7.53125 3.359375 -7.53125 C 3.054688 -7.53125 2.789062 -7.472656 2.5625 -7.359375 C 2.34375 -7.253906 2.15625 -7.070312 2 -6.8125 C 1.84375 -6.550781 1.722656 -6.203125 1.640625 -5.765625 C 1.566406 -5.328125 1.53125 -4.78125 1.53125 -4.125 C 1.53125 -3.5 1.570312 -2.96875 1.65625 -2.53125 C 1.738281 -2.09375 1.851562 -1.742188 2 -1.484375 C 2.15625 -1.222656 2.34375 -1.035156 2.5625 -0.921875 C 2.789062 -0.804688 3.046875 -0.75 3.328125 -0.75 C 3.609375 -0.75 3.859375 -0.804688 4.078125 -0.921875 C 4.304688 -1.035156 4.492188 -1.222656 4.640625 -1.484375 C 4.796875 -1.742188 4.914062 -2.09375 5 -2.53125 C 5.09375 -2.96875 5.140625 -3.5 5.140625 -4.125 Z M 5.140625 -4.125 \"/>\n",
       "</symbol>\n",
       "<symbol overflow=\"visible\" id=\"glyph0-2\">\n",
       "<path style=\"stroke:none;\" d=\"M 6.171875 -2.6875 C 6.171875 -2.269531 6.109375 -1.890625 5.984375 -1.546875 C 5.859375 -1.203125 5.671875 -0.90625 5.421875 -0.65625 C 5.179688 -0.414062 4.878906 -0.222656 4.515625 -0.078125 C 4.148438 0.0546875 3.722656 0.125 3.234375 0.125 C 2.804688 0.125 2.429688 0.0703125 2.109375 -0.03125 C 1.785156 -0.132812 1.507812 -0.273438 1.28125 -0.453125 C 1.0625 -0.628906 0.882812 -0.835938 0.75 -1.078125 C 0.625 -1.316406 0.535156 -1.570312 0.484375 -1.84375 L 1.546875 -1.96875 C 1.585938 -1.8125 1.644531 -1.660156 1.71875 -1.515625 C 1.800781 -1.367188 1.910156 -1.238281 2.046875 -1.125 C 2.179688 -1.007812 2.347656 -0.914062 2.546875 -0.84375 C 2.742188 -0.78125 2.984375 -0.75 3.265625 -0.75 C 3.535156 -0.75 3.78125 -0.789062 4 -0.875 C 4.226562 -0.957031 4.421875 -1.078125 4.578125 -1.234375 C 4.734375 -1.398438 4.851562 -1.601562 4.9375 -1.84375 C 5.03125 -2.082031 5.078125 -2.359375 5.078125 -2.671875 C 5.078125 -2.921875 5.035156 -3.148438 4.953125 -3.359375 C 4.867188 -3.578125 4.75 -3.765625 4.59375 -3.921875 C 4.445312 -4.078125 4.257812 -4.195312 4.03125 -4.28125 C 3.8125 -4.363281 3.5625 -4.40625 3.28125 -4.40625 C 3.113281 -4.40625 2.953125 -4.390625 2.796875 -4.359375 C 2.648438 -4.328125 2.515625 -4.285156 2.390625 -4.234375 C 2.265625 -4.179688 2.148438 -4.117188 2.046875 -4.046875 C 1.941406 -3.972656 1.84375 -3.894531 1.75 -3.8125 L 0.71875 -3.8125 L 1 -8.25 L 5.6875 -8.25 L 5.6875 -7.359375 L 1.953125 -7.359375 L 1.796875 -4.734375 C 1.984375 -4.878906 2.21875 -5.003906 2.5 -5.109375 C 2.78125 -5.210938 3.113281 -5.265625 3.5 -5.265625 C 3.914062 -5.265625 4.285156 -5.203125 4.609375 -5.078125 C 4.941406 -4.953125 5.222656 -4.773438 5.453125 -4.546875 C 5.679688 -4.316406 5.859375 -4.046875 5.984375 -3.734375 C 6.109375 -3.421875 6.171875 -3.070312 6.171875 -2.6875 Z M 6.171875 -2.6875 \"/>\n",
       "</symbol>\n",
       "<symbol overflow=\"visible\" id=\"glyph0-3\">\n",
       "<path style=\"stroke:none;\" d=\"M 0.921875 0 L 0.921875 -0.890625 L 3.015625 -0.890625 L 3.015625 -7.25 L 1.15625 -5.921875 L 1.15625 -6.921875 L 3.109375 -8.25 L 4.078125 -8.25 L 4.078125 -0.890625 L 6.09375 -0.890625 L 6.09375 0 Z M 0.921875 0 \"/>\n",
       "</symbol>\n",
       "<symbol overflow=\"visible\" id=\"glyph0-4\">\n",
       "<path style=\"stroke:none;\" d=\"M 0.609375 0 L 0.609375 -0.75 C 0.804688 -1.207031 1.046875 -1.609375 1.328125 -1.953125 C 1.617188 -2.304688 1.921875 -2.625 2.234375 -2.90625 C 2.554688 -3.1875 2.867188 -3.445312 3.171875 -3.6875 C 3.484375 -3.9375 3.765625 -4.179688 4.015625 -4.421875 C 4.265625 -4.660156 4.46875 -4.910156 4.625 -5.171875 C 4.78125 -5.441406 4.859375 -5.742188 4.859375 -6.078125 C 4.859375 -6.316406 4.820312 -6.523438 4.75 -6.703125 C 4.675781 -6.878906 4.570312 -7.023438 4.4375 -7.140625 C 4.3125 -7.265625 4.15625 -7.359375 3.96875 -7.421875 C 3.78125 -7.484375 3.578125 -7.515625 3.359375 -7.515625 C 3.140625 -7.515625 2.9375 -7.484375 2.75 -7.421875 C 2.570312 -7.367188 2.410156 -7.28125 2.265625 -7.15625 C 2.117188 -7.039062 2 -6.894531 1.90625 -6.71875 C 1.8125 -6.550781 1.753906 -6.351562 1.734375 -6.125 L 0.65625 -6.21875 C 0.6875 -6.507812 0.765625 -6.785156 0.890625 -7.046875 C 1.023438 -7.316406 1.203125 -7.550781 1.421875 -7.75 C 1.648438 -7.945312 1.921875 -8.097656 2.234375 -8.203125 C 2.554688 -8.316406 2.929688 -8.375 3.359375 -8.375 C 3.765625 -8.375 4.125 -8.328125 4.4375 -8.234375 C 4.757812 -8.140625 5.03125 -7.992188 5.25 -7.796875 C 5.476562 -7.609375 5.648438 -7.375 5.765625 -7.09375 C 5.878906 -6.8125 5.9375 -6.488281 5.9375 -6.125 C 5.9375 -5.84375 5.882812 -5.578125 5.78125 -5.328125 C 5.6875 -5.078125 5.554688 -4.835938 5.390625 -4.609375 C 5.222656 -4.378906 5.03125 -4.160156 4.8125 -3.953125 C 4.59375 -3.742188 4.363281 -3.535156 4.125 -3.328125 C 3.894531 -3.128906 3.65625 -2.929688 3.40625 -2.734375 C 3.164062 -2.535156 2.9375 -2.335938 2.71875 -2.140625 C 2.507812 -1.941406 2.320312 -1.738281 2.15625 -1.53125 C 1.988281 -1.332031 1.859375 -1.117188 1.765625 -0.890625 L 6.078125 -0.890625 L 6.078125 0 Z M 0.609375 0 \"/>\n",
       "</symbol>\n",
       "<symbol overflow=\"visible\" id=\"glyph0-5\">\n",
       "<path style=\"stroke:none;\" d=\"M 1.109375 0 L 1.109375 -8.25 L 2.234375 -8.25 L 2.234375 0 Z M 1.109375 0 \"/>\n",
       "</symbol>\n",
       "<symbol overflow=\"visible\" id=\"glyph0-6\">\n",
       "<path style=\"stroke:none;\" d=\"M 4.828125 0 L 4.828125 -4.015625 C 4.828125 -4.328125 4.804688 -4.585938 4.765625 -4.796875 C 4.722656 -5.003906 4.648438 -5.171875 4.546875 -5.296875 C 4.441406 -5.421875 4.304688 -5.507812 4.140625 -5.5625 C 3.972656 -5.613281 3.769531 -5.640625 3.53125 -5.640625 C 3.28125 -5.640625 3.050781 -5.59375 2.84375 -5.5 C 2.644531 -5.414062 2.472656 -5.289062 2.328125 -5.125 C 2.191406 -4.957031 2.082031 -4.753906 2 -4.515625 C 1.925781 -4.273438 1.890625 -3.992188 1.890625 -3.671875 L 1.890625 0 L 0.828125 0 L 0.828125 -4.984375 C 0.828125 -5.117188 0.828125 -5.257812 0.828125 -5.40625 C 0.828125 -5.550781 0.820312 -5.6875 0.8125 -5.8125 C 0.8125 -5.945312 0.804688 -6.0625 0.796875 -6.15625 C 0.796875 -6.25 0.796875 -6.3125 0.796875 -6.34375 L 1.796875 -6.34375 C 1.796875 -6.320312 1.796875 -6.265625 1.796875 -6.171875 C 1.804688 -6.085938 1.8125 -5.988281 1.8125 -5.875 C 1.820312 -5.769531 1.828125 -5.660156 1.828125 -5.546875 C 1.835938 -5.429688 1.84375 -5.332031 1.84375 -5.25 L 1.859375 -5.25 C 1.960938 -5.4375 2.070312 -5.601562 2.1875 -5.75 C 2.3125 -5.90625 2.453125 -6.03125 2.609375 -6.125 C 2.773438 -6.226562 2.957031 -6.304688 3.15625 -6.359375 C 3.363281 -6.421875 3.609375 -6.453125 3.890625 -6.453125 C 4.234375 -6.453125 4.53125 -6.410156 4.78125 -6.328125 C 5.039062 -6.242188 5.253906 -6.109375 5.421875 -5.921875 C 5.585938 -5.742188 5.707031 -5.515625 5.78125 -5.234375 C 5.851562 -4.953125 5.890625 -4.613281 5.890625 -4.21875 L 5.890625 0 Z M 4.828125 0 \"/>\n",
       "</symbol>\n",
       "<symbol overflow=\"visible\" id=\"glyph0-7\">\n",
       "<path style=\"stroke:none;\" d=\"M 4.8125 -1.015625 C 4.613281 -0.609375 4.351562 -0.316406 4.03125 -0.140625 C 3.707031 0.0351562 3.3125 0.125 2.84375 0.125 C 2.039062 0.125 1.445312 -0.144531 1.0625 -0.6875 C 0.6875 -1.226562 0.5 -2.046875 0.5 -3.140625 C 0.5 -5.347656 1.28125 -6.453125 2.84375 -6.453125 C 3.320312 -6.453125 3.71875 -6.363281 4.03125 -6.1875 C 4.351562 -6.019531 4.613281 -5.742188 4.8125 -5.359375 L 4.828125 -5.359375 C 4.828125 -5.398438 4.820312 -5.460938 4.8125 -5.546875 C 4.8125 -5.628906 4.8125 -5.710938 4.8125 -5.796875 C 4.8125 -5.890625 4.8125 -5.976562 4.8125 -6.0625 C 4.8125 -6.144531 4.8125 -6.203125 4.8125 -6.234375 L 4.8125 -8.703125 L 5.859375 -8.703125 L 5.859375 -1.3125 C 5.859375 -1.15625 5.859375 -1.003906 5.859375 -0.859375 C 5.867188 -0.722656 5.875 -0.597656 5.875 -0.484375 C 5.882812 -0.367188 5.890625 -0.265625 5.890625 -0.171875 C 5.890625 -0.0859375 5.894531 -0.03125 5.90625 0 L 4.890625 0 C 4.878906 -0.0390625 4.867188 -0.0976562 4.859375 -0.171875 C 4.859375 -0.242188 4.851562 -0.328125 4.84375 -0.421875 C 4.84375 -0.515625 4.835938 -0.613281 4.828125 -0.71875 C 4.828125 -0.820312 4.828125 -0.921875 4.828125 -1.015625 Z M 1.609375 -3.171875 C 1.609375 -2.734375 1.632812 -2.359375 1.6875 -2.046875 C 1.75 -1.734375 1.835938 -1.476562 1.953125 -1.28125 C 2.078125 -1.082031 2.234375 -0.9375 2.421875 -0.84375 C 2.609375 -0.75 2.835938 -0.703125 3.109375 -0.703125 C 3.378906 -0.703125 3.617188 -0.742188 3.828125 -0.828125 C 4.046875 -0.921875 4.226562 -1.066406 4.375 -1.265625 C 4.519531 -1.472656 4.628906 -1.738281 4.703125 -2.0625 C 4.773438 -2.382812 4.8125 -2.78125 4.8125 -3.25 C 4.8125 -3.695312 4.773438 -4.078125 4.703125 -4.390625 C 4.628906 -4.703125 4.519531 -4.953125 4.375 -5.140625 C 4.226562 -5.328125 4.050781 -5.460938 3.84375 -5.546875 C 3.632812 -5.628906 3.394531 -5.671875 3.125 -5.671875 C 2.863281 -5.671875 2.640625 -5.625 2.453125 -5.53125 C 2.265625 -5.445312 2.109375 -5.304688 1.984375 -5.109375 C 1.859375 -4.910156 1.765625 -4.648438 1.703125 -4.328125 C 1.640625 -4.015625 1.609375 -3.628906 1.609375 -3.171875 Z M 1.609375 -3.171875 \"/>\n",
       "</symbol>\n",
       "<symbol overflow=\"visible\" id=\"glyph0-8\">\n",
       "<path style=\"stroke:none;\" d=\"M 1.625 -2.953125 C 1.625 -2.617188 1.65625 -2.3125 1.71875 -2.03125 C 1.789062 -1.75 1.894531 -1.507812 2.03125 -1.3125 C 2.175781 -1.113281 2.359375 -0.957031 2.578125 -0.84375 C 2.804688 -0.726562 3.078125 -0.671875 3.390625 -0.671875 C 3.847656 -0.671875 4.210938 -0.757812 4.484375 -0.9375 C 4.765625 -1.125 4.953125 -1.359375 5.046875 -1.640625 L 5.96875 -1.390625 C 5.90625 -1.210938 5.8125 -1.035156 5.6875 -0.859375 C 5.570312 -0.679688 5.414062 -0.519531 5.21875 -0.375 C 5.019531 -0.226562 4.769531 -0.109375 4.46875 -0.015625 C 4.164062 0.078125 3.804688 0.125 3.390625 0.125 C 2.453125 0.125 1.738281 -0.15625 1.25 -0.71875 C 0.757812 -1.28125 0.515625 -2.113281 0.515625 -3.21875 C 0.515625 -3.8125 0.585938 -4.3125 0.734375 -4.71875 C 0.878906 -5.132812 1.082031 -5.46875 1.34375 -5.71875 C 1.601562 -5.976562 1.90625 -6.164062 2.25 -6.28125 C 2.59375 -6.394531 2.957031 -6.453125 3.34375 -6.453125 C 3.875 -6.453125 4.316406 -6.363281 4.671875 -6.1875 C 5.035156 -6.019531 5.320312 -5.785156 5.53125 -5.484375 C 5.75 -5.179688 5.90625 -4.820312 6 -4.40625 C 6.09375 -4 6.140625 -3.5625 6.140625 -3.09375 L 6.140625 -2.953125 Z M 5.046875 -3.75 C 4.992188 -4.425781 4.828125 -4.914062 4.546875 -5.21875 C 4.265625 -5.519531 3.859375 -5.671875 3.328125 -5.671875 C 3.148438 -5.671875 2.960938 -5.644531 2.765625 -5.59375 C 2.578125 -5.539062 2.398438 -5.441406 2.234375 -5.296875 C 2.078125 -5.148438 1.941406 -4.953125 1.828125 -4.703125 C 1.710938 -4.453125 1.644531 -4.132812 1.625 -3.75 Z M 5.046875 -3.75 \"/>\n",
       "</symbol>\n",
       "<symbol overflow=\"visible\" id=\"glyph0-9\">\n",
       "<path style=\"stroke:none;\" d=\"M 4.6875 0 L 2.984375 -2.609375 L 1.265625 0 L 0.140625 0 L 2.390625 -3.265625 L 0.234375 -6.34375 L 1.40625 -6.34375 L 2.984375 -3.875 L 4.5625 -6.34375 L 5.734375 -6.34375 L 3.59375 -3.265625 L 5.875 0 Z M 4.6875 0 \"/>\n",
       "</symbol>\n",
       "<symbol overflow=\"visible\" id=\"glyph1-0\">\n",
       "<path style=\"stroke:none;\" d=\"M 0 -0.40625 L -8 -0.40625 L -8 -3.59375 L 0 -3.59375 Z M -0.40625 -0.796875 L -0.40625 -3.1875 L -7.59375 -3.1875 L -7.59375 -0.796875 Z M -0.40625 -0.796875 \"/>\n",
       "</symbol>\n",
       "<symbol overflow=\"visible\" id=\"glyph1-1\">\n",
       "<path style=\"stroke:none;\" d=\"M -2.71875 -0.53125 L -3.65625 -0.53125 L -3.65625 -3.46875 L -2.71875 -3.46875 Z M -2.71875 -0.53125 \"/>\n",
       "</symbol>\n",
       "<symbol overflow=\"visible\" id=\"glyph1-2\">\n",
       "<path style=\"stroke:none;\" d=\"M 0 -0.921875 L -0.890625 -0.921875 L -0.890625 -3.015625 L -7.25 -3.015625 L -5.921875 -1.15625 L -6.921875 -1.15625 L -8.25 -3.109375 L -8.25 -4.078125 L -0.890625 -4.078125 L -0.890625 -6.09375 L 0 -6.09375 Z M 0 -0.921875 \"/>\n",
       "</symbol>\n",
       "<symbol overflow=\"visible\" id=\"glyph1-3\">\n",
       "<path style=\"stroke:none;\" d=\"M -4.125 -6.203125 C -3.332031 -6.203125 -2.664062 -6.125 -2.125 -5.96875 C -1.582031 -5.820312 -1.144531 -5.617188 -0.8125 -5.359375 C -0.476562 -5.097656 -0.238281 -4.789062 -0.09375 -4.4375 C 0.0507812 -4.09375 0.125 -3.722656 0.125 -3.328125 C 0.125 -2.921875 0.0507812 -2.539062 -0.09375 -2.1875 C -0.238281 -1.84375 -0.476562 -1.539062 -0.8125 -1.28125 C -1.144531 -1.03125 -1.582031 -0.832031 -2.125 -0.6875 C -2.664062 -0.539062 -3.332031 -0.46875 -4.125 -0.46875 C -4.957031 -0.46875 -5.644531 -0.539062 -6.1875 -0.6875 C -6.738281 -0.832031 -7.175781 -1.035156 -7.5 -1.296875 C -7.820312 -1.554688 -8.046875 -1.859375 -8.171875 -2.203125 C -8.304688 -2.554688 -8.375 -2.941406 -8.375 -3.359375 C -8.375 -3.753906 -8.304688 -4.125 -8.171875 -4.46875 C -8.046875 -4.8125 -7.820312 -5.113281 -7.5 -5.375 C -7.175781 -5.632812 -6.738281 -5.835938 -6.1875 -5.984375 C -5.644531 -6.128906 -4.957031 -6.203125 -4.125 -6.203125 Z M -4.125 -5.140625 C -4.78125 -5.140625 -5.328125 -5.097656 -5.765625 -5.015625 C -6.203125 -4.941406 -6.550781 -4.828125 -6.8125 -4.671875 C -7.070312 -4.515625 -7.253906 -4.328125 -7.359375 -4.109375 C -7.472656 -3.890625 -7.53125 -3.640625 -7.53125 -3.359375 C -7.53125 -3.054688 -7.472656 -2.789062 -7.359375 -2.5625 C -7.253906 -2.34375 -7.070312 -2.15625 -6.8125 -2 C -6.550781 -1.84375 -6.203125 -1.722656 -5.765625 -1.640625 C -5.328125 -1.566406 -4.78125 -1.53125 -4.125 -1.53125 C -3.5 -1.53125 -2.96875 -1.570312 -2.53125 -1.65625 C -2.09375 -1.738281 -1.742188 -1.851562 -1.484375 -2 C -1.222656 -2.15625 -1.035156 -2.34375 -0.921875 -2.5625 C -0.804688 -2.789062 -0.75 -3.046875 -0.75 -3.328125 C -0.75 -3.609375 -0.804688 -3.859375 -0.921875 -4.078125 C -1.035156 -4.304688 -1.222656 -4.492188 -1.484375 -4.640625 C -1.742188 -4.796875 -2.09375 -4.914062 -2.53125 -5 C -2.96875 -5.09375 -3.5 -5.140625 -4.125 -5.140625 Z M -4.125 -5.140625 \"/>\n",
       "</symbol>\n",
       "<symbol overflow=\"visible\" id=\"glyph1-4\">\n",
       "<path style=\"stroke:none;\" d=\"M -2.6875 -6.171875 C -2.269531 -6.171875 -1.890625 -6.109375 -1.546875 -5.984375 C -1.203125 -5.859375 -0.90625 -5.671875 -0.65625 -5.421875 C -0.414062 -5.179688 -0.222656 -4.878906 -0.078125 -4.515625 C 0.0546875 -4.148438 0.125 -3.722656 0.125 -3.234375 C 0.125 -2.804688 0.0703125 -2.429688 -0.03125 -2.109375 C -0.132812 -1.785156 -0.273438 -1.507812 -0.453125 -1.28125 C -0.628906 -1.0625 -0.835938 -0.882812 -1.078125 -0.75 C -1.316406 -0.625 -1.570312 -0.535156 -1.84375 -0.484375 L -1.96875 -1.546875 C -1.8125 -1.585938 -1.660156 -1.644531 -1.515625 -1.71875 C -1.367188 -1.800781 -1.238281 -1.910156 -1.125 -2.046875 C -1.007812 -2.179688 -0.914062 -2.347656 -0.84375 -2.546875 C -0.78125 -2.742188 -0.75 -2.984375 -0.75 -3.265625 C -0.75 -3.535156 -0.789062 -3.78125 -0.875 -4 C -0.957031 -4.226562 -1.078125 -4.421875 -1.234375 -4.578125 C -1.398438 -4.734375 -1.601562 -4.851562 -1.84375 -4.9375 C -2.082031 -5.03125 -2.359375 -5.078125 -2.671875 -5.078125 C -2.921875 -5.078125 -3.148438 -5.035156 -3.359375 -4.953125 C -3.578125 -4.867188 -3.765625 -4.75 -3.921875 -4.59375 C -4.078125 -4.445312 -4.195312 -4.257812 -4.28125 -4.03125 C -4.363281 -3.8125 -4.40625 -3.5625 -4.40625 -3.28125 C -4.40625 -3.113281 -4.390625 -2.953125 -4.359375 -2.796875 C -4.328125 -2.648438 -4.285156 -2.515625 -4.234375 -2.390625 C -4.179688 -2.265625 -4.117188 -2.148438 -4.046875 -2.046875 C -3.972656 -1.941406 -3.894531 -1.84375 -3.8125 -1.75 L -3.8125 -0.71875 L -8.25 -1 L -8.25 -5.6875 L -7.359375 -5.6875 L -7.359375 -1.953125 L -4.734375 -1.796875 C -4.878906 -1.984375 -5.003906 -2.21875 -5.109375 -2.5 C -5.210938 -2.78125 -5.265625 -3.113281 -5.265625 -3.5 C -5.265625 -3.914062 -5.203125 -4.285156 -5.078125 -4.609375 C -4.953125 -4.941406 -4.773438 -5.222656 -4.546875 -5.453125 C -4.316406 -5.679688 -4.046875 -5.859375 -3.734375 -5.984375 C -3.421875 -6.109375 -3.070312 -6.171875 -2.6875 -6.171875 Z M -2.6875 -6.171875 \"/>\n",
       "</symbol>\n",
       "<symbol overflow=\"visible\" id=\"glyph1-5\">\n",
       "<path style=\"stroke:none;\" d=\"M 0 -3.59375 L 0 -2.34375 L -6.34375 -0.046875 L -6.34375 -1.171875 L -2.21875 -2.5625 C -2.132812 -2.59375 -2.03125 -2.625 -1.90625 -2.65625 C -1.78125 -2.695312 -1.648438 -2.734375 -1.515625 -2.765625 C -1.378906 -2.804688 -1.25 -2.84375 -1.125 -2.875 C -1.007812 -2.914062 -0.910156 -2.945312 -0.828125 -2.96875 C -0.910156 -2.988281 -1.007812 -3.015625 -1.125 -3.046875 C -1.25 -3.085938 -1.375 -3.128906 -1.5 -3.171875 C -1.632812 -3.210938 -1.765625 -3.253906 -1.890625 -3.296875 C -2.015625 -3.335938 -2.117188 -3.375 -2.203125 -3.40625 L -6.34375 -4.84375 L -6.34375 -5.953125 Z M 0 -3.59375 \"/>\n",
       "</symbol>\n",
       "<symbol overflow=\"visible\" id=\"glyph1-6\">\n",
       "<path style=\"stroke:none;\" d=\"M 0.125 -2.421875 C 0.125 -1.785156 -0.0390625 -1.304688 -0.375 -0.984375 C -0.71875 -0.671875 -1.179688 -0.515625 -1.765625 -0.515625 C -2.179688 -0.515625 -2.523438 -0.59375 -2.796875 -0.75 C -3.066406 -0.90625 -3.273438 -1.109375 -3.421875 -1.359375 C -3.578125 -1.617188 -3.679688 -1.910156 -3.734375 -2.234375 C -3.796875 -2.566406 -3.832031 -2.90625 -3.84375 -3.25 L -3.875 -4.671875 L -4.21875 -4.671875 C -4.476562 -4.671875 -4.695312 -4.640625 -4.875 -4.578125 C -5.0625 -4.523438 -5.210938 -4.441406 -5.328125 -4.328125 C -5.441406 -4.222656 -5.523438 -4.082031 -5.578125 -3.90625 C -5.628906 -3.738281 -5.65625 -3.539062 -5.65625 -3.3125 C -5.65625 -3.101562 -5.640625 -2.914062 -5.609375 -2.75 C -5.578125 -2.59375 -5.523438 -2.453125 -5.453125 -2.328125 C -5.378906 -2.210938 -5.273438 -2.113281 -5.140625 -2.03125 C -5.015625 -1.957031 -4.847656 -1.910156 -4.640625 -1.890625 L -4.75 -0.796875 C -5 -0.828125 -5.226562 -0.894531 -5.4375 -1 C -5.644531 -1.113281 -5.820312 -1.269531 -5.96875 -1.46875 C -6.125 -1.675781 -6.242188 -1.929688 -6.328125 -2.234375 C -6.410156 -2.535156 -6.453125 -2.898438 -6.453125 -3.328125 C -6.453125 -4.128906 -6.269531 -4.726562 -5.90625 -5.125 C -5.539062 -5.53125 -5.015625 -5.734375 -4.328125 -5.734375 L -1.59375 -5.734375 C -1.28125 -5.734375 -1.046875 -5.773438 -0.890625 -5.859375 C -0.734375 -5.941406 -0.65625 -6.097656 -0.65625 -6.328125 C -0.65625 -6.390625 -0.65625 -6.445312 -0.65625 -6.5 C -0.664062 -6.5625 -0.675781 -6.617188 -0.6875 -6.671875 L -0.03125 -6.671875 C 0 -6.535156 0.0195312 -6.398438 0.03125 -6.265625 C 0.0507812 -6.140625 0.0625 -6.003906 0.0625 -5.859375 C 0.0625 -5.660156 0.0351562 -5.488281 -0.015625 -5.34375 C -0.0664062 -5.207031 -0.144531 -5.09375 -0.25 -5 C -0.363281 -4.90625 -0.5 -4.832031 -0.65625 -4.78125 C -0.8125 -4.738281 -1 -4.710938 -1.21875 -4.703125 L -1.21875 -4.671875 C -1.007812 -4.554688 -0.820312 -4.429688 -0.65625 -4.296875 C -0.5 -4.160156 -0.363281 -4.003906 -0.25 -3.828125 C -0.132812 -3.648438 -0.046875 -3.445312 0.015625 -3.21875 C 0.0859375 -2.988281 0.125 -2.722656 0.125 -2.421875 Z M -0.671875 -2.671875 C -0.671875 -3.003906 -0.734375 -3.296875 -0.859375 -3.546875 C -0.984375 -3.796875 -1.140625 -4.003906 -1.328125 -4.171875 C -1.523438 -4.335938 -1.734375 -4.460938 -1.953125 -4.546875 C -2.179688 -4.628906 -2.398438 -4.671875 -2.609375 -4.671875 L -3.125 -4.671875 L -3.109375 -3.515625 C -3.097656 -3.253906 -3.078125 -3.007812 -3.046875 -2.78125 C -3.015625 -2.550781 -2.945312 -2.347656 -2.84375 -2.171875 C -2.75 -1.992188 -2.613281 -1.851562 -2.4375 -1.75 C -2.269531 -1.644531 -2.039062 -1.59375 -1.75 -1.59375 C -1.40625 -1.59375 -1.140625 -1.6875 -0.953125 -1.875 C -0.765625 -2.0625 -0.671875 -2.328125 -0.671875 -2.671875 Z M -0.671875 -2.671875 \"/>\n",
       "</symbol>\n",
       "<symbol overflow=\"visible\" id=\"glyph1-7\">\n",
       "<path style=\"stroke:none;\" d=\"M 0 -0.8125 L -8.703125 -0.8125 L -8.703125 -1.859375 L 0 -1.859375 Z M 0 -0.8125 \"/>\n",
       "</symbol>\n",
       "</g>\n",
       "</defs>\n",
       "<g id=\"surface516\">\n",
       "<rect x=\"0\" y=\"0\" width=\"504\" height=\"504\" style=\"fill:rgb(100%,100%,100%);fill-opacity:1;stroke:none;\"/>\n",
       "<path style=\"fill:none;stroke-width:0.75;stroke-linecap:round;stroke-linejoin:round;stroke:rgb(0%,0%,0%);stroke-opacity:1;stroke-miterlimit:10;\" d=\"M 74.398438 253.449219 L 75.761719 266.296875 L 77.125 267.5 L 78.484375 277.441406 L 79.847656 270.550781 L 81.207031 288.890625 L 82.570312 296.582031 L 83.933594 277.257812 L 85.292969 307.953125 L 86.65625 327.421875 L 88.015625 327.257812 L 89.378906 348.066406 L 90.742188 366.199219 L 92.101562 356.238281 L 93.464844 382.976562 L 94.824219 376.753906 L 96.1875 355.53125 L 97.550781 336.027344 L 98.910156 324.382812 L 100.273438 294.585938 L 101.632812 295.121094 L 102.996094 308.476562 L 104.359375 324.65625 L 105.71875 308.933594 L 107.082031 306.875 L 108.441406 316.066406 L 109.804688 343.851562 L 111.164062 360.140625 L 112.527344 340.25 L 113.890625 336.265625 L 115.25 317.921875 L 116.613281 313.898438 L 117.972656 289.289062 L 119.335938 274.664062 L 120.699219 260.753906 L 122.058594 259.003906 L 123.421875 261.066406 L 124.78125 255.878906 L 126.144531 229.992188 L 127.507812 233.3125 L 128.867188 214.761719 L 130.230469 218.585938 L 131.589844 248.472656 L 132.953125 251.742188 L 134.316406 282.785156 L 135.675781 279.261719 L 137.039062 263.714844 L 138.398438 261.691406 L 139.761719 257.578125 L 141.125 231.917969 L 142.484375 228.296875 L 143.847656 240.792969 L 145.207031 247.800781 L 146.570312 245.5 L 147.933594 253.550781 L 149.292969 243.917969 L 150.65625 238.667969 L 152.015625 217.089844 L 153.378906 212.558594 L 154.742188 213.886719 L 156.101562 218.207031 L 157.464844 223.667969 L 158.824219 245.332031 L 160.1875 235.515625 L 161.550781 205.167969 L 162.910156 201.441406 L 164.273438 193.546875 L 165.632812 161.164062 L 166.996094 182.453125 L 168.359375 189.511719 L 169.71875 153.542969 L 171.082031 181.765625 L 172.441406 191.363281 L 173.804688 210.882812 L 175.164062 220.863281 L 176.527344 192.515625 L 177.890625 195.832031 L 179.25 194.410156 L 180.613281 180.191406 L 181.972656 175.394531 L 183.335938 155.3125 L 184.699219 141.96875 L 186.058594 163.746094 L 187.421875 167.804688 L 188.78125 145.796875 L 190.144531 162.890625 L 191.507812 180.699219 L 192.867188 166.859375 L 194.230469 148.359375 L 195.589844 153.15625 L 196.953125 150.910156 L 198.316406 146.722656 L 199.675781 139.601562 L 201.039062 154.882812 L 202.398438 171.03125 L 203.761719 211.160156 L 205.125 181.230469 L 206.484375 170.628906 L 207.847656 175.664062 L 209.207031 185.550781 L 210.570312 212.742188 L 211.933594 216.582031 L 213.292969 226.675781 L 214.65625 207.523438 L 216.015625 206.128906 L 217.378906 201.371094 L 218.742188 205.625 L 220.101562 177.050781 L 221.464844 171.75 L 222.824219 166.96875 L 224.1875 179.351562 L 225.550781 178.070312 L 226.910156 168.8125 L 228.273438 166.480469 L 229.632812 171.972656 L 230.996094 139.691406 L 232.359375 155.167969 L 233.71875 159.808594 L 235.082031 150.894531 L 236.441406 142.6875 L 237.804688 143.660156 L 239.164062 140.796875 L 240.527344 123.71875 L 241.890625 134.8125 L 243.25 160.21875 L 244.613281 144.4375 L 245.972656 153.5 L 247.335938 172.457031 L 248.699219 188.039062 L 250.058594 173.519531 L 251.421875 160.601562 L 252.78125 172.414062 L 254.144531 172.320312 L 255.507812 169.476562 L 256.867188 195.605469 L 258.230469 200.539062 L 259.589844 230.75 L 260.953125 218.164062 L 262.316406 198.84375 L 263.675781 193.757812 L 265.039062 191.398438 L 266.398438 172.074219 L 267.761719 173.453125 L 269.125 154.265625 L 270.484375 163.628906 L 271.847656 188.988281 L 273.207031 179.757812 L 274.570312 190.230469 L 275.933594 185.621094 L 277.292969 189.734375 L 278.65625 218.984375 L 280.015625 224.988281 L 281.378906 220.59375 L 282.742188 197.257812 L 284.101562 210.132812 L 285.464844 201.367188 L 286.824219 231.269531 L 288.1875 249.132812 L 289.550781 230.65625 L 290.910156 234.25 L 292.273438 241.714844 L 293.632812 212.324219 L 294.996094 203.566406 L 296.359375 201.882812 L 297.71875 211.039062 L 299.082031 229.0625 L 300.441406 228.875 L 301.804688 226.207031 L 303.164062 215.007812 L 304.527344 221.085938 L 305.890625 229.320312 L 307.25 220.066406 L 308.613281 221.6875 L 309.972656 247.03125 L 311.335938 258.796875 L 312.699219 273.085938 L 314.058594 283.980469 L 315.421875 267.949219 L 316.78125 246.296875 L 318.144531 249.410156 L 319.507812 252.179688 L 320.867188 263.648438 L 322.230469 273.082031 L 323.589844 264.535156 L 324.953125 265.285156 L 326.316406 285.964844 L 327.675781 312.6875 L 329.039062 306.195312 L 330.398438 328.851562 L 331.761719 344.691406 L 333.125 332.148438 L 334.484375 342.011719 L 335.847656 361.816406 L 337.207031 355.695312 L 338.570312 346.34375 L 339.933594 376.71875 L 341.292969 390.585938 L 342.65625 388.21875 L 344.015625 405.421875 L 345.378906 416.800781 L 346.742188 397.535156 L 348.101562 394.042969 L 349.464844 396.972656 L 350.824219 398.367188 L 352.1875 398.894531 L 353.550781 392.558594 L 354.910156 392.097656 L 356.273438 389.6875 L 357.632812 376.957031 L 358.996094 370.84375 L 360.359375 355.101562 L 361.71875 366.113281 L 363.082031 385.320312 L 364.441406 370.171875 L 365.804688 368.449219 L 367.164062 357.6875 L 368.527344 343.742188 L 369.890625 337.128906 L 371.25 332.511719 L 372.613281 337 L 373.972656 336.339844 L 375.335938 298.320312 L 376.699219 296.828125 L 378.058594 271.804688 L 379.421875 251.652344 L 380.78125 248.9375 L 382.144531 241.503906 L 383.507812 233.183594 L 384.867188 257.824219 L 386.230469 283.378906 L 387.589844 283.160156 L 388.953125 281.847656 L 390.316406 280.851562 L 391.675781 284.328125 L 393.039062 306.816406 L 394.398438 285.960938 L 395.761719 291.863281 L 397.125 300.507812 L 398.484375 286.082031 L 399.847656 269.238281 L 401.207031 291.9375 L 402.570312 294.871094 L 403.933594 301.273438 L 405.292969 283.210938 L 406.65625 266.039062 L 408.015625 255.027344 L 409.378906 245.835938 L 410.742188 229.164062 L 412.101562 216.789062 L 413.464844 255.429688 L 414.824219 252.914062 L 416.1875 247.125 L 417.550781 241.605469 L 418.910156 235.292969 L 420.273438 228.519531 L 421.632812 236.828125 L 422.996094 226.242188 L 424.359375 210.214844 L 425.71875 238.351562 L 427.082031 219.789062 L 428.441406 219.292969 L 429.804688 220.875 L 431.164062 230.210938 L 432.527344 226.089844 L 433.890625 226.992188 L 435.25 229.613281 L 436.613281 221.277344 L 437.972656 221.496094 L 439.335938 207.179688 L 440.699219 184.210938 L 442.058594 190.253906 L 443.421875 167.855469 L 444.78125 174.996094 L 446.144531 159.359375 L 447.507812 133.152344 L 448.867188 111.761719 L 450.230469 94.984375 L 451.589844 120.480469 L 452.953125 122.734375 L 454.316406 119.015625 L 455.675781 93.640625 L 457.039062 96.382812 L 458.398438 72.800781 \"/>\n",
       "<path style=\"fill:none;stroke-width:0.75;stroke-linecap:round;stroke-linejoin:round;stroke:rgb(0%,0%,0%);stroke-opacity:1;stroke-miterlimit:10;\" d=\"M 73.039062 430.558594 L 413.464844 430.558594 \"/>\n",
       "<path style=\"fill:none;stroke-width:0.75;stroke-linecap:round;stroke-linejoin:round;stroke:rgb(0%,0%,0%);stroke-opacity:1;stroke-miterlimit:10;\" d=\"M 73.039062 430.558594 L 73.039062 437.761719 \"/>\n",
       "<path style=\"fill:none;stroke-width:0.75;stroke-linecap:round;stroke-linejoin:round;stroke:rgb(0%,0%,0%);stroke-opacity:1;stroke-miterlimit:10;\" d=\"M 141.125 430.558594 L 141.125 437.761719 \"/>\n",
       "<path style=\"fill:none;stroke-width:0.75;stroke-linecap:round;stroke-linejoin:round;stroke:rgb(0%,0%,0%);stroke-opacity:1;stroke-miterlimit:10;\" d=\"M 209.207031 430.558594 L 209.207031 437.761719 \"/>\n",
       "<path style=\"fill:none;stroke-width:0.75;stroke-linecap:round;stroke-linejoin:round;stroke:rgb(0%,0%,0%);stroke-opacity:1;stroke-miterlimit:10;\" d=\"M 277.292969 430.558594 L 277.292969 437.761719 \"/>\n",
       "<path style=\"fill:none;stroke-width:0.75;stroke-linecap:round;stroke-linejoin:round;stroke:rgb(0%,0%,0%);stroke-opacity:1;stroke-miterlimit:10;\" d=\"M 345.378906 430.558594 L 345.378906 437.761719 \"/>\n",
       "<path style=\"fill:none;stroke-width:0.75;stroke-linecap:round;stroke-linejoin:round;stroke:rgb(0%,0%,0%);stroke-opacity:1;stroke-miterlimit:10;\" d=\"M 413.464844 430.558594 L 413.464844 437.761719 \"/>\n",
       "<g style=\"fill:rgb(0%,0%,0%);fill-opacity:1;\">\n",
       "  <use xlink:href=\"#glyph0-1\" x=\"69.539062\" y=\"456.34375\"/>\n",
       "</g>\n",
       "<g style=\"fill:rgb(0%,0%,0%);fill-opacity:1;\">\n",
       "  <use xlink:href=\"#glyph0-2\" x=\"134.125\" y=\"456.34375\"/>\n",
       "  <use xlink:href=\"#glyph0-1\" x=\"141.125\" y=\"456.34375\"/>\n",
       "</g>\n",
       "<g style=\"fill:rgb(0%,0%,0%);fill-opacity:1;\">\n",
       "  <use xlink:href=\"#glyph0-3\" x=\"198.707031\" y=\"456.34375\"/>\n",
       "  <use xlink:href=\"#glyph0-1\" x=\"205.707031\" y=\"456.34375\"/>\n",
       "  <use xlink:href=\"#glyph0-1\" x=\"212.707031\" y=\"456.34375\"/>\n",
       "</g>\n",
       "<g style=\"fill:rgb(0%,0%,0%);fill-opacity:1;\">\n",
       "  <use xlink:href=\"#glyph0-3\" x=\"266.792969\" y=\"456.34375\"/>\n",
       "  <use xlink:href=\"#glyph0-2\" x=\"273.792969\" y=\"456.34375\"/>\n",
       "  <use xlink:href=\"#glyph0-1\" x=\"280.792969\" y=\"456.34375\"/>\n",
       "</g>\n",
       "<g style=\"fill:rgb(0%,0%,0%);fill-opacity:1;\">\n",
       "  <use xlink:href=\"#glyph0-4\" x=\"334.878906\" y=\"456.34375\"/>\n",
       "  <use xlink:href=\"#glyph0-1\" x=\"341.878906\" y=\"456.34375\"/>\n",
       "  <use xlink:href=\"#glyph0-1\" x=\"348.878906\" y=\"456.34375\"/>\n",
       "</g>\n",
       "<g style=\"fill:rgb(0%,0%,0%);fill-opacity:1;\">\n",
       "  <use xlink:href=\"#glyph0-4\" x=\"402.964844\" y=\"456.34375\"/>\n",
       "  <use xlink:href=\"#glyph0-2\" x=\"409.964844\" y=\"456.34375\"/>\n",
       "  <use xlink:href=\"#glyph0-1\" x=\"416.964844\" y=\"456.34375\"/>\n",
       "</g>\n",
       "<path style=\"fill:none;stroke-width:0.75;stroke-linecap:round;stroke-linejoin:round;stroke:rgb(0%,0%,0%);stroke-opacity:1;stroke-miterlimit:10;\" d=\"M 59.039062 419.214844 L 59.039062 84.101562 \"/>\n",
       "<path style=\"fill:none;stroke-width:0.75;stroke-linecap:round;stroke-linejoin:round;stroke:rgb(0%,0%,0%);stroke-opacity:1;stroke-miterlimit:10;\" d=\"M 59.039062 419.214844 L 51.839844 419.214844 \"/>\n",
       "<path style=\"fill:none;stroke-width:0.75;stroke-linecap:round;stroke-linejoin:round;stroke:rgb(0%,0%,0%);stroke-opacity:1;stroke-miterlimit:10;\" d=\"M 59.039062 335.4375 L 51.839844 335.4375 \"/>\n",
       "<path style=\"fill:none;stroke-width:0.75;stroke-linecap:round;stroke-linejoin:round;stroke:rgb(0%,0%,0%);stroke-opacity:1;stroke-miterlimit:10;\" d=\"M 59.039062 251.65625 L 51.839844 251.65625 \"/>\n",
       "<path style=\"fill:none;stroke-width:0.75;stroke-linecap:round;stroke-linejoin:round;stroke:rgb(0%,0%,0%);stroke-opacity:1;stroke-miterlimit:10;\" d=\"M 59.039062 167.878906 L 51.839844 167.878906 \"/>\n",
       "<path style=\"fill:none;stroke-width:0.75;stroke-linecap:round;stroke-linejoin:round;stroke:rgb(0%,0%,0%);stroke-opacity:1;stroke-miterlimit:10;\" d=\"M 59.039062 84.101562 L 51.839844 84.101562 \"/>\n",
       "<g style=\"fill:rgb(0%,0%,0%);fill-opacity:1;\">\n",
       "  <use xlink:href=\"#glyph1-1\" x=\"41.625\" y=\"428.214844\"/>\n",
       "  <use xlink:href=\"#glyph1-2\" x=\"41.625\" y=\"424.214844\"/>\n",
       "  <use xlink:href=\"#glyph1-3\" x=\"41.625\" y=\"417.214844\"/>\n",
       "</g>\n",
       "<g style=\"fill:rgb(0%,0%,0%);fill-opacity:1;\">\n",
       "  <use xlink:href=\"#glyph1-1\" x=\"41.625\" y=\"340.9375\"/>\n",
       "  <use xlink:href=\"#glyph1-4\" x=\"41.625\" y=\"336.9375\"/>\n",
       "</g>\n",
       "<g style=\"fill:rgb(0%,0%,0%);fill-opacity:1;\">\n",
       "  <use xlink:href=\"#glyph1-3\" x=\"41.625\" y=\"255.15625\"/>\n",
       "</g>\n",
       "<g style=\"fill:rgb(0%,0%,0%);fill-opacity:1;\">\n",
       "  <use xlink:href=\"#glyph1-4\" x=\"41.625\" y=\"171.378906\"/>\n",
       "</g>\n",
       "<g style=\"fill:rgb(0%,0%,0%);fill-opacity:1;\">\n",
       "  <use xlink:href=\"#glyph1-2\" x=\"41.625\" y=\"91.101562\"/>\n",
       "  <use xlink:href=\"#glyph1-3\" x=\"41.625\" y=\"84.101562\"/>\n",
       "</g>\n",
       "<path style=\"fill:none;stroke-width:0.75;stroke-linecap:round;stroke-linejoin:round;stroke:rgb(0%,0%,0%);stroke-opacity:1;stroke-miterlimit:10;\" d=\"M 59.039062 430.558594 L 473.761719 430.558594 L 473.761719 59.039062 L 59.039062 59.039062 Z M 59.039062 430.558594 \"/>\n",
       "<g style=\"fill:rgb(0%,0%,0%);fill-opacity:1;\">\n",
       "  <use xlink:href=\"#glyph0-5\" x=\"251.398438\" y=\"485.144531\"/>\n",
       "  <use xlink:href=\"#glyph0-6\" x=\"254.398438\" y=\"485.144531\"/>\n",
       "  <use xlink:href=\"#glyph0-7\" x=\"261.398438\" y=\"485.144531\"/>\n",
       "  <use xlink:href=\"#glyph0-8\" x=\"268.398438\" y=\"485.144531\"/>\n",
       "  <use xlink:href=\"#glyph0-9\" x=\"275.398438\" y=\"485.144531\"/>\n",
       "</g>\n",
       "<g style=\"fill:rgb(0%,0%,0%);fill-opacity:1;\">\n",
       "  <use xlink:href=\"#glyph1-5\" x=\"12.824219\" y=\"252.800781\"/>\n",
       "  <use xlink:href=\"#glyph1-6\" x=\"12.824219\" y=\"246.800781\"/>\n",
       "  <use xlink:href=\"#glyph1-7\" x=\"12.824219\" y=\"239.800781\"/>\n",
       "</g>\n",
       "</g>\n",
       "</svg>\n"
      ],
      "text/plain": [
       "plot without title"
      ]
     },
     "metadata": {
      "application/pdf": {
       "height": 420,
       "width": 420
      },
      "image/jpeg": {
       "height": 420,
       "width": 420
      },
      "image/png": {
       "height": 420,
       "width": 420
      },
      "image/svg+xml": {
       "height": 420,
       "isolated": true,
       "width": 420
      }
     },
     "output_type": "display_data"
    }
   ],
   "source": [
    "maxIter = 1e3 # always limit the total iterations allowed\n",
    "val = c()\n",
    "val[1] = rnorm(1) ## initialize\n",
    "\n",
    "k = 1\n",
    "while (k <= maxIter) {\n",
    "  val[k + 1] = val[k] + rnorm(1)\n",
    "  k = k + 1\n",
    "  if(abs(val[k]) > 10)\n",
    "      break\n",
    "}\n",
    "val = val[1:k]\n",
    "\n",
    "plot(val, type = 'l')"
   ]
  },
  {
   "cell_type": "markdown",
   "metadata": {
    "id": "cbQT6tefRnxY"
   },
   "source": [
    "## Applying same functions across multiple columns of dataframe\n",
    "Very often in programming, it happens that you need to perform the same \"action\" on multiple \"things\". Examples we have already seen in this class:\n",
    "- `facet_wrap()`, `facet_grid()`: make the same plot for various combinations of factors.\n",
    "- `group_by()` + `summarize()`: compute the same statistic for various groups of data.\n",
    "\n"
   ]
  },
  {
   "cell_type": "markdown",
   "metadata": {},
   "source": [
    "### Performing the same action on multiple columns\n",
    "Consider the following table with four columns `a`-`d`:"
   ]
  },
  {
   "cell_type": "code",
   "execution_count": 95,
   "metadata": {},
   "outputs": [
    {
     "data": {
      "text/html": [
       "<table class=\"dataframe\">\n",
       "<caption>A tibble: 10 × 4</caption>\n",
       "<thead>\n",
       "\t<tr><th scope=col>a</th><th scope=col>b</th><th scope=col>c</th><th scope=col>d</th></tr>\n",
       "\t<tr><th scope=col>&lt;dbl&gt;</th><th scope=col>&lt;dbl&gt;</th><th scope=col>&lt;dbl&gt;</th><th scope=col>&lt;dbl&gt;</th></tr>\n",
       "</thead>\n",
       "<tbody>\n",
       "\t<tr><td> 0.3639825</td><td> 0.2793999</td><td> 0.75416291</td><td> 2.01025394</td></tr>\n",
       "\t<tr><td>-0.1702943</td><td>-0.5908596</td><td>-0.14913645</td><td>-1.28492751</td></tr>\n",
       "\t<tr><td>-0.4104605</td><td> 0.1788368</td><td>-0.75772881</td><td>-0.03415758</td></tr>\n",
       "\t<tr><td>-0.2826906</td><td> 0.7444509</td><td>-0.37238919</td><td>-1.64364691</td></tr>\n",
       "\t<tr><td>-1.0533577</td><td> 1.6824327</td><td> 0.90337647</td><td> 0.13716963</td></tr>\n",
       "\t<tr><td>-2.8917004</td><td> 0.6222882</td><td> 0.09402692</td><td> 0.93657431</td></tr>\n",
       "\t<tr><td> 1.0431000</td><td> 0.1721396</td><td>-1.53884170</td><td>-1.24873533</td></tr>\n",
       "\t<tr><td> 0.2759381</td><td> 1.7421926</td><td> 1.39494977</td><td> 0.74774049</td></tr>\n",
       "\t<tr><td> 1.6680250</td><td> 0.6707317</td><td>-1.56428548</td><td> 0.01547681</td></tr>\n",
       "\t<tr><td> 1.0976861</td><td>-1.3205504</td><td> 0.27465175</td><td>-0.06041460</td></tr>\n",
       "</tbody>\n",
       "</table>\n"
      ],
      "text/latex": [
       "A tibble: 10 × 4\n",
       "\\begin{tabular}{llll}\n",
       " a & b & c & d\\\\\n",
       " <dbl> & <dbl> & <dbl> & <dbl>\\\\\n",
       "\\hline\n",
       "\t  0.3639825 &  0.2793999 &  0.75416291 &  2.01025394\\\\\n",
       "\t -0.1702943 & -0.5908596 & -0.14913645 & -1.28492751\\\\\n",
       "\t -0.4104605 &  0.1788368 & -0.75772881 & -0.03415758\\\\\n",
       "\t -0.2826906 &  0.7444509 & -0.37238919 & -1.64364691\\\\\n",
       "\t -1.0533577 &  1.6824327 &  0.90337647 &  0.13716963\\\\\n",
       "\t -2.8917004 &  0.6222882 &  0.09402692 &  0.93657431\\\\\n",
       "\t  1.0431000 &  0.1721396 & -1.53884170 & -1.24873533\\\\\n",
       "\t  0.2759381 &  1.7421926 &  1.39494977 &  0.74774049\\\\\n",
       "\t  1.6680250 &  0.6707317 & -1.56428548 &  0.01547681\\\\\n",
       "\t  1.0976861 & -1.3205504 &  0.27465175 & -0.06041460\\\\\n",
       "\\end{tabular}\n"
      ],
      "text/markdown": [
       "\n",
       "A tibble: 10 × 4\n",
       "\n",
       "| a &lt;dbl&gt; | b &lt;dbl&gt; | c &lt;dbl&gt; | d &lt;dbl&gt; |\n",
       "|---|---|---|---|\n",
       "|  0.3639825 |  0.2793999 |  0.75416291 |  2.01025394 |\n",
       "| -0.1702943 | -0.5908596 | -0.14913645 | -1.28492751 |\n",
       "| -0.4104605 |  0.1788368 | -0.75772881 | -0.03415758 |\n",
       "| -0.2826906 |  0.7444509 | -0.37238919 | -1.64364691 |\n",
       "| -1.0533577 |  1.6824327 |  0.90337647 |  0.13716963 |\n",
       "| -2.8917004 |  0.6222882 |  0.09402692 |  0.93657431 |\n",
       "|  1.0431000 |  0.1721396 | -1.53884170 | -1.24873533 |\n",
       "|  0.2759381 |  1.7421926 |  1.39494977 |  0.74774049 |\n",
       "|  1.6680250 |  0.6707317 | -1.56428548 |  0.01547681 |\n",
       "|  1.0976861 | -1.3205504 |  0.27465175 | -0.06041460 |\n",
       "\n"
      ],
      "text/plain": [
       "   a          b          c           d          \n",
       "1   0.3639825  0.2793999  0.75416291  2.01025394\n",
       "2  -0.1702943 -0.5908596 -0.14913645 -1.28492751\n",
       "3  -0.4104605  0.1788368 -0.75772881 -0.03415758\n",
       "4  -0.2826906  0.7444509 -0.37238919 -1.64364691\n",
       "5  -1.0533577  1.6824327  0.90337647  0.13716963\n",
       "6  -2.8917004  0.6222882  0.09402692  0.93657431\n",
       "7   1.0431000  0.1721396 -1.53884170 -1.24873533\n",
       "8   0.2759381  1.7421926  1.39494977  0.74774049\n",
       "9   1.6680250  0.6707317 -1.56428548  0.01547681\n",
       "10  1.0976861 -1.3205504  0.27465175 -0.06041460"
      ]
     },
     "metadata": {},
     "output_type": "display_data"
    }
   ],
   "source": [
    "df <- tibble(\n",
    "  a = rnorm(10),\n",
    "  b = rnorm(10),\n",
    "  c = rnorm(10),\n",
    "  d = rnorm(10)\n",
    ")\n",
    "df"
   ]
  },
  {
   "cell_type": "markdown",
   "metadata": {},
   "source": [
    "Using the z-score example above multiple times"
   ]
  },
  {
   "cell_type": "code",
   "execution_count": 96,
   "metadata": {},
   "outputs": [
    {
     "data": {
      "text/html": [
       "<table class=\"dataframe\">\n",
       "<caption>A tibble: 10 × 4</caption>\n",
       "<thead>\n",
       "\t<tr><th scope=col>a</th><th scope=col>b</th><th scope=col>c</th><th scope=col>d</th></tr>\n",
       "\t<tr><th scope=col>&lt;dbl&gt;</th><th scope=col>&lt;dbl&gt;</th><th scope=col>&lt;dbl&gt;</th><th scope=col>&lt;dbl&gt;</th></tr>\n",
       "</thead>\n",
       "<tbody>\n",
       "\t<tr><td> 0.3096027</td><td>-0.1495548</td><td> 0.8563618</td><td> 1.82427427</td></tr>\n",
       "\t<tr><td>-0.1039729</td><td>-1.0878789</td><td>-0.0533940</td><td>-1.10418793</td></tr>\n",
       "\t<tr><td>-0.2898818</td><td>-0.2579832</td><td>-0.6663364</td><td> 0.00738438</td></tr>\n",
       "\t<tr><td>-0.1909771</td><td> 0.3518686</td><td>-0.2782425</td><td>-1.42298561</td></tr>\n",
       "\t<tr><td>-0.7875387</td><td> 1.3632117</td><td> 1.0066419</td><td> 0.15964467</td></tr>\n",
       "\t<tr><td>-2.2105717</td><td> 0.2201514</td><td> 0.1915074</td><td> 0.87008396</td></tr>\n",
       "\t<tr><td> 0.8352972</td><td>-0.2652041</td><td>-1.4530324</td><td>-1.07202356</td></tr>\n",
       "\t<tr><td> 0.2414489</td><td> 1.4276456</td><td> 1.5017288</td><td> 0.70226536</td></tr>\n",
       "\t<tr><td> 1.3190421</td><td> 0.2723837</td><td>-1.4786581</td><td> 0.05149498</td></tr>\n",
       "\t<tr><td> 0.8775514</td><td>-1.8746401</td><td> 0.3734233</td><td>-0.01595050</td></tr>\n",
       "</tbody>\n",
       "</table>\n"
      ],
      "text/latex": [
       "A tibble: 10 × 4\n",
       "\\begin{tabular}{llll}\n",
       " a & b & c & d\\\\\n",
       " <dbl> & <dbl> & <dbl> & <dbl>\\\\\n",
       "\\hline\n",
       "\t  0.3096027 & -0.1495548 &  0.8563618 &  1.82427427\\\\\n",
       "\t -0.1039729 & -1.0878789 & -0.0533940 & -1.10418793\\\\\n",
       "\t -0.2898818 & -0.2579832 & -0.6663364 &  0.00738438\\\\\n",
       "\t -0.1909771 &  0.3518686 & -0.2782425 & -1.42298561\\\\\n",
       "\t -0.7875387 &  1.3632117 &  1.0066419 &  0.15964467\\\\\n",
       "\t -2.2105717 &  0.2201514 &  0.1915074 &  0.87008396\\\\\n",
       "\t  0.8352972 & -0.2652041 & -1.4530324 & -1.07202356\\\\\n",
       "\t  0.2414489 &  1.4276456 &  1.5017288 &  0.70226536\\\\\n",
       "\t  1.3190421 &  0.2723837 & -1.4786581 &  0.05149498\\\\\n",
       "\t  0.8775514 & -1.8746401 &  0.3734233 & -0.01595050\\\\\n",
       "\\end{tabular}\n"
      ],
      "text/markdown": [
       "\n",
       "A tibble: 10 × 4\n",
       "\n",
       "| a &lt;dbl&gt; | b &lt;dbl&gt; | c &lt;dbl&gt; | d &lt;dbl&gt; |\n",
       "|---|---|---|---|\n",
       "|  0.3096027 | -0.1495548 |  0.8563618 |  1.82427427 |\n",
       "| -0.1039729 | -1.0878789 | -0.0533940 | -1.10418793 |\n",
       "| -0.2898818 | -0.2579832 | -0.6663364 |  0.00738438 |\n",
       "| -0.1909771 |  0.3518686 | -0.2782425 | -1.42298561 |\n",
       "| -0.7875387 |  1.3632117 |  1.0066419 |  0.15964467 |\n",
       "| -2.2105717 |  0.2201514 |  0.1915074 |  0.87008396 |\n",
       "|  0.8352972 | -0.2652041 | -1.4530324 | -1.07202356 |\n",
       "|  0.2414489 |  1.4276456 |  1.5017288 |  0.70226536 |\n",
       "|  1.3190421 |  0.2723837 | -1.4786581 |  0.05149498 |\n",
       "|  0.8775514 | -1.8746401 |  0.3734233 | -0.01595050 |\n",
       "\n"
      ],
      "text/plain": [
       "   a          b          c          d          \n",
       "1   0.3096027 -0.1495548  0.8563618  1.82427427\n",
       "2  -0.1039729 -1.0878789 -0.0533940 -1.10418793\n",
       "3  -0.2898818 -0.2579832 -0.6663364  0.00738438\n",
       "4  -0.1909771  0.3518686 -0.2782425 -1.42298561\n",
       "5  -0.7875387  1.3632117  1.0066419  0.15964467\n",
       "6  -2.2105717  0.2201514  0.1915074  0.87008396\n",
       "7   0.8352972 -0.2652041 -1.4530324 -1.07202356\n",
       "8   0.2414489  1.4276456  1.5017288  0.70226536\n",
       "9   1.3190421  0.2723837 -1.4786581  0.05149498\n",
       "10  0.8775514 -1.8746401  0.3734233 -0.01595050"
      ]
     },
     "metadata": {},
     "output_type": "display_data"
    },
    {
     "name": "stdout",
     "output_type": "stream",
     "text": [
      "\u001b[90m# A tibble: 10 × 4\u001b[39m\n",
      "        a      b       c       d\n",
      "    \u001b[3m\u001b[90m<dbl>\u001b[39m\u001b[23m  \u001b[3m\u001b[90m<dbl>\u001b[39m\u001b[23m   \u001b[3m\u001b[90m<dbl>\u001b[39m\u001b[23m   \u001b[3m\u001b[90m<dbl>\u001b[39m\u001b[23m\n",
      "\u001b[90m 1\u001b[39m  0.364  0.279  0.754   2.01  \n",
      "\u001b[90m 2\u001b[39m -\u001b[31m0\u001b[39m\u001b[31m.\u001b[39m\u001b[31m170\u001b[39m -\u001b[31m0\u001b[39m\u001b[31m.\u001b[39m\u001b[31m591\u001b[39m -\u001b[31m0\u001b[39m\u001b[31m.\u001b[39m\u001b[31m149\u001b[39m  -\u001b[31m1\u001b[39m\u001b[31m.\u001b[39m\u001b[31m28\u001b[39m  \n",
      "\u001b[90m 3\u001b[39m -\u001b[31m0\u001b[39m\u001b[31m.\u001b[39m\u001b[31m410\u001b[39m  0.179 -\u001b[31m0\u001b[39m\u001b[31m.\u001b[39m\u001b[31m758\u001b[39m  -\u001b[31m0\u001b[39m\u001b[31m.\u001b[39m\u001b[31m0\u001b[39m\u001b[31m34\u001b[4m2\u001b[24m\u001b[39m\n",
      "\u001b[90m 4\u001b[39m -\u001b[31m0\u001b[39m\u001b[31m.\u001b[39m\u001b[31m283\u001b[39m  0.744 -\u001b[31m0\u001b[39m\u001b[31m.\u001b[39m\u001b[31m372\u001b[39m  -\u001b[31m1\u001b[39m\u001b[31m.\u001b[39m\u001b[31m64\u001b[39m  \n",
      "\u001b[90m 5\u001b[39m -\u001b[31m1\u001b[39m\u001b[31m.\u001b[39m\u001b[31m0\u001b[39m\u001b[31m5\u001b[39m   1.68   0.903   0.137 \n",
      "\u001b[90m 6\u001b[39m -\u001b[31m2\u001b[39m\u001b[31m.\u001b[39m\u001b[31m89\u001b[39m   0.622  0.094\u001b[4m0\u001b[24m  0.937 \n",
      "\u001b[90m 7\u001b[39m  1.04   0.172 -\u001b[31m1\u001b[39m\u001b[31m.\u001b[39m\u001b[31m54\u001b[39m   -\u001b[31m1\u001b[39m\u001b[31m.\u001b[39m\u001b[31m25\u001b[39m  \n",
      "\u001b[90m 8\u001b[39m  0.276  1.74   1.39    0.748 \n",
      "\u001b[90m 9\u001b[39m  1.67   0.671 -\u001b[31m1\u001b[39m\u001b[31m.\u001b[39m\u001b[31m56\u001b[39m    0.015\u001b[4m5\u001b[24m\n",
      "\u001b[90m10\u001b[39m  1.10  -\u001b[31m1\u001b[39m\u001b[31m.\u001b[39m\u001b[31m32\u001b[39m   0.275  -\u001b[31m0\u001b[39m\u001b[31m.\u001b[39m\u001b[31m0\u001b[39m\u001b[31m60\u001b[4m4\u001b[24m\u001b[39m\n"
     ]
    }
   ],
   "source": [
    "# mutate the manual way. Your numbers would be different due to randomness\n",
    "df %>% mutate(a = z_score2(a),\n",
    "b = z_score2(b),\n",
    "c = z_score2(c),\n",
    "d = z_score2(d))\n",
    "\n",
    "df %>% print"
   ]
  },
  {
   "cell_type": "markdown",
   "metadata": {},
   "source": [
    "In the preceding example, we just copy-pasted the same bit of code four times. From now on, we shall adopt a rule: \"never copy-paste more than twice!\" If you find yourself copy-pasting code more than two times, it pays to think of a better way to accomplish the task at hand."
   ]
  },
  {
   "cell_type": "markdown",
   "metadata": {},
   "source": [
    "### `across()`\n",
    "The better way in this case is to use a new `dplyr` verb called `across()`. Of course, we have used this earlier. Here is an example"
   ]
  },
  {
   "cell_type": "code",
   "execution_count": 98,
   "metadata": {},
   "outputs": [
    {
     "name": "stdout",
     "output_type": "stream",
     "text": [
      "\u001b[90m# A tibble: 10 × 4\u001b[39m\n",
      "        a      b       c        d\n",
      "    \u001b[3m\u001b[90m<dbl>\u001b[39m\u001b[23m  \u001b[3m\u001b[90m<dbl>\u001b[39m\u001b[23m   \u001b[3m\u001b[90m<dbl>\u001b[39m\u001b[23m    \u001b[3m\u001b[90m<dbl>\u001b[39m\u001b[23m\n",
      "\u001b[90m 1\u001b[39m  0.310 -\u001b[31m0\u001b[39m\u001b[31m.\u001b[39m\u001b[31m150\u001b[39m  0.856   1.82   \n",
      "\u001b[90m 2\u001b[39m -\u001b[31m0\u001b[39m\u001b[31m.\u001b[39m\u001b[31m104\u001b[39m -\u001b[31m1\u001b[39m\u001b[31m.\u001b[39m\u001b[31m0\u001b[39m\u001b[31m9\u001b[39m  -\u001b[31m0\u001b[39m\u001b[31m.\u001b[39m\u001b[31m0\u001b[39m\u001b[31m53\u001b[4m4\u001b[24m\u001b[39m -\u001b[31m1\u001b[39m\u001b[31m.\u001b[39m\u001b[31m10\u001b[39m   \n",
      "\u001b[90m 3\u001b[39m -\u001b[31m0\u001b[39m\u001b[31m.\u001b[39m\u001b[31m290\u001b[39m -\u001b[31m0\u001b[39m\u001b[31m.\u001b[39m\u001b[31m258\u001b[39m -\u001b[31m0\u001b[39m\u001b[31m.\u001b[39m\u001b[31m666\u001b[39m   0.007\u001b[4m3\u001b[24m\u001b[4m8\u001b[24m\n",
      "\u001b[90m 4\u001b[39m -\u001b[31m0\u001b[39m\u001b[31m.\u001b[39m\u001b[31m191\u001b[39m  0.352 -\u001b[31m0\u001b[39m\u001b[31m.\u001b[39m\u001b[31m278\u001b[39m  -\u001b[31m1\u001b[39m\u001b[31m.\u001b[39m\u001b[31m42\u001b[39m   \n",
      "\u001b[90m 5\u001b[39m -\u001b[31m0\u001b[39m\u001b[31m.\u001b[39m\u001b[31m788\u001b[39m  1.36   1.01    0.160  \n",
      "\u001b[90m 6\u001b[39m -\u001b[31m2\u001b[39m\u001b[31m.\u001b[39m\u001b[31m21\u001b[39m   0.220  0.192   0.870  \n",
      "\u001b[90m 7\u001b[39m  0.835 -\u001b[31m0\u001b[39m\u001b[31m.\u001b[39m\u001b[31m265\u001b[39m -\u001b[31m1\u001b[39m\u001b[31m.\u001b[39m\u001b[31m45\u001b[39m   -\u001b[31m1\u001b[39m\u001b[31m.\u001b[39m\u001b[31m0\u001b[39m\u001b[31m7\u001b[39m   \n",
      "\u001b[90m 8\u001b[39m  0.241  1.43   1.50    0.702  \n",
      "\u001b[90m 9\u001b[39m  1.32   0.272 -\u001b[31m1\u001b[39m\u001b[31m.\u001b[39m\u001b[31m48\u001b[39m    0.051\u001b[4m5\u001b[24m \n",
      "\u001b[90m10\u001b[39m  0.878 -\u001b[31m1\u001b[39m\u001b[31m.\u001b[39m\u001b[31m87\u001b[39m   0.373  -\u001b[31m0\u001b[39m\u001b[31m.\u001b[39m\u001b[31m0\u001b[39m\u001b[31m16\u001b[4m0\u001b[24m\u001b[39m \n"
     ]
    }
   ],
   "source": [
    "# use across instead\n",
    "df %>% mutate(across(everything(), z_score2)) %>% print"
   ]
  },
  {
   "cell_type": "markdown",
   "metadata": {},
   "source": [
    "The columns selected by `across()` work in the same way as `select`:"
   ]
  },
  {
   "cell_type": "code",
   "execution_count": 99,
   "metadata": {},
   "outputs": [
    {
     "data": {
      "text/html": [
       "<table class=\"dataframe\">\n",
       "<caption>A tibble: 1 × 4</caption>\n",
       "<thead>\n",
       "\t<tr><th scope=col>a</th><th scope=col>b</th><th scope=col>c</th><th scope=col>d</th></tr>\n",
       "\t<tr><th scope=col>&lt;dbl&gt;</th><th scope=col>&lt;dbl&gt;</th><th scope=col>&lt;dbl&gt;</th><th scope=col>&lt;dbl&gt;</th></tr>\n",
       "</thead>\n",
       "<tbody>\n",
       "\t<tr><td>-0.03597716</td><td>2.775558e-17</td><td>-3.193517e-17</td><td>1.828388e-17</td></tr>\n",
       "</tbody>\n",
       "</table>\n"
      ],
      "text/latex": [
       "A tibble: 1 × 4\n",
       "\\begin{tabular}{llll}\n",
       " a & b & c & d\\\\\n",
       " <dbl> & <dbl> & <dbl> & <dbl>\\\\\n",
       "\\hline\n",
       "\t -0.03597716 & 2.775558e-17 & -3.193517e-17 & 1.828388e-17\\\\\n",
       "\\end{tabular}\n"
      ],
      "text/markdown": [
       "\n",
       "A tibble: 1 × 4\n",
       "\n",
       "| a &lt;dbl&gt; | b &lt;dbl&gt; | c &lt;dbl&gt; | d &lt;dbl&gt; |\n",
       "|---|---|---|---|\n",
       "| -0.03597716 | 2.775558e-17 | -3.193517e-17 | 1.828388e-17 |\n",
       "\n"
      ],
      "text/plain": [
       "  a           b            c             d           \n",
       "1 -0.03597716 2.775558e-17 -3.193517e-17 1.828388e-17"
      ]
     },
     "metadata": {},
     "output_type": "display_data"
    }
   ],
   "source": [
    "# standardize everything except column a, then compute the mean\n",
    "\n",
    "df %>% mutate(across(b:d, z_score2)) %>% \n",
    "  summarise(across(everything(), mean))"
   ]
  },
  {
   "cell_type": "code",
   "execution_count": 37,
   "metadata": {},
   "outputs": [
    {
     "name": "stdout",
     "output_type": "stream",
     "text": [
      "\u001b[90m# A tibble: 234 × 11\u001b[39m\n",
      "   manufacturer model  displ   year     cyl trans drv      cty   hwy fl    class\n",
      "   \u001b[3m\u001b[90m<chr>\u001b[39m\u001b[23m        \u001b[3m\u001b[90m<chr>\u001b[39m\u001b[23m  \u001b[3m\u001b[90m<dbl>\u001b[39m\u001b[23m  \u001b[3m\u001b[90m<dbl>\u001b[39m\u001b[23m   \u001b[3m\u001b[90m<dbl>\u001b[39m\u001b[23m \u001b[3m\u001b[90m<chr>\u001b[39m\u001b[23m \u001b[3m\u001b[90m<chr>\u001b[39m\u001b[23m  \u001b[3m\u001b[90m<dbl>\u001b[39m\u001b[23m \u001b[3m\u001b[90m<dbl>\u001b[39m\u001b[23m \u001b[3m\u001b[90m<chr>\u001b[39m\u001b[23m \u001b[3m\u001b[90m<chr>\u001b[39m\u001b[23m\n",
      "\u001b[90m 1\u001b[39m audi         a4    -\u001b[31m1\u001b[39m\u001b[31m.\u001b[39m\u001b[31m29\u001b[39m  -\u001b[31m0\u001b[39m\u001b[31m.\u001b[39m\u001b[31m998\u001b[39m -\u001b[31m1\u001b[39m\u001b[31m.\u001b[39m\u001b[31m17\u001b[39m   auto… f      0.268 0.934 p     comp…\n",
      "\u001b[90m 2\u001b[39m audi         a4    -\u001b[31m1\u001b[39m\u001b[31m.\u001b[39m\u001b[31m29\u001b[39m  -\u001b[31m0\u001b[39m\u001b[31m.\u001b[39m\u001b[31m998\u001b[39m -\u001b[31m1\u001b[39m\u001b[31m.\u001b[39m\u001b[31m17\u001b[39m   manu… f      0.973 0.934 p     comp…\n",
      "\u001b[90m 3\u001b[39m audi         a4    -\u001b[31m1\u001b[39m\u001b[31m.\u001b[39m\u001b[31m14\u001b[39m   0.998 -\u001b[31m1\u001b[39m\u001b[31m.\u001b[39m\u001b[31m17\u001b[39m   manu… f      0.738 1.27  p     comp…\n",
      "\u001b[90m 4\u001b[39m audi         a4    -\u001b[31m1\u001b[39m\u001b[31m.\u001b[39m\u001b[31m14\u001b[39m   0.998 -\u001b[31m1\u001b[39m\u001b[31m.\u001b[39m\u001b[31m17\u001b[39m   auto… f      0.973 1.10  p     comp…\n",
      "\u001b[90m 5\u001b[39m audi         a4    -\u001b[31m0\u001b[39m\u001b[31m.\u001b[39m\u001b[31m520\u001b[39m -\u001b[31m0\u001b[39m\u001b[31m.\u001b[39m\u001b[31m998\u001b[39m  0.068\u001b[4m9\u001b[24m auto… f     -\u001b[31m0\u001b[39m\u001b[31m.\u001b[39m\u001b[31m202\u001b[39m 0.430 p     comp…\n",
      "\u001b[90m 6\u001b[39m audi         a4    -\u001b[31m0\u001b[39m\u001b[31m.\u001b[39m\u001b[31m520\u001b[39m -\u001b[31m0\u001b[39m\u001b[31m.\u001b[39m\u001b[31m998\u001b[39m  0.068\u001b[4m9\u001b[24m manu… f      0.268 0.430 p     comp…\n",
      "\u001b[90m 7\u001b[39m audi         a4    -\u001b[31m0\u001b[39m\u001b[31m.\u001b[39m\u001b[31m288\u001b[39m  0.998  0.068\u001b[4m9\u001b[24m auto… f      0.268 0.598 p     comp…\n",
      "\u001b[90m 8\u001b[39m audi         a4 q… -\u001b[31m1\u001b[39m\u001b[31m.\u001b[39m\u001b[31m29\u001b[39m  -\u001b[31m0\u001b[39m\u001b[31m.\u001b[39m\u001b[31m998\u001b[39m -\u001b[31m1\u001b[39m\u001b[31m.\u001b[39m\u001b[31m17\u001b[39m   manu… 4      0.268 0.430 p     comp…\n",
      "\u001b[90m 9\u001b[39m audi         a4 q… -\u001b[31m1\u001b[39m\u001b[31m.\u001b[39m\u001b[31m29\u001b[39m  -\u001b[31m0\u001b[39m\u001b[31m.\u001b[39m\u001b[31m998\u001b[39m -\u001b[31m1\u001b[39m\u001b[31m.\u001b[39m\u001b[31m17\u001b[39m   auto… 4     -\u001b[31m0\u001b[39m\u001b[31m.\u001b[39m\u001b[31m202\u001b[39m 0.262 p     comp…\n",
      "\u001b[90m10\u001b[39m audi         a4 q… -\u001b[31m1\u001b[39m\u001b[31m.\u001b[39m\u001b[31m14\u001b[39m   0.998 -\u001b[31m1\u001b[39m\u001b[31m.\u001b[39m\u001b[31m17\u001b[39m   manu… 4      0.738 0.766 p     comp…\n",
      "\u001b[90m# ℹ 224 more rows\u001b[39m\n"
     ]
    }
   ],
   "source": [
    "# standardize only the numerical columns\n",
    "mpg %>% mutate(across(where(is.numeric), z_score3)) %>% print"
   ]
  },
  {
   "cell_type": "markdown",
   "metadata": {},
   "source": [
    "using `sapply`"
   ]
  },
  {
   "cell_type": "code",
   "execution_count": 107,
   "metadata": {},
   "outputs": [
    {
     "data": {
      "text/html": [
       "<style>\n",
       ".dl-inline {width: auto; margin:0; padding: 0}\n",
       ".dl-inline>dt, .dl-inline>dd {float: none; width: auto; display: inline-block}\n",
       ".dl-inline>dt::after {content: \":\\0020\"; padding-right: .5ex}\n",
       ".dl-inline>dt:not(:first-of-type) {padding-left: .5ex}\n",
       "</style><dl class=dl-inline><dt>displ</dt><dd>3.47179487179487</dd><dt>year</dt><dd>2003.5</dd><dt>cyl</dt><dd>5.88888888888889</dd><dt>cty</dt><dd>16.8589743589744</dd><dt>hwy</dt><dd>23.4401709401709</dd></dl>\n"
      ],
      "text/latex": [
       "\\begin{description*}\n",
       "\\item[displ] 3.47179487179487\n",
       "\\item[year] 2003.5\n",
       "\\item[cyl] 5.88888888888889\n",
       "\\item[cty] 16.8589743589744\n",
       "\\item[hwy] 23.4401709401709\n",
       "\\end{description*}\n"
      ],
      "text/markdown": [
       "displ\n",
       ":   3.47179487179487year\n",
       ":   2003.5cyl\n",
       ":   5.88888888888889cty\n",
       ":   16.8589743589744hwy\n",
       ":   23.4401709401709\n",
       "\n"
      ],
      "text/plain": [
       "      displ        year         cyl         cty         hwy \n",
       "   3.471795 2003.500000    5.888889   16.858974   23.440171 "
      ]
     },
     "metadata": {},
     "output_type": "display_data"
    }
   ],
   "source": [
    "mpg %>% select(where(is.numeric)) %>% sapply(mean)"
   ]
  },
  {
   "cell_type": "markdown",
   "metadata": {},
   "source": [
    "`summarize` also gets the same result"
   ]
  },
  {
   "cell_type": "code",
   "execution_count": 106,
   "metadata": {},
   "outputs": [
    {
     "data": {
      "text/html": [
       "<table class=\"dataframe\">\n",
       "<caption>A tibble: 1 × 2</caption>\n",
       "<thead>\n",
       "\t<tr><th scope=col>displ_m</th><th scope=col>cyl_m</th></tr>\n",
       "\t<tr><th scope=col>&lt;dbl&gt;</th><th scope=col>&lt;dbl&gt;</th></tr>\n",
       "</thead>\n",
       "<tbody>\n",
       "\t<tr><td>3.471795</td><td>5.888889</td></tr>\n",
       "</tbody>\n",
       "</table>\n"
      ],
      "text/latex": [
       "A tibble: 1 × 2\n",
       "\\begin{tabular}{ll}\n",
       " displ\\_m & cyl\\_m\\\\\n",
       " <dbl> & <dbl>\\\\\n",
       "\\hline\n",
       "\t 3.471795 & 5.888889\\\\\n",
       "\\end{tabular}\n"
      ],
      "text/markdown": [
       "\n",
       "A tibble: 1 × 2\n",
       "\n",
       "| displ_m &lt;dbl&gt; | cyl_m &lt;dbl&gt; |\n",
       "|---|---|\n",
       "| 3.471795 | 5.888889 |\n",
       "\n"
      ],
      "text/plain": [
       "  displ_m  cyl_m   \n",
       "1 3.471795 5.888889"
      ]
     },
     "metadata": {},
     "output_type": "display_data"
    }
   ],
   "source": [
    "mpg %>% select(where(is.numeric)) %>% summarize(displ_m = mean(.$displ), cyl_m = mean(cyl))"
   ]
  },
  {
   "cell_type": "markdown",
   "metadata": {
    "id": "5TFrrXCAcnDe"
   },
   "source": [
    "## Dataframe functions\n",
    "\n",
    "A case of a problem of `indirection`, as `dplyr` uses `tidy evaluation` to allow you to refer to the names of variables inside your data frame without any special treatment."
   ]
  },
  {
   "cell_type": "code",
   "execution_count": 109,
   "metadata": {
    "colab": {
     "base_uri": "https://localhost:8080/",
     "height": 310
    },
    "id": "7wSvTLhXc1BY",
    "outputId": "6de88b6c-275f-48dc-d83a-45975e09e32b"
   },
   "outputs": [
    {
     "ename": "ERROR",
     "evalue": "\u001b[1m\u001b[33mError\u001b[39m in `group_by()`:\u001b[22m\n\u001b[1m\u001b[22m\u001b[33m!\u001b[39m Must group by variables found in `.data`.\n\u001b[31m✖\u001b[39m Column `group_var` is not found.\n",
     "output_type": "error",
     "traceback": [
      "\u001b[1m\u001b[33mError\u001b[39m in `group_by()`:\u001b[22m\n\u001b[1m\u001b[22m\u001b[33m!\u001b[39m Must group by variables found in `.data`.\n\u001b[31m✖\u001b[39m Column `group_var` is not found.\nTraceback:\n",
      "1. grouped_mean(mpg, model, hwy)",
      "2. df %>% group_by(group_var) %>% summarize(mean(mean_var))   # at line 2-4 of file <text>",
      "3. summarize(., mean(mean_var))",
      "4. group_by(., group_var)",
      "5. group_by.data.frame(., group_var)",
      "6. group_by_prepare(.data, ..., .add = .add, error_call = current_env())",
      "7. abort(bullets, call = error_call)",
      "8. signal_abort(cnd, .file)"
     ]
    }
   ],
   "source": [
    "grouped_mean <- function(df, group_var, mean_var) {\n",
    "  df %>% \n",
    "    group_by(group_var) %>%\n",
    "    summarize(mean(mean_var))\n",
    "}\n",
    "\n",
    "grouped_mean(mpg, model, hwy)"
   ]
  },
  {
   "cell_type": "code",
   "execution_count": null,
   "metadata": {
    "colab": {
     "base_uri": "https://localhost:8080/",
     "height": 286
    },
    "id": "2lvE6L_adDSS",
    "outputId": "0325dbc0-a6b9-40c1-a2ad-8b19398e9aaf"
   },
   "outputs": [
    {
     "data": {
      "text/html": [
       "<table class=\"dataframe\">\n",
       "<caption>A tibble: 6 × 2</caption>\n",
       "<thead>\n",
       "\t<tr><th scope=col>model</th><th scope=col>mean(hwy)</th></tr>\n",
       "\t<tr><th scope=col>&lt;chr&gt;</th><th scope=col>&lt;dbl&gt;</th></tr>\n",
       "</thead>\n",
       "<tbody>\n",
       "\t<tr><td>4runner 4wd       </td><td>18.83333</td></tr>\n",
       "\t<tr><td>a4                </td><td>28.28571</td></tr>\n",
       "\t<tr><td>a4 quattro        </td><td>25.75000</td></tr>\n",
       "\t<tr><td>a6 quattro        </td><td>24.00000</td></tr>\n",
       "\t<tr><td>altima            </td><td>28.66667</td></tr>\n",
       "\t<tr><td>c1500 suburban 2wd</td><td>17.80000</td></tr>\n",
       "</tbody>\n",
       "</table>\n"
      ],
      "text/latex": [
       "A tibble: 6 × 2\n",
       "\\begin{tabular}{ll}\n",
       " model & mean(hwy)\\\\\n",
       " <chr> & <dbl>\\\\\n",
       "\\hline\n",
       "\t 4runner 4wd        & 18.83333\\\\\n",
       "\t a4                 & 28.28571\\\\\n",
       "\t a4 quattro         & 25.75000\\\\\n",
       "\t a6 quattro         & 24.00000\\\\\n",
       "\t altima             & 28.66667\\\\\n",
       "\t c1500 suburban 2wd & 17.80000\\\\\n",
       "\\end{tabular}\n"
      ],
      "text/markdown": [
       "\n",
       "A tibble: 6 × 2\n",
       "\n",
       "| model &lt;chr&gt; | mean(hwy) &lt;dbl&gt; |\n",
       "|---|---|\n",
       "| 4runner 4wd        | 18.83333 |\n",
       "| a4                 | 28.28571 |\n",
       "| a4 quattro         | 25.75000 |\n",
       "| a6 quattro         | 24.00000 |\n",
       "| altima             | 28.66667 |\n",
       "| c1500 suburban 2wd | 17.80000 |\n",
       "\n"
      ],
      "text/plain": [
       "  model              mean(hwy)\n",
       "1 4runner 4wd        18.83333 \n",
       "2 a4                 28.28571 \n",
       "3 a4 quattro         25.75000 \n",
       "4 a6 quattro         24.00000 \n",
       "5 altima             28.66667 \n",
       "6 c1500 suburban 2wd 17.80000 "
      ]
     },
     "metadata": {},
     "output_type": "display_data"
    }
   ],
   "source": [
    "mpg %>% group_by(model) %>% summarise(mean(hwy))"
   ]
  },
  {
   "cell_type": "markdown",
   "metadata": {
    "id": "e-HInchNexcy"
   },
   "source": [
    "### Fix with embracing `{{ }}`"
   ]
  },
  {
   "cell_type": "code",
   "execution_count": null,
   "metadata": {
    "colab": {
     "base_uri": "https://localhost:8080/",
     "height": 286
    },
    "id": "otjDdfr8sF_5",
    "outputId": "a7137a9d-030c-40ad-bf22-49844b91812f"
   },
   "outputs": [],
   "source": [
    "grouped_mean <- function(df, group_var, mean_var) {\n",
    "  df %>% \n",
    "    group_by(group_var) |> \n",
    "    summarize(mean(mean_var))\n",
    "}\n",
    "\n",
    "grouped_mean(mpg, model, hwy) %>% head"
   ]
  },
  {
   "cell_type": "markdown",
   "metadata": {
    "id": "eaaqoymmgTe2"
   },
   "source": [
    "### When to embrace?🤔\n",
    "\n",
    "There are two terms to look for in the docs which correspond to the two most common sub-types of tidy evaluation:\n",
    "\n",
    "* Data-masking: this is used in functions like arrange(), filter(), and summarize() that compute with variables.\n",
    "\n",
    "* Tidy-selection: this is used for functions like select(), relocate(), and rename() that select variables."
   ]
  },
  {
   "cell_type": "markdown",
   "metadata": {
    "id": "gclOUru_tZRC"
   },
   "source": [
    "## Pick function\n",
    "\n",
    "Applied for verbs that use data-masking when sub-selecting the columns"
   ]
  },
  {
   "cell_type": "code",
   "execution_count": null,
   "metadata": {
    "colab": {
     "base_uri": "https://localhost:8080/",
     "height": 286
    },
    "id": "LjMSX_YrskNs",
    "outputId": "550a24bc-3bb6-4ce5-bfd6-ed3297888e59"
   },
   "outputs": [
    {
     "data": {
      "text/html": [
       "<table class=\"dataframe\">\n",
       "<caption>A tibble: 6 × 3</caption>\n",
       "<thead>\n",
       "\t<tr><th scope=col>manufacturer</th><th scope=col>model</th><th scope=col>mean</th></tr>\n",
       "\t<tr><th scope=col>&lt;chr&gt;</th><th scope=col>&lt;chr&gt;</th><th scope=col>&lt;dbl&gt;</th></tr>\n",
       "</thead>\n",
       "<tbody>\n",
       "\t<tr><td>audi     </td><td>a4                </td><td>0</td></tr>\n",
       "\t<tr><td>audi     </td><td>a4 quattro        </td><td>0</td></tr>\n",
       "\t<tr><td>audi     </td><td>a6 quattro        </td><td>0</td></tr>\n",
       "\t<tr><td>chevrolet</td><td>c1500 suburban 2wd</td><td>0</td></tr>\n",
       "\t<tr><td>chevrolet</td><td>corvette          </td><td>0</td></tr>\n",
       "\t<tr><td>chevrolet</td><td>k1500 tahoe 4wd   </td><td>0</td></tr>\n",
       "</tbody>\n",
       "</table>\n"
      ],
      "text/latex": [
       "A tibble: 6 × 3\n",
       "\\begin{tabular}{lll}\n",
       " manufacturer & model & mean\\\\\n",
       " <chr> & <chr> & <dbl>\\\\\n",
       "\\hline\n",
       "\t audi      & a4                 & 0\\\\\n",
       "\t audi      & a4 quattro         & 0\\\\\n",
       "\t audi      & a6 quattro         & 0\\\\\n",
       "\t chevrolet & c1500 suburban 2wd & 0\\\\\n",
       "\t chevrolet & corvette           & 0\\\\\n",
       "\t chevrolet & k1500 tahoe 4wd    & 0\\\\\n",
       "\\end{tabular}\n"
      ],
      "text/markdown": [
       "\n",
       "A tibble: 6 × 3\n",
       "\n",
       "| manufacturer &lt;chr&gt; | model &lt;chr&gt; | mean &lt;dbl&gt; |\n",
       "|---|---|---|\n",
       "| audi      | a4                 | 0 |\n",
       "| audi      | a4 quattro         | 0 |\n",
       "| audi      | a6 quattro         | 0 |\n",
       "| chevrolet | c1500 suburban 2wd | 0 |\n",
       "| chevrolet | corvette           | 0 |\n",
       "| chevrolet | k1500 tahoe 4wd    | 0 |\n",
       "\n"
      ],
      "text/plain": [
       "  manufacturer model              mean\n",
       "1 audi         a4                 0   \n",
       "2 audi         a4 quattro         0   \n",
       "3 audi         a6 quattro         0   \n",
       "4 chevrolet    c1500 suburban 2wd 0   \n",
       "5 chevrolet    corvette           0   \n",
       "6 chevrolet    k1500 tahoe 4wd    0   "
      ]
     },
     "metadata": {},
     "output_type": "display_data"
    }
   ],
   "source": [
    "mean_hwy <- function(df, var1, var2, var_3) {\n",
    "  df |> \n",
    "    group_by({{ var1 }}, {{ var2 }}) |> \n",
    "    summarize(\n",
    "      mean = mean(is.na({{ var_3 }})),\n",
    "      .groups = \"drop\"\n",
    "    )\n",
    "}\n",
    "\n",
    "mpg |> \n",
    "  mean_hwy(manufacturer, model, hwy) %>% head"
   ]
  },
  {
   "cell_type": "markdown",
   "metadata": {
    "id": "PP2qmWazY7eO"
   },
   "source": [
    "## Using pick"
   ]
  },
  {
   "cell_type": "code",
   "execution_count": null,
   "metadata": {
    "colab": {
     "base_uri": "https://localhost:8080/",
     "height": 286
    },
    "id": "4KcPn0QeuQ8E",
    "outputId": "34704ecf-34d8-48b3-e8c1-06233f5c69c8"
   },
   "outputs": [
    {
     "data": {
      "text/html": [
       "<table class=\"dataframe\">\n",
       "<caption>A tibble: 6 × 3</caption>\n",
       "<thead>\n",
       "\t<tr><th scope=col>manufacturer</th><th scope=col>model</th><th scope=col>mean</th></tr>\n",
       "\t<tr><th scope=col>&lt;chr&gt;</th><th scope=col>&lt;chr&gt;</th><th scope=col>&lt;dbl&gt;</th></tr>\n",
       "</thead>\n",
       "<tbody>\n",
       "\t<tr><td>audi     </td><td>a4                </td><td>0</td></tr>\n",
       "\t<tr><td>audi     </td><td>a4 quattro        </td><td>0</td></tr>\n",
       "\t<tr><td>audi     </td><td>a6 quattro        </td><td>0</td></tr>\n",
       "\t<tr><td>chevrolet</td><td>c1500 suburban 2wd</td><td>0</td></tr>\n",
       "\t<tr><td>chevrolet</td><td>corvette          </td><td>0</td></tr>\n",
       "\t<tr><td>chevrolet</td><td>k1500 tahoe 4wd   </td><td>0</td></tr>\n",
       "</tbody>\n",
       "</table>\n"
      ],
      "text/latex": [
       "A tibble: 6 × 3\n",
       "\\begin{tabular}{lll}\n",
       " manufacturer & model & mean\\\\\n",
       " <chr> & <chr> & <dbl>\\\\\n",
       "\\hline\n",
       "\t audi      & a4                 & 0\\\\\n",
       "\t audi      & a4 quattro         & 0\\\\\n",
       "\t audi      & a6 quattro         & 0\\\\\n",
       "\t chevrolet & c1500 suburban 2wd & 0\\\\\n",
       "\t chevrolet & corvette           & 0\\\\\n",
       "\t chevrolet & k1500 tahoe 4wd    & 0\\\\\n",
       "\\end{tabular}\n"
      ],
      "text/markdown": [
       "\n",
       "A tibble: 6 × 3\n",
       "\n",
       "| manufacturer &lt;chr&gt; | model &lt;chr&gt; | mean &lt;dbl&gt; |\n",
       "|---|---|---|\n",
       "| audi      | a4                 | 0 |\n",
       "| audi      | a4 quattro         | 0 |\n",
       "| audi      | a6 quattro         | 0 |\n",
       "| chevrolet | c1500 suburban 2wd | 0 |\n",
       "| chevrolet | corvette           | 0 |\n",
       "| chevrolet | k1500 tahoe 4wd    | 0 |\n",
       "\n"
      ],
      "text/plain": [
       "  manufacturer model              mean\n",
       "1 audi         a4                 0   \n",
       "2 audi         a4 quattro         0   \n",
       "3 audi         a6 quattro         0   \n",
       "4 chevrolet    c1500 suburban 2wd 0   \n",
       "5 chevrolet    corvette           0   \n",
       "6 chevrolet    k1500 tahoe 4wd    0   "
      ]
     },
     "metadata": {},
     "output_type": "display_data"
    }
   ],
   "source": [
    "mean_hwy <- function(df, var1, var2) {\n",
    "  df |> \n",
    "    group_by(pick({{ var1 }})) |> \n",
    "    summarize(\n",
    "      mean = mean(is.na({{ var2 }})),\n",
    "      .groups = \"drop\"\n",
    "    )\n",
    "}\n",
    "\n",
    "mpg |> \n",
    "  mean_hwy(c(manufacturer, model), hwy) %>% head"
   ]
  },
  {
   "cell_type": "markdown",
   "metadata": {
    "id": "4zruY_n7WbtK"
   },
   "source": [
    "\n",
    "\n",
    "## What is refactoring?\n",
    "\n",
    "In software, it is customary to first get 'a' solution for a problem.  Once you have a working software, you should always think through it and see if there are opportunities to make things better. That step is called refactoring!\n",
    "Invariably every time you relook at your code, you will find opportunities to make things better. Some of the things that stand out are\n",
    "* Code that is repeating - pull them over to a function\n",
    "* Renaming your variables to make it more meaningful so that a third person who looks at your code can understand what you are trying to do (sometimes it helps you to recollect what you were doing, when you revisit your code after a few months)\n",
    "* See if there are other builtin functions that you replace your code with \n",
    "\n",
    "These are only some tips, to get you started in the refactoring path. However, attempting to write the best code possible to begin with itself could take you into an analysis-paralysis mode. So the first step always is to get it working in some form and then think of refactoring. However, as you gain experience, you will apply the correct methods itself on your first attempt.\n",
    "But in any case writing code itself is an iterating process"
   ]
  }
 ],
 "metadata": {
  "colab": {
   "provenance": []
  },
  "kernelspec": {
   "display_name": "R",
   "language": "R",
   "name": "ir"
  },
  "language_info": {
   "codemirror_mode": "r",
   "file_extension": ".r",
   "mimetype": "text/x-r-source",
   "name": "R",
   "pygments_lexer": "r",
   "version": "4.3.1"
  }
 },
 "nbformat": 4,
 "nbformat_minor": 4
}
