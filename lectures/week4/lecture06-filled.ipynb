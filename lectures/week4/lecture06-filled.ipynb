{
  "cells": [
    {
      "cell_type": "code",
      "execution_count": 1,
      "metadata": {
        "colab": {
          "base_uri": "https://localhost:8080/"
        },
        "id": "JH0yjqaJJMgB",
        "outputId": "cf0a25ee-1cd5-4e9b-973e-f99d3e487146"
      },
      "outputs": [
        {
          "output_type": "stream",
          "name": "stderr",
          "text": [
            "Installing package into ‘/usr/local/lib/R/site-library’\n",
            "(as ‘lib’ is unspecified)\n",
            "\n"
          ]
        }
      ],
      "source": [
        "install.packages('nycflights13')"
      ]
    },
    {
      "cell_type": "code",
      "execution_count": 2,
      "metadata": {
        "colab": {
          "base_uri": "https://localhost:8080/"
        },
        "id": "yFUUDdcDIvlk",
        "outputId": "8f63f5be-aa31-4164-98db-308a9a2d1924"
      },
      "outputs": [
        {
          "output_type": "stream",
          "name": "stderr",
          "text": [
            "── \u001b[1mAttaching core tidyverse packages\u001b[22m ──────────────────────── tidyverse 2.0.0 ──\n",
            "\u001b[32m✔\u001b[39m \u001b[34mdplyr    \u001b[39m 1.1.3     \u001b[32m✔\u001b[39m \u001b[34mreadr    \u001b[39m 2.1.4\n",
            "\u001b[32m✔\u001b[39m \u001b[34mforcats  \u001b[39m 1.0.0     \u001b[32m✔\u001b[39m \u001b[34mstringr  \u001b[39m 1.5.0\n",
            "\u001b[32m✔\u001b[39m \u001b[34mggplot2  \u001b[39m 3.4.3     \u001b[32m✔\u001b[39m \u001b[34mtibble   \u001b[39m 3.2.1\n",
            "\u001b[32m✔\u001b[39m \u001b[34mlubridate\u001b[39m 1.9.2     \u001b[32m✔\u001b[39m \u001b[34mtidyr    \u001b[39m 1.3.0\n",
            "\u001b[32m✔\u001b[39m \u001b[34mpurrr    \u001b[39m 1.0.2     \n",
            "── \u001b[1mConflicts\u001b[22m ────────────────────────────────────────── tidyverse_conflicts() ──\n",
            "\u001b[31m✖\u001b[39m \u001b[34mdplyr\u001b[39m::\u001b[32mfilter()\u001b[39m masks \u001b[34mstats\u001b[39m::filter()\n",
            "\u001b[31m✖\u001b[39m \u001b[34mdplyr\u001b[39m::\u001b[32mlag()\u001b[39m    masks \u001b[34mstats\u001b[39m::lag()\n",
            "\u001b[36mℹ\u001b[39m Use the conflicted package (\u001b[3m\u001b[34m<http://conflicted.r-lib.org/>\u001b[39m\u001b[23m) to force all conflicts to become errors\n"
          ]
        }
      ],
      "source": [
        "options(repr.plot.width=8, repr.plot.height=5)\n",
        "library(tidyverse)\n",
        "library(nycflights13)"
      ]
    },
    {
      "cell_type": "markdown",
      "metadata": {
        "id": "t4hSad2nIvlt"
      },
      "source": [
        "# Lecture 5: Tidy data, missing data\n",
        "\n",
        "<div style=\"border: 1px double black; padding: 10px; margin: 10px\">\n",
        "\n",
        "**After today's lecture you will:**\n",
        "* Gain more experience creating and working with tidy data\n",
        "* Learn about how R handles missing data.\n",
        "    \n",
        "This lecture note corresponds to Chapters 6 and 20 of your book.\n",
        "</div>\n",
        "\n",
        "\n",
        "    \n",
        "\n",
        "\n"
      ]
    },
    {
      "cell_type": "markdown",
      "metadata": {
        "id": "Vta25WTLIvl2"
      },
      "source": [
        "## A usage of `pivot_wider()`\n",
        "Let's revisit the `gapminder` dataset that we first saw last lecture:"
      ]
    },
    {
      "cell_type": "code",
      "execution_count": 3,
      "metadata": {
        "colab": {
          "base_uri": "https://localhost:8080/"
        },
        "id": "fSo3c5rhMOcT",
        "outputId": "ea0ebd9a-a650-43a7-d2ea-098e7ba9c8aa"
      },
      "outputs": [
        {
          "output_type": "stream",
          "name": "stderr",
          "text": [
            "Installing package into ‘/usr/local/lib/R/site-library’\n",
            "(as ‘lib’ is unspecified)\n",
            "\n"
          ]
        }
      ],
      "source": [
        "install.packages('gapminder')"
      ]
    },
    {
      "cell_type": "code",
      "execution_count": 4,
      "metadata": {
        "colab": {
          "base_uri": "https://localhost:8080/"
        },
        "id": "5UJYz37DIvl3",
        "outputId": "e05da95d-2f45-4c31-d95e-44525e0f2dff"
      },
      "outputs": [
        {
          "output_type": "stream",
          "name": "stdout",
          "text": [
            "\u001b[90m# A tibble: 1,704 × 6\u001b[39m\n",
            "   country     continent  year lifeExp      pop gdpPercap\n",
            "   \u001b[3m\u001b[90m<fct>\u001b[39m\u001b[23m       \u001b[3m\u001b[90m<fct>\u001b[39m\u001b[23m     \u001b[3m\u001b[90m<int>\u001b[39m\u001b[23m   \u001b[3m\u001b[90m<dbl>\u001b[39m\u001b[23m    \u001b[3m\u001b[90m<int>\u001b[39m\u001b[23m     \u001b[3m\u001b[90m<dbl>\u001b[39m\u001b[23m\n",
            "\u001b[90m 1\u001b[39m Afghanistan Asia       \u001b[4m1\u001b[24m952    28.8  8\u001b[4m4\u001b[24m\u001b[4m2\u001b[24m\u001b[4m5\u001b[24m333      779.\n",
            "\u001b[90m 2\u001b[39m Afghanistan Asia       \u001b[4m1\u001b[24m957    30.3  9\u001b[4m2\u001b[24m\u001b[4m4\u001b[24m\u001b[4m0\u001b[24m934      821.\n",
            "\u001b[90m 3\u001b[39m Afghanistan Asia       \u001b[4m1\u001b[24m962    32.0 10\u001b[4m2\u001b[24m\u001b[4m6\u001b[24m\u001b[4m7\u001b[24m083      853.\n",
            "\u001b[90m 4\u001b[39m Afghanistan Asia       \u001b[4m1\u001b[24m967    34.0 11\u001b[4m5\u001b[24m\u001b[4m3\u001b[24m\u001b[4m7\u001b[24m966      836.\n",
            "\u001b[90m 5\u001b[39m Afghanistan Asia       \u001b[4m1\u001b[24m972    36.1 13\u001b[4m0\u001b[24m\u001b[4m7\u001b[24m\u001b[4m9\u001b[24m460      740.\n",
            "\u001b[90m 6\u001b[39m Afghanistan Asia       \u001b[4m1\u001b[24m977    38.4 14\u001b[4m8\u001b[24m\u001b[4m8\u001b[24m\u001b[4m0\u001b[24m372      786.\n",
            "\u001b[90m 7\u001b[39m Afghanistan Asia       \u001b[4m1\u001b[24m982    39.9 12\u001b[4m8\u001b[24m\u001b[4m8\u001b[24m\u001b[4m1\u001b[24m816      978.\n",
            "\u001b[90m 8\u001b[39m Afghanistan Asia       \u001b[4m1\u001b[24m987    40.8 13\u001b[4m8\u001b[24m\u001b[4m6\u001b[24m\u001b[4m7\u001b[24m957      852.\n",
            "\u001b[90m 9\u001b[39m Afghanistan Asia       \u001b[4m1\u001b[24m992    41.7 16\u001b[4m3\u001b[24m\u001b[4m1\u001b[24m\u001b[4m7\u001b[24m921      649.\n",
            "\u001b[90m10\u001b[39m Afghanistan Asia       \u001b[4m1\u001b[24m997    41.8 22\u001b[4m2\u001b[24m\u001b[4m2\u001b[24m\u001b[4m7\u001b[24m415      635.\n",
            "\u001b[90m# ℹ 1,694 more rows\u001b[39m\n"
          ]
        }
      ],
      "source": [
        "library(gapminder)\n",
        "print(gapminder)"
      ]
    },
    {
      "cell_type": "markdown",
      "metadata": {
        "id": "rHRo2WXgIvl8"
      },
      "source": [
        "## Missing data in R\n",
        "The `gapminder` appears very nice, it only contains data sets with no missing observations. But! The raw data looks like this:"
      ]
    },
    {
      "cell_type": "code",
      "execution_count": 5,
      "metadata": {
        "colab": {
          "base_uri": "https://localhost:8080/"
        },
        "id": "oZ824DHZIvl9",
        "outputId": "97e7a5ad-2be4-4e88-fa4b-7c9503564b58"
      },
      "outputs": [
        {
          "output_type": "stream",
          "name": "stdout",
          "text": [
            "\u001b[90m# A tibble: 3,313 × 6\u001b[39m\n",
            "   country     continent  year lifeExp      pop gdpPercap\n",
            "   \u001b[3m\u001b[90m<fct>\u001b[39m\u001b[23m       \u001b[3m\u001b[90m<fct>\u001b[39m\u001b[23m     \u001b[3m\u001b[90m<int>\u001b[39m\u001b[23m   \u001b[3m\u001b[90m<dbl>\u001b[39m\u001b[23m    \u001b[3m\u001b[90m<int>\u001b[39m\u001b[23m     \u001b[3m\u001b[90m<dbl>\u001b[39m\u001b[23m\n",
            "\u001b[90m 1\u001b[39m Afghanistan Asia       \u001b[4m1\u001b[24m952    28.8  8\u001b[4m4\u001b[24m\u001b[4m2\u001b[24m\u001b[4m5\u001b[24m333      779.\n",
            "\u001b[90m 2\u001b[39m Afghanistan Asia       \u001b[4m1\u001b[24m957    30.3  9\u001b[4m2\u001b[24m\u001b[4m4\u001b[24m\u001b[4m0\u001b[24m934      821.\n",
            "\u001b[90m 3\u001b[39m Afghanistan Asia       \u001b[4m1\u001b[24m962    32.0 10\u001b[4m2\u001b[24m\u001b[4m6\u001b[24m\u001b[4m7\u001b[24m083      853.\n",
            "\u001b[90m 4\u001b[39m Afghanistan Asia       \u001b[4m1\u001b[24m967    34.0 11\u001b[4m5\u001b[24m\u001b[4m3\u001b[24m\u001b[4m7\u001b[24m966      836.\n",
            "\u001b[90m 5\u001b[39m Afghanistan Asia       \u001b[4m1\u001b[24m972    36.1 13\u001b[4m0\u001b[24m\u001b[4m7\u001b[24m\u001b[4m9\u001b[24m460      740.\n",
            "\u001b[90m 6\u001b[39m Afghanistan Asia       \u001b[4m1\u001b[24m977    38.4 14\u001b[4m8\u001b[24m\u001b[4m8\u001b[24m\u001b[4m0\u001b[24m372      786.\n",
            "\u001b[90m 7\u001b[39m Afghanistan Asia       \u001b[4m1\u001b[24m982    39.9 12\u001b[4m8\u001b[24m\u001b[4m8\u001b[24m\u001b[4m1\u001b[24m816      978.\n",
            "\u001b[90m 8\u001b[39m Afghanistan Asia       \u001b[4m1\u001b[24m987    40.8 13\u001b[4m8\u001b[24m\u001b[4m6\u001b[24m\u001b[4m7\u001b[24m957      852.\n",
            "\u001b[90m 9\u001b[39m Afghanistan Asia       \u001b[4m1\u001b[24m992    41.7 16\u001b[4m3\u001b[24m\u001b[4m1\u001b[24m\u001b[4m7\u001b[24m921      649.\n",
            "\u001b[90m10\u001b[39m Afghanistan Asia       \u001b[4m1\u001b[24m997    41.8 22\u001b[4m2\u001b[24m\u001b[4m2\u001b[24m\u001b[4m7\u001b[24m415      635.\n",
            "\u001b[90m# ℹ 3,303 more rows\u001b[39m\n"
          ]
        }
      ],
      "source": [
        "gapminder_unfiltered  %>% print"
      ]
    },
    {
      "cell_type": "markdown",
      "metadata": {
        "id": "H_R9Gua2Ivl9"
      },
      "source": [
        "### What happens when we reshape the \"unfiltered\" data?"
      ]
    },
    {
      "cell_type": "code",
      "source": [
        "# pivot unfiltered data wider\n",
        "gapminder_unfiltered %>% pivot_wider(id_cols = country, names_from = year, values_from = gdpPercap)"
      ],
      "metadata": {
        "colab": {
          "base_uri": "https://localhost:8080/",
          "height": 1000
        },
        "id": "H_ct354bUDe3",
        "outputId": "89290958-3e46-4025-9b10-17f1b2e5d326"
      },
      "execution_count": 6,
      "outputs": [
        {
          "output_type": "display_data",
          "data": {
            "text/html": [
              "<table class=\"dataframe\">\n",
              "<caption>A tibble: 187 × 59</caption>\n",
              "<thead>\n",
              "\t<tr><th scope=col>country</th><th scope=col>1952</th><th scope=col>1957</th><th scope=col>1962</th><th scope=col>1967</th><th scope=col>1972</th><th scope=col>1977</th><th scope=col>1982</th><th scope=col>1987</th><th scope=col>1992</th><th scope=col>⋯</th><th scope=col>1995</th><th scope=col>1996</th><th scope=col>1998</th><th scope=col>1999</th><th scope=col>2000</th><th scope=col>2001</th><th scope=col>2003</th><th scope=col>2004</th><th scope=col>2005</th><th scope=col>2006</th></tr>\n",
              "\t<tr><th scope=col>&lt;fct&gt;</th><th scope=col>&lt;dbl&gt;</th><th scope=col>&lt;dbl&gt;</th><th scope=col>&lt;dbl&gt;</th><th scope=col>&lt;dbl&gt;</th><th scope=col>&lt;dbl&gt;</th><th scope=col>&lt;dbl&gt;</th><th scope=col>&lt;dbl&gt;</th><th scope=col>&lt;dbl&gt;</th><th scope=col>&lt;dbl&gt;</th><th scope=col>⋯</th><th scope=col>&lt;dbl&gt;</th><th scope=col>&lt;dbl&gt;</th><th scope=col>&lt;dbl&gt;</th><th scope=col>&lt;dbl&gt;</th><th scope=col>&lt;dbl&gt;</th><th scope=col>&lt;dbl&gt;</th><th scope=col>&lt;dbl&gt;</th><th scope=col>&lt;dbl&gt;</th><th scope=col>&lt;dbl&gt;</th><th scope=col>&lt;dbl&gt;</th></tr>\n",
              "</thead>\n",
              "<tbody>\n",
              "\t<tr><td>Afghanistan           </td><td>  779.4453</td><td>  820.8530</td><td>  853.1007</td><td>  836.1971</td><td>  739.9811</td><td>  786.1134</td><td>  978.0114</td><td>  852.3959</td><td>  649.3414</td><td>⋯</td><td>       NA</td><td>       NA</td><td>       NA</td><td>       NA</td><td>       NA</td><td>       NA</td><td>       NA</td><td>       NA</td><td>   NA</td><td>NA</td></tr>\n",
              "\t<tr><td>Albania               </td><td> 1601.0561</td><td> 1942.2842</td><td> 2312.8890</td><td> 2760.1969</td><td> 3313.4222</td><td> 3533.0039</td><td> 3630.8807</td><td> 3738.9327</td><td> 2497.4379</td><td>⋯</td><td>       NA</td><td>       NA</td><td>       NA</td><td>       NA</td><td>       NA</td><td>       NA</td><td>       NA</td><td>       NA</td><td>   NA</td><td>NA</td></tr>\n",
              "\t<tr><td>Algeria               </td><td> 2449.0082</td><td> 3013.9760</td><td> 2550.8169</td><td> 3246.9918</td><td> 4182.6638</td><td> 4910.4168</td><td> 5745.1602</td><td> 5681.3585</td><td> 5023.2166</td><td>⋯</td><td>       NA</td><td>       NA</td><td>       NA</td><td>       NA</td><td>       NA</td><td>       NA</td><td>       NA</td><td>       NA</td><td>   NA</td><td>NA</td></tr>\n",
              "\t<tr><td>Angola                </td><td> 3520.6103</td><td> 3827.9405</td><td> 4269.2767</td><td> 5522.7764</td><td> 5473.2880</td><td> 3008.6474</td><td> 2756.9537</td><td> 2430.2083</td><td> 2627.8457</td><td>⋯</td><td>       NA</td><td>       NA</td><td>       NA</td><td>       NA</td><td>       NA</td><td>       NA</td><td>       NA</td><td>       NA</td><td>   NA</td><td>NA</td></tr>\n",
              "\t<tr><td>Argentina             </td><td> 5911.3151</td><td> 6856.8562</td><td> 7133.1660</td><td> 8052.9530</td><td> 9443.0385</td><td>10079.0267</td><td> 8997.8974</td><td> 9139.6714</td><td> 9308.4187</td><td>⋯</td><td>       NA</td><td>       NA</td><td>       NA</td><td>       NA</td><td>       NA</td><td>       NA</td><td>       NA</td><td>       NA</td><td>   NA</td><td>NA</td></tr>\n",
              "\t<tr><td>Armenia               </td><td>        NA</td><td>        NA</td><td>        NA</td><td>        NA</td><td>        NA</td><td>        NA</td><td>        NA</td><td>        NA</td><td> 1442.9378</td><td>⋯</td><td>       NA</td><td>       NA</td><td>       NA</td><td>       NA</td><td>       NA</td><td>       NA</td><td>       NA</td><td>       NA</td><td>   NA</td><td>NA</td></tr>\n",
              "\t<tr><td>Aruba                 </td><td>        NA</td><td>        NA</td><td>        NA</td><td>        NA</td><td> 4939.7580</td><td> 7390.3599</td><td>10874.9150</td><td>17674.3389</td><td>25120.5496</td><td>⋯</td><td>       NA</td><td>       NA</td><td>       NA</td><td>       NA</td><td>       NA</td><td>       NA</td><td>       NA</td><td>       NA</td><td>   NA</td><td>NA</td></tr>\n",
              "\t<tr><td>Australia             </td><td>10039.5956</td><td>10949.6496</td><td>12217.2269</td><td>14526.1246</td><td>16788.6295</td><td>18334.1975</td><td>19477.0093</td><td>21888.8890</td><td>23424.7668</td><td>⋯</td><td>25518.715</td><td>26151.132</td><td>28169.153</td><td>28983.267</td><td>29241.515</td><td>30043.243</td><td>31634.242</td><td>32098.506</td><td>   NA</td><td>NA</td></tr>\n",
              "\t<tr><td>Austria               </td><td> 6137.0765</td><td> 8842.5980</td><td>10750.7211</td><td>12834.6024</td><td>16661.6256</td><td>19749.4223</td><td>21597.0836</td><td>23687.8261</td><td>27042.0187</td><td>⋯</td><td>27918.819</td><td>28602.353</td><td>30107.978</td><td>31039.619</td><td>32008.505</td><td>32196.425</td><td>32741.187</td><td>33455.694</td><td>34108</td><td>NA</td></tr>\n",
              "\t<tr><td>Azerbaijan            </td><td>        NA</td><td>        NA</td><td>        NA</td><td>        NA</td><td>        NA</td><td>        NA</td><td>        NA</td><td>        NA</td><td> 3455.5430</td><td>⋯</td><td>       NA</td><td>       NA</td><td>       NA</td><td>       NA</td><td>       NA</td><td>       NA</td><td>       NA</td><td>       NA</td><td>   NA</td><td>NA</td></tr>\n",
              "\t<tr><td>Bahamas               </td><td>        NA</td><td>        NA</td><td>15117.5150</td><td>19318.1061</td><td>18152.4376</td><td>14380.6660</td><td>20433.0368</td><td>22438.0135</td><td>19432.5693</td><td>⋯</td><td>       NA</td><td>       NA</td><td>       NA</td><td>       NA</td><td>       NA</td><td>       NA</td><td>       NA</td><td>       NA</td><td>   NA</td><td>NA</td></tr>\n",
              "\t<tr><td>Bahrain               </td><td> 9867.0848</td><td>11635.7995</td><td>12753.2751</td><td>14804.6727</td><td>18268.6584</td><td>19340.1020</td><td>19211.1473</td><td>18524.0241</td><td>19035.5792</td><td>⋯</td><td>       NA</td><td>       NA</td><td>       NA</td><td>       NA</td><td>       NA</td><td>       NA</td><td>       NA</td><td>       NA</td><td>   NA</td><td>NA</td></tr>\n",
              "\t<tr><td>Bangladesh            </td><td>  684.2442</td><td>  661.6375</td><td>  686.3416</td><td>  721.1861</td><td>  630.2336</td><td>  659.8772</td><td>  676.9819</td><td>  751.9794</td><td>  837.8102</td><td>⋯</td><td>       NA</td><td>       NA</td><td>       NA</td><td>       NA</td><td>       NA</td><td>       NA</td><td>       NA</td><td>       NA</td><td>   NA</td><td>NA</td></tr>\n",
              "\t<tr><td>Barbados              </td><td>        NA</td><td>        NA</td><td> 6204.4895</td><td> 7788.5441</td><td> 9853.8064</td><td>11817.3559</td><td>12736.4725</td><td>13783.2090</td><td>12263.4533</td><td>⋯</td><td>       NA</td><td>       NA</td><td>       NA</td><td>       NA</td><td>       NA</td><td>       NA</td><td>       NA</td><td>       NA</td><td>   NA</td><td>NA</td></tr>\n",
              "\t<tr><td>Belarus               </td><td>        NA</td><td>        NA</td><td>        NA</td><td>        NA</td><td>        NA</td><td>        NA</td><td>        NA</td><td>        NA</td><td> 6014.4061</td><td>⋯</td><td> 4355.509</td><td> 4475.406</td><td> 5411.862</td><td> 5602.353</td><td> 5936.238</td><td> 6225.164</td><td> 6999.865</td><td> 7806.724</td><td> 8541</td><td>NA</td></tr>\n",
              "\t<tr><td>Belgium               </td><td> 8343.1051</td><td> 9714.9606</td><td>10991.2068</td><td>13149.0412</td><td>16672.1436</td><td>19117.9745</td><td>20979.8459</td><td>22525.5631</td><td>25575.5707</td><td>⋯</td><td>26480.947</td><td>26725.498</td><td>28030.613</td><td>28937.151</td><td>29940.205</td><td>30092.076</td><td>30736.526</td><td>31600.017</td><td>32077</td><td>NA</td></tr>\n",
              "\t<tr><td>Belize                </td><td>        NA</td><td>        NA</td><td> 1916.3196</td><td> 2099.1585</td><td> 2616.6966</td><td> 3158.6880</td><td> 3732.0949</td><td> 3844.9319</td><td> 5780.6891</td><td>⋯</td><td>       NA</td><td>       NA</td><td>       NA</td><td>       NA</td><td>       NA</td><td>       NA</td><td>       NA</td><td>       NA</td><td>   NA</td><td>NA</td></tr>\n",
              "\t<tr><td>Benin                 </td><td> 1062.7522</td><td>  959.6011</td><td>  949.4991</td><td> 1035.8314</td><td> 1085.7969</td><td> 1029.1613</td><td> 1277.8976</td><td> 1225.8560</td><td> 1191.2077</td><td>⋯</td><td>       NA</td><td>       NA</td><td>       NA</td><td>       NA</td><td>       NA</td><td>       NA</td><td>       NA</td><td>       NA</td><td>   NA</td><td>NA</td></tr>\n",
              "\t<tr><td>Bhutan                </td><td>        NA</td><td>        NA</td><td>        NA</td><td>        NA</td><td>  807.6226</td><td>  816.3102</td><td>  946.8130</td><td> 1494.2901</td><td> 1904.1795</td><td>⋯</td><td>       NA</td><td>       NA</td><td>       NA</td><td>       NA</td><td>       NA</td><td>       NA</td><td>       NA</td><td>       NA</td><td>   NA</td><td>NA</td></tr>\n",
              "\t<tr><td>Bolivia               </td><td> 2677.3263</td><td> 2127.6863</td><td> 2180.9725</td><td> 2586.8861</td><td> 2980.3313</td><td> 3548.0978</td><td> 3156.5105</td><td> 2753.6915</td><td> 2961.6997</td><td>⋯</td><td>       NA</td><td>       NA</td><td>       NA</td><td>       NA</td><td>       NA</td><td>       NA</td><td>       NA</td><td>       NA</td><td>   NA</td><td>NA</td></tr>\n",
              "\t<tr><td>Bosnia and Herzegovina</td><td>  973.5332</td><td> 1353.9892</td><td> 1709.6837</td><td> 2172.3524</td><td> 2860.1698</td><td> 3528.4813</td><td> 4126.6132</td><td> 4314.1148</td><td> 2546.7814</td><td>⋯</td><td>       NA</td><td>       NA</td><td>       NA</td><td>       NA</td><td>       NA</td><td>       NA</td><td>       NA</td><td>       NA</td><td>   NA</td><td>NA</td></tr>\n",
              "\t<tr><td>Botswana              </td><td>  851.2411</td><td>  918.2325</td><td>  983.6540</td><td> 1214.7093</td><td> 2263.6111</td><td> 3214.8578</td><td> 4551.1421</td><td> 6205.8839</td><td> 7954.1116</td><td>⋯</td><td>       NA</td><td>       NA</td><td>       NA</td><td>       NA</td><td>       NA</td><td>       NA</td><td>       NA</td><td>       NA</td><td>   NA</td><td>NA</td></tr>\n",
              "\t<tr><td>Brazil                </td><td> 2108.9444</td><td> 2487.3660</td><td> 3336.5858</td><td> 3429.8644</td><td> 4985.7115</td><td> 6660.1187</td><td> 7030.8359</td><td> 7807.0958</td><td> 6950.2830</td><td>⋯</td><td>       NA</td><td>       NA</td><td>       NA</td><td>       NA</td><td>       NA</td><td>       NA</td><td>       NA</td><td>       NA</td><td>   NA</td><td>NA</td></tr>\n",
              "\t<tr><td>Brunei                </td><td>        NA</td><td>        NA</td><td>        NA</td><td>        NA</td><td>54117.1591</td><td>72555.2285</td><td>62407.2106</td><td>53585.9036</td><td>49174.4054</td><td>⋯</td><td>       NA</td><td>       NA</td><td>       NA</td><td>       NA</td><td>       NA</td><td>       NA</td><td>       NA</td><td>       NA</td><td>   NA</td><td>NA</td></tr>\n",
              "\t<tr><td>Bulgaria              </td><td> 2444.2866</td><td> 3008.6707</td><td> 4254.3378</td><td> 5577.0028</td><td> 6597.4944</td><td> 7612.2404</td><td> 8224.1916</td><td> 8239.8548</td><td> 6302.6234</td><td>⋯</td><td> 6820.308</td><td> 6250.966</td><td> 6282.641</td><td> 6491.100</td><td> 6907.014</td><td> 7264.607</td><td> 8105.389</td><td> 8721.228</td><td> 9353</td><td>NA</td></tr>\n",
              "\t<tr><td>Burkina Faso          </td><td>  543.2552</td><td>  617.1835</td><td>  722.5120</td><td>  794.8266</td><td>  854.7360</td><td>  743.3870</td><td>  807.1986</td><td>  912.0631</td><td>  931.7528</td><td>⋯</td><td>       NA</td><td>       NA</td><td>       NA</td><td>       NA</td><td>       NA</td><td>       NA</td><td>       NA</td><td>       NA</td><td>   NA</td><td>NA</td></tr>\n",
              "\t<tr><td>Burundi               </td><td>  339.2965</td><td>  379.5646</td><td>  355.2032</td><td>  412.9775</td><td>  464.0995</td><td>  556.1033</td><td>  559.6032</td><td>  621.8188</td><td>  631.6999</td><td>⋯</td><td>       NA</td><td>       NA</td><td>       NA</td><td>       NA</td><td>       NA</td><td>       NA</td><td>       NA</td><td>       NA</td><td>   NA</td><td>NA</td></tr>\n",
              "\t<tr><td>Cambodia              </td><td>  368.4693</td><td>  434.0383</td><td>  496.9136</td><td>  523.4323</td><td>  421.6240</td><td>  524.9722</td><td>  624.4755</td><td>  683.8956</td><td>  682.3032</td><td>⋯</td><td>       NA</td><td>       NA</td><td>       NA</td><td>       NA</td><td>       NA</td><td>       NA</td><td>       NA</td><td>       NA</td><td>   NA</td><td>NA</td></tr>\n",
              "\t<tr><td>Cameroon              </td><td> 1172.6677</td><td> 1313.0481</td><td> 1399.6074</td><td> 1508.4531</td><td> 1684.1465</td><td> 1783.4329</td><td> 2367.9833</td><td> 2602.6642</td><td> 1793.1633</td><td>⋯</td><td>       NA</td><td>       NA</td><td>       NA</td><td>       NA</td><td>       NA</td><td>       NA</td><td>       NA</td><td>       NA</td><td>   NA</td><td>NA</td></tr>\n",
              "\t<tr><td>Canada                </td><td>11367.1611</td><td>12489.9501</td><td>13462.4855</td><td>16076.5880</td><td>18970.5709</td><td>22090.8831</td><td>22898.7921</td><td>26626.5150</td><td>26342.8843</td><td>⋯</td><td>27969.673</td><td>28074.836</td><td>29837.458</td><td>31154.856</td><td>32448.608</td><td>32570.566</td><td>33635.254</td><td>34346.966</td><td>35078</td><td>NA</td></tr>\n",
              "\t<tr><td>⋮</td><td>⋮</td><td>⋮</td><td>⋮</td><td>⋮</td><td>⋮</td><td>⋮</td><td>⋮</td><td>⋮</td><td>⋮</td><td>⋱</td><td>⋮</td><td>⋮</td><td>⋮</td><td>⋮</td><td>⋮</td><td>⋮</td><td>⋮</td><td>⋮</td><td>⋮</td><td>⋮</td></tr>\n",
              "\t<tr><td>Suriname            </td><td>        NA</td><td>        NA</td><td>        NA</td><td>        NA</td><td> 5504.4375</td><td> 6622.7173</td><td> 6061.2504</td><td> 5508.1735</td><td> 5974.2636</td><td>⋯</td><td>       NA</td><td>      NA</td><td>       NA</td><td>       NA</td><td>       NA</td><td>       NA</td><td>       NA</td><td>       NA</td><td>   NA</td><td>       NA</td></tr>\n",
              "\t<tr><td>Swaziland           </td><td> 1148.3766</td><td> 1244.7084</td><td> 1856.1821</td><td> 2613.1017</td><td> 3364.8366</td><td> 3781.4106</td><td> 3895.3840</td><td> 3984.8398</td><td> 3553.0224</td><td>⋯</td><td>       NA</td><td>      NA</td><td>       NA</td><td>       NA</td><td>       NA</td><td>       NA</td><td>       NA</td><td>       NA</td><td>   NA</td><td>       NA</td></tr>\n",
              "\t<tr><td>Sweden              </td><td> 8527.8447</td><td> 9911.8782</td><td>12329.4419</td><td>15258.2970</td><td>17832.0246</td><td>18855.7252</td><td>20667.3812</td><td>23586.9293</td><td>23880.0168</td><td>⋯</td><td>24361.307</td><td>24628.88</td><td>26173.149</td><td>27328.739</td><td>28447.861</td><td>28695.773</td><td>29852.541</td><td>31027.891</td><td>31995</td><td>33156.205</td></tr>\n",
              "\t<tr><td>Switzerland         </td><td>14734.2327</td><td>17909.4897</td><td>20431.0927</td><td>22966.1443</td><td>27195.1130</td><td>26982.2905</td><td>28397.7151</td><td>30281.7046</td><td>31871.5303</td><td>⋯</td><td>31530.769</td><td>31589.72</td><td>33039.505</td><td>33349.654</td><td>34386.902</td><td>34569.381</td><td>34183.283</td><td>34864.092</td><td>35520</td><td>36523.098</td></tr>\n",
              "\t<tr><td>Syria               </td><td> 1643.4854</td><td> 2117.2349</td><td> 2193.0371</td><td> 1881.9236</td><td> 2571.4230</td><td> 3195.4846</td><td> 3761.8377</td><td> 3116.7743</td><td> 3340.5428</td><td>⋯</td><td>       NA</td><td>      NA</td><td>       NA</td><td>       NA</td><td>       NA</td><td>       NA</td><td>       NA</td><td>       NA</td><td>   NA</td><td>       NA</td></tr>\n",
              "\t<tr><td>Taiwan              </td><td> 1206.9479</td><td> 1507.8613</td><td> 1822.8790</td><td> 2643.8587</td><td> 4062.5239</td><td> 5596.5198</td><td> 7426.3548</td><td>11054.5618</td><td>15215.6579</td><td>⋯</td><td>18108.615</td><td>19107.52</td><td>20944.272</td><td>21984.537</td><td>23094.573</td><td>22434.197</td><td>23879.031</td><td>25238.824</td><td>26069</td><td>27248.068</td></tr>\n",
              "\t<tr><td>Tajikistan          </td><td>        NA</td><td>        NA</td><td>        NA</td><td>        NA</td><td>        NA</td><td>        NA</td><td>        NA</td><td>        NA</td><td> 1992.2265</td><td>⋯</td><td>       NA</td><td>      NA</td><td>       NA</td><td>       NA</td><td>       NA</td><td>       NA</td><td>       NA</td><td>       NA</td><td>   NA</td><td>       NA</td></tr>\n",
              "\t<tr><td>Tanzania            </td><td>  716.6501</td><td>  698.5356</td><td>  722.0038</td><td>  848.2187</td><td>  915.9851</td><td>  962.4923</td><td>  874.2426</td><td>  831.8221</td><td>  825.6825</td><td>⋯</td><td>       NA</td><td>      NA</td><td>       NA</td><td>       NA</td><td>       NA</td><td>       NA</td><td>       NA</td><td>       NA</td><td>   NA</td><td>       NA</td></tr>\n",
              "\t<tr><td>Thailand            </td><td>  757.7974</td><td>  793.5774</td><td> 1002.1992</td><td> 1295.4607</td><td> 1524.3589</td><td> 1961.2246</td><td> 2393.2198</td><td> 2982.6538</td><td> 4616.8965</td><td>⋯</td><td>       NA</td><td>      NA</td><td>       NA</td><td>       NA</td><td>       NA</td><td>       NA</td><td>       NA</td><td>       NA</td><td>   NA</td><td>       NA</td></tr>\n",
              "\t<tr><td>Timor-Leste         </td><td>        NA</td><td>        NA</td><td>        NA</td><td>        NA</td><td>        NA</td><td>        NA</td><td>        NA</td><td>        NA</td><td> 2577.9862</td><td>⋯</td><td>       NA</td><td>      NA</td><td>       NA</td><td>       NA</td><td>       NA</td><td>       NA</td><td>       NA</td><td>       NA</td><td>   NA</td><td>       NA</td></tr>\n",
              "\t<tr><td>Togo                </td><td>  859.8087</td><td>  925.9083</td><td> 1067.5348</td><td> 1477.5968</td><td> 1649.6602</td><td> 1532.7770</td><td> 1344.5780</td><td> 1202.2014</td><td> 1034.2989</td><td>⋯</td><td>       NA</td><td>      NA</td><td>       NA</td><td>       NA</td><td>       NA</td><td>       NA</td><td>       NA</td><td>       NA</td><td>   NA</td><td>       NA</td></tr>\n",
              "\t<tr><td>Tonga               </td><td>        NA</td><td>        NA</td><td>        NA</td><td>        NA</td><td>        NA</td><td> 2116.1131</td><td> 3287.0490</td><td> 4088.3573</td><td> 4070.0747</td><td>⋯</td><td>       NA</td><td>      NA</td><td>       NA</td><td>       NA</td><td>       NA</td><td>       NA</td><td>       NA</td><td>       NA</td><td>   NA</td><td>       NA</td></tr>\n",
              "\t<tr><td>Trinidad and Tobago </td><td> 3023.2719</td><td> 4100.3934</td><td> 4997.5240</td><td> 5621.3685</td><td> 6619.5514</td><td> 7899.5542</td><td> 9119.5286</td><td> 7388.5978</td><td> 7370.9909</td><td>⋯</td><td>       NA</td><td>      NA</td><td>       NA</td><td>       NA</td><td>       NA</td><td>       NA</td><td>       NA</td><td>       NA</td><td>   NA</td><td>       NA</td></tr>\n",
              "\t<tr><td>Tunisia             </td><td> 1468.4756</td><td> 1395.2325</td><td> 1660.3032</td><td> 1932.3602</td><td> 2753.2860</td><td> 3120.8768</td><td> 3560.2332</td><td> 3810.4193</td><td> 4332.7202</td><td>⋯</td><td>       NA</td><td>      NA</td><td>       NA</td><td>       NA</td><td>       NA</td><td>       NA</td><td>       NA</td><td>       NA</td><td>   NA</td><td>       NA</td></tr>\n",
              "\t<tr><td>Turkey              </td><td> 1969.1010</td><td> 2218.7543</td><td> 2322.8699</td><td> 2826.3564</td><td> 3450.6964</td><td> 4269.1223</td><td> 4241.3563</td><td> 5089.0437</td><td> 5678.3483</td><td>⋯</td><td>       NA</td><td>      NA</td><td>       NA</td><td>       NA</td><td>       NA</td><td>       NA</td><td>       NA</td><td>       NA</td><td>   NA</td><td>       NA</td></tr>\n",
              "\t<tr><td>Turkmenistan        </td><td>        NA</td><td>        NA</td><td>        NA</td><td>        NA</td><td>        NA</td><td>        NA</td><td>        NA</td><td>        NA</td><td> 3961.8910</td><td>⋯</td><td>       NA</td><td>      NA</td><td>       NA</td><td>       NA</td><td>       NA</td><td>       NA</td><td>       NA</td><td>       NA</td><td>   NA</td><td>       NA</td></tr>\n",
              "\t<tr><td>Uganda              </td><td>  734.7535</td><td>  774.3711</td><td>  767.2717</td><td>  908.9185</td><td>  950.7359</td><td>  843.7331</td><td>  682.2662</td><td>  617.7244</td><td>  644.1708</td><td>⋯</td><td>       NA</td><td>      NA</td><td>       NA</td><td>       NA</td><td>       NA</td><td>       NA</td><td>       NA</td><td>       NA</td><td>   NA</td><td>       NA</td></tr>\n",
              "\t<tr><td>Ukraine             </td><td>        NA</td><td>        NA</td><td>        NA</td><td>        NA</td><td>        NA</td><td>        NA</td><td>        NA</td><td>        NA</td><td> 6650.4535</td><td>⋯</td><td> 3909.539</td><td> 3548.69</td><td> 3435.907</td><td> 3460.324</td><td> 3700.351</td><td> 4082.186</td><td> 4781.146</td><td> 5400.285</td><td> 5583</td><td> 6039.513</td></tr>\n",
              "\t<tr><td>United Arab Emirates</td><td>        NA</td><td>        NA</td><td>        NA</td><td>        NA</td><td>12703.6105</td><td>53335.1758</td><td>47211.4006</td><td>29327.0588</td><td>30084.2365</td><td>⋯</td><td>       NA</td><td>      NA</td><td>       NA</td><td>       NA</td><td>       NA</td><td>       NA</td><td>       NA</td><td>       NA</td><td>   NA</td><td>       NA</td></tr>\n",
              "\t<tr><td>United Kingdom      </td><td> 9979.5085</td><td>11283.1779</td><td>12477.1771</td><td>14142.8509</td><td>15895.1164</td><td>17428.7485</td><td>18232.4245</td><td>21664.7877</td><td>22705.0925</td><td>⋯</td><td>       NA</td><td>      NA</td><td>       NA</td><td>       NA</td><td>       NA</td><td>       NA</td><td>       NA</td><td>       NA</td><td>   NA</td><td>       NA</td></tr>\n",
              "\t<tr><td>United States       </td><td>13990.4821</td><td>14847.1271</td><td>16173.1459</td><td>19530.3656</td><td>21806.0359</td><td>24072.6321</td><td>25009.5591</td><td>29884.3504</td><td>32003.9322</td><td>⋯</td><td>33773.324</td><td>34628.08</td><td>36839.820</td><td>38053.717</td><td>39025.863</td><td>38891.110</td><td>39747.376</td><td>40804.334</td><td>41674</td><td>       NA</td></tr>\n",
              "\t<tr><td>Uruguay             </td><td> 5716.7667</td><td> 6150.7730</td><td> 5603.3577</td><td> 5444.6196</td><td> 5703.4089</td><td> 6504.3397</td><td> 6920.2231</td><td> 7452.3990</td><td> 8137.0048</td><td>⋯</td><td>       NA</td><td>      NA</td><td>       NA</td><td>       NA</td><td>       NA</td><td>       NA</td><td>       NA</td><td>       NA</td><td>   NA</td><td>       NA</td></tr>\n",
              "\t<tr><td>Uzbekistan          </td><td>        NA</td><td>        NA</td><td>        NA</td><td>        NA</td><td>        NA</td><td>        NA</td><td>        NA</td><td>        NA</td><td> 1682.5005</td><td>⋯</td><td>       NA</td><td>      NA</td><td>       NA</td><td>       NA</td><td>       NA</td><td>       NA</td><td>       NA</td><td>       NA</td><td>   NA</td><td>       NA</td></tr>\n",
              "\t<tr><td>Vanuatu             </td><td>        NA</td><td>        NA</td><td>        NA</td><td>        NA</td><td>        NA</td><td> 2605.6880</td><td> 2834.8901</td><td> 3251.2745</td><td> 3443.4245</td><td>⋯</td><td>       NA</td><td>      NA</td><td>       NA</td><td>       NA</td><td>       NA</td><td>       NA</td><td>       NA</td><td>       NA</td><td>   NA</td><td>       NA</td></tr>\n",
              "\t<tr><td>Venezuela           </td><td> 7689.7998</td><td> 9802.4665</td><td> 8422.9742</td><td> 9541.4742</td><td>10505.2597</td><td>13143.9510</td><td>11152.4101</td><td> 9883.5846</td><td>10733.9263</td><td>⋯</td><td>       NA</td><td>      NA</td><td>       NA</td><td>       NA</td><td>       NA</td><td>       NA</td><td>       NA</td><td>       NA</td><td>   NA</td><td>       NA</td></tr>\n",
              "\t<tr><td>Vietnam             </td><td>  605.0665</td><td>  676.2854</td><td>  772.0492</td><td>  637.1233</td><td>  699.5016</td><td>  713.5371</td><td>  707.2358</td><td>  820.7994</td><td>  989.0231</td><td>⋯</td><td>       NA</td><td>      NA</td><td>       NA</td><td>       NA</td><td>       NA</td><td>       NA</td><td>       NA</td><td>       NA</td><td>   NA</td><td>       NA</td></tr>\n",
              "\t<tr><td>West Bank and Gaza  </td><td> 1515.5923</td><td> 1827.0677</td><td> 2198.9563</td><td> 2649.7150</td><td> 3133.4093</td><td> 3682.8315</td><td> 4336.0321</td><td> 5107.1974</td><td> 6017.6548</td><td>⋯</td><td>       NA</td><td>      NA</td><td>       NA</td><td>       NA</td><td>       NA</td><td>       NA</td><td>       NA</td><td>       NA</td><td>   NA</td><td>       NA</td></tr>\n",
              "\t<tr><td>Yemen, Rep.         </td><td>  781.7176</td><td>  804.8305</td><td>  825.6232</td><td>  862.4421</td><td> 1265.0470</td><td> 1829.7652</td><td> 1977.5570</td><td> 1971.7415</td><td> 1879.4967</td><td>⋯</td><td>       NA</td><td>      NA</td><td>       NA</td><td>       NA</td><td>       NA</td><td>       NA</td><td>       NA</td><td>       NA</td><td>   NA</td><td>       NA</td></tr>\n",
              "\t<tr><td>Zambia              </td><td> 1147.3888</td><td> 1311.9568</td><td> 1452.7258</td><td> 1777.0773</td><td> 1773.4983</td><td> 1588.6883</td><td> 1408.6786</td><td> 1213.3151</td><td> 1210.8846</td><td>⋯</td><td>       NA</td><td>      NA</td><td>       NA</td><td>       NA</td><td>       NA</td><td>       NA</td><td>       NA</td><td>       NA</td><td>   NA</td><td>       NA</td></tr>\n",
              "\t<tr><td>Zimbabwe            </td><td>  406.8841</td><td>  518.7643</td><td>  527.2722</td><td>  569.7951</td><td>  799.3622</td><td>  685.5877</td><td>  788.8550</td><td>  706.1573</td><td>  693.4208</td><td>⋯</td><td>       NA</td><td>      NA</td><td>       NA</td><td>       NA</td><td>       NA</td><td>       NA</td><td>       NA</td><td>       NA</td><td>   NA</td><td>       NA</td></tr>\n",
              "</tbody>\n",
              "</table>\n"
            ],
            "text/markdown": "\nA tibble: 187 × 59\n\n| country &lt;fct&gt; | 1952 &lt;dbl&gt; | 1957 &lt;dbl&gt; | 1962 &lt;dbl&gt; | 1967 &lt;dbl&gt; | 1972 &lt;dbl&gt; | 1977 &lt;dbl&gt; | 1982 &lt;dbl&gt; | 1987 &lt;dbl&gt; | 1992 &lt;dbl&gt; | ⋯ ⋯ | 1995 &lt;dbl&gt; | 1996 &lt;dbl&gt; | 1998 &lt;dbl&gt; | 1999 &lt;dbl&gt; | 2000 &lt;dbl&gt; | 2001 &lt;dbl&gt; | 2003 &lt;dbl&gt; | 2004 &lt;dbl&gt; | 2005 &lt;dbl&gt; | 2006 &lt;dbl&gt; |\n|---|---|---|---|---|---|---|---|---|---|---|---|---|---|---|---|---|---|---|---|---|\n| Afghanistan            |   779.4453 |   820.8530 |   853.1007 |   836.1971 |   739.9811 |   786.1134 |   978.0114 |   852.3959 |   649.3414 | ⋯ |        NA |        NA |        NA |        NA |        NA |        NA |        NA |        NA |    NA | NA |\n| Albania                |  1601.0561 |  1942.2842 |  2312.8890 |  2760.1969 |  3313.4222 |  3533.0039 |  3630.8807 |  3738.9327 |  2497.4379 | ⋯ |        NA |        NA |        NA |        NA |        NA |        NA |        NA |        NA |    NA | NA |\n| Algeria                |  2449.0082 |  3013.9760 |  2550.8169 |  3246.9918 |  4182.6638 |  4910.4168 |  5745.1602 |  5681.3585 |  5023.2166 | ⋯ |        NA |        NA |        NA |        NA |        NA |        NA |        NA |        NA |    NA | NA |\n| Angola                 |  3520.6103 |  3827.9405 |  4269.2767 |  5522.7764 |  5473.2880 |  3008.6474 |  2756.9537 |  2430.2083 |  2627.8457 | ⋯ |        NA |        NA |        NA |        NA |        NA |        NA |        NA |        NA |    NA | NA |\n| Argentina              |  5911.3151 |  6856.8562 |  7133.1660 |  8052.9530 |  9443.0385 | 10079.0267 |  8997.8974 |  9139.6714 |  9308.4187 | ⋯ |        NA |        NA |        NA |        NA |        NA |        NA |        NA |        NA |    NA | NA |\n| Armenia                |         NA |         NA |         NA |         NA |         NA |         NA |         NA |         NA |  1442.9378 | ⋯ |        NA |        NA |        NA |        NA |        NA |        NA |        NA |        NA |    NA | NA |\n| Aruba                  |         NA |         NA |         NA |         NA |  4939.7580 |  7390.3599 | 10874.9150 | 17674.3389 | 25120.5496 | ⋯ |        NA |        NA |        NA |        NA |        NA |        NA |        NA |        NA |    NA | NA |\n| Australia              | 10039.5956 | 10949.6496 | 12217.2269 | 14526.1246 | 16788.6295 | 18334.1975 | 19477.0093 | 21888.8890 | 23424.7668 | ⋯ | 25518.715 | 26151.132 | 28169.153 | 28983.267 | 29241.515 | 30043.243 | 31634.242 | 32098.506 |    NA | NA |\n| Austria                |  6137.0765 |  8842.5980 | 10750.7211 | 12834.6024 | 16661.6256 | 19749.4223 | 21597.0836 | 23687.8261 | 27042.0187 | ⋯ | 27918.819 | 28602.353 | 30107.978 | 31039.619 | 32008.505 | 32196.425 | 32741.187 | 33455.694 | 34108 | NA |\n| Azerbaijan             |         NA |         NA |         NA |         NA |         NA |         NA |         NA |         NA |  3455.5430 | ⋯ |        NA |        NA |        NA |        NA |        NA |        NA |        NA |        NA |    NA | NA |\n| Bahamas                |         NA |         NA | 15117.5150 | 19318.1061 | 18152.4376 | 14380.6660 | 20433.0368 | 22438.0135 | 19432.5693 | ⋯ |        NA |        NA |        NA |        NA |        NA |        NA |        NA |        NA |    NA | NA |\n| Bahrain                |  9867.0848 | 11635.7995 | 12753.2751 | 14804.6727 | 18268.6584 | 19340.1020 | 19211.1473 | 18524.0241 | 19035.5792 | ⋯ |        NA |        NA |        NA |        NA |        NA |        NA |        NA |        NA |    NA | NA |\n| Bangladesh             |   684.2442 |   661.6375 |   686.3416 |   721.1861 |   630.2336 |   659.8772 |   676.9819 |   751.9794 |   837.8102 | ⋯ |        NA |        NA |        NA |        NA |        NA |        NA |        NA |        NA |    NA | NA |\n| Barbados               |         NA |         NA |  6204.4895 |  7788.5441 |  9853.8064 | 11817.3559 | 12736.4725 | 13783.2090 | 12263.4533 | ⋯ |        NA |        NA |        NA |        NA |        NA |        NA |        NA |        NA |    NA | NA |\n| Belarus                |         NA |         NA |         NA |         NA |         NA |         NA |         NA |         NA |  6014.4061 | ⋯ |  4355.509 |  4475.406 |  5411.862 |  5602.353 |  5936.238 |  6225.164 |  6999.865 |  7806.724 |  8541 | NA |\n| Belgium                |  8343.1051 |  9714.9606 | 10991.2068 | 13149.0412 | 16672.1436 | 19117.9745 | 20979.8459 | 22525.5631 | 25575.5707 | ⋯ | 26480.947 | 26725.498 | 28030.613 | 28937.151 | 29940.205 | 30092.076 | 30736.526 | 31600.017 | 32077 | NA |\n| Belize                 |         NA |         NA |  1916.3196 |  2099.1585 |  2616.6966 |  3158.6880 |  3732.0949 |  3844.9319 |  5780.6891 | ⋯ |        NA |        NA |        NA |        NA |        NA |        NA |        NA |        NA |    NA | NA |\n| Benin                  |  1062.7522 |   959.6011 |   949.4991 |  1035.8314 |  1085.7969 |  1029.1613 |  1277.8976 |  1225.8560 |  1191.2077 | ⋯ |        NA |        NA |        NA |        NA |        NA |        NA |        NA |        NA |    NA | NA |\n| Bhutan                 |         NA |         NA |         NA |         NA |   807.6226 |   816.3102 |   946.8130 |  1494.2901 |  1904.1795 | ⋯ |        NA |        NA |        NA |        NA |        NA |        NA |        NA |        NA |    NA | NA |\n| Bolivia                |  2677.3263 |  2127.6863 |  2180.9725 |  2586.8861 |  2980.3313 |  3548.0978 |  3156.5105 |  2753.6915 |  2961.6997 | ⋯ |        NA |        NA |        NA |        NA |        NA |        NA |        NA |        NA |    NA | NA |\n| Bosnia and Herzegovina |   973.5332 |  1353.9892 |  1709.6837 |  2172.3524 |  2860.1698 |  3528.4813 |  4126.6132 |  4314.1148 |  2546.7814 | ⋯ |        NA |        NA |        NA |        NA |        NA |        NA |        NA |        NA |    NA | NA |\n| Botswana               |   851.2411 |   918.2325 |   983.6540 |  1214.7093 |  2263.6111 |  3214.8578 |  4551.1421 |  6205.8839 |  7954.1116 | ⋯ |        NA |        NA |        NA |        NA |        NA |        NA |        NA |        NA |    NA | NA |\n| Brazil                 |  2108.9444 |  2487.3660 |  3336.5858 |  3429.8644 |  4985.7115 |  6660.1187 |  7030.8359 |  7807.0958 |  6950.2830 | ⋯ |        NA |        NA |        NA |        NA |        NA |        NA |        NA |        NA |    NA | NA |\n| Brunei                 |         NA |         NA |         NA |         NA | 54117.1591 | 72555.2285 | 62407.2106 | 53585.9036 | 49174.4054 | ⋯ |        NA |        NA |        NA |        NA |        NA |        NA |        NA |        NA |    NA | NA |\n| Bulgaria               |  2444.2866 |  3008.6707 |  4254.3378 |  5577.0028 |  6597.4944 |  7612.2404 |  8224.1916 |  8239.8548 |  6302.6234 | ⋯ |  6820.308 |  6250.966 |  6282.641 |  6491.100 |  6907.014 |  7264.607 |  8105.389 |  8721.228 |  9353 | NA |\n| Burkina Faso           |   543.2552 |   617.1835 |   722.5120 |   794.8266 |   854.7360 |   743.3870 |   807.1986 |   912.0631 |   931.7528 | ⋯ |        NA |        NA |        NA |        NA |        NA |        NA |        NA |        NA |    NA | NA |\n| Burundi                |   339.2965 |   379.5646 |   355.2032 |   412.9775 |   464.0995 |   556.1033 |   559.6032 |   621.8188 |   631.6999 | ⋯ |        NA |        NA |        NA |        NA |        NA |        NA |        NA |        NA |    NA | NA |\n| Cambodia               |   368.4693 |   434.0383 |   496.9136 |   523.4323 |   421.6240 |   524.9722 |   624.4755 |   683.8956 |   682.3032 | ⋯ |        NA |        NA |        NA |        NA |        NA |        NA |        NA |        NA |    NA | NA |\n| Cameroon               |  1172.6677 |  1313.0481 |  1399.6074 |  1508.4531 |  1684.1465 |  1783.4329 |  2367.9833 |  2602.6642 |  1793.1633 | ⋯ |        NA |        NA |        NA |        NA |        NA |        NA |        NA |        NA |    NA | NA |\n| Canada                 | 11367.1611 | 12489.9501 | 13462.4855 | 16076.5880 | 18970.5709 | 22090.8831 | 22898.7921 | 26626.5150 | 26342.8843 | ⋯ | 27969.673 | 28074.836 | 29837.458 | 31154.856 | 32448.608 | 32570.566 | 33635.254 | 34346.966 | 35078 | NA |\n| ⋮ | ⋮ | ⋮ | ⋮ | ⋮ | ⋮ | ⋮ | ⋮ | ⋮ | ⋮ | ⋱ | ⋮ | ⋮ | ⋮ | ⋮ | ⋮ | ⋮ | ⋮ | ⋮ | ⋮ | ⋮ |\n| Suriname             |         NA |         NA |         NA |         NA |  5504.4375 |  6622.7173 |  6061.2504 |  5508.1735 |  5974.2636 | ⋯ |        NA |       NA |        NA |        NA |        NA |        NA |        NA |        NA |    NA |        NA |\n| Swaziland            |  1148.3766 |  1244.7084 |  1856.1821 |  2613.1017 |  3364.8366 |  3781.4106 |  3895.3840 |  3984.8398 |  3553.0224 | ⋯ |        NA |       NA |        NA |        NA |        NA |        NA |        NA |        NA |    NA |        NA |\n| Sweden               |  8527.8447 |  9911.8782 | 12329.4419 | 15258.2970 | 17832.0246 | 18855.7252 | 20667.3812 | 23586.9293 | 23880.0168 | ⋯ | 24361.307 | 24628.88 | 26173.149 | 27328.739 | 28447.861 | 28695.773 | 29852.541 | 31027.891 | 31995 | 33156.205 |\n| Switzerland          | 14734.2327 | 17909.4897 | 20431.0927 | 22966.1443 | 27195.1130 | 26982.2905 | 28397.7151 | 30281.7046 | 31871.5303 | ⋯ | 31530.769 | 31589.72 | 33039.505 | 33349.654 | 34386.902 | 34569.381 | 34183.283 | 34864.092 | 35520 | 36523.098 |\n| Syria                |  1643.4854 |  2117.2349 |  2193.0371 |  1881.9236 |  2571.4230 |  3195.4846 |  3761.8377 |  3116.7743 |  3340.5428 | ⋯ |        NA |       NA |        NA |        NA |        NA |        NA |        NA |        NA |    NA |        NA |\n| Taiwan               |  1206.9479 |  1507.8613 |  1822.8790 |  2643.8587 |  4062.5239 |  5596.5198 |  7426.3548 | 11054.5618 | 15215.6579 | ⋯ | 18108.615 | 19107.52 | 20944.272 | 21984.537 | 23094.573 | 22434.197 | 23879.031 | 25238.824 | 26069 | 27248.068 |\n| Tajikistan           |         NA |         NA |         NA |         NA |         NA |         NA |         NA |         NA |  1992.2265 | ⋯ |        NA |       NA |        NA |        NA |        NA |        NA |        NA |        NA |    NA |        NA |\n| Tanzania             |   716.6501 |   698.5356 |   722.0038 |   848.2187 |   915.9851 |   962.4923 |   874.2426 |   831.8221 |   825.6825 | ⋯ |        NA |       NA |        NA |        NA |        NA |        NA |        NA |        NA |    NA |        NA |\n| Thailand             |   757.7974 |   793.5774 |  1002.1992 |  1295.4607 |  1524.3589 |  1961.2246 |  2393.2198 |  2982.6538 |  4616.8965 | ⋯ |        NA |       NA |        NA |        NA |        NA |        NA |        NA |        NA |    NA |        NA |\n| Timor-Leste          |         NA |         NA |         NA |         NA |         NA |         NA |         NA |         NA |  2577.9862 | ⋯ |        NA |       NA |        NA |        NA |        NA |        NA |        NA |        NA |    NA |        NA |\n| Togo                 |   859.8087 |   925.9083 |  1067.5348 |  1477.5968 |  1649.6602 |  1532.7770 |  1344.5780 |  1202.2014 |  1034.2989 | ⋯ |        NA |       NA |        NA |        NA |        NA |        NA |        NA |        NA |    NA |        NA |\n| Tonga                |         NA |         NA |         NA |         NA |         NA |  2116.1131 |  3287.0490 |  4088.3573 |  4070.0747 | ⋯ |        NA |       NA |        NA |        NA |        NA |        NA |        NA |        NA |    NA |        NA |\n| Trinidad and Tobago  |  3023.2719 |  4100.3934 |  4997.5240 |  5621.3685 |  6619.5514 |  7899.5542 |  9119.5286 |  7388.5978 |  7370.9909 | ⋯ |        NA |       NA |        NA |        NA |        NA |        NA |        NA |        NA |    NA |        NA |\n| Tunisia              |  1468.4756 |  1395.2325 |  1660.3032 |  1932.3602 |  2753.2860 |  3120.8768 |  3560.2332 |  3810.4193 |  4332.7202 | ⋯ |        NA |       NA |        NA |        NA |        NA |        NA |        NA |        NA |    NA |        NA |\n| Turkey               |  1969.1010 |  2218.7543 |  2322.8699 |  2826.3564 |  3450.6964 |  4269.1223 |  4241.3563 |  5089.0437 |  5678.3483 | ⋯ |        NA |       NA |        NA |        NA |        NA |        NA |        NA |        NA |    NA |        NA |\n| Turkmenistan         |         NA |         NA |         NA |         NA |         NA |         NA |         NA |         NA |  3961.8910 | ⋯ |        NA |       NA |        NA |        NA |        NA |        NA |        NA |        NA |    NA |        NA |\n| Uganda               |   734.7535 |   774.3711 |   767.2717 |   908.9185 |   950.7359 |   843.7331 |   682.2662 |   617.7244 |   644.1708 | ⋯ |        NA |       NA |        NA |        NA |        NA |        NA |        NA |        NA |    NA |        NA |\n| Ukraine              |         NA |         NA |         NA |         NA |         NA |         NA |         NA |         NA |  6650.4535 | ⋯ |  3909.539 |  3548.69 |  3435.907 |  3460.324 |  3700.351 |  4082.186 |  4781.146 |  5400.285 |  5583 |  6039.513 |\n| United Arab Emirates |         NA |         NA |         NA |         NA | 12703.6105 | 53335.1758 | 47211.4006 | 29327.0588 | 30084.2365 | ⋯ |        NA |       NA |        NA |        NA |        NA |        NA |        NA |        NA |    NA |        NA |\n| United Kingdom       |  9979.5085 | 11283.1779 | 12477.1771 | 14142.8509 | 15895.1164 | 17428.7485 | 18232.4245 | 21664.7877 | 22705.0925 | ⋯ |        NA |       NA |        NA |        NA |        NA |        NA |        NA |        NA |    NA |        NA |\n| United States        | 13990.4821 | 14847.1271 | 16173.1459 | 19530.3656 | 21806.0359 | 24072.6321 | 25009.5591 | 29884.3504 | 32003.9322 | ⋯ | 33773.324 | 34628.08 | 36839.820 | 38053.717 | 39025.863 | 38891.110 | 39747.376 | 40804.334 | 41674 |        NA |\n| Uruguay              |  5716.7667 |  6150.7730 |  5603.3577 |  5444.6196 |  5703.4089 |  6504.3397 |  6920.2231 |  7452.3990 |  8137.0048 | ⋯ |        NA |       NA |        NA |        NA |        NA |        NA |        NA |        NA |    NA |        NA |\n| Uzbekistan           |         NA |         NA |         NA |         NA |         NA |         NA |         NA |         NA |  1682.5005 | ⋯ |        NA |       NA |        NA |        NA |        NA |        NA |        NA |        NA |    NA |        NA |\n| Vanuatu              |         NA |         NA |         NA |         NA |         NA |  2605.6880 |  2834.8901 |  3251.2745 |  3443.4245 | ⋯ |        NA |       NA |        NA |        NA |        NA |        NA |        NA |        NA |    NA |        NA |\n| Venezuela            |  7689.7998 |  9802.4665 |  8422.9742 |  9541.4742 | 10505.2597 | 13143.9510 | 11152.4101 |  9883.5846 | 10733.9263 | ⋯ |        NA |       NA |        NA |        NA |        NA |        NA |        NA |        NA |    NA |        NA |\n| Vietnam              |   605.0665 |   676.2854 |   772.0492 |   637.1233 |   699.5016 |   713.5371 |   707.2358 |   820.7994 |   989.0231 | ⋯ |        NA |       NA |        NA |        NA |        NA |        NA |        NA |        NA |    NA |        NA |\n| West Bank and Gaza   |  1515.5923 |  1827.0677 |  2198.9563 |  2649.7150 |  3133.4093 |  3682.8315 |  4336.0321 |  5107.1974 |  6017.6548 | ⋯ |        NA |       NA |        NA |        NA |        NA |        NA |        NA |        NA |    NA |        NA |\n| Yemen, Rep.          |   781.7176 |   804.8305 |   825.6232 |   862.4421 |  1265.0470 |  1829.7652 |  1977.5570 |  1971.7415 |  1879.4967 | ⋯ |        NA |       NA |        NA |        NA |        NA |        NA |        NA |        NA |    NA |        NA |\n| Zambia               |  1147.3888 |  1311.9568 |  1452.7258 |  1777.0773 |  1773.4983 |  1588.6883 |  1408.6786 |  1213.3151 |  1210.8846 | ⋯ |        NA |       NA |        NA |        NA |        NA |        NA |        NA |        NA |    NA |        NA |\n| Zimbabwe             |   406.8841 |   518.7643 |   527.2722 |   569.7951 |   799.3622 |   685.5877 |   788.8550 |   706.1573 |   693.4208 | ⋯ |        NA |       NA |        NA |        NA |        NA |        NA |        NA |        NA |    NA |        NA |\n\n",
            "text/latex": "A tibble: 187 × 59\n\\begin{tabular}{lllllllllllllllllllll}\n country & 1952 & 1957 & 1962 & 1967 & 1972 & 1977 & 1982 & 1987 & 1992 & ⋯ & 1995 & 1996 & 1998 & 1999 & 2000 & 2001 & 2003 & 2004 & 2005 & 2006\\\\\n <fct> & <dbl> & <dbl> & <dbl> & <dbl> & <dbl> & <dbl> & <dbl> & <dbl> & <dbl> & ⋯ & <dbl> & <dbl> & <dbl> & <dbl> & <dbl> & <dbl> & <dbl> & <dbl> & <dbl> & <dbl>\\\\\n\\hline\n\t Afghanistan            &   779.4453 &   820.8530 &   853.1007 &   836.1971 &   739.9811 &   786.1134 &   978.0114 &   852.3959 &   649.3414 & ⋯ &        NA &        NA &        NA &        NA &        NA &        NA &        NA &        NA &    NA & NA\\\\\n\t Albania                &  1601.0561 &  1942.2842 &  2312.8890 &  2760.1969 &  3313.4222 &  3533.0039 &  3630.8807 &  3738.9327 &  2497.4379 & ⋯ &        NA &        NA &        NA &        NA &        NA &        NA &        NA &        NA &    NA & NA\\\\\n\t Algeria                &  2449.0082 &  3013.9760 &  2550.8169 &  3246.9918 &  4182.6638 &  4910.4168 &  5745.1602 &  5681.3585 &  5023.2166 & ⋯ &        NA &        NA &        NA &        NA &        NA &        NA &        NA &        NA &    NA & NA\\\\\n\t Angola                 &  3520.6103 &  3827.9405 &  4269.2767 &  5522.7764 &  5473.2880 &  3008.6474 &  2756.9537 &  2430.2083 &  2627.8457 & ⋯ &        NA &        NA &        NA &        NA &        NA &        NA &        NA &        NA &    NA & NA\\\\\n\t Argentina              &  5911.3151 &  6856.8562 &  7133.1660 &  8052.9530 &  9443.0385 & 10079.0267 &  8997.8974 &  9139.6714 &  9308.4187 & ⋯ &        NA &        NA &        NA &        NA &        NA &        NA &        NA &        NA &    NA & NA\\\\\n\t Armenia                &         NA &         NA &         NA &         NA &         NA &         NA &         NA &         NA &  1442.9378 & ⋯ &        NA &        NA &        NA &        NA &        NA &        NA &        NA &        NA &    NA & NA\\\\\n\t Aruba                  &         NA &         NA &         NA &         NA &  4939.7580 &  7390.3599 & 10874.9150 & 17674.3389 & 25120.5496 & ⋯ &        NA &        NA &        NA &        NA &        NA &        NA &        NA &        NA &    NA & NA\\\\\n\t Australia              & 10039.5956 & 10949.6496 & 12217.2269 & 14526.1246 & 16788.6295 & 18334.1975 & 19477.0093 & 21888.8890 & 23424.7668 & ⋯ & 25518.715 & 26151.132 & 28169.153 & 28983.267 & 29241.515 & 30043.243 & 31634.242 & 32098.506 &    NA & NA\\\\\n\t Austria                &  6137.0765 &  8842.5980 & 10750.7211 & 12834.6024 & 16661.6256 & 19749.4223 & 21597.0836 & 23687.8261 & 27042.0187 & ⋯ & 27918.819 & 28602.353 & 30107.978 & 31039.619 & 32008.505 & 32196.425 & 32741.187 & 33455.694 & 34108 & NA\\\\\n\t Azerbaijan             &         NA &         NA &         NA &         NA &         NA &         NA &         NA &         NA &  3455.5430 & ⋯ &        NA &        NA &        NA &        NA &        NA &        NA &        NA &        NA &    NA & NA\\\\\n\t Bahamas                &         NA &         NA & 15117.5150 & 19318.1061 & 18152.4376 & 14380.6660 & 20433.0368 & 22438.0135 & 19432.5693 & ⋯ &        NA &        NA &        NA &        NA &        NA &        NA &        NA &        NA &    NA & NA\\\\\n\t Bahrain                &  9867.0848 & 11635.7995 & 12753.2751 & 14804.6727 & 18268.6584 & 19340.1020 & 19211.1473 & 18524.0241 & 19035.5792 & ⋯ &        NA &        NA &        NA &        NA &        NA &        NA &        NA &        NA &    NA & NA\\\\\n\t Bangladesh             &   684.2442 &   661.6375 &   686.3416 &   721.1861 &   630.2336 &   659.8772 &   676.9819 &   751.9794 &   837.8102 & ⋯ &        NA &        NA &        NA &        NA &        NA &        NA &        NA &        NA &    NA & NA\\\\\n\t Barbados               &         NA &         NA &  6204.4895 &  7788.5441 &  9853.8064 & 11817.3559 & 12736.4725 & 13783.2090 & 12263.4533 & ⋯ &        NA &        NA &        NA &        NA &        NA &        NA &        NA &        NA &    NA & NA\\\\\n\t Belarus                &         NA &         NA &         NA &         NA &         NA &         NA &         NA &         NA &  6014.4061 & ⋯ &  4355.509 &  4475.406 &  5411.862 &  5602.353 &  5936.238 &  6225.164 &  6999.865 &  7806.724 &  8541 & NA\\\\\n\t Belgium                &  8343.1051 &  9714.9606 & 10991.2068 & 13149.0412 & 16672.1436 & 19117.9745 & 20979.8459 & 22525.5631 & 25575.5707 & ⋯ & 26480.947 & 26725.498 & 28030.613 & 28937.151 & 29940.205 & 30092.076 & 30736.526 & 31600.017 & 32077 & NA\\\\\n\t Belize                 &         NA &         NA &  1916.3196 &  2099.1585 &  2616.6966 &  3158.6880 &  3732.0949 &  3844.9319 &  5780.6891 & ⋯ &        NA &        NA &        NA &        NA &        NA &        NA &        NA &        NA &    NA & NA\\\\\n\t Benin                  &  1062.7522 &   959.6011 &   949.4991 &  1035.8314 &  1085.7969 &  1029.1613 &  1277.8976 &  1225.8560 &  1191.2077 & ⋯ &        NA &        NA &        NA &        NA &        NA &        NA &        NA &        NA &    NA & NA\\\\\n\t Bhutan                 &         NA &         NA &         NA &         NA &   807.6226 &   816.3102 &   946.8130 &  1494.2901 &  1904.1795 & ⋯ &        NA &        NA &        NA &        NA &        NA &        NA &        NA &        NA &    NA & NA\\\\\n\t Bolivia                &  2677.3263 &  2127.6863 &  2180.9725 &  2586.8861 &  2980.3313 &  3548.0978 &  3156.5105 &  2753.6915 &  2961.6997 & ⋯ &        NA &        NA &        NA &        NA &        NA &        NA &        NA &        NA &    NA & NA\\\\\n\t Bosnia and Herzegovina &   973.5332 &  1353.9892 &  1709.6837 &  2172.3524 &  2860.1698 &  3528.4813 &  4126.6132 &  4314.1148 &  2546.7814 & ⋯ &        NA &        NA &        NA &        NA &        NA &        NA &        NA &        NA &    NA & NA\\\\\n\t Botswana               &   851.2411 &   918.2325 &   983.6540 &  1214.7093 &  2263.6111 &  3214.8578 &  4551.1421 &  6205.8839 &  7954.1116 & ⋯ &        NA &        NA &        NA &        NA &        NA &        NA &        NA &        NA &    NA & NA\\\\\n\t Brazil                 &  2108.9444 &  2487.3660 &  3336.5858 &  3429.8644 &  4985.7115 &  6660.1187 &  7030.8359 &  7807.0958 &  6950.2830 & ⋯ &        NA &        NA &        NA &        NA &        NA &        NA &        NA &        NA &    NA & NA\\\\\n\t Brunei                 &         NA &         NA &         NA &         NA & 54117.1591 & 72555.2285 & 62407.2106 & 53585.9036 & 49174.4054 & ⋯ &        NA &        NA &        NA &        NA &        NA &        NA &        NA &        NA &    NA & NA\\\\\n\t Bulgaria               &  2444.2866 &  3008.6707 &  4254.3378 &  5577.0028 &  6597.4944 &  7612.2404 &  8224.1916 &  8239.8548 &  6302.6234 & ⋯ &  6820.308 &  6250.966 &  6282.641 &  6491.100 &  6907.014 &  7264.607 &  8105.389 &  8721.228 &  9353 & NA\\\\\n\t Burkina Faso           &   543.2552 &   617.1835 &   722.5120 &   794.8266 &   854.7360 &   743.3870 &   807.1986 &   912.0631 &   931.7528 & ⋯ &        NA &        NA &        NA &        NA &        NA &        NA &        NA &        NA &    NA & NA\\\\\n\t Burundi                &   339.2965 &   379.5646 &   355.2032 &   412.9775 &   464.0995 &   556.1033 &   559.6032 &   621.8188 &   631.6999 & ⋯ &        NA &        NA &        NA &        NA &        NA &        NA &        NA &        NA &    NA & NA\\\\\n\t Cambodia               &   368.4693 &   434.0383 &   496.9136 &   523.4323 &   421.6240 &   524.9722 &   624.4755 &   683.8956 &   682.3032 & ⋯ &        NA &        NA &        NA &        NA &        NA &        NA &        NA &        NA &    NA & NA\\\\\n\t Cameroon               &  1172.6677 &  1313.0481 &  1399.6074 &  1508.4531 &  1684.1465 &  1783.4329 &  2367.9833 &  2602.6642 &  1793.1633 & ⋯ &        NA &        NA &        NA &        NA &        NA &        NA &        NA &        NA &    NA & NA\\\\\n\t Canada                 & 11367.1611 & 12489.9501 & 13462.4855 & 16076.5880 & 18970.5709 & 22090.8831 & 22898.7921 & 26626.5150 & 26342.8843 & ⋯ & 27969.673 & 28074.836 & 29837.458 & 31154.856 & 32448.608 & 32570.566 & 33635.254 & 34346.966 & 35078 & NA\\\\\n\t ⋮ & ⋮ & ⋮ & ⋮ & ⋮ & ⋮ & ⋮ & ⋮ & ⋮ & ⋮ & ⋱ & ⋮ & ⋮ & ⋮ & ⋮ & ⋮ & ⋮ & ⋮ & ⋮ & ⋮ & ⋮\\\\\n\t Suriname             &         NA &         NA &         NA &         NA &  5504.4375 &  6622.7173 &  6061.2504 &  5508.1735 &  5974.2636 & ⋯ &        NA &       NA &        NA &        NA &        NA &        NA &        NA &        NA &    NA &        NA\\\\\n\t Swaziland            &  1148.3766 &  1244.7084 &  1856.1821 &  2613.1017 &  3364.8366 &  3781.4106 &  3895.3840 &  3984.8398 &  3553.0224 & ⋯ &        NA &       NA &        NA &        NA &        NA &        NA &        NA &        NA &    NA &        NA\\\\\n\t Sweden               &  8527.8447 &  9911.8782 & 12329.4419 & 15258.2970 & 17832.0246 & 18855.7252 & 20667.3812 & 23586.9293 & 23880.0168 & ⋯ & 24361.307 & 24628.88 & 26173.149 & 27328.739 & 28447.861 & 28695.773 & 29852.541 & 31027.891 & 31995 & 33156.205\\\\\n\t Switzerland          & 14734.2327 & 17909.4897 & 20431.0927 & 22966.1443 & 27195.1130 & 26982.2905 & 28397.7151 & 30281.7046 & 31871.5303 & ⋯ & 31530.769 & 31589.72 & 33039.505 & 33349.654 & 34386.902 & 34569.381 & 34183.283 & 34864.092 & 35520 & 36523.098\\\\\n\t Syria                &  1643.4854 &  2117.2349 &  2193.0371 &  1881.9236 &  2571.4230 &  3195.4846 &  3761.8377 &  3116.7743 &  3340.5428 & ⋯ &        NA &       NA &        NA &        NA &        NA &        NA &        NA &        NA &    NA &        NA\\\\\n\t Taiwan               &  1206.9479 &  1507.8613 &  1822.8790 &  2643.8587 &  4062.5239 &  5596.5198 &  7426.3548 & 11054.5618 & 15215.6579 & ⋯ & 18108.615 & 19107.52 & 20944.272 & 21984.537 & 23094.573 & 22434.197 & 23879.031 & 25238.824 & 26069 & 27248.068\\\\\n\t Tajikistan           &         NA &         NA &         NA &         NA &         NA &         NA &         NA &         NA &  1992.2265 & ⋯ &        NA &       NA &        NA &        NA &        NA &        NA &        NA &        NA &    NA &        NA\\\\\n\t Tanzania             &   716.6501 &   698.5356 &   722.0038 &   848.2187 &   915.9851 &   962.4923 &   874.2426 &   831.8221 &   825.6825 & ⋯ &        NA &       NA &        NA &        NA &        NA &        NA &        NA &        NA &    NA &        NA\\\\\n\t Thailand             &   757.7974 &   793.5774 &  1002.1992 &  1295.4607 &  1524.3589 &  1961.2246 &  2393.2198 &  2982.6538 &  4616.8965 & ⋯ &        NA &       NA &        NA &        NA &        NA &        NA &        NA &        NA &    NA &        NA\\\\\n\t Timor-Leste          &         NA &         NA &         NA &         NA &         NA &         NA &         NA &         NA &  2577.9862 & ⋯ &        NA &       NA &        NA &        NA &        NA &        NA &        NA &        NA &    NA &        NA\\\\\n\t Togo                 &   859.8087 &   925.9083 &  1067.5348 &  1477.5968 &  1649.6602 &  1532.7770 &  1344.5780 &  1202.2014 &  1034.2989 & ⋯ &        NA &       NA &        NA &        NA &        NA &        NA &        NA &        NA &    NA &        NA\\\\\n\t Tonga                &         NA &         NA &         NA &         NA &         NA &  2116.1131 &  3287.0490 &  4088.3573 &  4070.0747 & ⋯ &        NA &       NA &        NA &        NA &        NA &        NA &        NA &        NA &    NA &        NA\\\\\n\t Trinidad and Tobago  &  3023.2719 &  4100.3934 &  4997.5240 &  5621.3685 &  6619.5514 &  7899.5542 &  9119.5286 &  7388.5978 &  7370.9909 & ⋯ &        NA &       NA &        NA &        NA &        NA &        NA &        NA &        NA &    NA &        NA\\\\\n\t Tunisia              &  1468.4756 &  1395.2325 &  1660.3032 &  1932.3602 &  2753.2860 &  3120.8768 &  3560.2332 &  3810.4193 &  4332.7202 & ⋯ &        NA &       NA &        NA &        NA &        NA &        NA &        NA &        NA &    NA &        NA\\\\\n\t Turkey               &  1969.1010 &  2218.7543 &  2322.8699 &  2826.3564 &  3450.6964 &  4269.1223 &  4241.3563 &  5089.0437 &  5678.3483 & ⋯ &        NA &       NA &        NA &        NA &        NA &        NA &        NA &        NA &    NA &        NA\\\\\n\t Turkmenistan         &         NA &         NA &         NA &         NA &         NA &         NA &         NA &         NA &  3961.8910 & ⋯ &        NA &       NA &        NA &        NA &        NA &        NA &        NA &        NA &    NA &        NA\\\\\n\t Uganda               &   734.7535 &   774.3711 &   767.2717 &   908.9185 &   950.7359 &   843.7331 &   682.2662 &   617.7244 &   644.1708 & ⋯ &        NA &       NA &        NA &        NA &        NA &        NA &        NA &        NA &    NA &        NA\\\\\n\t Ukraine              &         NA &         NA &         NA &         NA &         NA &         NA &         NA &         NA &  6650.4535 & ⋯ &  3909.539 &  3548.69 &  3435.907 &  3460.324 &  3700.351 &  4082.186 &  4781.146 &  5400.285 &  5583 &  6039.513\\\\\n\t United Arab Emirates &         NA &         NA &         NA &         NA & 12703.6105 & 53335.1758 & 47211.4006 & 29327.0588 & 30084.2365 & ⋯ &        NA &       NA &        NA &        NA &        NA &        NA &        NA &        NA &    NA &        NA\\\\\n\t United Kingdom       &  9979.5085 & 11283.1779 & 12477.1771 & 14142.8509 & 15895.1164 & 17428.7485 & 18232.4245 & 21664.7877 & 22705.0925 & ⋯ &        NA &       NA &        NA &        NA &        NA &        NA &        NA &        NA &    NA &        NA\\\\\n\t United States        & 13990.4821 & 14847.1271 & 16173.1459 & 19530.3656 & 21806.0359 & 24072.6321 & 25009.5591 & 29884.3504 & 32003.9322 & ⋯ & 33773.324 & 34628.08 & 36839.820 & 38053.717 & 39025.863 & 38891.110 & 39747.376 & 40804.334 & 41674 &        NA\\\\\n\t Uruguay              &  5716.7667 &  6150.7730 &  5603.3577 &  5444.6196 &  5703.4089 &  6504.3397 &  6920.2231 &  7452.3990 &  8137.0048 & ⋯ &        NA &       NA &        NA &        NA &        NA &        NA &        NA &        NA &    NA &        NA\\\\\n\t Uzbekistan           &         NA &         NA &         NA &         NA &         NA &         NA &         NA &         NA &  1682.5005 & ⋯ &        NA &       NA &        NA &        NA &        NA &        NA &        NA &        NA &    NA &        NA\\\\\n\t Vanuatu              &         NA &         NA &         NA &         NA &         NA &  2605.6880 &  2834.8901 &  3251.2745 &  3443.4245 & ⋯ &        NA &       NA &        NA &        NA &        NA &        NA &        NA &        NA &    NA &        NA\\\\\n\t Venezuela            &  7689.7998 &  9802.4665 &  8422.9742 &  9541.4742 & 10505.2597 & 13143.9510 & 11152.4101 &  9883.5846 & 10733.9263 & ⋯ &        NA &       NA &        NA &        NA &        NA &        NA &        NA &        NA &    NA &        NA\\\\\n\t Vietnam              &   605.0665 &   676.2854 &   772.0492 &   637.1233 &   699.5016 &   713.5371 &   707.2358 &   820.7994 &   989.0231 & ⋯ &        NA &       NA &        NA &        NA &        NA &        NA &        NA &        NA &    NA &        NA\\\\\n\t West Bank and Gaza   &  1515.5923 &  1827.0677 &  2198.9563 &  2649.7150 &  3133.4093 &  3682.8315 &  4336.0321 &  5107.1974 &  6017.6548 & ⋯ &        NA &       NA &        NA &        NA &        NA &        NA &        NA &        NA &    NA &        NA\\\\\n\t Yemen, Rep.          &   781.7176 &   804.8305 &   825.6232 &   862.4421 &  1265.0470 &  1829.7652 &  1977.5570 &  1971.7415 &  1879.4967 & ⋯ &        NA &       NA &        NA &        NA &        NA &        NA &        NA &        NA &    NA &        NA\\\\\n\t Zambia               &  1147.3888 &  1311.9568 &  1452.7258 &  1777.0773 &  1773.4983 &  1588.6883 &  1408.6786 &  1213.3151 &  1210.8846 & ⋯ &        NA &       NA &        NA &        NA &        NA &        NA &        NA &        NA &    NA &        NA\\\\\n\t Zimbabwe             &   406.8841 &   518.7643 &   527.2722 &   569.7951 &   799.3622 &   685.5877 &   788.8550 &   706.1573 &   693.4208 & ⋯ &        NA &       NA &        NA &        NA &        NA &        NA &        NA &        NA &    NA &        NA\\\\\n\\end{tabular}\n",
            "text/plain": [
              "    country                1952       1957       1962       1967      \n",
              "1   Afghanistan              779.4453   820.8530   853.1007   836.1971\n",
              "2   Albania                 1601.0561  1942.2842  2312.8890  2760.1969\n",
              "3   Algeria                 2449.0082  3013.9760  2550.8169  3246.9918\n",
              "4   Angola                  3520.6103  3827.9405  4269.2767  5522.7764\n",
              "5   Argentina               5911.3151  6856.8562  7133.1660  8052.9530\n",
              "6   Armenia                        NA         NA         NA         NA\n",
              "7   Aruba                          NA         NA         NA         NA\n",
              "8   Australia              10039.5956 10949.6496 12217.2269 14526.1246\n",
              "9   Austria                 6137.0765  8842.5980 10750.7211 12834.6024\n",
              "10  Azerbaijan                     NA         NA         NA         NA\n",
              "11  Bahamas                        NA         NA 15117.5150 19318.1061\n",
              "12  Bahrain                 9867.0848 11635.7995 12753.2751 14804.6727\n",
              "13  Bangladesh               684.2442   661.6375   686.3416   721.1861\n",
              "14  Barbados                       NA         NA  6204.4895  7788.5441\n",
              "15  Belarus                        NA         NA         NA         NA\n",
              "16  Belgium                 8343.1051  9714.9606 10991.2068 13149.0412\n",
              "17  Belize                         NA         NA  1916.3196  2099.1585\n",
              "18  Benin                   1062.7522   959.6011   949.4991  1035.8314\n",
              "19  Bhutan                         NA         NA         NA         NA\n",
              "20  Bolivia                 2677.3263  2127.6863  2180.9725  2586.8861\n",
              "21  Bosnia and Herzegovina   973.5332  1353.9892  1709.6837  2172.3524\n",
              "22  Botswana                 851.2411   918.2325   983.6540  1214.7093\n",
              "23  Brazil                  2108.9444  2487.3660  3336.5858  3429.8644\n",
              "24  Brunei                         NA         NA         NA         NA\n",
              "25  Bulgaria                2444.2866  3008.6707  4254.3378  5577.0028\n",
              "26  Burkina Faso             543.2552   617.1835   722.5120   794.8266\n",
              "27  Burundi                  339.2965   379.5646   355.2032   412.9775\n",
              "28  Cambodia                 368.4693   434.0383   496.9136   523.4323\n",
              "29  Cameroon                1172.6677  1313.0481  1399.6074  1508.4531\n",
              "30  Canada                 11367.1611 12489.9501 13462.4855 16076.5880\n",
              "⋮   ⋮                      ⋮          ⋮          ⋮          ⋮         \n",
              "158 Suriname                       NA         NA         NA         NA\n",
              "159 Swaziland               1148.3766  1244.7084  1856.1821  2613.1017\n",
              "160 Sweden                  8527.8447  9911.8782 12329.4419 15258.2970\n",
              "161 Switzerland            14734.2327 17909.4897 20431.0927 22966.1443\n",
              "162 Syria                   1643.4854  2117.2349  2193.0371  1881.9236\n",
              "163 Taiwan                  1206.9479  1507.8613  1822.8790  2643.8587\n",
              "164 Tajikistan                     NA         NA         NA         NA\n",
              "165 Tanzania                 716.6501   698.5356   722.0038   848.2187\n",
              "166 Thailand                 757.7974   793.5774  1002.1992  1295.4607\n",
              "167 Timor-Leste                    NA         NA         NA         NA\n",
              "168 Togo                     859.8087   925.9083  1067.5348  1477.5968\n",
              "169 Tonga                          NA         NA         NA         NA\n",
              "170 Trinidad and Tobago     3023.2719  4100.3934  4997.5240  5621.3685\n",
              "171 Tunisia                 1468.4756  1395.2325  1660.3032  1932.3602\n",
              "172 Turkey                  1969.1010  2218.7543  2322.8699  2826.3564\n",
              "173 Turkmenistan                   NA         NA         NA         NA\n",
              "174 Uganda                   734.7535   774.3711   767.2717   908.9185\n",
              "175 Ukraine                        NA         NA         NA         NA\n",
              "176 United Arab Emirates           NA         NA         NA         NA\n",
              "177 United Kingdom          9979.5085 11283.1779 12477.1771 14142.8509\n",
              "178 United States          13990.4821 14847.1271 16173.1459 19530.3656\n",
              "179 Uruguay                 5716.7667  6150.7730  5603.3577  5444.6196\n",
              "180 Uzbekistan                     NA         NA         NA         NA\n",
              "181 Vanuatu                        NA         NA         NA         NA\n",
              "182 Venezuela               7689.7998  9802.4665  8422.9742  9541.4742\n",
              "183 Vietnam                  605.0665   676.2854   772.0492   637.1233\n",
              "184 West Bank and Gaza      1515.5923  1827.0677  2198.9563  2649.7150\n",
              "185 Yemen, Rep.              781.7176   804.8305   825.6232   862.4421\n",
              "186 Zambia                  1147.3888  1311.9568  1452.7258  1777.0773\n",
              "187 Zimbabwe                 406.8841   518.7643   527.2722   569.7951\n",
              "    1972       1977       1982       1987       1992       ⋯ 1995     \n",
              "1     739.9811   786.1134   978.0114   852.3959   649.3414 ⋯        NA\n",
              "2    3313.4222  3533.0039  3630.8807  3738.9327  2497.4379 ⋯        NA\n",
              "3    4182.6638  4910.4168  5745.1602  5681.3585  5023.2166 ⋯        NA\n",
              "4    5473.2880  3008.6474  2756.9537  2430.2083  2627.8457 ⋯        NA\n",
              "5    9443.0385 10079.0267  8997.8974  9139.6714  9308.4187 ⋯        NA\n",
              "6           NA         NA         NA         NA  1442.9378 ⋯        NA\n",
              "7    4939.7580  7390.3599 10874.9150 17674.3389 25120.5496 ⋯        NA\n",
              "8   16788.6295 18334.1975 19477.0093 21888.8890 23424.7668 ⋯ 25518.715\n",
              "9   16661.6256 19749.4223 21597.0836 23687.8261 27042.0187 ⋯ 27918.819\n",
              "10          NA         NA         NA         NA  3455.5430 ⋯        NA\n",
              "11  18152.4376 14380.6660 20433.0368 22438.0135 19432.5693 ⋯        NA\n",
              "12  18268.6584 19340.1020 19211.1473 18524.0241 19035.5792 ⋯        NA\n",
              "13    630.2336   659.8772   676.9819   751.9794   837.8102 ⋯        NA\n",
              "14   9853.8064 11817.3559 12736.4725 13783.2090 12263.4533 ⋯        NA\n",
              "15          NA         NA         NA         NA  6014.4061 ⋯  4355.509\n",
              "16  16672.1436 19117.9745 20979.8459 22525.5631 25575.5707 ⋯ 26480.947\n",
              "17   2616.6966  3158.6880  3732.0949  3844.9319  5780.6891 ⋯        NA\n",
              "18   1085.7969  1029.1613  1277.8976  1225.8560  1191.2077 ⋯        NA\n",
              "19    807.6226   816.3102   946.8130  1494.2901  1904.1795 ⋯        NA\n",
              "20   2980.3313  3548.0978  3156.5105  2753.6915  2961.6997 ⋯        NA\n",
              "21   2860.1698  3528.4813  4126.6132  4314.1148  2546.7814 ⋯        NA\n",
              "22   2263.6111  3214.8578  4551.1421  6205.8839  7954.1116 ⋯        NA\n",
              "23   4985.7115  6660.1187  7030.8359  7807.0958  6950.2830 ⋯        NA\n",
              "24  54117.1591 72555.2285 62407.2106 53585.9036 49174.4054 ⋯        NA\n",
              "25   6597.4944  7612.2404  8224.1916  8239.8548  6302.6234 ⋯  6820.308\n",
              "26    854.7360   743.3870   807.1986   912.0631   931.7528 ⋯        NA\n",
              "27    464.0995   556.1033   559.6032   621.8188   631.6999 ⋯        NA\n",
              "28    421.6240   524.9722   624.4755   683.8956   682.3032 ⋯        NA\n",
              "29   1684.1465  1783.4329  2367.9833  2602.6642  1793.1633 ⋯        NA\n",
              "30  18970.5709 22090.8831 22898.7921 26626.5150 26342.8843 ⋯ 27969.673\n",
              "⋮   ⋮          ⋮          ⋮          ⋮          ⋮          ⋱ ⋮        \n",
              "158  5504.4375  6622.7173  6061.2504  5508.1735  5974.2636 ⋯        NA\n",
              "159  3364.8366  3781.4106  3895.3840  3984.8398  3553.0224 ⋯        NA\n",
              "160 17832.0246 18855.7252 20667.3812 23586.9293 23880.0168 ⋯ 24361.307\n",
              "161 27195.1130 26982.2905 28397.7151 30281.7046 31871.5303 ⋯ 31530.769\n",
              "162  2571.4230  3195.4846  3761.8377  3116.7743  3340.5428 ⋯        NA\n",
              "163  4062.5239  5596.5198  7426.3548 11054.5618 15215.6579 ⋯ 18108.615\n",
              "164         NA         NA         NA         NA  1992.2265 ⋯        NA\n",
              "165   915.9851   962.4923   874.2426   831.8221   825.6825 ⋯        NA\n",
              "166  1524.3589  1961.2246  2393.2198  2982.6538  4616.8965 ⋯        NA\n",
              "167         NA         NA         NA         NA  2577.9862 ⋯        NA\n",
              "168  1649.6602  1532.7770  1344.5780  1202.2014  1034.2989 ⋯        NA\n",
              "169         NA  2116.1131  3287.0490  4088.3573  4070.0747 ⋯        NA\n",
              "170  6619.5514  7899.5542  9119.5286  7388.5978  7370.9909 ⋯        NA\n",
              "171  2753.2860  3120.8768  3560.2332  3810.4193  4332.7202 ⋯        NA\n",
              "172  3450.6964  4269.1223  4241.3563  5089.0437  5678.3483 ⋯        NA\n",
              "173         NA         NA         NA         NA  3961.8910 ⋯        NA\n",
              "174   950.7359   843.7331   682.2662   617.7244   644.1708 ⋯        NA\n",
              "175         NA         NA         NA         NA  6650.4535 ⋯  3909.539\n",
              "176 12703.6105 53335.1758 47211.4006 29327.0588 30084.2365 ⋯        NA\n",
              "177 15895.1164 17428.7485 18232.4245 21664.7877 22705.0925 ⋯        NA\n",
              "178 21806.0359 24072.6321 25009.5591 29884.3504 32003.9322 ⋯ 33773.324\n",
              "179  5703.4089  6504.3397  6920.2231  7452.3990  8137.0048 ⋯        NA\n",
              "180         NA         NA         NA         NA  1682.5005 ⋯        NA\n",
              "181         NA  2605.6880  2834.8901  3251.2745  3443.4245 ⋯        NA\n",
              "182 10505.2597 13143.9510 11152.4101  9883.5846 10733.9263 ⋯        NA\n",
              "183   699.5016   713.5371   707.2358   820.7994   989.0231 ⋯        NA\n",
              "184  3133.4093  3682.8315  4336.0321  5107.1974  6017.6548 ⋯        NA\n",
              "185  1265.0470  1829.7652  1977.5570  1971.7415  1879.4967 ⋯        NA\n",
              "186  1773.4983  1588.6883  1408.6786  1213.3151  1210.8846 ⋯        NA\n",
              "187   799.3622   685.5877   788.8550   706.1573   693.4208 ⋯        NA\n",
              "    1996      1998      1999      2000      2001      2003      2004      2005 \n",
              "1          NA        NA        NA        NA        NA        NA        NA    NA\n",
              "2          NA        NA        NA        NA        NA        NA        NA    NA\n",
              "3          NA        NA        NA        NA        NA        NA        NA    NA\n",
              "4          NA        NA        NA        NA        NA        NA        NA    NA\n",
              "5          NA        NA        NA        NA        NA        NA        NA    NA\n",
              "6          NA        NA        NA        NA        NA        NA        NA    NA\n",
              "7          NA        NA        NA        NA        NA        NA        NA    NA\n",
              "8   26151.132 28169.153 28983.267 29241.515 30043.243 31634.242 32098.506    NA\n",
              "9   28602.353 30107.978 31039.619 32008.505 32196.425 32741.187 33455.694 34108\n",
              "10         NA        NA        NA        NA        NA        NA        NA    NA\n",
              "11         NA        NA        NA        NA        NA        NA        NA    NA\n",
              "12         NA        NA        NA        NA        NA        NA        NA    NA\n",
              "13         NA        NA        NA        NA        NA        NA        NA    NA\n",
              "14         NA        NA        NA        NA        NA        NA        NA    NA\n",
              "15   4475.406  5411.862  5602.353  5936.238  6225.164  6999.865  7806.724  8541\n",
              "16  26725.498 28030.613 28937.151 29940.205 30092.076 30736.526 31600.017 32077\n",
              "17         NA        NA        NA        NA        NA        NA        NA    NA\n",
              "18         NA        NA        NA        NA        NA        NA        NA    NA\n",
              "19         NA        NA        NA        NA        NA        NA        NA    NA\n",
              "20         NA        NA        NA        NA        NA        NA        NA    NA\n",
              "21         NA        NA        NA        NA        NA        NA        NA    NA\n",
              "22         NA        NA        NA        NA        NA        NA        NA    NA\n",
              "23         NA        NA        NA        NA        NA        NA        NA    NA\n",
              "24         NA        NA        NA        NA        NA        NA        NA    NA\n",
              "25   6250.966  6282.641  6491.100  6907.014  7264.607  8105.389  8721.228  9353\n",
              "26         NA        NA        NA        NA        NA        NA        NA    NA\n",
              "27         NA        NA        NA        NA        NA        NA        NA    NA\n",
              "28         NA        NA        NA        NA        NA        NA        NA    NA\n",
              "29         NA        NA        NA        NA        NA        NA        NA    NA\n",
              "30  28074.836 29837.458 31154.856 32448.608 32570.566 33635.254 34346.966 35078\n",
              "⋮   ⋮         ⋮         ⋮         ⋮         ⋮         ⋮         ⋮         ⋮    \n",
              "158       NA         NA        NA        NA        NA        NA        NA    NA\n",
              "159       NA         NA        NA        NA        NA        NA        NA    NA\n",
              "160 24628.88  26173.149 27328.739 28447.861 28695.773 29852.541 31027.891 31995\n",
              "161 31589.72  33039.505 33349.654 34386.902 34569.381 34183.283 34864.092 35520\n",
              "162       NA         NA        NA        NA        NA        NA        NA    NA\n",
              "163 19107.52  20944.272 21984.537 23094.573 22434.197 23879.031 25238.824 26069\n",
              "164       NA         NA        NA        NA        NA        NA        NA    NA\n",
              "165       NA         NA        NA        NA        NA        NA        NA    NA\n",
              "166       NA         NA        NA        NA        NA        NA        NA    NA\n",
              "167       NA         NA        NA        NA        NA        NA        NA    NA\n",
              "168       NA         NA        NA        NA        NA        NA        NA    NA\n",
              "169       NA         NA        NA        NA        NA        NA        NA    NA\n",
              "170       NA         NA        NA        NA        NA        NA        NA    NA\n",
              "171       NA         NA        NA        NA        NA        NA        NA    NA\n",
              "172       NA         NA        NA        NA        NA        NA        NA    NA\n",
              "173       NA         NA        NA        NA        NA        NA        NA    NA\n",
              "174       NA         NA        NA        NA        NA        NA        NA    NA\n",
              "175  3548.69   3435.907  3460.324  3700.351  4082.186  4781.146  5400.285  5583\n",
              "176       NA         NA        NA        NA        NA        NA        NA    NA\n",
              "177       NA         NA        NA        NA        NA        NA        NA    NA\n",
              "178 34628.08  36839.820 38053.717 39025.863 38891.110 39747.376 40804.334 41674\n",
              "179       NA         NA        NA        NA        NA        NA        NA    NA\n",
              "180       NA         NA        NA        NA        NA        NA        NA    NA\n",
              "181       NA         NA        NA        NA        NA        NA        NA    NA\n",
              "182       NA         NA        NA        NA        NA        NA        NA    NA\n",
              "183       NA         NA        NA        NA        NA        NA        NA    NA\n",
              "184       NA         NA        NA        NA        NA        NA        NA    NA\n",
              "185       NA         NA        NA        NA        NA        NA        NA    NA\n",
              "186       NA         NA        NA        NA        NA        NA        NA    NA\n",
              "187       NA         NA        NA        NA        NA        NA        NA    NA\n",
              "    2006     \n",
              "1   NA       \n",
              "2   NA       \n",
              "3   NA       \n",
              "4   NA       \n",
              "5   NA       \n",
              "6   NA       \n",
              "7   NA       \n",
              "8   NA       \n",
              "9   NA       \n",
              "10  NA       \n",
              "11  NA       \n",
              "12  NA       \n",
              "13  NA       \n",
              "14  NA       \n",
              "15  NA       \n",
              "16  NA       \n",
              "17  NA       \n",
              "18  NA       \n",
              "19  NA       \n",
              "20  NA       \n",
              "21  NA       \n",
              "22  NA       \n",
              "23  NA       \n",
              "24  NA       \n",
              "25  NA       \n",
              "26  NA       \n",
              "27  NA       \n",
              "28  NA       \n",
              "29  NA       \n",
              "30  NA       \n",
              "⋮   ⋮        \n",
              "158        NA\n",
              "159        NA\n",
              "160 33156.205\n",
              "161 36523.098\n",
              "162        NA\n",
              "163 27248.068\n",
              "164        NA\n",
              "165        NA\n",
              "166        NA\n",
              "167        NA\n",
              "168        NA\n",
              "169        NA\n",
              "170        NA\n",
              "171        NA\n",
              "172        NA\n",
              "173        NA\n",
              "174        NA\n",
              "175  6039.513\n",
              "176        NA\n",
              "177        NA\n",
              "178        NA\n",
              "179        NA\n",
              "180        NA\n",
              "181        NA\n",
              "182        NA\n",
              "183        NA\n",
              "184        NA\n",
              "185        NA\n",
              "186        NA\n",
              "187        NA"
            ]
          },
          "metadata": {}
        }
      ]
    },
    {
      "cell_type": "code",
      "execution_count": null,
      "metadata": {
        "colab": {
          "base_uri": "https://localhost:8080/"
        },
        "id": "jUFiV8-WIvl9",
        "outputId": "82c99c4c-6826-4664-dd60-e399a5a6cd4a"
      },
      "outputs": [
        {
          "name": "stdout",
          "output_type": "stream",
          "text": [
            "\u001b[90m# A tibble: 187 × 59\u001b[39m\n",
            "   country `1952` `1957` `1962` `1967` `1972` `1977` `1982` `1987` `1992` `1997`\n",
            "   \u001b[3m\u001b[90m<fct>\u001b[39m\u001b[23m    \u001b[3m\u001b[90m<dbl>\u001b[39m\u001b[23m  \u001b[3m\u001b[90m<dbl>\u001b[39m\u001b[23m  \u001b[3m\u001b[90m<dbl>\u001b[39m\u001b[23m  \u001b[3m\u001b[90m<dbl>\u001b[39m\u001b[23m  \u001b[3m\u001b[90m<dbl>\u001b[39m\u001b[23m  \u001b[3m\u001b[90m<dbl>\u001b[39m\u001b[23m  \u001b[3m\u001b[90m<dbl>\u001b[39m\u001b[23m  \u001b[3m\u001b[90m<dbl>\u001b[39m\u001b[23m  \u001b[3m\u001b[90m<dbl>\u001b[39m\u001b[23m  \u001b[3m\u001b[90m<dbl>\u001b[39m\u001b[23m\n",
            "\u001b[90m 1\u001b[39m Afghan…   779.   821.   853.   836.   740.   786.   978.   852.   649.   635.\n",
            "\u001b[90m 2\u001b[39m Albania  \u001b[4m1\u001b[24m601.  \u001b[4m1\u001b[24m942.  \u001b[4m2\u001b[24m313.  \u001b[4m2\u001b[24m760.  \u001b[4m3\u001b[24m313.  \u001b[4m3\u001b[24m533.  \u001b[4m3\u001b[24m631.  \u001b[4m3\u001b[24m739.  \u001b[4m2\u001b[24m497.  \u001b[4m3\u001b[24m193.\n",
            "\u001b[90m 3\u001b[39m Algeria  \u001b[4m2\u001b[24m449.  \u001b[4m3\u001b[24m014.  \u001b[4m2\u001b[24m551.  \u001b[4m3\u001b[24m247.  \u001b[4m4\u001b[24m183.  \u001b[4m4\u001b[24m910.  \u001b[4m5\u001b[24m745.  \u001b[4m5\u001b[24m681.  \u001b[4m5\u001b[24m023.  \u001b[4m4\u001b[24m797.\n",
            "\u001b[90m 4\u001b[39m Angola   \u001b[4m3\u001b[24m521.  \u001b[4m3\u001b[24m828.  \u001b[4m4\u001b[24m269.  \u001b[4m5\u001b[24m523.  \u001b[4m5\u001b[24m473.  \u001b[4m3\u001b[24m009.  \u001b[4m2\u001b[24m757.  \u001b[4m2\u001b[24m430.  \u001b[4m2\u001b[24m628.  \u001b[4m2\u001b[24m277.\n",
            "\u001b[90m 5\u001b[39m Argent…  \u001b[4m5\u001b[24m911.  \u001b[4m6\u001b[24m857.  \u001b[4m7\u001b[24m133.  \u001b[4m8\u001b[24m053.  \u001b[4m9\u001b[24m443. \u001b[4m1\u001b[24m\u001b[4m0\u001b[24m079.  \u001b[4m8\u001b[24m998.  \u001b[4m9\u001b[24m140.  \u001b[4m9\u001b[24m308. \u001b[4m1\u001b[24m\u001b[4m0\u001b[24m967.\n",
            "\u001b[90m 6\u001b[39m Armenia    \u001b[31mNA\u001b[39m     \u001b[31mNA\u001b[39m     \u001b[31mNA\u001b[39m     \u001b[31mNA\u001b[39m     \u001b[31mNA\u001b[39m     \u001b[31mNA\u001b[39m     \u001b[31mNA\u001b[39m     \u001b[31mNA\u001b[39m   \u001b[4m1\u001b[24m443.  \u001b[4m1\u001b[24m791.\n",
            "\u001b[90m 7\u001b[39m Aruba      \u001b[31mNA\u001b[39m     \u001b[31mNA\u001b[39m     \u001b[31mNA\u001b[39m     \u001b[31mNA\u001b[39m   \u001b[4m4\u001b[24m940.  \u001b[4m7\u001b[24m390. \u001b[4m1\u001b[24m\u001b[4m0\u001b[24m875. \u001b[4m1\u001b[24m\u001b[4m7\u001b[24m674. \u001b[4m2\u001b[24m\u001b[4m5\u001b[24m121. \u001b[4m2\u001b[24m\u001b[4m6\u001b[24m484.\n",
            "\u001b[90m 8\u001b[39m Austra… \u001b[4m1\u001b[24m\u001b[4m0\u001b[24m040. \u001b[4m1\u001b[24m\u001b[4m0\u001b[24m950. \u001b[4m1\u001b[24m\u001b[4m2\u001b[24m217. \u001b[4m1\u001b[24m\u001b[4m4\u001b[24m526. \u001b[4m1\u001b[24m\u001b[4m6\u001b[24m789. \u001b[4m1\u001b[24m\u001b[4m8\u001b[24m334. \u001b[4m1\u001b[24m\u001b[4m9\u001b[24m477. \u001b[4m2\u001b[24m\u001b[4m1\u001b[24m889. \u001b[4m2\u001b[24m\u001b[4m3\u001b[24m425. \u001b[4m2\u001b[24m\u001b[4m6\u001b[24m998.\n",
            "\u001b[90m 9\u001b[39m Austria  \u001b[4m6\u001b[24m137.  \u001b[4m8\u001b[24m843. \u001b[4m1\u001b[24m\u001b[4m0\u001b[24m751. \u001b[4m1\u001b[24m\u001b[4m2\u001b[24m835. \u001b[4m1\u001b[24m\u001b[4m6\u001b[24m662. \u001b[4m1\u001b[24m\u001b[4m9\u001b[24m749. \u001b[4m2\u001b[24m\u001b[4m1\u001b[24m597. \u001b[4m2\u001b[24m\u001b[4m3\u001b[24m688. \u001b[4m2\u001b[24m\u001b[4m7\u001b[24m042. \u001b[4m2\u001b[24m\u001b[4m9\u001b[24m096.\n",
            "\u001b[90m10\u001b[39m Azerba…    \u001b[31mNA\u001b[39m     \u001b[31mNA\u001b[39m     \u001b[31mNA\u001b[39m     \u001b[31mNA\u001b[39m     \u001b[31mNA\u001b[39m     \u001b[31mNA\u001b[39m     \u001b[31mNA\u001b[39m     \u001b[31mNA\u001b[39m   \u001b[4m3\u001b[24m456.  \u001b[4m1\u001b[24m943.\n",
            "\u001b[90m# ℹ 177 more rows\u001b[39m\n",
            "\u001b[90m# ℹ 48 more variables: `2002` <dbl>, `2007` <dbl>, `1950` <dbl>, `1951` <dbl>,\u001b[39m\n",
            "\u001b[90m#   `1953` <dbl>, `1954` <dbl>, `1955` <dbl>, `1956` <dbl>, `1958` <dbl>,\u001b[39m\n",
            "\u001b[90m#   `1959` <dbl>, `1960` <dbl>, `1961` <dbl>, `1963` <dbl>, `1964` <dbl>,\u001b[39m\n",
            "\u001b[90m#   `1965` <dbl>, `1966` <dbl>, `1968` <dbl>, `1969` <dbl>, `1970` <dbl>,\u001b[39m\n",
            "\u001b[90m#   `1971` <dbl>, `1973` <dbl>, `1974` <dbl>, `1975` <dbl>, `1976` <dbl>,\u001b[39m\n",
            "\u001b[90m#   `1978` <dbl>, `1979` <dbl>, `1980` <dbl>, `1981` <dbl>, `1983` <dbl>, …\u001b[39m\n"
          ]
        }
      ],
      "source": [
        "# pivot unfiltered data wider\n",
        "gapminder_unfiltered %>% pivot_wider(id_cols = country, names_from = year, values_from = gdpPercap)"
      ]
    },
    {
      "cell_type": "markdown",
      "metadata": {
        "id": "Zdr541jpIvl-"
      },
      "source": [
        "You can see that there are many missing observations in the unfiltered data. In real life, you will mostly get unfiltered data -- how should we handle missing data?"
      ]
    },
    {
      "cell_type": "markdown",
      "metadata": {
        "id": "E2VIkztXIvl-"
      },
      "source": [
        "## Missing Values\n",
        "Missing values can be:\n",
        "\n",
        "* **Explicit** (marked as `NA` in our data); or\n",
        "* **Implicit** (not present in the data)."
      ]
    },
    {
      "cell_type": "code",
      "execution_count": 11,
      "metadata": {
        "id": "60WYLNb4Ivl-"
      },
      "outputs": [],
      "source": [
        "df <- tribble(\n",
        "  ~person,           ~treatment, ~response,\n",
        "  \"Derrick Whitmore\", 1,         7,\n",
        "  NA,                 2,         10,\n",
        "  NA,                 3,         NA,\n",
        "  \"Katherine Burke\",  1,         4,\n",
        "  NA,  1,         NA\n",
        ")"
      ]
    },
    {
      "cell_type": "code",
      "execution_count": 12,
      "metadata": {
        "colab": {
          "base_uri": "https://localhost:8080/",
          "height": 255
        },
        "id": "3nVpZbhKIvl_",
        "outputId": "4210f0de-6a79-4d12-a945-bed5114357f7"
      },
      "outputs": [
        {
          "output_type": "display_data",
          "data": {
            "text/html": [
              "<table class=\"dataframe\">\n",
              "<caption>A tibble: 5 × 3</caption>\n",
              "<thead>\n",
              "\t<tr><th scope=col>person</th><th scope=col>treatment</th><th scope=col>response</th></tr>\n",
              "\t<tr><th scope=col>&lt;chr&gt;</th><th scope=col>&lt;dbl&gt;</th><th scope=col>&lt;dbl&gt;</th></tr>\n",
              "</thead>\n",
              "<tbody>\n",
              "\t<tr><td>Derrick Whitmore</td><td>1</td><td> 7</td></tr>\n",
              "\t<tr><td>NA              </td><td>2</td><td>10</td></tr>\n",
              "\t<tr><td>NA              </td><td>3</td><td>NA</td></tr>\n",
              "\t<tr><td>Katherine Burke </td><td>1</td><td> 4</td></tr>\n",
              "\t<tr><td>NA              </td><td>1</td><td>NA</td></tr>\n",
              "</tbody>\n",
              "</table>\n"
            ],
            "text/markdown": "\nA tibble: 5 × 3\n\n| person &lt;chr&gt; | treatment &lt;dbl&gt; | response &lt;dbl&gt; |\n|---|---|---|\n| Derrick Whitmore | 1 |  7 |\n| NA               | 2 | 10 |\n| NA               | 3 | NA |\n| Katherine Burke  | 1 |  4 |\n| NA               | 1 | NA |\n\n",
            "text/latex": "A tibble: 5 × 3\n\\begin{tabular}{lll}\n person & treatment & response\\\\\n <chr> & <dbl> & <dbl>\\\\\n\\hline\n\t Derrick Whitmore & 1 &  7\\\\\n\t NA               & 2 & 10\\\\\n\t NA               & 3 & NA\\\\\n\t Katherine Burke  & 1 &  4\\\\\n\t NA               & 1 & NA\\\\\n\\end{tabular}\n",
            "text/plain": [
              "  person           treatment response\n",
              "1 Derrick Whitmore 1          7      \n",
              "2 NA               2         10      \n",
              "3 NA               3         NA      \n",
              "4 Katherine Burke  1          4      \n",
              "5 NA               1         NA      "
            ]
          },
          "metadata": {}
        }
      ],
      "source": [
        "df"
      ]
    },
    {
      "cell_type": "markdown",
      "metadata": {
        "id": "BLt7lT32Ivl_"
      },
      "source": [
        "The missing values are **explicit** in this table: each missing value is indicated by `NA` in the table."
      ]
    },
    {
      "cell_type": "markdown",
      "metadata": {
        "id": "7y0a0n7bIvl_"
      },
      "source": [
        "You can fill in these missing values with `tidyr::fill()`. It works like `select()`, taking a set of columns, and fills them in with the last non-missing value."
      ]
    },
    {
      "cell_type": "code",
      "execution_count": 13,
      "metadata": {
        "colab": {
          "base_uri": "https://localhost:8080/",
          "height": 255
        },
        "id": "xKQCyMoudis3",
        "outputId": "820c4c4d-72a2-41ad-e87e-ec6c42130098"
      },
      "outputs": [
        {
          "output_type": "display_data",
          "data": {
            "text/html": [
              "<table class=\"dataframe\">\n",
              "<caption>A tibble: 5 × 3</caption>\n",
              "<thead>\n",
              "\t<tr><th scope=col>person</th><th scope=col>treatment</th><th scope=col>response</th></tr>\n",
              "\t<tr><th scope=col>&lt;chr&gt;</th><th scope=col>&lt;dbl&gt;</th><th scope=col>&lt;dbl&gt;</th></tr>\n",
              "</thead>\n",
              "<tbody>\n",
              "\t<tr><td>Derrick Whitmore</td><td>1</td><td> 7</td></tr>\n",
              "\t<tr><td>Derrick Whitmore</td><td>2</td><td>10</td></tr>\n",
              "\t<tr><td>Derrick Whitmore</td><td>3</td><td>10</td></tr>\n",
              "\t<tr><td>Katherine Burke </td><td>1</td><td> 4</td></tr>\n",
              "\t<tr><td>Katherine Burke </td><td>1</td><td> 4</td></tr>\n",
              "</tbody>\n",
              "</table>\n"
            ],
            "text/markdown": "\nA tibble: 5 × 3\n\n| person &lt;chr&gt; | treatment &lt;dbl&gt; | response &lt;dbl&gt; |\n|---|---|---|\n| Derrick Whitmore | 1 |  7 |\n| Derrick Whitmore | 2 | 10 |\n| Derrick Whitmore | 3 | 10 |\n| Katherine Burke  | 1 |  4 |\n| Katherine Burke  | 1 |  4 |\n\n",
            "text/latex": "A tibble: 5 × 3\n\\begin{tabular}{lll}\n person & treatment & response\\\\\n <chr> & <dbl> & <dbl>\\\\\n\\hline\n\t Derrick Whitmore & 1 &  7\\\\\n\t Derrick Whitmore & 2 & 10\\\\\n\t Derrick Whitmore & 3 & 10\\\\\n\t Katherine Burke  & 1 &  4\\\\\n\t Katherine Burke  & 1 &  4\\\\\n\\end{tabular}\n",
            "text/plain": [
              "  person           treatment response\n",
              "1 Derrick Whitmore 1          7      \n",
              "2 Derrick Whitmore 2         10      \n",
              "3 Derrick Whitmore 3         10      \n",
              "4 Katherine Burke  1          4      \n",
              "5 Katherine Burke  1          4      "
            ]
          },
          "metadata": {}
        }
      ],
      "source": [
        "# fill df for person and response columns\n",
        "fill(df, person, response)"
      ]
    },
    {
      "cell_type": "code",
      "execution_count": 10,
      "metadata": {
        "colab": {
          "base_uri": "https://localhost:8080/",
          "height": 98
        },
        "id": "DbcRzJ0CIvmA",
        "outputId": "202affcf-4d5d-4353-b877-93777c65544e"
      },
      "outputs": [
        {
          "output_type": "display_data",
          "data": {
            "text/html": [
              "<table class=\"dataframe\">\n",
              "<caption>A tibble: 0 × 6</caption>\n",
              "<thead>\n",
              "\t<tr><th scope=col>country</th><th scope=col>continent</th><th scope=col>year</th><th scope=col>lifeExp</th><th scope=col>pop</th><th scope=col>gdpPercap</th></tr>\n",
              "\t<tr><th scope=col>&lt;fct&gt;</th><th scope=col>&lt;fct&gt;</th><th scope=col>&lt;int&gt;</th><th scope=col>&lt;dbl&gt;</th><th scope=col>&lt;int&gt;</th><th scope=col>&lt;dbl&gt;</th></tr>\n",
              "</thead>\n",
              "<tbody>\n",
              "</tbody>\n",
              "</table>\n"
            ],
            "text/markdown": "\nA tibble: 0 × 6\n\n| country &lt;fct&gt; | continent &lt;fct&gt; | year &lt;int&gt; | lifeExp &lt;dbl&gt; | pop &lt;int&gt; | gdpPercap &lt;dbl&gt; |\n|---|---|---|---|---|---|\n\n",
            "text/latex": "A tibble: 0 × 6\n\\begin{tabular}{llllll}\n country & continent & year & lifeExp & pop & gdpPercap\\\\\n <fct> & <fct> & <int> & <dbl> & <int> & <dbl>\\\\\n\\hline\n\\end{tabular}\n",
            "text/plain": [
              "     country continent year lifeExp pop gdpPercap"
            ]
          },
          "metadata": {}
        }
      ],
      "source": [
        "# fill in each missing value in gapminder_unfiltered carrying forward\n",
        "fill(gapminder_unfiltered, gdpPercap) %>% filter(is.na(gdpPercap))"
      ]
    },
    {
      "cell_type": "markdown",
      "metadata": {
        "id": "Gaw5AJplIvmA"
      },
      "source": [
        "## Encoded missing data\n",
        "\n",
        "Sometimes, data contain a concrete value that actually represents a missing value. You see this often when dealing with data that is imported from a format that does not have a way to represent missing values, such as text or CSV. So it must instead use some special value like 99 or -999."
      ]
    },
    {
      "cell_type": "markdown",
      "metadata": {
        "id": "Seltp4HzIvmC"
      },
      "source": [
        "To correct for this type of missing value, we can use a function called `na_if(x, n)`. This takes a vector `x` and replaces any occurence of `n` with `NA`:"
      ]
    },
    {
      "cell_type": "code",
      "execution_count": 15,
      "metadata": {
        "colab": {
          "base_uri": "https://localhost:8080/",
          "height": 52
        },
        "id": "yieQ4VgpIvmC",
        "outputId": "badf118c-c103-447f-bd2c-2f7178aa7633"
      },
      "outputs": [
        {
          "output_type": "stream",
          "name": "stdout",
          "text": [
            "[1] -99   1   3 -99   2\n"
          ]
        },
        {
          "output_type": "display_data",
          "data": {
            "text/html": [
              "<style>\n",
              ".list-inline {list-style: none; margin:0; padding: 0}\n",
              ".list-inline>li {display: inline-block}\n",
              ".list-inline>li:not(:last-child)::after {content: \"\\00b7\"; padding: 0 .5ex}\n",
              "</style>\n",
              "<ol class=list-inline><li>&lt;NA&gt;</li><li>1</li><li>3</li><li>&lt;NA&gt;</li><li>2</li></ol>\n"
            ],
            "text/markdown": "1. &lt;NA&gt;\n2. 1\n3. 3\n4. &lt;NA&gt;\n5. 2\n\n\n",
            "text/latex": "\\begin{enumerate*}\n\\item <NA>\n\\item 1\n\\item 3\n\\item <NA>\n\\item 2\n\\end{enumerate*}\n",
            "text/plain": [
              "[1] NA  1  3 NA  2"
            ]
          },
          "metadata": {}
        }
      ],
      "source": [
        "x = c(-99, 1, 3, -99, 2)\n",
        "print(x)\n",
        "na_if(x, -99)"
      ]
    },
    {
      "cell_type": "markdown",
      "metadata": {
        "id": "9-aIEezaIvmD"
      },
      "source": [
        "## Implicit missing values\n",
        "A second type of missing data occurs when there are simply no observations in the dataset for a particular combination of columns. For example:"
      ]
    },
    {
      "cell_type": "code",
      "execution_count": 16,
      "metadata": {
        "id": "Q0m5Ufl2IvmD"
      },
      "outputs": [],
      "source": [
        "stocks <- tibble(\n",
        "  year  = c(2020, 2020, 2020, 2020, 2021, 2021, 2021),\n",
        "  qtr   = c(   1,    2,    3,    4,    2,    3,    4),\n",
        "  price = c(1.88, 0.59, 0.35,   NA, 0.92, 0.17, 2.66)\n",
        ")"
      ]
    },
    {
      "cell_type": "code",
      "execution_count": 17,
      "metadata": {
        "colab": {
          "base_uri": "https://localhost:8080/"
        },
        "id": "O3I2e058IvmD",
        "outputId": "b7fd28ff-e998-4ee7-f767-50c71f857f66"
      },
      "outputs": [
        {
          "output_type": "stream",
          "name": "stdout",
          "text": [
            "\u001b[90m# A tibble: 7 × 3\u001b[39m\n",
            "   year   qtr price\n",
            "  \u001b[3m\u001b[90m<dbl>\u001b[39m\u001b[23m \u001b[3m\u001b[90m<dbl>\u001b[39m\u001b[23m \u001b[3m\u001b[90m<dbl>\u001b[39m\u001b[23m\n",
            "\u001b[90m1\u001b[39m  \u001b[4m2\u001b[24m020     1  1.88\n",
            "\u001b[90m2\u001b[39m  \u001b[4m2\u001b[24m020     2  0.59\n",
            "\u001b[90m3\u001b[39m  \u001b[4m2\u001b[24m020     3  0.35\n",
            "\u001b[90m4\u001b[39m  \u001b[4m2\u001b[24m020     4 \u001b[31mNA\u001b[39m   \n",
            "\u001b[90m5\u001b[39m  \u001b[4m2\u001b[24m021     2  0.92\n",
            "\u001b[90m6\u001b[39m  \u001b[4m2\u001b[24m021     3  0.17\n",
            "\u001b[90m7\u001b[39m  \u001b[4m2\u001b[24m021     4  2.66\n"
          ]
        }
      ],
      "source": [
        "print(stocks)"
      ]
    },
    {
      "cell_type": "markdown",
      "metadata": {
        "id": "3eRzFPvBIvmD"
      },
      "source": [
        "This dataset has two missing observations:\n",
        "- The price in the 2020q4 is explicitly missing. (It has an `NA`.)\n",
        "- The price in 2021q1 is implicitly missing: it does not appear in the dataset."
      ]
    },
    {
      "cell_type": "markdown",
      "metadata": {
        "id": "kEo_IRbwIvmE"
      },
      "source": [
        "> An explicit missing value is the presence of an absence.\n",
        ">\n",
        "> An implicit missing value is the absence of a presence.\n"
      ]
    },
    {
      "cell_type": "markdown",
      "metadata": {
        "id": "6scR3p1NIvmE"
      },
      "source": [
        "How can we handle implicit missing values? As we have already seen, one option is to use `pivot_wider()`:"
      ]
    },
    {
      "cell_type": "code",
      "execution_count": 18,
      "metadata": {
        "colab": {
          "base_uri": "https://localhost:8080/"
        },
        "id": "Uhq-wkc1IvmE",
        "outputId": "311df36a-67f5-4854-cfb3-4b5cff0db8f8"
      },
      "outputs": [
        {
          "output_type": "stream",
          "name": "stdout",
          "text": [
            "\u001b[90m# A tibble: 2 × 5\u001b[39m\n",
            "   year   `1`   `2`   `3`   `4`\n",
            "  \u001b[3m\u001b[90m<dbl>\u001b[39m\u001b[23m \u001b[3m\u001b[90m<dbl>\u001b[39m\u001b[23m \u001b[3m\u001b[90m<dbl>\u001b[39m\u001b[23m \u001b[3m\u001b[90m<dbl>\u001b[39m\u001b[23m \u001b[3m\u001b[90m<dbl>\u001b[39m\u001b[23m\n",
            "\u001b[90m1\u001b[39m  \u001b[4m2\u001b[24m020  1.88  0.59  0.35 \u001b[31mNA\u001b[39m   \n",
            "\u001b[90m2\u001b[39m  \u001b[4m2\u001b[24m021 \u001b[31mNA\u001b[39m     0.92  0.17  2.66\n"
          ]
        }
      ],
      "source": [
        "# using pivot_wider() on stocks converts implicit missing values to explicit\n",
        "pivot_wider(stocks, names_from = qtr, values_from = price) %>%\n",
        "  print"
      ]
    },
    {
      "cell_type": "markdown",
      "metadata": {
        "id": "1skVt0THIvmF"
      },
      "source": [
        "Alternatively, we can use the `complete()` function, which creates entries for all possible combinations of a set of columns:"
      ]
    },
    {
      "cell_type": "code",
      "execution_count": 19,
      "metadata": {
        "colab": {
          "base_uri": "https://localhost:8080/",
          "height": 349
        },
        "id": "Yf4E_rKjIvmF",
        "outputId": "f40b35d4-3785-4853-f0d8-1b38089a3f80"
      },
      "outputs": [
        {
          "output_type": "display_data",
          "data": {
            "text/html": [
              "<table class=\"dataframe\">\n",
              "<caption>A tibble: 8 × 3</caption>\n",
              "<thead>\n",
              "\t<tr><th scope=col>year</th><th scope=col>qtr</th><th scope=col>price</th></tr>\n",
              "\t<tr><th scope=col>&lt;dbl&gt;</th><th scope=col>&lt;dbl&gt;</th><th scope=col>&lt;dbl&gt;</th></tr>\n",
              "</thead>\n",
              "<tbody>\n",
              "\t<tr><td>2020</td><td>1</td><td>1.88</td></tr>\n",
              "\t<tr><td>2020</td><td>2</td><td>0.59</td></tr>\n",
              "\t<tr><td>2020</td><td>3</td><td>0.35</td></tr>\n",
              "\t<tr><td>2020</td><td>4</td><td>  NA</td></tr>\n",
              "\t<tr><td>2021</td><td>1</td><td>  NA</td></tr>\n",
              "\t<tr><td>2021</td><td>2</td><td>0.92</td></tr>\n",
              "\t<tr><td>2021</td><td>3</td><td>0.17</td></tr>\n",
              "\t<tr><td>2021</td><td>4</td><td>2.66</td></tr>\n",
              "</tbody>\n",
              "</table>\n"
            ],
            "text/markdown": "\nA tibble: 8 × 3\n\n| year &lt;dbl&gt; | qtr &lt;dbl&gt; | price &lt;dbl&gt; |\n|---|---|---|\n| 2020 | 1 | 1.88 |\n| 2020 | 2 | 0.59 |\n| 2020 | 3 | 0.35 |\n| 2020 | 4 |   NA |\n| 2021 | 1 |   NA |\n| 2021 | 2 | 0.92 |\n| 2021 | 3 | 0.17 |\n| 2021 | 4 | 2.66 |\n\n",
            "text/latex": "A tibble: 8 × 3\n\\begin{tabular}{lll}\n year & qtr & price\\\\\n <dbl> & <dbl> & <dbl>\\\\\n\\hline\n\t 2020 & 1 & 1.88\\\\\n\t 2020 & 2 & 0.59\\\\\n\t 2020 & 3 & 0.35\\\\\n\t 2020 & 4 &   NA\\\\\n\t 2021 & 1 &   NA\\\\\n\t 2021 & 2 & 0.92\\\\\n\t 2021 & 3 & 0.17\\\\\n\t 2021 & 4 & 2.66\\\\\n\\end{tabular}\n",
            "text/plain": [
              "  year qtr price\n",
              "1 2020 1   1.88 \n",
              "2 2020 2   0.59 \n",
              "3 2020 3   0.35 \n",
              "4 2020 4     NA \n",
              "5 2021 1     NA \n",
              "6 2021 2   0.92 \n",
              "7 2021 3   0.17 \n",
              "8 2021 4   2.66 "
            ]
          },
          "metadata": {}
        }
      ],
      "source": [
        "# use complete to fill in missing values for stocks\n",
        "complete(stocks, year, qtr)"
      ]
    },
    {
      "cell_type": "markdown",
      "metadata": {
        "id": "p3ywzfnNTInk"
      },
      "source": [
        "### Fixed value replacement\n",
        "\n",
        "Sometimes missing values represent some fixed and known value, most commonly 0. You can use dplyr::coalesce() to replace them:"
      ]
    },
    {
      "cell_type": "code",
      "execution_count": 20,
      "metadata": {
        "colab": {
          "base_uri": "https://localhost:8080/",
          "height": 34
        },
        "id": "OYzFZEHNTInl",
        "outputId": "0ef44926-8203-41b0-da2c-2f0e4c93570d"
      },
      "outputs": [
        {
          "output_type": "display_data",
          "data": {
            "text/html": [
              "<style>\n",
              ".list-inline {list-style: none; margin:0; padding: 0}\n",
              ".list-inline>li {display: inline-block}\n",
              ".list-inline>li:not(:last-child)::after {content: \"\\00b7\"; padding: 0 .5ex}\n",
              "</style>\n",
              "<ol class=list-inline><li>1</li><li>4</li><li>5</li><li>7</li><li>100</li></ol>\n"
            ],
            "text/markdown": "1. 1\n2. 4\n3. 5\n4. 7\n5. 100\n\n\n",
            "text/latex": "\\begin{enumerate*}\n\\item 1\n\\item 4\n\\item 5\n\\item 7\n\\item 100\n\\end{enumerate*}\n",
            "text/plain": [
              "[1]   1   4   5   7 100"
            ]
          },
          "metadata": {}
        }
      ],
      "source": [
        "x <- c(1, 4, 5, 7, NA)\n",
        "coalesce(x, 100)\n",
        "#> [1] 1 4 5 7 0"
      ]
    },
    {
      "cell_type": "markdown",
      "metadata": {
        "id": "ubYrbWR2TInn"
      },
      "source": [
        "### Titanic analysis\n",
        "\n",
        "On April 15, 1912, the great \"unsinkable\" RMS Titanic ship sank to the bottom of the Atlantic.\n",
        "\n",
        "Unfortunately, there weren’t enough lifeboats for everyone on board, resulting in more than 1500 deaths out of 2224 passengers and crew. Refer:https://en.wikipedia.org/wiki/Titanic\n",
        "\n",
        "We have partial list of passengers here. Let us do some analysis"
      ]
    },
    {
      "cell_type": "code",
      "execution_count": 22,
      "metadata": {
        "colab": {
          "base_uri": "https://localhost:8080/"
        },
        "id": "NvY-kBEtTIno",
        "outputId": "215cf854-76c5-45b5-e517-ebf86a1aee48"
      },
      "outputs": [
        {
          "output_type": "stream",
          "name": "stdout",
          "text": [
            "  survived pclass    sex age sibsp parch    fare embarked class   who\n",
            "1        0      3   male  22     1     0  7.2500        S Third   man\n",
            "2        1      1 female  38     1     0 71.2833        C First woman\n",
            "3        1      3 female  26     0     0  7.9250        S Third woman\n",
            "4        1      1 female  35     1     0 53.1000        S First woman\n",
            "5        0      3   male  35     0     0  8.0500        S Third   man\n",
            "6        0      3   male  NA     0     0  8.4583        Q Third   man\n",
            "  adult_male deck embark_town alive alone\n",
            "1       True      Southampton    no False\n",
            "2      False    C   Cherbourg   yes False\n",
            "3      False      Southampton   yes  True\n",
            "4      False    C Southampton   yes False\n",
            "5       True      Southampton    no  True\n",
            "6       True       Queenstown    no  True\n"
          ]
        }
      ],
      "source": [
        "titanic = read.csv('https://storage.googleapis.com/mbcc/titanic.csv')\n",
        "titanic %>% head %>% print"
      ]
    },
    {
      "cell_type": "markdown",
      "metadata": {
        "id": "Ru88g4J1TIno"
      },
      "source": [
        "## &#129300; Quiz\n",
        "\n",
        "What is the average age of the passengers (ignoring the decimal part)?\n",
        "\n",
        "<ol style=\"list-style-type: upper-alpha;\">\n",
        "    <li>28</li>\n",
        "    <li>30</li>\n",
        "    <li>27</li>\n",
        "    <li>29</li>\n",
        "    <li>31</li>\n",
        "</ol>\n"
      ]
    },
    {
      "cell_type": "code",
      "execution_count": 23,
      "metadata": {
        "colab": {
          "base_uri": "https://localhost:8080/",
          "height": 164
        },
        "id": "UEVTfOK8TIno",
        "outputId": "1f7e68db-8792-4aa8-a152-744f39754b29"
      },
      "outputs": [
        {
          "output_type": "display_data",
          "data": {
            "text/html": [
              "<table class=\"dataframe\">\n",
              "<caption>A data.frame: 1 × 1</caption>\n",
              "<thead>\n",
              "\t<tr><th scope=col>mean_age</th></tr>\n",
              "\t<tr><th scope=col>&lt;dbl&gt;</th></tr>\n",
              "</thead>\n",
              "<tbody>\n",
              "\t<tr><td>29.69912</td></tr>\n",
              "</tbody>\n",
              "</table>\n"
            ],
            "text/markdown": "\nA data.frame: 1 × 1\n\n| mean_age &lt;dbl&gt; |\n|---|\n| 29.69912 |\n\n",
            "text/latex": "A data.frame: 1 × 1\n\\begin{tabular}{l}\n mean\\_age\\\\\n <dbl>\\\\\n\\hline\n\t 29.69912\\\\\n\\end{tabular}\n",
            "text/plain": [
              "  mean_age\n",
              "1 29.69912"
            ]
          },
          "metadata": {}
        }
      ],
      "source": [
        "## solution\n",
        "titanic %>%\n",
        "  filter(!is.na(age)) %>%\n",
        "  summarize(mean_age = mean(age))"
      ]
    },
    {
      "cell_type": "code",
      "source": [
        "summary(titanic$age)"
      ],
      "metadata": {
        "colab": {
          "base_uri": "https://localhost:8080/",
          "height": 53
        },
        "id": "IRSrmrf7Zezw",
        "outputId": "60726aec-424e-4c4d-bfcc-d78253c6a81b"
      },
      "execution_count": 24,
      "outputs": [
        {
          "output_type": "display_data",
          "data": {
            "text/plain": [
              "   Min. 1st Qu.  Median    Mean 3rd Qu.    Max.    NA's \n",
              "   0.42   20.12   28.00   29.70   38.00   80.00     177 "
            ]
          },
          "metadata": {}
        }
      ]
    },
    {
      "cell_type": "code",
      "source": [
        "mean(titanic$age, na.rm = T)"
      ],
      "metadata": {
        "colab": {
          "base_uri": "https://localhost:8080/",
          "height": 34
        },
        "id": "UR5RZb8RZoQL",
        "outputId": "5b3739b3-365d-4c54-e941-66524b656a62"
      },
      "execution_count": 26,
      "outputs": [
        {
          "output_type": "display_data",
          "data": {
            "text/html": [
              "29.6991176470588"
            ],
            "text/markdown": "29.6991176470588",
            "text/latex": "29.6991176470588",
            "text/plain": [
              "[1] 29.69912"
            ]
          },
          "metadata": {}
        }
      ]
    },
    {
      "cell_type": "code",
      "source": [
        "titanic$age %>% mean(na.rm = T)"
      ],
      "metadata": {
        "colab": {
          "base_uri": "https://localhost:8080/",
          "height": 34
        },
        "id": "rWMxyC7sZyZX",
        "outputId": "669477dd-0474-4e24-d74b-d4257a6fc2ef"
      },
      "execution_count": 28,
      "outputs": [
        {
          "output_type": "display_data",
          "data": {
            "text/html": [
              "29.6991176470588"
            ],
            "text/markdown": "29.6991176470588",
            "text/latex": "29.6991176470588",
            "text/plain": [
              "[1] 29.69912"
            ]
          },
          "metadata": {}
        }
      ]
    },
    {
      "cell_type": "code",
      "source": [
        "summary(titanic)"
      ],
      "metadata": {
        "colab": {
          "base_uri": "https://localhost:8080/",
          "height": 589
        },
        "id": "k66IPxgZaCPj",
        "outputId": "e2c63430-1eae-4794-ce8c-ea8c8f451870"
      },
      "execution_count": 29,
      "outputs": [
        {
          "output_type": "display_data",
          "data": {
            "text/plain": [
              "    survived          pclass          sex                 age       \n",
              " Min.   :0.0000   Min.   :1.000   Length:891         Min.   : 0.42  \n",
              " 1st Qu.:0.0000   1st Qu.:2.000   Class :character   1st Qu.:20.12  \n",
              " Median :0.0000   Median :3.000   Mode  :character   Median :28.00  \n",
              " Mean   :0.3838   Mean   :2.309                      Mean   :29.70  \n",
              " 3rd Qu.:1.0000   3rd Qu.:3.000                      3rd Qu.:38.00  \n",
              " Max.   :1.0000   Max.   :3.000                      Max.   :80.00  \n",
              "                                                     NA's   :177    \n",
              "     sibsp           parch             fare          embarked        \n",
              " Min.   :0.000   Min.   :0.0000   Min.   :  0.00   Length:891        \n",
              " 1st Qu.:0.000   1st Qu.:0.0000   1st Qu.:  7.91   Class :character  \n",
              " Median :0.000   Median :0.0000   Median : 14.45   Mode  :character  \n",
              " Mean   :0.523   Mean   :0.3816   Mean   : 32.20                     \n",
              " 3rd Qu.:1.000   3rd Qu.:0.0000   3rd Qu.: 31.00                     \n",
              " Max.   :8.000   Max.   :6.0000   Max.   :512.33                     \n",
              "                                                                     \n",
              "    class               who             adult_male            deck          \n",
              " Length:891         Length:891         Length:891         Length:891        \n",
              " Class :character   Class :character   Class :character   Class :character  \n",
              " Mode  :character   Mode  :character   Mode  :character   Mode  :character  \n",
              "                                                                            \n",
              "                                                                            \n",
              "                                                                            \n",
              "                                                                            \n",
              " embark_town           alive              alone          \n",
              " Length:891         Length:891         Length:891        \n",
              " Class :character   Class :character   Class :character  \n",
              " Mode  :character   Mode  :character   Mode  :character  \n",
              "                                                         \n",
              "                                                         \n",
              "                                                         \n",
              "                                                         "
            ]
          },
          "metadata": {}
        }
      ]
    },
    {
      "cell_type": "markdown",
      "metadata": {
        "id": "1SRIL-FjTInp"
      },
      "source": [
        "## &#129300; Quiz\n",
        "\n",
        "How many na values are there in the age column?\n",
        "\n",
        "<ol style=\"list-style-type: upper-alpha;\">\n",
        "    <li>177</li>\n",
        "    <li>178</li>\n",
        "    <li>714</li>\n",
        "    <li>There are no NA values</li>\n",
        "</ol>\n"
      ]
    },
    {
      "cell_type": "markdown",
      "source": [
        "#### multiple ways of finding the answer"
      ],
      "metadata": {
        "id": "Bko4GUNkEsyx"
      }
    },
    {
      "cell_type": "code",
      "source": [
        "sum(is.na(titanic$age))"
      ],
      "metadata": {
        "colab": {
          "base_uri": "https://localhost:8080/",
          "height": 34
        },
        "id": "XGiZ42dobByE",
        "outputId": "3b9c88f9-fa0b-4482-aaa3-ef8446c310d2"
      },
      "execution_count": 30,
      "outputs": [
        {
          "output_type": "display_data",
          "data": {
            "text/html": [
              "177"
            ],
            "text/markdown": "177",
            "text/latex": "177",
            "text/plain": [
              "[1] 177"
            ]
          },
          "metadata": {}
        }
      ]
    },
    {
      "cell_type": "code",
      "source": [
        "titanic %>% count(is.na(age))"
      ],
      "metadata": {
        "colab": {
          "base_uri": "https://localhost:8080/",
          "height": 161
        },
        "id": "Y4QBuEUBbLnN",
        "outputId": "6e796d12-6415-48b5-c892-e534102f1ae4"
      },
      "execution_count": 33,
      "outputs": [
        {
          "output_type": "display_data",
          "data": {
            "text/html": [
              "<table class=\"dataframe\">\n",
              "<caption>A data.frame: 2 × 2</caption>\n",
              "<thead>\n",
              "\t<tr><th scope=col>is.na(age)</th><th scope=col>n</th></tr>\n",
              "\t<tr><th scope=col>&lt;lgl&gt;</th><th scope=col>&lt;int&gt;</th></tr>\n",
              "</thead>\n",
              "<tbody>\n",
              "\t<tr><td>FALSE</td><td>714</td></tr>\n",
              "\t<tr><td> TRUE</td><td>177</td></tr>\n",
              "</tbody>\n",
              "</table>\n"
            ],
            "text/markdown": "\nA data.frame: 2 × 2\n\n| is.na(age) &lt;lgl&gt; | n &lt;int&gt; |\n|---|---|\n| FALSE | 714 |\n|  TRUE | 177 |\n\n",
            "text/latex": "A data.frame: 2 × 2\n\\begin{tabular}{ll}\n is.na(age) & n\\\\\n <lgl> & <int>\\\\\n\\hline\n\t FALSE & 714\\\\\n\t  TRUE & 177\\\\\n\\end{tabular}\n",
            "text/plain": [
              "  is.na(age) n  \n",
              "1 FALSE      714\n",
              "2  TRUE      177"
            ]
          },
          "metadata": {}
        }
      ]
    },
    {
      "cell_type": "code",
      "source": [
        "titanic %>% filter(is.na(age)) %>% nrow"
      ],
      "metadata": {
        "colab": {
          "base_uri": "https://localhost:8080/",
          "height": 34
        },
        "id": "qJhHQPx6baSz",
        "outputId": "dfee7b26-f262-4ee1-e82b-e5bca5943fc0"
      },
      "execution_count": 34,
      "outputs": [
        {
          "output_type": "display_data",
          "data": {
            "text/html": [
              "177"
            ],
            "text/markdown": "177",
            "text/latex": "177",
            "text/plain": [
              "[1] 177"
            ]
          },
          "metadata": {}
        }
      ]
    },
    {
      "cell_type": "markdown",
      "metadata": {
        "id": "y_hINfsTTInq"
      },
      "source": [
        "Replace the NA values in the `age` column with average age"
      ]
    },
    {
      "cell_type": "code",
      "execution_count": 37,
      "metadata": {
        "colab": {
          "base_uri": "https://localhost:8080/",
          "height": 129
        },
        "id": "F7iG2sBLTInq",
        "outputId": "ad7cfea7-f1a9-4f1f-e9bc-5ea47532b016"
      },
      "outputs": [
        {
          "output_type": "display_data",
          "data": {
            "text/html": [
              "<table class=\"dataframe\">\n",
              "<caption>A data.frame: 1 × 2</caption>\n",
              "<thead>\n",
              "\t<tr><th scope=col>is.na(age)</th><th scope=col>n</th></tr>\n",
              "\t<tr><th scope=col>&lt;lgl&gt;</th><th scope=col>&lt;int&gt;</th></tr>\n",
              "</thead>\n",
              "<tbody>\n",
              "\t<tr><td>FALSE</td><td>891</td></tr>\n",
              "</tbody>\n",
              "</table>\n"
            ],
            "text/markdown": "\nA data.frame: 1 × 2\n\n| is.na(age) &lt;lgl&gt; | n &lt;int&gt; |\n|---|---|\n| FALSE | 891 |\n\n",
            "text/latex": "A data.frame: 1 × 2\n\\begin{tabular}{ll}\n is.na(age) & n\\\\\n <lgl> & <int>\\\\\n\\hline\n\t FALSE & 891\\\\\n\\end{tabular}\n",
            "text/plain": [
              "  is.na(age) n  \n",
              "1 FALSE      891"
            ]
          },
          "metadata": {}
        }
      ],
      "source": [
        "## solution\n",
        "\n",
        "titanic %>%\n",
        "  mutate(age = coalesce(age, mean(age, na.rm = T))) %>%\n",
        "  count(is.na(age))\n"
      ]
    }
  ],
  "metadata": {
    "celltoolbar": "Slideshow",
    "colab": {
      "provenance": []
    },
    "kernelspec": {
      "display_name": "R",
      "language": "R",
      "name": "ir"
    },
    "language_info": {
      "codemirror_mode": "r",
      "file_extension": ".r",
      "mimetype": "text/x-r-source",
      "name": "R",
      "pygments_lexer": "r",
      "version": "4.3.1"
    }
  },
  "nbformat": 4,
  "nbformat_minor": 0
}