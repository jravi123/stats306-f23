{
 "cells": [
  {
   "cell_type": "code",
   "execution_count": null,
   "metadata": {
    "colab": {
     "base_uri": "https://localhost:8080/"
    },
    "id": "JH0yjqaJJMgB",
    "outputId": "31ef4354-fd98-4c62-825a-17007923b021"
   },
   "outputs": [
    {
     "name": "stderr",
     "output_type": "stream",
     "text": [
      "Installing package into ‘/usr/local/lib/R/site-library’\n",
      "(as ‘lib’ is unspecified)\n",
      "\n"
     ]
    }
   ],
   "source": [
    "install.packages('nycflights13')"
   ]
  },
  {
   "cell_type": "code",
   "execution_count": 2,
   "metadata": {
    "colab": {
     "base_uri": "https://localhost:8080/"
    },
    "id": "yFUUDdcDIvlk",
    "outputId": "f5206c71-5a68-4ae5-ba5c-22200c836422"
   },
   "outputs": [
    {
     "name": "stderr",
     "output_type": "stream",
     "text": [
      "── \u001b[1mAttaching core tidyverse packages\u001b[22m ──────────────────────── tidyverse 2.0.0 ──\n",
      "\u001b[32m✔\u001b[39m \u001b[34mdplyr    \u001b[39m 1.1.2     \u001b[32m✔\u001b[39m \u001b[34mreadr    \u001b[39m 2.1.4\n",
      "\u001b[32m✔\u001b[39m \u001b[34mforcats  \u001b[39m 1.0.0     \u001b[32m✔\u001b[39m \u001b[34mstringr  \u001b[39m 1.5.0\n",
      "\u001b[32m✔\u001b[39m \u001b[34mggplot2  \u001b[39m 3.4.3     \u001b[32m✔\u001b[39m \u001b[34mtibble   \u001b[39m 3.2.1\n",
      "\u001b[32m✔\u001b[39m \u001b[34mlubridate\u001b[39m 1.9.2     \u001b[32m✔\u001b[39m \u001b[34mtidyr    \u001b[39m 1.3.0\n",
      "\u001b[32m✔\u001b[39m \u001b[34mpurrr    \u001b[39m 1.0.2     \n",
      "── \u001b[1mConflicts\u001b[22m ────────────────────────────────────────── tidyverse_conflicts() ──\n",
      "\u001b[31m✖\u001b[39m \u001b[34mdplyr\u001b[39m::\u001b[32mfilter()\u001b[39m masks \u001b[34mstats\u001b[39m::filter()\n",
      "\u001b[31m✖\u001b[39m \u001b[34mdplyr\u001b[39m::\u001b[32mlag()\u001b[39m    masks \u001b[34mstats\u001b[39m::lag()\n",
      "\u001b[36mℹ\u001b[39m Use the conflicted package (\u001b[3m\u001b[34m<http://conflicted.r-lib.org/>\u001b[39m\u001b[23m) to force all conflicts to become errors\n"
     ]
    }
   ],
   "source": [
    "options(repr.plot.width=8, repr.plot.height=5)\n",
    "library(tidyverse)\n",
    "library(nycflights13)"
   ]
  },
  {
   "cell_type": "markdown",
   "metadata": {
    "id": "t4hSad2nIvlt"
   },
   "source": [
    "# Lecture 5: Tidy data, missing data\n",
    "\n",
    "<div style=\"border: 1px double black; padding: 10px; margin: 10px\">\n",
    "\n",
    "**After today's lecture you will:**\n",
    "* Gain more experience creating and working with tidy data\n",
    "* Learn about how R handles missing data.\n",
    "    \n",
    "This lecture note corresponds to Chapters 6 and 20 of your book. \n",
    "</div>\n",
    "\n",
    "\n",
    "    \n",
    "\n",
    "\n"
   ]
  },
  {
   "cell_type": "markdown",
   "metadata": {
    "id": "Vta25WTLIvl2"
   },
   "source": [
    "## A usage of `pivot_wider()`\n",
    "Let's revisit the `gapminder` dataset that we first saw last lecture:"
   ]
  },
  {
   "cell_type": "code",
   "execution_count": null,
   "metadata": {
    "colab": {
     "base_uri": "https://localhost:8080/"
    },
    "id": "fSo3c5rhMOcT",
    "outputId": "389e1b92-608c-45b3-d5e5-22c83a210e8f"
   },
   "outputs": [
    {
     "name": "stderr",
     "output_type": "stream",
     "text": [
      "Installing package into ‘/usr/local/lib/R/site-library’\n",
      "(as ‘lib’ is unspecified)\n",
      "\n"
     ]
    }
   ],
   "source": [
    "install.packages('gapminder')"
   ]
  },
  {
   "cell_type": "code",
   "execution_count": 4,
   "metadata": {
    "colab": {
     "base_uri": "https://localhost:8080/"
    },
    "id": "5UJYz37DIvl3",
    "outputId": "a0a4f214-c196-4996-f3cc-9ed2344e2cfe"
   },
   "outputs": [
    {
     "name": "stdout",
     "output_type": "stream",
     "text": [
      "\u001b[90m# A tibble: 1,704 × 6\u001b[39m\n",
      "   country     continent  year lifeExp      pop gdpPercap\n",
      "   \u001b[3m\u001b[90m<fct>\u001b[39m\u001b[23m       \u001b[3m\u001b[90m<fct>\u001b[39m\u001b[23m     \u001b[3m\u001b[90m<int>\u001b[39m\u001b[23m   \u001b[3m\u001b[90m<dbl>\u001b[39m\u001b[23m    \u001b[3m\u001b[90m<int>\u001b[39m\u001b[23m     \u001b[3m\u001b[90m<dbl>\u001b[39m\u001b[23m\n",
      "\u001b[90m 1\u001b[39m Afghanistan Asia       \u001b[4m1\u001b[24m952    28.8  8\u001b[4m4\u001b[24m\u001b[4m2\u001b[24m\u001b[4m5\u001b[24m333      779.\n",
      "\u001b[90m 2\u001b[39m Afghanistan Asia       \u001b[4m1\u001b[24m957    30.3  9\u001b[4m2\u001b[24m\u001b[4m4\u001b[24m\u001b[4m0\u001b[24m934      821.\n",
      "\u001b[90m 3\u001b[39m Afghanistan Asia       \u001b[4m1\u001b[24m962    32.0 10\u001b[4m2\u001b[24m\u001b[4m6\u001b[24m\u001b[4m7\u001b[24m083      853.\n",
      "\u001b[90m 4\u001b[39m Afghanistan Asia       \u001b[4m1\u001b[24m967    34.0 11\u001b[4m5\u001b[24m\u001b[4m3\u001b[24m\u001b[4m7\u001b[24m966      836.\n",
      "\u001b[90m 5\u001b[39m Afghanistan Asia       \u001b[4m1\u001b[24m972    36.1 13\u001b[4m0\u001b[24m\u001b[4m7\u001b[24m\u001b[4m9\u001b[24m460      740.\n",
      "\u001b[90m 6\u001b[39m Afghanistan Asia       \u001b[4m1\u001b[24m977    38.4 14\u001b[4m8\u001b[24m\u001b[4m8\u001b[24m\u001b[4m0\u001b[24m372      786.\n",
      "\u001b[90m 7\u001b[39m Afghanistan Asia       \u001b[4m1\u001b[24m982    39.9 12\u001b[4m8\u001b[24m\u001b[4m8\u001b[24m\u001b[4m1\u001b[24m816      978.\n",
      "\u001b[90m 8\u001b[39m Afghanistan Asia       \u001b[4m1\u001b[24m987    40.8 13\u001b[4m8\u001b[24m\u001b[4m6\u001b[24m\u001b[4m7\u001b[24m957      852.\n",
      "\u001b[90m 9\u001b[39m Afghanistan Asia       \u001b[4m1\u001b[24m992    41.7 16\u001b[4m3\u001b[24m\u001b[4m1\u001b[24m\u001b[4m7\u001b[24m921      649.\n",
      "\u001b[90m10\u001b[39m Afghanistan Asia       \u001b[4m1\u001b[24m997    41.8 22\u001b[4m2\u001b[24m\u001b[4m2\u001b[24m\u001b[4m7\u001b[24m415      635.\n",
      "\u001b[90m# ℹ 1,694 more rows\u001b[39m\n"
     ]
    }
   ],
   "source": [
    "library(gapminder)\n",
    "print(gapminder)"
   ]
  },
  {
   "cell_type": "markdown",
   "metadata": {
    "id": "rHRo2WXgIvl8"
   },
   "source": [
    "## Missing data in R\n",
    "The `gapminder` appears very nice, it only contains data sets with no missing observations. But! The raw data looks like this:"
   ]
  },
  {
   "cell_type": "code",
   "execution_count": 5,
   "metadata": {
    "colab": {
     "base_uri": "https://localhost:8080/"
    },
    "id": "oZ824DHZIvl9",
    "outputId": "b8e0b9e7-1c48-44b9-92ea-4acafc8b4801"
   },
   "outputs": [
    {
     "name": "stdout",
     "output_type": "stream",
     "text": [
      "\u001b[90m# A tibble: 3,313 × 6\u001b[39m\n",
      "   country     continent  year lifeExp      pop gdpPercap\n",
      "   \u001b[3m\u001b[90m<fct>\u001b[39m\u001b[23m       \u001b[3m\u001b[90m<fct>\u001b[39m\u001b[23m     \u001b[3m\u001b[90m<int>\u001b[39m\u001b[23m   \u001b[3m\u001b[90m<dbl>\u001b[39m\u001b[23m    \u001b[3m\u001b[90m<int>\u001b[39m\u001b[23m     \u001b[3m\u001b[90m<dbl>\u001b[39m\u001b[23m\n",
      "\u001b[90m 1\u001b[39m Afghanistan Asia       \u001b[4m1\u001b[24m952    28.8  8\u001b[4m4\u001b[24m\u001b[4m2\u001b[24m\u001b[4m5\u001b[24m333      779.\n",
      "\u001b[90m 2\u001b[39m Afghanistan Asia       \u001b[4m1\u001b[24m957    30.3  9\u001b[4m2\u001b[24m\u001b[4m4\u001b[24m\u001b[4m0\u001b[24m934      821.\n",
      "\u001b[90m 3\u001b[39m Afghanistan Asia       \u001b[4m1\u001b[24m962    32.0 10\u001b[4m2\u001b[24m\u001b[4m6\u001b[24m\u001b[4m7\u001b[24m083      853.\n",
      "\u001b[90m 4\u001b[39m Afghanistan Asia       \u001b[4m1\u001b[24m967    34.0 11\u001b[4m5\u001b[24m\u001b[4m3\u001b[24m\u001b[4m7\u001b[24m966      836.\n",
      "\u001b[90m 5\u001b[39m Afghanistan Asia       \u001b[4m1\u001b[24m972    36.1 13\u001b[4m0\u001b[24m\u001b[4m7\u001b[24m\u001b[4m9\u001b[24m460      740.\n",
      "\u001b[90m 6\u001b[39m Afghanistan Asia       \u001b[4m1\u001b[24m977    38.4 14\u001b[4m8\u001b[24m\u001b[4m8\u001b[24m\u001b[4m0\u001b[24m372      786.\n",
      "\u001b[90m 7\u001b[39m Afghanistan Asia       \u001b[4m1\u001b[24m982    39.9 12\u001b[4m8\u001b[24m\u001b[4m8\u001b[24m\u001b[4m1\u001b[24m816      978.\n",
      "\u001b[90m 8\u001b[39m Afghanistan Asia       \u001b[4m1\u001b[24m987    40.8 13\u001b[4m8\u001b[24m\u001b[4m6\u001b[24m\u001b[4m7\u001b[24m957      852.\n",
      "\u001b[90m 9\u001b[39m Afghanistan Asia       \u001b[4m1\u001b[24m992    41.7 16\u001b[4m3\u001b[24m\u001b[4m1\u001b[24m\u001b[4m7\u001b[24m921      649.\n",
      "\u001b[90m10\u001b[39m Afghanistan Asia       \u001b[4m1\u001b[24m997    41.8 22\u001b[4m2\u001b[24m\u001b[4m2\u001b[24m\u001b[4m7\u001b[24m415      635.\n",
      "\u001b[90m# ℹ 3,303 more rows\u001b[39m\n"
     ]
    }
   ],
   "source": [
    "gapminder_unfiltered  %>% print"
   ]
  },
  {
   "cell_type": "markdown",
   "metadata": {
    "id": "H_R9Gua2Ivl9"
   },
   "source": [
    "### What happens when we reshape the \"unfiltered\" data?"
   ]
  },
  {
   "cell_type": "code",
   "execution_count": 6,
   "metadata": {
    "colab": {
     "base_uri": "https://localhost:8080/"
    },
    "id": "jUFiV8-WIvl9",
    "outputId": "82c99c4c-6826-4664-dd60-e399a5a6cd4a"
   },
   "outputs": [
    {
     "name": "stdout",
     "output_type": "stream",
     "text": [
      "\u001b[90m# A tibble: 187 × 59\u001b[39m\n",
      "   country `1952` `1957` `1962` `1967` `1972` `1977` `1982` `1987` `1992` `1997`\n",
      "   \u001b[3m\u001b[90m<fct>\u001b[39m\u001b[23m    \u001b[3m\u001b[90m<dbl>\u001b[39m\u001b[23m  \u001b[3m\u001b[90m<dbl>\u001b[39m\u001b[23m  \u001b[3m\u001b[90m<dbl>\u001b[39m\u001b[23m  \u001b[3m\u001b[90m<dbl>\u001b[39m\u001b[23m  \u001b[3m\u001b[90m<dbl>\u001b[39m\u001b[23m  \u001b[3m\u001b[90m<dbl>\u001b[39m\u001b[23m  \u001b[3m\u001b[90m<dbl>\u001b[39m\u001b[23m  \u001b[3m\u001b[90m<dbl>\u001b[39m\u001b[23m  \u001b[3m\u001b[90m<dbl>\u001b[39m\u001b[23m  \u001b[3m\u001b[90m<dbl>\u001b[39m\u001b[23m\n",
      "\u001b[90m 1\u001b[39m Afghan…   779.   821.   853.   836.   740.   786.   978.   852.   649.   635.\n",
      "\u001b[90m 2\u001b[39m Albania  \u001b[4m1\u001b[24m601.  \u001b[4m1\u001b[24m942.  \u001b[4m2\u001b[24m313.  \u001b[4m2\u001b[24m760.  \u001b[4m3\u001b[24m313.  \u001b[4m3\u001b[24m533.  \u001b[4m3\u001b[24m631.  \u001b[4m3\u001b[24m739.  \u001b[4m2\u001b[24m497.  \u001b[4m3\u001b[24m193.\n",
      "\u001b[90m 3\u001b[39m Algeria  \u001b[4m2\u001b[24m449.  \u001b[4m3\u001b[24m014.  \u001b[4m2\u001b[24m551.  \u001b[4m3\u001b[24m247.  \u001b[4m4\u001b[24m183.  \u001b[4m4\u001b[24m910.  \u001b[4m5\u001b[24m745.  \u001b[4m5\u001b[24m681.  \u001b[4m5\u001b[24m023.  \u001b[4m4\u001b[24m797.\n",
      "\u001b[90m 4\u001b[39m Angola   \u001b[4m3\u001b[24m521.  \u001b[4m3\u001b[24m828.  \u001b[4m4\u001b[24m269.  \u001b[4m5\u001b[24m523.  \u001b[4m5\u001b[24m473.  \u001b[4m3\u001b[24m009.  \u001b[4m2\u001b[24m757.  \u001b[4m2\u001b[24m430.  \u001b[4m2\u001b[24m628.  \u001b[4m2\u001b[24m277.\n",
      "\u001b[90m 5\u001b[39m Argent…  \u001b[4m5\u001b[24m911.  \u001b[4m6\u001b[24m857.  \u001b[4m7\u001b[24m133.  \u001b[4m8\u001b[24m053.  \u001b[4m9\u001b[24m443. \u001b[4m1\u001b[24m\u001b[4m0\u001b[24m079.  \u001b[4m8\u001b[24m998.  \u001b[4m9\u001b[24m140.  \u001b[4m9\u001b[24m308. \u001b[4m1\u001b[24m\u001b[4m0\u001b[24m967.\n",
      "\u001b[90m 6\u001b[39m Armenia    \u001b[31mNA\u001b[39m     \u001b[31mNA\u001b[39m     \u001b[31mNA\u001b[39m     \u001b[31mNA\u001b[39m     \u001b[31mNA\u001b[39m     \u001b[31mNA\u001b[39m     \u001b[31mNA\u001b[39m     \u001b[31mNA\u001b[39m   \u001b[4m1\u001b[24m443.  \u001b[4m1\u001b[24m791.\n",
      "\u001b[90m 7\u001b[39m Aruba      \u001b[31mNA\u001b[39m     \u001b[31mNA\u001b[39m     \u001b[31mNA\u001b[39m     \u001b[31mNA\u001b[39m   \u001b[4m4\u001b[24m940.  \u001b[4m7\u001b[24m390. \u001b[4m1\u001b[24m\u001b[4m0\u001b[24m875. \u001b[4m1\u001b[24m\u001b[4m7\u001b[24m674. \u001b[4m2\u001b[24m\u001b[4m5\u001b[24m121. \u001b[4m2\u001b[24m\u001b[4m6\u001b[24m484.\n",
      "\u001b[90m 8\u001b[39m Austra… \u001b[4m1\u001b[24m\u001b[4m0\u001b[24m040. \u001b[4m1\u001b[24m\u001b[4m0\u001b[24m950. \u001b[4m1\u001b[24m\u001b[4m2\u001b[24m217. \u001b[4m1\u001b[24m\u001b[4m4\u001b[24m526. \u001b[4m1\u001b[24m\u001b[4m6\u001b[24m789. \u001b[4m1\u001b[24m\u001b[4m8\u001b[24m334. \u001b[4m1\u001b[24m\u001b[4m9\u001b[24m477. \u001b[4m2\u001b[24m\u001b[4m1\u001b[24m889. \u001b[4m2\u001b[24m\u001b[4m3\u001b[24m425. \u001b[4m2\u001b[24m\u001b[4m6\u001b[24m998.\n",
      "\u001b[90m 9\u001b[39m Austria  \u001b[4m6\u001b[24m137.  \u001b[4m8\u001b[24m843. \u001b[4m1\u001b[24m\u001b[4m0\u001b[24m751. \u001b[4m1\u001b[24m\u001b[4m2\u001b[24m835. \u001b[4m1\u001b[24m\u001b[4m6\u001b[24m662. \u001b[4m1\u001b[24m\u001b[4m9\u001b[24m749. \u001b[4m2\u001b[24m\u001b[4m1\u001b[24m597. \u001b[4m2\u001b[24m\u001b[4m3\u001b[24m688. \u001b[4m2\u001b[24m\u001b[4m7\u001b[24m042. \u001b[4m2\u001b[24m\u001b[4m9\u001b[24m096.\n",
      "\u001b[90m10\u001b[39m Azerba…    \u001b[31mNA\u001b[39m     \u001b[31mNA\u001b[39m     \u001b[31mNA\u001b[39m     \u001b[31mNA\u001b[39m     \u001b[31mNA\u001b[39m     \u001b[31mNA\u001b[39m     \u001b[31mNA\u001b[39m     \u001b[31mNA\u001b[39m   \u001b[4m3\u001b[24m456.  \u001b[4m1\u001b[24m943.\n",
      "\u001b[90m# ℹ 177 more rows\u001b[39m\n",
      "\u001b[90m# ℹ 48 more variables: `2002` <dbl>, `2007` <dbl>, `1950` <dbl>, `1951` <dbl>,\u001b[39m\n",
      "\u001b[90m#   `1953` <dbl>, `1954` <dbl>, `1955` <dbl>, `1956` <dbl>, `1958` <dbl>,\u001b[39m\n",
      "\u001b[90m#   `1959` <dbl>, `1960` <dbl>, `1961` <dbl>, `1963` <dbl>, `1964` <dbl>,\u001b[39m\n",
      "\u001b[90m#   `1965` <dbl>, `1966` <dbl>, `1968` <dbl>, `1969` <dbl>, `1970` <dbl>,\u001b[39m\n",
      "\u001b[90m#   `1971` <dbl>, `1973` <dbl>, `1974` <dbl>, `1975` <dbl>, `1976` <dbl>,\u001b[39m\n",
      "\u001b[90m#   `1978` <dbl>, `1979` <dbl>, `1980` <dbl>, `1981` <dbl>, `1983` <dbl>, …\u001b[39m\n"
     ]
    }
   ],
   "source": [
    "# pivot unfiltered data wider\n"
   ]
  },
  {
   "cell_type": "markdown",
   "metadata": {
    "id": "Zdr541jpIvl-"
   },
   "source": [
    "You can see that there are many missing observations in the unfiltered data. In real life, you will mostly get unfiltered data -- how should we handle missing data?"
   ]
  },
  {
   "cell_type": "markdown",
   "metadata": {
    "id": "E2VIkztXIvl-"
   },
   "source": [
    "## Missing Values\n",
    "Missing values can be:\n",
    "\n",
    "* **Explicit** (marked as `NA` in our data); or\n",
    "* **Implicit** (not present in the data)."
   ]
  },
  {
   "cell_type": "code",
   "execution_count": 8,
   "metadata": {
    "id": "60WYLNb4Ivl-"
   },
   "outputs": [],
   "source": [
    "df <- tribble(\n",
    "  ~person,           ~treatment, ~response,\n",
    "  \"Derrick Whitmore\", 1,         7,\n",
    "  NA,                 2,         10,\n",
    "  NA,                 3,         NA,\n",
    "  \"Katherine Burke\",  1,         4\n",
    ")"
   ]
  },
  {
   "cell_type": "code",
   "execution_count": 9,
   "metadata": {
    "colab": {
     "base_uri": "https://localhost:8080/",
     "height": 224
    },
    "id": "3nVpZbhKIvl_",
    "outputId": "8292535c-82da-4bfe-8ff5-1c2904c87879"
   },
   "outputs": [
    {
     "data": {
      "text/html": [
       "<table class=\"dataframe\">\n",
       "<caption>A tibble: 4 × 3</caption>\n",
       "<thead>\n",
       "\t<tr><th scope=col>person</th><th scope=col>treatment</th><th scope=col>response</th></tr>\n",
       "\t<tr><th scope=col>&lt;chr&gt;</th><th scope=col>&lt;dbl&gt;</th><th scope=col>&lt;dbl&gt;</th></tr>\n",
       "</thead>\n",
       "<tbody>\n",
       "\t<tr><td>Derrick Whitmore</td><td>1</td><td> 7</td></tr>\n",
       "\t<tr><td>NA              </td><td>2</td><td>10</td></tr>\n",
       "\t<tr><td>NA              </td><td>3</td><td>NA</td></tr>\n",
       "\t<tr><td>Katherine Burke </td><td>1</td><td> 4</td></tr>\n",
       "</tbody>\n",
       "</table>\n"
      ],
      "text/latex": [
       "A tibble: 4 × 3\n",
       "\\begin{tabular}{lll}\n",
       " person & treatment & response\\\\\n",
       " <chr> & <dbl> & <dbl>\\\\\n",
       "\\hline\n",
       "\t Derrick Whitmore & 1 &  7\\\\\n",
       "\t NA               & 2 & 10\\\\\n",
       "\t NA               & 3 & NA\\\\\n",
       "\t Katherine Burke  & 1 &  4\\\\\n",
       "\\end{tabular}\n"
      ],
      "text/markdown": [
       "\n",
       "A tibble: 4 × 3\n",
       "\n",
       "| person &lt;chr&gt; | treatment &lt;dbl&gt; | response &lt;dbl&gt; |\n",
       "|---|---|---|\n",
       "| Derrick Whitmore | 1 |  7 |\n",
       "| NA               | 2 | 10 |\n",
       "| NA               | 3 | NA |\n",
       "| Katherine Burke  | 1 |  4 |\n",
       "\n"
      ],
      "text/plain": [
       "  person           treatment response\n",
       "1 Derrick Whitmore 1          7      \n",
       "2 NA               2         10      \n",
       "3 NA               3         NA      \n",
       "4 Katherine Burke  1          4      "
      ]
     },
     "metadata": {},
     "output_type": "display_data"
    }
   ],
   "source": [
    "df"
   ]
  },
  {
   "cell_type": "markdown",
   "metadata": {
    "id": "BLt7lT32Ivl_"
   },
   "source": [
    "The missing values are **explicit** in this table: each missing value is indicated by `NA` in the table."
   ]
  },
  {
   "cell_type": "markdown",
   "metadata": {
    "id": "7y0a0n7bIvl_"
   },
   "source": [
    "You can fill in these missing values with `tidyr::fill()`. It works like `select()`, taking a set of columns, and fills them in with the last non-missing value."
   ]
  },
  {
   "cell_type": "code",
   "execution_count": 11,
   "metadata": {
    "colab": {
     "base_uri": "https://localhost:8080/",
     "height": 224
    },
    "id": "xKQCyMoudis3",
    "outputId": "4ec9518c-ba9b-43dc-e0fd-b20359ec4bd2"
   },
   "outputs": [
    {
     "data": {
      "text/html": [
       "<table class=\"dataframe\">\n",
       "<caption>A tibble: 4 × 3</caption>\n",
       "<thead>\n",
       "\t<tr><th scope=col>person</th><th scope=col>treatment</th><th scope=col>response</th></tr>\n",
       "\t<tr><th scope=col>&lt;chr&gt;</th><th scope=col>&lt;dbl&gt;</th><th scope=col>&lt;dbl&gt;</th></tr>\n",
       "</thead>\n",
       "<tbody>\n",
       "\t<tr><td>Derrick Whitmore</td><td>1</td><td> 7</td></tr>\n",
       "\t<tr><td>Derrick Whitmore</td><td>2</td><td>10</td></tr>\n",
       "\t<tr><td>Derrick Whitmore</td><td>3</td><td>10</td></tr>\n",
       "\t<tr><td>Katherine Burke </td><td>1</td><td> 4</td></tr>\n",
       "</tbody>\n",
       "</table>\n"
      ],
      "text/latex": [
       "A tibble: 4 × 3\n",
       "\\begin{tabular}{lll}\n",
       " person & treatment & response\\\\\n",
       " <chr> & <dbl> & <dbl>\\\\\n",
       "\\hline\n",
       "\t Derrick Whitmore & 1 &  7\\\\\n",
       "\t Derrick Whitmore & 2 & 10\\\\\n",
       "\t Derrick Whitmore & 3 & 10\\\\\n",
       "\t Katherine Burke  & 1 &  4\\\\\n",
       "\\end{tabular}\n"
      ],
      "text/markdown": [
       "\n",
       "A tibble: 4 × 3\n",
       "\n",
       "| person &lt;chr&gt; | treatment &lt;dbl&gt; | response &lt;dbl&gt; |\n",
       "|---|---|---|\n",
       "| Derrick Whitmore | 1 |  7 |\n",
       "| Derrick Whitmore | 2 | 10 |\n",
       "| Derrick Whitmore | 3 | 10 |\n",
       "| Katherine Burke  | 1 |  4 |\n",
       "\n"
      ],
      "text/plain": [
       "  person           treatment response\n",
       "1 Derrick Whitmore 1          7      \n",
       "2 Derrick Whitmore 2         10      \n",
       "3 Derrick Whitmore 3         10      \n",
       "4 Katherine Burke  1          4      "
      ]
     },
     "metadata": {},
     "output_type": "display_data"
    }
   ],
   "source": [
    "# fill df for person and response columns\n",
    "fill(df, person, response)"
   ]
  },
  {
   "cell_type": "code",
   "execution_count": null,
   "metadata": {
    "colab": {
     "base_uri": "https://localhost:8080/"
    },
    "id": "DbcRzJ0CIvmA",
    "outputId": "49869841-43e6-4349-8650-821d7208e67d"
   },
   "outputs": [
    {
     "name": "stdout",
     "output_type": "stream",
     "text": [
      "\u001b[90m# A tibble: 3,313 × 6\u001b[39m\n",
      "   country     continent  year lifeExp      pop gdpPercap\n",
      "   \u001b[3m\u001b[90m<fct>\u001b[39m\u001b[23m       \u001b[3m\u001b[90m<fct>\u001b[39m\u001b[23m     \u001b[3m\u001b[90m<int>\u001b[39m\u001b[23m   \u001b[3m\u001b[90m<dbl>\u001b[39m\u001b[23m    \u001b[3m\u001b[90m<int>\u001b[39m\u001b[23m     \u001b[3m\u001b[90m<dbl>\u001b[39m\u001b[23m\n",
      "\u001b[90m 1\u001b[39m Afghanistan Asia       \u001b[4m1\u001b[24m952    28.8  8\u001b[4m4\u001b[24m\u001b[4m2\u001b[24m\u001b[4m5\u001b[24m333      779.\n",
      "\u001b[90m 2\u001b[39m Afghanistan Asia       \u001b[4m1\u001b[24m957    30.3  9\u001b[4m2\u001b[24m\u001b[4m4\u001b[24m\u001b[4m0\u001b[24m934      821.\n",
      "\u001b[90m 3\u001b[39m Afghanistan Asia       \u001b[4m1\u001b[24m962    32.0 10\u001b[4m2\u001b[24m\u001b[4m6\u001b[24m\u001b[4m7\u001b[24m083      853.\n",
      "\u001b[90m 4\u001b[39m Afghanistan Asia       \u001b[4m1\u001b[24m967    34.0 11\u001b[4m5\u001b[24m\u001b[4m3\u001b[24m\u001b[4m7\u001b[24m966      836.\n",
      "\u001b[90m 5\u001b[39m Afghanistan Asia       \u001b[4m1\u001b[24m972    36.1 13\u001b[4m0\u001b[24m\u001b[4m7\u001b[24m\u001b[4m9\u001b[24m460      740.\n",
      "\u001b[90m 6\u001b[39m Afghanistan Asia       \u001b[4m1\u001b[24m977    38.4 14\u001b[4m8\u001b[24m\u001b[4m8\u001b[24m\u001b[4m0\u001b[24m372      786.\n",
      "\u001b[90m 7\u001b[39m Afghanistan Asia       \u001b[4m1\u001b[24m982    39.9 12\u001b[4m8\u001b[24m\u001b[4m8\u001b[24m\u001b[4m1\u001b[24m816      978.\n",
      "\u001b[90m 8\u001b[39m Afghanistan Asia       \u001b[4m1\u001b[24m987    40.8 13\u001b[4m8\u001b[24m\u001b[4m6\u001b[24m\u001b[4m7\u001b[24m957      852.\n",
      "\u001b[90m 9\u001b[39m Afghanistan Asia       \u001b[4m1\u001b[24m992    41.7 16\u001b[4m3\u001b[24m\u001b[4m1\u001b[24m\u001b[4m7\u001b[24m921      649.\n",
      "\u001b[90m10\u001b[39m Afghanistan Asia       \u001b[4m1\u001b[24m997    41.8 22\u001b[4m2\u001b[24m\u001b[4m2\u001b[24m\u001b[4m7\u001b[24m415      635.\n",
      "\u001b[90m# … with 3,303 more rows\u001b[39m\n"
     ]
    }
   ],
   "source": [
    "# fill in each missing value in gapminder_unfiltered carrying forward\n"
   ]
  },
  {
   "cell_type": "markdown",
   "metadata": {
    "id": "Gaw5AJplIvmA"
   },
   "source": [
    "## Encoded missing data\n",
    "\n",
    "Sometimes, data contain a concrete value that actually represents a missing value. You see this often when dealing with data that is imported from a format that does not have a way to represent missing values, such as text or CSV. So it must instead use some special value like 99 or -999."
   ]
  },
  {
   "cell_type": "markdown",
   "metadata": {
    "id": "Seltp4HzIvmC"
   },
   "source": [
    "To correct for this type of missing value, we can use a function called `na_if(x, n)`. This takes a vector `x` and replaces any occurence of `n` with `NA`:"
   ]
  },
  {
   "cell_type": "code",
   "execution_count": null,
   "metadata": {
    "colab": {
     "base_uri": "https://localhost:8080/",
     "height": 34
    },
    "id": "yieQ4VgpIvmC",
    "outputId": "9cdacaba-9c55-4425-c6c6-dca8f36fb8f5"
   },
   "outputs": [
    {
     "data": {
      "text/html": [
       "<style>\n",
       ".list-inline {list-style: none; margin:0; padding: 0}\n",
       ".list-inline>li {display: inline-block}\n",
       ".list-inline>li:not(:last-child)::after {content: \"\\00b7\"; padding: 0 .5ex}\n",
       "</style>\n",
       "<ol class=list-inline><li>&lt;NA&gt;</li><li>1</li><li>3</li><li>&lt;NA&gt;</li><li>2</li></ol>\n"
      ],
      "text/latex": [
       "\\begin{enumerate*}\n",
       "\\item <NA>\n",
       "\\item 1\n",
       "\\item 3\n",
       "\\item <NA>\n",
       "\\item 2\n",
       "\\end{enumerate*}\n"
      ],
      "text/markdown": [
       "1. &lt;NA&gt;\n",
       "2. 1\n",
       "3. 3\n",
       "4. &lt;NA&gt;\n",
       "5. 2\n",
       "\n",
       "\n"
      ],
      "text/plain": [
       "[1] NA  1  3 NA  2"
      ]
     },
     "metadata": {},
     "output_type": "display_data"
    }
   ],
   "source": [
    "na_if(c(-99, 1, 3, -99, 2), -99)"
   ]
  },
  {
   "cell_type": "markdown",
   "metadata": {
    "id": "9-aIEezaIvmD"
   },
   "source": [
    "## Implicit missing values\n",
    "A second type of missing data occurs when there are simply no observations in the dataset for a particular combination of columns. For example:"
   ]
  },
  {
   "cell_type": "code",
   "execution_count": null,
   "metadata": {
    "id": "Q0m5Ufl2IvmD"
   },
   "outputs": [],
   "source": [
    "stocks <- tibble(\n",
    "  year  = c(2020, 2020, 2020, 2020, 2021, 2021, 2021),\n",
    "  qtr   = c(   1,    2,    3,    4,    2,    3,    4),\n",
    "  price = c(1.88, 0.59, 0.35,   NA, 0.92, 0.17, 2.66)\n",
    ")"
   ]
  },
  {
   "cell_type": "code",
   "execution_count": null,
   "metadata": {
    "colab": {
     "base_uri": "https://localhost:8080/"
    },
    "id": "O3I2e058IvmD",
    "outputId": "48feab40-5fe2-4d55-a000-3f0148157fcc"
   },
   "outputs": [
    {
     "name": "stdout",
     "output_type": "stream",
     "text": [
      "\u001b[90m# A tibble: 7 × 3\u001b[39m\n",
      "   year   qtr price\n",
      "  \u001b[3m\u001b[90m<dbl>\u001b[39m\u001b[23m \u001b[3m\u001b[90m<dbl>\u001b[39m\u001b[23m \u001b[3m\u001b[90m<dbl>\u001b[39m\u001b[23m\n",
      "\u001b[90m1\u001b[39m  \u001b[4m2\u001b[24m020     1  1.88\n",
      "\u001b[90m2\u001b[39m  \u001b[4m2\u001b[24m020     2  0.59\n",
      "\u001b[90m3\u001b[39m  \u001b[4m2\u001b[24m020     3  0.35\n",
      "\u001b[90m4\u001b[39m  \u001b[4m2\u001b[24m020     4 \u001b[31mNA\u001b[39m   \n",
      "\u001b[90m5\u001b[39m  \u001b[4m2\u001b[24m021     2  0.92\n",
      "\u001b[90m6\u001b[39m  \u001b[4m2\u001b[24m021     3  0.17\n",
      "\u001b[90m7\u001b[39m  \u001b[4m2\u001b[24m021     4  2.66\n"
     ]
    }
   ],
   "source": [
    "print(stocks)"
   ]
  },
  {
   "cell_type": "markdown",
   "metadata": {
    "id": "3eRzFPvBIvmD"
   },
   "source": [
    "This dataset has two missing observations:\n",
    "- The price in the 2020q4 is explicitly missing. (It has an `NA`.)\n",
    "- The price in 2021q1 is implicitly missing: it does not appear in the dataset."
   ]
  },
  {
   "cell_type": "markdown",
   "metadata": {
    "id": "kEo_IRbwIvmE"
   },
   "source": [
    "> An explicit missing value is the presence of an absence.\n",
    ">\n",
    "> An implicit missing value is the absence of a presence.\n"
   ]
  },
  {
   "cell_type": "markdown",
   "metadata": {
    "id": "6scR3p1NIvmE"
   },
   "source": [
    "How can we handle implicit missing values? As we have already seen, one option is to use `pivot_wider()`:"
   ]
  },
  {
   "cell_type": "code",
   "execution_count": null,
   "metadata": {
    "colab": {
     "base_uri": "https://localhost:8080/"
    },
    "id": "Uhq-wkc1IvmE",
    "outputId": "ba3bfcf1-4ba6-40ff-d744-17cf63cbad90"
   },
   "outputs": [
    {
     "name": "stdout",
     "output_type": "stream",
     "text": [
      "\u001b[90m# A tibble: 2 × 5\u001b[39m\n",
      "   year   `1`   `2`   `3`   `4`\n",
      "  \u001b[3m\u001b[90m<dbl>\u001b[39m\u001b[23m \u001b[3m\u001b[90m<dbl>\u001b[39m\u001b[23m \u001b[3m\u001b[90m<dbl>\u001b[39m\u001b[23m \u001b[3m\u001b[90m<dbl>\u001b[39m\u001b[23m \u001b[3m\u001b[90m<dbl>\u001b[39m\u001b[23m\n",
      "\u001b[90m1\u001b[39m  \u001b[4m2\u001b[24m020  1.88  0.59  0.35 \u001b[31mNA\u001b[39m   \n",
      "\u001b[90m2\u001b[39m  \u001b[4m2\u001b[24m021 \u001b[31mNA\u001b[39m     0.92  0.17  2.66\n"
     ]
    }
   ],
   "source": [
    "# using pivot_wider() on stocks converts implicit missing values to explicit\n",
    "pivot_wider(stocks, names_from = qtr, values_from = price) %>%\n",
    "  print"
   ]
  },
  {
   "cell_type": "markdown",
   "metadata": {
    "id": "1skVt0THIvmF"
   },
   "source": [
    "Alternatively, we can use the `complete()` function, which creates entries for all possible combinations of a set of columns:"
   ]
  },
  {
   "cell_type": "code",
   "execution_count": null,
   "metadata": {
    "colab": {
     "base_uri": "https://localhost:8080/",
     "height": 349
    },
    "id": "Yf4E_rKjIvmF",
    "outputId": "e52ec8f1-bc44-4df7-b0c5-2b03e39a711b"
   },
   "outputs": [
    {
     "data": {
      "text/html": [
       "<table class=\"dataframe\">\n",
       "<caption>A tibble: 8 × 3</caption>\n",
       "<thead>\n",
       "\t<tr><th scope=col>year</th><th scope=col>qtr</th><th scope=col>price</th></tr>\n",
       "\t<tr><th scope=col>&lt;dbl&gt;</th><th scope=col>&lt;dbl&gt;</th><th scope=col>&lt;dbl&gt;</th></tr>\n",
       "</thead>\n",
       "<tbody>\n",
       "\t<tr><td>2020</td><td>1</td><td>1.88</td></tr>\n",
       "\t<tr><td>2020</td><td>2</td><td>0.59</td></tr>\n",
       "\t<tr><td>2020</td><td>3</td><td>0.35</td></tr>\n",
       "\t<tr><td>2020</td><td>4</td><td>  NA</td></tr>\n",
       "\t<tr><td>2021</td><td>1</td><td>  NA</td></tr>\n",
       "\t<tr><td>2021</td><td>2</td><td>0.92</td></tr>\n",
       "\t<tr><td>2021</td><td>3</td><td>0.17</td></tr>\n",
       "\t<tr><td>2021</td><td>4</td><td>2.66</td></tr>\n",
       "</tbody>\n",
       "</table>\n"
      ],
      "text/latex": [
       "A tibble: 8 × 3\n",
       "\\begin{tabular}{lll}\n",
       " year & qtr & price\\\\\n",
       " <dbl> & <dbl> & <dbl>\\\\\n",
       "\\hline\n",
       "\t 2020 & 1 & 1.88\\\\\n",
       "\t 2020 & 2 & 0.59\\\\\n",
       "\t 2020 & 3 & 0.35\\\\\n",
       "\t 2020 & 4 &   NA\\\\\n",
       "\t 2021 & 1 &   NA\\\\\n",
       "\t 2021 & 2 & 0.92\\\\\n",
       "\t 2021 & 3 & 0.17\\\\\n",
       "\t 2021 & 4 & 2.66\\\\\n",
       "\\end{tabular}\n"
      ],
      "text/markdown": [
       "\n",
       "A tibble: 8 × 3\n",
       "\n",
       "| year &lt;dbl&gt; | qtr &lt;dbl&gt; | price &lt;dbl&gt; |\n",
       "|---|---|---|\n",
       "| 2020 | 1 | 1.88 |\n",
       "| 2020 | 2 | 0.59 |\n",
       "| 2020 | 3 | 0.35 |\n",
       "| 2020 | 4 |   NA |\n",
       "| 2021 | 1 |   NA |\n",
       "| 2021 | 2 | 0.92 |\n",
       "| 2021 | 3 | 0.17 |\n",
       "| 2021 | 4 | 2.66 |\n",
       "\n"
      ],
      "text/plain": [
       "  year qtr price\n",
       "1 2020 1   1.88 \n",
       "2 2020 2   0.59 \n",
       "3 2020 3   0.35 \n",
       "4 2020 4     NA \n",
       "5 2021 1     NA \n",
       "6 2021 2   0.92 \n",
       "7 2021 3   0.17 \n",
       "8 2021 4   2.66 "
      ]
     },
     "metadata": {},
     "output_type": "display_data"
    }
   ],
   "source": [
    "# use complete to fill in missing values for stocks\n",
    "complete(stocks, year, qtr)"
   ]
  },
  {
   "cell_type": "markdown",
   "metadata": {},
   "source": [
    "### Fixed value replacement\n",
    "\n",
    "Sometimes missing values represent some fixed and known value, most commonly 0. You can use dplyr::coalesce() to replace them:"
   ]
  },
  {
   "cell_type": "code",
   "execution_count": 29,
   "metadata": {},
   "outputs": [
    {
     "data": {
      "text/html": [
       "<style>\n",
       ".list-inline {list-style: none; margin:0; padding: 0}\n",
       ".list-inline>li {display: inline-block}\n",
       ".list-inline>li:not(:last-child)::after {content: \"\\00b7\"; padding: 0 .5ex}\n",
       "</style>\n",
       "<ol class=list-inline><li>1</li><li>4</li><li>5</li><li>7</li><li>0</li></ol>\n"
      ],
      "text/latex": [
       "\\begin{enumerate*}\n",
       "\\item 1\n",
       "\\item 4\n",
       "\\item 5\n",
       "\\item 7\n",
       "\\item 0\n",
       "\\end{enumerate*}\n"
      ],
      "text/markdown": [
       "1. 1\n",
       "2. 4\n",
       "3. 5\n",
       "4. 7\n",
       "5. 0\n",
       "\n",
       "\n"
      ],
      "text/plain": [
       "[1] 1 4 5 7 0"
      ]
     },
     "metadata": {},
     "output_type": "display_data"
    }
   ],
   "source": [
    "x <- c(1, 4, 5, 7, NA)\n",
    "coalesce(x, 0)\n",
    "#> [1] 1 4 5 7 0"
   ]
  },
  {
   "cell_type": "markdown",
   "metadata": {},
   "source": [
    "### Titanic analysis\n",
    "\n",
    "On April 15, 1912, the great \"unsinkable\" RMS Titanic ship sank to the bottom of the Atlantic.\n",
    "\n",
    "Unfortunately, there weren’t enough lifeboats for everyone on board, resulting in more than 1500 deaths out of 2224 passengers and crew. Refer:https://en.wikipedia.org/wiki/Titanic\n",
    "\n",
    "We have partial list of passengers here. Let us do some analysis"
   ]
  },
  {
   "cell_type": "code",
   "execution_count": 35,
   "metadata": {},
   "outputs": [
    {
     "name": "stdout",
     "output_type": "stream",
     "text": [
      "  survived pclass    sex age sibsp parch    fare embarked class   who\n",
      "1        0      3   male  22     1     0  7.2500        S Third   man\n",
      "2        1      1 female  38     1     0 71.2833        C First woman\n",
      "3        1      3 female  26     0     0  7.9250        S Third woman\n",
      "4        1      1 female  35     1     0 53.1000        S First woman\n",
      "5        0      3   male  35     0     0  8.0500        S Third   man\n",
      "6        0      3   male  NA     0     0  8.4583        Q Third   man\n",
      "  adult_male deck embark_town alive alone\n",
      "1       True      Southampton    no False\n",
      "2      False    C   Cherbourg   yes False\n",
      "3      False      Southampton   yes  True\n",
      "4      False    C Southampton   yes False\n",
      "5       True      Southampton    no  True\n",
      "6       True       Queenstown    no  True\n"
     ]
    }
   ],
   "source": [
    "titanic = read.csv('https://storage.googleapis.com/mbcc/titanic.csv')\n",
    "titanic %>% head %>% print"
   ]
  },
  {
   "cell_type": "markdown",
   "metadata": {},
   "source": [
    "## &#129300; Quiz\n",
    "\n",
    "What is the average age of the passengers (ignoring the decimal part)?\n",
    "\n",
    "<ol style=\"list-style-type: upper-alpha;\">\n",
    "    <li>28</li>\n",
    "    <li>30</li>\n",
    "    <li>27</li>\n",
    "    <li>29</li>\n",
    "    <li>31</li> \n",
    "</ol>\n"
   ]
  },
  {
   "cell_type": "code",
   "execution_count": 37,
   "metadata": {},
   "outputs": [],
   "source": [
    "## solution\n",
    "\n"
   ]
  },
  {
   "cell_type": "markdown",
   "metadata": {},
   "source": [
    "## &#129300; Quiz\n",
    "\n",
    "How many na values are there in the age column?\n",
    "\n",
    "<ol style=\"list-style-type: upper-alpha;\">\n",
    "    <li>177</li>\n",
    "    <li>178</li>\n",
    "    <li>714</li>\n",
    "    <li>There are no NA values</li>\n",
    "</ol>\n"
   ]
  },
  {
   "cell_type": "markdown",
   "metadata": {},
   "source": [
    "Replace the NA values in the `age` column with average age"
   ]
  },
  {
   "cell_type": "code",
   "execution_count": 58,
   "metadata": {},
   "outputs": [],
   "source": [
    "## solution\n"
   ]
  }
 ],
 "metadata": {
  "celltoolbar": "Slideshow",
  "colab": {
   "provenance": []
  },
  "kernelspec": {
   "display_name": "R",
   "language": "R",
   "name": "ir"
  },
  "language_info": {
   "codemirror_mode": "r",
   "file_extension": ".r",
   "mimetype": "text/x-r-source",
   "name": "R",
   "pygments_lexer": "r",
   "version": "4.3.1"
  }
 },
 "nbformat": 4,
 "nbformat_minor": 4
}
